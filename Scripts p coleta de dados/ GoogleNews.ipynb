{
 "cells": [
  {
   "cell_type": "markdown",
   "metadata": {
    "colab_type": "text",
    "id": "view-in-github"
   },
   "source": [
    "<a href=\"https://colab.research.google.com/github/webercg/NLP---Daily-News-for-Stock-Market-Prediction/blob/main/GoogleNews.ipynb\" target=\"_parent\"><img src=\"https://colab.research.google.com/assets/colab-badge.svg\" alt=\"Open In Colab\"/></a>"
   ]
  },
  {
   "cell_type": "code",
   "execution_count": 1,
   "metadata": {
    "id": "kmt0vbfaCeu1"
   },
   "outputs": [],
   "source": [
    "#RETIRAR O COMENTARIO AQUI CASO AINDA NAO TENHA INSTALADO A LIB\n",
    "#pip install GoogleNews"
   ]
  },
  {
   "cell_type": "markdown",
   "metadata": {
    "id": "9Z_UrFrJ2IVk"
   },
   "source": []
  },
  {
   "cell_type": "code",
   "execution_count": 2,
   "metadata": {
    "id": "VtiBsH6gLNPm"
   },
   "outputs": [],
   "source": [
    "#IMPORTANDO BIBLIOTECAS  \n",
    "from datetime import timedelta, date\n",
    "import pandas as pd\n",
    "from GoogleNews import GoogleNews\n",
    "#import newspaper\n",
    "#from newspaper import Article\n",
    "import nltk\n",
    "from datetime import datetime\n",
    "\n",
    "\n",
    "#CRIANDO FUNÇÃO P LOOP DE DATAS\n",
    "def daterange(start_date, end_date):\n",
    "    for n in range(int ((end_date - start_date).days)):\n",
    "        yield start_date + timedelta(n)"
   ]
  },
  {
   "cell_type": "code",
   "execution_count": 3,
   "metadata": {
    "id": "5xlAFBaQCmSG"
   },
   "outputs": [],
   "source": [
    "#ESCOLHA DE VARIÁVEIS \n",
    "#data em formato YYYY-M-D\n",
    "#OBS: O maximo que consegui de consulta sem tomar bloqueio do google foram 3 meses de uma vez\n",
    "#start_date = date(2021, 4, 30)\n",
    "#end_date = date(2021, 6, 1)\n",
    "\n",
    "#Inserir data no formato BR DD/MM/YYYY\n",
    "start_date = '01/06/2020'\n",
    "end_date = '30/06/2020'\n",
    "\n",
    "#Transformando para o padrão ingles\n",
    "start_date = datetime.strptime(start_date, '%d/%m/%Y').strftime('%m-%d-%Y')\n",
    "end_date = datetime.strptime(end_date, '%d/%m/%Y').strftime('%m-%d-%Y')\n",
    "\n",
    "termo = 'petrobras'"
   ]
  },
  {
   "cell_type": "code",
   "execution_count": 4,
   "metadata": {},
   "outputs": [],
   "source": [
    "#Criando lista de datas\n",
    "date_list = pd.date_range(start=start_date, end=end_date, freq = '1D')\n",
    "date_list_en = [i.strftime(\"%m-%d-%Y\") for i in date_list ] ## Lista de datas no formato americano em String\n",
    "date_list_br = [i.strftime(\"%d/%m/%Y\") for i in date_list ] ## Lista de datas no formato BR em String"
   ]
  },
  {
   "cell_type": "code",
   "execution_count": 5,
   "metadata": {
    "id": "OcCTQ-oWf7l8"
   },
   "outputs": [],
   "source": [
    "#for single_date in daterange(start_date, end_date):\n",
    "  #print(single_date)"
   ]
  },
  {
   "cell_type": "code",
   "execution_count": 6,
   "metadata": {
    "colab": {
     "base_uri": "https://localhost:8080/"
    },
    "id": "PcpT0yRfC04G",
    "outputId": "369c3175-d817-4360-f959-15fcfd2a679c"
   },
   "outputs": [
    {
     "name": "stdout",
     "output_type": "stream",
     "text": [
      "06-01-2020\n"
     ]
    },
    {
     "name": "stderr",
     "output_type": "stream",
     "text": [
      "C:\\Users\\lenon.oliveira\\Anaconda3\\lib\\site-packages\\dateparser\\date_parser.py:35: PytzUsageWarning: The localize method is no longer necessary, as this time zone supports the fold attribute (PEP 495). For more details on migrating to a PEP 495-compliant implementation, see https://pytz-deprecation-shim.readthedocs.io/en/latest/migration.html\n",
      "  date_obj = stz.localize(date_obj)\n",
      "C:\\Users\\lenon.oliveira\\AppData\\Local\\Temp\\ipykernel_39724\\1041801480.py:31: FutureWarning: The frame.append method is deprecated and will be removed from pandas in a future version. Use pandas.concat instead.\n",
      "  df = df.append(df1, ignore_index=True)\n"
     ]
    },
    {
     "name": "stdout",
     "output_type": "stream",
     "text": [
      "06-02-2020\n"
     ]
    },
    {
     "name": "stderr",
     "output_type": "stream",
     "text": [
      "C:\\Users\\lenon.oliveira\\Anaconda3\\lib\\site-packages\\dateparser\\date_parser.py:35: PytzUsageWarning: The localize method is no longer necessary, as this time zone supports the fold attribute (PEP 495). For more details on migrating to a PEP 495-compliant implementation, see https://pytz-deprecation-shim.readthedocs.io/en/latest/migration.html\n",
      "  date_obj = stz.localize(date_obj)\n",
      "C:\\Users\\lenon.oliveira\\AppData\\Local\\Temp\\ipykernel_39724\\1041801480.py:31: FutureWarning: The frame.append method is deprecated and will be removed from pandas in a future version. Use pandas.concat instead.\n",
      "  df = df.append(df1, ignore_index=True)\n"
     ]
    },
    {
     "name": "stdout",
     "output_type": "stream",
     "text": [
      "06-03-2020\n"
     ]
    },
    {
     "name": "stderr",
     "output_type": "stream",
     "text": [
      "C:\\Users\\lenon.oliveira\\Anaconda3\\lib\\site-packages\\dateparser\\date_parser.py:35: PytzUsageWarning: The localize method is no longer necessary, as this time zone supports the fold attribute (PEP 495). For more details on migrating to a PEP 495-compliant implementation, see https://pytz-deprecation-shim.readthedocs.io/en/latest/migration.html\n",
      "  date_obj = stz.localize(date_obj)\n",
      "C:\\Users\\lenon.oliveira\\AppData\\Local\\Temp\\ipykernel_39724\\1041801480.py:31: FutureWarning: The frame.append method is deprecated and will be removed from pandas in a future version. Use pandas.concat instead.\n",
      "  df = df.append(df1, ignore_index=True)\n"
     ]
    },
    {
     "name": "stdout",
     "output_type": "stream",
     "text": [
      "06-04-2020\n"
     ]
    },
    {
     "name": "stderr",
     "output_type": "stream",
     "text": [
      "C:\\Users\\lenon.oliveira\\Anaconda3\\lib\\site-packages\\dateparser\\date_parser.py:35: PytzUsageWarning: The localize method is no longer necessary, as this time zone supports the fold attribute (PEP 495). For more details on migrating to a PEP 495-compliant implementation, see https://pytz-deprecation-shim.readthedocs.io/en/latest/migration.html\n",
      "  date_obj = stz.localize(date_obj)\n",
      "C:\\Users\\lenon.oliveira\\AppData\\Local\\Temp\\ipykernel_39724\\1041801480.py:31: FutureWarning: The frame.append method is deprecated and will be removed from pandas in a future version. Use pandas.concat instead.\n",
      "  df = df.append(df1, ignore_index=True)\n"
     ]
    },
    {
     "name": "stdout",
     "output_type": "stream",
     "text": [
      "06-05-2020\n"
     ]
    },
    {
     "name": "stderr",
     "output_type": "stream",
     "text": [
      "C:\\Users\\lenon.oliveira\\Anaconda3\\lib\\site-packages\\dateparser\\date_parser.py:35: PytzUsageWarning: The localize method is no longer necessary, as this time zone supports the fold attribute (PEP 495). For more details on migrating to a PEP 495-compliant implementation, see https://pytz-deprecation-shim.readthedocs.io/en/latest/migration.html\n",
      "  date_obj = stz.localize(date_obj)\n",
      "C:\\Users\\lenon.oliveira\\AppData\\Local\\Temp\\ipykernel_39724\\1041801480.py:31: FutureWarning: The frame.append method is deprecated and will be removed from pandas in a future version. Use pandas.concat instead.\n",
      "  df = df.append(df1, ignore_index=True)\n"
     ]
    },
    {
     "name": "stdout",
     "output_type": "stream",
     "text": [
      "06-06-2020\n"
     ]
    },
    {
     "name": "stderr",
     "output_type": "stream",
     "text": [
      "C:\\Users\\lenon.oliveira\\Anaconda3\\lib\\site-packages\\dateparser\\date_parser.py:35: PytzUsageWarning: The localize method is no longer necessary, as this time zone supports the fold attribute (PEP 495). For more details on migrating to a PEP 495-compliant implementation, see https://pytz-deprecation-shim.readthedocs.io/en/latest/migration.html\n",
      "  date_obj = stz.localize(date_obj)\n",
      "C:\\Users\\lenon.oliveira\\AppData\\Local\\Temp\\ipykernel_39724\\1041801480.py:31: FutureWarning: The frame.append method is deprecated and will be removed from pandas in a future version. Use pandas.concat instead.\n",
      "  df = df.append(df1, ignore_index=True)\n"
     ]
    },
    {
     "name": "stdout",
     "output_type": "stream",
     "text": [
      "06-07-2020\n"
     ]
    },
    {
     "name": "stderr",
     "output_type": "stream",
     "text": [
      "C:\\Users\\lenon.oliveira\\Anaconda3\\lib\\site-packages\\dateparser\\date_parser.py:35: PytzUsageWarning: The localize method is no longer necessary, as this time zone supports the fold attribute (PEP 495). For more details on migrating to a PEP 495-compliant implementation, see https://pytz-deprecation-shim.readthedocs.io/en/latest/migration.html\n",
      "  date_obj = stz.localize(date_obj)\n",
      "C:\\Users\\lenon.oliveira\\AppData\\Local\\Temp\\ipykernel_39724\\1041801480.py:31: FutureWarning: The frame.append method is deprecated and will be removed from pandas in a future version. Use pandas.concat instead.\n",
      "  df = df.append(df1, ignore_index=True)\n"
     ]
    },
    {
     "name": "stdout",
     "output_type": "stream",
     "text": [
      "06-08-2020\n"
     ]
    },
    {
     "name": "stderr",
     "output_type": "stream",
     "text": [
      "C:\\Users\\lenon.oliveira\\Anaconda3\\lib\\site-packages\\dateparser\\date_parser.py:35: PytzUsageWarning: The localize method is no longer necessary, as this time zone supports the fold attribute (PEP 495). For more details on migrating to a PEP 495-compliant implementation, see https://pytz-deprecation-shim.readthedocs.io/en/latest/migration.html\n",
      "  date_obj = stz.localize(date_obj)\n",
      "C:\\Users\\lenon.oliveira\\AppData\\Local\\Temp\\ipykernel_39724\\1041801480.py:31: FutureWarning: The frame.append method is deprecated and will be removed from pandas in a future version. Use pandas.concat instead.\n",
      "  df = df.append(df1, ignore_index=True)\n"
     ]
    },
    {
     "name": "stdout",
     "output_type": "stream",
     "text": [
      "06-09-2020\n"
     ]
    },
    {
     "name": "stderr",
     "output_type": "stream",
     "text": [
      "C:\\Users\\lenon.oliveira\\Anaconda3\\lib\\site-packages\\dateparser\\date_parser.py:35: PytzUsageWarning: The localize method is no longer necessary, as this time zone supports the fold attribute (PEP 495). For more details on migrating to a PEP 495-compliant implementation, see https://pytz-deprecation-shim.readthedocs.io/en/latest/migration.html\n",
      "  date_obj = stz.localize(date_obj)\n",
      "C:\\Users\\lenon.oliveira\\AppData\\Local\\Temp\\ipykernel_39724\\1041801480.py:31: FutureWarning: The frame.append method is deprecated and will be removed from pandas in a future version. Use pandas.concat instead.\n",
      "  df = df.append(df1, ignore_index=True)\n"
     ]
    },
    {
     "name": "stdout",
     "output_type": "stream",
     "text": [
      "06-10-2020\n"
     ]
    },
    {
     "name": "stderr",
     "output_type": "stream",
     "text": [
      "C:\\Users\\lenon.oliveira\\AppData\\Local\\Temp\\ipykernel_39724\\1041801480.py:31: FutureWarning: The frame.append method is deprecated and will be removed from pandas in a future version. Use pandas.concat instead.\n",
      "  df = df.append(df1, ignore_index=True)\n"
     ]
    },
    {
     "name": "stdout",
     "output_type": "stream",
     "text": [
      "06-11-2020\n"
     ]
    },
    {
     "name": "stderr",
     "output_type": "stream",
     "text": [
      "C:\\Users\\lenon.oliveira\\Anaconda3\\lib\\site-packages\\dateparser\\date_parser.py:35: PytzUsageWarning: The localize method is no longer necessary, as this time zone supports the fold attribute (PEP 495). For more details on migrating to a PEP 495-compliant implementation, see https://pytz-deprecation-shim.readthedocs.io/en/latest/migration.html\n",
      "  date_obj = stz.localize(date_obj)\n",
      "C:\\Users\\lenon.oliveira\\AppData\\Local\\Temp\\ipykernel_39724\\1041801480.py:31: FutureWarning: The frame.append method is deprecated and will be removed from pandas in a future version. Use pandas.concat instead.\n",
      "  df = df.append(df1, ignore_index=True)\n"
     ]
    },
    {
     "name": "stdout",
     "output_type": "stream",
     "text": [
      "06-12-2020\n"
     ]
    },
    {
     "name": "stderr",
     "output_type": "stream",
     "text": [
      "C:\\Users\\lenon.oliveira\\Anaconda3\\lib\\site-packages\\dateparser\\date_parser.py:35: PytzUsageWarning: The localize method is no longer necessary, as this time zone supports the fold attribute (PEP 495). For more details on migrating to a PEP 495-compliant implementation, see https://pytz-deprecation-shim.readthedocs.io/en/latest/migration.html\n",
      "  date_obj = stz.localize(date_obj)\n",
      "C:\\Users\\lenon.oliveira\\AppData\\Local\\Temp\\ipykernel_39724\\1041801480.py:31: FutureWarning: The frame.append method is deprecated and will be removed from pandas in a future version. Use pandas.concat instead.\n",
      "  df = df.append(df1, ignore_index=True)\n"
     ]
    },
    {
     "name": "stdout",
     "output_type": "stream",
     "text": [
      "06-13-2020\n"
     ]
    },
    {
     "name": "stderr",
     "output_type": "stream",
     "text": [
      "C:\\Users\\lenon.oliveira\\Anaconda3\\lib\\site-packages\\dateparser\\date_parser.py:35: PytzUsageWarning: The localize method is no longer necessary, as this time zone supports the fold attribute (PEP 495). For more details on migrating to a PEP 495-compliant implementation, see https://pytz-deprecation-shim.readthedocs.io/en/latest/migration.html\n",
      "  date_obj = stz.localize(date_obj)\n",
      "C:\\Users\\lenon.oliveira\\AppData\\Local\\Temp\\ipykernel_39724\\1041801480.py:31: FutureWarning: The frame.append method is deprecated and will be removed from pandas in a future version. Use pandas.concat instead.\n",
      "  df = df.append(df1, ignore_index=True)\n"
     ]
    },
    {
     "name": "stdout",
     "output_type": "stream",
     "text": [
      "06-14-2020\n"
     ]
    },
    {
     "name": "stderr",
     "output_type": "stream",
     "text": [
      "C:\\Users\\lenon.oliveira\\Anaconda3\\lib\\site-packages\\dateparser\\date_parser.py:35: PytzUsageWarning: The localize method is no longer necessary, as this time zone supports the fold attribute (PEP 495). For more details on migrating to a PEP 495-compliant implementation, see https://pytz-deprecation-shim.readthedocs.io/en/latest/migration.html\n",
      "  date_obj = stz.localize(date_obj)\n",
      "C:\\Users\\lenon.oliveira\\AppData\\Local\\Temp\\ipykernel_39724\\1041801480.py:31: FutureWarning: The frame.append method is deprecated and will be removed from pandas in a future version. Use pandas.concat instead.\n",
      "  df = df.append(df1, ignore_index=True)\n"
     ]
    },
    {
     "name": "stdout",
     "output_type": "stream",
     "text": [
      "06-15-2020\n"
     ]
    },
    {
     "name": "stderr",
     "output_type": "stream",
     "text": [
      "C:\\Users\\lenon.oliveira\\Anaconda3\\lib\\site-packages\\dateparser\\date_parser.py:35: PytzUsageWarning: The localize method is no longer necessary, as this time zone supports the fold attribute (PEP 495). For more details on migrating to a PEP 495-compliant implementation, see https://pytz-deprecation-shim.readthedocs.io/en/latest/migration.html\n",
      "  date_obj = stz.localize(date_obj)\n",
      "C:\\Users\\lenon.oliveira\\AppData\\Local\\Temp\\ipykernel_39724\\1041801480.py:31: FutureWarning: The frame.append method is deprecated and will be removed from pandas in a future version. Use pandas.concat instead.\n",
      "  df = df.append(df1, ignore_index=True)\n"
     ]
    },
    {
     "name": "stdout",
     "output_type": "stream",
     "text": [
      "06-16-2020\n"
     ]
    },
    {
     "name": "stderr",
     "output_type": "stream",
     "text": [
      "C:\\Users\\lenon.oliveira\\Anaconda3\\lib\\site-packages\\dateparser\\date_parser.py:35: PytzUsageWarning: The localize method is no longer necessary, as this time zone supports the fold attribute (PEP 495). For more details on migrating to a PEP 495-compliant implementation, see https://pytz-deprecation-shim.readthedocs.io/en/latest/migration.html\n",
      "  date_obj = stz.localize(date_obj)\n",
      "C:\\Users\\lenon.oliveira\\AppData\\Local\\Temp\\ipykernel_39724\\1041801480.py:31: FutureWarning: The frame.append method is deprecated and will be removed from pandas in a future version. Use pandas.concat instead.\n",
      "  df = df.append(df1, ignore_index=True)\n"
     ]
    },
    {
     "name": "stdout",
     "output_type": "stream",
     "text": [
      "06-17-2020\n"
     ]
    },
    {
     "name": "stderr",
     "output_type": "stream",
     "text": [
      "C:\\Users\\lenon.oliveira\\Anaconda3\\lib\\site-packages\\dateparser\\date_parser.py:35: PytzUsageWarning: The localize method is no longer necessary, as this time zone supports the fold attribute (PEP 495). For more details on migrating to a PEP 495-compliant implementation, see https://pytz-deprecation-shim.readthedocs.io/en/latest/migration.html\n",
      "  date_obj = stz.localize(date_obj)\n",
      "C:\\Users\\lenon.oliveira\\AppData\\Local\\Temp\\ipykernel_39724\\1041801480.py:31: FutureWarning: The frame.append method is deprecated and will be removed from pandas in a future version. Use pandas.concat instead.\n",
      "  df = df.append(df1, ignore_index=True)\n"
     ]
    },
    {
     "name": "stdout",
     "output_type": "stream",
     "text": [
      "06-18-2020\n"
     ]
    },
    {
     "name": "stderr",
     "output_type": "stream",
     "text": [
      "C:\\Users\\lenon.oliveira\\Anaconda3\\lib\\site-packages\\dateparser\\date_parser.py:35: PytzUsageWarning: The localize method is no longer necessary, as this time zone supports the fold attribute (PEP 495). For more details on migrating to a PEP 495-compliant implementation, see https://pytz-deprecation-shim.readthedocs.io/en/latest/migration.html\n",
      "  date_obj = stz.localize(date_obj)\n",
      "C:\\Users\\lenon.oliveira\\AppData\\Local\\Temp\\ipykernel_39724\\1041801480.py:31: FutureWarning: The frame.append method is deprecated and will be removed from pandas in a future version. Use pandas.concat instead.\n",
      "  df = df.append(df1, ignore_index=True)\n"
     ]
    },
    {
     "name": "stdout",
     "output_type": "stream",
     "text": [
      "06-19-2020\n"
     ]
    },
    {
     "name": "stderr",
     "output_type": "stream",
     "text": [
      "C:\\Users\\lenon.oliveira\\Anaconda3\\lib\\site-packages\\dateparser\\date_parser.py:35: PytzUsageWarning: The localize method is no longer necessary, as this time zone supports the fold attribute (PEP 495). For more details on migrating to a PEP 495-compliant implementation, see https://pytz-deprecation-shim.readthedocs.io/en/latest/migration.html\n",
      "  date_obj = stz.localize(date_obj)\n",
      "C:\\Users\\lenon.oliveira\\AppData\\Local\\Temp\\ipykernel_39724\\1041801480.py:31: FutureWarning: The frame.append method is deprecated and will be removed from pandas in a future version. Use pandas.concat instead.\n",
      "  df = df.append(df1, ignore_index=True)\n"
     ]
    },
    {
     "name": "stdout",
     "output_type": "stream",
     "text": [
      "06-20-2020\n"
     ]
    },
    {
     "name": "stderr",
     "output_type": "stream",
     "text": [
      "C:\\Users\\lenon.oliveira\\AppData\\Local\\Temp\\ipykernel_39724\\1041801480.py:31: FutureWarning: The frame.append method is deprecated and will be removed from pandas in a future version. Use pandas.concat instead.\n",
      "  df = df.append(df1, ignore_index=True)\n"
     ]
    },
    {
     "name": "stdout",
     "output_type": "stream",
     "text": [
      "06-21-2020\n"
     ]
    },
    {
     "name": "stderr",
     "output_type": "stream",
     "text": [
      "C:\\Users\\lenon.oliveira\\Anaconda3\\lib\\site-packages\\dateparser\\date_parser.py:35: PytzUsageWarning: The localize method is no longer necessary, as this time zone supports the fold attribute (PEP 495). For more details on migrating to a PEP 495-compliant implementation, see https://pytz-deprecation-shim.readthedocs.io/en/latest/migration.html\n",
      "  date_obj = stz.localize(date_obj)\n",
      "C:\\Users\\lenon.oliveira\\AppData\\Local\\Temp\\ipykernel_39724\\1041801480.py:31: FutureWarning: The frame.append method is deprecated and will be removed from pandas in a future version. Use pandas.concat instead.\n",
      "  df = df.append(df1, ignore_index=True)\n"
     ]
    },
    {
     "name": "stdout",
     "output_type": "stream",
     "text": [
      "06-22-2020\n"
     ]
    },
    {
     "name": "stderr",
     "output_type": "stream",
     "text": [
      "C:\\Users\\lenon.oliveira\\Anaconda3\\lib\\site-packages\\dateparser\\date_parser.py:35: PytzUsageWarning: The localize method is no longer necessary, as this time zone supports the fold attribute (PEP 495). For more details on migrating to a PEP 495-compliant implementation, see https://pytz-deprecation-shim.readthedocs.io/en/latest/migration.html\n",
      "  date_obj = stz.localize(date_obj)\n",
      "C:\\Users\\lenon.oliveira\\AppData\\Local\\Temp\\ipykernel_39724\\1041801480.py:31: FutureWarning: The frame.append method is deprecated and will be removed from pandas in a future version. Use pandas.concat instead.\n",
      "  df = df.append(df1, ignore_index=True)\n"
     ]
    },
    {
     "name": "stdout",
     "output_type": "stream",
     "text": [
      "06-23-2020\n"
     ]
    },
    {
     "name": "stderr",
     "output_type": "stream",
     "text": [
      "C:\\Users\\lenon.oliveira\\Anaconda3\\lib\\site-packages\\dateparser\\date_parser.py:35: PytzUsageWarning: The localize method is no longer necessary, as this time zone supports the fold attribute (PEP 495). For more details on migrating to a PEP 495-compliant implementation, see https://pytz-deprecation-shim.readthedocs.io/en/latest/migration.html\n",
      "  date_obj = stz.localize(date_obj)\n",
      "C:\\Users\\lenon.oliveira\\AppData\\Local\\Temp\\ipykernel_39724\\1041801480.py:31: FutureWarning: The frame.append method is deprecated and will be removed from pandas in a future version. Use pandas.concat instead.\n",
      "  df = df.append(df1, ignore_index=True)\n"
     ]
    },
    {
     "name": "stdout",
     "output_type": "stream",
     "text": [
      "06-24-2020\n"
     ]
    },
    {
     "name": "stderr",
     "output_type": "stream",
     "text": [
      "C:\\Users\\lenon.oliveira\\Anaconda3\\lib\\site-packages\\dateparser\\date_parser.py:35: PytzUsageWarning: The localize method is no longer necessary, as this time zone supports the fold attribute (PEP 495). For more details on migrating to a PEP 495-compliant implementation, see https://pytz-deprecation-shim.readthedocs.io/en/latest/migration.html\n",
      "  date_obj = stz.localize(date_obj)\n",
      "C:\\Users\\lenon.oliveira\\AppData\\Local\\Temp\\ipykernel_39724\\1041801480.py:31: FutureWarning: The frame.append method is deprecated and will be removed from pandas in a future version. Use pandas.concat instead.\n",
      "  df = df.append(df1, ignore_index=True)\n"
     ]
    },
    {
     "name": "stdout",
     "output_type": "stream",
     "text": [
      "06-25-2020\n"
     ]
    },
    {
     "name": "stderr",
     "output_type": "stream",
     "text": [
      "C:\\Users\\lenon.oliveira\\Anaconda3\\lib\\site-packages\\dateparser\\date_parser.py:35: PytzUsageWarning: The localize method is no longer necessary, as this time zone supports the fold attribute (PEP 495). For more details on migrating to a PEP 495-compliant implementation, see https://pytz-deprecation-shim.readthedocs.io/en/latest/migration.html\n",
      "  date_obj = stz.localize(date_obj)\n",
      "C:\\Users\\lenon.oliveira\\AppData\\Local\\Temp\\ipykernel_39724\\1041801480.py:31: FutureWarning: The frame.append method is deprecated and will be removed from pandas in a future version. Use pandas.concat instead.\n",
      "  df = df.append(df1, ignore_index=True)\n"
     ]
    },
    {
     "name": "stdout",
     "output_type": "stream",
     "text": [
      "06-26-2020\n"
     ]
    },
    {
     "name": "stderr",
     "output_type": "stream",
     "text": [
      "C:\\Users\\lenon.oliveira\\Anaconda3\\lib\\site-packages\\dateparser\\date_parser.py:35: PytzUsageWarning: The localize method is no longer necessary, as this time zone supports the fold attribute (PEP 495). For more details on migrating to a PEP 495-compliant implementation, see https://pytz-deprecation-shim.readthedocs.io/en/latest/migration.html\n",
      "  date_obj = stz.localize(date_obj)\n",
      "C:\\Users\\lenon.oliveira\\AppData\\Local\\Temp\\ipykernel_39724\\1041801480.py:31: FutureWarning: The frame.append method is deprecated and will be removed from pandas in a future version. Use pandas.concat instead.\n",
      "  df = df.append(df1, ignore_index=True)\n"
     ]
    },
    {
     "name": "stdout",
     "output_type": "stream",
     "text": [
      "06-27-2020\n"
     ]
    },
    {
     "name": "stderr",
     "output_type": "stream",
     "text": [
      "C:\\Users\\lenon.oliveira\\Anaconda3\\lib\\site-packages\\dateparser\\date_parser.py:35: PytzUsageWarning: The localize method is no longer necessary, as this time zone supports the fold attribute (PEP 495). For more details on migrating to a PEP 495-compliant implementation, see https://pytz-deprecation-shim.readthedocs.io/en/latest/migration.html\n",
      "  date_obj = stz.localize(date_obj)\n",
      "C:\\Users\\lenon.oliveira\\AppData\\Local\\Temp\\ipykernel_39724\\1041801480.py:31: FutureWarning: The frame.append method is deprecated and will be removed from pandas in a future version. Use pandas.concat instead.\n",
      "  df = df.append(df1, ignore_index=True)\n"
     ]
    },
    {
     "name": "stdout",
     "output_type": "stream",
     "text": [
      "06-28-2020\n"
     ]
    },
    {
     "name": "stderr",
     "output_type": "stream",
     "text": [
      "C:\\Users\\lenon.oliveira\\Anaconda3\\lib\\site-packages\\dateparser\\date_parser.py:35: PytzUsageWarning: The localize method is no longer necessary, as this time zone supports the fold attribute (PEP 495). For more details on migrating to a PEP 495-compliant implementation, see https://pytz-deprecation-shim.readthedocs.io/en/latest/migration.html\n",
      "  date_obj = stz.localize(date_obj)\n",
      "C:\\Users\\lenon.oliveira\\AppData\\Local\\Temp\\ipykernel_39724\\1041801480.py:31: FutureWarning: The frame.append method is deprecated and will be removed from pandas in a future version. Use pandas.concat instead.\n",
      "  df = df.append(df1, ignore_index=True)\n"
     ]
    },
    {
     "name": "stdout",
     "output_type": "stream",
     "text": [
      "06-29-2020\n"
     ]
    },
    {
     "name": "stderr",
     "output_type": "stream",
     "text": [
      "C:\\Users\\lenon.oliveira\\Anaconda3\\lib\\site-packages\\dateparser\\date_parser.py:35: PytzUsageWarning: The localize method is no longer necessary, as this time zone supports the fold attribute (PEP 495). For more details on migrating to a PEP 495-compliant implementation, see https://pytz-deprecation-shim.readthedocs.io/en/latest/migration.html\n",
      "  date_obj = stz.localize(date_obj)\n",
      "C:\\Users\\lenon.oliveira\\AppData\\Local\\Temp\\ipykernel_39724\\1041801480.py:31: FutureWarning: The frame.append method is deprecated and will be removed from pandas in a future version. Use pandas.concat instead.\n",
      "  df = df.append(df1, ignore_index=True)\n"
     ]
    },
    {
     "name": "stdout",
     "output_type": "stream",
     "text": [
      "06-30-2020\n"
     ]
    },
    {
     "name": "stderr",
     "output_type": "stream",
     "text": [
      "C:\\Users\\lenon.oliveira\\AppData\\Local\\Temp\\ipykernel_39724\\1041801480.py:31: FutureWarning: The frame.append method is deprecated and will be removed from pandas in a future version. Use pandas.concat instead.\n",
      "  df = df.append(df1, ignore_index=True)\n"
     ]
    }
   ],
   "source": [
    "#CRIANDO O OBJETO googlenews (exigência da library)\n",
    "#podemos usar o google news p buscar noticias em outras linguas tbm\n",
    "#googlenews.clear()\n",
    "googlenews = GoogleNews(lang='pt', region='BR')\n",
    "#googlenews.set_time_range(start_date,end_date)\n",
    "\n",
    "#LOOP P AGREGAR A 1º PAGINA DE RESULTADO DA ABA DE NOTICIAS DO GOOGLE DE CADA DIA DA CONSULTA\n",
    "#essa busca poderia ser ampliada pegando as paginas 2,3,4,..n de cada dia, podemos fazer isso em uma nova etapa do projeto\n",
    "df = pd.DataFrame()\n",
    "for i, data in enumerate(date_list_en):\n",
    "    print(data)\n",
    "    \n",
    "    googlenews = GoogleNews(lang='pt', region='BR')\n",
    "    googlenews.set_time_range(data,data)\n",
    "    googlenews.clear()\n",
    "    googlenews.search(termo)\n",
    "    result = googlenews.result()\n",
    "    \n",
    "    \n",
    "    \n",
    "    #googlenews.set_encode('utf-8')\n",
    "    #googlenews.search(termo)\n",
    "    #googlenews.set_time_range(data,data)\n",
    "    #result = googlenews.result()\n",
    "    \n",
    "    #Atualizando as datas\n",
    "    for k in result:\n",
    "        k['date'] = date_list_br[i]\n",
    "    \n",
    "    df1 = pd.DataFrame(result)\n",
    "    df = df.append(df1, ignore_index=True)\n",
    "    googlenews.clear()"
   ]
  },
  {
   "cell_type": "code",
   "execution_count": 7,
   "metadata": {
    "colab": {
     "base_uri": "https://localhost:8080/"
    },
    "id": "dlNuTOn5Fmq9",
    "outputId": "0c9bbd46-efa8-4977-b895-a1b2f078d0d3"
   },
   "outputs": [
    {
     "data": {
      "text/plain": [
       "[{'title': 'Divergência entre Petrobras e ANP trava venda da dona do gasoduto Brasil-Bolívia, diz Castello Branco',\n",
       "  'media': 'O Globo',\n",
       "  'date': '30/06/2020',\n",
       "  'datetime': None,\n",
       "  'desc': 'RIO - Divergências entre a Petrobras e a Agência Nacional do Petróleo (ANP) \\nem relação às tarifas de transporte do gás natural estão dificultando o \\nprocesso...',\n",
       "  'link': 'https://oglobo.globo.com/economia/divergencia-entre-petrobras-anp-trava-venda-da-dona-do-gasoduto-brasil-bolivia-diz-castello-branco-1-24507667',\n",
       "  'img': 'data:image/gif;base64,R0lGODlhAQABAIAAAP///////yH5BAEKAAEALAAAAAABAAEAAAICTAEAOw=='},\n",
       " {'title': 'Petrobras espera adesão de mais de 9 mil funcionários em PDV',\n",
       "  'media': 'Agência Brasil',\n",
       "  'date': '30/06/2020',\n",
       "  'datetime': None,\n",
       "  'desc': 'Audiodescrição: O presidente da Petrobras, Roberto Castello Branco, disse \\nhoje (30) que a estatal espera a adesão...',\n",
       "  'link': 'https://agenciabrasil.ebc.com.br/geral/noticia/2020-06/petrobras-espera-adesao-de-mais-de-9-mil-funcionarios-em-pdv',\n",
       "  'img': 'data:image/gif;base64,R0lGODlhAQABAIAAAP///////yH5BAEKAAEALAAAAAABAAEAAAICTAEAOw=='},\n",
       " {'title': 'Petrobras estende home office e mais 2 notícias da estatal; balanços, possível oferta da Panvel e outros destaques',\n",
       "  'media': 'InfoMoney',\n",
       "  'date': '30/06/2020',\n",
       "  'datetime': None,\n",
       "  'desc': 'A Petrobras decidiu prorrogar até 31 de dezembro deste ano o teletrabalho \\n(também conhecido pelo termo inglês home office), devido à pandemia do \\nnovo...',\n",
       "  'link': 'https://www.infomoney.com.br/mercados/petrobras-estende-home-office-e-mais-2-noticias-da-estatal-balancos-possivel-oferta-da-panvel-e-outros-destaques/',\n",
       "  'img': 'data:image/gif;base64,R0lGODlhAQABAIAAAP///////yH5BAEKAAEALAAAAAABAAEAAAICTAEAOw=='},\n",
       " {'title': 'Covid-19: Petrobras prorroga teletrabalho até o fim do ano',\n",
       "  'media': 'Agência Brasil',\n",
       "  'date': '30/06/2020',\n",
       "  'datetime': None,\n",
       "  'desc': 'A Petrobras decidiu prorrogar até 31 de dezembro deste ano o teletrabalho \\n(também conhecido pelo termo inglês home office), devido à pandemia do \\nnovo...',\n",
       "  'link': 'https://agenciabrasil.ebc.com.br/saude/noticia/2020-06/covid-19-petrobras-prorroga-teletrabalho-ate-o-fim-do-ano',\n",
       "  'img': 'data:image/gif;base64,R0lGODlhAQABAIAAAP///////yH5BAEKAAEALAAAAAABAAEAAAICTAEAOw=='},\n",
       " {'title': 'Petrobras informa venda do campo de Tartaruga em Pirambu',\n",
       "  'media': 'Infonet',\n",
       "  'date': '30/06/2020',\n",
       "  'datetime': None,\n",
       "  'desc': 'A Petrobras comunicou ao mercado, em fato relevante divulgado nesta \\nsegunda-feira, 29, o início da fase de divulgação da venda de seus 25% de \\nparticipação...',\n",
       "  'link': 'https://infonet.com.br/noticias/economia/petrobras-inicia-venda-do-campo-de-tartaruga-em-pirambu/',\n",
       "  'img': 'data:image/gif;base64,R0lGODlhAQABAIAAAP///////yH5BAEKAAEALAAAAAABAAEAAAICTAEAOw=='},\n",
       " {'title': 'Indiana Essar faz lance por refinaria da Petrobras na Bahia',\n",
       "  'media': 'Money Times',\n",
       "  'date': '30/06/2020',\n",
       "  'datetime': None,\n",
       "  'desc': 'A Petrobras recebeu pelo menos mais uma oferta pela refinaria Landulpho \\nAlves, conhecida como RLAM, com capacidade para 323 mil barris ao dia. A \\nEssar vai...',\n",
       "  'link': 'https://www.moneytimes.com.br/indiana-essar-faz-lance-por-refinaria-da-petrobras-na-bahia/',\n",
       "  'img': 'data:image/gif;base64,R0lGODlhAQABAIAAAP///////yH5BAEKAAEALAAAAAABAAEAAAICTAEAOw=='},\n",
       " {'title': 'Transpetro pretende cortar 8,5% dos empregados',\n",
       "  'media': 'Valor Econômico',\n",
       "  'date': '30/06/2020',\n",
       "  'datetime': None,\n",
       "  'desc': 'PDV na subsidiária de logística da Petrobras estima adesão de 557 \\nempregados. Por André Ramalho — Do Rio. 30/06/2020 05h00 Atualizado...',\n",
       "  'link': 'https://valor.globo.com/empresas/noticia/2020/06/30/transpetro-pretende-cortar-85-dos-empregados.ghtml',\n",
       "  'img': 'data:image/gif;base64,R0lGODlhAQABAIAAAP///////yH5BAEKAAEALAAAAAABAAEAAAICTAEAOw=='},\n",
       " {'title': 'Argentina Pecom estreia em campos maduros no Brasil',\n",
       "  'media': 'Valor Econômico',\n",
       "  'date': '30/06/2020',\n",
       "  'datetime': None,\n",
       "  'desc': '... empresa que estreia como produtora, depois de comprar o polo Macau \\n(RN), junto à Petrobras, e optou por terceirizar parte da operação do ativo.',\n",
       "  'link': 'https://valor.globo.com/empresas/noticia/2020/06/30/argentina-pecom-estreia-em-campos-maduros-no-brasil.ghtml',\n",
       "  'img': 'data:image/gif;base64,R0lGODlhAQABAIAAAP///////yH5BAEKAAEALAAAAAABAAEAAAICTAEAOw=='},\n",
       " {'title': 'XP anuncia oferta secundária de ações',\n",
       "  'media': 'TradeMap',\n",
       "  'date': '30/06/2020',\n",
       "  'datetime': None,\n",
       "  'desc': 'Chaminé de produção de óleo da Petrobras · A crise que pode enfraquecer o \\nmotor de dividendos da Petrobras – veja o que marcou a semana.',\n",
       "  'link': 'https://trademap.com.br/agencia/mercados/blog-noticia-xp-anuncia-oferta-secundaria-de-acoes',\n",
       "  'img': 'data:image/gif;base64,R0lGODlhAQABAIAAAP///////yH5BAEKAAEALAAAAAABAAEAAAICTAEAOw=='},\n",
       " {'title': 'Netflix promete US$ 100 mi para bancos controlados por negros',\n",
       "  'media': 'Money Times',\n",
       "  'date': '30/06/2020',\n",
       "  'datetime': None,\n",
       "  'desc': 'Comprar ou vender? Mercado vê riscos políticos que podem afetar ação da \\nPetrobras. Leia mais sobre: Bancos, Bloomberg,...',\n",
       "  'link': 'https://www.moneytimes.com.br/netflix-promete-us-100-mi-para-bancos-controlados-por-negros/',\n",
       "  'img': 'data:image/gif;base64,R0lGODlhAQABAIAAAP///////yH5BAEKAAEALAAAAAABAAEAAAICTAEAOw=='}]"
      ]
     },
     "execution_count": 7,
     "metadata": {},
     "output_type": "execute_result"
    }
   ],
   "source": [
    "result"
   ]
  },
  {
   "cell_type": "code",
   "execution_count": 8,
   "metadata": {},
   "outputs": [
    {
     "data": {
      "text/html": [
       "<div>\n",
       "<style scoped>\n",
       "    .dataframe tbody tr th:only-of-type {\n",
       "        vertical-align: middle;\n",
       "    }\n",
       "\n",
       "    .dataframe tbody tr th {\n",
       "        vertical-align: top;\n",
       "    }\n",
       "\n",
       "    .dataframe thead th {\n",
       "        text-align: right;\n",
       "    }\n",
       "</style>\n",
       "<table border=\"1\" class=\"dataframe\">\n",
       "  <thead>\n",
       "    <tr style=\"text-align: right;\">\n",
       "      <th></th>\n",
       "      <th>title</th>\n",
       "      <th>media</th>\n",
       "      <th>date</th>\n",
       "      <th>datetime</th>\n",
       "      <th>desc</th>\n",
       "      <th>link</th>\n",
       "      <th>img</th>\n",
       "    </tr>\n",
       "  </thead>\n",
       "  <tbody>\n",
       "    <tr>\n",
       "      <th>0</th>\n",
       "      <td>Plataformas de petróleo impactaram balança com...</td>\n",
       "      <td>Agência Brasil</td>\n",
       "      <td>01/06/2020</td>\n",
       "      <td>None</td>\n",
       "      <td>Embora operem no país, essas plataformas estav...</td>\n",
       "      <td>https://agenciabrasil.ebc.com.br/geral/noticia...</td>\n",
       "      <td>data:image/gif;base64,R0lGODlhAQABAIAAAP//////...</td>\n",
       "    </tr>\n",
       "    <tr>\n",
       "      <th>1</th>\n",
       "      <td>Petrobras avança processo de venda de campos d...</td>\n",
       "      <td>CPG Click Petroleo e Gas</td>\n",
       "      <td>01/06/2020</td>\n",
       "      <td>None</td>\n",
       "      <td>A Petrobras é a operadora do campo de petróleo...</td>\n",
       "      <td>https://clickpetroleoegas.com.br/petrobras-ava...</td>\n",
       "      <td>data:image/gif;base64,R0lGODlhAQABAIAAAP//////...</td>\n",
       "    </tr>\n",
       "    <tr>\n",
       "      <th>2</th>\n",
       "      <td>Petrobras coloca à venda blocos de exploração ...</td>\n",
       "      <td>A Gazeta</td>\n",
       "      <td>01/06/2020</td>\n",
       "      <td>None</td>\n",
       "      <td>OPERAÇÃO E PARTICIPAÇÃO. Atualmente, a Petrobr...</td>\n",
       "      <td>https://www.agazeta.com.br/es/economia/petrobr...</td>\n",
       "      <td>data:image/gif;base64,R0lGODlhAQABAIAAAP//////...</td>\n",
       "    </tr>\n",
       "    <tr>\n",
       "      <th>3</th>\n",
       "      <td>Preço da gasolina cai 5,15% em maio afetado po...</td>\n",
       "      <td>Money Times</td>\n",
       "      <td>01/06/2020</td>\n",
       "      <td>None</td>\n",
       "      <td>No acumulado de 2020, contudo, a gasolina da P...</td>\n",
       "      <td>https://www.moneytimes.com.br/preco-da-gasolin...</td>\n",
       "      <td>data:image/gif;base64,R0lGODlhAQABAIAAAP//////...</td>\n",
       "    </tr>\n",
       "    <tr>\n",
       "      <th>4</th>\n",
       "      <td>ConJur - Acordo de leniência afasta ação de im...</td>\n",
       "      <td>Consultor Jurídico</td>\n",
       "      <td>01/06/2020</td>\n",
       "      <td>None</td>\n",
       "      <td>Na ação, ajuizada em 2017, a AGU pedia que a U...</td>\n",
       "      <td>https://www.conjur.com.br/2020-jun-01/acordo-l...</td>\n",
       "      <td>data:image/gif;base64,R0lGODlhAQABAIAAAP//////...</td>\n",
       "    </tr>\n",
       "    <tr>\n",
       "      <th>...</th>\n",
       "      <td>...</td>\n",
       "      <td>...</td>\n",
       "      <td>...</td>\n",
       "      <td>...</td>\n",
       "      <td>...</td>\n",
       "      <td>...</td>\n",
       "      <td>...</td>\n",
       "    </tr>\n",
       "    <tr>\n",
       "      <th>272</th>\n",
       "      <td>Indiana Essar faz lance por refinaria da Petro...</td>\n",
       "      <td>Money Times</td>\n",
       "      <td>30/06/2020</td>\n",
       "      <td>None</td>\n",
       "      <td>A Petrobras recebeu pelo menos mais uma oferta...</td>\n",
       "      <td>https://www.moneytimes.com.br/indiana-essar-fa...</td>\n",
       "      <td>data:image/gif;base64,R0lGODlhAQABAIAAAP//////...</td>\n",
       "    </tr>\n",
       "    <tr>\n",
       "      <th>273</th>\n",
       "      <td>Transpetro pretende cortar 8,5% dos empregados</td>\n",
       "      <td>Valor Econômico</td>\n",
       "      <td>30/06/2020</td>\n",
       "      <td>None</td>\n",
       "      <td>PDV na subsidiária de logística da Petrobras e...</td>\n",
       "      <td>https://valor.globo.com/empresas/noticia/2020/...</td>\n",
       "      <td>data:image/gif;base64,R0lGODlhAQABAIAAAP//////...</td>\n",
       "    </tr>\n",
       "    <tr>\n",
       "      <th>274</th>\n",
       "      <td>Argentina Pecom estreia em campos maduros no B...</td>\n",
       "      <td>Valor Econômico</td>\n",
       "      <td>30/06/2020</td>\n",
       "      <td>None</td>\n",
       "      <td>... empresa que estreia como produtora, depois...</td>\n",
       "      <td>https://valor.globo.com/empresas/noticia/2020/...</td>\n",
       "      <td>data:image/gif;base64,R0lGODlhAQABAIAAAP//////...</td>\n",
       "    </tr>\n",
       "    <tr>\n",
       "      <th>275</th>\n",
       "      <td>XP anuncia oferta secundária de ações</td>\n",
       "      <td>TradeMap</td>\n",
       "      <td>30/06/2020</td>\n",
       "      <td>None</td>\n",
       "      <td>Chaminé de produção de óleo da Petrobras · A c...</td>\n",
       "      <td>https://trademap.com.br/agencia/mercados/blog-...</td>\n",
       "      <td>data:image/gif;base64,R0lGODlhAQABAIAAAP//////...</td>\n",
       "    </tr>\n",
       "    <tr>\n",
       "      <th>276</th>\n",
       "      <td>Netflix promete US$ 100 mi para bancos control...</td>\n",
       "      <td>Money Times</td>\n",
       "      <td>30/06/2020</td>\n",
       "      <td>None</td>\n",
       "      <td>Comprar ou vender? Mercado vê riscos políticos...</td>\n",
       "      <td>https://www.moneytimes.com.br/netflix-promete-...</td>\n",
       "      <td>data:image/gif;base64,R0lGODlhAQABAIAAAP//////...</td>\n",
       "    </tr>\n",
       "  </tbody>\n",
       "</table>\n",
       "<p>277 rows × 7 columns</p>\n",
       "</div>"
      ],
      "text/plain": [
       "                                                 title  \\\n",
       "0    Plataformas de petróleo impactaram balança com...   \n",
       "1    Petrobras avança processo de venda de campos d...   \n",
       "2    Petrobras coloca à venda blocos de exploração ...   \n",
       "3    Preço da gasolina cai 5,15% em maio afetado po...   \n",
       "4    ConJur - Acordo de leniência afasta ação de im...   \n",
       "..                                                 ...   \n",
       "272  Indiana Essar faz lance por refinaria da Petro...   \n",
       "273     Transpetro pretende cortar 8,5% dos empregados   \n",
       "274  Argentina Pecom estreia em campos maduros no B...   \n",
       "275              XP anuncia oferta secundária de ações   \n",
       "276  Netflix promete US$ 100 mi para bancos control...   \n",
       "\n",
       "                        media        date datetime  \\\n",
       "0              Agência Brasil  01/06/2020     None   \n",
       "1    CPG Click Petroleo e Gas  01/06/2020     None   \n",
       "2                    A Gazeta  01/06/2020     None   \n",
       "3                 Money Times  01/06/2020     None   \n",
       "4          Consultor Jurídico  01/06/2020     None   \n",
       "..                        ...         ...      ...   \n",
       "272               Money Times  30/06/2020     None   \n",
       "273           Valor Econômico  30/06/2020     None   \n",
       "274           Valor Econômico  30/06/2020     None   \n",
       "275                  TradeMap  30/06/2020     None   \n",
       "276               Money Times  30/06/2020     None   \n",
       "\n",
       "                                                  desc  \\\n",
       "0    Embora operem no país, essas plataformas estav...   \n",
       "1    A Petrobras é a operadora do campo de petróleo...   \n",
       "2    OPERAÇÃO E PARTICIPAÇÃO. Atualmente, a Petrobr...   \n",
       "3    No acumulado de 2020, contudo, a gasolina da P...   \n",
       "4    Na ação, ajuizada em 2017, a AGU pedia que a U...   \n",
       "..                                                 ...   \n",
       "272  A Petrobras recebeu pelo menos mais uma oferta...   \n",
       "273  PDV na subsidiária de logística da Petrobras e...   \n",
       "274  ... empresa que estreia como produtora, depois...   \n",
       "275  Chaminé de produção de óleo da Petrobras · A c...   \n",
       "276  Comprar ou vender? Mercado vê riscos políticos...   \n",
       "\n",
       "                                                  link  \\\n",
       "0    https://agenciabrasil.ebc.com.br/geral/noticia...   \n",
       "1    https://clickpetroleoegas.com.br/petrobras-ava...   \n",
       "2    https://www.agazeta.com.br/es/economia/petrobr...   \n",
       "3    https://www.moneytimes.com.br/preco-da-gasolin...   \n",
       "4    https://www.conjur.com.br/2020-jun-01/acordo-l...   \n",
       "..                                                 ...   \n",
       "272  https://www.moneytimes.com.br/indiana-essar-fa...   \n",
       "273  https://valor.globo.com/empresas/noticia/2020/...   \n",
       "274  https://valor.globo.com/empresas/noticia/2020/...   \n",
       "275  https://trademap.com.br/agencia/mercados/blog-...   \n",
       "276  https://www.moneytimes.com.br/netflix-promete-...   \n",
       "\n",
       "                                                   img  \n",
       "0    data:image/gif;base64,R0lGODlhAQABAIAAAP//////...  \n",
       "1    data:image/gif;base64,R0lGODlhAQABAIAAAP//////...  \n",
       "2    data:image/gif;base64,R0lGODlhAQABAIAAAP//////...  \n",
       "3    data:image/gif;base64,R0lGODlhAQABAIAAAP//////...  \n",
       "4    data:image/gif;base64,R0lGODlhAQABAIAAAP//////...  \n",
       "..                                                 ...  \n",
       "272  data:image/gif;base64,R0lGODlhAQABAIAAAP//////...  \n",
       "273  data:image/gif;base64,R0lGODlhAQABAIAAAP//////...  \n",
       "274  data:image/gif;base64,R0lGODlhAQABAIAAAP//////...  \n",
       "275  data:image/gif;base64,R0lGODlhAQABAIAAAP//////...  \n",
       "276  data:image/gif;base64,R0lGODlhAQABAIAAAP//////...  \n",
       "\n",
       "[277 rows x 7 columns]"
      ]
     },
     "execution_count": 8,
     "metadata": {},
     "output_type": "execute_result"
    }
   ],
   "source": [
    "df"
   ]
  },
  {
   "cell_type": "code",
   "execution_count": 9,
   "metadata": {
    "id": "rDrHkZZSQ1bq"
   },
   "outputs": [],
   "source": [
    "df.drop(['link', 'img','datetime'], axis = 1, inplace = True) \n",
    "df['desc'].replace('\\n',' ', regex=True, inplace=True)"
   ]
  },
  {
   "cell_type": "code",
   "execution_count": 10,
   "metadata": {
    "colab": {
     "base_uri": "https://localhost:8080/",
     "height": 423
    },
    "id": "o9esNxZ6Rl-U",
    "outputId": "162f930d-7404-4041-ce90-2b668e832651"
   },
   "outputs": [
    {
     "data": {
      "text/html": [
       "<div>\n",
       "<style scoped>\n",
       "    .dataframe tbody tr th:only-of-type {\n",
       "        vertical-align: middle;\n",
       "    }\n",
       "\n",
       "    .dataframe tbody tr th {\n",
       "        vertical-align: top;\n",
       "    }\n",
       "\n",
       "    .dataframe thead th {\n",
       "        text-align: right;\n",
       "    }\n",
       "</style>\n",
       "<table border=\"1\" class=\"dataframe\">\n",
       "  <thead>\n",
       "    <tr style=\"text-align: right;\">\n",
       "      <th></th>\n",
       "      <th>title</th>\n",
       "      <th>media</th>\n",
       "      <th>date</th>\n",
       "      <th>desc</th>\n",
       "    </tr>\n",
       "  </thead>\n",
       "  <tbody>\n",
       "    <tr>\n",
       "      <th>0</th>\n",
       "      <td>Plataformas de petróleo impactaram balança com...</td>\n",
       "      <td>Agência Brasil</td>\n",
       "      <td>01/06/2020</td>\n",
       "      <td>Embora operem no país, essas plataformas estav...</td>\n",
       "    </tr>\n",
       "    <tr>\n",
       "      <th>1</th>\n",
       "      <td>Petrobras avança processo de venda de campos d...</td>\n",
       "      <td>CPG Click Petroleo e Gas</td>\n",
       "      <td>01/06/2020</td>\n",
       "      <td>A Petrobras é a operadora do campo de petróleo...</td>\n",
       "    </tr>\n",
       "    <tr>\n",
       "      <th>2</th>\n",
       "      <td>Petrobras coloca à venda blocos de exploração ...</td>\n",
       "      <td>A Gazeta</td>\n",
       "      <td>01/06/2020</td>\n",
       "      <td>OPERAÇÃO E PARTICIPAÇÃO. Atualmente, a Petrobr...</td>\n",
       "    </tr>\n",
       "    <tr>\n",
       "      <th>3</th>\n",
       "      <td>Preço da gasolina cai 5,15% em maio afetado po...</td>\n",
       "      <td>Money Times</td>\n",
       "      <td>01/06/2020</td>\n",
       "      <td>No acumulado de 2020, contudo, a gasolina da P...</td>\n",
       "    </tr>\n",
       "    <tr>\n",
       "      <th>4</th>\n",
       "      <td>ConJur - Acordo de leniência afasta ação de im...</td>\n",
       "      <td>Consultor Jurídico</td>\n",
       "      <td>01/06/2020</td>\n",
       "      <td>Na ação, ajuizada em 2017, a AGU pedia que a U...</td>\n",
       "    </tr>\n",
       "    <tr>\n",
       "      <th>...</th>\n",
       "      <td>...</td>\n",
       "      <td>...</td>\n",
       "      <td>...</td>\n",
       "      <td>...</td>\n",
       "    </tr>\n",
       "    <tr>\n",
       "      <th>272</th>\n",
       "      <td>Indiana Essar faz lance por refinaria da Petro...</td>\n",
       "      <td>Money Times</td>\n",
       "      <td>30/06/2020</td>\n",
       "      <td>A Petrobras recebeu pelo menos mais uma oferta...</td>\n",
       "    </tr>\n",
       "    <tr>\n",
       "      <th>273</th>\n",
       "      <td>Transpetro pretende cortar 8,5% dos empregados</td>\n",
       "      <td>Valor Econômico</td>\n",
       "      <td>30/06/2020</td>\n",
       "      <td>PDV na subsidiária de logística da Petrobras e...</td>\n",
       "    </tr>\n",
       "    <tr>\n",
       "      <th>274</th>\n",
       "      <td>Argentina Pecom estreia em campos maduros no B...</td>\n",
       "      <td>Valor Econômico</td>\n",
       "      <td>30/06/2020</td>\n",
       "      <td>... empresa que estreia como produtora, depois...</td>\n",
       "    </tr>\n",
       "    <tr>\n",
       "      <th>275</th>\n",
       "      <td>XP anuncia oferta secundária de ações</td>\n",
       "      <td>TradeMap</td>\n",
       "      <td>30/06/2020</td>\n",
       "      <td>Chaminé de produção de óleo da Petrobras · A c...</td>\n",
       "    </tr>\n",
       "    <tr>\n",
       "      <th>276</th>\n",
       "      <td>Netflix promete US$ 100 mi para bancos control...</td>\n",
       "      <td>Money Times</td>\n",
       "      <td>30/06/2020</td>\n",
       "      <td>Comprar ou vender? Mercado vê riscos políticos...</td>\n",
       "    </tr>\n",
       "  </tbody>\n",
       "</table>\n",
       "<p>277 rows × 4 columns</p>\n",
       "</div>"
      ],
      "text/plain": [
       "                                                 title  \\\n",
       "0    Plataformas de petróleo impactaram balança com...   \n",
       "1    Petrobras avança processo de venda de campos d...   \n",
       "2    Petrobras coloca à venda blocos de exploração ...   \n",
       "3    Preço da gasolina cai 5,15% em maio afetado po...   \n",
       "4    ConJur - Acordo de leniência afasta ação de im...   \n",
       "..                                                 ...   \n",
       "272  Indiana Essar faz lance por refinaria da Petro...   \n",
       "273     Transpetro pretende cortar 8,5% dos empregados   \n",
       "274  Argentina Pecom estreia em campos maduros no B...   \n",
       "275              XP anuncia oferta secundária de ações   \n",
       "276  Netflix promete US$ 100 mi para bancos control...   \n",
       "\n",
       "                        media        date  \\\n",
       "0              Agência Brasil  01/06/2020   \n",
       "1    CPG Click Petroleo e Gas  01/06/2020   \n",
       "2                    A Gazeta  01/06/2020   \n",
       "3                 Money Times  01/06/2020   \n",
       "4          Consultor Jurídico  01/06/2020   \n",
       "..                        ...         ...   \n",
       "272               Money Times  30/06/2020   \n",
       "273           Valor Econômico  30/06/2020   \n",
       "274           Valor Econômico  30/06/2020   \n",
       "275                  TradeMap  30/06/2020   \n",
       "276               Money Times  30/06/2020   \n",
       "\n",
       "                                                  desc  \n",
       "0    Embora operem no país, essas plataformas estav...  \n",
       "1    A Petrobras é a operadora do campo de petróleo...  \n",
       "2    OPERAÇÃO E PARTICIPAÇÃO. Atualmente, a Petrobr...  \n",
       "3    No acumulado de 2020, contudo, a gasolina da P...  \n",
       "4    Na ação, ajuizada em 2017, a AGU pedia que a U...  \n",
       "..                                                 ...  \n",
       "272  A Petrobras recebeu pelo menos mais uma oferta...  \n",
       "273  PDV na subsidiária de logística da Petrobras e...  \n",
       "274  ... empresa que estreia como produtora, depois...  \n",
       "275  Chaminé de produção de óleo da Petrobras · A c...  \n",
       "276  Comprar ou vender? Mercado vê riscos políticos...  \n",
       "\n",
       "[277 rows x 4 columns]"
      ]
     },
     "execution_count": 10,
     "metadata": {},
     "output_type": "execute_result"
    }
   ],
   "source": [
    "df"
   ]
  },
  {
   "cell_type": "code",
   "execution_count": 11,
   "metadata": {
    "colab": {
     "base_uri": "https://localhost:8080/"
    },
    "id": "I4FvVIkTNqo4",
    "outputId": "482cfbfa-9ec1-475c-d844-690a78687251"
   },
   "outputs": [
    {
     "data": {
      "text/plain": [
       "array(['01/06/2020', '02/06/2020', '03/06/2020', '04/06/2020',\n",
       "       '05/06/2020', '06/06/2020', '07/06/2020', '08/06/2020',\n",
       "       '09/06/2020', '10/06/2020', '11/06/2020', '12/06/2020',\n",
       "       '13/06/2020', '14/06/2020', '15/06/2020', '16/06/2020',\n",
       "       '17/06/2020', '18/06/2020', '19/06/2020', '20/06/2020',\n",
       "       '21/06/2020', '22/06/2020', '23/06/2020', '24/06/2020',\n",
       "       '25/06/2020', '26/06/2020', '27/06/2020', '28/06/2020',\n",
       "       '29/06/2020', '30/06/2020'], dtype=object)"
      ]
     },
     "execution_count": 11,
     "metadata": {},
     "output_type": "execute_result"
    }
   ],
   "source": [
    "df.to_csv('Jun-2020.csv',sep = '|',header=True,encoding='utf-8-sig', index=False)\n",
    "df['date'].unique()"
   ]
  },
  {
   "cell_type": "code",
   "execution_count": 12,
   "metadata": {
    "colab": {
     "base_uri": "https://localhost:8080/"
    },
    "id": "uPZz0dRGVU4A",
    "outputId": "6fdaf8b1-4117-460c-f6d8-85094df5e1fd"
   },
   "outputs": [
    {
     "name": "stdout",
     "output_type": "stream",
     "text": [
      "Embora operem no país, essas plataformas estavam registradas em  subsidiárias da Petrobras no exterior. Com a migração para o regime  aduaneiro especial...\n",
      "A Petrobras é a operadora do campo de petróleo, com 35%, em parceria com a  Enauta (45%), E&P de Petróleo e Gás Ltda. (10%) e Brasoil Manati. (10%).\n",
      "OPERAÇÃO E PARTICIPAÇÃO. Atualmente, a Petrobras tem participação nesses  blocos em consórcios com a norueguesa Equinor (antiga Statoil) além das  petroleiras...\n",
      "No acumulado de 2020, contudo, a gasolina da Petrobras ainda registra queda  de cerca de 31%, de acordo com dados da petroleira, enquanto nos postos a  redução...\n",
      "Na ação, ajuizada em 2017, a AGU pedia que a UTC reparasse a Petrobras por  irregularidades durante a assinatura de contratos com estatal.\n",
      "... e Pão de Açúcar (PCAR3) deixaram o portfólio, o que permitiu a entrada  das ações da Transmissão Paulista (TRPL4), Multiplan (MULT3) e Petrobras  (PETR4).\n",
      "Bolsonaro afirma que Petrobras terá nova dinâmica sobre combustíveis com  Andrade ... Petrobras PN · Vale ON · Usiminas PNA · Gerdau PN...\n",
      "Mais lidas do valor-investe. 1. Bolsas e índices. Apesar dos pesares,  Petrobras (PETR3; PETR4) salva o dia do Ibovespa.\n",
      "Petrobras e Vale renovam o favoritismo, pois tendem a se beneficiar com a  retomada da economia de mercados que consomem suas commodities,...\n",
      "... Se havia dúvida de que a Petrobras (PETR4) amarrava preço do etanol nas  usinas, ... Petrobras (PETR4), dividendos e mais: Veja os destaques da  semana no...\n",
      "Campos operados pela Petrobras, em consórcio ou não, produziram 94,9% do  ... No começo de abril, a Petrobras anunciou que ampliou em 100 mil barris  por dia...\n",
      "'JULGAMENTO' DA PETROBRAS? Descubra se a estatal é culpada pela explosão  nos preços dos combustíveis. Menu.\n",
      "... Líder petista apoia CPI da Petrobras sugerida por Bolsonaro · Pacheco  diz que não há separação entre governo e Petrobras · PT posta foto antiga  de...\n",
      "Petrobras: \"Tinha mensagens que podiam incriminar Bolsonaro\". Política  Brasil Há 6 Horas. Petrobras: \"Tinha mensagens que podiam incriminar  Bolsonaro\"...\n",
      "Petrobras pagará R$ 32 bi ao governo até julho; como esse valor será usado?  ... Bolsonaro exonera Caio Andrade após secretário ser aprovado na  Petrobras.\n",
      "Petrobras: \"Tinha mensagens que podiam incriminar Bolsonaro\". Política  Brasil Há 6 Horas. Petrobras: \"Tinha mensagens que podiam incriminar  Bolsonaro\"...\n",
      "Gasolina e etanol têm primeira queda de preço depois de três meses de altas  · Se havia dúvida de que a Petrobras (PETR4) amarrava preço do etanol nas  usinas...\n",
      "Comprar ou vender? Petrobras (PETR4): “Diminuímos bastante a exposição no  último mês”, diz gestor. Leia mais...\n",
      "Petrobras está “paradoxalmente” com estoques em baixa, afirmou Roberto  Castello Branco, em transmissão da FGV com CEOs de petroleiras que atuam no  Brasil.\n",
      "Gasolina e etanol têm primeira queda de preço depois de três meses de altas  · Se havia dúvida de que a Petrobras (PETR4) amarrava preço do etanol nas  usinas...\n",
      "Também excelente foi o valor do EBITDA[1] ajustado de R$ 37,5 bilhões,  valor superior ao do trimestre anterior. Tabela 1: Resultado da Petrobras  no 1º trimestre...\n",
      "Erton Medeiros Fonseca pegou 7 anos, cinco meses e dez dias de prisão por  ter pago propina de 10 milhões de reais para enterrar a CPI da Petrobras,  em 2009.\n",
      "... Se havia dúvida de que a Petrobras (PETR4) amarrava preço do etanol nas  usinas, ... Petrobras (PETR4), dividendos e mais: Veja os destaques da  semana no...\n",
      "... Se havia dúvida de que a Petrobras (PETR4) amarrava preço do etanol nas  usinas, ... Petrobras (PETR4), dividendos e mais: Veja os destaques da  semana no...\n",
      "Gasolina e etanol têm primeira queda de preço depois de três meses de altas  · Se havia dúvida de que a Petrobras (PETR4) amarrava preço do etanol nas  usinas...\n",
      "A Petrobras recebe, no próximo dia 14, o primeiro dos sete navios-tanques  contratados para aumentar sua frota, hoje com 20 embarcações.\n",
      "O Tribunal Regional Federal da Quarta Região (TRF-4), onde se decidem os  processos da Lava Jato, determinou que a Petrobras terá de trocar o nome do  campo...\n",
      "Conforme o MPF (Ministério Público Federal), os crimes ainda envolvem nove  contratos celebrados por uma empresa do Grupo, Confab Industrial SA, com a  Petrobras...\n",
      "A Petrobras anunciou o reajuste de 5,3% no preço médio do GLP a partir  desta quinta (4). Com isso, diz a estatal, o valor médio de vendar será  equivalente a R$...\n",
      "... diz Petrobras · Indicado para Petrobras esconde que trabalhou na OAS ·  Governo troca de novo o comando da Petrobras · Especialistas defendem  maior...\n",
      "24-05-2022. Presidente da Petrobras substituído após 40 dias no cargo ·  Grupo Media Rumo · Ficha técnica · Política de privacidade · Termos &  Condições...\n",
      "Em julho de 2019, o fundo recebeu uma comunicação da Petrobras (sua única  inquilina), que manifestava a intenção de desocupar o imóvel do fundo em  dezembro...\n",
      "Se havia dúvida de que a Petrobras (PETR4) amarrava preço do etanol nas  usinas, não há mais · Gasolina e etanol têm primeira queda de preço depois  de três...\n",
      "Gasolina e etanol têm primeira queda de preço depois de três meses de altas  · Se havia dúvida de que a Petrobras (PETR4) amarrava preço do etanol nas  usinas...\n",
      "Gasolina e etanol têm primeira queda de preço depois de três meses de altas  · Se havia dúvida de que a Petrobras (PETR4) amarrava preço do etanol nas  usinas...\n",
      "A Petrobras detém 20% da Brasympe, que por sua vez possui 60% da Termocabo,  que é dona de uma usina termelétrica movida a óleo combustível situada em  Pernambuco...\n",
      "Consumo também aumentou por conta do isolamento social. Por Denise Luna  (AE). A alta do petróleo no mercado internacional levou a Petrobras a  elevar o preço do...\n",
      "Além da ANP e da Petrobras, a advogada tentou responsabilizar o  ex-presidente da estatal, José Sérgio Gabrielli, e o ex-presidente Luiz  Inácio Lula da Silva — o...\n",
      "A possibilidade de formação de monopólios regionais a partir da venda das  refinarias anunciadas pela Petrobras tem sido discutida no mercado neste  momento...\n",
      "RIO - Apesar do acordo firmado entre a Petros — fundo de pensão dos  empregados da Petrobras —, a Federação Única dos Petroleiros (FUP) e os  sindicatos da...\n",
      "Deputado teria atuado como 'arrecadador' do PP em contratos firmados entre  a Petrobrás e a construtora Queiroz Galvão. Breno Pires/BRASÍLIA.\n",
      "fachada de edifício com o logotipo da Petrobras · Petrobras (PETR4) vota  sobre novo presidente após conselheiro dizer que candidato é inapto.\n",
      "CVM abre processo contra Petrobras após nova troca de presidente. Por  CartaCapital · Petrobras anuncia Fernando Borges como presidente interino.\n",
      "Tags: 44  bilhõesbolsonaroBrasilcrisecríticacríticasDieselestatalGasolinagordagordíssimajairJORNALISTASlucroobesaPetrobrasPetróleopreçospresidente.\n",
      "Além disso, teria atuado no pagamento de subornos decorrentes do contrato  da sonda Petrobras 10.000. Conforme a Lava Jato, em contrapartida o dono do  Grupo...\n",
      "A Petrobras disse, ainda, que a companhia tem atualmente 217 empregados  próprios (excluindo terceirizados, portanto) com confirmação para Covid-19  e em...\n",
      "Gasolina e etanol têm primeira queda de preço depois de três meses de altas  · Se havia dúvida de que a Petrobras (PETR4) amarrava preço do etanol nas  usinas...\n",
      "G7 investirá US$ 600 bi contra “cinturão e rota” da China · Andrade nega  orientação para mudar política de preço da Petrobras · Países vão proibir...\n",
      "“Scarface”: Clássico com Al Pacino será retirado da Netflix em junho ·  Navegação de Post · Moro com Bolsonaro · Petrobras, eleições e os  brasileiros · Líder dos...\n",
      "... uma investigação da Operação Lava Jato que apurou pagamento de propina  a partir de contratos firmados entre a Petrobras e a construtora Queiroz  Galvão.\n",
      "Petrobras confirma que conselho aprovou Andrade como conselheiro e CEO ...  Caio Paes de Andrade é aprovado pelo Conselho e assumirá presidência da  Petrobras.\n",
      "Senadores querem mensagens suspeitas de Bolsonaro a presidente da Petrobras  ... Líderes caminhoneiros rebatem Lira por atacar Petrobras: Vírus da fake  news.\n",
      "... Se havia dúvida de que a Petrobras (PETR4) amarrava preço do etanol nas  usinas, não há mais · Celulose é o novo minério de ferro?\n",
      "Leia também: Comprar ou vender? Petrobras (PETR4): “Diminuímos bastante a  exposição no último mês”, diz gestor.\n",
      "A Petrobras elevará os preços médios da gasolina em suas refinarias em 10%  a partir desta terça-feira (9), enquanto as cotações do diesel seguirão  estáveis,...\n",
      "O mês de maio foi de demissão para centenas de trabalhadores terceirizados  no campo terrestre da Petrobras, em Carmópolis. Segundo o Sindicato  Unificado dos...\n",
      "Os projetos foram escolhidos por chamada pública do Programa Petrobras  Socioambiental, que tem quase 40 anos de financiamento a pesquisas de  conservação de...\n",
      "A BW Offshore disse no sábado (06) que a extensão acordada com a Petrobras  será de 120 dias e que o contrato expiraria em 9 de outubro de 2020.\n",
      "GAME OVER para Petrobras? Clique aqui e descubra 2 ações que 'vencem' a  estatal. Menu.\n",
      "Efeito Petrobras (PETR4): Banco do Brasil (BBAS3) acumula perdas de 10% no  mês; oportunidade de compra? Leia mais sobre: Agronegócio, Frango, Suínos.  Última...\n",
      "Delay: 15 min. Ibovespa flerta com 101 mil pontos apoiado em Vale e  Petrobras ... Duda Rocha: “Nunca estaria vendido em Petrobras”.\n",
      "Para lucrar: 6 empresas que pagam dividendos trimestrais · Efeito Petrobras  (PETR4): Banco do Brasil (BBAS3) acumula perdas de 10% no mês; oportunidade  de...\n",
      "Ibovespa opera em alta firme com avanço de Petrobras e Vale. A bolsa  brasileira se descola de Wall Street e inicia a semana no campo positivo,...\n",
      "Petrobras (PETR4) e Petrobras (PETR3) avançaram 1,95% e 2,19%,  respectivamente, mesmo em meio à piora dos preços do petróleo após o Brent  subir para mais de...\n",
      "O contrato foi firmado em 2008 e custou R$ 60,9 milhões à Petrobras. Os  cinco integrantes da Segunda Turma condenaram os réus por lavagem de  dinheiro. Por três...\n",
      "A assinatura do TCC da Petrobras com o Cade foi um avanço. Porém, a sua  aplicação no quesito acesso às infraestruturas ainda é bastante tímida.  Para acelerar a...\n",
      "Foi a Petrobrás, parceira do clube por 25 anos. Em 2009, último ano do  vínculo, a estatal pagava, em contrato válido para todas as modalidades,...\n",
      "Tags: 44  bilhõesbolsonaroBrasilcrisecríticacríticasDieselestatalGasolinagordagordíssimajairJORNALISTASlucroobesaPetrobrasPetróleopreçospresidente.\n",
      "Imagem mostra tanques de óleo da Petrobras. Ações. É hora de comprar  Petrobras (PETR3, PETR4)? Entenda o que acontece com as ações e veja as  recomendações.\n",
      "'JULGAMENTO' DA PETROBRAS? Descubra se a estatal é culpada pela explosão  nos preços dos combustíveis. Menu.\n",
      "Moro acha 'risível' PT culpar juiz e não o ladrão por prejuízo na Petrobras  ... Ministro Sachsida substitui presidente da Petrobras a pedido de  Bolsonaro.\n",
      "Conselho aprova Caio de Andrade para presidência da Petrobras ... Ibovespa  flerta com 101 mil pontos apoiado em Vale e Petrobras.\n",
      "Petrobras: \"Tinha mensagens que podiam incriminar Bolsonaro\". Política  Brasil Há 8 Horas. Petrobras: \"Tinha mensagens que podiam incriminar  Bolsonaro\"...\n",
      "Se havia dúvida de que a Petrobras (PETR4) amarrava preço do etanol nas  usinas, não há mais · Gasolina e etanol têm primeira queda de preço depois  de três...\n",
      "A Braskem e a Petrobras anunciaram nesta quarta-feira que renovaram por  mais cinco anos contratos de fornecimento de nafta pela petrolífera para  unidades da...\n",
      "A Petrobras diz ainda que realiza a contratação de empresas prestadoras de  serviços e não interfere nas relações entre essas empresas e seus  trabalhadores.\n",
      "“Como representante do estado de Sergipe na Câmara dos Deputados, enquanto  parlamentar e fiscalizador do Poder Executivo e da Petrobras, queremos  essas...\n",
      "Gasolina e etanol têm primeira queda de preço depois de três meses de altas  · Se havia dúvida de que a Petrobras (PETR4) amarrava preço do etanol nas  usinas...\n",
      "Comprar ou vender? Mercado vê riscos políticos que podem afetar ação da  Petrobras. Leia mais sobre: Bancos, Coronavírus,...\n",
      "Gasolina e etanol têm primeira queda de preço depois de três meses de altas  · Se havia dúvida de que a Petrobras (PETR4) amarrava preço do etanol nas  usinas...\n",
      "Lira defende mudança na lei das estatais por MP · Se criada, oposição quer  virar CPI da Petrobras contra Planalto · XP lança serviço de conta digital  e...\n",
      "Ibovespa opera em alta firme com avanço de Petrobras e Vale. A bolsa  brasileira se descola de Wall Street e inicia a semana no campo positivo,...\n",
      "Edifício sede da Petrobras no Centro do Rio. Brasil7 minutos atrás.  Petroleiros ameaçam levar à Justiça nomeação de novo presidente da  Petrobras.\n",
      "Privatização da Petrobras: uma proposta para o mercado nacional de  petróleo, gás natural e biocombustíveis. 23 de junho de 2022 — Flavia  Marinho.\n",
      "Tags: 44  bilhõesbolsonaroBrasilcrisecríticacríticasDieselestatalGasolinagordagordíssimajairJORNALISTASlucroobesaPetrobrasPetróleopreçospresidente.\n",
      "'JULGAMENTO' DA PETROBRAS? Descubra se a estatal é culpada pela explosão  nos preços dos combustíveis. Menu.\n",
      "Petrobras: \"Tinha mensagens que podiam incriminar Bolsonaro\". Política  Brasil Há 1 Hora. Petrobras: \"Tinha mensagens que podiam incriminar  Bolsonaro\"...\n",
      "340 vagas de emprego para atender contratos na refinaria da Petrobras –  Reduc, em Duque de Caxias, no Rio de Janeiro. A empresa possui experiência  para atender...\n",
      "Senadores pedem acesso a mensagens de ex-presidente da Petrobras que  poderiam ... Congresso quer esclarecer mensagens de ex-presidente da  Petrobras que...\n",
      "Petrobras: \"Tinha mensagens que podiam incriminar Bolsonaro\". Política  Brasil Há 30 mins. Petrobras: \"Tinha mensagens que podiam incriminar  Bolsonaro\"...\n",
      "Mudança de presidente da Petrobras será inócua para controlar os preços;  leia análise · Auxílio Brasil: famílias reclamam de demora e falta de  informações.\n",
      "TIKTOK: CHINA COM ACESSO A DADOS NO EXTERIOR; DENÚNCIA: EXTRAÇÃO FORÇADA DE  ÓRGÃOS. EX-GUERRILHEIRO SOCIALISTA PETRO ELEITO NA COLÔMBIA; TROCA NO  COMANDO DA...\n",
      "Conselho da Petrobras aprova Caio Paes de Andrade como novo presidente ·  Caio Matos · Governo de São Paulo fixa alíquota do ICMS para combustível em  18%.\n",
      "Theatro Municipal Palco Livre e Petrobras convidam Geilson Santos e  Jonathan Haagensen para a live Arte de Preto. Data: Hoje - 11 de junho –  quinta-feira.\n",
      "A Petrobras aumentou para 65% a mão de obra da construção do GasLub  Itaboraí (ex-Comperj), que vai disponibilizar a terceira rota de escoamento  do gás do...\n",
      "Estatal inicia fase vinculante para venda de participação nos ativos da  Petrobras Colombia Combustibles, subsidiária da empresa no país.\n",
      "Confira as vagas de emprego abertas pela Infotec para atividades offshore e  onshore no Rio de Janeiro e Macaé. A companhia assinou contrato com a  Petrobras para...\n",
      "Startups já podem se inscrever no segundo edital do Programa Petrobras  Conexões para Inovação, realizado pela própria Petrobrás e pelo Sebrae.\n",
      "Petrobras: lucros rendem até R$31 milhões a diretores ... Ministro de Minas  e Energia volta a defender privatização da Petrobras.\n",
      "PETROBRAS ON e PETROBRAS PN recuavam 3,3% e 2,9%, respectivamente, diante  da queda do preço do contrato futuro do petróleo na véspera, que se  recuperava...\n",
      "Gasolina e etanol têm primeira queda de preço depois de três meses de altas  · Se havia dúvida de que a Petrobras (PETR4) amarrava preço do etanol nas  usinas...\n",
      "Últimas Notícias · Comitê de Elegibilidade da Petrobras se reúne na sexta  para analisar Caio Paes · Depósito pega fogo em Santa Maria; Dono diz que  incêndio foi...\n",
      "Para lucrar: 6 empresas que pagam dividendos trimestrais · Efeito Petrobras  (PETR4): Banco do Brasil (BBAS3) acumula perdas de 10% no mês; oportunidade  de...\n",
      "Gasolina e etanol têm primeira queda de preço depois de três meses de altas  · Se havia dúvida de que a Petrobras (PETR4) amarrava preço do etanol nas  usinas...\n",
      "Gasolina e etanol têm primeira queda de preço depois de três meses de altas  · Se havia dúvida de que a Petrobras (PETR4) amarrava preço do etanol nas  usinas...\n",
      "... Vale (VALE3), Taesa (TAEE11): 10 ações para lucrar com dividendos,  segundo o Inter · A alternativa ao papel da Petrobras (PETR4) que pode  disparar 183%...\n",
      "Bolsonaro diz que Petrobras “traiu o povo” e propõe criação de CPI ·  Critério para renovar concessão da Globo será “100% técnico”, diz Fábio  Faria.\n",
      "... CVC (CVCB3), Petrobras (PETR4) e outras empresas para ficar de olho  hoje · Sanepar (SAPR11) pagará R$ 154 milhões em juros sobre o capital  próprio...\n",
      "Petroleiros acionistas da Petrobras protocolam denúncia na CVM contra  nomeação de Andrade. 27/06/2022 11h45. ver mais. PUBLICIDADE.\n",
      "... PoderData: 43% dizem que governo não deve privatizar nada · PoderData:  55% são contra a privatização da Petrobras · PoderData: 27% acham que  imagem do...\n",
      "Oposição pede acesso a troca de mensagens entre Bolsonaro e ex-presidente  da Petrobras · Perícia sobre periculosidade de Adélio Bispo será feita em  julho.\n",
      "Deputado do PT pede que MP investigue Castello Branco por omissão ·  Randolfe aciona STF por suposta interferência na Petrobras · Pacheco  defende Justiça...\n",
      "Operadores logísticos criticam alta do diesel e dizem que rentabilidade da  Petrobras é exorbitante. Mais do Valor Investe.\n",
      "Leia a íntegra da entrevista de Deyvid Bacelar à RBA. Em que a pandemia  afeta a política da Petrobras? Há vários impactos, que não atingem apenas a  Petrobras.\n",
      "Comprar ou vender? Mercado vê riscos políticos que podem afetar ação da  Petrobras. Leia mais sobre: Colunistas, Commodities,...\n",
      "... Se havia dúvida de que a Petrobras (PETR4) amarrava preço do etanol nas  usinas, ... Petrobras (PETR4), dividendos e mais: Veja os destaques da  semana no...\n",
      "Para lucrar: 6 empresas que pagam dividendos trimestrais · Efeito Petrobras  (PETR4): Banco do Brasil (BBAS3) acumula perdas de 10% no mês; oportunidade  de...\n",
      "... Se havia dúvida de que a Petrobras (PETR4) amarrava preço do etanol nas  usinas, ... Petrobras (PETR4), dividendos e mais: Veja os destaques da  semana no...\n",
      "Conselheira diz que Bolsonaro trata Petrobras como 'time de futebol de  bairro' ... Conselheira diz que Bolsonaro trata Petrobras como 'time de  futebol de...\n",
      "Bolsonaro exonera Caio Andrade após secretário ser aprovado na Petrobras  ... Petrobras pagará R$ 32 bi ao governo até julho; como esse valor será  usado?\n",
      "... protocola denúncia na CVM contra eleição de Paes de Andrade na  Petrobras · Economia · Ibovespa flerta com 101 mil pontos apoiado em Vale e  Petrobras.\n",
      "A Petrobras e a Federação das Indústrias do Estado do Rio de Janeiro  (Firjan) SENAI disponibilizaram gratuitamente o protocolo de base  científica para uma...\n",
      "A Petrobras informou que o acidente foi causado por “vazamento em 1  equipamento que bombeia óleo combustível“. O fogo atingiu as estruturas de  abastecimento da...\n",
      "As exportações da Petrobras levaram a Transpetro a movimentar um volume  recorde de óleo combustível em maio, informou hoje (15) a companhia de  transporte e...\n",
      "Petrobras dá início em fase vinculante para venda de 100 por cento da sua  participação nos ativos de usinas eólicas no Rio Grande do Norte.\n",
      "Plataforma da Petrobras P-58, que atua no campo de Jubarte, no Parque das  Baleias, no Sul do Espírito Santo. Crédito: Agência Petrobras.\n",
      "Um incêndio atingiu a Refinaria Duque de Caxias (Reduc) da Petrobras, ...  Ainda segundo a Petrobrás, em nota publicada às 17h35, o acidente já foi...\n",
      "“Olho atento na carne que a carne está indo”, resume o consultor do  Notícias do Front, Rodrigo Albuquerque. Leia também: Postos Petrobras PETR4  gasolina etanol...\n",
      "... Procuradora de SP se dá aumento e receberá salário de ministro ·  Teremos nova dinâmica na Petrobras, diz Bolsonaro · Goiás reduz ICMS sobre  combustíveis...\n",
      "Se havia dúvida de que a Petrobras (PETR4) amarrava preço do etanol nas ...  Dividendos, Petrobras (PETR4), Vale (VALE3) e outros destaques em Comprar  ou...\n",
      "SÃO PAULO (Reuters) - O indicado do presidente Jair Bolsonaro ao cargo de  CEO da Petrobras (SA:PETR4), Caio Mario Paes de Andrade, disse ao Comitê  de...\n",
      "RIO - A Petrobras informou nesta terça-feira que o incêndio que aconteceu  na tarde da última segunda-feira na Refinaria Duque de Caxias (Reduc),...\n",
      "O juiz federal Luiz Antonio Bonat, da 13ª Vara Federal de Curitiba,  condenou o ex-gerente da Petrobras Celso Araripe a 15 anos de prisão por  corrupção e...\n",
      "Ministros do STF deixam rombo em Itaipu similar ao rombo da Petrobras  #boato ... APÓS A DESCOBERTA DO ROMBO DA PETROBRÁS AGORA FOI DESCOBERTO O  ROMBO EM...\n",
      "... ao diretório do PMDB em Rondônia e era oriundo do esquema montado na  diretoria de abastecimento da Petrobras, na época ocupada por Paulo Roberto  Costa.\n",
      "GAME OVER para Petrobras? Clique aqui e descubra 2 ações que 'vencem' a  estatal. Menu.\n",
      "Chaminé de produção de óleo da Petrobras · A crise que pode enfraquecer o  motor de dividendos da Petrobras – veja o que marcou a semana.\n",
      "Alceu Valença e Orquestra Ouro Preto · Nana Caymmi e Orquestra Sinfônica de  Minas Gerais · Nando Reis e Orquestra Petrobrás Sinfônica · Elza Soares e  Jazz...\n",
      "Gasolina e etanol têm primeira queda de preço depois de três meses de altas  · Se havia dúvida de que a Petrobras (PETR4) amarrava preço do etanol nas  usinas...\n",
      "Se havia dúvida de que a Petrobras (PETR4) amarrava preço do etanol nas  usinas, não há mais · Gasolina e etanol têm primeira queda de preço depois  de três...\n",
      "Para lucrar: 6 empresas que pagam dividendos trimestrais · Efeito Petrobras  (PETR4): Banco do Brasil (BBAS3) acumula perdas de 10% no mês; oportunidade  de...\n",
      "Petrobras manterá metade do pessoal administrativo em home office  permanente. A experiência se mostrou bem sucedida em termos de  produtividade e revelou...\n",
      "A Petrobras anunciou nesta quarta (17) teaser.pdf para a venda os campos de  Anambé, Arapaçu, Cidade de São Miguel dos Campos, Furado, Paru, Pilar e  São...\n",
      "O ex-gerente da Petrobras Celso Araripe foi condenado a 15 anos de prisão  por corrupção e levagem de dinheiro. A decisão foi do juiz ederal Luiz  Antonio...\n",
      "O investimento da Petrobras visa a contratação de serviços de adequação  para a ampliação da Unidade de Tratamento de Gás Monteiro Lobato.\n",
      "A venda das ações da Petrobrás na Bolsa de NY foi um crime de lesa-pátria  edit ... e também: “Qual seria o verdadeiro valor patrimonial da ação da  Petrobrás...\n",
      "Confira as vagas de emprego abertas pela Infotec para atividades offshore e  onshore no Rio de Janeiro e Macaé. A companhia assinou contrato com a  Petrobras para...\n",
      "Alexandre Brum/Petrobras. A medida estipula novas regras aos agentes  regulados pela ANP nas atividades de exploração e produção de petróleo.\n",
      "Gasolina e etanol têm primeira queda de preço depois de três meses de altas  · Se havia dúvida de que a Petrobras (PETR4) amarrava preço do etanol nas  usinas...\n",
      "... Se havia dúvida de que a Petrobras (PETR4) amarrava preço do etanol nas  usinas, não há mais · Celulose é o novo minério de ferro?\n",
      "A Petrobras vai vender sete campos de terra e águas rasas em Alagoas,  incluindo a unidade de processamento de gás natural (UPGN) de 2 milhões de  m³/dia do...\n",
      "A Polícia Federal suspeita que o esquema tinha o objetivo de manter certos  empregados públicos em funções estratégicas da Petrobras, como a Gerência  Executiva...\n",
      "A Agência Nacional do Petróleo, Gás Natural e Biocombustíveis (ANP) aprovou  a cessão de direitos de dez contratos de concessão da Petrobras (PETR4;...\n",
      "Ibovespa sobe puxado por Itaú e Petrobras; dólar sobe a R$ 5,43 após Copom  deixar aberta porta para novo corte. Mercado passa a subir apesar de  cenário mais...\n",
      "Petrobras informa neste dia, 18 de junho, que a Refinaria Alberto  Pasqualini (Refap), unidade localizada em Canoas, no Rio Grande do Sul,  bateu o recorde de...\n",
      "A Petrobras informou que a venda de uma fatia da BR Distribuidora segue em  estudo, mas que ainda não há deliberação sobre a efetiva realização da  operação,...\n",
      "José Mauro Coelho pede demissão da presidência da Petrobras. Economia Crise  Há 1 Hora. José Mauro Coelho pede demissão da presidência da Petrobras.\n",
      "Comprar ou vender? Mercado vê riscos políticos que podem afetar ação da  Petrobras. Leia mais sobre: Agronegócio, Empresas,...\n",
      "Petrobras aprova Andrade como conselheiro e CEO ... Correção: Conselho da  Petrobras aprova Paes de Andrade presidente da empresa.\n",
      "Presidente da Petrobras · Acidente de Xand Avião · Carro do ovo · iOS e  WhatsApp. Diário do Nordeste. Alexandre Mota.\n",
      "A esse valor, o litro de biodiesel nas usinas está custando quase três  vezes mais do que o diesel de petróleo vendido pelas refinarias da  Petrobras.\n",
      "Há 27 anos, a principal referência em jornalismo progressista no Brasil.  Opinião. O planejamento estratégico da Petrobras na pandemia se mostra  defasado. Se...\n",
      "De acordo com informações fornecidas pela ANP, a cessão faz parte de plano  de desinvestimentos da Petrobras. Os contratos referem-se aos polos Pampo e  Enchova,...\n",
      "A Petrobras anunciou nesta sexta (19) a retomada da estratégia de venda dos  campos dos campos de Atum, Xaréu, Curimã e Espada, todos em águas rasas na  Bacia...\n",
      "Depois da Petrobras e Caixa, o BRB. O amor entre Flamengo e estatais. O  clube mais popular do Brasil consegue, em plena crise e pandemia, contrato  de três anos...\n",
      "Passei um bom tempo ouvindo do meu pai que o rendimento do FGTS era pífio e  que era muito melhor investir em ações da Petrobras (PETR3; PETR4) e da  Vale...\n",
      "Vale (VALE3): Queda do minério de ferro torna ação menos atrativa? Dólar ·  Mercados · Dólar (USDBLR) vai ao maior nível em 4 meses contra real por  Petrobras e...\n",
      "Comprar ou vender? Mercado vê riscos políticos que podem afetar ação da  Petrobras. Leia mais sobre: Empresas, Multiplan,...\n",
      "Na última quarta-feira, o banco havia vendido ações da companhia, atingido  4,9% das ações. Veja o documento na íntegra: Leia também: Petrobras.\n",
      "Moro acha 'risível' PT culpar juiz e não o ladrão por prejuízo na Petrobras  ... Ministro Sachsida substitui presidente da Petrobras a pedido de  Bolsonaro.\n",
      "Últimas Notícias · Comitê de Elegibilidade da Petrobras se reúne na sexta  para analisar Caio Paes · Depósito pega fogo em Santa Maria; Dono diz que  incêndio foi...\n",
      "Lucro abusivo da Petrobras é de meio bilhão por dia · Diário do Poder. Novo  ministro define privatização da Petrobras como prioridade.\n",
      "Outro caso famoso é o da Petrobrás, que patrocinou o Flamengo durante 25  anos, entre 1984 e 2009. Surgiu, então, o nome da Crefisa na discussão  virtual.\n",
      "Time abandonou Caixa e Petrobras para receber nova parceria que espera  movimentar R$ 5 bilhões com instituição bancária. Flamengo lança banco  digital e...\n",
      "... e 96 mortes por covid em 24h · Ações da Petrobras voltam a subir e  Ibovespa fica estável · Petrobras teve o 2º maior lucro entre petroleiras  no mundo.\n",
      "Em MG, empate técnico na espontânea mostra diferença de 2,2% · Diário do  Poder. Bolsonaro afirma que Petrobras tem que cumprir função social.\n",
      "Os crimes cometidos por Major Curió, torturador recebido por Bolsonaro no  Planalto · Desemprego à vista: Bolsonaro dá fim ao Petrobras Cultural. Quem  Somos.\n",
      "Ibaneis: “Lucro da Petrobras deve ser usado para baixar preço dos  combustíveis” · Você Já Assistiu “La Once”? Coletivo Filhas da Mãe. Você  Já...\n",
      "... conduzido pelo Ibama, das atividades da Petrobras de produção e  escoamento de petróleo e gás natural na Bacia de Santos. Esse projeto tem  como objetivo...\n",
      "Ministro diz que governo não pode interferir nos preços da Petrobras.  Adolfo Sachsida participou de audiência na Câmara dos Deputados.\n",
      "A Petrobras garantiu, contudo, que o incêndio foi causado por um vazamento  na tubulação do bombeio de óleo combustível. Sobre a manutenção da unidade  em 2017, a...\n",
      "No dia 19 de março deste ano, a Petrobras editou uma circular no sentido de  estabelecer novas medidas em plataformas para prevenção da Covid-19  mediante a...\n",
      "Gasolina e etanol têm primeira queda de preço depois de três meses de altas  · Se havia dúvida de que a Petrobras (PETR4) amarrava preço do etanol nas  usinas...\n",
      "A alternativa ao papel da Petrobras (PETR4) que pode disparar 183% · 12  fundos imobiliários de CRIs com dividendos de até 20% para você comprar  agora,...\n",
      "trending_up Sucessão na Petrobras. trending_up InfoTrade. trending_up Renda  Extra Imobiliária. trending_up Viver de dividendos.\n",
      "Bolsonaro exonera Caio Andrade após secretário ser aprovado na Petrobras  ... Randolfe aciona STF contra Bolsonaro por supostos crimes na Petrobras.\n",
      "Como a Petrobras virou tema central das eleições. 25/06/2022 09h38 ...  Comitê da Petrobras aprova indicação de Caio Mário de Andrade a presidente.\n",
      "Valor resulta de acerto de contas entre a Petrobras e a PPSA · Publicado em  22/06/2020 - 17:45 Por Alana Gandra - Repórter da Agência Brasil - Rio de  Janeiro...\n",
      "A Açu Petróleo assinou aditivo ao contrato com a Petrobras que prevê dobrar  o volume de óleo movimentado no terminal privado do Porto do Açu pela...\n",
      "O banco J.P. Morgan revisou as estimativas para as companhias  latino-americanas de commodities e estabeleceu preços-alvos para o fim de  2021.\n",
      "Petrobras transforma redução do ICMS em lucro · Diário do Poder. Petrobras  lucrou em 3 meses o equivalente à soma de seis gigantes da bolsa.\n",
      "... assinou lei pouco conhecida que obriga algumas empresas a distribuir  lucros; saiba como receber · Petrobras (PETR4): B3 suspende negociações das  ações...\n",
      "Presidente afirma que vai propor à Câmara CPI para investigar Petrobras ·  Chamadas · Petrobras deve anunciar novos aumentos no preço de combustíveis.\n",
      "Gasolina e etanol têm primeira queda de preço depois de três meses de altas  · Se havia dúvida de que a Petrobras (PETR4) amarrava preço do etanol nas  usinas...\n",
      "Efeito Petrobras (PETR4): Banco do Brasil (BBAS3) acumula perdas de 10% no  mês; oportunidade de compra? Leia mais sobre: Brasil, Hydro Alunorte,  Indústria,...\n",
      "Desde o dia 23 de março, quando as ações da Petrobras caíram drasticamente,  elas vêm subindo pouco a pouco, assim como o preço do Petróleo Brent  Futuros. Na...\n",
      "Comprar ou vender? Mercado vê riscos políticos que podem afetar ação da  Petrobras. Leia mais sobre: Agronegócio, Boi,...\n",
      "A Petrobras possui em seu Centro de Processamento e Tratamento de  Informação (CPTI), que fica situado na cidade do Rio de Janeiro, um dos  supercomputadores...\n",
      "... de ação penal por suposto esquema de corrupção na Petrobras. Após o  voto divergente do ministro Ricardo Lewandowski, o julgamento foi suspenso.\n",
      "Petrobras escolhe nome de fora do ES para comandar unidade capixaba · Com a  saída do gerente-geral Ricardo Morais, quem assume o cargo é o engenheiro  eletrônico...\n",
      "... CVC (CVCB3), Petrobras (PETR4) e outras empresas para ficar de olho  hoje · Sanepar (SAPR11) pagará R$ 154 milhões em juros sobre o capital  próprio...\n",
      "Para lucrar: 6 empresas que pagam dividendos trimestrais · Efeito Petrobras  (PETR4): Banco do Brasil (BBAS3) acumula perdas de 10% no mês; oportunidade  de...\n",
      "PETROBRAS. Após presidente da Petrobras pedir demissão, Lira diz que não há  o que comemorar · FAZ O PIX. Quase metade dos brasileiros ainda não  configurou...\n",
      "Se havia dúvida de que a Petrobras (PETR4) amarrava preço do etanol nas ...  Dividendos, Petrobras (PETR4), Vale (VALE3) e outros destaques em Comprar  ou...\n",
      "Petrobras: \"Tinha mensagens que podiam incriminar Bolsonaro\". Política  Brasil Há 7 Horas. Petrobras: \"Tinha mensagens que podiam incriminar  Bolsonaro\"...\n",
      "O estudo foi feito entre outubro de 2019 e março de 2020 com 2.954 crianças  e adolescentes de 9 a 17 anos e seus pais ou responsáveis. Leia também:  Petrobras.\n",
      "Petrobras: \"Tinha mensagens que podiam incriminar Bolsonaro\". Política  Brasil Há 15 mins. Petrobras: \"Tinha mensagens que podiam incriminar  Bolsonaro\"...\n",
      "Entre os possíveis candidatos a compradores estão o fundo soberano dos  Emirados Árabes Unidos, Mubadala Investment Co e a gigante de refino  chinesa Sinopec.\n",
      "Trata-se da Petrobras, que decidiu pela suspensão de novos provimentos,  mesmo com candidatos aprovados em processos seletivos.\n",
      "Pelos dados da Petrobras, em 2020, a gasolina teve 19 reajustes sendo 7  aumentos e 12 reduções de preços, enquanto para o diesel foram 14, entre  eles, 3...\n",
      "Início • ANP avança plano de descomissionamento das plataformas P-15, P-12  e P-07 da Petrobras, que vão a leilão internacional mês que vem...\n",
      "Esse pagamento foi seguido de uma normalização de seu relacionamento  comercial com a Petrobras e o fim da disputa da Valaris em torno do  navio-sonda DS-5.\n",
      "Maior planta da Petrobras no Brasil, em Paulínia (SP), foi responsável por  22% de todo Bunker 2020 produzido pela companhia em maio.\n",
      "... de Abastecimento da Petrobras, na época ocupada por Paulo Roberto  Costa, e teria como contrapartida o apoio de Raupp à manutenção de Costa na  diretoria.\n",
      "Arbetman, da Ativa, também tem visão positiva para os papéis da Petrobrás.  ... A Petrobras é recomendação de compra da Ágora Investimentos, com preço  alvo...\n",
      "Petrobras. Mais do Valor Econômico ... Petrobras retoma processo de venda  das refinarias Rnest, Repar e Refap. O plano de desinvestimento em refino  da...\n",
      "Petrobras aprova Andrade como conselheiro e CEO ... Correção: Conselho da  Petrobras aprova Paes de Andrade presidente da empresa.\n",
      "A Petrobras iniciou nesta quinta-feira (25/6) a produção de petróleo e gás  natural da jazida compartilhada de Atapu, por meio da plataforma P-70,...\n",
      "Para a entidade que representa os interesses da indústria, a competição com  participação de mais empresas nesses segmentos, além da Petrobras e  subsidiárias...\n",
      "Plataforma P-76 da Petrobras no Campo de Búzios, do pré-sal da Bacia de  Santos — Foto: Divulgação/Petrobras. Em meio ao colapso da demanda por  petróleo no...\n",
      "Petrobrás. No caso da Petrobrás, após o vazamento da decisão da arbitragem  à imprensa, a xerife do mercado de capitais questionou em ofício por que a  estatal...\n",
      "A produção e venda no atacado é basicamente feita pela Petrobras  atualmente, a partir de suas refinarias e plantas de processamento de gás  (UPGNs),...\n",
      "Senadores pedem acesso a mensagens de ex-presidente da Petrobras que  poderiam ... Congresso quer esclarecer mensagens de ex-presidente da  Petrobras que...\n",
      "Comprar ou vender? Mercado vê riscos políticos que podem afetar ação da  Petrobras. Leia mais sobre: Agronegócio, Cana-...\n",
      "Petrobras aprova Andrade como conselheiro e CEO ... Correção: Conselho da  Petrobras aprova Paes de Andrade presidente da empresa. Economia 13:58...\n",
      "No mesmo ano, o bloqueio de bens de Lula e de sua falecida esposa foi  determinado pelo então juiz Sergio Moro para garantir a reparação de danos  à Petrobras...\n",
      "Gasolina e etanol têm primeira queda de preço depois de três meses de altas  · Se havia dúvida de que a Petrobras (PETR4) amarrava preço do etanol nas  usinas...\n",
      "Manaus/AM - A Petrobras anunciou nesta sexta-feira (26) a venda da  totalidade da sua participação no Polo Urucu, que compreende sete campos  terrestres...\n",
      "Infotec assinou contrato com a Petrobras para serviços na UTE no Amazonas!  Cadastre agora o seu currículo. Confira os cargos para profissionais  marítimos...\n",
      "É clara a oportunidade que surge de recuperação da produção de gás natural  dessas áreas com a saída da Petrobras de ativos localizados em terra.\n",
      "Exclusivo: ex-presidente da Petrobras diz que celular tinha mensagens que  incriminam Bolsonaro · Guilherme Amado há 23 horas...\n",
      "... CVC (CVCB3), Petrobras (PETR4) e outras empresas para ficar de olho  hoje · Sanepar (SAPR11) pagará R$ 154 milhões em juros sobre o capital  próprio...\n",
      "O futuro já começou. O que é a Web 3.0 e como ela vai impactar as nossas  Vidas! Petrobras perde R$ 27,3 bi em valor de mercado em apenas um dia...\n",
      "Se havia dúvida de que a Petrobras (PETR4) amarrava preço do etanol nas  usinas, não há mais · Gasolina e etanol têm primeira queda de preço depois  de três...\n",
      "... Se havia dúvida de que a Petrobras (PETR4) amarrava preço do etanol nas  usinas, ... Petrobras (PETR4), dividendos e mais: Veja os destaques da  semana no...\n",
      "Imposto Sobre Lucro da Petrobras é Menor do que Prevê Taxa em Vigor.  renuncia-apressa-trocas-na-petrobras-petr4. Notícias...\n",
      "Petrobras reinicia processo de venda de três refinarias · Compartilhar: ·  Share on WhatsApp · Share on Facebook · Share on Twitter · Share on  Linkedin.\n",
      "Petroleira diz que medida deve contribuir para redução do endividamento da  Petrobras. Por G1 AM. 27/06/2020 11h24 Atualizado há 2 anos...\n",
      "MANAUS – A Petrobras lançou na sexta-feira, 26, o tease para venda de  campos terrestres do Polo Urucu, localizado na Bacia de Solimões, no  Amazonas.\n",
      "A estatal Petrobrás anunciou nesta sexta (26) que vai vender todos os seus  campos de petróleo na bacia do rio Solimões, no Amazonas. São sete  concessões de...\n",
      "A diretora de refino e gás natural da Petrobras, Anelise Lara, defendeu  nessa 5ª feira (25.jun.2020) a reinjeção de gás natural em poços de  exploração do...\n",
      "Petrobras....\n",
      "... fraudes com recursos do Funcef, do Petros e da Previ, fundos de pensão  mantidos por funcionários da Caixa, Petrobras e Banco do Brasil,  respectivamente.\n",
      "O benefício na Índia aumenta de duas semanas para 26 semanas. Leia também:  Petrobras · Empresas · Comitê da Petrobras (PETR3;PETR4)...\n",
      "... Se havia dúvida de que a Petrobras (PETR4) amarrava preço do etanol nas  usinas, ... Petrobras (PETR4), dividendos e mais: Veja os destaques da  semana no...\n",
      "Conselho aprova Caio de Andrade para presidência da Petrobras ... Ibovespa  flerta com 101 mil pontos apoiado em Vale e Petrobras.\n",
      "... Tarcísio diz que mudou domicílio como segue a lei, e Moro, não ·  Petrobras retoma processos de venda de 3 refinarias · Volkswagen dá férias  coletivas a...\n",
      "MANAUS – Em reportagem sobre o anúncio da Petrobras de por à venda seus  campos de petróleo e gás terrestres no Polo Urucu, na Bacia do Solimões –  Amazonas,...\n",
      "Exclusivo: Petrobras quer vender Usina de Biodiesel de Quixadá até 2022.  Construída no segundo Governo Lula, o empreendimento consumiu R$ 76  milhões. Desativada...\n",
      "Ibovespa aprofunda queda aquém dos 99 mil pontos de olho em Petrobras e  China ... Petrobras nomeia Fernando Borges como presidente interino.  Negócios 12:06...\n",
      "Moro acha 'risível' PT culpar juiz e não o ladrão por prejuízo na Petrobras  ... Ministro Sachsida substitui presidente da Petrobras a pedido de  Bolsonaro.\n",
      "Comprar ou vender? Mercado vê riscos políticos que podem afetar ação da  Petrobras. Leia mais sobre: Colunistas, Comprar ou...\n",
      "Petrobras: \"Tinha mensagens que podiam incriminar Bolsonaro\". Política  Brasil Há 57 mins. Petrobras: \"Tinha mensagens que podiam incriminar  Bolsonaro\"...\n",
      "Petrobras aprova Andrade como conselheiro e CEO · Após caso exposto, Ana  Maria Braga oferece solidariedada a Klara Castanho · Aston Martin confia em  permanência...\n",
      "... possível vitória de Lula no 1° turno · PoderData: 43% dizem que governo  não deve privatizar nada · PoderData: 55% são contra a privatização da  Petrobras.\n",
      "Site: Ex-presidente da Petrobras diz que poderia ter incriminado Bolsonaro  ... Site: Ex-presidente da Petrobras diz que poderia ter incriminado  Bolsonaro.\n",
      "Conselho da Petrobras pode indagar sobre firma de Pires, diz especialista  ... Indicado à Petrobras, Pires não revela empresas clientes de sua  consultoria.\n",
      "A Petrobras informou em comunicado que as plataformas P-74, P-75, ... a  carga global de processamento de petróleo nas refinarias da Petrobras  voltou a...\n",
      "A Petrobras informou que sua subsidiária integral Transpetro aprovou a  criação de um Programa de Desligamento Voluntário (PDV) que prevê atingir  cerca de...\n",
      "MANAUS – Enquanto o estatuto social da Petrobras estabelece que os seus  acionistas terão direito a, no mínimo, 25% do lucro líquido ajustado da  empresa,...\n",
      "RIO - A crise global tem provocado uma reviravolta na indústria petroleira.  No Brasil, gerou uma reconfiguração nas refinarias da Petrobrás. Pela  primeira vez...\n",
      "Petrobras says it has a 25% stake in the field, while MahaEnergy Brasil  Ltda has 75%. The field produced approximately 580 barrels per day of light  oil between...\n",
      "Avançaram os processos das vendas das refinarias da Petrobras. Agora, eles  entraram no estágio de recebimento de oferta vinculantes. A Agência  Nacional do...\n",
      "Ganhou arquibancadas tubulares e patrocínios, virando Arena Petrobras, com  capacidade para 30 mil torcedores. O Botafogo começou o Campeonato  Brasileiro de 2005...\n",
      "Moro acha 'risível' PT culpar juiz e não o ladrão por prejuízo na  Petrobras. José Maria Couto Moreira. José Maria Couto Moreira...\n",
      "... Se havia dúvida de que a Petrobras (PETR4) amarrava preço do etanol nas  usinas, ... Petrobras (PETR4), dividendos e mais: Veja os destaques da  semana no...\n",
      "TIKTOK: CHINA COM ACESSO A DADOS NO EXTERIOR; DENÚNCIA: EXTRAÇÃO FORÇADA DE  ÓRGÃOS. EX-GUERRILHEIRO SOCIALISTA PETRO ELEITO NA COLÔMBIA; TROCA NO  COMANDO DA...\n",
      "RIO - Divergências entre a Petrobras e a Agência Nacional do Petróleo (ANP)  em relação às tarifas de transporte do gás natural estão dificultando o  processo...\n",
      "Audiodescrição: O presidente da Petrobras, Roberto Castello Branco, disse  hoje (30) que a estatal espera a adesão...\n",
      "A Petrobras decidiu prorrogar até 31 de dezembro deste ano o teletrabalho  (também conhecido pelo termo inglês home office), devido à pandemia do  novo...\n",
      "A Petrobras decidiu prorrogar até 31 de dezembro deste ano o teletrabalho  (também conhecido pelo termo inglês home office), devido à pandemia do  novo...\n",
      "A Petrobras comunicou ao mercado, em fato relevante divulgado nesta  segunda-feira, 29, o início da fase de divulgação da venda de seus 25% de  participação...\n",
      "A Petrobras recebeu pelo menos mais uma oferta pela refinaria Landulpho  Alves, conhecida como RLAM, com capacidade para 323 mil barris ao dia. A  Essar vai...\n",
      "PDV na subsidiária de logística da Petrobras estima adesão de 557  empregados. Por André Ramalho — Do Rio. 30/06/2020 05h00 Atualizado...\n",
      "... empresa que estreia como produtora, depois de comprar o polo Macau  (RN), junto à Petrobras, e optou por terceirizar parte da operação do ativo.\n",
      "Chaminé de produção de óleo da Petrobras · A crise que pode enfraquecer o  motor de dividendos da Petrobras – veja o que marcou a semana.\n",
      "Comprar ou vender? Mercado vê riscos políticos que podem afetar ação da  Petrobras. Leia mais sobre: Bancos, Bloomberg,...\n"
     ]
    }
   ],
   "source": [
    "for i in df['desc']:\n",
    "  print(i)\n",
    "  "
   ]
  },
  {
   "cell_type": "code",
   "execution_count": null,
   "metadata": {},
   "outputs": [],
   "source": []
  }
 ],
 "metadata": {
  "colab": {
   "authorship_tag": "ABX9TyP+S9n9dstaBnebhqHN2NWH",
   "collapsed_sections": [],
   "include_colab_link": true,
   "mount_file_id": "1BFAktUJWHtGfUchW7KjRxIy-4clhwt1e",
   "name": "GoogleNews.ipynb",
   "provenance": []
  },
  "kernelspec": {
   "display_name": "Python 3 (ipykernel)",
   "language": "python",
   "name": "python3"
  },
  "language_info": {
   "codemirror_mode": {
    "name": "ipython",
    "version": 3
   },
   "file_extension": ".py",
   "mimetype": "text/x-python",
   "name": "python",
   "nbconvert_exporter": "python",
   "pygments_lexer": "ipython3",
   "version": "3.9.12"
  }
 },
 "nbformat": 4,
 "nbformat_minor": 1
}
