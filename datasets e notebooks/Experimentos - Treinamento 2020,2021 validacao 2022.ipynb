{
 "cells": [
  {
   "cell_type": "markdown",
   "metadata": {
    "id": "view-in-github"
   },
   "source": [
    "<a href=\"https://colab.research.google.com/github/webercg/NLP---Daily-News-for-Stock-Market-Prediction/blob/main/Experimentos_%2B_EDA_(5).ipynb\" target=\"_parent\"><img src=\"https://colab.research.google.com/assets/colab-badge.svg\" alt=\"Open In Colab\"/></a>"
   ]
  },
  {
   "cell_type": "markdown",
   "metadata": {
    "id": "2aMeKxD1txAj"
   },
   "source": [
    "# 1.0 Importação de bibliotecas"
   ]
  },
  {
   "cell_type": "code",
   "execution_count": 4,
   "metadata": {
    "id": "PN29buKktxAm"
   },
   "outputs": [],
   "source": [
    "#Manipulação de dados\n",
    "import pandas as pd\n",
    "import numpy as np\n",
    "\n",
    "#Visualização de dados\n",
    "import seaborn as sns\n",
    "import matplotlib.pyplot as plt\n",
    "\n",
    "#Manipulação datas\n",
    "from datetime import datetime\n",
    "\n",
    "# Prototipação\n",
    "from lazypredict.Supervised import LazyClassifier\n",
    "\n",
    "\n",
    "#Pipeline e pré-process\n",
    "from imblearn.pipeline import Pipeline\n",
    "from sklearn.model_selection import train_test_split\n",
    "from imblearn.under_sampling import NearMiss\n",
    "from imblearn.over_sampling import SMOTE\n",
    "from sklearn.decomposition import PCA\n",
    "from sklearn.preprocessing import StandardScaler\n",
    "\n",
    "\n",
    "#Models\n",
    "from sklearn.naive_bayes import GaussianNB\n",
    "from sklearn.naive_bayes import BernoulliNB\n",
    "from sklearn.linear_model import PassiveAggressiveClassifier\n",
    "from sklearn.discriminant_analysis import QuadraticDiscriminantAnalysis\n",
    "from lightgbm import LGBMClassifier\n",
    "from sklearn.ensemble import RandomForestClassifier\n",
    "from sklearn.neighbors import NearestCentroid\n",
    "from sklearn.svm import NuSVC\n",
    "from xgboost import XGBClassifier\n",
    "from sklearn.linear_model import SGDClassifier\n",
    "from sklearn.linear_model import Perceptron\n",
    "from sklearn.tree import DecisionTreeClassifier\n",
    "from sklearn.neural_network import MLPClassifier \n",
    "from sklearn.neighbors import KNeighborsClassifier\n",
    "from sklearn.svm import SVC\n",
    "from sklearn.discriminant_analysis import LinearDiscriminantAnalysis\n",
    "from sklearn.linear_model import RidgeClassifier\n",
    "from sklearn.svm import LinearSVC\n",
    "from sklearn.linear_model import RidgeClassifierCV\n",
    "from sklearn.linear_model import LogisticRegression\n",
    "from sklearn.tree import ExtraTreeClassifier\n",
    "\n",
    "#Model Tunning\n",
    "from sklearn.model_selection import GridSearchCV\n",
    "\n",
    "#Model evaluation\n",
    "from sklearn.metrics import make_scorer\n",
    "from sklearn.metrics import f1_score\n",
    "from sklearn.metrics import accuracy_score\n",
    "from sklearn.metrics import recall_score\n",
    "from sklearn.metrics import roc_auc_score\n",
    "from sklearn.metrics import balanced_accuracy_score\n",
    "from sklearn.model_selection import cross_val_score, KFold\n",
    "from sklearn.metrics import accuracy_score, classification_report, confusion_matrix"
   ]
  },
  {
   "cell_type": "markdown",
   "metadata": {},
   "source": [
    "# 2.0 Gerando dataframes"
   ]
  },
  {
   "cell_type": "markdown",
   "metadata": {},
   "source": [
    "### Preparando dataframe e gerando features Sentilex"
   ]
  },
  {
   "cell_type": "code",
   "execution_count": 5,
   "metadata": {},
   "outputs": [],
   "source": [
    "from dateutil import parser"
   ]
  },
  {
   "cell_type": "code",
   "execution_count": 7,
   "metadata": {},
   "outputs": [
    {
     "data": {
      "text/html": [
       "<div>\n",
       "<style scoped>\n",
       "    .dataframe tbody tr th:only-of-type {\n",
       "        vertical-align: middle;\n",
       "    }\n",
       "\n",
       "    .dataframe tbody tr th {\n",
       "        vertical-align: top;\n",
       "    }\n",
       "\n",
       "    .dataframe thead th {\n",
       "        text-align: right;\n",
       "    }\n",
       "</style>\n",
       "<table border=\"1\" class=\"dataframe\">\n",
       "  <thead>\n",
       "    <tr style=\"text-align: right;\">\n",
       "      <th></th>\n",
       "      <th>Date</th>\n",
       "      <th>Adj Close</th>\n",
       "      <th>Volume</th>\n",
       "      <th>Var%</th>\n",
       "      <th>Fechamento</th>\n",
       "      <th>Noticias</th>\n",
       "      <th>score</th>\n",
       "    </tr>\n",
       "  </thead>\n",
       "  <tbody>\n",
       "    <tr>\n",
       "      <th>0</th>\n",
       "      <td>2020-01-02</td>\n",
       "      <td>20.47</td>\n",
       "      <td>37774500</td>\n",
       "      <td>0.02</td>\n",
       "      <td>1</td>\n",
       "      <td>petrobras e vale retiram seus funcionários de...</td>\n",
       "      <td>0</td>\n",
       "    </tr>\n",
       "    <tr>\n",
       "      <th>1</th>\n",
       "      <td>2020-01-03</td>\n",
       "      <td>20.30</td>\n",
       "      <td>71595600</td>\n",
       "      <td>-0.01</td>\n",
       "      <td>0</td>\n",
       "      <td>petrobras reduz preços do diesel e da gasolin...</td>\n",
       "      <td>0</td>\n",
       "    </tr>\n",
       "    <tr>\n",
       "      <th>2</th>\n",
       "      <td>2020-01-06</td>\n",
       "      <td>20.54</td>\n",
       "      <td>81844000</td>\n",
       "      <td>0.01</td>\n",
       "      <td>1</td>\n",
       "      <td>petrobras faz redução em produção de petróle...</td>\n",
       "      <td>1</td>\n",
       "    </tr>\n",
       "    <tr>\n",
       "      <th>3</th>\n",
       "      <td>2020-01-07</td>\n",
       "      <td>20.46</td>\n",
       "      <td>32822000</td>\n",
       "      <td>-0.00</td>\n",
       "      <td>0</td>\n",
       "      <td>o adeus da petrobras ao amazonas petrobras vê...</td>\n",
       "      <td>-2</td>\n",
       "    </tr>\n",
       "    <tr>\n",
       "      <th>5</th>\n",
       "      <td>2020-01-09</td>\n",
       "      <td>20.27</td>\n",
       "      <td>36102700</td>\n",
       "      <td>-0.00</td>\n",
       "      <td>0</td>\n",
       "      <td>refinarias da petrobras apresentam queda na c...</td>\n",
       "      <td>-1</td>\n",
       "    </tr>\n",
       "    <tr>\n",
       "      <th>...</th>\n",
       "      <td>...</td>\n",
       "      <td>...</td>\n",
       "      <td>...</td>\n",
       "      <td>...</td>\n",
       "      <td>...</td>\n",
       "      <td>...</td>\n",
       "      <td>...</td>\n",
       "    </tr>\n",
       "    <tr>\n",
       "      <th>614</th>\n",
       "      <td>2022-06-24</td>\n",
       "      <td>26.29</td>\n",
       "      <td>53413400</td>\n",
       "      <td>-0.01</td>\n",
       "      <td>0</td>\n",
       "      <td>comitê de elegibilidade da petrobras dá aval ...</td>\n",
       "      <td>2</td>\n",
       "    </tr>\n",
       "    <tr>\n",
       "      <th>615</th>\n",
       "      <td>2022-06-27</td>\n",
       "      <td>27.98</td>\n",
       "      <td>90417700</td>\n",
       "      <td>0.06</td>\n",
       "      <td>1</td>\n",
       "      <td>caio andrade nega recomendação do governo pa...</td>\n",
       "      <td>-1</td>\n",
       "    </tr>\n",
       "    <tr>\n",
       "      <th>616</th>\n",
       "      <td>2022-06-28</td>\n",
       "      <td>28.33</td>\n",
       "      <td>51388000</td>\n",
       "      <td>0.01</td>\n",
       "      <td>1</td>\n",
       "      <td>petrobras: novo presidente não conseguirá mud...</td>\n",
       "      <td>3</td>\n",
       "    </tr>\n",
       "    <tr>\n",
       "      <th>617</th>\n",
       "      <td>2022-06-29</td>\n",
       "      <td>28.08</td>\n",
       "      <td>52048800</td>\n",
       "      <td>-0.01</td>\n",
       "      <td>0</td>\n",
       "      <td>paes de andrade falta à primeira reunião do c...</td>\n",
       "      <td>1</td>\n",
       "    </tr>\n",
       "    <tr>\n",
       "      <th>618</th>\n",
       "      <td>2022-06-30</td>\n",
       "      <td>27.93</td>\n",
       "      <td>49910100</td>\n",
       "      <td>-0.01</td>\n",
       "      <td>0</td>\n",
       "      <td>caio paes de andrade: como um dos investidore...</td>\n",
       "      <td>1</td>\n",
       "    </tr>\n",
       "  </tbody>\n",
       "</table>\n",
       "<p>538 rows × 7 columns</p>\n",
       "</div>"
      ],
      "text/plain": [
       "          Date  Adj Close    Volume  Var%  Fechamento  \\\n",
       "0   2020-01-02      20.47  37774500  0.02           1   \n",
       "1   2020-01-03      20.30  71595600 -0.01           0   \n",
       "2   2020-01-06      20.54  81844000  0.01           1   \n",
       "3   2020-01-07      20.46  32822000 -0.00           0   \n",
       "5   2020-01-09      20.27  36102700 -0.00           0   \n",
       "..         ...        ...       ...   ...         ...   \n",
       "614 2022-06-24      26.29  53413400 -0.01           0   \n",
       "615 2022-06-27      27.98  90417700  0.06           1   \n",
       "616 2022-06-28      28.33  51388000  0.01           1   \n",
       "617 2022-06-29      28.08  52048800 -0.01           0   \n",
       "618 2022-06-30      27.93  49910100 -0.01           0   \n",
       "\n",
       "                                              Noticias  score  \n",
       "0     petrobras e vale retiram seus funcionários de...      0  \n",
       "1     petrobras reduz preços do diesel e da gasolin...      0  \n",
       "2      petrobras faz redução em produção de petróle...      1  \n",
       "3     o adeus da petrobras ao amazonas petrobras vê...     -2  \n",
       "5     refinarias da petrobras apresentam queda na c...     -1  \n",
       "..                                                 ...    ...  \n",
       "614   comitê de elegibilidade da petrobras dá aval ...      2  \n",
       "615    caio andrade nega recomendação do governo pa...     -1  \n",
       "616   petrobras: novo presidente não conseguirá mud...      3  \n",
       "617   paes de andrade falta à primeira reunião do c...      1  \n",
       "618   caio paes de andrade: como um dos investidore...      1  \n",
       "\n",
       "[538 rows x 7 columns]"
      ]
     },
     "execution_count": 7,
     "metadata": {},
     "output_type": "execute_result"
    }
   ],
   "source": [
    "dicionario_mes_2021 = {'Jan':'01', 'Fev':'02', 'Mar':'03','Abr':'04', 'Mai':'05', 'Jun':'06','Jul':'07', 'Ago':'08', 'Set':'09','Out':'10', 'Nov':'11', 'Dec':'12'}\n",
    "dicionario_mes_2020 = {'Jan':'01', 'Fev':'02', 'Mar':'03','Abr':'04', 'Mai':'05', 'Jun':'06','Jul':'07', 'Ago':'08', 'Set':'09','Out':'10', 'Nov':'11', 'Dez':'12'}\n",
    "dicionario_mes_2022 = {'Jan':'01', 'Fev':'02', 'Mar':'03','Abr':'04', 'Mai':'05', 'Jun':'06'}\n",
    "\n",
    "df = pd.DataFrame()\n",
    "\n",
    "for i in dicionario_mes_2020.keys():\n",
    "    arquivo = \"dataset-2020/\" + dicionario_mes_2020[i] + \"_GoogleNews_Petr_\" + i + \"-2020.csv\"\n",
    "    df_leitura = pd.read_csv(arquivo, sep='|')\n",
    "    df = df.append(df_leitura,ignore_index=True)\n",
    "\n",
    "for i in dicionario_mes_2021.keys():\n",
    "    arquivo = \"dataset-2021/\" + dicionario_mes_2021[i] + \"_GoogleNews_Petr_\" + i + \"_21.csv\"\n",
    "    df_leitura = pd.read_csv(arquivo, sep='|')\n",
    "    df = df.append(df_leitura,ignore_index=True)\n",
    "\n",
    "\n",
    "for i in dicionario_mes_2022.keys():\n",
    "    arquivo = \"dataset-2022/\" + dicionario_mes_2022[i] + \"_GoogleNews_Petr_\" + i + \"_22.csv\"\n",
    "    df_leitura = pd.read_csv(arquivo, sep='|')\n",
    "    df = df.append(df_leitura,ignore_index=True)\n",
    "\n",
    "#Transformando coluna data para datetime:\n",
    "df['date'] = pd.to_datetime(df['date'])\n",
    "\n",
    "## Filtrando para pegar apenas os 3 primeiros meses de 2022\n",
    "#df = df[(df['date'] <= parser.parse('2022-03-31'))]\n",
    "\n",
    "\n",
    "## Lendo pregoes\n",
    "df_petro = pd.read_csv('dataset-2021/Hist_Preço_Petr_2021_.csv', sep='|')\n",
    "df_petro_2020 = pd.read_csv('dataset-2020/Hist_Preço_Petr_2020_.csv', sep='|')\n",
    "df_petro_2022 = pd.read_csv('dataset-2022/Hist_Preço_Petr_2022_.csv', sep='|')\n",
    "df_petro = df_petro_2020.append(df_petro,ignore_index=True)\n",
    "df_petro = df_petro.append(df_petro_2022,ignore_index=True)\n",
    "\n",
    "\n",
    "\n",
    "#Transformando a coluna Date para datetime\n",
    "df_petro['Date'] = pd.to_datetime(df_petro['Date'])\n",
    "\n",
    "\n",
    "from datetime import datetime\n",
    "\n",
    "## Gerando uma lista com todos os dias:\n",
    "start_date = '01/01/2020'\n",
    "end_date = '31/12/2022'\n",
    "\n",
    "#Transformando para o padrão inglês\n",
    "start_date = datetime.strptime(start_date, '%d/%m/%Y').strftime('%m-%d-%Y')\n",
    "end_date = datetime.strptime(end_date, '%d/%m/%Y').strftime('%m-%d-%Y')\n",
    "\n",
    "#Gerando a lista com todas as datas\n",
    "todas_datas = pd.date_range(start=start_date, end=end_date, freq = '1D')\n",
    "todas_datas = [i.strftime(\"%d/%m/%Y\") for i in todas_datas ]\n",
    "\n",
    "\n",
    "##Datas\n",
    "datas = df.date.value_counts()  \n",
    "data_df = datas.reset_index()\n",
    "data_df\n",
    "data_df['index'] = pd.to_datetime(data_df['index'])\n",
    "data_df.columns = ['Datas', 'Num_Noticias']\n",
    "data_df['Mes'] = data_df['Datas'].dt.month\n",
    "\n",
    "#Gerando lista com todas as datas com noticias\n",
    "datas_com_noticias = [i.strftime(\"%d/%m/%Y\") for i in data_df['Datas'] ]\n",
    "\n",
    "#Gerando lista com todas as datas sem noticias em 2021\n",
    "datas_sem_noticias = [i for i in todas_datas if i not in datas_com_noticias]\n",
    "\n",
    "datas_com_pregao = [i.strftime(\"%d/%m/%Y\") for i in df_petro['Date'] ]\n",
    "datas_sem_pregao = [i for i in todas_datas if i not in datas_com_pregao]\n",
    "\n",
    "\n",
    "\n",
    "\n",
    "df['title'] = df['title'].apply(lambda x: x.lower())\n",
    "df['title'] = df['title'].apply(lambda x: \"\" if \"petrobras\" not in x else x)\n",
    "df = df[(df['title'] != \"\")]\n",
    "\n",
    "df_petro['Fechamento'] = df_petro['Var%'].apply(lambda x: 0 if x<0 else 1)\n",
    "\n",
    "\n",
    "\n",
    "\n",
    "lista_datas = []\n",
    "lista_news = []\n",
    "\n",
    "for i in df.date.unique():\n",
    "    news = \"\"\n",
    "    for row in df[(df['date']==i)].iterrows():\n",
    "        news = news + \" \" + row[1][0]\n",
    "    lista_news.append(news)\n",
    "    lista_datas.append(i)\n",
    "    \n",
    "    \n",
    "df_news_diaria = pd.DataFrame(list(zip(lista_datas,lista_news)),\n",
    "               columns =['Date', 'Noticias'])\n",
    "df_news_diaria.sort_values(by = 'Date', ascending = True, inplace = True)\n",
    "\n",
    "\n",
    "\n",
    "\n",
    "## Iterar sobre as datas dos pregões (iniciando pelo segundo dia do pregão de 2021 df_petro.Date.iloc[1:])\n",
    "\n",
    "## Calcular delta (diferença entre dias entre dois registros seguidos de pregões):\n",
    "import datetime\n",
    "\n",
    "df_news_sem_pregao = pd.DataFrame()\n",
    "timedelta_1dia = datetime.timedelta(days=1)\n",
    "\n",
    "lista_datas = []\n",
    "lista_noticias_sem_pregao = []\n",
    "\n",
    "for i, data in enumerate(df_petro.Date.iloc[1:]):\n",
    "    data_anterior = df_petro['Date'].iloc[i]  \n",
    "    delta = data - data_anterior\n",
    "\n",
    "    \n",
    "    # Se houver mais de 1 dia sem pregão:    \n",
    "    if delta > timedelta_1dia:\n",
    "            \n",
    "            \n",
    "        # Filtra as noticias entre as datas sem pregão:\n",
    "        df_aux = df_news_diaria[ (df_news_diaria['Date']> data_anterior) & (df_news_diaria['Date']<= data)  ]\n",
    "        \n",
    "        ## Concatena as noticias das datas sem pregão\n",
    "        news = \"\"\n",
    "        for row in df_aux.iterrows():\n",
    "            news = news + \" \" + row[1][1]\n",
    "\n",
    "\n",
    "        ## Armazena as noticias e data do ultimo pregão valido em listas\n",
    "        lista_noticias_sem_pregao.append(news)\n",
    "        lista_datas.append(data)\n",
    "        \n",
    "        #Cria um dataframe auxiliar com a data do ultimo pregão e as noticias concatenadas dos dias sem pregões:\n",
    "        df_aux2 = pd.DataFrame(list(zip(lista_datas,lista_noticias_sem_pregao)),\n",
    "               columns =['Date', 'Noticias'])\n",
    "    \n",
    "        # Gera o dataframe com as noticias sem pregões + datas do ultimo pregão valido.\n",
    "        df_news_sem_pregao = df_news_sem_pregao.append(df_aux2, ignore_index = True)\n",
    "        \n",
    "        #Resetando as listas para geração de novo DF\n",
    "        lista_noticias_sem_pregao = []\n",
    "        lista_datas = []\n",
    "        \n",
    "\n",
    "df_news_diaria_atualizada = df_news_diaria.copy()\n",
    "\n",
    "# itera sobre os dias com pregão cujo noticias de dias anteriores foram concatenadas:\n",
    "for data in df_news_sem_pregao.Date.unique():\n",
    "    \n",
    "    #Filtra pelo dia com pregão que teve noticias concatenada\n",
    "    df_noticia_dias_sem_pregao = df_news_sem_pregao[(df_news_sem_pregao['Date']==data)]\n",
    "\n",
    "\n",
    "    #Checa se há registro referente a data no df de noticias\n",
    "    df_check_noticias = df_news_diaria_atualizada[(df_news_diaria_atualizada['Date']==data)]\n",
    "    \n",
    "    # Se não houver registros referente á data então o registro deverá ser criado no df de noticias:\n",
    "    # Se houver, então o registro será atualizado no df de noticias\n",
    "    \n",
    "    if len(df_check_noticias) > 0:\n",
    "        \n",
    "        #Substitui os registros\n",
    "        df_news_diaria_atualizada = df_news_diaria_atualizada.replace ((df_news_diaria_atualizada.loc[df_news_diaria_atualizada['Date'].isin(df_noticia_dias_sem_pregao['Date'])])['Noticias'].values, df_noticia_dias_sem_pregao['Noticias'].values)\n",
    "        \n",
    "    else:\n",
    "        #Insere o novo registro\n",
    "        df_news_diaria_atualizada = df_news_diaria_atualizada.append(df_noticia_dias_sem_pregao, ignore_index = True)\n",
    "        \n",
    "\n",
    "        \n",
    "df_final = pd.merge(left = df_petro, right = df_news_diaria_atualizada, how = 'left', on = 'Date')\n",
    "\n",
    "df_final = df_final.dropna()\n",
    "df_final = df_final[(df_final['Noticias'] != \"\")]\n",
    "\n",
    "\n",
    "\n",
    "#### Gerando features Sentilex\n",
    "\n",
    "\n",
    "sentilexpt = open('Versoes dicionarios sentilex/SentiLex-lem-PT01 editado v65_1.txt','r',encoding='utf-8-sig')\n",
    "\n",
    "dic_palavra_polaridade = {}\n",
    "for i in sentilexpt.readlines():\n",
    "    pos_ponto = i.find('.')            # obtem a posiçãodo caracter ponto\n",
    "    palavra = (i[:pos_ponto])          # Pega a palavra\n",
    "    pol_pos = i.find('POL')            # obtem a posição do inicio da string POL\n",
    "    polaridade = (i[pol_pos+4:pol_pos+6]).replace(';','')         # obtem a polaridade da palavra\n",
    "    #polaridade = (i[pol_pos+4:pol_pos+7]).replace(';','')\n",
    "    dic_palavra_polaridade[palavra] = polaridade                  # atualiza o dicionario com a palavra a polaridade\n",
    "    \n",
    "\n",
    "def Score_sentimento(frase):\n",
    "    frase = frase.lower()                     # coloca toda a frase em minusculo\n",
    "    l_sentimento = []                         # cria uma lista vazia\n",
    "    for p in frase.split():\n",
    "        l_sentimento.append(int(dic_palavra_polaridade.get(p, 0)))      # para cada palavra obtem a polaridade\n",
    "        #l_sentimento.append(float(dic_palavra_polaridade.get(p, 0)))      # para cada palavra obtem a polaridade     \n",
    "    #print (l_sentimento)                                                # imprime a lista de polaridades\n",
    "    score = sum(l_sentimento)                                           # soma todos os valores da lista\n",
    "    #if score > 0:\n",
    "        #return 'Positivo, Score:{}'.format(score)                       # se maior que 0 retorna 'positivo'\n",
    "    #elif score == 0:\n",
    "        #return 'Neutro, Score:{}'.format(score)                         # se igual a 0 retorna 'neutro'\n",
    "    #else:\n",
    "        #return 'Negativo, Score:{}'.format(score)                       # se menor que 0 retorna 'negativo'\n",
    "        \n",
    "    return score\n",
    "\n",
    "df_final2 = df_final.copy()\n",
    "\n",
    "df_final2['score'] = df_final2['Noticias'].apply(lambda x: Score_sentimento(x))\n",
    "df_final2\n",
    "\n"
   ]
  },
  {
   "cell_type": "markdown",
   "metadata": {},
   "source": [
    "### Traduzindo e gerando features Finbert e Roberta"
   ]
  },
  {
   "cell_type": "code",
   "execution_count": 8,
   "metadata": {},
   "outputs": [],
   "source": [
    "### Traduzindo noticias\n",
    "from googletrans import Translator\n",
    "trans = Translator()\n",
    "def traduzir(frase):\n",
    "    frase = frase.lower()                     # coloca toda a frase em minusculo\n",
    "    frase = trans.translate(frase, dest = 'en').text\n",
    "    return frase\n",
    "\n",
    "df_final3 = df_final.copy()\n",
    "df_final3['Noticias'] = df_final3['Noticias'].apply(lambda x: traduzir(x))\n",
    "\n",
    "#### Gerando features Roberta\n",
    "from transformers import AutoTokenizer\n",
    "from transformers import AutoModelForSequenceClassification\n",
    "from scipy.special import softmax\n",
    "MODEL = f\"cardiffnlp/twitter-roberta-base-sentiment\"\n",
    "tokenizer = AutoTokenizer.from_pretrained(MODEL)\n",
    "model = AutoModelForSequenceClassification.from_pretrained(MODEL)\n",
    "\n",
    "def neu_rob(frase):\n",
    "    #trunca a frase para 514 caracteres (máximo suportado pelo modelo de Roberta)\n",
    "    frase = frase[:514]\n",
    "    \n",
    "    encoded_text = tokenizer(frase, return_tensors='pt')\n",
    "    output = model(**encoded_text)\n",
    "    scores = output[0][0].detach().numpy()\n",
    "    scores = softmax(scores)\n",
    "\n",
    "    neg_roberta = scores[0]\n",
    "   # neu_roberta = scores[1]\n",
    "   # pos_roberta = scores[2]\n",
    "    return neg_roberta\n",
    "\n",
    "df_final4 = df_final.copy()\n",
    "df_final4['Noticias'] = df_final3['Noticias']\n",
    "df_final4['neu_rob'] = df_final4['Noticias'].apply(lambda x: neu_rob(str(x)))\n",
    "\n",
    "\n",
    "#### Gerando features Finbert\n",
    "\n",
    "#pip install transformers\n",
    "\n",
    "from transformers import BertTokenizer, BertForSequenceClassification\n",
    "from transformers import pipeline\n",
    "\n",
    "finbert = BertForSequenceClassification.from_pretrained('yiyanghkust/finbert-tone',num_labels=3)\n",
    "tokenizer = BertTokenizer.from_pretrained('yiyanghkust/finbert-tone')\n",
    "nlp = pipeline(\"sentiment-analysis\", model=finbert, tokenizer=tokenizer)\n",
    "\n",
    "df_bert = df_final.copy()\n",
    "df_bert['Noticias'] = df_final3['Noticias']\n",
    "\n",
    "def sentimento_finbert_neg(string):\n",
    "    results = nlp([string])\n",
    "    dict_results = results[0]\n",
    "    sentimento = dict_results.get('label')\n",
    "    \n",
    "    if sentimento == \"Negative\":\n",
    "        score = -1*dict_results.get('score')\n",
    "    else:\n",
    "        score = 0\n",
    "        \n",
    "    return score\n",
    "\n",
    "df_bert['neg_finbert'] = df_bert['Noticias'].apply(lambda x: sentimento_finbert_neg(x))"
   ]
  },
  {
   "cell_type": "markdown",
   "metadata": {},
   "source": [
    "### Gerando features de dias anteriores"
   ]
  },
  {
   "cell_type": "code",
   "execution_count": 9,
   "metadata": {},
   "outputs": [],
   "source": [
    "# Sentilex + Vader\n",
    "df_final8 = df_final3.merge(df_final2, how = 'left', on = ['Date', 'Adj Close', 'Volume', 'Var%', 'Fechamento'])\n",
    "# + Roberta\n",
    "df_final8 = df_final8.merge(df_final4, how = 'left', on = ['Date', 'Adj Close', 'Volume', 'Var%', 'Fechamento'])\n",
    "# +Finbert\n",
    "df_final8 = df_final8.merge(df_bert, how = 'left', on = ['Date', 'Adj Close', 'Volume', 'Var%', 'Fechamento'])\n",
    "\n",
    "\n",
    "df_final99 = df_final8.copy()\n",
    "\n",
    "features = ['score', 'neu_rob','neg_finbert']\n",
    "featuresd1 = [i + \"d1\" for i in features]\n",
    "featuresd2 = [i + \"d2\" for i in features]\n",
    "featuresd3 = [i + \"d3\" for i in features]\n",
    "featuresd4 = [i + \"d4\" for i in features]\n",
    "\n",
    "#Criando as colunas de features para d-1, d-2, d-3, d-4 e inicializando com valores zeros:\n",
    "for i in features:\n",
    "    df_final99[i+\"d1\"] = 0\n",
    "    df_final99[i+\"d2\"] = 0\n",
    "    df_final99[i+\"d3\"] = 0\n",
    "    df_final99[i+\"d4\"] = 0\n",
    "\n",
    "\n",
    "import itertools\n",
    "\n",
    "#atualiza as features de d-1\n",
    "for a,b in itertools.zip_longest(features,featuresd1):\n",
    "    df_final99[b] = df_final99.shift(periods=1)[a]\n",
    "    \n",
    "#atualiza as features de d-2\n",
    "for a,b in itertools.zip_longest(features,featuresd2):\n",
    "    df_final99[b] = df_final99.shift(periods=2)[a]\n",
    "    \n",
    "#atualiza as features de d-3\n",
    "for a,b in itertools.zip_longest(features,featuresd3):\n",
    "    df_final99[b] = df_final99.shift(periods=3)[a]\n",
    "    \n",
    "#atualiza as features de d-4\n",
    "for a,b in itertools.zip_longest(features,featuresd4):\n",
    "    df_final99[b] = df_final99.shift(periods=4)[a]\n",
    "\n",
    "\n",
    "df_final99 = df_final99.dropna()"
   ]
  },
  {
   "cell_type": "markdown",
   "metadata": {},
   "source": [
    "# 3.0 Retreinando todos modelos de ML e Ensemble dos experimentos anteriores"
   ]
  },
  {
   "cell_type": "markdown",
   "metadata": {},
   "source": [
    "## Treina e avalia sobre os dados de 2022"
   ]
  },
  {
   "cell_type": "code",
   "execution_count": 119,
   "metadata": {},
   "outputs": [],
   "source": [
    "from mlxtend.classifier import EnsembleVoteClassifier"
   ]
  },
  {
   "cell_type": "markdown",
   "metadata": {},
   "source": [
    "## 3.1 Determinando frequencia de retreinamento e avaliando resultados de algorítmos ingênuos"
   ]
  },
  {
   "cell_type": "code",
   "execution_count": 170,
   "metadata": {},
   "outputs": [],
   "source": [
    "from datetime import timedelta"
   ]
  },
  {
   "cell_type": "code",
   "execution_count": 176,
   "metadata": {},
   "outputs": [
    {
     "name": "stdout",
     "output_type": "stream",
     "text": [
      "Dados de treino até 2021-12-31, com dados de teste 30 dias apos\n"
     ]
    },
    {
     "name": "stderr",
     "output_type": "stream",
     "text": [
      "100%|██████████████████████████████████████████████████████████████████████████████████| 29/29 [00:01<00:00, 24.98it/s]\n"
     ]
    },
    {
     "name": "stdout",
     "output_type": "stream",
     "text": [
      "Dados de treino até 2022-01-01, com dados de teste 30 dias apos\n"
     ]
    },
    {
     "name": "stderr",
     "output_type": "stream",
     "text": [
      "100%|██████████████████████████████████████████████████████████████████████████████████| 29/29 [00:01<00:00, 28.28it/s]\n"
     ]
    },
    {
     "name": "stdout",
     "output_type": "stream",
     "text": [
      "Dados de treino até 2022-01-02, com dados de teste 30 dias apos\n"
     ]
    },
    {
     "name": "stderr",
     "output_type": "stream",
     "text": [
      "100%|██████████████████████████████████████████████████████████████████████████████████| 29/29 [00:01<00:00, 28.20it/s]\n"
     ]
    },
    {
     "name": "stdout",
     "output_type": "stream",
     "text": [
      "Dados de treino até 2022-01-03, com dados de teste 30 dias apos\n"
     ]
    },
    {
     "name": "stderr",
     "output_type": "stream",
     "text": [
      "100%|██████████████████████████████████████████████████████████████████████████████████| 29/29 [00:01<00:00, 28.94it/s]\n"
     ]
    },
    {
     "name": "stdout",
     "output_type": "stream",
     "text": [
      "Dados de treino até 2022-01-04, com dados de teste 30 dias apos\n"
     ]
    },
    {
     "name": "stderr",
     "output_type": "stream",
     "text": [
      "100%|██████████████████████████████████████████████████████████████████████████████████| 29/29 [00:01<00:00, 28.66it/s]\n"
     ]
    },
    {
     "name": "stdout",
     "output_type": "stream",
     "text": [
      "Dados de treino até 2022-01-05, com dados de teste 30 dias apos\n"
     ]
    },
    {
     "name": "stderr",
     "output_type": "stream",
     "text": [
      "100%|██████████████████████████████████████████████████████████████████████████████████| 29/29 [00:01<00:00, 28.66it/s]\n"
     ]
    },
    {
     "name": "stdout",
     "output_type": "stream",
     "text": [
      "Dados de treino até 2022-01-06, com dados de teste 30 dias apos\n"
     ]
    },
    {
     "name": "stderr",
     "output_type": "stream",
     "text": [
      "100%|██████████████████████████████████████████████████████████████████████████████████| 29/29 [00:01<00:00, 26.99it/s]\n"
     ]
    },
    {
     "name": "stdout",
     "output_type": "stream",
     "text": [
      "Dados de treino até 2022-01-07, com dados de teste 30 dias apos\n"
     ]
    },
    {
     "name": "stderr",
     "output_type": "stream",
     "text": [
      "100%|██████████████████████████████████████████████████████████████████████████████████| 29/29 [00:01<00:00, 28.19it/s]\n"
     ]
    },
    {
     "name": "stdout",
     "output_type": "stream",
     "text": [
      "Dados de treino até 2022-01-08, com dados de teste 30 dias apos\n"
     ]
    },
    {
     "name": "stderr",
     "output_type": "stream",
     "text": [
      "100%|██████████████████████████████████████████████████████████████████████████████████| 29/29 [00:01<00:00, 28.94it/s]\n"
     ]
    },
    {
     "name": "stdout",
     "output_type": "stream",
     "text": [
      "Dados de treino até 2022-01-09, com dados de teste 30 dias apos\n"
     ]
    },
    {
     "name": "stderr",
     "output_type": "stream",
     "text": [
      "100%|██████████████████████████████████████████████████████████████████████████████████| 29/29 [00:01<00:00, 28.07it/s]\n"
     ]
    },
    {
     "name": "stdout",
     "output_type": "stream",
     "text": [
      "Dados de treino até 2022-01-10, com dados de teste 30 dias apos\n"
     ]
    },
    {
     "name": "stderr",
     "output_type": "stream",
     "text": [
      "100%|██████████████████████████████████████████████████████████████████████████████████| 29/29 [00:01<00:00, 28.71it/s]\n"
     ]
    },
    {
     "name": "stdout",
     "output_type": "stream",
     "text": [
      "Dados de treino até 2022-01-11, com dados de teste 30 dias apos\n"
     ]
    },
    {
     "name": "stderr",
     "output_type": "stream",
     "text": [
      "100%|██████████████████████████████████████████████████████████████████████████████████| 29/29 [00:01<00:00, 28.71it/s]\n"
     ]
    },
    {
     "name": "stdout",
     "output_type": "stream",
     "text": [
      "Dados de treino até 2022-01-12, com dados de teste 30 dias apos\n"
     ]
    },
    {
     "name": "stderr",
     "output_type": "stream",
     "text": [
      "100%|██████████████████████████████████████████████████████████████████████████████████| 29/29 [00:00<00:00, 29.03it/s]\n"
     ]
    },
    {
     "name": "stdout",
     "output_type": "stream",
     "text": [
      "Dados de treino até 2022-01-13, com dados de teste 30 dias apos\n"
     ]
    },
    {
     "name": "stderr",
     "output_type": "stream",
     "text": [
      "100%|██████████████████████████████████████████████████████████████████████████████████| 29/29 [00:01<00:00, 28.72it/s]\n"
     ]
    },
    {
     "name": "stdout",
     "output_type": "stream",
     "text": [
      "Dados de treino até 2022-01-14, com dados de teste 30 dias apos\n"
     ]
    },
    {
     "name": "stderr",
     "output_type": "stream",
     "text": [
      "100%|██████████████████████████████████████████████████████████████████████████████████| 29/29 [00:01<00:00, 28.74it/s]\n"
     ]
    },
    {
     "name": "stdout",
     "output_type": "stream",
     "text": [
      "Dados de treino até 2022-01-15, com dados de teste 30 dias apos\n"
     ]
    },
    {
     "name": "stderr",
     "output_type": "stream",
     "text": [
      "100%|██████████████████████████████████████████████████████████████████████████████████| 29/29 [00:01<00:00, 28.71it/s]\n"
     ]
    },
    {
     "name": "stdout",
     "output_type": "stream",
     "text": [
      "Dados de treino até 2022-01-16, com dados de teste 30 dias apos\n"
     ]
    },
    {
     "name": "stderr",
     "output_type": "stream",
     "text": [
      "100%|██████████████████████████████████████████████████████████████████████████████████| 29/29 [00:01<00:00, 28.97it/s]\n"
     ]
    },
    {
     "name": "stdout",
     "output_type": "stream",
     "text": [
      "Dados de treino até 2022-01-17, com dados de teste 30 dias apos\n"
     ]
    },
    {
     "name": "stderr",
     "output_type": "stream",
     "text": [
      "100%|██████████████████████████████████████████████████████████████████████████████████| 29/29 [00:01<00:00, 28.40it/s]\n"
     ]
    },
    {
     "name": "stdout",
     "output_type": "stream",
     "text": [
      "Dados de treino até 2022-01-18, com dados de teste 30 dias apos\n"
     ]
    },
    {
     "name": "stderr",
     "output_type": "stream",
     "text": [
      "100%|██████████████████████████████████████████████████████████████████████████████████| 29/29 [00:01<00:00, 28.49it/s]\n"
     ]
    },
    {
     "name": "stdout",
     "output_type": "stream",
     "text": [
      "Dados de treino até 2022-01-19, com dados de teste 30 dias apos\n"
     ]
    },
    {
     "name": "stderr",
     "output_type": "stream",
     "text": [
      "100%|██████████████████████████████████████████████████████████████████████████████████| 29/29 [00:01<00:00, 28.71it/s]\n"
     ]
    },
    {
     "name": "stdout",
     "output_type": "stream",
     "text": [
      "Dados de treino até 2022-01-20, com dados de teste 30 dias apos\n"
     ]
    },
    {
     "name": "stderr",
     "output_type": "stream",
     "text": [
      "100%|██████████████████████████████████████████████████████████████████████████████████| 29/29 [00:01<00:00, 28.46it/s]\n"
     ]
    },
    {
     "name": "stdout",
     "output_type": "stream",
     "text": [
      "Dados de treino até 2022-01-21, com dados de teste 30 dias apos\n"
     ]
    },
    {
     "name": "stderr",
     "output_type": "stream",
     "text": [
      "100%|██████████████████████████████████████████████████████████████████████████████████| 29/29 [00:01<00:00, 28.43it/s]\n"
     ]
    },
    {
     "name": "stdout",
     "output_type": "stream",
     "text": [
      "Dados de treino até 2022-01-22, com dados de teste 30 dias apos\n"
     ]
    },
    {
     "name": "stderr",
     "output_type": "stream",
     "text": [
      "100%|██████████████████████████████████████████████████████████████████████████████████| 29/29 [00:01<00:00, 28.63it/s]\n"
     ]
    },
    {
     "name": "stdout",
     "output_type": "stream",
     "text": [
      "Dados de treino até 2022-01-23, com dados de teste 30 dias apos\n"
     ]
    },
    {
     "name": "stderr",
     "output_type": "stream",
     "text": [
      "100%|██████████████████████████████████████████████████████████████████████████████████| 29/29 [00:01<00:00, 28.74it/s]\n"
     ]
    },
    {
     "name": "stdout",
     "output_type": "stream",
     "text": [
      "Dados de treino até 2022-01-24, com dados de teste 30 dias apos\n"
     ]
    },
    {
     "name": "stderr",
     "output_type": "stream",
     "text": [
      "100%|██████████████████████████████████████████████████████████████████████████████████| 29/29 [00:01<00:00, 28.40it/s]\n"
     ]
    },
    {
     "name": "stdout",
     "output_type": "stream",
     "text": [
      "Dados de treino até 2022-01-25, com dados de teste 30 dias apos\n"
     ]
    },
    {
     "name": "stderr",
     "output_type": "stream",
     "text": [
      "100%|██████████████████████████████████████████████████████████████████████████████████| 29/29 [00:01<00:00, 28.35it/s]\n"
     ]
    },
    {
     "name": "stdout",
     "output_type": "stream",
     "text": [
      "Dados de treino até 2022-01-26, com dados de teste 30 dias apos\n"
     ]
    },
    {
     "name": "stderr",
     "output_type": "stream",
     "text": [
      "100%|██████████████████████████████████████████████████████████████████████████████████| 29/29 [00:01<00:00, 28.47it/s]\n"
     ]
    },
    {
     "name": "stdout",
     "output_type": "stream",
     "text": [
      "Dados de treino até 2022-01-27, com dados de teste 30 dias apos\n"
     ]
    },
    {
     "name": "stderr",
     "output_type": "stream",
     "text": [
      "100%|██████████████████████████████████████████████████████████████████████████████████| 29/29 [00:01<00:00, 28.60it/s]\n"
     ]
    },
    {
     "name": "stdout",
     "output_type": "stream",
     "text": [
      "Dados de treino até 2022-01-28, com dados de teste 30 dias apos\n"
     ]
    },
    {
     "name": "stderr",
     "output_type": "stream",
     "text": [
      "100%|██████████████████████████████████████████████████████████████████████████████████| 29/29 [00:01<00:00, 28.27it/s]\n"
     ]
    },
    {
     "name": "stdout",
     "output_type": "stream",
     "text": [
      "Dados de treino até 2022-01-29, com dados de teste 30 dias apos\n"
     ]
    },
    {
     "name": "stderr",
     "output_type": "stream",
     "text": [
      "100%|██████████████████████████████████████████████████████████████████████████████████| 29/29 [00:01<00:00, 27.15it/s]\n"
     ]
    },
    {
     "name": "stdout",
     "output_type": "stream",
     "text": [
      "Dados de treino até 2022-01-30, com dados de teste 30 dias apos\n"
     ]
    },
    {
     "name": "stderr",
     "output_type": "stream",
     "text": [
      "100%|██████████████████████████████████████████████████████████████████████████████████| 29/29 [00:01<00:00, 27.69it/s]\n"
     ]
    },
    {
     "name": "stdout",
     "output_type": "stream",
     "text": [
      "Dados de treino até 2022-01-31, com dados de teste 30 dias apos\n"
     ]
    },
    {
     "name": "stderr",
     "output_type": "stream",
     "text": [
      "100%|██████████████████████████████████████████████████████████████████████████████████| 29/29 [00:01<00:00, 28.53it/s]\n"
     ]
    },
    {
     "name": "stdout",
     "output_type": "stream",
     "text": [
      "Dados de treino até 2022-02-01, com dados de teste 30 dias apos\n"
     ]
    },
    {
     "name": "stderr",
     "output_type": "stream",
     "text": [
      "100%|██████████████████████████████████████████████████████████████████████████████████| 29/29 [00:01<00:00, 28.21it/s]\n"
     ]
    },
    {
     "name": "stdout",
     "output_type": "stream",
     "text": [
      "Dados de treino até 2022-02-02, com dados de teste 30 dias apos\n"
     ]
    },
    {
     "name": "stderr",
     "output_type": "stream",
     "text": [
      "100%|██████████████████████████████████████████████████████████████████████████████████| 29/29 [00:01<00:00, 27.10it/s]\n"
     ]
    },
    {
     "name": "stdout",
     "output_type": "stream",
     "text": [
      "Dados de treino até 2022-02-03, com dados de teste 30 dias apos\n"
     ]
    },
    {
     "name": "stderr",
     "output_type": "stream",
     "text": [
      "100%|██████████████████████████████████████████████████████████████████████████████████| 29/29 [00:01<00:00, 16.86it/s]\n"
     ]
    },
    {
     "name": "stdout",
     "output_type": "stream",
     "text": [
      "Dados de treino até 2022-02-04, com dados de teste 30 dias apos\n"
     ]
    },
    {
     "name": "stderr",
     "output_type": "stream",
     "text": [
      "100%|██████████████████████████████████████████████████████████████████████████████████| 29/29 [00:01<00:00, 19.62it/s]\n"
     ]
    },
    {
     "name": "stdout",
     "output_type": "stream",
     "text": [
      "Dados de treino até 2022-02-05, com dados de teste 30 dias apos\n"
     ]
    },
    {
     "name": "stderr",
     "output_type": "stream",
     "text": [
      "100%|██████████████████████████████████████████████████████████████████████████████████| 29/29 [00:01<00:00, 24.19it/s]\n"
     ]
    },
    {
     "name": "stdout",
     "output_type": "stream",
     "text": [
      "Dados de treino até 2022-02-06, com dados de teste 30 dias apos\n"
     ]
    },
    {
     "name": "stderr",
     "output_type": "stream",
     "text": [
      "100%|██████████████████████████████████████████████████████████████████████████████████| 29/29 [00:01<00:00, 25.20it/s]\n"
     ]
    },
    {
     "name": "stdout",
     "output_type": "stream",
     "text": [
      "Dados de treino até 2022-02-07, com dados de teste 30 dias apos\n"
     ]
    },
    {
     "name": "stderr",
     "output_type": "stream",
     "text": [
      "100%|██████████████████████████████████████████████████████████████████████████████████| 29/29 [00:01<00:00, 25.17it/s]\n"
     ]
    },
    {
     "name": "stdout",
     "output_type": "stream",
     "text": [
      "Dados de treino até 2022-02-08, com dados de teste 30 dias apos\n"
     ]
    },
    {
     "name": "stderr",
     "output_type": "stream",
     "text": [
      "100%|██████████████████████████████████████████████████████████████████████████████████| 29/29 [00:01<00:00, 25.60it/s]\n"
     ]
    },
    {
     "name": "stdout",
     "output_type": "stream",
     "text": [
      "Dados de treino até 2022-02-09, com dados de teste 30 dias apos\n"
     ]
    },
    {
     "name": "stderr",
     "output_type": "stream",
     "text": [
      "100%|██████████████████████████████████████████████████████████████████████████████████| 29/29 [00:01<00:00, 25.75it/s]\n"
     ]
    },
    {
     "name": "stdout",
     "output_type": "stream",
     "text": [
      "Dados de treino até 2022-02-10, com dados de teste 30 dias apos\n"
     ]
    },
    {
     "name": "stderr",
     "output_type": "stream",
     "text": [
      "100%|██████████████████████████████████████████████████████████████████████████████████| 29/29 [00:01<00:00, 25.02it/s]\n"
     ]
    },
    {
     "name": "stdout",
     "output_type": "stream",
     "text": [
      "Dados de treino até 2022-02-11, com dados de teste 30 dias apos\n"
     ]
    },
    {
     "name": "stderr",
     "output_type": "stream",
     "text": [
      "100%|██████████████████████████████████████████████████████████████████████████████████| 29/29 [00:01<00:00, 25.60it/s]\n"
     ]
    },
    {
     "name": "stdout",
     "output_type": "stream",
     "text": [
      "Dados de treino até 2022-02-12, com dados de teste 30 dias apos\n"
     ]
    },
    {
     "name": "stderr",
     "output_type": "stream",
     "text": [
      "100%|██████████████████████████████████████████████████████████████████████████████████| 29/29 [00:01<00:00, 25.73it/s]\n"
     ]
    },
    {
     "name": "stdout",
     "output_type": "stream",
     "text": [
      "Dados de treino até 2022-02-13, com dados de teste 30 dias apos\n"
     ]
    },
    {
     "name": "stderr",
     "output_type": "stream",
     "text": [
      "100%|██████████████████████████████████████████████████████████████████████████████████| 29/29 [00:01<00:00, 25.78it/s]\n"
     ]
    },
    {
     "name": "stdout",
     "output_type": "stream",
     "text": [
      "Dados de treino até 2022-02-14, com dados de teste 30 dias apos\n"
     ]
    },
    {
     "name": "stderr",
     "output_type": "stream",
     "text": [
      "100%|██████████████████████████████████████████████████████████████████████████████████| 29/29 [00:01<00:00, 25.99it/s]\n"
     ]
    },
    {
     "name": "stdout",
     "output_type": "stream",
     "text": [
      "Dados de treino até 2022-02-15, com dados de teste 30 dias apos\n"
     ]
    },
    {
     "name": "stderr",
     "output_type": "stream",
     "text": [
      "100%|██████████████████████████████████████████████████████████████████████████████████| 29/29 [00:01<00:00, 25.31it/s]\n"
     ]
    },
    {
     "name": "stdout",
     "output_type": "stream",
     "text": [
      "Dados de treino até 2022-02-16, com dados de teste 30 dias apos\n"
     ]
    },
    {
     "name": "stderr",
     "output_type": "stream",
     "text": [
      "100%|██████████████████████████████████████████████████████████████████████████████████| 29/29 [00:01<00:00, 25.33it/s]\n"
     ]
    },
    {
     "name": "stdout",
     "output_type": "stream",
     "text": [
      "Dados de treino até 2022-02-17, com dados de teste 30 dias apos\n"
     ]
    },
    {
     "name": "stderr",
     "output_type": "stream",
     "text": [
      "100%|██████████████████████████████████████████████████████████████████████████████████| 29/29 [00:01<00:00, 26.51it/s]\n"
     ]
    },
    {
     "name": "stdout",
     "output_type": "stream",
     "text": [
      "Dados de treino até 2022-02-18, com dados de teste 30 dias apos\n"
     ]
    },
    {
     "name": "stderr",
     "output_type": "stream",
     "text": [
      "100%|██████████████████████████████████████████████████████████████████████████████████| 29/29 [00:01<00:00, 25.15it/s]\n"
     ]
    },
    {
     "name": "stdout",
     "output_type": "stream",
     "text": [
      "Dados de treino até 2022-02-19, com dados de teste 30 dias apos\n"
     ]
    },
    {
     "name": "stderr",
     "output_type": "stream",
     "text": [
      "100%|██████████████████████████████████████████████████████████████████████████████████| 29/29 [00:01<00:00, 26.34it/s]\n"
     ]
    },
    {
     "name": "stdout",
     "output_type": "stream",
     "text": [
      "Dados de treino até 2022-02-20, com dados de teste 30 dias apos\n"
     ]
    },
    {
     "name": "stderr",
     "output_type": "stream",
     "text": [
      "100%|██████████████████████████████████████████████████████████████████████████████████| 29/29 [00:01<00:00, 23.52it/s]\n"
     ]
    },
    {
     "name": "stdout",
     "output_type": "stream",
     "text": [
      "Dados de treino até 2022-02-21, com dados de teste 30 dias apos\n"
     ]
    },
    {
     "name": "stderr",
     "output_type": "stream",
     "text": [
      "100%|██████████████████████████████████████████████████████████████████████████████████| 29/29 [00:01<00:00, 27.88it/s]\n"
     ]
    },
    {
     "name": "stdout",
     "output_type": "stream",
     "text": [
      "Dados de treino até 2022-02-22, com dados de teste 30 dias apos\n"
     ]
    },
    {
     "name": "stderr",
     "output_type": "stream",
     "text": [
      "100%|██████████████████████████████████████████████████████████████████████████████████| 29/29 [00:01<00:00, 27.88it/s]\n"
     ]
    },
    {
     "name": "stdout",
     "output_type": "stream",
     "text": [
      "Dados de treino até 2022-02-23, com dados de teste 30 dias apos\n"
     ]
    },
    {
     "name": "stderr",
     "output_type": "stream",
     "text": [
      "100%|██████████████████████████████████████████████████████████████████████████████████| 29/29 [00:01<00:00, 27.90it/s]\n"
     ]
    },
    {
     "name": "stdout",
     "output_type": "stream",
     "text": [
      "Dados de treino até 2022-02-24, com dados de teste 30 dias apos\n"
     ]
    },
    {
     "name": "stderr",
     "output_type": "stream",
     "text": [
      "100%|██████████████████████████████████████████████████████████████████████████████████| 29/29 [00:01<00:00, 28.10it/s]\n"
     ]
    },
    {
     "name": "stdout",
     "output_type": "stream",
     "text": [
      "Dados de treino até 2022-02-25, com dados de teste 30 dias apos\n"
     ]
    },
    {
     "name": "stderr",
     "output_type": "stream",
     "text": [
      "100%|██████████████████████████████████████████████████████████████████████████████████| 29/29 [00:01<00:00, 28.11it/s]\n"
     ]
    },
    {
     "name": "stdout",
     "output_type": "stream",
     "text": [
      "Dados de treino até 2022-02-26, com dados de teste 30 dias apos\n"
     ]
    },
    {
     "name": "stderr",
     "output_type": "stream",
     "text": [
      "100%|██████████████████████████████████████████████████████████████████████████████████| 29/29 [00:01<00:00, 28.07it/s]\n"
     ]
    },
    {
     "name": "stdout",
     "output_type": "stream",
     "text": [
      "Dados de treino até 2022-02-27, com dados de teste 30 dias apos\n"
     ]
    },
    {
     "name": "stderr",
     "output_type": "stream",
     "text": [
      "100%|██████████████████████████████████████████████████████████████████████████████████| 29/29 [00:01<00:00, 27.75it/s]\n"
     ]
    },
    {
     "name": "stdout",
     "output_type": "stream",
     "text": [
      "Dados de treino até 2022-02-28, com dados de teste 30 dias apos\n"
     ]
    },
    {
     "name": "stderr",
     "output_type": "stream",
     "text": [
      "100%|██████████████████████████████████████████████████████████████████████████████████| 29/29 [00:01<00:00, 27.88it/s]\n"
     ]
    },
    {
     "name": "stdout",
     "output_type": "stream",
     "text": [
      "Dados de treino até 2022-03-01, com dados de teste 30 dias apos\n"
     ]
    },
    {
     "name": "stderr",
     "output_type": "stream",
     "text": [
      "100%|██████████████████████████████████████████████████████████████████████████████████| 29/29 [00:01<00:00, 24.94it/s]\n"
     ]
    },
    {
     "name": "stdout",
     "output_type": "stream",
     "text": [
      "Dados de treino até 2022-03-02, com dados de teste 30 dias apos\n"
     ]
    },
    {
     "name": "stderr",
     "output_type": "stream",
     "text": [
      "100%|██████████████████████████████████████████████████████████████████████████████████| 29/29 [00:01<00:00, 27.72it/s]\n"
     ]
    },
    {
     "name": "stdout",
     "output_type": "stream",
     "text": [
      "Dados de treino até 2022-03-03, com dados de teste 30 dias apos\n"
     ]
    },
    {
     "name": "stderr",
     "output_type": "stream",
     "text": [
      "100%|██████████████████████████████████████████████████████████████████████████████████| 29/29 [00:01<00:00, 27.26it/s]\n"
     ]
    },
    {
     "name": "stdout",
     "output_type": "stream",
     "text": [
      "Dados de treino até 2022-03-04, com dados de teste 30 dias apos\n"
     ]
    },
    {
     "name": "stderr",
     "output_type": "stream",
     "text": [
      "100%|██████████████████████████████████████████████████████████████████████████████████| 29/29 [00:01<00:00, 27.13it/s]\n"
     ]
    },
    {
     "name": "stdout",
     "output_type": "stream",
     "text": [
      "Dados de treino até 2022-03-05, com dados de teste 30 dias apos\n"
     ]
    },
    {
     "name": "stderr",
     "output_type": "stream",
     "text": [
      "100%|██████████████████████████████████████████████████████████████████████████████████| 29/29 [00:01<00:00, 27.91it/s]\n"
     ]
    },
    {
     "name": "stdout",
     "output_type": "stream",
     "text": [
      "Dados de treino até 2022-03-06, com dados de teste 30 dias apos\n"
     ]
    },
    {
     "name": "stderr",
     "output_type": "stream",
     "text": [
      "100%|██████████████████████████████████████████████████████████████████████████████████| 29/29 [00:01<00:00, 27.83it/s]\n"
     ]
    },
    {
     "name": "stdout",
     "output_type": "stream",
     "text": [
      "Dados de treino até 2022-03-07, com dados de teste 30 dias apos\n"
     ]
    },
    {
     "name": "stderr",
     "output_type": "stream",
     "text": [
      "100%|██████████████████████████████████████████████████████████████████████████████████| 29/29 [00:01<00:00, 27.99it/s]\n"
     ]
    },
    {
     "name": "stdout",
     "output_type": "stream",
     "text": [
      "Dados de treino até 2022-03-08, com dados de teste 30 dias apos\n"
     ]
    },
    {
     "name": "stderr",
     "output_type": "stream",
     "text": [
      "100%|██████████████████████████████████████████████████████████████████████████████████| 29/29 [00:01<00:00, 27.88it/s]\n"
     ]
    },
    {
     "name": "stdout",
     "output_type": "stream",
     "text": [
      "Dados de treino até 2022-03-09, com dados de teste 30 dias apos\n"
     ]
    },
    {
     "name": "stderr",
     "output_type": "stream",
     "text": [
      "100%|██████████████████████████████████████████████████████████████████████████████████| 29/29 [00:01<00:00, 28.21it/s]\n"
     ]
    },
    {
     "name": "stdout",
     "output_type": "stream",
     "text": [
      "Dados de treino até 2022-03-10, com dados de teste 30 dias apos\n"
     ]
    },
    {
     "name": "stderr",
     "output_type": "stream",
     "text": [
      "100%|██████████████████████████████████████████████████████████████████████████████████| 29/29 [00:01<00:00, 28.08it/s]\n"
     ]
    },
    {
     "name": "stdout",
     "output_type": "stream",
     "text": [
      "Dados de treino até 2022-03-11, com dados de teste 30 dias apos\n"
     ]
    },
    {
     "name": "stderr",
     "output_type": "stream",
     "text": [
      "100%|██████████████████████████████████████████████████████████████████████████████████| 29/29 [00:01<00:00, 27.87it/s]\n"
     ]
    },
    {
     "name": "stdout",
     "output_type": "stream",
     "text": [
      "Dados de treino até 2022-03-12, com dados de teste 30 dias apos\n"
     ]
    },
    {
     "name": "stderr",
     "output_type": "stream",
     "text": [
      "100%|██████████████████████████████████████████████████████████████████████████████████| 29/29 [00:01<00:00, 28.13it/s]\n"
     ]
    },
    {
     "name": "stdout",
     "output_type": "stream",
     "text": [
      "Dados de treino até 2022-03-13, com dados de teste 30 dias apos\n"
     ]
    },
    {
     "name": "stderr",
     "output_type": "stream",
     "text": [
      "100%|██████████████████████████████████████████████████████████████████████████████████| 29/29 [00:01<00:00, 27.80it/s]\n"
     ]
    },
    {
     "name": "stdout",
     "output_type": "stream",
     "text": [
      "Dados de treino até 2022-03-14, com dados de teste 30 dias apos\n"
     ]
    },
    {
     "name": "stderr",
     "output_type": "stream",
     "text": [
      "100%|██████████████████████████████████████████████████████████████████████████████████| 29/29 [00:01<00:00, 27.87it/s]\n"
     ]
    },
    {
     "name": "stdout",
     "output_type": "stream",
     "text": [
      "Dados de treino até 2022-03-15, com dados de teste 30 dias apos\n"
     ]
    },
    {
     "name": "stderr",
     "output_type": "stream",
     "text": [
      "100%|██████████████████████████████████████████████████████████████████████████████████| 29/29 [00:01<00:00, 27.80it/s]\n"
     ]
    },
    {
     "name": "stdout",
     "output_type": "stream",
     "text": [
      "Dados de treino até 2022-03-16, com dados de teste 30 dias apos\n"
     ]
    },
    {
     "name": "stderr",
     "output_type": "stream",
     "text": [
      "100%|██████████████████████████████████████████████████████████████████████████████████| 29/29 [00:01<00:00, 27.72it/s]\n"
     ]
    },
    {
     "name": "stdout",
     "output_type": "stream",
     "text": [
      "Dados de treino até 2022-03-17, com dados de teste 30 dias apos\n"
     ]
    },
    {
     "name": "stderr",
     "output_type": "stream",
     "text": [
      "100%|██████████████████████████████████████████████████████████████████████████████████| 29/29 [00:01<00:00, 27.41it/s]\n"
     ]
    },
    {
     "name": "stdout",
     "output_type": "stream",
     "text": [
      "Dados de treino até 2022-03-18, com dados de teste 30 dias apos\n"
     ]
    },
    {
     "name": "stderr",
     "output_type": "stream",
     "text": [
      "100%|██████████████████████████████████████████████████████████████████████████████████| 29/29 [00:01<00:00, 27.94it/s]\n"
     ]
    },
    {
     "name": "stdout",
     "output_type": "stream",
     "text": [
      "Dados de treino até 2022-03-19, com dados de teste 30 dias apos\n"
     ]
    },
    {
     "name": "stderr",
     "output_type": "stream",
     "text": [
      "100%|██████████████████████████████████████████████████████████████████████████████████| 29/29 [00:01<00:00, 27.67it/s]\n"
     ]
    },
    {
     "name": "stdout",
     "output_type": "stream",
     "text": [
      "Dados de treino até 2022-03-20, com dados de teste 30 dias apos\n"
     ]
    },
    {
     "name": "stderr",
     "output_type": "stream",
     "text": [
      "100%|██████████████████████████████████████████████████████████████████████████████████| 29/29 [00:01<00:00, 27.70it/s]\n"
     ]
    },
    {
     "name": "stdout",
     "output_type": "stream",
     "text": [
      "Dados de treino até 2022-03-21, com dados de teste 30 dias apos\n"
     ]
    },
    {
     "name": "stderr",
     "output_type": "stream",
     "text": [
      "100%|██████████████████████████████████████████████████████████████████████████████████| 29/29 [00:01<00:00, 27.83it/s]\n"
     ]
    },
    {
     "name": "stdout",
     "output_type": "stream",
     "text": [
      "Dados de treino até 2022-03-22, com dados de teste 30 dias apos\n"
     ]
    },
    {
     "name": "stderr",
     "output_type": "stream",
     "text": [
      "100%|██████████████████████████████████████████████████████████████████████████████████| 29/29 [00:01<00:00, 27.57it/s]\n"
     ]
    },
    {
     "name": "stdout",
     "output_type": "stream",
     "text": [
      "Dados de treino até 2022-03-23, com dados de teste 30 dias apos\n"
     ]
    },
    {
     "name": "stderr",
     "output_type": "stream",
     "text": [
      "100%|██████████████████████████████████████████████████████████████████████████████████| 29/29 [00:01<00:00, 27.42it/s]\n"
     ]
    },
    {
     "name": "stdout",
     "output_type": "stream",
     "text": [
      "Dados de treino até 2022-03-24, com dados de teste 30 dias apos\n"
     ]
    },
    {
     "name": "stderr",
     "output_type": "stream",
     "text": [
      "100%|██████████████████████████████████████████████████████████████████████████████████| 29/29 [00:01<00:00, 27.38it/s]\n"
     ]
    },
    {
     "name": "stdout",
     "output_type": "stream",
     "text": [
      "Dados de treino até 2022-03-25, com dados de teste 30 dias apos\n"
     ]
    },
    {
     "name": "stderr",
     "output_type": "stream",
     "text": [
      "100%|██████████████████████████████████████████████████████████████████████████████████| 29/29 [00:01<00:00, 27.98it/s]\n"
     ]
    },
    {
     "name": "stdout",
     "output_type": "stream",
     "text": [
      "Dados de treino até 2022-03-26, com dados de teste 30 dias apos\n"
     ]
    },
    {
     "name": "stderr",
     "output_type": "stream",
     "text": [
      "100%|██████████████████████████████████████████████████████████████████████████████████| 29/29 [00:01<00:00, 27.62it/s]\n"
     ]
    },
    {
     "name": "stdout",
     "output_type": "stream",
     "text": [
      "Dados de treino até 2022-03-27, com dados de teste 30 dias apos\n"
     ]
    },
    {
     "name": "stderr",
     "output_type": "stream",
     "text": [
      "100%|██████████████████████████████████████████████████████████████████████████████████| 29/29 [00:01<00:00, 26.93it/s]\n"
     ]
    },
    {
     "name": "stdout",
     "output_type": "stream",
     "text": [
      "Dados de treino até 2022-03-28, com dados de teste 30 dias apos\n"
     ]
    },
    {
     "name": "stderr",
     "output_type": "stream",
     "text": [
      "100%|██████████████████████████████████████████████████████████████████████████████████| 29/29 [00:01<00:00, 27.13it/s]\n"
     ]
    },
    {
     "name": "stdout",
     "output_type": "stream",
     "text": [
      "Dados de treino até 2022-03-29, com dados de teste 30 dias apos\n"
     ]
    },
    {
     "name": "stderr",
     "output_type": "stream",
     "text": [
      "100%|██████████████████████████████████████████████████████████████████████████████████| 29/29 [00:01<00:00, 23.14it/s]\n"
     ]
    },
    {
     "name": "stdout",
     "output_type": "stream",
     "text": [
      "Dados de treino até 2022-03-30, com dados de teste 30 dias apos\n"
     ]
    },
    {
     "name": "stderr",
     "output_type": "stream",
     "text": [
      "100%|██████████████████████████████████████████████████████████████████████████████████| 29/29 [00:01<00:00, 26.93it/s]\n"
     ]
    },
    {
     "name": "stdout",
     "output_type": "stream",
     "text": [
      "Dados de treino até 2022-03-31, com dados de teste 30 dias apos\n"
     ]
    },
    {
     "name": "stderr",
     "output_type": "stream",
     "text": [
      "100%|██████████████████████████████████████████████████████████████████████████████████| 29/29 [00:01<00:00, 27.33it/s]\n"
     ]
    },
    {
     "name": "stdout",
     "output_type": "stream",
     "text": [
      "Dados de treino até 2022-04-01, com dados de teste 30 dias apos\n"
     ]
    },
    {
     "name": "stderr",
     "output_type": "stream",
     "text": [
      "100%|██████████████████████████████████████████████████████████████████████████████████| 29/29 [00:01<00:00, 27.48it/s]\n"
     ]
    },
    {
     "name": "stdout",
     "output_type": "stream",
     "text": [
      "Dados de treino até 2022-04-02, com dados de teste 30 dias apos\n"
     ]
    },
    {
     "name": "stderr",
     "output_type": "stream",
     "text": [
      "100%|██████████████████████████████████████████████████████████████████████████████████| 29/29 [00:01<00:00, 27.65it/s]\n"
     ]
    },
    {
     "name": "stdout",
     "output_type": "stream",
     "text": [
      "Dados de treino até 2022-04-03, com dados de teste 30 dias apos\n"
     ]
    },
    {
     "name": "stderr",
     "output_type": "stream",
     "text": [
      "100%|██████████████████████████████████████████████████████████████████████████████████| 29/29 [00:01<00:00, 27.10it/s]\n"
     ]
    },
    {
     "name": "stdout",
     "output_type": "stream",
     "text": [
      "Dados de treino até 2022-04-04, com dados de teste 30 dias apos\n"
     ]
    },
    {
     "name": "stderr",
     "output_type": "stream",
     "text": [
      "100%|██████████████████████████████████████████████████████████████████████████████████| 29/29 [00:01<00:00, 27.28it/s]\n"
     ]
    },
    {
     "name": "stdout",
     "output_type": "stream",
     "text": [
      "Dados de treino até 2022-04-05, com dados de teste 30 dias apos\n"
     ]
    },
    {
     "name": "stderr",
     "output_type": "stream",
     "text": [
      "100%|██████████████████████████████████████████████████████████████████████████████████| 29/29 [00:01<00:00, 27.23it/s]\n"
     ]
    },
    {
     "name": "stdout",
     "output_type": "stream",
     "text": [
      "Dados de treino até 2022-04-06, com dados de teste 30 dias apos\n"
     ]
    },
    {
     "name": "stderr",
     "output_type": "stream",
     "text": [
      "100%|██████████████████████████████████████████████████████████████████████████████████| 29/29 [00:01<00:00, 27.49it/s]\n"
     ]
    },
    {
     "name": "stdout",
     "output_type": "stream",
     "text": [
      "Dados de treino até 2022-04-07, com dados de teste 30 dias apos\n"
     ]
    },
    {
     "name": "stderr",
     "output_type": "stream",
     "text": [
      "100%|██████████████████████████████████████████████████████████████████████████████████| 29/29 [00:01<00:00, 27.72it/s]\n"
     ]
    },
    {
     "name": "stdout",
     "output_type": "stream",
     "text": [
      "Dados de treino até 2022-04-08, com dados de teste 30 dias apos\n"
     ]
    },
    {
     "name": "stderr",
     "output_type": "stream",
     "text": [
      "100%|██████████████████████████████████████████████████████████████████████████████████| 29/29 [00:01<00:00, 27.20it/s]\n"
     ]
    },
    {
     "name": "stdout",
     "output_type": "stream",
     "text": [
      "Dados de treino até 2022-04-09, com dados de teste 30 dias apos\n"
     ]
    },
    {
     "name": "stderr",
     "output_type": "stream",
     "text": [
      "100%|██████████████████████████████████████████████████████████████████████████████████| 29/29 [00:01<00:00, 27.65it/s]\n"
     ]
    },
    {
     "name": "stdout",
     "output_type": "stream",
     "text": [
      "Dados de treino até 2022-04-10, com dados de teste 30 dias apos\n"
     ]
    },
    {
     "name": "stderr",
     "output_type": "stream",
     "text": [
      "100%|██████████████████████████████████████████████████████████████████████████████████| 29/29 [00:01<00:00, 27.31it/s]\n"
     ]
    },
    {
     "name": "stdout",
     "output_type": "stream",
     "text": [
      "Dados de treino até 2022-04-11, com dados de teste 30 dias apos\n"
     ]
    },
    {
     "name": "stderr",
     "output_type": "stream",
     "text": [
      "100%|██████████████████████████████████████████████████████████████████████████████████| 29/29 [00:01<00:00, 27.67it/s]\n"
     ]
    },
    {
     "name": "stdout",
     "output_type": "stream",
     "text": [
      "Dados de treino até 2022-04-12, com dados de teste 30 dias apos\n"
     ]
    },
    {
     "name": "stderr",
     "output_type": "stream",
     "text": [
      "100%|██████████████████████████████████████████████████████████████████████████████████| 29/29 [00:01<00:00, 26.75it/s]\n"
     ]
    },
    {
     "name": "stdout",
     "output_type": "stream",
     "text": [
      "Dados de treino até 2022-04-13, com dados de teste 30 dias apos\n"
     ]
    },
    {
     "name": "stderr",
     "output_type": "stream",
     "text": [
      "100%|██████████████████████████████████████████████████████████████████████████████████| 29/29 [00:01<00:00, 27.59it/s]\n"
     ]
    },
    {
     "name": "stdout",
     "output_type": "stream",
     "text": [
      "Dados de treino até 2022-04-14, com dados de teste 30 dias apos\n"
     ]
    },
    {
     "name": "stderr",
     "output_type": "stream",
     "text": [
      "100%|██████████████████████████████████████████████████████████████████████████████████| 29/29 [00:01<00:00, 27.57it/s]\n"
     ]
    },
    {
     "name": "stdout",
     "output_type": "stream",
     "text": [
      "Dados de treino até 2022-04-15, com dados de teste 30 dias apos\n"
     ]
    },
    {
     "name": "stderr",
     "output_type": "stream",
     "text": [
      "100%|██████████████████████████████████████████████████████████████████████████████████| 29/29 [00:01<00:00, 26.75it/s]\n"
     ]
    },
    {
     "name": "stdout",
     "output_type": "stream",
     "text": [
      "Dados de treino até 2022-04-16, com dados de teste 30 dias apos\n"
     ]
    },
    {
     "name": "stderr",
     "output_type": "stream",
     "text": [
      "100%|██████████████████████████████████████████████████████████████████████████████████| 29/29 [00:01<00:00, 27.15it/s]\n"
     ]
    },
    {
     "name": "stdout",
     "output_type": "stream",
     "text": [
      "Dados de treino até 2022-04-17, com dados de teste 30 dias apos\n"
     ]
    },
    {
     "name": "stderr",
     "output_type": "stream",
     "text": [
      "100%|██████████████████████████████████████████████████████████████████████████████████| 29/29 [00:01<00:00, 27.49it/s]\n"
     ]
    },
    {
     "name": "stdout",
     "output_type": "stream",
     "text": [
      "Dados de treino até 2022-04-18, com dados de teste 30 dias apos\n"
     ]
    },
    {
     "name": "stderr",
     "output_type": "stream",
     "text": [
      "100%|██████████████████████████████████████████████████████████████████████████████████| 29/29 [00:01<00:00, 27.78it/s]\n"
     ]
    },
    {
     "name": "stdout",
     "output_type": "stream",
     "text": [
      "Dados de treino até 2022-04-19, com dados de teste 30 dias apos\n"
     ]
    },
    {
     "name": "stderr",
     "output_type": "stream",
     "text": [
      "100%|██████████████████████████████████████████████████████████████████████████████████| 29/29 [00:01<00:00, 27.50it/s]\n"
     ]
    },
    {
     "name": "stdout",
     "output_type": "stream",
     "text": [
      "Dados de treino até 2022-04-20, com dados de teste 30 dias apos\n"
     ]
    },
    {
     "name": "stderr",
     "output_type": "stream",
     "text": [
      "100%|██████████████████████████████████████████████████████████████████████████████████| 29/29 [00:01<00:00, 27.41it/s]\n"
     ]
    },
    {
     "name": "stdout",
     "output_type": "stream",
     "text": [
      "Dados de treino até 2022-04-21, com dados de teste 30 dias apos\n"
     ]
    },
    {
     "name": "stderr",
     "output_type": "stream",
     "text": [
      "100%|██████████████████████████████████████████████████████████████████████████████████| 29/29 [00:01<00:00, 27.23it/s]\n"
     ]
    },
    {
     "name": "stdout",
     "output_type": "stream",
     "text": [
      "Dados de treino até 2022-04-22, com dados de teste 30 dias apos\n"
     ]
    },
    {
     "name": "stderr",
     "output_type": "stream",
     "text": [
      "100%|██████████████████████████████████████████████████████████████████████████████████| 29/29 [00:01<00:00, 27.44it/s]\n"
     ]
    },
    {
     "name": "stdout",
     "output_type": "stream",
     "text": [
      "Dados de treino até 2022-04-23, com dados de teste 30 dias apos\n"
     ]
    },
    {
     "name": "stderr",
     "output_type": "stream",
     "text": [
      "100%|██████████████████████████████████████████████████████████████████████████████████| 29/29 [00:01<00:00, 27.46it/s]\n"
     ]
    },
    {
     "name": "stdout",
     "output_type": "stream",
     "text": [
      "Dados de treino até 2022-04-24, com dados de teste 30 dias apos\n"
     ]
    },
    {
     "name": "stderr",
     "output_type": "stream",
     "text": [
      "100%|██████████████████████████████████████████████████████████████████████████████████| 29/29 [00:01<00:00, 26.44it/s]\n"
     ]
    },
    {
     "name": "stdout",
     "output_type": "stream",
     "text": [
      "Dados de treino até 2022-04-25, com dados de teste 30 dias apos\n"
     ]
    },
    {
     "name": "stderr",
     "output_type": "stream",
     "text": [
      "100%|██████████████████████████████████████████████████████████████████████████████████| 29/29 [00:01<00:00, 27.37it/s]\n"
     ]
    },
    {
     "name": "stdout",
     "output_type": "stream",
     "text": [
      "Dados de treino até 2022-04-26, com dados de teste 30 dias apos\n"
     ]
    },
    {
     "name": "stderr",
     "output_type": "stream",
     "text": [
      "100%|██████████████████████████████████████████████████████████████████████████████████| 29/29 [00:01<00:00, 27.31it/s]\n"
     ]
    },
    {
     "name": "stdout",
     "output_type": "stream",
     "text": [
      "Dados de treino até 2022-04-27, com dados de teste 30 dias apos\n"
     ]
    },
    {
     "name": "stderr",
     "output_type": "stream",
     "text": [
      "100%|██████████████████████████████████████████████████████████████████████████████████| 29/29 [00:01<00:00, 26.88it/s]\n"
     ]
    },
    {
     "name": "stdout",
     "output_type": "stream",
     "text": [
      "Dados de treino até 2022-04-28, com dados de teste 30 dias apos\n"
     ]
    },
    {
     "name": "stderr",
     "output_type": "stream",
     "text": [
      "100%|██████████████████████████████████████████████████████████████████████████████████| 29/29 [00:01<00:00, 27.33it/s]\n"
     ]
    },
    {
     "name": "stdout",
     "output_type": "stream",
     "text": [
      "Dados de treino até 2022-04-29, com dados de teste 30 dias apos\n"
     ]
    },
    {
     "name": "stderr",
     "output_type": "stream",
     "text": [
      "100%|██████████████████████████████████████████████████████████████████████████████████| 29/29 [00:01<00:00, 27.28it/s]\n"
     ]
    },
    {
     "name": "stdout",
     "output_type": "stream",
     "text": [
      "Dados de treino até 2022-04-30, com dados de teste 30 dias apos\n"
     ]
    },
    {
     "name": "stderr",
     "output_type": "stream",
     "text": [
      "100%|██████████████████████████████████████████████████████████████████████████████████| 29/29 [00:01<00:00, 26.86it/s]\n"
     ]
    },
    {
     "name": "stdout",
     "output_type": "stream",
     "text": [
      "Dados de treino até 2022-05-01, com dados de teste 30 dias apos\n"
     ]
    },
    {
     "name": "stderr",
     "output_type": "stream",
     "text": [
      "100%|██████████████████████████████████████████████████████████████████████████████████| 29/29 [00:01<00:00, 27.49it/s]\n"
     ]
    },
    {
     "name": "stdout",
     "output_type": "stream",
     "text": [
      "Dados de treino até 2022-05-02, com dados de teste 30 dias apos\n"
     ]
    },
    {
     "name": "stderr",
     "output_type": "stream",
     "text": [
      "100%|██████████████████████████████████████████████████████████████████████████████████| 29/29 [00:01<00:00, 27.26it/s]\n"
     ]
    },
    {
     "name": "stdout",
     "output_type": "stream",
     "text": [
      "Dados de treino até 2022-05-03, com dados de teste 30 dias apos\n"
     ]
    },
    {
     "name": "stderr",
     "output_type": "stream",
     "text": [
      "100%|██████████████████████████████████████████████████████████████████████████████████| 29/29 [00:01<00:00, 27.21it/s]\n"
     ]
    },
    {
     "name": "stdout",
     "output_type": "stream",
     "text": [
      "Dados de treino até 2022-05-04, com dados de teste 30 dias apos\n"
     ]
    },
    {
     "name": "stderr",
     "output_type": "stream",
     "text": [
      "100%|██████████████████████████████████████████████████████████████████████████████████| 29/29 [00:01<00:00, 27.10it/s]\n"
     ]
    },
    {
     "name": "stdout",
     "output_type": "stream",
     "text": [
      "Dados de treino até 2022-05-05, com dados de teste 30 dias apos\n"
     ]
    },
    {
     "name": "stderr",
     "output_type": "stream",
     "text": [
      "100%|██████████████████████████████████████████████████████████████████████████████████| 29/29 [00:01<00:00, 27.23it/s]\n"
     ]
    },
    {
     "name": "stdout",
     "output_type": "stream",
     "text": [
      "Dados de treino até 2022-05-06, com dados de teste 30 dias apos\n"
     ]
    },
    {
     "name": "stderr",
     "output_type": "stream",
     "text": [
      "100%|██████████████████████████████████████████████████████████████████████████████████| 29/29 [00:01<00:00, 27.15it/s]\n"
     ]
    },
    {
     "name": "stdout",
     "output_type": "stream",
     "text": [
      "Dados de treino até 2022-05-07, com dados de teste 30 dias apos\n"
     ]
    },
    {
     "name": "stderr",
     "output_type": "stream",
     "text": [
      "100%|██████████████████████████████████████████████████████████████████████████████████| 29/29 [00:01<00:00, 27.03it/s]\n"
     ]
    },
    {
     "name": "stdout",
     "output_type": "stream",
     "text": [
      "Dados de treino até 2022-05-08, com dados de teste 30 dias apos\n"
     ]
    },
    {
     "name": "stderr",
     "output_type": "stream",
     "text": [
      "100%|██████████████████████████████████████████████████████████████████████████████████| 29/29 [00:01<00:00, 27.28it/s]\n"
     ]
    },
    {
     "name": "stdout",
     "output_type": "stream",
     "text": [
      "Dados de treino até 2022-05-09, com dados de teste 30 dias apos\n"
     ]
    },
    {
     "name": "stderr",
     "output_type": "stream",
     "text": [
      "100%|██████████████████████████████████████████████████████████████████████████████████| 29/29 [00:01<00:00, 26.97it/s]\n"
     ]
    },
    {
     "name": "stdout",
     "output_type": "stream",
     "text": [
      "Dados de treino até 2022-05-10, com dados de teste 30 dias apos\n"
     ]
    },
    {
     "name": "stderr",
     "output_type": "stream",
     "text": [
      "100%|██████████████████████████████████████████████████████████████████████████████████| 29/29 [00:01<00:00, 26.94it/s]\n"
     ]
    },
    {
     "name": "stdout",
     "output_type": "stream",
     "text": [
      "Dados de treino até 2022-05-11, com dados de teste 30 dias apos\n"
     ]
    },
    {
     "name": "stderr",
     "output_type": "stream",
     "text": [
      "100%|██████████████████████████████████████████████████████████████████████████████████| 29/29 [00:01<00:00, 27.41it/s]\n"
     ]
    },
    {
     "name": "stdout",
     "output_type": "stream",
     "text": [
      "Dados de treino até 2022-05-12, com dados de teste 30 dias apos\n"
     ]
    },
    {
     "name": "stderr",
     "output_type": "stream",
     "text": [
      "100%|██████████████████████████████████████████████████████████████████████████████████| 29/29 [00:01<00:00, 27.05it/s]\n"
     ]
    },
    {
     "name": "stdout",
     "output_type": "stream",
     "text": [
      "Dados de treino até 2022-05-13, com dados de teste 30 dias apos\n"
     ]
    },
    {
     "name": "stderr",
     "output_type": "stream",
     "text": [
      "100%|██████████████████████████████████████████████████████████████████████████████████| 29/29 [00:01<00:00, 27.10it/s]\n"
     ]
    },
    {
     "name": "stdout",
     "output_type": "stream",
     "text": [
      "Dados de treino até 2022-05-14, com dados de teste 30 dias apos\n"
     ]
    },
    {
     "name": "stderr",
     "output_type": "stream",
     "text": [
      "100%|██████████████████████████████████████████████████████████████████████████████████| 29/29 [00:01<00:00, 27.23it/s]\n"
     ]
    },
    {
     "name": "stdout",
     "output_type": "stream",
     "text": [
      "Dados de treino até 2022-05-15, com dados de teste 30 dias apos\n"
     ]
    },
    {
     "name": "stderr",
     "output_type": "stream",
     "text": [
      "100%|██████████████████████████████████████████████████████████████████████████████████| 29/29 [00:01<00:00, 27.17it/s]\n"
     ]
    },
    {
     "name": "stdout",
     "output_type": "stream",
     "text": [
      "Dados de treino até 2022-05-16, com dados de teste 30 dias apos\n"
     ]
    },
    {
     "name": "stderr",
     "output_type": "stream",
     "text": [
      "100%|██████████████████████████████████████████████████████████████████████████████████| 29/29 [00:01<00:00, 26.63it/s]\n"
     ]
    },
    {
     "name": "stdout",
     "output_type": "stream",
     "text": [
      "Dados de treino até 2022-05-17, com dados de teste 30 dias apos\n"
     ]
    },
    {
     "name": "stderr",
     "output_type": "stream",
     "text": [
      "100%|██████████████████████████████████████████████████████████████████████████████████| 29/29 [00:01<00:00, 27.33it/s]\n"
     ]
    },
    {
     "name": "stdout",
     "output_type": "stream",
     "text": [
      "Dados de treino até 2022-05-18, com dados de teste 30 dias apos\n"
     ]
    },
    {
     "name": "stderr",
     "output_type": "stream",
     "text": [
      "100%|██████████████████████████████████████████████████████████████████████████████████| 29/29 [00:01<00:00, 27.00it/s]\n"
     ]
    },
    {
     "name": "stdout",
     "output_type": "stream",
     "text": [
      "Dados de treino até 2022-05-19, com dados de teste 30 dias apos\n"
     ]
    },
    {
     "name": "stderr",
     "output_type": "stream",
     "text": [
      "100%|██████████████████████████████████████████████████████████████████████████████████| 29/29 [00:01<00:00, 27.00it/s]\n"
     ]
    },
    {
     "name": "stdout",
     "output_type": "stream",
     "text": [
      "Dados de treino até 2022-05-20, com dados de teste 30 dias apos\n"
     ]
    },
    {
     "name": "stderr",
     "output_type": "stream",
     "text": [
      "100%|██████████████████████████████████████████████████████████████████████████████████| 29/29 [00:01<00:00, 26.70it/s]\n"
     ]
    },
    {
     "name": "stdout",
     "output_type": "stream",
     "text": [
      "Dados de treino até 2022-05-21, com dados de teste 30 dias apos\n"
     ]
    },
    {
     "name": "stderr",
     "output_type": "stream",
     "text": [
      "100%|██████████████████████████████████████████████████████████████████████████████████| 29/29 [00:01<00:00, 27.06it/s]\n"
     ]
    },
    {
     "name": "stdout",
     "output_type": "stream",
     "text": [
      "Dados de treino até 2022-05-22, com dados de teste 30 dias apos\n"
     ]
    },
    {
     "name": "stderr",
     "output_type": "stream",
     "text": [
      "100%|██████████████████████████████████████████████████████████████████████████████████| 29/29 [00:01<00:00, 23.00it/s]\n"
     ]
    },
    {
     "name": "stdout",
     "output_type": "stream",
     "text": [
      "Dados de treino até 2022-05-23, com dados de teste 30 dias apos\n"
     ]
    },
    {
     "name": "stderr",
     "output_type": "stream",
     "text": [
      "100%|██████████████████████████████████████████████████████████████████████████████████| 29/29 [00:01<00:00, 25.39it/s]\n"
     ]
    },
    {
     "name": "stdout",
     "output_type": "stream",
     "text": [
      "Dados de treino até 2022-05-24, com dados de teste 30 dias apos\n"
     ]
    },
    {
     "name": "stderr",
     "output_type": "stream",
     "text": [
      "100%|██████████████████████████████████████████████████████████████████████████████████| 29/29 [00:01<00:00, 27.06it/s]\n"
     ]
    },
    {
     "name": "stdout",
     "output_type": "stream",
     "text": [
      "Dados de treino até 2022-05-25, com dados de teste 30 dias apos\n"
     ]
    },
    {
     "name": "stderr",
     "output_type": "stream",
     "text": [
      "100%|██████████████████████████████████████████████████████████████████████████████████| 29/29 [00:01<00:00, 26.68it/s]\n"
     ]
    },
    {
     "name": "stdout",
     "output_type": "stream",
     "text": [
      "Dados de treino até 2022-05-26, com dados de teste 30 dias apos\n"
     ]
    },
    {
     "name": "stderr",
     "output_type": "stream",
     "text": [
      "100%|██████████████████████████████████████████████████████████████████████████████████| 29/29 [00:01<00:00, 26.83it/s]\n"
     ]
    },
    {
     "name": "stdout",
     "output_type": "stream",
     "text": [
      "Dados de treino até 2022-05-27, com dados de teste 30 dias apos\n"
     ]
    },
    {
     "name": "stderr",
     "output_type": "stream",
     "text": [
      "100%|██████████████████████████████████████████████████████████████████████████████████| 29/29 [00:01<00:00, 27.03it/s]\n"
     ]
    },
    {
     "name": "stdout",
     "output_type": "stream",
     "text": [
      "Dados de treino até 2022-05-28, com dados de teste 30 dias apos\n"
     ]
    },
    {
     "name": "stderr",
     "output_type": "stream",
     "text": [
      "100%|██████████████████████████████████████████████████████████████████████████████████| 29/29 [00:01<00:00, 26.95it/s]\n"
     ]
    },
    {
     "name": "stdout",
     "output_type": "stream",
     "text": [
      "Dados de treino até 2022-05-29, com dados de teste 30 dias apos\n"
     ]
    },
    {
     "name": "stderr",
     "output_type": "stream",
     "text": [
      "100%|██████████████████████████████████████████████████████████████████████████████████| 29/29 [00:01<00:00, 26.95it/s]\n"
     ]
    },
    {
     "name": "stdout",
     "output_type": "stream",
     "text": [
      "Dados de treino até 2022-05-30, com dados de teste 30 dias apos\n"
     ]
    },
    {
     "name": "stderr",
     "output_type": "stream",
     "text": [
      "100%|██████████████████████████████████████████████████████████████████████████████████| 29/29 [00:01<00:00, 26.95it/s]\n"
     ]
    },
    {
     "name": "stdout",
     "output_type": "stream",
     "text": [
      "Dados de treino até 2021-12-31, com dados de teste 60 dias apos\n"
     ]
    },
    {
     "name": "stderr",
     "output_type": "stream",
     "text": [
      "100%|██████████████████████████████████████████████████████████████████████████████████| 29/29 [00:01<00:00, 28.77it/s]\n"
     ]
    },
    {
     "name": "stdout",
     "output_type": "stream",
     "text": [
      "Dados de treino até 2022-01-01, com dados de teste 60 dias apos\n"
     ]
    },
    {
     "name": "stderr",
     "output_type": "stream",
     "text": [
      "100%|██████████████████████████████████████████████████████████████████████████████████| 29/29 [00:01<00:00, 28.57it/s]\n"
     ]
    },
    {
     "name": "stdout",
     "output_type": "stream",
     "text": [
      "Dados de treino até 2022-01-02, com dados de teste 60 dias apos\n"
     ]
    },
    {
     "name": "stderr",
     "output_type": "stream",
     "text": [
      "100%|██████████████████████████████████████████████████████████████████████████████████| 29/29 [00:01<00:00, 28.60it/s]\n"
     ]
    },
    {
     "name": "stdout",
     "output_type": "stream",
     "text": [
      "Dados de treino até 2022-01-03, com dados de teste 60 dias apos\n"
     ]
    },
    {
     "name": "stderr",
     "output_type": "stream",
     "text": [
      "100%|██████████████████████████████████████████████████████████████████████████████████| 29/29 [00:01<00:00, 28.72it/s]\n"
     ]
    },
    {
     "name": "stdout",
     "output_type": "stream",
     "text": [
      "Dados de treino até 2022-01-04, com dados de teste 60 dias apos\n"
     ]
    },
    {
     "name": "stderr",
     "output_type": "stream",
     "text": [
      "100%|██████████████████████████████████████████████████████████████████████████████████| 29/29 [00:01<00:00, 28.54it/s]\n"
     ]
    },
    {
     "name": "stdout",
     "output_type": "stream",
     "text": [
      "Dados de treino até 2022-01-05, com dados de teste 60 dias apos\n"
     ]
    },
    {
     "name": "stderr",
     "output_type": "stream",
     "text": [
      "100%|██████████████████████████████████████████████████████████████████████████████████| 29/29 [00:01<00:00, 28.52it/s]\n"
     ]
    },
    {
     "name": "stdout",
     "output_type": "stream",
     "text": [
      "Dados de treino até 2022-01-06, com dados de teste 60 dias apos\n"
     ]
    },
    {
     "name": "stderr",
     "output_type": "stream",
     "text": [
      "100%|██████████████████████████████████████████████████████████████████████████████████| 29/29 [00:01<00:00, 28.52it/s]\n"
     ]
    },
    {
     "name": "stdout",
     "output_type": "stream",
     "text": [
      "Dados de treino até 2022-01-07, com dados de teste 60 dias apos\n"
     ]
    },
    {
     "name": "stderr",
     "output_type": "stream",
     "text": [
      "100%|██████████████████████████████████████████████████████████████████████████████████| 29/29 [00:01<00:00, 28.63it/s]\n"
     ]
    },
    {
     "name": "stdout",
     "output_type": "stream",
     "text": [
      "Dados de treino até 2022-01-08, com dados de teste 60 dias apos\n"
     ]
    },
    {
     "name": "stderr",
     "output_type": "stream",
     "text": [
      "100%|██████████████████████████████████████████████████████████████████████████████████| 29/29 [00:01<00:00, 28.80it/s]\n"
     ]
    },
    {
     "name": "stdout",
     "output_type": "stream",
     "text": [
      "Dados de treino até 2022-01-09, com dados de teste 60 dias apos\n"
     ]
    },
    {
     "name": "stderr",
     "output_type": "stream",
     "text": [
      "100%|██████████████████████████████████████████████████████████████████████████████████| 29/29 [00:01<00:00, 28.86it/s]\n"
     ]
    },
    {
     "name": "stdout",
     "output_type": "stream",
     "text": [
      "Dados de treino até 2022-01-10, com dados de teste 60 dias apos\n"
     ]
    },
    {
     "name": "stderr",
     "output_type": "stream",
     "text": [
      "100%|██████████████████████████████████████████████████████████████████████████████████| 29/29 [00:01<00:00, 28.86it/s]\n"
     ]
    },
    {
     "name": "stdout",
     "output_type": "stream",
     "text": [
      "Dados de treino até 2022-01-11, com dados de teste 60 dias apos\n"
     ]
    },
    {
     "name": "stderr",
     "output_type": "stream",
     "text": [
      "100%|██████████████████████████████████████████████████████████████████████████████████| 29/29 [00:01<00:00, 28.46it/s]\n"
     ]
    },
    {
     "name": "stdout",
     "output_type": "stream",
     "text": [
      "Dados de treino até 2022-01-12, com dados de teste 60 dias apos\n"
     ]
    },
    {
     "name": "stderr",
     "output_type": "stream",
     "text": [
      "100%|██████████████████████████████████████████████████████████████████████████████████| 29/29 [00:01<00:00, 28.52it/s]\n"
     ]
    },
    {
     "name": "stdout",
     "output_type": "stream",
     "text": [
      "Dados de treino até 2022-01-13, com dados de teste 60 dias apos\n"
     ]
    },
    {
     "name": "stderr",
     "output_type": "stream",
     "text": [
      "100%|██████████████████████████████████████████████████████████████████████████████████| 29/29 [00:01<00:00, 28.45it/s]\n"
     ]
    },
    {
     "name": "stdout",
     "output_type": "stream",
     "text": [
      "Dados de treino até 2022-01-14, com dados de teste 60 dias apos\n"
     ]
    },
    {
     "name": "stderr",
     "output_type": "stream",
     "text": [
      "100%|██████████████████████████████████████████████████████████████████████████████████| 29/29 [00:01<00:00, 28.29it/s]\n"
     ]
    },
    {
     "name": "stdout",
     "output_type": "stream",
     "text": [
      "Dados de treino até 2022-01-15, com dados de teste 60 dias apos\n"
     ]
    },
    {
     "name": "stderr",
     "output_type": "stream",
     "text": [
      "100%|██████████████████████████████████████████████████████████████████████████████████| 29/29 [00:01<00:00, 28.86it/s]\n"
     ]
    },
    {
     "name": "stdout",
     "output_type": "stream",
     "text": [
      "Dados de treino até 2022-01-16, com dados de teste 60 dias apos\n"
     ]
    },
    {
     "name": "stderr",
     "output_type": "stream",
     "text": [
      "100%|██████████████████████████████████████████████████████████████████████████████████| 29/29 [00:01<00:00, 28.63it/s]\n"
     ]
    },
    {
     "name": "stdout",
     "output_type": "stream",
     "text": [
      "Dados de treino até 2022-01-17, com dados de teste 60 dias apos\n"
     ]
    },
    {
     "name": "stderr",
     "output_type": "stream",
     "text": [
      "100%|██████████████████████████████████████████████████████████████████████████████████| 29/29 [00:01<00:00, 28.48it/s]\n"
     ]
    },
    {
     "name": "stdout",
     "output_type": "stream",
     "text": [
      "Dados de treino até 2022-01-18, com dados de teste 60 dias apos\n"
     ]
    },
    {
     "name": "stderr",
     "output_type": "stream",
     "text": [
      "100%|██████████████████████████████████████████████████████████████████████████████████| 29/29 [00:01<00:00, 25.55it/s]\n"
     ]
    },
    {
     "name": "stdout",
     "output_type": "stream",
     "text": [
      "Dados de treino até 2022-01-19, com dados de teste 60 dias apos\n"
     ]
    },
    {
     "name": "stderr",
     "output_type": "stream",
     "text": [
      "100%|██████████████████████████████████████████████████████████████████████████████████| 29/29 [00:01<00:00, 28.32it/s]\n"
     ]
    },
    {
     "name": "stdout",
     "output_type": "stream",
     "text": [
      "Dados de treino até 2022-01-20, com dados de teste 60 dias apos\n"
     ]
    },
    {
     "name": "stderr",
     "output_type": "stream",
     "text": [
      "100%|██████████████████████████████████████████████████████████████████████████████████| 29/29 [00:01<00:00, 28.02it/s]\n"
     ]
    },
    {
     "name": "stdout",
     "output_type": "stream",
     "text": [
      "Dados de treino até 2022-01-21, com dados de teste 60 dias apos\n"
     ]
    },
    {
     "name": "stderr",
     "output_type": "stream",
     "text": [
      "100%|██████████████████████████████████████████████████████████████████████████████████| 29/29 [00:01<00:00, 28.56it/s]\n"
     ]
    },
    {
     "name": "stdout",
     "output_type": "stream",
     "text": [
      "Dados de treino até 2022-01-22, com dados de teste 60 dias apos\n"
     ]
    },
    {
     "name": "stderr",
     "output_type": "stream",
     "text": [
      "100%|██████████████████████████████████████████████████████████████████████████████████| 29/29 [00:01<00:00, 28.24it/s]\n"
     ]
    },
    {
     "name": "stdout",
     "output_type": "stream",
     "text": [
      "Dados de treino até 2022-01-23, com dados de teste 60 dias apos\n"
     ]
    },
    {
     "name": "stderr",
     "output_type": "stream",
     "text": [
      "100%|██████████████████████████████████████████████████████████████████████████████████| 29/29 [00:01<00:00, 28.49it/s]\n"
     ]
    },
    {
     "name": "stdout",
     "output_type": "stream",
     "text": [
      "Dados de treino até 2022-01-24, com dados de teste 60 dias apos\n"
     ]
    },
    {
     "name": "stderr",
     "output_type": "stream",
     "text": [
      "100%|██████████████████████████████████████████████████████████████████████████████████| 29/29 [00:01<00:00, 27.97it/s]\n"
     ]
    },
    {
     "name": "stdout",
     "output_type": "stream",
     "text": [
      "Dados de treino até 2022-01-25, com dados de teste 60 dias apos\n"
     ]
    },
    {
     "name": "stderr",
     "output_type": "stream",
     "text": [
      "100%|██████████████████████████████████████████████████████████████████████████████████| 29/29 [00:01<00:00, 28.35it/s]\n"
     ]
    },
    {
     "name": "stdout",
     "output_type": "stream",
     "text": [
      "Dados de treino até 2022-01-26, com dados de teste 60 dias apos\n"
     ]
    },
    {
     "name": "stderr",
     "output_type": "stream",
     "text": [
      "100%|██████████████████████████████████████████████████████████████████████████████████| 29/29 [00:01<00:00, 28.38it/s]\n"
     ]
    },
    {
     "name": "stdout",
     "output_type": "stream",
     "text": [
      "Dados de treino até 2022-01-27, com dados de teste 60 dias apos\n"
     ]
    },
    {
     "name": "stderr",
     "output_type": "stream",
     "text": [
      "100%|██████████████████████████████████████████████████████████████████████████████████| 29/29 [00:01<00:00, 28.40it/s]\n"
     ]
    },
    {
     "name": "stdout",
     "output_type": "stream",
     "text": [
      "Dados de treino até 2022-01-28, com dados de teste 60 dias apos\n"
     ]
    },
    {
     "name": "stderr",
     "output_type": "stream",
     "text": [
      "100%|██████████████████████████████████████████████████████████████████████████████████| 29/29 [00:01<00:00, 28.18it/s]\n"
     ]
    },
    {
     "name": "stdout",
     "output_type": "stream",
     "text": [
      "Dados de treino até 2022-01-29, com dados de teste 60 dias apos\n"
     ]
    },
    {
     "name": "stderr",
     "output_type": "stream",
     "text": [
      "100%|██████████████████████████████████████████████████████████████████████████████████| 29/29 [00:01<00:00, 28.24it/s]\n"
     ]
    },
    {
     "name": "stdout",
     "output_type": "stream",
     "text": [
      "Dados de treino até 2022-01-30, com dados de teste 60 dias apos\n"
     ]
    },
    {
     "name": "stderr",
     "output_type": "stream",
     "text": [
      "100%|██████████████████████████████████████████████████████████████████████████████████| 29/29 [00:01<00:00, 27.86it/s]\n"
     ]
    },
    {
     "name": "stdout",
     "output_type": "stream",
     "text": [
      "Dados de treino até 2022-01-31, com dados de teste 60 dias apos\n"
     ]
    },
    {
     "name": "stderr",
     "output_type": "stream",
     "text": [
      "100%|██████████████████████████████████████████████████████████████████████████████████| 29/29 [00:01<00:00, 28.35it/s]\n"
     ]
    },
    {
     "name": "stdout",
     "output_type": "stream",
     "text": [
      "Dados de treino até 2022-02-01, com dados de teste 60 dias apos\n"
     ]
    },
    {
     "name": "stderr",
     "output_type": "stream",
     "text": [
      "100%|██████████████████████████████████████████████████████████████████████████████████| 29/29 [00:01<00:00, 28.60it/s]\n"
     ]
    },
    {
     "name": "stdout",
     "output_type": "stream",
     "text": [
      "Dados de treino até 2022-02-02, com dados de teste 60 dias apos\n"
     ]
    },
    {
     "name": "stderr",
     "output_type": "stream",
     "text": [
      "100%|██████████████████████████████████████████████████████████████████████████████████| 29/29 [00:01<00:00, 28.27it/s]\n"
     ]
    },
    {
     "name": "stdout",
     "output_type": "stream",
     "text": [
      "Dados de treino até 2022-02-03, com dados de teste 60 dias apos\n"
     ]
    },
    {
     "name": "stderr",
     "output_type": "stream",
     "text": [
      "100%|██████████████████████████████████████████████████████████████████████████████████| 29/29 [00:01<00:00, 28.26it/s]\n"
     ]
    },
    {
     "name": "stdout",
     "output_type": "stream",
     "text": [
      "Dados de treino até 2022-02-04, com dados de teste 60 dias apos\n"
     ]
    },
    {
     "name": "stderr",
     "output_type": "stream",
     "text": [
      "100%|██████████████████████████████████████████████████████████████████████████████████| 29/29 [00:01<00:00, 28.02it/s]\n"
     ]
    },
    {
     "name": "stdout",
     "output_type": "stream",
     "text": [
      "Dados de treino até 2022-02-05, com dados de teste 60 dias apos\n"
     ]
    },
    {
     "name": "stderr",
     "output_type": "stream",
     "text": [
      "100%|██████████████████████████████████████████████████████████████████████████████████| 29/29 [00:01<00:00, 28.37it/s]\n"
     ]
    },
    {
     "name": "stdout",
     "output_type": "stream",
     "text": [
      "Dados de treino até 2022-02-06, com dados de teste 60 dias apos\n"
     ]
    },
    {
     "name": "stderr",
     "output_type": "stream",
     "text": [
      "100%|██████████████████████████████████████████████████████████████████████████████████| 29/29 [00:01<00:00, 28.43it/s]\n"
     ]
    },
    {
     "name": "stdout",
     "output_type": "stream",
     "text": [
      "Dados de treino até 2022-02-07, com dados de teste 60 dias apos\n"
     ]
    },
    {
     "name": "stderr",
     "output_type": "stream",
     "text": [
      "100%|██████████████████████████████████████████████████████████████████████████████████| 29/29 [00:01<00:00, 28.27it/s]\n"
     ]
    },
    {
     "name": "stdout",
     "output_type": "stream",
     "text": [
      "Dados de treino até 2022-02-08, com dados de teste 60 dias apos\n"
     ]
    },
    {
     "name": "stderr",
     "output_type": "stream",
     "text": [
      "100%|██████████████████████████████████████████████████████████████████████████████████| 29/29 [00:01<00:00, 28.02it/s]\n"
     ]
    },
    {
     "name": "stdout",
     "output_type": "stream",
     "text": [
      "Dados de treino até 2022-02-09, com dados de teste 60 dias apos\n"
     ]
    },
    {
     "name": "stderr",
     "output_type": "stream",
     "text": [
      "100%|██████████████████████████████████████████████████████████████████████████████████| 29/29 [00:01<00:00, 27.99it/s]\n"
     ]
    },
    {
     "name": "stdout",
     "output_type": "stream",
     "text": [
      "Dados de treino até 2022-02-10, com dados de teste 60 dias apos\n"
     ]
    },
    {
     "name": "stderr",
     "output_type": "stream",
     "text": [
      "100%|██████████████████████████████████████████████████████████████████████████████████| 29/29 [00:01<00:00, 27.78it/s]\n"
     ]
    },
    {
     "name": "stdout",
     "output_type": "stream",
     "text": [
      "Dados de treino até 2022-02-11, com dados de teste 60 dias apos\n"
     ]
    },
    {
     "name": "stderr",
     "output_type": "stream",
     "text": [
      "100%|██████████████████████████████████████████████████████████████████████████████████| 29/29 [00:01<00:00, 27.94it/s]\n"
     ]
    },
    {
     "name": "stdout",
     "output_type": "stream",
     "text": [
      "Dados de treino até 2022-02-12, com dados de teste 60 dias apos\n"
     ]
    },
    {
     "name": "stderr",
     "output_type": "stream",
     "text": [
      "100%|██████████████████████████████████████████████████████████████████████████████████| 29/29 [00:01<00:00, 28.13it/s]\n"
     ]
    },
    {
     "name": "stdout",
     "output_type": "stream",
     "text": [
      "Dados de treino até 2022-02-13, com dados de teste 60 dias apos\n"
     ]
    },
    {
     "name": "stderr",
     "output_type": "stream",
     "text": [
      "100%|██████████████████████████████████████████████████████████████████████████████████| 29/29 [00:01<00:00, 27.51it/s]\n"
     ]
    },
    {
     "name": "stdout",
     "output_type": "stream",
     "text": [
      "Dados de treino até 2022-02-14, com dados de teste 60 dias apos\n"
     ]
    },
    {
     "name": "stderr",
     "output_type": "stream",
     "text": [
      "100%|██████████████████████████████████████████████████████████████████████████████████| 29/29 [00:01<00:00, 27.23it/s]\n"
     ]
    },
    {
     "name": "stdout",
     "output_type": "stream",
     "text": [
      "Dados de treino até 2022-02-15, com dados de teste 60 dias apos\n"
     ]
    },
    {
     "name": "stderr",
     "output_type": "stream",
     "text": [
      "100%|██████████████████████████████████████████████████████████████████████████████████| 29/29 [00:01<00:00, 25.76it/s]\n"
     ]
    },
    {
     "name": "stdout",
     "output_type": "stream",
     "text": [
      "Dados de treino até 2022-02-16, com dados de teste 60 dias apos\n"
     ]
    },
    {
     "name": "stderr",
     "output_type": "stream",
     "text": [
      "100%|██████████████████████████████████████████████████████████████████████████████████| 29/29 [00:01<00:00, 25.44it/s]\n"
     ]
    },
    {
     "name": "stdout",
     "output_type": "stream",
     "text": [
      "Dados de treino até 2022-02-17, com dados de teste 60 dias apos\n"
     ]
    },
    {
     "name": "stderr",
     "output_type": "stream",
     "text": [
      "100%|██████████████████████████████████████████████████████████████████████████████████| 29/29 [00:01<00:00, 27.78it/s]\n"
     ]
    },
    {
     "name": "stdout",
     "output_type": "stream",
     "text": [
      "Dados de treino até 2022-02-18, com dados de teste 60 dias apos\n"
     ]
    },
    {
     "name": "stderr",
     "output_type": "stream",
     "text": [
      "100%|██████████████████████████████████████████████████████████████████████████████████| 29/29 [00:01<00:00, 28.28it/s]\n"
     ]
    },
    {
     "name": "stdout",
     "output_type": "stream",
     "text": [
      "Dados de treino até 2022-02-19, com dados de teste 60 dias apos\n"
     ]
    },
    {
     "name": "stderr",
     "output_type": "stream",
     "text": [
      "100%|██████████████████████████████████████████████████████████████████████████████████| 29/29 [00:01<00:00, 27.65it/s]\n"
     ]
    },
    {
     "name": "stdout",
     "output_type": "stream",
     "text": [
      "Dados de treino até 2022-02-20, com dados de teste 60 dias apos\n"
     ]
    },
    {
     "name": "stderr",
     "output_type": "stream",
     "text": [
      "100%|██████████████████████████████████████████████████████████████████████████████████| 29/29 [00:01<00:00, 27.94it/s]\n"
     ]
    },
    {
     "name": "stdout",
     "output_type": "stream",
     "text": [
      "Dados de treino até 2022-02-21, com dados de teste 60 dias apos\n"
     ]
    },
    {
     "name": "stderr",
     "output_type": "stream",
     "text": [
      "100%|██████████████████████████████████████████████████████████████████████████████████| 29/29 [00:01<00:00, 27.51it/s]\n"
     ]
    },
    {
     "name": "stdout",
     "output_type": "stream",
     "text": [
      "Dados de treino até 2022-02-22, com dados de teste 60 dias apos\n"
     ]
    },
    {
     "name": "stderr",
     "output_type": "stream",
     "text": [
      "100%|██████████████████████████████████████████████████████████████████████████████████| 29/29 [00:01<00:00, 27.70it/s]\n"
     ]
    },
    {
     "name": "stdout",
     "output_type": "stream",
     "text": [
      "Dados de treino até 2022-02-23, com dados de teste 60 dias apos\n"
     ]
    },
    {
     "name": "stderr",
     "output_type": "stream",
     "text": [
      "100%|██████████████████████████████████████████████████████████████████████████████████| 29/29 [00:01<00:00, 27.70it/s]\n"
     ]
    },
    {
     "name": "stdout",
     "output_type": "stream",
     "text": [
      "Dados de treino até 2022-02-24, com dados de teste 60 dias apos\n"
     ]
    },
    {
     "name": "stderr",
     "output_type": "stream",
     "text": [
      "100%|██████████████████████████████████████████████████████████████████████████████████| 29/29 [00:01<00:00, 27.80it/s]\n"
     ]
    },
    {
     "name": "stdout",
     "output_type": "stream",
     "text": [
      "Dados de treino até 2022-02-25, com dados de teste 60 dias apos\n"
     ]
    },
    {
     "name": "stderr",
     "output_type": "stream",
     "text": [
      "100%|██████████████████████████████████████████████████████████████████████████████████| 29/29 [00:01<00:00, 28.01it/s]\n"
     ]
    },
    {
     "name": "stdout",
     "output_type": "stream",
     "text": [
      "Dados de treino até 2022-02-26, com dados de teste 60 dias apos\n"
     ]
    },
    {
     "name": "stderr",
     "output_type": "stream",
     "text": [
      "100%|██████████████████████████████████████████████████████████████████████████████████| 29/29 [00:01<00:00, 27.94it/s]\n"
     ]
    },
    {
     "name": "stdout",
     "output_type": "stream",
     "text": [
      "Dados de treino até 2022-02-27, com dados de teste 60 dias apos\n"
     ]
    },
    {
     "name": "stderr",
     "output_type": "stream",
     "text": [
      "100%|██████████████████████████████████████████████████████████████████████████████████| 29/29 [00:01<00:00, 27.67it/s]\n"
     ]
    },
    {
     "name": "stdout",
     "output_type": "stream",
     "text": [
      "Dados de treino até 2022-02-28, com dados de teste 60 dias apos\n"
     ]
    },
    {
     "name": "stderr",
     "output_type": "stream",
     "text": [
      "100%|██████████████████████████████████████████████████████████████████████████████████| 29/29 [00:01<00:00, 27.82it/s]\n"
     ]
    },
    {
     "name": "stdout",
     "output_type": "stream",
     "text": [
      "Dados de treino até 2022-03-01, com dados de teste 60 dias apos\n"
     ]
    },
    {
     "name": "stderr",
     "output_type": "stream",
     "text": [
      "100%|██████████████████████████████████████████████████████████████████████████████████| 29/29 [00:01<00:00, 27.91it/s]\n"
     ]
    },
    {
     "name": "stdout",
     "output_type": "stream",
     "text": [
      "Dados de treino até 2022-03-02, com dados de teste 60 dias apos\n"
     ]
    },
    {
     "name": "stderr",
     "output_type": "stream",
     "text": [
      "100%|██████████████████████████████████████████████████████████████████████████████████| 29/29 [00:01<00:00, 27.70it/s]\n"
     ]
    },
    {
     "name": "stdout",
     "output_type": "stream",
     "text": [
      "Dados de treino até 2022-03-03, com dados de teste 60 dias apos\n"
     ]
    },
    {
     "name": "stderr",
     "output_type": "stream",
     "text": [
      "100%|██████████████████████████████████████████████████████████████████████████████████| 29/29 [00:01<00:00, 27.86it/s]\n"
     ]
    },
    {
     "name": "stdout",
     "output_type": "stream",
     "text": [
      "Dados de treino até 2022-03-04, com dados de teste 60 dias apos\n"
     ]
    },
    {
     "name": "stderr",
     "output_type": "stream",
     "text": [
      "100%|██████████████████████████████████████████████████████████████████████████████████| 29/29 [00:01<00:00, 27.83it/s]\n"
     ]
    },
    {
     "name": "stdout",
     "output_type": "stream",
     "text": [
      "Dados de treino até 2022-03-05, com dados de teste 60 dias apos\n"
     ]
    },
    {
     "name": "stderr",
     "output_type": "stream",
     "text": [
      "100%|██████████████████████████████████████████████████████████████████████████████████| 29/29 [00:01<00:00, 27.65it/s]\n"
     ]
    },
    {
     "name": "stdout",
     "output_type": "stream",
     "text": [
      "Dados de treino até 2022-03-06, com dados de teste 60 dias apos\n"
     ]
    },
    {
     "name": "stderr",
     "output_type": "stream",
     "text": [
      "100%|██████████████████████████████████████████████████████████████████████████████████| 29/29 [00:01<00:00, 27.54it/s]\n"
     ]
    },
    {
     "name": "stdout",
     "output_type": "stream",
     "text": [
      "Dados de treino até 2022-03-07, com dados de teste 60 dias apos\n"
     ]
    },
    {
     "name": "stderr",
     "output_type": "stream",
     "text": [
      "100%|██████████████████████████████████████████████████████████████████████████████████| 29/29 [00:01<00:00, 27.65it/s]\n"
     ]
    },
    {
     "name": "stdout",
     "output_type": "stream",
     "text": [
      "Dados de treino até 2022-03-08, com dados de teste 60 dias apos\n"
     ]
    },
    {
     "name": "stderr",
     "output_type": "stream",
     "text": [
      "100%|██████████████████████████████████████████████████████████████████████████████████| 29/29 [00:01<00:00, 27.78it/s]\n"
     ]
    },
    {
     "name": "stdout",
     "output_type": "stream",
     "text": [
      "Dados de treino até 2022-03-09, com dados de teste 60 dias apos\n"
     ]
    },
    {
     "name": "stderr",
     "output_type": "stream",
     "text": [
      "100%|██████████████████████████████████████████████████████████████████████████████████| 29/29 [00:01<00:00, 27.65it/s]\n"
     ]
    },
    {
     "name": "stdout",
     "output_type": "stream",
     "text": [
      "Dados de treino até 2022-03-10, com dados de teste 60 dias apos\n"
     ]
    },
    {
     "name": "stderr",
     "output_type": "stream",
     "text": [
      "100%|██████████████████████████████████████████████████████████████████████████████████| 29/29 [00:01<00:00, 27.70it/s]\n"
     ]
    },
    {
     "name": "stdout",
     "output_type": "stream",
     "text": [
      "Dados de treino até 2022-03-11, com dados de teste 60 dias apos\n"
     ]
    },
    {
     "name": "stderr",
     "output_type": "stream",
     "text": [
      "100%|██████████████████████████████████████████████████████████████████████████████████| 29/29 [00:01<00:00, 27.83it/s]\n"
     ]
    },
    {
     "name": "stdout",
     "output_type": "stream",
     "text": [
      "Dados de treino até 2022-03-12, com dados de teste 60 dias apos\n"
     ]
    },
    {
     "name": "stderr",
     "output_type": "stream",
     "text": [
      "100%|██████████████████████████████████████████████████████████████████████████████████| 29/29 [00:01<00:00, 27.70it/s]\n"
     ]
    },
    {
     "name": "stdout",
     "output_type": "stream",
     "text": [
      "Dados de treino até 2022-03-13, com dados de teste 60 dias apos\n"
     ]
    },
    {
     "name": "stderr",
     "output_type": "stream",
     "text": [
      "100%|██████████████████████████████████████████████████████████████████████████████████| 29/29 [00:01<00:00, 27.72it/s]\n"
     ]
    },
    {
     "name": "stdout",
     "output_type": "stream",
     "text": [
      "Dados de treino até 2022-03-14, com dados de teste 60 dias apos\n"
     ]
    },
    {
     "name": "stderr",
     "output_type": "stream",
     "text": [
      "100%|██████████████████████████████████████████████████████████████████████████████████| 29/29 [00:01<00:00, 23.83it/s]\n"
     ]
    },
    {
     "name": "stdout",
     "output_type": "stream",
     "text": [
      "Dados de treino até 2022-03-15, com dados de teste 60 dias apos\n"
     ]
    },
    {
     "name": "stderr",
     "output_type": "stream",
     "text": [
      "100%|██████████████████████████████████████████████████████████████████████████████████| 29/29 [00:01<00:00, 21.39it/s]\n"
     ]
    },
    {
     "name": "stdout",
     "output_type": "stream",
     "text": [
      "Dados de treino até 2022-03-16, com dados de teste 60 dias apos\n"
     ]
    },
    {
     "name": "stderr",
     "output_type": "stream",
     "text": [
      "100%|██████████████████████████████████████████████████████████████████████████████████| 29/29 [00:01<00:00, 27.46it/s]\n"
     ]
    },
    {
     "name": "stdout",
     "output_type": "stream",
     "text": [
      "Dados de treino até 2022-03-17, com dados de teste 60 dias apos\n"
     ]
    },
    {
     "name": "stderr",
     "output_type": "stream",
     "text": [
      "100%|██████████████████████████████████████████████████████████████████████████████████| 29/29 [00:01<00:00, 27.86it/s]\n"
     ]
    },
    {
     "name": "stdout",
     "output_type": "stream",
     "text": [
      "Dados de treino até 2022-03-18, com dados de teste 60 dias apos\n"
     ]
    },
    {
     "name": "stderr",
     "output_type": "stream",
     "text": [
      "100%|██████████████████████████████████████████████████████████████████████████████████| 29/29 [00:01<00:00, 27.56it/s]\n"
     ]
    },
    {
     "name": "stdout",
     "output_type": "stream",
     "text": [
      "Dados de treino até 2022-03-19, com dados de teste 60 dias apos\n"
     ]
    },
    {
     "name": "stderr",
     "output_type": "stream",
     "text": [
      "100%|██████████████████████████████████████████████████████████████████████████████████| 29/29 [00:01<00:00, 27.92it/s]\n"
     ]
    },
    {
     "name": "stdout",
     "output_type": "stream",
     "text": [
      "Dados de treino até 2022-03-20, com dados de teste 60 dias apos\n"
     ]
    },
    {
     "name": "stderr",
     "output_type": "stream",
     "text": [
      "100%|██████████████████████████████████████████████████████████████████████████████████| 29/29 [00:01<00:00, 27.33it/s]\n"
     ]
    },
    {
     "name": "stdout",
     "output_type": "stream",
     "text": [
      "Dados de treino até 2022-03-21, com dados de teste 60 dias apos\n"
     ]
    },
    {
     "name": "stderr",
     "output_type": "stream",
     "text": [
      "100%|██████████████████████████████████████████████████████████████████████████████████| 29/29 [00:01<00:00, 27.47it/s]\n"
     ]
    },
    {
     "name": "stdout",
     "output_type": "stream",
     "text": [
      "Dados de treino até 2022-03-22, com dados de teste 60 dias apos\n"
     ]
    },
    {
     "name": "stderr",
     "output_type": "stream",
     "text": [
      "100%|██████████████████████████████████████████████████████████████████████████████████| 29/29 [00:01<00:00, 27.46it/s]\n"
     ]
    },
    {
     "name": "stdout",
     "output_type": "stream",
     "text": [
      "Dados de treino até 2022-03-23, com dados de teste 60 dias apos\n"
     ]
    },
    {
     "name": "stderr",
     "output_type": "stream",
     "text": [
      "100%|██████████████████████████████████████████████████████████████████████████████████| 29/29 [00:01<00:00, 27.55it/s]\n"
     ]
    },
    {
     "name": "stdout",
     "output_type": "stream",
     "text": [
      "Dados de treino até 2022-03-24, com dados de teste 60 dias apos\n"
     ]
    },
    {
     "name": "stderr",
     "output_type": "stream",
     "text": [
      "100%|██████████████████████████████████████████████████████████████████████████████████| 29/29 [00:01<00:00, 27.31it/s]\n"
     ]
    },
    {
     "name": "stdout",
     "output_type": "stream",
     "text": [
      "Dados de treino até 2022-03-25, com dados de teste 60 dias apos\n"
     ]
    },
    {
     "name": "stderr",
     "output_type": "stream",
     "text": [
      "100%|██████████████████████████████████████████████████████████████████████████████████| 29/29 [00:01<00:00, 27.65it/s]\n"
     ]
    },
    {
     "name": "stdout",
     "output_type": "stream",
     "text": [
      "Dados de treino até 2022-03-26, com dados de teste 60 dias apos\n"
     ]
    },
    {
     "name": "stderr",
     "output_type": "stream",
     "text": [
      "100%|██████████████████████████████████████████████████████████████████████████████████| 29/29 [00:01<00:00, 27.44it/s]\n"
     ]
    },
    {
     "name": "stdout",
     "output_type": "stream",
     "text": [
      "Dados de treino até 2022-03-27, com dados de teste 60 dias apos\n"
     ]
    },
    {
     "name": "stderr",
     "output_type": "stream",
     "text": [
      "100%|██████████████████████████████████████████████████████████████████████████████████| 29/29 [00:01<00:00, 27.72it/s]\n"
     ]
    },
    {
     "name": "stdout",
     "output_type": "stream",
     "text": [
      "Dados de treino até 2022-03-28, com dados de teste 60 dias apos\n"
     ]
    },
    {
     "name": "stderr",
     "output_type": "stream",
     "text": [
      "100%|██████████████████████████████████████████████████████████████████████████████████| 29/29 [00:01<00:00, 27.65it/s]\n"
     ]
    },
    {
     "name": "stdout",
     "output_type": "stream",
     "text": [
      "Dados de treino até 2022-03-29, com dados de teste 60 dias apos\n"
     ]
    },
    {
     "name": "stderr",
     "output_type": "stream",
     "text": [
      "100%|██████████████████████████████████████████████████████████████████████████████████| 29/29 [00:01<00:00, 27.65it/s]\n"
     ]
    },
    {
     "name": "stdout",
     "output_type": "stream",
     "text": [
      "Dados de treino até 2022-03-30, com dados de teste 60 dias apos\n"
     ]
    },
    {
     "name": "stderr",
     "output_type": "stream",
     "text": [
      "100%|██████████████████████████████████████████████████████████████████████████████████| 29/29 [00:01<00:00, 27.70it/s]\n"
     ]
    },
    {
     "name": "stdout",
     "output_type": "stream",
     "text": [
      "Dados de treino até 2022-03-31, com dados de teste 60 dias apos\n"
     ]
    },
    {
     "name": "stderr",
     "output_type": "stream",
     "text": [
      "100%|██████████████████████████████████████████████████████████████████████████████████| 29/29 [00:01<00:00, 27.51it/s]\n"
     ]
    },
    {
     "name": "stdout",
     "output_type": "stream",
     "text": [
      "Dados de treino até 2022-04-01, com dados de teste 60 dias apos\n"
     ]
    },
    {
     "name": "stderr",
     "output_type": "stream",
     "text": [
      "100%|██████████████████████████████████████████████████████████████████████████████████| 29/29 [00:01<00:00, 24.96it/s]\n"
     ]
    },
    {
     "name": "stdout",
     "output_type": "stream",
     "text": [
      "Dados de treino até 2022-04-02, com dados de teste 60 dias apos\n"
     ]
    },
    {
     "name": "stderr",
     "output_type": "stream",
     "text": [
      "100%|██████████████████████████████████████████████████████████████████████████████████| 29/29 [00:01<00:00, 24.53it/s]\n"
     ]
    },
    {
     "name": "stdout",
     "output_type": "stream",
     "text": [
      "Dados de treino até 2022-04-03, com dados de teste 60 dias apos\n"
     ]
    },
    {
     "name": "stderr",
     "output_type": "stream",
     "text": [
      "100%|██████████████████████████████████████████████████████████████████████████████████| 29/29 [00:01<00:00, 27.57it/s]\n"
     ]
    },
    {
     "name": "stdout",
     "output_type": "stream",
     "text": [
      "Dados de treino até 2022-04-04, com dados de teste 60 dias apos\n"
     ]
    },
    {
     "name": "stderr",
     "output_type": "stream",
     "text": [
      "100%|██████████████████████████████████████████████████████████████████████████████████| 29/29 [00:01<00:00, 27.41it/s]\n"
     ]
    },
    {
     "name": "stdout",
     "output_type": "stream",
     "text": [
      "Dados de treino até 2022-04-05, com dados de teste 60 dias apos\n"
     ]
    },
    {
     "name": "stderr",
     "output_type": "stream",
     "text": [
      "100%|██████████████████████████████████████████████████████████████████████████████████| 29/29 [00:01<00:00, 27.26it/s]\n"
     ]
    },
    {
     "name": "stdout",
     "output_type": "stream",
     "text": [
      "Dados de treino até 2022-04-06, com dados de teste 60 dias apos\n"
     ]
    },
    {
     "name": "stderr",
     "output_type": "stream",
     "text": [
      "100%|██████████████████████████████████████████████████████████████████████████████████| 29/29 [00:01<00:00, 27.36it/s]\n"
     ]
    },
    {
     "name": "stdout",
     "output_type": "stream",
     "text": [
      "Dados de treino até 2022-04-07, com dados de teste 60 dias apos\n"
     ]
    },
    {
     "name": "stderr",
     "output_type": "stream",
     "text": [
      "100%|██████████████████████████████████████████████████████████████████████████████████| 29/29 [00:01<00:00, 27.20it/s]\n"
     ]
    },
    {
     "name": "stdout",
     "output_type": "stream",
     "text": [
      "Dados de treino até 2022-04-08, com dados de teste 60 dias apos\n"
     ]
    },
    {
     "name": "stderr",
     "output_type": "stream",
     "text": [
      "100%|██████████████████████████████████████████████████████████████████████████████████| 29/29 [00:01<00:00, 27.51it/s]\n"
     ]
    },
    {
     "name": "stdout",
     "output_type": "stream",
     "text": [
      "Dados de treino até 2022-04-09, com dados de teste 60 dias apos\n"
     ]
    },
    {
     "name": "stderr",
     "output_type": "stream",
     "text": [
      "100%|██████████████████████████████████████████████████████████████████████████████████| 29/29 [00:01<00:00, 27.15it/s]\n"
     ]
    },
    {
     "name": "stdout",
     "output_type": "stream",
     "text": [
      "Dados de treino até 2022-04-10, com dados de teste 60 dias apos\n"
     ]
    },
    {
     "name": "stderr",
     "output_type": "stream",
     "text": [
      "100%|██████████████████████████████████████████████████████████████████████████████████| 29/29 [00:01<00:00, 26.54it/s]\n"
     ]
    },
    {
     "name": "stdout",
     "output_type": "stream",
     "text": [
      "Dados de treino até 2022-04-11, com dados de teste 60 dias apos\n"
     ]
    },
    {
     "name": "stderr",
     "output_type": "stream",
     "text": [
      "100%|██████████████████████████████████████████████████████████████████████████████████| 29/29 [00:01<00:00, 23.09it/s]\n"
     ]
    },
    {
     "name": "stdout",
     "output_type": "stream",
     "text": [
      "Dados de treino até 2022-04-12, com dados de teste 60 dias apos\n"
     ]
    },
    {
     "name": "stderr",
     "output_type": "stream",
     "text": [
      "100%|██████████████████████████████████████████████████████████████████████████████████| 29/29 [00:01<00:00, 26.35it/s]\n"
     ]
    },
    {
     "name": "stdout",
     "output_type": "stream",
     "text": [
      "Dados de treino até 2022-04-13, com dados de teste 60 dias apos\n"
     ]
    },
    {
     "name": "stderr",
     "output_type": "stream",
     "text": [
      "100%|██████████████████████████████████████████████████████████████████████████████████| 29/29 [00:01<00:00, 27.41it/s]\n"
     ]
    },
    {
     "name": "stdout",
     "output_type": "stream",
     "text": [
      "Dados de treino até 2022-04-14, com dados de teste 60 dias apos\n"
     ]
    },
    {
     "name": "stderr",
     "output_type": "stream",
     "text": [
      "100%|██████████████████████████████████████████████████████████████████████████████████| 29/29 [00:01<00:00, 27.38it/s]\n"
     ]
    },
    {
     "name": "stdout",
     "output_type": "stream",
     "text": [
      "Dados de treino até 2022-04-15, com dados de teste 60 dias apos\n"
     ]
    },
    {
     "name": "stderr",
     "output_type": "stream",
     "text": [
      "100%|██████████████████████████████████████████████████████████████████████████████████| 29/29 [00:01<00:00, 27.42it/s]\n"
     ]
    },
    {
     "name": "stdout",
     "output_type": "stream",
     "text": [
      "Dados de treino até 2022-04-16, com dados de teste 60 dias apos\n"
     ]
    },
    {
     "name": "stderr",
     "output_type": "stream",
     "text": [
      "100%|██████████████████████████████████████████████████████████████████████████████████| 29/29 [00:01<00:00, 27.46it/s]\n"
     ]
    },
    {
     "name": "stdout",
     "output_type": "stream",
     "text": [
      "Dados de treino até 2022-04-17, com dados de teste 60 dias apos\n"
     ]
    },
    {
     "name": "stderr",
     "output_type": "stream",
     "text": [
      "100%|██████████████████████████████████████████████████████████████████████████████████| 29/29 [00:01<00:00, 27.18it/s]\n"
     ]
    },
    {
     "name": "stdout",
     "output_type": "stream",
     "text": [
      "Dados de treino até 2022-04-18, com dados de teste 60 dias apos\n"
     ]
    },
    {
     "name": "stderr",
     "output_type": "stream",
     "text": [
      "100%|██████████████████████████████████████████████████████████████████████████████████| 29/29 [00:01<00:00, 27.18it/s]\n"
     ]
    },
    {
     "name": "stdout",
     "output_type": "stream",
     "text": [
      "Dados de treino até 2022-04-19, com dados de teste 60 dias apos\n"
     ]
    },
    {
     "name": "stderr",
     "output_type": "stream",
     "text": [
      "100%|██████████████████████████████████████████████████████████████████████████████████| 29/29 [00:01<00:00, 27.70it/s]\n"
     ]
    },
    {
     "name": "stdout",
     "output_type": "stream",
     "text": [
      "Dados de treino até 2022-04-20, com dados de teste 60 dias apos\n"
     ]
    },
    {
     "name": "stderr",
     "output_type": "stream",
     "text": [
      "100%|██████████████████████████████████████████████████████████████████████████████████| 29/29 [00:01<00:00, 27.37it/s]\n"
     ]
    },
    {
     "name": "stdout",
     "output_type": "stream",
     "text": [
      "Dados de treino até 2022-04-21, com dados de teste 60 dias apos\n"
     ]
    },
    {
     "name": "stderr",
     "output_type": "stream",
     "text": [
      "100%|██████████████████████████████████████████████████████████████████████████████████| 29/29 [00:01<00:00, 27.28it/s]\n"
     ]
    },
    {
     "name": "stdout",
     "output_type": "stream",
     "text": [
      "Dados de treino até 2022-04-22, com dados de teste 60 dias apos\n"
     ]
    },
    {
     "name": "stderr",
     "output_type": "stream",
     "text": [
      "100%|██████████████████████████████████████████████████████████████████████████████████| 29/29 [00:01<00:00, 27.57it/s]\n"
     ]
    },
    {
     "name": "stdout",
     "output_type": "stream",
     "text": [
      "Dados de treino até 2022-04-23, com dados de teste 60 dias apos\n"
     ]
    },
    {
     "name": "stderr",
     "output_type": "stream",
     "text": [
      "100%|██████████████████████████████████████████████████████████████████████████████████| 29/29 [00:01<00:00, 27.43it/s]\n"
     ]
    },
    {
     "name": "stdout",
     "output_type": "stream",
     "text": [
      "Dados de treino até 2022-04-24, com dados de teste 60 dias apos\n"
     ]
    },
    {
     "name": "stderr",
     "output_type": "stream",
     "text": [
      "100%|██████████████████████████████████████████████████████████████████████████████████| 29/29 [00:01<00:00, 27.18it/s]\n"
     ]
    },
    {
     "name": "stdout",
     "output_type": "stream",
     "text": [
      "Dados de treino até 2022-04-25, com dados de teste 60 dias apos\n"
     ]
    },
    {
     "name": "stderr",
     "output_type": "stream",
     "text": [
      "100%|██████████████████████████████████████████████████████████████████████████████████| 29/29 [00:01<00:00, 27.38it/s]\n"
     ]
    },
    {
     "name": "stdout",
     "output_type": "stream",
     "text": [
      "Dados de treino até 2022-04-26, com dados de teste 60 dias apos\n"
     ]
    },
    {
     "name": "stderr",
     "output_type": "stream",
     "text": [
      "100%|██████████████████████████████████████████████████████████████████████████████████| 29/29 [00:01<00:00, 27.14it/s]\n"
     ]
    },
    {
     "name": "stdout",
     "output_type": "stream",
     "text": [
      "Dados de treino até 2022-04-27, com dados de teste 60 dias apos\n"
     ]
    },
    {
     "name": "stderr",
     "output_type": "stream",
     "text": [
      "100%|██████████████████████████████████████████████████████████████████████████████████| 29/29 [00:01<00:00, 27.18it/s]\n"
     ]
    },
    {
     "name": "stdout",
     "output_type": "stream",
     "text": [
      "Dados de treino até 2022-04-28, com dados de teste 60 dias apos\n"
     ]
    },
    {
     "name": "stderr",
     "output_type": "stream",
     "text": [
      "100%|██████████████████████████████████████████████████████████████████████████████████| 29/29 [00:01<00:00, 27.05it/s]\n"
     ]
    },
    {
     "name": "stdout",
     "output_type": "stream",
     "text": [
      "Dados de treino até 2022-04-29, com dados de teste 60 dias apos\n"
     ]
    },
    {
     "name": "stderr",
     "output_type": "stream",
     "text": [
      "100%|██████████████████████████████████████████████████████████████████████████████████| 29/29 [00:01<00:00, 27.31it/s]\n"
     ]
    },
    {
     "name": "stdout",
     "output_type": "stream",
     "text": [
      "Dados de treino até 2022-04-30, com dados de teste 60 dias apos\n"
     ]
    },
    {
     "name": "stderr",
     "output_type": "stream",
     "text": [
      "100%|██████████████████████████████████████████████████████████████████████████████████| 29/29 [00:01<00:00, 27.13it/s]\n"
     ]
    },
    {
     "name": "stdout",
     "output_type": "stream",
     "text": [
      "Dados de treino até 2021-12-31, com dados de teste 90 dias apos\n"
     ]
    },
    {
     "name": "stderr",
     "output_type": "stream",
     "text": [
      "100%|██████████████████████████████████████████████████████████████████████████████████| 29/29 [00:01<00:00, 29.00it/s]\n"
     ]
    },
    {
     "name": "stdout",
     "output_type": "stream",
     "text": [
      "Dados de treino até 2022-01-01, com dados de teste 90 dias apos\n"
     ]
    },
    {
     "name": "stderr",
     "output_type": "stream",
     "text": [
      "100%|██████████████████████████████████████████████████████████████████████████████████| 29/29 [00:01<00:00, 28.60it/s]\n"
     ]
    },
    {
     "name": "stdout",
     "output_type": "stream",
     "text": [
      "Dados de treino até 2022-01-02, com dados de teste 90 dias apos\n"
     ]
    },
    {
     "name": "stderr",
     "output_type": "stream",
     "text": [
      "100%|██████████████████████████████████████████████████████████████████████████████████| 29/29 [00:01<00:00, 28.60it/s]\n"
     ]
    },
    {
     "name": "stdout",
     "output_type": "stream",
     "text": [
      "Dados de treino até 2022-01-03, com dados de teste 90 dias apos\n"
     ]
    },
    {
     "name": "stderr",
     "output_type": "stream",
     "text": [
      "100%|██████████████████████████████████████████████████████████████████████████████████| 29/29 [00:01<00:00, 28.71it/s]\n"
     ]
    },
    {
     "name": "stdout",
     "output_type": "stream",
     "text": [
      "Dados de treino até 2022-01-04, com dados de teste 90 dias apos\n"
     ]
    },
    {
     "name": "stderr",
     "output_type": "stream",
     "text": [
      "100%|██████████████████████████████████████████████████████████████████████████████████| 29/29 [00:01<00:00, 28.64it/s]\n"
     ]
    },
    {
     "name": "stdout",
     "output_type": "stream",
     "text": [
      "Dados de treino até 2022-01-05, com dados de teste 90 dias apos\n"
     ]
    },
    {
     "name": "stderr",
     "output_type": "stream",
     "text": [
      "100%|██████████████████████████████████████████████████████████████████████████████████| 29/29 [00:01<00:00, 28.29it/s]\n"
     ]
    },
    {
     "name": "stdout",
     "output_type": "stream",
     "text": [
      "Dados de treino até 2022-01-06, com dados de teste 90 dias apos\n"
     ]
    },
    {
     "name": "stderr",
     "output_type": "stream",
     "text": [
      "100%|██████████████████████████████████████████████████████████████████████████████████| 29/29 [00:01<00:00, 26.45it/s]\n"
     ]
    },
    {
     "name": "stdout",
     "output_type": "stream",
     "text": [
      "Dados de treino até 2022-01-07, com dados de teste 90 dias apos\n"
     ]
    },
    {
     "name": "stderr",
     "output_type": "stream",
     "text": [
      "100%|██████████████████████████████████████████████████████████████████████████████████| 29/29 [00:01<00:00, 27.15it/s]\n"
     ]
    },
    {
     "name": "stdout",
     "output_type": "stream",
     "text": [
      "Dados de treino até 2022-01-08, com dados de teste 90 dias apos\n"
     ]
    },
    {
     "name": "stderr",
     "output_type": "stream",
     "text": [
      "100%|██████████████████████████████████████████████████████████████████████████████████| 29/29 [00:01<00:00, 28.46it/s]\n"
     ]
    },
    {
     "name": "stdout",
     "output_type": "stream",
     "text": [
      "Dados de treino até 2022-01-09, com dados de teste 90 dias apos\n"
     ]
    },
    {
     "name": "stderr",
     "output_type": "stream",
     "text": [
      "100%|██████████████████████████████████████████████████████████████████████████████████| 29/29 [00:01<00:00, 27.44it/s]\n"
     ]
    },
    {
     "name": "stdout",
     "output_type": "stream",
     "text": [
      "Dados de treino até 2022-01-10, com dados de teste 90 dias apos\n"
     ]
    },
    {
     "name": "stderr",
     "output_type": "stream",
     "text": [
      "100%|██████████████████████████████████████████████████████████████████████████████████| 29/29 [00:01<00:00, 28.29it/s]\n"
     ]
    },
    {
     "name": "stdout",
     "output_type": "stream",
     "text": [
      "Dados de treino até 2022-01-11, com dados de teste 90 dias apos\n"
     ]
    },
    {
     "name": "stderr",
     "output_type": "stream",
     "text": [
      "100%|██████████████████████████████████████████████████████████████████████████████████| 29/29 [00:01<00:00, 28.27it/s]\n"
     ]
    },
    {
     "name": "stdout",
     "output_type": "stream",
     "text": [
      "Dados de treino até 2022-01-12, com dados de teste 90 dias apos\n"
     ]
    },
    {
     "name": "stderr",
     "output_type": "stream",
     "text": [
      "100%|██████████████████████████████████████████████████████████████████████████████████| 29/29 [00:01<00:00, 28.54it/s]\n"
     ]
    },
    {
     "name": "stdout",
     "output_type": "stream",
     "text": [
      "Dados de treino até 2022-01-13, com dados de teste 90 dias apos\n"
     ]
    },
    {
     "name": "stderr",
     "output_type": "stream",
     "text": [
      "100%|██████████████████████████████████████████████████████████████████████████████████| 29/29 [00:01<00:00, 28.37it/s]\n"
     ]
    },
    {
     "name": "stdout",
     "output_type": "stream",
     "text": [
      "Dados de treino até 2022-01-14, com dados de teste 90 dias apos\n"
     ]
    },
    {
     "name": "stderr",
     "output_type": "stream",
     "text": [
      "100%|██████████████████████████████████████████████████████████████████████████████████| 29/29 [00:01<00:00, 28.32it/s]\n"
     ]
    },
    {
     "name": "stdout",
     "output_type": "stream",
     "text": [
      "Dados de treino até 2022-01-15, com dados de teste 90 dias apos\n"
     ]
    },
    {
     "name": "stderr",
     "output_type": "stream",
     "text": [
      "100%|██████████████████████████████████████████████████████████████████████████████████| 29/29 [00:01<00:00, 28.66it/s]\n"
     ]
    },
    {
     "name": "stdout",
     "output_type": "stream",
     "text": [
      "Dados de treino até 2022-01-16, com dados de teste 90 dias apos\n"
     ]
    },
    {
     "name": "stderr",
     "output_type": "stream",
     "text": [
      "100%|██████████████████████████████████████████████████████████████████████████████████| 29/29 [00:01<00:00, 28.61it/s]\n"
     ]
    },
    {
     "name": "stdout",
     "output_type": "stream",
     "text": [
      "Dados de treino até 2022-01-17, com dados de teste 90 dias apos\n"
     ]
    },
    {
     "name": "stderr",
     "output_type": "stream",
     "text": [
      "100%|██████████████████████████████████████████████████████████████████████████████████| 29/29 [00:01<00:00, 28.21it/s]\n"
     ]
    },
    {
     "name": "stdout",
     "output_type": "stream",
     "text": [
      "Dados de treino até 2022-01-18, com dados de teste 90 dias apos\n"
     ]
    },
    {
     "name": "stderr",
     "output_type": "stream",
     "text": [
      "100%|██████████████████████████████████████████████████████████████████████████████████| 29/29 [00:01<00:00, 28.29it/s]\n"
     ]
    },
    {
     "name": "stdout",
     "output_type": "stream",
     "text": [
      "Dados de treino até 2022-01-19, com dados de teste 90 dias apos\n"
     ]
    },
    {
     "name": "stderr",
     "output_type": "stream",
     "text": [
      "100%|██████████████████████████████████████████████████████████████████████████████████| 29/29 [00:01<00:00, 28.54it/s]\n"
     ]
    },
    {
     "name": "stdout",
     "output_type": "stream",
     "text": [
      "Dados de treino até 2022-01-20, com dados de teste 90 dias apos\n"
     ]
    },
    {
     "name": "stderr",
     "output_type": "stream",
     "text": [
      "100%|██████████████████████████████████████████████████████████████████████████████████| 29/29 [00:01<00:00, 28.43it/s]\n"
     ]
    },
    {
     "name": "stdout",
     "output_type": "stream",
     "text": [
      "Dados de treino até 2022-01-21, com dados de teste 90 dias apos\n"
     ]
    },
    {
     "name": "stderr",
     "output_type": "stream",
     "text": [
      "100%|██████████████████████████████████████████████████████████████████████████████████| 29/29 [00:01<00:00, 28.32it/s]\n"
     ]
    },
    {
     "name": "stdout",
     "output_type": "stream",
     "text": [
      "Dados de treino até 2022-01-22, com dados de teste 90 dias apos\n"
     ]
    },
    {
     "name": "stderr",
     "output_type": "stream",
     "text": [
      "100%|██████████████████████████████████████████████████████████████████████████████████| 29/29 [00:01<00:00, 27.91it/s]\n"
     ]
    },
    {
     "name": "stdout",
     "output_type": "stream",
     "text": [
      "Dados de treino até 2022-01-23, com dados de teste 90 dias apos\n"
     ]
    },
    {
     "name": "stderr",
     "output_type": "stream",
     "text": [
      "100%|██████████████████████████████████████████████████████████████████████████████████| 29/29 [00:01<00:00, 28.29it/s]\n"
     ]
    },
    {
     "name": "stdout",
     "output_type": "stream",
     "text": [
      "Dados de treino até 2022-01-24, com dados de teste 90 dias apos\n"
     ]
    },
    {
     "name": "stderr",
     "output_type": "stream",
     "text": [
      "100%|██████████████████████████████████████████████████████████████████████████████████| 29/29 [00:01<00:00, 28.28it/s]\n"
     ]
    },
    {
     "name": "stdout",
     "output_type": "stream",
     "text": [
      "Dados de treino até 2022-01-25, com dados de teste 90 dias apos\n"
     ]
    },
    {
     "name": "stderr",
     "output_type": "stream",
     "text": [
      "100%|██████████████████████████████████████████████████████████████████████████████████| 29/29 [00:01<00:00, 28.33it/s]\n"
     ]
    },
    {
     "name": "stdout",
     "output_type": "stream",
     "text": [
      "Dados de treino até 2022-01-26, com dados de teste 90 dias apos\n"
     ]
    },
    {
     "name": "stderr",
     "output_type": "stream",
     "text": [
      "100%|██████████████████████████████████████████████████████████████████████████████████| 29/29 [00:01<00:00, 28.32it/s]\n"
     ]
    },
    {
     "name": "stdout",
     "output_type": "stream",
     "text": [
      "Dados de treino até 2022-01-27, com dados de teste 90 dias apos\n"
     ]
    },
    {
     "name": "stderr",
     "output_type": "stream",
     "text": [
      "100%|██████████████████████████████████████████████████████████████████████████████████| 29/29 [00:01<00:00, 27.93it/s]\n"
     ]
    },
    {
     "name": "stdout",
     "output_type": "stream",
     "text": [
      "Dados de treino até 2022-01-28, com dados de teste 90 dias apos\n"
     ]
    },
    {
     "name": "stderr",
     "output_type": "stream",
     "text": [
      "100%|██████████████████████████████████████████████████████████████████████████████████| 29/29 [00:01<00:00, 28.01it/s]\n"
     ]
    },
    {
     "name": "stdout",
     "output_type": "stream",
     "text": [
      "Dados de treino até 2022-01-29, com dados de teste 90 dias apos\n"
     ]
    },
    {
     "name": "stderr",
     "output_type": "stream",
     "text": [
      "100%|██████████████████████████████████████████████████████████████████████████████████| 29/29 [00:01<00:00, 27.99it/s]\n"
     ]
    },
    {
     "name": "stdout",
     "output_type": "stream",
     "text": [
      "Dados de treino até 2022-01-30, com dados de teste 90 dias apos\n"
     ]
    },
    {
     "name": "stderr",
     "output_type": "stream",
     "text": [
      "100%|██████████████████████████████████████████████████████████████████████████████████| 29/29 [00:01<00:00, 27.80it/s]\n"
     ]
    },
    {
     "name": "stdout",
     "output_type": "stream",
     "text": [
      "Dados de treino até 2022-01-31, com dados de teste 90 dias apos\n"
     ]
    },
    {
     "name": "stderr",
     "output_type": "stream",
     "text": [
      "100%|██████████████████████████████████████████████████████████████████████████████████| 29/29 [00:01<00:00, 28.29it/s]\n"
     ]
    },
    {
     "name": "stdout",
     "output_type": "stream",
     "text": [
      "Dados de treino até 2022-02-01, com dados de teste 90 dias apos\n"
     ]
    },
    {
     "name": "stderr",
     "output_type": "stream",
     "text": [
      "100%|██████████████████████████████████████████████████████████████████████████████████| 29/29 [00:01<00:00, 28.13it/s]\n"
     ]
    },
    {
     "name": "stdout",
     "output_type": "stream",
     "text": [
      "Dados de treino até 2022-02-02, com dados de teste 90 dias apos\n"
     ]
    },
    {
     "name": "stderr",
     "output_type": "stream",
     "text": [
      "100%|██████████████████████████████████████████████████████████████████████████████████| 29/29 [00:01<00:00, 27.13it/s]\n"
     ]
    },
    {
     "name": "stdout",
     "output_type": "stream",
     "text": [
      "Dados de treino até 2022-02-03, com dados de teste 90 dias apos\n"
     ]
    },
    {
     "name": "stderr",
     "output_type": "stream",
     "text": [
      "100%|██████████████████████████████████████████████████████████████████████████████████| 29/29 [00:01<00:00, 27.51it/s]\n"
     ]
    },
    {
     "name": "stdout",
     "output_type": "stream",
     "text": [
      "Dados de treino até 2022-02-04, com dados de teste 90 dias apos\n"
     ]
    },
    {
     "name": "stderr",
     "output_type": "stream",
     "text": [
      "100%|██████████████████████████████████████████████████████████████████████████████████| 29/29 [00:01<00:00, 23.24it/s]\n"
     ]
    },
    {
     "name": "stdout",
     "output_type": "stream",
     "text": [
      "Dados de treino até 2022-02-05, com dados de teste 90 dias apos\n"
     ]
    },
    {
     "name": "stderr",
     "output_type": "stream",
     "text": [
      "100%|██████████████████████████████████████████████████████████████████████████████████| 29/29 [00:01<00:00, 25.71it/s]\n"
     ]
    },
    {
     "name": "stdout",
     "output_type": "stream",
     "text": [
      "Dados de treino até 2022-02-06, com dados de teste 90 dias apos\n"
     ]
    },
    {
     "name": "stderr",
     "output_type": "stream",
     "text": [
      "100%|██████████████████████████████████████████████████████████████████████████████████| 29/29 [00:01<00:00, 27.88it/s]\n"
     ]
    },
    {
     "name": "stdout",
     "output_type": "stream",
     "text": [
      "Dados de treino até 2022-02-07, com dados de teste 90 dias apos\n"
     ]
    },
    {
     "name": "stderr",
     "output_type": "stream",
     "text": [
      "100%|██████████████████████████████████████████████████████████████████████████████████| 29/29 [00:01<00:00, 28.05it/s]\n"
     ]
    },
    {
     "name": "stdout",
     "output_type": "stream",
     "text": [
      "Dados de treino até 2022-02-08, com dados de teste 90 dias apos\n"
     ]
    },
    {
     "name": "stderr",
     "output_type": "stream",
     "text": [
      "100%|██████████████████████████████████████████████████████████████████████████████████| 29/29 [00:01<00:00, 27.85it/s]\n"
     ]
    },
    {
     "name": "stdout",
     "output_type": "stream",
     "text": [
      "Dados de treino até 2022-02-09, com dados de teste 90 dias apos\n"
     ]
    },
    {
     "name": "stderr",
     "output_type": "stream",
     "text": [
      "100%|██████████████████████████████████████████████████████████████████████████████████| 29/29 [00:01<00:00, 27.84it/s]\n"
     ]
    },
    {
     "name": "stdout",
     "output_type": "stream",
     "text": [
      "Dados de treino até 2022-02-10, com dados de teste 90 dias apos\n"
     ]
    },
    {
     "name": "stderr",
     "output_type": "stream",
     "text": [
      "100%|██████████████████████████████████████████████████████████████████████████████████| 29/29 [00:01<00:00, 27.67it/s]\n"
     ]
    },
    {
     "name": "stdout",
     "output_type": "stream",
     "text": [
      "Dados de treino até 2022-02-11, com dados de teste 90 dias apos\n"
     ]
    },
    {
     "name": "stderr",
     "output_type": "stream",
     "text": [
      "100%|██████████████████████████████████████████████████████████████████████████████████| 29/29 [00:01<00:00, 27.83it/s]\n"
     ]
    },
    {
     "name": "stdout",
     "output_type": "stream",
     "text": [
      "Dados de treino até 2022-02-12, com dados de teste 90 dias apos\n"
     ]
    },
    {
     "name": "stderr",
     "output_type": "stream",
     "text": [
      "100%|██████████████████████████████████████████████████████████████████████████████████| 29/29 [00:01<00:00, 27.99it/s]\n"
     ]
    },
    {
     "name": "stdout",
     "output_type": "stream",
     "text": [
      "Dados de treino até 2022-02-13, com dados de teste 90 dias apos\n"
     ]
    },
    {
     "name": "stderr",
     "output_type": "stream",
     "text": [
      "100%|██████████████████████████████████████████████████████████████████████████████████| 29/29 [00:01<00:00, 27.81it/s]\n"
     ]
    },
    {
     "name": "stdout",
     "output_type": "stream",
     "text": [
      "Dados de treino até 2022-02-14, com dados de teste 90 dias apos\n"
     ]
    },
    {
     "name": "stderr",
     "output_type": "stream",
     "text": [
      "100%|██████████████████████████████████████████████████████████████████████████████████| 29/29 [00:01<00:00, 27.70it/s]\n"
     ]
    },
    {
     "name": "stdout",
     "output_type": "stream",
     "text": [
      "Dados de treino até 2022-02-15, com dados de teste 90 dias apos\n"
     ]
    },
    {
     "name": "stderr",
     "output_type": "stream",
     "text": [
      "100%|██████████████████████████████████████████████████████████████████████████████████| 29/29 [00:01<00:00, 27.88it/s]\n"
     ]
    },
    {
     "name": "stdout",
     "output_type": "stream",
     "text": [
      "Dados de treino até 2022-02-16, com dados de teste 90 dias apos\n"
     ]
    },
    {
     "name": "stderr",
     "output_type": "stream",
     "text": [
      "100%|██████████████████████████████████████████████████████████████████████████████████| 29/29 [00:01<00:00, 28.02it/s]\n"
     ]
    },
    {
     "name": "stdout",
     "output_type": "stream",
     "text": [
      "Dados de treino até 2022-02-17, com dados de teste 90 dias apos\n"
     ]
    },
    {
     "name": "stderr",
     "output_type": "stream",
     "text": [
      "100%|██████████████████████████████████████████████████████████████████████████████████| 29/29 [00:01<00:00, 27.97it/s]\n"
     ]
    },
    {
     "name": "stdout",
     "output_type": "stream",
     "text": [
      "Dados de treino até 2022-02-18, com dados de teste 90 dias apos\n"
     ]
    },
    {
     "name": "stderr",
     "output_type": "stream",
     "text": [
      "100%|██████████████████████████████████████████████████████████████████████████████████| 29/29 [00:01<00:00, 28.04it/s]\n"
     ]
    },
    {
     "name": "stdout",
     "output_type": "stream",
     "text": [
      "Dados de treino até 2022-02-19, com dados de teste 90 dias apos\n"
     ]
    },
    {
     "name": "stderr",
     "output_type": "stream",
     "text": [
      "100%|██████████████████████████████████████████████████████████████████████████████████| 29/29 [00:01<00:00, 27.94it/s]\n"
     ]
    },
    {
     "name": "stdout",
     "output_type": "stream",
     "text": [
      "Dados de treino até 2022-02-20, com dados de teste 90 dias apos\n"
     ]
    },
    {
     "name": "stderr",
     "output_type": "stream",
     "text": [
      "100%|██████████████████████████████████████████████████████████████████████████████████| 29/29 [00:01<00:00, 27.91it/s]\n"
     ]
    },
    {
     "name": "stdout",
     "output_type": "stream",
     "text": [
      "Dados de treino até 2022-02-21, com dados de teste 90 dias apos\n"
     ]
    },
    {
     "name": "stderr",
     "output_type": "stream",
     "text": [
      "100%|██████████████████████████████████████████████████████████████████████████████████| 29/29 [00:01<00:00, 27.60it/s]\n"
     ]
    },
    {
     "name": "stdout",
     "output_type": "stream",
     "text": [
      "Dados de treino até 2022-02-22, com dados de teste 90 dias apos\n"
     ]
    },
    {
     "name": "stderr",
     "output_type": "stream",
     "text": [
      "100%|██████████████████████████████████████████████████████████████████████████████████| 29/29 [00:01<00:00, 27.83it/s]\n"
     ]
    },
    {
     "name": "stdout",
     "output_type": "stream",
     "text": [
      "Dados de treino até 2022-02-23, com dados de teste 90 dias apos\n"
     ]
    },
    {
     "name": "stderr",
     "output_type": "stream",
     "text": [
      "100%|██████████████████████████████████████████████████████████████████████████████████| 29/29 [00:01<00:00, 27.80it/s]\n"
     ]
    },
    {
     "name": "stdout",
     "output_type": "stream",
     "text": [
      "Dados de treino até 2022-02-24, com dados de teste 90 dias apos\n"
     ]
    },
    {
     "name": "stderr",
     "output_type": "stream",
     "text": [
      "100%|██████████████████████████████████████████████████████████████████████████████████| 29/29 [00:01<00:00, 27.83it/s]\n"
     ]
    },
    {
     "name": "stdout",
     "output_type": "stream",
     "text": [
      "Dados de treino até 2022-02-25, com dados de teste 90 dias apos\n"
     ]
    },
    {
     "name": "stderr",
     "output_type": "stream",
     "text": [
      "100%|██████████████████████████████████████████████████████████████████████████████████| 29/29 [00:01<00:00, 27.96it/s]\n"
     ]
    },
    {
     "name": "stdout",
     "output_type": "stream",
     "text": [
      "Dados de treino até 2022-02-26, com dados de teste 90 dias apos\n"
     ]
    },
    {
     "name": "stderr",
     "output_type": "stream",
     "text": [
      "100%|██████████████████████████████████████████████████████████████████████████████████| 29/29 [00:01<00:00, 27.80it/s]\n"
     ]
    },
    {
     "name": "stdout",
     "output_type": "stream",
     "text": [
      "Dados de treino até 2022-02-27, com dados de teste 90 dias apos\n"
     ]
    },
    {
     "name": "stderr",
     "output_type": "stream",
     "text": [
      "100%|██████████████████████████████████████████████████████████████████████████████████| 29/29 [00:01<00:00, 27.33it/s]\n"
     ]
    },
    {
     "name": "stdout",
     "output_type": "stream",
     "text": [
      "Dados de treino até 2022-02-28, com dados de teste 90 dias apos\n"
     ]
    },
    {
     "name": "stderr",
     "output_type": "stream",
     "text": [
      "100%|██████████████████████████████████████████████████████████████████████████████████| 29/29 [00:01<00:00, 25.64it/s]\n"
     ]
    },
    {
     "name": "stdout",
     "output_type": "stream",
     "text": [
      "Dados de treino até 2022-03-01, com dados de teste 90 dias apos\n"
     ]
    },
    {
     "name": "stderr",
     "output_type": "stream",
     "text": [
      "100%|██████████████████████████████████████████████████████████████████████████████████| 29/29 [00:01<00:00, 27.06it/s]\n"
     ]
    },
    {
     "name": "stdout",
     "output_type": "stream",
     "text": [
      "Dados de treino até 2022-03-02, com dados de teste 90 dias apos\n"
     ]
    },
    {
     "name": "stderr",
     "output_type": "stream",
     "text": [
      "100%|██████████████████████████████████████████████████████████████████████████████████| 29/29 [00:01<00:00, 27.60it/s]\n"
     ]
    },
    {
     "name": "stdout",
     "output_type": "stream",
     "text": [
      "Dados de treino até 2022-03-03, com dados de teste 90 dias apos\n"
     ]
    },
    {
     "name": "stderr",
     "output_type": "stream",
     "text": [
      "100%|██████████████████████████████████████████████████████████████████████████████████| 29/29 [00:01<00:00, 26.55it/s]\n"
     ]
    },
    {
     "name": "stdout",
     "output_type": "stream",
     "text": [
      "Dados de treino até 2022-03-04, com dados de teste 90 dias apos\n"
     ]
    },
    {
     "name": "stderr",
     "output_type": "stream",
     "text": [
      "100%|██████████████████████████████████████████████████████████████████████████████████| 29/29 [00:01<00:00, 27.58it/s]\n"
     ]
    },
    {
     "name": "stdout",
     "output_type": "stream",
     "text": [
      "Dados de treino até 2022-03-05, com dados de teste 90 dias apos\n"
     ]
    },
    {
     "name": "stderr",
     "output_type": "stream",
     "text": [
      "100%|██████████████████████████████████████████████████████████████████████████████████| 29/29 [00:01<00:00, 27.28it/s]\n"
     ]
    },
    {
     "name": "stdout",
     "output_type": "stream",
     "text": [
      "Dados de treino até 2022-03-06, com dados de teste 90 dias apos\n"
     ]
    },
    {
     "name": "stderr",
     "output_type": "stream",
     "text": [
      "100%|██████████████████████████████████████████████████████████████████████████████████| 29/29 [00:01<00:00, 27.75it/s]\n"
     ]
    },
    {
     "name": "stdout",
     "output_type": "stream",
     "text": [
      "Dados de treino até 2022-03-07, com dados de teste 90 dias apos\n"
     ]
    },
    {
     "name": "stderr",
     "output_type": "stream",
     "text": [
      "100%|██████████████████████████████████████████████████████████████████████████████████| 29/29 [00:01<00:00, 27.80it/s]\n"
     ]
    },
    {
     "name": "stdout",
     "output_type": "stream",
     "text": [
      "Dados de treino até 2022-03-08, com dados de teste 90 dias apos\n"
     ]
    },
    {
     "name": "stderr",
     "output_type": "stream",
     "text": [
      "100%|██████████████████████████████████████████████████████████████████████████████████| 29/29 [00:01<00:00, 27.56it/s]\n"
     ]
    },
    {
     "name": "stdout",
     "output_type": "stream",
     "text": [
      "Dados de treino até 2022-03-09, com dados de teste 90 dias apos\n"
     ]
    },
    {
     "name": "stderr",
     "output_type": "stream",
     "text": [
      "100%|██████████████████████████████████████████████████████████████████████████████████| 29/29 [00:01<00:00, 27.33it/s]\n"
     ]
    },
    {
     "name": "stdout",
     "output_type": "stream",
     "text": [
      "Dados de treino até 2022-03-10, com dados de teste 90 dias apos\n"
     ]
    },
    {
     "name": "stderr",
     "output_type": "stream",
     "text": [
      "100%|██████████████████████████████████████████████████████████████████████████████████| 29/29 [00:01<00:00, 27.57it/s]\n"
     ]
    },
    {
     "name": "stdout",
     "output_type": "stream",
     "text": [
      "Dados de treino até 2022-03-11, com dados de teste 90 dias apos\n"
     ]
    },
    {
     "name": "stderr",
     "output_type": "stream",
     "text": [
      "100%|██████████████████████████████████████████████████████████████████████████████████| 29/29 [00:01<00:00, 27.75it/s]\n"
     ]
    },
    {
     "name": "stdout",
     "output_type": "stream",
     "text": [
      "Dados de treino até 2022-03-12, com dados de teste 90 dias apos\n"
     ]
    },
    {
     "name": "stderr",
     "output_type": "stream",
     "text": [
      "100%|██████████████████████████████████████████████████████████████████████████████████| 29/29 [00:01<00:00, 27.38it/s]\n"
     ]
    },
    {
     "name": "stdout",
     "output_type": "stream",
     "text": [
      "Dados de treino até 2022-03-13, com dados de teste 90 dias apos\n"
     ]
    },
    {
     "name": "stderr",
     "output_type": "stream",
     "text": [
      "100%|██████████████████████████████████████████████████████████████████████████████████| 29/29 [00:01<00:00, 27.38it/s]\n"
     ]
    },
    {
     "name": "stdout",
     "output_type": "stream",
     "text": [
      "Dados de treino até 2022-03-14, com dados de teste 90 dias apos\n"
     ]
    },
    {
     "name": "stderr",
     "output_type": "stream",
     "text": [
      "100%|██████████████████████████████████████████████████████████████████████████████████| 29/29 [00:01<00:00, 27.88it/s]\n"
     ]
    },
    {
     "name": "stdout",
     "output_type": "stream",
     "text": [
      "Dados de treino até 2022-03-15, com dados de teste 90 dias apos\n"
     ]
    },
    {
     "name": "stderr",
     "output_type": "stream",
     "text": [
      "100%|██████████████████████████████████████████████████████████████████████████████████| 29/29 [00:01<00:00, 27.50it/s]\n"
     ]
    },
    {
     "name": "stdout",
     "output_type": "stream",
     "text": [
      "Dados de treino até 2022-03-16, com dados de teste 90 dias apos\n"
     ]
    },
    {
     "name": "stderr",
     "output_type": "stream",
     "text": [
      "100%|██████████████████████████████████████████████████████████████████████████████████| 29/29 [00:01<00:00, 27.87it/s]\n"
     ]
    },
    {
     "name": "stdout",
     "output_type": "stream",
     "text": [
      "Dados de treino até 2022-03-17, com dados de teste 90 dias apos\n"
     ]
    },
    {
     "name": "stderr",
     "output_type": "stream",
     "text": [
      "100%|██████████████████████████████████████████████████████████████████████████████████| 29/29 [00:01<00:00, 27.63it/s]\n"
     ]
    },
    {
     "name": "stdout",
     "output_type": "stream",
     "text": [
      "Dados de treino até 2022-03-18, com dados de teste 90 dias apos\n"
     ]
    },
    {
     "name": "stderr",
     "output_type": "stream",
     "text": [
      "100%|██████████████████████████████████████████████████████████████████████████████████| 29/29 [00:01<00:00, 27.75it/s]\n"
     ]
    },
    {
     "name": "stdout",
     "output_type": "stream",
     "text": [
      "Dados de treino até 2022-03-19, com dados de teste 90 dias apos\n"
     ]
    },
    {
     "name": "stderr",
     "output_type": "stream",
     "text": [
      "100%|██████████████████████████████████████████████████████████████████████████████████| 29/29 [00:01<00:00, 27.59it/s]\n"
     ]
    },
    {
     "name": "stdout",
     "output_type": "stream",
     "text": [
      "Dados de treino até 2022-03-20, com dados de teste 90 dias apos\n"
     ]
    },
    {
     "name": "stderr",
     "output_type": "stream",
     "text": [
      "100%|██████████████████████████████████████████████████████████████████████████████████| 29/29 [00:01<00:00, 27.44it/s]\n"
     ]
    },
    {
     "name": "stdout",
     "output_type": "stream",
     "text": [
      "Dados de treino até 2022-03-21, com dados de teste 90 dias apos\n"
     ]
    },
    {
     "name": "stderr",
     "output_type": "stream",
     "text": [
      "100%|██████████████████████████████████████████████████████████████████████████████████| 29/29 [00:01<00:00, 27.39it/s]\n"
     ]
    },
    {
     "name": "stdout",
     "output_type": "stream",
     "text": [
      "Dados de treino até 2022-03-22, com dados de teste 90 dias apos\n"
     ]
    },
    {
     "name": "stderr",
     "output_type": "stream",
     "text": [
      "100%|██████████████████████████████████████████████████████████████████████████████████| 29/29 [00:01<00:00, 27.49it/s]\n"
     ]
    },
    {
     "name": "stdout",
     "output_type": "stream",
     "text": [
      "Dados de treino até 2022-03-23, com dados de teste 90 dias apos\n"
     ]
    },
    {
     "name": "stderr",
     "output_type": "stream",
     "text": [
      "100%|██████████████████████████████████████████████████████████████████████████████████| 29/29 [00:01<00:00, 27.20it/s]\n"
     ]
    },
    {
     "name": "stdout",
     "output_type": "stream",
     "text": [
      "Dados de treino até 2022-03-24, com dados de teste 90 dias apos\n"
     ]
    },
    {
     "name": "stderr",
     "output_type": "stream",
     "text": [
      "100%|██████████████████████████████████████████████████████████████████████████████████| 29/29 [00:01<00:00, 27.08it/s]\n"
     ]
    },
    {
     "name": "stdout",
     "output_type": "stream",
     "text": [
      "Dados de treino até 2022-03-25, com dados de teste 90 dias apos\n"
     ]
    },
    {
     "name": "stderr",
     "output_type": "stream",
     "text": [
      "100%|██████████████████████████████████████████████████████████████████████████████████| 29/29 [00:01<00:00, 26.47it/s]\n"
     ]
    },
    {
     "name": "stdout",
     "output_type": "stream",
     "text": [
      "Dados de treino até 2022-03-26, com dados de teste 90 dias apos\n"
     ]
    },
    {
     "name": "stderr",
     "output_type": "stream",
     "text": [
      "100%|██████████████████████████████████████████████████████████████████████████████████| 29/29 [00:01<00:00, 27.15it/s]\n"
     ]
    },
    {
     "name": "stdout",
     "output_type": "stream",
     "text": [
      "Dados de treino até 2022-03-27, com dados de teste 90 dias apos\n"
     ]
    },
    {
     "name": "stderr",
     "output_type": "stream",
     "text": [
      "100%|██████████████████████████████████████████████████████████████████████████████████| 29/29 [00:01<00:00, 27.31it/s]\n"
     ]
    },
    {
     "name": "stdout",
     "output_type": "stream",
     "text": [
      "Dados de treino até 2022-03-28, com dados de teste 90 dias apos\n"
     ]
    },
    {
     "name": "stderr",
     "output_type": "stream",
     "text": [
      "100%|██████████████████████████████████████████████████████████████████████████████████| 29/29 [00:01<00:00, 27.09it/s]\n"
     ]
    },
    {
     "name": "stdout",
     "output_type": "stream",
     "text": [
      "Dados de treino até 2022-03-29, com dados de teste 90 dias apos\n"
     ]
    },
    {
     "name": "stderr",
     "output_type": "stream",
     "text": [
      "100%|██████████████████████████████████████████████████████████████████████████████████| 29/29 [00:01<00:00, 27.23it/s]\n"
     ]
    },
    {
     "name": "stdout",
     "output_type": "stream",
     "text": [
      "Dados de treino até 2022-03-30, com dados de teste 90 dias apos\n"
     ]
    },
    {
     "name": "stderr",
     "output_type": "stream",
     "text": [
      "100%|██████████████████████████████████████████████████████████████████████████████████| 29/29 [00:01<00:00, 26.06it/s]\n"
     ]
    },
    {
     "name": "stdout",
     "output_type": "stream",
     "text": [
      "Dados de treino até 2022-03-31, com dados de teste 90 dias apos\n"
     ]
    },
    {
     "name": "stderr",
     "output_type": "stream",
     "text": [
      "100%|██████████████████████████████████████████████████████████████████████████████████| 29/29 [00:01<00:00, 24.56it/s]\n"
     ]
    }
   ],
   "source": [
    "## Define uma lista simulando a frequencia de retreinamento sobre os dados de 2022\n",
    "lista_frequencias_dias = [30,60,90]\n",
    "\n",
    "# Cria dataframe com resultados de 29 algoritmos ingenuos nas frequencias testadas\n",
    "df_resultado_algoritmo_frequencia =  pd.DataFrame()\n",
    "\n",
    "df_models = pd.DataFrame()\n",
    "\n",
    "for i in lista_frequencias_dias:\n",
    "    frequencia = i\n",
    "    \n",
    "    ## Define o inicio do loop para treinamento com os dados <= 2021\n",
    "    treinar_ate_data_str = '2021-12-31'\n",
    "    \n",
    "    #Criterio de parada: # Definido como x dia antes de df_final99.Date.max() onde x = frequencia\n",
    "    ts = df_final99.Date.max()+timedelta(-frequencia)\n",
    "    data_stop = ts.strftime(\"%Y-%m-%d\")\n",
    "    \n",
    "    ## Percorre o periodo\n",
    "    while treinar_ate_data_str != data_stop:\n",
    "        print(\"Dados de treino até %s, com dados de teste %s dias apos\" % (treinar_ate_data_str,frequencia))\n",
    "\n",
    "        ## Dados de treino (até a data definida por treinar_ate_data_str)\n",
    "        X = df_final99[(df_final99['Date'] <= parser.parse(treinar_ate_data_str))][['score','neu_robd4','neg_finbertd2','scored3']]\n",
    "        y = df_final99[(df_final99['Date'] <= parser.parse(treinar_ate_data_str))][['Fechamento']]\n",
    "\n",
    "        X_train = X\n",
    "        y_train = y\n",
    "\n",
    "        #Atualiza a variável\n",
    "        data_limite_teste = parser.parse(treinar_ate_data_str) + timedelta(qtde_dias_avaliar) ## Soma x dias\n",
    "        data_limite_teste = data_limite_teste.strftime(\"%Y-%m-%d\") ## Transforma pra string\n",
    "\n",
    "        ## Dados de teste (x dias após o treinar_ate_data_str onde x = qtde_dias_avaliar)\n",
    "        X_test = df_final99[(df_final99['Date'] > parser.parse(treinar_ate_data_str)) & (df_final99['Date'] <= parser.parse(data_limite_teste))][['score','neu_robd4','neg_finbertd2','scored3']]\n",
    "        y_test = df_final99[(df_final99['Date'] > parser.parse(treinar_ate_data_str)) & (df_final99['Date'] <= parser.parse(data_limite_teste))][['Fechamento']]\n",
    "\n",
    "\n",
    "        #Treina Algorítmos ingênuos\n",
    "        clf = LazyClassifier(verbose=0,ignore_warnings=True, custom_metric=None)\n",
    "        models,predictions = clf.fit(X_train, X_test, y_train, y_test) \n",
    "\n",
    "\n",
    "        ## Armazena os resultados para cada frequencia testada\n",
    "        models['freq'] = i\n",
    "        models['data'] = treinar_ate_data_str\n",
    "        df_models = df_models.append(models.reset_index(), ignore_index=True)\n",
    "\n",
    "        #Atualiza a variável\n",
    "        treinar_ate_data_str = parser.parse(treinar_ate_data_str) + timedelta(1) ## Soma 1 dia\n",
    "        treinar_ate_data_str = treinar_ate_data_str.strftime(\"%Y-%m-%d\") ## Transforma pra string\n",
    "\n",
    "        \n",
    "    #Agrupando media dos resultados por algoritmo e frequencia em todo periodo:\n",
    "    df_aux = df_models.copy()\n",
    "    df_aux['data'] = pd.to_datetime(df_aux['data'])\n",
    "    df_aux = df_aux.groupby(['Model']).agg({'Balanced Accuracy':np.mean})\n",
    "    \n",
    "    \n",
    "    #Armazenando a media dos resultados agrupados dos algoritmos para cada frequencia testada em todo periodo\n",
    "    df_resultado_algoritmo_frequencia = df_resultado_algoritmo_frequencia.append(df_aux, ignore_index = True)"
   ]
  },
  {
   "cell_type": "code",
   "execution_count": 173,
   "metadata": {},
   "outputs": [
    {
     "data": {
      "text/html": [
       "<div>\n",
       "<style scoped>\n",
       "    .dataframe tbody tr th:only-of-type {\n",
       "        vertical-align: middle;\n",
       "    }\n",
       "\n",
       "    .dataframe tbody tr th {\n",
       "        vertical-align: top;\n",
       "    }\n",
       "\n",
       "    .dataframe thead th {\n",
       "        text-align: right;\n",
       "    }\n",
       "</style>\n",
       "<table border=\"1\" class=\"dataframe\">\n",
       "  <thead>\n",
       "    <tr style=\"text-align: right;\">\n",
       "      <th></th>\n",
       "      <th>Model</th>\n",
       "      <th>Accuracy</th>\n",
       "      <th>Balanced Accuracy</th>\n",
       "      <th>ROC AUC</th>\n",
       "      <th>F1 Score</th>\n",
       "      <th>Time Taken</th>\n",
       "      <th>data</th>\n",
       "    </tr>\n",
       "  </thead>\n",
       "  <tbody>\n",
       "    <tr>\n",
       "      <th>0</th>\n",
       "      <td>PassiveAggressiveClassifier</td>\n",
       "      <td>0.543478</td>\n",
       "      <td>0.541905</td>\n",
       "      <td>0.541905</td>\n",
       "      <td>0.544128</td>\n",
       "      <td>0.013005</td>\n",
       "      <td>2021-12-31</td>\n",
       "    </tr>\n",
       "    <tr>\n",
       "      <th>1</th>\n",
       "      <td>DummyClassifier</td>\n",
       "      <td>0.543478</td>\n",
       "      <td>0.538095</td>\n",
       "      <td>0.538095</td>\n",
       "      <td>0.542387</td>\n",
       "      <td>0.018999</td>\n",
       "      <td>2021-12-31</td>\n",
       "    </tr>\n",
       "    <tr>\n",
       "      <th>2</th>\n",
       "      <td>Perceptron</td>\n",
       "      <td>0.521739</td>\n",
       "      <td>0.502857</td>\n",
       "      <td>0.502857</td>\n",
       "      <td>0.498457</td>\n",
       "      <td>0.012015</td>\n",
       "      <td>2021-12-31</td>\n",
       "    </tr>\n",
       "    <tr>\n",
       "      <th>3</th>\n",
       "      <td>AdaBoostClassifier</td>\n",
       "      <td>0.500000</td>\n",
       "      <td>0.501905</td>\n",
       "      <td>0.501905</td>\n",
       "      <td>0.500709</td>\n",
       "      <td>0.103999</td>\n",
       "      <td>2021-12-31</td>\n",
       "    </tr>\n",
       "    <tr>\n",
       "      <th>4</th>\n",
       "      <td>GaussianNB</td>\n",
       "      <td>0.500000</td>\n",
       "      <td>0.490476</td>\n",
       "      <td>0.490476</td>\n",
       "      <td>0.494920</td>\n",
       "      <td>0.019999</td>\n",
       "      <td>2021-12-31</td>\n",
       "    </tr>\n",
       "    <tr>\n",
       "      <th>...</th>\n",
       "      <td>...</td>\n",
       "      <td>...</td>\n",
       "      <td>...</td>\n",
       "      <td>...</td>\n",
       "      <td>...</td>\n",
       "      <td>...</td>\n",
       "      <td>...</td>\n",
       "    </tr>\n",
       "    <tr>\n",
       "      <th>454</th>\n",
       "      <td>LabelSpreading</td>\n",
       "      <td>0.369565</td>\n",
       "      <td>0.371212</td>\n",
       "      <td>0.371212</td>\n",
       "      <td>0.368671</td>\n",
       "      <td>0.024000</td>\n",
       "      <td>2022-01-16</td>\n",
       "    </tr>\n",
       "    <tr>\n",
       "      <th>455</th>\n",
       "      <td>LabelPropagation</td>\n",
       "      <td>0.369565</td>\n",
       "      <td>0.371212</td>\n",
       "      <td>0.371212</td>\n",
       "      <td>0.368671</td>\n",
       "      <td>0.020002</td>\n",
       "      <td>2022-01-16</td>\n",
       "    </tr>\n",
       "    <tr>\n",
       "      <th>456</th>\n",
       "      <td>KNeighborsClassifier</td>\n",
       "      <td>0.369565</td>\n",
       "      <td>0.371212</td>\n",
       "      <td>0.371212</td>\n",
       "      <td>0.368671</td>\n",
       "      <td>0.019995</td>\n",
       "      <td>2022-01-16</td>\n",
       "    </tr>\n",
       "    <tr>\n",
       "      <th>457</th>\n",
       "      <td>ExtraTreesClassifier</td>\n",
       "      <td>0.369565</td>\n",
       "      <td>0.369318</td>\n",
       "      <td>0.369318</td>\n",
       "      <td>0.369863</td>\n",
       "      <td>0.148999</td>\n",
       "      <td>2022-01-16</td>\n",
       "    </tr>\n",
       "    <tr>\n",
       "      <th>458</th>\n",
       "      <td>DecisionTreeClassifier</td>\n",
       "      <td>0.369565</td>\n",
       "      <td>0.369318</td>\n",
       "      <td>0.369318</td>\n",
       "      <td>0.369863</td>\n",
       "      <td>0.020985</td>\n",
       "      <td>2022-01-16</td>\n",
       "    </tr>\n",
       "  </tbody>\n",
       "</table>\n",
       "<p>459 rows × 7 columns</p>\n",
       "</div>"
      ],
      "text/plain": [
       "                           Model  Accuracy  Balanced Accuracy   ROC AUC  \\\n",
       "0    PassiveAggressiveClassifier  0.543478           0.541905  0.541905   \n",
       "1                DummyClassifier  0.543478           0.538095  0.538095   \n",
       "2                     Perceptron  0.521739           0.502857  0.502857   \n",
       "3             AdaBoostClassifier  0.500000           0.501905  0.501905   \n",
       "4                     GaussianNB  0.500000           0.490476  0.490476   \n",
       "..                           ...       ...                ...       ...   \n",
       "454               LabelSpreading  0.369565           0.371212  0.371212   \n",
       "455             LabelPropagation  0.369565           0.371212  0.371212   \n",
       "456         KNeighborsClassifier  0.369565           0.371212  0.371212   \n",
       "457         ExtraTreesClassifier  0.369565           0.369318  0.369318   \n",
       "458       DecisionTreeClassifier  0.369565           0.369318  0.369318   \n",
       "\n",
       "     F1 Score  Time Taken        data  \n",
       "0    0.544128    0.013005  2021-12-31  \n",
       "1    0.542387    0.018999  2021-12-31  \n",
       "2    0.498457    0.012015  2021-12-31  \n",
       "3    0.500709    0.103999  2021-12-31  \n",
       "4    0.494920    0.019999  2021-12-31  \n",
       "..        ...         ...         ...  \n",
       "454  0.368671    0.024000  2022-01-16  \n",
       "455  0.368671    0.020002  2022-01-16  \n",
       "456  0.368671    0.019995  2022-01-16  \n",
       "457  0.369863    0.148999  2022-01-16  \n",
       "458  0.369863    0.020985  2022-01-16  \n",
       "\n",
       "[459 rows x 7 columns]"
      ]
     },
     "execution_count": 173,
     "metadata": {},
     "output_type": "execute_result"
    }
   ],
   "source": [
    "df_models"
   ]
  },
  {
   "cell_type": "code",
   "execution_count": 162,
   "metadata": {},
   "outputs": [],
   "source": [
    "pd.set_option('display.precision',4)"
   ]
  },
  {
   "cell_type": "code",
   "execution_count": 163,
   "metadata": {},
   "outputs": [],
   "source": [
    "pd.reset_option('^display.',silent=True)"
   ]
  },
  {
   "cell_type": "code",
   "execution_count": 178,
   "metadata": {},
   "outputs": [
    {
     "data": {
      "text/html": [
       "<div>\n",
       "<style scoped>\n",
       "    .dataframe tbody tr th:only-of-type {\n",
       "        vertical-align: middle;\n",
       "    }\n",
       "\n",
       "    .dataframe tbody tr th {\n",
       "        vertical-align: top;\n",
       "    }\n",
       "\n",
       "    .dataframe thead th {\n",
       "        text-align: right;\n",
       "    }\n",
       "</style>\n",
       "<table border=\"1\" class=\"dataframe\">\n",
       "  <thead>\n",
       "    <tr style=\"text-align: right;\">\n",
       "      <th></th>\n",
       "      <th></th>\n",
       "      <th>Balanced Accuracy</th>\n",
       "    </tr>\n",
       "    <tr>\n",
       "      <th>Model</th>\n",
       "      <th>freq</th>\n",
       "      <th></th>\n",
       "    </tr>\n",
       "  </thead>\n",
       "  <tbody>\n",
       "    <tr>\n",
       "      <th rowspan=\"2\" valign=\"top\">SVC</th>\n",
       "      <th>90</th>\n",
       "      <td>0.585618</td>\n",
       "    </tr>\n",
       "    <tr>\n",
       "      <th>60</th>\n",
       "      <td>0.583163</td>\n",
       "    </tr>\n",
       "    <tr>\n",
       "      <th rowspan=\"2\" valign=\"top\">GaussianNB</th>\n",
       "      <th>90</th>\n",
       "      <td>0.578003</td>\n",
       "    </tr>\n",
       "    <tr>\n",
       "      <th>60</th>\n",
       "      <td>0.572372</td>\n",
       "    </tr>\n",
       "    <tr>\n",
       "      <th>LinearSVC</th>\n",
       "      <th>90</th>\n",
       "      <td>0.568088</td>\n",
       "    </tr>\n",
       "    <tr>\n",
       "      <th>LogisticRegression</th>\n",
       "      <th>90</th>\n",
       "      <td>0.568088</td>\n",
       "    </tr>\n",
       "    <tr>\n",
       "      <th>CalibratedClassifierCV</th>\n",
       "      <th>90</th>\n",
       "      <td>0.567869</td>\n",
       "    </tr>\n",
       "    <tr>\n",
       "      <th>RidgeClassifierCV</th>\n",
       "      <th>90</th>\n",
       "      <td>0.567182</td>\n",
       "    </tr>\n",
       "    <tr>\n",
       "      <th>SVC</th>\n",
       "      <th>30</th>\n",
       "      <td>0.567156</td>\n",
       "    </tr>\n",
       "    <tr>\n",
       "      <th>LinearDiscriminantAnalysis</th>\n",
       "      <th>90</th>\n",
       "      <td>0.566421</td>\n",
       "    </tr>\n",
       "    <tr>\n",
       "      <th>RidgeClassifier</th>\n",
       "      <th>90</th>\n",
       "      <td>0.566421</td>\n",
       "    </tr>\n",
       "    <tr>\n",
       "      <th>QuadraticDiscriminantAnalysis</th>\n",
       "      <th>90</th>\n",
       "      <td>0.564376</td>\n",
       "    </tr>\n",
       "    <tr>\n",
       "      <th>GaussianNB</th>\n",
       "      <th>30</th>\n",
       "      <td>0.556236</td>\n",
       "    </tr>\n",
       "    <tr>\n",
       "      <th>QuadraticDiscriminantAnalysis</th>\n",
       "      <th>60</th>\n",
       "      <td>0.556061</td>\n",
       "    </tr>\n",
       "    <tr>\n",
       "      <th>LinearSVC</th>\n",
       "      <th>60</th>\n",
       "      <td>0.552901</td>\n",
       "    </tr>\n",
       "    <tr>\n",
       "      <th>LogisticRegression</th>\n",
       "      <th>60</th>\n",
       "      <td>0.552901</td>\n",
       "    </tr>\n",
       "    <tr>\n",
       "      <th>CalibratedClassifierCV</th>\n",
       "      <th>60</th>\n",
       "      <td>0.552736</td>\n",
       "    </tr>\n",
       "    <tr>\n",
       "      <th>RidgeClassifierCV</th>\n",
       "      <th>60</th>\n",
       "      <td>0.552220</td>\n",
       "    </tr>\n",
       "    <tr>\n",
       "      <th>LinearDiscriminantAnalysis</th>\n",
       "      <th>60</th>\n",
       "      <td>0.551647</td>\n",
       "    </tr>\n",
       "    <tr>\n",
       "      <th>RidgeClassifier</th>\n",
       "      <th>60</th>\n",
       "      <td>0.551647</td>\n",
       "    </tr>\n",
       "    <tr>\n",
       "      <th rowspan=\"2\" valign=\"top\">BernoulliNB</th>\n",
       "      <th>90</th>\n",
       "      <td>0.547678</td>\n",
       "    </tr>\n",
       "    <tr>\n",
       "      <th>60</th>\n",
       "      <td>0.544962</td>\n",
       "    </tr>\n",
       "    <tr>\n",
       "      <th>LabelPropagation</th>\n",
       "      <th>30</th>\n",
       "      <td>0.539682</td>\n",
       "    </tr>\n",
       "    <tr>\n",
       "      <th rowspan=\"2\" valign=\"top\">NearestCentroid</th>\n",
       "      <th>90</th>\n",
       "      <td>0.539304</td>\n",
       "    </tr>\n",
       "    <tr>\n",
       "      <th>60</th>\n",
       "      <td>0.538760</td>\n",
       "    </tr>\n",
       "    <tr>\n",
       "      <th>LabelSpreading</th>\n",
       "      <th>30</th>\n",
       "      <td>0.534821</td>\n",
       "    </tr>\n",
       "    <tr>\n",
       "      <th>QuadraticDiscriminantAnalysis</th>\n",
       "      <th>30</th>\n",
       "      <td>0.534158</td>\n",
       "    </tr>\n",
       "    <tr>\n",
       "      <th>BernoulliNB</th>\n",
       "      <th>30</th>\n",
       "      <td>0.532520</td>\n",
       "    </tr>\n",
       "    <tr>\n",
       "      <th>LinearSVC</th>\n",
       "      <th>30</th>\n",
       "      <td>0.529361</td>\n",
       "    </tr>\n",
       "    <tr>\n",
       "      <th>LogisticRegression</th>\n",
       "      <th>30</th>\n",
       "      <td>0.529361</td>\n",
       "    </tr>\n",
       "  </tbody>\n",
       "</table>\n",
       "</div>"
      ],
      "text/plain": [
       "                                    Balanced Accuracy\n",
       "Model                         freq                   \n",
       "SVC                           90             0.585618\n",
       "                              60             0.583163\n",
       "GaussianNB                    90             0.578003\n",
       "                              60             0.572372\n",
       "LinearSVC                     90             0.568088\n",
       "LogisticRegression            90             0.568088\n",
       "CalibratedClassifierCV        90             0.567869\n",
       "RidgeClassifierCV             90             0.567182\n",
       "SVC                           30             0.567156\n",
       "LinearDiscriminantAnalysis    90             0.566421\n",
       "RidgeClassifier               90             0.566421\n",
       "QuadraticDiscriminantAnalysis 90             0.564376\n",
       "GaussianNB                    30             0.556236\n",
       "QuadraticDiscriminantAnalysis 60             0.556061\n",
       "LinearSVC                     60             0.552901\n",
       "LogisticRegression            60             0.552901\n",
       "CalibratedClassifierCV        60             0.552736\n",
       "RidgeClassifierCV             60             0.552220\n",
       "LinearDiscriminantAnalysis    60             0.551647\n",
       "RidgeClassifier               60             0.551647\n",
       "BernoulliNB                   90             0.547678\n",
       "                              60             0.544962\n",
       "LabelPropagation              30             0.539682\n",
       "NearestCentroid               90             0.539304\n",
       "                              60             0.538760\n",
       "LabelSpreading                30             0.534821\n",
       "QuadraticDiscriminantAnalysis 30             0.534158\n",
       "BernoulliNB                   30             0.532520\n",
       "LinearSVC                     30             0.529361\n",
       "LogisticRegression            30             0.529361"
      ]
     },
     "execution_count": 178,
     "metadata": {},
     "output_type": "execute_result"
    }
   ],
   "source": [
    "df_models2 = df_models.copy()\n",
    "df_models2['data'] = pd.to_datetime(df_models2['data'])\n",
    "df_models2.groupby(['Model','freq']).agg({'Balanced Accuracy':np.mean}).sort_values(by='Balanced Accuracy', ascending=False).head(30)"
   ]
  },
  {
   "cell_type": "markdown",
   "metadata": {},
   "source": [
    "Melhores modelos e frequencias de retreino: 90 dias - SVC, GaussianNB, LinearSVC, LogisticRegression"
   ]
  },
  {
   "cell_type": "code",
   "execution_count": 198,
   "metadata": {},
   "outputs": [],
   "source": [
    "modelos_testados = ['Perceptron', 'NuSVC', 'AdaBoostClassifier', 'LogisticRegression',\n",
    " 'XGBClassifier', 'SVC', 'SGDClassifier', 'RidgeClassifierCV', 'RidgeClassifier', 'RandomForestClassifier',\n",
    " 'QuadraticDiscriminantAnalysis', 'PassiveAggressiveClassifier', 'NearestCentroid', 'LinearSVC',\n",
    " 'BaggingClassifier', 'LinearDiscriminantAnalysis', 'LabelSpreading', 'LabelPropagation', 'KNeighborsClassifier',\n",
    " 'GaussianNB', 'ExtraTreesClassifier', 'ExtraTreeClassifier', 'DummyClassifier', 'DecisionTreeClassifier',\n",
    " 'CalibratedClassifierCV', 'BernoulliNB', 'LGBMClassifier']\n",
    "\n",
    "modelos_selecionados = ['SVC','GaussianNB','LinearSVC','LogisticRegression']"
   ]
  },
  {
   "cell_type": "code",
   "execution_count": 199,
   "metadata": {},
   "outputs": [
    {
     "data": {
      "image/png": "[encoded data removed]",
      "text/plain": [
       "<Figure size 1296x1008 with 3 Axes>"
      ]
     },
     "metadata": {
      "needs_background": "light"
     },
     "output_type": "display_data"
    }
   ],
   "source": [
    "fig, ax = plt.subplots(len(lista_frequencias_dias), figsize=(18,14))\n",
    "\n",
    "#Define a frequencia para plotar [30,60,90]\n",
    "freq = 90\n",
    "\n",
    "for i,freq in enumerate(lista_frequencias_dias):\n",
    "    \n",
    "    # multiline plot with group by\n",
    "    for key, grp in df_models2[(df_models2['freq']==freq)].groupby(['Model']): \n",
    "        if key in modelos_selecionados:\n",
    "            ax[i].plot(grp['data'], grp['Balanced Accuracy'], label = key)\n",
    "        \n",
    "    ax[i].legend(loc='upper right',prop={'size': 10}) \n",
    "    ax[i].set_yticks(np.arange(0, 1.05, step=0.05).tolist())\n",
    "    ax[i].title.set_text('Frequencia de retreino de %s dias' %(freq))\n",
    "\n",
    "#ax.plot([parser.parse('2022-04-28')], [0.69], 'o')\n",
    "#ax.annotate('LabelSpreading Model', xy=(parser.parse('2022-04-28'), 0.69), xytext=(parser.parse('2022-04-03'), 0.85), fontsize=12,arrowprops=dict(facecolor='red', shrink=0.05))"
   ]
  },
  {
   "cell_type": "markdown",
   "metadata": {},
   "source": [
    "# 3.2 Determinando frequencia de retreinamento e avaliando resultados de algorítmos pré-tunados"
   ]
  },
  {
   "cell_type": "code",
   "execution_count": 200,
   "metadata": {},
   "outputs": [
    {
     "name": "stdout",
     "output_type": "stream",
     "text": [
      "Dados de treino até 2021-12-31, com dados de teste 30 dias apos\n",
      "Dados de treino até 2022-01-01, com dados de teste 30 dias apos\n",
      "Dados de treino até 2022-01-02, com dados de teste 30 dias apos\n",
      "Dados de treino até 2022-01-03, com dados de teste 30 dias apos\n",
      "Dados de treino até 2022-01-04, com dados de teste 30 dias apos\n",
      "Dados de treino até 2022-01-05, com dados de teste 30 dias apos\n",
      "Dados de treino até 2022-01-06, com dados de teste 30 dias apos\n",
      "Dados de treino até 2022-01-07, com dados de teste 30 dias apos\n",
      "Dados de treino até 2022-01-08, com dados de teste 30 dias apos\n",
      "Dados de treino até 2022-01-09, com dados de teste 30 dias apos\n",
      "Dados de treino até 2022-01-10, com dados de teste 30 dias apos\n",
      "Dados de treino até 2022-01-11, com dados de teste 30 dias apos\n",
      "Dados de treino até 2022-01-12, com dados de teste 30 dias apos\n",
      "Dados de treino até 2022-01-13, com dados de teste 30 dias apos\n",
      "Dados de treino até 2022-01-14, com dados de teste 30 dias apos\n",
      "Dados de treino até 2022-01-15, com dados de teste 30 dias apos\n",
      "Dados de treino até 2022-01-16, com dados de teste 30 dias apos\n",
      "Dados de treino até 2022-01-17, com dados de teste 30 dias apos\n",
      "Dados de treino até 2022-01-18, com dados de teste 30 dias apos\n",
      "Dados de treino até 2022-01-19, com dados de teste 30 dias apos\n",
      "Dados de treino até 2022-01-20, com dados de teste 30 dias apos\n",
      "Dados de treino até 2022-01-21, com dados de teste 30 dias apos\n",
      "Dados de treino até 2022-01-22, com dados de teste 30 dias apos\n",
      "Dados de treino até 2022-01-23, com dados de teste 30 dias apos\n",
      "Dados de treino até 2022-01-24, com dados de teste 30 dias apos\n",
      "Dados de treino até 2022-01-25, com dados de teste 30 dias apos\n",
      "Dados de treino até 2022-01-26, com dados de teste 30 dias apos\n",
      "Dados de treino até 2022-01-27, com dados de teste 30 dias apos\n",
      "Dados de treino até 2022-01-28, com dados de teste 30 dias apos\n",
      "Dados de treino até 2022-01-29, com dados de teste 30 dias apos\n",
      "Dados de treino até 2022-01-30, com dados de teste 30 dias apos\n",
      "Dados de treino até 2022-01-31, com dados de teste 30 dias apos\n",
      "Dados de treino até 2022-02-01, com dados de teste 30 dias apos\n",
      "Dados de treino até 2022-02-02, com dados de teste 30 dias apos\n",
      "Dados de treino até 2022-02-03, com dados de teste 30 dias apos\n",
      "Dados de treino até 2022-02-04, com dados de teste 30 dias apos\n",
      "Dados de treino até 2022-02-05, com dados de teste 30 dias apos\n",
      "Dados de treino até 2022-02-06, com dados de teste 30 dias apos\n",
      "Dados de treino até 2022-02-07, com dados de teste 30 dias apos\n",
      "Dados de treino até 2022-02-08, com dados de teste 30 dias apos\n",
      "Dados de treino até 2022-02-09, com dados de teste 30 dias apos\n",
      "Dados de treino até 2022-02-10, com dados de teste 30 dias apos\n",
      "Dados de treino até 2022-02-11, com dados de teste 30 dias apos\n",
      "Dados de treino até 2022-02-12, com dados de teste 30 dias apos\n",
      "Dados de treino até 2022-02-13, com dados de teste 30 dias apos\n",
      "Dados de treino até 2022-02-14, com dados de teste 30 dias apos\n",
      "Dados de treino até 2022-02-15, com dados de teste 30 dias apos\n",
      "Dados de treino até 2022-02-16, com dados de teste 30 dias apos\n",
      "Dados de treino até 2022-02-17, com dados de teste 30 dias apos\n",
      "Dados de treino até 2022-02-18, com dados de teste 30 dias apos\n",
      "Dados de treino até 2022-02-19, com dados de teste 30 dias apos\n",
      "Dados de treino até 2022-02-20, com dados de teste 30 dias apos\n",
      "Dados de treino até 2022-02-21, com dados de teste 30 dias apos\n",
      "Dados de treino até 2022-02-22, com dados de teste 30 dias apos\n",
      "Dados de treino até 2022-02-23, com dados de teste 30 dias apos\n",
      "Dados de treino até 2022-02-24, com dados de teste 30 dias apos\n",
      "Dados de treino até 2022-02-25, com dados de teste 30 dias apos\n",
      "Dados de treino até 2022-02-26, com dados de teste 30 dias apos\n",
      "Dados de treino até 2022-02-27, com dados de teste 30 dias apos\n",
      "Dados de treino até 2022-02-28, com dados de teste 30 dias apos\n",
      "Dados de treino até 2022-03-01, com dados de teste 30 dias apos\n",
      "Dados de treino até 2022-03-02, com dados de teste 30 dias apos\n",
      "Dados de treino até 2022-03-03, com dados de teste 30 dias apos\n",
      "Dados de treino até 2022-03-04, com dados de teste 30 dias apos\n",
      "Dados de treino até 2022-03-05, com dados de teste 30 dias apos\n",
      "Dados de treino até 2022-03-06, com dados de teste 30 dias apos\n",
      "Dados de treino até 2022-03-07, com dados de teste 30 dias apos\n",
      "Dados de treino até 2022-03-08, com dados de teste 30 dias apos\n",
      "Dados de treino até 2022-03-09, com dados de teste 30 dias apos\n",
      "Dados de treino até 2022-03-10, com dados de teste 30 dias apos\n",
      "Dados de treino até 2022-03-11, com dados de teste 30 dias apos\n",
      "Dados de treino até 2022-03-12, com dados de teste 30 dias apos\n",
      "Dados de treino até 2022-03-13, com dados de teste 30 dias apos\n",
      "Dados de treino até 2022-03-14, com dados de teste 30 dias apos\n",
      "Dados de treino até 2022-03-15, com dados de teste 30 dias apos\n",
      "Dados de treino até 2022-03-16, com dados de teste 30 dias apos\n",
      "Dados de treino até 2022-03-17, com dados de teste 30 dias apos\n",
      "Dados de treino até 2022-03-18, com dados de teste 30 dias apos\n",
      "Dados de treino até 2022-03-19, com dados de teste 30 dias apos\n",
      "Dados de treino até 2022-03-20, com dados de teste 30 dias apos\n",
      "Dados de treino até 2022-03-21, com dados de teste 30 dias apos\n",
      "Dados de treino até 2022-03-22, com dados de teste 30 dias apos\n",
      "Dados de treino até 2022-03-23, com dados de teste 30 dias apos\n",
      "Dados de treino até 2022-03-24, com dados de teste 30 dias apos\n",
      "Dados de treino até 2022-03-25, com dados de teste 30 dias apos\n",
      "Dados de treino até 2022-03-26, com dados de teste 30 dias apos\n",
      "Dados de treino até 2022-03-27, com dados de teste 30 dias apos\n",
      "Dados de treino até 2022-03-28, com dados de teste 30 dias apos\n",
      "Dados de treino até 2022-03-29, com dados de teste 30 dias apos\n",
      "Dados de treino até 2022-03-30, com dados de teste 30 dias apos\n",
      "Dados de treino até 2022-03-31, com dados de teste 30 dias apos\n",
      "Dados de treino até 2022-04-01, com dados de teste 30 dias apos\n",
      "Dados de treino até 2022-04-02, com dados de teste 30 dias apos\n",
      "Dados de treino até 2022-04-03, com dados de teste 30 dias apos\n",
      "Dados de treino até 2022-04-04, com dados de teste 30 dias apos\n",
      "Dados de treino até 2022-04-05, com dados de teste 30 dias apos\n",
      "Dados de treino até 2022-04-06, com dados de teste 30 dias apos\n",
      "Dados de treino até 2022-04-07, com dados de teste 30 dias apos\n",
      "Dados de treino até 2022-04-08, com dados de teste 30 dias apos\n",
      "Dados de treino até 2022-04-09, com dados de teste 30 dias apos\n",
      "Dados de treino até 2022-04-10, com dados de teste 30 dias apos\n",
      "Dados de treino até 2022-04-11, com dados de teste 30 dias apos\n",
      "Dados de treino até 2022-04-12, com dados de teste 30 dias apos\n",
      "Dados de treino até 2022-04-13, com dados de teste 30 dias apos\n",
      "Dados de treino até 2022-04-14, com dados de teste 30 dias apos\n",
      "Dados de treino até 2022-04-15, com dados de teste 30 dias apos\n",
      "Dados de treino até 2022-04-16, com dados de teste 30 dias apos\n",
      "Dados de treino até 2022-04-17, com dados de teste 30 dias apos\n",
      "Dados de treino até 2022-04-18, com dados de teste 30 dias apos\n",
      "Dados de treino até 2022-04-19, com dados de teste 30 dias apos\n",
      "Dados de treino até 2022-04-20, com dados de teste 30 dias apos\n",
      "Dados de treino até 2022-04-21, com dados de teste 30 dias apos\n",
      "Dados de treino até 2022-04-22, com dados de teste 30 dias apos\n",
      "Dados de treino até 2022-04-23, com dados de teste 30 dias apos\n",
      "Dados de treino até 2022-04-24, com dados de teste 30 dias apos\n",
      "Dados de treino até 2022-04-25, com dados de teste 30 dias apos\n",
      "Dados de treino até 2022-04-26, com dados de teste 30 dias apos\n",
      "Dados de treino até 2022-04-27, com dados de teste 30 dias apos\n",
      "Dados de treino até 2022-04-28, com dados de teste 30 dias apos\n",
      "Dados de treino até 2022-04-29, com dados de teste 30 dias apos\n",
      "Dados de treino até 2022-04-30, com dados de teste 30 dias apos\n",
      "Dados de treino até 2022-05-01, com dados de teste 30 dias apos\n",
      "Dados de treino até 2022-05-02, com dados de teste 30 dias apos\n",
      "Dados de treino até 2022-05-03, com dados de teste 30 dias apos\n",
      "Dados de treino até 2022-05-04, com dados de teste 30 dias apos\n",
      "Dados de treino até 2022-05-05, com dados de teste 30 dias apos\n",
      "Dados de treino até 2022-05-06, com dados de teste 30 dias apos\n",
      "Dados de treino até 2022-05-07, com dados de teste 30 dias apos\n",
      "Dados de treino até 2022-05-08, com dados de teste 30 dias apos\n"
     ]
    },
    {
     "name": "stdout",
     "output_type": "stream",
     "text": [
      "Dados de treino até 2022-05-09, com dados de teste 30 dias apos\n",
      "Dados de treino até 2022-05-10, com dados de teste 30 dias apos\n",
      "Dados de treino até 2022-05-11, com dados de teste 30 dias apos\n",
      "Dados de treino até 2022-05-12, com dados de teste 30 dias apos\n",
      "Dados de treino até 2022-05-13, com dados de teste 30 dias apos\n",
      "Dados de treino até 2022-05-14, com dados de teste 30 dias apos\n",
      "Dados de treino até 2022-05-15, com dados de teste 30 dias apos\n",
      "Dados de treino até 2022-05-16, com dados de teste 30 dias apos\n",
      "Dados de treino até 2022-05-17, com dados de teste 30 dias apos\n",
      "Dados de treino até 2022-05-18, com dados de teste 30 dias apos\n",
      "Dados de treino até 2022-05-19, com dados de teste 30 dias apos\n",
      "Dados de treino até 2022-05-20, com dados de teste 30 dias apos\n",
      "Dados de treino até 2022-05-21, com dados de teste 30 dias apos\n",
      "Dados de treino até 2022-05-22, com dados de teste 30 dias apos\n",
      "Dados de treino até 2022-05-23, com dados de teste 30 dias apos\n",
      "Dados de treino até 2022-05-24, com dados de teste 30 dias apos\n",
      "Dados de treino até 2022-05-25, com dados de teste 30 dias apos\n",
      "Dados de treino até 2022-05-26, com dados de teste 30 dias apos\n",
      "Dados de treino até 2022-05-27, com dados de teste 30 dias apos\n",
      "Dados de treino até 2022-05-28, com dados de teste 30 dias apos\n",
      "Dados de treino até 2022-05-29, com dados de teste 30 dias apos\n",
      "Dados de treino até 2022-05-30, com dados de teste 30 dias apos\n",
      "Dados de treino até 2021-12-31, com dados de teste 60 dias apos\n",
      "Dados de treino até 2022-01-01, com dados de teste 60 dias apos\n",
      "Dados de treino até 2022-01-02, com dados de teste 60 dias apos\n",
      "Dados de treino até 2022-01-03, com dados de teste 60 dias apos\n",
      "Dados de treino até 2022-01-04, com dados de teste 60 dias apos\n",
      "Dados de treino até 2022-01-05, com dados de teste 60 dias apos\n",
      "Dados de treino até 2022-01-06, com dados de teste 60 dias apos\n",
      "Dados de treino até 2022-01-07, com dados de teste 60 dias apos\n",
      "Dados de treino até 2022-01-08, com dados de teste 60 dias apos\n",
      "Dados de treino até 2022-01-09, com dados de teste 60 dias apos\n",
      "Dados de treino até 2022-01-10, com dados de teste 60 dias apos\n",
      "Dados de treino até 2022-01-11, com dados de teste 60 dias apos\n",
      "Dados de treino até 2022-01-12, com dados de teste 60 dias apos\n",
      "Dados de treino até 2022-01-13, com dados de teste 60 dias apos\n",
      "Dados de treino até 2022-01-14, com dados de teste 60 dias apos\n",
      "Dados de treino até 2022-01-15, com dados de teste 60 dias apos\n",
      "Dados de treino até 2022-01-16, com dados de teste 60 dias apos\n",
      "Dados de treino até 2022-01-17, com dados de teste 60 dias apos\n",
      "Dados de treino até 2022-01-18, com dados de teste 60 dias apos\n",
      "Dados de treino até 2022-01-19, com dados de teste 60 dias apos\n",
      "Dados de treino até 2022-01-20, com dados de teste 60 dias apos\n",
      "Dados de treino até 2022-01-21, com dados de teste 60 dias apos\n",
      "Dados de treino até 2022-01-22, com dados de teste 60 dias apos\n",
      "Dados de treino até 2022-01-23, com dados de teste 60 dias apos\n",
      "Dados de treino até 2022-01-24, com dados de teste 60 dias apos\n",
      "Dados de treino até 2022-01-25, com dados de teste 60 dias apos\n",
      "Dados de treino até 2022-01-26, com dados de teste 60 dias apos\n",
      "Dados de treino até 2022-01-27, com dados de teste 60 dias apos\n",
      "Dados de treino até 2022-01-28, com dados de teste 60 dias apos\n",
      "Dados de treino até 2022-01-29, com dados de teste 60 dias apos\n",
      "Dados de treino até 2022-01-30, com dados de teste 60 dias apos\n",
      "Dados de treino até 2022-01-31, com dados de teste 60 dias apos\n",
      "Dados de treino até 2022-02-01, com dados de teste 60 dias apos\n",
      "Dados de treino até 2022-02-02, com dados de teste 60 dias apos\n",
      "Dados de treino até 2022-02-03, com dados de teste 60 dias apos\n",
      "Dados de treino até 2022-02-04, com dados de teste 60 dias apos\n",
      "Dados de treino até 2022-02-05, com dados de teste 60 dias apos\n",
      "Dados de treino até 2022-02-06, com dados de teste 60 dias apos\n",
      "Dados de treino até 2022-02-07, com dados de teste 60 dias apos\n",
      "Dados de treino até 2022-02-08, com dados de teste 60 dias apos\n",
      "Dados de treino até 2022-02-09, com dados de teste 60 dias apos\n",
      "Dados de treino até 2022-02-10, com dados de teste 60 dias apos\n",
      "Dados de treino até 2022-02-11, com dados de teste 60 dias apos\n",
      "Dados de treino até 2022-02-12, com dados de teste 60 dias apos\n",
      "Dados de treino até 2022-02-13, com dados de teste 60 dias apos\n",
      "Dados de treino até 2022-02-14, com dados de teste 60 dias apos\n",
      "Dados de treino até 2022-02-15, com dados de teste 60 dias apos\n",
      "Dados de treino até 2022-02-16, com dados de teste 60 dias apos\n",
      "Dados de treino até 2022-02-17, com dados de teste 60 dias apos\n",
      "Dados de treino até 2022-02-18, com dados de teste 60 dias apos\n",
      "Dados de treino até 2022-02-19, com dados de teste 60 dias apos\n",
      "Dados de treino até 2022-02-20, com dados de teste 60 dias apos\n",
      "Dados de treino até 2022-02-21, com dados de teste 60 dias apos\n",
      "Dados de treino até 2022-02-22, com dados de teste 60 dias apos\n",
      "Dados de treino até 2022-02-23, com dados de teste 60 dias apos\n",
      "Dados de treino até 2022-02-24, com dados de teste 60 dias apos\n",
      "Dados de treino até 2022-02-25, com dados de teste 60 dias apos\n",
      "Dados de treino até 2022-02-26, com dados de teste 60 dias apos\n",
      "Dados de treino até 2022-02-27, com dados de teste 60 dias apos\n",
      "Dados de treino até 2022-02-28, com dados de teste 60 dias apos\n",
      "Dados de treino até 2022-03-01, com dados de teste 60 dias apos\n",
      "Dados de treino até 2022-03-02, com dados de teste 60 dias apos\n",
      "Dados de treino até 2022-03-03, com dados de teste 60 dias apos\n",
      "Dados de treino até 2022-03-04, com dados de teste 60 dias apos\n",
      "Dados de treino até 2022-03-05, com dados de teste 60 dias apos\n",
      "Dados de treino até 2022-03-06, com dados de teste 60 dias apos\n",
      "Dados de treino até 2022-03-07, com dados de teste 60 dias apos\n",
      "Dados de treino até 2022-03-08, com dados de teste 60 dias apos\n",
      "Dados de treino até 2022-03-09, com dados de teste 60 dias apos\n",
      "Dados de treino até 2022-03-10, com dados de teste 60 dias apos\n",
      "Dados de treino até 2022-03-11, com dados de teste 60 dias apos\n",
      "Dados de treino até 2022-03-12, com dados de teste 60 dias apos\n",
      "Dados de treino até 2022-03-13, com dados de teste 60 dias apos\n",
      "Dados de treino até 2022-03-14, com dados de teste 60 dias apos\n",
      "Dados de treino até 2022-03-15, com dados de teste 60 dias apos\n",
      "Dados de treino até 2022-03-16, com dados de teste 60 dias apos\n",
      "Dados de treino até 2022-03-17, com dados de teste 60 dias apos\n",
      "Dados de treino até 2022-03-18, com dados de teste 60 dias apos\n",
      "Dados de treino até 2022-03-19, com dados de teste 60 dias apos\n",
      "Dados de treino até 2022-03-20, com dados de teste 60 dias apos\n",
      "Dados de treino até 2022-03-21, com dados de teste 60 dias apos\n",
      "Dados de treino até 2022-03-22, com dados de teste 60 dias apos\n",
      "Dados de treino até 2022-03-23, com dados de teste 60 dias apos\n",
      "Dados de treino até 2022-03-24, com dados de teste 60 dias apos\n",
      "Dados de treino até 2022-03-25, com dados de teste 60 dias apos\n",
      "Dados de treino até 2022-03-26, com dados de teste 60 dias apos\n",
      "Dados de treino até 2022-03-27, com dados de teste 60 dias apos\n",
      "Dados de treino até 2022-03-28, com dados de teste 60 dias apos\n",
      "Dados de treino até 2022-03-29, com dados de teste 60 dias apos\n",
      "Dados de treino até 2022-03-30, com dados de teste 60 dias apos\n",
      "Dados de treino até 2022-03-31, com dados de teste 60 dias apos\n",
      "Dados de treino até 2022-04-01, com dados de teste 60 dias apos\n",
      "Dados de treino até 2022-04-02, com dados de teste 60 dias apos\n",
      "Dados de treino até 2022-04-03, com dados de teste 60 dias apos\n",
      "Dados de treino até 2022-04-04, com dados de teste 60 dias apos\n",
      "Dados de treino até 2022-04-05, com dados de teste 60 dias apos\n",
      "Dados de treino até 2022-04-06, com dados de teste 60 dias apos\n",
      "Dados de treino até 2022-04-07, com dados de teste 60 dias apos\n",
      "Dados de treino até 2022-04-08, com dados de teste 60 dias apos\n",
      "Dados de treino até 2022-04-09, com dados de teste 60 dias apos\n",
      "Dados de treino até 2022-04-10, com dados de teste 60 dias apos\n",
      "Dados de treino até 2022-04-11, com dados de teste 60 dias apos\n",
      "Dados de treino até 2022-04-12, com dados de teste 60 dias apos\n",
      "Dados de treino até 2022-04-13, com dados de teste 60 dias apos\n",
      "Dados de treino até 2022-04-14, com dados de teste 60 dias apos\n",
      "Dados de treino até 2022-04-15, com dados de teste 60 dias apos\n",
      "Dados de treino até 2022-04-16, com dados de teste 60 dias apos\n"
     ]
    },
    {
     "name": "stdout",
     "output_type": "stream",
     "text": [
      "Dados de treino até 2022-04-17, com dados de teste 60 dias apos\n",
      "Dados de treino até 2022-04-18, com dados de teste 60 dias apos\n",
      "Dados de treino até 2022-04-19, com dados de teste 60 dias apos\n",
      "Dados de treino até 2022-04-20, com dados de teste 60 dias apos\n",
      "Dados de treino até 2022-04-21, com dados de teste 60 dias apos\n",
      "Dados de treino até 2022-04-22, com dados de teste 60 dias apos\n",
      "Dados de treino até 2022-04-23, com dados de teste 60 dias apos\n",
      "Dados de treino até 2022-04-24, com dados de teste 60 dias apos\n",
      "Dados de treino até 2022-04-25, com dados de teste 60 dias apos\n",
      "Dados de treino até 2022-04-26, com dados de teste 60 dias apos\n",
      "Dados de treino até 2022-04-27, com dados de teste 60 dias apos\n",
      "Dados de treino até 2022-04-28, com dados de teste 60 dias apos\n",
      "Dados de treino até 2022-04-29, com dados de teste 60 dias apos\n",
      "Dados de treino até 2022-04-30, com dados de teste 60 dias apos\n",
      "Dados de treino até 2021-12-31, com dados de teste 90 dias apos\n",
      "Dados de treino até 2022-01-01, com dados de teste 90 dias apos\n",
      "Dados de treino até 2022-01-02, com dados de teste 90 dias apos\n",
      "Dados de treino até 2022-01-03, com dados de teste 90 dias apos\n",
      "Dados de treino até 2022-01-04, com dados de teste 90 dias apos\n",
      "Dados de treino até 2022-01-05, com dados de teste 90 dias apos\n",
      "Dados de treino até 2022-01-06, com dados de teste 90 dias apos\n",
      "Dados de treino até 2022-01-07, com dados de teste 90 dias apos\n",
      "Dados de treino até 2022-01-08, com dados de teste 90 dias apos\n",
      "Dados de treino até 2022-01-09, com dados de teste 90 dias apos\n",
      "Dados de treino até 2022-01-10, com dados de teste 90 dias apos\n",
      "Dados de treino até 2022-01-11, com dados de teste 90 dias apos\n",
      "Dados de treino até 2022-01-12, com dados de teste 90 dias apos\n",
      "Dados de treino até 2022-01-13, com dados de teste 90 dias apos\n",
      "Dados de treino até 2022-01-14, com dados de teste 90 dias apos\n",
      "Dados de treino até 2022-01-15, com dados de teste 90 dias apos\n",
      "Dados de treino até 2022-01-16, com dados de teste 90 dias apos\n",
      "Dados de treino até 2022-01-17, com dados de teste 90 dias apos\n",
      "Dados de treino até 2022-01-18, com dados de teste 90 dias apos\n",
      "Dados de treino até 2022-01-19, com dados de teste 90 dias apos\n",
      "Dados de treino até 2022-01-20, com dados de teste 90 dias apos\n",
      "Dados de treino até 2022-01-21, com dados de teste 90 dias apos\n",
      "Dados de treino até 2022-01-22, com dados de teste 90 dias apos\n",
      "Dados de treino até 2022-01-23, com dados de teste 90 dias apos\n",
      "Dados de treino até 2022-01-24, com dados de teste 90 dias apos\n",
      "Dados de treino até 2022-01-25, com dados de teste 90 dias apos\n",
      "Dados de treino até 2022-01-26, com dados de teste 90 dias apos\n",
      "Dados de treino até 2022-01-27, com dados de teste 90 dias apos\n",
      "Dados de treino até 2022-01-28, com dados de teste 90 dias apos\n",
      "Dados de treino até 2022-01-29, com dados de teste 90 dias apos\n",
      "Dados de treino até 2022-01-30, com dados de teste 90 dias apos\n",
      "Dados de treino até 2022-01-31, com dados de teste 90 dias apos\n",
      "Dados de treino até 2022-02-01, com dados de teste 90 dias apos\n",
      "Dados de treino até 2022-02-02, com dados de teste 90 dias apos\n",
      "Dados de treino até 2022-02-03, com dados de teste 90 dias apos\n",
      "Dados de treino até 2022-02-04, com dados de teste 90 dias apos\n",
      "Dados de treino até 2022-02-05, com dados de teste 90 dias apos\n",
      "Dados de treino até 2022-02-06, com dados de teste 90 dias apos\n",
      "Dados de treino até 2022-02-07, com dados de teste 90 dias apos\n",
      "Dados de treino até 2022-02-08, com dados de teste 90 dias apos\n",
      "Dados de treino até 2022-02-09, com dados de teste 90 dias apos\n",
      "Dados de treino até 2022-02-10, com dados de teste 90 dias apos\n",
      "Dados de treino até 2022-02-11, com dados de teste 90 dias apos\n",
      "Dados de treino até 2022-02-12, com dados de teste 90 dias apos\n",
      "Dados de treino até 2022-02-13, com dados de teste 90 dias apos\n",
      "Dados de treino até 2022-02-14, com dados de teste 90 dias apos\n",
      "Dados de treino até 2022-02-15, com dados de teste 90 dias apos\n",
      "Dados de treino até 2022-02-16, com dados de teste 90 dias apos\n",
      "Dados de treino até 2022-02-17, com dados de teste 90 dias apos\n",
      "Dados de treino até 2022-02-18, com dados de teste 90 dias apos\n",
      "Dados de treino até 2022-02-19, com dados de teste 90 dias apos\n",
      "Dados de treino até 2022-02-20, com dados de teste 90 dias apos\n",
      "Dados de treino até 2022-02-21, com dados de teste 90 dias apos\n",
      "Dados de treino até 2022-02-22, com dados de teste 90 dias apos\n",
      "Dados de treino até 2022-02-23, com dados de teste 90 dias apos\n",
      "Dados de treino até 2022-02-24, com dados de teste 90 dias apos\n",
      "Dados de treino até 2022-02-25, com dados de teste 90 dias apos\n",
      "Dados de treino até 2022-02-26, com dados de teste 90 dias apos\n",
      "Dados de treino até 2022-02-27, com dados de teste 90 dias apos\n",
      "Dados de treino até 2022-02-28, com dados de teste 90 dias apos\n",
      "Dados de treino até 2022-03-01, com dados de teste 90 dias apos\n",
      "Dados de treino até 2022-03-02, com dados de teste 90 dias apos\n",
      "Dados de treino até 2022-03-03, com dados de teste 90 dias apos\n",
      "Dados de treino até 2022-03-04, com dados de teste 90 dias apos\n",
      "Dados de treino até 2022-03-05, com dados de teste 90 dias apos\n",
      "Dados de treino até 2022-03-06, com dados de teste 90 dias apos\n",
      "Dados de treino até 2022-03-07, com dados de teste 90 dias apos\n",
      "Dados de treino até 2022-03-08, com dados de teste 90 dias apos\n",
      "Dados de treino até 2022-03-09, com dados de teste 90 dias apos\n",
      "Dados de treino até 2022-03-10, com dados de teste 90 dias apos\n",
      "Dados de treino até 2022-03-11, com dados de teste 90 dias apos\n",
      "Dados de treino até 2022-03-12, com dados de teste 90 dias apos\n",
      "Dados de treino até 2022-03-13, com dados de teste 90 dias apos\n",
      "Dados de treino até 2022-03-14, com dados de teste 90 dias apos\n",
      "Dados de treino até 2022-03-15, com dados de teste 90 dias apos\n",
      "Dados de treino até 2022-03-16, com dados de teste 90 dias apos\n",
      "Dados de treino até 2022-03-17, com dados de teste 90 dias apos\n",
      "Dados de treino até 2022-03-18, com dados de teste 90 dias apos\n",
      "Dados de treino até 2022-03-19, com dados de teste 90 dias apos\n",
      "Dados de treino até 2022-03-20, com dados de teste 90 dias apos\n",
      "Dados de treino até 2022-03-21, com dados de teste 90 dias apos\n",
      "Dados de treino até 2022-03-22, com dados de teste 90 dias apos\n",
      "Dados de treino até 2022-03-23, com dados de teste 90 dias apos\n",
      "Dados de treino até 2022-03-24, com dados de teste 90 dias apos\n",
      "Dados de treino até 2022-03-25, com dados de teste 90 dias apos\n",
      "Dados de treino até 2022-03-26, com dados de teste 90 dias apos\n",
      "Dados de treino até 2022-03-27, com dados de teste 90 dias apos\n",
      "Dados de treino até 2022-03-28, com dados de teste 90 dias apos\n",
      "Dados de treino até 2022-03-29, com dados de teste 90 dias apos\n",
      "Dados de treino até 2022-03-30, com dados de teste 90 dias apos\n",
      "Dados de treino até 2022-03-31, com dados de teste 90 dias apos\n"
     ]
    }
   ],
   "source": [
    "## Define uma lista simulando a frequencia de retreinamento sobre os dados de 2022\n",
    "lista_frequencias_dias = [30,60,90]\n",
    "\n",
    "# Cria dataframe com resultados de 29 algoritmos ingenuos nas frequencias testadas\n",
    "df_resultado_algoritmo_frequencia =  pd.DataFrame()\n",
    "\n",
    "df_models = pd.DataFrame()\n",
    "resultados = []\n",
    "\n",
    "for i in lista_frequencias_dias:\n",
    "    frequencia = i\n",
    "    \n",
    "    ## Define o inicio do loop para treinamento com os dados <= 2021\n",
    "    treinar_ate_data_str = '2021-12-31'\n",
    "    \n",
    "    #Criterio de parada: # Definido como x dia antes de df_final99.Date.max() onde x = frequencia\n",
    "    ts = df_final99.Date.max()+timedelta(-frequencia)\n",
    "    data_stop = ts.strftime(\"%Y-%m-%d\")\n",
    "    \n",
    "    while treinar_ate_data_str != data_stop:\n",
    "        print(\"Dados de treino até %s, com dados de teste %s dias apos\" % (treinar_ate_data_str,frequencia))\n",
    "\n",
    "        ## Dados de treino (até a data definida por treinar_ate_data_str)\n",
    "        X = df_final99[(df_final99['Date'] <= parser.parse(treinar_ate_data_str))][['score','neu_robd4','neg_finbertd2','scored3']]\n",
    "        y = df_final99[(df_final99['Date'] <= parser.parse(treinar_ate_data_str))][['Fechamento']]\n",
    "\n",
    "        X_train = X\n",
    "        y_train = y\n",
    "\n",
    "\n",
    "        #Atualiza a variável\n",
    "        data_limite_teste = parser.parse(treinar_ate_data_str) + timedelta(frequencia) ## Soma x dias\n",
    "        data_limite_teste = data_limite_teste.strftime(\"%Y-%m-%d\") ## Transforma pra string\n",
    "\n",
    "        ## Dados de teste (x dias após o treinar_ate_data_str onde x = qtde_dias_avaliar)\n",
    "        X_test = df_final99[(df_final99['Date'] > parser.parse(treinar_ate_data_str)) & (df_final99['Date'] <= parser.parse(data_limite_teste))][['score','neu_robd4','neg_finbertd2','scored3']]\n",
    "        y_test = df_final99[(df_final99['Date'] > parser.parse(treinar_ate_data_str)) & (df_final99['Date'] <= parser.parse(data_limite_teste))][['Fechamento']]\n",
    "\n",
    "\n",
    "        ## Retreina os modelos\n",
    "\n",
    "        linearsvc =  LinearSVC(penalty='l2', loss='hinge',dual=True, C=1.4)\n",
    "        linearsvc.fit(X_train,y_train)\n",
    "\n",
    "        ridgecv = RidgeClassifierCV(alphas = [0.001, 0.01, 0.1, 1], fit_intercept=True, normalize=True, cv=12)\n",
    "        ridgecv.fit(X_train,y_train)\n",
    "\n",
    "        logreg = LogisticRegression(penalty= 'l1', C=28, fit_intercept=True, solver = 'liblinear')\n",
    "        logreg.fit(X_train,y_train)\n",
    "\n",
    "        ridge = RidgeClassifier(alpha=1.7,fit_intercept=True,normalize=False, solver = 'lsqr' )\n",
    "        ridge.fit(X_train,y_train)\n",
    "\n",
    "        clfs = [logreg,ridge,ridgecv,linearsvc]\n",
    "        ensemblevote = EnsembleVoteClassifier(clfs, weights = [2,1,2,1]) \n",
    "        ensemblevote.fit(X_train,y_train)\n",
    "\n",
    "        nearestcentroid = NearestCentroid(metric = 'euclidean', shrink_threshold = 0.18)\n",
    "        nearestcentroid.fit(X_train,y_train)\n",
    "\n",
    "        svc = SVC(C=1.46, kernel = 'linear', gamma = 'auto')\n",
    "        svc.fit(X_train,y_train)\n",
    "\n",
    "        lineardisc = LinearDiscriminantAnalysis(solver = 'eigen', n_components = 1)\n",
    "        lineardisc.fit(X_train,y_train)\n",
    "\n",
    "        bernoullinb = BernoulliNB(alpha=100,binarize=0,fit_prior=True)\n",
    "        bernoullinb.fit(X_train,y_train)\n",
    "\n",
    "        gaussiannb = GaussianNB(var_smoothing = 0.0001)\n",
    "        gaussiannb.fit(X_train,y_train)\n",
    "\n",
    "        lgbm = LGBMClassifier(max_depth=180,learning_rate=0.01,n_estimators=250, num_leaves=5)\n",
    "        lgbm.fit(X_train,y_train)\n",
    "\n",
    "        extratree = ExtraTreeClassifier(criterion = 'entropy', splitter = 'best', max_depth = 25, min_samples_split=20, min_samples_leaf=2)\n",
    "        extratree.fit(X_train,y_train)\n",
    "\n",
    "        rf = RandomForestClassifier(max_depth=10, min_samples_split=15,min_samples_leaf=1,criterion='entropy')\n",
    "        rf.fit(X_train,y_train)\n",
    "\n",
    "        xgb = XGBClassifier(max_depth=3,learning_rate=0.001,n_estimators=86)\n",
    "        xgb.fit(X_train,y_train)\n",
    "\n",
    "        quadratic = QuadraticDiscriminantAnalysis(reg_param=0,store_covariance=True, tol=0.0000000001)\n",
    "        quadratic.fit(X_train,y_train)\n",
    "\n",
    "        knn = KNeighborsClassifier(n_neighbors = 3, weights = 'distance', algorithm = 'brute', metric = 'manhattan')\n",
    "        knn.fit(X_train,y_train)\n",
    "\n",
    "        #Definição de listas com modelos\n",
    "\n",
    "        models = [linearsvc,ridgecv,logreg,ridge,ensemblevote,nearestcentroid,svc,lineardisc,bernoullinb,gaussiannb,lgbm,extratree,rf,xgb,quadratic,knn]\n",
    "        nome_modelo = ['linearsvc','ridgecv','logreg','ridge','ensemblevote','nearestcentroid','svc','lineardisc','bernoullinb','gaussiannb','lgbm','extratree','rf','xgb','quadratic','knn']\n",
    "\n",
    "\n",
    "        #Iterando sobre todos os modelos\n",
    "        for a,b in zip(models,nome_modelo):\n",
    "\n",
    "            #Predizendo 2022\n",
    "            y_pred = a.predict(X_test)\n",
    "\n",
    "            #Calculando o recall\n",
    "            recall_0 = recall_score(y_test, y_pred, pos_label=0)\n",
    "            recall_1 = recall_score(y_test, y_pred, pos_label=1)\n",
    "\n",
    "            #Calculando acurácia \n",
    "            accuracy = accuracy_score(y_test, y_pred)\n",
    "\n",
    "            #Calculando acurácia balanceada\n",
    "            accuracy_balanced = balanced_accuracy_score(y_test, y_pred)\n",
    "\n",
    "            #calculando f1_score\n",
    "            f1_0 = f1_score(y_test, y_pred,pos_label=0)\n",
    "            f1_1 = f1_score(y_test, y_pred,pos_label=1)\n",
    "\n",
    "            #Calculando AUC\n",
    "            auc = roc_auc_score(y_test, y_pred)\n",
    "\n",
    "            # Adicionando todos resultados em uma única lista\n",
    "            resultados.append(np.array([treinar_ate_data_str,i,b,accuracy,accuracy_balanced,recall_0,recall_1,f1_0,f1_1,auc]))\n",
    "\n",
    "        #Atualiza a variável\n",
    "        treinar_ate_data_str = parser.parse(treinar_ate_data_str) + timedelta(1) ## Soma 1 dia\n",
    "        treinar_ate_data_str = treinar_ate_data_str.strftime(\"%Y-%m-%d\") ## Transforma pra string"
   ]
  },
  {
   "cell_type": "code",
   "execution_count": 240,
   "metadata": {},
   "outputs": [
    {
     "data": {
      "text/html": [
       "<div>\n",
       "<style scoped>\n",
       "    .dataframe tbody tr th:only-of-type {\n",
       "        vertical-align: middle;\n",
       "    }\n",
       "\n",
       "    .dataframe tbody tr th {\n",
       "        vertical-align: top;\n",
       "    }\n",
       "\n",
       "    .dataframe thead th {\n",
       "        text-align: right;\n",
       "    }\n",
       "</style>\n",
       "<table border=\"1\" class=\"dataframe\">\n",
       "  <thead>\n",
       "    <tr style=\"text-align: right;\">\n",
       "      <th></th>\n",
       "      <th></th>\n",
       "      <th>acuracia_balanceada</th>\n",
       "    </tr>\n",
       "    <tr>\n",
       "      <th>Modelo</th>\n",
       "      <th>freq</th>\n",
       "      <th></th>\n",
       "    </tr>\n",
       "  </thead>\n",
       "  <tbody>\n",
       "    <tr>\n",
       "      <th rowspan=\"2\" valign=\"top\">gaussiannb</th>\n",
       "      <th>90</th>\n",
       "      <td>0.578253</td>\n",
       "    </tr>\n",
       "    <tr>\n",
       "      <th>60</th>\n",
       "      <td>0.569502</td>\n",
       "    </tr>\n",
       "    <tr>\n",
       "      <th>ridge</th>\n",
       "      <th>90</th>\n",
       "      <td>0.568088</td>\n",
       "    </tr>\n",
       "    <tr>\n",
       "      <th>logreg</th>\n",
       "      <th>90</th>\n",
       "      <td>0.568088</td>\n",
       "    </tr>\n",
       "    <tr>\n",
       "      <th>ensemblevote</th>\n",
       "      <th>90</th>\n",
       "      <td>0.568088</td>\n",
       "    </tr>\n",
       "    <tr>\n",
       "      <th>lineardisc</th>\n",
       "      <th>90</th>\n",
       "      <td>0.566421</td>\n",
       "    </tr>\n",
       "    <tr>\n",
       "      <th>quadratic</th>\n",
       "      <th>90</th>\n",
       "      <td>0.564376</td>\n",
       "    </tr>\n",
       "    <tr>\n",
       "      <th rowspan=\"2\" valign=\"top\">lgbm</th>\n",
       "      <th>90</th>\n",
       "      <td>0.564259</td>\n",
       "    </tr>\n",
       "    <tr>\n",
       "      <th>60</th>\n",
       "      <td>0.561765</td>\n",
       "    </tr>\n",
       "    <tr>\n",
       "      <th>ensemblevote</th>\n",
       "      <th>60</th>\n",
       "      <td>0.560894</td>\n",
       "    </tr>\n",
       "    <tr>\n",
       "      <th>logreg</th>\n",
       "      <th>60</th>\n",
       "      <td>0.560894</td>\n",
       "    </tr>\n",
       "    <tr>\n",
       "      <th>ridge</th>\n",
       "      <th>60</th>\n",
       "      <td>0.560894</td>\n",
       "    </tr>\n",
       "    <tr>\n",
       "      <th>lineardisc</th>\n",
       "      <th>60</th>\n",
       "      <td>0.558942</td>\n",
       "    </tr>\n",
       "    <tr>\n",
       "      <th>ridgecv</th>\n",
       "      <th>90</th>\n",
       "      <td>0.558087</td>\n",
       "    </tr>\n",
       "    <tr>\n",
       "      <th>quadratic</th>\n",
       "      <th>60</th>\n",
       "      <td>0.556524</td>\n",
       "    </tr>\n",
       "    <tr>\n",
       "      <th>ridgecv</th>\n",
       "      <th>60</th>\n",
       "      <td>0.553680</td>\n",
       "    </tr>\n",
       "    <tr>\n",
       "      <th>gaussiannb</th>\n",
       "      <th>30</th>\n",
       "      <td>0.552661</td>\n",
       "    </tr>\n",
       "    <tr>\n",
       "      <th>svc</th>\n",
       "      <th>90</th>\n",
       "      <td>0.546417</td>\n",
       "    </tr>\n",
       "    <tr>\n",
       "      <th>linearsvc</th>\n",
       "      <th>90</th>\n",
       "      <td>0.546262</td>\n",
       "    </tr>\n",
       "    <tr>\n",
       "      <th>lgbm</th>\n",
       "      <th>30</th>\n",
       "      <td>0.544550</td>\n",
       "    </tr>\n",
       "    <tr>\n",
       "      <th>svc</th>\n",
       "      <th>60</th>\n",
       "      <td>0.543606</td>\n",
       "    </tr>\n",
       "    <tr>\n",
       "      <th>linearsvc</th>\n",
       "      <th>60</th>\n",
       "      <td>0.542407</td>\n",
       "    </tr>\n",
       "    <tr>\n",
       "      <th>bernoullinb</th>\n",
       "      <th>90</th>\n",
       "      <td>0.539646</td>\n",
       "    </tr>\n",
       "    <tr>\n",
       "      <th>quadratic</th>\n",
       "      <th>30</th>\n",
       "      <td>0.539269</td>\n",
       "    </tr>\n",
       "    <tr>\n",
       "      <th>bernoullinb</th>\n",
       "      <th>60</th>\n",
       "      <td>0.538123</td>\n",
       "    </tr>\n",
       "    <tr>\n",
       "      <th>ridgecv</th>\n",
       "      <th>30</th>\n",
       "      <td>0.536999</td>\n",
       "    </tr>\n",
       "    <tr>\n",
       "      <th>ridge</th>\n",
       "      <th>30</th>\n",
       "      <td>0.535166</td>\n",
       "    </tr>\n",
       "    <tr>\n",
       "      <th>ensemblevote</th>\n",
       "      <th>30</th>\n",
       "      <td>0.535166</td>\n",
       "    </tr>\n",
       "    <tr>\n",
       "      <th>logreg</th>\n",
       "      <th>30</th>\n",
       "      <td>0.535166</td>\n",
       "    </tr>\n",
       "    <tr>\n",
       "      <th>xgb</th>\n",
       "      <th>90</th>\n",
       "      <td>0.534223</td>\n",
       "    </tr>\n",
       "  </tbody>\n",
       "</table>\n",
       "</div>"
      ],
      "text/plain": [
       "                   acuracia_balanceada\n",
       "Modelo       freq                     \n",
       "gaussiannb   90               0.578253\n",
       "             60               0.569502\n",
       "ridge        90               0.568088\n",
       "logreg       90               0.568088\n",
       "ensemblevote 90               0.568088\n",
       "lineardisc   90               0.566421\n",
       "quadratic    90               0.564376\n",
       "lgbm         90               0.564259\n",
       "             60               0.561765\n",
       "ensemblevote 60               0.560894\n",
       "logreg       60               0.560894\n",
       "ridge        60               0.560894\n",
       "lineardisc   60               0.558942\n",
       "ridgecv      90               0.558087\n",
       "quadratic    60               0.556524\n",
       "ridgecv      60               0.553680\n",
       "gaussiannb   30               0.552661\n",
       "svc          90               0.546417\n",
       "linearsvc    90               0.546262\n",
       "lgbm         30               0.544550\n",
       "svc          60               0.543606\n",
       "linearsvc    60               0.542407\n",
       "bernoullinb  90               0.539646\n",
       "quadratic    30               0.539269\n",
       "bernoullinb  60               0.538123\n",
       "ridgecv      30               0.536999\n",
       "ridge        30               0.535166\n",
       "ensemblevote 30               0.535166\n",
       "logreg       30               0.535166\n",
       "xgb          90               0.534223"
      ]
     },
     "execution_count": 240,
     "metadata": {},
     "output_type": "execute_result"
    }
   ],
   "source": [
    "#Visualiza os resultados em formato dataframe\n",
    "resultados_df = pd.DataFrame(np.array(resultados), columns=['data','freq','Modelo','acuracia','acuracia_balanceada','recall_0','recall_1','f1_0','f1_1','auc'])\n",
    "resultados_df['auc'] = resultados_df['auc'].astype(float, errors = 'raise')\n",
    "resultados_df['acuracia_balanceada'] = resultados_df['acuracia_balanceada'].astype(float, errors = 'raise')\n",
    "resultados_df['data'] = pd.to_datetime(resultados_df['data'])\n",
    "\n",
    "resultados_df.groupby(['Modelo','freq']).agg({'acuracia_balanceada':np.mean}).sort_values(by='acuracia_balanceada', ascending=False).head(30)\n",
    "#resultados_df.sort_values(by='auc', ascending=False)"
   ]
  },
  {
   "cell_type": "markdown",
   "metadata": {},
   "source": [
    "Melhores modelos e frequencias de retreino: 90 dias - gaussiannb, ridge, logreg, ensemblevote"
   ]
  },
  {
   "cell_type": "code",
   "execution_count": 232,
   "metadata": {},
   "outputs": [],
   "source": [
    "modelos_testados = ['linearsvc','ridgecv','logreg','ridge','ensemblevote','nearestcentroid','svc','lineardisc','bernoullinb','gaussiannb','lgbm','extratree','rf','xgb','quadratic','knn']\n",
    "\n",
    "modelos_selecionados = ['gaussiannb','ridge','logreg','ridge','ensemblevote']"
   ]
  },
  {
   "cell_type": "code",
   "execution_count": 246,
   "metadata": {},
   "outputs": [
    {
     "data": {
      "image/png": "[encoded data removed]",
      "text/plain": [
       "<Figure size 1296x1008 with 3 Axes>"
      ]
     },
     "metadata": {
      "needs_background": "light"
     },
     "output_type": "display_data"
    }
   ],
   "source": [
    "fig, ax = plt.subplots(len(lista_frequencias_dias), figsize=(18,14))\n",
    "#fig, ax = plt.subplots(figsize=(18,8))\n",
    "\n",
    "\n",
    "for i,freq in enumerate(lista_frequencias_dias):\n",
    "\n",
    "    # multiline plot with group by\n",
    "    for key, grp in resultados_df[(resultados_df['freq']==str(freq))].groupby(['Modelo']): \n",
    "        if key in modelos_selecionados:\n",
    "            ax[i].plot(grp['data'], grp['acuracia_balanceada'], label = key)\n",
    "\n",
    "        \n",
    "    ax[i].legend(loc='upper right',prop={'size': 10}) \n",
    "    ax[i].set_yticks(np.arange(0, 1.05, step=0.05).tolist())\n",
    "    ax[i].title.set_text('Frequencia de retreino de %s dias' %(freq))\n",
    "\n",
    "#ax.plot([parser.parse('2022-04-28')], [0.69], 'o')\n",
    "#ax.annotate('LabelSpreading Model', xy=(parser.parse('2022-04-28'), 0.69), xytext=(parser.parse('2022-04-03'), 0.85), fontsize=12,arrowprops=dict(facecolor='red', shrink=0.05))"
   ]
  },
  {
   "cell_type": "code",
   "execution_count": 244,
   "metadata": {},
   "outputs": [
    {
     "data": {
      "text/html": [
       "<div>\n",
       "<style scoped>\n",
       "    .dataframe tbody tr th:only-of-type {\n",
       "        vertical-align: middle;\n",
       "    }\n",
       "\n",
       "    .dataframe tbody tr th {\n",
       "        vertical-align: top;\n",
       "    }\n",
       "\n",
       "    .dataframe thead th {\n",
       "        text-align: right;\n",
       "    }\n",
       "</style>\n",
       "<table border=\"1\" class=\"dataframe\">\n",
       "  <thead>\n",
       "    <tr style=\"text-align: right;\">\n",
       "      <th></th>\n",
       "      <th>data</th>\n",
       "      <th>freq</th>\n",
       "      <th>Modelo</th>\n",
       "      <th>acuracia</th>\n",
       "      <th>acuracia_balanceada</th>\n",
       "      <th>recall_0</th>\n",
       "      <th>recall_1</th>\n",
       "      <th>f1_0</th>\n",
       "      <th>f1_1</th>\n",
       "      <th>auc</th>\n",
       "    </tr>\n",
       "  </thead>\n",
       "  <tbody>\n",
       "    <tr>\n",
       "      <th>2416</th>\n",
       "      <td>2021-12-31</td>\n",
       "      <td>60</td>\n",
       "      <td>linearsvc</td>\n",
       "      <td>0.41379310344827586</td>\n",
       "      <td>0.414216</td>\n",
       "      <td>0.4166666666666667</td>\n",
       "      <td>0.4117647058823529</td>\n",
       "      <td>0.3703703703703704</td>\n",
       "      <td>0.45161290322580644</td>\n",
       "      <td>0.414216</td>\n",
       "    </tr>\n",
       "    <tr>\n",
       "      <th>2417</th>\n",
       "      <td>2021-12-31</td>\n",
       "      <td>60</td>\n",
       "      <td>ridgecv</td>\n",
       "      <td>0.41379310344827586</td>\n",
       "      <td>0.414216</td>\n",
       "      <td>0.4166666666666667</td>\n",
       "      <td>0.4117647058823529</td>\n",
       "      <td>0.3703703703703704</td>\n",
       "      <td>0.45161290322580644</td>\n",
       "      <td>0.414216</td>\n",
       "    </tr>\n",
       "    <tr>\n",
       "      <th>2418</th>\n",
       "      <td>2021-12-31</td>\n",
       "      <td>60</td>\n",
       "      <td>logreg</td>\n",
       "      <td>0.41379310344827586</td>\n",
       "      <td>0.414216</td>\n",
       "      <td>0.4166666666666667</td>\n",
       "      <td>0.4117647058823529</td>\n",
       "      <td>0.3703703703703704</td>\n",
       "      <td>0.45161290322580644</td>\n",
       "      <td>0.414216</td>\n",
       "    </tr>\n",
       "    <tr>\n",
       "      <th>2419</th>\n",
       "      <td>2021-12-31</td>\n",
       "      <td>60</td>\n",
       "      <td>ridge</td>\n",
       "      <td>0.41379310344827586</td>\n",
       "      <td>0.414216</td>\n",
       "      <td>0.4166666666666667</td>\n",
       "      <td>0.4117647058823529</td>\n",
       "      <td>0.3703703703703704</td>\n",
       "      <td>0.45161290322580644</td>\n",
       "      <td>0.414216</td>\n",
       "    </tr>\n",
       "    <tr>\n",
       "      <th>2420</th>\n",
       "      <td>2021-12-31</td>\n",
       "      <td>60</td>\n",
       "      <td>ensemblevote</td>\n",
       "      <td>0.41379310344827586</td>\n",
       "      <td>0.414216</td>\n",
       "      <td>0.4166666666666667</td>\n",
       "      <td>0.4117647058823529</td>\n",
       "      <td>0.3703703703703704</td>\n",
       "      <td>0.45161290322580644</td>\n",
       "      <td>0.414216</td>\n",
       "    </tr>\n",
       "    <tr>\n",
       "      <th>...</th>\n",
       "      <td>...</td>\n",
       "      <td>...</td>\n",
       "      <td>...</td>\n",
       "      <td>...</td>\n",
       "      <td>...</td>\n",
       "      <td>...</td>\n",
       "      <td>...</td>\n",
       "      <td>...</td>\n",
       "      <td>...</td>\n",
       "      <td>...</td>\n",
       "    </tr>\n",
       "    <tr>\n",
       "      <th>4347</th>\n",
       "      <td>2022-04-30</td>\n",
       "      <td>60</td>\n",
       "      <td>extratree</td>\n",
       "      <td>0.53125</td>\n",
       "      <td>0.531250</td>\n",
       "      <td>0.3125</td>\n",
       "      <td>0.75</td>\n",
       "      <td>0.39999999999999997</td>\n",
       "      <td>0.6153846153846153</td>\n",
       "      <td>0.531250</td>\n",
       "    </tr>\n",
       "    <tr>\n",
       "      <th>4348</th>\n",
       "      <td>2022-04-30</td>\n",
       "      <td>60</td>\n",
       "      <td>rf</td>\n",
       "      <td>0.5</td>\n",
       "      <td>0.500000</td>\n",
       "      <td>0.3125</td>\n",
       "      <td>0.6875</td>\n",
       "      <td>0.38461538461538464</td>\n",
       "      <td>0.5789473684210527</td>\n",
       "      <td>0.500000</td>\n",
       "    </tr>\n",
       "    <tr>\n",
       "      <th>4349</th>\n",
       "      <td>2022-04-30</td>\n",
       "      <td>60</td>\n",
       "      <td>xgb</td>\n",
       "      <td>0.46875</td>\n",
       "      <td>0.468750</td>\n",
       "      <td>0.25</td>\n",
       "      <td>0.6875</td>\n",
       "      <td>0.32</td>\n",
       "      <td>0.5641025641025642</td>\n",
       "      <td>0.468750</td>\n",
       "    </tr>\n",
       "    <tr>\n",
       "      <th>4350</th>\n",
       "      <td>2022-04-30</td>\n",
       "      <td>60</td>\n",
       "      <td>quadratic</td>\n",
       "      <td>0.5</td>\n",
       "      <td>0.500000</td>\n",
       "      <td>0.4375</td>\n",
       "      <td>0.5625</td>\n",
       "      <td>0.4666666666666667</td>\n",
       "      <td>0.5294117647058824</td>\n",
       "      <td>0.500000</td>\n",
       "    </tr>\n",
       "    <tr>\n",
       "      <th>4351</th>\n",
       "      <td>2022-04-30</td>\n",
       "      <td>60</td>\n",
       "      <td>knn</td>\n",
       "      <td>0.625</td>\n",
       "      <td>0.625000</td>\n",
       "      <td>0.5</td>\n",
       "      <td>0.75</td>\n",
       "      <td>0.5714285714285715</td>\n",
       "      <td>0.6666666666666665</td>\n",
       "      <td>0.625000</td>\n",
       "    </tr>\n",
       "  </tbody>\n",
       "</table>\n",
       "<p>1936 rows × 10 columns</p>\n",
       "</div>"
      ],
      "text/plain": [
       "           data freq        Modelo             acuracia  acuracia_balanceada  \\\n",
       "2416 2021-12-31   60     linearsvc  0.41379310344827586             0.414216   \n",
       "2417 2021-12-31   60       ridgecv  0.41379310344827586             0.414216   \n",
       "2418 2021-12-31   60        logreg  0.41379310344827586             0.414216   \n",
       "2419 2021-12-31   60         ridge  0.41379310344827586             0.414216   \n",
       "2420 2021-12-31   60  ensemblevote  0.41379310344827586             0.414216   \n",
       "...         ...  ...           ...                  ...                  ...   \n",
       "4347 2022-04-30   60     extratree              0.53125             0.531250   \n",
       "4348 2022-04-30   60            rf                  0.5             0.500000   \n",
       "4349 2022-04-30   60           xgb              0.46875             0.468750   \n",
       "4350 2022-04-30   60     quadratic                  0.5             0.500000   \n",
       "4351 2022-04-30   60           knn                0.625             0.625000   \n",
       "\n",
       "                recall_0            recall_1                 f1_0  \\\n",
       "2416  0.4166666666666667  0.4117647058823529   0.3703703703703704   \n",
       "2417  0.4166666666666667  0.4117647058823529   0.3703703703703704   \n",
       "2418  0.4166666666666667  0.4117647058823529   0.3703703703703704   \n",
       "2419  0.4166666666666667  0.4117647058823529   0.3703703703703704   \n",
       "2420  0.4166666666666667  0.4117647058823529   0.3703703703703704   \n",
       "...                  ...                 ...                  ...   \n",
       "4347              0.3125                0.75  0.39999999999999997   \n",
       "4348              0.3125              0.6875  0.38461538461538464   \n",
       "4349                0.25              0.6875                 0.32   \n",
       "4350              0.4375              0.5625   0.4666666666666667   \n",
       "4351                 0.5                0.75   0.5714285714285715   \n",
       "\n",
       "                     f1_1       auc  \n",
       "2416  0.45161290322580644  0.414216  \n",
       "2417  0.45161290322580644  0.414216  \n",
       "2418  0.45161290322580644  0.414216  \n",
       "2419  0.45161290322580644  0.414216  \n",
       "2420  0.45161290322580644  0.414216  \n",
       "...                   ...       ...  \n",
       "4347   0.6153846153846153  0.531250  \n",
       "4348   0.5789473684210527  0.500000  \n",
       "4349   0.5641025641025642  0.468750  \n",
       "4350   0.5294117647058824  0.500000  \n",
       "4351   0.6666666666666665  0.625000  \n",
       "\n",
       "[1936 rows x 10 columns]"
      ]
     },
     "execution_count": 244,
     "metadata": {},
     "output_type": "execute_result"
    }
   ],
   "source": [
    "resultados_df[(resultados_df['freq']==str(60))]"
   ]
  },
  {
   "cell_type": "markdown",
   "metadata": {},
   "source": [
    "# Conclusões\n",
    "\n",
    "A melhor frequencia para retreino é de 90 dias, os algoritmos que performara melhor dentre os pré-tunados e ingênuos são:\n",
    "\n",
    "SVC, GaussianNB, Ridge, LogisticRegression\n"
   ]
  },
  {
   "cell_type": "markdown",
   "metadata": {},
   "source": [
    "# 4.0 Retunagem de algorítmos \n",
    "\n",
    "- Treinados com dados até 31/03/2022 \n",
    "- Testados com dados de 31/03/2022 à 31/06/2022"
   ]
  },
  {
   "cell_type": "markdown",
   "metadata": {},
   "source": [
    "# 4.1 SVC:"
   ]
  },
  {
   "cell_type": "code",
   "execution_count": 254,
   "metadata": {},
   "outputs": [],
   "source": [
    "from sklearn.svm import SVC"
   ]
  },
  {
   "cell_type": "code",
   "execution_count": 257,
   "metadata": {},
   "outputs": [],
   "source": [
    "acuracia_dados = make_scorer(accuracy_score)\n",
    "f1_dados = make_scorer(f1_score)\n",
    "balanced_acc_dados = make_scorer(balanced_accuracy_score)\n",
    "scoring = {\"accuracy\": acuracia_dados, \"f1\":f1_dados, \"bacuracy\":balanced_acc_dados}\n",
    "resultados = []"
   ]
  },
  {
   "cell_type": "code",
   "execution_count": 264,
   "metadata": {},
   "outputs": [
    {
     "name": "stdout",
     "output_type": "stream",
     "text": [
      "Fazendo gridsearch - Repeticao 1\n",
      "Fazendo gridsearch - Repeticao 2\n",
      "Fazendo gridsearch - Repeticao 3\n",
      "Fazendo gridsearch - Repeticao 4\n",
      "Fazendo gridsearch - Repeticao 5\n",
      "Fazendo gridsearch - Repeticao 6\n",
      "Fazendo gridsearch - Repeticao 7\n",
      "Fazendo gridsearch - Repeticao 8\n",
      "Fazendo gridsearch - Repeticao 9\n",
      "Fazendo gridsearch - Repeticao 10\n",
      "Fazendo gridsearch - Repeticao 11\n",
      "Fazendo gridsearch - Repeticao 12\n",
      "Fazendo gridsearch - Repeticao 13\n",
      "Fazendo gridsearch - Repeticao 14\n",
      "Fazendo gridsearch - Repeticao 15\n",
      "Fazendo gridsearch - Repeticao 16\n",
      "Fazendo gridsearch - Repeticao 17\n",
      "Fazendo gridsearch - Repeticao 18\n",
      "Fazendo gridsearch - Repeticao 19\n",
      "Fazendo gridsearch - Repeticao 20\n",
      "Fazendo gridsearch - Repeticao 21\n",
      "Fazendo gridsearch - Repeticao 22\n",
      "Fazendo gridsearch - Repeticao 23\n",
      "Fazendo gridsearch - Repeticao 24\n",
      "Fazendo gridsearch - Repeticao 25\n",
      "Fazendo gridsearch - Repeticao 26\n",
      "Fazendo gridsearch - Repeticao 27\n",
      "Fazendo gridsearch - Repeticao 28\n",
      "Fazendo gridsearch - Repeticao 29\n",
      "Fazendo gridsearch - Repeticao 30\n"
     ]
    }
   ],
   "source": [
    "treinar_ate_data_str = '2022-03-31'\n",
    "\n",
    "## Dados de treino (até a data definida por treinar_ate_data_str)\n",
    "X = df_final99[(df_final99['Date'] <= parser.parse(treinar_ate_data_str))][['score','neu_robd4','neg_finbertd2','scored3']]\n",
    "y = df_final99[(df_final99['Date'] <= parser.parse(treinar_ate_data_str))][['Fechamento']]\n",
    "\n",
    "X_train = X\n",
    "y_train = y\n",
    "\n",
    "## Dados de teste (a partir da data definida por treinar_ate_data_str)\n",
    "X_test = df_final99[(df_final99['Date'] > parser.parse(treinar_ate_data_str))][['score','neu_robd4','neg_finbertd2','scored3']]\n",
    "y_test = df_final99[(df_final99['Date'] > parser.parse(treinar_ate_data_str))][['Fechamento']]\n",
    "\n",
    "C = [1,0.1]\n",
    "kernel = ['linear', 'poly', 'rbf', 'sigmoid']\n",
    "gamma = ['scale', 'auto']\n",
    "\n",
    "\n",
    "C = [1.5,2,5,10,100]\n",
    "kernel = ['linear','poly']\n",
    "gamma = ['scale', 'auto']\n",
    "\n",
    "C = [20,30,40,50,60,70,80,90]\n",
    "kernel = ['poly']\n",
    "gamma = ['auto']\n",
    "\n",
    "C = [6,7,8,9,10,11,12,13,14,15,16,17,18,19]\n",
    "kernel = ['poly']\n",
    "gamma = ['auto']\n",
    "\n",
    "#C = [11.1,11.2,11.3,11.4,11.5,11.6,11.7,11.8,11.9]\n",
    "#kernel = ['poly']\n",
    "#gamma = ['auto']\n",
    "\n",
    "\n",
    "\n",
    "#C = [1.1,1.2,1.3,1.4,1.6,1.8,1.9]\n",
    "#kernel = ['linear']\n",
    "#gamma = ['scale', 'auto']\n",
    "\n",
    "#C = [1.42,1.44,1.46,1.48,1.52,1.54,1.56,1.58]\n",
    "#kernel = ['linear']\n",
    "#gamma = ['scale', 'auto']\n",
    "\n",
    "\n",
    "\n",
    "#Repete os experimentos 30x\n",
    "for i in range(30):   \n",
    "    \n",
    "    #Holdout: Treinando apenas com 70% do dataset de treino\n",
    "    X_train, X_descarte, y_train, y_descarte = train_test_split(X, y, test_size=0.3, random_state=i, stratify=y)\n",
    "        \n",
    "    #Validação cruzada com 10 kfolds\n",
    "    kfold = KFold(n_splits = 10, shuffle = True, random_state = i)\n",
    "    \n",
    "    print(\"Fazendo gridsearch - Repeticao %s\" % (i+1))\n",
    "    \n",
    "    \n",
    "    # itera sobre parametro 1:\n",
    "    for k in C:\n",
    "        \n",
    "        # itera sobre parametro 2:\n",
    "        for u in kernel:\n",
    "            \n",
    "            #itera sobre o parametro 3:\n",
    "            for w in gamma:\n",
    "        \n",
    "                gs = GridSearchCV(\n",
    "                    SVC(random_state=i) ,\n",
    "                    param_grid={\"C\": [k], \n",
    "                                \"kernel\":[u],\n",
    "                                \"gamma\":[w]}, \n",
    "                    scoring=scoring,\n",
    "                    refit=\"bacuracy\",\n",
    "                    n_jobs=2,\n",
    "                    return_train_score=True,\n",
    "                    cv = kfold\n",
    "                        )\n",
    "\n",
    "                #Treinando o modelo com dados de treino c/ 9 folds e utilizando 1 fold para teste\n",
    "                gs.fit(X_train, y_train)\n",
    "\n",
    "                #Melhores resultados e hiperparâmetros encontrados\n",
    "                acuracy_treino = gs.best_score_\n",
    "                hyperparams = gs.best_params_\n",
    "\n",
    "                ##Predizendo as classes nos dados de teste e todos dados, utilizando os melhores parâmetros\n",
    "                y_test_pred = gs.predict(X_test)\n",
    "                #y_test_pred_todos = gs.predict(X_todos)\n",
    "\n",
    "                #Calculando acurácia \n",
    "                accuracy_teste = accuracy_score(y_test, y_test_pred)\n",
    "                #accuracy_todos = accuracy_score(y_todos, y_test_pred_todos)\n",
    "\n",
    "                #calculando f1_score da classe 1\n",
    "                f1_teste = f1_score(y_test, y_test_pred)\n",
    "                #f1_todos = f1_score(y_todos, y_test_pred_todos)\n",
    "\n",
    "                #calculando área sobre a curva ROC_AUC:\n",
    "                auc_teste = roc_auc_score(y_test, y_test_pred)\n",
    "                #auc_todos = roc_auc_score(y_todos, y_test_pred_todos)\n",
    "\n",
    "                #Calculando Recall clase 1\n",
    "                rec0_teste = recall_score(y_test, y_test_pred, pos_label=0)\n",
    "                rec1_teste = recall_score(y_test, y_test_pred, pos_label=1)\n",
    "\n",
    "                #rec0_todos = recall_score(y_todos, y_test_pred_todos, pos_label=0)\n",
    "                #rec1_todos = recall_score(y_todos, y_test_pred_todos, pos_label=1)\n",
    "\n",
    "                #Calculando a acurácia balanceada\n",
    "                accuracy_teste_balanced = balanced_accuracy_score(y_test, y_test_pred)\n",
    "\n",
    "                # Adicionando todos resultados em uma única lista\n",
    "                resultados.append(np.array([i,hyperparams['C'],hyperparams['kernel'],hyperparams['gamma'],acuracy_treino,accuracy_teste,accuracy_teste_balanced,rec0_teste,rec1_teste,f1_teste,auc_teste]))"
   ]
  },
  {
   "cell_type": "code",
   "execution_count": 265,
   "metadata": {},
   "outputs": [
    {
     "data": {
      "text/html": [
       "<div>\n",
       "<style scoped>\n",
       "    .dataframe tbody tr th:only-of-type {\n",
       "        vertical-align: middle;\n",
       "    }\n",
       "\n",
       "    .dataframe tbody tr th {\n",
       "        vertical-align: top;\n",
       "    }\n",
       "\n",
       "    .dataframe thead th {\n",
       "        text-align: right;\n",
       "    }\n",
       "</style>\n",
       "<table border=\"1\" class=\"dataframe\">\n",
       "  <thead>\n",
       "    <tr style=\"text-align: right;\">\n",
       "      <th></th>\n",
       "      <th></th>\n",
       "      <th></th>\n",
       "      <th>acuracy_treino</th>\n",
       "      <th>acuracia_teste</th>\n",
       "      <th>acuracia_balanceada_teste</th>\n",
       "      <th>rec_0_teste</th>\n",
       "      <th>rec_1_teste</th>\n",
       "      <th>f1_teste</th>\n",
       "      <th>auc_teste</th>\n",
       "    </tr>\n",
       "    <tr>\n",
       "      <th>C</th>\n",
       "      <th>kernel</th>\n",
       "      <th>gamma</th>\n",
       "      <th></th>\n",
       "      <th></th>\n",
       "      <th></th>\n",
       "      <th></th>\n",
       "      <th></th>\n",
       "      <th></th>\n",
       "      <th></th>\n",
       "    </tr>\n",
       "  </thead>\n",
       "  <tbody>\n",
       "    <tr>\n",
       "      <th>10</th>\n",
       "      <th>poly</th>\n",
       "      <th>auto</th>\n",
       "      <td>0.588092</td>\n",
       "      <td>0.570922</td>\n",
       "      <td>0.596001</td>\n",
       "      <td>0.360256</td>\n",
       "      <td>0.831746</td>\n",
       "      <td>0.633735</td>\n",
       "      <td>0.596001</td>\n",
       "    </tr>\n",
       "    <tr>\n",
       "      <th>7</th>\n",
       "      <th>poly</th>\n",
       "      <th>auto</th>\n",
       "      <td>0.586954</td>\n",
       "      <td>0.570922</td>\n",
       "      <td>0.595543</td>\n",
       "      <td>0.364103</td>\n",
       "      <td>0.826984</td>\n",
       "      <td>0.632393</td>\n",
       "      <td>0.595543</td>\n",
       "    </tr>\n",
       "    <tr>\n",
       "      <th>14</th>\n",
       "      <th>poly</th>\n",
       "      <th>auto</th>\n",
       "      <td>0.590279</td>\n",
       "      <td>0.570213</td>\n",
       "      <td>0.595513</td>\n",
       "      <td>0.357692</td>\n",
       "      <td>0.833333</td>\n",
       "      <td>0.633744</td>\n",
       "      <td>0.595513</td>\n",
       "    </tr>\n",
       "    <tr>\n",
       "      <th>9</th>\n",
       "      <th>poly</th>\n",
       "      <th>auto</th>\n",
       "      <td>0.587302</td>\n",
       "      <td>0.570922</td>\n",
       "      <td>0.595391</td>\n",
       "      <td>0.365385</td>\n",
       "      <td>0.825397</td>\n",
       "      <td>0.631875</td>\n",
       "      <td>0.595391</td>\n",
       "    </tr>\n",
       "    <tr>\n",
       "      <th>13</th>\n",
       "      <th>poly</th>\n",
       "      <th>auto</th>\n",
       "      <td>0.589352</td>\n",
       "      <td>0.570213</td>\n",
       "      <td>0.595208</td>\n",
       "      <td>0.360256</td>\n",
       "      <td>0.830159</td>\n",
       "      <td>0.632873</td>\n",
       "      <td>0.595208</td>\n",
       "    </tr>\n",
       "    <tr>\n",
       "      <th>18</th>\n",
       "      <th>poly</th>\n",
       "      <th>auto</th>\n",
       "      <td>0.591035</td>\n",
       "      <td>0.569504</td>\n",
       "      <td>0.595177</td>\n",
       "      <td>0.353846</td>\n",
       "      <td>0.836508</td>\n",
       "      <td>0.634463</td>\n",
       "      <td>0.595177</td>\n",
       "    </tr>\n",
       "    <tr>\n",
       "      <th>100</th>\n",
       "      <th>poly</th>\n",
       "      <th>scale</th>\n",
       "      <td>0.588058</td>\n",
       "      <td>0.570213</td>\n",
       "      <td>0.595055</td>\n",
       "      <td>0.361538</td>\n",
       "      <td>0.828571</td>\n",
       "      <td>0.632503</td>\n",
       "      <td>0.595055</td>\n",
       "    </tr>\n",
       "    <tr>\n",
       "      <th>16</th>\n",
       "      <th>poly</th>\n",
       "      <th>auto</th>\n",
       "      <td>0.590966</td>\n",
       "      <td>0.569504</td>\n",
       "      <td>0.595024</td>\n",
       "      <td>0.355128</td>\n",
       "      <td>0.834921</td>\n",
       "      <td>0.633937</td>\n",
       "      <td>0.595024</td>\n",
       "    </tr>\n",
       "    <tr>\n",
       "      <th>15</th>\n",
       "      <th>poly</th>\n",
       "      <th>auto</th>\n",
       "      <td>0.590615</td>\n",
       "      <td>0.569504</td>\n",
       "      <td>0.594872</td>\n",
       "      <td>0.356410</td>\n",
       "      <td>0.833333</td>\n",
       "      <td>0.633381</td>\n",
       "      <td>0.594872</td>\n",
       "    </tr>\n",
       "    <tr>\n",
       "      <th>12</th>\n",
       "      <th>poly</th>\n",
       "      <th>auto</th>\n",
       "      <td>0.588836</td>\n",
       "      <td>0.569504</td>\n",
       "      <td>0.594719</td>\n",
       "      <td>0.357692</td>\n",
       "      <td>0.831746</td>\n",
       "      <td>0.632971</td>\n",
       "      <td>0.594719</td>\n",
       "    </tr>\n",
       "    <tr>\n",
       "      <th>11</th>\n",
       "      <th>poly</th>\n",
       "      <th>auto</th>\n",
       "      <td>0.588249</td>\n",
       "      <td>0.569504</td>\n",
       "      <td>0.594719</td>\n",
       "      <td>0.357692</td>\n",
       "      <td>0.831746</td>\n",
       "      <td>0.633000</td>\n",
       "      <td>0.594719</td>\n",
       "    </tr>\n",
       "    <tr>\n",
       "      <th>19</th>\n",
       "      <th>poly</th>\n",
       "      <th>auto</th>\n",
       "      <td>0.591956</td>\n",
       "      <td>0.568794</td>\n",
       "      <td>0.594536</td>\n",
       "      <td>0.352564</td>\n",
       "      <td>0.836508</td>\n",
       "      <td>0.634060</td>\n",
       "      <td>0.594536</td>\n",
       "    </tr>\n",
       "    <tr>\n",
       "      <th>17</th>\n",
       "      <th>poly</th>\n",
       "      <th>auto</th>\n",
       "      <td>0.590528</td>\n",
       "      <td>0.568794</td>\n",
       "      <td>0.594383</td>\n",
       "      <td>0.353846</td>\n",
       "      <td>0.834921</td>\n",
       "      <td>0.633548</td>\n",
       "      <td>0.594383</td>\n",
       "    </tr>\n",
       "    <tr>\n",
       "      <th>80</th>\n",
       "      <th>poly</th>\n",
       "      <th>auto</th>\n",
       "      <td>0.594939</td>\n",
       "      <td>0.566667</td>\n",
       "      <td>0.594139</td>\n",
       "      <td>0.335897</td>\n",
       "      <td>0.852381</td>\n",
       "      <td>0.637271</td>\n",
       "      <td>0.594139</td>\n",
       "    </tr>\n",
       "    <tr>\n",
       "      <th>8</th>\n",
       "      <th>poly</th>\n",
       "      <th>auto</th>\n",
       "      <td>0.587964</td>\n",
       "      <td>0.568794</td>\n",
       "      <td>0.593468</td>\n",
       "      <td>0.361538</td>\n",
       "      <td>0.825397</td>\n",
       "      <td>0.630778</td>\n",
       "      <td>0.593468</td>\n",
       "    </tr>\n",
       "    <tr>\n",
       "      <th>70</th>\n",
       "      <th>poly</th>\n",
       "      <th>auto</th>\n",
       "      <td>0.595915</td>\n",
       "      <td>0.565248</td>\n",
       "      <td>0.592857</td>\n",
       "      <td>0.333333</td>\n",
       "      <td>0.852381</td>\n",
       "      <td>0.636540</td>\n",
       "      <td>0.592857</td>\n",
       "    </tr>\n",
       "    <tr>\n",
       "      <th>20</th>\n",
       "      <th>poly</th>\n",
       "      <th>auto</th>\n",
       "      <td>0.591737</td>\n",
       "      <td>0.566667</td>\n",
       "      <td>0.592460</td>\n",
       "      <td>0.350000</td>\n",
       "      <td>0.834921</td>\n",
       "      <td>0.632422</td>\n",
       "      <td>0.592460</td>\n",
       "    </tr>\n",
       "    <tr>\n",
       "      <th>50</th>\n",
       "      <th>poly</th>\n",
       "      <th>auto</th>\n",
       "      <td>0.595142</td>\n",
       "      <td>0.565248</td>\n",
       "      <td>0.592399</td>\n",
       "      <td>0.337179</td>\n",
       "      <td>0.847619</td>\n",
       "      <td>0.635247</td>\n",
       "      <td>0.592399</td>\n",
       "    </tr>\n",
       "    <tr>\n",
       "      <th>5</th>\n",
       "      <th>poly</th>\n",
       "      <th>auto</th>\n",
       "      <td>0.588113</td>\n",
       "      <td>0.568085</td>\n",
       "      <td>0.592369</td>\n",
       "      <td>0.364103</td>\n",
       "      <td>0.820635</td>\n",
       "      <td>0.628747</td>\n",
       "      <td>0.592369</td>\n",
       "    </tr>\n",
       "    <tr>\n",
       "      <th>60</th>\n",
       "      <th>poly</th>\n",
       "      <th>auto</th>\n",
       "      <td>0.595676</td>\n",
       "      <td>0.564539</td>\n",
       "      <td>0.591606</td>\n",
       "      <td>0.337179</td>\n",
       "      <td>0.846032</td>\n",
       "      <td>0.634418</td>\n",
       "      <td>0.591606</td>\n",
       "    </tr>\n",
       "    <tr>\n",
       "      <th>40</th>\n",
       "      <th>poly</th>\n",
       "      <th>auto</th>\n",
       "      <td>0.593638</td>\n",
       "      <td>0.564539</td>\n",
       "      <td>0.591300</td>\n",
       "      <td>0.339744</td>\n",
       "      <td>0.842857</td>\n",
       "      <td>0.633598</td>\n",
       "      <td>0.591300</td>\n",
       "    </tr>\n",
       "    <tr>\n",
       "      <th>6</th>\n",
       "      <th>poly</th>\n",
       "      <th>auto</th>\n",
       "      <td>0.587212</td>\n",
       "      <td>0.566667</td>\n",
       "      <td>0.591239</td>\n",
       "      <td>0.360256</td>\n",
       "      <td>0.822222</td>\n",
       "      <td>0.628622</td>\n",
       "      <td>0.591239</td>\n",
       "    </tr>\n",
       "    <tr>\n",
       "      <th>90</th>\n",
       "      <th>poly</th>\n",
       "      <th>auto</th>\n",
       "      <td>0.594566</td>\n",
       "      <td>0.563121</td>\n",
       "      <td>0.590629</td>\n",
       "      <td>0.332051</td>\n",
       "      <td>0.849206</td>\n",
       "      <td>0.634535</td>\n",
       "      <td>0.590629</td>\n",
       "    </tr>\n",
       "    <tr>\n",
       "      <th>2</th>\n",
       "      <th>poly</th>\n",
       "      <th>auto</th>\n",
       "      <td>0.590689</td>\n",
       "      <td>0.567376</td>\n",
       "      <td>0.590201</td>\n",
       "      <td>0.375641</td>\n",
       "      <td>0.804762</td>\n",
       "      <td>0.622066</td>\n",
       "      <td>0.590201</td>\n",
       "    </tr>\n",
       "    <tr>\n",
       "      <th>1.5</th>\n",
       "      <th>poly</th>\n",
       "      <th>auto</th>\n",
       "      <td>0.592619</td>\n",
       "      <td>0.567376</td>\n",
       "      <td>0.589591</td>\n",
       "      <td>0.380769</td>\n",
       "      <td>0.798413</td>\n",
       "      <td>0.620281</td>\n",
       "      <td>0.589591</td>\n",
       "    </tr>\n",
       "    <tr>\n",
       "      <th>30</th>\n",
       "      <th>poly</th>\n",
       "      <th>auto</th>\n",
       "      <td>0.592971</td>\n",
       "      <td>0.563121</td>\n",
       "      <td>0.589560</td>\n",
       "      <td>0.341026</td>\n",
       "      <td>0.838095</td>\n",
       "      <td>0.631459</td>\n",
       "      <td>0.589560</td>\n",
       "    </tr>\n",
       "    <tr>\n",
       "      <th>100</th>\n",
       "      <th>poly</th>\n",
       "      <th>auto</th>\n",
       "      <td>0.593674</td>\n",
       "      <td>0.560993</td>\n",
       "      <td>0.588706</td>\n",
       "      <td>0.328205</td>\n",
       "      <td>0.849206</td>\n",
       "      <td>0.633412</td>\n",
       "      <td>0.588706</td>\n",
       "    </tr>\n",
       "    <tr>\n",
       "      <th>1</th>\n",
       "      <th>poly</th>\n",
       "      <th>auto</th>\n",
       "      <td>0.591819</td>\n",
       "      <td>0.562411</td>\n",
       "      <td>0.584341</td>\n",
       "      <td>0.378205</td>\n",
       "      <td>0.790476</td>\n",
       "      <td>0.614688</td>\n",
       "      <td>0.584341</td>\n",
       "    </tr>\n",
       "    <tr>\n",
       "      <th>10</th>\n",
       "      <th>poly</th>\n",
       "      <th>scale</th>\n",
       "      <td>0.594395</td>\n",
       "      <td>0.560284</td>\n",
       "      <td>0.581502</td>\n",
       "      <td>0.382051</td>\n",
       "      <td>0.780952</td>\n",
       "      <td>0.608758</td>\n",
       "      <td>0.581502</td>\n",
       "    </tr>\n",
       "    <tr>\n",
       "      <th>5</th>\n",
       "      <th>poly</th>\n",
       "      <th>scale</th>\n",
       "      <td>0.596371</td>\n",
       "      <td>0.556028</td>\n",
       "      <td>0.577503</td>\n",
       "      <td>0.375641</td>\n",
       "      <td>0.779365</td>\n",
       "      <td>0.606039</td>\n",
       "      <td>0.577503</td>\n",
       "    </tr>\n",
       "    <tr>\n",
       "      <th>1.5</th>\n",
       "      <th>poly</th>\n",
       "      <th>scale</th>\n",
       "      <td>0.605261</td>\n",
       "      <td>0.549645</td>\n",
       "      <td>0.571734</td>\n",
       "      <td>0.364103</td>\n",
       "      <td>0.779365</td>\n",
       "      <td>0.603005</td>\n",
       "      <td>0.571734</td>\n",
       "    </tr>\n",
       "    <tr>\n",
       "      <th>0.1</th>\n",
       "      <th>poly</th>\n",
       "      <th>auto</th>\n",
       "      <td>0.604393</td>\n",
       "      <td>0.548936</td>\n",
       "      <td>0.571093</td>\n",
       "      <td>0.362821</td>\n",
       "      <td>0.779365</td>\n",
       "      <td>0.602427</td>\n",
       "      <td>0.571093</td>\n",
       "    </tr>\n",
       "    <tr>\n",
       "      <th>2</th>\n",
       "      <th>poly</th>\n",
       "      <th>scale</th>\n",
       "      <td>0.602130</td>\n",
       "      <td>0.544681</td>\n",
       "      <td>0.567247</td>\n",
       "      <td>0.355128</td>\n",
       "      <td>0.779365</td>\n",
       "      <td>0.600032</td>\n",
       "      <td>0.567247</td>\n",
       "    </tr>\n",
       "    <tr>\n",
       "      <th>1</th>\n",
       "      <th>poly</th>\n",
       "      <th>scale</th>\n",
       "      <td>0.603185</td>\n",
       "      <td>0.534043</td>\n",
       "      <td>0.556258</td>\n",
       "      <td>0.347436</td>\n",
       "      <td>0.765079</td>\n",
       "      <td>0.590639</td>\n",
       "      <td>0.556258</td>\n",
       "    </tr>\n",
       "    <tr>\n",
       "      <th rowspan=\"3\" valign=\"top\">0.1</th>\n",
       "      <th rowspan=\"2\" valign=\"top\">linear</th>\n",
       "      <th>auto</th>\n",
       "      <td>0.669846</td>\n",
       "      <td>0.535461</td>\n",
       "      <td>0.550977</td>\n",
       "      <td>0.405128</td>\n",
       "      <td>0.696825</td>\n",
       "      <td>0.572551</td>\n",
       "      <td>0.550977</td>\n",
       "    </tr>\n",
       "    <tr>\n",
       "      <th>scale</th>\n",
       "      <td>0.669846</td>\n",
       "      <td>0.535461</td>\n",
       "      <td>0.550977</td>\n",
       "      <td>0.405128</td>\n",
       "      <td>0.696825</td>\n",
       "      <td>0.572551</td>\n",
       "      <td>0.550977</td>\n",
       "    </tr>\n",
       "    <tr>\n",
       "      <th>sigmoid</th>\n",
       "      <th>scale</th>\n",
       "      <td>0.653926</td>\n",
       "      <td>0.547518</td>\n",
       "      <td>0.549054</td>\n",
       "      <td>0.534615</td>\n",
       "      <td>0.563492</td>\n",
       "      <td>0.526157</td>\n",
       "      <td>0.549054</td>\n",
       "    </tr>\n",
       "    <tr>\n",
       "      <th rowspan=\"3\" valign=\"top\">1</th>\n",
       "      <th rowspan=\"2\" valign=\"top\">linear</th>\n",
       "      <th>auto</th>\n",
       "      <td>0.660415</td>\n",
       "      <td>0.519149</td>\n",
       "      <td>0.537454</td>\n",
       "      <td>0.365385</td>\n",
       "      <td>0.709524</td>\n",
       "      <td>0.568692</td>\n",
       "      <td>0.537454</td>\n",
       "    </tr>\n",
       "    <tr>\n",
       "      <th>scale</th>\n",
       "      <td>0.660415</td>\n",
       "      <td>0.519149</td>\n",
       "      <td>0.537454</td>\n",
       "      <td>0.365385</td>\n",
       "      <td>0.709524</td>\n",
       "      <td>0.568692</td>\n",
       "      <td>0.537454</td>\n",
       "    </tr>\n",
       "    <tr>\n",
       "      <th>sigmoid</th>\n",
       "      <th>auto</th>\n",
       "      <td>0.565236</td>\n",
       "      <td>0.532624</td>\n",
       "      <td>0.536355</td>\n",
       "      <td>0.501282</td>\n",
       "      <td>0.571429</td>\n",
       "      <td>0.520569</td>\n",
       "      <td>0.536355</td>\n",
       "    </tr>\n",
       "    <tr>\n",
       "      <th rowspan=\"2\" valign=\"top\">2</th>\n",
       "      <th rowspan=\"2\" valign=\"top\">linear</th>\n",
       "      <th>auto</th>\n",
       "      <td>0.659086</td>\n",
       "      <td>0.517730</td>\n",
       "      <td>0.536172</td>\n",
       "      <td>0.362821</td>\n",
       "      <td>0.709524</td>\n",
       "      <td>0.567966</td>\n",
       "      <td>0.536172</td>\n",
       "    </tr>\n",
       "    <tr>\n",
       "      <th>scale</th>\n",
       "      <td>0.659086</td>\n",
       "      <td>0.517730</td>\n",
       "      <td>0.536172</td>\n",
       "      <td>0.362821</td>\n",
       "      <td>0.709524</td>\n",
       "      <td>0.567966</td>\n",
       "      <td>0.536172</td>\n",
       "    </tr>\n",
       "    <tr>\n",
       "      <th>0.1</th>\n",
       "      <th>poly</th>\n",
       "      <th>scale</th>\n",
       "      <td>0.602557</td>\n",
       "      <td>0.512766</td>\n",
       "      <td>0.535806</td>\n",
       "      <td>0.319231</td>\n",
       "      <td>0.752381</td>\n",
       "      <td>0.575251</td>\n",
       "      <td>0.535806</td>\n",
       "    </tr>\n",
       "    <tr>\n",
       "      <th>1</th>\n",
       "      <th>rbf</th>\n",
       "      <th>scale</th>\n",
       "      <td>0.651913</td>\n",
       "      <td>0.522695</td>\n",
       "      <td>0.535470</td>\n",
       "      <td>0.415385</td>\n",
       "      <td>0.655556</td>\n",
       "      <td>0.551245</td>\n",
       "      <td>0.535470</td>\n",
       "    </tr>\n",
       "    <tr>\n",
       "      <th rowspan=\"2\" valign=\"top\">5</th>\n",
       "      <th rowspan=\"2\" valign=\"top\">linear</th>\n",
       "      <th>scale</th>\n",
       "      <td>0.655908</td>\n",
       "      <td>0.516312</td>\n",
       "      <td>0.534890</td>\n",
       "      <td>0.360256</td>\n",
       "      <td>0.709524</td>\n",
       "      <td>0.567267</td>\n",
       "      <td>0.534890</td>\n",
       "    </tr>\n",
       "    <tr>\n",
       "      <th>auto</th>\n",
       "      <td>0.655908</td>\n",
       "      <td>0.516312</td>\n",
       "      <td>0.534890</td>\n",
       "      <td>0.360256</td>\n",
       "      <td>0.709524</td>\n",
       "      <td>0.567267</td>\n",
       "      <td>0.534890</td>\n",
       "    </tr>\n",
       "    <tr>\n",
       "      <th rowspan=\"2\" valign=\"top\">1.5</th>\n",
       "      <th rowspan=\"2\" valign=\"top\">linear</th>\n",
       "      <th>scale</th>\n",
       "      <td>0.659406</td>\n",
       "      <td>0.516312</td>\n",
       "      <td>0.534890</td>\n",
       "      <td>0.360256</td>\n",
       "      <td>0.709524</td>\n",
       "      <td>0.567240</td>\n",
       "      <td>0.534890</td>\n",
       "    </tr>\n",
       "    <tr>\n",
       "      <th>auto</th>\n",
       "      <td>0.659406</td>\n",
       "      <td>0.516312</td>\n",
       "      <td>0.534890</td>\n",
       "      <td>0.360256</td>\n",
       "      <td>0.709524</td>\n",
       "      <td>0.567240</td>\n",
       "      <td>0.534890</td>\n",
       "    </tr>\n",
       "    <tr>\n",
       "      <th rowspan=\"2\" valign=\"top\">10</th>\n",
       "      <th rowspan=\"2\" valign=\"top\">linear</th>\n",
       "      <th>scale</th>\n",
       "      <td>0.655252</td>\n",
       "      <td>0.514894</td>\n",
       "      <td>0.533608</td>\n",
       "      <td>0.357692</td>\n",
       "      <td>0.709524</td>\n",
       "      <td>0.566576</td>\n",
       "      <td>0.533608</td>\n",
       "    </tr>\n",
       "    <tr>\n",
       "      <th>auto</th>\n",
       "      <td>0.655252</td>\n",
       "      <td>0.514894</td>\n",
       "      <td>0.533608</td>\n",
       "      <td>0.357692</td>\n",
       "      <td>0.709524</td>\n",
       "      <td>0.566576</td>\n",
       "      <td>0.533608</td>\n",
       "    </tr>\n",
       "  </tbody>\n",
       "</table>\n",
       "</div>"
      ],
      "text/plain": [
       "                   acuracy_treino  acuracia_teste  acuracia_balanceada_teste  \\\n",
       "C   kernel  gamma                                                              \n",
       "10  poly    auto         0.588092        0.570922                   0.596001   \n",
       "7   poly    auto         0.586954        0.570922                   0.595543   \n",
       "14  poly    auto         0.590279        0.570213                   0.595513   \n",
       "9   poly    auto         0.587302        0.570922                   0.595391   \n",
       "13  poly    auto         0.589352        0.570213                   0.595208   \n",
       "18  poly    auto         0.591035        0.569504                   0.595177   \n",
       "100 poly    scale        0.588058        0.570213                   0.595055   \n",
       "16  poly    auto         0.590966        0.569504                   0.595024   \n",
       "15  poly    auto         0.590615        0.569504                   0.594872   \n",
       "12  poly    auto         0.588836        0.569504                   0.594719   \n",
       "11  poly    auto         0.588249        0.569504                   0.594719   \n",
       "19  poly    auto         0.591956        0.568794                   0.594536   \n",
       "17  poly    auto         0.590528        0.568794                   0.594383   \n",
       "80  poly    auto         0.594939        0.566667                   0.594139   \n",
       "8   poly    auto         0.587964        0.568794                   0.593468   \n",
       "70  poly    auto         0.595915        0.565248                   0.592857   \n",
       "20  poly    auto         0.591737        0.566667                   0.592460   \n",
       "50  poly    auto         0.595142        0.565248                   0.592399   \n",
       "5   poly    auto         0.588113        0.568085                   0.592369   \n",
       "60  poly    auto         0.595676        0.564539                   0.591606   \n",
       "40  poly    auto         0.593638        0.564539                   0.591300   \n",
       "6   poly    auto         0.587212        0.566667                   0.591239   \n",
       "90  poly    auto         0.594566        0.563121                   0.590629   \n",
       "2   poly    auto         0.590689        0.567376                   0.590201   \n",
       "1.5 poly    auto         0.592619        0.567376                   0.589591   \n",
       "30  poly    auto         0.592971        0.563121                   0.589560   \n",
       "100 poly    auto         0.593674        0.560993                   0.588706   \n",
       "1   poly    auto         0.591819        0.562411                   0.584341   \n",
       "10  poly    scale        0.594395        0.560284                   0.581502   \n",
       "5   poly    scale        0.596371        0.556028                   0.577503   \n",
       "1.5 poly    scale        0.605261        0.549645                   0.571734   \n",
       "0.1 poly    auto         0.604393        0.548936                   0.571093   \n",
       "2   poly    scale        0.602130        0.544681                   0.567247   \n",
       "1   poly    scale        0.603185        0.534043                   0.556258   \n",
       "0.1 linear  auto         0.669846        0.535461                   0.550977   \n",
       "            scale        0.669846        0.535461                   0.550977   \n",
       "    sigmoid scale        0.653926        0.547518                   0.549054   \n",
       "1   linear  auto         0.660415        0.519149                   0.537454   \n",
       "            scale        0.660415        0.519149                   0.537454   \n",
       "    sigmoid auto         0.565236        0.532624                   0.536355   \n",
       "2   linear  auto         0.659086        0.517730                   0.536172   \n",
       "            scale        0.659086        0.517730                   0.536172   \n",
       "0.1 poly    scale        0.602557        0.512766                   0.535806   \n",
       "1   rbf     scale        0.651913        0.522695                   0.535470   \n",
       "5   linear  scale        0.655908        0.516312                   0.534890   \n",
       "            auto         0.655908        0.516312                   0.534890   \n",
       "1.5 linear  scale        0.659406        0.516312                   0.534890   \n",
       "            auto         0.659406        0.516312                   0.534890   \n",
       "10  linear  scale        0.655252        0.514894                   0.533608   \n",
       "            auto         0.655252        0.514894                   0.533608   \n",
       "\n",
       "                   rec_0_teste  rec_1_teste  f1_teste  auc_teste  \n",
       "C   kernel  gamma                                                 \n",
       "10  poly    auto      0.360256     0.831746  0.633735   0.596001  \n",
       "7   poly    auto      0.364103     0.826984  0.632393   0.595543  \n",
       "14  poly    auto      0.357692     0.833333  0.633744   0.595513  \n",
       "9   poly    auto      0.365385     0.825397  0.631875   0.595391  \n",
       "13  poly    auto      0.360256     0.830159  0.632873   0.595208  \n",
       "18  poly    auto      0.353846     0.836508  0.634463   0.595177  \n",
       "100 poly    scale     0.361538     0.828571  0.632503   0.595055  \n",
       "16  poly    auto      0.355128     0.834921  0.633937   0.595024  \n",
       "15  poly    auto      0.356410     0.833333  0.633381   0.594872  \n",
       "12  poly    auto      0.357692     0.831746  0.632971   0.594719  \n",
       "11  poly    auto      0.357692     0.831746  0.633000   0.594719  \n",
       "19  poly    auto      0.352564     0.836508  0.634060   0.594536  \n",
       "17  poly    auto      0.353846     0.834921  0.633548   0.594383  \n",
       "80  poly    auto      0.335897     0.852381  0.637271   0.594139  \n",
       "8   poly    auto      0.361538     0.825397  0.630778   0.593468  \n",
       "70  poly    auto      0.333333     0.852381  0.636540   0.592857  \n",
       "20  poly    auto      0.350000     0.834921  0.632422   0.592460  \n",
       "50  poly    auto      0.337179     0.847619  0.635247   0.592399  \n",
       "5   poly    auto      0.364103     0.820635  0.628747   0.592369  \n",
       "60  poly    auto      0.337179     0.846032  0.634418   0.591606  \n",
       "40  poly    auto      0.339744     0.842857  0.633598   0.591300  \n",
       "6   poly    auto      0.360256     0.822222  0.628622   0.591239  \n",
       "90  poly    auto      0.332051     0.849206  0.634535   0.590629  \n",
       "2   poly    auto      0.375641     0.804762  0.622066   0.590201  \n",
       "1.5 poly    auto      0.380769     0.798413  0.620281   0.589591  \n",
       "30  poly    auto      0.341026     0.838095  0.631459   0.589560  \n",
       "100 poly    auto      0.328205     0.849206  0.633412   0.588706  \n",
       "1   poly    auto      0.378205     0.790476  0.614688   0.584341  \n",
       "10  poly    scale     0.382051     0.780952  0.608758   0.581502  \n",
       "5   poly    scale     0.375641     0.779365  0.606039   0.577503  \n",
       "1.5 poly    scale     0.364103     0.779365  0.603005   0.571734  \n",
       "0.1 poly    auto      0.362821     0.779365  0.602427   0.571093  \n",
       "2   poly    scale     0.355128     0.779365  0.600032   0.567247  \n",
       "1   poly    scale     0.347436     0.765079  0.590639   0.556258  \n",
       "0.1 linear  auto      0.405128     0.696825  0.572551   0.550977  \n",
       "            scale     0.405128     0.696825  0.572551   0.550977  \n",
       "    sigmoid scale     0.534615     0.563492  0.526157   0.549054  \n",
       "1   linear  auto      0.365385     0.709524  0.568692   0.537454  \n",
       "            scale     0.365385     0.709524  0.568692   0.537454  \n",
       "    sigmoid auto      0.501282     0.571429  0.520569   0.536355  \n",
       "2   linear  auto      0.362821     0.709524  0.567966   0.536172  \n",
       "            scale     0.362821     0.709524  0.567966   0.536172  \n",
       "0.1 poly    scale     0.319231     0.752381  0.575251   0.535806  \n",
       "1   rbf     scale     0.415385     0.655556  0.551245   0.535470  \n",
       "5   linear  scale     0.360256     0.709524  0.567267   0.534890  \n",
       "            auto      0.360256     0.709524  0.567267   0.534890  \n",
       "1.5 linear  scale     0.360256     0.709524  0.567240   0.534890  \n",
       "            auto      0.360256     0.709524  0.567240   0.534890  \n",
       "10  linear  scale     0.357692     0.709524  0.566576   0.533608  \n",
       "            auto      0.357692     0.709524  0.566576   0.533608  "
      ]
     },
     "execution_count": 265,
     "metadata": {},
     "output_type": "execute_result"
    }
   ],
   "source": [
    "resultados_df = pd.DataFrame(np.array(resultados), columns=['repeticao','C','kernel','gamma','acuracy_treino','acuracia_teste','acuracia_balanceada_teste','rec_0_teste','rec_1_teste','f1_teste','auc_teste'])\n",
    "resultados_df['auc_teste'] = resultados_df['auc_teste'].astype(float, errors = 'raise')\n",
    "resultados_df.astype({ 'C': 'str', 'kernel': 'str','gamma': 'str','acuracy_treino': 'float','acuracia_teste': 'float','acuracia_balanceada_teste': 'float','rec_0_teste': 'float','rec_1_teste': 'float','f1_teste': 'float','auc_teste': 'float' }).groupby(['C','kernel','gamma']).agg({'acuracy_treino':np.mean, 'acuracia_teste':np.mean, 'acuracia_balanceada_teste':np.mean, 'rec_0_teste':np.mean, 'rec_1_teste':np.mean, 'f1_teste':np.mean, 'auc_teste':np.mean}).sort_values(by='auc_teste', ascending=False).head(50)"
   ]
  },
  {
   "cell_type": "code",
   "execution_count": 266,
   "metadata": {},
   "outputs": [
    {
     "data": {
      "text/plain": [
       "SVC(C=10, gamma='auto', kernel='poly')"
      ]
     },
     "execution_count": 266,
     "metadata": {},
     "output_type": "execute_result"
    }
   ],
   "source": [
    "## Dados de treino (até a data definida por treinar_ate_data_str)\n",
    "X = df_final99[(df_final99['Date'] <= parser.parse(treinar_ate_data_str))][['score','neu_robd4','neg_finbertd2','scored3']]\n",
    "y = df_final99[(df_final99['Date'] <= parser.parse(treinar_ate_data_str))][['Fechamento']]\n",
    "\n",
    "X_train = X\n",
    "y_train = y\n",
    "\n",
    "svc = SVC(C=10, kernel = 'poly', gamma = 'auto')\n",
    "svc.fit(X_train,y_train)"
   ]
  },
  {
   "cell_type": "code",
   "execution_count": 280,
   "metadata": {},
   "outputs": [
    {
     "name": "stdout",
     "output_type": "stream",
     "text": [
      "Classification Report Dados:\n",
      "               precision    recall  f1-score   support\n",
      "\n",
      "           0       0.77      0.38      0.51        26\n",
      "           1       0.56      0.87      0.68        23\n",
      "\n",
      "    accuracy                           0.61        49\n",
      "   macro avg       0.66      0.63      0.60        49\n",
      "weighted avg       0.67      0.61      0.59        49\n",
      "\n",
      "\n",
      "Confusion Matrix Dados de Producao:\n",
      " [[10 16]\n",
      " [ 3 20]]\n",
      "\n",
      "Recall_0: 0.38461538461538464\n",
      "Recall_1: 0.8695652173913043\n",
      "Acuracia: 0.6122448979591837\n",
      "Acuracia Balanceada: 0.6270903010033445\n",
      "F1_Score_0: 0.5128205128205128\n",
      "F1_Score_1: 0.6779661016949152\n",
      "AUC: 0.6270903010033444\n",
      "Recall_0: 0.38461538461538464\n",
      "Recall_1: 0.8695652173913043\n",
      "Acuracia: 0.6122448979591837\n",
      "Acuracia Balanceada: 0.6270903010033445\n",
      "F1_Score_0: 0.5128205128205128\n",
      "F1_Score_1: 0.6779661016949152\n",
      "AUC: 0.6270903010033444\n"
     ]
    }
   ],
   "source": [
    "#Predizendo y\n",
    "y_pred = svc.predict(X_test)\n",
    "\n",
    "#Relatórios e matriz de confusao\n",
    "print(\"Classification Report Dados:\\n\",classification_report(y_test,y_pred))\n",
    "print(\"\")\n",
    "print(\"Confusion Matrix Dados de Producao:\\n\",confusion_matrix(y_test,y_pred))\n",
    "print(\"\")\n",
    "\n",
    "#Calculando o recall\n",
    "recall_0 = recall_score(y_test, y_pred, pos_label=0)\n",
    "recall_1 = recall_score(y_test, y_pred, pos_label=1)\n",
    "\n",
    "#Calculando acurácia \n",
    "accuracy = accuracy_score(y_test, y_pred)\n",
    "\n",
    "#Calculando acurácia balanceada\n",
    "accuracy_balanced = balanced_accuracy_score(y_test, y_pred)\n",
    "\n",
    "#calculando f1_score\n",
    "f1_0 = f1_score(y_test, y_pred,pos_label=0)\n",
    "f1_1 = f1_score(y_test, y_pred,pos_label=1)\n",
    "\n",
    "#Calculando AUC\n",
    "auc = roc_auc_score(y_test, y_pred)\n",
    "\n",
    "print(\"Recall_0: %s\" % (recall_0))\n",
    "print(\"Recall_1: %s\" % (recall_1))\n",
    "print(\"Acuracia: %s\" % (accuracy))\n",
    "print(\"Acuracia Balanceada: %s\" % (accuracy_balanced))\n",
    "print(\"F1_Score_0: %s\" % (f1_0))\n",
    "print(\"F1_Score_1: %s\" % (f1_1))\n",
    "print(\"AUC: %s\" % (auc))#Calculando o recall\n",
    "recall_0 = recall_score(y_test, y_pred, pos_label=0)\n",
    "recall_1 = recall_score(y_test, y_pred, pos_label=1)\n",
    "\n",
    "#Calculando acurácia \n",
    "accuracy = accuracy_score(y_test, y_pred)\n",
    "\n",
    "#Calculando acurácia balanceada\n",
    "accuracy_balanced = balanced_accuracy_score(y_test, y_pred)\n",
    "\n",
    "#calculando f1_score\n",
    "f1_0 = f1_score(y_test, y_pred,pos_label=0)\n",
    "f1_1 = f1_score(y_test, y_pred,pos_label=1)\n",
    "\n",
    "#Calculando AUC\n",
    "auc = roc_auc_score(y_test, y_pred)\n",
    "\n",
    "print(\"Recall_0: %s\" % (recall_0))\n",
    "print(\"Recall_1: %s\" % (recall_1))\n",
    "print(\"Acuracia: %s\" % (accuracy))\n",
    "print(\"Acuracia Balanceada: %s\" % (accuracy_balanced))\n",
    "print(\"F1_Score_0: %s\" % (f1_0))\n",
    "print(\"F1_Score_1: %s\" % (f1_1))\n",
    "print(\"AUC: %s\" % (auc))"
   ]
  },
  {
   "cell_type": "markdown",
   "metadata": {},
   "source": [
    "## 4.2 Ridge"
   ]
  },
  {
   "cell_type": "code",
   "execution_count": 269,
   "metadata": {},
   "outputs": [],
   "source": [
    "from sklearn.linear_model import RidgeClassifier\n",
    "acuracia_dados = make_scorer(accuracy_score)\n",
    "f1_dados = make_scorer(f1_score)\n",
    "balanced_acc_dados = make_scorer(balanced_accuracy_score)\n",
    "scoring = {\"accuracy\": acuracia_dados, \"f1\":f1_dados, \"bacuracy\":balanced_acc_dados}\n",
    "resultados = []"
   ]
  },
  {
   "cell_type": "code",
   "execution_count": 276,
   "metadata": {},
   "outputs": [
    {
     "name": "stdout",
     "output_type": "stream",
     "text": [
      "Fazendo gridsearch - Repeticao 1\n",
      "Fazendo gridsearch - Repeticao 2\n",
      "Fazendo gridsearch - Repeticao 3\n",
      "Fazendo gridsearch - Repeticao 4\n",
      "Fazendo gridsearch - Repeticao 5\n",
      "Fazendo gridsearch - Repeticao 6\n",
      "Fazendo gridsearch - Repeticao 7\n",
      "Fazendo gridsearch - Repeticao 8\n",
      "Fazendo gridsearch - Repeticao 9\n",
      "Fazendo gridsearch - Repeticao 10\n",
      "Fazendo gridsearch - Repeticao 11\n",
      "Fazendo gridsearch - Repeticao 12\n",
      "Fazendo gridsearch - Repeticao 13\n",
      "Fazendo gridsearch - Repeticao 14\n",
      "Fazendo gridsearch - Repeticao 15\n",
      "Fazendo gridsearch - Repeticao 16\n",
      "Fazendo gridsearch - Repeticao 17\n",
      "Fazendo gridsearch - Repeticao 18\n",
      "Fazendo gridsearch - Repeticao 19\n",
      "Fazendo gridsearch - Repeticao 20\n",
      "Fazendo gridsearch - Repeticao 21\n",
      "Fazendo gridsearch - Repeticao 22\n",
      "Fazendo gridsearch - Repeticao 23\n",
      "Fazendo gridsearch - Repeticao 24\n",
      "Fazendo gridsearch - Repeticao 25\n",
      "Fazendo gridsearch - Repeticao 26\n",
      "Fazendo gridsearch - Repeticao 27\n",
      "Fazendo gridsearch - Repeticao 28\n",
      "Fazendo gridsearch - Repeticao 29\n",
      "Fazendo gridsearch - Repeticao 30\n"
     ]
    }
   ],
   "source": [
    "treinar_ate_data_str = '2022-03-29'\n",
    "\n",
    "## Dados de treino (até a data definida por treinar_ate_data_str)\n",
    "X = df_final99[(df_final99['Date'] <= parser.parse(treinar_ate_data_str))][['score','neu_robd4','neg_finbertd2','scored3']]\n",
    "y = df_final99[(df_final99['Date'] <= parser.parse(treinar_ate_data_str))][['Fechamento']]\n",
    "\n",
    "X_train = X\n",
    "y_train = y\n",
    "\n",
    "## Dados de teste (a partir da data definida por treinar_ate_data_str)\n",
    "X_test = df_final99[(df_final99['Date'] > parser.parse(treinar_ate_data_str))][['score','neu_robd4','neg_finbertd2','scored3']]\n",
    "y_test = df_final99[(df_final99['Date'] > parser.parse(treinar_ate_data_str))][['Fechamento']]\n",
    "\n",
    "alpha = [1,0.1,2]\n",
    "fit_intercept = [True,False]\n",
    "normalize = [True,False]\n",
    "solver = ['auto', 'svd', 'cholesky', 'lsqr', 'sparse_cg', 'sag', 'saga']\n",
    "\n",
    "alpha = [3,5,10,15]\n",
    "fit_intercept = [True,False]\n",
    "normalize = [True,False]\n",
    "solver = ['auto', 'svd', 'cholesky', 'lsqr', 'sparse_cg', 'sag', 'saga']\n",
    "\n",
    "alpha = [20,30,50,100,150,300]\n",
    "fit_intercept = [False]\n",
    "normalize = [False]\n",
    "solver = ['svd', 'cholesky']\n",
    "\n",
    "alpha = [60,70,80,90,110,120,130,140,160,180,190,200,210,220,230,240,250,260,270,280,290,500,600]\n",
    "fit_intercept = [False]\n",
    "normalize = [False]\n",
    "solver = ['svd', 'cholesky']\n",
    "\n",
    "#alpha = [90]\n",
    "#fit_intercept = [True,False]\n",
    "#normalize = [True,False]\n",
    "#solver = ['auto', 'svd', 'cholesky', 'lsqr', 'sparse_cg', 'sag', 'saga']\n",
    "\n",
    "#alpha = [91,92,93,94,95,96,97,98,99]\n",
    "#fit_intercept = [False]\n",
    "#normalize = [True]\n",
    "#solver = ['svd', 'cholesky']\n",
    "\n",
    "#alpha = [1.2,1.4,1.6,1.8,2.2,2.4,2.6,2.8]\n",
    "#fit_intercept = [True]\n",
    "#normalize = [False]\n",
    "#solver = ['auto', 'svd', 'cholesky', 'lsqr', 'sparse_cg', 'sag', 'saga']\n",
    "\n",
    "#alpha = [1.62,1.64,1.66,1.68,1.7,1.72,1.74,1.76,1.78,1.82,1.84,1.86,1.88,1.9,1.92,1.94,1.96,1.98]\n",
    "#fit_intercept = [True]\n",
    "#normalize = [False]\n",
    "#solver = ['lsqr']\n",
    "\n",
    "\n",
    "\n",
    "\n",
    "#Repete os experimentos 30x\n",
    "for i in range(30):   \n",
    "    \n",
    "     #Holdout: Treinando apenas com 70% do dataset de treino\n",
    "    X_train, X_descarte, y_train, y_descarte = train_test_split(X, y, test_size=0.3, random_state=i, stratify=y)\n",
    "        \n",
    "    #Validação cruzada com 10 kfolds\n",
    "    kfold = KFold(n_splits = 10, shuffle = True, random_state = i)\n",
    "    \n",
    "    print(\"Fazendo gridsearch - Repeticao %s\" % (i+1))\n",
    "    \n",
    "    \n",
    "    # itera sobre parametro 1:\n",
    "    for k in alpha:\n",
    "        \n",
    "        # itera sobre parametro 2:\n",
    "        for u in fit_intercept:\n",
    "            \n",
    "            #itera sobre o parametro 3:\n",
    "            for w in normalize:\n",
    "                \n",
    "                #itera sobre o parametro 4:\n",
    "                for v in solver:\n",
    "        \n",
    "                    gs = GridSearchCV(\n",
    "                        RidgeClassifier(random_state=i) ,\n",
    "                        param_grid={\"alpha\": [k], \n",
    "                                    \"fit_intercept\":[u],\n",
    "                                    \"normalize\":[w],\n",
    "                                    \"solver\":[v]}, \n",
    "                        scoring=scoring,\n",
    "                        refit=\"bacuracy\",\n",
    "                        n_jobs=2,\n",
    "                        return_train_score=True,\n",
    "                        cv = kfold\n",
    "                            )\n",
    "\n",
    "                    #Treinando o modelo com dados de treino c/ 9 folds e utilizando 1 fold para teste\n",
    "                    gs.fit(X_train, y_train)\n",
    "\n",
    "                    #Melhores resultados e hiperparâmetros encontrados\n",
    "                    acuracy_treino = gs.best_score_\n",
    "                    hyperparams = gs.best_params_\n",
    "\n",
    "                    ##Predizendo as classes nos dados de teste e todos dados, utilizando os melhores parâmetros\n",
    "                    y_test_pred = gs.predict(X_test)\n",
    "                    #y_test_pred_todos = gs.predict(X_todos)\n",
    "\n",
    "                    #Calculando acurácia \n",
    "                    accuracy_teste = accuracy_score(y_test, y_test_pred)\n",
    "                    #accuracy_todos = accuracy_score(y_todos, y_test_pred_todos)\n",
    "\n",
    "                    #calculando f1_score da classe 1\n",
    "                    f1_teste = f1_score(y_test, y_test_pred)\n",
    "                    #f1_todos = f1_score(y_todos, y_test_pred_todos)\n",
    "\n",
    "                    #calculando área sobre a curva ROC_AUC:\n",
    "                    auc_teste = roc_auc_score(y_test, y_test_pred)\n",
    "                    #auc_todos = roc_auc_score(y_todos, y_test_pred_todos)\n",
    "\n",
    "                    #Calculando Recall clase 1\n",
    "                    rec0_teste = recall_score(y_test, y_test_pred, pos_label=0)\n",
    "                    rec1_teste = recall_score(y_test, y_test_pred, pos_label=1)\n",
    "\n",
    "                    #rec0_todos = recall_score(y_todos, y_test_pred_todos, pos_label=0)\n",
    "                    #rec1_todos = recall_score(y_todos, y_test_pred_todos, pos_label=1)\n",
    "\n",
    "                    #Calculando a acurácia balanceada\n",
    "                    accuracy_teste_balanced = balanced_accuracy_score(y_test, y_test_pred)\n",
    "\n",
    "                    # Adicionando todos resultados em uma única lista\n",
    "                    resultados.append(np.array([i,hyperparams['alpha'],hyperparams['fit_intercept'],hyperparams['normalize'],hyperparams['solver'],acuracy_treino,accuracy_teste,accuracy_teste_balanced,rec0_teste,rec1_teste,f1_teste,auc_teste]))\n"
   ]
  },
  {
   "cell_type": "code",
   "execution_count": 277,
   "metadata": {},
   "outputs": [
    {
     "data": {
      "text/html": [
       "<div>\n",
       "<style scoped>\n",
       "    .dataframe tbody tr th:only-of-type {\n",
       "        vertical-align: middle;\n",
       "    }\n",
       "\n",
       "    .dataframe tbody tr th {\n",
       "        vertical-align: top;\n",
       "    }\n",
       "\n",
       "    .dataframe thead th {\n",
       "        text-align: right;\n",
       "    }\n",
       "</style>\n",
       "<table border=\"1\" class=\"dataframe\">\n",
       "  <thead>\n",
       "    <tr style=\"text-align: right;\">\n",
       "      <th></th>\n",
       "      <th></th>\n",
       "      <th></th>\n",
       "      <th></th>\n",
       "      <th>acuracy_treino</th>\n",
       "      <th>acuracia_teste</th>\n",
       "      <th>acuracia_balanceada_teste</th>\n",
       "      <th>rec_0_teste</th>\n",
       "      <th>rec_1_teste</th>\n",
       "      <th>f1_teste</th>\n",
       "      <th>auc_teste</th>\n",
       "    </tr>\n",
       "    <tr>\n",
       "      <th>alpha</th>\n",
       "      <th>fit_intercept</th>\n",
       "      <th>normalize</th>\n",
       "      <th>solver</th>\n",
       "      <th></th>\n",
       "      <th></th>\n",
       "      <th></th>\n",
       "      <th></th>\n",
       "      <th></th>\n",
       "      <th></th>\n",
       "      <th></th>\n",
       "    </tr>\n",
       "  </thead>\n",
       "  <tbody>\n",
       "    <tr>\n",
       "      <th>240</th>\n",
       "      <th>False</th>\n",
       "      <th>False</th>\n",
       "      <th>svd</th>\n",
       "      <td>0.658616</td>\n",
       "      <td>0.559864</td>\n",
       "      <td>0.569454</td>\n",
       "      <td>0.412821</td>\n",
       "      <td>0.726087</td>\n",
       "      <td>0.607325</td>\n",
       "      <td>0.569454</td>\n",
       "    </tr>\n",
       "    <tr>\n",
       "      <th>270</th>\n",
       "      <th>False</th>\n",
       "      <th>False</th>\n",
       "      <th>svd</th>\n",
       "      <td>0.658670</td>\n",
       "      <td>0.559864</td>\n",
       "      <td>0.569454</td>\n",
       "      <td>0.412821</td>\n",
       "      <td>0.726087</td>\n",
       "      <td>0.607325</td>\n",
       "      <td>0.569454</td>\n",
       "    </tr>\n",
       "    <tr>\n",
       "      <th rowspan=\"2\" valign=\"top\">220</th>\n",
       "      <th rowspan=\"2\" valign=\"top\">False</th>\n",
       "      <th rowspan=\"2\" valign=\"top\">False</th>\n",
       "      <th>cholesky</th>\n",
       "      <td>0.658301</td>\n",
       "      <td>0.559864</td>\n",
       "      <td>0.569454</td>\n",
       "      <td>0.412821</td>\n",
       "      <td>0.726087</td>\n",
       "      <td>0.607325</td>\n",
       "      <td>0.569454</td>\n",
       "    </tr>\n",
       "    <tr>\n",
       "      <th>svd</th>\n",
       "      <td>0.658301</td>\n",
       "      <td>0.559864</td>\n",
       "      <td>0.569454</td>\n",
       "      <td>0.412821</td>\n",
       "      <td>0.726087</td>\n",
       "      <td>0.607325</td>\n",
       "      <td>0.569454</td>\n",
       "    </tr>\n",
       "    <tr>\n",
       "      <th rowspan=\"2\" valign=\"top\">230</th>\n",
       "      <th rowspan=\"2\" valign=\"top\">False</th>\n",
       "      <th rowspan=\"2\" valign=\"top\">False</th>\n",
       "      <th>cholesky</th>\n",
       "      <td>0.658301</td>\n",
       "      <td>0.559864</td>\n",
       "      <td>0.569454</td>\n",
       "      <td>0.412821</td>\n",
       "      <td>0.726087</td>\n",
       "      <td>0.607325</td>\n",
       "      <td>0.569454</td>\n",
       "    </tr>\n",
       "    <tr>\n",
       "      <th>svd</th>\n",
       "      <td>0.658301</td>\n",
       "      <td>0.559864</td>\n",
       "      <td>0.569454</td>\n",
       "      <td>0.412821</td>\n",
       "      <td>0.726087</td>\n",
       "      <td>0.607325</td>\n",
       "      <td>0.569454</td>\n",
       "    </tr>\n",
       "    <tr>\n",
       "      <th>240</th>\n",
       "      <th>False</th>\n",
       "      <th>False</th>\n",
       "      <th>cholesky</th>\n",
       "      <td>0.658616</td>\n",
       "      <td>0.559864</td>\n",
       "      <td>0.569454</td>\n",
       "      <td>0.412821</td>\n",
       "      <td>0.726087</td>\n",
       "      <td>0.607325</td>\n",
       "      <td>0.569454</td>\n",
       "    </tr>\n",
       "    <tr>\n",
       "      <th rowspan=\"2\" valign=\"top\">250</th>\n",
       "      <th rowspan=\"2\" valign=\"top\">False</th>\n",
       "      <th rowspan=\"2\" valign=\"top\">False</th>\n",
       "      <th>cholesky</th>\n",
       "      <td>0.658672</td>\n",
       "      <td>0.559864</td>\n",
       "      <td>0.569454</td>\n",
       "      <td>0.412821</td>\n",
       "      <td>0.726087</td>\n",
       "      <td>0.607325</td>\n",
       "      <td>0.569454</td>\n",
       "    </tr>\n",
       "    <tr>\n",
       "      <th>svd</th>\n",
       "      <td>0.658672</td>\n",
       "      <td>0.559864</td>\n",
       "      <td>0.569454</td>\n",
       "      <td>0.412821</td>\n",
       "      <td>0.726087</td>\n",
       "      <td>0.607325</td>\n",
       "      <td>0.569454</td>\n",
       "    </tr>\n",
       "    <tr>\n",
       "      <th rowspan=\"2\" valign=\"top\">260</th>\n",
       "      <th rowspan=\"2\" valign=\"top\">False</th>\n",
       "      <th rowspan=\"2\" valign=\"top\">False</th>\n",
       "      <th>cholesky</th>\n",
       "      <td>0.658672</td>\n",
       "      <td>0.559864</td>\n",
       "      <td>0.569454</td>\n",
       "      <td>0.412821</td>\n",
       "      <td>0.726087</td>\n",
       "      <td>0.607325</td>\n",
       "      <td>0.569454</td>\n",
       "    </tr>\n",
       "    <tr>\n",
       "      <th>svd</th>\n",
       "      <td>0.658672</td>\n",
       "      <td>0.559864</td>\n",
       "      <td>0.569454</td>\n",
       "      <td>0.412821</td>\n",
       "      <td>0.726087</td>\n",
       "      <td>0.607325</td>\n",
       "      <td>0.569454</td>\n",
       "    </tr>\n",
       "    <tr>\n",
       "      <th>270</th>\n",
       "      <th>False</th>\n",
       "      <th>False</th>\n",
       "      <th>cholesky</th>\n",
       "      <td>0.658670</td>\n",
       "      <td>0.559864</td>\n",
       "      <td>0.569454</td>\n",
       "      <td>0.412821</td>\n",
       "      <td>0.726087</td>\n",
       "      <td>0.607325</td>\n",
       "      <td>0.569454</td>\n",
       "    </tr>\n",
       "    <tr>\n",
       "      <th rowspan=\"2\" valign=\"top\">280</th>\n",
       "      <th rowspan=\"2\" valign=\"top\">False</th>\n",
       "      <th rowspan=\"2\" valign=\"top\">False</th>\n",
       "      <th>cholesky</th>\n",
       "      <td>0.658566</td>\n",
       "      <td>0.559864</td>\n",
       "      <td>0.569454</td>\n",
       "      <td>0.412821</td>\n",
       "      <td>0.726087</td>\n",
       "      <td>0.607325</td>\n",
       "      <td>0.569454</td>\n",
       "    </tr>\n",
       "    <tr>\n",
       "      <th>svd</th>\n",
       "      <td>0.658566</td>\n",
       "      <td>0.559864</td>\n",
       "      <td>0.569454</td>\n",
       "      <td>0.412821</td>\n",
       "      <td>0.726087</td>\n",
       "      <td>0.607325</td>\n",
       "      <td>0.569454</td>\n",
       "    </tr>\n",
       "    <tr>\n",
       "      <th rowspan=\"2\" valign=\"top\">290</th>\n",
       "      <th rowspan=\"2\" valign=\"top\">False</th>\n",
       "      <th rowspan=\"2\" valign=\"top\">False</th>\n",
       "      <th>cholesky</th>\n",
       "      <td>0.658215</td>\n",
       "      <td>0.559864</td>\n",
       "      <td>0.569454</td>\n",
       "      <td>0.412821</td>\n",
       "      <td>0.726087</td>\n",
       "      <td>0.607325</td>\n",
       "      <td>0.569454</td>\n",
       "    </tr>\n",
       "    <tr>\n",
       "      <th>svd</th>\n",
       "      <td>0.658215</td>\n",
       "      <td>0.559864</td>\n",
       "      <td>0.569454</td>\n",
       "      <td>0.412821</td>\n",
       "      <td>0.726087</td>\n",
       "      <td>0.607325</td>\n",
       "      <td>0.569454</td>\n",
       "    </tr>\n",
       "    <tr>\n",
       "      <th>200</th>\n",
       "      <th>False</th>\n",
       "      <th>False</th>\n",
       "      <th>svd</th>\n",
       "      <td>0.658418</td>\n",
       "      <td>0.559184</td>\n",
       "      <td>0.568813</td>\n",
       "      <td>0.411538</td>\n",
       "      <td>0.726087</td>\n",
       "      <td>0.606957</td>\n",
       "      <td>0.568813</td>\n",
       "    </tr>\n",
       "    <tr>\n",
       "      <th>190</th>\n",
       "      <th>False</th>\n",
       "      <th>False</th>\n",
       "      <th>cholesky</th>\n",
       "      <td>0.658476</td>\n",
       "      <td>0.559184</td>\n",
       "      <td>0.568813</td>\n",
       "      <td>0.411538</td>\n",
       "      <td>0.726087</td>\n",
       "      <td>0.606957</td>\n",
       "      <td>0.568813</td>\n",
       "    </tr>\n",
       "    <tr>\n",
       "      <th>180</th>\n",
       "      <th>False</th>\n",
       "      <th>False</th>\n",
       "      <th>cholesky</th>\n",
       "      <td>0.657904</td>\n",
       "      <td>0.559184</td>\n",
       "      <td>0.568813</td>\n",
       "      <td>0.411538</td>\n",
       "      <td>0.726087</td>\n",
       "      <td>0.606957</td>\n",
       "      <td>0.568813</td>\n",
       "    </tr>\n",
       "    <tr>\n",
       "      <th rowspan=\"2\" valign=\"top\">160</th>\n",
       "      <th rowspan=\"2\" valign=\"top\">False</th>\n",
       "      <th rowspan=\"2\" valign=\"top\">False</th>\n",
       "      <th>svd</th>\n",
       "      <td>0.658155</td>\n",
       "      <td>0.559184</td>\n",
       "      <td>0.568813</td>\n",
       "      <td>0.411538</td>\n",
       "      <td>0.726087</td>\n",
       "      <td>0.606957</td>\n",
       "      <td>0.568813</td>\n",
       "    </tr>\n",
       "    <tr>\n",
       "      <th>cholesky</th>\n",
       "      <td>0.658155</td>\n",
       "      <td>0.559184</td>\n",
       "      <td>0.568813</td>\n",
       "      <td>0.411538</td>\n",
       "      <td>0.726087</td>\n",
       "      <td>0.606957</td>\n",
       "      <td>0.568813</td>\n",
       "    </tr>\n",
       "    <tr>\n",
       "      <th rowspan=\"2\" valign=\"top\">150</th>\n",
       "      <th rowspan=\"2\" valign=\"top\">False</th>\n",
       "      <th rowspan=\"2\" valign=\"top\">False</th>\n",
       "      <th>svd</th>\n",
       "      <td>0.658377</td>\n",
       "      <td>0.559184</td>\n",
       "      <td>0.568813</td>\n",
       "      <td>0.411538</td>\n",
       "      <td>0.726087</td>\n",
       "      <td>0.606957</td>\n",
       "      <td>0.568813</td>\n",
       "    </tr>\n",
       "    <tr>\n",
       "      <th>cholesky</th>\n",
       "      <td>0.658377</td>\n",
       "      <td>0.559184</td>\n",
       "      <td>0.568813</td>\n",
       "      <td>0.411538</td>\n",
       "      <td>0.726087</td>\n",
       "      <td>0.606957</td>\n",
       "      <td>0.568813</td>\n",
       "    </tr>\n",
       "    <tr>\n",
       "      <th>190</th>\n",
       "      <th>False</th>\n",
       "      <th>False</th>\n",
       "      <th>svd</th>\n",
       "      <td>0.658476</td>\n",
       "      <td>0.559184</td>\n",
       "      <td>0.568813</td>\n",
       "      <td>0.411538</td>\n",
       "      <td>0.726087</td>\n",
       "      <td>0.606957</td>\n",
       "      <td>0.568813</td>\n",
       "    </tr>\n",
       "    <tr>\n",
       "      <th>200</th>\n",
       "      <th>False</th>\n",
       "      <th>False</th>\n",
       "      <th>cholesky</th>\n",
       "      <td>0.658418</td>\n",
       "      <td>0.559184</td>\n",
       "      <td>0.568813</td>\n",
       "      <td>0.411538</td>\n",
       "      <td>0.726087</td>\n",
       "      <td>0.606957</td>\n",
       "      <td>0.568813</td>\n",
       "    </tr>\n",
       "    <tr>\n",
       "      <th>180</th>\n",
       "      <th>False</th>\n",
       "      <th>False</th>\n",
       "      <th>svd</th>\n",
       "      <td>0.657904</td>\n",
       "      <td>0.559184</td>\n",
       "      <td>0.568813</td>\n",
       "      <td>0.411538</td>\n",
       "      <td>0.726087</td>\n",
       "      <td>0.606957</td>\n",
       "      <td>0.568813</td>\n",
       "    </tr>\n",
       "    <tr>\n",
       "      <th rowspan=\"2\" valign=\"top\">210</th>\n",
       "      <th rowspan=\"2\" valign=\"top\">False</th>\n",
       "      <th rowspan=\"2\" valign=\"top\">False</th>\n",
       "      <th>cholesky</th>\n",
       "      <td>0.658641</td>\n",
       "      <td>0.559184</td>\n",
       "      <td>0.568813</td>\n",
       "      <td>0.411538</td>\n",
       "      <td>0.726087</td>\n",
       "      <td>0.606957</td>\n",
       "      <td>0.568813</td>\n",
       "    </tr>\n",
       "    <tr>\n",
       "      <th>svd</th>\n",
       "      <td>0.658641</td>\n",
       "      <td>0.559184</td>\n",
       "      <td>0.568813</td>\n",
       "      <td>0.411538</td>\n",
       "      <td>0.726087</td>\n",
       "      <td>0.606957</td>\n",
       "      <td>0.568813</td>\n",
       "    </tr>\n",
       "    <tr>\n",
       "      <th rowspan=\"2\" valign=\"top\">140</th>\n",
       "      <th rowspan=\"2\" valign=\"top\">False</th>\n",
       "      <th rowspan=\"2\" valign=\"top\">False</th>\n",
       "      <th>cholesky</th>\n",
       "      <td>0.658609</td>\n",
       "      <td>0.559184</td>\n",
       "      <td>0.568813</td>\n",
       "      <td>0.411538</td>\n",
       "      <td>0.726087</td>\n",
       "      <td>0.606957</td>\n",
       "      <td>0.568813</td>\n",
       "    </tr>\n",
       "    <tr>\n",
       "      <th>svd</th>\n",
       "      <td>0.658609</td>\n",
       "      <td>0.559184</td>\n",
       "      <td>0.568813</td>\n",
       "      <td>0.411538</td>\n",
       "      <td>0.726087</td>\n",
       "      <td>0.606957</td>\n",
       "      <td>0.568813</td>\n",
       "    </tr>\n",
       "    <tr>\n",
       "      <th rowspan=\"2\" valign=\"top\">300</th>\n",
       "      <th rowspan=\"2\" valign=\"top\">False</th>\n",
       "      <th rowspan=\"2\" valign=\"top\">False</th>\n",
       "      <th>cholesky</th>\n",
       "      <td>0.658215</td>\n",
       "      <td>0.559184</td>\n",
       "      <td>0.568729</td>\n",
       "      <td>0.412821</td>\n",
       "      <td>0.724638</td>\n",
       "      <td>0.606472</td>\n",
       "      <td>0.568729</td>\n",
       "    </tr>\n",
       "    <tr>\n",
       "      <th>svd</th>\n",
       "      <td>0.658215</td>\n",
       "      <td>0.559184</td>\n",
       "      <td>0.568729</td>\n",
       "      <td>0.412821</td>\n",
       "      <td>0.724638</td>\n",
       "      <td>0.606472</td>\n",
       "      <td>0.568729</td>\n",
       "    </tr>\n",
       "    <tr>\n",
       "      <th rowspan=\"2\" valign=\"top\">80</th>\n",
       "      <th rowspan=\"2\" valign=\"top\">False</th>\n",
       "      <th rowspan=\"2\" valign=\"top\">False</th>\n",
       "      <th>cholesky</th>\n",
       "      <td>0.662380</td>\n",
       "      <td>0.558503</td>\n",
       "      <td>0.568172</td>\n",
       "      <td>0.410256</td>\n",
       "      <td>0.726087</td>\n",
       "      <td>0.606655</td>\n",
       "      <td>0.568172</td>\n",
       "    </tr>\n",
       "    <tr>\n",
       "      <th>svd</th>\n",
       "      <td>0.662380</td>\n",
       "      <td>0.558503</td>\n",
       "      <td>0.568172</td>\n",
       "      <td>0.410256</td>\n",
       "      <td>0.726087</td>\n",
       "      <td>0.606655</td>\n",
       "      <td>0.568172</td>\n",
       "    </tr>\n",
       "    <tr>\n",
       "      <th rowspan=\"2\" valign=\"top\">90</th>\n",
       "      <th rowspan=\"2\" valign=\"top\">False</th>\n",
       "      <th rowspan=\"2\" valign=\"top\">False</th>\n",
       "      <th>cholesky</th>\n",
       "      <td>0.661593</td>\n",
       "      <td>0.558503</td>\n",
       "      <td>0.568172</td>\n",
       "      <td>0.410256</td>\n",
       "      <td>0.726087</td>\n",
       "      <td>0.606655</td>\n",
       "      <td>0.568172</td>\n",
       "    </tr>\n",
       "    <tr>\n",
       "      <th>svd</th>\n",
       "      <td>0.661593</td>\n",
       "      <td>0.558503</td>\n",
       "      <td>0.568172</td>\n",
       "      <td>0.410256</td>\n",
       "      <td>0.726087</td>\n",
       "      <td>0.606655</td>\n",
       "      <td>0.568172</td>\n",
       "    </tr>\n",
       "    <tr>\n",
       "      <th rowspan=\"2\" valign=\"top\">130</th>\n",
       "      <th rowspan=\"2\" valign=\"top\">False</th>\n",
       "      <th rowspan=\"2\" valign=\"top\">False</th>\n",
       "      <th>svd</th>\n",
       "      <td>0.658981</td>\n",
       "      <td>0.558503</td>\n",
       "      <td>0.568088</td>\n",
       "      <td>0.411538</td>\n",
       "      <td>0.724638</td>\n",
       "      <td>0.606104</td>\n",
       "      <td>0.568088</td>\n",
       "    </tr>\n",
       "    <tr>\n",
       "      <th>cholesky</th>\n",
       "      <td>0.658981</td>\n",
       "      <td>0.558503</td>\n",
       "      <td>0.568088</td>\n",
       "      <td>0.411538</td>\n",
       "      <td>0.724638</td>\n",
       "      <td>0.606104</td>\n",
       "      <td>0.568088</td>\n",
       "    </tr>\n",
       "    <tr>\n",
       "      <th rowspan=\"2\" valign=\"top\">60</th>\n",
       "      <th rowspan=\"2\" valign=\"top\">False</th>\n",
       "      <th rowspan=\"2\" valign=\"top\">False</th>\n",
       "      <th>svd</th>\n",
       "      <td>0.664061</td>\n",
       "      <td>0.558503</td>\n",
       "      <td>0.568088</td>\n",
       "      <td>0.411538</td>\n",
       "      <td>0.724638</td>\n",
       "      <td>0.606141</td>\n",
       "      <td>0.568088</td>\n",
       "    </tr>\n",
       "    <tr>\n",
       "      <th>cholesky</th>\n",
       "      <td>0.664061</td>\n",
       "      <td>0.558503</td>\n",
       "      <td>0.568088</td>\n",
       "      <td>0.411538</td>\n",
       "      <td>0.724638</td>\n",
       "      <td>0.606141</td>\n",
       "      <td>0.568088</td>\n",
       "    </tr>\n",
       "    <tr>\n",
       "      <th rowspan=\"2\" valign=\"top\">100</th>\n",
       "      <th rowspan=\"2\" valign=\"top\">False</th>\n",
       "      <th rowspan=\"2\" valign=\"top\">False</th>\n",
       "      <th>cholesky</th>\n",
       "      <td>0.660698</td>\n",
       "      <td>0.557823</td>\n",
       "      <td>0.567447</td>\n",
       "      <td>0.410256</td>\n",
       "      <td>0.724638</td>\n",
       "      <td>0.605736</td>\n",
       "      <td>0.567447</td>\n",
       "    </tr>\n",
       "    <tr>\n",
       "      <th>svd</th>\n",
       "      <td>0.660698</td>\n",
       "      <td>0.557823</td>\n",
       "      <td>0.567447</td>\n",
       "      <td>0.410256</td>\n",
       "      <td>0.724638</td>\n",
       "      <td>0.605736</td>\n",
       "      <td>0.567447</td>\n",
       "    </tr>\n",
       "    <tr>\n",
       "      <th>110</th>\n",
       "      <th>False</th>\n",
       "      <th>False</th>\n",
       "      <th>cholesky</th>\n",
       "      <td>0.659736</td>\n",
       "      <td>0.557823</td>\n",
       "      <td>0.567447</td>\n",
       "      <td>0.410256</td>\n",
       "      <td>0.724638</td>\n",
       "      <td>0.605736</td>\n",
       "      <td>0.567447</td>\n",
       "    </tr>\n",
       "    <tr>\n",
       "      <th rowspan=\"2\" valign=\"top\">120</th>\n",
       "      <th rowspan=\"2\" valign=\"top\">False</th>\n",
       "      <th rowspan=\"2\" valign=\"top\">False</th>\n",
       "      <th>svd</th>\n",
       "      <td>0.659169</td>\n",
       "      <td>0.557823</td>\n",
       "      <td>0.567447</td>\n",
       "      <td>0.410256</td>\n",
       "      <td>0.724638</td>\n",
       "      <td>0.605736</td>\n",
       "      <td>0.567447</td>\n",
       "    </tr>\n",
       "    <tr>\n",
       "      <th>cholesky</th>\n",
       "      <td>0.659169</td>\n",
       "      <td>0.557823</td>\n",
       "      <td>0.567447</td>\n",
       "      <td>0.410256</td>\n",
       "      <td>0.724638</td>\n",
       "      <td>0.605736</td>\n",
       "      <td>0.567447</td>\n",
       "    </tr>\n",
       "    <tr>\n",
       "      <th rowspan=\"2\" valign=\"top\">70</th>\n",
       "      <th rowspan=\"2\" valign=\"top\">False</th>\n",
       "      <th rowspan=\"2\" valign=\"top\">False</th>\n",
       "      <th>svd</th>\n",
       "      <td>0.663342</td>\n",
       "      <td>0.557823</td>\n",
       "      <td>0.567447</td>\n",
       "      <td>0.410256</td>\n",
       "      <td>0.724638</td>\n",
       "      <td>0.605802</td>\n",
       "      <td>0.567447</td>\n",
       "    </tr>\n",
       "    <tr>\n",
       "      <th>cholesky</th>\n",
       "      <td>0.663342</td>\n",
       "      <td>0.557823</td>\n",
       "      <td>0.567447</td>\n",
       "      <td>0.410256</td>\n",
       "      <td>0.724638</td>\n",
       "      <td>0.605802</td>\n",
       "      <td>0.567447</td>\n",
       "    </tr>\n",
       "    <tr>\n",
       "      <th>110</th>\n",
       "      <th>False</th>\n",
       "      <th>False</th>\n",
       "      <th>svd</th>\n",
       "      <td>0.659736</td>\n",
       "      <td>0.557823</td>\n",
       "      <td>0.567447</td>\n",
       "      <td>0.410256</td>\n",
       "      <td>0.724638</td>\n",
       "      <td>0.605736</td>\n",
       "      <td>0.567447</td>\n",
       "    </tr>\n",
       "    <tr>\n",
       "      <th rowspan=\"2\" valign=\"top\">500</th>\n",
       "      <th rowspan=\"2\" valign=\"top\">False</th>\n",
       "      <th rowspan=\"2\" valign=\"top\">False</th>\n",
       "      <th>svd</th>\n",
       "      <td>0.658990</td>\n",
       "      <td>0.557143</td>\n",
       "      <td>0.566555</td>\n",
       "      <td>0.412821</td>\n",
       "      <td>0.720290</td>\n",
       "      <td>0.603942</td>\n",
       "      <td>0.566555</td>\n",
       "    </tr>\n",
       "    <tr>\n",
       "      <th>cholesky</th>\n",
       "      <td>0.658990</td>\n",
       "      <td>0.557143</td>\n",
       "      <td>0.566555</td>\n",
       "      <td>0.412821</td>\n",
       "      <td>0.720290</td>\n",
       "      <td>0.603942</td>\n",
       "      <td>0.566555</td>\n",
       "    </tr>\n",
       "  </tbody>\n",
       "</table>\n",
       "</div>"
      ],
      "text/plain": [
       "                                        acuracy_treino  acuracia_teste  \\\n",
       "alpha fit_intercept normalize solver                                     \n",
       "240   False         False     svd             0.658616        0.559864   \n",
       "270   False         False     svd             0.658670        0.559864   \n",
       "220   False         False     cholesky        0.658301        0.559864   \n",
       "                              svd             0.658301        0.559864   \n",
       "230   False         False     cholesky        0.658301        0.559864   \n",
       "                              svd             0.658301        0.559864   \n",
       "240   False         False     cholesky        0.658616        0.559864   \n",
       "250   False         False     cholesky        0.658672        0.559864   \n",
       "                              svd             0.658672        0.559864   \n",
       "260   False         False     cholesky        0.658672        0.559864   \n",
       "                              svd             0.658672        0.559864   \n",
       "270   False         False     cholesky        0.658670        0.559864   \n",
       "280   False         False     cholesky        0.658566        0.559864   \n",
       "                              svd             0.658566        0.559864   \n",
       "290   False         False     cholesky        0.658215        0.559864   \n",
       "                              svd             0.658215        0.559864   \n",
       "200   False         False     svd             0.658418        0.559184   \n",
       "190   False         False     cholesky        0.658476        0.559184   \n",
       "180   False         False     cholesky        0.657904        0.559184   \n",
       "160   False         False     svd             0.658155        0.559184   \n",
       "                              cholesky        0.658155        0.559184   \n",
       "150   False         False     svd             0.658377        0.559184   \n",
       "                              cholesky        0.658377        0.559184   \n",
       "190   False         False     svd             0.658476        0.559184   \n",
       "200   False         False     cholesky        0.658418        0.559184   \n",
       "180   False         False     svd             0.657904        0.559184   \n",
       "210   False         False     cholesky        0.658641        0.559184   \n",
       "                              svd             0.658641        0.559184   \n",
       "140   False         False     cholesky        0.658609        0.559184   \n",
       "                              svd             0.658609        0.559184   \n",
       "300   False         False     cholesky        0.658215        0.559184   \n",
       "                              svd             0.658215        0.559184   \n",
       "80    False         False     cholesky        0.662380        0.558503   \n",
       "                              svd             0.662380        0.558503   \n",
       "90    False         False     cholesky        0.661593        0.558503   \n",
       "                              svd             0.661593        0.558503   \n",
       "130   False         False     svd             0.658981        0.558503   \n",
       "                              cholesky        0.658981        0.558503   \n",
       "60    False         False     svd             0.664061        0.558503   \n",
       "                              cholesky        0.664061        0.558503   \n",
       "100   False         False     cholesky        0.660698        0.557823   \n",
       "                              svd             0.660698        0.557823   \n",
       "110   False         False     cholesky        0.659736        0.557823   \n",
       "120   False         False     svd             0.659169        0.557823   \n",
       "                              cholesky        0.659169        0.557823   \n",
       "70    False         False     svd             0.663342        0.557823   \n",
       "                              cholesky        0.663342        0.557823   \n",
       "110   False         False     svd             0.659736        0.557823   \n",
       "500   False         False     svd             0.658990        0.557143   \n",
       "                              cholesky        0.658990        0.557143   \n",
       "\n",
       "                                        acuracia_balanceada_teste  \\\n",
       "alpha fit_intercept normalize solver                                \n",
       "240   False         False     svd                        0.569454   \n",
       "270   False         False     svd                        0.569454   \n",
       "220   False         False     cholesky                   0.569454   \n",
       "                              svd                        0.569454   \n",
       "230   False         False     cholesky                   0.569454   \n",
       "                              svd                        0.569454   \n",
       "240   False         False     cholesky                   0.569454   \n",
       "250   False         False     cholesky                   0.569454   \n",
       "                              svd                        0.569454   \n",
       "260   False         False     cholesky                   0.569454   \n",
       "                              svd                        0.569454   \n",
       "270   False         False     cholesky                   0.569454   \n",
       "280   False         False     cholesky                   0.569454   \n",
       "                              svd                        0.569454   \n",
       "290   False         False     cholesky                   0.569454   \n",
       "                              svd                        0.569454   \n",
       "200   False         False     svd                        0.568813   \n",
       "190   False         False     cholesky                   0.568813   \n",
       "180   False         False     cholesky                   0.568813   \n",
       "160   False         False     svd                        0.568813   \n",
       "                              cholesky                   0.568813   \n",
       "150   False         False     svd                        0.568813   \n",
       "                              cholesky                   0.568813   \n",
       "190   False         False     svd                        0.568813   \n",
       "200   False         False     cholesky                   0.568813   \n",
       "180   False         False     svd                        0.568813   \n",
       "210   False         False     cholesky                   0.568813   \n",
       "                              svd                        0.568813   \n",
       "140   False         False     cholesky                   0.568813   \n",
       "                              svd                        0.568813   \n",
       "300   False         False     cholesky                   0.568729   \n",
       "                              svd                        0.568729   \n",
       "80    False         False     cholesky                   0.568172   \n",
       "                              svd                        0.568172   \n",
       "90    False         False     cholesky                   0.568172   \n",
       "                              svd                        0.568172   \n",
       "130   False         False     svd                        0.568088   \n",
       "                              cholesky                   0.568088   \n",
       "60    False         False     svd                        0.568088   \n",
       "                              cholesky                   0.568088   \n",
       "100   False         False     cholesky                   0.567447   \n",
       "                              svd                        0.567447   \n",
       "110   False         False     cholesky                   0.567447   \n",
       "120   False         False     svd                        0.567447   \n",
       "                              cholesky                   0.567447   \n",
       "70    False         False     svd                        0.567447   \n",
       "                              cholesky                   0.567447   \n",
       "110   False         False     svd                        0.567447   \n",
       "500   False         False     svd                        0.566555   \n",
       "                              cholesky                   0.566555   \n",
       "\n",
       "                                        rec_0_teste  rec_1_teste  f1_teste  \\\n",
       "alpha fit_intercept normalize solver                                         \n",
       "240   False         False     svd          0.412821     0.726087  0.607325   \n",
       "270   False         False     svd          0.412821     0.726087  0.607325   \n",
       "220   False         False     cholesky     0.412821     0.726087  0.607325   \n",
       "                              svd          0.412821     0.726087  0.607325   \n",
       "230   False         False     cholesky     0.412821     0.726087  0.607325   \n",
       "                              svd          0.412821     0.726087  0.607325   \n",
       "240   False         False     cholesky     0.412821     0.726087  0.607325   \n",
       "250   False         False     cholesky     0.412821     0.726087  0.607325   \n",
       "                              svd          0.412821     0.726087  0.607325   \n",
       "260   False         False     cholesky     0.412821     0.726087  0.607325   \n",
       "                              svd          0.412821     0.726087  0.607325   \n",
       "270   False         False     cholesky     0.412821     0.726087  0.607325   \n",
       "280   False         False     cholesky     0.412821     0.726087  0.607325   \n",
       "                              svd          0.412821     0.726087  0.607325   \n",
       "290   False         False     cholesky     0.412821     0.726087  0.607325   \n",
       "                              svd          0.412821     0.726087  0.607325   \n",
       "200   False         False     svd          0.411538     0.726087  0.606957   \n",
       "190   False         False     cholesky     0.411538     0.726087  0.606957   \n",
       "180   False         False     cholesky     0.411538     0.726087  0.606957   \n",
       "160   False         False     svd          0.411538     0.726087  0.606957   \n",
       "                              cholesky     0.411538     0.726087  0.606957   \n",
       "150   False         False     svd          0.411538     0.726087  0.606957   \n",
       "                              cholesky     0.411538     0.726087  0.606957   \n",
       "190   False         False     svd          0.411538     0.726087  0.606957   \n",
       "200   False         False     cholesky     0.411538     0.726087  0.606957   \n",
       "180   False         False     svd          0.411538     0.726087  0.606957   \n",
       "210   False         False     cholesky     0.411538     0.726087  0.606957   \n",
       "                              svd          0.411538     0.726087  0.606957   \n",
       "140   False         False     cholesky     0.411538     0.726087  0.606957   \n",
       "                              svd          0.411538     0.726087  0.606957   \n",
       "300   False         False     cholesky     0.412821     0.724638  0.606472   \n",
       "                              svd          0.412821     0.724638  0.606472   \n",
       "80    False         False     cholesky     0.410256     0.726087  0.606655   \n",
       "                              svd          0.410256     0.726087  0.606655   \n",
       "90    False         False     cholesky     0.410256     0.726087  0.606655   \n",
       "                              svd          0.410256     0.726087  0.606655   \n",
       "130   False         False     svd          0.411538     0.724638  0.606104   \n",
       "                              cholesky     0.411538     0.724638  0.606104   \n",
       "60    False         False     svd          0.411538     0.724638  0.606141   \n",
       "                              cholesky     0.411538     0.724638  0.606141   \n",
       "100   False         False     cholesky     0.410256     0.724638  0.605736   \n",
       "                              svd          0.410256     0.724638  0.605736   \n",
       "110   False         False     cholesky     0.410256     0.724638  0.605736   \n",
       "120   False         False     svd          0.410256     0.724638  0.605736   \n",
       "                              cholesky     0.410256     0.724638  0.605736   \n",
       "70    False         False     svd          0.410256     0.724638  0.605802   \n",
       "                              cholesky     0.410256     0.724638  0.605802   \n",
       "110   False         False     svd          0.410256     0.724638  0.605736   \n",
       "500   False         False     svd          0.412821     0.720290  0.603942   \n",
       "                              cholesky     0.412821     0.720290  0.603942   \n",
       "\n",
       "                                        auc_teste  \n",
       "alpha fit_intercept normalize solver               \n",
       "240   False         False     svd        0.569454  \n",
       "270   False         False     svd        0.569454  \n",
       "220   False         False     cholesky   0.569454  \n",
       "                              svd        0.569454  \n",
       "230   False         False     cholesky   0.569454  \n",
       "                              svd        0.569454  \n",
       "240   False         False     cholesky   0.569454  \n",
       "250   False         False     cholesky   0.569454  \n",
       "                              svd        0.569454  \n",
       "260   False         False     cholesky   0.569454  \n",
       "                              svd        0.569454  \n",
       "270   False         False     cholesky   0.569454  \n",
       "280   False         False     cholesky   0.569454  \n",
       "                              svd        0.569454  \n",
       "290   False         False     cholesky   0.569454  \n",
       "                              svd        0.569454  \n",
       "200   False         False     svd        0.568813  \n",
       "190   False         False     cholesky   0.568813  \n",
       "180   False         False     cholesky   0.568813  \n",
       "160   False         False     svd        0.568813  \n",
       "                              cholesky   0.568813  \n",
       "150   False         False     svd        0.568813  \n",
       "                              cholesky   0.568813  \n",
       "190   False         False     svd        0.568813  \n",
       "200   False         False     cholesky   0.568813  \n",
       "180   False         False     svd        0.568813  \n",
       "210   False         False     cholesky   0.568813  \n",
       "                              svd        0.568813  \n",
       "140   False         False     cholesky   0.568813  \n",
       "                              svd        0.568813  \n",
       "300   False         False     cholesky   0.568729  \n",
       "                              svd        0.568729  \n",
       "80    False         False     cholesky   0.568172  \n",
       "                              svd        0.568172  \n",
       "90    False         False     cholesky   0.568172  \n",
       "                              svd        0.568172  \n",
       "130   False         False     svd        0.568088  \n",
       "                              cholesky   0.568088  \n",
       "60    False         False     svd        0.568088  \n",
       "                              cholesky   0.568088  \n",
       "100   False         False     cholesky   0.567447  \n",
       "                              svd        0.567447  \n",
       "110   False         False     cholesky   0.567447  \n",
       "120   False         False     svd        0.567447  \n",
       "                              cholesky   0.567447  \n",
       "70    False         False     svd        0.567447  \n",
       "                              cholesky   0.567447  \n",
       "110   False         False     svd        0.567447  \n",
       "500   False         False     svd        0.566555  \n",
       "                              cholesky   0.566555  "
      ]
     },
     "execution_count": 277,
     "metadata": {},
     "output_type": "execute_result"
    }
   ],
   "source": [
    "resultados_df = pd.DataFrame(np.array(resultados), columns=['repeticao','alpha','fit_intercept','normalize','solver','acuracy_treino','acuracia_teste','acuracia_balanceada_teste','rec_0_teste','rec_1_teste','f1_teste','auc_teste'])\n",
    "resultados_df['auc_teste'] = resultados_df['auc_teste'].astype(float, errors = 'raise')\n",
    "resultados_df.astype({ 'alpha': 'str', 'fit_intercept': 'str','normalize': 'str','solver': 'str','acuracy_treino': 'float','acuracia_teste': 'float','acuracia_balanceada_teste': 'float','rec_0_teste': 'float','rec_1_teste': 'float','f1_teste': 'float','auc_teste': 'float' }).groupby(['alpha','fit_intercept','normalize','solver']).agg({'acuracy_treino':np.mean, 'acuracia_teste':np.mean, 'acuracia_balanceada_teste':np.mean, 'rec_0_teste':np.mean, 'rec_1_teste':np.mean, 'f1_teste':np.mean, 'auc_teste':np.mean}).sort_values(by='auc_teste', ascending=False).head(50)"
   ]
  },
  {
   "cell_type": "code",
   "execution_count": 278,
   "metadata": {},
   "outputs": [
    {
     "data": {
      "text/plain": [
       "RidgeClassifier(alpha=240, fit_intercept=False, solver='svd')"
      ]
     },
     "execution_count": 278,
     "metadata": {},
     "output_type": "execute_result"
    }
   ],
   "source": [
    "## Dados de treino (até a data definida por treinar_ate_data_str)\n",
    "X = df_final99[(df_final99['Date'] <= parser.parse(treinar_ate_data_str))][['score','neu_robd4','neg_finbertd2','scored3']]\n",
    "y = df_final99[(df_final99['Date'] <= parser.parse(treinar_ate_data_str))][['Fechamento']]\n",
    "\n",
    "X_train = X\n",
    "y_train = y\n",
    "\n",
    "ridge = RidgeClassifier(alpha=240,fit_intercept=False,normalize=False, solver = 'svd' )\n",
    "ridge.fit(X_train,y_train)"
   ]
  },
  {
   "cell_type": "code",
   "execution_count": 281,
   "metadata": {},
   "outputs": [
    {
     "name": "stdout",
     "output_type": "stream",
     "text": [
      "Classification Report Dados:\n",
      "               precision    recall  f1-score   support\n",
      "\n",
      "           0       0.65      0.42      0.51        26\n",
      "           1       0.53      0.74      0.62        23\n",
      "\n",
      "    accuracy                           0.57        49\n",
      "   macro avg       0.59      0.58      0.56        49\n",
      "weighted avg       0.59      0.57      0.56        49\n",
      "\n",
      "\n",
      "Confusion Matrix Dados de Producao:\n",
      " [[11 15]\n",
      " [ 6 17]]\n",
      "\n",
      "Recall_0: 0.4230769230769231\n",
      "Recall_1: 0.7391304347826086\n",
      "Acuracia: 0.5714285714285714\n",
      "Acuracia Balanceada: 0.5811036789297659\n",
      "F1_Score_0: 0.5116279069767442\n",
      "F1_Score_1: 0.6181818181818182\n",
      "AUC: 0.5811036789297659\n"
     ]
    }
   ],
   "source": [
    "#Predizendo y\n",
    "y_pred = ridge.predict(X_test)\n",
    "\n",
    "#Relatórios e matriz de confusao\n",
    "print(\"Classification Report Dados:\\n\",classification_report(y_test,y_pred))\n",
    "print(\"\")\n",
    "print(\"Confusion Matrix Dados de Producao:\\n\",confusion_matrix(y_test,y_pred))\n",
    "print(\"\")\n",
    "\n",
    "#Calculando o recall\n",
    "recall_0 = recall_score(y_test, y_pred, pos_label=0)\n",
    "recall_1 = recall_score(y_test, y_pred, pos_label=1)\n",
    "\n",
    "#Calculando acurácia \n",
    "accuracy = accuracy_score(y_test, y_pred)\n",
    "\n",
    "#Calculando acurácia balanceada\n",
    "accuracy_balanced = balanced_accuracy_score(y_test, y_pred)\n",
    "\n",
    "#calculando f1_score\n",
    "f1_0 = f1_score(y_test, y_pred,pos_label=0)\n",
    "f1_1 = f1_score(y_test, y_pred,pos_label=1)\n",
    "\n",
    "#Calculando AUC\n",
    "auc = roc_auc_score(y_test, y_pred)\n",
    "\n",
    "print(\"Recall_0: %s\" % (recall_0))\n",
    "print(\"Recall_1: %s\" % (recall_1))\n",
    "print(\"Acuracia: %s\" % (accuracy))\n",
    "print(\"Acuracia Balanceada: %s\" % (accuracy_balanced))\n",
    "print(\"F1_Score_0: %s\" % (f1_0))\n",
    "print(\"F1_Score_1: %s\" % (f1_1))\n",
    "print(\"AUC: %s\" % (auc))"
   ]
  },
  {
   "cell_type": "markdown",
   "metadata": {},
   "source": [
    "## 4.3 GaussianNB"
   ]
  },
  {
   "cell_type": "code",
   "execution_count": 283,
   "metadata": {},
   "outputs": [],
   "source": [
    "from sklearn.naive_bayes import GaussianNB\n",
    "acuracia_dados = make_scorer(accuracy_score)\n",
    "f1_dados = make_scorer(f1_score)\n",
    "balanced_acc_dados = make_scorer(balanced_accuracy_score)\n",
    "scoring = {\"accuracy\": acuracia_dados, \"f1\":f1_dados, \"bacuracy\":balanced_acc_dados}\n",
    "resultados = []"
   ]
  },
  {
   "cell_type": "code",
   "execution_count": 288,
   "metadata": {},
   "outputs": [
    {
     "name": "stdout",
     "output_type": "stream",
     "text": [
      "Fazendo gridsearch - Repeticao 1\n",
      "Fazendo gridsearch - Repeticao 2\n",
      "Fazendo gridsearch - Repeticao 3\n",
      "Fazendo gridsearch - Repeticao 4\n",
      "Fazendo gridsearch - Repeticao 5\n",
      "Fazendo gridsearch - Repeticao 6\n",
      "Fazendo gridsearch - Repeticao 7\n",
      "Fazendo gridsearch - Repeticao 8\n",
      "Fazendo gridsearch - Repeticao 9\n",
      "Fazendo gridsearch - Repeticao 10\n",
      "Fazendo gridsearch - Repeticao 11\n",
      "Fazendo gridsearch - Repeticao 12\n",
      "Fazendo gridsearch - Repeticao 13\n",
      "Fazendo gridsearch - Repeticao 14\n",
      "Fazendo gridsearch - Repeticao 15\n",
      "Fazendo gridsearch - Repeticao 16\n",
      "Fazendo gridsearch - Repeticao 17\n",
      "Fazendo gridsearch - Repeticao 18\n",
      "Fazendo gridsearch - Repeticao 19\n",
      "Fazendo gridsearch - Repeticao 20\n",
      "Fazendo gridsearch - Repeticao 21\n",
      "Fazendo gridsearch - Repeticao 22\n",
      "Fazendo gridsearch - Repeticao 23\n",
      "Fazendo gridsearch - Repeticao 24\n",
      "Fazendo gridsearch - Repeticao 25\n",
      "Fazendo gridsearch - Repeticao 26\n",
      "Fazendo gridsearch - Repeticao 27\n",
      "Fazendo gridsearch - Repeticao 28\n",
      "Fazendo gridsearch - Repeticao 29\n",
      "Fazendo gridsearch - Repeticao 30\n"
     ]
    }
   ],
   "source": [
    "treinar_ate_data_str = '2022-03-29'\n",
    "\n",
    "## Dados de treino (até a data definida por treinar_ate_data_str)\n",
    "X = df_final99[(df_final99['Date'] <= parser.parse(treinar_ate_data_str))][['score','neu_robd4','neg_finbertd2','scored3']]\n",
    "y = df_final99[(df_final99['Date'] <= parser.parse(treinar_ate_data_str))][['Fechamento']]\n",
    "\n",
    "X_train = X\n",
    "y_train = y\n",
    "\n",
    "## Dados de teste (a partir da data definida por treinar_ate_data_str)\n",
    "X_test = df_final99[(df_final99['Date'] > parser.parse(treinar_ate_data_str))][['score','neu_robd4','neg_finbertd2','scored3']]\n",
    "y_test = df_final99[(df_final99['Date'] > parser.parse(treinar_ate_data_str))][['Fechamento']]\n",
    "\n",
    "\n",
    "\n",
    "var_smoothing = [0.0000000001,0.000000001,0.00000001,0.0000001,0.000001,0.00001,0.0001,0.001,0.01,0.1,1,10,100]\n",
    "\n",
    "var_smoothing = [0.0002,0.0003,0.0004,0.0005,0.0006,0.0007,0.0008,0.0009]\n",
    "\n",
    "var_smoothing = [0.00002,0.00003,0.00004,0.00005,0.00006,0.00007,0.00008,0.00009,0.00011,0.00012,0.00013,0.00014,0.00015,0.00016,0.00017,0.00018,0.00019]\n",
    "\n",
    "#Repete os experimentos 30x\n",
    "for i in range(30):   \n",
    "    \n",
    "    #Holdout:\n",
    "    X_train, X_, y_train, y_ = train_test_split(X, y, test_size=0.3, random_state=i, stratify=y)\n",
    "        \n",
    "    #Validação cruzada com 10 kfolds\n",
    "    kfold = KFold(n_splits = 10, shuffle = True, random_state = i)\n",
    "    \n",
    "    print(\"Fazendo gridsearch - Repeticao %s\" % (i+1))\n",
    "    \n",
    "    \n",
    "    # itera sobre parametro 1:\n",
    "    for k in var_smoothing:\n",
    "\n",
    "            \n",
    "                    \n",
    "              \n",
    "                    gs = GridSearchCV(\n",
    "                        GaussianNB() ,\n",
    "                        param_grid={\"var_smoothing\":[u]}, \n",
    "                        scoring=scoring,\n",
    "                        refit=\"bacuracy\",\n",
    "                        n_jobs=2,\n",
    "                        return_train_score=True,\n",
    "                        cv = kfold\n",
    "                            )\n",
    "\n",
    "                    #Treinando o modelo com dados de treino c/ 9 folds e utilizando 1 fold para teste\n",
    "                    gs.fit(X_train, y_train)\n",
    "\n",
    "                    #Melhores resultados e hiperparâmetros encontrados\n",
    "                    acuracy_treino = gs.best_score_\n",
    "                    #hyperparams = gs.best_params_\n",
    "\n",
    "                    ##Predizendo as classes nos dados de teste e todos dados, utilizando os melhores parâmetros\n",
    "                    y_test_pred = gs.predict(X_test)\n",
    "                    #y_test_pred_todos = gs.predict(X_todos)\n",
    "\n",
    "                    #Calculando acurácia \n",
    "                    accuracy_teste = accuracy_score(y_test, y_test_pred)\n",
    "                    #accuracy_todos = accuracy_score(y_todos, y_test_pred_todos)\n",
    "\n",
    "                    #calculando f1_score da classe 1\n",
    "                    f1_teste = f1_score(y_test, y_test_pred)\n",
    "                    #f1_todos = f1_score(y_todos, y_test_pred_todos)\n",
    "\n",
    "                    #calculando área sobre a curva ROC_AUC:\n",
    "                    auc_teste = roc_auc_score(y_test, y_test_pred)\n",
    "                    #auc_todos = roc_auc_score(y_todos, y_test_pred_todos)\n",
    "\n",
    "                    #Calculando Recall clase 1\n",
    "                    rec0_teste = recall_score(y_test, y_test_pred, pos_label=0)\n",
    "                    rec1_teste = recall_score(y_test, y_test_pred, pos_label=1)\n",
    "\n",
    "                    #rec0_todos = recall_score(y_todos, y_test_pred_todos, pos_label=0)\n",
    "                    #rec1_todos = recall_score(y_todos, y_test_pred_todos, pos_label=1)\n",
    "\n",
    "                    #Calculando a acurácia balanceada\n",
    "                    accuracy_teste_balanced = balanced_accuracy_score(y_test, y_test_pred)\n",
    "\n",
    "                    # Adicionando todos resultados em uma única lista\n",
    "                    resultados.append(np.array([i,k,acuracy_treino,accuracy_teste,accuracy_teste_balanced,rec0_teste,rec1_teste,f1_teste,auc_teste]))"
   ]
  },
  {
   "cell_type": "code",
   "execution_count": 289,
   "metadata": {},
   "outputs": [
    {
     "data": {
      "text/html": [
       "<div>\n",
       "<style scoped>\n",
       "    .dataframe tbody tr th:only-of-type {\n",
       "        vertical-align: middle;\n",
       "    }\n",
       "\n",
       "    .dataframe tbody tr th {\n",
       "        vertical-align: top;\n",
       "    }\n",
       "\n",
       "    .dataframe thead th {\n",
       "        text-align: right;\n",
       "    }\n",
       "</style>\n",
       "<table border=\"1\" class=\"dataframe\">\n",
       "  <thead>\n",
       "    <tr style=\"text-align: right;\">\n",
       "      <th></th>\n",
       "      <th>acuracy_treino</th>\n",
       "      <th>acuracia_teste</th>\n",
       "      <th>acuracia_balanceada_teste</th>\n",
       "      <th>rec_0_teste</th>\n",
       "      <th>rec_1_teste</th>\n",
       "      <th>f1_teste</th>\n",
       "      <th>auc_teste</th>\n",
       "    </tr>\n",
       "    <tr>\n",
       "      <th>var_smoothing</th>\n",
       "      <th></th>\n",
       "      <th></th>\n",
       "      <th></th>\n",
       "      <th></th>\n",
       "      <th></th>\n",
       "      <th></th>\n",
       "      <th></th>\n",
       "    </tr>\n",
       "  </thead>\n",
       "  <tbody>\n",
       "    <tr>\n",
       "      <th>0.0001</th>\n",
       "      <td>0.647459</td>\n",
       "      <td>0.545578</td>\n",
       "      <td>0.554738</td>\n",
       "      <td>0.405128</td>\n",
       "      <td>0.704348</td>\n",
       "      <td>0.592917</td>\n",
       "      <td>0.554738</td>\n",
       "    </tr>\n",
       "    <tr>\n",
       "      <th>1e-09</th>\n",
       "      <td>0.647459</td>\n",
       "      <td>0.545578</td>\n",
       "      <td>0.554738</td>\n",
       "      <td>0.405128</td>\n",
       "      <td>0.704348</td>\n",
       "      <td>0.592917</td>\n",
       "      <td>0.554738</td>\n",
       "    </tr>\n",
       "    <tr>\n",
       "      <th>1.0</th>\n",
       "      <td>0.647459</td>\n",
       "      <td>0.545578</td>\n",
       "      <td>0.554738</td>\n",
       "      <td>0.405128</td>\n",
       "      <td>0.704348</td>\n",
       "      <td>0.592917</td>\n",
       "      <td>0.554738</td>\n",
       "    </tr>\n",
       "    <tr>\n",
       "      <th>10.0</th>\n",
       "      <td>0.647459</td>\n",
       "      <td>0.545578</td>\n",
       "      <td>0.554738</td>\n",
       "      <td>0.405128</td>\n",
       "      <td>0.704348</td>\n",
       "      <td>0.592917</td>\n",
       "      <td>0.554738</td>\n",
       "    </tr>\n",
       "    <tr>\n",
       "      <th>100.0</th>\n",
       "      <td>0.647459</td>\n",
       "      <td>0.545578</td>\n",
       "      <td>0.554738</td>\n",
       "      <td>0.405128</td>\n",
       "      <td>0.704348</td>\n",
       "      <td>0.592917</td>\n",
       "      <td>0.554738</td>\n",
       "    </tr>\n",
       "    <tr>\n",
       "      <th>1e-05</th>\n",
       "      <td>0.647459</td>\n",
       "      <td>0.545578</td>\n",
       "      <td>0.554738</td>\n",
       "      <td>0.405128</td>\n",
       "      <td>0.704348</td>\n",
       "      <td>0.592917</td>\n",
       "      <td>0.554738</td>\n",
       "    </tr>\n",
       "    <tr>\n",
       "      <th>1e-06</th>\n",
       "      <td>0.647459</td>\n",
       "      <td>0.545578</td>\n",
       "      <td>0.554738</td>\n",
       "      <td>0.405128</td>\n",
       "      <td>0.704348</td>\n",
       "      <td>0.592917</td>\n",
       "      <td>0.554738</td>\n",
       "    </tr>\n",
       "    <tr>\n",
       "      <th>1e-07</th>\n",
       "      <td>0.647459</td>\n",
       "      <td>0.545578</td>\n",
       "      <td>0.554738</td>\n",
       "      <td>0.405128</td>\n",
       "      <td>0.704348</td>\n",
       "      <td>0.592917</td>\n",
       "      <td>0.554738</td>\n",
       "    </tr>\n",
       "    <tr>\n",
       "      <th>1e-08</th>\n",
       "      <td>0.647459</td>\n",
       "      <td>0.545578</td>\n",
       "      <td>0.554738</td>\n",
       "      <td>0.405128</td>\n",
       "      <td>0.704348</td>\n",
       "      <td>0.592917</td>\n",
       "      <td>0.554738</td>\n",
       "    </tr>\n",
       "    <tr>\n",
       "      <th>1e-10</th>\n",
       "      <td>0.647459</td>\n",
       "      <td>0.545578</td>\n",
       "      <td>0.554738</td>\n",
       "      <td>0.405128</td>\n",
       "      <td>0.704348</td>\n",
       "      <td>0.592917</td>\n",
       "      <td>0.554738</td>\n",
       "    </tr>\n",
       "    <tr>\n",
       "      <th>0.00011</th>\n",
       "      <td>0.647459</td>\n",
       "      <td>0.545578</td>\n",
       "      <td>0.554738</td>\n",
       "      <td>0.405128</td>\n",
       "      <td>0.704348</td>\n",
       "      <td>0.592917</td>\n",
       "      <td>0.554738</td>\n",
       "    </tr>\n",
       "    <tr>\n",
       "      <th>2e-05</th>\n",
       "      <td>0.647459</td>\n",
       "      <td>0.545578</td>\n",
       "      <td>0.554738</td>\n",
       "      <td>0.405128</td>\n",
       "      <td>0.704348</td>\n",
       "      <td>0.592917</td>\n",
       "      <td>0.554738</td>\n",
       "    </tr>\n",
       "    <tr>\n",
       "      <th>3e-05</th>\n",
       "      <td>0.647459</td>\n",
       "      <td>0.545578</td>\n",
       "      <td>0.554738</td>\n",
       "      <td>0.405128</td>\n",
       "      <td>0.704348</td>\n",
       "      <td>0.592917</td>\n",
       "      <td>0.554738</td>\n",
       "    </tr>\n",
       "    <tr>\n",
       "      <th>4e-05</th>\n",
       "      <td>0.647459</td>\n",
       "      <td>0.545578</td>\n",
       "      <td>0.554738</td>\n",
       "      <td>0.405128</td>\n",
       "      <td>0.704348</td>\n",
       "      <td>0.592917</td>\n",
       "      <td>0.554738</td>\n",
       "    </tr>\n",
       "    <tr>\n",
       "      <th>5e-05</th>\n",
       "      <td>0.647459</td>\n",
       "      <td>0.545578</td>\n",
       "      <td>0.554738</td>\n",
       "      <td>0.405128</td>\n",
       "      <td>0.704348</td>\n",
       "      <td>0.592917</td>\n",
       "      <td>0.554738</td>\n",
       "    </tr>\n",
       "    <tr>\n",
       "      <th>6e-05</th>\n",
       "      <td>0.647459</td>\n",
       "      <td>0.545578</td>\n",
       "      <td>0.554738</td>\n",
       "      <td>0.405128</td>\n",
       "      <td>0.704348</td>\n",
       "      <td>0.592917</td>\n",
       "      <td>0.554738</td>\n",
       "    </tr>\n",
       "    <tr>\n",
       "      <th>7e-05</th>\n",
       "      <td>0.647459</td>\n",
       "      <td>0.545578</td>\n",
       "      <td>0.554738</td>\n",
       "      <td>0.405128</td>\n",
       "      <td>0.704348</td>\n",
       "      <td>0.592917</td>\n",
       "      <td>0.554738</td>\n",
       "    </tr>\n",
       "    <tr>\n",
       "      <th>8e-05</th>\n",
       "      <td>0.647459</td>\n",
       "      <td>0.545578</td>\n",
       "      <td>0.554738</td>\n",
       "      <td>0.405128</td>\n",
       "      <td>0.704348</td>\n",
       "      <td>0.592917</td>\n",
       "      <td>0.554738</td>\n",
       "    </tr>\n",
       "    <tr>\n",
       "      <th>0.1</th>\n",
       "      <td>0.647459</td>\n",
       "      <td>0.545578</td>\n",
       "      <td>0.554738</td>\n",
       "      <td>0.405128</td>\n",
       "      <td>0.704348</td>\n",
       "      <td>0.592917</td>\n",
       "      <td>0.554738</td>\n",
       "    </tr>\n",
       "    <tr>\n",
       "      <th>0.01</th>\n",
       "      <td>0.647459</td>\n",
       "      <td>0.545578</td>\n",
       "      <td>0.554738</td>\n",
       "      <td>0.405128</td>\n",
       "      <td>0.704348</td>\n",
       "      <td>0.592917</td>\n",
       "      <td>0.554738</td>\n",
       "    </tr>\n",
       "    <tr>\n",
       "      <th>0.001</th>\n",
       "      <td>0.647459</td>\n",
       "      <td>0.545578</td>\n",
       "      <td>0.554738</td>\n",
       "      <td>0.405128</td>\n",
       "      <td>0.704348</td>\n",
       "      <td>0.592917</td>\n",
       "      <td>0.554738</td>\n",
       "    </tr>\n",
       "    <tr>\n",
       "      <th>0.0009</th>\n",
       "      <td>0.647459</td>\n",
       "      <td>0.545578</td>\n",
       "      <td>0.554738</td>\n",
       "      <td>0.405128</td>\n",
       "      <td>0.704348</td>\n",
       "      <td>0.592917</td>\n",
       "      <td>0.554738</td>\n",
       "    </tr>\n",
       "    <tr>\n",
       "      <th>0.00012</th>\n",
       "      <td>0.647459</td>\n",
       "      <td>0.545578</td>\n",
       "      <td>0.554738</td>\n",
       "      <td>0.405128</td>\n",
       "      <td>0.704348</td>\n",
       "      <td>0.592917</td>\n",
       "      <td>0.554738</td>\n",
       "    </tr>\n",
       "    <tr>\n",
       "      <th>0.00013</th>\n",
       "      <td>0.647459</td>\n",
       "      <td>0.545578</td>\n",
       "      <td>0.554738</td>\n",
       "      <td>0.405128</td>\n",
       "      <td>0.704348</td>\n",
       "      <td>0.592917</td>\n",
       "      <td>0.554738</td>\n",
       "    </tr>\n",
       "    <tr>\n",
       "      <th>0.00014</th>\n",
       "      <td>0.647459</td>\n",
       "      <td>0.545578</td>\n",
       "      <td>0.554738</td>\n",
       "      <td>0.405128</td>\n",
       "      <td>0.704348</td>\n",
       "      <td>0.592917</td>\n",
       "      <td>0.554738</td>\n",
       "    </tr>\n",
       "    <tr>\n",
       "      <th>0.00015</th>\n",
       "      <td>0.647459</td>\n",
       "      <td>0.545578</td>\n",
       "      <td>0.554738</td>\n",
       "      <td>0.405128</td>\n",
       "      <td>0.704348</td>\n",
       "      <td>0.592917</td>\n",
       "      <td>0.554738</td>\n",
       "    </tr>\n",
       "    <tr>\n",
       "      <th>0.00016</th>\n",
       "      <td>0.647459</td>\n",
       "      <td>0.545578</td>\n",
       "      <td>0.554738</td>\n",
       "      <td>0.405128</td>\n",
       "      <td>0.704348</td>\n",
       "      <td>0.592917</td>\n",
       "      <td>0.554738</td>\n",
       "    </tr>\n",
       "    <tr>\n",
       "      <th>0.00017</th>\n",
       "      <td>0.647459</td>\n",
       "      <td>0.545578</td>\n",
       "      <td>0.554738</td>\n",
       "      <td>0.405128</td>\n",
       "      <td>0.704348</td>\n",
       "      <td>0.592917</td>\n",
       "      <td>0.554738</td>\n",
       "    </tr>\n",
       "    <tr>\n",
       "      <th>0.00018</th>\n",
       "      <td>0.647459</td>\n",
       "      <td>0.545578</td>\n",
       "      <td>0.554738</td>\n",
       "      <td>0.405128</td>\n",
       "      <td>0.704348</td>\n",
       "      <td>0.592917</td>\n",
       "      <td>0.554738</td>\n",
       "    </tr>\n",
       "    <tr>\n",
       "      <th>0.00019</th>\n",
       "      <td>0.647459</td>\n",
       "      <td>0.545578</td>\n",
       "      <td>0.554738</td>\n",
       "      <td>0.405128</td>\n",
       "      <td>0.704348</td>\n",
       "      <td>0.592917</td>\n",
       "      <td>0.554738</td>\n",
       "    </tr>\n",
       "    <tr>\n",
       "      <th>0.0002</th>\n",
       "      <td>0.647459</td>\n",
       "      <td>0.545578</td>\n",
       "      <td>0.554738</td>\n",
       "      <td>0.405128</td>\n",
       "      <td>0.704348</td>\n",
       "      <td>0.592917</td>\n",
       "      <td>0.554738</td>\n",
       "    </tr>\n",
       "    <tr>\n",
       "      <th>0.0003</th>\n",
       "      <td>0.647459</td>\n",
       "      <td>0.545578</td>\n",
       "      <td>0.554738</td>\n",
       "      <td>0.405128</td>\n",
       "      <td>0.704348</td>\n",
       "      <td>0.592917</td>\n",
       "      <td>0.554738</td>\n",
       "    </tr>\n",
       "    <tr>\n",
       "      <th>0.0004</th>\n",
       "      <td>0.647459</td>\n",
       "      <td>0.545578</td>\n",
       "      <td>0.554738</td>\n",
       "      <td>0.405128</td>\n",
       "      <td>0.704348</td>\n",
       "      <td>0.592917</td>\n",
       "      <td>0.554738</td>\n",
       "    </tr>\n",
       "    <tr>\n",
       "      <th>0.0005</th>\n",
       "      <td>0.647459</td>\n",
       "      <td>0.545578</td>\n",
       "      <td>0.554738</td>\n",
       "      <td>0.405128</td>\n",
       "      <td>0.704348</td>\n",
       "      <td>0.592917</td>\n",
       "      <td>0.554738</td>\n",
       "    </tr>\n",
       "    <tr>\n",
       "      <th>0.0006</th>\n",
       "      <td>0.647459</td>\n",
       "      <td>0.545578</td>\n",
       "      <td>0.554738</td>\n",
       "      <td>0.405128</td>\n",
       "      <td>0.704348</td>\n",
       "      <td>0.592917</td>\n",
       "      <td>0.554738</td>\n",
       "    </tr>\n",
       "    <tr>\n",
       "      <th>0.0007</th>\n",
       "      <td>0.647459</td>\n",
       "      <td>0.545578</td>\n",
       "      <td>0.554738</td>\n",
       "      <td>0.405128</td>\n",
       "      <td>0.704348</td>\n",
       "      <td>0.592917</td>\n",
       "      <td>0.554738</td>\n",
       "    </tr>\n",
       "    <tr>\n",
       "      <th>0.0008</th>\n",
       "      <td>0.647459</td>\n",
       "      <td>0.545578</td>\n",
       "      <td>0.554738</td>\n",
       "      <td>0.405128</td>\n",
       "      <td>0.704348</td>\n",
       "      <td>0.592917</td>\n",
       "      <td>0.554738</td>\n",
       "    </tr>\n",
       "    <tr>\n",
       "      <th>9e-05</th>\n",
       "      <td>0.647459</td>\n",
       "      <td>0.545578</td>\n",
       "      <td>0.554738</td>\n",
       "      <td>0.405128</td>\n",
       "      <td>0.704348</td>\n",
       "      <td>0.592917</td>\n",
       "      <td>0.554738</td>\n",
       "    </tr>\n",
       "  </tbody>\n",
       "</table>\n",
       "</div>"
      ],
      "text/plain": [
       "               acuracy_treino  acuracia_teste  acuracia_balanceada_teste  \\\n",
       "var_smoothing                                                              \n",
       "0.0001               0.647459        0.545578                   0.554738   \n",
       "1e-09                0.647459        0.545578                   0.554738   \n",
       "1.0                  0.647459        0.545578                   0.554738   \n",
       "10.0                 0.647459        0.545578                   0.554738   \n",
       "100.0                0.647459        0.545578                   0.554738   \n",
       "1e-05                0.647459        0.545578                   0.554738   \n",
       "1e-06                0.647459        0.545578                   0.554738   \n",
       "1e-07                0.647459        0.545578                   0.554738   \n",
       "1e-08                0.647459        0.545578                   0.554738   \n",
       "1e-10                0.647459        0.545578                   0.554738   \n",
       "0.00011              0.647459        0.545578                   0.554738   \n",
       "2e-05                0.647459        0.545578                   0.554738   \n",
       "3e-05                0.647459        0.545578                   0.554738   \n",
       "4e-05                0.647459        0.545578                   0.554738   \n",
       "5e-05                0.647459        0.545578                   0.554738   \n",
       "6e-05                0.647459        0.545578                   0.554738   \n",
       "7e-05                0.647459        0.545578                   0.554738   \n",
       "8e-05                0.647459        0.545578                   0.554738   \n",
       "0.1                  0.647459        0.545578                   0.554738   \n",
       "0.01                 0.647459        0.545578                   0.554738   \n",
       "0.001                0.647459        0.545578                   0.554738   \n",
       "0.0009               0.647459        0.545578                   0.554738   \n",
       "0.00012              0.647459        0.545578                   0.554738   \n",
       "0.00013              0.647459        0.545578                   0.554738   \n",
       "0.00014              0.647459        0.545578                   0.554738   \n",
       "0.00015              0.647459        0.545578                   0.554738   \n",
       "0.00016              0.647459        0.545578                   0.554738   \n",
       "0.00017              0.647459        0.545578                   0.554738   \n",
       "0.00018              0.647459        0.545578                   0.554738   \n",
       "0.00019              0.647459        0.545578                   0.554738   \n",
       "0.0002               0.647459        0.545578                   0.554738   \n",
       "0.0003               0.647459        0.545578                   0.554738   \n",
       "0.0004               0.647459        0.545578                   0.554738   \n",
       "0.0005               0.647459        0.545578                   0.554738   \n",
       "0.0006               0.647459        0.545578                   0.554738   \n",
       "0.0007               0.647459        0.545578                   0.554738   \n",
       "0.0008               0.647459        0.545578                   0.554738   \n",
       "9e-05                0.647459        0.545578                   0.554738   \n",
       "\n",
       "               rec_0_teste  rec_1_teste  f1_teste  auc_teste  \n",
       "var_smoothing                                                 \n",
       "0.0001            0.405128     0.704348  0.592917   0.554738  \n",
       "1e-09             0.405128     0.704348  0.592917   0.554738  \n",
       "1.0               0.405128     0.704348  0.592917   0.554738  \n",
       "10.0              0.405128     0.704348  0.592917   0.554738  \n",
       "100.0             0.405128     0.704348  0.592917   0.554738  \n",
       "1e-05             0.405128     0.704348  0.592917   0.554738  \n",
       "1e-06             0.405128     0.704348  0.592917   0.554738  \n",
       "1e-07             0.405128     0.704348  0.592917   0.554738  \n",
       "1e-08             0.405128     0.704348  0.592917   0.554738  \n",
       "1e-10             0.405128     0.704348  0.592917   0.554738  \n",
       "0.00011           0.405128     0.704348  0.592917   0.554738  \n",
       "2e-05             0.405128     0.704348  0.592917   0.554738  \n",
       "3e-05             0.405128     0.704348  0.592917   0.554738  \n",
       "4e-05             0.405128     0.704348  0.592917   0.554738  \n",
       "5e-05             0.405128     0.704348  0.592917   0.554738  \n",
       "6e-05             0.405128     0.704348  0.592917   0.554738  \n",
       "7e-05             0.405128     0.704348  0.592917   0.554738  \n",
       "8e-05             0.405128     0.704348  0.592917   0.554738  \n",
       "0.1               0.405128     0.704348  0.592917   0.554738  \n",
       "0.01              0.405128     0.704348  0.592917   0.554738  \n",
       "0.001             0.405128     0.704348  0.592917   0.554738  \n",
       "0.0009            0.405128     0.704348  0.592917   0.554738  \n",
       "0.00012           0.405128     0.704348  0.592917   0.554738  \n",
       "0.00013           0.405128     0.704348  0.592917   0.554738  \n",
       "0.00014           0.405128     0.704348  0.592917   0.554738  \n",
       "0.00015           0.405128     0.704348  0.592917   0.554738  \n",
       "0.00016           0.405128     0.704348  0.592917   0.554738  \n",
       "0.00017           0.405128     0.704348  0.592917   0.554738  \n",
       "0.00018           0.405128     0.704348  0.592917   0.554738  \n",
       "0.00019           0.405128     0.704348  0.592917   0.554738  \n",
       "0.0002            0.405128     0.704348  0.592917   0.554738  \n",
       "0.0003            0.405128     0.704348  0.592917   0.554738  \n",
       "0.0004            0.405128     0.704348  0.592917   0.554738  \n",
       "0.0005            0.405128     0.704348  0.592917   0.554738  \n",
       "0.0006            0.405128     0.704348  0.592917   0.554738  \n",
       "0.0007            0.405128     0.704348  0.592917   0.554738  \n",
       "0.0008            0.405128     0.704348  0.592917   0.554738  \n",
       "9e-05             0.405128     0.704348  0.592917   0.554738  "
      ]
     },
     "execution_count": 289,
     "metadata": {},
     "output_type": "execute_result"
    }
   ],
   "source": [
    "resultados_df = pd.DataFrame(np.array(resultados), columns=['repeticao','var_smoothing','acuracy_treino','acuracia_teste','acuracia_balanceada_teste','rec_0_teste','rec_1_teste','f1_teste','auc_teste'])\n",
    "resultados_df['auc_teste'] = resultados_df['auc_teste'].astype(float, errors = 'raise')\n",
    "resultados_df.astype({ 'var_smoothing': 'str', 'acuracy_treino': 'float','acuracia_teste': 'float','acuracia_balanceada_teste': 'float','rec_0_teste': 'float','rec_1_teste': 'float','f1_teste': 'float','auc_teste': 'float' }).groupby(['var_smoothing']).agg({'acuracy_treino':np.mean, 'acuracia_teste':np.mean, 'acuracia_balanceada_teste':np.mean, 'rec_0_teste':np.mean, 'rec_1_teste':np.mean, 'f1_teste':np.mean, 'auc_teste':np.mean}).sort_values(by='auc_teste', ascending=False).head(50)"
   ]
  },
  {
   "cell_type": "code",
   "execution_count": 290,
   "metadata": {},
   "outputs": [
    {
     "data": {
      "text/plain": [
       "GaussianNB(var_smoothing=0.0001)"
      ]
     },
     "execution_count": 290,
     "metadata": {},
     "output_type": "execute_result"
    }
   ],
   "source": [
    "## Dados de treino (até a data definida por treinar_ate_data_str)\n",
    "X = df_final99[(df_final99['Date'] <= parser.parse(treinar_ate_data_str))][['score','neu_robd4','neg_finbertd2','scored3']]\n",
    "y = df_final99[(df_final99['Date'] <= parser.parse(treinar_ate_data_str))][['Fechamento']]\n",
    "\n",
    "X_train = X\n",
    "y_train = y\n",
    "\n",
    "gaussiannb = GaussianNB(var_smoothing = 0.0001)\n",
    "gaussiannb.fit(X_train,y_train)"
   ]
  },
  {
   "cell_type": "code",
   "execution_count": 291,
   "metadata": {},
   "outputs": [
    {
     "name": "stdout",
     "output_type": "stream",
     "text": [
      "Classification Report Dados:\n",
      "               precision    recall  f1-score   support\n",
      "\n",
      "           0       0.63      0.46      0.53        26\n",
      "           1       0.53      0.70      0.60        23\n",
      "\n",
      "    accuracy                           0.57        49\n",
      "   macro avg       0.58      0.58      0.57        49\n",
      "weighted avg       0.59      0.57      0.57        49\n",
      "\n",
      "\n",
      "Confusion Matrix Dados de Producao:\n",
      " [[12 14]\n",
      " [ 7 16]]\n",
      "\n",
      "Recall_0: 0.46153846153846156\n",
      "Recall_1: 0.6956521739130435\n",
      "Acuracia: 0.5714285714285714\n",
      "Acuracia Balanceada: 0.5785953177257526\n",
      "F1_Score_0: 0.5333333333333333\n",
      "F1_Score_1: 0.6037735849056605\n",
      "AUC: 0.5785953177257526\n"
     ]
    }
   ],
   "source": [
    "#Predizendo y\n",
    "y_pred = gaussiannb.predict(X_test)\n",
    "\n",
    "#Relatórios e matriz de confusao\n",
    "print(\"Classification Report Dados:\\n\",classification_report(y_test,y_pred))\n",
    "print(\"\")\n",
    "print(\"Confusion Matrix Dados de Producao:\\n\",confusion_matrix(y_test,y_pred))\n",
    "print(\"\")\n",
    "\n",
    "#Calculando o recall\n",
    "recall_0 = recall_score(y_test, y_pred, pos_label=0)\n",
    "recall_1 = recall_score(y_test, y_pred, pos_label=1)\n",
    "\n",
    "#Calculando acurácia \n",
    "accuracy = accuracy_score(y_test, y_pred)\n",
    "\n",
    "#Calculando acurácia balanceada\n",
    "accuracy_balanced = balanced_accuracy_score(y_test, y_pred)\n",
    "\n",
    "#calculando f1_score\n",
    "f1_0 = f1_score(y_test, y_pred,pos_label=0)\n",
    "f1_1 = f1_score(y_test, y_pred,pos_label=1)\n",
    "\n",
    "#Calculando AUC\n",
    "auc = roc_auc_score(y_test, y_pred)\n",
    "\n",
    "print(\"Recall_0: %s\" % (recall_0))\n",
    "print(\"Recall_1: %s\" % (recall_1))\n",
    "print(\"Acuracia: %s\" % (accuracy))\n",
    "print(\"Acuracia Balanceada: %s\" % (accuracy_balanced))\n",
    "print(\"F1_Score_0: %s\" % (f1_0))\n",
    "print(\"F1_Score_1: %s\" % (f1_1))\n",
    "print(\"AUC: %s\" % (auc))"
   ]
  },
  {
   "cell_type": "markdown",
   "metadata": {},
   "source": [
    "# 4.4 LogisticRegression"
   ]
  },
  {
   "cell_type": "code",
   "execution_count": 292,
   "metadata": {},
   "outputs": [],
   "source": [
    "from sklearn.linear_model import LogisticRegression\n",
    "acuracia_dados = make_scorer(accuracy_score)\n",
    "f1_dados = make_scorer(f1_score)\n",
    "balanced_acc_dados = make_scorer(balanced_accuracy_score)\n",
    "scoring = {\"accuracy\": acuracia_dados, \"f1\":f1_dados, \"bacuracy\":balanced_acc_dados}\n",
    "resultados = []\n"
   ]
  },
  {
   "cell_type": "code",
   "execution_count": null,
   "metadata": {},
   "outputs": [],
   "source": [
    "treinar_ate_data_str = '2022-03-29'\n",
    "\n",
    "## Dados de treino (até a data definida por treinar_ate_data_str)\n",
    "X = df_final99[(df_final99['Date'] <= parser.parse(treinar_ate_data_str))][['score','neu_robd4','neg_finbertd2','scored3']]\n",
    "y = df_final99[(df_final99['Date'] <= parser.parse(treinar_ate_data_str))][['Fechamento']]\n",
    "\n",
    "X_train = X\n",
    "y_train = y\n",
    "\n",
    "## Dados de teste (a partir da data definida por treinar_ate_data_str)\n",
    "X_test = df_final99[(df_final99['Date'] > parser.parse(treinar_ate_data_str))][['score','neu_robd4','neg_finbertd2','scored3']]\n",
    "y_test = df_final99[(df_final99['Date'] > parser.parse(treinar_ate_data_str))][['Fechamento']]\n",
    "\n",
    "#penalty = ['l1', 'l2']\n",
    "#C = [0.1,1,2]\n",
    "#fit_intercept = [False,True]\n",
    "#solver = ['liblinear']\n",
    "\n",
    "#penalty = ['l1', 'l2']\n",
    "#C = [1.5,3,5,10]\n",
    "#fit_intercept = [False,True]\n",
    "#solver = ['liblinear']\n",
    "\n",
    "#penalty = ['l1', 'l2']\n",
    "#C = [15,30,50,100]\n",
    "#fit_intercept = [False,True]\n",
    "#solver = ['liblinear']\n",
    "\n",
    "\n",
    "#penalty = ['l1', 'l2']\n",
    "#C = [200,500,1000]\n",
    "#fit_intercept = [True]\n",
    "#solver = ['liblinear']\n",
    "\n",
    "#penalty = ['l1', 'l2']\n",
    "#C = [20,25,35,40,45,55,60,65,70,75,80,85,90,95]\n",
    "#fit_intercept = [True]\n",
    "#solver = ['liblinear']\n",
    "\n",
    "#penalty = ['l1', 'l2']\n",
    "#C = [21,22,23,24,26,27,28,29]\n",
    "#fit_intercept = [True]\n",
    "#solver = ['liblinear']\n",
    "\n",
    "\n",
    "\n",
    "#Repete os experimentos 30x\n",
    "for i in range(30):   \n",
    "    \n",
    "    #Holdout:\n",
    "    X_train, X_, y_train, y_ = train_test_split(X, y, test_size=0.3, random_state=i, stratify=y)\n",
    "        \n",
    "    #Validação cruzada com 10 kfolds\n",
    "    kfold = KFold(n_splits = 10, shuffle = True, random_state = i)\n",
    "    \n",
    "    print(\"Fazendo gridsearch - Repeticao %s\" % (i+1))\n",
    "    \n",
    "    \n",
    "    # itera sobre parametro 1:\n",
    "    for k in penalty:\n",
    "\n",
    "        \n",
    "        # itera sobre parametro 2:\n",
    "        for u in C:\n",
    "            \n",
    "            #itera sobre o parametro 3:\n",
    "            for w in fit_intercept:\n",
    "                \n",
    "                #itera sobre parametro 4\n",
    "                for v in solver:\n",
    "                    \n",
    "              \n",
    "                    gs = GridSearchCV(\n",
    "                        LogisticRegression(random_state=i) ,\n",
    "                        param_grid={\"penalty\": [k], \n",
    "                                    \"C\":[u],\n",
    "                                    \"fit_intercept\":[w],\n",
    "                                    \"solver\":[v]}, \n",
    "                        scoring=scoring,\n",
    "                        refit=\"bacuracy\",\n",
    "                        n_jobs=2,\n",
    "                        return_train_score=True,\n",
    "                        cv = kfold\n",
    "                            )\n",
    "\n",
    "                    #Treinando o modelo com dados de treino c/ 9 folds e utilizando 1 fold para teste\n",
    "                    gs.fit(X_train, y_train)\n",
    "\n",
    "                    #Melhores resultados e hiperparâmetros encontrados\n",
    "                    acuracy_treino = gs.best_score_\n",
    "                    #hyperparams = gs.best_params_\n",
    "\n",
    "                    ##Predizendo as classes nos dados de teste e todos dados, utilizando os melhores parâmetros\n",
    "                    y_test_pred = gs.predict(X_test)\n",
    "                    #y_test_pred_todos = gs.predict(X_todos)\n",
    "\n",
    "                    #Calculando acurácia \n",
    "                    accuracy_teste = accuracy_score(y_test, y_test_pred)\n",
    "                    #accuracy_todos = accuracy_score(y_todos, y_test_pred_todos)\n",
    "\n",
    "                    #calculando f1_score da classe 1\n",
    "                    f1_teste = f1_score(y_test, y_test_pred)\n",
    "                    #f1_todos = f1_score(y_todos, y_test_pred_todos)\n",
    "\n",
    "                    #calculando área sobre a curva ROC_AUC:\n",
    "                    auc_teste = roc_auc_score(y_test, y_test_pred)\n",
    "                    #auc_todos = roc_auc_score(y_todos, y_test_pred_todos)\n",
    "\n",
    "                    #Calculando Recall clase 1\n",
    "                    rec0_teste = recall_score(y_test, y_test_pred, pos_label=0)\n",
    "                    rec1_teste = recall_score(y_test, y_test_pred, pos_label=1)\n",
    "\n",
    "                    #rec0_todos = recall_score(y_todos, y_test_pred_todos, pos_label=0)\n",
    "                    #rec1_todos = recall_score(y_todos, y_test_pred_todos, pos_label=1)\n",
    "\n",
    "                    #Calculando a acurácia balanceada\n",
    "                    accuracy_teste_balanced = balanced_accuracy_score(y_test, y_test_pred)\n",
    "\n",
    "                    # Adicionando todos resultados em uma única lista\n",
    "                    resultados.append(np.array([i,k,u,w,v,acuracy_treino,accuracy_teste,accuracy_teste_balanced,rec0_teste,rec1_teste,f1_teste,auc_teste]))\n"
   ]
  },
  {
   "cell_type": "code",
   "execution_count": null,
   "metadata": {},
   "outputs": [],
   "source": [
    "resultados_df = pd.DataFrame(np.array(resultados), columns=['repeticao','penalty','C','fit_intercept','solver','acuracy_treino','acuracia_teste','acuracia_balanceada_teste','rec_0_teste','rec_1_teste','f1_teste','auc_teste'])\n",
    "resultados_df['auc_teste'] = resultados_df['auc_teste'].astype(float, errors = 'raise')\n",
    "resultados_df.astype({ 'penalty': 'str', 'C': 'str','fit_intercept': 'str','solver':'str','acuracy_treino': 'float','acuracia_teste': 'float','acuracia_balanceada_teste': 'float','rec_0_teste': 'float','rec_1_teste': 'float','f1_teste': 'float','auc_teste': 'float' }).groupby(['penalty','C','fit_intercept','solver']).agg({'acuracy_treino':np.mean, 'acuracia_teste':np.mean, 'acuracia_balanceada_teste':np.mean, 'rec_0_teste':np.mean, 'rec_1_teste':np.mean, 'f1_teste':np.mean, 'auc_teste':np.mean}).sort_values(by='auc_teste', ascending=False).head(50)\n"
   ]
  },
  {
   "cell_type": "code",
   "execution_count": null,
   "metadata": {},
   "outputs": [],
   "source": [
    "resultados_ratio = []"
   ]
  },
  {
   "cell_type": "code",
   "execution_count": null,
   "metadata": {},
   "outputs": [],
   "source": [
    "treinar_ate_data_str = '2022-03-29'\n",
    "\n",
    "## Dados de treino (até a data definida por treinar_ate_data_str)\n",
    "X = df_final99[(df_final99['Date'] <= parser.parse(treinar_ate_data_str))][['score','neu_robd4','neg_finbertd2','scored3']]\n",
    "y = df_final99[(df_final99['Date'] <= parser.parse(treinar_ate_data_str))][['Fechamento']]\n",
    "\n",
    "X_train = X\n",
    "y_train = y\n",
    "\n",
    "## Dados de teste (a partir da data definida por treinar_ate_data_str)\n",
    "X_test = df_final99[(df_final99['Date'] > parser.parse(treinar_ate_data_str))][['score','neu_robd4','neg_finbertd2','scored3']]\n",
    "y_test = df_final99[(df_final99['Date'] > parser.parse(treinar_ate_data_str))][['Fechamento']]\n",
    "\n",
    "\n",
    "\n",
    "#penalty = ['elasticnet']\n",
    "#C = [0.1,1,2]\n",
    "#fit_intercept = [False,True]\n",
    "#solver = ['saga']\n",
    "#l1_ratio = [0,0.1,0.3,0.5,0.7,0.9,1]\n",
    "\n",
    "#penalty = ['elasticnet']\n",
    "#C = [10,15,30,50,100,150,200,300,400,500,600,700,800,900,1000]\n",
    "#fit_intercept = [False,True]\n",
    "#solver = ['saga']\n",
    "#l1_ratio = [0,0.1,0.5]\n",
    "\n",
    "penalty = ['elasticnet']\n",
    "C = [850,860,870,880,890,900,910,920,930,940,950]\n",
    "fit_intercept = [False,True]\n",
    "solver = ['saga']\n",
    "l1_ratio = [0,0.1,0.5,0.9,1]\n",
    "\n",
    "#penalty = ['elasticnet']\n",
    "#C = [1.1,1.2,1.3,1.4,1.5,1.6,1.7,1.8,1.9,3]\n",
    "#fit_intercept = [True]\n",
    "#solver = ['saga']\n",
    "#l1_ratio = [0,0.1]\n",
    "\n",
    "#penalty = ['elasticnet']\n",
    "#C = [4,5,6,7,8,9]\n",
    "#fit_intercept = [False,True]\n",
    "#solver = ['saga']\n",
    "#l1_ratio = [0,0.1]\n",
    "\n",
    "#penalty = ['elasticnet']\n",
    "#C = [2.2,2.4,2.6,2.8,3.2,3.4,3.6,3.8]\n",
    "#fit_intercept = [False,True]\n",
    "#solver = ['saga']\n",
    "#l1_ratio = [0,0.1]\n",
    "\n",
    "\n",
    "#Repete os experimentos 30x\n",
    "for i in range(30):   \n",
    "    \n",
    "    #Holdout:\n",
    "    X_train, X_, y_train, y_ = train_test_split(X, y, test_size=0.3, random_state=i, stratify=y)\n",
    "        \n",
    "    #Validação cruzada com 10 kfolds\n",
    "    kfold = KFold(n_splits = 10, shuffle = True, random_state = i)\n",
    "    \n",
    "    print(\"Fazendo gridsearch - Repeticao %s\" % (i+1))\n",
    "    \n",
    "    \n",
    "    # itera sobre parametro 1:\n",
    "    for k in penalty:\n",
    "\n",
    "        \n",
    "        # itera sobre parametro 2:\n",
    "        for u in C:\n",
    "            \n",
    "            #itera sobre o parametro 3:\n",
    "            for w in fit_intercept:\n",
    "                \n",
    "                #itera sobre parametro 4\n",
    "                for v in solver:\n",
    "                    \n",
    "                    #itera sobre o parametro 5:\n",
    "                    for x in l1_ratio:\n",
    "                    \n",
    "              \n",
    "                        gs = GridSearchCV(\n",
    "                            LogisticRegression(random_state=i) ,\n",
    "                            param_grid={\"penalty\": [k], \n",
    "                                        \"C\":[u],\n",
    "                                        \"fit_intercept\":[w],\n",
    "                                        \"solver\":[v],\n",
    "                                        \"l1_ratio\":[x]}, \n",
    "                            scoring=scoring,\n",
    "                            refit=\"bacuracy\",\n",
    "                            n_jobs=2,\n",
    "                            return_train_score=True,\n",
    "                            cv = kfold\n",
    "                                )\n",
    "\n",
    "                        #Treinando o modelo com dados de treino c/ 9 folds e utilizando 1 fold para teste\n",
    "                        gs.fit(X_train, y_train)\n",
    "\n",
    "                        #Melhores resultados e hiperparâmetros encontrados\n",
    "                        acuracy_treino = gs.best_score_\n",
    "                        #hyperparams = gs.best_params_\n",
    "\n",
    "                        ##Predizendo as classes nos dados de teste e todos dados, utilizando os melhores parâmetros\n",
    "                        y_test_pred = gs.predict(X_test)\n",
    "                        #y_test_pred_todos = gs.predict(X_todos)\n",
    "\n",
    "                        #Calculando acurácia \n",
    "                        accuracy_teste = accuracy_score(y_test, y_test_pred)\n",
    "                        #accuracy_todos = accuracy_score(y_todos, y_test_pred_todos)\n",
    "\n",
    "                        #calculando f1_score da classe 1\n",
    "                        f1_teste = f1_score(y_test, y_test_pred)\n",
    "                        #f1_todos = f1_score(y_todos, y_test_pred_todos)\n",
    "\n",
    "                        #calculando área sobre a curva ROC_AUC:\n",
    "                        auc_teste = roc_auc_score(y_test, y_test_pred)\n",
    "                        #auc_todos = roc_auc_score(y_todos, y_test_pred_todos)\n",
    "\n",
    "                        #Calculando Recall clase 1\n",
    "                        rec0_teste = recall_score(y_test, y_test_pred, pos_label=0)\n",
    "                        rec1_teste = recall_score(y_test, y_test_pred, pos_label=1)\n",
    "\n",
    "                        #rec0_todos = recall_score(y_todos, y_test_pred_todos, pos_label=0)\n",
    "                        #rec1_todos = recall_score(y_todos, y_test_pred_todos, pos_label=1)\n",
    "\n",
    "                        #Calculando a acurácia balanceada\n",
    "                        accuracy_teste_balanced = balanced_accuracy_score(y_test, y_test_pred)\n",
    "\n",
    "                        # Adicionando todos resultados em uma única lista\n",
    "                        resultados_ratio.append(np.array([i,k,u,w,v,x,acuracy_treino,accuracy_teste,accuracy_teste_balanced,rec0_teste,rec1_teste,f1_teste,auc_teste]))\n"
   ]
  },
  {
   "cell_type": "code",
   "execution_count": null,
   "metadata": {},
   "outputs": [],
   "source": [
    "resultados_df_ratio = pd.DataFrame(np.array(resultados_ratio), columns=['repeticao','penalty','C','fit_intercept','solver','l1_ratio','acuracy_treino','acuracia_teste','acuracia_balanceada_teste','rec_0_teste','rec_1_teste','f1_teste','auc_teste'])\n",
    "resultados_df_ratio['auc_teste'] = resultados_df_ratio['auc_teste'].astype(float, errors = 'raise')\n",
    "resultados_df_ratio.astype({ 'penalty': 'str', 'C': 'str','fit_intercept': 'str','solver':'str','l1_ratio':'str','acuracy_treino': 'float','acuracia_teste': 'float','acuracia_balanceada_teste': 'float','rec_0_teste': 'float','rec_1_teste': 'float','f1_teste': 'float','auc_teste': 'float' }).groupby(['penalty','C','fit_intercept','solver','l1_ratio']).agg({'acuracy_treino':np.mean, 'acuracia_teste':np.mean, 'acuracia_balanceada_teste':np.mean, 'rec_0_teste':np.mean, 'rec_1_teste':np.mean, 'f1_teste':np.mean, 'auc_teste':np.mean}).sort_values(by='auc_teste', ascending=False).head(50)\n"
   ]
  },
  {
   "cell_type": "code",
   "execution_count": null,
   "metadata": {},
   "outputs": [],
   "source": [
    "resultados = []"
   ]
  },
  {
   "cell_type": "code",
   "execution_count": null,
   "metadata": {},
   "outputs": [],
   "source": [
    "treinar_ate_data_str = '2022-03-29'\n",
    "\n",
    "## Dados de treino (até a data definida por treinar_ate_data_str)\n",
    "X = df_final99[(df_final99['Date'] <= parser.parse(treinar_ate_data_str))][['score','neu_robd4','neg_finbertd2','scored3']]\n",
    "y = df_final99[(df_final99['Date'] <= parser.parse(treinar_ate_data_str))][['Fechamento']]\n",
    "\n",
    "X_train = X\n",
    "y_train = y\n",
    "\n",
    "## Dados de teste (a partir da data definida por treinar_ate_data_str)\n",
    "X_test = df_final99[(df_final99['Date'] > parser.parse(treinar_ate_data_str))][['score','neu_robd4','neg_finbertd2','scored3']]\n",
    "y_test = df_final99[(df_final99['Date'] > parser.parse(treinar_ate_data_str))][['Fechamento']]\n",
    "\n",
    "#penalty = ['l2','none']\n",
    "#C = [0.1,1,2]\n",
    "#fit_intercept = [False,True]\n",
    "#solver = ['newton-cg','lbfgs', 'sag','saga']\n",
    "\n",
    "#penalty = ['l2','none']\n",
    "#C = [1.5,3,5,10]\n",
    "#fit_intercept = [False,True]\n",
    "#solver = ['newton-cg','lbfgs', 'sag','saga']\n",
    "\n",
    "penalty = ['none']\n",
    "C = [1,1.2,1.4,1.6,1.8,2.2,2.4,2.6,2.8]\n",
    "fit_intercept = [True]\n",
    "solver = ['newton-cg','lbfgs']\n",
    "\n",
    "\n",
    "\n",
    "#Repete os experimentos 30x\n",
    "for i in range(30):   \n",
    "    \n",
    "    #Holdout:\n",
    "    X_train, X_, y_train, y_ = train_test_split(X, y, test_size=0.3, random_state=i, stratify=y)\n",
    "        \n",
    "    #Validação cruzada com 10 kfolds\n",
    "    kfold = KFold(n_splits = 10, shuffle = True, random_state = i)\n",
    "    \n",
    "    print(\"Fazendo gridsearch - Repeticao %s\" % (i+1))\n",
    "    \n",
    "    \n",
    "    # itera sobre parametro 1:\n",
    "    for k in penalty:\n",
    "\n",
    "        \n",
    "        # itera sobre parametro 2:\n",
    "        for u in C:\n",
    "            \n",
    "            #itera sobre o parametro 3:\n",
    "            for w in fit_intercept:\n",
    "                \n",
    "                #itera sobre parametro 4\n",
    "                for v in solver:\n",
    "                    \n",
    "              \n",
    "                    gs = GridSearchCV(\n",
    "                        LogisticRegression(random_state=i) ,\n",
    "                        param_grid={\"penalty\": [k], \n",
    "                                    \"C\":[u],\n",
    "                                    \"fit_intercept\":[w],\n",
    "                                    \"solver\":[v]}, \n",
    "                        scoring=scoring,\n",
    "                        refit=\"bacuracy\",\n",
    "                        n_jobs=2,\n",
    "                        return_train_score=True,\n",
    "                        cv = kfold\n",
    "                            )\n",
    "\n",
    "                    #Treinando o modelo com dados de treino c/ 9 folds e utilizando 1 fold para teste\n",
    "                    gs.fit(X_train, y_train)\n",
    "\n",
    "                    #Melhores resultados e hiperparâmetros encontrados\n",
    "                    acuracy_treino = gs.best_score_\n",
    "                    #hyperparams = gs.best_params_\n",
    "\n",
    "                    ##Predizendo as classes nos dados de teste e todos dados, utilizando os melhores parâmetros\n",
    "                    y_test_pred = gs.predict(X_test)\n",
    "                    #y_test_pred_todos = gs.predict(X_todos)\n",
    "\n",
    "                    #Calculando acurácia \n",
    "                    accuracy_teste = accuracy_score(y_test, y_test_pred)\n",
    "                    #accuracy_todos = accuracy_score(y_todos, y_test_pred_todos)\n",
    "\n",
    "                    #calculando f1_score da classe 1\n",
    "                    f1_teste = f1_score(y_test, y_test_pred)\n",
    "                    #f1_todos = f1_score(y_todos, y_test_pred_todos)\n",
    "\n",
    "                    #calculando área sobre a curva ROC_AUC:\n",
    "                    auc_teste = roc_auc_score(y_test, y_test_pred)\n",
    "                    #auc_todos = roc_auc_score(y_todos, y_test_pred_todos)\n",
    "\n",
    "                    #Calculando Recall clase 1\n",
    "                    rec0_teste = recall_score(y_test, y_test_pred, pos_label=0)\n",
    "                    rec1_teste = recall_score(y_test, y_test_pred, pos_label=1)\n",
    "\n",
    "                    #rec0_todos = recall_score(y_todos, y_test_pred_todos, pos_label=0)\n",
    "                    #rec1_todos = recall_score(y_todos, y_test_pred_todos, pos_label=1)\n",
    "\n",
    "                    #Calculando a acurácia balanceada\n",
    "                    accuracy_teste_balanced = balanced_accuracy_score(y_test, y_test_pred)\n",
    "\n",
    "                    # Adicionando todos resultados em uma única lista\n",
    "                    resultados.append(np.array([i,k,u,w,v,acuracy_treino,accuracy_teste,accuracy_teste_balanced,rec0_teste,rec1_teste,f1_teste,auc_teste]))\n"
   ]
  },
  {
   "cell_type": "code",
   "execution_count": null,
   "metadata": {},
   "outputs": [],
   "source": [
    "resultados_df = pd.DataFrame(np.array(resultados), columns=['repeticao','penalty','C','fit_intercept','solver','acuracy_treino','acuracia_teste','acuracia_balanceada_teste','rec_0_teste','rec_1_teste','f1_teste','auc_teste'])\n",
    "resultados_df['auc_teste'] = resultados_df['auc_teste'].astype(float, errors = 'raise')\n",
    "resultados_df.astype({ 'penalty': 'str', 'C': 'str','fit_intercept': 'str','solver':'str','acuracy_treino': 'float','acuracia_teste': 'float','acuracia_balanceada_teste': 'float','rec_0_teste': 'float','rec_1_teste': 'float','f1_teste': 'float','auc_teste': 'float' }).groupby(['penalty','C','fit_intercept','solver']).agg({'acuracy_treino':np.mean, 'acuracia_teste':np.mean, 'acuracia_balanceada_teste':np.mean, 'rec_0_teste':np.mean, 'rec_1_teste':np.mean, 'f1_teste':np.mean, 'auc_teste':np.mean}).sort_values(by='auc_teste', ascending=False).head(50)\n"
   ]
  },
  {
   "cell_type": "code",
   "execution_count": null,
   "metadata": {},
   "outputs": [],
   "source": [
    "## Dados de treino (até a data definida por treinar_ate_data_str)\n",
    "X = df_final99[(df_final99['Date'] <= parser.parse(treinar_ate_data_str))][['score','neu_robd4','neg_finbertd2','scored3']]\n",
    "y = df_final99[(df_final99['Date'] <= parser.parse(treinar_ate_data_str))][['Fechamento']]\n",
    "\n",
    "X_train = X\n",
    "y_train = y \n",
    "\n",
    "logreg = LogisticRegression(penalty= 'l1', C=28, fit_intercept=True, solver = 'liblinear')\n",
    "logreg.fit(X_train,y_train)"
   ]
  },
  {
   "cell_type": "code",
   "execution_count": null,
   "metadata": {},
   "outputs": [],
   "source": [
    "#Predizendo y\n",
    "y_pred = logreg.predict(X_test)\n",
    "\n",
    "#Relatórios e matriz de confusao\n",
    "print(\"Classification Report Dados:\\n\",classification_report(y_test,y_pred))\n",
    "print(\"\")\n",
    "print(\"Confusion Matrix Dados de Producao:\\n\",confusion_matrix(y_test,y_pred))\n",
    "print(\"\")\n",
    "\n",
    "#Calculando o recall\n",
    "recall_0 = recall_score(y_test, y_pred, pos_label=0)\n",
    "recall_1 = recall_score(y_test, y_pred, pos_label=1)\n",
    "\n",
    "#Calculando acurácia \n",
    "accuracy = accuracy_score(y_test, y_pred)\n",
    "\n",
    "#Calculando acurácia balanceada\n",
    "accuracy_balanced = balanced_accuracy_score(y_test, y_pred)\n",
    "\n",
    "#calculando f1_score\n",
    "f1_0 = f1_score(y_test, y_pred,pos_label=0)\n",
    "f1_1 = f1_score(y_test, y_pred,pos_label=1)\n",
    "\n",
    "#Calculando AUC\n",
    "auc = roc_auc_score(y_test, y_pred)\n",
    "\n",
    "print(\"Recall_0: %s\" % (recall_0))\n",
    "print(\"Recall_1: %s\" % (recall_1))\n",
    "print(\"Acuracia: %s\" % (accuracy))\n",
    "print(\"Acuracia Balanceada: %s\" % (accuracy_balanced))\n",
    "print(\"F1_Score_0: %s\" % (f1_0))\n",
    "print(\"F1_Score_1: %s\" % (f1_1))\n",
    "print(\"AUC: %s\" % (auc))"
   ]
  }
 ],
 "metadata": {
  "colab": {
   "collapsed_sections": [
    "GLQVL39etxA7",
    "w1XbpuI2txBD",
    "uVhYASlKtxBE",
    "kA8xUq80txBG",
    "WvunB2T2txBH",
    "yaZKt1aQtxBH",
    "o0FDRw9otxBI",
    "4Ps-TQJZtxBK",
    "Hvi7sE4mtxBK",
    "EnI0cgNDtxBL",
    "O2JRt_catxBL",
    "0t2vvLQstxBM",
    "WFxO_oNltxBN",
    "MR3swdq4txBO",
    "C6yWLR4StxBO",
    "BQF6Nd4NtxBW",
    "oqvY9hq6txBW",
    "O_VKfbbptxBX",
    "Q2aQq_0ZtxBY",
    "mmSDP734txBZ",
    "EVKPJo8KtxBZ",
    "gHYaLzzAtxBa",
    "u4_fMM9otxBa",
    "UMDvNtcitxBb",
    "TAmsdvUwtxBd",
    "mR1zw3eJtxBe",
    "F4t54GmWtxBf",
    "I-i7Chs1txBg",
    "DVLZJzx-txBh",
    "jSZ3ULpJtxBi",
    "c329l7BptxBj",
    "csFs7BZWtxBl",
    "NpEryjovtxBl",
    "UXo3Ahr0txBp",
    "aX2TRyThtxBr",
    "aIHcMoYXtxBt",
    "0bP1g5m0txBu",
    "7qGStQbAtxBw",
    "kI0uCb6ttxBz",
    "YvVsjbrptxB4",
    "AUrsC36KtxB-",
    "Gji2KE9ntxCB",
    "VIn0WCHTtxCC",
    "fZ134YHCtxCD",
    "d9p5fXTGtxCE",
    "MIeCms0NtxCF"
   ],
   "name": " Experimentos_+_EDA_(5).ipynb",
   "provenance": []
  },
  "kernelspec": {
   "display_name": "Python 3",
   "language": "python",
   "name": "python3"
  },
  "language_info": {
   "codemirror_mode": {
    "name": "ipython",
    "version": 3
   },
   "file_extension": ".py",
   "mimetype": "text/x-python",
   "name": "python",
   "nbconvert_exporter": "python",
   "pygments_lexer": "ipython3",
   "version": "3.8.3"
  }
 },
 "nbformat": 4,
 "nbformat_minor": 1
}
