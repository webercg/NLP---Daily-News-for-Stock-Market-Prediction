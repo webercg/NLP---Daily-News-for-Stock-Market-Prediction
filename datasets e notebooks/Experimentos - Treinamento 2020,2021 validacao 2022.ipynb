{
 "cells": [
  {
   "cell_type": "markdown",
   "metadata": {
    "id": "view-in-github"
   },
   "source": [
    "<a href=\"https://colab.research.google.com/github/webercg/NLP---Daily-News-for-Stock-Market-Prediction/blob/main/Experimentos_%2B_EDA_(5).ipynb\" target=\"_parent\"><img src=\"https://colab.research.google.com/assets/colab-badge.svg\" alt=\"Open In Colab\"/></a>"
   ]
  },
  {
   "cell_type": "markdown",
   "metadata": {
    "id": "2aMeKxD1txAj"
   },
   "source": [
    "# 1.0 Importação de bibliotecas"
   ]
  },
  {
   "cell_type": "code",
   "execution_count": 1,
   "metadata": {
    "id": "PN29buKktxAm"
   },
   "outputs": [
    {
     "name": "stderr",
     "output_type": "stream",
     "text": [
      "C:\\Users\\HP ZBook 15\\AppData\\Roaming\\Python\\Python38\\site-packages\\sklearn\\utils\\deprecation.py:143: FutureWarning: The sklearn.utils.testing module is  deprecated in version 0.22 and will be removed in version 0.24. The corresponding classes / functions should instead be imported from sklearn.utils. Anything that cannot be imported from sklearn.utils is now part of the private API.\n",
      "  warnings.warn(message, FutureWarning)\n"
     ]
    }
   ],
   "source": [
    "#Manipulação de dados\n",
    "import pandas as pd\n",
    "import numpy as np\n",
    "\n",
    "#Visualização de dados\n",
    "import seaborn as sns\n",
    "import matplotlib.pyplot as plt\n",
    "\n",
    "#Manipulação datas\n",
    "from datetime import datetime\n",
    "\n",
    "# Prototipação\n",
    "from lazypredict.Supervised import LazyClassifier\n",
    "\n",
    "\n",
    "#Pipeline e pré-process\n",
    "from imblearn.pipeline import Pipeline\n",
    "from sklearn.model_selection import train_test_split\n",
    "from imblearn.under_sampling import NearMiss\n",
    "from imblearn.over_sampling import SMOTE\n",
    "from sklearn.decomposition import PCA\n",
    "from sklearn.preprocessing import StandardScaler\n",
    "\n",
    "\n",
    "#Models\n",
    "from sklearn.naive_bayes import GaussianNB\n",
    "from sklearn.naive_bayes import BernoulliNB\n",
    "from sklearn.linear_model import PassiveAggressiveClassifier\n",
    "from sklearn.discriminant_analysis import QuadraticDiscriminantAnalysis\n",
    "from lightgbm import LGBMClassifier\n",
    "from sklearn.ensemble import RandomForestClassifier\n",
    "from sklearn.neighbors import NearestCentroid\n",
    "from sklearn.svm import NuSVC\n",
    "from xgboost import XGBClassifier\n",
    "from sklearn.linear_model import SGDClassifier\n",
    "from sklearn.linear_model import Perceptron\n",
    "from sklearn.tree import DecisionTreeClassifier\n",
    "from sklearn.neural_network import MLPClassifier \n",
    "from sklearn.neighbors import KNeighborsClassifier\n",
    "from sklearn.svm import SVC\n",
    "from sklearn.discriminant_analysis import LinearDiscriminantAnalysis\n",
    "from sklearn.linear_model import RidgeClassifier\n",
    "from sklearn.svm import LinearSVC\n",
    "from sklearn.linear_model import RidgeClassifierCV\n",
    "from sklearn.linear_model import LogisticRegression\n",
    "from sklearn.tree import ExtraTreeClassifier\n",
    "\n",
    "#Model Tunning\n",
    "from sklearn.model_selection import GridSearchCV\n",
    "\n",
    "#Model evaluation\n",
    "from sklearn.metrics import make_scorer\n",
    "from sklearn.metrics import f1_score\n",
    "from sklearn.metrics import accuracy_score\n",
    "from sklearn.metrics import recall_score\n",
    "from sklearn.metrics import roc_auc_score\n",
    "from sklearn.metrics import balanced_accuracy_score\n",
    "from sklearn.model_selection import cross_val_score, KFold\n",
    "from sklearn.metrics import accuracy_score, classification_report, confusion_matrix"
   ]
  },
  {
   "cell_type": "markdown",
   "metadata": {},
   "source": [
    "# 2.0 Gerando dataframes"
   ]
  },
  {
   "cell_type": "markdown",
   "metadata": {},
   "source": [
    "### Preparando dataframe e gerando features Sentilex"
   ]
  },
  {
   "cell_type": "code",
   "execution_count": 2,
   "metadata": {},
   "outputs": [],
   "source": [
    "from dateutil import parser"
   ]
  },
  {
   "cell_type": "code",
   "execution_count": 3,
   "metadata": {},
   "outputs": [
    {
     "data": {
      "text/html": [
       "<div>\n",
       "<style scoped>\n",
       "    .dataframe tbody tr th:only-of-type {\n",
       "        vertical-align: middle;\n",
       "    }\n",
       "\n",
       "    .dataframe tbody tr th {\n",
       "        vertical-align: top;\n",
       "    }\n",
       "\n",
       "    .dataframe thead th {\n",
       "        text-align: right;\n",
       "    }\n",
       "</style>\n",
       "<table border=\"1\" class=\"dataframe\">\n",
       "  <thead>\n",
       "    <tr style=\"text-align: right;\">\n",
       "      <th></th>\n",
       "      <th>Date</th>\n",
       "      <th>Adj Close</th>\n",
       "      <th>Volume</th>\n",
       "      <th>Var%</th>\n",
       "      <th>Fechamento</th>\n",
       "      <th>Noticias</th>\n",
       "      <th>score</th>\n",
       "    </tr>\n",
       "  </thead>\n",
       "  <tbody>\n",
       "    <tr>\n",
       "      <th>0</th>\n",
       "      <td>2020-01-02</td>\n",
       "      <td>20.47</td>\n",
       "      <td>37774500</td>\n",
       "      <td>0.02</td>\n",
       "      <td>1</td>\n",
       "      <td>petrobras e vale retiram seus funcionários de...</td>\n",
       "      <td>0</td>\n",
       "    </tr>\n",
       "    <tr>\n",
       "      <th>1</th>\n",
       "      <td>2020-01-03</td>\n",
       "      <td>20.30</td>\n",
       "      <td>71595600</td>\n",
       "      <td>-0.01</td>\n",
       "      <td>0</td>\n",
       "      <td>petrobras reduz preços do diesel e da gasolin...</td>\n",
       "      <td>0</td>\n",
       "    </tr>\n",
       "    <tr>\n",
       "      <th>2</th>\n",
       "      <td>2020-01-06</td>\n",
       "      <td>20.54</td>\n",
       "      <td>81844000</td>\n",
       "      <td>0.01</td>\n",
       "      <td>1</td>\n",
       "      <td>petrobras faz redução em produção de petróle...</td>\n",
       "      <td>1</td>\n",
       "    </tr>\n",
       "    <tr>\n",
       "      <th>3</th>\n",
       "      <td>2020-01-07</td>\n",
       "      <td>20.46</td>\n",
       "      <td>32822000</td>\n",
       "      <td>-0.00</td>\n",
       "      <td>0</td>\n",
       "      <td>o adeus da petrobras ao amazonas petrobras vê...</td>\n",
       "      <td>-2</td>\n",
       "    </tr>\n",
       "    <tr>\n",
       "      <th>5</th>\n",
       "      <td>2020-01-09</td>\n",
       "      <td>20.27</td>\n",
       "      <td>36102700</td>\n",
       "      <td>-0.00</td>\n",
       "      <td>0</td>\n",
       "      <td>refinarias da petrobras apresentam queda na c...</td>\n",
       "      <td>-1</td>\n",
       "    </tr>\n",
       "    <tr>\n",
       "      <th>...</th>\n",
       "      <td>...</td>\n",
       "      <td>...</td>\n",
       "      <td>...</td>\n",
       "      <td>...</td>\n",
       "      <td>...</td>\n",
       "      <td>...</td>\n",
       "      <td>...</td>\n",
       "    </tr>\n",
       "    <tr>\n",
       "      <th>595</th>\n",
       "      <td>2022-05-27</td>\n",
       "      <td>30.60</td>\n",
       "      <td>118295600</td>\n",
       "      <td>-0.05</td>\n",
       "      <td>0</td>\n",
       "      <td>bolsonaro defende direito de mudar ceo da pet...</td>\n",
       "      <td>6</td>\n",
       "    </tr>\n",
       "    <tr>\n",
       "      <th>596</th>\n",
       "      <td>2022-05-30</td>\n",
       "      <td>29.99</td>\n",
       "      <td>98110100</td>\n",
       "      <td>-0.02</td>\n",
       "      <td>0</td>\n",
       "      <td>lira sugere que governo venda ações da petro...</td>\n",
       "      <td>-1</td>\n",
       "    </tr>\n",
       "    <tr>\n",
       "      <th>597</th>\n",
       "      <td>2022-05-31</td>\n",
       "      <td>30.06</td>\n",
       "      <td>83598000</td>\n",
       "      <td>0.00</td>\n",
       "      <td>1</td>\n",
       "      <td>bolsonaro diz que quer fatiar a petrobras bol...</td>\n",
       "      <td>4</td>\n",
       "    </tr>\n",
       "    <tr>\n",
       "      <th>598</th>\n",
       "      <td>2022-06-01</td>\n",
       "      <td>30.02</td>\n",
       "      <td>46353200</td>\n",
       "      <td>-0.00</td>\n",
       "      <td>0</td>\n",
       "      <td>petrobras diz que oferta de ações da braskem ...</td>\n",
       "      <td>3</td>\n",
       "    </tr>\n",
       "    <tr>\n",
       "      <th>601</th>\n",
       "      <td>2022-06-06</td>\n",
       "      <td>30.30</td>\n",
       "      <td>39213900</td>\n",
       "      <td>0.00</td>\n",
       "      <td>1</td>\n",
       "      <td>governo indica josé mauro ferreira coelho pa...</td>\n",
       "      <td>3</td>\n",
       "    </tr>\n",
       "  </tbody>\n",
       "</table>\n",
       "<p>524 rows × 7 columns</p>\n",
       "</div>"
      ],
      "text/plain": [
       "          Date  Adj Close     Volume  Var%  Fechamento  \\\n",
       "0   2020-01-02      20.47   37774500  0.02           1   \n",
       "1   2020-01-03      20.30   71595600 -0.01           0   \n",
       "2   2020-01-06      20.54   81844000  0.01           1   \n",
       "3   2020-01-07      20.46   32822000 -0.00           0   \n",
       "5   2020-01-09      20.27   36102700 -0.00           0   \n",
       "..         ...        ...        ...   ...         ...   \n",
       "595 2022-05-27      30.60  118295600 -0.05           0   \n",
       "596 2022-05-30      29.99   98110100 -0.02           0   \n",
       "597 2022-05-31      30.06   83598000  0.00           1   \n",
       "598 2022-06-01      30.02   46353200 -0.00           0   \n",
       "601 2022-06-06      30.30   39213900  0.00           1   \n",
       "\n",
       "                                              Noticias  score  \n",
       "0     petrobras e vale retiram seus funcionários de...      0  \n",
       "1     petrobras reduz preços do diesel e da gasolin...      0  \n",
       "2      petrobras faz redução em produção de petróle...      1  \n",
       "3     o adeus da petrobras ao amazonas petrobras vê...     -2  \n",
       "5     refinarias da petrobras apresentam queda na c...     -1  \n",
       "..                                                 ...    ...  \n",
       "595   bolsonaro defende direito de mudar ceo da pet...      6  \n",
       "596    lira sugere que governo venda ações da petro...     -1  \n",
       "597   bolsonaro diz que quer fatiar a petrobras bol...      4  \n",
       "598   petrobras diz que oferta de ações da braskem ...      3  \n",
       "601    governo indica josé mauro ferreira coelho pa...      3  \n",
       "\n",
       "[524 rows x 7 columns]"
      ]
     },
     "execution_count": 3,
     "metadata": {},
     "output_type": "execute_result"
    }
   ],
   "source": [
    "dicionario_mes_2021 = {'Jan':'01', 'Fev':'02', 'Mar':'03','Abr':'04', 'Mai':'05', 'Jun':'06','Jul':'07', 'Ago':'08', 'Set':'09','Out':'10', 'Nov':'11', 'Dec':'12'}\n",
    "dicionario_mes_2020 = {'Jan':'01', 'Fev':'02', 'Mar':'03','Abr':'04', 'Mai':'05', 'Jun':'06','Jul':'07', 'Ago':'08', 'Set':'09','Out':'10', 'Nov':'11', 'Dez':'12'}\n",
    "dicionario_mes_2022 = {'Jan':'01', 'Fev':'02', 'Mar':'03','Abr':'04', 'Mai':'05', 'Jun':'06'}\n",
    "\n",
    "df = pd.DataFrame()\n",
    "\n",
    "for i in dicionario_mes_2020.keys():\n",
    "    arquivo = \"dataset-2020/\" + dicionario_mes_2020[i] + \"_GoogleNews_Petr_\" + i + \"-2020.csv\"\n",
    "    df_leitura = pd.read_csv(arquivo, sep='|')\n",
    "    df = df.append(df_leitura,ignore_index=True)\n",
    "\n",
    "for i in dicionario_mes_2021.keys():\n",
    "    arquivo = \"dataset-2021/\" + dicionario_mes_2021[i] + \"_GoogleNews_Petr_\" + i + \"_21.csv\"\n",
    "    df_leitura = pd.read_csv(arquivo, sep='|')\n",
    "    df = df.append(df_leitura,ignore_index=True)\n",
    "\n",
    "\n",
    "for i in dicionario_mes_2022.keys():\n",
    "    arquivo = \"dataset-2022/\" + dicionario_mes_2022[i] + \"_GoogleNews_Petr_\" + i + \"_22.csv\"\n",
    "    df_leitura = pd.read_csv(arquivo, sep='|')\n",
    "    df = df.append(df_leitura,ignore_index=True)\n",
    "\n",
    "#Transformando coluna data para datetime:\n",
    "df['date'] = pd.to_datetime(df['date'])\n",
    "\n",
    "## Filtrando para pegar apenas os 3 primeiros meses de 2022\n",
    "#df = df[(df['date'] <= parser.parse('2022-03-31'))]\n",
    "\n",
    "\n",
    "## Lendo pregoes\n",
    "df_petro = pd.read_csv('dataset-2021/Hist_Preço_Petr_2021_.csv', sep='|')\n",
    "df_petro_2020 = pd.read_csv('dataset-2020/Hist_Preço_Petr_2020_.csv', sep='|')\n",
    "df_petro_2022 = pd.read_csv('dataset-2022/Hist_Preço_Petr_2022_.csv', sep='|')\n",
    "df_petro = df_petro_2020.append(df_petro,ignore_index=True)\n",
    "df_petro = df_petro.append(df_petro_2022,ignore_index=True)\n",
    "\n",
    "\n",
    "\n",
    "#Transformando a coluna Date para datetime\n",
    "df_petro['Date'] = pd.to_datetime(df_petro['Date'])\n",
    "\n",
    "\n",
    "from datetime import datetime\n",
    "\n",
    "## Gerando uma lista com todos os dias:\n",
    "start_date = '01/01/2020'\n",
    "end_date = '31/12/2022'\n",
    "\n",
    "#Transformando para o padrão inglês\n",
    "start_date = datetime.strptime(start_date, '%d/%m/%Y').strftime('%m-%d-%Y')\n",
    "end_date = datetime.strptime(end_date, '%d/%m/%Y').strftime('%m-%d-%Y')\n",
    "\n",
    "#Gerando a lista com todas as datas\n",
    "todas_datas = pd.date_range(start=start_date, end=end_date, freq = '1D')\n",
    "todas_datas = [i.strftime(\"%d/%m/%Y\") for i in todas_datas ]\n",
    "\n",
    "\n",
    "##Datas\n",
    "datas = df.date.value_counts()  \n",
    "data_df = datas.reset_index()\n",
    "data_df\n",
    "data_df['index'] = pd.to_datetime(data_df['index'])\n",
    "data_df.columns = ['Datas', 'Num_Noticias']\n",
    "data_df['Mes'] = data_df['Datas'].dt.month\n",
    "\n",
    "#Gerando lista com todas as datas com noticias\n",
    "datas_com_noticias = [i.strftime(\"%d/%m/%Y\") for i in data_df['Datas'] ]\n",
    "\n",
    "#Gerando lista com todas as datas sem noticias em 2021\n",
    "datas_sem_noticias = [i for i in todas_datas if i not in datas_com_noticias]\n",
    "\n",
    "datas_com_pregao = [i.strftime(\"%d/%m/%Y\") for i in df_petro['Date'] ]\n",
    "datas_sem_pregao = [i for i in todas_datas if i not in datas_com_pregao]\n",
    "\n",
    "\n",
    "\n",
    "\n",
    "df['title'] = df['title'].apply(lambda x: x.lower())\n",
    "df['title'] = df['title'].apply(lambda x: \"\" if \"petrobras\" not in x else x)\n",
    "df = df[(df['title'] != \"\")]\n",
    "\n",
    "df_petro['Fechamento'] = df_petro['Var%'].apply(lambda x: 0 if x<0 else 1)\n",
    "\n",
    "\n",
    "\n",
    "\n",
    "lista_datas = []\n",
    "lista_news = []\n",
    "\n",
    "for i in df.date.unique():\n",
    "    news = \"\"\n",
    "    for row in df[(df['date']==i)].iterrows():\n",
    "        news = news + \" \" + row[1][0]\n",
    "    lista_news.append(news)\n",
    "    lista_datas.append(i)\n",
    "    \n",
    "    \n",
    "df_news_diaria = pd.DataFrame(list(zip(lista_datas,lista_news)),\n",
    "               columns =['Date', 'Noticias'])\n",
    "df_news_diaria.sort_values(by = 'Date', ascending = True, inplace = True)\n",
    "\n",
    "\n",
    "\n",
    "\n",
    "## Iterar sobre as datas dos pregões (iniciando pelo segundo dia do pregão de 2021 df_petro.Date.iloc[1:])\n",
    "\n",
    "## Calcular delta (diferença entre dias entre dois registros seguidos de pregões):\n",
    "import datetime\n",
    "\n",
    "df_news_sem_pregao = pd.DataFrame()\n",
    "timedelta_1dia = datetime.timedelta(days=1)\n",
    "\n",
    "lista_datas = []\n",
    "lista_noticias_sem_pregao = []\n",
    "\n",
    "for i, data in enumerate(df_petro.Date.iloc[1:]):\n",
    "    data_anterior = df_petro['Date'].iloc[i]  \n",
    "    delta = data - data_anterior\n",
    "\n",
    "    \n",
    "    # Se houver mais de 1 dia sem pregão:    \n",
    "    if delta > timedelta_1dia:\n",
    "            \n",
    "            \n",
    "        # Filtra as noticias entre as datas sem pregão:\n",
    "        df_aux = df_news_diaria[ (df_news_diaria['Date']> data_anterior) & (df_news_diaria['Date']<= data)  ]\n",
    "        \n",
    "        ## Concatena as noticias das datas sem pregão\n",
    "        news = \"\"\n",
    "        for row in df_aux.iterrows():\n",
    "            news = news + \" \" + row[1][1]\n",
    "\n",
    "\n",
    "        ## Armazena as noticias e data do ultimo pregão valido em listas\n",
    "        lista_noticias_sem_pregao.append(news)\n",
    "        lista_datas.append(data)\n",
    "        \n",
    "        #Cria um dataframe auxiliar com a data do ultimo pregão e as noticias concatenadas dos dias sem pregões:\n",
    "        df_aux2 = pd.DataFrame(list(zip(lista_datas,lista_noticias_sem_pregao)),\n",
    "               columns =['Date', 'Noticias'])\n",
    "    \n",
    "        # Gera o dataframe com as noticias sem pregões + datas do ultimo pregão valido.\n",
    "        df_news_sem_pregao = df_news_sem_pregao.append(df_aux2, ignore_index = True)\n",
    "        \n",
    "        #Resetando as listas para geração de novo DF\n",
    "        lista_noticias_sem_pregao = []\n",
    "        lista_datas = []\n",
    "        \n",
    "\n",
    "df_news_diaria_atualizada = df_news_diaria.copy()\n",
    "\n",
    "# itera sobre os dias com pregão cujo noticias de dias anteriores foram concatenadas:\n",
    "for data in df_news_sem_pregao.Date.unique():\n",
    "    \n",
    "    #Filtra pelo dia com pregão que teve noticias concatenada\n",
    "    df_noticia_dias_sem_pregao = df_news_sem_pregao[(df_news_sem_pregao['Date']==data)]\n",
    "\n",
    "\n",
    "    #Checa se há registro referente a data no df de noticias\n",
    "    df_check_noticias = df_news_diaria_atualizada[(df_news_diaria_atualizada['Date']==data)]\n",
    "    \n",
    "    # Se não houver registros referente á data então o registro deverá ser criado no df de noticias:\n",
    "    # Se houver, então o registro será atualizado no df de noticias\n",
    "    \n",
    "    if len(df_check_noticias) > 0:\n",
    "        \n",
    "        #Substitui os registros\n",
    "        df_news_diaria_atualizada = df_news_diaria_atualizada.replace ((df_news_diaria_atualizada.loc[df_news_diaria_atualizada['Date'].isin(df_noticia_dias_sem_pregao['Date'])])['Noticias'].values, df_noticia_dias_sem_pregao['Noticias'].values)\n",
    "        \n",
    "    else:\n",
    "        #Insere o novo registro\n",
    "        df_news_diaria_atualizada = df_news_diaria_atualizada.append(df_noticia_dias_sem_pregao, ignore_index = True)\n",
    "        \n",
    "\n",
    "        \n",
    "df_final = pd.merge(left = df_petro, right = df_news_diaria_atualizada, how = 'left', on = 'Date')\n",
    "\n",
    "df_final = df_final.dropna()\n",
    "df_final = df_final[(df_final['Noticias'] != \"\")]\n",
    "\n",
    "\n",
    "\n",
    "#### Gerando features Sentilex\n",
    "\n",
    "\n",
    "sentilexpt = open('Versoes dicionarios sentilex/SentiLex-lem-PT01 editado v65_1.txt','r',encoding='utf-8-sig')\n",
    "\n",
    "dic_palavra_polaridade = {}\n",
    "for i in sentilexpt.readlines():\n",
    "    pos_ponto = i.find('.')            # obtem a posiçãodo caracter ponto\n",
    "    palavra = (i[:pos_ponto])          # Pega a palavra\n",
    "    pol_pos = i.find('POL')            # obtem a posição do inicio da string POL\n",
    "    polaridade = (i[pol_pos+4:pol_pos+6]).replace(';','')         # obtem a polaridade da palavra\n",
    "    #polaridade = (i[pol_pos+4:pol_pos+7]).replace(';','')\n",
    "    dic_palavra_polaridade[palavra] = polaridade                  # atualiza o dicionario com a palavra a polaridade\n",
    "    \n",
    "\n",
    "def Score_sentimento(frase):\n",
    "    frase = frase.lower()                     # coloca toda a frase em minusculo\n",
    "    l_sentimento = []                         # cria uma lista vazia\n",
    "    for p in frase.split():\n",
    "        l_sentimento.append(int(dic_palavra_polaridade.get(p, 0)))      # para cada palavra obtem a polaridade\n",
    "        #l_sentimento.append(float(dic_palavra_polaridade.get(p, 0)))      # para cada palavra obtem a polaridade     \n",
    "    #print (l_sentimento)                                                # imprime a lista de polaridades\n",
    "    score = sum(l_sentimento)                                           # soma todos os valores da lista\n",
    "    #if score > 0:\n",
    "        #return 'Positivo, Score:{}'.format(score)                       # se maior que 0 retorna 'positivo'\n",
    "    #elif score == 0:\n",
    "        #return 'Neutro, Score:{}'.format(score)                         # se igual a 0 retorna 'neutro'\n",
    "    #else:\n",
    "        #return 'Negativo, Score:{}'.format(score)                       # se menor que 0 retorna 'negativo'\n",
    "        \n",
    "    return score\n",
    "\n",
    "df_final2 = df_final.copy()\n",
    "\n",
    "df_final2['score'] = df_final2['Noticias'].apply(lambda x: Score_sentimento(x))\n",
    "df_final2\n",
    "\n"
   ]
  },
  {
   "cell_type": "markdown",
   "metadata": {},
   "source": [
    "### Traduzindo e gerando features Finbert e Roberta"
   ]
  },
  {
   "cell_type": "code",
   "execution_count": 4,
   "metadata": {},
   "outputs": [],
   "source": [
    "### Traduzindo noticias\n",
    "from googletrans import Translator\n",
    "trans = Translator()\n",
    "def traduzir(frase):\n",
    "    frase = frase.lower()                     # coloca toda a frase em minusculo\n",
    "    frase = trans.translate(frase, dest = 'en').text\n",
    "    return frase\n",
    "\n",
    "df_final3 = df_final.copy()\n",
    "df_final3['Noticias'] = df_final3['Noticias'].apply(lambda x: traduzir(x))\n",
    "\n",
    "#### Gerando features Roberta\n",
    "from transformers import AutoTokenizer\n",
    "from transformers import AutoModelForSequenceClassification\n",
    "from scipy.special import softmax\n",
    "MODEL = f\"cardiffnlp/twitter-roberta-base-sentiment\"\n",
    "tokenizer = AutoTokenizer.from_pretrained(MODEL)\n",
    "model = AutoModelForSequenceClassification.from_pretrained(MODEL)\n",
    "\n",
    "def neu_rob(frase):\n",
    "    #trunca a frase para 514 caracteres (máximo suportado pelo modelo de Roberta)\n",
    "    frase = frase[:514]\n",
    "    \n",
    "    encoded_text = tokenizer(frase, return_tensors='pt')\n",
    "    output = model(**encoded_text)\n",
    "    scores = output[0][0].detach().numpy()\n",
    "    scores = softmax(scores)\n",
    "\n",
    "    neg_roberta = scores[0]\n",
    "   # neu_roberta = scores[1]\n",
    "   # pos_roberta = scores[2]\n",
    "    return neg_roberta\n",
    "\n",
    "df_final4 = df_final.copy()\n",
    "df_final4['Noticias'] = df_final3['Noticias']\n",
    "df_final4['neu_rob'] = df_final4['Noticias'].apply(lambda x: neu_rob(str(x)))\n",
    "\n",
    "\n",
    "#### Gerando features Finbert\n",
    "\n",
    "#pip install transformers\n",
    "\n",
    "from transformers import BertTokenizer, BertForSequenceClassification\n",
    "from transformers import pipeline\n",
    "\n",
    "finbert = BertForSequenceClassification.from_pretrained('yiyanghkust/finbert-tone',num_labels=3)\n",
    "tokenizer = BertTokenizer.from_pretrained('yiyanghkust/finbert-tone')\n",
    "nlp = pipeline(\"sentiment-analysis\", model=finbert, tokenizer=tokenizer)\n",
    "\n",
    "df_bert = df_final.copy()\n",
    "df_bert['Noticias'] = df_final3['Noticias']\n",
    "\n",
    "def sentimento_finbert_neg(string):\n",
    "    results = nlp([string])\n",
    "    dict_results = results[0]\n",
    "    sentimento = dict_results.get('label')\n",
    "    \n",
    "    if sentimento == \"Negative\":\n",
    "        score = -1*dict_results.get('score')\n",
    "    else:\n",
    "        score = 0\n",
    "        \n",
    "    return score\n",
    "\n",
    "df_bert['neg_finbert'] = df_bert['Noticias'].apply(lambda x: sentimento_finbert_neg(x))"
   ]
  },
  {
   "cell_type": "markdown",
   "metadata": {},
   "source": [
    "### Gerando features de dias anteriores"
   ]
  },
  {
   "cell_type": "code",
   "execution_count": 38,
   "metadata": {},
   "outputs": [],
   "source": [
    "# Sentilex + Vader\n",
    "df_final8 = df_final3.merge(df_final2, how = 'left', on = ['Date', 'Adj Close', 'Volume', 'Var%', 'Fechamento'])\n",
    "# + Roberta\n",
    "df_final8 = df_final8.merge(df_final4, how = 'left', on = ['Date', 'Adj Close', 'Volume', 'Var%', 'Fechamento'])\n",
    "# +Finbert\n",
    "df_final8 = df_final8.merge(df_bert, how = 'left', on = ['Date', 'Adj Close', 'Volume', 'Var%', 'Fechamento'])\n",
    "\n",
    "\n",
    "df_final99 = df_final8.copy()\n",
    "\n",
    "features = ['score', 'neu_rob','neg_finbert']\n",
    "featuresd1 = [i + \"d1\" for i in features]\n",
    "featuresd2 = [i + \"d2\" for i in features]\n",
    "featuresd3 = [i + \"d3\" for i in features]\n",
    "featuresd4 = [i + \"d4\" for i in features]\n",
    "\n",
    "#Criando as colunas de features para d-1, d-2, d-3, d-4 e inicializando com valores zeros:\n",
    "for i in features:\n",
    "    df_final99[i+\"d1\"] = 0\n",
    "    df_final99[i+\"d2\"] = 0\n",
    "    df_final99[i+\"d3\"] = 0\n",
    "    df_final99[i+\"d4\"] = 0\n",
    "\n",
    "\n",
    "import itertools\n",
    "\n",
    "#atualiza as features de d-1\n",
    "for a,b in itertools.zip_longest(features,featuresd1):\n",
    "    df_final99[b] = df_final99.shift(periods=1)[a]\n",
    "    \n",
    "#atualiza as features de d-2\n",
    "for a,b in itertools.zip_longest(features,featuresd2):\n",
    "    df_final99[b] = df_final99.shift(periods=2)[a]\n",
    "    \n",
    "#atualiza as features de d-3\n",
    "for a,b in itertools.zip_longest(features,featuresd3):\n",
    "    df_final99[b] = df_final99.shift(periods=3)[a]\n",
    "    \n",
    "#atualiza as features de d-4\n",
    "for a,b in itertools.zip_longest(features,featuresd4):\n",
    "    df_final99[b] = df_final99.shift(periods=4)[a]\n",
    "\n",
    "\n",
    "df_final99 = df_final99.dropna()"
   ]
  },
  {
   "cell_type": "markdown",
   "metadata": {},
   "source": [
    "# 3.0 Retreinando todos modelos de ML e Ensemble dos experimentos anteriores"
   ]
  },
  {
   "cell_type": "markdown",
   "metadata": {},
   "source": [
    "## Treina e avalia sobre os dados de 2022"
   ]
  },
  {
   "cell_type": "code",
   "execution_count": 81,
   "metadata": {},
   "outputs": [
    {
     "data": {
      "text/html": [
       "<div>\n",
       "<style scoped>\n",
       "    .dataframe tbody tr th:only-of-type {\n",
       "        vertical-align: middle;\n",
       "    }\n",
       "\n",
       "    .dataframe tbody tr th {\n",
       "        vertical-align: top;\n",
       "    }\n",
       "\n",
       "    .dataframe thead th {\n",
       "        text-align: right;\n",
       "    }\n",
       "</style>\n",
       "<table border=\"1\" class=\"dataframe\">\n",
       "  <thead>\n",
       "    <tr style=\"text-align: right;\">\n",
       "      <th></th>\n",
       "      <th>Modelo</th>\n",
       "      <th>acuracia</th>\n",
       "      <th>acuracia_balanceada</th>\n",
       "      <th>recall_0</th>\n",
       "      <th>recall_1</th>\n",
       "      <th>f1_0</th>\n",
       "      <th>f1_1</th>\n",
       "      <th>auc</th>\n",
       "    </tr>\n",
       "  </thead>\n",
       "  <tbody>\n",
       "    <tr>\n",
       "      <th>10</th>\n",
       "      <td>lgbm</td>\n",
       "      <td>0.569620253164557</td>\n",
       "      <td>0.5699614890885751</td>\n",
       "      <td>0.5789473684210527</td>\n",
       "      <td>0.5609756097560976</td>\n",
       "      <td>0.5641025641025641</td>\n",
       "      <td>0.575</td>\n",
       "      <td>0.57</td>\n",
       "    </tr>\n",
       "    <tr>\n",
       "      <th>9</th>\n",
       "      <td>gaussiannb</td>\n",
       "      <td>0.569620253164557</td>\n",
       "      <td>0.5680359435173299</td>\n",
       "      <td>0.5263157894736842</td>\n",
       "      <td>0.6097560975609756</td>\n",
       "      <td>0.5405405405405405</td>\n",
       "      <td>0.5952380952380952</td>\n",
       "      <td>0.57</td>\n",
       "    </tr>\n",
       "    <tr>\n",
       "      <th>5</th>\n",
       "      <td>nearestcentroid</td>\n",
       "      <td>0.5569620253164557</td>\n",
       "      <td>0.5558408215661104</td>\n",
       "      <td>0.5263157894736842</td>\n",
       "      <td>0.5853658536585366</td>\n",
       "      <td>0.5333333333333333</td>\n",
       "      <td>0.5783132530120483</td>\n",
       "      <td>0.56</td>\n",
       "    </tr>\n",
       "    <tr>\n",
       "      <th>0</th>\n",
       "      <td>linearsvc</td>\n",
       "      <td>0.5443037974683544</td>\n",
       "      <td>0.5436456996148908</td>\n",
       "      <td>0.5263157894736842</td>\n",
       "      <td>0.5609756097560976</td>\n",
       "      <td>0.5263157894736842</td>\n",
       "      <td>0.5609756097560976</td>\n",
       "      <td>0.54</td>\n",
       "    </tr>\n",
       "    <tr>\n",
       "      <th>6</th>\n",
       "      <td>svc</td>\n",
       "      <td>0.5443037974683544</td>\n",
       "      <td>0.5436456996148908</td>\n",
       "      <td>0.5263157894736842</td>\n",
       "      <td>0.5609756097560976</td>\n",
       "      <td>0.5263157894736842</td>\n",
       "      <td>0.5609756097560976</td>\n",
       "      <td>0.54</td>\n",
       "    </tr>\n",
       "    <tr>\n",
       "      <th>8</th>\n",
       "      <td>bernoullinb</td>\n",
       "      <td>0.5443037974683544</td>\n",
       "      <td>0.5436456996148908</td>\n",
       "      <td>0.5263157894736842</td>\n",
       "      <td>0.5609756097560976</td>\n",
       "      <td>0.5263157894736842</td>\n",
       "      <td>0.5609756097560976</td>\n",
       "      <td>0.54</td>\n",
       "    </tr>\n",
       "    <tr>\n",
       "      <th>1</th>\n",
       "      <td>ridgecv</td>\n",
       "      <td>0.5443037974683544</td>\n",
       "      <td>0.5426829268292683</td>\n",
       "      <td>0.5</td>\n",
       "      <td>0.5853658536585366</td>\n",
       "      <td>0.5135135135135136</td>\n",
       "      <td>0.5714285714285714</td>\n",
       "      <td>0.54</td>\n",
       "    </tr>\n",
       "    <tr>\n",
       "      <th>2</th>\n",
       "      <td>logreg</td>\n",
       "      <td>0.5443037974683544</td>\n",
       "      <td>0.5426829268292683</td>\n",
       "      <td>0.5</td>\n",
       "      <td>0.5853658536585366</td>\n",
       "      <td>0.5135135135135136</td>\n",
       "      <td>0.5714285714285714</td>\n",
       "      <td>0.54</td>\n",
       "    </tr>\n",
       "    <tr>\n",
       "      <th>3</th>\n",
       "      <td>ridge</td>\n",
       "      <td>0.5443037974683544</td>\n",
       "      <td>0.5426829268292683</td>\n",
       "      <td>0.5</td>\n",
       "      <td>0.5853658536585366</td>\n",
       "      <td>0.5135135135135136</td>\n",
       "      <td>0.5714285714285714</td>\n",
       "      <td>0.54</td>\n",
       "    </tr>\n",
       "    <tr>\n",
       "      <th>4</th>\n",
       "      <td>ensemblevote</td>\n",
       "      <td>0.5443037974683544</td>\n",
       "      <td>0.5426829268292683</td>\n",
       "      <td>0.5</td>\n",
       "      <td>0.5853658536585366</td>\n",
       "      <td>0.5135135135135136</td>\n",
       "      <td>0.5714285714285714</td>\n",
       "      <td>0.54</td>\n",
       "    </tr>\n",
       "    <tr>\n",
       "      <th>7</th>\n",
       "      <td>lineardisc</td>\n",
       "      <td>0.5443037974683544</td>\n",
       "      <td>0.5426829268292683</td>\n",
       "      <td>0.5</td>\n",
       "      <td>0.5853658536585366</td>\n",
       "      <td>0.5135135135135136</td>\n",
       "      <td>0.5714285714285714</td>\n",
       "      <td>0.54</td>\n",
       "    </tr>\n",
       "    <tr>\n",
       "      <th>13</th>\n",
       "      <td>xgb</td>\n",
       "      <td>0.5316455696202531</td>\n",
       "      <td>0.5314505776636713</td>\n",
       "      <td>0.5263157894736842</td>\n",
       "      <td>0.5365853658536586</td>\n",
       "      <td>0.5194805194805194</td>\n",
       "      <td>0.54320987654321</td>\n",
       "      <td>0.53</td>\n",
       "    </tr>\n",
       "    <tr>\n",
       "      <th>12</th>\n",
       "      <td>rf</td>\n",
       "      <td>0.5316455696202531</td>\n",
       "      <td>0.5295250320924262</td>\n",
       "      <td>0.47368421052631576</td>\n",
       "      <td>0.5853658536585366</td>\n",
       "      <td>0.4931506849315068</td>\n",
       "      <td>0.5647058823529411</td>\n",
       "      <td>0.53</td>\n",
       "    </tr>\n",
       "    <tr>\n",
       "      <th>14</th>\n",
       "      <td>quadratic</td>\n",
       "      <td>0.5316455696202531</td>\n",
       "      <td>0.5295250320924262</td>\n",
       "      <td>0.47368421052631576</td>\n",
       "      <td>0.5853658536585366</td>\n",
       "      <td>0.4931506849315068</td>\n",
       "      <td>0.5647058823529411</td>\n",
       "      <td>0.53</td>\n",
       "    </tr>\n",
       "    <tr>\n",
       "      <th>11</th>\n",
       "      <td>extratree</td>\n",
       "      <td>0.4810126582278481</td>\n",
       "      <td>0.4807445442875481</td>\n",
       "      <td>0.47368421052631576</td>\n",
       "      <td>0.4878048780487805</td>\n",
       "      <td>0.4675324675324675</td>\n",
       "      <td>0.49382716049382713</td>\n",
       "      <td>0.48</td>\n",
       "    </tr>\n",
       "    <tr>\n",
       "      <th>15</th>\n",
       "      <td>knn</td>\n",
       "      <td>0.43037974683544306</td>\n",
       "      <td>0.43003851091142486</td>\n",
       "      <td>0.42105263157894735</td>\n",
       "      <td>0.43902439024390244</td>\n",
       "      <td>0.4155844155844156</td>\n",
       "      <td>0.4444444444444445</td>\n",
       "      <td>0.43</td>\n",
       "    </tr>\n",
       "  </tbody>\n",
       "</table>\n",
       "</div>"
      ],
      "text/plain": [
       "             Modelo             acuracia  acuracia_balanceada  \\\n",
       "10             lgbm    0.569620253164557   0.5699614890885751   \n",
       "9        gaussiannb    0.569620253164557   0.5680359435173299   \n",
       "5   nearestcentroid   0.5569620253164557   0.5558408215661104   \n",
       "0         linearsvc   0.5443037974683544   0.5436456996148908   \n",
       "6               svc   0.5443037974683544   0.5436456996148908   \n",
       "8       bernoullinb   0.5443037974683544   0.5436456996148908   \n",
       "1           ridgecv   0.5443037974683544   0.5426829268292683   \n",
       "2            logreg   0.5443037974683544   0.5426829268292683   \n",
       "3             ridge   0.5443037974683544   0.5426829268292683   \n",
       "4      ensemblevote   0.5443037974683544   0.5426829268292683   \n",
       "7        lineardisc   0.5443037974683544   0.5426829268292683   \n",
       "13              xgb   0.5316455696202531   0.5314505776636713   \n",
       "12               rf   0.5316455696202531   0.5295250320924262   \n",
       "14        quadratic   0.5316455696202531   0.5295250320924262   \n",
       "11        extratree   0.4810126582278481   0.4807445442875481   \n",
       "15              knn  0.43037974683544306  0.43003851091142486   \n",
       "\n",
       "               recall_0             recall_1                f1_0  \\\n",
       "10   0.5789473684210527   0.5609756097560976  0.5641025641025641   \n",
       "9    0.5263157894736842   0.6097560975609756  0.5405405405405405   \n",
       "5    0.5263157894736842   0.5853658536585366  0.5333333333333333   \n",
       "0    0.5263157894736842   0.5609756097560976  0.5263157894736842   \n",
       "6    0.5263157894736842   0.5609756097560976  0.5263157894736842   \n",
       "8    0.5263157894736842   0.5609756097560976  0.5263157894736842   \n",
       "1                   0.5   0.5853658536585366  0.5135135135135136   \n",
       "2                   0.5   0.5853658536585366  0.5135135135135136   \n",
       "3                   0.5   0.5853658536585366  0.5135135135135136   \n",
       "4                   0.5   0.5853658536585366  0.5135135135135136   \n",
       "7                   0.5   0.5853658536585366  0.5135135135135136   \n",
       "13   0.5263157894736842   0.5365853658536586  0.5194805194805194   \n",
       "12  0.47368421052631576   0.5853658536585366  0.4931506849315068   \n",
       "14  0.47368421052631576   0.5853658536585366  0.4931506849315068   \n",
       "11  0.47368421052631576   0.4878048780487805  0.4675324675324675   \n",
       "15  0.42105263157894735  0.43902439024390244  0.4155844155844156   \n",
       "\n",
       "                   f1_1  auc  \n",
       "10                0.575 0.57  \n",
       "9    0.5952380952380952 0.57  \n",
       "5    0.5783132530120483 0.56  \n",
       "0    0.5609756097560976 0.54  \n",
       "6    0.5609756097560976 0.54  \n",
       "8    0.5609756097560976 0.54  \n",
       "1    0.5714285714285714 0.54  \n",
       "2    0.5714285714285714 0.54  \n",
       "3    0.5714285714285714 0.54  \n",
       "4    0.5714285714285714 0.54  \n",
       "7    0.5714285714285714 0.54  \n",
       "13     0.54320987654321 0.53  \n",
       "12   0.5647058823529411 0.53  \n",
       "14   0.5647058823529411 0.53  \n",
       "11  0.49382716049382713 0.48  \n",
       "15   0.4444444444444445 0.43  "
      ]
     },
     "execution_count": 81,
     "metadata": {},
     "output_type": "execute_result"
    }
   ],
   "source": [
    "treinar_ate_data_str = '2021-12-31'\n",
    "\n",
    "## Dados de treino (até dezembro a data definida por treinar_ate_data_str)\n",
    "X = df_final99[(df_final99['Date'] <= parser.parse(treinar_ate_data_str))][['score','neu_robd4','neg_finbertd2','scored3']]\n",
    "y = df_final99[(df_final99['Date'] <= parser.parse(treinar_ate_data_str))][['Fechamento']]\n",
    "\n",
    "X_train = X\n",
    "y_train = y\n",
    "\n",
    "## Dados de teste (a partir da data definida por treinar_ate_data_str)\n",
    "X_test = df_final99[(df_final99['Date'] > parser.parse(treinar_ate_data_str))][['score','neu_robd4','neg_finbertd2','scored3']]\n",
    "y_test = df_final99[(df_final99['Date'] > parser.parse(treinar_ate_data_str))][['Fechamento']]\n",
    "\n",
    "\n",
    "## Retreina os modelos\n",
    "\n",
    "linearsvc =  LinearSVC(penalty='l2', loss='hinge',dual=True, C=1.4)\n",
    "linearsvc.fit(X_train,y_train)\n",
    "\n",
    "ridgecv = RidgeClassifierCV(alphas = [0.001, 0.01, 0.1, 1], fit_intercept=True, normalize=True, cv=12)\n",
    "ridgecv.fit(X_train,y_train)\n",
    "\n",
    "logreg = LogisticRegression(penalty= 'l1', C=28, fit_intercept=True, solver = 'liblinear')\n",
    "logreg.fit(X_train,y_train)\n",
    "\n",
    "ridge = RidgeClassifier(alpha=1.7,fit_intercept=True,normalize=False, solver = 'lsqr' )\n",
    "ridge.fit(X_train,y_train)\n",
    "\n",
    "clfs = [logreg,ridge,ridgecv,linearsvc]\n",
    "ensemblevote = EnsembleVoteClassifier(clfs, weights = [2,1,2,1]) \n",
    "ensemblevote.fit(X_train,y_train)\n",
    "\n",
    "nearestcentroid = NearestCentroid(metric = 'euclidean', shrink_threshold = 0.18)\n",
    "nearestcentroid.fit(X_train,y_train)\n",
    "\n",
    "svc = SVC(C=1.46, kernel = 'linear', gamma = 'auto')\n",
    "svc.fit(X_train,y_train)\n",
    "    \n",
    "lineardisc = LinearDiscriminantAnalysis(solver = 'eigen', n_components = 1)\n",
    "lineardisc.fit(X_train,y_train)\n",
    "\n",
    "bernoullinb = BernoulliNB(alpha=100,binarize=0,fit_prior=True)\n",
    "bernoullinb.fit(X_train,y_train)\n",
    "\n",
    "gaussiannb = GaussianNB(var_smoothing = 0.0001)\n",
    "gaussiannb.fit(X_train,y_train)\n",
    "\n",
    "lgbm = LGBMClassifier(max_depth=180,learning_rate=0.01,n_estimators=250, num_leaves=5)\n",
    "lgbm.fit(X_train,y_train)\n",
    "\n",
    "extratree = ExtraTreeClassifier(criterion = 'entropy', splitter = 'best', max_depth = 25, min_samples_split=20, min_samples_leaf=2)\n",
    "extratree.fit(X_train,y_train)\n",
    "\n",
    "rf = RandomForestClassifier(max_depth=10, min_samples_split=15,min_samples_leaf=1,criterion='entropy')\n",
    "rf.fit(X_train,y_train)\n",
    "\n",
    "xgb = XGBClassifier(max_depth=3,learning_rate=0.001,n_estimators=86)\n",
    "xgb.fit(X_train,y_train)\n",
    "\n",
    "quadratic = QuadraticDiscriminantAnalysis(reg_param=0,store_covariance=True, tol=0.0000000001)\n",
    "quadratic.fit(X_train,y_train)\n",
    "\n",
    "knn = KNeighborsClassifier(n_neighbors = 3, weights = 'distance', algorithm = 'brute', metric = 'manhattan')\n",
    "knn.fit(X_train,y_train)\n",
    "\n",
    "#Definição de listas com modelos\n",
    "\n",
    "models = [linearsvc,ridgecv,logreg,ridge,ensemblevote,nearestcentroid,svc,lineardisc,bernoullinb,gaussiannb,lgbm,extratree,rf,xgb,quadratic,knn]\n",
    "nome_modelo = ['linearsvc','ridgecv','logreg','ridge','ensemblevote','nearestcentroid','svc','lineardisc','bernoullinb','gaussiannb','lgbm','extratree','rf','xgb','quadratic','knn']\n",
    "\n",
    "\n",
    "#Lista para armazenar resultados dos modelos\n",
    "resultados = []\n",
    "\n",
    "\n",
    "#Iterando sobre todos os modelos\n",
    "for a,b in zip(models,nome_modelo):\n",
    "    \n",
    "    #Predizendo 2022\n",
    "    y_pred = a.predict(X_test)\n",
    "    \n",
    "    #Calculando o recall\n",
    "    recall_0 = recall_score(y_test, y_pred, pos_label=0)\n",
    "    recall_1 = recall_score(y_test, y_pred, pos_label=1)\n",
    "\n",
    "    #Calculando acurácia \n",
    "    accuracy = accuracy_score(y_test, y_pred)\n",
    "\n",
    "    #Calculando acurácia balanceada\n",
    "    accuracy_balanced = balanced_accuracy_score(y_test, y_pred)\n",
    "\n",
    "    #calculando f1_score\n",
    "    f1_0 = f1_score(y_test, y_pred,pos_label=0)\n",
    "    f1_1 = f1_score(y_test, y_pred,pos_label=1)\n",
    "\n",
    "    #Calculando AUC\n",
    "    auc = roc_auc_score(y_test, y_pred)\n",
    "    \n",
    "    # Adicionando todos resultados em uma única lista\n",
    "    resultados.append(np.array([b,accuracy,accuracy_balanced,recall_0,recall_1,f1_0,f1_1,auc]))\n",
    "\n",
    "    \n",
    "#Visualiza os resultados em formato dataframe\n",
    "resultados_df = pd.DataFrame(np.array(resultados), columns=['Modelo','acuracia','acuracia_balanceada','recall_0','recall_1','f1_0','f1_1','auc'])\n",
    "resultados_df['auc'] = resultados_df['auc'].astype(float, errors = 'raise')\n",
    "resultados_df.sort_values(by='auc', ascending=False)"
   ]
  },
  {
   "cell_type": "markdown",
   "metadata": {},
   "source": [
    "## Avaliando matriz de confusao dos algorítmos"
   ]
  },
  {
   "cell_type": "code",
   "execution_count": 90,
   "metadata": {},
   "outputs": [
    {
     "name": "stdout",
     "output_type": "stream",
     "text": [
      "Classification Report - linearsvc \n",
      "              precision    recall  f1-score   support\n",
      "\n",
      "           0       0.53      0.53      0.53        38\n",
      "           1       0.56      0.56      0.56        41\n",
      "\n",
      "    accuracy                           0.54        79\n",
      "   macro avg       0.54      0.54      0.54        79\n",
      "weighted avg       0.54      0.54      0.54        79\n",
      "\n",
      "Classification Report - ridgecv \n",
      "              precision    recall  f1-score   support\n",
      "\n",
      "           0       0.53      0.50      0.51        38\n",
      "           1       0.56      0.59      0.57        41\n",
      "\n",
      "    accuracy                           0.54        79\n",
      "   macro avg       0.54      0.54      0.54        79\n",
      "weighted avg       0.54      0.54      0.54        79\n",
      "\n",
      "Classification Report - logreg \n",
      "              precision    recall  f1-score   support\n",
      "\n",
      "           0       0.53      0.50      0.51        38\n",
      "           1       0.56      0.59      0.57        41\n",
      "\n",
      "    accuracy                           0.54        79\n",
      "   macro avg       0.54      0.54      0.54        79\n",
      "weighted avg       0.54      0.54      0.54        79\n",
      "\n",
      "Classification Report - ridge \n",
      "              precision    recall  f1-score   support\n",
      "\n",
      "           0       0.53      0.50      0.51        38\n",
      "           1       0.56      0.59      0.57        41\n",
      "\n",
      "    accuracy                           0.54        79\n",
      "   macro avg       0.54      0.54      0.54        79\n",
      "weighted avg       0.54      0.54      0.54        79\n",
      "\n",
      "Classification Report - ensemblevote \n",
      "              precision    recall  f1-score   support\n",
      "\n",
      "           0       0.53      0.50      0.51        38\n",
      "           1       0.56      0.59      0.57        41\n",
      "\n",
      "    accuracy                           0.54        79\n",
      "   macro avg       0.54      0.54      0.54        79\n",
      "weighted avg       0.54      0.54      0.54        79\n",
      "\n",
      "Classification Report - nearestcentroid \n",
      "              precision    recall  f1-score   support\n",
      "\n",
      "           0       0.54      0.53      0.53        38\n",
      "           1       0.57      0.59      0.58        41\n",
      "\n",
      "    accuracy                           0.56        79\n",
      "   macro avg       0.56      0.56      0.56        79\n",
      "weighted avg       0.56      0.56      0.56        79\n",
      "\n",
      "Classification Report - svc \n",
      "              precision    recall  f1-score   support\n",
      "\n",
      "           0       0.53      0.53      0.53        38\n",
      "           1       0.56      0.56      0.56        41\n",
      "\n",
      "    accuracy                           0.54        79\n",
      "   macro avg       0.54      0.54      0.54        79\n",
      "weighted avg       0.54      0.54      0.54        79\n",
      "\n",
      "Classification Report - lineardisc \n",
      "              precision    recall  f1-score   support\n",
      "\n",
      "           0       0.53      0.50      0.51        38\n",
      "           1       0.56      0.59      0.57        41\n",
      "\n",
      "    accuracy                           0.54        79\n",
      "   macro avg       0.54      0.54      0.54        79\n",
      "weighted avg       0.54      0.54      0.54        79\n",
      "\n",
      "Classification Report - bernoullinb \n",
      "              precision    recall  f1-score   support\n",
      "\n",
      "           0       0.53      0.53      0.53        38\n",
      "           1       0.56      0.56      0.56        41\n",
      "\n",
      "    accuracy                           0.54        79\n",
      "   macro avg       0.54      0.54      0.54        79\n",
      "weighted avg       0.54      0.54      0.54        79\n",
      "\n",
      "Classification Report - gaussiannb \n",
      "              precision    recall  f1-score   support\n",
      "\n",
      "           0       0.56      0.53      0.54        38\n",
      "           1       0.58      0.61      0.60        41\n",
      "\n",
      "    accuracy                           0.57        79\n",
      "   macro avg       0.57      0.57      0.57        79\n",
      "weighted avg       0.57      0.57      0.57        79\n",
      "\n",
      "Classification Report - lgbm \n",
      "              precision    recall  f1-score   support\n",
      "\n",
      "           0       0.55      0.58      0.56        38\n",
      "           1       0.59      0.56      0.57        41\n",
      "\n",
      "    accuracy                           0.57        79\n",
      "   macro avg       0.57      0.57      0.57        79\n",
      "weighted avg       0.57      0.57      0.57        79\n",
      "\n",
      "Classification Report - extratree \n",
      "              precision    recall  f1-score   support\n",
      "\n",
      "           0       0.46      0.47      0.47        38\n",
      "           1       0.50      0.49      0.49        41\n",
      "\n",
      "    accuracy                           0.48        79\n",
      "   macro avg       0.48      0.48      0.48        79\n",
      "weighted avg       0.48      0.48      0.48        79\n",
      "\n",
      "Classification Report - rf \n",
      "              precision    recall  f1-score   support\n",
      "\n",
      "           0       0.51      0.47      0.49        38\n",
      "           1       0.55      0.59      0.56        41\n",
      "\n",
      "    accuracy                           0.53        79\n",
      "   macro avg       0.53      0.53      0.53        79\n",
      "weighted avg       0.53      0.53      0.53        79\n",
      "\n",
      "Classification Report - xgb \n",
      "              precision    recall  f1-score   support\n",
      "\n",
      "           0       0.51      0.53      0.52        38\n",
      "           1       0.55      0.54      0.54        41\n",
      "\n",
      "    accuracy                           0.53        79\n",
      "   macro avg       0.53      0.53      0.53        79\n",
      "weighted avg       0.53      0.53      0.53        79\n",
      "\n",
      "Classification Report - quadratic \n",
      "              precision    recall  f1-score   support\n",
      "\n",
      "           0       0.51      0.47      0.49        38\n",
      "           1       0.55      0.59      0.56        41\n",
      "\n",
      "    accuracy                           0.53        79\n",
      "   macro avg       0.53      0.53      0.53        79\n",
      "weighted avg       0.53      0.53      0.53        79\n",
      "\n",
      "Classification Report - knn \n",
      "              precision    recall  f1-score   support\n",
      "\n",
      "           0       0.41      0.42      0.42        38\n",
      "           1       0.45      0.44      0.44        41\n",
      "\n",
      "    accuracy                           0.43        79\n",
      "   macro avg       0.43      0.43      0.43        79\n",
      "weighted avg       0.43      0.43      0.43        79\n",
      "\n"
     ]
    }
   ],
   "source": [
    "for a,b in zip(models,nome_modelo):\n",
    "    \n",
    "    #Predizendo 2022\n",
    "    y_pred = a.predict(X_test) \n",
    "    print(\"Classification Report - %s \" % (b))\n",
    "    print(classification_report(y_test,y_pred))"
   ]
  },
  {
   "cell_type": "markdown",
   "metadata": {},
   "source": [
    "# 4.0 Avaliando resultados com algorítmos ingênuos para avaliar se é necessário realizar nova etapa de tunagem"
   ]
  },
  {
   "cell_type": "code",
   "execution_count": 250,
   "metadata": {},
   "outputs": [
    {
     "name": "stdout",
     "output_type": "stream",
     "text": [
      "Dados de treino até 2021-12-31, com dados de teste de 2021-12-31 á 2022-06-05\n"
     ]
    },
    {
     "name": "stderr",
     "output_type": "stream",
     "text": [
      "100%|██████████████████████████████████████████████████████████████████████████████████| 29/29 [00:01<00:00, 22.01it/s]\n"
     ]
    },
    {
     "name": "stdout",
     "output_type": "stream",
     "text": [
      "Dados de treino até 2022-01-01, com dados de teste de 2022-01-01 á 2022-06-05\n"
     ]
    },
    {
     "name": "stderr",
     "output_type": "stream",
     "text": [
      "100%|██████████████████████████████████████████████████████████████████████████████████| 29/29 [00:01<00:00, 24.48it/s]\n"
     ]
    },
    {
     "name": "stdout",
     "output_type": "stream",
     "text": [
      "Dados de treino até 2022-01-02, com dados de teste de 2022-01-02 á 2022-06-05\n"
     ]
    },
    {
     "name": "stderr",
     "output_type": "stream",
     "text": [
      "100%|██████████████████████████████████████████████████████████████████████████████████| 29/29 [00:01<00:00, 22.64it/s]\n"
     ]
    },
    {
     "name": "stdout",
     "output_type": "stream",
     "text": [
      "Dados de treino até 2022-01-03, com dados de teste de 2022-01-03 á 2022-06-05\n"
     ]
    },
    {
     "name": "stderr",
     "output_type": "stream",
     "text": [
      "100%|██████████████████████████████████████████████████████████████████████████████████| 29/29 [00:01<00:00, 23.87it/s]\n"
     ]
    },
    {
     "name": "stdout",
     "output_type": "stream",
     "text": [
      "Dados de treino até 2022-01-04, com dados de teste de 2022-01-04 á 2022-06-05\n"
     ]
    },
    {
     "name": "stderr",
     "output_type": "stream",
     "text": [
      "100%|██████████████████████████████████████████████████████████████████████████████████| 29/29 [00:01<00:00, 23.58it/s]\n"
     ]
    },
    {
     "name": "stdout",
     "output_type": "stream",
     "text": [
      "Dados de treino até 2022-01-05, com dados de teste de 2022-01-05 á 2022-06-05\n"
     ]
    },
    {
     "name": "stderr",
     "output_type": "stream",
     "text": [
      "100%|██████████████████████████████████████████████████████████████████████████████████| 29/29 [00:01<00:00, 25.56it/s]\n"
     ]
    },
    {
     "name": "stdout",
     "output_type": "stream",
     "text": [
      "Dados de treino até 2022-01-06, com dados de teste de 2022-01-06 á 2022-06-05\n"
     ]
    },
    {
     "name": "stderr",
     "output_type": "stream",
     "text": [
      "100%|██████████████████████████████████████████████████████████████████████████████████| 29/29 [00:01<00:00, 26.58it/s]\n"
     ]
    },
    {
     "name": "stdout",
     "output_type": "stream",
     "text": [
      "Dados de treino até 2022-01-07, com dados de teste de 2022-01-07 á 2022-06-05\n"
     ]
    },
    {
     "name": "stderr",
     "output_type": "stream",
     "text": [
      "100%|██████████████████████████████████████████████████████████████████████████████████| 29/29 [00:01<00:00, 23.77it/s]\n"
     ]
    },
    {
     "name": "stdout",
     "output_type": "stream",
     "text": [
      "Dados de treino até 2022-01-08, com dados de teste de 2022-01-08 á 2022-06-05\n"
     ]
    },
    {
     "name": "stderr",
     "output_type": "stream",
     "text": [
      "100%|██████████████████████████████████████████████████████████████████████████████████| 29/29 [00:01<00:00, 25.79it/s]\n"
     ]
    },
    {
     "name": "stdout",
     "output_type": "stream",
     "text": [
      "Dados de treino até 2022-01-09, com dados de teste de 2022-01-09 á 2022-06-05\n"
     ]
    },
    {
     "name": "stderr",
     "output_type": "stream",
     "text": [
      "100%|██████████████████████████████████████████████████████████████████████████████████| 29/29 [00:01<00:00, 24.88it/s]\n"
     ]
    },
    {
     "name": "stdout",
     "output_type": "stream",
     "text": [
      "Dados de treino até 2022-01-10, com dados de teste de 2022-01-10 á 2022-06-05\n"
     ]
    },
    {
     "name": "stderr",
     "output_type": "stream",
     "text": [
      "100%|██████████████████████████████████████████████████████████████████████████████████| 29/29 [00:01<00:00, 26.33it/s]\n"
     ]
    },
    {
     "name": "stdout",
     "output_type": "stream",
     "text": [
      "Dados de treino até 2022-01-11, com dados de teste de 2022-01-11 á 2022-06-05\n"
     ]
    },
    {
     "name": "stderr",
     "output_type": "stream",
     "text": [
      "100%|██████████████████████████████████████████████████████████████████████████████████| 29/29 [00:01<00:00, 20.91it/s]\n"
     ]
    },
    {
     "name": "stdout",
     "output_type": "stream",
     "text": [
      "Dados de treino até 2022-01-12, com dados de teste de 2022-01-12 á 2022-06-05\n"
     ]
    },
    {
     "name": "stderr",
     "output_type": "stream",
     "text": [
      "100%|██████████████████████████████████████████████████████████████████████████████████| 29/29 [00:01<00:00, 24.70it/s]\n"
     ]
    },
    {
     "name": "stdout",
     "output_type": "stream",
     "text": [
      "Dados de treino até 2022-01-13, com dados de teste de 2022-01-13 á 2022-06-05\n"
     ]
    },
    {
     "name": "stderr",
     "output_type": "stream",
     "text": [
      "100%|██████████████████████████████████████████████████████████████████████████████████| 29/29 [00:01<00:00, 26.97it/s]\n"
     ]
    },
    {
     "name": "stdout",
     "output_type": "stream",
     "text": [
      "Dados de treino até 2022-01-14, com dados de teste de 2022-01-14 á 2022-06-05\n"
     ]
    },
    {
     "name": "stderr",
     "output_type": "stream",
     "text": [
      "100%|██████████████████████████████████████████████████████████████████████████████████| 29/29 [00:01<00:00, 25.41it/s]\n"
     ]
    },
    {
     "name": "stdout",
     "output_type": "stream",
     "text": [
      "Dados de treino até 2022-01-15, com dados de teste de 2022-01-15 á 2022-06-05\n"
     ]
    },
    {
     "name": "stderr",
     "output_type": "stream",
     "text": [
      "100%|██████████████████████████████████████████████████████████████████████████████████| 29/29 [00:01<00:00, 24.59it/s]\n"
     ]
    },
    {
     "name": "stdout",
     "output_type": "stream",
     "text": [
      "Dados de treino até 2022-01-16, com dados de teste de 2022-01-16 á 2022-06-05\n"
     ]
    },
    {
     "name": "stderr",
     "output_type": "stream",
     "text": [
      "100%|██████████████████████████████████████████████████████████████████████████████████| 29/29 [00:01<00:00, 25.24it/s]\n"
     ]
    },
    {
     "name": "stdout",
     "output_type": "stream",
     "text": [
      "Dados de treino até 2022-01-17, com dados de teste de 2022-01-17 á 2022-06-05\n"
     ]
    },
    {
     "name": "stderr",
     "output_type": "stream",
     "text": [
      "100%|██████████████████████████████████████████████████████████████████████████████████| 29/29 [00:01<00:00, 25.75it/s]\n"
     ]
    },
    {
     "name": "stdout",
     "output_type": "stream",
     "text": [
      "Dados de treino até 2022-01-18, com dados de teste de 2022-01-18 á 2022-06-05\n"
     ]
    },
    {
     "name": "stderr",
     "output_type": "stream",
     "text": [
      "100%|██████████████████████████████████████████████████████████████████████████████████| 29/29 [00:01<00:00, 24.73it/s]\n"
     ]
    },
    {
     "name": "stdout",
     "output_type": "stream",
     "text": [
      "Dados de treino até 2022-01-19, com dados de teste de 2022-01-19 á 2022-06-05\n"
     ]
    },
    {
     "name": "stderr",
     "output_type": "stream",
     "text": [
      "100%|██████████████████████████████████████████████████████████████████████████████████| 29/29 [00:01<00:00, 25.94it/s]\n"
     ]
    },
    {
     "name": "stdout",
     "output_type": "stream",
     "text": [
      "Dados de treino até 2022-01-20, com dados de teste de 2022-01-20 á 2022-06-05\n"
     ]
    },
    {
     "name": "stderr",
     "output_type": "stream",
     "text": [
      "100%|██████████████████████████████████████████████████████████████████████████████████| 29/29 [00:01<00:00, 26.49it/s]\n"
     ]
    },
    {
     "name": "stdout",
     "output_type": "stream",
     "text": [
      "Dados de treino até 2022-01-21, com dados de teste de 2022-01-21 á 2022-06-05\n"
     ]
    },
    {
     "name": "stderr",
     "output_type": "stream",
     "text": [
      "100%|██████████████████████████████████████████████████████████████████████████████████| 29/29 [00:01<00:00, 24.74it/s]\n"
     ]
    },
    {
     "name": "stdout",
     "output_type": "stream",
     "text": [
      "Dados de treino até 2022-01-22, com dados de teste de 2022-01-22 á 2022-06-05\n"
     ]
    },
    {
     "name": "stderr",
     "output_type": "stream",
     "text": [
      "100%|██████████████████████████████████████████████████████████████████████████████████| 29/29 [00:01<00:00, 28.40it/s]\n"
     ]
    },
    {
     "name": "stdout",
     "output_type": "stream",
     "text": [
      "Dados de treino até 2022-01-23, com dados de teste de 2022-01-23 á 2022-06-05\n"
     ]
    },
    {
     "name": "stderr",
     "output_type": "stream",
     "text": [
      "100%|██████████████████████████████████████████████████████████████████████████████████| 29/29 [00:01<00:00, 28.28it/s]\n"
     ]
    },
    {
     "name": "stdout",
     "output_type": "stream",
     "text": [
      "Dados de treino até 2022-01-24, com dados de teste de 2022-01-24 á 2022-06-05\n"
     ]
    },
    {
     "name": "stderr",
     "output_type": "stream",
     "text": [
      "100%|██████████████████████████████████████████████████████████████████████████████████| 29/29 [00:01<00:00, 27.79it/s]\n"
     ]
    },
    {
     "name": "stdout",
     "output_type": "stream",
     "text": [
      "Dados de treino até 2022-01-25, com dados de teste de 2022-01-25 á 2022-06-05\n"
     ]
    },
    {
     "name": "stderr",
     "output_type": "stream",
     "text": [
      "100%|██████████████████████████████████████████████████████████████████████████████████| 29/29 [00:01<00:00, 27.74it/s]\n"
     ]
    },
    {
     "name": "stdout",
     "output_type": "stream",
     "text": [
      "Dados de treino até 2022-01-26, com dados de teste de 2022-01-26 á 2022-06-05\n"
     ]
    },
    {
     "name": "stderr",
     "output_type": "stream",
     "text": [
      "100%|██████████████████████████████████████████████████████████████████████████████████| 29/29 [00:01<00:00, 27.92it/s]\n"
     ]
    },
    {
     "name": "stdout",
     "output_type": "stream",
     "text": [
      "Dados de treino até 2022-01-27, com dados de teste de 2022-01-27 á 2022-06-05\n"
     ]
    },
    {
     "name": "stderr",
     "output_type": "stream",
     "text": [
      "100%|██████████████████████████████████████████████████████████████████████████████████| 29/29 [00:01<00:00, 28.29it/s]\n"
     ]
    },
    {
     "name": "stdout",
     "output_type": "stream",
     "text": [
      "Dados de treino até 2022-01-28, com dados de teste de 2022-01-28 á 2022-06-05\n"
     ]
    },
    {
     "name": "stderr",
     "output_type": "stream",
     "text": [
      "100%|██████████████████████████████████████████████████████████████████████████████████| 29/29 [00:01<00:00, 27.69it/s]\n"
     ]
    },
    {
     "name": "stdout",
     "output_type": "stream",
     "text": [
      "Dados de treino até 2022-01-29, com dados de teste de 2022-01-29 á 2022-06-05\n"
     ]
    },
    {
     "name": "stderr",
     "output_type": "stream",
     "text": [
      "100%|██████████████████████████████████████████████████████████████████████████████████| 29/29 [00:01<00:00, 28.20it/s]\n"
     ]
    },
    {
     "name": "stdout",
     "output_type": "stream",
     "text": [
      "Dados de treino até 2022-01-30, com dados de teste de 2022-01-30 á 2022-06-05\n"
     ]
    },
    {
     "name": "stderr",
     "output_type": "stream",
     "text": [
      "100%|██████████████████████████████████████████████████████████████████████████████████| 29/29 [00:01<00:00, 28.38it/s]\n"
     ]
    },
    {
     "name": "stdout",
     "output_type": "stream",
     "text": [
      "Dados de treino até 2022-01-31, com dados de teste de 2022-01-31 á 2022-06-05\n"
     ]
    },
    {
     "name": "stderr",
     "output_type": "stream",
     "text": [
      "100%|██████████████████████████████████████████████████████████████████████████████████| 29/29 [00:01<00:00, 28.52it/s]\n"
     ]
    },
    {
     "name": "stdout",
     "output_type": "stream",
     "text": [
      "Dados de treino até 2022-02-01, com dados de teste de 2022-02-01 á 2022-06-05\n"
     ]
    },
    {
     "name": "stderr",
     "output_type": "stream",
     "text": [
      "100%|██████████████████████████████████████████████████████████████████████████████████| 29/29 [00:01<00:00, 28.13it/s]\n"
     ]
    },
    {
     "name": "stdout",
     "output_type": "stream",
     "text": [
      "Dados de treino até 2022-02-02, com dados de teste de 2022-02-02 á 2022-06-05\n"
     ]
    },
    {
     "name": "stderr",
     "output_type": "stream",
     "text": [
      "100%|██████████████████████████████████████████████████████████████████████████████████| 29/29 [00:01<00:00, 27.21it/s]\n"
     ]
    },
    {
     "name": "stdout",
     "output_type": "stream",
     "text": [
      "Dados de treino até 2022-02-03, com dados de teste de 2022-02-03 á 2022-06-05\n"
     ]
    },
    {
     "name": "stderr",
     "output_type": "stream",
     "text": [
      "100%|██████████████████████████████████████████████████████████████████████████████████| 29/29 [00:01<00:00, 26.35it/s]\n"
     ]
    },
    {
     "name": "stdout",
     "output_type": "stream",
     "text": [
      "Dados de treino até 2022-02-04, com dados de teste de 2022-02-04 á 2022-06-05\n"
     ]
    },
    {
     "name": "stderr",
     "output_type": "stream",
     "text": [
      "100%|██████████████████████████████████████████████████████████████████████████████████| 29/29 [00:01<00:00, 27.64it/s]\n"
     ]
    },
    {
     "name": "stdout",
     "output_type": "stream",
     "text": [
      "Dados de treino até 2022-02-05, com dados de teste de 2022-02-05 á 2022-06-05\n"
     ]
    },
    {
     "name": "stderr",
     "output_type": "stream",
     "text": [
      "100%|██████████████████████████████████████████████████████████████████████████████████| 29/29 [00:01<00:00, 25.12it/s]\n"
     ]
    },
    {
     "name": "stdout",
     "output_type": "stream",
     "text": [
      "Dados de treino até 2022-02-06, com dados de teste de 2022-02-06 á 2022-06-05\n"
     ]
    },
    {
     "name": "stderr",
     "output_type": "stream",
     "text": [
      "100%|██████████████████████████████████████████████████████████████████████████████████| 29/29 [00:01<00:00, 26.31it/s]\n"
     ]
    },
    {
     "name": "stdout",
     "output_type": "stream",
     "text": [
      "Dados de treino até 2022-02-07, com dados de teste de 2022-02-07 á 2022-06-05\n"
     ]
    },
    {
     "name": "stderr",
     "output_type": "stream",
     "text": [
      "100%|██████████████████████████████████████████████████████████████████████████████████| 29/29 [00:01<00:00, 21.28it/s]\n"
     ]
    },
    {
     "name": "stdout",
     "output_type": "stream",
     "text": [
      "Dados de treino até 2022-02-08, com dados de teste de 2022-02-08 á 2022-06-05\n"
     ]
    },
    {
     "name": "stderr",
     "output_type": "stream",
     "text": [
      "100%|██████████████████████████████████████████████████████████████████████████████████| 29/29 [00:01<00:00, 25.13it/s]\n"
     ]
    },
    {
     "name": "stdout",
     "output_type": "stream",
     "text": [
      "Dados de treino até 2022-02-09, com dados de teste de 2022-02-09 á 2022-06-05\n"
     ]
    },
    {
     "name": "stderr",
     "output_type": "stream",
     "text": [
      "100%|██████████████████████████████████████████████████████████████████████████████████| 29/29 [00:01<00:00, 25.90it/s]\n"
     ]
    },
    {
     "name": "stdout",
     "output_type": "stream",
     "text": [
      "Dados de treino até 2022-02-10, com dados de teste de 2022-02-10 á 2022-06-05\n"
     ]
    },
    {
     "name": "stderr",
     "output_type": "stream",
     "text": [
      "100%|██████████████████████████████████████████████████████████████████████████████████| 29/29 [00:01<00:00, 28.23it/s]\n"
     ]
    },
    {
     "name": "stdout",
     "output_type": "stream",
     "text": [
      "Dados de treino até 2022-02-11, com dados de teste de 2022-02-11 á 2022-06-05\n"
     ]
    },
    {
     "name": "stderr",
     "output_type": "stream",
     "text": [
      "100%|██████████████████████████████████████████████████████████████████████████████████| 29/29 [00:01<00:00, 28.21it/s]\n"
     ]
    },
    {
     "name": "stdout",
     "output_type": "stream",
     "text": [
      "Dados de treino até 2022-02-12, com dados de teste de 2022-02-12 á 2022-06-05\n"
     ]
    },
    {
     "name": "stderr",
     "output_type": "stream",
     "text": [
      "100%|██████████████████████████████████████████████████████████████████████████████████| 29/29 [00:01<00:00, 27.36it/s]\n"
     ]
    },
    {
     "name": "stdout",
     "output_type": "stream",
     "text": [
      "Dados de treino até 2022-02-13, com dados de teste de 2022-02-13 á 2022-06-05\n"
     ]
    },
    {
     "name": "stderr",
     "output_type": "stream",
     "text": [
      "100%|██████████████████████████████████████████████████████████████████████████████████| 29/29 [00:01<00:00, 25.81it/s]\n"
     ]
    },
    {
     "name": "stdout",
     "output_type": "stream",
     "text": [
      "Dados de treino até 2022-02-14, com dados de teste de 2022-02-14 á 2022-06-05\n"
     ]
    },
    {
     "name": "stderr",
     "output_type": "stream",
     "text": [
      "100%|██████████████████████████████████████████████████████████████████████████████████| 29/29 [00:01<00:00, 25.91it/s]\n"
     ]
    },
    {
     "name": "stdout",
     "output_type": "stream",
     "text": [
      "Dados de treino até 2022-02-15, com dados de teste de 2022-02-15 á 2022-06-05\n"
     ]
    },
    {
     "name": "stderr",
     "output_type": "stream",
     "text": [
      "100%|██████████████████████████████████████████████████████████████████████████████████| 29/29 [00:01<00:00, 25.28it/s]\n"
     ]
    },
    {
     "name": "stdout",
     "output_type": "stream",
     "text": [
      "Dados de treino até 2022-02-16, com dados de teste de 2022-02-16 á 2022-06-05\n"
     ]
    },
    {
     "name": "stderr",
     "output_type": "stream",
     "text": [
      "100%|██████████████████████████████████████████████████████████████████████████████████| 29/29 [00:01<00:00, 25.06it/s]\n"
     ]
    },
    {
     "name": "stdout",
     "output_type": "stream",
     "text": [
      "Dados de treino até 2022-02-17, com dados de teste de 2022-02-17 á 2022-06-05\n"
     ]
    },
    {
     "name": "stderr",
     "output_type": "stream",
     "text": [
      "100%|██████████████████████████████████████████████████████████████████████████████████| 29/29 [00:01<00:00, 25.99it/s]\n"
     ]
    },
    {
     "name": "stdout",
     "output_type": "stream",
     "text": [
      "Dados de treino até 2022-02-18, com dados de teste de 2022-02-18 á 2022-06-05\n"
     ]
    },
    {
     "name": "stderr",
     "output_type": "stream",
     "text": [
      "100%|██████████████████████████████████████████████████████████████████████████████████| 29/29 [00:01<00:00, 27.22it/s]\n"
     ]
    },
    {
     "name": "stdout",
     "output_type": "stream",
     "text": [
      "Dados de treino até 2022-02-19, com dados de teste de 2022-02-19 á 2022-06-05\n"
     ]
    },
    {
     "name": "stderr",
     "output_type": "stream",
     "text": [
      "100%|██████████████████████████████████████████████████████████████████████████████████| 29/29 [00:01<00:00, 28.40it/s]\n"
     ]
    },
    {
     "name": "stdout",
     "output_type": "stream",
     "text": [
      "Dados de treino até 2022-02-20, com dados de teste de 2022-02-20 á 2022-06-05\n"
     ]
    },
    {
     "name": "stderr",
     "output_type": "stream",
     "text": [
      "100%|██████████████████████████████████████████████████████████████████████████████████| 29/29 [00:01<00:00, 27.76it/s]\n"
     ]
    },
    {
     "name": "stdout",
     "output_type": "stream",
     "text": [
      "Dados de treino até 2022-02-21, com dados de teste de 2022-02-21 á 2022-06-05\n"
     ]
    },
    {
     "name": "stderr",
     "output_type": "stream",
     "text": [
      "100%|██████████████████████████████████████████████████████████████████████████████████| 29/29 [00:01<00:00, 27.64it/s]\n"
     ]
    },
    {
     "name": "stdout",
     "output_type": "stream",
     "text": [
      "Dados de treino até 2022-02-22, com dados de teste de 2022-02-22 á 2022-06-05\n"
     ]
    },
    {
     "name": "stderr",
     "output_type": "stream",
     "text": [
      "100%|██████████████████████████████████████████████████████████████████████████████████| 29/29 [00:01<00:00, 28.11it/s]\n"
     ]
    },
    {
     "name": "stdout",
     "output_type": "stream",
     "text": [
      "Dados de treino até 2022-02-23, com dados de teste de 2022-02-23 á 2022-06-05\n"
     ]
    },
    {
     "name": "stderr",
     "output_type": "stream",
     "text": [
      "100%|██████████████████████████████████████████████████████████████████████████████████| 29/29 [00:01<00:00, 28.27it/s]\n"
     ]
    },
    {
     "name": "stdout",
     "output_type": "stream",
     "text": [
      "Dados de treino até 2022-02-24, com dados de teste de 2022-02-24 á 2022-06-05\n"
     ]
    },
    {
     "name": "stderr",
     "output_type": "stream",
     "text": [
      "100%|██████████████████████████████████████████████████████████████████████████████████| 29/29 [00:01<00:00, 27.89it/s]\n"
     ]
    },
    {
     "name": "stdout",
     "output_type": "stream",
     "text": [
      "Dados de treino até 2022-02-25, com dados de teste de 2022-02-25 á 2022-06-05\n"
     ]
    },
    {
     "name": "stderr",
     "output_type": "stream",
     "text": [
      "100%|██████████████████████████████████████████████████████████████████████████████████| 29/29 [00:01<00:00, 27.27it/s]\n"
     ]
    },
    {
     "name": "stdout",
     "output_type": "stream",
     "text": [
      "Dados de treino até 2022-02-26, com dados de teste de 2022-02-26 á 2022-06-05\n"
     ]
    },
    {
     "name": "stderr",
     "output_type": "stream",
     "text": [
      "100%|██████████████████████████████████████████████████████████████████████████████████| 29/29 [00:01<00:00, 26.79it/s]\n"
     ]
    },
    {
     "name": "stdout",
     "output_type": "stream",
     "text": [
      "Dados de treino até 2022-02-27, com dados de teste de 2022-02-27 á 2022-06-05\n"
     ]
    },
    {
     "name": "stderr",
     "output_type": "stream",
     "text": [
      "100%|██████████████████████████████████████████████████████████████████████████████████| 29/29 [00:01<00:00, 27.34it/s]\n"
     ]
    },
    {
     "name": "stdout",
     "output_type": "stream",
     "text": [
      "Dados de treino até 2022-02-28, com dados de teste de 2022-02-28 á 2022-06-05\n"
     ]
    },
    {
     "name": "stderr",
     "output_type": "stream",
     "text": [
      "100%|██████████████████████████████████████████████████████████████████████████████████| 29/29 [00:01<00:00, 26.29it/s]\n"
     ]
    },
    {
     "name": "stdout",
     "output_type": "stream",
     "text": [
      "Dados de treino até 2022-03-01, com dados de teste de 2022-03-01 á 2022-06-05\n"
     ]
    },
    {
     "name": "stderr",
     "output_type": "stream",
     "text": [
      "100%|██████████████████████████████████████████████████████████████████████████████████| 29/29 [00:01<00:00, 27.46it/s]\n"
     ]
    },
    {
     "name": "stdout",
     "output_type": "stream",
     "text": [
      "Dados de treino até 2022-03-02, com dados de teste de 2022-03-02 á 2022-06-05\n"
     ]
    },
    {
     "name": "stderr",
     "output_type": "stream",
     "text": [
      "100%|██████████████████████████████████████████████████████████████████████████████████| 29/29 [00:01<00:00, 25.80it/s]\n"
     ]
    },
    {
     "name": "stdout",
     "output_type": "stream",
     "text": [
      "Dados de treino até 2022-03-03, com dados de teste de 2022-03-03 á 2022-06-05\n"
     ]
    },
    {
     "name": "stderr",
     "output_type": "stream",
     "text": [
      "100%|██████████████████████████████████████████████████████████████████████████████████| 29/29 [00:01<00:00, 25.74it/s]\n"
     ]
    },
    {
     "name": "stdout",
     "output_type": "stream",
     "text": [
      "Dados de treino até 2022-03-04, com dados de teste de 2022-03-04 á 2022-06-05\n"
     ]
    },
    {
     "name": "stderr",
     "output_type": "stream",
     "text": [
      "100%|██████████████████████████████████████████████████████████████████████████████████| 29/29 [00:01<00:00, 24.94it/s]\n"
     ]
    },
    {
     "name": "stdout",
     "output_type": "stream",
     "text": [
      "Dados de treino até 2022-03-05, com dados de teste de 2022-03-05 á 2022-06-05\n"
     ]
    },
    {
     "name": "stderr",
     "output_type": "stream",
     "text": [
      "100%|██████████████████████████████████████████████████████████████████████████████████| 29/29 [00:01<00:00, 22.98it/s]\n"
     ]
    },
    {
     "name": "stdout",
     "output_type": "stream",
     "text": [
      "Dados de treino até 2022-03-06, com dados de teste de 2022-03-06 á 2022-06-05\n"
     ]
    },
    {
     "name": "stderr",
     "output_type": "stream",
     "text": [
      "100%|██████████████████████████████████████████████████████████████████████████████████| 29/29 [00:01<00:00, 26.07it/s]\n"
     ]
    },
    {
     "name": "stdout",
     "output_type": "stream",
     "text": [
      "Dados de treino até 2022-03-07, com dados de teste de 2022-03-07 á 2022-06-05\n"
     ]
    },
    {
     "name": "stderr",
     "output_type": "stream",
     "text": [
      "100%|██████████████████████████████████████████████████████████████████████████████████| 29/29 [00:01<00:00, 26.54it/s]\n"
     ]
    },
    {
     "name": "stdout",
     "output_type": "stream",
     "text": [
      "Dados de treino até 2022-03-08, com dados de teste de 2022-03-08 á 2022-06-05\n"
     ]
    },
    {
     "name": "stderr",
     "output_type": "stream",
     "text": [
      "100%|██████████████████████████████████████████████████████████████████████████████████| 29/29 [00:01<00:00, 26.94it/s]\n"
     ]
    },
    {
     "name": "stdout",
     "output_type": "stream",
     "text": [
      "Dados de treino até 2022-03-09, com dados de teste de 2022-03-09 á 2022-06-05\n"
     ]
    },
    {
     "name": "stderr",
     "output_type": "stream",
     "text": [
      "100%|██████████████████████████████████████████████████████████████████████████████████| 29/29 [00:01<00:00, 26.99it/s]\n"
     ]
    },
    {
     "name": "stdout",
     "output_type": "stream",
     "text": [
      "Dados de treino até 2022-03-10, com dados de teste de 2022-03-10 á 2022-06-05\n"
     ]
    },
    {
     "name": "stderr",
     "output_type": "stream",
     "text": [
      "100%|██████████████████████████████████████████████████████████████████████████████████| 29/29 [00:01<00:00, 26.04it/s]\n"
     ]
    },
    {
     "name": "stdout",
     "output_type": "stream",
     "text": [
      "Dados de treino até 2022-03-11, com dados de teste de 2022-03-11 á 2022-06-05\n"
     ]
    },
    {
     "name": "stderr",
     "output_type": "stream",
     "text": [
      "100%|██████████████████████████████████████████████████████████████████████████████████| 29/29 [00:01<00:00, 25.79it/s]\n"
     ]
    },
    {
     "name": "stdout",
     "output_type": "stream",
     "text": [
      "Dados de treino até 2022-03-12, com dados de teste de 2022-03-12 á 2022-06-05\n"
     ]
    },
    {
     "name": "stderr",
     "output_type": "stream",
     "text": [
      "100%|██████████████████████████████████████████████████████████████████████████████████| 29/29 [00:01<00:00, 27.10it/s]\n"
     ]
    },
    {
     "name": "stdout",
     "output_type": "stream",
     "text": [
      "Dados de treino até 2022-03-13, com dados de teste de 2022-03-13 á 2022-06-05\n"
     ]
    },
    {
     "name": "stderr",
     "output_type": "stream",
     "text": [
      "100%|██████████████████████████████████████████████████████████████████████████████████| 29/29 [00:01<00:00, 26.96it/s]\n"
     ]
    },
    {
     "name": "stdout",
     "output_type": "stream",
     "text": [
      "Dados de treino até 2022-03-14, com dados de teste de 2022-03-14 á 2022-06-05\n"
     ]
    },
    {
     "name": "stderr",
     "output_type": "stream",
     "text": [
      "100%|██████████████████████████████████████████████████████████████████████████████████| 29/29 [00:01<00:00, 26.39it/s]\n"
     ]
    },
    {
     "name": "stdout",
     "output_type": "stream",
     "text": [
      "Dados de treino até 2022-03-15, com dados de teste de 2022-03-15 á 2022-06-05\n"
     ]
    },
    {
     "name": "stderr",
     "output_type": "stream",
     "text": [
      "100%|██████████████████████████████████████████████████████████████████████████████████| 29/29 [00:01<00:00, 25.59it/s]\n"
     ]
    },
    {
     "name": "stdout",
     "output_type": "stream",
     "text": [
      "Dados de treino até 2022-03-16, com dados de teste de 2022-03-16 á 2022-06-05\n"
     ]
    },
    {
     "name": "stderr",
     "output_type": "stream",
     "text": [
      "100%|██████████████████████████████████████████████████████████████████████████████████| 29/29 [00:01<00:00, 24.22it/s]\n"
     ]
    },
    {
     "name": "stdout",
     "output_type": "stream",
     "text": [
      "Dados de treino até 2022-03-17, com dados de teste de 2022-03-17 á 2022-06-05\n"
     ]
    },
    {
     "name": "stderr",
     "output_type": "stream",
     "text": [
      "100%|██████████████████████████████████████████████████████████████████████████████████| 29/29 [00:01<00:00, 25.49it/s]\n"
     ]
    },
    {
     "name": "stdout",
     "output_type": "stream",
     "text": [
      "Dados de treino até 2022-03-18, com dados de teste de 2022-03-18 á 2022-06-05\n"
     ]
    },
    {
     "name": "stderr",
     "output_type": "stream",
     "text": [
      "100%|██████████████████████████████████████████████████████████████████████████████████| 29/29 [00:01<00:00, 25.91it/s]\n"
     ]
    },
    {
     "name": "stdout",
     "output_type": "stream",
     "text": [
      "Dados de treino até 2022-03-19, com dados de teste de 2022-03-19 á 2022-06-05\n"
     ]
    },
    {
     "name": "stderr",
     "output_type": "stream",
     "text": [
      "100%|██████████████████████████████████████████████████████████████████████████████████| 29/29 [00:01<00:00, 25.62it/s]\n"
     ]
    },
    {
     "name": "stdout",
     "output_type": "stream",
     "text": [
      "Dados de treino até 2022-03-20, com dados de teste de 2022-03-20 á 2022-06-05\n"
     ]
    },
    {
     "name": "stderr",
     "output_type": "stream",
     "text": [
      "100%|██████████████████████████████████████████████████████████████████████████████████| 29/29 [00:01<00:00, 24.46it/s]\n"
     ]
    },
    {
     "name": "stdout",
     "output_type": "stream",
     "text": [
      "Dados de treino até 2022-03-21, com dados de teste de 2022-03-21 á 2022-06-05\n"
     ]
    },
    {
     "name": "stderr",
     "output_type": "stream",
     "text": [
      "100%|██████████████████████████████████████████████████████████████████████████████████| 29/29 [00:01<00:00, 24.83it/s]\n"
     ]
    },
    {
     "name": "stdout",
     "output_type": "stream",
     "text": [
      "Dados de treino até 2022-03-22, com dados de teste de 2022-03-22 á 2022-06-05\n"
     ]
    },
    {
     "name": "stderr",
     "output_type": "stream",
     "text": [
      "100%|██████████████████████████████████████████████████████████████████████████████████| 29/29 [00:01<00:00, 23.61it/s]\n"
     ]
    },
    {
     "name": "stdout",
     "output_type": "stream",
     "text": [
      "Dados de treino até 2022-03-23, com dados de teste de 2022-03-23 á 2022-06-05\n"
     ]
    },
    {
     "name": "stderr",
     "output_type": "stream",
     "text": [
      "100%|██████████████████████████████████████████████████████████████████████████████████| 29/29 [00:01<00:00, 24.51it/s]\n"
     ]
    },
    {
     "name": "stdout",
     "output_type": "stream",
     "text": [
      "Dados de treino até 2022-03-24, com dados de teste de 2022-03-24 á 2022-06-05\n"
     ]
    },
    {
     "name": "stderr",
     "output_type": "stream",
     "text": [
      "100%|██████████████████████████████████████████████████████████████████████████████████| 29/29 [00:01<00:00, 24.47it/s]\n"
     ]
    },
    {
     "name": "stdout",
     "output_type": "stream",
     "text": [
      "Dados de treino até 2022-03-25, com dados de teste de 2022-03-25 á 2022-06-05\n"
     ]
    },
    {
     "name": "stderr",
     "output_type": "stream",
     "text": [
      "100%|██████████████████████████████████████████████████████████████████████████████████| 29/29 [00:01<00:00, 26.97it/s]\n"
     ]
    },
    {
     "name": "stdout",
     "output_type": "stream",
     "text": [
      "Dados de treino até 2022-03-26, com dados de teste de 2022-03-26 á 2022-06-05\n"
     ]
    },
    {
     "name": "stderr",
     "output_type": "stream",
     "text": [
      "100%|██████████████████████████████████████████████████████████████████████████████████| 29/29 [00:01<00:00, 26.06it/s]\n"
     ]
    },
    {
     "name": "stdout",
     "output_type": "stream",
     "text": [
      "Dados de treino até 2022-03-27, com dados de teste de 2022-03-27 á 2022-06-05\n"
     ]
    },
    {
     "name": "stderr",
     "output_type": "stream",
     "text": [
      "100%|██████████████████████████████████████████████████████████████████████████████████| 29/29 [00:01<00:00, 23.74it/s]\n"
     ]
    },
    {
     "name": "stdout",
     "output_type": "stream",
     "text": [
      "Dados de treino até 2022-03-28, com dados de teste de 2022-03-28 á 2022-06-05\n"
     ]
    },
    {
     "name": "stderr",
     "output_type": "stream",
     "text": [
      "100%|██████████████████████████████████████████████████████████████████████████████████| 29/29 [00:01<00:00, 27.21it/s]\n"
     ]
    },
    {
     "name": "stdout",
     "output_type": "stream",
     "text": [
      "Dados de treino até 2022-03-29, com dados de teste de 2022-03-29 á 2022-06-05\n"
     ]
    },
    {
     "name": "stderr",
     "output_type": "stream",
     "text": [
      "100%|██████████████████████████████████████████████████████████████████████████████████| 29/29 [00:01<00:00, 26.30it/s]\n"
     ]
    },
    {
     "name": "stdout",
     "output_type": "stream",
     "text": [
      "Dados de treino até 2022-03-30, com dados de teste de 2022-03-30 á 2022-06-05\n"
     ]
    },
    {
     "name": "stderr",
     "output_type": "stream",
     "text": [
      "100%|██████████████████████████████████████████████████████████████████████████████████| 29/29 [00:01<00:00, 27.02it/s]\n"
     ]
    },
    {
     "name": "stdout",
     "output_type": "stream",
     "text": [
      "Dados de treino até 2022-03-31, com dados de teste de 2022-03-31 á 2022-06-05\n"
     ]
    },
    {
     "name": "stderr",
     "output_type": "stream",
     "text": [
      "100%|██████████████████████████████████████████████████████████████████████████████████| 29/29 [00:01<00:00, 23.90it/s]\n"
     ]
    },
    {
     "name": "stdout",
     "output_type": "stream",
     "text": [
      "Dados de treino até 2022-04-01, com dados de teste de 2022-04-01 á 2022-06-05\n"
     ]
    },
    {
     "name": "stderr",
     "output_type": "stream",
     "text": [
      "100%|██████████████████████████████████████████████████████████████████████████████████| 29/29 [00:01<00:00, 25.55it/s]\n"
     ]
    },
    {
     "name": "stdout",
     "output_type": "stream",
     "text": [
      "Dados de treino até 2022-04-02, com dados de teste de 2022-04-02 á 2022-06-05\n"
     ]
    },
    {
     "name": "stderr",
     "output_type": "stream",
     "text": [
      "100%|██████████████████████████████████████████████████████████████████████████████████| 29/29 [00:01<00:00, 26.82it/s]\n"
     ]
    },
    {
     "name": "stdout",
     "output_type": "stream",
     "text": [
      "Dados de treino até 2022-04-03, com dados de teste de 2022-04-03 á 2022-06-05\n"
     ]
    },
    {
     "name": "stderr",
     "output_type": "stream",
     "text": [
      "100%|██████████████████████████████████████████████████████████████████████████████████| 29/29 [00:01<00:00, 27.81it/s]\n"
     ]
    },
    {
     "name": "stdout",
     "output_type": "stream",
     "text": [
      "Dados de treino até 2022-04-04, com dados de teste de 2022-04-04 á 2022-06-05\n"
     ]
    },
    {
     "name": "stderr",
     "output_type": "stream",
     "text": [
      "100%|██████████████████████████████████████████████████████████████████████████████████| 29/29 [00:01<00:00, 27.60it/s]\n"
     ]
    },
    {
     "name": "stdout",
     "output_type": "stream",
     "text": [
      "Dados de treino até 2022-04-05, com dados de teste de 2022-04-05 á 2022-06-05\n"
     ]
    },
    {
     "name": "stderr",
     "output_type": "stream",
     "text": [
      "100%|██████████████████████████████████████████████████████████████████████████████████| 29/29 [00:01<00:00, 27.96it/s]\n"
     ]
    },
    {
     "name": "stdout",
     "output_type": "stream",
     "text": [
      "Dados de treino até 2022-04-06, com dados de teste de 2022-04-06 á 2022-06-05\n"
     ]
    },
    {
     "name": "stderr",
     "output_type": "stream",
     "text": [
      "100%|██████████████████████████████████████████████████████████████████████████████████| 29/29 [00:01<00:00, 27.68it/s]\n"
     ]
    },
    {
     "name": "stdout",
     "output_type": "stream",
     "text": [
      "Dados de treino até 2022-04-07, com dados de teste de 2022-04-07 á 2022-06-05\n"
     ]
    },
    {
     "name": "stderr",
     "output_type": "stream",
     "text": [
      "100%|██████████████████████████████████████████████████████████████████████████████████| 29/29 [00:01<00:00, 25.43it/s]\n"
     ]
    },
    {
     "name": "stdout",
     "output_type": "stream",
     "text": [
      "Dados de treino até 2022-04-08, com dados de teste de 2022-04-08 á 2022-06-05\n"
     ]
    },
    {
     "name": "stderr",
     "output_type": "stream",
     "text": [
      "100%|██████████████████████████████████████████████████████████████████████████████████| 29/29 [00:01<00:00, 26.07it/s]\n"
     ]
    },
    {
     "name": "stdout",
     "output_type": "stream",
     "text": [
      "Dados de treino até 2022-04-09, com dados de teste de 2022-04-09 á 2022-06-05\n"
     ]
    },
    {
     "name": "stderr",
     "output_type": "stream",
     "text": [
      "100%|██████████████████████████████████████████████████████████████████████████████████| 29/29 [00:01<00:00, 23.26it/s]\n"
     ]
    },
    {
     "name": "stdout",
     "output_type": "stream",
     "text": [
      "Dados de treino até 2022-04-10, com dados de teste de 2022-04-10 á 2022-06-05\n"
     ]
    },
    {
     "name": "stderr",
     "output_type": "stream",
     "text": [
      "100%|██████████████████████████████████████████████████████████████████████████████████| 29/29 [00:01<00:00, 25.63it/s]\n"
     ]
    },
    {
     "name": "stdout",
     "output_type": "stream",
     "text": [
      "Dados de treino até 2022-04-11, com dados de teste de 2022-04-11 á 2022-06-05\n"
     ]
    },
    {
     "name": "stderr",
     "output_type": "stream",
     "text": [
      "100%|██████████████████████████████████████████████████████████████████████████████████| 29/29 [00:01<00:00, 26.56it/s]\n"
     ]
    },
    {
     "name": "stdout",
     "output_type": "stream",
     "text": [
      "Dados de treino até 2022-04-12, com dados de teste de 2022-04-12 á 2022-06-05\n"
     ]
    },
    {
     "name": "stderr",
     "output_type": "stream",
     "text": [
      "100%|██████████████████████████████████████████████████████████████████████████████████| 29/29 [00:01<00:00, 23.45it/s]\n"
     ]
    },
    {
     "name": "stdout",
     "output_type": "stream",
     "text": [
      "Dados de treino até 2022-04-13, com dados de teste de 2022-04-13 á 2022-06-05\n"
     ]
    },
    {
     "name": "stderr",
     "output_type": "stream",
     "text": [
      "100%|██████████████████████████████████████████████████████████████████████████████████| 29/29 [00:01<00:00, 21.71it/s]\n"
     ]
    },
    {
     "name": "stdout",
     "output_type": "stream",
     "text": [
      "Dados de treino até 2022-04-14, com dados de teste de 2022-04-14 á 2022-06-05\n"
     ]
    },
    {
     "name": "stderr",
     "output_type": "stream",
     "text": [
      "100%|██████████████████████████████████████████████████████████████████████████████████| 29/29 [00:01<00:00, 24.71it/s]\n"
     ]
    },
    {
     "name": "stdout",
     "output_type": "stream",
     "text": [
      "Dados de treino até 2022-04-15, com dados de teste de 2022-04-15 á 2022-06-05\n"
     ]
    },
    {
     "name": "stderr",
     "output_type": "stream",
     "text": [
      "100%|██████████████████████████████████████████████████████████████████████████████████| 29/29 [00:01<00:00, 21.23it/s]\n"
     ]
    },
    {
     "name": "stdout",
     "output_type": "stream",
     "text": [
      "Dados de treino até 2022-04-16, com dados de teste de 2022-04-16 á 2022-06-05\n"
     ]
    },
    {
     "name": "stderr",
     "output_type": "stream",
     "text": [
      "100%|██████████████████████████████████████████████████████████████████████████████████| 29/29 [00:01<00:00, 23.87it/s]\n"
     ]
    },
    {
     "name": "stdout",
     "output_type": "stream",
     "text": [
      "Dados de treino até 2022-04-17, com dados de teste de 2022-04-17 á 2022-06-05\n"
     ]
    },
    {
     "name": "stderr",
     "output_type": "stream",
     "text": [
      "100%|██████████████████████████████████████████████████████████████████████████████████| 29/29 [00:01<00:00, 24.85it/s]\n"
     ]
    },
    {
     "name": "stdout",
     "output_type": "stream",
     "text": [
      "Dados de treino até 2022-04-18, com dados de teste de 2022-04-18 á 2022-06-05\n"
     ]
    },
    {
     "name": "stderr",
     "output_type": "stream",
     "text": [
      "100%|██████████████████████████████████████████████████████████████████████████████████| 29/29 [00:01<00:00, 22.29it/s]\n"
     ]
    },
    {
     "name": "stdout",
     "output_type": "stream",
     "text": [
      "Dados de treino até 2022-04-19, com dados de teste de 2022-04-19 á 2022-06-05\n"
     ]
    },
    {
     "name": "stderr",
     "output_type": "stream",
     "text": [
      "100%|██████████████████████████████████████████████████████████████████████████████████| 29/29 [00:01<00:00, 23.21it/s]\n"
     ]
    },
    {
     "name": "stdout",
     "output_type": "stream",
     "text": [
      "Dados de treino até 2022-04-20, com dados de teste de 2022-04-20 á 2022-06-05\n"
     ]
    },
    {
     "name": "stderr",
     "output_type": "stream",
     "text": [
      "100%|██████████████████████████████████████████████████████████████████████████████████| 29/29 [00:01<00:00, 23.98it/s]\n"
     ]
    },
    {
     "name": "stdout",
     "output_type": "stream",
     "text": [
      "Dados de treino até 2022-04-21, com dados de teste de 2022-04-21 á 2022-06-05\n"
     ]
    },
    {
     "name": "stderr",
     "output_type": "stream",
     "text": [
      "100%|██████████████████████████████████████████████████████████████████████████████████| 29/29 [00:01<00:00, 24.55it/s]\n"
     ]
    },
    {
     "name": "stdout",
     "output_type": "stream",
     "text": [
      "Dados de treino até 2022-04-22, com dados de teste de 2022-04-22 á 2022-06-05\n"
     ]
    },
    {
     "name": "stderr",
     "output_type": "stream",
     "text": [
      "100%|██████████████████████████████████████████████████████████████████████████████████| 29/29 [00:01<00:00, 23.84it/s]\n"
     ]
    },
    {
     "name": "stdout",
     "output_type": "stream",
     "text": [
      "Dados de treino até 2022-04-23, com dados de teste de 2022-04-23 á 2022-06-05\n"
     ]
    },
    {
     "name": "stderr",
     "output_type": "stream",
     "text": [
      "100%|██████████████████████████████████████████████████████████████████████████████████| 29/29 [00:01<00:00, 24.96it/s]\n"
     ]
    },
    {
     "name": "stdout",
     "output_type": "stream",
     "text": [
      "Dados de treino até 2022-04-24, com dados de teste de 2022-04-24 á 2022-06-05\n"
     ]
    },
    {
     "name": "stderr",
     "output_type": "stream",
     "text": [
      "100%|██████████████████████████████████████████████████████████████████████████████████| 29/29 [00:01<00:00, 21.29it/s]\n"
     ]
    },
    {
     "name": "stdout",
     "output_type": "stream",
     "text": [
      "Dados de treino até 2022-04-25, com dados de teste de 2022-04-25 á 2022-06-05\n"
     ]
    },
    {
     "name": "stderr",
     "output_type": "stream",
     "text": [
      "100%|██████████████████████████████████████████████████████████████████████████████████| 29/29 [00:01<00:00, 23.87it/s]\n"
     ]
    },
    {
     "name": "stdout",
     "output_type": "stream",
     "text": [
      "Dados de treino até 2022-04-26, com dados de teste de 2022-04-26 á 2022-06-05\n"
     ]
    },
    {
     "name": "stderr",
     "output_type": "stream",
     "text": [
      "100%|██████████████████████████████████████████████████████████████████████████████████| 29/29 [00:01<00:00, 23.24it/s]\n"
     ]
    },
    {
     "name": "stdout",
     "output_type": "stream",
     "text": [
      "Dados de treino até 2022-04-27, com dados de teste de 2022-04-27 á 2022-06-05\n"
     ]
    },
    {
     "name": "stderr",
     "output_type": "stream",
     "text": [
      "100%|██████████████████████████████████████████████████████████████████████████████████| 29/29 [00:01<00:00, 23.21it/s]\n"
     ]
    },
    {
     "name": "stdout",
     "output_type": "stream",
     "text": [
      "Dados de treino até 2022-04-28, com dados de teste de 2022-04-28 á 2022-06-05\n"
     ]
    },
    {
     "name": "stderr",
     "output_type": "stream",
     "text": [
      "100%|██████████████████████████████████████████████████████████████████████████████████| 29/29 [00:01<00:00, 22.21it/s]\n"
     ]
    },
    {
     "name": "stdout",
     "output_type": "stream",
     "text": [
      "Dados de treino até 2022-04-29, com dados de teste de 2022-04-29 á 2022-06-05\n"
     ]
    },
    {
     "name": "stderr",
     "output_type": "stream",
     "text": [
      "100%|██████████████████████████████████████████████████████████████████████████████████| 29/29 [00:01<00:00, 22.63it/s]\n"
     ]
    },
    {
     "name": "stdout",
     "output_type": "stream",
     "text": [
      "Dados de treino até 2022-04-30, com dados de teste de 2022-04-30 á 2022-06-05\n"
     ]
    },
    {
     "name": "stderr",
     "output_type": "stream",
     "text": [
      "100%|██████████████████████████████████████████████████████████████████████████████████| 29/29 [00:01<00:00, 24.26it/s]\n"
     ]
    },
    {
     "name": "stdout",
     "output_type": "stream",
     "text": [
      "Dados de treino até 2022-05-01, com dados de teste de 2022-05-01 á 2022-06-05\n"
     ]
    },
    {
     "name": "stderr",
     "output_type": "stream",
     "text": [
      "100%|██████████████████████████████████████████████████████████████████████████████████| 29/29 [00:01<00:00, 25.39it/s]\n"
     ]
    },
    {
     "name": "stdout",
     "output_type": "stream",
     "text": [
      "Dados de treino até 2022-05-02, com dados de teste de 2022-05-02 á 2022-06-05\n"
     ]
    },
    {
     "name": "stderr",
     "output_type": "stream",
     "text": [
      "100%|██████████████████████████████████████████████████████████████████████████████████| 29/29 [00:01<00:00, 23.57it/s]\n"
     ]
    },
    {
     "name": "stdout",
     "output_type": "stream",
     "text": [
      "Dados de treino até 2022-05-03, com dados de teste de 2022-05-03 á 2022-06-05\n"
     ]
    },
    {
     "name": "stderr",
     "output_type": "stream",
     "text": [
      "100%|██████████████████████████████████████████████████████████████████████████████████| 29/29 [00:01<00:00, 23.31it/s]\n"
     ]
    },
    {
     "name": "stdout",
     "output_type": "stream",
     "text": [
      "Dados de treino até 2022-05-04, com dados de teste de 2022-05-04 á 2022-06-05\n"
     ]
    },
    {
     "name": "stderr",
     "output_type": "stream",
     "text": [
      "100%|██████████████████████████████████████████████████████████████████████████████████| 29/29 [00:01<00:00, 23.20it/s]\n"
     ]
    },
    {
     "name": "stdout",
     "output_type": "stream",
     "text": [
      "Dados de treino até 2022-05-05, com dados de teste de 2022-05-05 á 2022-06-05\n"
     ]
    },
    {
     "name": "stderr",
     "output_type": "stream",
     "text": [
      "100%|██████████████████████████████████████████████████████████████████████████████████| 29/29 [00:01<00:00, 24.66it/s]\n"
     ]
    },
    {
     "name": "stdout",
     "output_type": "stream",
     "text": [
      "Dados de treino até 2022-05-06, com dados de teste de 2022-05-06 á 2022-06-05\n"
     ]
    },
    {
     "name": "stderr",
     "output_type": "stream",
     "text": [
      "100%|██████████████████████████████████████████████████████████████████████████████████| 29/29 [00:01<00:00, 27.50it/s]\n"
     ]
    },
    {
     "name": "stdout",
     "output_type": "stream",
     "text": [
      "Dados de treino até 2022-05-07, com dados de teste de 2022-05-07 á 2022-06-05\n"
     ]
    },
    {
     "name": "stderr",
     "output_type": "stream",
     "text": [
      "100%|██████████████████████████████████████████████████████████████████████████████████| 29/29 [00:01<00:00, 21.41it/s]\n"
     ]
    },
    {
     "name": "stdout",
     "output_type": "stream",
     "text": [
      "Dados de treino até 2022-05-08, com dados de teste de 2022-05-08 á 2022-06-05\n"
     ]
    },
    {
     "name": "stderr",
     "output_type": "stream",
     "text": [
      "100%|██████████████████████████████████████████████████████████████████████████████████| 29/29 [00:01<00:00, 23.15it/s]\n"
     ]
    },
    {
     "name": "stdout",
     "output_type": "stream",
     "text": [
      "Dados de treino até 2022-05-09, com dados de teste de 2022-05-09 á 2022-06-05\n"
     ]
    },
    {
     "name": "stderr",
     "output_type": "stream",
     "text": [
      "100%|██████████████████████████████████████████████████████████████████████████████████| 29/29 [00:01<00:00, 23.92it/s]\n"
     ]
    },
    {
     "name": "stdout",
     "output_type": "stream",
     "text": [
      "Dados de treino até 2022-05-10, com dados de teste de 2022-05-10 á 2022-06-05\n"
     ]
    },
    {
     "name": "stderr",
     "output_type": "stream",
     "text": [
      "100%|██████████████████████████████████████████████████████████████████████████████████| 29/29 [00:01<00:00, 24.27it/s]\n"
     ]
    },
    {
     "name": "stdout",
     "output_type": "stream",
     "text": [
      "Dados de treino até 2022-05-11, com dados de teste de 2022-05-11 á 2022-06-05\n"
     ]
    },
    {
     "name": "stderr",
     "output_type": "stream",
     "text": [
      "100%|██████████████████████████████████████████████████████████████████████████████████| 29/29 [00:01<00:00, 23.13it/s]\n"
     ]
    },
    {
     "name": "stdout",
     "output_type": "stream",
     "text": [
      "Dados de treino até 2022-05-12, com dados de teste de 2022-05-12 á 2022-06-05\n"
     ]
    },
    {
     "name": "stderr",
     "output_type": "stream",
     "text": [
      "100%|██████████████████████████████████████████████████████████████████████████████████| 29/29 [00:01<00:00, 24.86it/s]\n"
     ]
    },
    {
     "name": "stdout",
     "output_type": "stream",
     "text": [
      "Dados de treino até 2022-05-13, com dados de teste de 2022-05-13 á 2022-06-05\n"
     ]
    },
    {
     "name": "stderr",
     "output_type": "stream",
     "text": [
      "100%|██████████████████████████████████████████████████████████████████████████████████| 29/29 [00:01<00:00, 23.55it/s]\n"
     ]
    },
    {
     "name": "stdout",
     "output_type": "stream",
     "text": [
      "Dados de treino até 2022-05-14, com dados de teste de 2022-05-14 á 2022-06-05\n"
     ]
    },
    {
     "name": "stderr",
     "output_type": "stream",
     "text": [
      "100%|██████████████████████████████████████████████████████████████████████████████████| 29/29 [00:01<00:00, 23.20it/s]\n"
     ]
    },
    {
     "name": "stdout",
     "output_type": "stream",
     "text": [
      "Dados de treino até 2022-05-15, com dados de teste de 2022-05-15 á 2022-06-05\n"
     ]
    },
    {
     "name": "stderr",
     "output_type": "stream",
     "text": [
      "100%|██████████████████████████████████████████████████████████████████████████████████| 29/29 [00:01<00:00, 23.47it/s]\n"
     ]
    },
    {
     "name": "stdout",
     "output_type": "stream",
     "text": [
      "Dados de treino até 2022-05-16, com dados de teste de 2022-05-16 á 2022-06-05\n"
     ]
    },
    {
     "name": "stderr",
     "output_type": "stream",
     "text": [
      "100%|██████████████████████████████████████████████████████████████████████████████████| 29/29 [00:01<00:00, 23.51it/s]\n"
     ]
    },
    {
     "name": "stdout",
     "output_type": "stream",
     "text": [
      "Dados de treino até 2022-05-17, com dados de teste de 2022-05-17 á 2022-06-05\n"
     ]
    },
    {
     "name": "stderr",
     "output_type": "stream",
     "text": [
      "100%|██████████████████████████████████████████████████████████████████████████████████| 29/29 [00:01<00:00, 24.08it/s]\n"
     ]
    },
    {
     "name": "stdout",
     "output_type": "stream",
     "text": [
      "Dados de treino até 2022-05-18, com dados de teste de 2022-05-18 á 2022-06-05\n"
     ]
    },
    {
     "name": "stderr",
     "output_type": "stream",
     "text": [
      "100%|██████████████████████████████████████████████████████████████████████████████████| 29/29 [00:01<00:00, 21.98it/s]\n"
     ]
    },
    {
     "name": "stdout",
     "output_type": "stream",
     "text": [
      "Dados de treino até 2022-05-19, com dados de teste de 2022-05-19 á 2022-06-05\n"
     ]
    },
    {
     "name": "stderr",
     "output_type": "stream",
     "text": [
      "100%|██████████████████████████████████████████████████████████████████████████████████| 29/29 [00:01<00:00, 21.75it/s]\n"
     ]
    },
    {
     "name": "stdout",
     "output_type": "stream",
     "text": [
      "Dados de treino até 2022-05-20, com dados de teste de 2022-05-20 á 2022-06-05\n"
     ]
    },
    {
     "name": "stderr",
     "output_type": "stream",
     "text": [
      "100%|██████████████████████████████████████████████████████████████████████████████████| 29/29 [00:01<00:00, 23.44it/s]\n"
     ]
    },
    {
     "name": "stdout",
     "output_type": "stream",
     "text": [
      "Dados de treino até 2022-05-21, com dados de teste de 2022-05-21 á 2022-06-05\n"
     ]
    },
    {
     "name": "stderr",
     "output_type": "stream",
     "text": [
      "100%|██████████████████████████████████████████████████████████████████████████████████| 29/29 [00:01<00:00, 24.65it/s]\n"
     ]
    },
    {
     "name": "stdout",
     "output_type": "stream",
     "text": [
      "Dados de treino até 2022-05-22, com dados de teste de 2022-05-22 á 2022-06-05\n"
     ]
    },
    {
     "name": "stderr",
     "output_type": "stream",
     "text": [
      "100%|██████████████████████████████████████████████████████████████████████████████████| 29/29 [00:01<00:00, 22.27it/s]\n"
     ]
    },
    {
     "name": "stdout",
     "output_type": "stream",
     "text": [
      "Dados de treino até 2022-05-23, com dados de teste de 2022-05-23 á 2022-06-05\n"
     ]
    },
    {
     "name": "stderr",
     "output_type": "stream",
     "text": [
      "100%|██████████████████████████████████████████████████████████████████████████████████| 29/29 [00:01<00:00, 23.79it/s]\n"
     ]
    },
    {
     "name": "stdout",
     "output_type": "stream",
     "text": [
      "Dados de treino até 2022-05-24, com dados de teste de 2022-05-24 á 2022-06-05\n"
     ]
    },
    {
     "name": "stderr",
     "output_type": "stream",
     "text": [
      "100%|██████████████████████████████████████████████████████████████████████████████████| 29/29 [00:01<00:00, 22.45it/s]\n"
     ]
    },
    {
     "name": "stdout",
     "output_type": "stream",
     "text": [
      "Dados de treino até 2022-05-25, com dados de teste de 2022-05-25 á 2022-06-05\n"
     ]
    },
    {
     "name": "stderr",
     "output_type": "stream",
     "text": [
      "100%|██████████████████████████████████████████████████████████████████████████████████| 29/29 [00:01<00:00, 22.64it/s]\n"
     ]
    },
    {
     "name": "stdout",
     "output_type": "stream",
     "text": [
      "Dados de treino até 2022-05-26, com dados de teste de 2022-05-26 á 2022-06-05\n"
     ]
    },
    {
     "name": "stderr",
     "output_type": "stream",
     "text": [
      "100%|██████████████████████████████████████████████████████████████████████████████████| 29/29 [00:01<00:00, 23.58it/s]\n"
     ]
    },
    {
     "name": "stdout",
     "output_type": "stream",
     "text": [
      "Dados de treino até 2022-05-27, com dados de teste de 2022-05-27 á 2022-06-05\n"
     ]
    },
    {
     "name": "stderr",
     "output_type": "stream",
     "text": [
      "100%|██████████████████████████████████████████████████████████████████████████████████| 29/29 [00:01<00:00, 24.46it/s]\n"
     ]
    },
    {
     "name": "stdout",
     "output_type": "stream",
     "text": [
      "Dados de treino até 2022-05-28, com dados de teste de 2022-05-28 á 2022-06-05\n"
     ]
    },
    {
     "name": "stderr",
     "output_type": "stream",
     "text": [
      "100%|██████████████████████████████████████████████████████████████████████████████████| 29/29 [00:01<00:00, 23.24it/s]\n"
     ]
    },
    {
     "name": "stdout",
     "output_type": "stream",
     "text": [
      "Dados de treino até 2022-05-29, com dados de teste de 2022-05-29 á 2022-06-05\n"
     ]
    },
    {
     "name": "stderr",
     "output_type": "stream",
     "text": [
      "100%|██████████████████████████████████████████████████████████████████████████████████| 29/29 [00:01<00:00, 22.85it/s]\n"
     ]
    },
    {
     "name": "stdout",
     "output_type": "stream",
     "text": [
      "Dados de treino até 2022-05-30, com dados de teste de 2022-05-30 á 2022-06-05\n"
     ]
    },
    {
     "name": "stderr",
     "output_type": "stream",
     "text": [
      "100%|██████████████████████████████████████████████████████████████████████████████████| 29/29 [00:01<00:00, 20.33it/s]\n"
     ]
    },
    {
     "name": "stdout",
     "output_type": "stream",
     "text": [
      "Dados de treino até 2022-05-31, com dados de teste de 2022-05-31 á 2022-06-05\n"
     ]
    },
    {
     "name": "stderr",
     "output_type": "stream",
     "text": [
      "100%|██████████████████████████████████████████████████████████████████████████████████| 29/29 [00:01<00:00, 22.26it/s]\n"
     ]
    },
    {
     "name": "stdout",
     "output_type": "stream",
     "text": [
      "Dados de treino até 2022-06-01, com dados de teste de 2022-06-01 á 2022-06-05\n"
     ]
    },
    {
     "name": "stderr",
     "output_type": "stream",
     "text": [
      "100%|██████████████████████████████████████████████████████████████████████████████████| 29/29 [00:01<00:00, 18.82it/s]\n"
     ]
    },
    {
     "name": "stdout",
     "output_type": "stream",
     "text": [
      "Dados de treino até 2022-06-02, com dados de teste de 2022-06-02 á 2022-06-05\n"
     ]
    },
    {
     "name": "stderr",
     "output_type": "stream",
     "text": [
      "100%|██████████████████████████████████████████████████████████████████████████████████| 29/29 [00:01<00:00, 22.73it/s]\n"
     ]
    },
    {
     "name": "stdout",
     "output_type": "stream",
     "text": [
      "Dados de treino até 2022-06-03, com dados de teste de 2022-06-03 á 2022-06-05\n"
     ]
    },
    {
     "name": "stderr",
     "output_type": "stream",
     "text": [
      "100%|██████████████████████████████████████████████████████████████████████████████████| 29/29 [00:01<00:00, 26.90it/s]\n"
     ]
    },
    {
     "name": "stdout",
     "output_type": "stream",
     "text": [
      "Dados de treino até 2022-06-04, com dados de teste de 2022-06-04 á 2022-06-05\n"
     ]
    },
    {
     "name": "stderr",
     "output_type": "stream",
     "text": [
      "100%|██████████████████████████████████████████████████████████████████████████████████| 29/29 [00:01<00:00, 26.70it/s]\n"
     ]
    }
   ],
   "source": [
    "data_stop = '2022-06-05' ## Definido como 1 dia antes de: df_final99.Date.max() \n",
    "treinar_ate_data_str = '2021-12-31'\n",
    "df_models = pd.DataFrame()\n",
    "resultados = []\n",
    "    \n",
    "while treinar_ate_data_str != data_stop:\n",
    "    print(\"Dados de treino até %s, com dados de teste de %s á %s\" % (treinar_ate_data_str,treinar_ate_data_str,data_stop))\n",
    "\n",
    "    ## Dados de treino (até a data definida por treinar_ate_data_str)\n",
    "    X = df_final99[(df_final99['Date'] <= parser.parse(treinar_ate_data_str))][['score','neu_robd4','neg_finbertd2','scored3']]\n",
    "    y = df_final99[(df_final99['Date'] <= parser.parse(treinar_ate_data_str))][['Fechamento']]\n",
    "\n",
    "    X_train = X\n",
    "    y_train = y\n",
    "\n",
    "    ## Dados de teste (a partir da data definida por treinar_ate_data_str)\n",
    "    X_test = df_final99[(df_final99['Date'] > parser.parse(treinar_ate_data_str))][['score','neu_robd4','neg_finbertd2','scored3']]\n",
    "    y_test = df_final99[(df_final99['Date'] > parser.parse(treinar_ate_data_str))][['Fechamento']]\n",
    "\n",
    "\n",
    "    #Algorítmos ingênuos\n",
    "    clf = LazyClassifier(verbose=0,ignore_warnings=True, custom_metric=None)\n",
    "    models,predictions = clf.fit(X_train, X_test, y_train, y_test) \n",
    "       \n",
    "    \n",
    "    #Atualiza a variável\n",
    "    treinar_ate_data_str = parser.parse(treinar_ate_data_str) + timedelta(1) ## Soma 1 dia\n",
    "    treinar_ate_data_str = treinar_ate_data_str.strftime(\"%Y-%m-%d\") ## Transforma pra string\n",
    "    \n",
    "    ## Armazena os resultados\n",
    "    models['data'] = treinar_ate_data_str\n",
    "    df_models = df_models.append(models.reset_index(), ignore_index=True)\n",
    "    \n",
    "    \n",
    "\n",
    "    #dataframe1 = models.transpose()\n",
    "    #b_accuracy = dataframe1.iloc[1].values.tolist()  ## Lista com valores da acuracia balanceada de todos 29 algoritmos\n",
    "    #nome_modelos = dataframe1.columns.tolist() # Lista com o nome dos 29 algoritmos\n",
    "    #resultados_dia = [treinar_ate_data_str] + b_accuracy # Lista com os resultados do dia\n",
    "    \n",
    "    #resultados.append(np.array(resultados_dia))\n",
    "    \n"
   ]
  },
  {
   "cell_type": "code",
   "execution_count": 274,
   "metadata": {},
   "outputs": [
    {
     "data": {
      "text/html": [
       "<div>\n",
       "<style scoped>\n",
       "    .dataframe tbody tr th:only-of-type {\n",
       "        vertical-align: middle;\n",
       "    }\n",
       "\n",
       "    .dataframe tbody tr th {\n",
       "        vertical-align: top;\n",
       "    }\n",
       "\n",
       "    .dataframe thead th {\n",
       "        text-align: right;\n",
       "    }\n",
       "</style>\n",
       "<table border=\"1\" class=\"dataframe\">\n",
       "  <thead>\n",
       "    <tr style=\"text-align: right;\">\n",
       "      <th></th>\n",
       "      <th>Model</th>\n",
       "      <th>Accuracy</th>\n",
       "      <th>Balanced Accuracy</th>\n",
       "      <th>ROC AUC</th>\n",
       "      <th>F1 Score</th>\n",
       "      <th>Time Taken</th>\n",
       "      <th>data</th>\n",
       "      <th>Mes</th>\n",
       "    </tr>\n",
       "  </thead>\n",
       "  <tbody>\n",
       "    <tr>\n",
       "      <th>0</th>\n",
       "      <td>SVC</td>\n",
       "      <td>0.58</td>\n",
       "      <td>0.58</td>\n",
       "      <td>0.58</td>\n",
       "      <td>0.58</td>\n",
       "      <td>0.02</td>\n",
       "      <td>2022-01-01</td>\n",
       "      <td>1</td>\n",
       "    </tr>\n",
       "    <tr>\n",
       "      <th>1</th>\n",
       "      <td>GaussianNB</td>\n",
       "      <td>0.57</td>\n",
       "      <td>0.57</td>\n",
       "      <td>0.57</td>\n",
       "      <td>0.57</td>\n",
       "      <td>0.02</td>\n",
       "      <td>2022-01-01</td>\n",
       "      <td>1</td>\n",
       "    </tr>\n",
       "    <tr>\n",
       "      <th>2</th>\n",
       "      <td>BernoulliNB</td>\n",
       "      <td>0.56</td>\n",
       "      <td>0.56</td>\n",
       "      <td>0.56</td>\n",
       "      <td>0.56</td>\n",
       "      <td>0.03</td>\n",
       "      <td>2022-01-01</td>\n",
       "      <td>1</td>\n",
       "    </tr>\n",
       "    <tr>\n",
       "      <th>3</th>\n",
       "      <td>NearestCentroid</td>\n",
       "      <td>0.54</td>\n",
       "      <td>0.54</td>\n",
       "      <td>0.54</td>\n",
       "      <td>0.54</td>\n",
       "      <td>0.02</td>\n",
       "      <td>2022-01-01</td>\n",
       "      <td>1</td>\n",
       "    </tr>\n",
       "    <tr>\n",
       "      <th>4</th>\n",
       "      <td>LinearSVC</td>\n",
       "      <td>0.54</td>\n",
       "      <td>0.54</td>\n",
       "      <td>0.54</td>\n",
       "      <td>0.54</td>\n",
       "      <td>0.03</td>\n",
       "      <td>2022-01-01</td>\n",
       "      <td>1</td>\n",
       "    </tr>\n",
       "    <tr>\n",
       "      <th>...</th>\n",
       "      <td>...</td>\n",
       "      <td>...</td>\n",
       "      <td>...</td>\n",
       "      <td>...</td>\n",
       "      <td>...</td>\n",
       "      <td>...</td>\n",
       "      <td>...</td>\n",
       "      <td>...</td>\n",
       "    </tr>\n",
       "    <tr>\n",
       "      <th>4207</th>\n",
       "      <td>KNeighborsClassifier</td>\n",
       "      <td>0.00</td>\n",
       "      <td>0.00</td>\n",
       "      <td>None</td>\n",
       "      <td>0.00</td>\n",
       "      <td>0.02</td>\n",
       "      <td>2022-06-05</td>\n",
       "      <td>6</td>\n",
       "    </tr>\n",
       "    <tr>\n",
       "      <th>4208</th>\n",
       "      <td>GaussianNB</td>\n",
       "      <td>0.00</td>\n",
       "      <td>0.00</td>\n",
       "      <td>None</td>\n",
       "      <td>0.00</td>\n",
       "      <td>0.02</td>\n",
       "      <td>2022-06-05</td>\n",
       "      <td>6</td>\n",
       "    </tr>\n",
       "    <tr>\n",
       "      <th>4209</th>\n",
       "      <td>Perceptron</td>\n",
       "      <td>0.00</td>\n",
       "      <td>0.00</td>\n",
       "      <td>None</td>\n",
       "      <td>0.00</td>\n",
       "      <td>0.02</td>\n",
       "      <td>2022-06-05</td>\n",
       "      <td>6</td>\n",
       "    </tr>\n",
       "    <tr>\n",
       "      <th>4210</th>\n",
       "      <td>QuadraticDiscriminantAnalysis</td>\n",
       "      <td>0.00</td>\n",
       "      <td>0.00</td>\n",
       "      <td>None</td>\n",
       "      <td>0.00</td>\n",
       "      <td>0.02</td>\n",
       "      <td>2022-06-05</td>\n",
       "      <td>6</td>\n",
       "    </tr>\n",
       "    <tr>\n",
       "      <th>4211</th>\n",
       "      <td>AdaBoostClassifier</td>\n",
       "      <td>0.00</td>\n",
       "      <td>0.00</td>\n",
       "      <td>None</td>\n",
       "      <td>0.00</td>\n",
       "      <td>0.13</td>\n",
       "      <td>2022-06-05</td>\n",
       "      <td>6</td>\n",
       "    </tr>\n",
       "  </tbody>\n",
       "</table>\n",
       "<p>4212 rows × 8 columns</p>\n",
       "</div>"
      ],
      "text/plain": [
       "                              Model  Accuracy  Balanced Accuracy ROC AUC  \\\n",
       "0                               SVC      0.58               0.58    0.58   \n",
       "1                        GaussianNB      0.57               0.57    0.57   \n",
       "2                       BernoulliNB      0.56               0.56    0.56   \n",
       "3                   NearestCentroid      0.54               0.54    0.54   \n",
       "4                         LinearSVC      0.54               0.54    0.54   \n",
       "...                             ...       ...                ...     ...   \n",
       "4207           KNeighborsClassifier      0.00               0.00    None   \n",
       "4208                     GaussianNB      0.00               0.00    None   \n",
       "4209                     Perceptron      0.00               0.00    None   \n",
       "4210  QuadraticDiscriminantAnalysis      0.00               0.00    None   \n",
       "4211             AdaBoostClassifier      0.00               0.00    None   \n",
       "\n",
       "      F1 Score  Time Taken       data  Mes  \n",
       "0         0.58        0.02 2022-01-01    1  \n",
       "1         0.57        0.02 2022-01-01    1  \n",
       "2         0.56        0.03 2022-01-01    1  \n",
       "3         0.54        0.02 2022-01-01    1  \n",
       "4         0.54        0.03 2022-01-01    1  \n",
       "...        ...         ...        ...  ...  \n",
       "4207      0.00        0.02 2022-06-05    6  \n",
       "4208      0.00        0.02 2022-06-05    6  \n",
       "4209      0.00        0.02 2022-06-05    6  \n",
       "4210      0.00        0.02 2022-06-05    6  \n",
       "4211      0.00        0.13 2022-06-05    6  \n",
       "\n",
       "[4212 rows x 8 columns]"
      ]
     },
     "execution_count": 274,
     "metadata": {},
     "output_type": "execute_result"
    }
   ],
   "source": [
    "df_models2 = df_models.copy()\n",
    "df_models2['data'] = pd.to_datetime(df_models2['data'])\n",
    "df_models2['Mes'] = df_models2['data'].dt.month \n",
    "df_models2"
   ]
  },
  {
   "cell_type": "code",
   "execution_count": 352,
   "metadata": {},
   "outputs": [
    {
     "data": {
      "text/plain": [
       "Text(2022-04-03 00:00:00, 0.85, 'SVC Model')"
      ]
     },
     "execution_count": 352,
     "metadata": {},
     "output_type": "execute_result"
    },
    {
     "data": {
      "image/png": "[encoded data removed]",
      "text/plain": [
       "<Figure size 1296x576 with 1 Axes>"
      ]
     },
     "metadata": {
      "needs_background": "light"
     },
     "output_type": "display_data"
    }
   ],
   "source": [
    "fig, ax = plt.subplots(figsize=(18,8))\n",
    "\n",
    "# multiline plot with group by\n",
    "for key, grp in df_models2.groupby(['Model']): \n",
    "    ax.plot(grp['data'], grp['Balanced Accuracy'], label = key)\n",
    "ax.legend(loc='upper right',prop={'size': 10}) \n",
    "ax.set_yticks(np.arange(0, 1.05, step=0.05).tolist())\n",
    "\n",
    "\n",
    "#ax.text(parser.parse('2022-03-29'), 0.72, 'No continuous trend observed', fontsize=15,  color='red')\n",
    "ax.plot([parser.parse('2022-03-29')], [0.72], 'o')\n",
    "ax.annotate('SVC Model', xy=(parser.parse('2022-03-29'), 0.72), xytext=(parser.parse('2022-04-03'), 0.85), fontsize=12,arrowprops=dict(facecolor='red', shrink=0.05))"
   ]
  },
  {
   "cell_type": "code",
   "execution_count": 372,
   "metadata": {},
   "outputs": [
    {
     "data": {
      "text/html": [
       "<div>\n",
       "<style scoped>\n",
       "    .dataframe tbody tr th:only-of-type {\n",
       "        vertical-align: middle;\n",
       "    }\n",
       "\n",
       "    .dataframe tbody tr th {\n",
       "        vertical-align: top;\n",
       "    }\n",
       "\n",
       "    .dataframe thead th {\n",
       "        text-align: right;\n",
       "    }\n",
       "</style>\n",
       "<table border=\"1\" class=\"dataframe\">\n",
       "  <thead>\n",
       "    <tr style=\"text-align: right;\">\n",
       "      <th></th>\n",
       "      <th>Model</th>\n",
       "      <th>Accuracy</th>\n",
       "      <th>Balanced Accuracy</th>\n",
       "      <th>ROC AUC</th>\n",
       "      <th>F1 Score</th>\n",
       "      <th>Time Taken</th>\n",
       "      <th>data</th>\n",
       "      <th>Mes</th>\n",
       "    </tr>\n",
       "  </thead>\n",
       "  <tbody>\n",
       "    <tr>\n",
       "      <th>2349</th>\n",
       "      <td>SVC</td>\n",
       "      <td>0.72</td>\n",
       "      <td>0.72</td>\n",
       "      <td>0.72</td>\n",
       "      <td>0.72</td>\n",
       "      <td>0.02</td>\n",
       "      <td>2022-03-29</td>\n",
       "      <td>3</td>\n",
       "    </tr>\n",
       "    <tr>\n",
       "      <th>2350</th>\n",
       "      <td>BernoulliNB</td>\n",
       "      <td>0.67</td>\n",
       "      <td>0.67</td>\n",
       "      <td>0.67</td>\n",
       "      <td>0.67</td>\n",
       "      <td>0.02</td>\n",
       "      <td>2022-03-29</td>\n",
       "      <td>3</td>\n",
       "    </tr>\n",
       "    <tr>\n",
       "      <th>2351</th>\n",
       "      <td>LinearSVC</td>\n",
       "      <td>0.67</td>\n",
       "      <td>0.66</td>\n",
       "      <td>0.66</td>\n",
       "      <td>0.66</td>\n",
       "      <td>0.02</td>\n",
       "      <td>2022-03-29</td>\n",
       "      <td>3</td>\n",
       "    </tr>\n",
       "    <tr>\n",
       "      <th>2352</th>\n",
       "      <td>LinearDiscriminantAnalysis</td>\n",
       "      <td>0.67</td>\n",
       "      <td>0.66</td>\n",
       "      <td>0.66</td>\n",
       "      <td>0.66</td>\n",
       "      <td>0.01</td>\n",
       "      <td>2022-03-29</td>\n",
       "      <td>3</td>\n",
       "    </tr>\n",
       "    <tr>\n",
       "      <th>2353</th>\n",
       "      <td>CalibratedClassifierCV</td>\n",
       "      <td>0.67</td>\n",
       "      <td>0.66</td>\n",
       "      <td>0.66</td>\n",
       "      <td>0.66</td>\n",
       "      <td>0.05</td>\n",
       "      <td>2022-03-29</td>\n",
       "      <td>3</td>\n",
       "    </tr>\n",
       "    <tr>\n",
       "      <th>2354</th>\n",
       "      <td>RidgeClassifier</td>\n",
       "      <td>0.67</td>\n",
       "      <td>0.66</td>\n",
       "      <td>0.66</td>\n",
       "      <td>0.66</td>\n",
       "      <td>0.02</td>\n",
       "      <td>2022-03-29</td>\n",
       "      <td>3</td>\n",
       "    </tr>\n",
       "    <tr>\n",
       "      <th>2355</th>\n",
       "      <td>RidgeClassifierCV</td>\n",
       "      <td>0.67</td>\n",
       "      <td>0.66</td>\n",
       "      <td>0.66</td>\n",
       "      <td>0.66</td>\n",
       "      <td>0.02</td>\n",
       "      <td>2022-03-29</td>\n",
       "      <td>3</td>\n",
       "    </tr>\n",
       "    <tr>\n",
       "      <th>2356</th>\n",
       "      <td>LogisticRegression</td>\n",
       "      <td>0.67</td>\n",
       "      <td>0.66</td>\n",
       "      <td>0.66</td>\n",
       "      <td>0.66</td>\n",
       "      <td>0.02</td>\n",
       "      <td>2022-03-29</td>\n",
       "      <td>3</td>\n",
       "    </tr>\n",
       "    <tr>\n",
       "      <th>2357</th>\n",
       "      <td>NearestCentroid</td>\n",
       "      <td>0.64</td>\n",
       "      <td>0.63</td>\n",
       "      <td>0.63</td>\n",
       "      <td>0.63</td>\n",
       "      <td>0.01</td>\n",
       "      <td>2022-03-29</td>\n",
       "      <td>3</td>\n",
       "    </tr>\n",
       "    <tr>\n",
       "      <th>2358</th>\n",
       "      <td>GaussianNB</td>\n",
       "      <td>0.61</td>\n",
       "      <td>0.61</td>\n",
       "      <td>0.61</td>\n",
       "      <td>0.61</td>\n",
       "      <td>0.02</td>\n",
       "      <td>2022-03-29</td>\n",
       "      <td>3</td>\n",
       "    </tr>\n",
       "    <tr>\n",
       "      <th>2359</th>\n",
       "      <td>QuadraticDiscriminantAnalysis</td>\n",
       "      <td>0.61</td>\n",
       "      <td>0.61</td>\n",
       "      <td>0.61</td>\n",
       "      <td>0.61</td>\n",
       "      <td>0.01</td>\n",
       "      <td>2022-03-29</td>\n",
       "      <td>3</td>\n",
       "    </tr>\n",
       "    <tr>\n",
       "      <th>2360</th>\n",
       "      <td>SGDClassifier</td>\n",
       "      <td>0.61</td>\n",
       "      <td>0.60</td>\n",
       "      <td>0.60</td>\n",
       "      <td>0.60</td>\n",
       "      <td>0.02</td>\n",
       "      <td>2022-03-29</td>\n",
       "      <td>3</td>\n",
       "    </tr>\n",
       "    <tr>\n",
       "      <th>2361</th>\n",
       "      <td>KNeighborsClassifier</td>\n",
       "      <td>0.58</td>\n",
       "      <td>0.59</td>\n",
       "      <td>0.59</td>\n",
       "      <td>0.58</td>\n",
       "      <td>0.02</td>\n",
       "      <td>2022-03-29</td>\n",
       "      <td>3</td>\n",
       "    </tr>\n",
       "    <tr>\n",
       "      <th>2362</th>\n",
       "      <td>LabelSpreading</td>\n",
       "      <td>0.58</td>\n",
       "      <td>0.58</td>\n",
       "      <td>0.58</td>\n",
       "      <td>0.58</td>\n",
       "      <td>0.02</td>\n",
       "      <td>2022-03-29</td>\n",
       "      <td>3</td>\n",
       "    </tr>\n",
       "    <tr>\n",
       "      <th>2363</th>\n",
       "      <td>LabelPropagation</td>\n",
       "      <td>0.58</td>\n",
       "      <td>0.58</td>\n",
       "      <td>0.58</td>\n",
       "      <td>0.58</td>\n",
       "      <td>0.02</td>\n",
       "      <td>2022-03-29</td>\n",
       "      <td>3</td>\n",
       "    </tr>\n",
       "    <tr>\n",
       "      <th>2364</th>\n",
       "      <td>ExtraTreesClassifier</td>\n",
       "      <td>0.56</td>\n",
       "      <td>0.56</td>\n",
       "      <td>0.56</td>\n",
       "      <td>0.56</td>\n",
       "      <td>0.14</td>\n",
       "      <td>2022-03-29</td>\n",
       "      <td>3</td>\n",
       "    </tr>\n",
       "    <tr>\n",
       "      <th>2365</th>\n",
       "      <td>ExtraTreeClassifier</td>\n",
       "      <td>0.56</td>\n",
       "      <td>0.55</td>\n",
       "      <td>0.55</td>\n",
       "      <td>0.56</td>\n",
       "      <td>0.01</td>\n",
       "      <td>2022-03-29</td>\n",
       "      <td>3</td>\n",
       "    </tr>\n",
       "    <tr>\n",
       "      <th>2366</th>\n",
       "      <td>DummyClassifier</td>\n",
       "      <td>0.56</td>\n",
       "      <td>0.55</td>\n",
       "      <td>0.55</td>\n",
       "      <td>0.56</td>\n",
       "      <td>0.01</td>\n",
       "      <td>2022-03-29</td>\n",
       "      <td>3</td>\n",
       "    </tr>\n",
       "    <tr>\n",
       "      <th>2367</th>\n",
       "      <td>RandomForestClassifier</td>\n",
       "      <td>0.56</td>\n",
       "      <td>0.55</td>\n",
       "      <td>0.55</td>\n",
       "      <td>0.55</td>\n",
       "      <td>0.18</td>\n",
       "      <td>2022-03-29</td>\n",
       "      <td>3</td>\n",
       "    </tr>\n",
       "    <tr>\n",
       "      <th>2368</th>\n",
       "      <td>LGBMClassifier</td>\n",
       "      <td>0.56</td>\n",
       "      <td>0.54</td>\n",
       "      <td>0.54</td>\n",
       "      <td>0.54</td>\n",
       "      <td>0.07</td>\n",
       "      <td>2022-03-29</td>\n",
       "      <td>3</td>\n",
       "    </tr>\n",
       "    <tr>\n",
       "      <th>2369</th>\n",
       "      <td>Perceptron</td>\n",
       "      <td>0.53</td>\n",
       "      <td>0.54</td>\n",
       "      <td>0.54</td>\n",
       "      <td>0.51</td>\n",
       "      <td>0.01</td>\n",
       "      <td>2022-03-29</td>\n",
       "      <td>3</td>\n",
       "    </tr>\n",
       "    <tr>\n",
       "      <th>2370</th>\n",
       "      <td>AdaBoostClassifier</td>\n",
       "      <td>0.50</td>\n",
       "      <td>0.50</td>\n",
       "      <td>0.50</td>\n",
       "      <td>0.50</td>\n",
       "      <td>0.13</td>\n",
       "      <td>2022-03-29</td>\n",
       "      <td>3</td>\n",
       "    </tr>\n",
       "    <tr>\n",
       "      <th>2371</th>\n",
       "      <td>NuSVC</td>\n",
       "      <td>0.47</td>\n",
       "      <td>0.48</td>\n",
       "      <td>0.48</td>\n",
       "      <td>0.47</td>\n",
       "      <td>0.05</td>\n",
       "      <td>2022-03-29</td>\n",
       "      <td>3</td>\n",
       "    </tr>\n",
       "    <tr>\n",
       "      <th>2372</th>\n",
       "      <td>BaggingClassifier</td>\n",
       "      <td>0.47</td>\n",
       "      <td>0.47</td>\n",
       "      <td>0.47</td>\n",
       "      <td>0.47</td>\n",
       "      <td>0.04</td>\n",
       "      <td>2022-03-29</td>\n",
       "      <td>3</td>\n",
       "    </tr>\n",
       "    <tr>\n",
       "      <th>2373</th>\n",
       "      <td>DecisionTreeClassifier</td>\n",
       "      <td>0.47</td>\n",
       "      <td>0.46</td>\n",
       "      <td>0.46</td>\n",
       "      <td>0.44</td>\n",
       "      <td>0.02</td>\n",
       "      <td>2022-03-29</td>\n",
       "      <td>3</td>\n",
       "    </tr>\n",
       "    <tr>\n",
       "      <th>2374</th>\n",
       "      <td>XGBClassifier</td>\n",
       "      <td>0.44</td>\n",
       "      <td>0.44</td>\n",
       "      <td>0.44</td>\n",
       "      <td>0.44</td>\n",
       "      <td>0.07</td>\n",
       "      <td>2022-03-29</td>\n",
       "      <td>3</td>\n",
       "    </tr>\n",
       "    <tr>\n",
       "      <th>2375</th>\n",
       "      <td>PassiveAggressiveClassifier</td>\n",
       "      <td>0.36</td>\n",
       "      <td>0.38</td>\n",
       "      <td>0.38</td>\n",
       "      <td>0.28</td>\n",
       "      <td>0.01</td>\n",
       "      <td>2022-03-29</td>\n",
       "      <td>3</td>\n",
       "    </tr>\n",
       "  </tbody>\n",
       "</table>\n",
       "</div>"
      ],
      "text/plain": [
       "                              Model  Accuracy  Balanced Accuracy ROC AUC  \\\n",
       "2349                            SVC      0.72               0.72    0.72   \n",
       "2350                    BernoulliNB      0.67               0.67    0.67   \n",
       "2351                      LinearSVC      0.67               0.66    0.66   \n",
       "2352     LinearDiscriminantAnalysis      0.67               0.66    0.66   \n",
       "2353         CalibratedClassifierCV      0.67               0.66    0.66   \n",
       "2354                RidgeClassifier      0.67               0.66    0.66   \n",
       "2355              RidgeClassifierCV      0.67               0.66    0.66   \n",
       "2356             LogisticRegression      0.67               0.66    0.66   \n",
       "2357                NearestCentroid      0.64               0.63    0.63   \n",
       "2358                     GaussianNB      0.61               0.61    0.61   \n",
       "2359  QuadraticDiscriminantAnalysis      0.61               0.61    0.61   \n",
       "2360                  SGDClassifier      0.61               0.60    0.60   \n",
       "2361           KNeighborsClassifier      0.58               0.59    0.59   \n",
       "2362                 LabelSpreading      0.58               0.58    0.58   \n",
       "2363               LabelPropagation      0.58               0.58    0.58   \n",
       "2364           ExtraTreesClassifier      0.56               0.56    0.56   \n",
       "2365            ExtraTreeClassifier      0.56               0.55    0.55   \n",
       "2366                DummyClassifier      0.56               0.55    0.55   \n",
       "2367         RandomForestClassifier      0.56               0.55    0.55   \n",
       "2368                 LGBMClassifier      0.56               0.54    0.54   \n",
       "2369                     Perceptron      0.53               0.54    0.54   \n",
       "2370             AdaBoostClassifier      0.50               0.50    0.50   \n",
       "2371                          NuSVC      0.47               0.48    0.48   \n",
       "2372              BaggingClassifier      0.47               0.47    0.47   \n",
       "2373         DecisionTreeClassifier      0.47               0.46    0.46   \n",
       "2374                  XGBClassifier      0.44               0.44    0.44   \n",
       "2375    PassiveAggressiveClassifier      0.36               0.38    0.38   \n",
       "\n",
       "      F1 Score  Time Taken       data  Mes  \n",
       "2349      0.72        0.02 2022-03-29    3  \n",
       "2350      0.67        0.02 2022-03-29    3  \n",
       "2351      0.66        0.02 2022-03-29    3  \n",
       "2352      0.66        0.01 2022-03-29    3  \n",
       "2353      0.66        0.05 2022-03-29    3  \n",
       "2354      0.66        0.02 2022-03-29    3  \n",
       "2355      0.66        0.02 2022-03-29    3  \n",
       "2356      0.66        0.02 2022-03-29    3  \n",
       "2357      0.63        0.01 2022-03-29    3  \n",
       "2358      0.61        0.02 2022-03-29    3  \n",
       "2359      0.61        0.01 2022-03-29    3  \n",
       "2360      0.60        0.02 2022-03-29    3  \n",
       "2361      0.58        0.02 2022-03-29    3  \n",
       "2362      0.58        0.02 2022-03-29    3  \n",
       "2363      0.58        0.02 2022-03-29    3  \n",
       "2364      0.56        0.14 2022-03-29    3  \n",
       "2365      0.56        0.01 2022-03-29    3  \n",
       "2366      0.56        0.01 2022-03-29    3  \n",
       "2367      0.55        0.18 2022-03-29    3  \n",
       "2368      0.54        0.07 2022-03-29    3  \n",
       "2369      0.51        0.01 2022-03-29    3  \n",
       "2370      0.50        0.13 2022-03-29    3  \n",
       "2371      0.47        0.05 2022-03-29    3  \n",
       "2372      0.47        0.04 2022-03-29    3  \n",
       "2373      0.44        0.02 2022-03-29    3  \n",
       "2374      0.44        0.07 2022-03-29    3  \n",
       "2375      0.28        0.01 2022-03-29    3  "
      ]
     },
     "execution_count": 372,
     "metadata": {},
     "output_type": "execute_result"
    }
   ],
   "source": [
    "df_models2[(df_models2['data']=='2022-03-29')]"
   ]
  },
  {
   "cell_type": "code",
   "execution_count": null,
   "metadata": {},
   "outputs": [],
   "source": []
  },
  {
   "cell_type": "markdown",
   "metadata": {},
   "source": [
    "# Tunagem SVC:\n",
    "O modelo SVC ja havia sido selecionado como um dos melhores ao treinar e testar com dados de 2020 e 2021 no notebook \"Experimentos - Machine Learning\".\n",
    "\n",
    "O modelo SVC também se mostrou promissor avaliando sobre os dados de 2022. Portanto, iremos tunar apenas esse modelo uma vez que foi o que melhor performou sobre dados ainda não vistos.\n",
    "\n",
    "- Dados de treinamento: Até de 2020-01-01 á 2022-03-29  \n",
    "- Dados de testes: de 2022-03-30 á 2022-06-06"
   ]
  },
  {
   "cell_type": "code",
   "execution_count": 353,
   "metadata": {},
   "outputs": [],
   "source": [
    "from sklearn.svm import SVC"
   ]
  },
  {
   "cell_type": "code",
   "execution_count": 354,
   "metadata": {},
   "outputs": [],
   "source": [
    "acuracia_dados = make_scorer(accuracy_score)\n",
    "f1_dados = make_scorer(f1_score)\n",
    "balanced_acc_dados = make_scorer(balanced_accuracy_score)\n",
    "scoring = {\"accuracy\": acuracia_dados, \"f1\":f1_dados, \"bacuracy\":balanced_acc_dados}\n",
    "resultados = []"
   ]
  },
  {
   "cell_type": "code",
   "execution_count": 364,
   "metadata": {},
   "outputs": [
    {
     "name": "stdout",
     "output_type": "stream",
     "text": [
      "Fazendo gridsearch - Repeticao 1\n",
      "Fazendo gridsearch - Repeticao 2\n",
      "Fazendo gridsearch - Repeticao 3\n",
      "Fazendo gridsearch - Repeticao 4\n",
      "Fazendo gridsearch - Repeticao 5\n",
      "Fazendo gridsearch - Repeticao 6\n",
      "Fazendo gridsearch - Repeticao 7\n",
      "Fazendo gridsearch - Repeticao 8\n",
      "Fazendo gridsearch - Repeticao 9\n",
      "Fazendo gridsearch - Repeticao 10\n",
      "Fazendo gridsearch - Repeticao 11\n",
      "Fazendo gridsearch - Repeticao 12\n",
      "Fazendo gridsearch - Repeticao 13\n",
      "Fazendo gridsearch - Repeticao 14\n",
      "Fazendo gridsearch - Repeticao 15\n",
      "Fazendo gridsearch - Repeticao 16\n",
      "Fazendo gridsearch - Repeticao 17\n",
      "Fazendo gridsearch - Repeticao 18\n",
      "Fazendo gridsearch - Repeticao 19\n",
      "Fazendo gridsearch - Repeticao 20\n",
      "Fazendo gridsearch - Repeticao 21\n",
      "Fazendo gridsearch - Repeticao 22\n",
      "Fazendo gridsearch - Repeticao 23\n",
      "Fazendo gridsearch - Repeticao 24\n",
      "Fazendo gridsearch - Repeticao 25\n",
      "Fazendo gridsearch - Repeticao 26\n",
      "Fazendo gridsearch - Repeticao 27\n",
      "Fazendo gridsearch - Repeticao 28\n",
      "Fazendo gridsearch - Repeticao 29\n",
      "Fazendo gridsearch - Repeticao 30\n"
     ]
    }
   ],
   "source": [
    "treinar_ate_data_str = '2022-03-29'\n",
    "\n",
    "## Dados de treino (até a data definida por treinar_ate_data_str)\n",
    "X = df_final99[(df_final99['Date'] <= parser.parse(treinar_ate_data_str))][['score','neu_robd4','neg_finbertd2','scored3']]\n",
    "y = df_final99[(df_final99['Date'] <= parser.parse(treinar_ate_data_str))][['Fechamento']]\n",
    "\n",
    "X_train = X\n",
    "y_train = y\n",
    "\n",
    "## Dados de teste (a partir da data definida por treinar_ate_data_str)\n",
    "X_test = df_final99[(df_final99['Date'] > parser.parse(treinar_ate_data_str))][['score','neu_robd4','neg_finbertd2','scored3']]\n",
    "y_test = df_final99[(df_final99['Date'] > parser.parse(treinar_ate_data_str))][['Fechamento']]\n",
    "\n",
    "C = [1,0.1]\n",
    "kernel = ['linear', 'poly', 'rbf', 'sigmoid']\n",
    "gamma = ['scale', 'auto']\n",
    "\n",
    "\n",
    "C = [1.5,2,5,10,100]\n",
    "kernel = ['linear','poly']\n",
    "gamma = ['scale', 'auto']\n",
    "\n",
    "C = [20,30,40,50,60,70,80,90]\n",
    "kernel = ['poly']\n",
    "gamma = ['auto']\n",
    "\n",
    "C = [6,7,8,9,10,11,12,13,14,15,16,17,18,19]\n",
    "kernel = ['poly']\n",
    "gamma = ['auto']\n",
    "\n",
    "C = [11.1,11.2,11.3,11.4,11.5,11.6,11.7,11.8,11.9]\n",
    "kernel = ['poly']\n",
    "gamma = ['auto']\n",
    "\n",
    "\n",
    "\n",
    "#C = [1.1,1.2,1.3,1.4,1.6,1.8,1.9]\n",
    "#kernel = ['linear']\n",
    "#gamma = ['scale', 'auto']\n",
    "\n",
    "#C = [1.42,1.44,1.46,1.48,1.52,1.54,1.56,1.58]\n",
    "#kernel = ['linear']\n",
    "#gamma = ['scale', 'auto']\n",
    "\n",
    "\n",
    "\n",
    "#Repete os experimentos 30x\n",
    "for i in range(30):   \n",
    "    \n",
    "    #Holdout: Treinando apenas com 70% do dataset de treino\n",
    "    X_train, X_descarte, y_train, y_descarte = train_test_split(X, y, test_size=0.3, random_state=i, stratify=y)\n",
    "        \n",
    "    #Validação cruzada com 10 kfolds\n",
    "    kfold = KFold(n_splits = 10, shuffle = True, random_state = i)\n",
    "    \n",
    "    print(\"Fazendo gridsearch - Repeticao %s\" % (i+1))\n",
    "    \n",
    "    \n",
    "    # itera sobre parametro 1:\n",
    "    for k in C:\n",
    "        \n",
    "        # itera sobre parametro 2:\n",
    "        for u in kernel:\n",
    "            \n",
    "            #itera sobre o parametro 3:\n",
    "            for w in gamma:\n",
    "        \n",
    "                gs = GridSearchCV(\n",
    "                    SVC(random_state=i) ,\n",
    "                    param_grid={\"C\": [k], \n",
    "                                \"kernel\":[u],\n",
    "                                \"gamma\":[w]}, \n",
    "                    scoring=scoring,\n",
    "                    refit=\"bacuracy\",\n",
    "                    n_jobs=2,\n",
    "                    return_train_score=True,\n",
    "                    cv = kfold\n",
    "                        )\n",
    "\n",
    "                #Treinando o modelo com dados de treino c/ 9 folds e utilizando 1 fold para teste\n",
    "                gs.fit(X_train, y_train)\n",
    "\n",
    "                #Melhores resultados e hiperparâmetros encontrados\n",
    "                acuracy_treino = gs.best_score_\n",
    "                hyperparams = gs.best_params_\n",
    "\n",
    "                ##Predizendo as classes nos dados de teste e todos dados, utilizando os melhores parâmetros\n",
    "                y_test_pred = gs.predict(X_test)\n",
    "                #y_test_pred_todos = gs.predict(X_todos)\n",
    "\n",
    "                #Calculando acurácia \n",
    "                accuracy_teste = accuracy_score(y_test, y_test_pred)\n",
    "                #accuracy_todos = accuracy_score(y_todos, y_test_pred_todos)\n",
    "\n",
    "                #calculando f1_score da classe 1\n",
    "                f1_teste = f1_score(y_test, y_test_pred)\n",
    "                #f1_todos = f1_score(y_todos, y_test_pred_todos)\n",
    "\n",
    "                #calculando área sobre a curva ROC_AUC:\n",
    "                auc_teste = roc_auc_score(y_test, y_test_pred)\n",
    "                #auc_todos = roc_auc_score(y_todos, y_test_pred_todos)\n",
    "\n",
    "                #Calculando Recall clase 1\n",
    "                rec0_teste = recall_score(y_test, y_test_pred, pos_label=0)\n",
    "                rec1_teste = recall_score(y_test, y_test_pred, pos_label=1)\n",
    "\n",
    "                #rec0_todos = recall_score(y_todos, y_test_pred_todos, pos_label=0)\n",
    "                #rec1_todos = recall_score(y_todos, y_test_pred_todos, pos_label=1)\n",
    "\n",
    "                #Calculando a acurácia balanceada\n",
    "                accuracy_teste_balanced = balanced_accuracy_score(y_test, y_test_pred)\n",
    "\n",
    "                # Adicionando todos resultados em uma única lista\n",
    "                resultados.append(np.array([i,hyperparams['C'],hyperparams['kernel'],hyperparams['gamma'],acuracy_treino,accuracy_teste,accuracy_teste_balanced,rec0_teste,rec1_teste,f1_teste,auc_teste]))"
   ]
  },
  {
   "cell_type": "code",
   "execution_count": 365,
   "metadata": {},
   "outputs": [
    {
     "data": {
      "text/html": [
       "<div>\n",
       "<style scoped>\n",
       "    .dataframe tbody tr th:only-of-type {\n",
       "        vertical-align: middle;\n",
       "    }\n",
       "\n",
       "    .dataframe tbody tr th {\n",
       "        vertical-align: top;\n",
       "    }\n",
       "\n",
       "    .dataframe thead th {\n",
       "        text-align: right;\n",
       "    }\n",
       "</style>\n",
       "<table border=\"1\" class=\"dataframe\">\n",
       "  <thead>\n",
       "    <tr style=\"text-align: right;\">\n",
       "      <th></th>\n",
       "      <th></th>\n",
       "      <th></th>\n",
       "      <th>acuracy_treino</th>\n",
       "      <th>acuracia_teste</th>\n",
       "      <th>acuracia_balanceada_teste</th>\n",
       "      <th>rec_0_teste</th>\n",
       "      <th>rec_1_teste</th>\n",
       "      <th>f1_teste</th>\n",
       "      <th>auc_teste</th>\n",
       "    </tr>\n",
       "    <tr>\n",
       "      <th>C</th>\n",
       "      <th>kernel</th>\n",
       "      <th>gamma</th>\n",
       "      <th></th>\n",
       "      <th></th>\n",
       "      <th></th>\n",
       "      <th></th>\n",
       "      <th></th>\n",
       "      <th></th>\n",
       "      <th></th>\n",
       "    </tr>\n",
       "  </thead>\n",
       "  <tbody>\n",
       "    <tr>\n",
       "      <th>11.7</th>\n",
       "      <th>poly</th>\n",
       "      <th>auto</th>\n",
       "      <td>0.59</td>\n",
       "      <td>0.69</td>\n",
       "      <td>0.69</td>\n",
       "      <td>0.49</td>\n",
       "      <td>0.89</td>\n",
       "      <td>0.75</td>\n",
       "      <td>0.69</td>\n",
       "    </tr>\n",
       "    <tr>\n",
       "      <th>11.6</th>\n",
       "      <th>poly</th>\n",
       "      <th>auto</th>\n",
       "      <td>0.59</td>\n",
       "      <td>0.69</td>\n",
       "      <td>0.69</td>\n",
       "      <td>0.49</td>\n",
       "      <td>0.89</td>\n",
       "      <td>0.75</td>\n",
       "      <td>0.69</td>\n",
       "    </tr>\n",
       "    <tr>\n",
       "      <th>11.5</th>\n",
       "      <th>poly</th>\n",
       "      <th>auto</th>\n",
       "      <td>0.59</td>\n",
       "      <td>0.69</td>\n",
       "      <td>0.69</td>\n",
       "      <td>0.49</td>\n",
       "      <td>0.89</td>\n",
       "      <td>0.75</td>\n",
       "      <td>0.69</td>\n",
       "    </tr>\n",
       "    <tr>\n",
       "      <th>11.4</th>\n",
       "      <th>poly</th>\n",
       "      <th>auto</th>\n",
       "      <td>0.59</td>\n",
       "      <td>0.69</td>\n",
       "      <td>0.69</td>\n",
       "      <td>0.49</td>\n",
       "      <td>0.88</td>\n",
       "      <td>0.75</td>\n",
       "      <td>0.69</td>\n",
       "    </tr>\n",
       "    <tr>\n",
       "      <th>11.3</th>\n",
       "      <th>poly</th>\n",
       "      <th>auto</th>\n",
       "      <td>0.59</td>\n",
       "      <td>0.69</td>\n",
       "      <td>0.69</td>\n",
       "      <td>0.49</td>\n",
       "      <td>0.88</td>\n",
       "      <td>0.75</td>\n",
       "      <td>0.69</td>\n",
       "    </tr>\n",
       "    <tr>\n",
       "      <th>11.2</th>\n",
       "      <th>poly</th>\n",
       "      <th>auto</th>\n",
       "      <td>0.59</td>\n",
       "      <td>0.69</td>\n",
       "      <td>0.69</td>\n",
       "      <td>0.49</td>\n",
       "      <td>0.88</td>\n",
       "      <td>0.75</td>\n",
       "      <td>0.69</td>\n",
       "    </tr>\n",
       "    <tr>\n",
       "      <th>11.9</th>\n",
       "      <th>poly</th>\n",
       "      <th>auto</th>\n",
       "      <td>0.59</td>\n",
       "      <td>0.69</td>\n",
       "      <td>0.69</td>\n",
       "      <td>0.49</td>\n",
       "      <td>0.89</td>\n",
       "      <td>0.75</td>\n",
       "      <td>0.69</td>\n",
       "    </tr>\n",
       "    <tr>\n",
       "      <th>11.8</th>\n",
       "      <th>poly</th>\n",
       "      <th>auto</th>\n",
       "      <td>0.59</td>\n",
       "      <td>0.69</td>\n",
       "      <td>0.69</td>\n",
       "      <td>0.49</td>\n",
       "      <td>0.89</td>\n",
       "      <td>0.75</td>\n",
       "      <td>0.69</td>\n",
       "    </tr>\n",
       "    <tr>\n",
       "      <th>11.1</th>\n",
       "      <th>poly</th>\n",
       "      <th>auto</th>\n",
       "      <td>0.59</td>\n",
       "      <td>0.69</td>\n",
       "      <td>0.69</td>\n",
       "      <td>0.49</td>\n",
       "      <td>0.88</td>\n",
       "      <td>0.75</td>\n",
       "      <td>0.69</td>\n",
       "    </tr>\n",
       "    <tr>\n",
       "      <th>11</th>\n",
       "      <th>poly</th>\n",
       "      <th>auto</th>\n",
       "      <td>0.59</td>\n",
       "      <td>0.69</td>\n",
       "      <td>0.69</td>\n",
       "      <td>0.49</td>\n",
       "      <td>0.88</td>\n",
       "      <td>0.75</td>\n",
       "      <td>0.69</td>\n",
       "    </tr>\n",
       "    <tr>\n",
       "      <th>12</th>\n",
       "      <th>poly</th>\n",
       "      <th>auto</th>\n",
       "      <td>0.59</td>\n",
       "      <td>0.69</td>\n",
       "      <td>0.69</td>\n",
       "      <td>0.49</td>\n",
       "      <td>0.89</td>\n",
       "      <td>0.75</td>\n",
       "      <td>0.69</td>\n",
       "    </tr>\n",
       "    <tr>\n",
       "      <th>9</th>\n",
       "      <th>poly</th>\n",
       "      <th>auto</th>\n",
       "      <td>0.59</td>\n",
       "      <td>0.69</td>\n",
       "      <td>0.68</td>\n",
       "      <td>0.49</td>\n",
       "      <td>0.88</td>\n",
       "      <td>0.75</td>\n",
       "      <td>0.68</td>\n",
       "    </tr>\n",
       "    <tr>\n",
       "      <th>14</th>\n",
       "      <th>poly</th>\n",
       "      <th>auto</th>\n",
       "      <td>0.59</td>\n",
       "      <td>0.69</td>\n",
       "      <td>0.68</td>\n",
       "      <td>0.48</td>\n",
       "      <td>0.89</td>\n",
       "      <td>0.75</td>\n",
       "      <td>0.68</td>\n",
       "    </tr>\n",
       "    <tr>\n",
       "      <th>10</th>\n",
       "      <th>poly</th>\n",
       "      <th>auto</th>\n",
       "      <td>0.59</td>\n",
       "      <td>0.69</td>\n",
       "      <td>0.68</td>\n",
       "      <td>0.49</td>\n",
       "      <td>0.88</td>\n",
       "      <td>0.74</td>\n",
       "      <td>0.68</td>\n",
       "    </tr>\n",
       "    <tr>\n",
       "      <th>13</th>\n",
       "      <th>poly</th>\n",
       "      <th>auto</th>\n",
       "      <td>0.59</td>\n",
       "      <td>0.69</td>\n",
       "      <td>0.68</td>\n",
       "      <td>0.48</td>\n",
       "      <td>0.88</td>\n",
       "      <td>0.75</td>\n",
       "      <td>0.68</td>\n",
       "    </tr>\n",
       "    <tr>\n",
       "      <th>15</th>\n",
       "      <th>poly</th>\n",
       "      <th>auto</th>\n",
       "      <td>0.59</td>\n",
       "      <td>0.69</td>\n",
       "      <td>0.68</td>\n",
       "      <td>0.48</td>\n",
       "      <td>0.89</td>\n",
       "      <td>0.75</td>\n",
       "      <td>0.68</td>\n",
       "    </tr>\n",
       "    <tr>\n",
       "      <th>17</th>\n",
       "      <th>poly</th>\n",
       "      <th>auto</th>\n",
       "      <td>0.59</td>\n",
       "      <td>0.69</td>\n",
       "      <td>0.68</td>\n",
       "      <td>0.48</td>\n",
       "      <td>0.89</td>\n",
       "      <td>0.75</td>\n",
       "      <td>0.68</td>\n",
       "    </tr>\n",
       "    <tr>\n",
       "      <th>16</th>\n",
       "      <th>poly</th>\n",
       "      <th>auto</th>\n",
       "      <td>0.59</td>\n",
       "      <td>0.69</td>\n",
       "      <td>0.68</td>\n",
       "      <td>0.48</td>\n",
       "      <td>0.89</td>\n",
       "      <td>0.75</td>\n",
       "      <td>0.68</td>\n",
       "    </tr>\n",
       "    <tr>\n",
       "      <th>8</th>\n",
       "      <th>poly</th>\n",
       "      <th>auto</th>\n",
       "      <td>0.59</td>\n",
       "      <td>0.69</td>\n",
       "      <td>0.68</td>\n",
       "      <td>0.48</td>\n",
       "      <td>0.88</td>\n",
       "      <td>0.74</td>\n",
       "      <td>0.68</td>\n",
       "    </tr>\n",
       "    <tr>\n",
       "      <th>100</th>\n",
       "      <th>poly</th>\n",
       "      <th>scale</th>\n",
       "      <td>0.59</td>\n",
       "      <td>0.69</td>\n",
       "      <td>0.68</td>\n",
       "      <td>0.48</td>\n",
       "      <td>0.88</td>\n",
       "      <td>0.74</td>\n",
       "      <td>0.68</td>\n",
       "    </tr>\n",
       "    <tr>\n",
       "      <th>18</th>\n",
       "      <th>poly</th>\n",
       "      <th>auto</th>\n",
       "      <td>0.59</td>\n",
       "      <td>0.69</td>\n",
       "      <td>0.68</td>\n",
       "      <td>0.48</td>\n",
       "      <td>0.89</td>\n",
       "      <td>0.75</td>\n",
       "      <td>0.68</td>\n",
       "    </tr>\n",
       "    <tr>\n",
       "      <th>19</th>\n",
       "      <th>poly</th>\n",
       "      <th>auto</th>\n",
       "      <td>0.59</td>\n",
       "      <td>0.69</td>\n",
       "      <td>0.68</td>\n",
       "      <td>0.47</td>\n",
       "      <td>0.89</td>\n",
       "      <td>0.74</td>\n",
       "      <td>0.68</td>\n",
       "    </tr>\n",
       "    <tr>\n",
       "      <th>7</th>\n",
       "      <th>poly</th>\n",
       "      <th>auto</th>\n",
       "      <td>0.59</td>\n",
       "      <td>0.69</td>\n",
       "      <td>0.68</td>\n",
       "      <td>0.48</td>\n",
       "      <td>0.88</td>\n",
       "      <td>0.74</td>\n",
       "      <td>0.68</td>\n",
       "    </tr>\n",
       "    <tr>\n",
       "      <th>100</th>\n",
       "      <th>poly</th>\n",
       "      <th>auto</th>\n",
       "      <td>0.59</td>\n",
       "      <td>0.68</td>\n",
       "      <td>0.68</td>\n",
       "      <td>0.46</td>\n",
       "      <td>0.90</td>\n",
       "      <td>0.75</td>\n",
       "      <td>0.68</td>\n",
       "    </tr>\n",
       "    <tr>\n",
       "      <th>5</th>\n",
       "      <th>poly</th>\n",
       "      <th>auto</th>\n",
       "      <td>0.59</td>\n",
       "      <td>0.68</td>\n",
       "      <td>0.67</td>\n",
       "      <td>0.48</td>\n",
       "      <td>0.87</td>\n",
       "      <td>0.74</td>\n",
       "      <td>0.67</td>\n",
       "    </tr>\n",
       "    <tr>\n",
       "      <th>6</th>\n",
       "      <th>poly</th>\n",
       "      <th>auto</th>\n",
       "      <td>0.59</td>\n",
       "      <td>0.68</td>\n",
       "      <td>0.67</td>\n",
       "      <td>0.47</td>\n",
       "      <td>0.87</td>\n",
       "      <td>0.74</td>\n",
       "      <td>0.67</td>\n",
       "    </tr>\n",
       "    <tr>\n",
       "      <th>2</th>\n",
       "      <th>poly</th>\n",
       "      <th>auto</th>\n",
       "      <td>0.59</td>\n",
       "      <td>0.68</td>\n",
       "      <td>0.67</td>\n",
       "      <td>0.48</td>\n",
       "      <td>0.86</td>\n",
       "      <td>0.73</td>\n",
       "      <td>0.67</td>\n",
       "    </tr>\n",
       "    <tr>\n",
       "      <th>1.5</th>\n",
       "      <th>poly</th>\n",
       "      <th>auto</th>\n",
       "      <td>0.59</td>\n",
       "      <td>0.68</td>\n",
       "      <td>0.67</td>\n",
       "      <td>0.49</td>\n",
       "      <td>0.85</td>\n",
       "      <td>0.73</td>\n",
       "      <td>0.67</td>\n",
       "    </tr>\n",
       "    <tr>\n",
       "      <th>10</th>\n",
       "      <th>poly</th>\n",
       "      <th>scale</th>\n",
       "      <td>0.59</td>\n",
       "      <td>0.67</td>\n",
       "      <td>0.66</td>\n",
       "      <td>0.48</td>\n",
       "      <td>0.84</td>\n",
       "      <td>0.72</td>\n",
       "      <td>0.66</td>\n",
       "    </tr>\n",
       "    <tr>\n",
       "      <th rowspan=\"3\" valign=\"top\">5</th>\n",
       "      <th>poly</th>\n",
       "      <th>scale</th>\n",
       "      <td>0.60</td>\n",
       "      <td>0.66</td>\n",
       "      <td>0.65</td>\n",
       "      <td>0.48</td>\n",
       "      <td>0.83</td>\n",
       "      <td>0.71</td>\n",
       "      <td>0.65</td>\n",
       "    </tr>\n",
       "    <tr>\n",
       "      <th rowspan=\"2\" valign=\"top\">linear</th>\n",
       "      <th>auto</th>\n",
       "      <td>0.66</td>\n",
       "      <td>0.64</td>\n",
       "      <td>0.64</td>\n",
       "      <td>0.53</td>\n",
       "      <td>0.75</td>\n",
       "      <td>0.68</td>\n",
       "      <td>0.64</td>\n",
       "    </tr>\n",
       "    <tr>\n",
       "      <th>scale</th>\n",
       "      <td>0.66</td>\n",
       "      <td>0.64</td>\n",
       "      <td>0.64</td>\n",
       "      <td>0.53</td>\n",
       "      <td>0.75</td>\n",
       "      <td>0.68</td>\n",
       "      <td>0.64</td>\n",
       "    </tr>\n",
       "    <tr>\n",
       "      <th>2</th>\n",
       "      <th>poly</th>\n",
       "      <th>scale</th>\n",
       "      <td>0.60</td>\n",
       "      <td>0.64</td>\n",
       "      <td>0.64</td>\n",
       "      <td>0.47</td>\n",
       "      <td>0.80</td>\n",
       "      <td>0.69</td>\n",
       "      <td>0.64</td>\n",
       "    </tr>\n",
       "    <tr>\n",
       "      <th rowspan=\"2\" valign=\"top\">1.5</th>\n",
       "      <th rowspan=\"2\" valign=\"top\">linear</th>\n",
       "      <th>auto</th>\n",
       "      <td>0.66</td>\n",
       "      <td>0.64</td>\n",
       "      <td>0.64</td>\n",
       "      <td>0.53</td>\n",
       "      <td>0.75</td>\n",
       "      <td>0.68</td>\n",
       "      <td>0.64</td>\n",
       "    </tr>\n",
       "    <tr>\n",
       "      <th>scale</th>\n",
       "      <td>0.66</td>\n",
       "      <td>0.64</td>\n",
       "      <td>0.64</td>\n",
       "      <td>0.53</td>\n",
       "      <td>0.75</td>\n",
       "      <td>0.68</td>\n",
       "      <td>0.64</td>\n",
       "    </tr>\n",
       "    <tr>\n",
       "      <th rowspan=\"2\" valign=\"top\">2</th>\n",
       "      <th rowspan=\"2\" valign=\"top\">linear</th>\n",
       "      <th>auto</th>\n",
       "      <td>0.66</td>\n",
       "      <td>0.64</td>\n",
       "      <td>0.64</td>\n",
       "      <td>0.53</td>\n",
       "      <td>0.75</td>\n",
       "      <td>0.68</td>\n",
       "      <td>0.64</td>\n",
       "    </tr>\n",
       "    <tr>\n",
       "      <th>scale</th>\n",
       "      <td>0.66</td>\n",
       "      <td>0.64</td>\n",
       "      <td>0.64</td>\n",
       "      <td>0.53</td>\n",
       "      <td>0.75</td>\n",
       "      <td>0.68</td>\n",
       "      <td>0.64</td>\n",
       "    </tr>\n",
       "    <tr>\n",
       "      <th rowspan=\"2\" valign=\"top\">10</th>\n",
       "      <th rowspan=\"2\" valign=\"top\">linear</th>\n",
       "      <th>scale</th>\n",
       "      <td>0.66</td>\n",
       "      <td>0.64</td>\n",
       "      <td>0.64</td>\n",
       "      <td>0.52</td>\n",
       "      <td>0.75</td>\n",
       "      <td>0.68</td>\n",
       "      <td>0.64</td>\n",
       "    </tr>\n",
       "    <tr>\n",
       "      <th>auto</th>\n",
       "      <td>0.66</td>\n",
       "      <td>0.64</td>\n",
       "      <td>0.64</td>\n",
       "      <td>0.52</td>\n",
       "      <td>0.75</td>\n",
       "      <td>0.68</td>\n",
       "      <td>0.64</td>\n",
       "    </tr>\n",
       "    <tr>\n",
       "      <th>1.5</th>\n",
       "      <th>poly</th>\n",
       "      <th>scale</th>\n",
       "      <td>0.60</td>\n",
       "      <td>0.64</td>\n",
       "      <td>0.64</td>\n",
       "      <td>0.47</td>\n",
       "      <td>0.80</td>\n",
       "      <td>0.69</td>\n",
       "      <td>0.64</td>\n",
       "    </tr>\n",
       "    <tr>\n",
       "      <th rowspan=\"2\" valign=\"top\">100</th>\n",
       "      <th rowspan=\"2\" valign=\"top\">linear</th>\n",
       "      <th>scale</th>\n",
       "      <td>0.66</td>\n",
       "      <td>0.64</td>\n",
       "      <td>0.63</td>\n",
       "      <td>0.52</td>\n",
       "      <td>0.75</td>\n",
       "      <td>0.68</td>\n",
       "      <td>0.63</td>\n",
       "    </tr>\n",
       "    <tr>\n",
       "      <th>auto</th>\n",
       "      <td>0.66</td>\n",
       "      <td>0.64</td>\n",
       "      <td>0.63</td>\n",
       "      <td>0.52</td>\n",
       "      <td>0.75</td>\n",
       "      <td>0.68</td>\n",
       "      <td>0.63</td>\n",
       "    </tr>\n",
       "    <tr>\n",
       "      <th rowspan=\"3\" valign=\"top\">1</th>\n",
       "      <th>poly</th>\n",
       "      <th>auto</th>\n",
       "      <td>0.61</td>\n",
       "      <td>0.61</td>\n",
       "      <td>0.60</td>\n",
       "      <td>0.45</td>\n",
       "      <td>0.76</td>\n",
       "      <td>0.66</td>\n",
       "      <td>0.60</td>\n",
       "    </tr>\n",
       "    <tr>\n",
       "      <th rowspan=\"2\" valign=\"top\">linear</th>\n",
       "      <th>auto</th>\n",
       "      <td>0.67</td>\n",
       "      <td>0.59</td>\n",
       "      <td>0.59</td>\n",
       "      <td>0.52</td>\n",
       "      <td>0.66</td>\n",
       "      <td>0.62</td>\n",
       "      <td>0.59</td>\n",
       "    </tr>\n",
       "    <tr>\n",
       "      <th>scale</th>\n",
       "      <td>0.67</td>\n",
       "      <td>0.59</td>\n",
       "      <td>0.59</td>\n",
       "      <td>0.52</td>\n",
       "      <td>0.66</td>\n",
       "      <td>0.62</td>\n",
       "      <td>0.59</td>\n",
       "    </tr>\n",
       "    <tr>\n",
       "      <th rowspan=\"2\" valign=\"top\">0.1</th>\n",
       "      <th rowspan=\"2\" valign=\"top\">linear</th>\n",
       "      <th>scale</th>\n",
       "      <td>0.68</td>\n",
       "      <td>0.59</td>\n",
       "      <td>0.59</td>\n",
       "      <td>0.53</td>\n",
       "      <td>0.65</td>\n",
       "      <td>0.62</td>\n",
       "      <td>0.59</td>\n",
       "    </tr>\n",
       "    <tr>\n",
       "      <th>auto</th>\n",
       "      <td>0.68</td>\n",
       "      <td>0.59</td>\n",
       "      <td>0.59</td>\n",
       "      <td>0.53</td>\n",
       "      <td>0.65</td>\n",
       "      <td>0.62</td>\n",
       "      <td>0.59</td>\n",
       "    </tr>\n",
       "    <tr>\n",
       "      <th>1</th>\n",
       "      <th>rbf</th>\n",
       "      <th>scale</th>\n",
       "      <td>0.67</td>\n",
       "      <td>0.59</td>\n",
       "      <td>0.59</td>\n",
       "      <td>0.56</td>\n",
       "      <td>0.62</td>\n",
       "      <td>0.61</td>\n",
       "      <td>0.59</td>\n",
       "    </tr>\n",
       "    <tr>\n",
       "      <th>0.1</th>\n",
       "      <th>poly</th>\n",
       "      <th>auto</th>\n",
       "      <td>0.62</td>\n",
       "      <td>0.58</td>\n",
       "      <td>0.58</td>\n",
       "      <td>0.50</td>\n",
       "      <td>0.66</td>\n",
       "      <td>0.61</td>\n",
       "      <td>0.58</td>\n",
       "    </tr>\n",
       "    <tr>\n",
       "      <th>1</th>\n",
       "      <th>rbf</th>\n",
       "      <th>auto</th>\n",
       "      <td>0.67</td>\n",
       "      <td>0.58</td>\n",
       "      <td>0.58</td>\n",
       "      <td>0.57</td>\n",
       "      <td>0.59</td>\n",
       "      <td>0.59</td>\n",
       "      <td>0.58</td>\n",
       "    </tr>\n",
       "  </tbody>\n",
       "</table>\n",
       "</div>"
      ],
      "text/plain": [
       "                   acuracy_treino  acuracia_teste  acuracia_balanceada_teste  \\\n",
       "C    kernel gamma                                                              \n",
       "11.7 poly   auto             0.59            0.69                       0.69   \n",
       "11.6 poly   auto             0.59            0.69                       0.69   \n",
       "11.5 poly   auto             0.59            0.69                       0.69   \n",
       "11.4 poly   auto             0.59            0.69                       0.69   \n",
       "11.3 poly   auto             0.59            0.69                       0.69   \n",
       "11.2 poly   auto             0.59            0.69                       0.69   \n",
       "11.9 poly   auto             0.59            0.69                       0.69   \n",
       "11.8 poly   auto             0.59            0.69                       0.69   \n",
       "11.1 poly   auto             0.59            0.69                       0.69   \n",
       "11   poly   auto             0.59            0.69                       0.69   \n",
       "12   poly   auto             0.59            0.69                       0.69   \n",
       "9    poly   auto             0.59            0.69                       0.68   \n",
       "14   poly   auto             0.59            0.69                       0.68   \n",
       "10   poly   auto             0.59            0.69                       0.68   \n",
       "13   poly   auto             0.59            0.69                       0.68   \n",
       "15   poly   auto             0.59            0.69                       0.68   \n",
       "17   poly   auto             0.59            0.69                       0.68   \n",
       "16   poly   auto             0.59            0.69                       0.68   \n",
       "8    poly   auto             0.59            0.69                       0.68   \n",
       "100  poly   scale            0.59            0.69                       0.68   \n",
       "18   poly   auto             0.59            0.69                       0.68   \n",
       "19   poly   auto             0.59            0.69                       0.68   \n",
       "7    poly   auto             0.59            0.69                       0.68   \n",
       "100  poly   auto             0.59            0.68                       0.68   \n",
       "5    poly   auto             0.59            0.68                       0.67   \n",
       "6    poly   auto             0.59            0.68                       0.67   \n",
       "2    poly   auto             0.59            0.68                       0.67   \n",
       "1.5  poly   auto             0.59            0.68                       0.67   \n",
       "10   poly   scale            0.59            0.67                       0.66   \n",
       "5    poly   scale            0.60            0.66                       0.65   \n",
       "     linear auto             0.66            0.64                       0.64   \n",
       "            scale            0.66            0.64                       0.64   \n",
       "2    poly   scale            0.60            0.64                       0.64   \n",
       "1.5  linear auto             0.66            0.64                       0.64   \n",
       "            scale            0.66            0.64                       0.64   \n",
       "2    linear auto             0.66            0.64                       0.64   \n",
       "            scale            0.66            0.64                       0.64   \n",
       "10   linear scale            0.66            0.64                       0.64   \n",
       "            auto             0.66            0.64                       0.64   \n",
       "1.5  poly   scale            0.60            0.64                       0.64   \n",
       "100  linear scale            0.66            0.64                       0.63   \n",
       "            auto             0.66            0.64                       0.63   \n",
       "1    poly   auto             0.61            0.61                       0.60   \n",
       "     linear auto             0.67            0.59                       0.59   \n",
       "            scale            0.67            0.59                       0.59   \n",
       "0.1  linear scale            0.68            0.59                       0.59   \n",
       "            auto             0.68            0.59                       0.59   \n",
       "1    rbf    scale            0.67            0.59                       0.59   \n",
       "0.1  poly   auto             0.62            0.58                       0.58   \n",
       "1    rbf    auto             0.67            0.58                       0.58   \n",
       "\n",
       "                   rec_0_teste  rec_1_teste  f1_teste  auc_teste  \n",
       "C    kernel gamma                                                 \n",
       "11.7 poly   auto          0.49         0.89      0.75       0.69  \n",
       "11.6 poly   auto          0.49         0.89      0.75       0.69  \n",
       "11.5 poly   auto          0.49         0.89      0.75       0.69  \n",
       "11.4 poly   auto          0.49         0.88      0.75       0.69  \n",
       "11.3 poly   auto          0.49         0.88      0.75       0.69  \n",
       "11.2 poly   auto          0.49         0.88      0.75       0.69  \n",
       "11.9 poly   auto          0.49         0.89      0.75       0.69  \n",
       "11.8 poly   auto          0.49         0.89      0.75       0.69  \n",
       "11.1 poly   auto          0.49         0.88      0.75       0.69  \n",
       "11   poly   auto          0.49         0.88      0.75       0.69  \n",
       "12   poly   auto          0.49         0.89      0.75       0.69  \n",
       "9    poly   auto          0.49         0.88      0.75       0.68  \n",
       "14   poly   auto          0.48         0.89      0.75       0.68  \n",
       "10   poly   auto          0.49         0.88      0.74       0.68  \n",
       "13   poly   auto          0.48         0.88      0.75       0.68  \n",
       "15   poly   auto          0.48         0.89      0.75       0.68  \n",
       "17   poly   auto          0.48         0.89      0.75       0.68  \n",
       "16   poly   auto          0.48         0.89      0.75       0.68  \n",
       "8    poly   auto          0.48         0.88      0.74       0.68  \n",
       "100  poly   scale         0.48         0.88      0.74       0.68  \n",
       "18   poly   auto          0.48         0.89      0.75       0.68  \n",
       "19   poly   auto          0.47         0.89      0.74       0.68  \n",
       "7    poly   auto          0.48         0.88      0.74       0.68  \n",
       "100  poly   auto          0.46         0.90      0.75       0.68  \n",
       "5    poly   auto          0.48         0.87      0.74       0.67  \n",
       "6    poly   auto          0.47         0.87      0.74       0.67  \n",
       "2    poly   auto          0.48         0.86      0.73       0.67  \n",
       "1.5  poly   auto          0.49         0.85      0.73       0.67  \n",
       "10   poly   scale         0.48         0.84      0.72       0.66  \n",
       "5    poly   scale         0.48         0.83      0.71       0.65  \n",
       "     linear auto          0.53         0.75      0.68       0.64  \n",
       "            scale         0.53         0.75      0.68       0.64  \n",
       "2    poly   scale         0.47         0.80      0.69       0.64  \n",
       "1.5  linear auto          0.53         0.75      0.68       0.64  \n",
       "            scale         0.53         0.75      0.68       0.64  \n",
       "2    linear auto          0.53         0.75      0.68       0.64  \n",
       "            scale         0.53         0.75      0.68       0.64  \n",
       "10   linear scale         0.52         0.75      0.68       0.64  \n",
       "            auto          0.52         0.75      0.68       0.64  \n",
       "1.5  poly   scale         0.47         0.80      0.69       0.64  \n",
       "100  linear scale         0.52         0.75      0.68       0.63  \n",
       "            auto          0.52         0.75      0.68       0.63  \n",
       "1    poly   auto          0.45         0.76      0.66       0.60  \n",
       "     linear auto          0.52         0.66      0.62       0.59  \n",
       "            scale         0.52         0.66      0.62       0.59  \n",
       "0.1  linear scale         0.53         0.65      0.62       0.59  \n",
       "            auto          0.53         0.65      0.62       0.59  \n",
       "1    rbf    scale         0.56         0.62      0.61       0.59  \n",
       "0.1  poly   auto          0.50         0.66      0.61       0.58  \n",
       "1    rbf    auto          0.57         0.59      0.59       0.58  "
      ]
     },
     "execution_count": 365,
     "metadata": {},
     "output_type": "execute_result"
    }
   ],
   "source": [
    "resultados_df = pd.DataFrame(np.array(resultados), columns=['repeticao','C','kernel','gamma','acuracy_treino','acuracia_teste','acuracia_balanceada_teste','rec_0_teste','rec_1_teste','f1_teste','auc_teste'])\n",
    "resultados_df['auc_teste'] = resultados_df['auc_teste'].astype(float, errors = 'raise')\n",
    "resultados_df.astype({ 'C': 'str', 'kernel': 'str','gamma': 'str','acuracy_treino': 'float','acuracia_teste': 'float','acuracia_balanceada_teste': 'float','rec_0_teste': 'float','rec_1_teste': 'float','f1_teste': 'float','auc_teste': 'float' }).groupby(['C','kernel','gamma']).agg({'acuracy_treino':np.mean, 'acuracia_teste':np.mean, 'acuracia_balanceada_teste':np.mean, 'rec_0_teste':np.mean, 'rec_1_teste':np.mean, 'f1_teste':np.mean, 'auc_teste':np.mean}).sort_values(by='auc_teste', ascending=False).head(50)"
   ]
  },
  {
   "cell_type": "code",
   "execution_count": 366,
   "metadata": {},
   "outputs": [
    {
     "data": {
      "text/plain": [
       "SVC(C=11.7, gamma='auto', kernel='poly')"
      ]
     },
     "execution_count": 366,
     "metadata": {},
     "output_type": "execute_result"
    }
   ],
   "source": [
    "## Dados de treino (até a data definida por treinar_ate_data_str)\n",
    "X = df_final99[(df_final99['Date'] <= parser.parse(treinar_ate_data_str))][['score','neu_robd4','neg_finbertd2','scored3']]\n",
    "y = df_final99[(df_final99['Date'] <= parser.parse(treinar_ate_data_str))][['Fechamento']]\n",
    "\n",
    "X_train = X\n",
    "y_train = y\n",
    "\n",
    "svc = SVC(C=11.7, kernel = 'poly', gamma = 'auto')\n",
    "svc.fit(X_train,y_train)"
   ]
  },
  {
   "cell_type": "code",
   "execution_count": 367,
   "metadata": {},
   "outputs": [
    {
     "name": "stdout",
     "output_type": "stream",
     "text": [
      "Classification Report Dados:\n",
      "               precision    recall  f1-score   support\n",
      "\n",
      "           0       0.80      0.47      0.59        17\n",
      "           1       0.64      0.89      0.74        18\n",
      "\n",
      "    accuracy                           0.69        35\n",
      "   macro avg       0.72      0.68      0.67        35\n",
      "weighted avg       0.72      0.69      0.67        35\n",
      "\n",
      "\n",
      "Confusion Matrix Dados de Producao:\n",
      " [[ 8  9]\n",
      " [ 2 16]]\n",
      "\n"
     ]
    }
   ],
   "source": [
    "#Predizendo y\n",
    "y_pred = svc.predict(X_test)\n",
    "\n",
    "#Relatórios e matriz de confusao\n",
    "print(\"Classification Report Dados:\\n\",classification_report(y_test,y_pred))\n",
    "print(\"\")\n",
    "print(\"Confusion Matrix Dados de Producao:\\n\",confusion_matrix(y_test,y_pred))\n",
    "print(\"\")"
   ]
  },
  {
   "cell_type": "markdown",
   "metadata": {},
   "source": [
    "## Tunagem Ridge"
   ]
  },
  {
   "cell_type": "code",
   "execution_count": 374,
   "metadata": {},
   "outputs": [],
   "source": [
    "from sklearn.linear_model import RidgeClassifier\n",
    "acuracia_dados = make_scorer(accuracy_score)\n",
    "f1_dados = make_scorer(f1_score)\n",
    "balanced_acc_dados = make_scorer(balanced_accuracy_score)\n",
    "scoring = {\"accuracy\": acuracia_dados, \"f1\":f1_dados, \"bacuracy\":balanced_acc_dados}\n",
    "resultados = []"
   ]
  },
  {
   "cell_type": "code",
   "execution_count": 385,
   "metadata": {},
   "outputs": [
    {
     "name": "stdout",
     "output_type": "stream",
     "text": [
      "Fazendo gridsearch - Repeticao 1\n",
      "Fazendo gridsearch - Repeticao 2\n",
      "Fazendo gridsearch - Repeticao 3\n",
      "Fazendo gridsearch - Repeticao 4\n",
      "Fazendo gridsearch - Repeticao 5\n",
      "Fazendo gridsearch - Repeticao 6\n",
      "Fazendo gridsearch - Repeticao 7\n",
      "Fazendo gridsearch - Repeticao 8\n",
      "Fazendo gridsearch - Repeticao 9\n",
      "Fazendo gridsearch - Repeticao 10\n",
      "Fazendo gridsearch - Repeticao 11\n",
      "Fazendo gridsearch - Repeticao 12\n",
      "Fazendo gridsearch - Repeticao 13\n",
      "Fazendo gridsearch - Repeticao 14\n",
      "Fazendo gridsearch - Repeticao 15\n",
      "Fazendo gridsearch - Repeticao 16\n",
      "Fazendo gridsearch - Repeticao 17\n",
      "Fazendo gridsearch - Repeticao 18\n",
      "Fazendo gridsearch - Repeticao 19\n",
      "Fazendo gridsearch - Repeticao 20\n",
      "Fazendo gridsearch - Repeticao 21\n",
      "Fazendo gridsearch - Repeticao 22\n",
      "Fazendo gridsearch - Repeticao 23\n",
      "Fazendo gridsearch - Repeticao 24\n",
      "Fazendo gridsearch - Repeticao 25\n",
      "Fazendo gridsearch - Repeticao 26\n",
      "Fazendo gridsearch - Repeticao 27\n",
      "Fazendo gridsearch - Repeticao 28\n",
      "Fazendo gridsearch - Repeticao 29\n",
      "Fazendo gridsearch - Repeticao 30\n"
     ]
    }
   ],
   "source": [
    "treinar_ate_data_str = '2022-03-29'\n",
    "\n",
    "## Dados de treino (até a data definida por treinar_ate_data_str)\n",
    "X = df_final99[(df_final99['Date'] <= parser.parse(treinar_ate_data_str))][['score','neu_robd4','neg_finbertd2','scored3']]\n",
    "y = df_final99[(df_final99['Date'] <= parser.parse(treinar_ate_data_str))][['Fechamento']]\n",
    "\n",
    "X_train = X\n",
    "y_train = y\n",
    "\n",
    "## Dados de teste (a partir da data definida por treinar_ate_data_str)\n",
    "X_test = df_final99[(df_final99['Date'] > parser.parse(treinar_ate_data_str))][['score','neu_robd4','neg_finbertd2','scored3']]\n",
    "y_test = df_final99[(df_final99['Date'] > parser.parse(treinar_ate_data_str))][['Fechamento']]\n",
    "\n",
    "alpha = [1,0.1,2]\n",
    "fit_intercept = [True,False]\n",
    "normalize = [True,False]\n",
    "solver = ['auto', 'svd', 'cholesky', 'lsqr', 'sparse_cg', 'sag', 'saga']\n",
    "\n",
    "alpha = [3,5,10,15]\n",
    "fit_intercept = [False]\n",
    "normalize = [True]\n",
    "solver = ['svd', 'cholesky']\n",
    "\n",
    "alpha = [20,30,50,100,150,300]\n",
    "fit_intercept = [False]\n",
    "normalize = [True]\n",
    "solver = ['svd', 'cholesky']\n",
    "\n",
    "alpha = [60,70,80,90,110,120,130,140,160,180,190,200]\n",
    "fit_intercept = [False]\n",
    "normalize = [True]\n",
    "solver = ['svd', 'cholesky']\n",
    "\n",
    "alpha = [90]\n",
    "fit_intercept = [True,False]\n",
    "normalize = [True,False]\n",
    "solver = ['auto', 'svd', 'cholesky', 'lsqr', 'sparse_cg', 'sag', 'saga']\n",
    "\n",
    "alpha = [91,92,93,94,95,96,97,98,99]\n",
    "fit_intercept = [False]\n",
    "normalize = [True]\n",
    "solver = ['svd', 'cholesky']\n",
    "\n",
    "#alpha = [1.2,1.4,1.6,1.8,2.2,2.4,2.6,2.8]\n",
    "#fit_intercept = [True]\n",
    "#normalize = [False]\n",
    "#solver = ['auto', 'svd', 'cholesky', 'lsqr', 'sparse_cg', 'sag', 'saga']\n",
    "\n",
    "#alpha = [1.62,1.64,1.66,1.68,1.7,1.72,1.74,1.76,1.78,1.82,1.84,1.86,1.88,1.9,1.92,1.94,1.96,1.98]\n",
    "#fit_intercept = [True]\n",
    "#normalize = [False]\n",
    "#solver = ['lsqr']\n",
    "\n",
    "\n",
    "\n",
    "\n",
    "#Repete os experimentos 30x\n",
    "for i in range(30):   \n",
    "    \n",
    "     #Holdout: Treinando apenas com 70% do dataset de treino\n",
    "    X_train, X_descarte, y_train, y_descarte = train_test_split(X, y, test_size=0.3, random_state=i, stratify=y)\n",
    "        \n",
    "    #Validação cruzada com 10 kfolds\n",
    "    kfold = KFold(n_splits = 10, shuffle = True, random_state = i)\n",
    "    \n",
    "    print(\"Fazendo gridsearch - Repeticao %s\" % (i+1))\n",
    "    \n",
    "    \n",
    "    # itera sobre parametro 1:\n",
    "    for k in alpha:\n",
    "        \n",
    "        # itera sobre parametro 2:\n",
    "        for u in fit_intercept:\n",
    "            \n",
    "            #itera sobre o parametro 3:\n",
    "            for w in normalize:\n",
    "                \n",
    "                #itera sobre o parametro 4:\n",
    "                for v in solver:\n",
    "        \n",
    "                    gs = GridSearchCV(\n",
    "                        RidgeClassifier(random_state=i) ,\n",
    "                        param_grid={\"alpha\": [k], \n",
    "                                    \"fit_intercept\":[u],\n",
    "                                    \"normalize\":[w],\n",
    "                                    \"solver\":[v]}, \n",
    "                        scoring=scoring,\n",
    "                        refit=\"bacuracy\",\n",
    "                        n_jobs=2,\n",
    "                        return_train_score=True,\n",
    "                        cv = kfold\n",
    "                            )\n",
    "\n",
    "                    #Treinando o modelo com dados de treino c/ 9 folds e utilizando 1 fold para teste\n",
    "                    gs.fit(X_train, y_train)\n",
    "\n",
    "                    #Melhores resultados e hiperparâmetros encontrados\n",
    "                    acuracy_treino = gs.best_score_\n",
    "                    hyperparams = gs.best_params_\n",
    "\n",
    "                    ##Predizendo as classes nos dados de teste e todos dados, utilizando os melhores parâmetros\n",
    "                    y_test_pred = gs.predict(X_test)\n",
    "                    #y_test_pred_todos = gs.predict(X_todos)\n",
    "\n",
    "                    #Calculando acurácia \n",
    "                    accuracy_teste = accuracy_score(y_test, y_test_pred)\n",
    "                    #accuracy_todos = accuracy_score(y_todos, y_test_pred_todos)\n",
    "\n",
    "                    #calculando f1_score da classe 1\n",
    "                    f1_teste = f1_score(y_test, y_test_pred)\n",
    "                    #f1_todos = f1_score(y_todos, y_test_pred_todos)\n",
    "\n",
    "                    #calculando área sobre a curva ROC_AUC:\n",
    "                    auc_teste = roc_auc_score(y_test, y_test_pred)\n",
    "                    #auc_todos = roc_auc_score(y_todos, y_test_pred_todos)\n",
    "\n",
    "                    #Calculando Recall clase 1\n",
    "                    rec0_teste = recall_score(y_test, y_test_pred, pos_label=0)\n",
    "                    rec1_teste = recall_score(y_test, y_test_pred, pos_label=1)\n",
    "\n",
    "                    #rec0_todos = recall_score(y_todos, y_test_pred_todos, pos_label=0)\n",
    "                    #rec1_todos = recall_score(y_todos, y_test_pred_todos, pos_label=1)\n",
    "\n",
    "                    #Calculando a acurácia balanceada\n",
    "                    accuracy_teste_balanced = balanced_accuracy_score(y_test, y_test_pred)\n",
    "\n",
    "                    # Adicionando todos resultados em uma única lista\n",
    "                    resultados.append(np.array([i,hyperparams['alpha'],hyperparams['fit_intercept'],hyperparams['normalize'],hyperparams['solver'],acuracy_treino,accuracy_teste,accuracy_teste_balanced,rec0_teste,rec1_teste,f1_teste,auc_teste]))\n"
   ]
  },
  {
   "cell_type": "code",
   "execution_count": 386,
   "metadata": {},
   "outputs": [
    {
     "data": {
      "text/html": [
       "<div>\n",
       "<style scoped>\n",
       "    .dataframe tbody tr th:only-of-type {\n",
       "        vertical-align: middle;\n",
       "    }\n",
       "\n",
       "    .dataframe tbody tr th {\n",
       "        vertical-align: top;\n",
       "    }\n",
       "\n",
       "    .dataframe thead th {\n",
       "        text-align: right;\n",
       "    }\n",
       "</style>\n",
       "<table border=\"1\" class=\"dataframe\">\n",
       "  <thead>\n",
       "    <tr style=\"text-align: right;\">\n",
       "      <th></th>\n",
       "      <th></th>\n",
       "      <th></th>\n",
       "      <th></th>\n",
       "      <th>acuracy_treino</th>\n",
       "      <th>acuracia_teste</th>\n",
       "      <th>acuracia_balanceada_teste</th>\n",
       "      <th>rec_0_teste</th>\n",
       "      <th>rec_1_teste</th>\n",
       "      <th>f1_teste</th>\n",
       "      <th>auc_teste</th>\n",
       "    </tr>\n",
       "    <tr>\n",
       "      <th>alpha</th>\n",
       "      <th>fit_intercept</th>\n",
       "      <th>normalize</th>\n",
       "      <th>solver</th>\n",
       "      <th></th>\n",
       "      <th></th>\n",
       "      <th></th>\n",
       "      <th></th>\n",
       "      <th></th>\n",
       "      <th></th>\n",
       "      <th></th>\n",
       "    </tr>\n",
       "  </thead>\n",
       "  <tbody>\n",
       "    <tr>\n",
       "      <th rowspan=\"2\" valign=\"top\">90</th>\n",
       "      <th rowspan=\"2\" valign=\"top\">False</th>\n",
       "      <th rowspan=\"2\" valign=\"top\">True</th>\n",
       "      <th>cholesky</th>\n",
       "      <td>0.66</td>\n",
       "      <td>0.65</td>\n",
       "      <td>0.65</td>\n",
       "      <td>0.53</td>\n",
       "      <td>0.76</td>\n",
       "      <td>0.69</td>\n",
       "      <td>0.65</td>\n",
       "    </tr>\n",
       "    <tr>\n",
       "      <th>svd</th>\n",
       "      <td>0.66</td>\n",
       "      <td>0.65</td>\n",
       "      <td>0.65</td>\n",
       "      <td>0.53</td>\n",
       "      <td>0.76</td>\n",
       "      <td>0.69</td>\n",
       "      <td>0.65</td>\n",
       "    </tr>\n",
       "    <tr>\n",
       "      <th>99</th>\n",
       "      <th>False</th>\n",
       "      <th>True</th>\n",
       "      <th>svd</th>\n",
       "      <td>0.66</td>\n",
       "      <td>0.65</td>\n",
       "      <td>0.65</td>\n",
       "      <td>0.53</td>\n",
       "      <td>0.76</td>\n",
       "      <td>0.69</td>\n",
       "      <td>0.65</td>\n",
       "    </tr>\n",
       "    <tr>\n",
       "      <th>90</th>\n",
       "      <th>False</th>\n",
       "      <th>True</th>\n",
       "      <th>sparse_cg</th>\n",
       "      <td>0.66</td>\n",
       "      <td>0.65</td>\n",
       "      <td>0.65</td>\n",
       "      <td>0.53</td>\n",
       "      <td>0.76</td>\n",
       "      <td>0.69</td>\n",
       "      <td>0.65</td>\n",
       "    </tr>\n",
       "    <tr>\n",
       "      <th>100</th>\n",
       "      <th>False</th>\n",
       "      <th>True</th>\n",
       "      <th>cholesky</th>\n",
       "      <td>0.66</td>\n",
       "      <td>0.65</td>\n",
       "      <td>0.65</td>\n",
       "      <td>0.53</td>\n",
       "      <td>0.76</td>\n",
       "      <td>0.69</td>\n",
       "      <td>0.65</td>\n",
       "    </tr>\n",
       "    <tr>\n",
       "      <th rowspan=\"2\" valign=\"top\">80</th>\n",
       "      <th rowspan=\"2\" valign=\"top\">False</th>\n",
       "      <th rowspan=\"2\" valign=\"top\">True</th>\n",
       "      <th>cholesky</th>\n",
       "      <td>0.67</td>\n",
       "      <td>0.65</td>\n",
       "      <td>0.65</td>\n",
       "      <td>0.53</td>\n",
       "      <td>0.76</td>\n",
       "      <td>0.69</td>\n",
       "      <td>0.65</td>\n",
       "    </tr>\n",
       "    <tr>\n",
       "      <th>svd</th>\n",
       "      <td>0.67</td>\n",
       "      <td>0.65</td>\n",
       "      <td>0.65</td>\n",
       "      <td>0.53</td>\n",
       "      <td>0.76</td>\n",
       "      <td>0.69</td>\n",
       "      <td>0.65</td>\n",
       "    </tr>\n",
       "    <tr>\n",
       "      <th rowspan=\"10\" valign=\"top\">90</th>\n",
       "      <th rowspan=\"10\" valign=\"top\">False</th>\n",
       "      <th rowspan=\"2\" valign=\"top\">False</th>\n",
       "      <th>auto</th>\n",
       "      <td>0.66</td>\n",
       "      <td>0.65</td>\n",
       "      <td>0.65</td>\n",
       "      <td>0.53</td>\n",
       "      <td>0.76</td>\n",
       "      <td>0.69</td>\n",
       "      <td>0.65</td>\n",
       "    </tr>\n",
       "    <tr>\n",
       "      <th>cholesky</th>\n",
       "      <td>0.66</td>\n",
       "      <td>0.65</td>\n",
       "      <td>0.65</td>\n",
       "      <td>0.53</td>\n",
       "      <td>0.76</td>\n",
       "      <td>0.69</td>\n",
       "      <td>0.65</td>\n",
       "    </tr>\n",
       "    <tr>\n",
       "      <th>True</th>\n",
       "      <th>saga</th>\n",
       "      <td>0.66</td>\n",
       "      <td>0.65</td>\n",
       "      <td>0.65</td>\n",
       "      <td>0.53</td>\n",
       "      <td>0.76</td>\n",
       "      <td>0.69</td>\n",
       "      <td>0.65</td>\n",
       "    </tr>\n",
       "    <tr>\n",
       "      <th>False</th>\n",
       "      <th>lsqr</th>\n",
       "      <td>0.66</td>\n",
       "      <td>0.65</td>\n",
       "      <td>0.65</td>\n",
       "      <td>0.53</td>\n",
       "      <td>0.76</td>\n",
       "      <td>0.69</td>\n",
       "      <td>0.65</td>\n",
       "    </tr>\n",
       "    <tr>\n",
       "      <th rowspan=\"3\" valign=\"top\">True</th>\n",
       "      <th>sag</th>\n",
       "      <td>0.66</td>\n",
       "      <td>0.65</td>\n",
       "      <td>0.65</td>\n",
       "      <td>0.53</td>\n",
       "      <td>0.76</td>\n",
       "      <td>0.69</td>\n",
       "      <td>0.65</td>\n",
       "    </tr>\n",
       "    <tr>\n",
       "      <th>lsqr</th>\n",
       "      <td>0.66</td>\n",
       "      <td>0.65</td>\n",
       "      <td>0.65</td>\n",
       "      <td>0.53</td>\n",
       "      <td>0.76</td>\n",
       "      <td>0.69</td>\n",
       "      <td>0.65</td>\n",
       "    </tr>\n",
       "    <tr>\n",
       "      <th>auto</th>\n",
       "      <td>0.66</td>\n",
       "      <td>0.65</td>\n",
       "      <td>0.65</td>\n",
       "      <td>0.53</td>\n",
       "      <td>0.76</td>\n",
       "      <td>0.69</td>\n",
       "      <td>0.65</td>\n",
       "    </tr>\n",
       "    <tr>\n",
       "      <th rowspan=\"3\" valign=\"top\">False</th>\n",
       "      <th>svd</th>\n",
       "      <td>0.66</td>\n",
       "      <td>0.65</td>\n",
       "      <td>0.65</td>\n",
       "      <td>0.53</td>\n",
       "      <td>0.76</td>\n",
       "      <td>0.69</td>\n",
       "      <td>0.65</td>\n",
       "    </tr>\n",
       "    <tr>\n",
       "      <th>sparse_cg</th>\n",
       "      <td>0.66</td>\n",
       "      <td>0.65</td>\n",
       "      <td>0.65</td>\n",
       "      <td>0.53</td>\n",
       "      <td>0.76</td>\n",
       "      <td>0.69</td>\n",
       "      <td>0.65</td>\n",
       "    </tr>\n",
       "    <tr>\n",
       "      <th>saga</th>\n",
       "      <td>0.66</td>\n",
       "      <td>0.65</td>\n",
       "      <td>0.65</td>\n",
       "      <td>0.53</td>\n",
       "      <td>0.76</td>\n",
       "      <td>0.69</td>\n",
       "      <td>0.65</td>\n",
       "    </tr>\n",
       "    <tr>\n",
       "      <th>100</th>\n",
       "      <th>False</th>\n",
       "      <th>True</th>\n",
       "      <th>svd</th>\n",
       "      <td>0.66</td>\n",
       "      <td>0.65</td>\n",
       "      <td>0.65</td>\n",
       "      <td>0.53</td>\n",
       "      <td>0.76</td>\n",
       "      <td>0.69</td>\n",
       "      <td>0.65</td>\n",
       "    </tr>\n",
       "    <tr>\n",
       "      <th rowspan=\"2\" valign=\"top\">91</th>\n",
       "      <th rowspan=\"2\" valign=\"top\">False</th>\n",
       "      <th rowspan=\"2\" valign=\"top\">True</th>\n",
       "      <th>cholesky</th>\n",
       "      <td>0.66</td>\n",
       "      <td>0.65</td>\n",
       "      <td>0.65</td>\n",
       "      <td>0.53</td>\n",
       "      <td>0.76</td>\n",
       "      <td>0.69</td>\n",
       "      <td>0.65</td>\n",
       "    </tr>\n",
       "    <tr>\n",
       "      <th>svd</th>\n",
       "      <td>0.66</td>\n",
       "      <td>0.65</td>\n",
       "      <td>0.65</td>\n",
       "      <td>0.53</td>\n",
       "      <td>0.76</td>\n",
       "      <td>0.69</td>\n",
       "      <td>0.65</td>\n",
       "    </tr>\n",
       "    <tr>\n",
       "      <th>92</th>\n",
       "      <th>False</th>\n",
       "      <th>True</th>\n",
       "      <th>cholesky</th>\n",
       "      <td>0.66</td>\n",
       "      <td>0.65</td>\n",
       "      <td>0.65</td>\n",
       "      <td>0.53</td>\n",
       "      <td>0.76</td>\n",
       "      <td>0.69</td>\n",
       "      <td>0.65</td>\n",
       "    </tr>\n",
       "    <tr>\n",
       "      <th>99</th>\n",
       "      <th>False</th>\n",
       "      <th>True</th>\n",
       "      <th>cholesky</th>\n",
       "      <td>0.66</td>\n",
       "      <td>0.65</td>\n",
       "      <td>0.65</td>\n",
       "      <td>0.53</td>\n",
       "      <td>0.76</td>\n",
       "      <td>0.69</td>\n",
       "      <td>0.65</td>\n",
       "    </tr>\n",
       "    <tr>\n",
       "      <th rowspan=\"2\" valign=\"top\">98</th>\n",
       "      <th rowspan=\"2\" valign=\"top\">False</th>\n",
       "      <th rowspan=\"2\" valign=\"top\">True</th>\n",
       "      <th>svd</th>\n",
       "      <td>0.66</td>\n",
       "      <td>0.65</td>\n",
       "      <td>0.65</td>\n",
       "      <td>0.53</td>\n",
       "      <td>0.76</td>\n",
       "      <td>0.69</td>\n",
       "      <td>0.65</td>\n",
       "    </tr>\n",
       "    <tr>\n",
       "      <th>cholesky</th>\n",
       "      <td>0.66</td>\n",
       "      <td>0.65</td>\n",
       "      <td>0.65</td>\n",
       "      <td>0.53</td>\n",
       "      <td>0.76</td>\n",
       "      <td>0.69</td>\n",
       "      <td>0.65</td>\n",
       "    </tr>\n",
       "    <tr>\n",
       "      <th rowspan=\"2\" valign=\"top\">97</th>\n",
       "      <th rowspan=\"2\" valign=\"top\">False</th>\n",
       "      <th rowspan=\"2\" valign=\"top\">True</th>\n",
       "      <th>svd</th>\n",
       "      <td>0.66</td>\n",
       "      <td>0.65</td>\n",
       "      <td>0.65</td>\n",
       "      <td>0.53</td>\n",
       "      <td>0.76</td>\n",
       "      <td>0.69</td>\n",
       "      <td>0.65</td>\n",
       "    </tr>\n",
       "    <tr>\n",
       "      <th>cholesky</th>\n",
       "      <td>0.66</td>\n",
       "      <td>0.65</td>\n",
       "      <td>0.65</td>\n",
       "      <td>0.53</td>\n",
       "      <td>0.76</td>\n",
       "      <td>0.69</td>\n",
       "      <td>0.65</td>\n",
       "    </tr>\n",
       "    <tr>\n",
       "      <th rowspan=\"2\" valign=\"top\">96</th>\n",
       "      <th rowspan=\"2\" valign=\"top\">False</th>\n",
       "      <th rowspan=\"2\" valign=\"top\">True</th>\n",
       "      <th>svd</th>\n",
       "      <td>0.66</td>\n",
       "      <td>0.65</td>\n",
       "      <td>0.65</td>\n",
       "      <td>0.53</td>\n",
       "      <td>0.76</td>\n",
       "      <td>0.69</td>\n",
       "      <td>0.65</td>\n",
       "    </tr>\n",
       "    <tr>\n",
       "      <th>cholesky</th>\n",
       "      <td>0.66</td>\n",
       "      <td>0.65</td>\n",
       "      <td>0.65</td>\n",
       "      <td>0.53</td>\n",
       "      <td>0.76</td>\n",
       "      <td>0.69</td>\n",
       "      <td>0.65</td>\n",
       "    </tr>\n",
       "    <tr>\n",
       "      <th rowspan=\"2\" valign=\"top\">95</th>\n",
       "      <th rowspan=\"2\" valign=\"top\">False</th>\n",
       "      <th rowspan=\"2\" valign=\"top\">True</th>\n",
       "      <th>svd</th>\n",
       "      <td>0.66</td>\n",
       "      <td>0.65</td>\n",
       "      <td>0.65</td>\n",
       "      <td>0.53</td>\n",
       "      <td>0.76</td>\n",
       "      <td>0.69</td>\n",
       "      <td>0.65</td>\n",
       "    </tr>\n",
       "    <tr>\n",
       "      <th>cholesky</th>\n",
       "      <td>0.66</td>\n",
       "      <td>0.65</td>\n",
       "      <td>0.65</td>\n",
       "      <td>0.53</td>\n",
       "      <td>0.76</td>\n",
       "      <td>0.69</td>\n",
       "      <td>0.65</td>\n",
       "    </tr>\n",
       "    <tr>\n",
       "      <th rowspan=\"2\" valign=\"top\">94</th>\n",
       "      <th rowspan=\"2\" valign=\"top\">False</th>\n",
       "      <th rowspan=\"2\" valign=\"top\">True</th>\n",
       "      <th>svd</th>\n",
       "      <td>0.66</td>\n",
       "      <td>0.65</td>\n",
       "      <td>0.65</td>\n",
       "      <td>0.53</td>\n",
       "      <td>0.76</td>\n",
       "      <td>0.69</td>\n",
       "      <td>0.65</td>\n",
       "    </tr>\n",
       "    <tr>\n",
       "      <th>cholesky</th>\n",
       "      <td>0.66</td>\n",
       "      <td>0.65</td>\n",
       "      <td>0.65</td>\n",
       "      <td>0.53</td>\n",
       "      <td>0.76</td>\n",
       "      <td>0.69</td>\n",
       "      <td>0.65</td>\n",
       "    </tr>\n",
       "    <tr>\n",
       "      <th rowspan=\"2\" valign=\"top\">93</th>\n",
       "      <th rowspan=\"2\" valign=\"top\">False</th>\n",
       "      <th rowspan=\"2\" valign=\"top\">True</th>\n",
       "      <th>svd</th>\n",
       "      <td>0.66</td>\n",
       "      <td>0.65</td>\n",
       "      <td>0.65</td>\n",
       "      <td>0.53</td>\n",
       "      <td>0.76</td>\n",
       "      <td>0.69</td>\n",
       "      <td>0.65</td>\n",
       "    </tr>\n",
       "    <tr>\n",
       "      <th>cholesky</th>\n",
       "      <td>0.66</td>\n",
       "      <td>0.65</td>\n",
       "      <td>0.65</td>\n",
       "      <td>0.53</td>\n",
       "      <td>0.76</td>\n",
       "      <td>0.69</td>\n",
       "      <td>0.65</td>\n",
       "    </tr>\n",
       "    <tr>\n",
       "      <th>92</th>\n",
       "      <th>False</th>\n",
       "      <th>True</th>\n",
       "      <th>svd</th>\n",
       "      <td>0.66</td>\n",
       "      <td>0.65</td>\n",
       "      <td>0.65</td>\n",
       "      <td>0.53</td>\n",
       "      <td>0.76</td>\n",
       "      <td>0.69</td>\n",
       "      <td>0.65</td>\n",
       "    </tr>\n",
       "    <tr>\n",
       "      <th>90</th>\n",
       "      <th>False</th>\n",
       "      <th>False</th>\n",
       "      <th>sag</th>\n",
       "      <td>0.66</td>\n",
       "      <td>0.65</td>\n",
       "      <td>0.65</td>\n",
       "      <td>0.53</td>\n",
       "      <td>0.76</td>\n",
       "      <td>0.69</td>\n",
       "      <td>0.65</td>\n",
       "    </tr>\n",
       "    <tr>\n",
       "      <th rowspan=\"2\" valign=\"top\">70</th>\n",
       "      <th rowspan=\"2\" valign=\"top\">False</th>\n",
       "      <th rowspan=\"2\" valign=\"top\">True</th>\n",
       "      <th>cholesky</th>\n",
       "      <td>0.67</td>\n",
       "      <td>0.65</td>\n",
       "      <td>0.64</td>\n",
       "      <td>0.53</td>\n",
       "      <td>0.76</td>\n",
       "      <td>0.69</td>\n",
       "      <td>0.64</td>\n",
       "    </tr>\n",
       "    <tr>\n",
       "      <th>svd</th>\n",
       "      <td>0.67</td>\n",
       "      <td>0.65</td>\n",
       "      <td>0.64</td>\n",
       "      <td>0.53</td>\n",
       "      <td>0.76</td>\n",
       "      <td>0.69</td>\n",
       "      <td>0.64</td>\n",
       "    </tr>\n",
       "    <tr>\n",
       "      <th>110</th>\n",
       "      <th>False</th>\n",
       "      <th>True</th>\n",
       "      <th>svd</th>\n",
       "      <td>0.66</td>\n",
       "      <td>0.65</td>\n",
       "      <td>0.64</td>\n",
       "      <td>0.53</td>\n",
       "      <td>0.76</td>\n",
       "      <td>0.69</td>\n",
       "      <td>0.64</td>\n",
       "    </tr>\n",
       "    <tr>\n",
       "      <th>300</th>\n",
       "      <th>False</th>\n",
       "      <th>True</th>\n",
       "      <th>svd</th>\n",
       "      <td>0.66</td>\n",
       "      <td>0.65</td>\n",
       "      <td>0.64</td>\n",
       "      <td>0.53</td>\n",
       "      <td>0.76</td>\n",
       "      <td>0.69</td>\n",
       "      <td>0.64</td>\n",
       "    </tr>\n",
       "    <tr>\n",
       "      <th>120</th>\n",
       "      <th>False</th>\n",
       "      <th>True</th>\n",
       "      <th>cholesky</th>\n",
       "      <td>0.66</td>\n",
       "      <td>0.65</td>\n",
       "      <td>0.64</td>\n",
       "      <td>0.53</td>\n",
       "      <td>0.76</td>\n",
       "      <td>0.69</td>\n",
       "      <td>0.64</td>\n",
       "    </tr>\n",
       "    <tr>\n",
       "      <th>130</th>\n",
       "      <th>False</th>\n",
       "      <th>True</th>\n",
       "      <th>svd</th>\n",
       "      <td>0.66</td>\n",
       "      <td>0.65</td>\n",
       "      <td>0.64</td>\n",
       "      <td>0.53</td>\n",
       "      <td>0.76</td>\n",
       "      <td>0.69</td>\n",
       "      <td>0.64</td>\n",
       "    </tr>\n",
       "    <tr>\n",
       "      <th>110</th>\n",
       "      <th>False</th>\n",
       "      <th>True</th>\n",
       "      <th>cholesky</th>\n",
       "      <td>0.66</td>\n",
       "      <td>0.65</td>\n",
       "      <td>0.64</td>\n",
       "      <td>0.53</td>\n",
       "      <td>0.76</td>\n",
       "      <td>0.69</td>\n",
       "      <td>0.64</td>\n",
       "    </tr>\n",
       "    <tr>\n",
       "      <th rowspan=\"2\" valign=\"top\">140</th>\n",
       "      <th rowspan=\"2\" valign=\"top\">False</th>\n",
       "      <th rowspan=\"2\" valign=\"top\">True</th>\n",
       "      <th>cholesky</th>\n",
       "      <td>0.66</td>\n",
       "      <td>0.65</td>\n",
       "      <td>0.64</td>\n",
       "      <td>0.53</td>\n",
       "      <td>0.76</td>\n",
       "      <td>0.69</td>\n",
       "      <td>0.64</td>\n",
       "    </tr>\n",
       "    <tr>\n",
       "      <th>svd</th>\n",
       "      <td>0.66</td>\n",
       "      <td>0.65</td>\n",
       "      <td>0.64</td>\n",
       "      <td>0.53</td>\n",
       "      <td>0.76</td>\n",
       "      <td>0.69</td>\n",
       "      <td>0.64</td>\n",
       "    </tr>\n",
       "    <tr>\n",
       "      <th rowspan=\"2\" valign=\"top\">150</th>\n",
       "      <th rowspan=\"2\" valign=\"top\">False</th>\n",
       "      <th rowspan=\"2\" valign=\"top\">True</th>\n",
       "      <th>cholesky</th>\n",
       "      <td>0.66</td>\n",
       "      <td>0.65</td>\n",
       "      <td>0.64</td>\n",
       "      <td>0.53</td>\n",
       "      <td>0.76</td>\n",
       "      <td>0.69</td>\n",
       "      <td>0.64</td>\n",
       "    </tr>\n",
       "    <tr>\n",
       "      <th>svd</th>\n",
       "      <td>0.66</td>\n",
       "      <td>0.65</td>\n",
       "      <td>0.64</td>\n",
       "      <td>0.53</td>\n",
       "      <td>0.76</td>\n",
       "      <td>0.69</td>\n",
       "      <td>0.64</td>\n",
       "    </tr>\n",
       "    <tr>\n",
       "      <th rowspan=\"2\" valign=\"top\">160</th>\n",
       "      <th rowspan=\"2\" valign=\"top\">False</th>\n",
       "      <th rowspan=\"2\" valign=\"top\">True</th>\n",
       "      <th>cholesky</th>\n",
       "      <td>0.66</td>\n",
       "      <td>0.65</td>\n",
       "      <td>0.64</td>\n",
       "      <td>0.53</td>\n",
       "      <td>0.76</td>\n",
       "      <td>0.69</td>\n",
       "      <td>0.64</td>\n",
       "    </tr>\n",
       "    <tr>\n",
       "      <th>svd</th>\n",
       "      <td>0.66</td>\n",
       "      <td>0.65</td>\n",
       "      <td>0.64</td>\n",
       "      <td>0.53</td>\n",
       "      <td>0.76</td>\n",
       "      <td>0.69</td>\n",
       "      <td>0.64</td>\n",
       "    </tr>\n",
       "    <tr>\n",
       "      <th>130</th>\n",
       "      <th>False</th>\n",
       "      <th>True</th>\n",
       "      <th>cholesky</th>\n",
       "      <td>0.66</td>\n",
       "      <td>0.65</td>\n",
       "      <td>0.64</td>\n",
       "      <td>0.53</td>\n",
       "      <td>0.76</td>\n",
       "      <td>0.69</td>\n",
       "      <td>0.64</td>\n",
       "    </tr>\n",
       "  </tbody>\n",
       "</table>\n",
       "</div>"
      ],
      "text/plain": [
       "                                         acuracy_treino  acuracia_teste  \\\n",
       "alpha fit_intercept normalize solver                                      \n",
       "90    False         True      cholesky             0.66            0.65   \n",
       "                              svd                  0.66            0.65   \n",
       "99    False         True      svd                  0.66            0.65   \n",
       "90    False         True      sparse_cg            0.66            0.65   \n",
       "100   False         True      cholesky             0.66            0.65   \n",
       "80    False         True      cholesky             0.67            0.65   \n",
       "                              svd                  0.67            0.65   \n",
       "90    False         False     auto                 0.66            0.65   \n",
       "                              cholesky             0.66            0.65   \n",
       "                    True      saga                 0.66            0.65   \n",
       "                    False     lsqr                 0.66            0.65   \n",
       "                    True      sag                  0.66            0.65   \n",
       "                              lsqr                 0.66            0.65   \n",
       "                              auto                 0.66            0.65   \n",
       "                    False     svd                  0.66            0.65   \n",
       "                              sparse_cg            0.66            0.65   \n",
       "                              saga                 0.66            0.65   \n",
       "100   False         True      svd                  0.66            0.65   \n",
       "91    False         True      cholesky             0.66            0.65   \n",
       "                              svd                  0.66            0.65   \n",
       "92    False         True      cholesky             0.66            0.65   \n",
       "99    False         True      cholesky             0.66            0.65   \n",
       "98    False         True      svd                  0.66            0.65   \n",
       "                              cholesky             0.66            0.65   \n",
       "97    False         True      svd                  0.66            0.65   \n",
       "                              cholesky             0.66            0.65   \n",
       "96    False         True      svd                  0.66            0.65   \n",
       "                              cholesky             0.66            0.65   \n",
       "95    False         True      svd                  0.66            0.65   \n",
       "                              cholesky             0.66            0.65   \n",
       "94    False         True      svd                  0.66            0.65   \n",
       "                              cholesky             0.66            0.65   \n",
       "93    False         True      svd                  0.66            0.65   \n",
       "                              cholesky             0.66            0.65   \n",
       "92    False         True      svd                  0.66            0.65   \n",
       "90    False         False     sag                  0.66            0.65   \n",
       "70    False         True      cholesky             0.67            0.65   \n",
       "                              svd                  0.67            0.65   \n",
       "110   False         True      svd                  0.66            0.65   \n",
       "300   False         True      svd                  0.66            0.65   \n",
       "120   False         True      cholesky             0.66            0.65   \n",
       "130   False         True      svd                  0.66            0.65   \n",
       "110   False         True      cholesky             0.66            0.65   \n",
       "140   False         True      cholesky             0.66            0.65   \n",
       "                              svd                  0.66            0.65   \n",
       "150   False         True      cholesky             0.66            0.65   \n",
       "                              svd                  0.66            0.65   \n",
       "160   False         True      cholesky             0.66            0.65   \n",
       "                              svd                  0.66            0.65   \n",
       "130   False         True      cholesky             0.66            0.65   \n",
       "\n",
       "                                         acuracia_balanceada_teste  \\\n",
       "alpha fit_intercept normalize solver                                 \n",
       "90    False         True      cholesky                        0.65   \n",
       "                              svd                             0.65   \n",
       "99    False         True      svd                             0.65   \n",
       "90    False         True      sparse_cg                       0.65   \n",
       "100   False         True      cholesky                        0.65   \n",
       "80    False         True      cholesky                        0.65   \n",
       "                              svd                             0.65   \n",
       "90    False         False     auto                            0.65   \n",
       "                              cholesky                        0.65   \n",
       "                    True      saga                            0.65   \n",
       "                    False     lsqr                            0.65   \n",
       "                    True      sag                             0.65   \n",
       "                              lsqr                            0.65   \n",
       "                              auto                            0.65   \n",
       "                    False     svd                             0.65   \n",
       "                              sparse_cg                       0.65   \n",
       "                              saga                            0.65   \n",
       "100   False         True      svd                             0.65   \n",
       "91    False         True      cholesky                        0.65   \n",
       "                              svd                             0.65   \n",
       "92    False         True      cholesky                        0.65   \n",
       "99    False         True      cholesky                        0.65   \n",
       "98    False         True      svd                             0.65   \n",
       "                              cholesky                        0.65   \n",
       "97    False         True      svd                             0.65   \n",
       "                              cholesky                        0.65   \n",
       "96    False         True      svd                             0.65   \n",
       "                              cholesky                        0.65   \n",
       "95    False         True      svd                             0.65   \n",
       "                              cholesky                        0.65   \n",
       "94    False         True      svd                             0.65   \n",
       "                              cholesky                        0.65   \n",
       "93    False         True      svd                             0.65   \n",
       "                              cholesky                        0.65   \n",
       "92    False         True      svd                             0.65   \n",
       "90    False         False     sag                             0.65   \n",
       "70    False         True      cholesky                        0.64   \n",
       "                              svd                             0.64   \n",
       "110   False         True      svd                             0.64   \n",
       "300   False         True      svd                             0.64   \n",
       "120   False         True      cholesky                        0.64   \n",
       "130   False         True      svd                             0.64   \n",
       "110   False         True      cholesky                        0.64   \n",
       "140   False         True      cholesky                        0.64   \n",
       "                              svd                             0.64   \n",
       "150   False         True      cholesky                        0.64   \n",
       "                              svd                             0.64   \n",
       "160   False         True      cholesky                        0.64   \n",
       "                              svd                             0.64   \n",
       "130   False         True      cholesky                        0.64   \n",
       "\n",
       "                                         rec_0_teste  rec_1_teste  f1_teste  \\\n",
       "alpha fit_intercept normalize solver                                          \n",
       "90    False         True      cholesky          0.53         0.76      0.69   \n",
       "                              svd               0.53         0.76      0.69   \n",
       "99    False         True      svd               0.53         0.76      0.69   \n",
       "90    False         True      sparse_cg         0.53         0.76      0.69   \n",
       "100   False         True      cholesky          0.53         0.76      0.69   \n",
       "80    False         True      cholesky          0.53         0.76      0.69   \n",
       "                              svd               0.53         0.76      0.69   \n",
       "90    False         False     auto              0.53         0.76      0.69   \n",
       "                              cholesky          0.53         0.76      0.69   \n",
       "                    True      saga              0.53         0.76      0.69   \n",
       "                    False     lsqr              0.53         0.76      0.69   \n",
       "                    True      sag               0.53         0.76      0.69   \n",
       "                              lsqr              0.53         0.76      0.69   \n",
       "                              auto              0.53         0.76      0.69   \n",
       "                    False     svd               0.53         0.76      0.69   \n",
       "                              sparse_cg         0.53         0.76      0.69   \n",
       "                              saga              0.53         0.76      0.69   \n",
       "100   False         True      svd               0.53         0.76      0.69   \n",
       "91    False         True      cholesky          0.53         0.76      0.69   \n",
       "                              svd               0.53         0.76      0.69   \n",
       "92    False         True      cholesky          0.53         0.76      0.69   \n",
       "99    False         True      cholesky          0.53         0.76      0.69   \n",
       "98    False         True      svd               0.53         0.76      0.69   \n",
       "                              cholesky          0.53         0.76      0.69   \n",
       "97    False         True      svd               0.53         0.76      0.69   \n",
       "                              cholesky          0.53         0.76      0.69   \n",
       "96    False         True      svd               0.53         0.76      0.69   \n",
       "                              cholesky          0.53         0.76      0.69   \n",
       "95    False         True      svd               0.53         0.76      0.69   \n",
       "                              cholesky          0.53         0.76      0.69   \n",
       "94    False         True      svd               0.53         0.76      0.69   \n",
       "                              cholesky          0.53         0.76      0.69   \n",
       "93    False         True      svd               0.53         0.76      0.69   \n",
       "                              cholesky          0.53         0.76      0.69   \n",
       "92    False         True      svd               0.53         0.76      0.69   \n",
       "90    False         False     sag               0.53         0.76      0.69   \n",
       "70    False         True      cholesky          0.53         0.76      0.69   \n",
       "                              svd               0.53         0.76      0.69   \n",
       "110   False         True      svd               0.53         0.76      0.69   \n",
       "300   False         True      svd               0.53         0.76      0.69   \n",
       "120   False         True      cholesky          0.53         0.76      0.69   \n",
       "130   False         True      svd               0.53         0.76      0.69   \n",
       "110   False         True      cholesky          0.53         0.76      0.69   \n",
       "140   False         True      cholesky          0.53         0.76      0.69   \n",
       "                              svd               0.53         0.76      0.69   \n",
       "150   False         True      cholesky          0.53         0.76      0.69   \n",
       "                              svd               0.53         0.76      0.69   \n",
       "160   False         True      cholesky          0.53         0.76      0.69   \n",
       "                              svd               0.53         0.76      0.69   \n",
       "130   False         True      cholesky          0.53         0.76      0.69   \n",
       "\n",
       "                                         auc_teste  \n",
       "alpha fit_intercept normalize solver                \n",
       "90    False         True      cholesky        0.65  \n",
       "                              svd             0.65  \n",
       "99    False         True      svd             0.65  \n",
       "90    False         True      sparse_cg       0.65  \n",
       "100   False         True      cholesky        0.65  \n",
       "80    False         True      cholesky        0.65  \n",
       "                              svd             0.65  \n",
       "90    False         False     auto            0.65  \n",
       "                              cholesky        0.65  \n",
       "                    True      saga            0.65  \n",
       "                    False     lsqr            0.65  \n",
       "                    True      sag             0.65  \n",
       "                              lsqr            0.65  \n",
       "                              auto            0.65  \n",
       "                    False     svd             0.65  \n",
       "                              sparse_cg       0.65  \n",
       "                              saga            0.65  \n",
       "100   False         True      svd             0.65  \n",
       "91    False         True      cholesky        0.65  \n",
       "                              svd             0.65  \n",
       "92    False         True      cholesky        0.65  \n",
       "99    False         True      cholesky        0.65  \n",
       "98    False         True      svd             0.65  \n",
       "                              cholesky        0.65  \n",
       "97    False         True      svd             0.65  \n",
       "                              cholesky        0.65  \n",
       "96    False         True      svd             0.65  \n",
       "                              cholesky        0.65  \n",
       "95    False         True      svd             0.65  \n",
       "                              cholesky        0.65  \n",
       "94    False         True      svd             0.65  \n",
       "                              cholesky        0.65  \n",
       "93    False         True      svd             0.65  \n",
       "                              cholesky        0.65  \n",
       "92    False         True      svd             0.65  \n",
       "90    False         False     sag             0.65  \n",
       "70    False         True      cholesky        0.64  \n",
       "                              svd             0.64  \n",
       "110   False         True      svd             0.64  \n",
       "300   False         True      svd             0.64  \n",
       "120   False         True      cholesky        0.64  \n",
       "130   False         True      svd             0.64  \n",
       "110   False         True      cholesky        0.64  \n",
       "140   False         True      cholesky        0.64  \n",
       "                              svd             0.64  \n",
       "150   False         True      cholesky        0.64  \n",
       "                              svd             0.64  \n",
       "160   False         True      cholesky        0.64  \n",
       "                              svd             0.64  \n",
       "130   False         True      cholesky        0.64  "
      ]
     },
     "execution_count": 386,
     "metadata": {},
     "output_type": "execute_result"
    }
   ],
   "source": [
    "resultados_df = pd.DataFrame(np.array(resultados), columns=['repeticao','alpha','fit_intercept','normalize','solver','acuracy_treino','acuracia_teste','acuracia_balanceada_teste','rec_0_teste','rec_1_teste','f1_teste','auc_teste'])\n",
    "resultados_df['auc_teste'] = resultados_df['auc_teste'].astype(float, errors = 'raise')\n",
    "resultados_df.astype({ 'alpha': 'str', 'fit_intercept': 'str','normalize': 'str','solver': 'str','acuracy_treino': 'float','acuracia_teste': 'float','acuracia_balanceada_teste': 'float','rec_0_teste': 'float','rec_1_teste': 'float','f1_teste': 'float','auc_teste': 'float' }).groupby(['alpha','fit_intercept','normalize','solver']).agg({'acuracy_treino':np.mean, 'acuracia_teste':np.mean, 'acuracia_balanceada_teste':np.mean, 'rec_0_teste':np.mean, 'rec_1_teste':np.mean, 'f1_teste':np.mean, 'auc_teste':np.mean}).sort_values(by='auc_teste', ascending=False).head(50)"
   ]
  },
  {
   "cell_type": "code",
   "execution_count": 387,
   "metadata": {},
   "outputs": [
    {
     "data": {
      "text/plain": [
       "RidgeClassifier(alpha=90, fit_intercept=False, normalize=True, solver='svd')"
      ]
     },
     "execution_count": 387,
     "metadata": {},
     "output_type": "execute_result"
    }
   ],
   "source": [
    "## Dados de treino (até a data definida por treinar_ate_data_str)\n",
    "X = df_final99[(df_final99['Date'] <= parser.parse(treinar_ate_data_str))][['score','neu_robd4','neg_finbertd2','scored3']]\n",
    "y = df_final99[(df_final99['Date'] <= parser.parse(treinar_ate_data_str))][['Fechamento']]\n",
    "\n",
    "X_train = X\n",
    "y_train = y\n",
    "\n",
    "ridge = RidgeClassifier(alpha=90,fit_intercept=False,normalize=True, solver = 'svd' )\n",
    "ridge.fit(X_train,y_train)"
   ]
  },
  {
   "cell_type": "code",
   "execution_count": 389,
   "metadata": {},
   "outputs": [
    {
     "name": "stdout",
     "output_type": "stream",
     "text": [
      "Classification Report Dados:\n",
      "               precision    recall  f1-score   support\n",
      "\n",
      "           0       0.69      0.53      0.60        17\n",
      "           1       0.64      0.78      0.70        18\n",
      "\n",
      "    accuracy                           0.66        35\n",
      "   macro avg       0.66      0.65      0.65        35\n",
      "weighted avg       0.66      0.66      0.65        35\n",
      "\n",
      "\n",
      "Confusion Matrix Dados de Producao:\n",
      " [[ 9  8]\n",
      " [ 4 14]]\n",
      "\n"
     ]
    }
   ],
   "source": [
    "#Predizendo y\n",
    "y_pred = ridge.predict(X_test)\n",
    "\n",
    "#Relatórios e matriz de confusao\n",
    "print(\"Classification Report Dados:\\n\",classification_report(y_test,y_pred))\n",
    "print(\"\")\n",
    "print(\"Confusion Matrix Dados de Producao:\\n\",confusion_matrix(y_test,y_pred))\n",
    "print(\"\")"
   ]
  },
  {
   "cell_type": "code",
   "execution_count": null,
   "metadata": {},
   "outputs": [],
   "source": []
  }
 ],
 "metadata": {
  "colab": {
   "collapsed_sections": [
    "GLQVL39etxA7",
    "w1XbpuI2txBD",
    "uVhYASlKtxBE",
    "kA8xUq80txBG",
    "WvunB2T2txBH",
    "yaZKt1aQtxBH",
    "o0FDRw9otxBI",
    "4Ps-TQJZtxBK",
    "Hvi7sE4mtxBK",
    "EnI0cgNDtxBL",
    "O2JRt_catxBL",
    "0t2vvLQstxBM",
    "WFxO_oNltxBN",
    "MR3swdq4txBO",
    "C6yWLR4StxBO",
    "BQF6Nd4NtxBW",
    "oqvY9hq6txBW",
    "O_VKfbbptxBX",
    "Q2aQq_0ZtxBY",
    "mmSDP734txBZ",
    "EVKPJo8KtxBZ",
    "gHYaLzzAtxBa",
    "u4_fMM9otxBa",
    "UMDvNtcitxBb",
    "TAmsdvUwtxBd",
    "mR1zw3eJtxBe",
    "F4t54GmWtxBf",
    "I-i7Chs1txBg",
    "DVLZJzx-txBh",
    "jSZ3ULpJtxBi",
    "c329l7BptxBj",
    "csFs7BZWtxBl",
    "NpEryjovtxBl",
    "UXo3Ahr0txBp",
    "aX2TRyThtxBr",
    "aIHcMoYXtxBt",
    "0bP1g5m0txBu",
    "7qGStQbAtxBw",
    "kI0uCb6ttxBz",
    "YvVsjbrptxB4",
    "AUrsC36KtxB-",
    "Gji2KE9ntxCB",
    "VIn0WCHTtxCC",
    "fZ134YHCtxCD",
    "d9p5fXTGtxCE",
    "MIeCms0NtxCF"
   ],
   "name": " Experimentos_+_EDA_(5).ipynb",
   "provenance": []
  },
  "kernelspec": {
   "display_name": "Python 3",
   "language": "python",
   "name": "python3"
  },
  "language_info": {
   "codemirror_mode": {
    "name": "ipython",
    "version": 3
   },
   "file_extension": ".py",
   "mimetype": "text/x-python",
   "name": "python",
   "nbconvert_exporter": "python",
   "pygments_lexer": "ipython3",
   "version": "3.8.3"
  }
 },
 "nbformat": 4,
 "nbformat_minor": 1
}
