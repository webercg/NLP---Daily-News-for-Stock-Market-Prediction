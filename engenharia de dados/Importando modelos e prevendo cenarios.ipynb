{
 "cells": [
  {
   "cell_type": "code",
   "execution_count": 56,
   "metadata": {},
   "outputs": [],
   "source": [
    "import joblib\n",
    "import os\n",
    "import pandas as pd\n",
    "import numpy as np\n",
    "from dateutil import parser"
   ]
  },
  {
   "cell_type": "markdown",
   "metadata": {},
   "source": [
    "# Importando o dataset"
   ]
  },
  {
   "cell_type": "code",
   "execution_count": 14,
   "metadata": {},
   "outputs": [
    {
     "data": {
      "text/html": [
       "<div>\n",
       "<style scoped>\n",
       "    .dataframe tbody tr th:only-of-type {\n",
       "        vertical-align: middle;\n",
       "    }\n",
       "\n",
       "    .dataframe tbody tr th {\n",
       "        vertical-align: top;\n",
       "    }\n",
       "\n",
       "    .dataframe thead th {\n",
       "        text-align: right;\n",
       "    }\n",
       "</style>\n",
       "<table border=\"1\" class=\"dataframe\">\n",
       "  <thead>\n",
       "    <tr style=\"text-align: right;\">\n",
       "      <th></th>\n",
       "      <th>Date</th>\n",
       "      <th>Adj Close</th>\n",
       "      <th>Volume</th>\n",
       "      <th>Var%</th>\n",
       "      <th>Fechamento</th>\n",
       "      <th>Noticias_x</th>\n",
       "      <th>Noticias_y</th>\n",
       "      <th>score</th>\n",
       "      <th>Noticias_x.1</th>\n",
       "      <th>neu_rob</th>\n",
       "      <th>...</th>\n",
       "      <th>scored3</th>\n",
       "      <th>scored4</th>\n",
       "      <th>neu_robd1</th>\n",
       "      <th>neu_robd2</th>\n",
       "      <th>neu_robd3</th>\n",
       "      <th>neu_robd4</th>\n",
       "      <th>neg_finbertd1</th>\n",
       "      <th>neg_finbertd2</th>\n",
       "      <th>neg_finbertd3</th>\n",
       "      <th>neg_finbertd4</th>\n",
       "    </tr>\n",
       "  </thead>\n",
       "  <tbody>\n",
       "    <tr>\n",
       "      <th>0</th>\n",
       "      <td>2020-01-09</td>\n",
       "      <td>20.266226</td>\n",
       "      <td>36102700</td>\n",
       "      <td>-0.003279</td>\n",
       "      <td>0</td>\n",
       "      <td>Petrobras refineries show a drop in global oil...</td>\n",
       "      <td>refinarias da petrobras apresentam queda na c...</td>\n",
       "      <td>-3</td>\n",
       "      <td>Petrobras refineries show a drop in global oil...</td>\n",
       "      <td>0.290451</td>\n",
       "      <td>...</td>\n",
       "      <td>0.0</td>\n",
       "      <td>0.0</td>\n",
       "      <td>0.027394</td>\n",
       "      <td>0.081840</td>\n",
       "      <td>0.125774</td>\n",
       "      <td>0.718645</td>\n",
       "      <td>0.000000</td>\n",
       "      <td>0.000000</td>\n",
       "      <td>0.000000</td>\n",
       "      <td>-0.999990</td>\n",
       "    </tr>\n",
       "    <tr>\n",
       "      <th>1</th>\n",
       "      <td>2020-01-10</td>\n",
       "      <td>20.179560</td>\n",
       "      <td>25397500</td>\n",
       "      <td>-0.004276</td>\n",
       "      <td>0</td>\n",
       "      <td>petrobras may create subsidiaries to sell 8 re...</td>\n",
       "      <td>petrobras pode criar subsidiárias para vender...</td>\n",
       "      <td>-2</td>\n",
       "      <td>petrobras may create subsidiaries to sell 8 re...</td>\n",
       "      <td>0.061709</td>\n",
       "      <td>...</td>\n",
       "      <td>3.0</td>\n",
       "      <td>0.0</td>\n",
       "      <td>0.290451</td>\n",
       "      <td>0.027394</td>\n",
       "      <td>0.081840</td>\n",
       "      <td>0.125774</td>\n",
       "      <td>-0.999985</td>\n",
       "      <td>0.000000</td>\n",
       "      <td>0.000000</td>\n",
       "      <td>0.000000</td>\n",
       "    </tr>\n",
       "    <tr>\n",
       "      <th>2</th>\n",
       "      <td>2020-01-13</td>\n",
       "      <td>20.219559</td>\n",
       "      <td>30676800</td>\n",
       "      <td>0.001982</td>\n",
       "      <td>1</td>\n",
       "      <td>the sale of petrobras refinery in bahia almost...</td>\n",
       "      <td>quase fechada a venda de refinaria da petrob...</td>\n",
       "      <td>7</td>\n",
       "      <td>the sale of petrobras refinery in bahia almost...</td>\n",
       "      <td>0.458953</td>\n",
       "      <td>...</td>\n",
       "      <td>-6.0</td>\n",
       "      <td>3.0</td>\n",
       "      <td>0.061709</td>\n",
       "      <td>0.290451</td>\n",
       "      <td>0.027394</td>\n",
       "      <td>0.081840</td>\n",
       "      <td>0.000000</td>\n",
       "      <td>-0.999985</td>\n",
       "      <td>0.000000</td>\n",
       "      <td>0.000000</td>\n",
       "    </tr>\n",
       "    <tr>\n",
       "      <th>3</th>\n",
       "      <td>2020-01-14</td>\n",
       "      <td>19.999565</td>\n",
       "      <td>39796500</td>\n",
       "      <td>-0.010880</td>\n",
       "      <td>0</td>\n",
       "      <td>petrobras fertilizer plant in paraná closes do...</td>\n",
       "      <td>fábrica de fertilizantes da petrobras no para...</td>\n",
       "      <td>-12</td>\n",
       "      <td>petrobras fertilizer plant in paraná closes do...</td>\n",
       "      <td>0.325856</td>\n",
       "      <td>...</td>\n",
       "      <td>-3.0</td>\n",
       "      <td>-6.0</td>\n",
       "      <td>0.458953</td>\n",
       "      <td>0.061709</td>\n",
       "      <td>0.290451</td>\n",
       "      <td>0.027394</td>\n",
       "      <td>0.000000</td>\n",
       "      <td>0.000000</td>\n",
       "      <td>-0.999985</td>\n",
       "      <td>0.000000</td>\n",
       "    </tr>\n",
       "    <tr>\n",
       "      <th>4</th>\n",
       "      <td>2020-01-15</td>\n",
       "      <td>19.699570</td>\n",
       "      <td>34405700</td>\n",
       "      <td>-0.015000</td>\n",
       "      <td>0</td>\n",
       "      <td>petrobras sells assets in nigeria and closes a...</td>\n",
       "      <td>petrobras vende ativos na nigéria e encerra a...</td>\n",
       "      <td>-8</td>\n",
       "      <td>petrobras sells assets in nigeria and closes a...</td>\n",
       "      <td>0.507882</td>\n",
       "      <td>...</td>\n",
       "      <td>-2.0</td>\n",
       "      <td>-3.0</td>\n",
       "      <td>0.325856</td>\n",
       "      <td>0.458953</td>\n",
       "      <td>0.061709</td>\n",
       "      <td>0.290451</td>\n",
       "      <td>0.000000</td>\n",
       "      <td>0.000000</td>\n",
       "      <td>0.000000</td>\n",
       "      <td>-0.999985</td>\n",
       "    </tr>\n",
       "  </tbody>\n",
       "</table>\n",
       "<p>5 rows × 24 columns</p>\n",
       "</div>"
      ],
      "text/plain": [
       "         Date  Adj Close    Volume      Var%  Fechamento  \\\n",
       "0  2020-01-09  20.266226  36102700 -0.003279           0   \n",
       "1  2020-01-10  20.179560  25397500 -0.004276           0   \n",
       "2  2020-01-13  20.219559  30676800  0.001982           1   \n",
       "3  2020-01-14  19.999565  39796500 -0.010880           0   \n",
       "4  2020-01-15  19.699570  34405700 -0.015000           0   \n",
       "\n",
       "                                          Noticias_x  \\\n",
       "0  Petrobras refineries show a drop in global oil...   \n",
       "1  petrobras may create subsidiaries to sell 8 re...   \n",
       "2  the sale of petrobras refinery in bahia almost...   \n",
       "3  petrobras fertilizer plant in paraná closes do...   \n",
       "4  petrobras sells assets in nigeria and closes a...   \n",
       "\n",
       "                                          Noticias_y  score  \\\n",
       "0   refinarias da petrobras apresentam queda na c...     -3   \n",
       "1   petrobras pode criar subsidiárias para vender...     -2   \n",
       "2    quase fechada a venda de refinaria da petrob...      7   \n",
       "3   fábrica de fertilizantes da petrobras no para...    -12   \n",
       "4   petrobras vende ativos na nigéria e encerra a...     -8   \n",
       "\n",
       "                                        Noticias_x.1   neu_rob  ... scored3  \\\n",
       "0  Petrobras refineries show a drop in global oil...  0.290451  ...     0.0   \n",
       "1  petrobras may create subsidiaries to sell 8 re...  0.061709  ...     3.0   \n",
       "2  the sale of petrobras refinery in bahia almost...  0.458953  ...    -6.0   \n",
       "3  petrobras fertilizer plant in paraná closes do...  0.325856  ...    -3.0   \n",
       "4  petrobras sells assets in nigeria and closes a...  0.507882  ...    -2.0   \n",
       "\n",
       "   scored4  neu_robd1  neu_robd2  neu_robd3  neu_robd4  neg_finbertd1  \\\n",
       "0      0.0   0.027394   0.081840   0.125774   0.718645       0.000000   \n",
       "1      0.0   0.290451   0.027394   0.081840   0.125774      -0.999985   \n",
       "2      3.0   0.061709   0.290451   0.027394   0.081840       0.000000   \n",
       "3     -6.0   0.458953   0.061709   0.290451   0.027394       0.000000   \n",
       "4     -3.0   0.325856   0.458953   0.061709   0.290451       0.000000   \n",
       "\n",
       "   neg_finbertd2  neg_finbertd3  neg_finbertd4  \n",
       "0       0.000000       0.000000      -0.999990  \n",
       "1       0.000000       0.000000       0.000000  \n",
       "2      -0.999985       0.000000       0.000000  \n",
       "3       0.000000      -0.999985       0.000000  \n",
       "4       0.000000       0.000000      -0.999985  \n",
       "\n",
       "[5 rows x 24 columns]"
      ]
     },
     "execution_count": 14,
     "metadata": {},
     "output_type": "execute_result"
    }
   ],
   "source": [
    "df_final99 = pd.read_csv('df_final_features.csv', sep='|')\n",
    "df_final99.head()"
   ]
  },
  {
   "cell_type": "code",
   "execution_count": 18,
   "metadata": {},
   "outputs": [],
   "source": [
    "df_final99['Date'] = pd.to_datetime(df_final99['Date'])"
   ]
  },
  {
   "cell_type": "markdown",
   "metadata": {},
   "source": [
    "# Treinando até 02-01-2022 e predizendo até 02-02-2022\n",
    "\n",
    "No primeiro mes a frequencia de retreino foi de 30 dias pq o modelo errou bastante. Na prática no final do mês observariamos a baixa acurácia e seria realizado o retreino mesmo que a politica fosse retreinar a cada 90 dias"
   ]
  },
  {
   "cell_type": "code",
   "execution_count": 132,
   "metadata": {},
   "outputs": [],
   "source": [
    "#Importando o modelo\n",
    "ensemblevote = joblib.load(open(os.path.join('modelos/modelo-Ensemble.pkl'),\"rb\"))"
   ]
  },
  {
   "cell_type": "code",
   "execution_count": 133,
   "metadata": {},
   "outputs": [
    {
     "data": {
      "text/plain": [
       "0.35294117647058826"
      ]
     },
     "execution_count": 133,
     "metadata": {},
     "output_type": "execute_result"
    }
   ],
   "source": [
    "treinar_ate_data_str = '2022-01-02'\n",
    "data_limite_teste = '2022-02-01'\n",
    "\n",
    "X_train = df_final99[(df_final99['Date'] <= parser.parse(treinar_ate_data_str))][['score','neu_robd4','neg_finbertd2','scored3']]\n",
    "y_train = df_final99[(df_final99['Date'] <= parser.parse(treinar_ate_data_str))][['Fechamento']]\n",
    "y_train = np.ravel(y_train)   \n",
    "    \n",
    "X_test = df_final99[(df_final99['Date'] > parser.parse(treinar_ate_data_str)) & (df_final99['Date'] <= parser.parse(data_limite_teste))][['score','neu_robd4','neg_finbertd2','scored3']]\n",
    "y_test = df_final99[(df_final99['Date'] > parser.parse(treinar_ate_data_str)) & (df_final99['Date'] <= parser.parse(data_limite_teste))][['Fechamento']]\n",
    "y_test = np.ravel(y_test) \n",
    "\n",
    "ensemblevote.fit(X_train,y_train)\n",
    "\n",
    "#Predizendo y\n",
    "y_pred = model.predict(X_test)\n",
    "ensemblevote.score(X_test, y_test)"
   ]
  },
  {
   "cell_type": "markdown",
   "metadata": {},
   "source": [
    "## Treinando até 02-02-2022 e predizendo até 01-04-2022\n",
    "Com o modelo treinado em fevereiro foi possivel melhorar a acurácia sobre as predições nos meses 2,3 e 4,5  6"
   ]
  },
  {
   "cell_type": "code",
   "execution_count": 134,
   "metadata": {},
   "outputs": [
    {
     "data": {
      "text/plain": [
       "0.6206896551724138"
      ]
     },
     "execution_count": 134,
     "metadata": {},
     "output_type": "execute_result"
    }
   ],
   "source": [
    "treinar_ate_data_str = '2022-02-02'\n",
    "data_limite_teste = '2022-04-01'\n",
    "\n",
    "X_train = df_final99[(df_final99['Date'] <= parser.parse(treinar_ate_data_str))][['score','neu_robd4','neg_finbertd2','scored3']]\n",
    "y_train = df_final99[(df_final99['Date'] <= parser.parse(treinar_ate_data_str))][['Fechamento']]\n",
    "y_train = np.ravel(y_train)   \n",
    "    \n",
    "X_test = df_final99[(df_final99['Date'] > parser.parse(treinar_ate_data_str)) & (df_final99['Date'] <= parser.parse(data_limite_teste))][['score','neu_robd4','neg_finbertd2','scored3']]\n",
    "y_test = df_final99[(df_final99['Date'] > parser.parse(treinar_ate_data_str)) & (df_final99['Date'] <= parser.parse(data_limite_teste))][['Fechamento']]\n",
    "y_test = np.ravel(y_test) \n",
    "\n",
    "ensemblevote.fit(X_train,y_train)\n",
    "quadratic.fit(X_train,y_train)\n",
    "\n",
    "#Predizendo y\n",
    "y_pred = model.predict(X_test)\n",
    "\n",
    "ensemblevote.score(X_test, y_test)"
   ]
  },
  {
   "cell_type": "markdown",
   "metadata": {},
   "source": [
    "## Treinando até 01-04-2022 e predizendo até 30-06-2022\n",
    "Reservamos os 3 ultimos meses para avaliar a acurácia, portanto o modelo terá q ser retreinado no dia 01-04-2022"
   ]
  },
  {
   "cell_type": "code",
   "execution_count": 135,
   "metadata": {},
   "outputs": [
    {
     "data": {
      "text/plain": [
       "0.5434782608695652"
      ]
     },
     "execution_count": 135,
     "metadata": {},
     "output_type": "execute_result"
    }
   ],
   "source": [
    "treinar_ate_data_str = '2022-04-01'\n",
    "data_limite_teste = '2022-06-30'\n",
    "\n",
    "X_train = df_final99[(df_final99['Date'] <= parser.parse(treinar_ate_data_str))][['score','neu_robd4','neg_finbertd2','scored3']]\n",
    "y_train = df_final99[(df_final99['Date'] <= parser.parse(treinar_ate_data_str))][['Fechamento']]\n",
    "y_train = np.ravel(y_train)   \n",
    "    \n",
    "X_test = df_final99[(df_final99['Date'] > parser.parse(treinar_ate_data_str)) & (df_final99['Date'] <= parser.parse(data_limite_teste))][['score','neu_robd4','neg_finbertd2','scored3']]\n",
    "y_test = df_final99[(df_final99['Date'] > parser.parse(treinar_ate_data_str)) & (df_final99['Date'] <= parser.parse(data_limite_teste))][['Fechamento']]\n",
    "y_test = np.ravel(y_test) \n",
    "\n",
    "ensemblevote.fit(X_train,y_train)\n",
    "quadratic.fit(X_train,y_train)\n",
    "\n",
    "#Predizendo y\n",
    "y_pred = model.predict(X_test)\n",
    "\n",
    "ensemblevote.score(X_test, y_test)"
   ]
  },
  {
   "cell_type": "code",
   "execution_count": null,
   "metadata": {},
   "outputs": [],
   "source": []
  }
 ],
 "metadata": {
  "kernelspec": {
   "display_name": "Python 3",
   "language": "python",
   "name": "python3"
  },
  "language_info": {
   "codemirror_mode": {
    "name": "ipython",
    "version": 3
   },
   "file_extension": ".py",
   "mimetype": "text/x-python",
   "name": "python",
   "nbconvert_exporter": "python",
   "pygments_lexer": "ipython3",
   "version": "3.8.3"
  }
 },
 "nbformat": 4,
 "nbformat_minor": 4
}
