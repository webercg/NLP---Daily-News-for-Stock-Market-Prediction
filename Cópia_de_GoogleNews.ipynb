{
  "nbformat": 4,
  "nbformat_minor": 0,
  "metadata": {
    "colab": {
      "name": "Cópia de GoogleNews.ipynb",
      "provenance": [],
      "collapsed_sections": [],
      "mount_file_id": "1BFAktUJWHtGfUchW7KjRxIy-4clhwt1e",
      "authorship_tag": "ABX9TyMl06sl8o9yAx/HDwhjfvCm",
      "include_colab_link": true
    },
    "kernelspec": {
      "name": "python3",
      "display_name": "Python 3"
    },
    "language_info": {
      "name": "python"
    }
  },
  "cells": [
    {
      "cell_type": "markdown",
      "metadata": {
        "id": "view-in-github",
        "colab_type": "text"
      },
      "source": [
        "<a href=\"https://colab.research.google.com/github/webercg/NLP---Daily-News-for-Stock-Market-Prediction/blob/main/C%C3%B3pia_de_GoogleNews.ipynb\" target=\"_parent\"><img src=\"https://colab.research.google.com/assets/colab-badge.svg\" alt=\"Open In Colab\"/></a>"
      ]
    },
    {
      "cell_type": "code",
      "execution_count": null,
      "metadata": {
        "id": "kmt0vbfaCeu1"
      },
      "outputs": [],
      "source": [
        "pip install GoogleNews"
      ]
    },
    {
      "cell_type": "code",
      "source": [
        "#IMPORTANDO BIBLIOTECAS E CRIANDO FUNÇÃO P LOOP DE DATAS \n",
        "from datetime import timedelta, date\n",
        "import pandas as pd\n",
        "from GoogleNews import GoogleNews\n",
        "\n",
        "def daterange(start_date, end_date):\n",
        "    for n in range(int ((end_date - start_date).days)):\n",
        "        yield start_date + timedelta(n)"
      ],
      "metadata": {
        "id": "VtiBsH6gLNPm"
      },
      "execution_count": null,
      "outputs": []
    },
    {
      "cell_type": "code",
      "source": [
        "#ESCOLHA DE VARIÁVEIS \n",
        "#data em formato YYYY-D-M\n",
        "start_date = date(2022, 5, 1)\n",
        "end_date = date(2022, 5, 6)\n",
        "termo = 'petrobras'"
      ],
      "metadata": {
        "id": "5xlAFBaQCmSG"
      },
      "execution_count": null,
      "outputs": []
    },
    {
      "cell_type": "code",
      "source": [
        "googlenews = GoogleNews()\n",
        "googlenews.clear()\n",
        "googlenews.set_lang('pt')\n",
        "googlenews.set_encode('utf-8')\n",
        "googlenews.search(termo)\n",
        "df = pd.DataFrame(columns=['date', 'desc','link','media','title'])\n",
        "for single_date in daterange(start_date, end_date):\n",
        "    dt = single_date.strftime(\"%m-%d-%Y\")\n",
        "    googlenews.set_time_range(dt,dt)\n",
        "    result = googlenews.result()\n",
        "    df1 = pd.DataFrame(result)\n",
        "    df = df.append(df1)"
      ],
      "metadata": {
        "id": "PcpT0yRfC04G"
      },
      "execution_count": null,
      "outputs": []
    },
    {
      "cell_type": "code",
      "source": [
        ""
      ],
      "metadata": {
        "colab": {
          "base_uri": "https://localhost:8080/"
        },
        "id": "N7TvmHJMRMoz",
        "outputId": "88be2917-38b5-4433-af5b-5ce0552f520c"
      },
      "execution_count": null,
      "outputs": [
        {
          "output_type": "execute_result",
          "data": {
            "text/plain": [
              "datetime.date(2022, 5, 6)"
            ]
          },
          "metadata": {},
          "execution_count": 6
        }
      ]
    },
    {
      "cell_type": "code",
      "source": [
        "#df.to_csv('News_Petro_Jun_Out_21v2.csv',encoding='utf-8')"
      ],
      "metadata": {
        "id": "I4FvVIkTNqo4"
      },
      "execution_count": null,
      "outputs": []
    }
  ]
}