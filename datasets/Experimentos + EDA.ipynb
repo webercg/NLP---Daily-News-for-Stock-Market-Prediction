{
 "cells": [
  {
   "cell_type": "markdown",
   "metadata": {},
   "source": [
    "# 1.0 Importação de bibliotecas"
   ]
  },
  {
   "cell_type": "code",
   "execution_count": 184,
   "metadata": {},
   "outputs": [],
   "source": [
    "import pandas as pd\n",
    "import numpy as np\n",
    "\n",
    "import seaborn as sns\n",
    "\n",
    "from datetime import datetime"
   ]
  },
  {
   "cell_type": "markdown",
   "metadata": {},
   "source": [
    "# 2.0 Leitura dos arquivos"
   ]
  },
  {
   "cell_type": "markdown",
   "metadata": {},
   "source": [
    "## Leitura de Noticias"
   ]
  },
  {
   "cell_type": "code",
   "execution_count": 185,
   "metadata": {},
   "outputs": [],
   "source": [
    "dicionario_mes = {'Jan':'01', 'Fev':'02', 'Mar':'03','Abr':'04', 'Mai':'05', 'Jun':'06','Jul':'07', 'Ago':'08', 'Set':'09','Out':'10', 'Nov':'11', 'Dec':'12'}"
   ]
  },
  {
   "cell_type": "code",
   "execution_count": 186,
   "metadata": {},
   "outputs": [],
   "source": [
    "df = pd.DataFrame()\n",
    "\n",
    "for i in dicionario_mes.keys():\n",
    "    arquivo = dicionario_mes[i] + \"_GoogleNews_Petr_\" + i + \"_21.csv\"\n",
    "    df_leitura = pd.read_csv(arquivo, sep='|')\n",
    "    df = df.append(df_leitura,ignore_index=True)"
   ]
  },
  {
   "cell_type": "code",
   "execution_count": 187,
   "metadata": {},
   "outputs": [
    {
     "data": {
      "text/html": [
       "<div>\n",
       "<style scoped>\n",
       "    .dataframe tbody tr th:only-of-type {\n",
       "        vertical-align: middle;\n",
       "    }\n",
       "\n",
       "    .dataframe tbody tr th {\n",
       "        vertical-align: top;\n",
       "    }\n",
       "\n",
       "    .dataframe thead th {\n",
       "        text-align: right;\n",
       "    }\n",
       "</style>\n",
       "<table border=\"1\" class=\"dataframe\">\n",
       "  <thead>\n",
       "    <tr style=\"text-align: right;\">\n",
       "      <th></th>\n",
       "      <th>title</th>\n",
       "      <th>media</th>\n",
       "      <th>date</th>\n",
       "      <th>desc</th>\n",
       "    </tr>\n",
       "  </thead>\n",
       "  <tbody>\n",
       "    <tr>\n",
       "      <th>0</th>\n",
       "      <td>A construção naval brasileira tem chances de a...</td>\n",
       "      <td>CPG Click Petroleo e Gas</td>\n",
       "      <td>01/01/2021</td>\n",
       "      <td>Dentre os principais pontos do plano estratégi...</td>\n",
       "    </tr>\n",
       "    <tr>\n",
       "      <th>1</th>\n",
       "      <td>Refinaria Abreu e Lima da Petrobras, a RNEST p...</td>\n",
       "      <td>CPG Click Petroleo e Gas</td>\n",
       "      <td>01/01/2021</td>\n",
       "      <td>Petrobras informou em fato relevante na última...</td>\n",
       "    </tr>\n",
       "    <tr>\n",
       "      <th>2</th>\n",
       "      <td>5 Dicas de Tony Robbins para Ficar Rico Invest...</td>\n",
       "      <td>The Capital Advisor</td>\n",
       "      <td>01/01/2021</td>\n",
       "      <td>O QUE LER AGORA... ibovespa-sobe-021-apos-demi...</td>\n",
       "    </tr>\n",
       "    <tr>\n",
       "      <th>3</th>\n",
       "      <td>Acadêmicos de engenharia Mecânica criam projet...</td>\n",
       "      <td>CPG Click Petroleo e Gas</td>\n",
       "      <td>01/01/2021</td>\n",
       "      <td>Petrobras cancela a venda da fábrica de fertil...</td>\n",
       "    </tr>\n",
       "    <tr>\n",
       "      <th>4</th>\n",
       "      <td>Multinacional dinamarquesa European Energy faz...</td>\n",
       "      <td>CPG Click Petroleo e Gas</td>\n",
       "      <td>01/01/2021</td>\n",
       "      <td>Petrobras encerra sociedade com a Sete Brasil ...</td>\n",
       "    </tr>\n",
       "  </tbody>\n",
       "</table>\n",
       "</div>"
      ],
      "text/plain": [
       "                                               title  \\\n",
       "0  A construção naval brasileira tem chances de a...   \n",
       "1  Refinaria Abreu e Lima da Petrobras, a RNEST p...   \n",
       "2  5 Dicas de Tony Robbins para Ficar Rico Invest...   \n",
       "3  Acadêmicos de engenharia Mecânica criam projet...   \n",
       "4  Multinacional dinamarquesa European Energy faz...   \n",
       "\n",
       "                      media        date  \\\n",
       "0  CPG Click Petroleo e Gas  01/01/2021   \n",
       "1  CPG Click Petroleo e Gas  01/01/2021   \n",
       "2       The Capital Advisor  01/01/2021   \n",
       "3  CPG Click Petroleo e Gas  01/01/2021   \n",
       "4  CPG Click Petroleo e Gas  01/01/2021   \n",
       "\n",
       "                                                desc  \n",
       "0  Dentre os principais pontos do plano estratégi...  \n",
       "1  Petrobras informou em fato relevante na última...  \n",
       "2  O QUE LER AGORA... ibovespa-sobe-021-apos-demi...  \n",
       "3  Petrobras cancela a venda da fábrica de fertil...  \n",
       "4  Petrobras encerra sociedade com a Sete Brasil ...  "
      ]
     },
     "execution_count": 187,
     "metadata": {},
     "output_type": "execute_result"
    }
   ],
   "source": [
    "df.head()"
   ]
  },
  {
   "cell_type": "code",
   "execution_count": 188,
   "metadata": {},
   "outputs": [
    {
     "data": {
      "text/plain": [
       "title            object\n",
       "media            object\n",
       "date     datetime64[ns]\n",
       "desc             object\n",
       "dtype: object"
      ]
     },
     "execution_count": 188,
     "metadata": {},
     "output_type": "execute_result"
    }
   ],
   "source": [
    "#Transformando coluna data para datetime:\n",
    "df['date'] = pd.to_datetime(df['date'])\n",
    "df.dtypes"
   ]
  },
  {
   "cell_type": "markdown",
   "metadata": {},
   "source": [
    "## Leitura dos pregões"
   ]
  },
  {
   "cell_type": "code",
   "execution_count": 189,
   "metadata": {},
   "outputs": [
    {
     "data": {
      "text/html": [
       "<div>\n",
       "<style scoped>\n",
       "    .dataframe tbody tr th:only-of-type {\n",
       "        vertical-align: middle;\n",
       "    }\n",
       "\n",
       "    .dataframe tbody tr th {\n",
       "        vertical-align: top;\n",
       "    }\n",
       "\n",
       "    .dataframe thead th {\n",
       "        text-align: right;\n",
       "    }\n",
       "</style>\n",
       "<table border=\"1\" class=\"dataframe\">\n",
       "  <thead>\n",
       "    <tr style=\"text-align: right;\">\n",
       "      <th></th>\n",
       "      <th>Date</th>\n",
       "      <th>Adj Close</th>\n",
       "      <th>Volume</th>\n",
       "      <th>Var%</th>\n",
       "    </tr>\n",
       "  </thead>\n",
       "  <tbody>\n",
       "    <tr>\n",
       "      <th>0</th>\n",
       "      <td>2021-01-04</td>\n",
       "      <td>19.274340</td>\n",
       "      <td>74719700</td>\n",
       "      <td>0.020113</td>\n",
       "    </tr>\n",
       "    <tr>\n",
       "      <th>1</th>\n",
       "      <td>2021-01-05</td>\n",
       "      <td>20.027718</td>\n",
       "      <td>95181100</td>\n",
       "      <td>0.039087</td>\n",
       "    </tr>\n",
       "    <tr>\n",
       "      <th>2</th>\n",
       "      <td>2021-01-06</td>\n",
       "      <td>20.067719</td>\n",
       "      <td>96562500</td>\n",
       "      <td>0.001997</td>\n",
       "    </tr>\n",
       "    <tr>\n",
       "      <th>3</th>\n",
       "      <td>2021-01-07</td>\n",
       "      <td>20.667747</td>\n",
       "      <td>56171300</td>\n",
       "      <td>0.029900</td>\n",
       "    </tr>\n",
       "    <tr>\n",
       "      <th>4</th>\n",
       "      <td>2021-01-08</td>\n",
       "      <td>20.747751</td>\n",
       "      <td>67136300</td>\n",
       "      <td>0.003871</td>\n",
       "    </tr>\n",
       "  </tbody>\n",
       "</table>\n",
       "</div>"
      ],
      "text/plain": [
       "         Date  Adj Close    Volume      Var%\n",
       "0  2021-01-04  19.274340  74719700  0.020113\n",
       "1  2021-01-05  20.027718  95181100  0.039087\n",
       "2  2021-01-06  20.067719  96562500  0.001997\n",
       "3  2021-01-07  20.667747  56171300  0.029900\n",
       "4  2021-01-08  20.747751  67136300  0.003871"
      ]
     },
     "execution_count": 189,
     "metadata": {},
     "output_type": "execute_result"
    }
   ],
   "source": [
    "df_petro = pd.read_csv('Hist_Preço_Petr_2021_.csv', sep='|')\n",
    "df_petro.head()"
   ]
  },
  {
   "cell_type": "code",
   "execution_count": 190,
   "metadata": {},
   "outputs": [
    {
     "data": {
      "text/plain": [
       "Date         datetime64[ns]\n",
       "Adj Close           float64\n",
       "Volume                int64\n",
       "Var%                float64\n",
       "dtype: object"
      ]
     },
     "execution_count": 190,
     "metadata": {},
     "output_type": "execute_result"
    }
   ],
   "source": [
    "#Transformando a coluna Date para datetime\n",
    "df_petro['Date'] = pd.to_datetime(df_petro['Date'])\n",
    "df_petro.dtypes"
   ]
  },
  {
   "cell_type": "markdown",
   "metadata": {},
   "source": [
    "# 3.0 EDA\n",
    "**H1:** Há uma média razoável de noticias diárias   - **VERDADEIRO**  \n",
    "**H2:** Há poucos dias sem noticias na base de dados  - **VERDADEIRO**   \n",
    "**H3:**  \n",
    "**H4:**  \n",
    "**H5:**  "
   ]
  },
  {
   "cell_type": "markdown",
   "metadata": {},
   "source": [
    "## 3.1 H1: Há uma média razoável de noticias diárias"
   ]
  },
  {
   "cell_type": "code",
   "execution_count": 191,
   "metadata": {},
   "outputs": [
    {
     "data": {
      "text/plain": [
       "2021-08-05    10\n",
       "2021-03-10    10\n",
       "2021-05-21    10\n",
       "2021-11-06    10\n",
       "2021-03-03    10\n",
       "              ..\n",
       "2021-03-22     2\n",
       "2021-04-04     2\n",
       "2021-02-14     2\n",
       "2021-08-15     2\n",
       "2021-07-25     1\n",
       "Name: date, Length: 327, dtype: int64"
      ]
     },
     "execution_count": 191,
     "metadata": {},
     "output_type": "execute_result"
    }
   ],
   "source": [
    "df.date.value_counts()"
   ]
  },
  {
   "cell_type": "code",
   "execution_count": 192,
   "metadata": {},
   "outputs": [
    {
     "data": {
      "text/html": [
       "<div>\n",
       "<style scoped>\n",
       "    .dataframe tbody tr th:only-of-type {\n",
       "        vertical-align: middle;\n",
       "    }\n",
       "\n",
       "    .dataframe tbody tr th {\n",
       "        vertical-align: top;\n",
       "    }\n",
       "\n",
       "    .dataframe thead th {\n",
       "        text-align: right;\n",
       "    }\n",
       "</style>\n",
       "<table border=\"1\" class=\"dataframe\">\n",
       "  <thead>\n",
       "    <tr style=\"text-align: right;\">\n",
       "      <th></th>\n",
       "      <th>index</th>\n",
       "      <th>date</th>\n",
       "    </tr>\n",
       "  </thead>\n",
       "  <tbody>\n",
       "    <tr>\n",
       "      <th>0</th>\n",
       "      <td>2021-08-05</td>\n",
       "      <td>10</td>\n",
       "    </tr>\n",
       "    <tr>\n",
       "      <th>1</th>\n",
       "      <td>2021-03-10</td>\n",
       "      <td>10</td>\n",
       "    </tr>\n",
       "    <tr>\n",
       "      <th>2</th>\n",
       "      <td>2021-05-21</td>\n",
       "      <td>10</td>\n",
       "    </tr>\n",
       "    <tr>\n",
       "      <th>3</th>\n",
       "      <td>2021-11-06</td>\n",
       "      <td>10</td>\n",
       "    </tr>\n",
       "    <tr>\n",
       "      <th>4</th>\n",
       "      <td>2021-03-03</td>\n",
       "      <td>10</td>\n",
       "    </tr>\n",
       "    <tr>\n",
       "      <th>...</th>\n",
       "      <td>...</td>\n",
       "      <td>...</td>\n",
       "    </tr>\n",
       "    <tr>\n",
       "      <th>322</th>\n",
       "      <td>2021-03-22</td>\n",
       "      <td>2</td>\n",
       "    </tr>\n",
       "    <tr>\n",
       "      <th>323</th>\n",
       "      <td>2021-04-04</td>\n",
       "      <td>2</td>\n",
       "    </tr>\n",
       "    <tr>\n",
       "      <th>324</th>\n",
       "      <td>2021-02-14</td>\n",
       "      <td>2</td>\n",
       "    </tr>\n",
       "    <tr>\n",
       "      <th>325</th>\n",
       "      <td>2021-08-15</td>\n",
       "      <td>2</td>\n",
       "    </tr>\n",
       "    <tr>\n",
       "      <th>326</th>\n",
       "      <td>2021-07-25</td>\n",
       "      <td>1</td>\n",
       "    </tr>\n",
       "  </tbody>\n",
       "</table>\n",
       "<p>327 rows × 2 columns</p>\n",
       "</div>"
      ],
      "text/plain": [
       "         index  date\n",
       "0   2021-08-05    10\n",
       "1   2021-03-10    10\n",
       "2   2021-05-21    10\n",
       "3   2021-11-06    10\n",
       "4   2021-03-03    10\n",
       "..         ...   ...\n",
       "322 2021-03-22     2\n",
       "323 2021-04-04     2\n",
       "324 2021-02-14     2\n",
       "325 2021-08-15     2\n",
       "326 2021-07-25     1\n",
       "\n",
       "[327 rows x 2 columns]"
      ]
     },
     "execution_count": 192,
     "metadata": {},
     "output_type": "execute_result"
    }
   ],
   "source": [
    "# Coletando as datas e as frequencias de noticias:\n",
    "datas = df.date.value_counts()  \n",
    "data_df = datas.reset_index()\n",
    "data_df"
   ]
  },
  {
   "cell_type": "code",
   "execution_count": 193,
   "metadata": {},
   "outputs": [
    {
     "data": {
      "text/plain": [
       "index    datetime64[ns]\n",
       "date              int64\n",
       "dtype: object"
      ]
     },
     "execution_count": 193,
     "metadata": {},
     "output_type": "execute_result"
    }
   ],
   "source": [
    "#Visualizando os tipos dos dados\n",
    "data_df.dtypes"
   ]
  },
  {
   "cell_type": "code",
   "execution_count": 194,
   "metadata": {},
   "outputs": [
    {
     "data": {
      "text/html": [
       "<div>\n",
       "<style scoped>\n",
       "    .dataframe tbody tr th:only-of-type {\n",
       "        vertical-align: middle;\n",
       "    }\n",
       "\n",
       "    .dataframe tbody tr th {\n",
       "        vertical-align: top;\n",
       "    }\n",
       "\n",
       "    .dataframe thead th {\n",
       "        text-align: right;\n",
       "    }\n",
       "</style>\n",
       "<table border=\"1\" class=\"dataframe\">\n",
       "  <thead>\n",
       "    <tr style=\"text-align: right;\">\n",
       "      <th></th>\n",
       "      <th>index</th>\n",
       "      <th>date</th>\n",
       "    </tr>\n",
       "  </thead>\n",
       "  <tbody>\n",
       "    <tr>\n",
       "      <th>0</th>\n",
       "      <td>2021-08-05</td>\n",
       "      <td>10</td>\n",
       "    </tr>\n",
       "    <tr>\n",
       "      <th>1</th>\n",
       "      <td>2021-03-10</td>\n",
       "      <td>10</td>\n",
       "    </tr>\n",
       "    <tr>\n",
       "      <th>2</th>\n",
       "      <td>2021-05-21</td>\n",
       "      <td>10</td>\n",
       "    </tr>\n",
       "    <tr>\n",
       "      <th>3</th>\n",
       "      <td>2021-11-06</td>\n",
       "      <td>10</td>\n",
       "    </tr>\n",
       "    <tr>\n",
       "      <th>4</th>\n",
       "      <td>2021-03-03</td>\n",
       "      <td>10</td>\n",
       "    </tr>\n",
       "    <tr>\n",
       "      <th>...</th>\n",
       "      <td>...</td>\n",
       "      <td>...</td>\n",
       "    </tr>\n",
       "    <tr>\n",
       "      <th>322</th>\n",
       "      <td>2021-03-22</td>\n",
       "      <td>2</td>\n",
       "    </tr>\n",
       "    <tr>\n",
       "      <th>323</th>\n",
       "      <td>2021-04-04</td>\n",
       "      <td>2</td>\n",
       "    </tr>\n",
       "    <tr>\n",
       "      <th>324</th>\n",
       "      <td>2021-02-14</td>\n",
       "      <td>2</td>\n",
       "    </tr>\n",
       "    <tr>\n",
       "      <th>325</th>\n",
       "      <td>2021-08-15</td>\n",
       "      <td>2</td>\n",
       "    </tr>\n",
       "    <tr>\n",
       "      <th>326</th>\n",
       "      <td>2021-07-25</td>\n",
       "      <td>1</td>\n",
       "    </tr>\n",
       "  </tbody>\n",
       "</table>\n",
       "<p>327 rows × 2 columns</p>\n",
       "</div>"
      ],
      "text/plain": [
       "         index  date\n",
       "0   2021-08-05    10\n",
       "1   2021-03-10    10\n",
       "2   2021-05-21    10\n",
       "3   2021-11-06    10\n",
       "4   2021-03-03    10\n",
       "..         ...   ...\n",
       "322 2021-03-22     2\n",
       "323 2021-04-04     2\n",
       "324 2021-02-14     2\n",
       "325 2021-08-15     2\n",
       "326 2021-07-25     1\n",
       "\n",
       "[327 rows x 2 columns]"
      ]
     },
     "execution_count": 194,
     "metadata": {},
     "output_type": "execute_result"
    }
   ],
   "source": [
    "#Alterando para o formato datetime\n",
    "data_df['index'] = pd.to_datetime(data_df['index'])\n",
    "data_df"
   ]
  },
  {
   "cell_type": "code",
   "execution_count": 195,
   "metadata": {},
   "outputs": [
    {
     "data": {
      "text/html": [
       "<div>\n",
       "<style scoped>\n",
       "    .dataframe tbody tr th:only-of-type {\n",
       "        vertical-align: middle;\n",
       "    }\n",
       "\n",
       "    .dataframe tbody tr th {\n",
       "        vertical-align: top;\n",
       "    }\n",
       "\n",
       "    .dataframe thead th {\n",
       "        text-align: right;\n",
       "    }\n",
       "</style>\n",
       "<table border=\"1\" class=\"dataframe\">\n",
       "  <thead>\n",
       "    <tr style=\"text-align: right;\">\n",
       "      <th></th>\n",
       "      <th>index</th>\n",
       "      <th>date</th>\n",
       "    </tr>\n",
       "  </thead>\n",
       "  <tbody>\n",
       "    <tr>\n",
       "      <th>243</th>\n",
       "      <td>2021-12-27</td>\n",
       "      <td>10</td>\n",
       "    </tr>\n",
       "    <tr>\n",
       "      <th>100</th>\n",
       "      <td>2021-12-28</td>\n",
       "      <td>10</td>\n",
       "    </tr>\n",
       "    <tr>\n",
       "      <th>38</th>\n",
       "      <td>2021-12-29</td>\n",
       "      <td>10</td>\n",
       "    </tr>\n",
       "    <tr>\n",
       "      <th>193</th>\n",
       "      <td>2021-12-30</td>\n",
       "      <td>10</td>\n",
       "    </tr>\n",
       "    <tr>\n",
       "      <th>58</th>\n",
       "      <td>2021-12-31</td>\n",
       "      <td>10</td>\n",
       "    </tr>\n",
       "  </tbody>\n",
       "</table>\n",
       "</div>"
      ],
      "text/plain": [
       "         index  date\n",
       "243 2021-12-27    10\n",
       "100 2021-12-28    10\n",
       "38  2021-12-29    10\n",
       "193 2021-12-30    10\n",
       "58  2021-12-31    10"
      ]
     },
     "execution_count": 195,
     "metadata": {},
     "output_type": "execute_result"
    }
   ],
   "source": [
    "# Organizando o dataframe em ordem cronologica\n",
    "data_df.sort_values(by = 'index', ascending = True, inplace = True) \n",
    "data_df.tail()"
   ]
  },
  {
   "cell_type": "code",
   "execution_count": 196,
   "metadata": {},
   "outputs": [
    {
     "data": {
      "text/html": [
       "<div>\n",
       "<style scoped>\n",
       "    .dataframe tbody tr th:only-of-type {\n",
       "        vertical-align: middle;\n",
       "    }\n",
       "\n",
       "    .dataframe tbody tr th {\n",
       "        vertical-align: top;\n",
       "    }\n",
       "\n",
       "    .dataframe thead th {\n",
       "        text-align: right;\n",
       "    }\n",
       "</style>\n",
       "<table border=\"1\" class=\"dataframe\">\n",
       "  <thead>\n",
       "    <tr style=\"text-align: right;\">\n",
       "      <th></th>\n",
       "      <th>date</th>\n",
       "    </tr>\n",
       "  </thead>\n",
       "  <tbody>\n",
       "    <tr>\n",
       "      <th>count</th>\n",
       "      <td>327.000000</td>\n",
       "    </tr>\n",
       "    <tr>\n",
       "      <th>mean</th>\n",
       "      <td>9.253823</td>\n",
       "    </tr>\n",
       "    <tr>\n",
       "      <th>std</th>\n",
       "      <td>1.772258</td>\n",
       "    </tr>\n",
       "    <tr>\n",
       "      <th>min</th>\n",
       "      <td>1.000000</td>\n",
       "    </tr>\n",
       "    <tr>\n",
       "      <th>25%</th>\n",
       "      <td>10.000000</td>\n",
       "    </tr>\n",
       "    <tr>\n",
       "      <th>50%</th>\n",
       "      <td>10.000000</td>\n",
       "    </tr>\n",
       "    <tr>\n",
       "      <th>75%</th>\n",
       "      <td>10.000000</td>\n",
       "    </tr>\n",
       "    <tr>\n",
       "      <th>max</th>\n",
       "      <td>10.000000</td>\n",
       "    </tr>\n",
       "  </tbody>\n",
       "</table>\n",
       "</div>"
      ],
      "text/plain": [
       "             date\n",
       "count  327.000000\n",
       "mean     9.253823\n",
       "std      1.772258\n",
       "min      1.000000\n",
       "25%     10.000000\n",
       "50%     10.000000\n",
       "75%     10.000000\n",
       "max     10.000000"
      ]
     },
     "execution_count": 196,
     "metadata": {},
     "output_type": "execute_result"
    }
   ],
   "source": [
    "data_df.describe()"
   ]
  },
  {
   "cell_type": "markdown",
   "metadata": {},
   "source": [
    "Há uma média de 9.25 (+- 2) noticias por dia"
   ]
  },
  {
   "cell_type": "code",
   "execution_count": 197,
   "metadata": {},
   "outputs": [
    {
     "data": {
      "text/plain": [
       "<matplotlib.axes._subplots.AxesSubplot at 0x195687a0be0>"
      ]
     },
     "execution_count": 197,
     "metadata": {},
     "output_type": "execute_result"
    },
    {
     "data": {
      "image/png": "[encoded data removed]",
      "text/plain": [
       "<Figure size 432x288 with 1 Axes>"
      ]
     },
     "metadata": {
      "needs_background": "light"
     },
     "output_type": "display_data"
    }
   ],
   "source": [
    "#Visualizando data vs quantidade de notícias\n",
    "data_df.columns = ['Datas', 'Num_Noticias']\n",
    "sns.lineplot(x = 'Datas', y = 'Num_Noticias', data = data_df)"
   ]
  },
  {
   "cell_type": "code",
   "execution_count": 198,
   "metadata": {},
   "outputs": [
    {
     "data": {
      "text/html": [
       "<div>\n",
       "<style scoped>\n",
       "    .dataframe tbody tr th:only-of-type {\n",
       "        vertical-align: middle;\n",
       "    }\n",
       "\n",
       "    .dataframe tbody tr th {\n",
       "        vertical-align: top;\n",
       "    }\n",
       "\n",
       "    .dataframe thead th {\n",
       "        text-align: right;\n",
       "    }\n",
       "</style>\n",
       "<table border=\"1\" class=\"dataframe\">\n",
       "  <thead>\n",
       "    <tr style=\"text-align: right;\">\n",
       "      <th></th>\n",
       "      <th>Num_Noticias</th>\n",
       "    </tr>\n",
       "    <tr>\n",
       "      <th>Mes</th>\n",
       "      <th></th>\n",
       "    </tr>\n",
       "  </thead>\n",
       "  <tbody>\n",
       "    <tr>\n",
       "      <th>1</th>\n",
       "      <td>9.444444</td>\n",
       "    </tr>\n",
       "    <tr>\n",
       "      <th>2</th>\n",
       "      <td>8.888889</td>\n",
       "    </tr>\n",
       "    <tr>\n",
       "      <th>3</th>\n",
       "      <td>8.666667</td>\n",
       "    </tr>\n",
       "    <tr>\n",
       "      <th>4</th>\n",
       "      <td>9.000000</td>\n",
       "    </tr>\n",
       "    <tr>\n",
       "      <th>5</th>\n",
       "      <td>9.642857</td>\n",
       "    </tr>\n",
       "    <tr>\n",
       "      <th>6</th>\n",
       "      <td>9.185185</td>\n",
       "    </tr>\n",
       "    <tr>\n",
       "      <th>7</th>\n",
       "      <td>8.884615</td>\n",
       "    </tr>\n",
       "    <tr>\n",
       "      <th>8</th>\n",
       "      <td>9.535714</td>\n",
       "    </tr>\n",
       "    <tr>\n",
       "      <th>9</th>\n",
       "      <td>9.642857</td>\n",
       "    </tr>\n",
       "    <tr>\n",
       "      <th>10</th>\n",
       "      <td>9.357143</td>\n",
       "    </tr>\n",
       "    <tr>\n",
       "      <th>11</th>\n",
       "      <td>9.038462</td>\n",
       "    </tr>\n",
       "    <tr>\n",
       "      <th>12</th>\n",
       "      <td>9.655172</td>\n",
       "    </tr>\n",
       "  </tbody>\n",
       "</table>\n",
       "</div>"
      ],
      "text/plain": [
       "     Num_Noticias\n",
       "Mes              \n",
       "1        9.444444\n",
       "2        8.888889\n",
       "3        8.666667\n",
       "4        9.000000\n",
       "5        9.642857\n",
       "6        9.185185\n",
       "7        8.884615\n",
       "8        9.535714\n",
       "9        9.642857\n",
       "10       9.357143\n",
       "11       9.038462\n",
       "12       9.655172"
      ]
     },
     "execution_count": 198,
     "metadata": {},
     "output_type": "execute_result"
    }
   ],
   "source": [
    "# inserindo coluna de mês\n",
    "data_df['Mes'] = data_df['Datas'].dt.month\n",
    "\n",
    "# Calculando media de noticias por mês\n",
    "df_noticia_mes = data_df.groupby('Mes').agg({'Num_Noticias':np.mean})\n",
    "df_noticia_mes"
   ]
  },
  {
   "cell_type": "code",
   "execution_count": 199,
   "metadata": {},
   "outputs": [
    {
     "data": {
      "text/plain": [
       "<seaborn.axisgrid.FacetGrid at 0x19569098d90>"
      ]
     },
     "execution_count": 199,
     "metadata": {},
     "output_type": "execute_result"
    },
    {
     "data": {
      "image/png": "[encoded data removed]",
      "text/plain": [
       "<Figure size 576x540 with 12 Axes>"
      ]
     },
     "metadata": {
      "needs_background": "light"
     },
     "output_type": "display_data"
    }
   ],
   "source": [
    "# Visualizando distribuição da quantidade de noticias ao longo dos meses\n",
    "sns.catplot(x=\"Num_Noticias\", col=\"Mes\", col_wrap=4,\n",
    "                data=data_df,\n",
    "                kind=\"count\", height=2.5, aspect=.8)"
   ]
  },
  {
   "cell_type": "code",
   "execution_count": 200,
   "metadata": {},
   "outputs": [
    {
     "data": {
      "text/plain": [
       "<seaborn.axisgrid.FacetGrid at 0x1956b08c040>"
      ]
     },
     "execution_count": 200,
     "metadata": {},
     "output_type": "execute_result"
    },
    {
     "data": {
      "image/png": "[encoded data removed]",
      "text/plain": [
       "<Figure size 1965.6x252 with 12 Axes>"
      ]
     },
     "metadata": {
      "needs_background": "light"
     },
     "output_type": "display_data"
    }
   ],
   "source": [
    "# Visualizando distribuição da quantidade de noticias ao longo dos meses\n",
    "g = sns.FacetGrid(data_df, col=\"Mes\", height=3.5, aspect=.65)\n",
    "g.map(sns.histplot, \"Num_Noticias\")"
   ]
  },
  {
   "cell_type": "markdown",
   "metadata": {},
   "source": [
    "Há poucas ocorrências de baixo numero de noticias por dia, a maior ocorrência da quantidade de noticias por dia é de 10.\n",
    "Dessa forma, a média de noticias por mês varia de 8.6 á 9.65."
   ]
  },
  {
   "cell_type": "markdown",
   "metadata": {},
   "source": [
    "## 3.2 Há poucos dias sem noticias na base de dados"
   ]
  },
  {
   "cell_type": "code",
   "execution_count": 201,
   "metadata": {},
   "outputs": [],
   "source": [
    "## Gerando uma lista com todos os dias de 2021:\n",
    "start_date = '01/01/2021'\n",
    "end_date = '31/12/2021'\n",
    "\n",
    "#Transformando para o padrão inglês\n",
    "start_date = datetime.strptime(start_date, '%d/%m/%Y').strftime('%m-%d-%Y')\n",
    "end_date = datetime.strptime(end_date, '%d/%m/%Y').strftime('%m-%d-%Y')\n",
    "\n",
    "#Gerando a lista com todas as datas\n",
    "todas_datas = pd.date_range(start=start_date, end=end_date, freq = '1D')\n",
    "todas_datas = [i.strftime(\"%d/%m/%Y\") for i in todas_datas ]"
   ]
  },
  {
   "cell_type": "code",
   "execution_count": 202,
   "metadata": {},
   "outputs": [],
   "source": [
    "#Gerando lista com todas as datas com noticias\n",
    "datas_com_noticias = [i.strftime(\"%d/%m/%Y\") for i in data_df['Datas'] ]"
   ]
  },
  {
   "cell_type": "code",
   "execution_count": 203,
   "metadata": {},
   "outputs": [
    {
     "name": "stdout",
     "output_type": "stream",
     "text": [
      "Há 38 dias sem notícias em 2021!\n"
     ]
    }
   ],
   "source": [
    "#Gerando lista com todas as datas sem noticias em 2021\n",
    "datas_sem_noticias = [i for i in todas_datas if i not in datas_com_noticias]\n",
    "print(\"Há %s dias sem notícias em 2021!\" % len(datas_sem_noticias))"
   ]
  },
  {
   "cell_type": "markdown",
   "metadata": {},
   "source": [
    "Em apenas 38 dias de 2021 não houve retorno de noticias diárias da Petrobras"
   ]
  },
  {
   "cell_type": "markdown",
   "metadata": {},
   "source": [
    "## 3.3 Há dias em que o pregão da bolsa não funciona (Finais de Semana)"
   ]
  },
  {
   "cell_type": "code",
   "execution_count": 204,
   "metadata": {},
   "outputs": [],
   "source": [
    "datas_com_pregao = [i.strftime(\"%d/%m/%Y\") for i in df_petro['Date'] ]"
   ]
  },
  {
   "cell_type": "code",
   "execution_count": 205,
   "metadata": {},
   "outputs": [],
   "source": [
    "datas_sem_pregao = [i for i in todas_datas if i not in datas_com_pregao]"
   ]
  },
  {
   "cell_type": "code",
   "execution_count": 206,
   "metadata": {},
   "outputs": [
    {
     "name": "stdout",
     "output_type": "stream",
     "text": [
      "Há 118 dias sem pregão em 2021!\n"
     ]
    }
   ],
   "source": [
    "print(\"Há %s dias sem pregão em 2021!\" % len(datas_sem_pregao))"
   ]
  },
  {
   "cell_type": "markdown",
   "metadata": {},
   "source": [
    "# 4.0 Pré-Processamento"
   ]
  },
  {
   "cell_type": "markdown",
   "metadata": {},
   "source": [
    "## 4.1 Padronização das palavras contidas nos títulos das noticias para minúsculo"
   ]
  },
  {
   "cell_type": "code",
   "execution_count": 207,
   "metadata": {},
   "outputs": [
    {
     "data": {
      "text/html": [
       "<div>\n",
       "<style scoped>\n",
       "    .dataframe tbody tr th:only-of-type {\n",
       "        vertical-align: middle;\n",
       "    }\n",
       "\n",
       "    .dataframe tbody tr th {\n",
       "        vertical-align: top;\n",
       "    }\n",
       "\n",
       "    .dataframe thead th {\n",
       "        text-align: right;\n",
       "    }\n",
       "</style>\n",
       "<table border=\"1\" class=\"dataframe\">\n",
       "  <thead>\n",
       "    <tr style=\"text-align: right;\">\n",
       "      <th></th>\n",
       "      <th>title</th>\n",
       "      <th>media</th>\n",
       "      <th>date</th>\n",
       "      <th>desc</th>\n",
       "    </tr>\n",
       "  </thead>\n",
       "  <tbody>\n",
       "    <tr>\n",
       "      <th>0</th>\n",
       "      <td>A construção naval brasileira tem chances de a...</td>\n",
       "      <td>CPG Click Petroleo e Gas</td>\n",
       "      <td>2021-01-01</td>\n",
       "      <td>Dentre os principais pontos do plano estratégi...</td>\n",
       "    </tr>\n",
       "    <tr>\n",
       "      <th>1</th>\n",
       "      <td>Refinaria Abreu e Lima da Petrobras, a RNEST p...</td>\n",
       "      <td>CPG Click Petroleo e Gas</td>\n",
       "      <td>2021-01-01</td>\n",
       "      <td>Petrobras informou em fato relevante na última...</td>\n",
       "    </tr>\n",
       "    <tr>\n",
       "      <th>2</th>\n",
       "      <td>5 Dicas de Tony Robbins para Ficar Rico Invest...</td>\n",
       "      <td>The Capital Advisor</td>\n",
       "      <td>2021-01-01</td>\n",
       "      <td>O QUE LER AGORA... ibovespa-sobe-021-apos-demi...</td>\n",
       "    </tr>\n",
       "    <tr>\n",
       "      <th>3</th>\n",
       "      <td>Acadêmicos de engenharia Mecânica criam projet...</td>\n",
       "      <td>CPG Click Petroleo e Gas</td>\n",
       "      <td>2021-01-01</td>\n",
       "      <td>Petrobras cancela a venda da fábrica de fertil...</td>\n",
       "    </tr>\n",
       "    <tr>\n",
       "      <th>4</th>\n",
       "      <td>Multinacional dinamarquesa European Energy faz...</td>\n",
       "      <td>CPG Click Petroleo e Gas</td>\n",
       "      <td>2021-01-01</td>\n",
       "      <td>Petrobras encerra sociedade com a Sete Brasil ...</td>\n",
       "    </tr>\n",
       "  </tbody>\n",
       "</table>\n",
       "</div>"
      ],
      "text/plain": [
       "                                               title  \\\n",
       "0  A construção naval brasileira tem chances de a...   \n",
       "1  Refinaria Abreu e Lima da Petrobras, a RNEST p...   \n",
       "2  5 Dicas de Tony Robbins para Ficar Rico Invest...   \n",
       "3  Acadêmicos de engenharia Mecânica criam projet...   \n",
       "4  Multinacional dinamarquesa European Energy faz...   \n",
       "\n",
       "                      media       date  \\\n",
       "0  CPG Click Petroleo e Gas 2021-01-01   \n",
       "1  CPG Click Petroleo e Gas 2021-01-01   \n",
       "2       The Capital Advisor 2021-01-01   \n",
       "3  CPG Click Petroleo e Gas 2021-01-01   \n",
       "4  CPG Click Petroleo e Gas 2021-01-01   \n",
       "\n",
       "                                                desc  \n",
       "0  Dentre os principais pontos do plano estratégi...  \n",
       "1  Petrobras informou em fato relevante na última...  \n",
       "2  O QUE LER AGORA... ibovespa-sobe-021-apos-demi...  \n",
       "3  Petrobras cancela a venda da fábrica de fertil...  \n",
       "4  Petrobras encerra sociedade com a Sete Brasil ...  "
      ]
     },
     "execution_count": 207,
     "metadata": {},
     "output_type": "execute_result"
    }
   ],
   "source": [
    "df.head()"
   ]
  },
  {
   "cell_type": "code",
   "execution_count": 208,
   "metadata": {},
   "outputs": [
    {
     "data": {
      "text/html": [
       "<div>\n",
       "<style scoped>\n",
       "    .dataframe tbody tr th:only-of-type {\n",
       "        vertical-align: middle;\n",
       "    }\n",
       "\n",
       "    .dataframe tbody tr th {\n",
       "        vertical-align: top;\n",
       "    }\n",
       "\n",
       "    .dataframe thead th {\n",
       "        text-align: right;\n",
       "    }\n",
       "</style>\n",
       "<table border=\"1\" class=\"dataframe\">\n",
       "  <thead>\n",
       "    <tr style=\"text-align: right;\">\n",
       "      <th></th>\n",
       "      <th>title</th>\n",
       "      <th>media</th>\n",
       "      <th>date</th>\n",
       "      <th>desc</th>\n",
       "    </tr>\n",
       "  </thead>\n",
       "  <tbody>\n",
       "    <tr>\n",
       "      <th>0</th>\n",
       "      <td>a construção naval brasileira tem chances de a...</td>\n",
       "      <td>CPG Click Petroleo e Gas</td>\n",
       "      <td>2021-01-01</td>\n",
       "      <td>Dentre os principais pontos do plano estratégi...</td>\n",
       "    </tr>\n",
       "    <tr>\n",
       "      <th>1</th>\n",
       "      <td>refinaria abreu e lima da petrobras, a rnest p...</td>\n",
       "      <td>CPG Click Petroleo e Gas</td>\n",
       "      <td>2021-01-01</td>\n",
       "      <td>Petrobras informou em fato relevante na última...</td>\n",
       "    </tr>\n",
       "    <tr>\n",
       "      <th>2</th>\n",
       "      <td>5 dicas de tony robbins para ficar rico invest...</td>\n",
       "      <td>The Capital Advisor</td>\n",
       "      <td>2021-01-01</td>\n",
       "      <td>O QUE LER AGORA... ibovespa-sobe-021-apos-demi...</td>\n",
       "    </tr>\n",
       "    <tr>\n",
       "      <th>3</th>\n",
       "      <td>acadêmicos de engenharia mecânica criam projet...</td>\n",
       "      <td>CPG Click Petroleo e Gas</td>\n",
       "      <td>2021-01-01</td>\n",
       "      <td>Petrobras cancela a venda da fábrica de fertil...</td>\n",
       "    </tr>\n",
       "    <tr>\n",
       "      <th>4</th>\n",
       "      <td>multinacional dinamarquesa european energy faz...</td>\n",
       "      <td>CPG Click Petroleo e Gas</td>\n",
       "      <td>2021-01-01</td>\n",
       "      <td>Petrobras encerra sociedade com a Sete Brasil ...</td>\n",
       "    </tr>\n",
       "  </tbody>\n",
       "</table>\n",
       "</div>"
      ],
      "text/plain": [
       "                                               title  \\\n",
       "0  a construção naval brasileira tem chances de a...   \n",
       "1  refinaria abreu e lima da petrobras, a rnest p...   \n",
       "2  5 dicas de tony robbins para ficar rico invest...   \n",
       "3  acadêmicos de engenharia mecânica criam projet...   \n",
       "4  multinacional dinamarquesa european energy faz...   \n",
       "\n",
       "                      media       date  \\\n",
       "0  CPG Click Petroleo e Gas 2021-01-01   \n",
       "1  CPG Click Petroleo e Gas 2021-01-01   \n",
       "2       The Capital Advisor 2021-01-01   \n",
       "3  CPG Click Petroleo e Gas 2021-01-01   \n",
       "4  CPG Click Petroleo e Gas 2021-01-01   \n",
       "\n",
       "                                                desc  \n",
       "0  Dentre os principais pontos do plano estratégi...  \n",
       "1  Petrobras informou em fato relevante na última...  \n",
       "2  O QUE LER AGORA... ibovespa-sobe-021-apos-demi...  \n",
       "3  Petrobras cancela a venda da fábrica de fertil...  \n",
       "4  Petrobras encerra sociedade com a Sete Brasil ...  "
      ]
     },
     "execution_count": 208,
     "metadata": {},
     "output_type": "execute_result"
    }
   ],
   "source": [
    "df['title'] = df['title'].apply(lambda x: x.lower())\n",
    "df.head()"
   ]
  },
  {
   "cell_type": "markdown",
   "metadata": {},
   "source": [
    "## 4.2 Exclusão noticias que não contenham a palavra chave \"Petrobras\" no título\n",
    "Embora tenha-se configurado A biblioteca GoogleNews() para baixar noticias pela palavra chave \"Petrobras\" pode ocorrer casos em que o termo não é citado no título e nem no corpo da noticia."
   ]
  },
  {
   "cell_type": "code",
   "execution_count": 209,
   "metadata": {},
   "outputs": [
    {
     "data": {
      "text/plain": [
       "'5 dicas de tony robbins para ficar rico investindo'"
      ]
     },
     "execution_count": 209,
     "metadata": {},
     "output_type": "execute_result"
    }
   ],
   "source": [
    "df.iloc[2][0]"
   ]
  },
  {
   "cell_type": "code",
   "execution_count": 210,
   "metadata": {},
   "outputs": [
    {
     "data": {
      "text/plain": [
       "'O QUE LER AGORA... ibovespa-sobe-021-apos-demissao-na-petrobras-prio3-.  Notícias. Ibovespa Sobe +0...'"
      ]
     },
     "execution_count": 210,
     "metadata": {},
     "output_type": "execute_result"
    }
   ],
   "source": [
    "df.iloc[2][3]"
   ]
  },
  {
   "cell_type": "markdown",
   "metadata": {},
   "source": [
    "Essa noticia \"5 dicas de tony robbins para ficar rico investindo\", por exemplo, não possui relação com a petrobras no título e nem no corpo do artigo ao checar direto na fonte em <https://comoinvestir.thecap.com.br/5-dicas-de-tony-robbins-para-ficar-rico-investindo>. A biblioteca GoogleNews() retornou essa noticia, pois, na pagina HTML há noticias recomendadas ao leitor que possuem a palavra chave \"petrobras\".\n",
    "\n",
    "Noticias sem a palavra chave \"petrobras\" no título serão excluidas do dataset"
   ]
  },
  {
   "cell_type": "code",
   "execution_count": 211,
   "metadata": {},
   "outputs": [
    {
     "data": {
      "text/html": [
       "<div>\n",
       "<style scoped>\n",
       "    .dataframe tbody tr th:only-of-type {\n",
       "        vertical-align: middle;\n",
       "    }\n",
       "\n",
       "    .dataframe tbody tr th {\n",
       "        vertical-align: top;\n",
       "    }\n",
       "\n",
       "    .dataframe thead th {\n",
       "        text-align: right;\n",
       "    }\n",
       "</style>\n",
       "<table border=\"1\" class=\"dataframe\">\n",
       "  <thead>\n",
       "    <tr style=\"text-align: right;\">\n",
       "      <th></th>\n",
       "      <th>title</th>\n",
       "      <th>media</th>\n",
       "      <th>date</th>\n",
       "      <th>desc</th>\n",
       "    </tr>\n",
       "  </thead>\n",
       "  <tbody>\n",
       "    <tr>\n",
       "      <th>0</th>\n",
       "      <td>a construção naval brasileira tem chances de a...</td>\n",
       "      <td>CPG Click Petroleo e Gas</td>\n",
       "      <td>2021-01-01</td>\n",
       "      <td>Dentre os principais pontos do plano estratégi...</td>\n",
       "    </tr>\n",
       "    <tr>\n",
       "      <th>1</th>\n",
       "      <td>refinaria abreu e lima da petrobras, a rnest p...</td>\n",
       "      <td>CPG Click Petroleo e Gas</td>\n",
       "      <td>2021-01-01</td>\n",
       "      <td>Petrobras informou em fato relevante na última...</td>\n",
       "    </tr>\n",
       "    <tr>\n",
       "      <th>2</th>\n",
       "      <td></td>\n",
       "      <td>The Capital Advisor</td>\n",
       "      <td>2021-01-01</td>\n",
       "      <td>O QUE LER AGORA... ibovespa-sobe-021-apos-demi...</td>\n",
       "    </tr>\n",
       "    <tr>\n",
       "      <th>3</th>\n",
       "      <td></td>\n",
       "      <td>CPG Click Petroleo e Gas</td>\n",
       "      <td>2021-01-01</td>\n",
       "      <td>Petrobras cancela a venda da fábrica de fertil...</td>\n",
       "    </tr>\n",
       "    <tr>\n",
       "      <th>4</th>\n",
       "      <td></td>\n",
       "      <td>CPG Click Petroleo e Gas</td>\n",
       "      <td>2021-01-01</td>\n",
       "      <td>Petrobras encerra sociedade com a Sete Brasil ...</td>\n",
       "    </tr>\n",
       "    <tr>\n",
       "      <th>...</th>\n",
       "      <td>...</td>\n",
       "      <td>...</td>\n",
       "      <td>...</td>\n",
       "      <td>...</td>\n",
       "    </tr>\n",
       "    <tr>\n",
       "      <th>3021</th>\n",
       "      <td>quer trabalhar na petrobras? falta menos de um...</td>\n",
       "      <td>JC Online</td>\n",
       "      <td>2021-12-31</td>\n",
       "      <td>O processo seletivo público que oferece 757 va...</td>\n",
       "    </tr>\n",
       "    <tr>\n",
       "      <th>3022</th>\n",
       "      <td></td>\n",
       "      <td>CNN Brasil</td>\n",
       "      <td>2021-12-31</td>\n",
       "      <td>Para ele, a solução desta pressão não deve pas...</td>\n",
       "    </tr>\n",
       "    <tr>\n",
       "      <th>3023</th>\n",
       "      <td></td>\n",
       "      <td>PetroNotícias</td>\n",
       "      <td>2021-12-31</td>\n",
       "      <td>Isso porque a Petrobrás anunciou que registrou...</td>\n",
       "    </tr>\n",
       "    <tr>\n",
       "      <th>3024</th>\n",
       "      <td>unigel assina contratos para suprimento das fá...</td>\n",
       "      <td>CPG Click Petroleo e Gas</td>\n",
       "      <td>2021-12-31</td>\n",
       "      <td>No dia 27 de dezembro a Unigel fechou contrato...</td>\n",
       "    </tr>\n",
       "    <tr>\n",
       "      <th>3025</th>\n",
       "      <td></td>\n",
       "      <td>Correio Braziliense</td>\n",
       "      <td>2021-12-31</td>\n",
       "      <td>Petrobras manterá preços de mercado, garante p...</td>\n",
       "    </tr>\n",
       "  </tbody>\n",
       "</table>\n",
       "<p>3026 rows × 4 columns</p>\n",
       "</div>"
      ],
      "text/plain": [
       "                                                  title  \\\n",
       "0     a construção naval brasileira tem chances de a...   \n",
       "1     refinaria abreu e lima da petrobras, a rnest p...   \n",
       "2                                                         \n",
       "3                                                         \n",
       "4                                                         \n",
       "...                                                 ...   \n",
       "3021  quer trabalhar na petrobras? falta menos de um...   \n",
       "3022                                                      \n",
       "3023                                                      \n",
       "3024  unigel assina contratos para suprimento das fá...   \n",
       "3025                                                      \n",
       "\n",
       "                         media       date  \\\n",
       "0     CPG Click Petroleo e Gas 2021-01-01   \n",
       "1     CPG Click Petroleo e Gas 2021-01-01   \n",
       "2          The Capital Advisor 2021-01-01   \n",
       "3     CPG Click Petroleo e Gas 2021-01-01   \n",
       "4     CPG Click Petroleo e Gas 2021-01-01   \n",
       "...                        ...        ...   \n",
       "3021                 JC Online 2021-12-31   \n",
       "3022                CNN Brasil 2021-12-31   \n",
       "3023             PetroNotícias 2021-12-31   \n",
       "3024  CPG Click Petroleo e Gas 2021-12-31   \n",
       "3025       Correio Braziliense 2021-12-31   \n",
       "\n",
       "                                                   desc  \n",
       "0     Dentre os principais pontos do plano estratégi...  \n",
       "1     Petrobras informou em fato relevante na última...  \n",
       "2     O QUE LER AGORA... ibovespa-sobe-021-apos-demi...  \n",
       "3     Petrobras cancela a venda da fábrica de fertil...  \n",
       "4     Petrobras encerra sociedade com a Sete Brasil ...  \n",
       "...                                                 ...  \n",
       "3021  O processo seletivo público que oferece 757 va...  \n",
       "3022  Para ele, a solução desta pressão não deve pas...  \n",
       "3023  Isso porque a Petrobrás anunciou que registrou...  \n",
       "3024  No dia 27 de dezembro a Unigel fechou contrato...  \n",
       "3025  Petrobras manterá preços de mercado, garante p...  \n",
       "\n",
       "[3026 rows x 4 columns]"
      ]
     },
     "execution_count": 211,
     "metadata": {},
     "output_type": "execute_result"
    }
   ],
   "source": [
    "df['title'] = df['title'].apply(lambda x: \"\" if \"petrobras\" not in x else x)\n",
    "df"
   ]
  },
  {
   "cell_type": "code",
   "execution_count": 212,
   "metadata": {},
   "outputs": [
    {
     "data": {
      "text/html": [
       "<div>\n",
       "<style scoped>\n",
       "    .dataframe tbody tr th:only-of-type {\n",
       "        vertical-align: middle;\n",
       "    }\n",
       "\n",
       "    .dataframe tbody tr th {\n",
       "        vertical-align: top;\n",
       "    }\n",
       "\n",
       "    .dataframe thead th {\n",
       "        text-align: right;\n",
       "    }\n",
       "</style>\n",
       "<table border=\"1\" class=\"dataframe\">\n",
       "  <thead>\n",
       "    <tr style=\"text-align: right;\">\n",
       "      <th></th>\n",
       "      <th>title</th>\n",
       "      <th>media</th>\n",
       "      <th>date</th>\n",
       "      <th>desc</th>\n",
       "    </tr>\n",
       "  </thead>\n",
       "  <tbody>\n",
       "    <tr>\n",
       "      <th>0</th>\n",
       "      <td>a construção naval brasileira tem chances de a...</td>\n",
       "      <td>CPG Click Petroleo e Gas</td>\n",
       "      <td>2021-01-01</td>\n",
       "      <td>Dentre os principais pontos do plano estratégi...</td>\n",
       "    </tr>\n",
       "    <tr>\n",
       "      <th>1</th>\n",
       "      <td>refinaria abreu e lima da petrobras, a rnest p...</td>\n",
       "      <td>CPG Click Petroleo e Gas</td>\n",
       "      <td>2021-01-01</td>\n",
       "      <td>Petrobras informou em fato relevante na última...</td>\n",
       "    </tr>\n",
       "    <tr>\n",
       "      <th>26</th>\n",
       "      <td>petrobras é condenada em arbitragem iniciada p...</td>\n",
       "      <td>Forbes Brasil</td>\n",
       "      <td>2021-04-01</td>\n",
       "      <td>A Petrobras disse que a sentença determinou qu...</td>\n",
       "    </tr>\n",
       "    <tr>\n",
       "      <th>27</th>\n",
       "      <td>petrobras fez provisionamento para indenizar iesa</td>\n",
       "      <td>Valor Econômico</td>\n",
       "      <td>2021-04-01</td>\n",
       "      <td>Petrobras fez provisionamento para indenizar I...</td>\n",
       "    </tr>\n",
       "    <tr>\n",
       "      <th>28</th>\n",
       "      <td>petrobras é condenada, nos eua, a indenizar a ...</td>\n",
       "      <td>Money Times</td>\n",
       "      <td>2021-04-01</td>\n",
       "      <td>A Petrobras (PETR3; PETR4) foi condenada por u...</td>\n",
       "    </tr>\n",
       "    <tr>\n",
       "      <th>...</th>\n",
       "      <td>...</td>\n",
       "      <td>...</td>\n",
       "      <td>...</td>\n",
       "      <td>...</td>\n",
       "    </tr>\n",
       "    <tr>\n",
       "      <th>3018</th>\n",
       "      <td>aumento do preço do gás encanado: justiça inti...</td>\n",
       "      <td>FDR</td>\n",
       "      <td>2021-12-31</td>\n",
       "      <td>Na última quinta-feira, 30, a Petrobras recebe...</td>\n",
       "    </tr>\n",
       "    <tr>\n",
       "      <th>3019</th>\n",
       "      <td>presidente da petrobras diz que eleições não v...</td>\n",
       "      <td>Jovem Pan</td>\n",
       "      <td>2021-12-31</td>\n",
       "      <td>Para 2022, Joaquim Silva e Luna entende que a ...</td>\n",
       "    </tr>\n",
       "    <tr>\n",
       "      <th>3020</th>\n",
       "      <td>petrobras conclui venda de ativos do rn, em me...</td>\n",
       "      <td>Saiba Mais</td>\n",
       "      <td>2021-12-31</td>\n",
       "      <td>Após os trabalhadores aprovarem estado de grev...</td>\n",
       "    </tr>\n",
       "    <tr>\n",
       "      <th>3021</th>\n",
       "      <td>quer trabalhar na petrobras? falta menos de um...</td>\n",
       "      <td>JC Online</td>\n",
       "      <td>2021-12-31</td>\n",
       "      <td>O processo seletivo público que oferece 757 va...</td>\n",
       "    </tr>\n",
       "    <tr>\n",
       "      <th>3024</th>\n",
       "      <td>unigel assina contratos para suprimento das fá...</td>\n",
       "      <td>CPG Click Petroleo e Gas</td>\n",
       "      <td>2021-12-31</td>\n",
       "      <td>No dia 27 de dezembro a Unigel fechou contrato...</td>\n",
       "    </tr>\n",
       "  </tbody>\n",
       "</table>\n",
       "<p>1532 rows × 4 columns</p>\n",
       "</div>"
      ],
      "text/plain": [
       "                                                  title  \\\n",
       "0     a construção naval brasileira tem chances de a...   \n",
       "1     refinaria abreu e lima da petrobras, a rnest p...   \n",
       "26    petrobras é condenada em arbitragem iniciada p...   \n",
       "27    petrobras fez provisionamento para indenizar iesa   \n",
       "28    petrobras é condenada, nos eua, a indenizar a ...   \n",
       "...                                                 ...   \n",
       "3018  aumento do preço do gás encanado: justiça inti...   \n",
       "3019  presidente da petrobras diz que eleições não v...   \n",
       "3020  petrobras conclui venda de ativos do rn, em me...   \n",
       "3021  quer trabalhar na petrobras? falta menos de um...   \n",
       "3024  unigel assina contratos para suprimento das fá...   \n",
       "\n",
       "                         media       date  \\\n",
       "0     CPG Click Petroleo e Gas 2021-01-01   \n",
       "1     CPG Click Petroleo e Gas 2021-01-01   \n",
       "26               Forbes Brasil 2021-04-01   \n",
       "27             Valor Econômico 2021-04-01   \n",
       "28                 Money Times 2021-04-01   \n",
       "...                        ...        ...   \n",
       "3018                       FDR 2021-12-31   \n",
       "3019                 Jovem Pan 2021-12-31   \n",
       "3020                Saiba Mais 2021-12-31   \n",
       "3021                 JC Online 2021-12-31   \n",
       "3024  CPG Click Petroleo e Gas 2021-12-31   \n",
       "\n",
       "                                                   desc  \n",
       "0     Dentre os principais pontos do plano estratégi...  \n",
       "1     Petrobras informou em fato relevante na última...  \n",
       "26    A Petrobras disse que a sentença determinou qu...  \n",
       "27    Petrobras fez provisionamento para indenizar I...  \n",
       "28    A Petrobras (PETR3; PETR4) foi condenada por u...  \n",
       "...                                                 ...  \n",
       "3018  Na última quinta-feira, 30, a Petrobras recebe...  \n",
       "3019  Para 2022, Joaquim Silva e Luna entende que a ...  \n",
       "3020  Após os trabalhadores aprovarem estado de grev...  \n",
       "3021  O processo seletivo público que oferece 757 va...  \n",
       "3024  No dia 27 de dezembro a Unigel fechou contrato...  \n",
       "\n",
       "[1532 rows x 4 columns]"
      ]
     },
     "execution_count": 212,
     "metadata": {},
     "output_type": "execute_result"
    }
   ],
   "source": [
    "df = df[(df['title'] != \"\")]\n",
    "df"
   ]
  },
  {
   "cell_type": "markdown",
   "metadata": {},
   "source": [
    "1494 noticias não relacionadas ao termo \"Petrobras\" em seus títulos foram foram excluidas do dataset"
   ]
  },
  {
   "cell_type": "code",
   "execution_count": null,
   "metadata": {},
   "outputs": [],
   "source": []
  },
  {
   "cell_type": "markdown",
   "metadata": {},
   "source": [
    "## 4.4 Adição de classe \"Fechamento\" ao dataframe de Ações\n",
    "Classe 1: Fechamento em alta  \n",
    "Classe 0: Fechamento em queda  "
   ]
  },
  {
   "cell_type": "code",
   "execution_count": 235,
   "metadata": {},
   "outputs": [
    {
     "data": {
      "text/html": [
       "<div>\n",
       "<style scoped>\n",
       "    .dataframe tbody tr th:only-of-type {\n",
       "        vertical-align: middle;\n",
       "    }\n",
       "\n",
       "    .dataframe tbody tr th {\n",
       "        vertical-align: top;\n",
       "    }\n",
       "\n",
       "    .dataframe thead th {\n",
       "        text-align: right;\n",
       "    }\n",
       "</style>\n",
       "<table border=\"1\" class=\"dataframe\">\n",
       "  <thead>\n",
       "    <tr style=\"text-align: right;\">\n",
       "      <th></th>\n",
       "      <th>Date</th>\n",
       "      <th>Adj Close</th>\n",
       "      <th>Volume</th>\n",
       "      <th>Var%</th>\n",
       "    </tr>\n",
       "  </thead>\n",
       "  <tbody>\n",
       "    <tr>\n",
       "      <th>0</th>\n",
       "      <td>2021-01-04</td>\n",
       "      <td>19.274340</td>\n",
       "      <td>74719700</td>\n",
       "      <td>0.020113</td>\n",
       "    </tr>\n",
       "    <tr>\n",
       "      <th>1</th>\n",
       "      <td>2021-01-05</td>\n",
       "      <td>20.027718</td>\n",
       "      <td>95181100</td>\n",
       "      <td>0.039087</td>\n",
       "    </tr>\n",
       "    <tr>\n",
       "      <th>2</th>\n",
       "      <td>2021-01-06</td>\n",
       "      <td>20.067719</td>\n",
       "      <td>96562500</td>\n",
       "      <td>0.001997</td>\n",
       "    </tr>\n",
       "    <tr>\n",
       "      <th>3</th>\n",
       "      <td>2021-01-07</td>\n",
       "      <td>20.667747</td>\n",
       "      <td>56171300</td>\n",
       "      <td>0.029900</td>\n",
       "    </tr>\n",
       "    <tr>\n",
       "      <th>4</th>\n",
       "      <td>2021-01-08</td>\n",
       "      <td>20.747751</td>\n",
       "      <td>67136300</td>\n",
       "      <td>0.003871</td>\n",
       "    </tr>\n",
       "    <tr>\n",
       "      <th>...</th>\n",
       "      <td>...</td>\n",
       "      <td>...</td>\n",
       "      <td>...</td>\n",
       "      <td>...</td>\n",
       "    </tr>\n",
       "    <tr>\n",
       "      <th>242</th>\n",
       "      <td>2021-12-23</td>\n",
       "      <td>23.237993</td>\n",
       "      <td>28713600</td>\n",
       "      <td>0.006037</td>\n",
       "    </tr>\n",
       "    <tr>\n",
       "      <th>243</th>\n",
       "      <td>2021-12-27</td>\n",
       "      <td>23.582502</td>\n",
       "      <td>44227900</td>\n",
       "      <td>0.014825</td>\n",
       "    </tr>\n",
       "    <tr>\n",
       "      <th>244</th>\n",
       "      <td>2021-12-28</td>\n",
       "      <td>23.607111</td>\n",
       "      <td>30688100</td>\n",
       "      <td>0.001044</td>\n",
       "    </tr>\n",
       "    <tr>\n",
       "      <th>245</th>\n",
       "      <td>2021-12-29</td>\n",
       "      <td>23.410248</td>\n",
       "      <td>35508400</td>\n",
       "      <td>-0.008339</td>\n",
       "    </tr>\n",
       "    <tr>\n",
       "      <th>246</th>\n",
       "      <td>2021-12-30</td>\n",
       "      <td>23.336424</td>\n",
       "      <td>43229100</td>\n",
       "      <td>-0.003153</td>\n",
       "    </tr>\n",
       "  </tbody>\n",
       "</table>\n",
       "<p>247 rows × 4 columns</p>\n",
       "</div>"
      ],
      "text/plain": [
       "          Date  Adj Close    Volume      Var%\n",
       "0   2021-01-04  19.274340  74719700  0.020113\n",
       "1   2021-01-05  20.027718  95181100  0.039087\n",
       "2   2021-01-06  20.067719  96562500  0.001997\n",
       "3   2021-01-07  20.667747  56171300  0.029900\n",
       "4   2021-01-08  20.747751  67136300  0.003871\n",
       "..         ...        ...       ...       ...\n",
       "242 2021-12-23  23.237993  28713600  0.006037\n",
       "243 2021-12-27  23.582502  44227900  0.014825\n",
       "244 2021-12-28  23.607111  30688100  0.001044\n",
       "245 2021-12-29  23.410248  35508400 -0.008339\n",
       "246 2021-12-30  23.336424  43229100 -0.003153\n",
       "\n",
       "[247 rows x 4 columns]"
      ]
     },
     "execution_count": 235,
     "metadata": {},
     "output_type": "execute_result"
    }
   ],
   "source": [
    "df_petro"
   ]
  },
  {
   "cell_type": "code",
   "execution_count": 237,
   "metadata": {},
   "outputs": [
    {
     "data": {
      "text/html": [
       "<div>\n",
       "<style scoped>\n",
       "    .dataframe tbody tr th:only-of-type {\n",
       "        vertical-align: middle;\n",
       "    }\n",
       "\n",
       "    .dataframe tbody tr th {\n",
       "        vertical-align: top;\n",
       "    }\n",
       "\n",
       "    .dataframe thead th {\n",
       "        text-align: right;\n",
       "    }\n",
       "</style>\n",
       "<table border=\"1\" class=\"dataframe\">\n",
       "  <thead>\n",
       "    <tr style=\"text-align: right;\">\n",
       "      <th></th>\n",
       "      <th>Date</th>\n",
       "      <th>Adj Close</th>\n",
       "      <th>Volume</th>\n",
       "      <th>Var%</th>\n",
       "      <th>Fechamento</th>\n",
       "    </tr>\n",
       "  </thead>\n",
       "  <tbody>\n",
       "    <tr>\n",
       "      <th>0</th>\n",
       "      <td>2021-01-04</td>\n",
       "      <td>19.274340</td>\n",
       "      <td>74719700</td>\n",
       "      <td>0.020113</td>\n",
       "      <td>1</td>\n",
       "    </tr>\n",
       "    <tr>\n",
       "      <th>1</th>\n",
       "      <td>2021-01-05</td>\n",
       "      <td>20.027718</td>\n",
       "      <td>95181100</td>\n",
       "      <td>0.039087</td>\n",
       "      <td>1</td>\n",
       "    </tr>\n",
       "    <tr>\n",
       "      <th>2</th>\n",
       "      <td>2021-01-06</td>\n",
       "      <td>20.067719</td>\n",
       "      <td>96562500</td>\n",
       "      <td>0.001997</td>\n",
       "      <td>1</td>\n",
       "    </tr>\n",
       "    <tr>\n",
       "      <th>3</th>\n",
       "      <td>2021-01-07</td>\n",
       "      <td>20.667747</td>\n",
       "      <td>56171300</td>\n",
       "      <td>0.029900</td>\n",
       "      <td>1</td>\n",
       "    </tr>\n",
       "    <tr>\n",
       "      <th>4</th>\n",
       "      <td>2021-01-08</td>\n",
       "      <td>20.747751</td>\n",
       "      <td>67136300</td>\n",
       "      <td>0.003871</td>\n",
       "      <td>1</td>\n",
       "    </tr>\n",
       "    <tr>\n",
       "      <th>...</th>\n",
       "      <td>...</td>\n",
       "      <td>...</td>\n",
       "      <td>...</td>\n",
       "      <td>...</td>\n",
       "      <td>...</td>\n",
       "    </tr>\n",
       "    <tr>\n",
       "      <th>242</th>\n",
       "      <td>2021-12-23</td>\n",
       "      <td>23.237993</td>\n",
       "      <td>28713600</td>\n",
       "      <td>0.006037</td>\n",
       "      <td>1</td>\n",
       "    </tr>\n",
       "    <tr>\n",
       "      <th>243</th>\n",
       "      <td>2021-12-27</td>\n",
       "      <td>23.582502</td>\n",
       "      <td>44227900</td>\n",
       "      <td>0.014825</td>\n",
       "      <td>1</td>\n",
       "    </tr>\n",
       "    <tr>\n",
       "      <th>244</th>\n",
       "      <td>2021-12-28</td>\n",
       "      <td>23.607111</td>\n",
       "      <td>30688100</td>\n",
       "      <td>0.001044</td>\n",
       "      <td>1</td>\n",
       "    </tr>\n",
       "    <tr>\n",
       "      <th>245</th>\n",
       "      <td>2021-12-29</td>\n",
       "      <td>23.410248</td>\n",
       "      <td>35508400</td>\n",
       "      <td>-0.008339</td>\n",
       "      <td>0</td>\n",
       "    </tr>\n",
       "    <tr>\n",
       "      <th>246</th>\n",
       "      <td>2021-12-30</td>\n",
       "      <td>23.336424</td>\n",
       "      <td>43229100</td>\n",
       "      <td>-0.003153</td>\n",
       "      <td>0</td>\n",
       "    </tr>\n",
       "  </tbody>\n",
       "</table>\n",
       "<p>247 rows × 5 columns</p>\n",
       "</div>"
      ],
      "text/plain": [
       "          Date  Adj Close    Volume      Var%  Fechamento\n",
       "0   2021-01-04  19.274340  74719700  0.020113           1\n",
       "1   2021-01-05  20.027718  95181100  0.039087           1\n",
       "2   2021-01-06  20.067719  96562500  0.001997           1\n",
       "3   2021-01-07  20.667747  56171300  0.029900           1\n",
       "4   2021-01-08  20.747751  67136300  0.003871           1\n",
       "..         ...        ...       ...       ...         ...\n",
       "242 2021-12-23  23.237993  28713600  0.006037           1\n",
       "243 2021-12-27  23.582502  44227900  0.014825           1\n",
       "244 2021-12-28  23.607111  30688100  0.001044           1\n",
       "245 2021-12-29  23.410248  35508400 -0.008339           0\n",
       "246 2021-12-30  23.336424  43229100 -0.003153           0\n",
       "\n",
       "[247 rows x 5 columns]"
      ]
     },
     "execution_count": 237,
     "metadata": {},
     "output_type": "execute_result"
    }
   ],
   "source": [
    "df_petro['Fechamento'] = df_petro['Var%'].apply(lambda x: 0 if x<0 else 1)\n",
    "df_petro"
   ]
  },
  {
   "cell_type": "code",
   "execution_count": 238,
   "metadata": {},
   "outputs": [
    {
     "data": {
      "text/plain": [
       "1    131\n",
       "0    116\n",
       "Name: Fechamento, dtype: int64"
      ]
     },
     "execution_count": 238,
     "metadata": {},
     "output_type": "execute_result"
    }
   ],
   "source": [
    "df_petro.Fechamento.value_counts()"
   ]
  },
  {
   "cell_type": "code",
   "execution_count": 247,
   "metadata": {},
   "outputs": [
    {
     "data": {
      "text/plain": [
       "<seaborn.axisgrid.FacetGrid at 0x1956bc85730>"
      ]
     },
     "execution_count": 247,
     "metadata": {},
     "output_type": "execute_result"
    },
    {
     "data": {
      "image/png": "[encoded data removed]",
      "text/plain": [
       "<Figure size 201.6x252 with 1 Axes>"
      ]
     },
     "metadata": {
      "needs_background": "light"
     },
     "output_type": "display_data"
    }
   ],
   "source": [
    "sns.catplot(x=\"Fechamento\",\n",
    "                data=df_petro,\n",
    "                kind=\"count\", height=3.5, aspect=.8)"
   ]
  },
  {
   "cell_type": "markdown",
   "metadata": {},
   "source": [
    "Em 2021 houve 131 fechamentos com aumento nos valores de ações da Petrobras e 116 com fechamento em queda."
   ]
  },
  {
   "cell_type": "markdown",
   "metadata": {},
   "source": [
    "## 4.5 Concatenar noticias diárias"
   ]
  },
  {
   "cell_type": "code",
   "execution_count": 216,
   "metadata": {},
   "outputs": [
    {
     "data": {
      "text/html": [
       "<div>\n",
       "<style scoped>\n",
       "    .dataframe tbody tr th:only-of-type {\n",
       "        vertical-align: middle;\n",
       "    }\n",
       "\n",
       "    .dataframe tbody tr th {\n",
       "        vertical-align: top;\n",
       "    }\n",
       "\n",
       "    .dataframe thead th {\n",
       "        text-align: right;\n",
       "    }\n",
       "</style>\n",
       "<table border=\"1\" class=\"dataframe\">\n",
       "  <thead>\n",
       "    <tr style=\"text-align: right;\">\n",
       "      <th></th>\n",
       "      <th>Date</th>\n",
       "      <th>Adj Close</th>\n",
       "      <th>Volume</th>\n",
       "      <th>Var%</th>\n",
       "    </tr>\n",
       "  </thead>\n",
       "  <tbody>\n",
       "    <tr>\n",
       "      <th>0</th>\n",
       "      <td>2021-01-04</td>\n",
       "      <td>19.274340</td>\n",
       "      <td>74719700</td>\n",
       "      <td>0.020113</td>\n",
       "    </tr>\n",
       "    <tr>\n",
       "      <th>1</th>\n",
       "      <td>2021-01-05</td>\n",
       "      <td>20.027718</td>\n",
       "      <td>95181100</td>\n",
       "      <td>0.039087</td>\n",
       "    </tr>\n",
       "    <tr>\n",
       "      <th>2</th>\n",
       "      <td>2021-01-06</td>\n",
       "      <td>20.067719</td>\n",
       "      <td>96562500</td>\n",
       "      <td>0.001997</td>\n",
       "    </tr>\n",
       "    <tr>\n",
       "      <th>3</th>\n",
       "      <td>2021-01-07</td>\n",
       "      <td>20.667747</td>\n",
       "      <td>56171300</td>\n",
       "      <td>0.029900</td>\n",
       "    </tr>\n",
       "    <tr>\n",
       "      <th>4</th>\n",
       "      <td>2021-01-08</td>\n",
       "      <td>20.747751</td>\n",
       "      <td>67136300</td>\n",
       "      <td>0.003871</td>\n",
       "    </tr>\n",
       "  </tbody>\n",
       "</table>\n",
       "</div>"
      ],
      "text/plain": [
       "        Date  Adj Close    Volume      Var%\n",
       "0 2021-01-04  19.274340  74719700  0.020113\n",
       "1 2021-01-05  20.027718  95181100  0.039087\n",
       "2 2021-01-06  20.067719  96562500  0.001997\n",
       "3 2021-01-07  20.667747  56171300  0.029900\n",
       "4 2021-01-08  20.747751  67136300  0.003871"
      ]
     },
     "execution_count": 216,
     "metadata": {},
     "output_type": "execute_result"
    }
   ],
   "source": [
    "df_petro.head()"
   ]
  },
  {
   "cell_type": "code",
   "execution_count": 250,
   "metadata": {},
   "outputs": [
    {
     "data": {
      "text/html": [
       "<div>\n",
       "<style scoped>\n",
       "    .dataframe tbody tr th:only-of-type {\n",
       "        vertical-align: middle;\n",
       "    }\n",
       "\n",
       "    .dataframe tbody tr th {\n",
       "        vertical-align: top;\n",
       "    }\n",
       "\n",
       "    .dataframe thead th {\n",
       "        text-align: right;\n",
       "    }\n",
       "</style>\n",
       "<table border=\"1\" class=\"dataframe\">\n",
       "  <thead>\n",
       "    <tr style=\"text-align: right;\">\n",
       "      <th></th>\n",
       "      <th>title</th>\n",
       "      <th>media</th>\n",
       "      <th>date</th>\n",
       "      <th>desc</th>\n",
       "    </tr>\n",
       "  </thead>\n",
       "  <tbody>\n",
       "    <tr>\n",
       "      <th>0</th>\n",
       "      <td>a construção naval brasileira tem chances de a...</td>\n",
       "      <td>CPG Click Petroleo e Gas</td>\n",
       "      <td>2021-01-01</td>\n",
       "      <td>Dentre os principais pontos do plano estratégi...</td>\n",
       "    </tr>\n",
       "    <tr>\n",
       "      <th>1</th>\n",
       "      <td>refinaria abreu e lima da petrobras, a rnest p...</td>\n",
       "      <td>CPG Click Petroleo e Gas</td>\n",
       "      <td>2021-01-01</td>\n",
       "      <td>Petrobras informou em fato relevante na última...</td>\n",
       "    </tr>\n",
       "    <tr>\n",
       "      <th>26</th>\n",
       "      <td>petrobras é condenada em arbitragem iniciada p...</td>\n",
       "      <td>Forbes Brasil</td>\n",
       "      <td>2021-04-01</td>\n",
       "      <td>A Petrobras disse que a sentença determinou qu...</td>\n",
       "    </tr>\n",
       "    <tr>\n",
       "      <th>27</th>\n",
       "      <td>petrobras fez provisionamento para indenizar iesa</td>\n",
       "      <td>Valor Econômico</td>\n",
       "      <td>2021-04-01</td>\n",
       "      <td>Petrobras fez provisionamento para indenizar I...</td>\n",
       "    </tr>\n",
       "    <tr>\n",
       "      <th>28</th>\n",
       "      <td>petrobras é condenada, nos eua, a indenizar a ...</td>\n",
       "      <td>Money Times</td>\n",
       "      <td>2021-04-01</td>\n",
       "      <td>A Petrobras (PETR3; PETR4) foi condenada por u...</td>\n",
       "    </tr>\n",
       "  </tbody>\n",
       "</table>\n",
       "</div>"
      ],
      "text/plain": [
       "                                                title  \\\n",
       "0   a construção naval brasileira tem chances de a...   \n",
       "1   refinaria abreu e lima da petrobras, a rnest p...   \n",
       "26  petrobras é condenada em arbitragem iniciada p...   \n",
       "27  petrobras fez provisionamento para indenizar iesa   \n",
       "28  petrobras é condenada, nos eua, a indenizar a ...   \n",
       "\n",
       "                       media       date  \\\n",
       "0   CPG Click Petroleo e Gas 2021-01-01   \n",
       "1   CPG Click Petroleo e Gas 2021-01-01   \n",
       "26             Forbes Brasil 2021-04-01   \n",
       "27           Valor Econômico 2021-04-01   \n",
       "28               Money Times 2021-04-01   \n",
       "\n",
       "                                                 desc  \n",
       "0   Dentre os principais pontos do plano estratégi...  \n",
       "1   Petrobras informou em fato relevante na última...  \n",
       "26  A Petrobras disse que a sentença determinou qu...  \n",
       "27  Petrobras fez provisionamento para indenizar I...  \n",
       "28  A Petrobras (PETR3; PETR4) foi condenada por u...  "
      ]
     },
     "execution_count": 250,
     "metadata": {},
     "output_type": "execute_result"
    }
   ],
   "source": [
    "df.head()"
   ]
  },
  {
   "cell_type": "code",
   "execution_count": 543,
   "metadata": {},
   "outputs": [],
   "source": [
    "lista_datas = []\n",
    "lista_news = []\n",
    "\n",
    "for i in df.date.unique():\n",
    "    news = \"\"\n",
    "    for row in df[(df['date']==i)].iterrows():\n",
    "        news = news + \" \" + row[1][0]\n",
    "    lista_news.append(news)\n",
    "    lista_datas.append(i)"
   ]
  },
  {
   "cell_type": "code",
   "execution_count": 544,
   "metadata": {},
   "outputs": [
    {
     "data": {
      "text/html": [
       "<div>\n",
       "<style scoped>\n",
       "    .dataframe tbody tr th:only-of-type {\n",
       "        vertical-align: middle;\n",
       "    }\n",
       "\n",
       "    .dataframe tbody tr th {\n",
       "        vertical-align: top;\n",
       "    }\n",
       "\n",
       "    .dataframe thead th {\n",
       "        text-align: right;\n",
       "    }\n",
       "</style>\n",
       "<table border=\"1\" class=\"dataframe\">\n",
       "  <thead>\n",
       "    <tr style=\"text-align: right;\">\n",
       "      <th></th>\n",
       "      <th>Date</th>\n",
       "      <th>Noticias</th>\n",
       "    </tr>\n",
       "  </thead>\n",
       "  <tbody>\n",
       "    <tr>\n",
       "      <th>0</th>\n",
       "      <td>2021-01-01</td>\n",
       "      <td>a construção naval brasileira tem chances de ...</td>\n",
       "    </tr>\n",
       "    <tr>\n",
       "      <th>1</th>\n",
       "      <td>2021-04-01</td>\n",
       "      <td>petrobras é condenada em arbitragem iniciada ...</td>\n",
       "    </tr>\n",
       "    <tr>\n",
       "      <th>2</th>\n",
       "      <td>2021-06-01</td>\n",
       "      <td>xp eleva preço-alvo das ações da petrobras e ...</td>\n",
       "    </tr>\n",
       "    <tr>\n",
       "      <th>3</th>\n",
       "      <td>2021-08-01</td>\n",
       "      <td>abicom diz que petrobras tem preços \"predatór...</td>\n",
       "    </tr>\n",
       "    <tr>\n",
       "      <th>4</th>\n",
       "      <td>2021-09-01</td>\n",
       "      <td>petrobras vive maior surto de covid-19 desde ...</td>\n",
       "    </tr>\n",
       "    <tr>\n",
       "      <th>...</th>\n",
       "      <td>...</td>\n",
       "      <td>...</td>\n",
       "    </tr>\n",
       "    <tr>\n",
       "      <th>294</th>\n",
       "      <td>2021-12-27</td>\n",
       "      <td>alerj vai à justiça contra a petrobras para b...</td>\n",
       "    </tr>\n",
       "    <tr>\n",
       "      <th>295</th>\n",
       "      <td>2021-12-28</td>\n",
       "      <td>distribuidoras de gás de 5 estados entram na ...</td>\n",
       "    </tr>\n",
       "    <tr>\n",
       "      <th>296</th>\n",
       "      <td>2021-12-29</td>\n",
       "      <td>petrobras vai recorrer de decisão que suspend...</td>\n",
       "    </tr>\n",
       "    <tr>\n",
       "      <th>297</th>\n",
       "      <td>2021-12-30</td>\n",
       "      <td>judicialização coloca mercado de gás em risco...</td>\n",
       "    </tr>\n",
       "    <tr>\n",
       "      <th>298</th>\n",
       "      <td>2021-12-31</td>\n",
       "      <td>cvm | petrobras (petr4) informa potencial de ...</td>\n",
       "    </tr>\n",
       "  </tbody>\n",
       "</table>\n",
       "<p>299 rows × 2 columns</p>\n",
       "</div>"
      ],
      "text/plain": [
       "          Date                                           Noticias\n",
       "0   2021-01-01   a construção naval brasileira tem chances de ...\n",
       "1   2021-04-01   petrobras é condenada em arbitragem iniciada ...\n",
       "2   2021-06-01   xp eleva preço-alvo das ações da petrobras e ...\n",
       "3   2021-08-01   abicom diz que petrobras tem preços \"predatór...\n",
       "4   2021-09-01   petrobras vive maior surto de covid-19 desde ...\n",
       "..         ...                                                ...\n",
       "294 2021-12-27   alerj vai à justiça contra a petrobras para b...\n",
       "295 2021-12-28   distribuidoras de gás de 5 estados entram na ...\n",
       "296 2021-12-29   petrobras vai recorrer de decisão que suspend...\n",
       "297 2021-12-30   judicialização coloca mercado de gás em risco...\n",
       "298 2021-12-31   cvm | petrobras (petr4) informa potencial de ...\n",
       "\n",
       "[299 rows x 2 columns]"
      ]
     },
     "execution_count": 544,
     "metadata": {},
     "output_type": "execute_result"
    }
   ],
   "source": [
    "df_news_diaria = pd.DataFrame(list(zip(lista_datas,lista_news)),\n",
    "               columns =['Date', 'Noticias'])\n",
    "df_news_diaria"
   ]
  },
  {
   "cell_type": "markdown",
   "metadata": {},
   "source": [
    "## 4.6 Concatenar noticias referentes a datas sem pregões.\n",
    "\n",
    "- O próximo dia útil após o periodo sem pregões deverá consolidar as noticias acumuladas dos dias sem pregões.\n",
    "- O dataset final deverá conter apenas as datas em que ocorreu o pregão\n",
    "\n",
    "Dessa forma, iniciaremos o procedimento, concatenando as noticias de dias que não houveram pregões"
   ]
  },
  {
   "cell_type": "code",
   "execution_count": 556,
   "metadata": {},
   "outputs": [
    {
     "data": {
      "text/html": [
       "<div>\n",
       "<style scoped>\n",
       "    .dataframe tbody tr th:only-of-type {\n",
       "        vertical-align: middle;\n",
       "    }\n",
       "\n",
       "    .dataframe tbody tr th {\n",
       "        vertical-align: top;\n",
       "    }\n",
       "\n",
       "    .dataframe thead th {\n",
       "        text-align: right;\n",
       "    }\n",
       "</style>\n",
       "<table border=\"1\" class=\"dataframe\">\n",
       "  <thead>\n",
       "    <tr style=\"text-align: right;\">\n",
       "      <th></th>\n",
       "      <th>Date</th>\n",
       "      <th>Noticias</th>\n",
       "    </tr>\n",
       "  </thead>\n",
       "  <tbody>\n",
       "    <tr>\n",
       "      <th>0</th>\n",
       "      <td>2021-01-11</td>\n",
       "      <td>silva e luna 'militariza' cúpula da petrobra...</td>\n",
       "    </tr>\n",
       "    <tr>\n",
       "      <th>1</th>\n",
       "      <td>2021-01-18</td>\n",
       "      <td>mais de 100 vagas de emprego no setor de pet...</td>\n",
       "    </tr>\n",
       "    <tr>\n",
       "      <th>2</th>\n",
       "      <td>2021-01-26</td>\n",
       "      <td>revendedores de gás prometem greve em 1º de ...</td>\n",
       "    </tr>\n",
       "    <tr>\n",
       "      <th>3</th>\n",
       "      <td>2021-02-01</td>\n",
       "      <td>petrobras anuncia descoberta no pré-sal de c...</td>\n",
       "    </tr>\n",
       "    <tr>\n",
       "      <th>4</th>\n",
       "      <td>2021-02-08</td>\n",
       "      <td>apoiadas por sindicatos, famílias ocupam ter...</td>\n",
       "    </tr>\n",
       "  </tbody>\n",
       "</table>\n",
       "</div>"
      ],
      "text/plain": [
       "        Date                                           Noticias\n",
       "0 2021-01-11    silva e luna 'militariza' cúpula da petrobra...\n",
       "1 2021-01-18    mais de 100 vagas de emprego no setor de pet...\n",
       "2 2021-01-26    revendedores de gás prometem greve em 1º de ...\n",
       "3 2021-02-01    petrobras anuncia descoberta no pré-sal de c...\n",
       "4 2021-02-08    apoiadas por sindicatos, famílias ocupam ter..."
      ]
     },
     "execution_count": 556,
     "metadata": {},
     "output_type": "execute_result"
    }
   ],
   "source": [
    "## Iterar sobre as datas dos pregões (iniciando pelo segundo dia do pregão de 2021 df_petro.Date.iloc[1:])\n",
    "\n",
    "## Calcular delta (diferença entre dias entre dois registros seguidos de pregões):\n",
    "import datetime\n",
    "\n",
    "df_news_sem_pregao = pd.DataFrame()\n",
    "timedelta_1dia = datetime.timedelta(days=1)\n",
    "\n",
    "lista_datas = []\n",
    "lista_noticias_sem_pregao = []\n",
    "\n",
    "for i, data in enumerate(df_petro.Date.iloc[1:]):\n",
    "    data_anterior = df_petro['Date'].iloc[i]\n",
    "    delta = data - data_anterior\n",
    "    \n",
    "    # Se houver mais de 1 dia sem pregão:\n",
    "    \n",
    "    if delta > timedelta_1dia:\n",
    "        \n",
    "        # Filtra as noticias entre as datas sem pregão:\n",
    "        df_aux = df_news_diaria[ (df_news_diaria['Date']>= data_anterior) & (df_news_diaria['Date']<= data)  ]\n",
    "        \n",
    "        ## Concatena as noticias das datas sem pregão\n",
    "        news = \"\"\n",
    "        for row in df_aux.iterrows():\n",
    "            news = news + \" \" + row[1][1]\n",
    "        \n",
    "        ## Armazena as noticias e data do ultimo pregão valido em listas\n",
    "        lista_noticias_sem_pregao.append(news)\n",
    "        lista_datas.append(data)\n",
    "        \n",
    "        #Cria um dataframe auxiliar com a data do ultimo pregão e as noticias concatenadas dos dias sem pregões:\n",
    "        df_aux2 = pd.DataFrame(list(zip(lista_datas,lista_noticias_sem_pregao)),\n",
    "               columns =['Date', 'Noticias'])\n",
    "    \n",
    "        # Gera o dataframe com as noticias sem pregões + datas do ultimo pregão valido.\n",
    "        df_news_sem_pregao = df_news_sem_pregao.append(df_aux2, ignore_index = True)\n",
    "        \n",
    "        #Resetando as listas para geração de novo DF\n",
    "        lista_noticias_sem_pregao = []\n",
    "        lista_datas = []\n",
    "        \n",
    "df_news_sem_pregao.head()"
   ]
  },
  {
   "cell_type": "markdown",
   "metadata": {},
   "source": [
    "## 4.7 Atribui as noticias concatenadas de dias sem pregões aos dias com pregão no dataframe de noticias:"
   ]
  },
  {
   "cell_type": "code",
   "execution_count": 558,
   "metadata": {},
   "outputs": [
    {
     "data": {
      "text/html": [
       "<div>\n",
       "<style scoped>\n",
       "    .dataframe tbody tr th:only-of-type {\n",
       "        vertical-align: middle;\n",
       "    }\n",
       "\n",
       "    .dataframe tbody tr th {\n",
       "        vertical-align: top;\n",
       "    }\n",
       "\n",
       "    .dataframe thead th {\n",
       "        text-align: right;\n",
       "    }\n",
       "</style>\n",
       "<table border=\"1\" class=\"dataframe\">\n",
       "  <thead>\n",
       "    <tr style=\"text-align: right;\">\n",
       "      <th></th>\n",
       "      <th>Date</th>\n",
       "      <th>Noticias</th>\n",
       "    </tr>\n",
       "  </thead>\n",
       "  <tbody>\n",
       "    <tr>\n",
       "      <th>0</th>\n",
       "      <td>2021-01-01</td>\n",
       "      <td>a construção naval brasileira tem chances de ...</td>\n",
       "    </tr>\n",
       "    <tr>\n",
       "      <th>1</th>\n",
       "      <td>2021-04-01</td>\n",
       "      <td>petrobras é condenada em arbitragem iniciada ...</td>\n",
       "    </tr>\n",
       "    <tr>\n",
       "      <th>2</th>\n",
       "      <td>2021-06-01</td>\n",
       "      <td>xp eleva preço-alvo das ações da petrobras e ...</td>\n",
       "    </tr>\n",
       "    <tr>\n",
       "      <th>3</th>\n",
       "      <td>2021-08-01</td>\n",
       "      <td>abicom diz que petrobras tem preços \"predatór...</td>\n",
       "    </tr>\n",
       "    <tr>\n",
       "      <th>4</th>\n",
       "      <td>2021-09-01</td>\n",
       "      <td>petrobras vive maior surto de covid-19 desde ...</td>\n",
       "    </tr>\n",
       "  </tbody>\n",
       "</table>\n",
       "</div>"
      ],
      "text/plain": [
       "        Date                                           Noticias\n",
       "0 2021-01-01   a construção naval brasileira tem chances de ...\n",
       "1 2021-04-01   petrobras é condenada em arbitragem iniciada ...\n",
       "2 2021-06-01   xp eleva preço-alvo das ações da petrobras e ...\n",
       "3 2021-08-01   abicom diz que petrobras tem preços \"predatór...\n",
       "4 2021-09-01   petrobras vive maior surto de covid-19 desde ..."
      ]
     },
     "execution_count": 558,
     "metadata": {},
     "output_type": "execute_result"
    }
   ],
   "source": [
    "# itera sobre os dias com pregão cujo noticias de dias anteriores foram concatenadas:\n",
    "\n",
    "for i in df_news_sem_pregao.Date.unique():\n",
    "    noticia_dias_sem_pregao = df_news_sem_pregao[(df_news_sem_pregao['Date']==i)].iloc[0][1]\n",
    "    \n",
    "\n",
    "    #Checa se existem noticias referente ao dia com pregão:\n",
    "    if len(df_news_diaria[(df_news_diaria['Date']==i)]) > 0:\n",
    "        \n",
    "        #Atualiza os registros\n",
    "        df_news_diaria[(df_news_diaria['Date']==i)].iloc[0][1]\n",
    "        \n",
    "    else:\n",
    "        #Insere o novo registro\n",
    "        df_news_diaria = df_news_diaria.append(df_news_sem_pregao[(df_news_sem_pregao['Date']==i)], ignore_index = True)\n",
    "        \n",
    "df_news_diaria.head()"
   ]
  },
  {
   "cell_type": "markdown",
   "metadata": {},
   "source": [
    "## 4.8 Mescla o dataframe noticias finais e ações"
   ]
  },
  {
   "cell_type": "code",
   "execution_count": 639,
   "metadata": {},
   "outputs": [
    {
     "data": {
      "text/html": [
       "<div>\n",
       "<style scoped>\n",
       "    .dataframe tbody tr th:only-of-type {\n",
       "        vertical-align: middle;\n",
       "    }\n",
       "\n",
       "    .dataframe tbody tr th {\n",
       "        vertical-align: top;\n",
       "    }\n",
       "\n",
       "    .dataframe thead th {\n",
       "        text-align: right;\n",
       "    }\n",
       "</style>\n",
       "<table border=\"1\" class=\"dataframe\">\n",
       "  <thead>\n",
       "    <tr style=\"text-align: right;\">\n",
       "      <th></th>\n",
       "      <th>Date</th>\n",
       "      <th>Adj Close</th>\n",
       "      <th>Volume</th>\n",
       "      <th>Var%</th>\n",
       "      <th>Fechamento</th>\n",
       "      <th>Noticias</th>\n",
       "    </tr>\n",
       "  </thead>\n",
       "  <tbody>\n",
       "    <tr>\n",
       "      <th>0</th>\n",
       "      <td>2021-01-04</td>\n",
       "      <td>19.274340</td>\n",
       "      <td>74719700</td>\n",
       "      <td>0.020113</td>\n",
       "      <td>1</td>\n",
       "      <td>tcu avalia barrar venda de refinaria da petro...</td>\n",
       "    </tr>\n",
       "    <tr>\n",
       "      <th>1</th>\n",
       "      <td>2021-01-05</td>\n",
       "      <td>20.027718</td>\n",
       "      <td>95181100</td>\n",
       "      <td>0.039087</td>\n",
       "      <td>1</td>\n",
       "      <td>petrobras (petr4) inicia contratação de nona ...</td>\n",
       "    </tr>\n",
       "    <tr>\n",
       "      <th>2</th>\n",
       "      <td>2021-01-06</td>\n",
       "      <td>20.067719</td>\n",
       "      <td>96562500</td>\n",
       "      <td>0.001997</td>\n",
       "      <td>1</td>\n",
       "      <td>valor de venda de refinaria da petrobras é qu...</td>\n",
       "    </tr>\n",
       "    <tr>\n",
       "      <th>3</th>\n",
       "      <td>2021-01-07</td>\n",
       "      <td>20.667747</td>\n",
       "      <td>56171300</td>\n",
       "      <td>0.029900</td>\n",
       "      <td>1</td>\n",
       "      <td>petrobras confirma venda da fatia na br distr...</td>\n",
       "    </tr>\n",
       "    <tr>\n",
       "      <th>4</th>\n",
       "      <td>2021-01-08</td>\n",
       "      <td>20.747751</td>\n",
       "      <td>67136300</td>\n",
       "      <td>0.003871</td>\n",
       "      <td>1</td>\n",
       "      <td>NaN</td>\n",
       "    </tr>\n",
       "    <tr>\n",
       "      <th>...</th>\n",
       "      <td>...</td>\n",
       "      <td>...</td>\n",
       "      <td>...</td>\n",
       "      <td>...</td>\n",
       "      <td>...</td>\n",
       "      <td>...</td>\n",
       "    </tr>\n",
       "    <tr>\n",
       "      <th>242</th>\n",
       "      <td>2021-12-23</td>\n",
       "      <td>23.237993</td>\n",
       "      <td>28713600</td>\n",
       "      <td>0.006037</td>\n",
       "      <td>1</td>\n",
       "      <td>programa da petrobras que reforça capital de ...</td>\n",
       "    </tr>\n",
       "    <tr>\n",
       "      <th>243</th>\n",
       "      <td>2021-12-27</td>\n",
       "      <td>23.582502</td>\n",
       "      <td>44227900</td>\n",
       "      <td>0.014825</td>\n",
       "      <td>1</td>\n",
       "      <td>alerj vai à justiça contra a petrobras para b...</td>\n",
       "    </tr>\n",
       "    <tr>\n",
       "      <th>244</th>\n",
       "      <td>2021-12-28</td>\n",
       "      <td>23.607111</td>\n",
       "      <td>30688100</td>\n",
       "      <td>0.001044</td>\n",
       "      <td>1</td>\n",
       "      <td>distribuidoras de gás de 5 estados entram na ...</td>\n",
       "    </tr>\n",
       "    <tr>\n",
       "      <th>245</th>\n",
       "      <td>2021-12-29</td>\n",
       "      <td>23.410248</td>\n",
       "      <td>35508400</td>\n",
       "      <td>-0.008339</td>\n",
       "      <td>0</td>\n",
       "      <td>petrobras vai recorrer de decisão que suspend...</td>\n",
       "    </tr>\n",
       "    <tr>\n",
       "      <th>246</th>\n",
       "      <td>2021-12-30</td>\n",
       "      <td>23.336424</td>\n",
       "      <td>43229100</td>\n",
       "      <td>-0.003153</td>\n",
       "      <td>0</td>\n",
       "      <td>judicialização coloca mercado de gás em risco...</td>\n",
       "    </tr>\n",
       "  </tbody>\n",
       "</table>\n",
       "<p>247 rows × 6 columns</p>\n",
       "</div>"
      ],
      "text/plain": [
       "          Date  Adj Close    Volume      Var%  Fechamento  \\\n",
       "0   2021-01-04  19.274340  74719700  0.020113           1   \n",
       "1   2021-01-05  20.027718  95181100  0.039087           1   \n",
       "2   2021-01-06  20.067719  96562500  0.001997           1   \n",
       "3   2021-01-07  20.667747  56171300  0.029900           1   \n",
       "4   2021-01-08  20.747751  67136300  0.003871           1   \n",
       "..         ...        ...       ...       ...         ...   \n",
       "242 2021-12-23  23.237993  28713600  0.006037           1   \n",
       "243 2021-12-27  23.582502  44227900  0.014825           1   \n",
       "244 2021-12-28  23.607111  30688100  0.001044           1   \n",
       "245 2021-12-29  23.410248  35508400 -0.008339           0   \n",
       "246 2021-12-30  23.336424  43229100 -0.003153           0   \n",
       "\n",
       "                                              Noticias  \n",
       "0     tcu avalia barrar venda de refinaria da petro...  \n",
       "1     petrobras (petr4) inicia contratação de nona ...  \n",
       "2     valor de venda de refinaria da petrobras é qu...  \n",
       "3     petrobras confirma venda da fatia na br distr...  \n",
       "4                                                  NaN  \n",
       "..                                                 ...  \n",
       "242   programa da petrobras que reforça capital de ...  \n",
       "243   alerj vai à justiça contra a petrobras para b...  \n",
       "244   distribuidoras de gás de 5 estados entram na ...  \n",
       "245   petrobras vai recorrer de decisão que suspend...  \n",
       "246   judicialização coloca mercado de gás em risco...  \n",
       "\n",
       "[247 rows x 6 columns]"
      ]
     },
     "execution_count": 639,
     "metadata": {},
     "output_type": "execute_result"
    }
   ],
   "source": [
    "df_final = pd.merge(left = df_petro, right = df_news_diaria, how = 'left', on = 'Date')\n",
    "df_final"
   ]
  },
  {
   "cell_type": "code",
   "execution_count": 640,
   "metadata": {},
   "outputs": [
    {
     "data": {
      "text/plain": [
       "Date           0\n",
       "Adj Close      0\n",
       "Volume         0\n",
       "Var%           0\n",
       "Fechamento     0\n",
       "Noticias      28\n",
       "dtype: int64"
      ]
     },
     "execution_count": 640,
     "metadata": {},
     "output_type": "execute_result"
    }
   ],
   "source": [
    "df_final.isnull().sum()"
   ]
  },
  {
   "cell_type": "code",
   "execution_count": 649,
   "metadata": {},
   "outputs": [
    {
     "data": {
      "text/html": [
       "<div>\n",
       "<style scoped>\n",
       "    .dataframe tbody tr th:only-of-type {\n",
       "        vertical-align: middle;\n",
       "    }\n",
       "\n",
       "    .dataframe tbody tr th {\n",
       "        vertical-align: top;\n",
       "    }\n",
       "\n",
       "    .dataframe thead th {\n",
       "        text-align: right;\n",
       "    }\n",
       "</style>\n",
       "<table border=\"1\" class=\"dataframe\">\n",
       "  <thead>\n",
       "    <tr style=\"text-align: right;\">\n",
       "      <th></th>\n",
       "      <th>Date</th>\n",
       "      <th>Adj Close</th>\n",
       "      <th>Volume</th>\n",
       "      <th>Var%</th>\n",
       "      <th>Fechamento</th>\n",
       "      <th>Noticias</th>\n",
       "    </tr>\n",
       "  </thead>\n",
       "  <tbody>\n",
       "    <tr>\n",
       "      <th>4</th>\n",
       "      <td>2021-01-08</td>\n",
       "      <td>20.747751</td>\n",
       "      <td>67136300</td>\n",
       "      <td>0.003871</td>\n",
       "      <td>1</td>\n",
       "      <td>NaN</td>\n",
       "    </tr>\n",
       "  </tbody>\n",
       "</table>\n",
       "</div>"
      ],
      "text/plain": [
       "        Date  Adj Close    Volume      Var%  Fechamento Noticias\n",
       "4 2021-01-08  20.747751  67136300  0.003871           1      NaN"
      ]
     },
     "execution_count": 649,
     "metadata": {},
     "output_type": "execute_result"
    }
   ],
   "source": [
    "df_final[df_final[\"Date\"]=='2021-01-08T00:00:00.000000000']"
   ]
  },
  {
   "cell_type": "code",
   "execution_count": 648,
   "metadata": {},
   "outputs": [
    {
     "data": {
      "text/html": [
       "<div>\n",
       "<style scoped>\n",
       "    .dataframe tbody tr th:only-of-type {\n",
       "        vertical-align: middle;\n",
       "    }\n",
       "\n",
       "    .dataframe tbody tr th {\n",
       "        vertical-align: top;\n",
       "    }\n",
       "\n",
       "    .dataframe thead th {\n",
       "        text-align: right;\n",
       "    }\n",
       "</style>\n",
       "<table border=\"1\" class=\"dataframe\">\n",
       "  <thead>\n",
       "    <tr style=\"text-align: right;\">\n",
       "      <th></th>\n",
       "      <th>Date</th>\n",
       "      <th>Adj Close</th>\n",
       "      <th>Volume</th>\n",
       "      <th>Var%</th>\n",
       "      <th>Fechamento</th>\n",
       "    </tr>\n",
       "  </thead>\n",
       "  <tbody>\n",
       "  </tbody>\n",
       "</table>\n",
       "</div>"
      ],
      "text/plain": [
       "Empty DataFrame\n",
       "Columns: [Date, Adj Close, Volume, Var%, Fechamento]\n",
       "Index: []"
      ]
     },
     "execution_count": 648,
     "metadata": {},
     "output_type": "execute_result"
    }
   ],
   "source": [
    "df_petro[df_petro[\"Date\"]=='2021-08-01T00:00:00.000000000']"
   ]
  },
  {
   "cell_type": "code",
   "execution_count": 651,
   "metadata": {},
   "outputs": [
    {
     "data": {
      "text/html": [
       "<div>\n",
       "<style scoped>\n",
       "    .dataframe tbody tr th:only-of-type {\n",
       "        vertical-align: middle;\n",
       "    }\n",
       "\n",
       "    .dataframe tbody tr th {\n",
       "        vertical-align: top;\n",
       "    }\n",
       "\n",
       "    .dataframe thead th {\n",
       "        text-align: right;\n",
       "    }\n",
       "</style>\n",
       "<table border=\"1\" class=\"dataframe\">\n",
       "  <thead>\n",
       "    <tr style=\"text-align: right;\">\n",
       "      <th></th>\n",
       "      <th>Date</th>\n",
       "      <th>Adj Close</th>\n",
       "      <th>Volume</th>\n",
       "      <th>Var%</th>\n",
       "      <th>Fechamento</th>\n",
       "    </tr>\n",
       "  </thead>\n",
       "  <tbody>\n",
       "    <tr>\n",
       "      <th>4</th>\n",
       "      <td>2021-01-08</td>\n",
       "      <td>20.747751</td>\n",
       "      <td>67136300</td>\n",
       "      <td>0.003871</td>\n",
       "      <td>1</td>\n",
       "    </tr>\n",
       "  </tbody>\n",
       "</table>\n",
       "</div>"
      ],
      "text/plain": [
       "        Date  Adj Close    Volume      Var%  Fechamento\n",
       "4 2021-01-08  20.747751  67136300  0.003871           1"
      ]
     },
     "execution_count": 651,
     "metadata": {},
     "output_type": "execute_result"
    }
   ],
   "source": [
    "df_petro[df_petro[\"Date\"]=='2021-01-08T00:00:00.000000000']"
   ]
  },
  {
   "cell_type": "code",
   "execution_count": 646,
   "metadata": {},
   "outputs": [
    {
     "data": {
      "text/html": [
       "<div>\n",
       "<style scoped>\n",
       "    .dataframe tbody tr th:only-of-type {\n",
       "        vertical-align: middle;\n",
       "    }\n",
       "\n",
       "    .dataframe tbody tr th {\n",
       "        vertical-align: top;\n",
       "    }\n",
       "\n",
       "    .dataframe thead th {\n",
       "        text-align: right;\n",
       "    }\n",
       "</style>\n",
       "<table border=\"1\" class=\"dataframe\">\n",
       "  <thead>\n",
       "    <tr style=\"text-align: right;\">\n",
       "      <th></th>\n",
       "      <th>Date</th>\n",
       "      <th>Noticias</th>\n",
       "    </tr>\n",
       "  </thead>\n",
       "  <tbody>\n",
       "    <tr>\n",
       "      <th>3</th>\n",
       "      <td>2021-08-01</td>\n",
       "      <td>abicom diz que petrobras tem preços \"predatór...</td>\n",
       "    </tr>\n",
       "  </tbody>\n",
       "</table>\n",
       "</div>"
      ],
      "text/plain": [
       "        Date                                           Noticias\n",
       "3 2021-08-01   abicom diz que petrobras tem preços \"predatór..."
      ]
     },
     "execution_count": 646,
     "metadata": {},
     "output_type": "execute_result"
    }
   ],
   "source": [
    "df_news_diaria[df_news_diaria[\"Date\"]=='2021-08-01T00:00:00.000000000']"
   ]
  },
  {
   "cell_type": "code",
   "execution_count": null,
   "metadata": {},
   "outputs": [],
   "source": []
  },
  {
   "cell_type": "code",
   "execution_count": 632,
   "metadata": {},
   "outputs": [
    {
     "data": {
      "text/plain": [
       "array(['2021-01-01T00:00:00.000000000', '2021-04-01T00:00:00.000000000',\n",
       "       '2021-06-01T00:00:00.000000000', '2021-08-01T00:00:00.000000000',\n",
       "       '2021-09-01T00:00:00.000000000', '2021-10-01T00:00:00.000000000',\n",
       "       '2021-12-01T00:00:00.000000000', '2021-01-13T00:00:00.000000000',\n",
       "       '2021-01-16T00:00:00.000000000', '2021-01-17T00:00:00.000000000',\n",
       "       '2021-01-18T00:00:00.000000000', '2021-01-19T00:00:00.000000000',\n",
       "       '2021-01-20T00:00:00.000000000', '2021-01-22T00:00:00.000000000',\n",
       "       '2021-01-25T00:00:00.000000000', '2021-01-26T00:00:00.000000000',\n",
       "       '2021-01-28T00:00:00.000000000', '2021-01-29T00:00:00.000000000',\n",
       "       '2021-02-02T00:00:00.000000000', '2021-03-02T00:00:00.000000000',\n",
       "       '2021-05-02T00:00:00.000000000', '2021-06-02T00:00:00.000000000',\n",
       "       '2021-07-02T00:00:00.000000000', '2021-08-02T00:00:00.000000000',\n",
       "       '2021-09-02T00:00:00.000000000', '2021-10-02T00:00:00.000000000',\n",
       "       '2021-11-02T00:00:00.000000000', '2021-12-02T00:00:00.000000000',\n",
       "       '2021-02-13T00:00:00.000000000', '2021-02-17T00:00:00.000000000',\n",
       "       '2021-02-18T00:00:00.000000000', '2021-02-19T00:00:00.000000000',\n",
       "       '2021-02-20T00:00:00.000000000', '2021-02-21T00:00:00.000000000',\n",
       "       '2021-02-22T00:00:00.000000000', '2021-02-23T00:00:00.000000000',\n",
       "       '2021-02-24T00:00:00.000000000', '2021-02-25T00:00:00.000000000',\n",
       "       '2021-02-26T00:00:00.000000000', '2021-02-27T00:00:00.000000000',\n",
       "       '2021-02-28T00:00:00.000000000', '2021-01-03T00:00:00.000000000',\n",
       "       '2021-02-03T00:00:00.000000000', '2021-03-03T00:00:00.000000000',\n",
       "       '2021-04-03T00:00:00.000000000', '2021-05-03T00:00:00.000000000',\n",
       "       '2021-07-03T00:00:00.000000000', '2021-08-03T00:00:00.000000000',\n",
       "       '2021-09-03T00:00:00.000000000', '2021-10-03T00:00:00.000000000',\n",
       "       '2021-11-03T00:00:00.000000000', '2021-12-03T00:00:00.000000000',\n",
       "       '2021-03-13T00:00:00.000000000', '2021-03-14T00:00:00.000000000',\n",
       "       '2021-03-15T00:00:00.000000000', '2021-03-16T00:00:00.000000000',\n",
       "       '2021-03-17T00:00:00.000000000', '2021-03-18T00:00:00.000000000',\n",
       "       '2021-03-20T00:00:00.000000000', '2021-03-22T00:00:00.000000000',\n",
       "       '2021-03-23T00:00:00.000000000', '2021-03-24T00:00:00.000000000',\n",
       "       '2021-03-25T00:00:00.000000000', '2021-03-26T00:00:00.000000000',\n",
       "       '2021-03-29T00:00:00.000000000', '2021-03-30T00:00:00.000000000',\n",
       "       '2021-03-31T00:00:00.000000000', '2021-01-04T00:00:00.000000000',\n",
       "       '2021-04-04T00:00:00.000000000', '2021-05-04T00:00:00.000000000',\n",
       "       '2021-07-04T00:00:00.000000000', '2021-08-04T00:00:00.000000000',\n",
       "       '2021-09-04T00:00:00.000000000', '2021-04-13T00:00:00.000000000',\n",
       "       '2021-04-15T00:00:00.000000000', '2021-04-16T00:00:00.000000000',\n",
       "       '2021-04-17T00:00:00.000000000', '2021-04-18T00:00:00.000000000',\n",
       "       '2021-04-19T00:00:00.000000000', '2021-04-21T00:00:00.000000000',\n",
       "       '2021-04-22T00:00:00.000000000', '2021-04-23T00:00:00.000000000',\n",
       "       '2021-04-26T00:00:00.000000000', '2021-04-27T00:00:00.000000000',\n",
       "       '2021-04-28T00:00:00.000000000', '2021-04-29T00:00:00.000000000',\n",
       "       '2021-04-30T00:00:00.000000000', '2021-01-05T00:00:00.000000000',\n",
       "       '2021-02-05T00:00:00.000000000', '2021-04-05T00:00:00.000000000',\n",
       "       '2021-05-05T00:00:00.000000000', '2021-06-05T00:00:00.000000000',\n",
       "       '2021-07-05T00:00:00.000000000', '2021-10-05T00:00:00.000000000',\n",
       "       '2021-11-05T00:00:00.000000000', '2021-12-05T00:00:00.000000000',\n",
       "       '2021-05-13T00:00:00.000000000', '2021-05-14T00:00:00.000000000',\n",
       "       '2021-05-16T00:00:00.000000000', '2021-05-17T00:00:00.000000000',\n",
       "       '2021-05-18T00:00:00.000000000', '2021-05-19T00:00:00.000000000',\n",
       "       '2021-05-20T00:00:00.000000000', '2021-05-21T00:00:00.000000000',\n",
       "       '2021-05-22T00:00:00.000000000', '2021-05-24T00:00:00.000000000',\n",
       "       '2021-05-25T00:00:00.000000000', '2021-05-26T00:00:00.000000000',\n",
       "       '2021-05-27T00:00:00.000000000', '2021-05-28T00:00:00.000000000',\n",
       "       '2021-05-29T00:00:00.000000000', '2021-05-30T00:00:00.000000000',\n",
       "       '2021-05-31T00:00:00.000000000', '2021-01-06T00:00:00.000000000',\n",
       "       '2021-02-06T00:00:00.000000000', '2021-03-06T00:00:00.000000000',\n",
       "       '2021-04-06T00:00:00.000000000', '2021-06-06T00:00:00.000000000',\n",
       "       '2021-07-06T00:00:00.000000000', '2021-09-06T00:00:00.000000000',\n",
       "       '2021-10-06T00:00:00.000000000', '2021-11-06T00:00:00.000000000',\n",
       "       '2021-12-06T00:00:00.000000000', '2021-06-13T00:00:00.000000000',\n",
       "       '2021-06-14T00:00:00.000000000', '2021-06-15T00:00:00.000000000',\n",
       "       '2021-06-16T00:00:00.000000000', '2021-06-17T00:00:00.000000000',\n",
       "       '2021-06-18T00:00:00.000000000', '2021-06-20T00:00:00.000000000',\n",
       "       '2021-06-22T00:00:00.000000000', '2021-06-23T00:00:00.000000000',\n",
       "       '2021-06-25T00:00:00.000000000', '2021-06-26T00:00:00.000000000',\n",
       "       '2021-06-28T00:00:00.000000000', '2021-06-29T00:00:00.000000000',\n",
       "       '2021-06-30T00:00:00.000000000', '2021-01-07T00:00:00.000000000',\n",
       "       '2021-02-07T00:00:00.000000000', '2021-03-07T00:00:00.000000000',\n",
       "       '2021-05-07T00:00:00.000000000', '2021-06-07T00:00:00.000000000',\n",
       "       '2021-07-07T00:00:00.000000000', '2021-08-07T00:00:00.000000000',\n",
       "       '2021-09-07T00:00:00.000000000', '2021-10-07T00:00:00.000000000',\n",
       "       '2021-12-07T00:00:00.000000000', '2021-07-13T00:00:00.000000000',\n",
       "       '2021-07-14T00:00:00.000000000', '2021-07-15T00:00:00.000000000',\n",
       "       '2021-07-16T00:00:00.000000000', '2021-07-17T00:00:00.000000000',\n",
       "       '2021-07-18T00:00:00.000000000', '2021-07-19T00:00:00.000000000',\n",
       "       '2021-07-21T00:00:00.000000000', '2021-07-23T00:00:00.000000000',\n",
       "       '2021-07-24T00:00:00.000000000', '2021-07-26T00:00:00.000000000',\n",
       "       '2021-07-27T00:00:00.000000000', '2021-07-29T00:00:00.000000000',\n",
       "       '2021-07-31T00:00:00.000000000', '2021-02-08T00:00:00.000000000',\n",
       "       '2021-03-08T00:00:00.000000000', '2021-04-08T00:00:00.000000000',\n",
       "       '2021-05-08T00:00:00.000000000', '2021-06-08T00:00:00.000000000',\n",
       "       '2021-07-08T00:00:00.000000000', '2021-09-08T00:00:00.000000000',\n",
       "       '2021-10-08T00:00:00.000000000', '2021-11-08T00:00:00.000000000',\n",
       "       '2021-12-08T00:00:00.000000000', '2021-08-14T00:00:00.000000000',\n",
       "       '2021-08-16T00:00:00.000000000', '2021-08-17T00:00:00.000000000',\n",
       "       '2021-08-18T00:00:00.000000000', '2021-08-19T00:00:00.000000000',\n",
       "       '2021-08-20T00:00:00.000000000', '2021-08-21T00:00:00.000000000',\n",
       "       '2021-08-22T00:00:00.000000000', '2021-08-23T00:00:00.000000000',\n",
       "       '2021-08-24T00:00:00.000000000', '2021-08-25T00:00:00.000000000',\n",
       "       '2021-08-26T00:00:00.000000000', '2021-08-27T00:00:00.000000000',\n",
       "       '2021-08-28T00:00:00.000000000', '2021-08-29T00:00:00.000000000',\n",
       "       '2021-08-30T00:00:00.000000000', '2021-08-31T00:00:00.000000000',\n",
       "       '2021-01-09T00:00:00.000000000', '2021-02-09T00:00:00.000000000',\n",
       "       '2021-04-09T00:00:00.000000000', '2021-05-09T00:00:00.000000000',\n",
       "       '2021-06-09T00:00:00.000000000', '2021-08-09T00:00:00.000000000',\n",
       "       '2021-10-09T00:00:00.000000000', '2021-11-09T00:00:00.000000000',\n",
       "       '2021-12-09T00:00:00.000000000', '2021-09-13T00:00:00.000000000',\n",
       "       '2021-09-14T00:00:00.000000000', '2021-09-15T00:00:00.000000000',\n",
       "       '2021-09-16T00:00:00.000000000', '2021-09-17T00:00:00.000000000',\n",
       "       '2021-09-18T00:00:00.000000000', '2021-09-19T00:00:00.000000000',\n",
       "       '2021-09-20T00:00:00.000000000', '2021-09-21T00:00:00.000000000',\n",
       "       '2021-09-22T00:00:00.000000000', '2021-09-23T00:00:00.000000000',\n",
       "       '2021-09-24T00:00:00.000000000', '2021-09-25T00:00:00.000000000',\n",
       "       '2021-09-26T00:00:00.000000000', '2021-09-27T00:00:00.000000000',\n",
       "       '2021-09-28T00:00:00.000000000', '2021-09-29T00:00:00.000000000',\n",
       "       '2021-09-30T00:00:00.000000000', '2021-01-10T00:00:00.000000000',\n",
       "       '2021-02-10T00:00:00.000000000', '2021-03-10T00:00:00.000000000',\n",
       "       '2021-04-10T00:00:00.000000000', '2021-05-10T00:00:00.000000000',\n",
       "       '2021-06-10T00:00:00.000000000', '2021-07-10T00:00:00.000000000',\n",
       "       '2021-08-10T00:00:00.000000000', '2021-10-10T00:00:00.000000000',\n",
       "       '2021-11-10T00:00:00.000000000', '2021-12-10T00:00:00.000000000',\n",
       "       '2021-10-13T00:00:00.000000000', '2021-10-14T00:00:00.000000000',\n",
       "       '2021-10-15T00:00:00.000000000', '2021-10-17T00:00:00.000000000',\n",
       "       '2021-10-18T00:00:00.000000000', '2021-10-19T00:00:00.000000000',\n",
       "       '2021-10-20T00:00:00.000000000', '2021-10-21T00:00:00.000000000',\n",
       "       '2021-10-22T00:00:00.000000000', '2021-10-24T00:00:00.000000000',\n",
       "       '2021-10-25T00:00:00.000000000', '2021-10-26T00:00:00.000000000',\n",
       "       '2021-10-27T00:00:00.000000000', '2021-10-28T00:00:00.000000000',\n",
       "       '2021-10-29T00:00:00.000000000', '2021-10-30T00:00:00.000000000',\n",
       "       '2021-10-31T00:00:00.000000000', '2021-01-11T00:00:00.000000000',\n",
       "       '2021-02-11T00:00:00.000000000', '2021-03-11T00:00:00.000000000',\n",
       "       '2021-04-11T00:00:00.000000000', '2021-05-11T00:00:00.000000000',\n",
       "       '2021-06-11T00:00:00.000000000', '2021-07-11T00:00:00.000000000',\n",
       "       '2021-08-11T00:00:00.000000000', '2021-09-11T00:00:00.000000000',\n",
       "       '2021-10-11T00:00:00.000000000', '2021-11-11T00:00:00.000000000',\n",
       "       '2021-12-11T00:00:00.000000000', '2021-11-13T00:00:00.000000000',\n",
       "       '2021-11-14T00:00:00.000000000', '2021-11-15T00:00:00.000000000',\n",
       "       '2021-11-16T00:00:00.000000000', '2021-11-17T00:00:00.000000000',\n",
       "       '2021-11-18T00:00:00.000000000', '2021-11-19T00:00:00.000000000',\n",
       "       '2021-11-20T00:00:00.000000000', '2021-11-22T00:00:00.000000000',\n",
       "       '2021-11-24T00:00:00.000000000', '2021-11-25T00:00:00.000000000',\n",
       "       '2021-11-26T00:00:00.000000000', '2021-11-27T00:00:00.000000000',\n",
       "       '2021-11-28T00:00:00.000000000', '2021-11-30T00:00:00.000000000',\n",
       "       '2021-01-12T00:00:00.000000000', '2021-02-12T00:00:00.000000000',\n",
       "       '2021-03-12T00:00:00.000000000', '2021-04-12T00:00:00.000000000',\n",
       "       '2021-06-12T00:00:00.000000000', '2021-07-12T00:00:00.000000000',\n",
       "       '2021-08-12T00:00:00.000000000', '2021-09-12T00:00:00.000000000',\n",
       "       '2021-10-12T00:00:00.000000000', '2021-11-12T00:00:00.000000000',\n",
       "       '2021-12-12T00:00:00.000000000', '2021-12-13T00:00:00.000000000',\n",
       "       '2021-12-14T00:00:00.000000000', '2021-12-15T00:00:00.000000000',\n",
       "       '2021-12-16T00:00:00.000000000', '2021-12-17T00:00:00.000000000',\n",
       "       '2021-12-18T00:00:00.000000000', '2021-12-20T00:00:00.000000000',\n",
       "       '2021-12-21T00:00:00.000000000', '2021-12-22T00:00:00.000000000',\n",
       "       '2021-12-23T00:00:00.000000000', '2021-12-24T00:00:00.000000000',\n",
       "       '2021-12-25T00:00:00.000000000', '2021-12-26T00:00:00.000000000',\n",
       "       '2021-12-27T00:00:00.000000000', '2021-12-28T00:00:00.000000000',\n",
       "       '2021-12-29T00:00:00.000000000', '2021-12-30T00:00:00.000000000',\n",
       "       '2021-12-31T00:00:00.000000000', '2021-02-01T00:00:00.000000000',\n",
       "       '2021-03-01T00:00:00.000000000', '2021-06-04T00:00:00.000000000',\n",
       "       '2021-06-21T00:00:00.000000000', '2021-10-04T00:00:00.000000000',\n",
       "       '2021-11-01T00:00:00.000000000', '2021-11-29T00:00:00.000000000'],\n",
       "      dtype='datetime64[ns]')"
      ]
     },
     "execution_count": 632,
     "metadata": {},
     "output_type": "execute_result"
    }
   ],
   "source": [
    "df_news_diaria.Date.unique()"
   ]
  },
  {
   "cell_type": "code",
   "execution_count": 633,
   "metadata": {},
   "outputs": [
    {
     "data": {
      "text/plain": [
       "array(['2021-01-04T00:00:00.000000000', '2021-01-05T00:00:00.000000000',\n",
       "       '2021-01-06T00:00:00.000000000', '2021-01-07T00:00:00.000000000',\n",
       "       '2021-01-08T00:00:00.000000000', '2021-01-11T00:00:00.000000000',\n",
       "       '2021-01-12T00:00:00.000000000', '2021-01-13T00:00:00.000000000',\n",
       "       '2021-01-14T00:00:00.000000000', '2021-01-15T00:00:00.000000000',\n",
       "       '2021-01-18T00:00:00.000000000', '2021-01-19T00:00:00.000000000',\n",
       "       '2021-01-20T00:00:00.000000000', '2021-01-21T00:00:00.000000000',\n",
       "       '2021-01-22T00:00:00.000000000', '2021-01-26T00:00:00.000000000',\n",
       "       '2021-01-27T00:00:00.000000000', '2021-01-28T00:00:00.000000000',\n",
       "       '2021-01-29T00:00:00.000000000', '2021-02-01T00:00:00.000000000',\n",
       "       '2021-02-02T00:00:00.000000000', '2021-02-03T00:00:00.000000000',\n",
       "       '2021-02-04T00:00:00.000000000', '2021-02-05T00:00:00.000000000',\n",
       "       '2021-02-08T00:00:00.000000000', '2021-02-09T00:00:00.000000000',\n",
       "       '2021-02-10T00:00:00.000000000', '2021-02-11T00:00:00.000000000',\n",
       "       '2021-02-12T00:00:00.000000000', '2021-02-17T00:00:00.000000000',\n",
       "       '2021-02-18T00:00:00.000000000', '2021-02-19T00:00:00.000000000',\n",
       "       '2021-02-22T00:00:00.000000000', '2021-02-23T00:00:00.000000000',\n",
       "       '2021-02-24T00:00:00.000000000', '2021-02-25T00:00:00.000000000',\n",
       "       '2021-02-26T00:00:00.000000000', '2021-03-01T00:00:00.000000000',\n",
       "       '2021-03-02T00:00:00.000000000', '2021-03-03T00:00:00.000000000',\n",
       "       '2021-03-04T00:00:00.000000000', '2021-03-05T00:00:00.000000000',\n",
       "       '2021-03-08T00:00:00.000000000', '2021-03-09T00:00:00.000000000',\n",
       "       '2021-03-10T00:00:00.000000000', '2021-03-11T00:00:00.000000000',\n",
       "       '2021-03-12T00:00:00.000000000', '2021-03-15T00:00:00.000000000',\n",
       "       '2021-03-16T00:00:00.000000000', '2021-03-17T00:00:00.000000000',\n",
       "       '2021-03-18T00:00:00.000000000', '2021-03-19T00:00:00.000000000',\n",
       "       '2021-03-22T00:00:00.000000000', '2021-03-23T00:00:00.000000000',\n",
       "       '2021-03-24T00:00:00.000000000', '2021-03-25T00:00:00.000000000',\n",
       "       '2021-03-26T00:00:00.000000000', '2021-03-29T00:00:00.000000000',\n",
       "       '2021-03-30T00:00:00.000000000', '2021-03-31T00:00:00.000000000',\n",
       "       '2021-04-01T00:00:00.000000000', '2021-04-05T00:00:00.000000000',\n",
       "       '2021-04-06T00:00:00.000000000', '2021-04-07T00:00:00.000000000',\n",
       "       '2021-04-08T00:00:00.000000000', '2021-04-09T00:00:00.000000000',\n",
       "       '2021-04-12T00:00:00.000000000', '2021-04-13T00:00:00.000000000',\n",
       "       '2021-04-14T00:00:00.000000000', '2021-04-15T00:00:00.000000000',\n",
       "       '2021-04-16T00:00:00.000000000', '2021-04-19T00:00:00.000000000',\n",
       "       '2021-04-20T00:00:00.000000000', '2021-04-22T00:00:00.000000000',\n",
       "       '2021-04-23T00:00:00.000000000', '2021-04-26T00:00:00.000000000',\n",
       "       '2021-04-27T00:00:00.000000000', '2021-04-28T00:00:00.000000000',\n",
       "       '2021-04-29T00:00:00.000000000', '2021-04-30T00:00:00.000000000',\n",
       "       '2021-05-03T00:00:00.000000000', '2021-05-04T00:00:00.000000000',\n",
       "       '2021-05-05T00:00:00.000000000', '2021-05-06T00:00:00.000000000',\n",
       "       '2021-05-07T00:00:00.000000000', '2021-05-10T00:00:00.000000000',\n",
       "       '2021-05-11T00:00:00.000000000', '2021-05-12T00:00:00.000000000',\n",
       "       '2021-05-13T00:00:00.000000000', '2021-05-14T00:00:00.000000000',\n",
       "       '2021-05-17T00:00:00.000000000', '2021-05-18T00:00:00.000000000',\n",
       "       '2021-05-19T00:00:00.000000000', '2021-05-20T00:00:00.000000000',\n",
       "       '2021-05-21T00:00:00.000000000', '2021-05-24T00:00:00.000000000',\n",
       "       '2021-05-25T00:00:00.000000000', '2021-05-26T00:00:00.000000000',\n",
       "       '2021-05-27T00:00:00.000000000', '2021-05-28T00:00:00.000000000',\n",
       "       '2021-05-31T00:00:00.000000000', '2021-06-01T00:00:00.000000000',\n",
       "       '2021-06-02T00:00:00.000000000', '2021-06-04T00:00:00.000000000',\n",
       "       '2021-06-07T00:00:00.000000000', '2021-06-08T00:00:00.000000000',\n",
       "       '2021-06-09T00:00:00.000000000', '2021-06-10T00:00:00.000000000',\n",
       "       '2021-06-11T00:00:00.000000000', '2021-06-14T00:00:00.000000000',\n",
       "       '2021-06-15T00:00:00.000000000', '2021-06-16T00:00:00.000000000',\n",
       "       '2021-06-17T00:00:00.000000000', '2021-06-18T00:00:00.000000000',\n",
       "       '2021-06-21T00:00:00.000000000', '2021-06-22T00:00:00.000000000',\n",
       "       '2021-06-23T00:00:00.000000000', '2021-06-24T00:00:00.000000000',\n",
       "       '2021-06-25T00:00:00.000000000', '2021-06-28T00:00:00.000000000',\n",
       "       '2021-06-29T00:00:00.000000000', '2021-06-30T00:00:00.000000000',\n",
       "       '2021-07-01T00:00:00.000000000', '2021-07-02T00:00:00.000000000',\n",
       "       '2021-07-05T00:00:00.000000000', '2021-07-06T00:00:00.000000000',\n",
       "       '2021-07-07T00:00:00.000000000', '2021-07-08T00:00:00.000000000',\n",
       "       '2021-07-12T00:00:00.000000000', '2021-07-13T00:00:00.000000000',\n",
       "       '2021-07-14T00:00:00.000000000', '2021-07-15T00:00:00.000000000',\n",
       "       '2021-07-16T00:00:00.000000000', '2021-07-19T00:00:00.000000000',\n",
       "       '2021-07-20T00:00:00.000000000', '2021-07-21T00:00:00.000000000',\n",
       "       '2021-07-22T00:00:00.000000000', '2021-07-23T00:00:00.000000000',\n",
       "       '2021-07-26T00:00:00.000000000', '2021-07-27T00:00:00.000000000',\n",
       "       '2021-07-28T00:00:00.000000000', '2021-07-29T00:00:00.000000000',\n",
       "       '2021-07-30T00:00:00.000000000', '2021-08-02T00:00:00.000000000',\n",
       "       '2021-08-03T00:00:00.000000000', '2021-08-04T00:00:00.000000000',\n",
       "       '2021-08-05T00:00:00.000000000', '2021-08-06T00:00:00.000000000',\n",
       "       '2021-08-09T00:00:00.000000000', '2021-08-10T00:00:00.000000000',\n",
       "       '2021-08-11T00:00:00.000000000', '2021-08-12T00:00:00.000000000',\n",
       "       '2021-08-13T00:00:00.000000000', '2021-08-16T00:00:00.000000000',\n",
       "       '2021-08-17T00:00:00.000000000', '2021-08-18T00:00:00.000000000',\n",
       "       '2021-08-19T00:00:00.000000000', '2021-08-20T00:00:00.000000000',\n",
       "       '2021-08-23T00:00:00.000000000', '2021-08-24T00:00:00.000000000',\n",
       "       '2021-08-25T00:00:00.000000000', '2021-08-26T00:00:00.000000000',\n",
       "       '2021-08-27T00:00:00.000000000', '2021-08-30T00:00:00.000000000',\n",
       "       '2021-08-31T00:00:00.000000000', '2021-09-01T00:00:00.000000000',\n",
       "       '2021-09-02T00:00:00.000000000', '2021-09-03T00:00:00.000000000',\n",
       "       '2021-09-06T00:00:00.000000000', '2021-09-08T00:00:00.000000000',\n",
       "       '2021-09-09T00:00:00.000000000', '2021-09-10T00:00:00.000000000',\n",
       "       '2021-09-13T00:00:00.000000000', '2021-09-14T00:00:00.000000000',\n",
       "       '2021-09-15T00:00:00.000000000', '2021-09-16T00:00:00.000000000',\n",
       "       '2021-09-17T00:00:00.000000000', '2021-09-20T00:00:00.000000000',\n",
       "       '2021-09-21T00:00:00.000000000', '2021-09-22T00:00:00.000000000',\n",
       "       '2021-09-23T00:00:00.000000000', '2021-09-24T00:00:00.000000000',\n",
       "       '2021-09-27T00:00:00.000000000', '2021-09-28T00:00:00.000000000',\n",
       "       '2021-09-29T00:00:00.000000000', '2021-09-30T00:00:00.000000000',\n",
       "       '2021-10-01T00:00:00.000000000', '2021-10-04T00:00:00.000000000',\n",
       "       '2021-10-05T00:00:00.000000000', '2021-10-06T00:00:00.000000000',\n",
       "       '2021-10-07T00:00:00.000000000', '2021-10-08T00:00:00.000000000',\n",
       "       '2021-10-11T00:00:00.000000000', '2021-10-13T00:00:00.000000000',\n",
       "       '2021-10-14T00:00:00.000000000', '2021-10-15T00:00:00.000000000',\n",
       "       '2021-10-18T00:00:00.000000000', '2021-10-19T00:00:00.000000000',\n",
       "       '2021-10-20T00:00:00.000000000', '2021-10-21T00:00:00.000000000',\n",
       "       '2021-10-22T00:00:00.000000000', '2021-10-25T00:00:00.000000000',\n",
       "       '2021-10-26T00:00:00.000000000', '2021-10-27T00:00:00.000000000',\n",
       "       '2021-10-28T00:00:00.000000000', '2021-10-29T00:00:00.000000000',\n",
       "       '2021-11-01T00:00:00.000000000', '2021-11-03T00:00:00.000000000',\n",
       "       '2021-11-04T00:00:00.000000000', '2021-11-05T00:00:00.000000000',\n",
       "       '2021-11-08T00:00:00.000000000', '2021-11-09T00:00:00.000000000',\n",
       "       '2021-11-10T00:00:00.000000000', '2021-11-11T00:00:00.000000000',\n",
       "       '2021-11-12T00:00:00.000000000', '2021-11-16T00:00:00.000000000',\n",
       "       '2021-11-17T00:00:00.000000000', '2021-11-18T00:00:00.000000000',\n",
       "       '2021-11-19T00:00:00.000000000', '2021-11-22T00:00:00.000000000',\n",
       "       '2021-11-23T00:00:00.000000000', '2021-11-24T00:00:00.000000000',\n",
       "       '2021-11-25T00:00:00.000000000', '2021-11-26T00:00:00.000000000',\n",
       "       '2021-11-29T00:00:00.000000000', '2021-11-30T00:00:00.000000000',\n",
       "       '2021-12-01T00:00:00.000000000', '2021-12-02T00:00:00.000000000',\n",
       "       '2021-12-03T00:00:00.000000000', '2021-12-06T00:00:00.000000000',\n",
       "       '2021-12-07T00:00:00.000000000', '2021-12-08T00:00:00.000000000',\n",
       "       '2021-12-09T00:00:00.000000000', '2021-12-10T00:00:00.000000000',\n",
       "       '2021-12-13T00:00:00.000000000', '2021-12-14T00:00:00.000000000',\n",
       "       '2021-12-15T00:00:00.000000000', '2021-12-16T00:00:00.000000000',\n",
       "       '2021-12-17T00:00:00.000000000', '2021-12-20T00:00:00.000000000',\n",
       "       '2021-12-21T00:00:00.000000000', '2021-12-22T00:00:00.000000000',\n",
       "       '2021-12-23T00:00:00.000000000', '2021-12-27T00:00:00.000000000',\n",
       "       '2021-12-28T00:00:00.000000000', '2021-12-29T00:00:00.000000000',\n",
       "       '2021-12-30T00:00:00.000000000'], dtype='datetime64[ns]')"
      ]
     },
     "execution_count": 633,
     "metadata": {},
     "output_type": "execute_result"
    }
   ],
   "source": [
    "df_petro.Date.unique()"
   ]
  },
  {
   "cell_type": "code",
   "execution_count": null,
   "metadata": {},
   "outputs": [],
   "source": []
  },
  {
   "cell_type": "code",
   "execution_count": 635,
   "metadata": {},
   "outputs": [],
   "source": [
    "df_petro['Date'] = df_petro['Date'].apply(lambda x: pd.to_datetime(str(x) ))\n",
    "df_news_diaria['Date'] = df_news_diaria['Date'].apply(lambda x: pd.to_datetime(str(x) ))"
   ]
  },
  {
   "cell_type": "code",
   "execution_count": null,
   "metadata": {},
   "outputs": [],
   "source": []
  },
  {
   "cell_type": "code",
   "execution_count": 636,
   "metadata": {},
   "outputs": [
    {
     "data": {
      "text/plain": [
       "numpy.datetime64('2021-01-08T00:00:00.000000000')"
      ]
     },
     "execution_count": 636,
     "metadata": {},
     "output_type": "execute_result"
    }
   ],
   "source": [
    "teste = df_petro.Date.unique()[4]\n",
    "teste"
   ]
  },
  {
   "cell_type": "code",
   "execution_count": 637,
   "metadata": {},
   "outputs": [
    {
     "data": {
      "text/plain": [
       "numpy.datetime64('2021-01-08T00:00:00.000000000')"
      ]
     },
     "execution_count": 637,
     "metadata": {},
     "output_type": "execute_result"
    }
   ],
   "source": [
    "teste3 = df_petro.Date.unique()[4]\n",
    "teste3"
   ]
  },
  {
   "cell_type": "code",
   "execution_count": 638,
   "metadata": {},
   "outputs": [
    {
     "data": {
      "text/plain": [
       "True"
      ]
     },
     "execution_count": 638,
     "metadata": {},
     "output_type": "execute_result"
    }
   ],
   "source": [
    "teste == teste3"
   ]
  },
  {
   "cell_type": "code",
   "execution_count": null,
   "metadata": {},
   "outputs": [],
   "source": []
  },
  {
   "cell_type": "code",
   "execution_count": 629,
   "metadata": {},
   "outputs": [
    {
     "data": {
      "text/plain": [
       "Timestamp('2021-01-08 00:00:00')"
      ]
     },
     "execution_count": 629,
     "metadata": {},
     "output_type": "execute_result"
    }
   ],
   "source": [
    "ts = pd.to_datetime(str(teste)) \n",
    "ts"
   ]
  },
  {
   "cell_type": "code",
   "execution_count": null,
   "metadata": {},
   "outputs": [],
   "source": []
  },
  {
   "cell_type": "code",
   "execution_count": null,
   "metadata": {},
   "outputs": [],
   "source": []
  },
  {
   "cell_type": "code",
   "execution_count": null,
   "metadata": {},
   "outputs": [],
   "source": []
  },
  {
   "cell_type": "code",
   "execution_count": null,
   "metadata": {},
   "outputs": [],
   "source": []
  },
  {
   "cell_type": "code",
   "execution_count": null,
   "metadata": {},
   "outputs": [],
   "source": []
  },
  {
   "cell_type": "code",
   "execution_count": null,
   "metadata": {},
   "outputs": [],
   "source": []
  },
  {
   "cell_type": "markdown",
   "metadata": {},
   "source": [
    "## 4.8 Concatenando dataframe de pregões e noticias.\n",
    "\n",
    "As seguintes regras serão aplicadas:\n",
    "- O próximo dia útil após o periodo sem pregões deverá consolidar as noticias acumuladas dos dias sem pregões.\n",
    "- O dataset deverá conter apenas as datas em que ocorreu o pregão"
   ]
  },
  {
   "cell_type": "markdown",
   "metadata": {},
   "source": [
    "# 5.0 Inputação de polaridade de novos termos ao dicionário SentilexPT\n",
    "\n",
    "Será realizado o levantamento das palavras mais frequentes em notícias para inputação de polaridade no dicionário SentilexPT caso não existam ainda."
   ]
  },
  {
   "cell_type": "markdown",
   "metadata": {},
   "source": [
    "## 5.1 Bag of Words"
   ]
  },
  {
   "cell_type": "code",
   "execution_count": null,
   "metadata": {},
   "outputs": [],
   "source": []
  },
  {
   "cell_type": "code",
   "execution_count": null,
   "metadata": {},
   "outputs": [],
   "source": [
    "# 6.0"
   ]
  }
 ],
 "metadata": {
  "kernelspec": {
   "display_name": "Python 3",
   "language": "python",
   "name": "python3"
  },
  "language_info": {
   "codemirror_mode": {
    "name": "ipython",
    "version": 3
   },
   "file_extension": ".py",
   "mimetype": "text/x-python",
   "name": "python",
   "nbconvert_exporter": "python",
   "pygments_lexer": "ipython3",
   "version": "3.8.3"
  }
 },
 "nbformat": 4,
 "nbformat_minor": 4
}
