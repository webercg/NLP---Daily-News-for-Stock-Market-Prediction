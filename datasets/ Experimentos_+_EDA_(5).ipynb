{
 "cells": [
  {
   "cell_type": "markdown",
   "metadata": {
    "colab_type": "text",
    "id": "view-in-github"
   },
   "source": [
    "<a href=\"https://colab.research.google.com/github/webercg/NLP---Daily-News-for-Stock-Market-Prediction/blob/main/Experimentos_%2B_EDA_(5).ipynb\" target=\"_parent\"><img src=\"https://colab.research.google.com/assets/colab-badge.svg\" alt=\"Open In Colab\"/></a>"
   ]
  },
  {
   "cell_type": "markdown",
   "metadata": {
    "id": "2aMeKxD1txAj"
   },
   "source": [
    "# 1.0 Importação de bibliotecas"
   ]
  },
  {
   "cell_type": "code",
   "execution_count": 1,
   "metadata": {
    "id": "ZuRBXqqwuLZC"
   },
   "outputs": [],
   "source": [
    "#pip install lazypredict\n",
    "#pip install googletrans==4.0.0-rc1\n",
    "#pip install textblob\n",
    "#pip install vaderSentiment"
   ]
  },
  {
   "cell_type": "code",
   "execution_count": 2,
   "metadata": {
    "colab": {
     "base_uri": "https://localhost:8080/"
    },
    "id": "PN29buKktxAm",
    "outputId": "e8938888-c6bb-40b8-a50c-a8e1b3a39e76"
   },
   "outputs": [
    {
     "name": "stderr",
     "output_type": "stream",
     "text": [
      "C:\\Users\\HP ZBook 15\\AppData\\Roaming\\Python\\Python38\\site-packages\\sklearn\\utils\\deprecation.py:143: FutureWarning: The sklearn.utils.testing module is  deprecated in version 0.22 and will be removed in version 0.24. The corresponding classes / functions should instead be imported from sklearn.utils. Anything that cannot be imported from sklearn.utils is now part of the private API.\n",
      "  warnings.warn(message, FutureWarning)\n"
     ]
    }
   ],
   "source": [
    "#Manipulação de dados\n",
    "import pandas as pd\n",
    "import numpy as np\n",
    "\n",
    "#Visualização de dados\n",
    "import seaborn as sns\n",
    "import matplotlib.pyplot as plt\n",
    "\n",
    "#Manipulação datas\n",
    "from datetime import datetime\n",
    "\n",
    "# Prototipação\n",
    "from lazypredict.Supervised import LazyClassifier\n",
    "\n",
    "\n",
    "#Pipeline e pré-process\n",
    "from imblearn.pipeline import Pipeline\n",
    "from sklearn.model_selection import train_test_split\n",
    "from imblearn.under_sampling import NearMiss\n",
    "from imblearn.over_sampling import SMOTE\n",
    "from sklearn.decomposition import PCA\n",
    "from sklearn.preprocessing import StandardScaler\n",
    "\n",
    "\n",
    "#Models\n",
    "from sklearn.naive_bayes import GaussianNB\n",
    "from sklearn.naive_bayes import BernoulliNB\n",
    "from sklearn.linear_model import PassiveAggressiveClassifier\n",
    "from sklearn.discriminant_analysis import QuadraticDiscriminantAnalysis\n",
    "from lightgbm import LGBMClassifier\n",
    "from sklearn.ensemble import RandomForestClassifier\n",
    "from sklearn.neighbors import NearestCentroid\n",
    "from sklearn.svm import NuSVC\n",
    "from xgboost import XGBClassifier\n",
    "from sklearn.linear_model import SGDClassifier\n",
    "from sklearn.linear_model import Perceptron\n",
    "from sklearn.tree import DecisionTreeClassifier\n",
    "from sklearn.neural_network import MLPClassifier \n",
    "from sklearn.neighbors import KNeighborsClassifier\n",
    "\n",
    "#Model Tunning\n",
    "from sklearn.model_selection import GridSearchCV\n",
    "\n",
    "#Model evaluation\n",
    "from sklearn.metrics import make_scorer\n",
    "from sklearn.metrics import f1_score\n",
    "from sklearn.metrics import accuracy_score\n",
    "from sklearn.metrics import recall_score\n",
    "from sklearn.metrics import roc_auc_score\n",
    "from sklearn.metrics import balanced_accuracy_score\n",
    "from sklearn.model_selection import cross_val_score, KFold\n",
    "from sklearn.metrics import accuracy_score, classification_report, confusion_matrix"
   ]
  },
  {
   "cell_type": "markdown",
   "metadata": {
    "id": "p4mHHQMbtxAo"
   },
   "source": [
    "# 2.0 Leitura dos arquivos"
   ]
  },
  {
   "cell_type": "markdown",
   "metadata": {
    "id": "tO4Xua-RtxAp"
   },
   "source": [
    "## Leitura de Noticias"
   ]
  },
  {
   "cell_type": "code",
   "execution_count": 3,
   "metadata": {
    "id": "-B_PgkNBtxAp"
   },
   "outputs": [],
   "source": [
    "dicionario_mes = {'Jan':'01', 'Fev':'02', 'Mar':'03','Abr':'04', 'Mai':'05', 'Jun':'06','Jul':'07', 'Ago':'08', 'Set':'09','Out':'10', 'Nov':'11', 'Dec':'12'}"
   ]
  },
  {
   "cell_type": "code",
   "execution_count": 6,
   "metadata": {
    "id": "Qb9CxoJdtxAp"
   },
   "outputs": [],
   "source": [
    "df = pd.DataFrame()\n",
    "\n",
    "for i in dicionario_mes.keys():\n",
    "    arquivo = \"dataset-2021/\" + dicionario_mes[i] + \"_GoogleNews_Petr_\" + i + \"_21.csv\"\n",
    "    df_leitura = pd.read_csv(arquivo, sep='|')\n",
    "    df = df.append(df_leitura,ignore_index=True)"
   ]
  },
  {
   "cell_type": "code",
   "execution_count": 7,
   "metadata": {
    "colab": {
     "base_uri": "https://localhost:8080/",
     "height": 206
    },
    "id": "hd8eSD9FtxAq",
    "outputId": "e56316da-fa01-44b8-d2ff-97ead71ec250"
   },
   "outputs": [
    {
     "data": {
      "text/html": [
       "<div>\n",
       "<style scoped>\n",
       "    .dataframe tbody tr th:only-of-type {\n",
       "        vertical-align: middle;\n",
       "    }\n",
       "\n",
       "    .dataframe tbody tr th {\n",
       "        vertical-align: top;\n",
       "    }\n",
       "\n",
       "    .dataframe thead th {\n",
       "        text-align: right;\n",
       "    }\n",
       "</style>\n",
       "<table border=\"1\" class=\"dataframe\">\n",
       "  <thead>\n",
       "    <tr style=\"text-align: right;\">\n",
       "      <th></th>\n",
       "      <th>title</th>\n",
       "      <th>media</th>\n",
       "      <th>date</th>\n",
       "      <th>desc</th>\n",
       "    </tr>\n",
       "  </thead>\n",
       "  <tbody>\n",
       "    <tr>\n",
       "      <th>0</th>\n",
       "      <td>A construção naval brasileira tem chances de a...</td>\n",
       "      <td>CPG Click Petroleo e Gas</td>\n",
       "      <td>01/01/2021</td>\n",
       "      <td>Dentre os principais pontos do plano estratégi...</td>\n",
       "    </tr>\n",
       "    <tr>\n",
       "      <th>1</th>\n",
       "      <td>Refinaria Abreu e Lima da Petrobras, a RNEST p...</td>\n",
       "      <td>CPG Click Petroleo e Gas</td>\n",
       "      <td>01/01/2021</td>\n",
       "      <td>Petrobras informou em fato relevante na última...</td>\n",
       "    </tr>\n",
       "    <tr>\n",
       "      <th>2</th>\n",
       "      <td>5 Dicas de Tony Robbins para Ficar Rico Invest...</td>\n",
       "      <td>The Capital Advisor</td>\n",
       "      <td>01/01/2021</td>\n",
       "      <td>O QUE LER AGORA... ibovespa-sobe-021-apos-demi...</td>\n",
       "    </tr>\n",
       "    <tr>\n",
       "      <th>3</th>\n",
       "      <td>Acadêmicos de engenharia Mecânica criam projet...</td>\n",
       "      <td>CPG Click Petroleo e Gas</td>\n",
       "      <td>01/01/2021</td>\n",
       "      <td>Petrobras cancela a venda da fábrica de fertil...</td>\n",
       "    </tr>\n",
       "    <tr>\n",
       "      <th>4</th>\n",
       "      <td>Multinacional dinamarquesa European Energy faz...</td>\n",
       "      <td>CPG Click Petroleo e Gas</td>\n",
       "      <td>01/01/2021</td>\n",
       "      <td>Petrobras encerra sociedade com a Sete Brasil ...</td>\n",
       "    </tr>\n",
       "  </tbody>\n",
       "</table>\n",
       "</div>"
      ],
      "text/plain": [
       "                                               title  \\\n",
       "0  A construção naval brasileira tem chances de a...   \n",
       "1  Refinaria Abreu e Lima da Petrobras, a RNEST p...   \n",
       "2  5 Dicas de Tony Robbins para Ficar Rico Invest...   \n",
       "3  Acadêmicos de engenharia Mecânica criam projet...   \n",
       "4  Multinacional dinamarquesa European Energy faz...   \n",
       "\n",
       "                      media        date  \\\n",
       "0  CPG Click Petroleo e Gas  01/01/2021   \n",
       "1  CPG Click Petroleo e Gas  01/01/2021   \n",
       "2       The Capital Advisor  01/01/2021   \n",
       "3  CPG Click Petroleo e Gas  01/01/2021   \n",
       "4  CPG Click Petroleo e Gas  01/01/2021   \n",
       "\n",
       "                                                desc  \n",
       "0  Dentre os principais pontos do plano estratégi...  \n",
       "1  Petrobras informou em fato relevante na última...  \n",
       "2  O QUE LER AGORA... ibovespa-sobe-021-apos-demi...  \n",
       "3  Petrobras cancela a venda da fábrica de fertil...  \n",
       "4  Petrobras encerra sociedade com a Sete Brasil ...  "
      ]
     },
     "execution_count": 7,
     "metadata": {},
     "output_type": "execute_result"
    }
   ],
   "source": [
    "df.head()"
   ]
  },
  {
   "cell_type": "code",
   "execution_count": 8,
   "metadata": {
    "colab": {
     "base_uri": "https://localhost:8080/"
    },
    "id": "99DfjCBdtxAq",
    "outputId": "b228b5af-afbe-43ef-fd14-8947ac8d8a5f"
   },
   "outputs": [
    {
     "data": {
      "text/plain": [
       "title            object\n",
       "media            object\n",
       "date     datetime64[ns]\n",
       "desc             object\n",
       "dtype: object"
      ]
     },
     "execution_count": 8,
     "metadata": {},
     "output_type": "execute_result"
    }
   ],
   "source": [
    "#Transformando coluna data para datetime:\n",
    "df['date'] = pd.to_datetime(df['date'])\n",
    "df.dtypes"
   ]
  },
  {
   "cell_type": "markdown",
   "metadata": {
    "id": "HgmSTyGOtxAq"
   },
   "source": [
    "## Leitura dos pregões"
   ]
  },
  {
   "cell_type": "code",
   "execution_count": 10,
   "metadata": {
    "colab": {
     "base_uri": "https://localhost:8080/",
     "height": 206
    },
    "id": "nZ9C4JR0txAr",
    "outputId": "40fa09ec-64b3-4e58-e940-b2a1b94822d3"
   },
   "outputs": [
    {
     "data": {
      "text/html": [
       "<div>\n",
       "<style scoped>\n",
       "    .dataframe tbody tr th:only-of-type {\n",
       "        vertical-align: middle;\n",
       "    }\n",
       "\n",
       "    .dataframe tbody tr th {\n",
       "        vertical-align: top;\n",
       "    }\n",
       "\n",
       "    .dataframe thead th {\n",
       "        text-align: right;\n",
       "    }\n",
       "</style>\n",
       "<table border=\"1\" class=\"dataframe\">\n",
       "  <thead>\n",
       "    <tr style=\"text-align: right;\">\n",
       "      <th></th>\n",
       "      <th>Date</th>\n",
       "      <th>Adj Close</th>\n",
       "      <th>Volume</th>\n",
       "      <th>Var%</th>\n",
       "    </tr>\n",
       "  </thead>\n",
       "  <tbody>\n",
       "    <tr>\n",
       "      <th>0</th>\n",
       "      <td>2021-01-04</td>\n",
       "      <td>19.27</td>\n",
       "      <td>74719700</td>\n",
       "      <td>0.02</td>\n",
       "    </tr>\n",
       "    <tr>\n",
       "      <th>1</th>\n",
       "      <td>2021-01-05</td>\n",
       "      <td>20.03</td>\n",
       "      <td>95181100</td>\n",
       "      <td>0.04</td>\n",
       "    </tr>\n",
       "    <tr>\n",
       "      <th>2</th>\n",
       "      <td>2021-01-06</td>\n",
       "      <td>20.07</td>\n",
       "      <td>96562500</td>\n",
       "      <td>0.00</td>\n",
       "    </tr>\n",
       "    <tr>\n",
       "      <th>3</th>\n",
       "      <td>2021-01-07</td>\n",
       "      <td>20.67</td>\n",
       "      <td>56171300</td>\n",
       "      <td>0.03</td>\n",
       "    </tr>\n",
       "    <tr>\n",
       "      <th>4</th>\n",
       "      <td>2021-01-08</td>\n",
       "      <td>20.75</td>\n",
       "      <td>67136300</td>\n",
       "      <td>0.00</td>\n",
       "    </tr>\n",
       "  </tbody>\n",
       "</table>\n",
       "</div>"
      ],
      "text/plain": [
       "         Date  Adj Close    Volume  Var%\n",
       "0  2021-01-04      19.27  74719700  0.02\n",
       "1  2021-01-05      20.03  95181100  0.04\n",
       "2  2021-01-06      20.07  96562500  0.00\n",
       "3  2021-01-07      20.67  56171300  0.03\n",
       "4  2021-01-08      20.75  67136300  0.00"
      ]
     },
     "execution_count": 10,
     "metadata": {},
     "output_type": "execute_result"
    }
   ],
   "source": [
    "df_petro = pd.read_csv('dataset-2021/Hist_Preço_Petr_2021_.csv', sep='|')\n",
    "df_petro.head()"
   ]
  },
  {
   "cell_type": "code",
   "execution_count": 11,
   "metadata": {
    "colab": {
     "base_uri": "https://localhost:8080/"
    },
    "id": "XY073J92txAr",
    "outputId": "a2107dbd-347d-48ce-a603-b899cfeeba82"
   },
   "outputs": [
    {
     "data": {
      "text/plain": [
       "Date         datetime64[ns]\n",
       "Adj Close           float64\n",
       "Volume                int64\n",
       "Var%                float64\n",
       "dtype: object"
      ]
     },
     "execution_count": 11,
     "metadata": {},
     "output_type": "execute_result"
    }
   ],
   "source": [
    "#Transformando a coluna Date para datetime\n",
    "df_petro['Date'] = pd.to_datetime(df_petro['Date'])\n",
    "df_petro.dtypes"
   ]
  },
  {
   "cell_type": "markdown",
   "metadata": {
    "id": "h8nD2odmtxAr"
   },
   "source": [
    "# 3.0 EDA\n",
    "**H1:** Há uma média razoável de noticias diárias   - **VERDADEIRO**  \n",
    "**H2:** Há poucos dias sem noticias na base de dados  - **VERDADEIRO**   \n",
    "**H3:** Há dias em que o pregão da bolsa não funciona (Finais de Semana) **VERDADEIRO**  \n",
    "**H4:**  \n",
    "**H5:**  "
   ]
  },
  {
   "cell_type": "markdown",
   "metadata": {
    "id": "m_6mzAJKtxAs"
   },
   "source": [
    "## 3.1 H1: Há uma média razoável de noticias diárias"
   ]
  },
  {
   "cell_type": "code",
   "execution_count": 12,
   "metadata": {
    "colab": {
     "base_uri": "https://localhost:8080/"
    },
    "id": "a7_it2batxAs",
    "outputId": "2a83b32f-4099-48d0-bdf5-e761a71ba2f1"
   },
   "outputs": [
    {
     "data": {
      "text/plain": [
       "2021-08-05    10\n",
       "2021-03-10    10\n",
       "2021-05-21    10\n",
       "2021-11-06    10\n",
       "2021-03-03    10\n",
       "              ..\n",
       "2021-03-22     2\n",
       "2021-04-04     2\n",
       "2021-02-14     2\n",
       "2021-08-15     2\n",
       "2021-07-25     1\n",
       "Name: date, Length: 327, dtype: int64"
      ]
     },
     "execution_count": 12,
     "metadata": {},
     "output_type": "execute_result"
    }
   ],
   "source": [
    "df.date.value_counts()"
   ]
  },
  {
   "cell_type": "code",
   "execution_count": 13,
   "metadata": {
    "colab": {
     "base_uri": "https://localhost:8080/",
     "height": 423
    },
    "id": "cj5ciqbItxAs",
    "outputId": "32aed6a7-b1d2-4624-c82d-f5e4346c08e0"
   },
   "outputs": [
    {
     "data": {
      "text/html": [
       "<div>\n",
       "<style scoped>\n",
       "    .dataframe tbody tr th:only-of-type {\n",
       "        vertical-align: middle;\n",
       "    }\n",
       "\n",
       "    .dataframe tbody tr th {\n",
       "        vertical-align: top;\n",
       "    }\n",
       "\n",
       "    .dataframe thead th {\n",
       "        text-align: right;\n",
       "    }\n",
       "</style>\n",
       "<table border=\"1\" class=\"dataframe\">\n",
       "  <thead>\n",
       "    <tr style=\"text-align: right;\">\n",
       "      <th></th>\n",
       "      <th>index</th>\n",
       "      <th>date</th>\n",
       "    </tr>\n",
       "  </thead>\n",
       "  <tbody>\n",
       "    <tr>\n",
       "      <th>0</th>\n",
       "      <td>2021-08-05</td>\n",
       "      <td>10</td>\n",
       "    </tr>\n",
       "    <tr>\n",
       "      <th>1</th>\n",
       "      <td>2021-03-10</td>\n",
       "      <td>10</td>\n",
       "    </tr>\n",
       "    <tr>\n",
       "      <th>2</th>\n",
       "      <td>2021-05-21</td>\n",
       "      <td>10</td>\n",
       "    </tr>\n",
       "    <tr>\n",
       "      <th>3</th>\n",
       "      <td>2021-11-06</td>\n",
       "      <td>10</td>\n",
       "    </tr>\n",
       "    <tr>\n",
       "      <th>4</th>\n",
       "      <td>2021-03-03</td>\n",
       "      <td>10</td>\n",
       "    </tr>\n",
       "    <tr>\n",
       "      <th>...</th>\n",
       "      <td>...</td>\n",
       "      <td>...</td>\n",
       "    </tr>\n",
       "    <tr>\n",
       "      <th>322</th>\n",
       "      <td>2021-03-22</td>\n",
       "      <td>2</td>\n",
       "    </tr>\n",
       "    <tr>\n",
       "      <th>323</th>\n",
       "      <td>2021-04-04</td>\n",
       "      <td>2</td>\n",
       "    </tr>\n",
       "    <tr>\n",
       "      <th>324</th>\n",
       "      <td>2021-02-14</td>\n",
       "      <td>2</td>\n",
       "    </tr>\n",
       "    <tr>\n",
       "      <th>325</th>\n",
       "      <td>2021-08-15</td>\n",
       "      <td>2</td>\n",
       "    </tr>\n",
       "    <tr>\n",
       "      <th>326</th>\n",
       "      <td>2021-07-25</td>\n",
       "      <td>1</td>\n",
       "    </tr>\n",
       "  </tbody>\n",
       "</table>\n",
       "<p>327 rows × 2 columns</p>\n",
       "</div>"
      ],
      "text/plain": [
       "         index  date\n",
       "0   2021-08-05    10\n",
       "1   2021-03-10    10\n",
       "2   2021-05-21    10\n",
       "3   2021-11-06    10\n",
       "4   2021-03-03    10\n",
       "..         ...   ...\n",
       "322 2021-03-22     2\n",
       "323 2021-04-04     2\n",
       "324 2021-02-14     2\n",
       "325 2021-08-15     2\n",
       "326 2021-07-25     1\n",
       "\n",
       "[327 rows x 2 columns]"
      ]
     },
     "execution_count": 13,
     "metadata": {},
     "output_type": "execute_result"
    }
   ],
   "source": [
    "# Coletando as datas e as frequencias de noticias:\n",
    "datas = df.date.value_counts()  \n",
    "data_df = datas.reset_index()\n",
    "data_df"
   ]
  },
  {
   "cell_type": "code",
   "execution_count": 14,
   "metadata": {
    "colab": {
     "base_uri": "https://localhost:8080/"
    },
    "id": "e-Y7ggGStxAs",
    "outputId": "3a700118-72ff-4ad9-b438-8b3db46ab027"
   },
   "outputs": [
    {
     "data": {
      "text/plain": [
       "index    datetime64[ns]\n",
       "date              int64\n",
       "dtype: object"
      ]
     },
     "execution_count": 14,
     "metadata": {},
     "output_type": "execute_result"
    }
   ],
   "source": [
    "#Visualizando os tipos dos dados\n",
    "data_df.dtypes"
   ]
  },
  {
   "cell_type": "code",
   "execution_count": 15,
   "metadata": {
    "colab": {
     "base_uri": "https://localhost:8080/",
     "height": 423
    },
    "id": "agYKEw3KtxAt",
    "outputId": "22431ff6-a83b-40e8-be7f-72e39f76a0f9"
   },
   "outputs": [
    {
     "data": {
      "text/html": [
       "<div>\n",
       "<style scoped>\n",
       "    .dataframe tbody tr th:only-of-type {\n",
       "        vertical-align: middle;\n",
       "    }\n",
       "\n",
       "    .dataframe tbody tr th {\n",
       "        vertical-align: top;\n",
       "    }\n",
       "\n",
       "    .dataframe thead th {\n",
       "        text-align: right;\n",
       "    }\n",
       "</style>\n",
       "<table border=\"1\" class=\"dataframe\">\n",
       "  <thead>\n",
       "    <tr style=\"text-align: right;\">\n",
       "      <th></th>\n",
       "      <th>index</th>\n",
       "      <th>date</th>\n",
       "    </tr>\n",
       "  </thead>\n",
       "  <tbody>\n",
       "    <tr>\n",
       "      <th>0</th>\n",
       "      <td>2021-08-05</td>\n",
       "      <td>10</td>\n",
       "    </tr>\n",
       "    <tr>\n",
       "      <th>1</th>\n",
       "      <td>2021-03-10</td>\n",
       "      <td>10</td>\n",
       "    </tr>\n",
       "    <tr>\n",
       "      <th>2</th>\n",
       "      <td>2021-05-21</td>\n",
       "      <td>10</td>\n",
       "    </tr>\n",
       "    <tr>\n",
       "      <th>3</th>\n",
       "      <td>2021-11-06</td>\n",
       "      <td>10</td>\n",
       "    </tr>\n",
       "    <tr>\n",
       "      <th>4</th>\n",
       "      <td>2021-03-03</td>\n",
       "      <td>10</td>\n",
       "    </tr>\n",
       "    <tr>\n",
       "      <th>...</th>\n",
       "      <td>...</td>\n",
       "      <td>...</td>\n",
       "    </tr>\n",
       "    <tr>\n",
       "      <th>322</th>\n",
       "      <td>2021-03-22</td>\n",
       "      <td>2</td>\n",
       "    </tr>\n",
       "    <tr>\n",
       "      <th>323</th>\n",
       "      <td>2021-04-04</td>\n",
       "      <td>2</td>\n",
       "    </tr>\n",
       "    <tr>\n",
       "      <th>324</th>\n",
       "      <td>2021-02-14</td>\n",
       "      <td>2</td>\n",
       "    </tr>\n",
       "    <tr>\n",
       "      <th>325</th>\n",
       "      <td>2021-08-15</td>\n",
       "      <td>2</td>\n",
       "    </tr>\n",
       "    <tr>\n",
       "      <th>326</th>\n",
       "      <td>2021-07-25</td>\n",
       "      <td>1</td>\n",
       "    </tr>\n",
       "  </tbody>\n",
       "</table>\n",
       "<p>327 rows × 2 columns</p>\n",
       "</div>"
      ],
      "text/plain": [
       "         index  date\n",
       "0   2021-08-05    10\n",
       "1   2021-03-10    10\n",
       "2   2021-05-21    10\n",
       "3   2021-11-06    10\n",
       "4   2021-03-03    10\n",
       "..         ...   ...\n",
       "322 2021-03-22     2\n",
       "323 2021-04-04     2\n",
       "324 2021-02-14     2\n",
       "325 2021-08-15     2\n",
       "326 2021-07-25     1\n",
       "\n",
       "[327 rows x 2 columns]"
      ]
     },
     "execution_count": 15,
     "metadata": {},
     "output_type": "execute_result"
    }
   ],
   "source": [
    "#Alterando para o formato datetime\n",
    "data_df['index'] = pd.to_datetime(data_df['index'])\n",
    "data_df"
   ]
  },
  {
   "cell_type": "code",
   "execution_count": 16,
   "metadata": {
    "colab": {
     "base_uri": "https://localhost:8080/",
     "height": 206
    },
    "id": "yPwAQmMdtxAt",
    "outputId": "0d4bc8c2-2d55-4445-b627-2c2e143516d6"
   },
   "outputs": [
    {
     "data": {
      "text/html": [
       "<div>\n",
       "<style scoped>\n",
       "    .dataframe tbody tr th:only-of-type {\n",
       "        vertical-align: middle;\n",
       "    }\n",
       "\n",
       "    .dataframe tbody tr th {\n",
       "        vertical-align: top;\n",
       "    }\n",
       "\n",
       "    .dataframe thead th {\n",
       "        text-align: right;\n",
       "    }\n",
       "</style>\n",
       "<table border=\"1\" class=\"dataframe\">\n",
       "  <thead>\n",
       "    <tr style=\"text-align: right;\">\n",
       "      <th></th>\n",
       "      <th>index</th>\n",
       "      <th>date</th>\n",
       "    </tr>\n",
       "  </thead>\n",
       "  <tbody>\n",
       "    <tr>\n",
       "      <th>243</th>\n",
       "      <td>2021-12-27</td>\n",
       "      <td>10</td>\n",
       "    </tr>\n",
       "    <tr>\n",
       "      <th>100</th>\n",
       "      <td>2021-12-28</td>\n",
       "      <td>10</td>\n",
       "    </tr>\n",
       "    <tr>\n",
       "      <th>38</th>\n",
       "      <td>2021-12-29</td>\n",
       "      <td>10</td>\n",
       "    </tr>\n",
       "    <tr>\n",
       "      <th>193</th>\n",
       "      <td>2021-12-30</td>\n",
       "      <td>10</td>\n",
       "    </tr>\n",
       "    <tr>\n",
       "      <th>58</th>\n",
       "      <td>2021-12-31</td>\n",
       "      <td>10</td>\n",
       "    </tr>\n",
       "  </tbody>\n",
       "</table>\n",
       "</div>"
      ],
      "text/plain": [
       "         index  date\n",
       "243 2021-12-27    10\n",
       "100 2021-12-28    10\n",
       "38  2021-12-29    10\n",
       "193 2021-12-30    10\n",
       "58  2021-12-31    10"
      ]
     },
     "execution_count": 16,
     "metadata": {},
     "output_type": "execute_result"
    }
   ],
   "source": [
    "# Organizando o dataframe em ordem cronologica\n",
    "data_df.sort_values(by = 'index', ascending = True, inplace = True) \n",
    "data_df.tail()"
   ]
  },
  {
   "cell_type": "code",
   "execution_count": 17,
   "metadata": {
    "colab": {
     "base_uri": "https://localhost:8080/",
     "height": 300
    },
    "id": "biwnoCVRtxAt",
    "outputId": "6addc441-9576-47f1-9eb7-259209b59c7c"
   },
   "outputs": [
    {
     "data": {
      "text/html": [
       "<div>\n",
       "<style scoped>\n",
       "    .dataframe tbody tr th:only-of-type {\n",
       "        vertical-align: middle;\n",
       "    }\n",
       "\n",
       "    .dataframe tbody tr th {\n",
       "        vertical-align: top;\n",
       "    }\n",
       "\n",
       "    .dataframe thead th {\n",
       "        text-align: right;\n",
       "    }\n",
       "</style>\n",
       "<table border=\"1\" class=\"dataframe\">\n",
       "  <thead>\n",
       "    <tr style=\"text-align: right;\">\n",
       "      <th></th>\n",
       "      <th>date</th>\n",
       "    </tr>\n",
       "  </thead>\n",
       "  <tbody>\n",
       "    <tr>\n",
       "      <th>count</th>\n",
       "      <td>327.00</td>\n",
       "    </tr>\n",
       "    <tr>\n",
       "      <th>mean</th>\n",
       "      <td>9.25</td>\n",
       "    </tr>\n",
       "    <tr>\n",
       "      <th>std</th>\n",
       "      <td>1.77</td>\n",
       "    </tr>\n",
       "    <tr>\n",
       "      <th>min</th>\n",
       "      <td>1.00</td>\n",
       "    </tr>\n",
       "    <tr>\n",
       "      <th>25%</th>\n",
       "      <td>10.00</td>\n",
       "    </tr>\n",
       "    <tr>\n",
       "      <th>50%</th>\n",
       "      <td>10.00</td>\n",
       "    </tr>\n",
       "    <tr>\n",
       "      <th>75%</th>\n",
       "      <td>10.00</td>\n",
       "    </tr>\n",
       "    <tr>\n",
       "      <th>max</th>\n",
       "      <td>10.00</td>\n",
       "    </tr>\n",
       "  </tbody>\n",
       "</table>\n",
       "</div>"
      ],
      "text/plain": [
       "        date\n",
       "count 327.00\n",
       "mean    9.25\n",
       "std     1.77\n",
       "min     1.00\n",
       "25%    10.00\n",
       "50%    10.00\n",
       "75%    10.00\n",
       "max    10.00"
      ]
     },
     "execution_count": 17,
     "metadata": {},
     "output_type": "execute_result"
    }
   ],
   "source": [
    "data_df.describe()"
   ]
  },
  {
   "cell_type": "markdown",
   "metadata": {
    "id": "Nzeedf5AtxAu"
   },
   "source": [
    "Há uma média de 9.25 (+- 2) noticias por dia"
   ]
  },
  {
   "cell_type": "code",
   "execution_count": 18,
   "metadata": {
    "colab": {
     "base_uri": "https://localhost:8080/",
     "height": 297
    },
    "id": "9wB_P6UftxAu",
    "outputId": "2fc2e09b-92f0-437a-e045-8310926a7d45"
   },
   "outputs": [
    {
     "data": {
      "text/plain": [
       "<matplotlib.axes._subplots.AxesSubplot at 0x1cd44c24fa0>"
      ]
     },
     "execution_count": 18,
     "metadata": {},
     "output_type": "execute_result"
    },
    {
     "data": {
      "image/png": "[encoded data removed]",
      "text/plain": [
       "<Figure size 432x288 with 1 Axes>"
      ]
     },
     "metadata": {
      "needs_background": "light"
     },
     "output_type": "display_data"
    }
   ],
   "source": [
    "#Visualizando data vs quantidade de notícias\n",
    "data_df.columns = ['Datas', 'Num_Noticias']\n",
    "sns.lineplot(x = 'Datas', y = 'Num_Noticias', data = data_df)"
   ]
  },
  {
   "cell_type": "code",
   "execution_count": 19,
   "metadata": {
    "colab": {
     "base_uri": "https://localhost:8080/",
     "height": 457
    },
    "id": "HDk-58udtxAu",
    "outputId": "7e498c71-66b1-4844-cbc2-a19d4405effc"
   },
   "outputs": [
    {
     "data": {
      "text/html": [
       "<div>\n",
       "<style scoped>\n",
       "    .dataframe tbody tr th:only-of-type {\n",
       "        vertical-align: middle;\n",
       "    }\n",
       "\n",
       "    .dataframe tbody tr th {\n",
       "        vertical-align: top;\n",
       "    }\n",
       "\n",
       "    .dataframe thead th {\n",
       "        text-align: right;\n",
       "    }\n",
       "</style>\n",
       "<table border=\"1\" class=\"dataframe\">\n",
       "  <thead>\n",
       "    <tr style=\"text-align: right;\">\n",
       "      <th></th>\n",
       "      <th>Num_Noticias</th>\n",
       "    </tr>\n",
       "    <tr>\n",
       "      <th>Mes</th>\n",
       "      <th></th>\n",
       "    </tr>\n",
       "  </thead>\n",
       "  <tbody>\n",
       "    <tr>\n",
       "      <th>1</th>\n",
       "      <td>9.44</td>\n",
       "    </tr>\n",
       "    <tr>\n",
       "      <th>2</th>\n",
       "      <td>8.89</td>\n",
       "    </tr>\n",
       "    <tr>\n",
       "      <th>3</th>\n",
       "      <td>8.67</td>\n",
       "    </tr>\n",
       "    <tr>\n",
       "      <th>4</th>\n",
       "      <td>9.00</td>\n",
       "    </tr>\n",
       "    <tr>\n",
       "      <th>5</th>\n",
       "      <td>9.64</td>\n",
       "    </tr>\n",
       "    <tr>\n",
       "      <th>6</th>\n",
       "      <td>9.19</td>\n",
       "    </tr>\n",
       "    <tr>\n",
       "      <th>7</th>\n",
       "      <td>8.88</td>\n",
       "    </tr>\n",
       "    <tr>\n",
       "      <th>8</th>\n",
       "      <td>9.54</td>\n",
       "    </tr>\n",
       "    <tr>\n",
       "      <th>9</th>\n",
       "      <td>9.64</td>\n",
       "    </tr>\n",
       "    <tr>\n",
       "      <th>10</th>\n",
       "      <td>9.36</td>\n",
       "    </tr>\n",
       "    <tr>\n",
       "      <th>11</th>\n",
       "      <td>9.04</td>\n",
       "    </tr>\n",
       "    <tr>\n",
       "      <th>12</th>\n",
       "      <td>9.66</td>\n",
       "    </tr>\n",
       "  </tbody>\n",
       "</table>\n",
       "</div>"
      ],
      "text/plain": [
       "     Num_Noticias\n",
       "Mes              \n",
       "1            9.44\n",
       "2            8.89\n",
       "3            8.67\n",
       "4            9.00\n",
       "5            9.64\n",
       "6            9.19\n",
       "7            8.88\n",
       "8            9.54\n",
       "9            9.64\n",
       "10           9.36\n",
       "11           9.04\n",
       "12           9.66"
      ]
     },
     "execution_count": 19,
     "metadata": {},
     "output_type": "execute_result"
    }
   ],
   "source": [
    "# inserindo coluna de mês\n",
    "data_df['Mes'] = data_df['Datas'].dt.month\n",
    "\n",
    "# Calculando media de noticias por mês\n",
    "df_noticia_mes = data_df.groupby('Mes').agg({'Num_Noticias':np.mean})\n",
    "df_noticia_mes"
   ]
  },
  {
   "cell_type": "code",
   "execution_count": 20,
   "metadata": {
    "colab": {
     "base_uri": "https://localhost:8080/",
     "height": 567
    },
    "id": "9zU7co7YtxAu",
    "outputId": "6e043d41-69bb-41b0-b65e-2f7f2605b3dd"
   },
   "outputs": [
    {
     "data": {
      "text/plain": [
       "<seaborn.axisgrid.FacetGrid at 0x1cd46d22280>"
      ]
     },
     "execution_count": 20,
     "metadata": {},
     "output_type": "execute_result"
    },
    {
     "data": {
      "image/png": "[encoded data removed]",
      "text/plain": [
       "<Figure size 576x540 with 12 Axes>"
      ]
     },
     "metadata": {
      "needs_background": "light"
     },
     "output_type": "display_data"
    }
   ],
   "source": [
    "# Visualizando distribuição da quantidade de noticias ao longo dos meses\n",
    "sns.catplot(x=\"Num_Noticias\", col=\"Mes\", col_wrap=4,\n",
    "                data=data_df,\n",
    "                kind=\"count\", height=2.5, aspect=.8)"
   ]
  },
  {
   "cell_type": "code",
   "execution_count": 21,
   "metadata": {
    "colab": {
     "base_uri": "https://localhost:8080/",
     "height": 279
    },
    "id": "4B_Q704ztxAv",
    "outputId": "f23c06e8-bd65-4637-f2d5-bfa8469ee993"
   },
   "outputs": [
    {
     "data": {
      "text/plain": [
       "<seaborn.axisgrid.FacetGrid at 0x1cd472744c0>"
      ]
     },
     "execution_count": 21,
     "metadata": {},
     "output_type": "execute_result"
    },
    {
     "data": {
      "image/png": "[encoded data removed]",
      "text/plain": [
       "<Figure size 1965.6x252 with 12 Axes>"
      ]
     },
     "metadata": {
      "needs_background": "light"
     },
     "output_type": "display_data"
    }
   ],
   "source": [
    "# Visualizando distribuição da quantidade de noticias ao longo dos meses\n",
    "g = sns.FacetGrid(data_df, col=\"Mes\", height=3.5, aspect=.65)\n",
    "g.map(sns.histplot, \"Num_Noticias\")"
   ]
  },
  {
   "cell_type": "markdown",
   "metadata": {
    "id": "OCOwL4vBtxAv"
   },
   "source": [
    "Há poucas ocorrências de baixo numero de noticias por dia, a maior ocorrência da quantidade de noticias por dia é de 10.\n",
    "Dessa forma, a média de noticias por mês varia de 8.6 á 9.65."
   ]
  },
  {
   "cell_type": "markdown",
   "metadata": {
    "id": "XNTI7DuitxAv"
   },
   "source": [
    "## 3.2 Há poucos dias sem noticias na base de dados"
   ]
  },
  {
   "cell_type": "code",
   "execution_count": 22,
   "metadata": {
    "id": "cswcZKnoxf1S"
   },
   "outputs": [],
   "source": [
    "from datetime import datetime"
   ]
  },
  {
   "cell_type": "code",
   "execution_count": 23,
   "metadata": {
    "id": "AjnpzAz-txAv"
   },
   "outputs": [],
   "source": [
    "## Gerando uma lista com todos os dias de 2021:\n",
    "start_date = '01/01/2021'\n",
    "end_date = '31/12/2021'\n",
    "\n",
    "#Transformando para o padrão inglês\n",
    "start_date = datetime.strptime(start_date, '%d/%m/%Y').strftime('%m-%d-%Y')\n",
    "end_date = datetime.strptime(end_date, '%d/%m/%Y').strftime('%m-%d-%Y')\n",
    "\n",
    "#Gerando a lista com todas as datas\n",
    "todas_datas = pd.date_range(start=start_date, end=end_date, freq = '1D')\n",
    "todas_datas = [i.strftime(\"%d/%m/%Y\") for i in todas_datas ]"
   ]
  },
  {
   "cell_type": "code",
   "execution_count": 24,
   "metadata": {
    "id": "qY2Fsk1ntxAv"
   },
   "outputs": [],
   "source": [
    "#Gerando lista com todas as datas com noticias\n",
    "datas_com_noticias = [i.strftime(\"%d/%m/%Y\") for i in data_df['Datas'] ]"
   ]
  },
  {
   "cell_type": "code",
   "execution_count": 25,
   "metadata": {
    "colab": {
     "base_uri": "https://localhost:8080/"
    },
    "id": "Qwe8jKvQtxAv",
    "outputId": "e75200d8-e2f8-4813-8241-33f416f8e457"
   },
   "outputs": [
    {
     "name": "stdout",
     "output_type": "stream",
     "text": [
      "Há 38 dias sem notícias em 2021!\n"
     ]
    }
   ],
   "source": [
    "#Gerando lista com todas as datas sem noticias em 2021\n",
    "datas_sem_noticias = [i for i in todas_datas if i not in datas_com_noticias]\n",
    "print(\"Há %s dias sem notícias em 2021!\" % len(datas_sem_noticias))"
   ]
  },
  {
   "cell_type": "markdown",
   "metadata": {
    "id": "e66g9uactxAx"
   },
   "source": [
    "Em apenas 38 dias de 2021 não houve retorno de noticias diárias da Petrobras"
   ]
  },
  {
   "cell_type": "markdown",
   "metadata": {
    "id": "OxLJise6txAx"
   },
   "source": [
    "## 3.3 Há dias em que o pregão da bolsa não funciona (Finais de Semana)"
   ]
  },
  {
   "cell_type": "code",
   "execution_count": 26,
   "metadata": {
    "id": "y8-xFjKDtxAx"
   },
   "outputs": [],
   "source": [
    "datas_com_pregao = [i.strftime(\"%d/%m/%Y\") for i in df_petro['Date'] ]"
   ]
  },
  {
   "cell_type": "code",
   "execution_count": 27,
   "metadata": {
    "id": "vCJ9yTRftxAy"
   },
   "outputs": [],
   "source": [
    "datas_sem_pregao = [i for i in todas_datas if i not in datas_com_pregao]"
   ]
  },
  {
   "cell_type": "code",
   "execution_count": 28,
   "metadata": {
    "colab": {
     "base_uri": "https://localhost:8080/"
    },
    "id": "7anpTFEFtxAy",
    "outputId": "a8866333-124d-48ca-bc4b-1b05a532b61d"
   },
   "outputs": [
    {
     "name": "stdout",
     "output_type": "stream",
     "text": [
      "Há 118 dias sem pregão em 2021!\n"
     ]
    }
   ],
   "source": [
    "print(\"Há %s dias sem pregão em 2021!\" % len(datas_sem_pregao))"
   ]
  },
  {
   "cell_type": "markdown",
   "metadata": {
    "id": "n33cDcrqtxAy"
   },
   "source": [
    "# 4.0 Pré-Processamento"
   ]
  },
  {
   "cell_type": "markdown",
   "metadata": {
    "id": "xo91sP18txAy"
   },
   "source": [
    "## 4.1 Padronização das palavras contidas nos títulos das noticias para minúsculo"
   ]
  },
  {
   "cell_type": "code",
   "execution_count": 29,
   "metadata": {
    "colab": {
     "base_uri": "https://localhost:8080/",
     "height": 206
    },
    "id": "SION7mEytxAy",
    "outputId": "fffe76dc-971d-48c1-fb82-717f9d20fc84"
   },
   "outputs": [
    {
     "data": {
      "text/html": [
       "<div>\n",
       "<style scoped>\n",
       "    .dataframe tbody tr th:only-of-type {\n",
       "        vertical-align: middle;\n",
       "    }\n",
       "\n",
       "    .dataframe tbody tr th {\n",
       "        vertical-align: top;\n",
       "    }\n",
       "\n",
       "    .dataframe thead th {\n",
       "        text-align: right;\n",
       "    }\n",
       "</style>\n",
       "<table border=\"1\" class=\"dataframe\">\n",
       "  <thead>\n",
       "    <tr style=\"text-align: right;\">\n",
       "      <th></th>\n",
       "      <th>title</th>\n",
       "      <th>media</th>\n",
       "      <th>date</th>\n",
       "      <th>desc</th>\n",
       "    </tr>\n",
       "  </thead>\n",
       "  <tbody>\n",
       "    <tr>\n",
       "      <th>0</th>\n",
       "      <td>A construção naval brasileira tem chances de a...</td>\n",
       "      <td>CPG Click Petroleo e Gas</td>\n",
       "      <td>2021-01-01</td>\n",
       "      <td>Dentre os principais pontos do plano estratégi...</td>\n",
       "    </tr>\n",
       "    <tr>\n",
       "      <th>1</th>\n",
       "      <td>Refinaria Abreu e Lima da Petrobras, a RNEST p...</td>\n",
       "      <td>CPG Click Petroleo e Gas</td>\n",
       "      <td>2021-01-01</td>\n",
       "      <td>Petrobras informou em fato relevante na última...</td>\n",
       "    </tr>\n",
       "    <tr>\n",
       "      <th>2</th>\n",
       "      <td>5 Dicas de Tony Robbins para Ficar Rico Invest...</td>\n",
       "      <td>The Capital Advisor</td>\n",
       "      <td>2021-01-01</td>\n",
       "      <td>O QUE LER AGORA... ibovespa-sobe-021-apos-demi...</td>\n",
       "    </tr>\n",
       "    <tr>\n",
       "      <th>3</th>\n",
       "      <td>Acadêmicos de engenharia Mecânica criam projet...</td>\n",
       "      <td>CPG Click Petroleo e Gas</td>\n",
       "      <td>2021-01-01</td>\n",
       "      <td>Petrobras cancela a venda da fábrica de fertil...</td>\n",
       "    </tr>\n",
       "    <tr>\n",
       "      <th>4</th>\n",
       "      <td>Multinacional dinamarquesa European Energy faz...</td>\n",
       "      <td>CPG Click Petroleo e Gas</td>\n",
       "      <td>2021-01-01</td>\n",
       "      <td>Petrobras encerra sociedade com a Sete Brasil ...</td>\n",
       "    </tr>\n",
       "  </tbody>\n",
       "</table>\n",
       "</div>"
      ],
      "text/plain": [
       "                                               title  \\\n",
       "0  A construção naval brasileira tem chances de a...   \n",
       "1  Refinaria Abreu e Lima da Petrobras, a RNEST p...   \n",
       "2  5 Dicas de Tony Robbins para Ficar Rico Invest...   \n",
       "3  Acadêmicos de engenharia Mecânica criam projet...   \n",
       "4  Multinacional dinamarquesa European Energy faz...   \n",
       "\n",
       "                      media       date  \\\n",
       "0  CPG Click Petroleo e Gas 2021-01-01   \n",
       "1  CPG Click Petroleo e Gas 2021-01-01   \n",
       "2       The Capital Advisor 2021-01-01   \n",
       "3  CPG Click Petroleo e Gas 2021-01-01   \n",
       "4  CPG Click Petroleo e Gas 2021-01-01   \n",
       "\n",
       "                                                desc  \n",
       "0  Dentre os principais pontos do plano estratégi...  \n",
       "1  Petrobras informou em fato relevante na última...  \n",
       "2  O QUE LER AGORA... ibovespa-sobe-021-apos-demi...  \n",
       "3  Petrobras cancela a venda da fábrica de fertil...  \n",
       "4  Petrobras encerra sociedade com a Sete Brasil ...  "
      ]
     },
     "execution_count": 29,
     "metadata": {},
     "output_type": "execute_result"
    }
   ],
   "source": [
    "df.head()"
   ]
  },
  {
   "cell_type": "code",
   "execution_count": 30,
   "metadata": {
    "colab": {
     "base_uri": "https://localhost:8080/",
     "height": 206
    },
    "id": "iboywtVTtxAy",
    "outputId": "9fff0135-e11e-4355-a994-f15a7771df39"
   },
   "outputs": [
    {
     "data": {
      "text/html": [
       "<div>\n",
       "<style scoped>\n",
       "    .dataframe tbody tr th:only-of-type {\n",
       "        vertical-align: middle;\n",
       "    }\n",
       "\n",
       "    .dataframe tbody tr th {\n",
       "        vertical-align: top;\n",
       "    }\n",
       "\n",
       "    .dataframe thead th {\n",
       "        text-align: right;\n",
       "    }\n",
       "</style>\n",
       "<table border=\"1\" class=\"dataframe\">\n",
       "  <thead>\n",
       "    <tr style=\"text-align: right;\">\n",
       "      <th></th>\n",
       "      <th>title</th>\n",
       "      <th>media</th>\n",
       "      <th>date</th>\n",
       "      <th>desc</th>\n",
       "    </tr>\n",
       "  </thead>\n",
       "  <tbody>\n",
       "    <tr>\n",
       "      <th>0</th>\n",
       "      <td>a construção naval brasileira tem chances de a...</td>\n",
       "      <td>CPG Click Petroleo e Gas</td>\n",
       "      <td>2021-01-01</td>\n",
       "      <td>Dentre os principais pontos do plano estratégi...</td>\n",
       "    </tr>\n",
       "    <tr>\n",
       "      <th>1</th>\n",
       "      <td>refinaria abreu e lima da petrobras, a rnest p...</td>\n",
       "      <td>CPG Click Petroleo e Gas</td>\n",
       "      <td>2021-01-01</td>\n",
       "      <td>Petrobras informou em fato relevante na última...</td>\n",
       "    </tr>\n",
       "    <tr>\n",
       "      <th>2</th>\n",
       "      <td>5 dicas de tony robbins para ficar rico invest...</td>\n",
       "      <td>The Capital Advisor</td>\n",
       "      <td>2021-01-01</td>\n",
       "      <td>O QUE LER AGORA... ibovespa-sobe-021-apos-demi...</td>\n",
       "    </tr>\n",
       "    <tr>\n",
       "      <th>3</th>\n",
       "      <td>acadêmicos de engenharia mecânica criam projet...</td>\n",
       "      <td>CPG Click Petroleo e Gas</td>\n",
       "      <td>2021-01-01</td>\n",
       "      <td>Petrobras cancela a venda da fábrica de fertil...</td>\n",
       "    </tr>\n",
       "    <tr>\n",
       "      <th>4</th>\n",
       "      <td>multinacional dinamarquesa european energy faz...</td>\n",
       "      <td>CPG Click Petroleo e Gas</td>\n",
       "      <td>2021-01-01</td>\n",
       "      <td>Petrobras encerra sociedade com a Sete Brasil ...</td>\n",
       "    </tr>\n",
       "  </tbody>\n",
       "</table>\n",
       "</div>"
      ],
      "text/plain": [
       "                                               title  \\\n",
       "0  a construção naval brasileira tem chances de a...   \n",
       "1  refinaria abreu e lima da petrobras, a rnest p...   \n",
       "2  5 dicas de tony robbins para ficar rico invest...   \n",
       "3  acadêmicos de engenharia mecânica criam projet...   \n",
       "4  multinacional dinamarquesa european energy faz...   \n",
       "\n",
       "                      media       date  \\\n",
       "0  CPG Click Petroleo e Gas 2021-01-01   \n",
       "1  CPG Click Petroleo e Gas 2021-01-01   \n",
       "2       The Capital Advisor 2021-01-01   \n",
       "3  CPG Click Petroleo e Gas 2021-01-01   \n",
       "4  CPG Click Petroleo e Gas 2021-01-01   \n",
       "\n",
       "                                                desc  \n",
       "0  Dentre os principais pontos do plano estratégi...  \n",
       "1  Petrobras informou em fato relevante na última...  \n",
       "2  O QUE LER AGORA... ibovespa-sobe-021-apos-demi...  \n",
       "3  Petrobras cancela a venda da fábrica de fertil...  \n",
       "4  Petrobras encerra sociedade com a Sete Brasil ...  "
      ]
     },
     "execution_count": 30,
     "metadata": {},
     "output_type": "execute_result"
    }
   ],
   "source": [
    "df['title'] = df['title'].apply(lambda x: x.lower())\n",
    "df.head()"
   ]
  },
  {
   "cell_type": "markdown",
   "metadata": {
    "id": "XO8TNOpytxAz"
   },
   "source": [
    "## 4.2 Exclusão noticias que não contenham a palavra chave \"Petrobras\" no título\n",
    "Embora tenha-se configurado A biblioteca GoogleNews() para baixar noticias pela palavra chave \"Petrobras\" pode ocorrer casos em que o termo não é citado no título e nem no corpo da noticia."
   ]
  },
  {
   "cell_type": "code",
   "execution_count": 31,
   "metadata": {
    "colab": {
     "base_uri": "https://localhost:8080/",
     "height": 36
    },
    "id": "iBHjFwdDtxAz",
    "outputId": "54e1bbf9-895d-4f58-9d2f-65cd5c96d909"
   },
   "outputs": [
    {
     "data": {
      "text/plain": [
       "'5 dicas de tony robbins para ficar rico investindo'"
      ]
     },
     "execution_count": 31,
     "metadata": {},
     "output_type": "execute_result"
    }
   ],
   "source": [
    "df.iloc[2][0]"
   ]
  },
  {
   "cell_type": "code",
   "execution_count": 32,
   "metadata": {
    "colab": {
     "base_uri": "https://localhost:8080/",
     "height": 36
    },
    "id": "KeSk4ba2txAz",
    "outputId": "bbf26d7d-2627-4c03-db4e-16d9ab0c54d4"
   },
   "outputs": [
    {
     "data": {
      "text/plain": [
       "'O QUE LER AGORA... ibovespa-sobe-021-apos-demissao-na-petrobras-prio3-.  Notícias. Ibovespa Sobe +0...'"
      ]
     },
     "execution_count": 32,
     "metadata": {},
     "output_type": "execute_result"
    }
   ],
   "source": [
    "df.iloc[2][3]"
   ]
  },
  {
   "cell_type": "markdown",
   "metadata": {
    "id": "nuhdypF8txAz"
   },
   "source": [
    "Essa noticia \"5 dicas de tony robbins para ficar rico investindo\", por exemplo, não possui relação com a petrobras no título e nem no corpo do artigo ao checar direto na fonte em <https://comoinvestir.thecap.com.br/5-dicas-de-tony-robbins-para-ficar-rico-investindo>. A biblioteca GoogleNews() retornou essa noticia, pois, na pagina HTML há noticias recomendadas ao leitor que possuem a palavra chave \"petrobras\".\n",
    "\n",
    "Noticias sem a palavra chave \"petrobras\" no título serão excluidas do dataset"
   ]
  },
  {
   "cell_type": "code",
   "execution_count": 33,
   "metadata": {
    "colab": {
     "base_uri": "https://localhost:8080/",
     "height": 423
    },
    "id": "ZqNjWXYCtxAz",
    "outputId": "7f45af8b-a8b9-4a4b-c861-478af2838dc9"
   },
   "outputs": [
    {
     "data": {
      "text/html": [
       "<div>\n",
       "<style scoped>\n",
       "    .dataframe tbody tr th:only-of-type {\n",
       "        vertical-align: middle;\n",
       "    }\n",
       "\n",
       "    .dataframe tbody tr th {\n",
       "        vertical-align: top;\n",
       "    }\n",
       "\n",
       "    .dataframe thead th {\n",
       "        text-align: right;\n",
       "    }\n",
       "</style>\n",
       "<table border=\"1\" class=\"dataframe\">\n",
       "  <thead>\n",
       "    <tr style=\"text-align: right;\">\n",
       "      <th></th>\n",
       "      <th>title</th>\n",
       "      <th>media</th>\n",
       "      <th>date</th>\n",
       "      <th>desc</th>\n",
       "    </tr>\n",
       "  </thead>\n",
       "  <tbody>\n",
       "    <tr>\n",
       "      <th>0</th>\n",
       "      <td>a construção naval brasileira tem chances de a...</td>\n",
       "      <td>CPG Click Petroleo e Gas</td>\n",
       "      <td>2021-01-01</td>\n",
       "      <td>Dentre os principais pontos do plano estratégi...</td>\n",
       "    </tr>\n",
       "    <tr>\n",
       "      <th>1</th>\n",
       "      <td>refinaria abreu e lima da petrobras, a rnest p...</td>\n",
       "      <td>CPG Click Petroleo e Gas</td>\n",
       "      <td>2021-01-01</td>\n",
       "      <td>Petrobras informou em fato relevante na última...</td>\n",
       "    </tr>\n",
       "    <tr>\n",
       "      <th>2</th>\n",
       "      <td></td>\n",
       "      <td>The Capital Advisor</td>\n",
       "      <td>2021-01-01</td>\n",
       "      <td>O QUE LER AGORA... ibovespa-sobe-021-apos-demi...</td>\n",
       "    </tr>\n",
       "    <tr>\n",
       "      <th>3</th>\n",
       "      <td></td>\n",
       "      <td>CPG Click Petroleo e Gas</td>\n",
       "      <td>2021-01-01</td>\n",
       "      <td>Petrobras cancela a venda da fábrica de fertil...</td>\n",
       "    </tr>\n",
       "    <tr>\n",
       "      <th>4</th>\n",
       "      <td></td>\n",
       "      <td>CPG Click Petroleo e Gas</td>\n",
       "      <td>2021-01-01</td>\n",
       "      <td>Petrobras encerra sociedade com a Sete Brasil ...</td>\n",
       "    </tr>\n",
       "    <tr>\n",
       "      <th>...</th>\n",
       "      <td>...</td>\n",
       "      <td>...</td>\n",
       "      <td>...</td>\n",
       "      <td>...</td>\n",
       "    </tr>\n",
       "    <tr>\n",
       "      <th>3021</th>\n",
       "      <td>quer trabalhar na petrobras? falta menos de um...</td>\n",
       "      <td>JC Online</td>\n",
       "      <td>2021-12-31</td>\n",
       "      <td>O processo seletivo público que oferece 757 va...</td>\n",
       "    </tr>\n",
       "    <tr>\n",
       "      <th>3022</th>\n",
       "      <td></td>\n",
       "      <td>CNN Brasil</td>\n",
       "      <td>2021-12-31</td>\n",
       "      <td>Para ele, a solução desta pressão não deve pas...</td>\n",
       "    </tr>\n",
       "    <tr>\n",
       "      <th>3023</th>\n",
       "      <td></td>\n",
       "      <td>PetroNotícias</td>\n",
       "      <td>2021-12-31</td>\n",
       "      <td>Isso porque a Petrobrás anunciou que registrou...</td>\n",
       "    </tr>\n",
       "    <tr>\n",
       "      <th>3024</th>\n",
       "      <td>unigel assina contratos para suprimento das fá...</td>\n",
       "      <td>CPG Click Petroleo e Gas</td>\n",
       "      <td>2021-12-31</td>\n",
       "      <td>No dia 27 de dezembro a Unigel fechou contrato...</td>\n",
       "    </tr>\n",
       "    <tr>\n",
       "      <th>3025</th>\n",
       "      <td></td>\n",
       "      <td>Correio Braziliense</td>\n",
       "      <td>2021-12-31</td>\n",
       "      <td>Petrobras manterá preços de mercado, garante p...</td>\n",
       "    </tr>\n",
       "  </tbody>\n",
       "</table>\n",
       "<p>3026 rows × 4 columns</p>\n",
       "</div>"
      ],
      "text/plain": [
       "                                                  title  \\\n",
       "0     a construção naval brasileira tem chances de a...   \n",
       "1     refinaria abreu e lima da petrobras, a rnest p...   \n",
       "2                                                         \n",
       "3                                                         \n",
       "4                                                         \n",
       "...                                                 ...   \n",
       "3021  quer trabalhar na petrobras? falta menos de um...   \n",
       "3022                                                      \n",
       "3023                                                      \n",
       "3024  unigel assina contratos para suprimento das fá...   \n",
       "3025                                                      \n",
       "\n",
       "                         media       date  \\\n",
       "0     CPG Click Petroleo e Gas 2021-01-01   \n",
       "1     CPG Click Petroleo e Gas 2021-01-01   \n",
       "2          The Capital Advisor 2021-01-01   \n",
       "3     CPG Click Petroleo e Gas 2021-01-01   \n",
       "4     CPG Click Petroleo e Gas 2021-01-01   \n",
       "...                        ...        ...   \n",
       "3021                 JC Online 2021-12-31   \n",
       "3022                CNN Brasil 2021-12-31   \n",
       "3023             PetroNotícias 2021-12-31   \n",
       "3024  CPG Click Petroleo e Gas 2021-12-31   \n",
       "3025       Correio Braziliense 2021-12-31   \n",
       "\n",
       "                                                   desc  \n",
       "0     Dentre os principais pontos do plano estratégi...  \n",
       "1     Petrobras informou em fato relevante na última...  \n",
       "2     O QUE LER AGORA... ibovespa-sobe-021-apos-demi...  \n",
       "3     Petrobras cancela a venda da fábrica de fertil...  \n",
       "4     Petrobras encerra sociedade com a Sete Brasil ...  \n",
       "...                                                 ...  \n",
       "3021  O processo seletivo público que oferece 757 va...  \n",
       "3022  Para ele, a solução desta pressão não deve pas...  \n",
       "3023  Isso porque a Petrobrás anunciou que registrou...  \n",
       "3024  No dia 27 de dezembro a Unigel fechou contrato...  \n",
       "3025  Petrobras manterá preços de mercado, garante p...  \n",
       "\n",
       "[3026 rows x 4 columns]"
      ]
     },
     "execution_count": 33,
     "metadata": {},
     "output_type": "execute_result"
    }
   ],
   "source": [
    "df['title'] = df['title'].apply(lambda x: \"\" if \"petrobras\" not in x else x)\n",
    "df"
   ]
  },
  {
   "cell_type": "code",
   "execution_count": 34,
   "metadata": {
    "colab": {
     "base_uri": "https://localhost:8080/",
     "height": 423
    },
    "id": "KgzG8YfUtxAz",
    "outputId": "87834370-7b65-43b1-dca9-93c1a3f804f8"
   },
   "outputs": [
    {
     "data": {
      "text/html": [
       "<div>\n",
       "<style scoped>\n",
       "    .dataframe tbody tr th:only-of-type {\n",
       "        vertical-align: middle;\n",
       "    }\n",
       "\n",
       "    .dataframe tbody tr th {\n",
       "        vertical-align: top;\n",
       "    }\n",
       "\n",
       "    .dataframe thead th {\n",
       "        text-align: right;\n",
       "    }\n",
       "</style>\n",
       "<table border=\"1\" class=\"dataframe\">\n",
       "  <thead>\n",
       "    <tr style=\"text-align: right;\">\n",
       "      <th></th>\n",
       "      <th>title</th>\n",
       "      <th>media</th>\n",
       "      <th>date</th>\n",
       "      <th>desc</th>\n",
       "    </tr>\n",
       "  </thead>\n",
       "  <tbody>\n",
       "    <tr>\n",
       "      <th>0</th>\n",
       "      <td>a construção naval brasileira tem chances de a...</td>\n",
       "      <td>CPG Click Petroleo e Gas</td>\n",
       "      <td>2021-01-01</td>\n",
       "      <td>Dentre os principais pontos do plano estratégi...</td>\n",
       "    </tr>\n",
       "    <tr>\n",
       "      <th>1</th>\n",
       "      <td>refinaria abreu e lima da petrobras, a rnest p...</td>\n",
       "      <td>CPG Click Petroleo e Gas</td>\n",
       "      <td>2021-01-01</td>\n",
       "      <td>Petrobras informou em fato relevante na última...</td>\n",
       "    </tr>\n",
       "    <tr>\n",
       "      <th>26</th>\n",
       "      <td>petrobras é condenada em arbitragem iniciada p...</td>\n",
       "      <td>Forbes Brasil</td>\n",
       "      <td>2021-04-01</td>\n",
       "      <td>A Petrobras disse que a sentença determinou qu...</td>\n",
       "    </tr>\n",
       "    <tr>\n",
       "      <th>27</th>\n",
       "      <td>petrobras fez provisionamento para indenizar iesa</td>\n",
       "      <td>Valor Econômico</td>\n",
       "      <td>2021-04-01</td>\n",
       "      <td>Petrobras fez provisionamento para indenizar I...</td>\n",
       "    </tr>\n",
       "    <tr>\n",
       "      <th>28</th>\n",
       "      <td>petrobras é condenada, nos eua, a indenizar a ...</td>\n",
       "      <td>Money Times</td>\n",
       "      <td>2021-04-01</td>\n",
       "      <td>A Petrobras (PETR3; PETR4) foi condenada por u...</td>\n",
       "    </tr>\n",
       "    <tr>\n",
       "      <th>...</th>\n",
       "      <td>...</td>\n",
       "      <td>...</td>\n",
       "      <td>...</td>\n",
       "      <td>...</td>\n",
       "    </tr>\n",
       "    <tr>\n",
       "      <th>3018</th>\n",
       "      <td>aumento do preço do gás encanado: justiça inti...</td>\n",
       "      <td>FDR</td>\n",
       "      <td>2021-12-31</td>\n",
       "      <td>Na última quinta-feira, 30, a Petrobras recebe...</td>\n",
       "    </tr>\n",
       "    <tr>\n",
       "      <th>3019</th>\n",
       "      <td>presidente da petrobras diz que eleições não v...</td>\n",
       "      <td>Jovem Pan</td>\n",
       "      <td>2021-12-31</td>\n",
       "      <td>Para 2022, Joaquim Silva e Luna entende que a ...</td>\n",
       "    </tr>\n",
       "    <tr>\n",
       "      <th>3020</th>\n",
       "      <td>petrobras conclui venda de ativos do rn, em me...</td>\n",
       "      <td>Saiba Mais</td>\n",
       "      <td>2021-12-31</td>\n",
       "      <td>Após os trabalhadores aprovarem estado de grev...</td>\n",
       "    </tr>\n",
       "    <tr>\n",
       "      <th>3021</th>\n",
       "      <td>quer trabalhar na petrobras? falta menos de um...</td>\n",
       "      <td>JC Online</td>\n",
       "      <td>2021-12-31</td>\n",
       "      <td>O processo seletivo público que oferece 757 va...</td>\n",
       "    </tr>\n",
       "    <tr>\n",
       "      <th>3024</th>\n",
       "      <td>unigel assina contratos para suprimento das fá...</td>\n",
       "      <td>CPG Click Petroleo e Gas</td>\n",
       "      <td>2021-12-31</td>\n",
       "      <td>No dia 27 de dezembro a Unigel fechou contrato...</td>\n",
       "    </tr>\n",
       "  </tbody>\n",
       "</table>\n",
       "<p>1532 rows × 4 columns</p>\n",
       "</div>"
      ],
      "text/plain": [
       "                                                  title  \\\n",
       "0     a construção naval brasileira tem chances de a...   \n",
       "1     refinaria abreu e lima da petrobras, a rnest p...   \n",
       "26    petrobras é condenada em arbitragem iniciada p...   \n",
       "27    petrobras fez provisionamento para indenizar iesa   \n",
       "28    petrobras é condenada, nos eua, a indenizar a ...   \n",
       "...                                                 ...   \n",
       "3018  aumento do preço do gás encanado: justiça inti...   \n",
       "3019  presidente da petrobras diz que eleições não v...   \n",
       "3020  petrobras conclui venda de ativos do rn, em me...   \n",
       "3021  quer trabalhar na petrobras? falta menos de um...   \n",
       "3024  unigel assina contratos para suprimento das fá...   \n",
       "\n",
       "                         media       date  \\\n",
       "0     CPG Click Petroleo e Gas 2021-01-01   \n",
       "1     CPG Click Petroleo e Gas 2021-01-01   \n",
       "26               Forbes Brasil 2021-04-01   \n",
       "27             Valor Econômico 2021-04-01   \n",
       "28                 Money Times 2021-04-01   \n",
       "...                        ...        ...   \n",
       "3018                       FDR 2021-12-31   \n",
       "3019                 Jovem Pan 2021-12-31   \n",
       "3020                Saiba Mais 2021-12-31   \n",
       "3021                 JC Online 2021-12-31   \n",
       "3024  CPG Click Petroleo e Gas 2021-12-31   \n",
       "\n",
       "                                                   desc  \n",
       "0     Dentre os principais pontos do plano estratégi...  \n",
       "1     Petrobras informou em fato relevante na última...  \n",
       "26    A Petrobras disse que a sentença determinou qu...  \n",
       "27    Petrobras fez provisionamento para indenizar I...  \n",
       "28    A Petrobras (PETR3; PETR4) foi condenada por u...  \n",
       "...                                                 ...  \n",
       "3018  Na última quinta-feira, 30, a Petrobras recebe...  \n",
       "3019  Para 2022, Joaquim Silva e Luna entende que a ...  \n",
       "3020  Após os trabalhadores aprovarem estado de grev...  \n",
       "3021  O processo seletivo público que oferece 757 va...  \n",
       "3024  No dia 27 de dezembro a Unigel fechou contrato...  \n",
       "\n",
       "[1532 rows x 4 columns]"
      ]
     },
     "execution_count": 34,
     "metadata": {},
     "output_type": "execute_result"
    }
   ],
   "source": [
    "df = df[(df['title'] != \"\")]\n",
    "df"
   ]
  },
  {
   "cell_type": "markdown",
   "metadata": {
    "id": "wvWlmck7txA0"
   },
   "source": [
    "1494 noticias não relacionadas ao termo \"Petrobras\" em seus títulos foram foram excluidas do dataset"
   ]
  },
  {
   "cell_type": "markdown",
   "metadata": {
    "id": "xxqHlZeBtxA0"
   },
   "source": [
    "## 4.4 Adição de classe \"Fechamento\" ao dataframe de Ações\n",
    "Classe 1: Fechamento em alta  \n",
    "Classe 0: Fechamento em queda  "
   ]
  },
  {
   "cell_type": "code",
   "execution_count": 35,
   "metadata": {
    "colab": {
     "base_uri": "https://localhost:8080/",
     "height": 423
    },
    "id": "1k0J92qetxA0",
    "outputId": "87604c48-7a51-4ca7-a002-dec27bcb94c1"
   },
   "outputs": [
    {
     "data": {
      "text/html": [
       "<div>\n",
       "<style scoped>\n",
       "    .dataframe tbody tr th:only-of-type {\n",
       "        vertical-align: middle;\n",
       "    }\n",
       "\n",
       "    .dataframe tbody tr th {\n",
       "        vertical-align: top;\n",
       "    }\n",
       "\n",
       "    .dataframe thead th {\n",
       "        text-align: right;\n",
       "    }\n",
       "</style>\n",
       "<table border=\"1\" class=\"dataframe\">\n",
       "  <thead>\n",
       "    <tr style=\"text-align: right;\">\n",
       "      <th></th>\n",
       "      <th>Date</th>\n",
       "      <th>Adj Close</th>\n",
       "      <th>Volume</th>\n",
       "      <th>Var%</th>\n",
       "    </tr>\n",
       "  </thead>\n",
       "  <tbody>\n",
       "    <tr>\n",
       "      <th>0</th>\n",
       "      <td>2021-01-04</td>\n",
       "      <td>19.27</td>\n",
       "      <td>74719700</td>\n",
       "      <td>0.02</td>\n",
       "    </tr>\n",
       "    <tr>\n",
       "      <th>1</th>\n",
       "      <td>2021-01-05</td>\n",
       "      <td>20.03</td>\n",
       "      <td>95181100</td>\n",
       "      <td>0.04</td>\n",
       "    </tr>\n",
       "    <tr>\n",
       "      <th>2</th>\n",
       "      <td>2021-01-06</td>\n",
       "      <td>20.07</td>\n",
       "      <td>96562500</td>\n",
       "      <td>0.00</td>\n",
       "    </tr>\n",
       "    <tr>\n",
       "      <th>3</th>\n",
       "      <td>2021-01-07</td>\n",
       "      <td>20.67</td>\n",
       "      <td>56171300</td>\n",
       "      <td>0.03</td>\n",
       "    </tr>\n",
       "    <tr>\n",
       "      <th>4</th>\n",
       "      <td>2021-01-08</td>\n",
       "      <td>20.75</td>\n",
       "      <td>67136300</td>\n",
       "      <td>0.00</td>\n",
       "    </tr>\n",
       "    <tr>\n",
       "      <th>...</th>\n",
       "      <td>...</td>\n",
       "      <td>...</td>\n",
       "      <td>...</td>\n",
       "      <td>...</td>\n",
       "    </tr>\n",
       "    <tr>\n",
       "      <th>242</th>\n",
       "      <td>2021-12-23</td>\n",
       "      <td>23.24</td>\n",
       "      <td>28713600</td>\n",
       "      <td>0.01</td>\n",
       "    </tr>\n",
       "    <tr>\n",
       "      <th>243</th>\n",
       "      <td>2021-12-27</td>\n",
       "      <td>23.58</td>\n",
       "      <td>44227900</td>\n",
       "      <td>0.01</td>\n",
       "    </tr>\n",
       "    <tr>\n",
       "      <th>244</th>\n",
       "      <td>2021-12-28</td>\n",
       "      <td>23.61</td>\n",
       "      <td>30688100</td>\n",
       "      <td>0.00</td>\n",
       "    </tr>\n",
       "    <tr>\n",
       "      <th>245</th>\n",
       "      <td>2021-12-29</td>\n",
       "      <td>23.41</td>\n",
       "      <td>35508400</td>\n",
       "      <td>-0.01</td>\n",
       "    </tr>\n",
       "    <tr>\n",
       "      <th>246</th>\n",
       "      <td>2021-12-30</td>\n",
       "      <td>23.34</td>\n",
       "      <td>43229100</td>\n",
       "      <td>-0.00</td>\n",
       "    </tr>\n",
       "  </tbody>\n",
       "</table>\n",
       "<p>247 rows × 4 columns</p>\n",
       "</div>"
      ],
      "text/plain": [
       "          Date  Adj Close    Volume  Var%\n",
       "0   2021-01-04      19.27  74719700  0.02\n",
       "1   2021-01-05      20.03  95181100  0.04\n",
       "2   2021-01-06      20.07  96562500  0.00\n",
       "3   2021-01-07      20.67  56171300  0.03\n",
       "4   2021-01-08      20.75  67136300  0.00\n",
       "..         ...        ...       ...   ...\n",
       "242 2021-12-23      23.24  28713600  0.01\n",
       "243 2021-12-27      23.58  44227900  0.01\n",
       "244 2021-12-28      23.61  30688100  0.00\n",
       "245 2021-12-29      23.41  35508400 -0.01\n",
       "246 2021-12-30      23.34  43229100 -0.00\n",
       "\n",
       "[247 rows x 4 columns]"
      ]
     },
     "execution_count": 35,
     "metadata": {},
     "output_type": "execute_result"
    }
   ],
   "source": [
    "df_petro"
   ]
  },
  {
   "cell_type": "code",
   "execution_count": 36,
   "metadata": {
    "colab": {
     "base_uri": "https://localhost:8080/",
     "height": 423
    },
    "id": "3mze-rUAtxA0",
    "outputId": "e34c2970-7881-476b-faa7-d220e1e6da5c"
   },
   "outputs": [
    {
     "data": {
      "text/html": [
       "<div>\n",
       "<style scoped>\n",
       "    .dataframe tbody tr th:only-of-type {\n",
       "        vertical-align: middle;\n",
       "    }\n",
       "\n",
       "    .dataframe tbody tr th {\n",
       "        vertical-align: top;\n",
       "    }\n",
       "\n",
       "    .dataframe thead th {\n",
       "        text-align: right;\n",
       "    }\n",
       "</style>\n",
       "<table border=\"1\" class=\"dataframe\">\n",
       "  <thead>\n",
       "    <tr style=\"text-align: right;\">\n",
       "      <th></th>\n",
       "      <th>Date</th>\n",
       "      <th>Adj Close</th>\n",
       "      <th>Volume</th>\n",
       "      <th>Var%</th>\n",
       "      <th>Fechamento</th>\n",
       "    </tr>\n",
       "  </thead>\n",
       "  <tbody>\n",
       "    <tr>\n",
       "      <th>0</th>\n",
       "      <td>2021-01-04</td>\n",
       "      <td>19.27</td>\n",
       "      <td>74719700</td>\n",
       "      <td>0.02</td>\n",
       "      <td>1</td>\n",
       "    </tr>\n",
       "    <tr>\n",
       "      <th>1</th>\n",
       "      <td>2021-01-05</td>\n",
       "      <td>20.03</td>\n",
       "      <td>95181100</td>\n",
       "      <td>0.04</td>\n",
       "      <td>1</td>\n",
       "    </tr>\n",
       "    <tr>\n",
       "      <th>2</th>\n",
       "      <td>2021-01-06</td>\n",
       "      <td>20.07</td>\n",
       "      <td>96562500</td>\n",
       "      <td>0.00</td>\n",
       "      <td>1</td>\n",
       "    </tr>\n",
       "    <tr>\n",
       "      <th>3</th>\n",
       "      <td>2021-01-07</td>\n",
       "      <td>20.67</td>\n",
       "      <td>56171300</td>\n",
       "      <td>0.03</td>\n",
       "      <td>1</td>\n",
       "    </tr>\n",
       "    <tr>\n",
       "      <th>4</th>\n",
       "      <td>2021-01-08</td>\n",
       "      <td>20.75</td>\n",
       "      <td>67136300</td>\n",
       "      <td>0.00</td>\n",
       "      <td>1</td>\n",
       "    </tr>\n",
       "    <tr>\n",
       "      <th>...</th>\n",
       "      <td>...</td>\n",
       "      <td>...</td>\n",
       "      <td>...</td>\n",
       "      <td>...</td>\n",
       "      <td>...</td>\n",
       "    </tr>\n",
       "    <tr>\n",
       "      <th>242</th>\n",
       "      <td>2021-12-23</td>\n",
       "      <td>23.24</td>\n",
       "      <td>28713600</td>\n",
       "      <td>0.01</td>\n",
       "      <td>1</td>\n",
       "    </tr>\n",
       "    <tr>\n",
       "      <th>243</th>\n",
       "      <td>2021-12-27</td>\n",
       "      <td>23.58</td>\n",
       "      <td>44227900</td>\n",
       "      <td>0.01</td>\n",
       "      <td>1</td>\n",
       "    </tr>\n",
       "    <tr>\n",
       "      <th>244</th>\n",
       "      <td>2021-12-28</td>\n",
       "      <td>23.61</td>\n",
       "      <td>30688100</td>\n",
       "      <td>0.00</td>\n",
       "      <td>1</td>\n",
       "    </tr>\n",
       "    <tr>\n",
       "      <th>245</th>\n",
       "      <td>2021-12-29</td>\n",
       "      <td>23.41</td>\n",
       "      <td>35508400</td>\n",
       "      <td>-0.01</td>\n",
       "      <td>0</td>\n",
       "    </tr>\n",
       "    <tr>\n",
       "      <th>246</th>\n",
       "      <td>2021-12-30</td>\n",
       "      <td>23.34</td>\n",
       "      <td>43229100</td>\n",
       "      <td>-0.00</td>\n",
       "      <td>0</td>\n",
       "    </tr>\n",
       "  </tbody>\n",
       "</table>\n",
       "<p>247 rows × 5 columns</p>\n",
       "</div>"
      ],
      "text/plain": [
       "          Date  Adj Close    Volume  Var%  Fechamento\n",
       "0   2021-01-04      19.27  74719700  0.02           1\n",
       "1   2021-01-05      20.03  95181100  0.04           1\n",
       "2   2021-01-06      20.07  96562500  0.00           1\n",
       "3   2021-01-07      20.67  56171300  0.03           1\n",
       "4   2021-01-08      20.75  67136300  0.00           1\n",
       "..         ...        ...       ...   ...         ...\n",
       "242 2021-12-23      23.24  28713600  0.01           1\n",
       "243 2021-12-27      23.58  44227900  0.01           1\n",
       "244 2021-12-28      23.61  30688100  0.00           1\n",
       "245 2021-12-29      23.41  35508400 -0.01           0\n",
       "246 2021-12-30      23.34  43229100 -0.00           0\n",
       "\n",
       "[247 rows x 5 columns]"
      ]
     },
     "execution_count": 36,
     "metadata": {},
     "output_type": "execute_result"
    }
   ],
   "source": [
    "df_petro['Fechamento'] = df_petro['Var%'].apply(lambda x: 0 if x<0 else 1)\n",
    "df_petro"
   ]
  },
  {
   "cell_type": "code",
   "execution_count": 37,
   "metadata": {
    "colab": {
     "base_uri": "https://localhost:8080/"
    },
    "id": "NTjSTl_RtxA0",
    "outputId": "a20c44ae-b982-4178-df3b-b4912ca8b5f5"
   },
   "outputs": [
    {
     "data": {
      "text/plain": [
       "1    131\n",
       "0    116\n",
       "Name: Fechamento, dtype: int64"
      ]
     },
     "execution_count": 37,
     "metadata": {},
     "output_type": "execute_result"
    }
   ],
   "source": [
    "df_petro.Fechamento.value_counts()"
   ]
  },
  {
   "cell_type": "code",
   "execution_count": 38,
   "metadata": {
    "colab": {
     "base_uri": "https://localhost:8080/",
     "height": 279
    },
    "id": "9fxjqOPTtxA0",
    "outputId": "e0fdd9c6-db9b-4253-ba3d-3b202f63e122"
   },
   "outputs": [
    {
     "data": {
      "text/plain": [
       "<seaborn.axisgrid.FacetGrid at 0x1cd47a72880>"
      ]
     },
     "execution_count": 38,
     "metadata": {},
     "output_type": "execute_result"
    },
    {
     "data": {
      "image/png": "[encoded data removed]",
      "text/plain": [
       "<Figure size 201.6x252 with 1 Axes>"
      ]
     },
     "metadata": {
      "needs_background": "light"
     },
     "output_type": "display_data"
    }
   ],
   "source": [
    "sns.catplot(x=\"Fechamento\",\n",
    "                data=df_petro,\n",
    "                kind=\"count\", height=3.5, aspect=.8)"
   ]
  },
  {
   "cell_type": "markdown",
   "metadata": {
    "id": "njmDPsKctxA1"
   },
   "source": [
    "Em 2021 houve 131 fechamentos com aumento nos valores de ações da Petrobras e 116 com fechamento em queda."
   ]
  },
  {
   "cell_type": "markdown",
   "metadata": {
    "id": "pYfqD9YWtxA1"
   },
   "source": [
    "## 4.5 Concatenar noticias diárias"
   ]
  },
  {
   "cell_type": "code",
   "execution_count": 39,
   "metadata": {
    "colab": {
     "base_uri": "https://localhost:8080/",
     "height": 206
    },
    "id": "OZaN4GlqtxA1",
    "outputId": "907e53ec-1a00-4e1d-ab9f-fb33f05755a6"
   },
   "outputs": [
    {
     "data": {
      "text/html": [
       "<div>\n",
       "<style scoped>\n",
       "    .dataframe tbody tr th:only-of-type {\n",
       "        vertical-align: middle;\n",
       "    }\n",
       "\n",
       "    .dataframe tbody tr th {\n",
       "        vertical-align: top;\n",
       "    }\n",
       "\n",
       "    .dataframe thead th {\n",
       "        text-align: right;\n",
       "    }\n",
       "</style>\n",
       "<table border=\"1\" class=\"dataframe\">\n",
       "  <thead>\n",
       "    <tr style=\"text-align: right;\">\n",
       "      <th></th>\n",
       "      <th>Date</th>\n",
       "      <th>Adj Close</th>\n",
       "      <th>Volume</th>\n",
       "      <th>Var%</th>\n",
       "      <th>Fechamento</th>\n",
       "    </tr>\n",
       "  </thead>\n",
       "  <tbody>\n",
       "    <tr>\n",
       "      <th>0</th>\n",
       "      <td>2021-01-04</td>\n",
       "      <td>19.27</td>\n",
       "      <td>74719700</td>\n",
       "      <td>0.02</td>\n",
       "      <td>1</td>\n",
       "    </tr>\n",
       "    <tr>\n",
       "      <th>1</th>\n",
       "      <td>2021-01-05</td>\n",
       "      <td>20.03</td>\n",
       "      <td>95181100</td>\n",
       "      <td>0.04</td>\n",
       "      <td>1</td>\n",
       "    </tr>\n",
       "    <tr>\n",
       "      <th>2</th>\n",
       "      <td>2021-01-06</td>\n",
       "      <td>20.07</td>\n",
       "      <td>96562500</td>\n",
       "      <td>0.00</td>\n",
       "      <td>1</td>\n",
       "    </tr>\n",
       "    <tr>\n",
       "      <th>3</th>\n",
       "      <td>2021-01-07</td>\n",
       "      <td>20.67</td>\n",
       "      <td>56171300</td>\n",
       "      <td>0.03</td>\n",
       "      <td>1</td>\n",
       "    </tr>\n",
       "    <tr>\n",
       "      <th>4</th>\n",
       "      <td>2021-01-08</td>\n",
       "      <td>20.75</td>\n",
       "      <td>67136300</td>\n",
       "      <td>0.00</td>\n",
       "      <td>1</td>\n",
       "    </tr>\n",
       "  </tbody>\n",
       "</table>\n",
       "</div>"
      ],
      "text/plain": [
       "        Date  Adj Close    Volume  Var%  Fechamento\n",
       "0 2021-01-04      19.27  74719700  0.02           1\n",
       "1 2021-01-05      20.03  95181100  0.04           1\n",
       "2 2021-01-06      20.07  96562500  0.00           1\n",
       "3 2021-01-07      20.67  56171300  0.03           1\n",
       "4 2021-01-08      20.75  67136300  0.00           1"
      ]
     },
     "execution_count": 39,
     "metadata": {},
     "output_type": "execute_result"
    }
   ],
   "source": [
    "df_petro.head()"
   ]
  },
  {
   "cell_type": "code",
   "execution_count": 40,
   "metadata": {
    "colab": {
     "base_uri": "https://localhost:8080/",
     "height": 206
    },
    "id": "KL-87zkntxA1",
    "outputId": "0f579e09-f179-47de-b6e7-ad47a4641861"
   },
   "outputs": [
    {
     "data": {
      "text/html": [
       "<div>\n",
       "<style scoped>\n",
       "    .dataframe tbody tr th:only-of-type {\n",
       "        vertical-align: middle;\n",
       "    }\n",
       "\n",
       "    .dataframe tbody tr th {\n",
       "        vertical-align: top;\n",
       "    }\n",
       "\n",
       "    .dataframe thead th {\n",
       "        text-align: right;\n",
       "    }\n",
       "</style>\n",
       "<table border=\"1\" class=\"dataframe\">\n",
       "  <thead>\n",
       "    <tr style=\"text-align: right;\">\n",
       "      <th></th>\n",
       "      <th>title</th>\n",
       "      <th>media</th>\n",
       "      <th>date</th>\n",
       "      <th>desc</th>\n",
       "    </tr>\n",
       "  </thead>\n",
       "  <tbody>\n",
       "    <tr>\n",
       "      <th>0</th>\n",
       "      <td>a construção naval brasileira tem chances de a...</td>\n",
       "      <td>CPG Click Petroleo e Gas</td>\n",
       "      <td>2021-01-01</td>\n",
       "      <td>Dentre os principais pontos do plano estratégi...</td>\n",
       "    </tr>\n",
       "    <tr>\n",
       "      <th>1</th>\n",
       "      <td>refinaria abreu e lima da petrobras, a rnest p...</td>\n",
       "      <td>CPG Click Petroleo e Gas</td>\n",
       "      <td>2021-01-01</td>\n",
       "      <td>Petrobras informou em fato relevante na última...</td>\n",
       "    </tr>\n",
       "    <tr>\n",
       "      <th>26</th>\n",
       "      <td>petrobras é condenada em arbitragem iniciada p...</td>\n",
       "      <td>Forbes Brasil</td>\n",
       "      <td>2021-04-01</td>\n",
       "      <td>A Petrobras disse que a sentença determinou qu...</td>\n",
       "    </tr>\n",
       "    <tr>\n",
       "      <th>27</th>\n",
       "      <td>petrobras fez provisionamento para indenizar iesa</td>\n",
       "      <td>Valor Econômico</td>\n",
       "      <td>2021-04-01</td>\n",
       "      <td>Petrobras fez provisionamento para indenizar I...</td>\n",
       "    </tr>\n",
       "    <tr>\n",
       "      <th>28</th>\n",
       "      <td>petrobras é condenada, nos eua, a indenizar a ...</td>\n",
       "      <td>Money Times</td>\n",
       "      <td>2021-04-01</td>\n",
       "      <td>A Petrobras (PETR3; PETR4) foi condenada por u...</td>\n",
       "    </tr>\n",
       "  </tbody>\n",
       "</table>\n",
       "</div>"
      ],
      "text/plain": [
       "                                                title  \\\n",
       "0   a construção naval brasileira tem chances de a...   \n",
       "1   refinaria abreu e lima da petrobras, a rnest p...   \n",
       "26  petrobras é condenada em arbitragem iniciada p...   \n",
       "27  petrobras fez provisionamento para indenizar iesa   \n",
       "28  petrobras é condenada, nos eua, a indenizar a ...   \n",
       "\n",
       "                       media       date  \\\n",
       "0   CPG Click Petroleo e Gas 2021-01-01   \n",
       "1   CPG Click Petroleo e Gas 2021-01-01   \n",
       "26             Forbes Brasil 2021-04-01   \n",
       "27           Valor Econômico 2021-04-01   \n",
       "28               Money Times 2021-04-01   \n",
       "\n",
       "                                                 desc  \n",
       "0   Dentre os principais pontos do plano estratégi...  \n",
       "1   Petrobras informou em fato relevante na última...  \n",
       "26  A Petrobras disse que a sentença determinou qu...  \n",
       "27  Petrobras fez provisionamento para indenizar I...  \n",
       "28  A Petrobras (PETR3; PETR4) foi condenada por u...  "
      ]
     },
     "execution_count": 40,
     "metadata": {},
     "output_type": "execute_result"
    }
   ],
   "source": [
    "df.head()"
   ]
  },
  {
   "cell_type": "code",
   "execution_count": 41,
   "metadata": {
    "id": "zg24IzQOtxA1"
   },
   "outputs": [],
   "source": [
    "lista_datas = []\n",
    "lista_news = []\n",
    "\n",
    "for i in df.date.unique():\n",
    "    news = \"\"\n",
    "    for row in df[(df['date']==i)].iterrows():\n",
    "        news = news + \" \" + row[1][0]\n",
    "    lista_news.append(news)\n",
    "    lista_datas.append(i)"
   ]
  },
  {
   "cell_type": "code",
   "execution_count": 42,
   "metadata": {
    "id": "hGMZ3-n7txA1"
   },
   "outputs": [],
   "source": [
    "pd.set_option('display.max_rows', 50)"
   ]
  },
  {
   "cell_type": "code",
   "execution_count": 43,
   "metadata": {
    "colab": {
     "base_uri": "https://localhost:8080/",
     "height": 423
    },
    "id": "64SmzW8PtxA2",
    "outputId": "edffc889-f18d-4181-e838-35b0762b0f66"
   },
   "outputs": [
    {
     "data": {
      "text/html": [
       "<div>\n",
       "<style scoped>\n",
       "    .dataframe tbody tr th:only-of-type {\n",
       "        vertical-align: middle;\n",
       "    }\n",
       "\n",
       "    .dataframe tbody tr th {\n",
       "        vertical-align: top;\n",
       "    }\n",
       "\n",
       "    .dataframe thead th {\n",
       "        text-align: right;\n",
       "    }\n",
       "</style>\n",
       "<table border=\"1\" class=\"dataframe\">\n",
       "  <thead>\n",
       "    <tr style=\"text-align: right;\">\n",
       "      <th></th>\n",
       "      <th>Date</th>\n",
       "      <th>Noticias</th>\n",
       "    </tr>\n",
       "  </thead>\n",
       "  <tbody>\n",
       "    <tr>\n",
       "      <th>0</th>\n",
       "      <td>2021-01-01</td>\n",
       "      <td>a construção naval brasileira tem chances de ...</td>\n",
       "    </tr>\n",
       "    <tr>\n",
       "      <th>41</th>\n",
       "      <td>2021-01-03</td>\n",
       "      <td>petrobras reajusta preço da gasolina pela qui...</td>\n",
       "    </tr>\n",
       "    <tr>\n",
       "      <th>67</th>\n",
       "      <td>2021-01-04</td>\n",
       "      <td>tcu avalia barrar venda de refinaria da petro...</td>\n",
       "    </tr>\n",
       "    <tr>\n",
       "      <th>87</th>\n",
       "      <td>2021-01-05</td>\n",
       "      <td>petrobras (petr4) inicia contratação de nona ...</td>\n",
       "    </tr>\n",
       "    <tr>\n",
       "      <th>113</th>\n",
       "      <td>2021-01-06</td>\n",
       "      <td>valor de venda de refinaria da petrobras é qu...</td>\n",
       "    </tr>\n",
       "    <tr>\n",
       "      <th>...</th>\n",
       "      <td>...</td>\n",
       "      <td>...</td>\n",
       "    </tr>\n",
       "    <tr>\n",
       "      <th>294</th>\n",
       "      <td>2021-12-27</td>\n",
       "      <td>alerj vai à justiça contra a petrobras para b...</td>\n",
       "    </tr>\n",
       "    <tr>\n",
       "      <th>295</th>\n",
       "      <td>2021-12-28</td>\n",
       "      <td>distribuidoras de gás de 5 estados entram na ...</td>\n",
       "    </tr>\n",
       "    <tr>\n",
       "      <th>296</th>\n",
       "      <td>2021-12-29</td>\n",
       "      <td>petrobras vai recorrer de decisão que suspend...</td>\n",
       "    </tr>\n",
       "    <tr>\n",
       "      <th>297</th>\n",
       "      <td>2021-12-30</td>\n",
       "      <td>judicialização coloca mercado de gás em risco...</td>\n",
       "    </tr>\n",
       "    <tr>\n",
       "      <th>298</th>\n",
       "      <td>2021-12-31</td>\n",
       "      <td>cvm | petrobras (petr4) informa potencial de ...</td>\n",
       "    </tr>\n",
       "  </tbody>\n",
       "</table>\n",
       "<p>299 rows × 2 columns</p>\n",
       "</div>"
      ],
      "text/plain": [
       "          Date                                           Noticias\n",
       "0   2021-01-01   a construção naval brasileira tem chances de ...\n",
       "41  2021-01-03   petrobras reajusta preço da gasolina pela qui...\n",
       "67  2021-01-04   tcu avalia barrar venda de refinaria da petro...\n",
       "87  2021-01-05   petrobras (petr4) inicia contratação de nona ...\n",
       "113 2021-01-06   valor de venda de refinaria da petrobras é qu...\n",
       "..         ...                                                ...\n",
       "294 2021-12-27   alerj vai à justiça contra a petrobras para b...\n",
       "295 2021-12-28   distribuidoras de gás de 5 estados entram na ...\n",
       "296 2021-12-29   petrobras vai recorrer de decisão que suspend...\n",
       "297 2021-12-30   judicialização coloca mercado de gás em risco...\n",
       "298 2021-12-31   cvm | petrobras (petr4) informa potencial de ...\n",
       "\n",
       "[299 rows x 2 columns]"
      ]
     },
     "execution_count": 43,
     "metadata": {},
     "output_type": "execute_result"
    }
   ],
   "source": [
    "df_news_diaria = pd.DataFrame(list(zip(lista_datas,lista_news)),\n",
    "               columns =['Date', 'Noticias'])\n",
    "df_news_diaria.sort_values(by = 'Date', ascending = True, inplace = True)\n",
    "df_news_diaria"
   ]
  },
  {
   "cell_type": "markdown",
   "metadata": {
    "id": "L4-pi3cTtxA2"
   },
   "source": [
    "# 2 situações checar: \n",
    "\n",
    "\n",
    "1) Dias em que há pregão mas não há noticias, sendo que o dia anterior não tem pregão e tem noticias.  \n",
    "2) Dias que há pregão e há noticias, sendo que no dia anterior não há pregão e há noticias.  \n",
    "\n",
    "**Exemplo 1:** dia 29/11/2021 houve pregão mas não há noticias naquele dia, somente nos dias anteriores que nao houveram pregão e tiveram noticias 27/11/2021 e 28/11/2021.  \n",
    "**Exemplo 2:** dia 18/01/2021 houve pregão e há noticias naquele dia, após concatenar as noticias do dia 18/01/2021 deverá incluir as noticias dos dias 16 e 17/01/2021 que não houve pregão;\n"
   ]
  },
  {
   "cell_type": "code",
   "execution_count": 44,
   "metadata": {
    "colab": {
     "base_uri": "https://localhost:8080/"
    },
    "id": "lkthgyyItxA2",
    "outputId": "79c859f8-0c98-4d5b-a0bf-a0487f869732"
   },
   "outputs": [
    {
     "name": "stdout",
     "output_type": "stream",
     "text": [
      "29/11/2021\n"
     ]
    }
   ],
   "source": [
    "## Itera sobre dias com pregao\n",
    "for i in datas_com_pregao:\n",
    "    \n",
    "    ## Se o dia não tiver noticias retorna a data do dia anterior\n",
    "    if i in datas_sem_noticias:\n",
    "        dia_anterior = str(int(i[:2])-1) + i[2:10]\n",
    "        \n",
    "        # #Se o dia anterior não tiver pregão\n",
    "        if dia_anterior in datas_sem_pregao:\n",
    "                \n",
    "            ## Se o dia anterior tiver noticias:\n",
    "            if dia_anterior in datas_com_noticias:\n",
    "                print(i)"
   ]
  },
  {
   "cell_type": "code",
   "execution_count": 45,
   "metadata": {
    "colab": {
     "base_uri": "https://localhost:8080/",
     "height": 55
    },
    "id": "0EJE9gzJtxA2",
    "outputId": "2bc19766-7e16-40b0-cccf-fad7f3c3d03b"
   },
   "outputs": [
    {
     "data": {
      "text/plain": [
       "' bolsonaro critica política de preços dos combustíveis da petrobras ibovespa: petrobras (petr4) e vale (vale3) têm maiores altas para itaú bba, pagamento de dividendos da petrobras (petr4) pode ser ainda maior usina termelétrica de camaçari: um dos principais investimentos da petrobras na bahia, foi arrendado ontem (26/11) para a petroquímica proquigel empreiteira de perfuração offshore seadrill conquista contratos de us$ 549 milhões com a petrobras, no campo de búzios'"
      ]
     },
     "execution_count": 45,
     "metadata": {},
     "output_type": "execute_result"
    }
   ],
   "source": [
    "## 27/11/2021\n",
    "noticia_dia_27 = df_news_diaria.iloc[267][1]\n",
    "noticia_dia_27"
   ]
  },
  {
   "cell_type": "code",
   "execution_count": 46,
   "metadata": {
    "colab": {
     "base_uri": "https://localhost:8080/",
     "height": 36
    },
    "id": "LZRfi5STtxA2",
    "outputId": "5f8eb46c-ce6c-4f3d-f01d-c37271046fa9"
   },
   "outputs": [
    {
     "data": {
      "text/plain": [
       "' por que a privatização da petrobras não é garantia de ... petrobras e mubadala assinam transferência final da rlam nos próximos dias petrobras deve começar a vender fatia na braskem no primeiro trimestre'"
      ]
     },
     "execution_count": 46,
     "metadata": {},
     "output_type": "execute_result"
    }
   ],
   "source": [
    "## 28/11/2021\n",
    "noticia_dia_28 = df_news_diaria.iloc[268][1]\n",
    "noticia_dia_28"
   ]
  },
  {
   "cell_type": "code",
   "execution_count": 47,
   "metadata": {
    "id": "heW9Kau_txA3"
   },
   "outputs": [],
   "source": [
    "## 29/11/2021 -- NÂO EXISTE NOTICIA\n",
    "noticia_dia_29 = \"\""
   ]
  },
  {
   "cell_type": "code",
   "execution_count": null,
   "metadata": {
    "id": "FTVrbF1vtxA3"
   },
   "outputs": [],
   "source": []
  },
  {
   "cell_type": "code",
   "execution_count": 48,
   "metadata": {
    "colab": {
     "base_uri": "https://localhost:8080/",
     "height": 36
    },
    "id": "I9qVfLtztxA3",
    "outputId": "4080e05a-3e41-4120-cc5d-15dca597445b"
   },
   "outputs": [
    {
     "data": {
      "text/plain": [
       "' mais de 100 vagas de emprego no setor de petróleo e gás! ocyan inicia cadastro de currículo para contratos de manutenção da petrobras'"
      ]
     },
     "execution_count": 48,
     "metadata": {},
     "output_type": "execute_result"
    }
   ],
   "source": [
    "## 16/01/2021\n",
    "noticia_dia_16 = df_news_diaria.iloc[11][1]\n",
    "noticia_dia_16"
   ]
  },
  {
   "cell_type": "code",
   "execution_count": 49,
   "metadata": {
    "colab": {
     "base_uri": "https://localhost:8080/",
     "height": 36
    },
    "id": "GHvbiQjMtxA3",
    "outputId": "6d88cf47-51e8-442c-c960-b19c09fc47bc"
   },
   "outputs": [
    {
     "data": {
      "text/plain": [
       "' petrobras quer mudar gestão de plano de saúde'"
      ]
     },
     "execution_count": 49,
     "metadata": {},
     "output_type": "execute_result"
    }
   ],
   "source": [
    "## 17/01/2021\n",
    "noticia_dia_17 = df_news_diaria.iloc[12][1]\n",
    "noticia_dia_17"
   ]
  },
  {
   "cell_type": "code",
   "execution_count": 50,
   "metadata": {
    "colab": {
     "base_uri": "https://localhost:8080/",
     "height": 73
    },
    "id": "CpSN-t-atxA3",
    "outputId": "163f134a-7822-496f-8d2f-a44df67ad24c"
   },
   "outputs": [
    {
     "data": {
      "text/plain": [
       "' a petrobras está represando preços de combustíveis? dados indicam que sim, mas analistas não veem motivo para pânico (ainda) petrobras anuncia aumento de mais de 8% na gasolina a partir desta terça-feira litro da gasolina sobe r$ 0,15 nas refinarias da petrobras petrobras avança na venda do maior campo de petróleo em ... ação da petrobras fecha em queda de 0,18% nesta segunda; veja valores petrobras (petr4) aprova abertura de novo plano de ... petrobras recebe em 15 dias propostas para construção de 2 plataformas no rio'"
      ]
     },
     "execution_count": 50,
     "metadata": {},
     "output_type": "execute_result"
    }
   ],
   "source": [
    "## 18/01/2021\n",
    "noticia_dia_18 = df_news_diaria.iloc[13][1]\n",
    "noticia_dia_18"
   ]
  },
  {
   "cell_type": "markdown",
   "metadata": {
    "id": "G4rO-YURtxA3"
   },
   "source": [
    "## 4.6 Concatenar noticias referentes a datas sem pregões.\n",
    "\n",
    "- O próximo dia útil após o periodo sem pregões deverá consolidar as noticias acumuladas dos dias sem pregões.\n",
    "- O dataset final deverá conter apenas as datas em que ocorreu o pregão\n",
    "\n",
    "Dessa forma, iniciaremos o procedimento, concatenando as noticias de dias que não houveram pregões"
   ]
  },
  {
   "cell_type": "code",
   "execution_count": 51,
   "metadata": {
    "colab": {
     "base_uri": "https://localhost:8080/",
     "height": 423
    },
    "id": "qvdyLcUztxA4",
    "outputId": "cf964006-313b-41f1-a16c-9fc10abad024"
   },
   "outputs": [
    {
     "data": {
      "text/html": [
       "<div>\n",
       "<style scoped>\n",
       "    .dataframe tbody tr th:only-of-type {\n",
       "        vertical-align: middle;\n",
       "    }\n",
       "\n",
       "    .dataframe tbody tr th {\n",
       "        vertical-align: top;\n",
       "    }\n",
       "\n",
       "    .dataframe thead th {\n",
       "        text-align: right;\n",
       "    }\n",
       "</style>\n",
       "<table border=\"1\" class=\"dataframe\">\n",
       "  <thead>\n",
       "    <tr style=\"text-align: right;\">\n",
       "      <th></th>\n",
       "      <th>Date</th>\n",
       "      <th>Noticias</th>\n",
       "    </tr>\n",
       "  </thead>\n",
       "  <tbody>\n",
       "    <tr>\n",
       "      <th>0</th>\n",
       "      <td>2021-01-11</td>\n",
       "      <td>silva e luna 'militariza' cúpula da petrobra...</td>\n",
       "    </tr>\n",
       "    <tr>\n",
       "      <th>1</th>\n",
       "      <td>2021-01-18</td>\n",
       "      <td>mais de 100 vagas de emprego no setor de pet...</td>\n",
       "    </tr>\n",
       "    <tr>\n",
       "      <th>2</th>\n",
       "      <td>2021-01-26</td>\n",
       "      <td>petrobras encerra 2020 com quadro de funcion...</td>\n",
       "    </tr>\n",
       "    <tr>\n",
       "      <th>3</th>\n",
       "      <td>2021-02-01</td>\n",
       "      <td></td>\n",
       "    </tr>\n",
       "    <tr>\n",
       "      <th>4</th>\n",
       "      <td>2021-02-08</td>\n",
       "      <td>petrobras mira emissão no mercado internacio...</td>\n",
       "    </tr>\n",
       "    <tr>\n",
       "      <th>...</th>\n",
       "      <td>...</td>\n",
       "      <td>...</td>\n",
       "    </tr>\n",
       "    <tr>\n",
       "      <th>51</th>\n",
       "      <td>2021-11-29</td>\n",
       "      <td>bolsonaro critica política de preços dos com...</td>\n",
       "    </tr>\n",
       "    <tr>\n",
       "      <th>52</th>\n",
       "      <td>2021-12-06</td>\n",
       "      <td>petrobras aumenta exportação de óleo pelo po...</td>\n",
       "    </tr>\n",
       "    <tr>\n",
       "      <th>53</th>\n",
       "      <td>2021-12-13</td>\n",
       "      <td>petrobras fecha venda da six por 33 milhões ...</td>\n",
       "    </tr>\n",
       "    <tr>\n",
       "      <th>54</th>\n",
       "      <td>2021-12-20</td>\n",
       "      <td>petrobras abre o 1º concurso em 3 anos com s...</td>\n",
       "    </tr>\n",
       "    <tr>\n",
       "      <th>55</th>\n",
       "      <td>2021-12-27</td>\n",
       "      <td>petrobras vende carmópolis por us$ 1,1 bilhã...</td>\n",
       "    </tr>\n",
       "  </tbody>\n",
       "</table>\n",
       "<p>56 rows × 2 columns</p>\n",
       "</div>"
      ],
      "text/plain": [
       "         Date                                           Noticias\n",
       "0  2021-01-11    silva e luna 'militariza' cúpula da petrobra...\n",
       "1  2021-01-18    mais de 100 vagas de emprego no setor de pet...\n",
       "2  2021-01-26    petrobras encerra 2020 com quadro de funcion...\n",
       "3  2021-02-01                                                   \n",
       "4  2021-02-08    petrobras mira emissão no mercado internacio...\n",
       "..        ...                                                ...\n",
       "51 2021-11-29    bolsonaro critica política de preços dos com...\n",
       "52 2021-12-06    petrobras aumenta exportação de óleo pelo po...\n",
       "53 2021-12-13    petrobras fecha venda da six por 33 milhões ...\n",
       "54 2021-12-20    petrobras abre o 1º concurso em 3 anos com s...\n",
       "55 2021-12-27    petrobras vende carmópolis por us$ 1,1 bilhã...\n",
       "\n",
       "[56 rows x 2 columns]"
      ]
     },
     "execution_count": 51,
     "metadata": {},
     "output_type": "execute_result"
    }
   ],
   "source": [
    "## Iterar sobre as datas dos pregões (iniciando pelo segundo dia do pregão de 2021 df_petro.Date.iloc[1:])\n",
    "\n",
    "## Calcular delta (diferença entre dias entre dois registros seguidos de pregões):\n",
    "import datetime\n",
    "\n",
    "df_news_sem_pregao = pd.DataFrame()\n",
    "timedelta_1dia = datetime.timedelta(days=1)\n",
    "\n",
    "lista_datas = []\n",
    "lista_noticias_sem_pregao = []\n",
    "\n",
    "for i, data in enumerate(df_petro.Date.iloc[1:]):\n",
    "    data_anterior = df_petro['Date'].iloc[i]  \n",
    "    delta = data - data_anterior\n",
    "\n",
    "    \n",
    "    # Se houver mais de 1 dia sem pregão:    \n",
    "    if delta > timedelta_1dia:\n",
    "            \n",
    "            \n",
    "        # Filtra as noticias entre as datas sem pregão:\n",
    "        df_aux = df_news_diaria[ (df_news_diaria['Date']> data_anterior) & (df_news_diaria['Date']<= data)  ]\n",
    "        \n",
    "        ## Concatena as noticias das datas sem pregão\n",
    "        news = \"\"\n",
    "        for row in df_aux.iterrows():\n",
    "            news = news + \" \" + row[1][1]\n",
    "\n",
    "\n",
    "        ## Armazena as noticias e data do ultimo pregão valido em listas\n",
    "        lista_noticias_sem_pregao.append(news)\n",
    "        lista_datas.append(data)\n",
    "        \n",
    "        #Cria um dataframe auxiliar com a data do ultimo pregão e as noticias concatenadas dos dias sem pregões:\n",
    "        df_aux2 = pd.DataFrame(list(zip(lista_datas,lista_noticias_sem_pregao)),\n",
    "               columns =['Date', 'Noticias'])\n",
    "    \n",
    "        # Gera o dataframe com as noticias sem pregões + datas do ultimo pregão valido.\n",
    "        df_news_sem_pregao = df_news_sem_pregao.append(df_aux2, ignore_index = True)\n",
    "        \n",
    "        #Resetando as listas para geração de novo DF\n",
    "        lista_noticias_sem_pregao = []\n",
    "        lista_datas = []\n",
    "        \n",
    "df_news_sem_pregao"
   ]
  },
  {
   "cell_type": "markdown",
   "metadata": {
    "id": "QmhPddL5txA4"
   },
   "source": [
    "Obs: Note que nos dias 04/06/2021 e 01/02/2021 houveram pregão mas não houveram noticias referente a esses dias nem os dias que os precederam.\n",
    "    \n",
    "    # Situação OK!"
   ]
  },
  {
   "cell_type": "markdown",
   "metadata": {
    "id": "-Dw-jt6vtxA4"
   },
   "source": [
    "# Checagem situação de 29/11/2021"
   ]
  },
  {
   "cell_type": "code",
   "execution_count": 52,
   "metadata": {
    "colab": {
     "base_uri": "https://localhost:8080/",
     "height": 73
    },
    "id": "6bXtFfj9txA4",
    "outputId": "ffa83a1f-d993-4081-c057-5d6d87c65430"
   },
   "outputs": [
    {
     "data": {
      "text/plain": [
       "'  bolsonaro critica política de preços dos combustíveis da petrobras ibovespa: petrobras (petr4) e vale (vale3) têm maiores altas para itaú bba, pagamento de dividendos da petrobras (petr4) pode ser ainda maior usina termelétrica de camaçari: um dos principais investimentos da petrobras na bahia, foi arrendado ontem (26/11) para a petroquímica proquigel empreiteira de perfuração offshore seadrill conquista contratos de us$ 549 milhões com a petrobras, no campo de búzios  por que a privatização da petrobras não é garantia de ... petrobras e mubadala assinam transferência final da rlam nos próximos dias petrobras deve começar a vender fatia na braskem no primeiro trimestre '"
      ]
     },
     "execution_count": 52,
     "metadata": {},
     "output_type": "execute_result"
    }
   ],
   "source": [
    "noticias_concatenadas = \" \" + noticia_dia_27 + \" \" + noticia_dia_28 + \" \" + noticia_dia_29\n",
    "noticias_concatenadas"
   ]
  },
  {
   "cell_type": "code",
   "execution_count": 53,
   "metadata": {
    "colab": {
     "base_uri": "https://localhost:8080/",
     "height": 73
    },
    "id": "llIeBR1ztxA4",
    "outputId": "13375318-b87e-4215-918b-09d1f0c1d9ef"
   },
   "outputs": [
    {
     "data": {
      "text/plain": [
       "'  bolsonaro critica política de preços dos combustíveis da petrobras ibovespa: petrobras (petr4) e vale (vale3) têm maiores altas para itaú bba, pagamento de dividendos da petrobras (petr4) pode ser ainda maior usina termelétrica de camaçari: um dos principais investimentos da petrobras na bahia, foi arrendado ontem (26/11) para a petroquímica proquigel empreiteira de perfuração offshore seadrill conquista contratos de us$ 549 milhões com a petrobras, no campo de búzios  por que a privatização da petrobras não é garantia de ... petrobras e mubadala assinam transferência final da rlam nos próximos dias petrobras deve começar a vender fatia na braskem no primeiro trimestre '"
      ]
     },
     "execution_count": 53,
     "metadata": {},
     "output_type": "execute_result"
    }
   ],
   "source": [
    "df_news_sem_pregao.iloc[51][1] + \" \"\n"
   ]
  },
  {
   "cell_type": "markdown",
   "metadata": {
    "id": "JA4TYArMtxA5"
   },
   "source": [
    "Codigo OK as noticias são iguais! "
   ]
  },
  {
   "cell_type": "code",
   "execution_count": null,
   "metadata": {
    "id": "cCc5aRC6txA5"
   },
   "outputs": [],
   "source": []
  },
  {
   "cell_type": "markdown",
   "metadata": {
    "id": "90BYU5e9txA5"
   },
   "source": [
    "# Checagem situação de 18/01/2021"
   ]
  },
  {
   "cell_type": "code",
   "execution_count": 54,
   "metadata": {
    "colab": {
     "base_uri": "https://localhost:8080/",
     "height": 73
    },
    "id": "Cq9p8urctxA5",
    "outputId": "e4b3742f-9187-40db-e34c-0ac7fa82d271"
   },
   "outputs": [
    {
     "data": {
      "text/plain": [
       "'  mais de 100 vagas de emprego no setor de petróleo e gás! ocyan inicia cadastro de currículo para contratos de manutenção da petrobras  petrobras quer mudar gestão de plano de saúde  a petrobras está represando preços de combustíveis? dados indicam que sim, mas analistas não veem motivo para pânico (ainda) petrobras anuncia aumento de mais de 8% na gasolina a partir desta terça-feira litro da gasolina sobe r$ 0,15 nas refinarias da petrobras petrobras avança na venda do maior campo de petróleo em ... ação da petrobras fecha em queda de 0,18% nesta segunda; veja valores petrobras (petr4) aprova abertura de novo plano de ... petrobras recebe em 15 dias propostas para construção de 2 plataformas no rio'"
      ]
     },
     "execution_count": 54,
     "metadata": {},
     "output_type": "execute_result"
    }
   ],
   "source": [
    "noticias_concatenadas = \" \" + noticia_dia_16 + \" \" + noticia_dia_17 + \" \" + noticia_dia_18\n",
    "noticias_concatenadas"
   ]
  },
  {
   "cell_type": "code",
   "execution_count": 55,
   "metadata": {
    "colab": {
     "base_uri": "https://localhost:8080/",
     "height": 73
    },
    "id": "0J_h1RmqtxA5",
    "outputId": "37d3c70a-7a66-4679-cf48-fc4304465fd7"
   },
   "outputs": [
    {
     "data": {
      "text/plain": [
       "'  mais de 100 vagas de emprego no setor de petróleo e gás! ocyan inicia cadastro de currículo para contratos de manutenção da petrobras  petrobras quer mudar gestão de plano de saúde  a petrobras está represando preços de combustíveis? dados indicam que sim, mas analistas não veem motivo para pânico (ainda) petrobras anuncia aumento de mais de 8% na gasolina a partir desta terça-feira litro da gasolina sobe r$ 0,15 nas refinarias da petrobras petrobras avança na venda do maior campo de petróleo em ... ação da petrobras fecha em queda de 0,18% nesta segunda; veja valores petrobras (petr4) aprova abertura de novo plano de ... petrobras recebe em 15 dias propostas para construção de 2 plataformas no rio'"
      ]
     },
     "execution_count": 55,
     "metadata": {},
     "output_type": "execute_result"
    }
   ],
   "source": [
    "df_news_sem_pregao.iloc[1][1] "
   ]
  },
  {
   "cell_type": "markdown",
   "metadata": {
    "id": "un_dRwimtxA5"
   },
   "source": [
    "Codigo OK as noticias são iguais! "
   ]
  },
  {
   "cell_type": "markdown",
   "metadata": {
    "id": "JE2jBlEAtxA5"
   },
   "source": [
    "## 4.7 Atualiza as noticias concatenadas no df_news_diaria:"
   ]
  },
  {
   "cell_type": "code",
   "execution_count": 56,
   "metadata": {
    "id": "oo0kFZuJtxA5"
   },
   "outputs": [],
   "source": [
    "df_news_diaria_atualizada = df_news_diaria.copy()\n",
    "\n",
    "# itera sobre os dias com pregão cujo noticias de dias anteriores foram concatenadas:\n",
    "for data in df_news_sem_pregao.Date.unique():\n",
    "    \n",
    "    #Filtra pelo dia com pregão que teve noticias concatenada\n",
    "    df_noticia_dias_sem_pregao = df_news_sem_pregao[(df_news_sem_pregao['Date']==data)]\n",
    "\n",
    "\n",
    "    #Checa se há registro referente a data no df de noticias\n",
    "    df_check_noticias = df_news_diaria_atualizada[(df_news_diaria_atualizada['Date']==data)]\n",
    "    \n",
    "    # Se não houver registros referente á data então o registro deverá ser criado no df de noticias:\n",
    "    # Se houver, então o registro será atualizado no df de noticias\n",
    "    \n",
    "    if len(df_check_noticias) > 0:\n",
    "        \n",
    "        #Substitui os registros\n",
    "        df_news_diaria_atualizada = df_news_diaria_atualizada.replace ((df_news_diaria_atualizada.loc[df_news_diaria_atualizada['Date'].isin(df_noticia_dias_sem_pregao['Date'])])['Noticias'].values, df_noticia_dias_sem_pregao['Noticias'].values)\n",
    "        \n",
    "    else:\n",
    "        #Insere o novo registro\n",
    "        df_news_diaria_atualizada = df_news_diaria_atualizada.append(df_noticia_dias_sem_pregao, ignore_index = True)"
   ]
  },
  {
   "cell_type": "code",
   "execution_count": 57,
   "metadata": {
    "colab": {
     "base_uri": "https://localhost:8080/"
    },
    "id": "T48ApqLytxA6",
    "outputId": "9e747f6b-952a-41ad-a2dc-4e3bc124aed5"
   },
   "outputs": [
    {
     "data": {
      "text/plain": [
       "(299, 306)"
      ]
     },
     "execution_count": 57,
     "metadata": {},
     "output_type": "execute_result"
    }
   ],
   "source": [
    "len(df_news_diaria), len(df_news_diaria_atualizada)"
   ]
  },
  {
   "cell_type": "markdown",
   "metadata": {
    "id": "FTaD-Te1txA6"
   },
   "source": [
    "## 4.8 Mesclando o dataframe noticias finais e ações"
   ]
  },
  {
   "cell_type": "code",
   "execution_count": 58,
   "metadata": {
    "colab": {
     "base_uri": "https://localhost:8080/",
     "height": 363
    },
    "id": "cMe4z2J2txA6",
    "outputId": "b98005cc-12f3-4557-f223-e45075f0f000"
   },
   "outputs": [
    {
     "data": {
      "text/html": [
       "<div>\n",
       "<style scoped>\n",
       "    .dataframe tbody tr th:only-of-type {\n",
       "        vertical-align: middle;\n",
       "    }\n",
       "\n",
       "    .dataframe tbody tr th {\n",
       "        vertical-align: top;\n",
       "    }\n",
       "\n",
       "    .dataframe thead th {\n",
       "        text-align: right;\n",
       "    }\n",
       "</style>\n",
       "<table border=\"1\" class=\"dataframe\">\n",
       "  <thead>\n",
       "    <tr style=\"text-align: right;\">\n",
       "      <th></th>\n",
       "      <th>Date</th>\n",
       "      <th>Adj Close</th>\n",
       "      <th>Volume</th>\n",
       "      <th>Var%</th>\n",
       "      <th>Fechamento</th>\n",
       "      <th>Noticias</th>\n",
       "    </tr>\n",
       "  </thead>\n",
       "  <tbody>\n",
       "    <tr>\n",
       "      <th>0</th>\n",
       "      <td>2021-01-04</td>\n",
       "      <td>19.27</td>\n",
       "      <td>74719700</td>\n",
       "      <td>0.02</td>\n",
       "      <td>1</td>\n",
       "      <td>tcu avalia barrar venda de refinaria da petro...</td>\n",
       "    </tr>\n",
       "    <tr>\n",
       "      <th>1</th>\n",
       "      <td>2021-01-05</td>\n",
       "      <td>20.03</td>\n",
       "      <td>95181100</td>\n",
       "      <td>0.04</td>\n",
       "      <td>1</td>\n",
       "      <td>petrobras (petr4) inicia contratação de nona ...</td>\n",
       "    </tr>\n",
       "    <tr>\n",
       "      <th>2</th>\n",
       "      <td>2021-01-06</td>\n",
       "      <td>20.07</td>\n",
       "      <td>96562500</td>\n",
       "      <td>0.00</td>\n",
       "      <td>1</td>\n",
       "      <td>valor de venda de refinaria da petrobras é qu...</td>\n",
       "    </tr>\n",
       "    <tr>\n",
       "      <th>3</th>\n",
       "      <td>2021-01-07</td>\n",
       "      <td>20.67</td>\n",
       "      <td>56171300</td>\n",
       "      <td>0.03</td>\n",
       "      <td>1</td>\n",
       "      <td>petrobras confirma venda da fatia na br distr...</td>\n",
       "    </tr>\n",
       "    <tr>\n",
       "      <th>4</th>\n",
       "      <td>2021-01-08</td>\n",
       "      <td>20.75</td>\n",
       "      <td>67136300</td>\n",
       "      <td>0.00</td>\n",
       "      <td>1</td>\n",
       "      <td>NaN</td>\n",
       "    </tr>\n",
       "    <tr>\n",
       "      <th>5</th>\n",
       "      <td>2021-01-11</td>\n",
       "      <td>20.57</td>\n",
       "      <td>48744700</td>\n",
       "      <td>-0.01</td>\n",
       "      <td>0</td>\n",
       "      <td>silva e luna 'militariza' cúpula da petrobra...</td>\n",
       "    </tr>\n",
       "    <tr>\n",
       "      <th>6</th>\n",
       "      <td>2021-01-12</td>\n",
       "      <td>20.42</td>\n",
       "      <td>65691900</td>\n",
       "      <td>-0.01</td>\n",
       "      <td>0</td>\n",
       "      <td>árabes assumem nesta quarta primeira refinari...</td>\n",
       "    </tr>\n",
       "    <tr>\n",
       "      <th>7</th>\n",
       "      <td>2021-01-13</td>\n",
       "      <td>19.43</td>\n",
       "      <td>93826600</td>\n",
       "      <td>-0.05</td>\n",
       "      <td>0</td>\n",
       "      <td>petrobras é a segunda maior do mundo em opera...</td>\n",
       "    </tr>\n",
       "    <tr>\n",
       "      <th>8</th>\n",
       "      <td>2021-01-14</td>\n",
       "      <td>19.63</td>\n",
       "      <td>50745400</td>\n",
       "      <td>0.01</td>\n",
       "      <td>1</td>\n",
       "      <td>NaN</td>\n",
       "    </tr>\n",
       "    <tr>\n",
       "      <th>9</th>\n",
       "      <td>2021-01-15</td>\n",
       "      <td>18.75</td>\n",
       "      <td>80673300</td>\n",
       "      <td>-0.05</td>\n",
       "      <td>0</td>\n",
       "      <td>NaN</td>\n",
       "    </tr>\n",
       "  </tbody>\n",
       "</table>\n",
       "</div>"
      ],
      "text/plain": [
       "        Date  Adj Close    Volume  Var%  Fechamento  \\\n",
       "0 2021-01-04      19.27  74719700  0.02           1   \n",
       "1 2021-01-05      20.03  95181100  0.04           1   \n",
       "2 2021-01-06      20.07  96562500  0.00           1   \n",
       "3 2021-01-07      20.67  56171300  0.03           1   \n",
       "4 2021-01-08      20.75  67136300  0.00           1   \n",
       "5 2021-01-11      20.57  48744700 -0.01           0   \n",
       "6 2021-01-12      20.42  65691900 -0.01           0   \n",
       "7 2021-01-13      19.43  93826600 -0.05           0   \n",
       "8 2021-01-14      19.63  50745400  0.01           1   \n",
       "9 2021-01-15      18.75  80673300 -0.05           0   \n",
       "\n",
       "                                            Noticias  \n",
       "0   tcu avalia barrar venda de refinaria da petro...  \n",
       "1   petrobras (petr4) inicia contratação de nona ...  \n",
       "2   valor de venda de refinaria da petrobras é qu...  \n",
       "3   petrobras confirma venda da fatia na br distr...  \n",
       "4                                                NaN  \n",
       "5    silva e luna 'militariza' cúpula da petrobra...  \n",
       "6   árabes assumem nesta quarta primeira refinari...  \n",
       "7   petrobras é a segunda maior do mundo em opera...  \n",
       "8                                                NaN  \n",
       "9                                                NaN  "
      ]
     },
     "execution_count": 58,
     "metadata": {},
     "output_type": "execute_result"
    }
   ],
   "source": [
    "df_final = pd.merge(left = df_petro, right = df_news_diaria_atualizada, how = 'left', on = 'Date')\n",
    "df_final.head(10)"
   ]
  },
  {
   "cell_type": "code",
   "execution_count": 59,
   "metadata": {
    "colab": {
     "base_uri": "https://localhost:8080/",
     "height": 425
    },
    "id": "s1o_Hwy_txA6",
    "outputId": "01c476c4-81d5-4cd5-fc1d-ecdf23410617"
   },
   "outputs": [
    {
     "data": {
      "text/html": [
       "<div>\n",
       "<style scoped>\n",
       "    .dataframe tbody tr th:only-of-type {\n",
       "        vertical-align: middle;\n",
       "    }\n",
       "\n",
       "    .dataframe tbody tr th {\n",
       "        vertical-align: top;\n",
       "    }\n",
       "\n",
       "    .dataframe thead th {\n",
       "        text-align: right;\n",
       "    }\n",
       "</style>\n",
       "<table border=\"1\" class=\"dataframe\">\n",
       "  <thead>\n",
       "    <tr style=\"text-align: right;\">\n",
       "      <th></th>\n",
       "      <th>Date</th>\n",
       "      <th>Noticias</th>\n",
       "    </tr>\n",
       "  </thead>\n",
       "  <tbody>\n",
       "    <tr>\n",
       "      <th>0</th>\n",
       "      <td>2021-01-01</td>\n",
       "      <td>a construção naval brasileira tem chances de ...</td>\n",
       "    </tr>\n",
       "    <tr>\n",
       "      <th>1</th>\n",
       "      <td>2021-01-03</td>\n",
       "      <td>petrobras reajusta preço da gasolina pela qui...</td>\n",
       "    </tr>\n",
       "    <tr>\n",
       "      <th>2</th>\n",
       "      <td>2021-01-04</td>\n",
       "      <td>tcu avalia barrar venda de refinaria da petro...</td>\n",
       "    </tr>\n",
       "    <tr>\n",
       "      <th>3</th>\n",
       "      <td>2021-01-05</td>\n",
       "      <td>petrobras (petr4) inicia contratação de nona ...</td>\n",
       "    </tr>\n",
       "    <tr>\n",
       "      <th>4</th>\n",
       "      <td>2021-01-06</td>\n",
       "      <td>valor de venda de refinaria da petrobras é qu...</td>\n",
       "    </tr>\n",
       "    <tr>\n",
       "      <th>5</th>\n",
       "      <td>2021-01-07</td>\n",
       "      <td>petrobras confirma venda da fatia na br distr...</td>\n",
       "    </tr>\n",
       "    <tr>\n",
       "      <th>6</th>\n",
       "      <td>2021-01-09</td>\n",
       "      <td>silva e luna 'militariza' cúpula da petrobras...</td>\n",
       "    </tr>\n",
       "    <tr>\n",
       "      <th>7</th>\n",
       "      <td>2021-01-10</td>\n",
       "      <td>bolsonaro sugere usar dividendos da petrobras...</td>\n",
       "    </tr>\n",
       "    <tr>\n",
       "      <th>8</th>\n",
       "      <td>2021-01-11</td>\n",
       "      <td>silva e luna 'militariza' cúpula da petrobra...</td>\n",
       "    </tr>\n",
       "    <tr>\n",
       "      <th>9</th>\n",
       "      <td>2021-01-12</td>\n",
       "      <td>árabes assumem nesta quarta primeira refinari...</td>\n",
       "    </tr>\n",
       "    <tr>\n",
       "      <th>10</th>\n",
       "      <td>2021-01-13</td>\n",
       "      <td>petrobras é a segunda maior do mundo em opera...</td>\n",
       "    </tr>\n",
       "    <tr>\n",
       "      <th>11</th>\n",
       "      <td>2021-01-16</td>\n",
       "      <td>mais de 100 vagas de emprego no setor de petr...</td>\n",
       "    </tr>\n",
       "  </tbody>\n",
       "</table>\n",
       "</div>"
      ],
      "text/plain": [
       "         Date                                           Noticias\n",
       "0  2021-01-01   a construção naval brasileira tem chances de ...\n",
       "1  2021-01-03   petrobras reajusta preço da gasolina pela qui...\n",
       "2  2021-01-04   tcu avalia barrar venda de refinaria da petro...\n",
       "3  2021-01-05   petrobras (petr4) inicia contratação de nona ...\n",
       "4  2021-01-06   valor de venda de refinaria da petrobras é qu...\n",
       "5  2021-01-07   petrobras confirma venda da fatia na br distr...\n",
       "6  2021-01-09   silva e luna 'militariza' cúpula da petrobras...\n",
       "7  2021-01-10   bolsonaro sugere usar dividendos da petrobras...\n",
       "8  2021-01-11    silva e luna 'militariza' cúpula da petrobra...\n",
       "9  2021-01-12   árabes assumem nesta quarta primeira refinari...\n",
       "10 2021-01-13   petrobras é a segunda maior do mundo em opera...\n",
       "11 2021-01-16   mais de 100 vagas de emprego no setor de petr..."
      ]
     },
     "execution_count": 59,
     "metadata": {},
     "output_type": "execute_result"
    }
   ],
   "source": [
    "df_news_diaria_atualizada.head(12)"
   ]
  },
  {
   "cell_type": "code",
   "execution_count": 60,
   "metadata": {
    "colab": {
     "base_uri": "https://localhost:8080/"
    },
    "id": "-3xFXjI9txA6",
    "outputId": "daa44a3a-821e-47e7-c106-4c5ac2b52124"
   },
   "outputs": [
    {
     "data": {
      "text/plain": [
       "(4     2021-01-08\n",
       " 8     2021-01-14\n",
       " 9     2021-01-15\n",
       " 13    2021-01-21\n",
       " 16    2021-01-27\n",
       " 22    2021-02-04\n",
       " 40    2021-03-04\n",
       " 41    2021-03-05\n",
       " 43    2021-03-09\n",
       " 51    2021-03-19\n",
       " 63    2021-04-07\n",
       " 68    2021-04-14\n",
       " 72    2021-04-20\n",
       " 83    2021-05-06\n",
       " 87    2021-05-12\n",
       " 117   2021-06-24\n",
       " 122   2021-07-01\n",
       " 134   2021-07-20\n",
       " 136   2021-07-22\n",
       " 140   2021-07-28\n",
       " 142   2021-07-30\n",
       " 146   2021-08-05\n",
       " 147   2021-08-06\n",
       " 152   2021-08-13\n",
       " 170   2021-09-09\n",
       " 171   2021-09-10\n",
       " 208   2021-11-04\n",
       " 220   2021-11-23\n",
       " Name: Date, dtype: datetime64[ns],\n",
       " 28)"
      ]
     },
     "execution_count": 60,
     "metadata": {},
     "output_type": "execute_result"
    }
   ],
   "source": [
    "df_final[(df_final['Noticias'].isnull())].Date, len(df_final[(df_final['Noticias'].isnull())].Date)"
   ]
  },
  {
   "cell_type": "markdown",
   "metadata": {
    "id": "u0ikKNk3txA6"
   },
   "source": [
    "No total houveram 28 registros de pregões sem atribuição de noticias.\n",
    "\n",
    "Para esses registros observou-se que:  \n",
    "\n",
    "**1) Não houveram noticias na respectiva data e/ou**  \n",
    "**2) Considerando as datas sem pregões que antecederam a data do pregão também não houveram noticias.**  "
   ]
  },
  {
   "cell_type": "code",
   "execution_count": 61,
   "metadata": {
    "colab": {
     "base_uri": "https://localhost:8080/"
    },
    "id": "Vj6ccR0otxA7",
    "outputId": "86d8a353-6150-4235-9048-8c37725308e6"
   },
   "outputs": [
    {
     "data": {
      "text/plain": [
       "(247, 28)"
      ]
     },
     "execution_count": 61,
     "metadata": {},
     "output_type": "execute_result"
    }
   ],
   "source": [
    "len(df_final), len(df_final[(df_final['Noticias'].isnull())].Date)"
   ]
  },
  {
   "cell_type": "markdown",
   "metadata": {
    "id": "AjjQVDPdtxA7"
   },
   "source": [
    "## 4.9 Exclusão dias com pregões sem noticias"
   ]
  },
  {
   "cell_type": "code",
   "execution_count": 62,
   "metadata": {
    "id": "Vt8ot-gRtxA7"
   },
   "outputs": [],
   "source": [
    "df_final = df_final.dropna()"
   ]
  },
  {
   "cell_type": "code",
   "execution_count": 63,
   "metadata": {
    "colab": {
     "base_uri": "https://localhost:8080/"
    },
    "id": "LjELo_UitxA7",
    "outputId": "6f98d617-31d5-4020-b2c0-04105ffab61e"
   },
   "outputs": [
    {
     "data": {
      "text/plain": [
       "219"
      ]
     },
     "execution_count": 63,
     "metadata": {},
     "output_type": "execute_result"
    }
   ],
   "source": [
    "len(df_final)"
   ]
  },
  {
   "cell_type": "markdown",
   "metadata": {
    "id": "GLQVL39etxA7"
   },
   "source": [
    "# 5.0 NLP\n",
    "\n",
    "Será realizado o levantamento das palavras mais frequentes em notícias para inputação de polaridade no dicionário SentilexPT caso não existam ainda."
   ]
  },
  {
   "cell_type": "markdown",
   "metadata": {
    "id": "9i3yaRNmtxA8"
   },
   "source": [
    "# 5.1 SentilexPT: Inputação de polaridade de novos termos ao dicionário SentilexPT"
   ]
  },
  {
   "cell_type": "code",
   "execution_count": 64,
   "metadata": {
    "id": "4uZXrSPStxA8"
   },
   "outputs": [],
   "source": [
    "sentilexpt = open('SentiLex-lem-PT01.txt','r')"
   ]
  },
  {
   "cell_type": "markdown",
   "metadata": {
    "id": "ezhLs9TptxA8"
   },
   "source": [
    "Criando um dicionário com polaridades"
   ]
  },
  {
   "cell_type": "code",
   "execution_count": 65,
   "metadata": {
    "id": "93LoJ66btxA8"
   },
   "outputs": [],
   "source": [
    "dic_palavra_polaridade = {}\n",
    "for i in sentilexpt.readlines():\n",
    "    pos_ponto = i.find('.')            # obtem a posiçãodo caracter ponto\n",
    "    palavra = (i[:pos_ponto])          # Pega a palavra\n",
    "    pol_pos = i.find('POL')            # obtem a posição do inicio da string POL\n",
    "    polaridade = (i[pol_pos+4:pol_pos+6]).replace(';','')         # obtem a polaridade da palavra\n",
    "    dic_palavra_polaridade[palavra] = polaridade                  # atualiza o dicionario com a palavra a polaridade"
   ]
  },
  {
   "cell_type": "code",
   "execution_count": 66,
   "metadata": {
    "colab": {
     "base_uri": "https://localhost:8080/"
    },
    "id": "fv9M4WICtxA8",
    "outputId": "bef80ee4-e766-4549-f3af-9c7a9f67e863"
   },
   "outputs": [
    {
     "name": "stdout",
     "output_type": "stream",
     "text": [
      "1\n"
     ]
    }
   ],
   "source": [
    "print (dic_palavra_polaridade.get('legal'))"
   ]
  },
  {
   "cell_type": "code",
   "execution_count": 67,
   "metadata": {
    "colab": {
     "base_uri": "https://localhost:8080/"
    },
    "id": "g1bu0NHstxA8",
    "outputId": "dcaad2b7-a107-409d-f9b3-1c3de8b623ce"
   },
   "outputs": [
    {
     "name": "stdout",
     "output_type": "stream",
     "text": [
      "-1\n"
     ]
    }
   ],
   "source": [
    "print (dic_palavra_polaridade.get('chato'))"
   ]
  },
  {
   "cell_type": "code",
   "execution_count": 68,
   "metadata": {
    "id": "4_ip7e4JtxA8"
   },
   "outputs": [],
   "source": [
    "def Score_sentimento(frase):\n",
    "    frase = frase.lower()                     # coloca toda a frase em minusculo\n",
    "    l_sentimento = []                         # cria uma lista vazia\n",
    "    for p in frase.split():\n",
    "        l_sentimento.append(int(dic_palavra_polaridade.get(p, 0)))      # para cada palavra obtem a polaridade\n",
    "    #print (l_sentimento)                                                # imprime a lista de polaridades\n",
    "    score = sum(l_sentimento)                                           # soma todos os valores da lista\n",
    "    #if score > 0:\n",
    "        #return 'Positivo, Score:{}'.format(score)                       # se maior que 0 retorna 'positivo'\n",
    "    #elif score == 0:\n",
    "        #return 'Neutro, Score:{}'.format(score)                         # se igual a 0 retorna 'neutro'\n",
    "    #else:\n",
    "        #return 'Negativo, Score:{}'.format(score)                       # se menor que 0 retorna 'negativo'\n",
    "        \n",
    "    return score"
   ]
  },
  {
   "cell_type": "code",
   "execution_count": 69,
   "metadata": {
    "id": "R4ZuatJatxA9"
   },
   "outputs": [],
   "source": [
    "def sentimento(score):\n",
    "    if score > 0:\n",
    "        return 'Positivo'                      # se maior que 0 retorna 'positivo'\n",
    "    elif score == 0:\n",
    "        return 'Neutro'                     # se igual a 0 retorna 'neutro'\n",
    "    else:\n",
    "        return 'Negativo'                     # se menor que 0 retorna 'negativo'\n",
    "        \n",
    "    return score"
   ]
  },
  {
   "cell_type": "code",
   "execution_count": 70,
   "metadata": {
    "colab": {
     "base_uri": "https://localhost:8080/"
    },
    "id": "dVqEG3Q-txA9",
    "outputId": "e5007524-d679-4ea1-a01c-0c043e00d6cd"
   },
   "outputs": [
    {
     "data": {
      "text/plain": [
       "-2"
      ]
     },
     "execution_count": 70,
     "metadata": {},
     "output_type": "execute_result"
    }
   ],
   "source": [
    "testescore = Score_sentimento(\"DescaRadO e feIo\")\n",
    "testescore"
   ]
  },
  {
   "cell_type": "code",
   "execution_count": 71,
   "metadata": {
    "colab": {
     "base_uri": "https://localhost:8080/",
     "height": 36
    },
    "id": "1oU4EitZtxA9",
    "outputId": "652a3c29-80db-4a8d-a3d2-971891fe3f04"
   },
   "outputs": [
    {
     "data": {
      "text/plain": [
       "'Negativo'"
      ]
     },
     "execution_count": 71,
     "metadata": {},
     "output_type": "execute_result"
    }
   ],
   "source": [
    "sentimento(testescore)"
   ]
  },
  {
   "cell_type": "code",
   "execution_count": 72,
   "metadata": {
    "id": "SHe2jjWntxA9"
   },
   "outputs": [],
   "source": [
    "df_final2 = df_final.copy()"
   ]
  },
  {
   "cell_type": "code",
   "execution_count": 73,
   "metadata": {
    "colab": {
     "base_uri": "https://localhost:8080/",
     "height": 423
    },
    "id": "QxZzvKXWtxA9",
    "outputId": "e51f611c-7319-4fb0-c13a-93d3e1f7ca7e"
   },
   "outputs": [
    {
     "data": {
      "text/html": [
       "<div>\n",
       "<style scoped>\n",
       "    .dataframe tbody tr th:only-of-type {\n",
       "        vertical-align: middle;\n",
       "    }\n",
       "\n",
       "    .dataframe tbody tr th {\n",
       "        vertical-align: top;\n",
       "    }\n",
       "\n",
       "    .dataframe thead th {\n",
       "        text-align: right;\n",
       "    }\n",
       "</style>\n",
       "<table border=\"1\" class=\"dataframe\">\n",
       "  <thead>\n",
       "    <tr style=\"text-align: right;\">\n",
       "      <th></th>\n",
       "      <th>Date</th>\n",
       "      <th>Adj Close</th>\n",
       "      <th>Volume</th>\n",
       "      <th>Var%</th>\n",
       "      <th>Fechamento</th>\n",
       "      <th>Noticias</th>\n",
       "      <th>score</th>\n",
       "      <th>Sentimento</th>\n",
       "    </tr>\n",
       "  </thead>\n",
       "  <tbody>\n",
       "    <tr>\n",
       "      <th>0</th>\n",
       "      <td>2021-01-04</td>\n",
       "      <td>19.27</td>\n",
       "      <td>74719700</td>\n",
       "      <td>0.02</td>\n",
       "      <td>1</td>\n",
       "      <td>tcu avalia barrar venda de refinaria da petro...</td>\n",
       "      <td>-1</td>\n",
       "      <td>Negativo</td>\n",
       "    </tr>\n",
       "    <tr>\n",
       "      <th>1</th>\n",
       "      <td>2021-01-05</td>\n",
       "      <td>20.03</td>\n",
       "      <td>95181100</td>\n",
       "      <td>0.04</td>\n",
       "      <td>1</td>\n",
       "      <td>petrobras (petr4) inicia contratação de nona ...</td>\n",
       "      <td>0</td>\n",
       "      <td>Neutro</td>\n",
       "    </tr>\n",
       "    <tr>\n",
       "      <th>2</th>\n",
       "      <td>2021-01-06</td>\n",
       "      <td>20.07</td>\n",
       "      <td>96562500</td>\n",
       "      <td>0.00</td>\n",
       "      <td>1</td>\n",
       "      <td>valor de venda de refinaria da petrobras é qu...</td>\n",
       "      <td>-1</td>\n",
       "      <td>Negativo</td>\n",
       "    </tr>\n",
       "    <tr>\n",
       "      <th>3</th>\n",
       "      <td>2021-01-07</td>\n",
       "      <td>20.67</td>\n",
       "      <td>56171300</td>\n",
       "      <td>0.03</td>\n",
       "      <td>1</td>\n",
       "      <td>petrobras confirma venda da fatia na br distr...</td>\n",
       "      <td>0</td>\n",
       "      <td>Neutro</td>\n",
       "    </tr>\n",
       "    <tr>\n",
       "      <th>5</th>\n",
       "      <td>2021-01-11</td>\n",
       "      <td>20.57</td>\n",
       "      <td>48744700</td>\n",
       "      <td>-0.01</td>\n",
       "      <td>0</td>\n",
       "      <td>silva e luna 'militariza' cúpula da petrobra...</td>\n",
       "      <td>0</td>\n",
       "      <td>Neutro</td>\n",
       "    </tr>\n",
       "    <tr>\n",
       "      <th>...</th>\n",
       "      <td>...</td>\n",
       "      <td>...</td>\n",
       "      <td>...</td>\n",
       "      <td>...</td>\n",
       "      <td>...</td>\n",
       "      <td>...</td>\n",
       "      <td>...</td>\n",
       "      <td>...</td>\n",
       "    </tr>\n",
       "    <tr>\n",
       "      <th>242</th>\n",
       "      <td>2021-12-23</td>\n",
       "      <td>23.24</td>\n",
       "      <td>28713600</td>\n",
       "      <td>0.01</td>\n",
       "      <td>1</td>\n",
       "      <td>programa da petrobras que reforça capital de ...</td>\n",
       "      <td>-1</td>\n",
       "      <td>Negativo</td>\n",
       "    </tr>\n",
       "    <tr>\n",
       "      <th>243</th>\n",
       "      <td>2021-12-27</td>\n",
       "      <td>23.58</td>\n",
       "      <td>44227900</td>\n",
       "      <td>0.01</td>\n",
       "      <td>1</td>\n",
       "      <td>petrobras vende carmópolis por us$ 1,1 bilhã...</td>\n",
       "      <td>3</td>\n",
       "      <td>Positivo</td>\n",
       "    </tr>\n",
       "    <tr>\n",
       "      <th>244</th>\n",
       "      <td>2021-12-28</td>\n",
       "      <td>23.61</td>\n",
       "      <td>30688100</td>\n",
       "      <td>0.00</td>\n",
       "      <td>1</td>\n",
       "      <td>distribuidoras de gás de 5 estados entram na ...</td>\n",
       "      <td>0</td>\n",
       "      <td>Neutro</td>\n",
       "    </tr>\n",
       "    <tr>\n",
       "      <th>245</th>\n",
       "      <td>2021-12-29</td>\n",
       "      <td>23.41</td>\n",
       "      <td>35508400</td>\n",
       "      <td>-0.01</td>\n",
       "      <td>0</td>\n",
       "      <td>petrobras vai recorrer de decisão que suspend...</td>\n",
       "      <td>3</td>\n",
       "      <td>Positivo</td>\n",
       "    </tr>\n",
       "    <tr>\n",
       "      <th>246</th>\n",
       "      <td>2021-12-30</td>\n",
       "      <td>23.34</td>\n",
       "      <td>43229100</td>\n",
       "      <td>-0.00</td>\n",
       "      <td>0</td>\n",
       "      <td>judicialização coloca mercado de gás em risco...</td>\n",
       "      <td>0</td>\n",
       "      <td>Neutro</td>\n",
       "    </tr>\n",
       "  </tbody>\n",
       "</table>\n",
       "<p>219 rows × 8 columns</p>\n",
       "</div>"
      ],
      "text/plain": [
       "          Date  Adj Close    Volume  Var%  Fechamento  \\\n",
       "0   2021-01-04      19.27  74719700  0.02           1   \n",
       "1   2021-01-05      20.03  95181100  0.04           1   \n",
       "2   2021-01-06      20.07  96562500  0.00           1   \n",
       "3   2021-01-07      20.67  56171300  0.03           1   \n",
       "5   2021-01-11      20.57  48744700 -0.01           0   \n",
       "..         ...        ...       ...   ...         ...   \n",
       "242 2021-12-23      23.24  28713600  0.01           1   \n",
       "243 2021-12-27      23.58  44227900  0.01           1   \n",
       "244 2021-12-28      23.61  30688100  0.00           1   \n",
       "245 2021-12-29      23.41  35508400 -0.01           0   \n",
       "246 2021-12-30      23.34  43229100 -0.00           0   \n",
       "\n",
       "                                              Noticias  score Sentimento  \n",
       "0     tcu avalia barrar venda de refinaria da petro...     -1   Negativo  \n",
       "1     petrobras (petr4) inicia contratação de nona ...      0     Neutro  \n",
       "2     valor de venda de refinaria da petrobras é qu...     -1   Negativo  \n",
       "3     petrobras confirma venda da fatia na br distr...      0     Neutro  \n",
       "5      silva e luna 'militariza' cúpula da petrobra...      0     Neutro  \n",
       "..                                                 ...    ...        ...  \n",
       "242   programa da petrobras que reforça capital de ...     -1   Negativo  \n",
       "243    petrobras vende carmópolis por us$ 1,1 bilhã...      3   Positivo  \n",
       "244   distribuidoras de gás de 5 estados entram na ...      0     Neutro  \n",
       "245   petrobras vai recorrer de decisão que suspend...      3   Positivo  \n",
       "246   judicialização coloca mercado de gás em risco...      0     Neutro  \n",
       "\n",
       "[219 rows x 8 columns]"
      ]
     },
     "execution_count": 73,
     "metadata": {},
     "output_type": "execute_result"
    }
   ],
   "source": [
    "df_final2['score'] = df_final2['Noticias'].apply(lambda x: Score_sentimento(x))\n",
    "df_final2['Sentimento'] = df_final2['score'].apply(lambda x: sentimento(x))\n",
    "df_final2"
   ]
  },
  {
   "cell_type": "markdown",
   "metadata": {
    "id": "ZPYWuJY6txA9"
   },
   "source": [
    "## Criando novo DF com etapas de stopwords e lemmatization:"
   ]
  },
  {
   "cell_type": "code",
   "execution_count": 74,
   "metadata": {
    "colab": {
     "base_uri": "https://localhost:8080/"
    },
    "id": "L4LPsG9StxA9",
    "outputId": "8015671e-73a4-450a-dafe-2e5eebc8ed11"
   },
   "outputs": [
    {
     "name": "stderr",
     "output_type": "stream",
     "text": [
      "[nltk_data] Downloading package stopwords to C:\\Users\\HP ZBook\n",
      "[nltk_data]     15\\AppData\\Roaming\\nltk_data...\n",
      "[nltk_data]   Package stopwords is already up-to-date!\n",
      "[nltk_data] Downloading package rslp to C:\\Users\\HP ZBook\n",
      "[nltk_data]     15\\AppData\\Roaming\\nltk_data...\n",
      "[nltk_data]   Package rslp is already up-to-date!\n"
     ]
    },
    {
     "data": {
      "text/plain": [
       "True"
      ]
     },
     "execution_count": 74,
     "metadata": {},
     "output_type": "execute_result"
    }
   ],
   "source": [
    "import nltk\n",
    "nltk.download('stopwords')\n",
    "nltk.download('rslp')"
   ]
  },
  {
   "cell_type": "code",
   "execution_count": 75,
   "metadata": {
    "id": "yVQ7aPr6txA-"
   },
   "outputs": [],
   "source": [
    "def RemoveStopWords(instancia):\n",
    "    stopwords = set(nltk.corpus.stopwords.words('portuguese'))\n",
    "    palavras = [i for i in instancia.split() if not i in stopwords]\n",
    "    return (\" \".join(palavras))"
   ]
  },
  {
   "cell_type": "code",
   "execution_count": 76,
   "metadata": {
    "id": "yNqaI-bJtxA_"
   },
   "outputs": [],
   "source": [
    "def Stemming(instancia):\n",
    "    stemmer = nltk.stem.RSLPStemmer()\n",
    "    palavras = []\n",
    "    for w in instancia.split():\n",
    "        palavras.append(stemmer.stem(w))\n",
    "    return (\" \".join(palavras))"
   ]
  },
  {
   "cell_type": "code",
   "execution_count": 77,
   "metadata": {
    "id": "yV1v8RGEtxA_"
   },
   "outputs": [],
   "source": [
    "def Preprocessing_pt(instancia):\n",
    "    stemmer = nltk.stem.RSLPStemmer()\n",
    "    stopwords = set(nltk.corpus.stopwords.words('portuguese'))\n",
    "    palavras = [stemmer.stem(i) for i in instancia.split() if not i in stopwords]\n",
    "    return (\" \".join(palavras))\n"
   ]
  },
  {
   "cell_type": "code",
   "execution_count": 78,
   "metadata": {
    "id": "zHuui5HrtxA_"
   },
   "outputs": [],
   "source": [
    "def Preprocessing_en(instancia):\n",
    "    stemmer = nltk.stem.RSLPStemmer()\n",
    "    stopwords = set(nltk.corpus.stopwords.words('english'))\n",
    "    palavras = [stemmer.stem(i) for i in instancia.split() if not i in stopwords]\n",
    "    return (\" \".join(palavras))"
   ]
  },
  {
   "cell_type": "code",
   "execution_count": 79,
   "metadata": {
    "id": "Mdz0KHm3txA_"
   },
   "outputs": [],
   "source": [
    "df_final2_tratado = df_final2.copy()"
   ]
  },
  {
   "cell_type": "code",
   "execution_count": 80,
   "metadata": {
    "id": "zRgCRz4ZtxA_"
   },
   "outputs": [],
   "source": [
    "df_final2_tratado['Noticias'] = df_final2_tratado['Noticias'].apply(lambda x: Preprocessing_pt(x))"
   ]
  },
  {
   "cell_type": "code",
   "execution_count": 81,
   "metadata": {
    "colab": {
     "base_uri": "https://localhost:8080/",
     "height": 206
    },
    "id": "YSDTbghJtxA_",
    "outputId": "f4423648-e7b4-4e20-bfe5-56cf68966d4f"
   },
   "outputs": [
    {
     "data": {
      "text/html": [
       "<div>\n",
       "<style scoped>\n",
       "    .dataframe tbody tr th:only-of-type {\n",
       "        vertical-align: middle;\n",
       "    }\n",
       "\n",
       "    .dataframe tbody tr th {\n",
       "        vertical-align: top;\n",
       "    }\n",
       "\n",
       "    .dataframe thead th {\n",
       "        text-align: right;\n",
       "    }\n",
       "</style>\n",
       "<table border=\"1\" class=\"dataframe\">\n",
       "  <thead>\n",
       "    <tr style=\"text-align: right;\">\n",
       "      <th></th>\n",
       "      <th>Date</th>\n",
       "      <th>Adj Close</th>\n",
       "      <th>Volume</th>\n",
       "      <th>Var%</th>\n",
       "      <th>Fechamento</th>\n",
       "      <th>Noticias</th>\n",
       "      <th>score</th>\n",
       "      <th>Sentimento</th>\n",
       "    </tr>\n",
       "  </thead>\n",
       "  <tbody>\n",
       "    <tr>\n",
       "      <th>0</th>\n",
       "      <td>2021-01-04</td>\n",
       "      <td>19.27</td>\n",
       "      <td>74719700</td>\n",
       "      <td>0.02</td>\n",
       "      <td>1</td>\n",
       "      <td>tcu aval barr vend refin petrobr fund árab ven...</td>\n",
       "      <td>0</td>\n",
       "      <td>Neutro</td>\n",
       "    </tr>\n",
       "    <tr>\n",
       "      <th>1</th>\n",
       "      <td>2021-01-05</td>\n",
       "      <td>20.03</td>\n",
       "      <td>95181100</td>\n",
       "      <td>0.04</td>\n",
       "      <td>1</td>\n",
       "      <td>petrobr (petr4) inic contrat non unidad camp b...</td>\n",
       "      <td>0</td>\n",
       "      <td>Neutro</td>\n",
       "    </tr>\n",
       "    <tr>\n",
       "      <th>2</th>\n",
       "      <td>2021-01-06</td>\n",
       "      <td>20.07</td>\n",
       "      <td>96562500</td>\n",
       "      <td>0.00</td>\n",
       "      <td>1</td>\n",
       "      <td>val vend refin petrobr question ... rad traz v...</td>\n",
       "      <td>1</td>\n",
       "      <td>Positivo</td>\n",
       "    </tr>\n",
       "    <tr>\n",
       "      <th>3</th>\n",
       "      <td>2021-01-07</td>\n",
       "      <td>20.67</td>\n",
       "      <td>56171300</td>\n",
       "      <td>0.03</td>\n",
       "      <td>1</td>\n",
       "      <td>petrobr confirm vend fati br distribu embols r...</td>\n",
       "      <td>0</td>\n",
       "      <td>Neutro</td>\n",
       "    </tr>\n",
       "    <tr>\n",
       "      <th>5</th>\n",
       "      <td>2021-01-11</td>\n",
       "      <td>20.57</td>\n",
       "      <td>48744700</td>\n",
       "      <td>-0.01</td>\n",
       "      <td>0</td>\n",
       "      <td>silv lun 'militariza' cúpul petrobr petrobr co...</td>\n",
       "      <td>0</td>\n",
       "      <td>Neutro</td>\n",
       "    </tr>\n",
       "  </tbody>\n",
       "</table>\n",
       "</div>"
      ],
      "text/plain": [
       "        Date  Adj Close    Volume  Var%  Fechamento  \\\n",
       "0 2021-01-04      19.27  74719700  0.02           1   \n",
       "1 2021-01-05      20.03  95181100  0.04           1   \n",
       "2 2021-01-06      20.07  96562500  0.00           1   \n",
       "3 2021-01-07      20.67  56171300  0.03           1   \n",
       "5 2021-01-11      20.57  48744700 -0.01           0   \n",
       "\n",
       "                                            Noticias  score Sentimento  \n",
       "0  tcu aval barr vend refin petrobr fund árab ven...      0     Neutro  \n",
       "1  petrobr (petr4) inic contrat non unidad camp b...      0     Neutro  \n",
       "2  val vend refin petrobr question ... rad traz v...      1   Positivo  \n",
       "3  petrobr confirm vend fati br distribu embols r...      0     Neutro  \n",
       "5  silv lun 'militariza' cúpul petrobr petrobr co...      0     Neutro  "
      ]
     },
     "execution_count": 81,
     "metadata": {},
     "output_type": "execute_result"
    }
   ],
   "source": [
    "df_final2_tratado['score'] = df_final2_tratado['Noticias'].apply(lambda x: Score_sentimento(x))\n",
    "df_final2_tratado['Sentimento'] = df_final2_tratado['score'].apply(lambda x: sentimento(x))\n",
    "df_final2_tratado.head()"
   ]
  },
  {
   "cell_type": "code",
   "execution_count": null,
   "metadata": {
    "id": "6_Sk7YaptxBA"
   },
   "outputs": [],
   "source": []
  },
  {
   "cell_type": "code",
   "execution_count": null,
   "metadata": {
    "id": "TPLzc6EctxBA"
   },
   "outputs": [],
   "source": []
  },
  {
   "cell_type": "code",
   "execution_count": null,
   "metadata": {
    "id": "jRaCWazStxBA"
   },
   "outputs": [],
   "source": []
  },
  {
   "cell_type": "code",
   "execution_count": null,
   "metadata": {
    "id": "El1CDai7txBA"
   },
   "outputs": [],
   "source": []
  },
  {
   "cell_type": "markdown",
   "metadata": {
    "id": "u-ZBNEQvtxBA"
   },
   "source": [
    "# 5.2 Tradução e aplicação textblob e vader sentiment"
   ]
  },
  {
   "cell_type": "markdown",
   "metadata": {
    "id": "ihm0MrX6txBA"
   },
   "source": [
    "### Instanciando função de tradução"
   ]
  },
  {
   "cell_type": "code",
   "execution_count": 82,
   "metadata": {
    "id": "n_JrD_9ztxBA"
   },
   "outputs": [],
   "source": [
    "from googletrans import Translator"
   ]
  },
  {
   "cell_type": "code",
   "execution_count": 83,
   "metadata": {
    "id": "sgAl7nNctxBA"
   },
   "outputs": [],
   "source": [
    "trans = Translator()"
   ]
  },
  {
   "cell_type": "code",
   "execution_count": 84,
   "metadata": {
    "colab": {
     "base_uri": "https://localhost:8080/",
     "height": 36
    },
    "id": "UOkd9ViutxBB",
    "outputId": "c27cf561-3ade-4c87-b3b1-9ef8615360d9"
   },
   "outputs": [
    {
     "data": {
      "text/plain": [
       "'O livro está sobre a mesa'"
      ]
     },
     "execution_count": 84,
     "metadata": {},
     "output_type": "execute_result"
    }
   ],
   "source": [
    "trans.translate(\"The book is on the table\", dest = 'pt').text"
   ]
  },
  {
   "cell_type": "code",
   "execution_count": 85,
   "metadata": {
    "id": "5Q3o2yuhtxBB"
   },
   "outputs": [],
   "source": [
    "def traduzir(frase):\n",
    "    frase = frase.lower()                     # coloca toda a frase em minusculo\n",
    "    frase = trans.translate(frase, dest = 'en').text\n",
    "    return frase"
   ]
  },
  {
   "cell_type": "code",
   "execution_count": 86,
   "metadata": {
    "colab": {
     "base_uri": "https://localhost:8080/",
     "height": 36
    },
    "id": "D5-586dPtxBB",
    "outputId": "0d231644-1a2e-483f-864d-b0d7caa8ca57"
   },
   "outputs": [
    {
     "data": {
      "text/plain": [
       "'the food is very good'"
      ]
     },
     "execution_count": 86,
     "metadata": {},
     "output_type": "execute_result"
    }
   ],
   "source": [
    "frase_teste = traduzir(\"A comida está muito boa\")\n",
    "frase_teste"
   ]
  },
  {
   "cell_type": "markdown",
   "metadata": {
    "id": "wyDzxQC_txBB"
   },
   "source": [
    "### Instanciando calculo de polaridade e subjetividade"
   ]
  },
  {
   "cell_type": "code",
   "execution_count": 87,
   "metadata": {
    "id": "nWxkNchHtxBB"
   },
   "outputs": [],
   "source": [
    "from textblob import TextBlob"
   ]
  },
  {
   "cell_type": "code",
   "execution_count": 88,
   "metadata": {
    "colab": {
     "base_uri": "https://localhost:8080/"
    },
    "id": "Tce6lphBtxBB",
    "outputId": "82c3d5b1-23c7-47c8-b535-c7573bf5a12a"
   },
   "outputs": [
    {
     "data": {
      "text/plain": [
       "(0.9099999999999999, 0.7800000000000001)"
      ]
     },
     "execution_count": 88,
     "metadata": {},
     "output_type": "execute_result"
    }
   ],
   "source": [
    "text_blob = TextBlob(frase_teste)\n",
    "polaridade = text_blob.polarity\n",
    "subjetividade = text_blob.subjectivity\n",
    "\n",
    "polaridade, subjetividade"
   ]
  },
  {
   "cell_type": "code",
   "execution_count": 89,
   "metadata": {
    "id": "Zn-wpQcqtxBB"
   },
   "outputs": [],
   "source": [
    "def polaridade(frase):\n",
    "    frase = frase.lower()                     # coloca toda a frase em minusculo\n",
    "    text_blob = TextBlob(frase)\n",
    "    polaridade = text_blob.polarity\n",
    "    return polaridade\n",
    "\n",
    "def subjetividade(frase):\n",
    "    frase = frase.lower()                     # coloca toda a frase em minusculo\n",
    "    text_blob = TextBlob(frase)\n",
    "    subjetividade = text_blob.subjectivity\n",
    "    return subjetividade"
   ]
  },
  {
   "cell_type": "markdown",
   "metadata": {
    "id": "2j6Av04ntxBC"
   },
   "source": [
    "### Instanciando calculo de sentimento"
   ]
  },
  {
   "cell_type": "code",
   "execution_count": null,
   "metadata": {
    "id": "QyFxZzX7txBC"
   },
   "outputs": [],
   "source": []
  },
  {
   "cell_type": "code",
   "execution_count": 90,
   "metadata": {
    "id": "WPbBBMeZtxBC"
   },
   "outputs": [],
   "source": [
    "from vaderSentiment.vaderSentiment import SentimentIntensityAnalyzer"
   ]
  },
  {
   "cell_type": "code",
   "execution_count": 91,
   "metadata": {
    "id": "bXU8Nf1ktxBC"
   },
   "outputs": [],
   "source": [
    "s_analyze = SentimentIntensityAnalyzer()\n",
    "sentiment= s_analyze.polarity_scores(frase_teste)"
   ]
  },
  {
   "cell_type": "code",
   "execution_count": 92,
   "metadata": {
    "colab": {
     "base_uri": "https://localhost:8080/"
    },
    "id": "5t7ivdWgtxBC",
    "outputId": "e4620508-0ad1-4e22-dfd1-03abc916b794"
   },
   "outputs": [
    {
     "data": {
      "text/plain": [
       "{'neg': 0.0, 'neu': 0.556, 'pos': 0.444, 'compound': 0.4927}"
      ]
     },
     "execution_count": 92,
     "metadata": {},
     "output_type": "execute_result"
    }
   ],
   "source": [
    "sentiment"
   ]
  },
  {
   "cell_type": "code",
   "execution_count": 93,
   "metadata": {
    "colab": {
     "base_uri": "https://localhost:8080/"
    },
    "id": "Lvj5-fJ8txBC",
    "outputId": "f94c3ab1-b49d-4a5f-8378-da63cfe07f00"
   },
   "outputs": [
    {
     "data": {
      "text/plain": [
       "0.556"
      ]
     },
     "execution_count": 93,
     "metadata": {},
     "output_type": "execute_result"
    }
   ],
   "source": [
    "type(sentiment)\n",
    "sentiment.get('neu')"
   ]
  },
  {
   "cell_type": "code",
   "execution_count": 94,
   "metadata": {
    "id": "RQVdEAPetxBD"
   },
   "outputs": [],
   "source": [
    "def negatividade(frase):\n",
    "    frase = frase.lower()                   # coloca toda a frase em minusculo\n",
    "    s_analyze = SentimentIntensityAnalyzer()\n",
    "    sentiment= s_analyze.polarity_scores(frase)                 \n",
    "    sentimento = sentiment.get('neg')\n",
    "    return sentimento\n",
    "\n",
    "def neutralidade(frase):\n",
    "    frase = frase.lower()                   # coloca toda a frase em minusculo\n",
    "    s_analyze = SentimentIntensityAnalyzer()\n",
    "    sentiment= s_analyze.polarity_scores(frase)                 \n",
    "    sentimento = sentiment.get('neu')\n",
    "    return sentimento\n",
    "\n",
    "def positividade(frase):\n",
    "    frase = frase.lower()                   # coloca toda a frase em minusculo\n",
    "    s_analyze = SentimentIntensityAnalyzer()\n",
    "    sentiment= s_analyze.polarity_scores(frase)                 \n",
    "    sentimento = sentiment.get('pos')\n",
    "    return sentimento\n",
    "\n",
    "def composicao(frase):\n",
    "    frase = frase.lower()                   # coloca toda a frase em minusculo\n",
    "    s_analyze = SentimentIntensityAnalyzer()\n",
    "    sentiment= s_analyze.polarity_scores(frase)                 \n",
    "    sentimento = sentiment.get('compound')\n",
    "    return sentimento"
   ]
  },
  {
   "cell_type": "code",
   "execution_count": 95,
   "metadata": {
    "id": "lIPCFIhPtxBD"
   },
   "outputs": [],
   "source": [
    "df_final3 = df_final.copy()"
   ]
  },
  {
   "cell_type": "markdown",
   "metadata": {},
   "source": [
    "### Realiza tradução - Cuidado pode demorar muito. \n",
    "Caso já tenha sido traduzido previamente deve ser realizado a leitura do arquivo 'df_noticias_traduzidas.csv' na linha de baixo"
   ]
  },
  {
   "cell_type": "code",
   "execution_count": 96,
   "metadata": {
    "id": "0LzNQgm92O_1"
   },
   "outputs": [],
   "source": [
    "#Tradução alternativa\n",
    "df_final3.reset_index(inplace=True)\n",
    "df_final3.drop(['index'], axis = 1, inplace = True) \n",
    "\n",
    "import time\n",
    "for i in range(0, len(df_final3['Noticias'])):\n",
    "    if len(df_final3['Noticias'][i])>0:\n",
    "        df_final3['Noticias'][i] = trans.translate(df_final3['Noticias'][i]).text\n",
    "        time.sleep(2)"
   ]
  },
  {
   "cell_type": "code",
   "execution_count": 110,
   "metadata": {
    "id": "qrJyBHDnEOL4"
   },
   "outputs": [],
   "source": [
    "df_final3.to_csv('df_noticias_traduzidas.csv',sep = '|',header=True,encoding='utf-8-sig', index=False)"
   ]
  },
  {
   "cell_type": "code",
   "execution_count": 111,
   "metadata": {},
   "outputs": [],
   "source": [
    "# ler arquivo previamente traduzido\n",
    "df_final3 = pd.read_csv('df_noticias_traduzidas.csv', sep='|')"
   ]
  },
  {
   "cell_type": "code",
   "execution_count": 112,
   "metadata": {
    "id": "BuWZt5Dz2PJR"
   },
   "outputs": [],
   "source": [
    "#Limpando linhas com noticias nulas após a tradução\n",
    "df_final3 = df_final3[df_final3['Noticias']!='']"
   ]
  },
  {
   "cell_type": "code",
   "execution_count": 113,
   "metadata": {
    "id": "G0aVqkgRtxBD"
   },
   "outputs": [],
   "source": [
    "#df_final3['Noticias'] = df_final3['Noticias'].apply(lambda x: traduzir(x))"
   ]
  },
  {
   "cell_type": "code",
   "execution_count": 114,
   "metadata": {
    "colab": {
     "base_uri": "https://localhost:8080/",
     "height": 645
    },
    "id": "RIwFr_bpyp7m",
    "outputId": "f7ceab3f-1001-4c7e-d70e-71b59f16f30c"
   },
   "outputs": [
    {
     "data": {
      "text/html": [
       "<div>\n",
       "<style scoped>\n",
       "    .dataframe tbody tr th:only-of-type {\n",
       "        vertical-align: middle;\n",
       "    }\n",
       "\n",
       "    .dataframe tbody tr th {\n",
       "        vertical-align: top;\n",
       "    }\n",
       "\n",
       "    .dataframe thead th {\n",
       "        text-align: right;\n",
       "    }\n",
       "</style>\n",
       "<table border=\"1\" class=\"dataframe\">\n",
       "  <thead>\n",
       "    <tr style=\"text-align: right;\">\n",
       "      <th></th>\n",
       "      <th>Date</th>\n",
       "      <th>Adj Close</th>\n",
       "      <th>Volume</th>\n",
       "      <th>Var%</th>\n",
       "      <th>Fechamento</th>\n",
       "      <th>Noticias</th>\n",
       "    </tr>\n",
       "  </thead>\n",
       "  <tbody>\n",
       "    <tr>\n",
       "      <th>0</th>\n",
       "      <td>2021-01-04</td>\n",
       "      <td>19.27</td>\n",
       "      <td>74719700</td>\n",
       "      <td>0.02</td>\n",
       "      <td>1</td>\n",
       "      <td>tcu evaluates barring sale of petrobras refine...</td>\n",
       "    </tr>\n",
       "    <tr>\n",
       "      <th>1</th>\n",
       "      <td>2021-01-05</td>\n",
       "      <td>20.03</td>\n",
       "      <td>95181100</td>\n",
       "      <td>0.04</td>\n",
       "      <td>1</td>\n",
       "      <td>petrobras (petr4) starts contracting the ninth...</td>\n",
       "    </tr>\n",
       "    <tr>\n",
       "      <th>2</th>\n",
       "      <td>2021-01-06</td>\n",
       "      <td>20.07</td>\n",
       "      <td>96562500</td>\n",
       "      <td>0.00</td>\n",
       "      <td>1</td>\n",
       "      <td>value of sale of petrobras refinery is questio...</td>\n",
       "    </tr>\n",
       "    <tr>\n",
       "      <th>3</th>\n",
       "      <td>2021-01-07</td>\n",
       "      <td>20.67</td>\n",
       "      <td>56171300</td>\n",
       "      <td>0.03</td>\n",
       "      <td>1</td>\n",
       "      <td>petrobras confirms sale of stake in br distrib...</td>\n",
       "    </tr>\n",
       "    <tr>\n",
       "      <th>4</th>\n",
       "      <td>2021-01-11</td>\n",
       "      <td>20.57</td>\n",
       "      <td>48744700</td>\n",
       "      <td>-0.01</td>\n",
       "      <td>0</td>\n",
       "      <td>silva and luna 'militariza' petrobras dome pet...</td>\n",
       "    </tr>\n",
       "    <tr>\n",
       "      <th>5</th>\n",
       "      <td>2021-01-12</td>\n",
       "      <td>20.42</td>\n",
       "      <td>65691900</td>\n",
       "      <td>-0.01</td>\n",
       "      <td>0</td>\n",
       "      <td>Arabs take over this fourth petrobras refinery...</td>\n",
       "    </tr>\n",
       "    <tr>\n",
       "      <th>6</th>\n",
       "      <td>2021-01-13</td>\n",
       "      <td>19.43</td>\n",
       "      <td>93826600</td>\n",
       "      <td>-0.05</td>\n",
       "      <td>0</td>\n",
       "      <td>petrobras is the second largest in the world i...</td>\n",
       "    </tr>\n",
       "    <tr>\n",
       "      <th>7</th>\n",
       "      <td>2021-01-18</td>\n",
       "      <td>18.71</td>\n",
       "      <td>68855700</td>\n",
       "      <td>-0.00</td>\n",
       "      <td>0</td>\n",
       "      <td>more than 100 jobs in the oil and gas sector! ...</td>\n",
       "    </tr>\n",
       "    <tr>\n",
       "      <th>8</th>\n",
       "      <td>2021-01-19</td>\n",
       "      <td>19.13</td>\n",
       "      <td>61656000</td>\n",
       "      <td>0.02</td>\n",
       "      <td>1</td>\n",
       "      <td>proposal prohibits creation of petrobras subsi...</td>\n",
       "    </tr>\n",
       "    <tr>\n",
       "      <th>9</th>\n",
       "      <td>2021-01-20</td>\n",
       "      <td>18.81</td>\n",
       "      <td>60306200</td>\n",
       "      <td>-0.02</td>\n",
       "      <td>0</td>\n",
       "      <td>ultrapar negotiates purchase of petrobras refi...</td>\n",
       "    </tr>\n",
       "    <tr>\n",
       "      <th>10</th>\n",
       "      <td>2021-01-22</td>\n",
       "      <td>18.06</td>\n",
       "      <td>51181900</td>\n",
       "      <td>-0.02</td>\n",
       "      <td>0</td>\n",
       "      <td>gas dealers promise to strike on February 1 ag...</td>\n",
       "    </tr>\n",
       "    <tr>\n",
       "      <th>11</th>\n",
       "      <td>2021-01-26</td>\n",
       "      <td>18.00</td>\n",
       "      <td>64514600</td>\n",
       "      <td>-0.00</td>\n",
       "      <td>0</td>\n",
       "      <td>petrobras ends 2020 with 10.4 employees ... ho...</td>\n",
       "    </tr>\n",
       "    <tr>\n",
       "      <th>12</th>\n",
       "      <td>2021-01-28</td>\n",
       "      <td>18.51</td>\n",
       "      <td>67827000</td>\n",
       "      <td>0.01</td>\n",
       "      <td>1</td>\n",
       "      <td>petrobras (petr4): deal with Chinese partners ...</td>\n",
       "    </tr>\n",
       "    <tr>\n",
       "      <th>13</th>\n",
       "      <td>2021-01-29</td>\n",
       "      <td>17.79</td>\n",
       "      <td>67555300</td>\n",
       "      <td>-0.04</td>\n",
       "      <td>0</td>\n",
       "      <td>petrobras announces pre-salt discovery of fiel...</td>\n",
       "    </tr>\n",
       "    <tr>\n",
       "      <th>14</th>\n",
       "      <td>2021-02-01</td>\n",
       "      <td>18.35</td>\n",
       "      <td>44449500</td>\n",
       "      <td>0.03</td>\n",
       "      <td>1</td>\n",
       "      <td>NaN</td>\n",
       "    </tr>\n",
       "    <tr>\n",
       "      <th>15</th>\n",
       "      <td>2021-02-02</td>\n",
       "      <td>19.11</td>\n",
       "      <td>91663000</td>\n",
       "      <td>0.04</td>\n",
       "      <td>1</td>\n",
       "      <td>petrobras announces sale of pole peroá to 3r p...</td>\n",
       "    </tr>\n",
       "    <tr>\n",
       "      <th>16</th>\n",
       "      <td>2021-02-03</td>\n",
       "      <td>19.29</td>\n",
       "      <td>47486800</td>\n",
       "      <td>0.01</td>\n",
       "      <td>1</td>\n",
       "      <td>guedes: let's take the petrobras dividends and...</td>\n",
       "    </tr>\n",
       "    <tr>\n",
       "      <th>17</th>\n",
       "      <td>2021-02-05</td>\n",
       "      <td>19.23</td>\n",
       "      <td>121098700</td>\n",
       "      <td>0.00</td>\n",
       "      <td>1</td>\n",
       "      <td>supported by unions, families occupy petrobras...</td>\n",
       "    </tr>\n",
       "    <tr>\n",
       "      <th>18</th>\n",
       "      <td>2021-02-08</td>\n",
       "      <td>18.74</td>\n",
       "      <td>98821700</td>\n",
       "      <td>-0.03</td>\n",
       "      <td>0</td>\n",
       "      <td>petrobras targets issuance in the internationa...</td>\n",
       "    </tr>\n",
       "  </tbody>\n",
       "</table>\n",
       "</div>"
      ],
      "text/plain": [
       "          Date  Adj Close     Volume  Var%  Fechamento  \\\n",
       "0   2021-01-04      19.27   74719700  0.02           1   \n",
       "1   2021-01-05      20.03   95181100  0.04           1   \n",
       "2   2021-01-06      20.07   96562500  0.00           1   \n",
       "3   2021-01-07      20.67   56171300  0.03           1   \n",
       "4   2021-01-11      20.57   48744700 -0.01           0   \n",
       "5   2021-01-12      20.42   65691900 -0.01           0   \n",
       "6   2021-01-13      19.43   93826600 -0.05           0   \n",
       "7   2021-01-18      18.71   68855700 -0.00           0   \n",
       "8   2021-01-19      19.13   61656000  0.02           1   \n",
       "9   2021-01-20      18.81   60306200 -0.02           0   \n",
       "10  2021-01-22      18.06   51181900 -0.02           0   \n",
       "11  2021-01-26      18.00   64514600 -0.00           0   \n",
       "12  2021-01-28      18.51   67827000  0.01           1   \n",
       "13  2021-01-29      17.79   67555300 -0.04           0   \n",
       "14  2021-02-01      18.35   44449500  0.03           1   \n",
       "15  2021-02-02      19.11   91663000  0.04           1   \n",
       "16  2021-02-03      19.29   47486800  0.01           1   \n",
       "17  2021-02-05      19.23  121098700  0.00           1   \n",
       "18  2021-02-08      18.74   98821700 -0.03           0   \n",
       "\n",
       "                                             Noticias  \n",
       "0   tcu evaluates barring sale of petrobras refine...  \n",
       "1   petrobras (petr4) starts contracting the ninth...  \n",
       "2   value of sale of petrobras refinery is questio...  \n",
       "3   petrobras confirms sale of stake in br distrib...  \n",
       "4   silva and luna 'militariza' petrobras dome pet...  \n",
       "5   Arabs take over this fourth petrobras refinery...  \n",
       "6   petrobras is the second largest in the world i...  \n",
       "7   more than 100 jobs in the oil and gas sector! ...  \n",
       "8   proposal prohibits creation of petrobras subsi...  \n",
       "9   ultrapar negotiates purchase of petrobras refi...  \n",
       "10  gas dealers promise to strike on February 1 ag...  \n",
       "11  petrobras ends 2020 with 10.4 employees ... ho...  \n",
       "12  petrobras (petr4): deal with Chinese partners ...  \n",
       "13  petrobras announces pre-salt discovery of fiel...  \n",
       "14                                                NaN  \n",
       "15  petrobras announces sale of pole peroá to 3r p...  \n",
       "16  guedes: let's take the petrobras dividends and...  \n",
       "17  supported by unions, families occupy petrobras...  \n",
       "18  petrobras targets issuance in the internationa...  "
      ]
     },
     "execution_count": 114,
     "metadata": {},
     "output_type": "execute_result"
    }
   ],
   "source": [
    "df_final3.head(19)"
   ]
  },
  {
   "cell_type": "code",
   "execution_count": null,
   "metadata": {
    "colab": {
     "base_uri": "https://localhost:8080/",
     "height": 423
    },
    "id": "4CcNcTTmtxBD",
    "outputId": "0f48789b-4d9a-494e-a36c-763fb37d5851"
   },
   "outputs": [
    {
     "data": {
      "text/html": [
       "\n",
       "  <div id=\"df-96df3a33-49f6-4892-82a3-cec4a21ec48b\">\n",
       "    <div class=\"colab-df-container\">\n",
       "      <div>\n",
       "<style scoped>\n",
       "    .dataframe tbody tr th:only-of-type {\n",
       "        vertical-align: middle;\n",
       "    }\n",
       "\n",
       "    .dataframe tbody tr th {\n",
       "        vertical-align: top;\n",
       "    }\n",
       "\n",
       "    .dataframe thead th {\n",
       "        text-align: right;\n",
       "    }\n",
       "</style>\n",
       "<table border=\"1\" class=\"dataframe\">\n",
       "  <thead>\n",
       "    <tr style=\"text-align: right;\">\n",
       "      <th></th>\n",
       "      <th>Date</th>\n",
       "      <th>Adj Close</th>\n",
       "      <th>Volume</th>\n",
       "      <th>Var%</th>\n",
       "      <th>Fechamento</th>\n",
       "      <th>Noticias</th>\n",
       "      <th>polaridade</th>\n",
       "      <th>subjetividade</th>\n",
       "      <th>negatividade</th>\n",
       "      <th>neutralidade</th>\n",
       "      <th>positividade</th>\n",
       "      <th>composicao</th>\n",
       "    </tr>\n",
       "  </thead>\n",
       "  <tbody>\n",
       "    <tr>\n",
       "      <th>0</th>\n",
       "      <td>2021-01-04</td>\n",
       "      <td>19.27</td>\n",
       "      <td>74719700</td>\n",
       "      <td>0.02</td>\n",
       "      <td>1</td>\n",
       "      <td>TCU Evaluates Barrar Petrobras Refinery Sale t...</td>\n",
       "      <td>0.00</td>\n",
       "      <td>0.00</td>\n",
       "      <td>0.20</td>\n",
       "      <td>0.80</td>\n",
       "      <td>0.00</td>\n",
       "      <td>-0.78</td>\n",
       "    </tr>\n",
       "    <tr>\n",
       "      <th>1</th>\n",
       "      <td>2021-01-05</td>\n",
       "      <td>20.03</td>\n",
       "      <td>95181100</td>\n",
       "      <td>0.04</td>\n",
       "      <td>1</td>\n",
       "      <td>Petrobras (Petr4) Starts hiring ninth unit of ...</td>\n",
       "      <td>0.00</td>\n",
       "      <td>0.00</td>\n",
       "      <td>0.00</td>\n",
       "      <td>1.00</td>\n",
       "      <td>0.00</td>\n",
       "      <td>0.00</td>\n",
       "    </tr>\n",
       "    <tr>\n",
       "      <th>2</th>\n",
       "      <td>2021-01-06</td>\n",
       "      <td>20.07</td>\n",
       "      <td>96562500</td>\n",
       "      <td>0.00</td>\n",
       "      <td>1</td>\n",
       "      <td>Petrobras Refinery Sale Value is questioned in...</td>\n",
       "      <td>0.15</td>\n",
       "      <td>0.35</td>\n",
       "      <td>0.02</td>\n",
       "      <td>0.92</td>\n",
       "      <td>0.06</td>\n",
       "      <td>0.44</td>\n",
       "    </tr>\n",
       "    <tr>\n",
       "      <th>3</th>\n",
       "      <td>2021-01-07</td>\n",
       "      <td>20.67</td>\n",
       "      <td>56171300</td>\n",
       "      <td>0.03</td>\n",
       "      <td>1</td>\n",
       "      <td>Petrobras confirms the sale of the slice on BR...</td>\n",
       "      <td>0.00</td>\n",
       "      <td>0.00</td>\n",
       "      <td>0.05</td>\n",
       "      <td>0.92</td>\n",
       "      <td>0.03</td>\n",
       "      <td>-0.32</td>\n",
       "    </tr>\n",
       "    <tr>\n",
       "      <th>4</th>\n",
       "      <td>2021-01-11</td>\n",
       "      <td>20.57</td>\n",
       "      <td>48744700</td>\n",
       "      <td>-0.01</td>\n",
       "      <td>0</td>\n",
       "      <td>Silva and Luna 'militariza' Petrobras Summit P...</td>\n",
       "      <td>0.08</td>\n",
       "      <td>0.38</td>\n",
       "      <td>0.04</td>\n",
       "      <td>0.90</td>\n",
       "      <td>0.06</td>\n",
       "      <td>0.19</td>\n",
       "    </tr>\n",
       "    <tr>\n",
       "      <th>...</th>\n",
       "      <td>...</td>\n",
       "      <td>...</td>\n",
       "      <td>...</td>\n",
       "      <td>...</td>\n",
       "      <td>...</td>\n",
       "      <td>...</td>\n",
       "      <td>...</td>\n",
       "      <td>...</td>\n",
       "      <td>...</td>\n",
       "      <td>...</td>\n",
       "      <td>...</td>\n",
       "      <td>...</td>\n",
       "    </tr>\n",
       "    <tr>\n",
       "      <th>214</th>\n",
       "      <td>2021-12-23</td>\n",
       "      <td>23.24</td>\n",
       "      <td>28713600</td>\n",
       "      <td>0.01</td>\n",
       "      <td>1</td>\n",
       "      <td>Petrobras program that reinforces supplier wor...</td>\n",
       "      <td>0.37</td>\n",
       "      <td>0.43</td>\n",
       "      <td>0.00</td>\n",
       "      <td>0.94</td>\n",
       "      <td>0.06</td>\n",
       "      <td>0.53</td>\n",
       "    </tr>\n",
       "    <tr>\n",
       "      <th>215</th>\n",
       "      <td>2021-12-27</td>\n",
       "      <td>23.58</td>\n",
       "      <td>44227900</td>\n",
       "      <td>0.01</td>\n",
       "      <td>1</td>\n",
       "      <td>Petrobras sells Carmópolis for $ 1.1 billion P...</td>\n",
       "      <td>0.22</td>\n",
       "      <td>0.50</td>\n",
       "      <td>0.10</td>\n",
       "      <td>0.80</td>\n",
       "      <td>0.10</td>\n",
       "      <td>-0.24</td>\n",
       "    </tr>\n",
       "    <tr>\n",
       "      <th>216</th>\n",
       "      <td>2021-12-28</td>\n",
       "      <td>23.61</td>\n",
       "      <td>30688100</td>\n",
       "      <td>0.00</td>\n",
       "      <td>1</td>\n",
       "      <td>Gas distributors of 5 states go to court again...</td>\n",
       "      <td>0.47</td>\n",
       "      <td>0.60</td>\n",
       "      <td>0.00</td>\n",
       "      <td>0.93</td>\n",
       "      <td>0.07</td>\n",
       "      <td>0.76</td>\n",
       "    </tr>\n",
       "    <tr>\n",
       "      <th>217</th>\n",
       "      <td>2021-12-29</td>\n",
       "      <td>23.41</td>\n",
       "      <td>35508400</td>\n",
       "      <td>-0.01</td>\n",
       "      <td>0</td>\n",
       "      <td>Petrobras will appeal a decision that suspends...</td>\n",
       "      <td>0.19</td>\n",
       "      <td>0.40</td>\n",
       "      <td>0.02</td>\n",
       "      <td>0.84</td>\n",
       "      <td>0.14</td>\n",
       "      <td>0.91</td>\n",
       "    </tr>\n",
       "    <tr>\n",
       "      <th>218</th>\n",
       "      <td>2021-12-30</td>\n",
       "      <td>23.34</td>\n",
       "      <td>43229100</td>\n",
       "      <td>-0.00</td>\n",
       "      <td>0</td>\n",
       "      <td>Judicialization puts gas market at risk, says ...</td>\n",
       "      <td>0.05</td>\n",
       "      <td>0.60</td>\n",
       "      <td>0.05</td>\n",
       "      <td>0.91</td>\n",
       "      <td>0.04</td>\n",
       "      <td>-0.05</td>\n",
       "    </tr>\n",
       "  </tbody>\n",
       "</table>\n",
       "<p>217 rows × 12 columns</p>\n",
       "</div>\n",
       "      <button class=\"colab-df-convert\" onclick=\"convertToInteractive('df-96df3a33-49f6-4892-82a3-cec4a21ec48b')\"\n",
       "              title=\"Convert this dataframe to an interactive table.\"\n",
       "              style=\"display:none;\">\n",
       "        \n",
       "  <svg xmlns=\"http://www.w3.org/2000/svg\" height=\"24px\"viewBox=\"0 0 24 24\"\n",
       "       width=\"24px\">\n",
       "    <path d=\"M0 0h24v24H0V0z\" fill=\"none\"/>\n",
       "    <path d=\"M18.56 5.44l.94 2.06.94-2.06 2.06-.94-2.06-.94-.94-2.06-.94 2.06-2.06.94zm-11 1L8.5 8.5l.94-2.06 2.06-.94-2.06-.94L8.5 2.5l-.94 2.06-2.06.94zm10 10l.94 2.06.94-2.06 2.06-.94-2.06-.94-.94-2.06-.94 2.06-2.06.94z\"/><path d=\"M17.41 7.96l-1.37-1.37c-.4-.4-.92-.59-1.43-.59-.52 0-1.04.2-1.43.59L10.3 9.45l-7.72 7.72c-.78.78-.78 2.05 0 2.83L4 21.41c.39.39.9.59 1.41.59.51 0 1.02-.2 1.41-.59l7.78-7.78 2.81-2.81c.8-.78.8-2.07 0-2.86zM5.41 20L4 18.59l7.72-7.72 1.47 1.35L5.41 20z\"/>\n",
       "  </svg>\n",
       "      </button>\n",
       "      \n",
       "  <style>\n",
       "    .colab-df-container {\n",
       "      display:flex;\n",
       "      flex-wrap:wrap;\n",
       "      gap: 12px;\n",
       "    }\n",
       "\n",
       "    .colab-df-convert {\n",
       "      background-color: #E8F0FE;\n",
       "      border: none;\n",
       "      border-radius: 50%;\n",
       "      cursor: pointer;\n",
       "      display: none;\n",
       "      fill: #1967D2;\n",
       "      height: 32px;\n",
       "      padding: 0 0 0 0;\n",
       "      width: 32px;\n",
       "    }\n",
       "\n",
       "    .colab-df-convert:hover {\n",
       "      background-color: #E2EBFA;\n",
       "      box-shadow: 0px 1px 2px rgba(60, 64, 67, 0.3), 0px 1px 3px 1px rgba(60, 64, 67, 0.15);\n",
       "      fill: #174EA6;\n",
       "    }\n",
       "\n",
       "    [theme=dark] .colab-df-convert {\n",
       "      background-color: #3B4455;\n",
       "      fill: #D2E3FC;\n",
       "    }\n",
       "\n",
       "    [theme=dark] .colab-df-convert:hover {\n",
       "      background-color: #434B5C;\n",
       "      box-shadow: 0px 1px 3px 1px rgba(0, 0, 0, 0.15);\n",
       "      filter: drop-shadow(0px 1px 2px rgba(0, 0, 0, 0.3));\n",
       "      fill: #FFFFFF;\n",
       "    }\n",
       "  </style>\n",
       "\n",
       "      <script>\n",
       "        const buttonEl =\n",
       "          document.querySelector('#df-96df3a33-49f6-4892-82a3-cec4a21ec48b button.colab-df-convert');\n",
       "        buttonEl.style.display =\n",
       "          google.colab.kernel.accessAllowed ? 'block' : 'none';\n",
       "\n",
       "        async function convertToInteractive(key) {\n",
       "          const element = document.querySelector('#df-96df3a33-49f6-4892-82a3-cec4a21ec48b');\n",
       "          const dataTable =\n",
       "            await google.colab.kernel.invokeFunction('convertToInteractive',\n",
       "                                                     [key], {});\n",
       "          if (!dataTable) return;\n",
       "\n",
       "          const docLinkHtml = 'Like what you see? Visit the ' +\n",
       "            '<a target=\"_blank\" href=https://colab.research.google.com/notebooks/data_table.ipynb>data table notebook</a>'\n",
       "            + ' to learn more about interactive tables.';\n",
       "          element.innerHTML = '';\n",
       "          dataTable['output_type'] = 'display_data';\n",
       "          await google.colab.output.renderOutput(dataTable, element);\n",
       "          const docLink = document.createElement('div');\n",
       "          docLink.innerHTML = docLinkHtml;\n",
       "          element.appendChild(docLink);\n",
       "        }\n",
       "      </script>\n",
       "    </div>\n",
       "  </div>\n",
       "  "
      ],
      "text/plain": [
       "          Date  Adj Close    Volume  Var%  Fechamento  \\\n",
       "0   2021-01-04      19.27  74719700  0.02           1   \n",
       "1   2021-01-05      20.03  95181100  0.04           1   \n",
       "2   2021-01-06      20.07  96562500  0.00           1   \n",
       "3   2021-01-07      20.67  56171300  0.03           1   \n",
       "4   2021-01-11      20.57  48744700 -0.01           0   \n",
       "..         ...        ...       ...   ...         ...   \n",
       "214 2021-12-23      23.24  28713600  0.01           1   \n",
       "215 2021-12-27      23.58  44227900  0.01           1   \n",
       "216 2021-12-28      23.61  30688100  0.00           1   \n",
       "217 2021-12-29      23.41  35508400 -0.01           0   \n",
       "218 2021-12-30      23.34  43229100 -0.00           0   \n",
       "\n",
       "                                              Noticias  polaridade  \\\n",
       "0    TCU Evaluates Barrar Petrobras Refinery Sale t...        0.00   \n",
       "1    Petrobras (Petr4) Starts hiring ninth unit of ...        0.00   \n",
       "2    Petrobras Refinery Sale Value is questioned in...        0.15   \n",
       "3    Petrobras confirms the sale of the slice on BR...        0.00   \n",
       "4    Silva and Luna 'militariza' Petrobras Summit P...        0.08   \n",
       "..                                                 ...         ...   \n",
       "214  Petrobras program that reinforces supplier wor...        0.37   \n",
       "215  Petrobras sells Carmópolis for $ 1.1 billion P...        0.22   \n",
       "216  Gas distributors of 5 states go to court again...        0.47   \n",
       "217  Petrobras will appeal a decision that suspends...        0.19   \n",
       "218  Judicialization puts gas market at risk, says ...        0.05   \n",
       "\n",
       "     subjetividade  negatividade  neutralidade  positividade  composicao  \n",
       "0             0.00          0.20          0.80          0.00       -0.78  \n",
       "1             0.00          0.00          1.00          0.00        0.00  \n",
       "2             0.35          0.02          0.92          0.06        0.44  \n",
       "3             0.00          0.05          0.92          0.03       -0.32  \n",
       "4             0.38          0.04          0.90          0.06        0.19  \n",
       "..             ...           ...           ...           ...         ...  \n",
       "214           0.43          0.00          0.94          0.06        0.53  \n",
       "215           0.50          0.10          0.80          0.10       -0.24  \n",
       "216           0.60          0.00          0.93          0.07        0.76  \n",
       "217           0.40          0.02          0.84          0.14        0.91  \n",
       "218           0.60          0.05          0.91          0.04       -0.05  \n",
       "\n",
       "[217 rows x 12 columns]"
      ]
     },
     "execution_count": 103,
     "metadata": {},
     "output_type": "execute_result"
    }
   ],
   "source": [
    "df_final3['polaridade'] = df_final3['Noticias'].apply(lambda x: polaridade(x))\n",
    "df_final3['subjetividade'] = df_final3['Noticias'].apply(lambda x: subjetividade(x))\n",
    "df_final3['negatividade'] = df_final3['Noticias'].apply(lambda x: negatividade(x))\n",
    "df_final3['neutralidade'] = df_final3['Noticias'].apply(lambda x: neutralidade(x))\n",
    "df_final3['positividade'] = df_final3['Noticias'].apply(lambda x: positividade(x))\n",
    "df_final3['composicao'] = df_final3['Noticias'].apply(lambda x: composicao(x))\n",
    "df_final3"
   ]
  },
  {
   "cell_type": "markdown",
   "metadata": {
    "id": "w1XbpuI2txBD"
   },
   "source": [
    "## Criando novo DF com etapas de stopwords e lemmatization:"
   ]
  },
  {
   "cell_type": "code",
   "execution_count": null,
   "metadata": {
    "id": "q7-OnSiztxBD"
   },
   "outputs": [],
   "source": [
    "df_final3_tratado = df_final.copy()\n",
    "df_final3_tratado['Noticias'] = df_final3['Noticias']"
   ]
  },
  {
   "cell_type": "code",
   "execution_count": null,
   "metadata": {
    "colab": {
     "base_uri": "https://localhost:8080/",
     "height": 362
    },
    "id": "hPQ8pOEZtxBD",
    "outputId": "1e314e05-d10b-42bc-ed30-9c3d26a7c8d3"
   },
   "outputs": [
    {
     "ename": "AttributeError",
     "evalue": "ignored",
     "output_type": "error",
     "traceback": [
      "\u001b[0;31m---------------------------------------------------------------------------\u001b[0m",
      "\u001b[0;31mAttributeError\u001b[0m                            Traceback (most recent call last)",
      "\u001b[0;32m<ipython-input-105-1b5b115442fd>\u001b[0m in \u001b[0;36m<module>\u001b[0;34m()\u001b[0m\n\u001b[0;32m----> 1\u001b[0;31m \u001b[0mdf_final3_tratado\u001b[0m\u001b[0;34m[\u001b[0m\u001b[0;34m'Noticias'\u001b[0m\u001b[0;34m]\u001b[0m \u001b[0;34m=\u001b[0m \u001b[0mdf_final3_tratado\u001b[0m\u001b[0;34m[\u001b[0m\u001b[0;34m'Noticias'\u001b[0m\u001b[0;34m]\u001b[0m\u001b[0;34m.\u001b[0m\u001b[0mapply\u001b[0m\u001b[0;34m(\u001b[0m\u001b[0;32mlambda\u001b[0m \u001b[0mx\u001b[0m\u001b[0;34m:\u001b[0m \u001b[0mPreprocessing_en\u001b[0m\u001b[0;34m(\u001b[0m\u001b[0mx\u001b[0m\u001b[0;34m)\u001b[0m\u001b[0;34m)\u001b[0m\u001b[0;34m\u001b[0m\u001b[0;34m\u001b[0m\u001b[0m\n\u001b[0m\u001b[1;32m      2\u001b[0m \u001b[0mdf_final3_tratado\u001b[0m\u001b[0;34m.\u001b[0m\u001b[0mhead\u001b[0m\u001b[0;34m(\u001b[0m\u001b[0;34m)\u001b[0m\u001b[0;34m\u001b[0m\u001b[0;34m\u001b[0m\u001b[0m\n",
      "\u001b[0;32m/usr/local/lib/python3.7/dist-packages/pandas/core/series.py\u001b[0m in \u001b[0;36mapply\u001b[0;34m(self, func, convert_dtype, args, **kwds)\u001b[0m\n\u001b[1;32m   3846\u001b[0m             \u001b[0;32melse\u001b[0m\u001b[0;34m:\u001b[0m\u001b[0;34m\u001b[0m\u001b[0;34m\u001b[0m\u001b[0m\n\u001b[1;32m   3847\u001b[0m                 \u001b[0mvalues\u001b[0m \u001b[0;34m=\u001b[0m \u001b[0mself\u001b[0m\u001b[0;34m.\u001b[0m\u001b[0mastype\u001b[0m\u001b[0;34m(\u001b[0m\u001b[0mobject\u001b[0m\u001b[0;34m)\u001b[0m\u001b[0;34m.\u001b[0m\u001b[0mvalues\u001b[0m\u001b[0;34m\u001b[0m\u001b[0;34m\u001b[0m\u001b[0m\n\u001b[0;32m-> 3848\u001b[0;31m                 \u001b[0mmapped\u001b[0m \u001b[0;34m=\u001b[0m \u001b[0mlib\u001b[0m\u001b[0;34m.\u001b[0m\u001b[0mmap_infer\u001b[0m\u001b[0;34m(\u001b[0m\u001b[0mvalues\u001b[0m\u001b[0;34m,\u001b[0m \u001b[0mf\u001b[0m\u001b[0;34m,\u001b[0m \u001b[0mconvert\u001b[0m\u001b[0;34m=\u001b[0m\u001b[0mconvert_dtype\u001b[0m\u001b[0;34m)\u001b[0m\u001b[0;34m\u001b[0m\u001b[0;34m\u001b[0m\u001b[0m\n\u001b[0m\u001b[1;32m   3849\u001b[0m \u001b[0;34m\u001b[0m\u001b[0m\n\u001b[1;32m   3850\u001b[0m         \u001b[0;32mif\u001b[0m \u001b[0mlen\u001b[0m\u001b[0;34m(\u001b[0m\u001b[0mmapped\u001b[0m\u001b[0;34m)\u001b[0m \u001b[0;32mand\u001b[0m \u001b[0misinstance\u001b[0m\u001b[0;34m(\u001b[0m\u001b[0mmapped\u001b[0m\u001b[0;34m[\u001b[0m\u001b[0;36m0\u001b[0m\u001b[0;34m]\u001b[0m\u001b[0;34m,\u001b[0m \u001b[0mSeries\u001b[0m\u001b[0;34m)\u001b[0m\u001b[0;34m:\u001b[0m\u001b[0;34m\u001b[0m\u001b[0;34m\u001b[0m\u001b[0m\n",
      "\u001b[0;32mpandas/_libs/lib.pyx\u001b[0m in \u001b[0;36mpandas._libs.lib.map_infer\u001b[0;34m()\u001b[0m\n",
      "\u001b[0;32m<ipython-input-105-1b5b115442fd>\u001b[0m in \u001b[0;36m<lambda>\u001b[0;34m(x)\u001b[0m\n\u001b[0;32m----> 1\u001b[0;31m \u001b[0mdf_final3_tratado\u001b[0m\u001b[0;34m[\u001b[0m\u001b[0;34m'Noticias'\u001b[0m\u001b[0;34m]\u001b[0m \u001b[0;34m=\u001b[0m \u001b[0mdf_final3_tratado\u001b[0m\u001b[0;34m[\u001b[0m\u001b[0;34m'Noticias'\u001b[0m\u001b[0;34m]\u001b[0m\u001b[0;34m.\u001b[0m\u001b[0mapply\u001b[0m\u001b[0;34m(\u001b[0m\u001b[0;32mlambda\u001b[0m \u001b[0mx\u001b[0m\u001b[0;34m:\u001b[0m \u001b[0mPreprocessing_en\u001b[0m\u001b[0;34m(\u001b[0m\u001b[0mx\u001b[0m\u001b[0;34m)\u001b[0m\u001b[0;34m)\u001b[0m\u001b[0;34m\u001b[0m\u001b[0;34m\u001b[0m\u001b[0m\n\u001b[0m\u001b[1;32m      2\u001b[0m \u001b[0mdf_final3_tratado\u001b[0m\u001b[0;34m.\u001b[0m\u001b[0mhead\u001b[0m\u001b[0;34m(\u001b[0m\u001b[0;34m)\u001b[0m\u001b[0;34m\u001b[0m\u001b[0;34m\u001b[0m\u001b[0m\n",
      "\u001b[0;32m<ipython-input-75-4a1975652b95>\u001b[0m in \u001b[0;36mPreprocessing_en\u001b[0;34m(instancia)\u001b[0m\n\u001b[1;32m      2\u001b[0m     \u001b[0mstemmer\u001b[0m \u001b[0;34m=\u001b[0m \u001b[0mnltk\u001b[0m\u001b[0;34m.\u001b[0m\u001b[0mstem\u001b[0m\u001b[0;34m.\u001b[0m\u001b[0mRSLPStemmer\u001b[0m\u001b[0;34m(\u001b[0m\u001b[0;34m)\u001b[0m\u001b[0;34m\u001b[0m\u001b[0;34m\u001b[0m\u001b[0m\n\u001b[1;32m      3\u001b[0m     \u001b[0mstopwords\u001b[0m \u001b[0;34m=\u001b[0m \u001b[0mset\u001b[0m\u001b[0;34m(\u001b[0m\u001b[0mnltk\u001b[0m\u001b[0;34m.\u001b[0m\u001b[0mcorpus\u001b[0m\u001b[0;34m.\u001b[0m\u001b[0mstopwords\u001b[0m\u001b[0;34m.\u001b[0m\u001b[0mwords\u001b[0m\u001b[0;34m(\u001b[0m\u001b[0;34m'english'\u001b[0m\u001b[0;34m)\u001b[0m\u001b[0;34m)\u001b[0m\u001b[0;34m\u001b[0m\u001b[0;34m\u001b[0m\u001b[0m\n\u001b[0;32m----> 4\u001b[0;31m     \u001b[0mpalavras\u001b[0m \u001b[0;34m=\u001b[0m \u001b[0;34m[\u001b[0m\u001b[0mstemmer\u001b[0m\u001b[0;34m.\u001b[0m\u001b[0mstem\u001b[0m\u001b[0;34m(\u001b[0m\u001b[0mi\u001b[0m\u001b[0;34m)\u001b[0m \u001b[0;32mfor\u001b[0m \u001b[0mi\u001b[0m \u001b[0;32min\u001b[0m \u001b[0minstancia\u001b[0m\u001b[0;34m.\u001b[0m\u001b[0msplit\u001b[0m\u001b[0;34m(\u001b[0m\u001b[0;34m)\u001b[0m \u001b[0;32mif\u001b[0m \u001b[0;32mnot\u001b[0m \u001b[0mi\u001b[0m \u001b[0;32min\u001b[0m \u001b[0mstopwords\u001b[0m\u001b[0;34m]\u001b[0m\u001b[0;34m\u001b[0m\u001b[0;34m\u001b[0m\u001b[0m\n\u001b[0m\u001b[1;32m      5\u001b[0m     \u001b[0;32mreturn\u001b[0m \u001b[0;34m(\u001b[0m\u001b[0;34m\" \"\u001b[0m\u001b[0;34m.\u001b[0m\u001b[0mjoin\u001b[0m\u001b[0;34m(\u001b[0m\u001b[0mpalavras\u001b[0m\u001b[0;34m)\u001b[0m\u001b[0;34m)\u001b[0m\u001b[0;34m\u001b[0m\u001b[0;34m\u001b[0m\u001b[0m\n",
      "\u001b[0;31mAttributeError\u001b[0m: 'float' object has no attribute 'split'"
     ]
    }
   ],
   "source": [
    "df_final3_tratado['Noticias'] = df_final3_tratado['Noticias'].apply(lambda x: Preprocessing_en(x))\n",
    "df_final3_tratado.head()"
   ]
  },
  {
   "cell_type": "code",
   "execution_count": null,
   "metadata": {
    "id": "_6Dpc8QjtxBE"
   },
   "outputs": [],
   "source": [
    "df_final3_tratado['polaridade'] = df_final3_tratado['Noticias'].apply(lambda x: polaridade(x))\n",
    "df_final3_tratado['subjetividade'] = df_final3_tratado['Noticias'].apply(lambda x: subjetividade(x))\n",
    "df_final3_tratado['negatividade'] = df_final3_tratado['Noticias'].apply(lambda x: negatividade(x))\n",
    "df_final3_tratado['neutralidade'] = df_final3_tratado['Noticias'].apply(lambda x: neutralidade(x))\n",
    "df_final3_tratado['positividade'] = df_final3_tratado['Noticias'].apply(lambda x: positividade(x))\n",
    "df_final3_tratado['composicao'] = df_final3_tratado['Noticias'].apply(lambda x: composicao(x))\n",
    "df_final3_tratado.head()"
   ]
  },
  {
   "cell_type": "code",
   "execution_count": null,
   "metadata": {
    "id": "CikVvuYDtxBE"
   },
   "outputs": [],
   "source": []
  },
  {
   "cell_type": "code",
   "execution_count": null,
   "metadata": {
    "id": "EpSarmQ4txBE"
   },
   "outputs": [],
   "source": []
  },
  {
   "cell_type": "code",
   "execution_count": null,
   "metadata": {
    "id": "g02TMsr5txBE"
   },
   "outputs": [],
   "source": []
  },
  {
   "cell_type": "markdown",
   "metadata": {
    "id": "uVhYASlKtxBE"
   },
   "source": [
    "# 5.3 Tradução e aplicação do modelo pré-treinado de Roberta\n",
    "https://www.kaggle.com/code/robikscube/sentiment-analysis-python-youtube-tutorial/notebook"
   ]
  },
  {
   "cell_type": "code",
   "execution_count": null,
   "metadata": {
    "id": "pclifcQWtxBE"
   },
   "outputs": [],
   "source": [
    "#pip install –upgrade pip"
   ]
  },
  {
   "cell_type": "code",
   "execution_count": null,
   "metadata": {
    "id": "q_2Kp02dtxBE"
   },
   "outputs": [],
   "source": [
    "#pip install tensorflow"
   ]
  },
  {
   "cell_type": "code",
   "execution_count": null,
   "metadata": {
    "id": "OT6JnpdGtxBE"
   },
   "outputs": [],
   "source": [
    "#pip install transformers"
   ]
  },
  {
   "cell_type": "code",
   "execution_count": null,
   "metadata": {
    "id": "cSTZ9XirtxBF"
   },
   "outputs": [],
   "source": [
    "#pip install torch"
   ]
  },
  {
   "cell_type": "code",
   "execution_count": null,
   "metadata": {
    "id": "Qn5DtpJ5txBF"
   },
   "outputs": [],
   "source": [
    "from transformers import AutoTokenizer\n",
    "from transformers import AutoModelForSequenceClassification\n",
    "from scipy.special import softmax"
   ]
  },
  {
   "cell_type": "code",
   "execution_count": null,
   "metadata": {
    "id": "7ZGjAaOQtxBF"
   },
   "outputs": [],
   "source": [
    "MODEL = f\"cardiffnlp/twitter-roberta-base-sentiment\"\n",
    "tokenizer = AutoTokenizer.from_pretrained(MODEL)\n",
    "model = AutoModelForSequenceClassification.from_pretrained(MODEL)"
   ]
  },
  {
   "cell_type": "code",
   "execution_count": null,
   "metadata": {
    "id": "i5mrA8KgtxBF"
   },
   "outputs": [],
   "source": [
    "example = \"This oatmeal is not good. Its mushy, soft, I don't like it. Quaker Oats is the way to go.\""
   ]
  },
  {
   "cell_type": "code",
   "execution_count": null,
   "metadata": {
    "id": "2jDr_YC5txBF"
   },
   "outputs": [],
   "source": [
    "def neg_rob(frase):\n",
    "    #trunca a frase para 514 caracteres (máximo suportado pelo modelo de Roberta)\n",
    "    frase = frase[:514]\n",
    "    \n",
    "    encoded_text = tokenizer(frase, return_tensors='pt')\n",
    "    output = model(**encoded_text)\n",
    "    scores = output[0][0].detach().numpy()\n",
    "    scores = softmax(scores)\n",
    "\n",
    "    neg_roberta = scores[0]\n",
    "   # neu_roberta = scores[1]\n",
    "   # pos_roberta = scores[2]\n",
    "    return neg_roberta\n",
    "\n",
    "def neu_rob(frase):\n",
    "    #trunca a frase para 514 caracteres (máximo suportado pelo modelo de Roberta)\n",
    "    frase = frase[:514]\n",
    "    \n",
    "    encoded_text = tokenizer(frase, return_tensors='pt')\n",
    "    output = model(**encoded_text)\n",
    "    scores = output[0][0].detach().numpy()\n",
    "    scores = softmax(scores)\n",
    "\n",
    "    #neg_roberta = scores[0]\n",
    "    neu_roberta = scores[1]\n",
    "    #pos_roberta = scores[2]\n",
    "    return neu_roberta\n",
    "\n",
    "def pos_rob(frase):\n",
    "    #trunca a frase para 514 caracteres (máximo suportado pelo modelo de Roberta)\n",
    "    frase = frase[:514]\n",
    "    \n",
    "    encoded_text = tokenizer(frase, return_tensors='pt')\n",
    "    output = model(**encoded_text)\n",
    "    scores = output[0][0].detach().numpy()\n",
    "    scores = softmax(scores)\n",
    "\n",
    "    #neg_roberta = scores[0]\n",
    "    #neu_roberta = scores[1]\n",
    "    pos_roberta = scores[2]\n",
    "    return pos_roberta\n",
    "    "
   ]
  },
  {
   "cell_type": "code",
   "execution_count": null,
   "metadata": {
    "id": "zgJt0yIKtxBF"
   },
   "outputs": [],
   "source": [
    "df_final4 = df_final.copy()"
   ]
  },
  {
   "cell_type": "code",
   "execution_count": null,
   "metadata": {
    "id": "aGKAEgautxBG"
   },
   "outputs": [],
   "source": [
    "#df_final4['Noticias'] = df_final4['Noticias'].apply(lambda x: traduzir(x))"
   ]
  },
  {
   "cell_type": "code",
   "execution_count": null,
   "metadata": {
    "id": "XmVIZB9PtxBG"
   },
   "outputs": [],
   "source": [
    "df_final4['Noticias'] = df_final3['Noticias']\n",
    "df_final4.head()"
   ]
  },
  {
   "cell_type": "code",
   "execution_count": null,
   "metadata": {
    "id": "3L7sGROztxBG"
   },
   "outputs": [],
   "source": [
    "df_final4['neg_rob'] = df_final4['Noticias'].apply(lambda x: neg_rob(x))\n",
    "df_final4['neu_rob'] = df_final4['Noticias'].apply(lambda x: neu_rob(x))\n",
    "df_final4['pos_rob'] = df_final4['Noticias'].apply(lambda x: pos_rob(x))\n",
    "df_final4"
   ]
  },
  {
   "cell_type": "markdown",
   "metadata": {
    "id": "kA8xUq80txBG"
   },
   "source": [
    "## Criando novo DF com etapas de stopwords e lemmatization"
   ]
  },
  {
   "cell_type": "code",
   "execution_count": null,
   "metadata": {
    "id": "yDtGohbwtxBG"
   },
   "outputs": [],
   "source": [
    "df_final4_tratado = df_final.copy()\n",
    "df_final4_tratado['Noticias'] = df_final4['Noticias']"
   ]
  },
  {
   "cell_type": "code",
   "execution_count": null,
   "metadata": {
    "id": "OCtLwZmWtxBG"
   },
   "outputs": [],
   "source": [
    "df_final4_tratado['Noticias'] = df_final4_tratado['Noticias'].apply(lambda x: Preprocessing_en(x))\n",
    "df_final4_tratado.head()"
   ]
  },
  {
   "cell_type": "code",
   "execution_count": null,
   "metadata": {
    "id": "vBPoyjBGtxBG"
   },
   "outputs": [],
   "source": [
    "df_final4_tratado['neg_rob'] = df_final4_tratado['Noticias'].apply(lambda x: neg_rob(x))\n",
    "df_final4_tratado['neu_rob'] = df_final4_tratado['Noticias'].apply(lambda x: neu_rob(x))\n",
    "df_final4_tratado['pos_rob'] = df_final4_tratado['Noticias'].apply(lambda x: pos_rob(x))\n",
    "df_final4_tratado"
   ]
  },
  {
   "cell_type": "code",
   "execution_count": null,
   "metadata": {
    "id": "CbK88KbstxBH"
   },
   "outputs": [],
   "source": []
  },
  {
   "cell_type": "code",
   "execution_count": null,
   "metadata": {
    "id": "w6WxZQuItxBH"
   },
   "outputs": [],
   "source": []
  },
  {
   "cell_type": "code",
   "execution_count": null,
   "metadata": {
    "id": "Dgb_vuJRtxBH"
   },
   "outputs": [],
   "source": []
  },
  {
   "cell_type": "code",
   "execution_count": null,
   "metadata": {
    "id": "KGHOGHdCtxBH"
   },
   "outputs": [],
   "source": []
  },
  {
   "cell_type": "code",
   "execution_count": null,
   "metadata": {
    "id": "l2t7MZVhtxBH"
   },
   "outputs": [],
   "source": []
  },
  {
   "cell_type": "markdown",
   "metadata": {
    "id": "WvunB2T2txBH"
   },
   "source": [
    "# 6.0 Machine Learning: Testes inicias com seleção de features e classificação com algorítmos ingênuos."
   ]
  },
  {
   "cell_type": "markdown",
   "metadata": {
    "id": "yaZKt1aQtxBH"
   },
   "source": [
    "## 6.1 SentilexPT"
   ]
  },
  {
   "cell_type": "code",
   "execution_count": null,
   "metadata": {
    "id": "g_xLVq_UtxBH"
   },
   "outputs": [],
   "source": [
    "from sklearn.model_selection import train_test_split\n",
    "from lazypredict.Supervised import LazyClassifier\n"
   ]
  },
  {
   "cell_type": "code",
   "execution_count": null,
   "metadata": {
    "id": "zhMYJVjItxBH"
   },
   "outputs": [],
   "source": [
    "X = df_final2.drop(columns=['Date', 'Adj Close', 'Volume', 'Var%', 'Fechamento', 'Noticias','Sentimento'])\n",
    "y = df_final2['Fechamento']\n",
    "\n",
    "X_train, X_test, y_train, y_test = train_test_split(X, y, test_size=0.3, random_state=1, stratify=y)"
   ]
  },
  {
   "cell_type": "code",
   "execution_count": null,
   "metadata": {
    "id": "eKnB0ZdOtxBI"
   },
   "outputs": [],
   "source": [
    "X_train"
   ]
  },
  {
   "cell_type": "code",
   "execution_count": null,
   "metadata": {
    "id": "5oorIYfKtxBI"
   },
   "outputs": [],
   "source": [
    "clf = LazyClassifier(verbose=0,ignore_warnings=True, custom_metric=None)\n",
    "models,predictions = clf.fit(X_train, X_test, y_train, y_test)\n",
    "print(models)"
   ]
  },
  {
   "cell_type": "markdown",
   "metadata": {
    "id": "5gpxe-H2txBI"
   },
   "source": [
    "A acurácia dos top 5 algorítmos variou de 65% á 59%\n",
    "- DummyClassifier\n",
    "- QuadraticDiscriminantAnalysis      \n",
    "- GaussianNB  \n",
    "- LinearSVC    \n",
    "- LinearDiscriminantAnalysis"
   ]
  },
  {
   "cell_type": "markdown",
   "metadata": {
    "id": "o0FDRw9otxBI"
   },
   "source": [
    "## 6.1.2 SentilexPT com noticias tratadas"
   ]
  },
  {
   "cell_type": "code",
   "execution_count": null,
   "metadata": {
    "id": "XKiXKFNZtxBJ"
   },
   "outputs": [],
   "source": [
    "from sklearn.model_selection import train_test_split\n",
    "from lazypredict.Supervised import LazyClassifier\n",
    "\n",
    "X = df_final2_tratado.drop(columns=['Date', 'Adj Close', 'Volume', 'Var%', 'Fechamento', 'Noticias','Sentimento'])\n",
    "y = df_final2_tratado['Fechamento']\n",
    "\n",
    "X_train, X_test, y_train, y_test = train_test_split(X, y, test_size=0.3, random_state=1, stratify=y)\n",
    "\n",
    "clf = LazyClassifier(verbose=0,ignore_warnings=True, custom_metric=None)\n",
    "models,predictions = clf.fit(X_train, X_test, y_train, y_test)\n",
    "print(models)"
   ]
  },
  {
   "cell_type": "markdown",
   "metadata": {
    "id": "ODweFqirtxBJ"
   },
   "source": [
    "Sem os dados tratados (stopwods e lemmatization) o algorítmo performou melhor"
   ]
  },
  {
   "cell_type": "markdown",
   "metadata": {
    "id": "4Ps-TQJZtxBK"
   },
   "source": [
    "## 6.2 Tradução + Vader Sentiment"
   ]
  },
  {
   "cell_type": "code",
   "execution_count": null,
   "metadata": {
    "id": "brr4gwAJtxBK"
   },
   "outputs": [],
   "source": [
    "from sklearn.model_selection import train_test_split\n",
    "from lazypredict.Supervised import LazyClassifier"
   ]
  },
  {
   "cell_type": "code",
   "execution_count": null,
   "metadata": {
    "id": "PZ4qrBICtxBK"
   },
   "outputs": [],
   "source": [
    "X = df_final3.drop(columns=['Date', 'Adj Close', 'Volume', 'Var%', 'Fechamento', 'Noticias'])\n",
    "y = df_final3['Fechamento']\n",
    "\n",
    "X_train, X_test, y_train, y_test = train_test_split(X, y, test_size=0.3, random_state=1, stratify=y)"
   ]
  },
  {
   "cell_type": "code",
   "execution_count": null,
   "metadata": {
    "id": "BzT9FIhgtxBK"
   },
   "outputs": [],
   "source": [
    "X_train"
   ]
  },
  {
   "cell_type": "code",
   "execution_count": null,
   "metadata": {
    "id": "q_QWLDBttxBK"
   },
   "outputs": [],
   "source": [
    "clf = LazyClassifier(verbose=0,ignore_warnings=True, custom_metric=None)\n",
    "models,predictions = clf.fit(X_train, X_test, y_train, y_test)\n",
    "print(models)"
   ]
  },
  {
   "cell_type": "markdown",
   "metadata": {
    "id": "DaTtZo-1txBK"
   },
   "source": [
    "A acurácia dos top 5 algorítmos variou de 65% á 64%\n",
    "- DummyClassifier\n",
    "- XGBClassifier                           \n",
    "- LinearSVC                             \n",
    "- LogisticRegression                     \n",
    "- RidgeClassifier                    "
   ]
  },
  {
   "cell_type": "markdown",
   "metadata": {
    "id": "Hvi7sE4mtxBK"
   },
   "source": [
    "## 6.2.1 Tradução + Vader Sentiment com dados tratados"
   ]
  },
  {
   "cell_type": "code",
   "execution_count": null,
   "metadata": {
    "id": "vTTloQTRtxBK"
   },
   "outputs": [],
   "source": [
    "from sklearn.model_selection import train_test_split\n",
    "from lazypredict.Supervised import LazyClassifier\n",
    "\n",
    "X = df_final3_tratado.drop(columns=['Date', 'Adj Close', 'Volume', 'Var%', 'Fechamento', 'Noticias'])\n",
    "y = df_final3_tratado['Fechamento']\n",
    "\n",
    "X_train, X_test, y_train, y_test = train_test_split(X, y, test_size=0.3, random_state=1, stratify=y)\n",
    "\n",
    "clf = LazyClassifier(verbose=0,ignore_warnings=True, custom_metric=None)\n",
    "models,predictions = clf.fit(X_train, X_test, y_train, y_test)\n",
    "print(models)"
   ]
  },
  {
   "cell_type": "markdown",
   "metadata": {
    "id": "OxIR1F0ttxBL"
   },
   "source": [
    "Sem os dados tratados (stopwods e lemmatization) o algorítmo performou melhor"
   ]
  },
  {
   "cell_type": "markdown",
   "metadata": {
    "id": "EnI0cgNDtxBL"
   },
   "source": [
    "## 6.3 Modelo pré-treinado de Roberta"
   ]
  },
  {
   "cell_type": "code",
   "execution_count": null,
   "metadata": {
    "id": "nGkTDl4mtxBL"
   },
   "outputs": [],
   "source": [
    "from sklearn.model_selection import train_test_split\n",
    "from lazypredict.Supervised import LazyClassifier"
   ]
  },
  {
   "cell_type": "code",
   "execution_count": null,
   "metadata": {
    "id": "JrIJLP9QtxBL"
   },
   "outputs": [],
   "source": [
    "X = df_final4.drop(columns=['Date', 'Adj Close', 'Volume', 'Var%', 'Fechamento', 'Noticias'])\n",
    "y = df_final4['Fechamento']\n",
    "\n",
    "X_train, X_test, y_train, y_test = train_test_split(X, y, test_size=0.3, random_state=1, stratify=y)"
   ]
  },
  {
   "cell_type": "code",
   "execution_count": null,
   "metadata": {
    "id": "RROi_6vltxBL"
   },
   "outputs": [],
   "source": [
    "X_train"
   ]
  },
  {
   "cell_type": "code",
   "execution_count": null,
   "metadata": {
    "id": "SJsuJMgmtxBL"
   },
   "outputs": [],
   "source": [
    "clf = LazyClassifier(verbose=0,ignore_warnings=True, custom_metric=None)\n",
    "models,predictions = clf.fit(X_train, X_test, y_train, y_test)\n",
    "print(models)"
   ]
  },
  {
   "cell_type": "markdown",
   "metadata": {
    "id": "ThrIoNp5txBL"
   },
   "source": [
    "A acurácia dos top 5 algorítmos variou de 65% á 52%\n",
    "- DummyClassifier                    \n",
    "- Perceptron                                                    \n",
    "- SGDClassifier                                                   \n",
    "- BernoulliNB                                             \n",
    "- NearestCentroid                        "
   ]
  },
  {
   "cell_type": "markdown",
   "metadata": {
    "id": "O2JRt_catxBL"
   },
   "source": [
    "# 6.3.2 Modelo pré-treinado de Roberta com dados tratados"
   ]
  },
  {
   "cell_type": "code",
   "execution_count": null,
   "metadata": {
    "id": "qg7yrlqxtxBM"
   },
   "outputs": [],
   "source": [
    "from sklearn.model_selection import train_test_split\n",
    "from lazypredict.Supervised import LazyClassifier\n",
    "\n",
    "X = df_final4_tratado.drop(columns=['Date', 'Adj Close', 'Volume', 'Var%', 'Fechamento', 'Noticias'])\n",
    "y = df_final4_tratado['Fechamento']\n",
    "\n",
    "X_train, X_test, y_train, y_test = train_test_split(X, y, test_size=0.3, random_state=1, stratify=y)\n",
    "\n",
    "clf = LazyClassifier(verbose=0,ignore_warnings=True, custom_metric=None)\n",
    "models,predictions = clf.fit(X_train, X_test, y_train, y_test)\n",
    "print(models)"
   ]
  },
  {
   "cell_type": "markdown",
   "metadata": {
    "id": "_5Wwn_xhtxBM"
   },
   "source": [
    "Sem os dados tratados (stopwods e lemmatization) o algorítmo performou melhor"
   ]
  },
  {
   "cell_type": "markdown",
   "metadata": {
    "id": "u7nEF_uRtxBM"
   },
   "source": [
    "Quando aplica-se a remoção de stop words e o lemmatization há uma piora na performance dos algorítmos de classificação, dessa forma, vamos optar por não realizar os tratamentos e seguiremos os experimetnos compondo as features geradas pelos 3 metodos combinando-as uma a uma"
   ]
  },
  {
   "cell_type": "code",
   "execution_count": null,
   "metadata": {
    "id": "OpbP8GvStxBM"
   },
   "outputs": [],
   "source": []
  },
  {
   "cell_type": "markdown",
   "metadata": {
    "id": "0t2vvLQstxBM"
   },
   "source": [
    "## 6.4 Composição SentilextPT + Tradução & Vader Sentiment"
   ]
  },
  {
   "cell_type": "code",
   "execution_count": null,
   "metadata": {
    "id": "DVAvOLPgtxBM"
   },
   "outputs": [],
   "source": [
    "df_final5 = df_final3.merge(df_final2, how = 'left', on = ['Date', 'Adj Close', 'Volume', 'Var%', 'Fechamento'])\n",
    "df_final5"
   ]
  },
  {
   "cell_type": "code",
   "execution_count": null,
   "metadata": {
    "id": "60Q8ID5YtxBM"
   },
   "outputs": [],
   "source": [
    "X = df_final5.drop(columns=['Date', 'Adj Close', 'Volume', 'Var%', 'Fechamento', 'Noticias_x','Noticias_y','Sentimento'])\n",
    "y = df_final5['Fechamento']\n",
    "\n",
    "X_train, X_test, y_train, y_test = train_test_split(X, y, test_size=0.3, random_state=1, stratify=y)"
   ]
  },
  {
   "cell_type": "code",
   "execution_count": null,
   "metadata": {
    "id": "7XfnnWuAtxBM"
   },
   "outputs": [],
   "source": [
    "X_train"
   ]
  },
  {
   "cell_type": "code",
   "execution_count": null,
   "metadata": {
    "id": "_wXtFo7wtxBN"
   },
   "outputs": [],
   "source": [
    "clf = LazyClassifier(verbose=0,ignore_warnings=True, custom_metric=None)\n",
    "models,predictions = clf.fit(X_train, X_test, y_train, y_test)\n",
    "print(models)"
   ]
  },
  {
   "cell_type": "markdown",
   "metadata": {
    "id": "n8Z-1MCjtxBN"
   },
   "source": [
    "A acurácia dos top 5 algorítmos ficou em 68%\n",
    "- ExtraTreesClassifier                                         \n",
    "- LinearSVC                                                 \n",
    "- RidgeClassifierCV                                      \n",
    "- LogisticRegression                     \n",
    "- LinearDiscriminantAnalysis                                 "
   ]
  },
  {
   "cell_type": "markdown",
   "metadata": {
    "id": "WFxO_oNltxBN"
   },
   "source": [
    "## 6.5 Composição SentilextPT + Tradução & Roberta"
   ]
  },
  {
   "cell_type": "code",
   "execution_count": null,
   "metadata": {
    "id": "RQFKm8u7txBN"
   },
   "outputs": [],
   "source": [
    "df_final6 = df_final4.merge(df_final2, how = 'left', on = ['Date', 'Adj Close', 'Volume', 'Var%', 'Fechamento'])\n",
    "df_final6"
   ]
  },
  {
   "cell_type": "code",
   "execution_count": null,
   "metadata": {
    "id": "0G_WckyZtxBN"
   },
   "outputs": [],
   "source": [
    "X = df_final6.drop(columns=['Date', 'Adj Close', 'Volume', 'Var%', 'Fechamento', 'Noticias_x','Noticias_y','Sentimento'])\n",
    "y = df_final6['Fechamento']\n",
    "\n",
    "X_train, X_test, y_train, y_test = train_test_split(X, y, test_size=0.3, random_state=1, stratify=y)"
   ]
  },
  {
   "cell_type": "code",
   "execution_count": null,
   "metadata": {
    "id": "ZK5_eQYTtxBN"
   },
   "outputs": [],
   "source": [
    "X_train"
   ]
  },
  {
   "cell_type": "code",
   "execution_count": null,
   "metadata": {
    "id": "D88ptgeYtxBN"
   },
   "outputs": [],
   "source": [
    "clf = LazyClassifier(verbose=0,ignore_warnings=True, custom_metric=None)\n",
    "models,predictions = clf.fit(X_train, X_test, y_train, y_test)\n",
    "print(models)"
   ]
  },
  {
   "cell_type": "markdown",
   "metadata": {
    "id": "YeYvPBA7txBO"
   },
   "source": [
    "A acurácia dos top 5 algorítmos variou de 65% á 58%\n",
    "\n",
    "DummyClassifier                    \n",
    "Perceptron                         \n",
    "LinearSVC                          \n",
    "LogisticRegression                 \n",
    "RidgeClassifier                    "
   ]
  },
  {
   "cell_type": "markdown",
   "metadata": {
    "id": "MR3swdq4txBO"
   },
   "source": [
    "## 6.6 Composição Tradução & Vader Sentiment + Tradução & Roberta\n"
   ]
  },
  {
   "cell_type": "code",
   "execution_count": null,
   "metadata": {
    "id": "vMZSmoYvtxBO"
   },
   "outputs": [],
   "source": [
    "df_final7 = df_final4.merge(df_final3, how = 'left', on = ['Date', 'Adj Close', 'Volume', 'Var%', 'Fechamento'])\n",
    "df_final7"
   ]
  },
  {
   "cell_type": "code",
   "execution_count": null,
   "metadata": {
    "id": "Ac9RoFEDtxBO"
   },
   "outputs": [],
   "source": [
    "X = df_final7.drop(columns=['Date', 'Adj Close', 'Volume', 'Var%', 'Fechamento', 'Noticias_x','Noticias_y'])\n",
    "y = df_final7['Fechamento']\n",
    "\n",
    "X_train, X_test, y_train, y_test = train_test_split(X, y, test_size=0.3, random_state=1, stratify=y)"
   ]
  },
  {
   "cell_type": "code",
   "execution_count": null,
   "metadata": {
    "id": "6wZ4SgGstxBO"
   },
   "outputs": [],
   "source": [
    "X_train"
   ]
  },
  {
   "cell_type": "code",
   "execution_count": null,
   "metadata": {
    "id": "LUaLTBrhtxBO"
   },
   "outputs": [],
   "source": [
    "clf = LazyClassifier(verbose=0,ignore_warnings=True, custom_metric=None)\n",
    "models,predictions = clf.fit(X_train, X_test, y_train, y_test)\n",
    "print(models)"
   ]
  },
  {
   "cell_type": "markdown",
   "metadata": {
    "id": "OmdXZuGXtxBO"
   },
   "source": [
    "A acurácia dos top 5 algorítmos variou de 65% á 61%\n",
    "\n",
    "DummyClassifier                    \n",
    "LinearSVC                                                   \n",
    "LinearDiscriminantAnalysis  \n",
    "RidgeClassifier    \n",
    "LogisticRegression                  "
   ]
  },
  {
   "cell_type": "markdown",
   "metadata": {
    "id": "C6yWLR4StxBO"
   },
   "source": [
    "## 6.7 Composição SentilexPT + Tradução & Vader Sentiment + Tradução & Roberta\n"
   ]
  },
  {
   "cell_type": "code",
   "execution_count": null,
   "metadata": {
    "id": "L6R3U-9otxBP"
   },
   "outputs": [],
   "source": [
    "# Sentilex + Vader\n",
    "df_final8 = df_final3.merge(df_final2, how = 'left', on = ['Date', 'Adj Close', 'Volume', 'Var%', 'Fechamento'])\n",
    "df_final8"
   ]
  },
  {
   "cell_type": "code",
   "execution_count": null,
   "metadata": {
    "id": "LqKdypFrtxBP"
   },
   "outputs": [],
   "source": [
    "# + Roberta\n",
    "df_final8 = df_final8.merge(df_final4, how = 'left', on = ['Date', 'Adj Close', 'Volume', 'Var%', 'Fechamento'])\n",
    "df_final8"
   ]
  },
  {
   "cell_type": "code",
   "execution_count": null,
   "metadata": {
    "id": "Bura7_QWtxBP"
   },
   "outputs": [],
   "source": []
  },
  {
   "cell_type": "code",
   "execution_count": null,
   "metadata": {
    "id": "vyrutQxDtxBP"
   },
   "outputs": [],
   "source": [
    "X = df_final8.drop(columns=['Date', 'Adj Close', 'Volume', 'Var%', 'Fechamento', 'Noticias_x','Noticias_y', 'Noticias', 'Sentimento'])\n",
    "y = df_final8['Fechamento']\n",
    "\n",
    "X_train, X_test, y_train, y_test = train_test_split(X, y, test_size=0.3, random_state=1, stratify=y)"
   ]
  },
  {
   "cell_type": "code",
   "execution_count": null,
   "metadata": {
    "id": "yuFLa_wytxBP"
   },
   "outputs": [],
   "source": [
    "X_train"
   ]
  },
  {
   "cell_type": "code",
   "execution_count": null,
   "metadata": {
    "id": "5acN3a8NtxBP"
   },
   "outputs": [],
   "source": [
    "clf = LazyClassifier(verbose=0,ignore_warnings=True, custom_metric=None)\n",
    "models,predictions = clf.fit(X_train, X_test, y_train, y_test)\n",
    "print(models)"
   ]
  },
  {
   "cell_type": "markdown",
   "metadata": {
    "id": "JoYvcbEZtxBP"
   },
   "source": [
    "A acurácia dos top 5 algorítmos variou de 67% á 64%\n",
    "\n",
    "CalibratedClassifierCV                                 \n",
    "LogisticRegression                                                                    \n",
    "RidgeClassifierCV                    \n",
    "DummyClassifier                        \n",
    "LinearSVC                             "
   ]
  },
  {
   "cell_type": "markdown",
   "metadata": {
    "id": "x9hdhtBatxBP"
   },
   "source": [
    "## 6.8 Composição SentilexPT + Tradução & Vader Sentiment + Tradução & Roberta com Diminuição de dimensionalidade e Normalização"
   ]
  },
  {
   "cell_type": "code",
   "execution_count": null,
   "metadata": {
    "id": "HehRp5vKtxBP"
   },
   "outputs": [],
   "source": [
    "from sklearn.decomposition import PCA\n",
    "from sklearn.preprocessing import StandardScaler"
   ]
  },
  {
   "cell_type": "code",
   "execution_count": null,
   "metadata": {
    "id": "MlkTXYVZtxBQ"
   },
   "outputs": [],
   "source": [
    "df_models = pd.DataFrame()\n",
    "\n",
    "X = df_final8.drop(columns=['Date', 'Adj Close', 'Volume', 'Var%', 'Fechamento', 'Noticias_x','Noticias_y', 'Noticias', 'Sentimento'])\n",
    "y = df_final8['Fechamento']\n",
    "    \n",
    "## Laço para experimentações com diversos numeros de PCA (de 2 á 9)\n",
    "for i in range(2,len(X.columns),1):\n",
    "    print(\"Testando com PCA = %s!\" % i)\n",
    "    #Holdout\n",
    "    x_train, x_test, y_train, y_test = train_test_split(X, y, test_size=0.3, random_state=1) ### \n",
    "    \n",
    "    #Aplicando PCA\n",
    "    pca = PCA(n_components=i)\n",
    "    x_train = pca.fit_transform(x_train)\n",
    "    x_test = pca.fit_transform(x_test)\n",
    "\n",
    "    # normalizando os dados de treino e teste\n",
    "    scaler_train = StandardScaler()\n",
    "    scaler_test = StandardScaler()\n",
    "\n",
    "    scaler_train.fit(x_train)\n",
    "    scaler_test.fit(x_test)\n",
    "\n",
    "    x_train_normalized = scaler_train.transform(x_train)\n",
    "    x_test_normalized = scaler_test.transform(x_test)\n",
    "\n",
    "    #Testando os modelos\n",
    "    reg = LazyClassifier(verbose=0,ignore_warnings=True, custom_metric=None)\n",
    "    models, predictions = reg.fit(x_train_normalized, x_test_normalized, y_train, y_test)\n",
    "    models['n_PCA'] = i\n",
    "\n",
    "    # Armazenando os 5 melhores modelos (Maiores Acurácia)\n",
    "    df_models = df_models.append(models.reset_index().sort_values(by='Accuracy', ascending=False).head(5), ignore_index=True)"
   ]
  },
  {
   "cell_type": "code",
   "execution_count": null,
   "metadata": {
    "id": "PjOdSkRktxBQ"
   },
   "outputs": [],
   "source": [
    "df_models.sort_values(by='Accuracy', ascending=False)"
   ]
  },
  {
   "cell_type": "markdown",
   "metadata": {
    "id": "mF9dY1C7txBQ"
   },
   "source": [
    "A acurácia dos top 5 algorítmos ficou em 59%\n",
    "\n",
    "SGDClassifier com 2 features reduzidas  \n",
    "SGDClassifier com 5 features reduzidas\n",
    "CalibratedClassifierCV com 9 features reduzidas  \n",
    "SGDClassifier com 9 features reduzidas  \n",
    "CalibratedClassifierCV com 8 features reduzidas"
   ]
  },
  {
   "cell_type": "markdown",
   "metadata": {
    "id": "Xk1G7v4NtxBQ"
   },
   "source": [
    "## 6.9 Composição SentilexPT + Tradução & Vader Sentiment + Tradução & Roberta com Diminuição de dimensionalidade e SEM Normalização"
   ]
  },
  {
   "cell_type": "code",
   "execution_count": null,
   "metadata": {
    "id": "diU2qKAutxBQ"
   },
   "outputs": [],
   "source": [
    "df_models = pd.DataFrame()\n",
    "\n",
    "X = df_final8.drop(columns=['Date', 'Adj Close', 'Volume', 'Var%', 'Fechamento', 'Noticias_x','Noticias_y', 'Noticias', 'Sentimento'])\n",
    "y = df_final8['Fechamento']\n",
    "    \n",
    "## Laço para experimentações com diversos numeros de PCA (de 2 á 9)\n",
    "for i in range(2,len(X.columns),1):\n",
    "    print(\"Testando com PCA = %s!\" % i)\n",
    "    #Holdout\n",
    "    x_train, x_test, y_train, y_test = train_test_split(X, y, test_size=0.3, random_state=1) ### \n",
    "    \n",
    "    #Aplicando PCA\n",
    "    pca = PCA(n_components=i)\n",
    "    x_train = pca.fit_transform(x_train)\n",
    "    x_test = pca.fit_transform(x_test)\n",
    "\n",
    "    #Testando os modelos\n",
    "    reg = LazyClassifier(verbose=0,ignore_warnings=True, custom_metric=None)\n",
    "    models, predictions = reg.fit(x_train, x_test, y_train, y_test)\n",
    "    models['n_PCA'] = i\n",
    "\n",
    "    # Armazenando os 5 melhores modelos (top 5 Maiores Acurácia)\n",
    "    df_models = df_models.append(models.reset_index().sort_values(by='Accuracy', ascending=False).head(5), ignore_index=True)"
   ]
  },
  {
   "cell_type": "code",
   "execution_count": null,
   "metadata": {
    "id": "jKFd4tUYtxBQ"
   },
   "outputs": [],
   "source": [
    "df_models.sort_values(by='Accuracy', ascending=False)"
   ]
  },
  {
   "cell_type": "markdown",
   "metadata": {
    "id": "RNQG6P1HtxBQ"
   },
   "source": [
    "A acurácia dos top 5 algorítmos variou de 59% a 58%\n",
    "\n",
    "PassiveAggressiveClassifier com 3 features reduzidas  \n",
    "Perceptron com 8 features reduzidas\n",
    "Perceptron com 7 features reduzidas  \n",
    "XGBClassifier com 2 features reduzidas  \n",
    "CalibratedClassifierCV com 9 features reduzidas"
   ]
  },
  {
   "cell_type": "markdown",
   "metadata": {
    "id": "RleN1C9ItxBR"
   },
   "source": [
    "## 6.10 Composição SentilextPT + Tradução & Vader Sentiment com Diminuição de dimensionalidade e Normalização"
   ]
  },
  {
   "cell_type": "code",
   "execution_count": null,
   "metadata": {
    "id": "C2NnAl6mtxBR"
   },
   "outputs": [],
   "source": [
    "df_models = pd.DataFrame()\n",
    "\n",
    "X = df_final5.drop(columns=['Date', 'Adj Close', 'Volume', 'Var%', 'Fechamento', 'Noticias_x','Noticias_y','Sentimento'])\n",
    "y = df_final5['Fechamento']\n",
    " \n",
    "## Laço para experimentações com diversos numeros de PCA (de 2 á 6)\n",
    "for i in range(2,len(X.columns),1):\n",
    "    print(\"Testando com PCA = %s!\" % i)\n",
    "    #Holdout\n",
    "    x_train, x_test, y_train, y_test = train_test_split(X, y, test_size=0.3, random_state=1) ### \n",
    "    \n",
    "    #Aplicando PCA\n",
    "    pca = PCA(n_components=i)\n",
    "    x_train = pca.fit_transform(x_train)\n",
    "    x_test = pca.fit_transform(x_test)\n",
    "\n",
    "    # normalizando os dados de treino e teste\n",
    "    scaler_train = StandardScaler()\n",
    "    scaler_test = StandardScaler()\n",
    "\n",
    "    scaler_train.fit(x_train)\n",
    "    scaler_test.fit(x_test)\n",
    "\n",
    "    x_train_normalized = scaler_train.transform(x_train)\n",
    "    x_test_normalized = scaler_test.transform(x_test)\n",
    "\n",
    "    #Testando os modelos\n",
    "    reg = LazyClassifier(verbose=0,ignore_warnings=True, custom_metric=None)\n",
    "    models, predictions = reg.fit(x_train_normalized, x_test_normalized, y_train, y_test)\n",
    "    models['n_PCA'] = i\n",
    "\n",
    "    # Armazenando os 5 melhores modelos (Maiores Acurácia)\n",
    "    df_models = df_models.append(models.reset_index().sort_values(by='Accuracy', ascending=False).head(5), ignore_index=True)"
   ]
  },
  {
   "cell_type": "code",
   "execution_count": null,
   "metadata": {
    "id": "WqxAmdF4txBR"
   },
   "outputs": [],
   "source": [
    "df_models.sort_values(by='Accuracy', ascending=False)"
   ]
  },
  {
   "cell_type": "markdown",
   "metadata": {
    "id": "BRspgDzitxBR"
   },
   "source": [
    "A acurácia dos top 5 algorítmos variou de 64% a 59%\n",
    "\n",
    "LabelPropagation com 2 features reduzidas  \n",
    "LabelSpreading com 2 features reduzidas  \n",
    "ExtraTreesClassifier com 4 features reduzidas  \n",
    "RandomForestClassifier com 5 features reduzidas  \n",
    "ExtraTreeClassifier com 5 features reduzidas"
   ]
  },
  {
   "cell_type": "markdown",
   "metadata": {
    "id": "pYbVvekvtxBR"
   },
   "source": [
    "## 6.11 Composição SentilextPT + Tradução & Vader Sentiment com Diminuição de dimensionalidade e SEM Normalização"
   ]
  },
  {
   "cell_type": "code",
   "execution_count": null,
   "metadata": {
    "id": "M0quHIrhtxBR"
   },
   "outputs": [],
   "source": [
    "df_models = pd.DataFrame()\n",
    "\n",
    "X = df_final5.drop(columns=['Date', 'Adj Close', 'Volume', 'Var%', 'Fechamento', 'Noticias_x','Noticias_y','Sentimento'])\n",
    "y = df_final5['Fechamento']\n",
    "    \n",
    "## Laço para experimentações com diversos numeros de PCA (de 2 á 6)\n",
    "for i in range(2,len(X.columns),1):\n",
    "    print(\"Testando com PCA = %s!\" % i)\n",
    "    #Holdout\n",
    "    x_train, x_test, y_train, y_test = train_test_split(X, y, test_size=0.3, random_state=1) ### \n",
    "    \n",
    "    #Aplicando PCA\n",
    "    pca = PCA(n_components=i)\n",
    "    x_train = pca.fit_transform(x_train)\n",
    "    x_test = pca.fit_transform(x_test)\n",
    "\n",
    "    #Testando os modelos\n",
    "    reg = LazyClassifier(verbose=0,ignore_warnings=True, custom_metric=None)\n",
    "    models, predictions = reg.fit(x_train, x_test, y_train, y_test)\n",
    "    models['n_PCA'] = i\n",
    "\n",
    "    # Armazenando os 5 melhores modelos (top 5 Maiores Acurácia)\n",
    "    df_models = df_models.append(models.reset_index().sort_values(by='Accuracy', ascending=False).head(5), ignore_index=True)"
   ]
  },
  {
   "cell_type": "code",
   "execution_count": null,
   "metadata": {
    "id": "Sj9O3i6utxBR"
   },
   "outputs": [],
   "source": [
    "df_models.sort_values(by='Accuracy', ascending=False)"
   ]
  },
  {
   "cell_type": "markdown",
   "metadata": {
    "id": "HiRv9YuTtxBS"
   },
   "source": [
    "A acurácia dos top 5 algorítmos variou de 64% a 59%\n",
    "\n",
    "LabelPropagation com 2 features reduzidas  \n",
    "LabelSpreading com 2 features reduzidas  \n",
    "BaggingClassifier com 5 features reduzidas  \n",
    "ExtraTreesClassifier com 3 features reduzidas  \n",
    "RandomForestClassifier com 5 features reduzidas"
   ]
  },
  {
   "cell_type": "markdown",
   "metadata": {
    "id": "X3xpjQDHtxBS"
   },
   "source": [
    "# 7.0 Análise de dados:"
   ]
  },
  {
   "cell_type": "markdown",
   "metadata": {
    "id": "nWZw_C8TtxBS"
   },
   "source": [
    "### Pegando os dias de maiores volumes"
   ]
  },
  {
   "cell_type": "code",
   "execution_count": null,
   "metadata": {
    "id": "IiZ8_gQjtxBS"
   },
   "outputs": [],
   "source": [
    "df_final21 = df_final2.sort_values(by=['Volume'], ascending=False)\n",
    "df30 = df_final21.head(30)"
   ]
  },
  {
   "cell_type": "code",
   "execution_count": null,
   "metadata": {
    "id": "k01NidjqtxBS"
   },
   "outputs": [],
   "source": [
    "df_final21"
   ]
  },
  {
   "cell_type": "markdown",
   "metadata": {
    "id": "ZYYnep0AtxBS"
   },
   "source": [
    "### analise dos 30 dias de maior volume"
   ]
  },
  {
   "cell_type": "code",
   "execution_count": null,
   "metadata": {
    "id": "Eq3Ojt_3txBT"
   },
   "outputs": [],
   "source": [
    "df30.groupby(['Fechamento']).count()"
   ]
  },
  {
   "cell_type": "code",
   "execution_count": null,
   "metadata": {
    "id": "2FVh3mHBtxBT"
   },
   "outputs": [],
   "source": [
    "df30.groupby(['Sentimento']).count()"
   ]
  },
  {
   "cell_type": "code",
   "execution_count": null,
   "metadata": {
    "id": "XXySmJHjtxBT"
   },
   "outputs": [],
   "source": [
    "g = sns.FacetGrid(df_final21, col=\"Fechamento\", sharex = True, sharey = False, )\n",
    "g.map_dataframe(sns.histplot, x = \"Sentimento\", bins = 3)"
   ]
  },
  {
   "cell_type": "code",
   "execution_count": null,
   "metadata": {
    "id": "T5c4u36XtxBT"
   },
   "outputs": [],
   "source": []
  },
  {
   "cell_type": "code",
   "execution_count": null,
   "metadata": {
    "id": "kFPF9JDUtxBT"
   },
   "outputs": [],
   "source": []
  },
  {
   "cell_type": "markdown",
   "metadata": {
    "id": "sHBWzdQ3txBT"
   },
   "source": [
    "# 7.0 Feature Engineering - Seleção do conjunto de features de dias anteriores\n",
    "\n",
    "Selecionaremos o conjunto de features composto pelos métodos de NLP \n",
    "- Composição SentilextPT + Tradução & Vader Sentiment sem normalização e sem PCA e;\n",
    "\n",
    "adicionaremos as features de n dias anteriores para avaliar a performance da classificação"
   ]
  },
  {
   "cell_type": "markdown",
   "metadata": {
    "id": "HVwcD_NptxBU"
   },
   "source": [
    "## 7.1 Adição features de dias anteriores ao dataframe"
   ]
  },
  {
   "cell_type": "code",
   "execution_count": null,
   "metadata": {
    "id": "G9DXGinLtxBU"
   },
   "outputs": [],
   "source": [
    "df_final9 = df_final3.merge(df_final2, how = 'left', on = ['Date', 'Adj Close', 'Volume', 'Var%', 'Fechamento'])\n",
    "df_final9.head()"
   ]
  },
  {
   "cell_type": "code",
   "execution_count": null,
   "metadata": {
    "id": "DcW2Jec1txBU"
   },
   "outputs": [],
   "source": [
    "features = ['polaridade', 'subjetividade', 'negatividade', 'neutralidade',  'positividade', 'composicao','score']\n",
    "featuresd1 = [i + \"d1\" for i in features]\n",
    "featuresd2 = [i + \"d2\" for i in features]\n",
    "featuresd3 = [i + \"d3\" for i in features]\n",
    "featuresd4 = [i + \"d4\" for i in features]"
   ]
  },
  {
   "cell_type": "code",
   "execution_count": null,
   "metadata": {
    "id": "RD3IrX_btxBU"
   },
   "outputs": [],
   "source": [
    "#Criando as colunas de features para d-1, d-2, d-3, d-4 e inicializando com valores zeros:\n",
    "for i in features:\n",
    "    df_final9[i+\"d1\"] = 0\n",
    "    df_final9[i+\"d2\"] = 0\n",
    "    df_final9[i+\"d3\"] = 0\n",
    "    df_final9[i+\"d4\"] = 0\n",
    "df_final9.head()"
   ]
  },
  {
   "cell_type": "code",
   "execution_count": null,
   "metadata": {
    "id": "ofmNAhx4txBU"
   },
   "outputs": [],
   "source": [
    "df_final9[['Date','composicao','composicaod4']]"
   ]
  },
  {
   "cell_type": "code",
   "execution_count": null,
   "metadata": {
    "id": "ZBddMgQdtxBU"
   },
   "outputs": [],
   "source": [
    "import itertools\n",
    "\n",
    "#atualiza as features de d-1\n",
    "for a,b in itertools.zip_longest(features,featuresd1):\n",
    "    df_final9[b] = df_final9.shift(periods=1)[a]\n",
    "    \n",
    "#atualiza as features de d-2\n",
    "for a,b in itertools.zip_longest(features,featuresd2):\n",
    "    df_final9[b] = df_final9.shift(periods=2)[a]\n",
    "    \n",
    "#atualiza as features de d-3\n",
    "for a,b in itertools.zip_longest(features,featuresd3):\n",
    "    df_final9[b] = df_final9.shift(periods=3)[a]\n",
    "    \n",
    "#atualiza as features de d-4\n",
    "for a,b in itertools.zip_longest(features,featuresd4):\n",
    "    df_final9[b] = df_final9.shift(periods=4)[a]\n"
   ]
  },
  {
   "cell_type": "code",
   "execution_count": null,
   "metadata": {
    "id": "90VfX4TvtxBU"
   },
   "outputs": [],
   "source": [
    "df_final9[['Date','composicao','composicaod4']]"
   ]
  },
  {
   "cell_type": "code",
   "execution_count": null,
   "metadata": {
    "id": "tNOQeKYEtxBU"
   },
   "outputs": [],
   "source": [
    "df_final9.head()"
   ]
  },
  {
   "cell_type": "code",
   "execution_count": null,
   "metadata": {
    "id": "4YkKBClptxBV"
   },
   "outputs": [],
   "source": [
    "df_final9.isnull().sum()"
   ]
  },
  {
   "cell_type": "code",
   "execution_count": null,
   "metadata": {
    "id": "02vnEgEOtxBV"
   },
   "outputs": [],
   "source": [
    "## Eliminação dos registros sem as features de dias anteriores (os primeiros 4 dias)"
   ]
  },
  {
   "cell_type": "code",
   "execution_count": null,
   "metadata": {
    "id": "k3C4i5_LtxBV"
   },
   "outputs": [],
   "source": [
    "df_final9 = df_final9.dropna()\n",
    "df_final9.isnull().sum()"
   ]
  },
  {
   "cell_type": "code",
   "execution_count": null,
   "metadata": {
    "id": "2Vdhc0vXtxBV"
   },
   "outputs": [],
   "source": [
    "df_final9.columns"
   ]
  },
  {
   "cell_type": "markdown",
   "metadata": {
    "id": "ml4PY1bttxBV"
   },
   "source": [
    "## 7.1 Experimentos \n",
    "iterando sobre d á d-n;  1<=n<=4  \n",
    "c/ s/ PCA   \n",
    "c/ s/ normalização   \n"
   ]
  },
  {
   "cell_type": "code",
   "execution_count": null,
   "metadata": {
    "id": "IpMoWx8TtxBV"
   },
   "outputs": [],
   "source": [
    "#Criando um dicionário com o conjunto de features do dia atual ao d-4:\n",
    "feature_dias = {'dia atual': features, 'd-1': features+featuresd1, 'd-2':features+featuresd1+featuresd2, 'd-3':features+featuresd1+featuresd2+featuresd3, 'd-4':features+featuresd1+featuresd2+featuresd3+featuresd4}"
   ]
  },
  {
   "cell_type": "code",
   "execution_count": null,
   "metadata": {
    "id": "1w3VeAIMtxBV"
   },
   "outputs": [],
   "source": [
    "df_models = pd.DataFrame()\n",
    "\n",
    "## repetir o experimento 4x para eliminar possibilidade de outliers\n",
    "for rep in range(0,4,1):\n",
    "    \n",
    "    ## iterar sobre o conjunto de features entre a data e o dia -n (para 1<=n<=4)\n",
    "    for k in feature_dias.keys():\n",
    "    \n",
    "        #Lista de features consideradas e definição de X e Y:\n",
    "        lista_features = feature_dias[k]\n",
    "        X = df_final9[lista_features]\n",
    "        y = df_final9['Fechamento']  \n",
    "    \n",
    "        #Holdout em treino e teste\n",
    "        x_train, x_test, y_train, y_test = train_test_split(X, y, test_size=0.3, random_state=rep) ###\n",
    "    \n",
    "        ## iterar sobre a quantidade de reduções de dimensionalidade das features (PCA)\n",
    "        for i in range(2,len(X.columns),1):\n",
    "    \n",
    "            #Aplicando PCA\n",
    "            pca = PCA(n_components=i)\n",
    "            x_train_pca = pca.fit_transform(x_train)\n",
    "            x_test_pca = pca.fit_transform(x_test)\n",
    "    \n",
    "            #Aplicando Normalização\n",
    "            scaler_train = StandardScaler()\n",
    "            scaler_test = StandardScaler()\n",
    "\n",
    "            scaler_train.fit(x_train_pca)\n",
    "            scaler_test.fit(x_test_pca)\n",
    "\n",
    "            x_train_pca_normalized = scaler_train.transform(x_train_pca)\n",
    "            x_test_pca_normalized = scaler_test.transform(x_test_pca)\n",
    "\n",
    "\n",
    "            #Testando PCA + normalizado\n",
    "            print(\"Testando para conjunto de features do dia atual à %s com PCA = %s e Normalização - Rep %s!\" % (k,i,rep)) \n",
    "            reg = LazyClassifier(verbose=0,ignore_warnings=True, custom_metric=None)\n",
    "            models, predictions = reg.fit(x_train_pca_normalized, x_test_pca_normalized, y_train, y_test)\n",
    "            models['conjunto_features'] = k\n",
    "            models['n_PCA'] = i\n",
    "            models['Normalizado'] = True\n",
    "            models['repeticao'] = rep\n",
    "            # Armazenando os 5 melhores modelos (top 5 Maiores Acurácia)\n",
    "            df_models = df_models.append(models.reset_index().sort_values(by='Accuracy', ascending=False).head(5), ignore_index=True)\n",
    "    \n",
    "            #Testando PCA\n",
    "            print(\"Testando para conjunto de features do dia atual à %s com PCA = %s! - Rep %s\" % (k,i,rep))\n",
    "            reg = LazyClassifier(verbose=0,ignore_warnings=True, custom_metric=None)\n",
    "            models, predictions = reg.fit(x_train_pca, x_test_pca, y_train, y_test)\n",
    "            models['conjunto_features'] = k\n",
    "            models['n_PCA'] = i \n",
    "            models['Normalizado'] = False\n",
    "            models['repeticao'] = rep\n",
    "            # Armazenando os 5 melhores modelos (top 5 Maiores Acurácia)\n",
    "            df_models = df_models.append(models.reset_index().sort_values(by='Accuracy', ascending=False).head(5), ignore_index=True)    \n",
    "\n",
    "    \n",
    "        #Testando sem PCA e sem Normalizacao\n",
    "        print(\"Testando para conjunto de features do dia atual à %s!\" % k)\n",
    "        reg = LazyClassifier(verbose=0,ignore_warnings=True, custom_metric=None)\n",
    "        models, predictions = reg.fit(x_train, x_test, y_train, y_test)\n",
    "        models['conjunto_features'] = k\n",
    "        models['n_PCA'] = \"N/A\"\n",
    "        models['Normalizado'] = False\n",
    "        models['repeticao'] = rep\n",
    "        df_models = df_models.append(models.reset_index().sort_values(by='Accuracy', ascending=False).head(5), ignore_index=True)"
   ]
  },
  {
   "cell_type": "code",
   "execution_count": null,
   "metadata": {
    "id": "bU5GZqQgtxBW"
   },
   "outputs": [],
   "source": [
    "df_models.sort_values(by='Accuracy', ascending=False)"
   ]
  },
  {
   "cell_type": "markdown",
   "metadata": {
    "id": "jh-Tf1NCtxBW"
   },
   "source": [
    "Escolheremos o conjunto de features referente ao dia atual á 3 dias anteriores.\n",
    "\n",
    "Os seguintes modelos serão selecionados para tunagem:\n",
    "\n",
    "- PassiveAggressiveClassifier;  \n",
    "- GaussianNB;  \n",
    "- BernoulliNB;  \n",
    "- QuadraticDiscriminantAnalysis;  \n",
    "- LGBMClassifier;  \n",
    "- RandomForestClassifier;  \n",
    "- NearestCentroid;  \n",
    "- NuSVC;  \n",
    "- XGBClassifier;  \n",
    "- SGDClassifier;  \n",
    "- Perceptron;  \n",
    "- DecisionTreeClassifier\n",
    "- MLP\n",
    "- SVC\n",
    "- AdaBoostClassifier\n",
    "- KNeighborsClassifier"
   ]
  },
  {
   "cell_type": "markdown",
   "metadata": {
    "id": "BQF6Nd4NtxBW"
   },
   "source": [
    "# 8.0 Análise de Dados - Features"
   ]
  },
  {
   "cell_type": "code",
   "execution_count": null,
   "metadata": {
    "id": "N1fZHXI9txBW"
   },
   "outputs": [],
   "source": [
    "df_analise = df_final9.copy()\n",
    "df_analise.head()"
   ]
  },
  {
   "cell_type": "markdown",
   "metadata": {
    "id": "oqvY9hq6txBW"
   },
   "source": [
    "### Correlação"
   ]
  },
  {
   "cell_type": "code",
   "execution_count": null,
   "metadata": {
    "id": "q401nkyPtxBW"
   },
   "outputs": [],
   "source": [
    "plt.figure(figsize=(40,32))\n",
    "sns.heatmap(df_analise.corr(),annot=True)\n",
    "plt.show()"
   ]
  },
  {
   "cell_type": "markdown",
   "metadata": {
    "id": "7BZooetRtxBW"
   },
   "source": [
    "- As features negatividade vs composição possui alta correlação (0.65), assim como positividade vs composição (0.58). A feature composição tenta resumir o sentimento geral da noticia é esperado que tenha alta correlação com as outras\n",
    "- As features Fechamento e Var% possui alta correlação 0.66\n"
   ]
  },
  {
   "cell_type": "markdown",
   "metadata": {
    "id": "O_VKfbbptxBX"
   },
   "source": [
    "## Analise de separabilidade das classes"
   ]
  },
  {
   "cell_type": "code",
   "execution_count": null,
   "metadata": {
    "id": "Wxhaq68ctxBX"
   },
   "outputs": [],
   "source": [
    "featurefechamento = ['Fechamento']"
   ]
  },
  {
   "cell_type": "code",
   "execution_count": null,
   "metadata": {
    "id": "eTK8B6L5txBX"
   },
   "outputs": [],
   "source": [
    "conjuntofeatures = features+featuresd1+featuresd2+featuresd3"
   ]
  },
  {
   "cell_type": "code",
   "execution_count": null,
   "metadata": {
    "id": "rFAXZdfatxBX"
   },
   "outputs": [],
   "source": [
    "sns.pairplot(df_analise[featurefechamento+conjuntofeatures], hue = 'Fechamento' )"
   ]
  },
  {
   "cell_type": "code",
   "execution_count": null,
   "metadata": {
    "id": "Inl01AUrtxBX"
   },
   "outputs": [],
   "source": [
    "for i in conjuntofeatures:\n",
    "    g = sns.FacetGrid(df_analise, sharex = True, sharey = False, hue = 'Fechamento',  )\n",
    "    g.map_dataframe(sns.histplot, x = i)"
   ]
  },
  {
   "cell_type": "markdown",
   "metadata": {
    "id": "JTf0TBJmtxBX"
   },
   "source": [
    "Não há uma separabilidade evidente entre os dias com fechamento em baixa ou alta das ações da petrobras para cada feature gerada e atrelada às noticias"
   ]
  },
  {
   "cell_type": "code",
   "execution_count": null,
   "metadata": {
    "id": "Y-fKCLV3txBY"
   },
   "outputs": [],
   "source": [
    "sns.histplot(df_analise, x = \"Volume\", hue = \"Fechamento\")"
   ]
  },
  {
   "cell_type": "markdown",
   "metadata": {
    "id": "Q2aQq_0ZtxBY"
   },
   "source": [
    "## Analise de frequência de palavras"
   ]
  },
  {
   "cell_type": "code",
   "execution_count": null,
   "metadata": {
    "id": "lstbk37rtxBY"
   },
   "outputs": [],
   "source": [
    "a = df_final2['Noticias']\n",
    "list(a)\n",
    "b = a.values[0]"
   ]
  },
  {
   "cell_type": "code",
   "execution_count": null,
   "metadata": {
    "id": "eCUpx9wxtxBY"
   },
   "outputs": [],
   "source": [
    "#!pip install nltk"
   ]
  },
  {
   "cell_type": "code",
   "execution_count": null,
   "metadata": {
    "id": "O6KJMkaPtxBY"
   },
   "outputs": [],
   "source": [
    "import nltk\n",
    "from nltk.tokenize import word_tokenize\n",
    "from nltk.probability import FreqDist"
   ]
  },
  {
   "cell_type": "code",
   "execution_count": null,
   "metadata": {
    "id": "oS3SgIzFtxBY"
   },
   "outputs": [],
   "source": [
    "frase = b"
   ]
  },
  {
   "cell_type": "code",
   "execution_count": null,
   "metadata": {
    "id": "GasWCxYOtxBY"
   },
   "outputs": [],
   "source": [
    "palavras = nltk.word_tokenize(frase)"
   ]
  },
  {
   "cell_type": "code",
   "execution_count": null,
   "metadata": {
    "id": "shVgVEWqtxBY"
   },
   "outputs": [],
   "source": [
    "from nltk import FreqDist\n",
    "frequencia = FreqDist(frase)"
   ]
  },
  {
   "cell_type": "markdown",
   "metadata": {
    "id": "mmSDP734txBZ"
   },
   "source": [
    "### Criando uma lista com as noticias de todos os dias"
   ]
  },
  {
   "cell_type": "code",
   "execution_count": null,
   "metadata": {
    "id": "YR_4HMrmtxBZ"
   },
   "outputs": [],
   "source": [
    "a = df_final2['Noticias']\n",
    "a = list(a)\n",
    "len(a)"
   ]
  },
  {
   "cell_type": "code",
   "execution_count": null,
   "metadata": {
    "id": "pMv8wIzmtxBZ"
   },
   "outputs": [],
   "source": [
    "c = \"\"\n",
    "for i in a:\n",
    "    c += i"
   ]
  },
  {
   "cell_type": "code",
   "execution_count": null,
   "metadata": {
    "id": "LbNuDnj6txBZ"
   },
   "outputs": [],
   "source": [
    "frase = c\n",
    "palavras = nltk.word_tokenize(frase)"
   ]
  },
  {
   "cell_type": "code",
   "execution_count": null,
   "metadata": {
    "id": "Jy0ZPp3DtxBZ"
   },
   "outputs": [],
   "source": [
    "frequencia = FreqDist(frase)\n",
    "fdist = FreqDist(palavras)\n",
    "fdist.most_common(80)"
   ]
  },
  {
   "cell_type": "markdown",
   "metadata": {
    "id": "EVKPJo8KtxBZ"
   },
   "source": [
    "### Remoçao de stopwords"
   ]
  },
  {
   "cell_type": "code",
   "execution_count": null,
   "metadata": {
    "id": "xMsNvUidtxBZ"
   },
   "outputs": [],
   "source": [
    "stopwords = nltk.corpus.stopwords.words('portuguese')"
   ]
  },
  {
   "cell_type": "code",
   "execution_count": null,
   "metadata": {
    "id": "Ja16P9Z0txBZ"
   },
   "outputs": [],
   "source": [
    "def Removestopwords(instancia):\n",
    "    instancia = instancia.lower()\n",
    "    stopwords = set(nltk.corpus.stopwords.words('portuguese'))\n",
    "    palavras = [i for i in instancia.split() if not i in stopwords]\n",
    "    return (\" \".join(palavras))"
   ]
  },
  {
   "cell_type": "code",
   "execution_count": null,
   "metadata": {
    "id": "l5vGbDK6txBZ"
   },
   "outputs": [],
   "source": [
    "\n",
    "caracteres = [\",\",\"...\", \"(\",\" )\" ,\":\", \"$\",  \"%\",  \";\", \"'\", \"(PETR4)\", \"PETR4\", \"petr4\",\"(petr4)\" ]"
   ]
  },
  {
   "cell_type": "code",
   "execution_count": null,
   "metadata": {
    "id": "iXWyu1H-txBa"
   },
   "outputs": [],
   "source": [
    "d = Removestopwords(c)"
   ]
  },
  {
   "cell_type": "markdown",
   "metadata": {
    "id": "gHYaLzzAtxBa"
   },
   "source": [
    "### Remove Caracteres"
   ]
  },
  {
   "cell_type": "code",
   "execution_count": null,
   "metadata": {
    "id": "Syr5QibMtxBa"
   },
   "outputs": [],
   "source": [
    "carac = \"!@#$;:,%')(?\"\n",
    "for i in range(0,len(carac)):\n",
    "     d =d.replace(carac[i],\"\")"
   ]
  },
  {
   "cell_type": "code",
   "execution_count": null,
   "metadata": {
    "id": "1eQuaSp_txBa"
   },
   "outputs": [],
   "source": [
    "carac2 = \"...\"\n",
    "for i in range(0,len(carac2)):\n",
    "     d =d.replace(carac2[i],\"\")"
   ]
  },
  {
   "cell_type": "code",
   "execution_count": null,
   "metadata": {
    "id": "LQ4lWeYMtxBa"
   },
   "outputs": [],
   "source": [
    "frase = d\n",
    "palavras = nltk.word_tokenize(frase)"
   ]
  },
  {
   "cell_type": "code",
   "execution_count": null,
   "metadata": {
    "id": "ICLjGXA6txBa"
   },
   "outputs": [],
   "source": [
    "frequencia = FreqDist(frase)\n",
    "fdist = FreqDist(palavras)\n",
    "fdist.most_common(80)"
   ]
  },
  {
   "cell_type": "code",
   "execution_count": null,
   "metadata": {
    "id": "sTRLyD54txBa"
   },
   "outputs": [],
   "source": [
    "%matplotlib notebook\n",
    "import numpy as np\n",
    "import matplotlib.pyplot as plt\n",
    "\n",
    "palavras = fdist.keys()\n",
    "y_pos = np.arange(len(palavras))\n",
    "contagem = fdist.values()\n",
    "\n",
    "plt.bar(y_pos, contagem, align='center', alpha=0.5)\n",
    "plt.xticks(y_pos, palavras)\n",
    "plt.ylabel('Frequencia')\n",
    "plt.title('Frequencia das palavras na frase')\n",
    "\n",
    "plt.show()"
   ]
  },
  {
   "cell_type": "code",
   "execution_count": null,
   "metadata": {
    "id": "AynE-FfwtxBa"
   },
   "outputs": [],
   "source": []
  },
  {
   "cell_type": "markdown",
   "metadata": {
    "id": "u4_fMM9otxBa"
   },
   "source": [
    "# 8.0 Treinamento e tunagem de modelos"
   ]
  },
  {
   "cell_type": "markdown",
   "metadata": {
    "id": "UMDvNtcitxBb"
   },
   "source": [
    "## 8.1 PassiveAggressiveClassifier\n",
    "- Gridsearch (Hiperparametros, PCA)\n",
    "- CrossValidation"
   ]
  },
  {
   "cell_type": "code",
   "execution_count": null,
   "metadata": {
    "id": "0B2DXmrWtxBb"
   },
   "outputs": [],
   "source": [
    "from sklearn.model_selection import train_test_split\n",
    "from sklearn.linear_model import PassiveAggressiveClassifier\n",
    "from sklearn.model_selection import GridSearchCV\n",
    "from sklearn.metrics import make_scorer\n",
    "from sklearn.metrics import f1_score\n",
    "from sklearn.metrics import accuracy_score\n",
    "from sklearn.metrics import recall_score\n",
    "from sklearn.metrics import roc_auc_score\n",
    "from sklearn.model_selection import cross_val_score, KFold\n",
    "from sklearn.metrics import accuracy_score, classification_report, confusion_matrix"
   ]
  },
  {
   "cell_type": "code",
   "execution_count": null,
   "metadata": {
    "id": "mdrw9vAgtxBb"
   },
   "outputs": [],
   "source": [
    "acuracia_dados = make_scorer(accuracy_score)\n",
    "f1_dados = make_scorer(f1_score)"
   ]
  },
  {
   "cell_type": "code",
   "execution_count": null,
   "metadata": {
    "id": "sCfyRK6htxBb"
   },
   "outputs": [],
   "source": [
    "scoring = {\"accuracy\": acuracia_dados, \"f1\":f1_dados}"
   ]
  },
  {
   "cell_type": "code",
   "execution_count": null,
   "metadata": {
    "id": "z9PKlab1txBb"
   },
   "outputs": [],
   "source": [
    "resultados = []\n",
    "\n",
    "\n",
    "X = df_final9[features+featuresd1+featuresd2+featuresd3]\n",
    "y = df_final9['Fechamento']  \n",
    "\n",
    "#Holdout fora do loop para não variar conjunto de teste e treino\n",
    "X_train, X_test, y_train, y_test = train_test_split(X, y, test_size=0.3, random_state=1, stratify=y)\n",
    "\n",
    "\n",
    "#Validação cruzada com 10 kfolds\n",
    "kfold = KFold(n_splits = 10, shuffle = True, random_state = i)\n",
    "    \n",
    "#Repete os experimentos 20x\n",
    "for i in range(20):\n",
    "    \n",
    "    print(\"Fazendo gridsearch - Repeticao %s\" % (i))\n",
    "    \n",
    "    gs = GridSearchCV(\n",
    "        PassiveAggressiveClassifier(random_state=i),\n",
    "        param_grid={\"max_iter\": [25,50,100,200,500,700,1000,1200,1500], \"tol\": [0.01, 0.001, 0.0001], \"C\": [0.01,0.05,0.1,0.5,1.0,1.5]},\n",
    "        scoring=scoring,\n",
    "        refit=\"f1\",\n",
    "        n_jobs=2,\n",
    "        return_train_score=True,\n",
    "        cv = kfold\n",
    "            )\n",
    "        \n",
    "    #Treinando o modelo com dados de treino c/ 9 folds e utilizando 1 fold para teste\n",
    "    gs.fit(X_train, y_train)\n",
    "    \n",
    "    #Melhores resultados e hiperparâmetros encontrados\n",
    "    acuracy_treino = gs.best_score_\n",
    "    hyperparams = gs.best_params_\n",
    "    \n",
    "    ##Predizendo as classes nos dados de teste, utilizando os melhores parâmetros\n",
    "    y_test_pred = gs.predict(X_test)\n",
    "      \n",
    "    #Calculando acurácia \n",
    "    accuracy_teste = accuracy_score(y_test, y_test_pred)\n",
    "    \n",
    "    #calculando f1_score\n",
    "    f1_teste = f1_score(y_test, y_test_pred)\n",
    "    \n",
    "    #calculando área sobre a curva ROC_AUC:\n",
    "    auc_teste = roc_auc_score(y_test, y_test_pred)\n",
    "    \n",
    "    \n",
    "    #Calculando Recall clase 1\n",
    "    rec0_teste = roc_auc_score(y_test, y_test_pred, pos_label=0)\n",
    "    rec1_teste = roc_auc_score(y_test, y_test_pred, pos_label=1)\n",
    "    \n",
    "    # Adicionando todos resultados em uma única lista\n",
    "    resultados.append(np.array([i,hyperparams['max_iter'],hyperparams['tol'],hyperparams['C'],acuracy_treino,accuracy_teste,f1_teste,auc_teste]))\n",
    "    "
   ]
  },
  {
   "cell_type": "code",
   "execution_count": null,
   "metadata": {
    "id": "q1C_MymxtxBb"
   },
   "outputs": [],
   "source": [
    "pd.set_option('display.precision',4)"
   ]
  },
  {
   "cell_type": "code",
   "execution_count": null,
   "metadata": {
    "id": "1ru-PiMxtxBb"
   },
   "outputs": [],
   "source": [
    "pd.reset_option('^display.',silent=True)"
   ]
  },
  {
   "cell_type": "code",
   "execution_count": null,
   "metadata": {
    "id": "rGstIMxctxBc"
   },
   "outputs": [],
   "source": [
    "#transformando os resultados para dataframe:\n",
    "resultados = pd.DataFrame(np.array(resultados), columns=['repeticao','max_iter', 'tol','C','acuracy_treino','acuracia_teste','f1_teste','auc_teste'])\n",
    "resultados.sort_values(by = 'f1_teste', ascending = False)"
   ]
  },
  {
   "cell_type": "markdown",
   "metadata": {
    "id": "PDdhMCOhtxBc"
   },
   "source": [
    "Resultados:\n",
    "\n",
    "- modelos com max_iter = 25 perfomou melhor (testaremos para valores <=25)\n",
    "- modelos com tol = 0.001 e 0.0001 perfomaram melhor  \n",
    "- modelos com C = 0.05, 0.01 e 0.1 performaram melhor (testaremos para mais valores entre 0.05 e 0.1)\n",
    "\n",
    "Refinando a solução para os hiperparâmetros e aumentando as repetições:"
   ]
  },
  {
   "cell_type": "code",
   "execution_count": null,
   "metadata": {
    "id": "4c6olgS9txBc"
   },
   "outputs": [],
   "source": [
    "resultados = []\n",
    "\n",
    "\n",
    "X = df_final9[features+featuresd1+featuresd2+featuresd3]\n",
    "y = df_final9['Fechamento']  \n",
    "\n",
    "#Holdout fora do loop para não variar conjunto de teste e treino\n",
    "X_train, X_test, y_train, y_test = train_test_split(X, y, test_size=0.3, random_state=1, stratify=y)\n",
    "\n",
    "\n",
    "#Validação cruzada com 10 kfolds\n",
    "kfold = KFold(n_splits = 10, shuffle = True, random_state = i)\n",
    "    \n",
    "#Repete os experimentos 20x\n",
    "for i in range(20):\n",
    "    \n",
    "    print(\"Fazendo gridsearch - Repeticao %s\" % (i))\n",
    "    \n",
    "    gs = GridSearchCV(\n",
    "        PassiveAggressiveClassifier(random_state=i),\n",
    "        param_grid={\"max_iter\": [6,8,10,12,14,16,18,20], \"tol\": [0.001, 0.0001], \"C\": [0.01,0.03,0.05,0.07,0.09,0.1]},\n",
    "        scoring=scoring,\n",
    "        refit=\"f1\",\n",
    "        n_jobs=2,\n",
    "        return_train_score=True,\n",
    "        cv = kfold\n",
    "            )\n",
    "        \n",
    "    #Treinando o modelo com dados de treino c/ 9 folds e utilizando 1 fold para teste\n",
    "    gs.fit(X_train, y_train)\n",
    "    \n",
    "    #Melhores resultados e hiperparâmetros encontrados\n",
    "    acuracy_treino = gs.best_score_\n",
    "    hyperparams = gs.best_params_\n",
    "    \n",
    "    ##Predizendo as classes nos dados de teste, utilizando os melhores parâmetros\n",
    "    y_test_pred = gs.predict(X_test)\n",
    "      \n",
    "    #Calculando acurácia \n",
    "    accuracy_teste = accuracy_score(y_test, y_test_pred)\n",
    "    \n",
    "    #calculando f1_score\n",
    "    f1_teste = f1_score(y_test, y_test_pred)\n",
    "    \n",
    "    #calculando área sobre a curva ROC_AUC:\n",
    "    auc_teste = roc_auc_score(y_test, y_test_pred)\n",
    "    \n",
    "    # Adicionando todos resultados em uma única lista\n",
    "    resultados.append(np.array([i,hyperparams['max_iter'],hyperparams['tol'],hyperparams['C'],acuracy_treino,accuracy_teste,f1_teste,auc_teste]))\n",
    "    "
   ]
  },
  {
   "cell_type": "code",
   "execution_count": null,
   "metadata": {
    "id": "r7UIQn3XtxBc"
   },
   "outputs": [],
   "source": [
    "#transformando os resultados para dataframe:\n",
    "resultados = pd.DataFrame(np.array(resultados), columns=['repeticao','max_iter', 'tol','C','acuracy_treino','acuracia_teste','f1_teste','auc_teste'])\n",
    "resultados.sort_values(by = 'f1_teste', ascending = False)"
   ]
  },
  {
   "cell_type": "markdown",
   "metadata": {
    "id": "_fa19u9LtxBc"
   },
   "source": [
    "Resultados\n",
    "\n",
    "-  Modelos com max_iter = 8,10,14,20 performaram melhor\n",
    "-  Modelos com tol = 0.001 perfomaram melhor\n",
    "\n",
    "Refinando a solução para os hiperparâmetros:"
   ]
  },
  {
   "cell_type": "code",
   "execution_count": null,
   "metadata": {
    "id": "7C-hJw1XtxBc"
   },
   "outputs": [],
   "source": [
    "resultados = []\n",
    "\n",
    "\n",
    "X = df_final9[features+featuresd1+featuresd2+featuresd3]\n",
    "y = df_final9['Fechamento']  \n",
    "\n",
    "#Holdout fora do loop para não variar conjunto de teste e treino\n",
    "X_train, X_test, y_train, y_test = train_test_split(X, y, test_size=0.3, random_state=1, stratify=y)\n",
    "\n",
    "\n",
    "#Validação cruzada com 10 kfolds\n",
    "kfold = KFold(n_splits = 10, shuffle = True, random_state = i)\n",
    "    \n",
    "#Repete os experimentos 30x\n",
    "for i in range(30):\n",
    "    \n",
    "    print(\"Fazendo gridsearch - Repeticao %s\" % (i))\n",
    "    \n",
    "    gs = GridSearchCV(\n",
    "        PassiveAggressiveClassifier(random_state=i),\n",
    "        param_grid={\"max_iter\": [8,10,14,20], \"tol\": [0.001], \"C\": [0.01,0.03,0.05,0.07,0.09,0.1]},\n",
    "        scoring=scoring,\n",
    "        refit=\"f1\",\n",
    "        n_jobs=2,\n",
    "        return_train_score=True,\n",
    "        cv = kfold\n",
    "            )\n",
    "        \n",
    "    #Treinando o modelo com dados de treino c/ 9 folds e utilizando 1 fold para teste\n",
    "    gs.fit(X_train, y_train)\n",
    "    \n",
    "    #Melhores resultados e hiperparâmetros encontrados\n",
    "    acuracy_treino = gs.best_score_\n",
    "    hyperparams = gs.best_params_\n",
    "    \n",
    "    ##Predizendo as classes nos dados de teste, utilizando os melhores parâmetros\n",
    "    y_test_pred = gs.predict(X_test)\n",
    "      \n",
    "    #Calculando acurácia \n",
    "    accuracy_teste = accuracy_score(y_test, y_test_pred)\n",
    "    \n",
    "    #calculando f1_score\n",
    "    f1_teste = f1_score(y_test, y_test_pred)\n",
    "    \n",
    "    #calculando área sobre a curva ROC_AUC:\n",
    "    auc_teste = roc_auc_score(y_test, y_test_pred)\n",
    "    \n",
    "    # Adicionando todos resultados em uma única lista\n",
    "    resultados.append(np.array([i,hyperparams['max_iter'],hyperparams['tol'],hyperparams['C'],acuracy_treino,accuracy_teste,f1_teste,auc_teste]))\n",
    "    "
   ]
  },
  {
   "cell_type": "code",
   "execution_count": null,
   "metadata": {
    "id": "kvUh9C4ptxBd"
   },
   "outputs": [],
   "source": [
    "#transformando os resultados para dataframe:\n",
    "resultados = pd.DataFrame(np.array(resultados), columns=['repeticao','max_iter', 'tol','C','acuracy_treino','acuracia_teste','f1_teste','auc_teste'])\n",
    "resultados.sort_values(by = 'f1_teste', ascending = False)"
   ]
  },
  {
   "cell_type": "markdown",
   "metadata": {
    "id": "TsZOkovAtxBd"
   },
   "source": [
    "Resultados\n",
    "\n",
    "- Modelos com max_iter = 14 performaram melhor; \n",
    "- Modelos com tol = 0.001 performaram melhor;  \n",
    "- Modelos com C = 0.03 e 0.09 performaram melhor; \n",
    "\n",
    "Refinando a solução para os hiperparâmetros:\n",
    "\n"
   ]
  },
  {
   "cell_type": "code",
   "execution_count": null,
   "metadata": {
    "id": "uiebXKIHtxBd"
   },
   "outputs": [],
   "source": [
    "resultados = []\n",
    "\n",
    "\n",
    "X = df_final9[features+featuresd1+featuresd2+featuresd3]\n",
    "y = df_final9['Fechamento']  \n",
    "\n",
    "#Holdout fora do loop para não variar conjunto de teste e treino\n",
    "X_train, X_test, y_train, y_test = train_test_split(X, y, test_size=0.3, random_state=1, stratify=y)\n",
    "\n",
    "\n",
    "#Validação cruzada com 10 kfolds\n",
    "kfold = KFold(n_splits = 10, shuffle = True, random_state = i)\n",
    "    \n",
    "#Repete os experimentos 30x\n",
    "for i in range(30):\n",
    "    \n",
    "    print(\"Fazendo gridsearch - Repeticao %s\" % (i))\n",
    "    \n",
    "    gs = GridSearchCV(\n",
    "        PassiveAggressiveClassifier(random_state=i),\n",
    "        param_grid={\"max_iter\": [14], \"tol\": [0.001], \"C\": [0.03,0.09]},\n",
    "        scoring=scoring,\n",
    "        refit=\"f1\",\n",
    "        n_jobs=2,\n",
    "        return_train_score=True,\n",
    "        cv = kfold\n",
    "            )\n",
    "        \n",
    "    #Treinando o modelo com dados de treino c/ 9 folds e utilizando 1 fold para teste\n",
    "    gs.fit(X_train, y_train)\n",
    "    \n",
    "    #Melhores resultados e hiperparâmetros encontrados\n",
    "    acuracy_treino = gs.best_score_\n",
    "    hyperparams = gs.best_params_\n",
    "    \n",
    "    ##Predizendo as classes nos dados de teste, utilizando os melhores parâmetros\n",
    "    y_test_pred = gs.predict(X_test)\n",
    "      \n",
    "    #Calculando acurácia \n",
    "    accuracy_teste = accuracy_score(y_test, y_test_pred)\n",
    "    \n",
    "    #calculando f1_score\n",
    "    f1_teste = f1_score(y_test, y_test_pred)\n",
    "    \n",
    "    #calculando área sobre a curva ROC_AUC:\n",
    "    auc_teste = roc_auc_score(y_test, y_test_pred)\n",
    "    \n",
    "    # Adicionando todos resultados em uma única lista\n",
    "    resultados.append(np.array([i,hyperparams['max_iter'],hyperparams['tol'],hyperparams['C'],acuracy_treino,accuracy_teste,f1_teste,auc_teste]))\n",
    "    "
   ]
  },
  {
   "cell_type": "code",
   "execution_count": null,
   "metadata": {
    "id": "cB-mmKQxtxBd"
   },
   "outputs": [],
   "source": [
    "#transformando os resultados para dataframe:\n",
    "resultados = pd.DataFrame(np.array(resultados), columns=['repeticao','max_iter', 'tol','C','acuracy_treino','acuracia_teste','f1_teste','auc_teste'])\n",
    "resultados.sort_values(by = 'f1_teste', ascending = False)"
   ]
  },
  {
   "cell_type": "markdown",
   "metadata": {
    "id": "HiGrOWeatxBd"
   },
   "source": [
    "Hiperparâmetros\n",
    "\n",
    "max_iter = 14  \n",
    "tol = 0.001  \n",
    "C = 0.03   "
   ]
  },
  {
   "cell_type": "markdown",
   "metadata": {
    "id": "TAmsdvUwtxBd"
   },
   "source": [
    "### 8.1.1 Avaliação do PassiveAgressiveClassifier"
   ]
  },
  {
   "cell_type": "code",
   "execution_count": null,
   "metadata": {
    "id": "Z3yvEHwJtxBd"
   },
   "outputs": [],
   "source": [
    "X = df_final9[features+featuresd1+featuresd2+featuresd3]\n",
    "y = df_final9['Fechamento'] \n",
    "\n",
    "X_train, X_test, y_train, y_test = train_test_split(X, y, test_size=0.3, random_state=1, stratify=y)\n",
    "\n",
    "passagress = PassiveAggressiveClassifier(random_state=1, max_iter = 14, tol = 0.001, C = 0.03)\n",
    "passagress.fit(X_train,y_train)"
   ]
  },
  {
   "cell_type": "code",
   "execution_count": null,
   "metadata": {
    "id": "C1fOI6qktxBe"
   },
   "outputs": [],
   "source": [
    "#Predizendo y\n",
    "y_pred = passagress.predict(X_test)\n",
    "\n",
    "#Relatórios e matriz de confusao\n",
    "print(\"Classification Report Dados:\\n\",classification_report(y_test,y_pred))\n",
    "print(\"\")\n",
    "print(\"Confusion Matrix Dados de Producao:\\n\",confusion_matrix(y_test,y_pred))\n",
    "print(\"\")"
   ]
  },
  {
   "cell_type": "code",
   "execution_count": null,
   "metadata": {
    "id": "F4cSyF3xtxBe"
   },
   "outputs": [],
   "source": [
    "#Calculando o recall\n",
    "recall_0 = recall_score(y_test, y_pred, pos_label=0)\n",
    "recall_1 = recall_score(y_test, y_pred, pos_label=1)\n",
    "\n",
    "\n",
    "#Calculando acurácia \n",
    "accuracy = accuracy_score(y_test, y_pred)\n",
    "\n",
    "#calculando f1_score\n",
    "f1 = f1_score(y_test, y_pred)\n",
    "\n",
    "#Calculando AUC\n",
    "auc = roc_auc_score(y_test, y_pred)\n",
    "\n",
    "print(\"Recall_0: %s\" % (recall_0))\n",
    "print(\"Recall_1: %s\" % (recall_1))\n",
    "print(\"Acuracia: %s\" % (accuracy))\n",
    "print(\"F1_Score: %s\" % (f1))\n",
    "print(\"AUC: %s\" % (auc))"
   ]
  },
  {
   "cell_type": "markdown",
   "metadata": {
    "id": "zVSZRec4txBe"
   },
   "source": [
    "O Modelo aprendeu a classificar bem quando há aumento nos valores das ações mas erra bastante quando há queda nos valores embora os dados estejam balanceados."
   ]
  },
  {
   "cell_type": "markdown",
   "metadata": {
    "id": "mR1zw3eJtxBe"
   },
   "source": [
    "### 8.1.2 Hyperparâmetros PassiveAggressiveClassifier + balanceamento"
   ]
  },
  {
   "cell_type": "code",
   "execution_count": null,
   "metadata": {
    "id": "2HcDCkKatxBe"
   },
   "outputs": [],
   "source": [
    "resultados = []\n",
    "\n",
    "\n",
    "X_todos = df_final9[features+featuresd1+featuresd2+featuresd3]\n",
    "y_todos = df_final9['Fechamento']  \n",
    "\n",
    "\n",
    "## Balanceamento dos dados:\n",
    "nr = NearMiss()\n",
    "X, y = nr.fit_resample(X_todos, y_todos)\n",
    "    \n",
    " #Holdout:\n",
    "X_train, X_test, y_train, y_test = train_test_split(X, y, test_size=0.3, random_state=1, stratify=y)\n",
    "    \n",
    "    \n",
    "#Repete os experimentos 10x\n",
    "for i in range(30):\n",
    "        \n",
    "    #Validação cruzada com 10 kfolds\n",
    "    kfold = KFold(n_splits = 10, shuffle = True, random_state = i)\n",
    "    \n",
    "    print(\"Fazendo gridsearch - Repeticao %s\" % (i+1))\n",
    "    \n",
    "    gs = GridSearchCV(\n",
    "        PassiveAggressiveClassifier(random_state=i),\n",
    "        param_grid={\"max_iter\": [25,50,100,200,500,700,1000,1200,1500], \"tol\": [0.01, 0.001, 0.0001], \"C\": [0.01,0.05,0.1,0.5,1.0,1.5]},\n",
    "        scoring=scoring,\n",
    "        refit=\"f1\",\n",
    "        n_jobs=2,\n",
    "        return_train_score=True,\n",
    "        cv = kfold\n",
    "            )\n",
    "        \n",
    "    #Treinando o modelo com dados de treino c/ 9 folds e utilizando 1 fold para teste\n",
    "    gs.fit(X_train, y_train)\n",
    "    \n",
    "    #Melhores resultados e hiperparâmetros encontrados\n",
    "    acuracy_treino = gs.best_score_\n",
    "    hyperparams = gs.best_params_\n",
    "    \n",
    "    ##Predizendo as classes nos dados de teste e todos dados, utilizando os melhores parâmetros\n",
    "    y_test_pred = gs.predict(X_test)\n",
    "    y_test_pred_todos = gs.predict(X_todos)\n",
    "        \n",
    "    #Calculando acurácia \n",
    "    accuracy_teste = accuracy_score(y_test, y_test_pred)\n",
    "    accuracy_todos = accuracy_score(y_todos, y_test_pred_todos)\n",
    "        \n",
    "    #calculando f1_score\n",
    "    f1_teste = f1_score(y_test, y_test_pred)\n",
    "    f1_todos = f1_score(y_todos, y_test_pred_todos)\n",
    "    \n",
    "    #calculando área sobre a curva ROC_AUC:\n",
    "    auc_teste = roc_auc_score(y_test, y_test_pred)\n",
    "    auc_todos = roc_auc_score(y_todos, y_test_pred_todos)\n",
    "        \n",
    "    #Calculando Recall clase 1\n",
    "    rec0_teste = recall_score(y_test, y_test_pred, pos_label=0)\n",
    "    rec1_teste = recall_score(y_test, y_test_pred, pos_label=1)\n",
    "    \n",
    "    rec0_todos = recall_score(y_todos, y_test_pred_todos, pos_label=0)\n",
    "    rec1_todos = recall_score(y_todos, y_test_pred_todos, pos_label=1)\n",
    "    \n",
    "    \n",
    "    \n",
    "    # Adicionando todos resultados em uma única lista\n",
    "    resultados.append(np.array([i,hyperparams['max_iter'],hyperparams['tol'],hyperparams['C'],acuracy_treino,accuracy_teste,accuracy_todos,rec0_teste,rec0_todos,rec1_teste,rec1_todos,f1_teste,f1_todos,auc_teste,auc_todos]))\n",
    "    "
   ]
  },
  {
   "cell_type": "code",
   "execution_count": null,
   "metadata": {
    "id": "H0vz24WHtxBf"
   },
   "outputs": [],
   "source": [
    "#transformando os resultados para dataframe e ordenando por recall da classe 0:\n",
    "resultados = pd.DataFrame(np.array(resultados), columns=['repeticao','max_iter', 'tol','C','acuracy_treino','acuracia_teste','acuracia_df','rec_0_teste','rec_0_df','rec_1_teste','rec_1_df','f1_teste','f1_df','auc_teste','auc_df'])\n",
    "resultados.sort_values(by = 'f1_teste', ascending = False)"
   ]
  },
  {
   "cell_type": "markdown",
   "metadata": {
    "id": "jIU_v27rtxBf"
   },
   "source": [
    "Mesmo após balancear os exemplos em 50/50%  os valores de recall não ficaram equilibrados para o maior valor de f1-score.\n",
    "\n",
    "Recall 0: 32.2%; \n",
    "Recall 1: 81.25% \n",
    "\n",
    "materemos o modelo final:"
   ]
  },
  {
   "cell_type": "code",
   "execution_count": null,
   "metadata": {
    "id": "QNhSOKR9txBf"
   },
   "outputs": [],
   "source": [
    "passagress"
   ]
  },
  {
   "cell_type": "code",
   "execution_count": null,
   "metadata": {
    "id": "mOA1QApXtxBf"
   },
   "outputs": [],
   "source": [
    "print(\"Recall_0: %s\" % (recall_0))\n",
    "print(\"Recall_1: %s\" % (recall_1))\n",
    "print(\"Acuracia: %s\" % (accuracy))\n",
    "print(\"F1_Score: %s\" % (f1))\n",
    "print(\"AUC: %s\" % (auc))"
   ]
  },
  {
   "cell_type": "markdown",
   "metadata": {
    "id": "F4t54GmWtxBf"
   },
   "source": [
    "## 8.2 GaussianNB"
   ]
  },
  {
   "cell_type": "code",
   "execution_count": null,
   "metadata": {
    "id": "FQq8M0lutxBf"
   },
   "outputs": [],
   "source": [
    "from sklearn.metrics import balanced_accuracy_score"
   ]
  },
  {
   "cell_type": "code",
   "execution_count": null,
   "metadata": {
    "id": "X7jxGkyStxBf"
   },
   "outputs": [],
   "source": [
    "from sklearn.naive_bayes import GaussianNB"
   ]
  },
  {
   "cell_type": "code",
   "execution_count": null,
   "metadata": {
    "id": "wM_jydOqtxBg"
   },
   "outputs": [],
   "source": [
    "acuracia_dados = make_scorer(accuracy_score)\n",
    "f1_dados = make_scorer(f1_score)\n",
    "balanced_acc_dados = make_scorer(balanced_accuracy_score)\n",
    "\n",
    "scoring = {\"accuracy\": acuracia_dados, \"f1\":f1_dados, \"bacuracy\":balanced_acc_dados}"
   ]
  },
  {
   "cell_type": "code",
   "execution_count": null,
   "metadata": {
    "id": "3QE9WCaQtxBg"
   },
   "outputs": [],
   "source": [
    "resultados = []\n",
    "\n",
    "#Definição dos dados\n",
    "X_todos = df_final9[features+featuresd1+featuresd2+featuresd3]\n",
    "y_todos = df_final9['Fechamento']  \n",
    "\n",
    "    \n",
    "#Repete os experimentos 30x\n",
    "for i in range(30):\n",
    "    \n",
    "    #Holdout:\n",
    "    X_train, X_test, y_train, y_test = train_test_split(X, y, test_size=0.3, random_state=i, stratify=y)\n",
    "        \n",
    "    #Validação cruzada com 10 kfolds\n",
    "    kfold = KFold(n_splits = 10, shuffle = True, random_state = i)\n",
    "    \n",
    "    print(\"Fazendo gridsearch - Repeticao %s\" % (i+1))\n",
    "    \n",
    "    gs = GridSearchCV(\n",
    "        GaussianNB(),\n",
    "        param_grid={\"var_smoothing\": [0.0000000000000001,0.000000000000001,0.00000000000001,0.0000000000001,0.000000000001,0.00000000001,0.0000000001,0.000000001,0.00000001,0.0000001,0.000001,0.00001]}, #var_smoothing=1e-09 é o padrão\n",
    "        scoring=scoring,\n",
    "        refit=\"bacuracy\",\n",
    "        n_jobs=2,\n",
    "        return_train_score=True,\n",
    "        cv = kfold\n",
    "            )\n",
    "        \n",
    "    #Treinando o modelo com dados de treino c/ 9 folds e utilizando 1 fold para teste\n",
    "    gs.fit(X_train, y_train)\n",
    "    \n",
    "    #Melhores resultados e hiperparâmetros encontrados\n",
    "    acuracy_treino = gs.best_score_\n",
    "    hyperparams = gs.best_params_\n",
    "    \n",
    "    ##Predizendo as classes nos dados de teste e todos dados, utilizando os melhores parâmetros\n",
    "    y_test_pred = gs.predict(X_test)\n",
    "    #y_test_pred_todos = gs.predict(X_todos)\n",
    "        \n",
    "    #Calculando acurácia \n",
    "    accuracy_teste = accuracy_score(y_test, y_test_pred)\n",
    "    #accuracy_todos = accuracy_score(y_todos, y_test_pred_todos)\n",
    "        \n",
    "    #calculando f1_score da classe 1\n",
    "    f1_teste = f1_score(y_test, y_test_pred)\n",
    "    #f1_todos = f1_score(y_todos, y_test_pred_todos)\n",
    "    \n",
    "    #calculando área sobre a curva ROC_AUC:\n",
    "    auc_teste = roc_auc_score(y_test, y_test_pred)\n",
    "    #auc_todos = roc_auc_score(y_todos, y_test_pred_todos)\n",
    "        \n",
    "    #Calculando Recall clase 1\n",
    "    rec0_teste = recall_score(y_test, y_test_pred, pos_label=0)\n",
    "    rec1_teste = recall_score(y_test, y_test_pred, pos_label=1)\n",
    "    \n",
    "    #rec0_todos = recall_score(y_todos, y_test_pred_todos, pos_label=0)\n",
    "    #rec1_todos = recall_score(y_todos, y_test_pred_todos, pos_label=1)\n",
    "    \n",
    "    #Calculando a acurácia balanceada\n",
    "    accuracy_teste_balanced = balanced_accuracy_score(y_test, y_test_pred)\n",
    "    \n",
    "    # Adicionando todos resultados em uma única lista\n",
    "    resultados.append(np.array([i,hyperparams['var_smoothing'],acuracy_treino,accuracy_teste,accuracy_teste_balanced,rec0_teste,rec1_teste,f1_teste,auc_teste]))"
   ]
  },
  {
   "cell_type": "code",
   "execution_count": null,
   "metadata": {
    "id": "TKrA7WKXtxBg"
   },
   "outputs": [],
   "source": [
    "pd.set_option('display.precision',10)\n",
    "pd.reset_option('^display.',silent=True)"
   ]
  },
  {
   "cell_type": "code",
   "execution_count": null,
   "metadata": {
    "id": "oTt13km2txBg"
   },
   "outputs": [],
   "source": [
    "#transformando os resultados para dataframe e ordenando por recall da classe 0:\n",
    "resultados = pd.DataFrame(np.array(resultados), columns=['repeticao','var_smoothing','acuracy_treino','acuracia_teste','acuracia_balanceada_teste','rec_0_teste','rec_1_teste','f1_teste','auc_teste'])\n",
    "resultados.sort_values(by = 'acuracia_balanceada_teste', ascending = False)"
   ]
  },
  {
   "cell_type": "markdown",
   "metadata": {
    "id": "V4FkHWHVtxBg"
   },
   "source": [
    "Houve sempre a ocorrencia do mesmo hiperparâmetro e uma variância enorme nos resultados. Talvez esse não seja o melhor modelo!\n",
    "\n",
    "Hiperparâmetros\n",
    "\n",
    "- var_smoothing = 0.0000000000000001"
   ]
  },
  {
   "cell_type": "markdown",
   "metadata": {
    "id": "I-i7Chs1txBg"
   },
   "source": [
    "### 8.2.1 GaussianNB Final"
   ]
  },
  {
   "cell_type": "code",
   "execution_count": null,
   "metadata": {
    "id": "21nZlGzNtxBg"
   },
   "outputs": [],
   "source": [
    "X = df_final9[features+featuresd1+featuresd2+featuresd3]\n",
    "y = df_final9['Fechamento'] \n",
    "\n",
    "X_train, X_test, y_train, y_test = train_test_split(X, y, test_size=0.3, random_state=22, stratify=y)\n",
    "\n",
    "gaussianb = GaussianNB(var_smoothing=0.0000000000000001)\n",
    "gaussianb.fit(X_train,y_train)"
   ]
  },
  {
   "cell_type": "code",
   "execution_count": null,
   "metadata": {
    "id": "XHf---kstxBh"
   },
   "outputs": [],
   "source": [
    "#Predizendo y\n",
    "y_pred = gaussianb.predict(X_test)\n",
    "\n",
    "#Relatórios e matriz de confusao\n",
    "print(\"Classification Report Dados:\\n\",classification_report(y_test,y_pred))\n",
    "print(\"\")\n",
    "print(\"Confusion Matrix Dados de Producao:\\n\",confusion_matrix(y_test,y_pred))\n",
    "print(\"\")"
   ]
  },
  {
   "cell_type": "markdown",
   "metadata": {
    "id": "DiAjOrwntxBh"
   },
   "source": [
    "O modelo acerta muito as classes 0 e erra as classes 1. É o comportamento inverso ao modelo PassiveAgressive"
   ]
  },
  {
   "cell_type": "code",
   "execution_count": null,
   "metadata": {
    "id": "pB3D1UQJtxBh"
   },
   "outputs": [],
   "source": [
    "#Calculando o recall\n",
    "recall_0 = recall_score(y_test, y_pred, pos_label=0)\n",
    "recall_1 = recall_score(y_test, y_pred, pos_label=1)\n",
    "\n",
    "\n",
    "#Calculando acurácia \n",
    "accuracy = accuracy_score(y_test, y_pred)\n",
    "\n",
    "#Calculando acurácia balanceada\n",
    "accuracy_balanced = balanced_accuracy_score(y_test, y_pred)\n",
    "\n",
    "#calculando f1_score\n",
    "f1_0 = f1_score(y_test, y_pred,pos_label=0)\n",
    "f1_1 = f1_score(y_test, y_pred,pos_label=1)\n",
    "\n",
    "#Calculando AUC\n",
    "auc = roc_auc_score(y_test, y_pred)\n",
    "\n",
    "print(\"Recall_0: %s\" % (recall_0))\n",
    "print(\"Recall_1: %s\" % (recall_1))\n",
    "print(\"Acuracia: %s\" % (accuracy))\n",
    "print(\"Acuracia Balanceada: %s\" % (accuracy_balanced))\n",
    "print(\"F1_Score_0: %s\" % (f1_0))\n",
    "print(\"F1_Score_1: %s\" % (f1_1))\n",
    "print(\"AUC: %s\" % (auc))"
   ]
  },
  {
   "cell_type": "markdown",
   "metadata": {
    "id": "DVLZJzx-txBh"
   },
   "source": [
    "## 8.3 BernoulliNB"
   ]
  },
  {
   "cell_type": "code",
   "execution_count": null,
   "metadata": {
    "id": "m1RCfuabtxBh"
   },
   "outputs": [],
   "source": [
    "from sklearn.naive_bayes import BernoulliNB"
   ]
  },
  {
   "cell_type": "code",
   "execution_count": null,
   "metadata": {
    "id": "ggQj4itKtxBh"
   },
   "outputs": [],
   "source": [
    "acuracia_dados = make_scorer(accuracy_score)\n",
    "f1_dados = make_scorer(f1_score)\n",
    "balanced_acc_dados = make_scorer(balanced_accuracy_score)\n",
    "\n",
    "scoring = {\"accuracy\": acuracia_dados, \"f1\":f1_dados}"
   ]
  },
  {
   "cell_type": "code",
   "execution_count": null,
   "metadata": {
    "id": "9lZyqOGmtxBh"
   },
   "outputs": [],
   "source": [
    "resultados = []\n",
    "\n",
    "#Definição dos dados\n",
    "X_todos = df_final9[features+featuresd1+featuresd2+featuresd3]\n",
    "y_todos = df_final9['Fechamento']  \n",
    "\n",
    "    \n",
    "#Repete os experimentos 30x\n",
    "for i in range(30):\n",
    "    \n",
    "    #Holdout:\n",
    "    X_train, X_test, y_train, y_test = train_test_split(X, y, test_size=0.3, random_state=i, stratify=y)\n",
    "        \n",
    "    #Validação cruzada com 10 kfolds\n",
    "    kfold = KFold(n_splits = 10, shuffle = True, random_state = i)\n",
    "    \n",
    "    print(\"Fazendo gridsearch - Repeticao %s\" % (i+1))\n",
    "    \n",
    "    gs = GridSearchCV(\n",
    "        BernoulliNB(),\n",
    "        param_grid={\"alpha\": [0,1,10,20,30,40,50], \"binarize\": np.linspace(0,1,11)}, \n",
    "        scoring=scoring,\n",
    "        refit=\"bacuracy\",\n",
    "        n_jobs=2,\n",
    "        return_train_score=True,\n",
    "        cv = kfold\n",
    "            )\n",
    "        \n",
    "    #Treinando o modelo com dados de treino c/ 9 folds e utilizando 1 fold para teste\n",
    "    gs.fit(X_train, y_train)\n",
    "    \n",
    "    #Melhores resultados e hiperparâmetros encontrados\n",
    "    acuracy_treino = gs.best_score_\n",
    "    hyperparams = gs.best_params_\n",
    "    \n",
    "    ##Predizendo as classes nos dados de teste e todos dados, utilizando os melhores parâmetros\n",
    "    y_test_pred = gs.predict(X_test)\n",
    "    #y_test_pred_todos = gs.predict(X_todos)\n",
    "        \n",
    "    #Calculando acurácia \n",
    "    accuracy_teste = accuracy_score(y_test, y_test_pred)\n",
    "    #accuracy_todos = accuracy_score(y_todos, y_test_pred_todos)\n",
    "        \n",
    "    #calculando f1_score da classe 1\n",
    "    f1_teste = f1_score(y_test, y_test_pred)\n",
    "    #f1_todos = f1_score(y_todos, y_test_pred_todos)\n",
    "    \n",
    "    #calculando área sobre a curva ROC_AUC:\n",
    "    auc_teste = roc_auc_score(y_test, y_test_pred)\n",
    "    #auc_todos = roc_auc_score(y_todos, y_test_pred_todos)\n",
    "        \n",
    "    #Calculando Recall clase 1\n",
    "    rec0_teste = recall_score(y_test, y_test_pred, pos_label=0)\n",
    "    rec1_teste = recall_score(y_test, y_test_pred, pos_label=1)\n",
    "    \n",
    "    #rec0_todos = recall_score(y_todos, y_test_pred_todos, pos_label=0)\n",
    "    #rec1_todos = recall_score(y_todos, y_test_pred_todos, pos_label=1)\n",
    "    \n",
    "    #Calculando a acurácia balanceada\n",
    "    accuracy_teste_balanced = balanced_accuracy_score(y_test, y_test_pred)\n",
    "    \n",
    "    # Adicionando todos resultados em uma única lista\n",
    "    resultados.append(np.array([i,hyperparams['alpha'],hyperparams['binarize'],acuracy_treino,accuracy_teste,accuracy_teste_balanced,rec0_teste,rec1_teste,f1_teste,auc_teste]))"
   ]
  },
  {
   "cell_type": "code",
   "execution_count": null,
   "metadata": {
    "id": "mTYWxZnctxBi"
   },
   "outputs": [],
   "source": [
    "#transformando os resultados para dataframe e ordenando por recall da classe 0:\n",
    "resultados = pd.DataFrame(np.array(resultados), columns=['repeticao','alpha','binarize','acuracy_treino','acuracia_teste','acuracia_balanceada_teste','rec_0_teste','rec_1_teste','f1_teste','auc_teste'])\n",
    "resultados.sort_values(by = 'auc_teste', ascending = False)"
   ]
  },
  {
   "cell_type": "markdown",
   "metadata": {
    "id": "eq6DoYh3txBi"
   },
   "source": [
    "Hiperparâmetros:\n",
    "\n",
    "Alpha = 0 \n",
    "Binarize = 0.1"
   ]
  },
  {
   "cell_type": "markdown",
   "metadata": {
    "id": "jSZ3ULpJtxBi"
   },
   "source": [
    "### 8.3.1 BernoulliNB - Modelo Final"
   ]
  },
  {
   "cell_type": "code",
   "execution_count": null,
   "metadata": {
    "id": "gRyw6Nd0txBi"
   },
   "outputs": [],
   "source": [
    "X = df_final9[features+featuresd1+featuresd2+featuresd3]\n",
    "y = df_final9['Fechamento'] \n",
    "\n",
    "X_train, X_test, y_train, y_test = train_test_split(X, y, test_size=0.3, random_state=10, stratify=y)\n",
    "\n",
    "bernoullinb = BernoulliNB(alpha=0,binarize=0.1)\n",
    "bernoullinb.fit(X_train,y_train)"
   ]
  },
  {
   "cell_type": "code",
   "execution_count": null,
   "metadata": {
    "id": "7bQUEOL_txBi"
   },
   "outputs": [],
   "source": [
    "#Predizendo y\n",
    "y_pred = bernoullinb.predict(X_test)\n",
    "\n",
    "#Relatórios e matriz de confusao\n",
    "print(\"Classification Report Dados:\\n\",classification_report(y_test,y_pred))\n",
    "print(\"\")\n",
    "print(\"Confusion Matrix Dados de Producao:\\n\",confusion_matrix(y_test,y_pred))\n",
    "print(\"\")\n"
   ]
  },
  {
   "cell_type": "code",
   "execution_count": null,
   "metadata": {
    "id": "BrjC8DiTtxBi"
   },
   "outputs": [],
   "source": [
    "#Calculando o recall\n",
    "recall_0 = recall_score(y_test, y_pred, pos_label=0)\n",
    "recall_1 = recall_score(y_test, y_pred, pos_label=1)\n",
    "\n",
    "\n",
    "#Calculando acurácia \n",
    "accuracy = accuracy_score(y_test, y_pred)\n",
    "\n",
    "#Calculando acurácia balanceada\n",
    "accuracy_balanced = balanced_accuracy_score(y_test, y_pred)\n",
    "\n",
    "#calculando f1_score\n",
    "f1_0 = f1_score(y_test, y_pred,pos_label=0)\n",
    "f1_1 = f1_score(y_test, y_pred,pos_label=1)\n",
    "\n",
    "#Calculando AUC\n",
    "auc = roc_auc_score(y_test, y_pred)\n",
    "\n",
    "print(\"Recall_0: %s\" % (recall_0))\n",
    "print(\"Recall_1: %s\" % (recall_1))\n",
    "print(\"Acuracia: %s\" % (accuracy))\n",
    "print(\"Acuracia Balanceada: %s\" % (accuracy_balanced))\n",
    "print(\"F1_Score_0: %s\" % (f1_0))\n",
    "print(\"F1_Score_1: %s\" % (f1_1))\n",
    "print(\"AUC: %s\" % (auc))"
   ]
  },
  {
   "cell_type": "markdown",
   "metadata": {
    "id": "LEV4KTHQtxBj"
   },
   "source": [
    "Obs: Quando inputamos valores de Binazire tendendo á 1 o algorítmo tende a errar todas as classes 0 e acertar todas as classes 1. Como um dado viciado ou uma moeda de uma cara só."
   ]
  },
  {
   "cell_type": "markdown",
   "metadata": {
    "id": "c329l7BptxBj"
   },
   "source": [
    "## 8.4 QuadraticDiscriminantAnalysis"
   ]
  },
  {
   "cell_type": "code",
   "execution_count": null,
   "metadata": {
    "id": "fILOhBuqtxBj"
   },
   "outputs": [],
   "source": [
    "from sklearn.discriminant_analysis import QuadraticDiscriminantAnalysis"
   ]
  },
  {
   "cell_type": "code",
   "execution_count": null,
   "metadata": {
    "id": "66CleZx_txBj"
   },
   "outputs": [],
   "source": [
    "acuracia_dados = make_scorer(accuracy_score)\n",
    "f1_dados = make_scorer(f1_score)\n",
    "balanced_acc_dados = make_scorer(balanced_accuracy_score)\n",
    "\n",
    "scoring = {\"accuracy\": acuracia_dados, \"f1\":f1_dados, \"bacuracy\":balanced_acc_dados}"
   ]
  },
  {
   "cell_type": "code",
   "execution_count": null,
   "metadata": {
    "id": "i2N9ANbutxBj"
   },
   "outputs": [],
   "source": [
    "resultados = []\n",
    "\n",
    "#Definição dos dados\n",
    "X_todos = df_final9[features+featuresd1+featuresd2+featuresd3]\n",
    "y_todos = df_final9['Fechamento']  \n",
    "\n",
    "    \n",
    "#Repete os experimentos 30x\n",
    "for i in range(30):\n",
    "    \n",
    "    #Holdout:\n",
    "    X_train, X_test, y_train, y_test = train_test_split(X, y, test_size=0.3, random_state=i, stratify=y)\n",
    "        \n",
    "    #Validação cruzada com 10 kfolds\n",
    "    kfold = KFold(n_splits = 10, shuffle = True, random_state = i)\n",
    "    \n",
    "    print(\"Fazendo gridsearch - Repeticao %s\" % (i+1))\n",
    "    \n",
    "    gs = GridSearchCV(\n",
    "        QuadraticDiscriminantAnalysis(),\n",
    "        param_grid={\"reg_param\": np.linspace(0.1,1,10), \"store_covariance\":[True,False], \"tol\":[1000,100,10,1,0.1,0.01,0.001,0.0001]}, \n",
    "        scoring=scoring,\n",
    "        refit=\"bacuracy\",\n",
    "        n_jobs=2,\n",
    "        return_train_score=True,\n",
    "        cv = kfold\n",
    "            )\n",
    "        \n",
    "    #Treinando o modelo com dados de treino c/ 9 folds e utilizando 1 fold para teste\n",
    "    gs.fit(X_train, y_train)\n",
    "    \n",
    "    #Melhores resultados e hiperparâmetros encontrados\n",
    "    acuracy_treino = gs.best_score_\n",
    "    hyperparams = gs.best_params_\n",
    "    \n",
    "    ##Predizendo as classes nos dados de teste e todos dados, utilizando os melhores parâmetros\n",
    "    y_test_pred = gs.predict(X_test)\n",
    "    #y_test_pred_todos = gs.predict(X_todos)\n",
    "        \n",
    "    #Calculando acurácia \n",
    "    accuracy_teste = accuracy_score(y_test, y_test_pred)\n",
    "    #accuracy_todos = accuracy_score(y_todos, y_test_pred_todos)\n",
    "        \n",
    "    #calculando f1_score da classe 1\n",
    "    f1_teste = f1_score(y_test, y_test_pred)\n",
    "    #f1_todos = f1_score(y_todos, y_test_pred_todos)\n",
    "    \n",
    "    #calculando área sobre a curva ROC_AUC:\n",
    "    auc_teste = roc_auc_score(y_test, y_test_pred)\n",
    "    #auc_todos = roc_auc_score(y_todos, y_test_pred_todos)\n",
    "        \n",
    "    #Calculando Recall clase 1\n",
    "    rec0_teste = recall_score(y_test, y_test_pred, pos_label=0)\n",
    "    rec1_teste = recall_score(y_test, y_test_pred, pos_label=1)\n",
    "    \n",
    "    #rec0_todos = recall_score(y_todos, y_test_pred_todos, pos_label=0)\n",
    "    #rec1_todos = recall_score(y_todos, y_test_pred_todos, pos_label=1)\n",
    "    \n",
    "    #Calculando a acurácia balanceada\n",
    "    accuracy_teste_balanced = balanced_accuracy_score(y_test, y_test_pred)\n",
    "    \n",
    "    # Adicionando todos resultados em uma única lista\n",
    "    resultados.append(np.array([i,hyperparams['reg_param'],hyperparams['store_covariance'],hyperparams['tol'],acuracy_treino,accuracy_teste,accuracy_teste_balanced,rec0_teste,rec1_teste,f1_teste,auc_teste]))"
   ]
  },
  {
   "cell_type": "code",
   "execution_count": null,
   "metadata": {
    "id": "mgbHvIxbtxBk"
   },
   "outputs": [],
   "source": [
    "pd.set_option('display.precision',4)"
   ]
  },
  {
   "cell_type": "code",
   "execution_count": null,
   "metadata": {
    "id": "rzH8EivRtxBk"
   },
   "outputs": [],
   "source": [
    "pd.reset_option('^display.',silent=True)"
   ]
  },
  {
   "cell_type": "code",
   "execution_count": null,
   "metadata": {
    "id": "l49LUmN_txBk"
   },
   "outputs": [],
   "source": [
    "#transformando os resultados para dataframe e ordenando por recall da classe 0:\n",
    "resultados = pd.DataFrame(np.array(resultados), columns=['repeticao','reg_param','store_covariance','tol','acuracy_treino','acuracia_teste','acuracia_balanceada_teste','rec_0_teste','rec_1_teste','f1_teste','auc_teste'])\n",
    "resultados.sort_values(by = 'auc_teste', ascending = False)"
   ]
  },
  {
   "cell_type": "markdown",
   "metadata": {
    "id": "JjRKm97stxBk"
   },
   "source": [
    "Hiperparâmetros\n",
    "\n",
    "- reg_param: entre 0.1 e 0.8 \n",
    "- store_covarianve: true  \n",
    "- tol: >=1000"
   ]
  },
  {
   "cell_type": "code",
   "execution_count": null,
   "metadata": {
    "id": "0P2pTFVqtxBk"
   },
   "outputs": [],
   "source": [
    "resultados = []\n",
    "\n",
    "#Definição dos dados\n",
    "X_todos = df_final9[features+featuresd1+featuresd2+featuresd3]\n",
    "y_todos = df_final9['Fechamento']  \n",
    "\n",
    "    \n",
    "#Repete os experimentos 30x\n",
    "for i in range(30):\n",
    "    \n",
    "    #Holdout:\n",
    "    X_train, X_test, y_train, y_test = train_test_split(X, y, test_size=0.3, random_state=i, stratify=y)\n",
    "        \n",
    "    #Validação cruzada com 10 kfolds\n",
    "    kfold = KFold(n_splits = 10, shuffle = True, random_state = i)\n",
    "    \n",
    "    print(\"Fazendo gridsearch - Repeticao %s\" % (i+1))\n",
    "    \n",
    "    gs = GridSearchCV(\n",
    "        QuadraticDiscriminantAnalysis(),\n",
    "        param_grid={\"reg_param\": [0.1,0.8], \"store_covariance\":[True,False], \"tol\":[10000,1000,100]}, \n",
    "        scoring=scoring,\n",
    "        refit=\"bacuracy\",\n",
    "        n_jobs=2,\n",
    "        return_train_score=True,\n",
    "        cv = kfold\n",
    "            )\n",
    "        \n",
    "    #Treinando o modelo com dados de treino c/ 9 folds e utilizando 1 fold para teste\n",
    "    gs.fit(X_train, y_train)\n",
    "    \n",
    "    #Melhores resultados e hiperparâmetros encontrados\n",
    "    acuracy_treino = gs.best_score_\n",
    "    hyperparams = gs.best_params_\n",
    "    \n",
    "    ##Predizendo as classes nos dados de teste e todos dados, utilizando os melhores parâmetros\n",
    "    y_test_pred = gs.predict(X_test)\n",
    "    #y_test_pred_todos = gs.predict(X_todos)\n",
    "        \n",
    "    #Calculando acurácia \n",
    "    accuracy_teste = accuracy_score(y_test, y_test_pred)\n",
    "    #accuracy_todos = accuracy_score(y_todos, y_test_pred_todos)\n",
    "        \n",
    "    #calculando f1_score da classe 1\n",
    "    f1_teste = f1_score(y_test, y_test_pred)\n",
    "    #f1_todos = f1_score(y_todos, y_test_pred_todos)\n",
    "    \n",
    "    #calculando área sobre a curva ROC_AUC:\n",
    "    auc_teste = roc_auc_score(y_test, y_test_pred)\n",
    "    #auc_todos = roc_auc_score(y_todos, y_test_pred_todos)\n",
    "        \n",
    "    #Calculando Recall clase 1\n",
    "    rec0_teste = recall_score(y_test, y_test_pred, pos_label=0)\n",
    "    rec1_teste = recall_score(y_test, y_test_pred, pos_label=1)\n",
    "    \n",
    "    #rec0_todos = recall_score(y_todos, y_test_pred_todos, pos_label=0)\n",
    "    #rec1_todos = recall_score(y_todos, y_test_pred_todos, pos_label=1)\n",
    "    \n",
    "    #Calculando a acurácia balanceada\n",
    "    accuracy_teste_balanced = balanced_accuracy_score(y_test, y_test_pred)\n",
    "    \n",
    "    # Adicionando todos resultados em uma única lista\n",
    "    resultados.append(np.array([i,hyperparams['reg_param'],hyperparams['store_covariance'],hyperparams['tol'],acuracy_treino,accuracy_teste,accuracy_teste_balanced,rec0_teste,rec1_teste,f1_teste,auc_teste]))"
   ]
  },
  {
   "cell_type": "code",
   "execution_count": null,
   "metadata": {
    "id": "aK0SLZoqtxBk"
   },
   "outputs": [],
   "source": [
    "#transformando os resultados para dataframe e ordenando por recall da classe 0:\n",
    "resultados = pd.DataFrame(np.array(resultados), columns=['repeticao','reg_param','store_covariance','tol','acuracy_treino','acuracia_teste','acuracia_balanceada_teste','rec_0_teste','rec_1_teste','f1_teste','auc_teste'])\n",
    "resultados.sort_values(by = 'auc_teste', ascending = False)"
   ]
  },
  {
   "cell_type": "markdown",
   "metadata": {
    "id": "5nK-WlCJtxBk"
   },
   "source": [
    "Hiperparâmetros\n",
    "\n",
    "- reg_param: 0.1\n",
    "- store_covarianve: true  \n",
    "- tol: 10000"
   ]
  },
  {
   "cell_type": "code",
   "execution_count": null,
   "metadata": {
    "id": "6GoQFvYrtxBl"
   },
   "outputs": [],
   "source": []
  },
  {
   "cell_type": "code",
   "execution_count": null,
   "metadata": {
    "id": "vvsDEMbBtxBl"
   },
   "outputs": [],
   "source": []
  },
  {
   "cell_type": "markdown",
   "metadata": {
    "id": "csFs7BZWtxBl"
   },
   "source": [
    "### 8.4.1 QuadraticDiscriminantAnalysis Modelo Final"
   ]
  },
  {
   "cell_type": "code",
   "execution_count": null,
   "metadata": {
    "id": "ClPn6FubtxBl"
   },
   "outputs": [],
   "source": [
    "X = df_final9[features+featuresd1+featuresd2+featuresd3]\n",
    "y = df_final9['Fechamento'] \n",
    "\n",
    "X_train, X_test, y_train, y_test = train_test_split(X, y, test_size=0.3, random_state=10, stratify=y)\n",
    "\n",
    "quadratic = QuadraticDiscriminantAnalysis(reg_param = 0.1, store_covariance= True, tol = 10000)\n",
    "quadratic.fit(X_train,y_train)\n"
   ]
  },
  {
   "cell_type": "code",
   "execution_count": null,
   "metadata": {
    "id": "Ywo5gwyptxBl"
   },
   "outputs": [],
   "source": [
    "#Predizendo y\n",
    "y_pred = quadratic.predict(X_test)\n",
    "\n",
    "#Relatórios e matriz de confusao\n",
    "print(\"Classification Report Dados:\\n\",classification_report(y_test,y_pred))\n",
    "print(\"\")\n",
    "print(\"Confusion Matrix Dados de Producao:\\n\",confusion_matrix(y_test,y_pred))\n",
    "print(\"\")"
   ]
  },
  {
   "cell_type": "code",
   "execution_count": null,
   "metadata": {
    "id": "0MIgp0YetxBl"
   },
   "outputs": [],
   "source": [
    "#Calculando o recall\n",
    "recall_0 = recall_score(y_test, y_pred, pos_label=0)\n",
    "recall_1 = recall_score(y_test, y_pred, pos_label=1)\n",
    "\n",
    "\n",
    "#Calculando acurácia \n",
    "accuracy = accuracy_score(y_test, y_pred)\n",
    "\n",
    "#Calculando acurácia balanceada\n",
    "accuracy_balanced = balanced_accuracy_score(y_test, y_pred)\n",
    "\n",
    "#calculando f1_score\n",
    "f1_0 = f1_score(y_test, y_pred,pos_label=0)\n",
    "f1_1 = f1_score(y_test, y_pred,pos_label=1)\n",
    "\n",
    "#Calculando AUC\n",
    "auc = roc_auc_score(y_test, y_pred)\n",
    "\n",
    "print(\"Recall_0: %s\" % (recall_0))\n",
    "print(\"Recall_1: %s\" % (recall_1))\n",
    "print(\"Acuracia: %s\" % (accuracy))\n",
    "print(\"Acuracia Balanceada: %s\" % (accuracy_balanced))\n",
    "print(\"F1_Score_0: %s\" % (f1_0))\n",
    "print(\"F1_Score_1: %s\" % (f1_1))\n",
    "print(\"AUC: %s\" % (auc))"
   ]
  },
  {
   "cell_type": "markdown",
   "metadata": {
    "id": "NpEryjovtxBl"
   },
   "source": [
    "## 8.5 LGBMClassifier"
   ]
  },
  {
   "cell_type": "code",
   "execution_count": null,
   "metadata": {
    "id": "pWPWJQtPtxBm"
   },
   "outputs": [],
   "source": [
    "from lightgbm import LGBMClassifier"
   ]
  },
  {
   "cell_type": "code",
   "execution_count": null,
   "metadata": {
    "id": "z9RSOI85txBm"
   },
   "outputs": [],
   "source": [
    "acuracia_dados = make_scorer(accuracy_score)\n",
    "f1_dados = make_scorer(f1_score)\n",
    "balanced_acc_dados = make_scorer(balanced_accuracy_score)\n",
    "scoring = {\"accuracy\": acuracia_dados, \"f1\":f1_dados, \"bacuracy\":balanced_acc_dados}"
   ]
  },
  {
   "cell_type": "code",
   "execution_count": null,
   "metadata": {
    "id": "qTksDrdMtxBm"
   },
   "outputs": [],
   "source": [
    "resultados = []\n",
    "\n",
    "#Definição dos dados\n",
    "X_todos = df_final9[features+featuresd1+featuresd2+featuresd3]\n",
    "y_todos = df_final9['Fechamento']  \n",
    "\n",
    "    \n",
    "#Repete os experimentos 30x\n",
    "for i in range(30):\n",
    "    \n",
    "    #Holdout:\n",
    "    X_train, X_test, y_train, y_test = train_test_split(X, y, test_size=0.3, random_state=i, stratify=y)\n",
    "        \n",
    "    #Validação cruzada com 10 kfolds\n",
    "    kfold = KFold(n_splits = 10, shuffle = True, random_state = i)\n",
    "    \n",
    "    print(\"Fazendo gridsearch - Repeticao %s\" % (i+1))\n",
    "    \n",
    "    gs = GridSearchCV(\n",
    "        LGBMClassifier(random_state=i),\n",
    "        param_grid={\"max_depth\": [-1,100], \n",
    "                    \"learning_rate\": [0.1,0.2,0.3], \n",
    "                    \"n_estimators\": [100,50,150], \n",
    "                    \"num_leaves\": [31,10,50]   }, \n",
    "        scoring=scoring,\n",
    "        refit=\"bacuracy\",\n",
    "        n_jobs=2,\n",
    "        return_train_score=True,\n",
    "        cv = kfold\n",
    "            )\n",
    "        \n",
    "    #Treinando o modelo com dados de treino c/ 9 folds e utilizando 1 fold para teste\n",
    "    gs.fit(X_train, y_train)\n",
    "    \n",
    "    #Melhores resultados e hiperparâmetros encontrados\n",
    "    acuracy_treino = gs.best_score_\n",
    "    hyperparams = gs.best_params_\n",
    "    \n",
    "    ##Predizendo as classes nos dados de teste e todos dados, utilizando os melhores parâmetros\n",
    "    y_test_pred = gs.predict(X_test)\n",
    "    #y_test_pred_todos = gs.predict(X_todos)\n",
    "        \n",
    "    #Calculando acurácia \n",
    "    accuracy_teste = accuracy_score(y_test, y_test_pred)\n",
    "    #accuracy_todos = accuracy_score(y_todos, y_test_pred_todos)\n",
    "        \n",
    "    #calculando f1_score da classe 1\n",
    "    f1_teste = f1_score(y_test, y_test_pred)\n",
    "    #f1_todos = f1_score(y_todos, y_test_pred_todos)\n",
    "    \n",
    "    #calculando área sobre a curva ROC_AUC:\n",
    "    auc_teste = roc_auc_score(y_test, y_test_pred)\n",
    "    #auc_todos = roc_auc_score(y_todos, y_test_pred_todos)\n",
    "        \n",
    "    #Calculando Recall clase 1\n",
    "    rec0_teste = recall_score(y_test, y_test_pred, pos_label=0)\n",
    "    rec1_teste = recall_score(y_test, y_test_pred, pos_label=1)\n",
    "    \n",
    "    #rec0_todos = recall_score(y_todos, y_test_pred_todos, pos_label=0)\n",
    "    #rec1_todos = recall_score(y_todos, y_test_pred_todos, pos_label=1)\n",
    "    \n",
    "    #Calculando a acurácia balanceada\n",
    "    accuracy_teste_balanced = balanced_accuracy_score(y_test, y_test_pred)\n",
    "    \n",
    "    # Adicionando todos resultados em uma única lista\n",
    "    resultados.append(np.array([i,hyperparams['max_depth'],hyperparams['learning_rate'],hyperparams['n_estimators'],acuracy_treino,accuracy_teste,accuracy_teste_balanced,rec0_teste,rec1_teste,f1_teste,auc_teste]))"
   ]
  },
  {
   "cell_type": "code",
   "execution_count": null,
   "metadata": {
    "id": "CsC3QjTqtxBn"
   },
   "outputs": [],
   "source": [
    "#transformando os resultados para dataframe e ordenando por recall da classe 0:\n",
    "resultados = pd.DataFrame(np.array(resultados), columns=['repeticao','max_depth','learning_rate','n_estimators','acuracy_treino','acuracia_teste','acuracia_balanceada_teste','rec_0_teste','rec_1_teste','f1_teste','auc_teste'])\n",
    "resultados.sort_values(by = 'auc_teste', ascending = False)"
   ]
  },
  {
   "cell_type": "markdown",
   "metadata": {
    "id": "qNYZ6DuztxBn"
   },
   "source": [
    "Hiperparâmetros\n",
    "\n",
    "- max_depth: -1 (sem limite)\n",
    "- learning_rate\t: >=0.3\n",
    "- num_estimator <=100\n",
    "- num_leaves ?"
   ]
  },
  {
   "cell_type": "code",
   "execution_count": null,
   "metadata": {
    "id": "i0QwwtuytxBn"
   },
   "outputs": [],
   "source": [
    "resultados = []\n",
    "\n",
    "#Definição dos dados\n",
    "X_todos = df_final9[features+featuresd1+featuresd2+featuresd3]\n",
    "y_todos = df_final9['Fechamento']  \n",
    "\n",
    "    \n",
    "#Repete os experimentos 30x\n",
    "for i in range(30):\n",
    "    \n",
    "    #Holdout:\n",
    "    X_train, X_test, y_train, y_test = train_test_split(X, y, test_size=0.3, random_state=i, stratify=y)\n",
    "        \n",
    "    #Validação cruzada com 10 kfolds\n",
    "    kfold = KFold(n_splits = 10, shuffle = True, random_state = i)\n",
    "    \n",
    "    print(\"Fazendo gridsearch - Repeticao %s\" % (i+1))\n",
    "    \n",
    "    gs = GridSearchCV(\n",
    "        LGBMClassifier(random_state=i),\n",
    "        param_grid={\"max_depth\": [-1,100], \n",
    "                    \"learning_rate\": [0.3,0.5,0.7], \n",
    "                    \"n_estimators\": [20,30,40,50,60,70,80,90,100], \n",
    "                    \"num_leaves\": [31,10,50]   }, \n",
    "        scoring=scoring,\n",
    "        refit=\"bacuracy\",\n",
    "        n_jobs=2,\n",
    "        return_train_score=True,\n",
    "        cv = kfold\n",
    "            )\n",
    "        \n",
    "    #Treinando o modelo com dados de treino c/ 9 folds e utilizando 1 fold para teste\n",
    "    gs.fit(X_train, y_train)\n",
    "    \n",
    "    #Melhores resultados e hiperparâmetros encontrados\n",
    "    acuracy_treino = gs.best_score_\n",
    "    hyperparams = gs.best_params_\n",
    "    \n",
    "    ##Predizendo as classes nos dados de teste e todos dados, utilizando os melhores parâmetros\n",
    "    y_test_pred = gs.predict(X_test)\n",
    "    #y_test_pred_todos = gs.predict(X_todos)\n",
    "        \n",
    "    #Calculando acurácia \n",
    "    accuracy_teste = accuracy_score(y_test, y_test_pred)\n",
    "    #accuracy_todos = accuracy_score(y_todos, y_test_pred_todos)\n",
    "        \n",
    "    #calculando f1_score da classe 1\n",
    "    f1_teste = f1_score(y_test, y_test_pred)\n",
    "    #f1_todos = f1_score(y_todos, y_test_pred_todos)\n",
    "    \n",
    "    #calculando área sobre a curva ROC_AUC:\n",
    "    auc_teste = roc_auc_score(y_test, y_test_pred)\n",
    "    #auc_todos = roc_auc_score(y_todos, y_test_pred_todos)\n",
    "        \n",
    "    #Calculando Recall clase 1\n",
    "    rec0_teste = recall_score(y_test, y_test_pred, pos_label=0)\n",
    "    rec1_teste = recall_score(y_test, y_test_pred, pos_label=1)\n",
    "    \n",
    "    #rec0_todos = recall_score(y_todos, y_test_pred_todos, pos_label=0)\n",
    "    #rec1_todos = recall_score(y_todos, y_test_pred_todos, pos_label=1)\n",
    "    \n",
    "    #Calculando a acurácia balanceada\n",
    "    accuracy_teste_balanced = balanced_accuracy_score(y_test, y_test_pred)\n",
    "    \n",
    "    # Adicionando todos resultados em uma única lista\n",
    "    resultados.append(np.array([i,hyperparams['max_depth'],hyperparams['learning_rate'],hyperparams['n_estimators'],hyperparams['num_leaves'],acuracy_treino,accuracy_teste,accuracy_teste_balanced,rec0_teste,rec1_teste,f1_teste,auc_teste]))"
   ]
  },
  {
   "cell_type": "code",
   "execution_count": null,
   "metadata": {
    "id": "2vgs4LRatxBn"
   },
   "outputs": [],
   "source": [
    "pd.set_option('display.precision',4)"
   ]
  },
  {
   "cell_type": "code",
   "execution_count": null,
   "metadata": {
    "id": "kLAadvdttxBn"
   },
   "outputs": [],
   "source": [
    "pd.reset_option('^display.',silent=True)"
   ]
  },
  {
   "cell_type": "code",
   "execution_count": null,
   "metadata": {
    "id": "LrIHQmLatxBn"
   },
   "outputs": [],
   "source": [
    "#transformando os resultados para dataframe e ordenando por recall da classe 0:\n",
    "resultados = pd.DataFrame(np.array(resultados), columns=['repeticao','max_depth','learning_rate','n_estimators','num_leaves','acuracy_treino','acuracia_teste','acuracia_balanceada_teste','rec_0_teste','rec_1_teste','f1_teste','auc_teste'])\n",
    "resultados.sort_values(by = 'auc_teste', ascending = False)"
   ]
  },
  {
   "cell_type": "markdown",
   "metadata": {
    "id": "gzdn7ljutxBo"
   },
   "source": [
    "Hiperparâmetros\n",
    "\n",
    "- max_depth: -1 (sem limite)\n",
    "- learning_rate\t: entre 0.7 e 0.5\n",
    "- num_estimator entre 90 e 70\n",
    "- num_leaves próximo a 31 (>10 e <50)"
   ]
  },
  {
   "cell_type": "code",
   "execution_count": null,
   "metadata": {
    "id": "HmyVYsyztxBo"
   },
   "outputs": [],
   "source": [
    "acuracia_dados = make_scorer(accuracy_score)\n",
    "f1_dados = make_scorer(f1_score)\n",
    "balanced_acc_dados = make_scorer(balanced_accuracy_score)\n",
    "auc_dados = make_scorer(roc_auc_score)\n",
    "scoring = {\"accuracy\": acuracia_dados, \"f1\":f1_dados, \"bacuracy\":balanced_acc_dados}"
   ]
  },
  {
   "cell_type": "code",
   "execution_count": null,
   "metadata": {
    "id": "LPHXtfWPtxBo"
   },
   "outputs": [],
   "source": [
    "resultados = []\n",
    "\n",
    "#Definição dos dados\n",
    "X_todos = df_final9[features+featuresd1+featuresd2+featuresd3]\n",
    "y_todos = df_final9['Fechamento']  \n",
    "\n",
    "    \n",
    "#Repete os experimentos 20x\n",
    "for i in range(20):\n",
    "    \n",
    "    #Holdout:\n",
    "    X_train, X_test, y_train, y_test = train_test_split(X, y, test_size=0.3, random_state=i, stratify=y)\n",
    "        \n",
    "    #Validação cruzada com 10 kfolds\n",
    "    kfold = KFold(n_splits = 10, shuffle = True, random_state = i)\n",
    "    \n",
    "    print(\"Fazendo gridsearch - Repeticao %s\" % (i+1))\n",
    "    \n",
    "    gs = GridSearchCV(\n",
    "        LGBMClassifier(random_state=i),\n",
    "        param_grid={\"max_depth\": [-1], \n",
    "                    \"learning_rate\": [0.5,0.6,0.7,0.8], \n",
    "                    \"n_estimators\": [70,75,80,85,90], \n",
    "                    \"num_leaves\": [15,20,25,30,31,35,40,45]   }, \n",
    "        scoring=scoring,\n",
    "        refit=\"bacuracy\",\n",
    "        n_jobs=2,\n",
    "        return_train_score=True,\n",
    "        cv = kfold\n",
    "            )\n",
    "        \n",
    "    #Treinando o modelo com dados de treino c/ 9 folds e utilizando 1 fold para teste\n",
    "    gs.fit(X_train, y_train)\n",
    "    \n",
    "    #Melhores resultados e hiperparâmetros encontrados\n",
    "    acuracy_treino = gs.best_score_\n",
    "    hyperparams = gs.best_params_\n",
    "    \n",
    "    ##Predizendo as classes nos dados de teste e todos dados, utilizando os melhores parâmetros\n",
    "    y_test_pred = gs.predict(X_test)\n",
    "    #y_test_pred_todos = gs.predict(X_todos)\n",
    "        \n",
    "    #Calculando acurácia \n",
    "    accuracy_teste = accuracy_score(y_test, y_test_pred)\n",
    "    #accuracy_todos = accuracy_score(y_todos, y_test_pred_todos)\n",
    "        \n",
    "    #calculando f1_score da classe 1\n",
    "    f1_teste = f1_score(y_test, y_test_pred)\n",
    "    #f1_todos = f1_score(y_todos, y_test_pred_todos)\n",
    "    \n",
    "    #calculando área sobre a curva ROC_AUC:\n",
    "    auc_teste = roc_auc_score(y_test, y_test_pred)\n",
    "    #auc_todos = roc_auc_score(y_todos, y_test_pred_todos)\n",
    "        \n",
    "    #Calculando Recall clase 1\n",
    "    rec0_teste = recall_score(y_test, y_test_pred, pos_label=0)\n",
    "    rec1_teste = recall_score(y_test, y_test_pred, pos_label=1)\n",
    "    \n",
    "    #rec0_todos = recall_score(y_todos, y_test_pred_todos, pos_label=0)\n",
    "    #rec1_todos = recall_score(y_todos, y_test_pred_todos, pos_label=1)\n",
    "    \n",
    "    #Calculando a acurácia balanceada\n",
    "    accuracy_teste_balanced = balanced_accuracy_score(y_test, y_test_pred)\n",
    "    \n",
    "    # Adicionando todos resultados em uma única lista\n",
    "    resultados.append(np.array([i,hyperparams['max_depth'],hyperparams['learning_rate'],hyperparams['n_estimators'],hyperparams['num_leaves'],acuracy_treino,accuracy_teste,accuracy_teste_balanced,rec0_teste,rec1_teste,f1_teste,auc_teste]))"
   ]
  },
  {
   "cell_type": "code",
   "execution_count": null,
   "metadata": {
    "id": "bxmwlO1HtxBo"
   },
   "outputs": [],
   "source": [
    "#transformando os resultados para dataframe e ordenando por recall da classe 0:\n",
    "resultados = pd.DataFrame(np.array(resultados), columns=['repeticao','max_depth','learning_rate','n_estimators','num_leaves','acuracy_treino','acuracia_teste','acuracia_balanceada_teste','rec_0_teste','rec_1_teste','f1_teste','auc_teste'])\n",
    "resultados.sort_values(by = 'auc_teste', ascending = False)"
   ]
  },
  {
   "cell_type": "markdown",
   "metadata": {
    "id": "ULsFqDBLtxBo"
   },
   "source": [
    "Hiperparâmetros\n",
    "\n",
    "- max_depth: -1 (sem limite)\n",
    "- learning_rate\t: 0,6\n",
    "- num_estimator entre 80 e 85\n",
    "- num_leaves próximo a <=15"
   ]
  },
  {
   "cell_type": "code",
   "execution_count": null,
   "metadata": {
    "id": "kQsXhrIptxBo"
   },
   "outputs": [],
   "source": [
    "resultados = []\n",
    "\n",
    "#Definição dos dados\n",
    "X_todos = df_final9[features+featuresd1+featuresd2+featuresd3]\n",
    "y_todos = df_final9['Fechamento']  \n",
    "\n",
    "    \n",
    "#Repete os experimentos 20x\n",
    "for i in range(20):\n",
    "    \n",
    "    #Holdout:\n",
    "    X_train, X_test, y_train, y_test = train_test_split(X, y, test_size=0.3, random_state=i, stratify=y)\n",
    "        \n",
    "    #Validação cruzada com 10 kfolds\n",
    "    kfold = KFold(n_splits = 10, shuffle = True, random_state = i)\n",
    "    \n",
    "    print(\"Fazendo gridsearch - Repeticao %s\" % (i+1))\n",
    "    \n",
    "    gs = GridSearchCV(\n",
    "        LGBMClassifier(random_state=i),\n",
    "        param_grid={\"max_depth\": [-1], \n",
    "                    \"learning_rate\": [0.6], \n",
    "                    \"n_estimators\": [76,77,78,79,80,81,82,83,84,85], \n",
    "                    \"num_leaves\": [2,4,6,8,10,11,12,13,14,15]   }, \n",
    "        scoring=scoring,\n",
    "        refit=\"bacuracy\",\n",
    "        n_jobs=2,\n",
    "        return_train_score=True,\n",
    "        cv = kfold\n",
    "            )\n",
    "        \n",
    "    #Treinando o modelo com dados de treino c/ 9 folds e utilizando 1 fold para teste\n",
    "    gs.fit(X_train, y_train)\n",
    "    \n",
    "    #Melhores resultados e hiperparâmetros encontrados\n",
    "    acuracy_treino = gs.best_score_\n",
    "    hyperparams = gs.best_params_\n",
    "    \n",
    "    ##Predizendo as classes nos dados de teste e todos dados, utilizando os melhores parâmetros\n",
    "    y_test_pred = gs.predict(X_test)\n",
    "    #y_test_pred_todos = gs.predict(X_todos)\n",
    "        \n",
    "    #Calculando acurácia \n",
    "    accuracy_teste = accuracy_score(y_test, y_test_pred)\n",
    "    #accuracy_todos = accuracy_score(y_todos, y_test_pred_todos)\n",
    "        \n",
    "    #calculando f1_score da classe 1\n",
    "    f1_teste = f1_score(y_test, y_test_pred)\n",
    "    #f1_todos = f1_score(y_todos, y_test_pred_todos)\n",
    "    \n",
    "    #calculando área sobre a curva ROC_AUC:\n",
    "    auc_teste = roc_auc_score(y_test, y_test_pred)\n",
    "    #auc_todos = roc_auc_score(y_todos, y_test_pred_todos)\n",
    "        \n",
    "    #Calculando Recall clase 1\n",
    "    rec0_teste = recall_score(y_test, y_test_pred, pos_label=0)\n",
    "    rec1_teste = recall_score(y_test, y_test_pred, pos_label=1)\n",
    "    \n",
    "    #rec0_todos = recall_score(y_todos, y_test_pred_todos, pos_label=0)\n",
    "    #rec1_todos = recall_score(y_todos, y_test_pred_todos, pos_label=1)\n",
    "    \n",
    "    #Calculando a acurácia balanceada\n",
    "    accuracy_teste_balanced = balanced_accuracy_score(y_test, y_test_pred)\n",
    "    \n",
    "    # Adicionando todos resultados em uma única lista\n",
    "    resultados.append(np.array([i,hyperparams['max_depth'],hyperparams['learning_rate'],hyperparams['n_estimators'],hyperparams['num_leaves'],acuracy_treino,accuracy_teste,accuracy_teste_balanced,rec0_teste,rec1_teste,f1_teste,auc_teste]))"
   ]
  },
  {
   "cell_type": "code",
   "execution_count": null,
   "metadata": {
    "id": "MHvwyOE9txBp"
   },
   "outputs": [],
   "source": [
    "#transformando os resultados para dataframe e ordenando por recall da classe 0:\n",
    "resultados = pd.DataFrame(np.array(resultados), columns=['repeticao','max_depth','learning_rate','n_estimators','num_leaves','acuracy_treino','acuracia_teste','acuracia_balanceada_teste','rec_0_teste','rec_1_teste','f1_teste','auc_teste'])\n",
    "resultados.sort_values(by = 'auc_teste', ascending = False)"
   ]
  },
  {
   "cell_type": "markdown",
   "metadata": {
    "id": "St7c66rNtxBp"
   },
   "source": [
    "Hiperparâmetros\n",
    "\n",
    "- max_depth: -1 (sem limite)\n",
    "- learning_rate\t: 0,6\n",
    "- num_estimator: 78\n",
    "- num_leaves: 4"
   ]
  },
  {
   "cell_type": "markdown",
   "metadata": {
    "id": "UXo3Ahr0txBp"
   },
   "source": [
    "### 8.5.1 LGBM Modelo final"
   ]
  },
  {
   "cell_type": "code",
   "execution_count": null,
   "metadata": {
    "id": "hiWh0i4DtxBp"
   },
   "outputs": [],
   "source": [
    "X = df_final9[features+featuresd1+featuresd2+featuresd3]\n",
    "y = df_final9['Fechamento'] \n",
    "\n",
    "X_train, X_test, y_train, y_test = train_test_split(X, y, test_size=0.3, random_state=10, stratify=y)\n",
    "\n",
    "lgbm = LGBMClassifier(max_depth = -1,learning_rate = 0.6, num_estimator = 78, num_leaves = 4,  random_state=3)\n",
    "lgbm.fit(X_train,y_train)"
   ]
  },
  {
   "cell_type": "code",
   "execution_count": null,
   "metadata": {
    "id": "ayh_AdMftxBp"
   },
   "outputs": [],
   "source": [
    "#Predizendo y\n",
    "y_pred = lgbm.predict(X_test)\n",
    "\n",
    "#Relatórios e matriz de confusao\n",
    "print(\"Classification Report Dados:\\n\",classification_report(y_test,y_pred))\n",
    "print(\"\")\n",
    "print(\"Confusion Matrix Dados de Producao:\\n\",confusion_matrix(y_test,y_pred))\n",
    "print(\"\")\n"
   ]
  },
  {
   "cell_type": "code",
   "execution_count": null,
   "metadata": {
    "id": "_aoJJ7LNtxBq"
   },
   "outputs": [],
   "source": [
    "#Calculando o recall\n",
    "recall_0 = recall_score(y_test, y_pred, pos_label=0)\n",
    "recall_1 = recall_score(y_test, y_pred, pos_label=1)\n",
    "\n",
    "\n",
    "#Calculando acurácia \n",
    "accuracy = accuracy_score(y_test, y_pred)\n",
    "\n",
    "#Calculando acurácia balanceada\n",
    "accuracy_balanced = balanced_accuracy_score(y_test, y_pred)\n",
    "\n",
    "#calculando f1_score\n",
    "f1_0 = f1_score(y_test, y_pred,pos_label=0)\n",
    "f1_1 = f1_score(y_test, y_pred,pos_label=1)\n",
    "\n",
    "#Calculando AUC\n",
    "auc = roc_auc_score(y_test, y_pred)\n",
    "\n",
    "print(\"Recall_0: %s\" % (recall_0))\n",
    "print(\"Recall_1: %s\" % (recall_1))\n",
    "print(\"Acuracia: %s\" % (accuracy))\n",
    "print(\"Acuracia Balanceada: %s\" % (accuracy_balanced))\n",
    "print(\"F1_Score_0: %s\" % (f1_0))\n",
    "print(\"F1_Score_1: %s\" % (f1_1))\n",
    "print(\"AUC: %s\" % (auc))"
   ]
  },
  {
   "cell_type": "markdown",
   "metadata": {
    "id": "aX2TRyThtxBr"
   },
   "source": [
    "## 8.6 RandomForestClassifier"
   ]
  },
  {
   "cell_type": "code",
   "execution_count": null,
   "metadata": {
    "id": "OpFim4rrtxBr"
   },
   "outputs": [],
   "source": [
    "from sklearn.ensemble import RandomForestClassifier"
   ]
  },
  {
   "cell_type": "code",
   "execution_count": null,
   "metadata": {
    "id": "RrRJHp5etxBr"
   },
   "outputs": [],
   "source": [
    "acuracia_dados = make_scorer(accuracy_score)\n",
    "f1_dados = make_scorer(f1_score)\n",
    "balanced_acc_dados = make_scorer(balanced_accuracy_score)\n",
    "scoring = {\"accuracy\": acuracia_dados, \"f1\":f1_dados, \"bacuracy\":balanced_acc_dados}"
   ]
  },
  {
   "cell_type": "code",
   "execution_count": null,
   "metadata": {
    "id": "spMIsTqYtxBr"
   },
   "outputs": [],
   "source": [
    "resultados = []\n",
    "\n",
    "#Definição dos dados\n",
    "X_todos = df_final9[features+featuresd1+featuresd2+featuresd3]\n",
    "y_todos = df_final9['Fechamento']  \n",
    "\n",
    "    \n",
    "#Repete os experimentos 10x\n",
    "for i in range(10):\n",
    "    \n",
    "    #Holdout:\n",
    "    X_train, X_test, y_train, y_test = train_test_split(X, y, test_size=0.3, random_state=i, stratify=y)\n",
    "        \n",
    "    #Validação cruzada com 10 kfolds\n",
    "    kfold = KFold(n_splits = 10, shuffle = True, random_state = i)\n",
    "    \n",
    "    print(\"Fazendo gridsearch - Repeticao %s\" % (i+1))\n",
    "    \n",
    "    gs = GridSearchCV(\n",
    "        RandomForestClassifier(random_state=i) ,\n",
    "        param_grid={\"max_depth\": [10,20,30], \n",
    "                    \"min_samples_leaf\": [1,2,5,10,15], \n",
    "                    \"min_samples_split\": [2,5,10,15],\n",
    "                    \"criterion\": ['gini','entropy','log_loss']}, \n",
    "        scoring=scoring,\n",
    "        refit=\"bacuracy\",\n",
    "        n_jobs=2,\n",
    "        return_train_score=True,\n",
    "        cv = kfold\n",
    "            )\n",
    "        \n",
    "    #Treinando o modelo com dados de treino c/ 9 folds e utilizando 1 fold para teste\n",
    "    gs.fit(X_train, y_train)\n",
    "    \n",
    "    #Melhores resultados e hiperparâmetros encontrados\n",
    "    acuracy_treino = gs.best_score_\n",
    "    hyperparams = gs.best_params_\n",
    "    \n",
    "    ##Predizendo as classes nos dados de teste e todos dados, utilizando os melhores parâmetros\n",
    "    y_test_pred = gs.predict(X_test)\n",
    "    #y_test_pred_todos = gs.predict(X_todos)\n",
    "        \n",
    "    #Calculando acurácia \n",
    "    accuracy_teste = accuracy_score(y_test, y_test_pred)\n",
    "    #accuracy_todos = accuracy_score(y_todos, y_test_pred_todos)\n",
    "        \n",
    "    #calculando f1_score da classe 1\n",
    "    f1_teste = f1_score(y_test, y_test_pred)\n",
    "    #f1_todos = f1_score(y_todos, y_test_pred_todos)\n",
    "    \n",
    "    #calculando área sobre a curva ROC_AUC:\n",
    "    auc_teste = roc_auc_score(y_test, y_test_pred)\n",
    "    #auc_todos = roc_auc_score(y_todos, y_test_pred_todos)\n",
    "        \n",
    "    #Calculando Recall clase 1\n",
    "    rec0_teste = recall_score(y_test, y_test_pred, pos_label=0)\n",
    "    rec1_teste = recall_score(y_test, y_test_pred, pos_label=1)\n",
    "    \n",
    "    #rec0_todos = recall_score(y_todos, y_test_pred_todos, pos_label=0)\n",
    "    #rec1_todos = recall_score(y_todos, y_test_pred_todos, pos_label=1)\n",
    "    \n",
    "    #Calculando a acurácia balanceada\n",
    "    accuracy_teste_balanced = balanced_accuracy_score(y_test, y_test_pred)\n",
    "    \n",
    "    # Adicionando todos resultados em uma única lista\n",
    "    resultados.append(np.array([i,hyperparams['max_depth'],hyperparams['min_samples_leaf'],hyperparams['min_samples_split'],hyperparams['criterion'],acuracy_treino,accuracy_teste,accuracy_teste_balanced,rec0_teste,rec1_teste,f1_teste,auc_teste]))"
   ]
  },
  {
   "cell_type": "code",
   "execution_count": null,
   "metadata": {
    "id": "I_BIDEpEtxBr"
   },
   "outputs": [],
   "source": [
    "#transformando os resultados para dataframe e ordenando por recall da classe 0:\n",
    "resultados = pd.DataFrame(np.array(resultados), columns=['repeticao','max_depth','min_samples_leaf','min_samples_split','criterion','acuracy_treino','acuracia_teste','acuracia_balanceada_teste','rec_0_teste','rec_1_teste','f1_teste','auc_teste'])\n",
    "resultados.sort_values(by = 'auc_teste', ascending = False)"
   ]
  },
  {
   "cell_type": "markdown",
   "metadata": {
    "id": "7wXW1fiutxBr"
   },
   "source": [
    "Hiperparâmetros\n",
    "\n",
    "- max_depth: entre 10 e 20\n",
    "- min_samples_leaf\t: entre 2 e 1\n",
    "- min_samples_split: entre 5 e 15 ou >=15\n",
    "- criterion: entropy"
   ]
  },
  {
   "cell_type": "code",
   "execution_count": null,
   "metadata": {
    "id": "fL2d40HAtxBs"
   },
   "outputs": [],
   "source": [
    "resultados = []\n",
    "\n",
    "#Definição dos dados\n",
    "X_todos = df_final9[features+featuresd1+featuresd2+featuresd3]\n",
    "y_todos = df_final9['Fechamento']  \n",
    "\n",
    "    \n",
    "#Repete os experimentos 10x\n",
    "for i in range(10):\n",
    "    \n",
    "    #Holdout:\n",
    "    X_train, X_test, y_train, y_test = train_test_split(X, y, test_size=0.3, random_state=i, stratify=y)\n",
    "        \n",
    "    #Validação cruzada com 10 kfolds\n",
    "    kfold = KFold(n_splits = 10, shuffle = True, random_state = i)\n",
    "    \n",
    "    print(\"Fazendo gridsearch - Repeticao %s\" % (i+1))\n",
    "    \n",
    "    gs = GridSearchCV(\n",
    "        RandomForestClassifier(random_state=i) ,\n",
    "        param_grid={\"max_depth\": [10,12,14,16,18,20], \n",
    "                    \"min_samples_leaf\": [1,2], \n",
    "                    \"min_samples_split\": [5,15,20,25,30],\n",
    "                    \"criterion\": ['entropy']}, \n",
    "        scoring=scoring,\n",
    "        refit=\"bacuracy\",\n",
    "        n_jobs=2,\n",
    "        return_train_score=True,\n",
    "        cv = kfold\n",
    "            )\n",
    "        \n",
    "    #Treinando o modelo com dados de treino c/ 9 folds e utilizando 1 fold para teste\n",
    "    gs.fit(X_train, y_train)\n",
    "    \n",
    "    #Melhores resultados e hiperparâmetros encontrados\n",
    "    acuracy_treino = gs.best_score_\n",
    "    hyperparams = gs.best_params_\n",
    "    \n",
    "    ##Predizendo as classes nos dados de teste e todos dados, utilizando os melhores parâmetros\n",
    "    y_test_pred = gs.predict(X_test)\n",
    "    #y_test_pred_todos = gs.predict(X_todos)\n",
    "        \n",
    "    #Calculando acurácia \n",
    "    accuracy_teste = accuracy_score(y_test, y_test_pred)\n",
    "    #accuracy_todos = accuracy_score(y_todos, y_test_pred_todos)\n",
    "        \n",
    "    #calculando f1_score da classe 1\n",
    "    f1_teste = f1_score(y_test, y_test_pred)\n",
    "    #f1_todos = f1_score(y_todos, y_test_pred_todos)\n",
    "    \n",
    "    #calculando área sobre a curva ROC_AUC:\n",
    "    auc_teste = roc_auc_score(y_test, y_test_pred)\n",
    "    #auc_todos = roc_auc_score(y_todos, y_test_pred_todos)\n",
    "        \n",
    "    #Calculando Recall clase 1\n",
    "    rec0_teste = recall_score(y_test, y_test_pred, pos_label=0)\n",
    "    rec1_teste = recall_score(y_test, y_test_pred, pos_label=1)\n",
    "    \n",
    "    #rec0_todos = recall_score(y_todos, y_test_pred_todos, pos_label=0)\n",
    "    #rec1_todos = recall_score(y_todos, y_test_pred_todos, pos_label=1)\n",
    "    \n",
    "    #Calculando a acurácia balanceada\n",
    "    accuracy_teste_balanced = balanced_accuracy_score(y_test, y_test_pred)\n",
    "    \n",
    "    # Adicionando todos resultados em uma única lista\n",
    "    resultados.append(np.array([i,hyperparams['max_depth'],hyperparams['min_samples_leaf'],hyperparams['min_samples_split'],hyperparams['criterion'],acuracy_treino,accuracy_teste,accuracy_teste_balanced,rec0_teste,rec1_teste,f1_teste,auc_teste]))"
   ]
  },
  {
   "cell_type": "code",
   "execution_count": null,
   "metadata": {
    "id": "s-cArh24txBs"
   },
   "outputs": [],
   "source": [
    "#transformando os resultados para dataframe e ordenando por recall da classe 0:\n",
    "resultados = pd.DataFrame(np.array(resultados), columns=['repeticao','max_depth','min_samples_leaf','min_samples_split','criterion','acuracy_treino','acuracia_teste','acuracia_balanceada_teste','rec_0_teste','rec_1_teste','f1_teste','auc_teste'])\n",
    "resultados.sort_values(by = 'auc_teste', ascending = False)"
   ]
  },
  {
   "cell_type": "markdown",
   "metadata": {
    "id": "h1M0wbEHtxBs"
   },
   "source": [
    "Hiperparâmetros\n",
    "\n",
    "- max_depth: 10\n",
    "- min_samples_leaf\t: entre 2 e 1\n",
    "- min_samples_split: entre 5 e 15\n",
    "- criterion: entropy"
   ]
  },
  {
   "cell_type": "code",
   "execution_count": null,
   "metadata": {
    "id": "f9UCwHvFtxBs"
   },
   "outputs": [],
   "source": [
    "resultados = []\n",
    "\n",
    "#Definição dos dados\n",
    "X_todos = df_final9[features+featuresd1+featuresd2+featuresd3]\n",
    "y_todos = df_final9['Fechamento']  \n",
    "\n",
    "    \n",
    "#Repete os experimentos 10x\n",
    "for i in range(10):\n",
    "    \n",
    "    #Holdout:\n",
    "    X_train, X_test, y_train, y_test = train_test_split(X, y, test_size=0.3, random_state=i, stratify=y)\n",
    "        \n",
    "    #Validação cruzada com 10 kfolds\n",
    "    kfold = KFold(n_splits = 10, shuffle = True, random_state = i)\n",
    "    \n",
    "    print(\"Fazendo gridsearch - Repeticao %s\" % (i+1))\n",
    "    \n",
    "    gs = GridSearchCV(\n",
    "        RandomForestClassifier(random_state=i) ,\n",
    "        param_grid={\"max_depth\": [10], \n",
    "                    \"min_samples_leaf\": [1,2], \n",
    "                    \"min_samples_split\": [5,7,9,11,13,15],\n",
    "                    \"criterion\": ['entropy']}, \n",
    "        scoring=scoring,\n",
    "        refit=\"bacuracy\",\n",
    "        n_jobs=2,\n",
    "        return_train_score=True,\n",
    "        cv = kfold\n",
    "            )\n",
    "        \n",
    "    #Treinando o modelo com dados de treino c/ 9 folds e utilizando 1 fold para teste\n",
    "    gs.fit(X_train, y_train)\n",
    "    \n",
    "    #Melhores resultados e hiperparâmetros encontrados\n",
    "    acuracy_treino = gs.best_score_\n",
    "    hyperparams = gs.best_params_\n",
    "    \n",
    "    ##Predizendo as classes nos dados de teste e todos dados, utilizando os melhores parâmetros\n",
    "    y_test_pred = gs.predict(X_test)\n",
    "    #y_test_pred_todos = gs.predict(X_todos)\n",
    "        \n",
    "    #Calculando acurácia \n",
    "    accuracy_teste = accuracy_score(y_test, y_test_pred)\n",
    "    #accuracy_todos = accuracy_score(y_todos, y_test_pred_todos)\n",
    "        \n",
    "    #calculando f1_score da classe 1\n",
    "    f1_teste = f1_score(y_test, y_test_pred)\n",
    "    #f1_todos = f1_score(y_todos, y_test_pred_todos)\n",
    "    \n",
    "    #calculando área sobre a curva ROC_AUC:\n",
    "    auc_teste = roc_auc_score(y_test, y_test_pred)\n",
    "    #auc_todos = roc_auc_score(y_todos, y_test_pred_todos)\n",
    "        \n",
    "    #Calculando Recall clase 1\n",
    "    rec0_teste = recall_score(y_test, y_test_pred, pos_label=0)\n",
    "    rec1_teste = recall_score(y_test, y_test_pred, pos_label=1)\n",
    "    \n",
    "    #rec0_todos = recall_score(y_todos, y_test_pred_todos, pos_label=0)\n",
    "    #rec1_todos = recall_score(y_todos, y_test_pred_todos, pos_label=1)\n",
    "    \n",
    "    #Calculando a acurácia balanceada\n",
    "    accuracy_teste_balanced = balanced_accuracy_score(y_test, y_test_pred)\n",
    "    \n",
    "    # Adicionando todos resultados em uma única lista\n",
    "    resultados.append(np.array([i,hyperparams['max_depth'],hyperparams['min_samples_leaf'],hyperparams['min_samples_split'],hyperparams['criterion'],acuracy_treino,accuracy_teste,accuracy_teste_balanced,rec0_teste,rec1_teste,f1_teste,auc_teste]))"
   ]
  },
  {
   "cell_type": "code",
   "execution_count": null,
   "metadata": {
    "id": "-hSCHH-3txBs"
   },
   "outputs": [],
   "source": [
    "#transformando os resultados para dataframe e ordenando por recall da classe 0:\n",
    "resultados = pd.DataFrame(np.array(resultados), columns=['repeticao','max_depth','min_samples_leaf','min_samples_split','criterion','acuracy_treino','acuracia_teste','acuracia_balanceada_teste','rec_0_teste','rec_1_teste','f1_teste','auc_teste'])\n",
    "resultados.sort_values(by = 'auc_teste', ascending = False)"
   ]
  },
  {
   "cell_type": "markdown",
   "metadata": {
    "id": "JEzu79H8txBs"
   },
   "source": [
    "Hiperparâmetros\n",
    "\n",
    "- max_depth = 10\n",
    "- min_samples_leaf\t= 2 \n",
    "- min_samples_split = 5\n",
    "- criterion = entropy"
   ]
  },
  {
   "cell_type": "code",
   "execution_count": null,
   "metadata": {
    "id": "IONLewkstxBt"
   },
   "outputs": [],
   "source": [
    "X = df_final9[features+featuresd1+featuresd2+featuresd3]\n",
    "y = df_final9['Fechamento'] \n",
    "\n",
    "X_train, X_test, y_train, y_test = train_test_split(X, y, test_size=0.3, random_state=10, stratify=y)\n",
    "\n",
    "rf = RandomForestClassifier(random_state=1, max_depth = 10, min_samples_leaf = 2, \n",
    "                            min_samples_split = 5, criterion = 'entropy')\n",
    "rf.fit(X_train,y_train)"
   ]
  },
  {
   "cell_type": "code",
   "execution_count": null,
   "metadata": {
    "id": "8dnCs8U5txBt"
   },
   "outputs": [],
   "source": [
    "#Predizendo y\n",
    "y_pred = rf.predict(X_test)\n",
    "\n",
    "#Relatórios e matriz de confusao\n",
    "print(\"Classification Report Dados:\\n\",classification_report(y_test,y_pred))\n",
    "print(\"\")\n",
    "print(\"Confusion Matrix Dados de Producao:\\n\",confusion_matrix(y_test,y_pred))\n",
    "print(\"\")\n"
   ]
  },
  {
   "cell_type": "code",
   "execution_count": null,
   "metadata": {
    "id": "rqmramhLtxBt"
   },
   "outputs": [],
   "source": [
    "#Calculando o recall\n",
    "recall_0 = recall_score(y_test, y_pred, pos_label=0)\n",
    "recall_1 = recall_score(y_test, y_pred, pos_label=1)\n",
    "\n",
    "\n",
    "#Calculando acurácia \n",
    "accuracy = accuracy_score(y_test, y_pred)\n",
    "\n",
    "#Calculando acurácia balanceada\n",
    "accuracy_balanced = balanced_accuracy_score(y_test, y_pred)\n",
    "\n",
    "#calculando f1_score\n",
    "f1_0 = f1_score(y_test, y_pred,pos_label=0)\n",
    "f1_1 = f1_score(y_test, y_pred,pos_label=1)\n",
    "\n",
    "#Calculando AUC\n",
    "auc = roc_auc_score(y_test, y_pred)\n",
    "\n",
    "print(\"Recall_0: %s\" % (recall_0))\n",
    "print(\"Recall_1: %s\" % (recall_1))\n",
    "print(\"Acuracia: %s\" % (accuracy))\n",
    "print(\"Acuracia Balanceada: %s\" % (accuracy_balanced))\n",
    "print(\"F1_Score_0: %s\" % (f1_0))\n",
    "print(\"F1_Score_1: %s\" % (f1_1))\n",
    "print(\"AUC: %s\" % (auc))"
   ]
  },
  {
   "cell_type": "markdown",
   "metadata": {
    "id": "aIHcMoYXtxBt"
   },
   "source": [
    "## 8.7 NearestCentroid"
   ]
  },
  {
   "cell_type": "code",
   "execution_count": null,
   "metadata": {
    "id": "4eTiM0ebtxBt"
   },
   "outputs": [],
   "source": [
    "from sklearn.neighbors import NearestCentroid"
   ]
  },
  {
   "cell_type": "code",
   "execution_count": null,
   "metadata": {
    "id": "3lCWS77YtxBt"
   },
   "outputs": [],
   "source": [
    "acuracia_dados = make_scorer(accuracy_score)\n",
    "f1_dados = make_scorer(f1_score)\n",
    "balanced_acc_dados = make_scorer(balanced_accuracy_score)\n",
    "scoring = {\"accuracy\": acuracia_dados, \"f1\":f1_dados, \"bacuracy\":balanced_acc_dados}\n"
   ]
  },
  {
   "cell_type": "code",
   "execution_count": null,
   "metadata": {
    "id": "X55doLbttxBt"
   },
   "outputs": [],
   "source": [
    "resultados = []\n",
    "\n",
    "#Definição dos dados\n",
    "X_todos = df_final9[features+featuresd1+featuresd2+featuresd3]\n",
    "y_todos = df_final9['Fechamento']  \n",
    "\n",
    "    \n",
    "#Repete os experimentos 30x\n",
    "for i in range(30):\n",
    "    \n",
    "    #Holdout:\n",
    "    X_train, X_test, y_train, y_test = train_test_split(X, y, test_size=0.3, random_state=i, stratify=y)\n",
    "        \n",
    "    #Validação cruzada com 10 kfolds\n",
    "    kfold = KFold(n_splits = 10, shuffle = True, random_state = i)\n",
    "    \n",
    "    print(\"Fazendo gridsearch - Repeticao %s\" % (i+1))\n",
    "    \n",
    "    gs = GridSearchCV(\n",
    "        NearestCentroid() ,\n",
    "        param_grid={\"metric\": ['euclidean','manhattan'], \n",
    "                    \"shrink_threshold\": [None,0.2,0.5,1]}, \n",
    "        scoring=scoring,\n",
    "        refit=\"bacuracy\",\n",
    "        n_jobs=2,\n",
    "        return_train_score=True,\n",
    "        cv = kfold\n",
    "            )\n",
    "        \n",
    "    #Treinando o modelo com dados de treino c/ 9 folds e utilizando 1 fold para teste\n",
    "    gs.fit(X_train, y_train)\n",
    "    \n",
    "    #Melhores resultados e hiperparâmetros encontrados\n",
    "    acuracy_treino = gs.best_score_\n",
    "    hyperparams = gs.best_params_\n",
    "    \n",
    "    ##Predizendo as classes nos dados de teste e todos dados, utilizando os melhores parâmetros\n",
    "    y_test_pred = gs.predict(X_test)\n",
    "    #y_test_pred_todos = gs.predict(X_todos)\n",
    "        \n",
    "    #Calculando acurácia \n",
    "    accuracy_teste = accuracy_score(y_test, y_test_pred)\n",
    "    #accuracy_todos = accuracy_score(y_todos, y_test_pred_todos)\n",
    "        \n",
    "    #calculando f1_score da classe 1\n",
    "    f1_teste = f1_score(y_test, y_test_pred)\n",
    "    #f1_todos = f1_score(y_todos, y_test_pred_todos)\n",
    "    \n",
    "    #calculando área sobre a curva ROC_AUC:\n",
    "    auc_teste = roc_auc_score(y_test, y_test_pred)\n",
    "    #auc_todos = roc_auc_score(y_todos, y_test_pred_todos)\n",
    "        \n",
    "    #Calculando Recall clase 1\n",
    "    rec0_teste = recall_score(y_test, y_test_pred, pos_label=0)\n",
    "    rec1_teste = recall_score(y_test, y_test_pred, pos_label=1)\n",
    "    \n",
    "    #rec0_todos = recall_score(y_todos, y_test_pred_todos, pos_label=0)\n",
    "    #rec1_todos = recall_score(y_todos, y_test_pred_todos, pos_label=1)\n",
    "    \n",
    "    #Calculando a acurácia balanceada\n",
    "    accuracy_teste_balanced = balanced_accuracy_score(y_test, y_test_pred)\n",
    "    \n",
    "    # Adicionando todos resultados em uma única lista\n",
    "    resultados.append(np.array([i,hyperparams['metric'],hyperparams['shrink_threshold'],acuracy_treino,accuracy_teste,accuracy_teste_balanced,rec0_teste,rec1_teste,f1_teste,auc_teste]))"
   ]
  },
  {
   "cell_type": "code",
   "execution_count": null,
   "metadata": {
    "id": "8iQyUqCstxBt"
   },
   "outputs": [],
   "source": [
    "#transformando os resultados para dataframe e ordenando por recall da classe 0:\n",
    "resultados = pd.DataFrame(np.array(resultados), columns=['repeticao','metric','shrink_threshold','acuracy_treino','acuracia_teste','acuracia_balanceada_teste','rec_0_teste','rec_1_teste','f1_teste','auc_teste'])\n",
    "resultados.sort_values(by = 'auc_teste', ascending = False)"
   ]
  },
  {
   "cell_type": "code",
   "execution_count": null,
   "metadata": {
    "id": "IgVVuibltxBu"
   },
   "outputs": [],
   "source": [
    "resultados"
   ]
  },
  {
   "cell_type": "markdown",
   "metadata": {
    "id": "IYZ29syVtxBu"
   },
   "source": [
    "Hiperparâmetros\n",
    "\n",
    "- metric = 'euclidean'\n",
    "- shrink_threshold = None "
   ]
  },
  {
   "cell_type": "code",
   "execution_count": null,
   "metadata": {
    "id": "j9EGd7VAtxBu"
   },
   "outputs": [],
   "source": [
    "X = df_final9[features+featuresd1+featuresd2+featuresd3]\n",
    "y = df_final9['Fechamento'] \n",
    "\n",
    "X_train, X_test, y_train, y_test = train_test_split(X, y, test_size=0.3, random_state=10, stratify=y)\n",
    "\n",
    "nearestcentroid = NearestCentroid(metric = 'euclidean', shrink_threshold = None )\n",
    "nearestcentroid.fit(X_train,y_train)"
   ]
  },
  {
   "cell_type": "code",
   "execution_count": null,
   "metadata": {
    "id": "g3h_WTMPtxBu"
   },
   "outputs": [],
   "source": [
    "#Predizendo y\n",
    "y_pred = nearestcentroid.predict(X_test)\n",
    "\n",
    "#Relatórios e matriz de confusao\n",
    "print(\"Classification Report Dados:\\n\",classification_report(y_test,y_pred))\n",
    "print(\"\")\n",
    "print(\"Confusion Matrix Dados de Producao:\\n\",confusion_matrix(y_test,y_pred))\n",
    "print(\"\")"
   ]
  },
  {
   "cell_type": "code",
   "execution_count": null,
   "metadata": {
    "id": "ODzXvPWstxBu"
   },
   "outputs": [],
   "source": [
    "#Calculando o recall\n",
    "recall_0 = recall_score(y_test, y_pred, pos_label=0)\n",
    "recall_1 = recall_score(y_test, y_pred, pos_label=1)\n",
    "\n",
    "#Calculando acurácia \n",
    "accuracy = accuracy_score(y_test, y_pred)\n",
    "\n",
    "#Calculando acurácia balanceada\n",
    "accuracy_balanced = balanced_accuracy_score(y_test, y_pred)\n",
    "\n",
    "#calculando f1_score\n",
    "f1_0 = f1_score(y_test, y_pred,pos_label=0)\n",
    "f1_1 = f1_score(y_test, y_pred,pos_label=1)\n",
    "\n",
    "#Calculando AUC\n",
    "auc = roc_auc_score(y_test, y_pred)\n",
    "\n",
    "print(\"Recall_0: %s\" % (recall_0))\n",
    "print(\"Recall_1: %s\" % (recall_1))\n",
    "print(\"Acuracia: %s\" % (accuracy))\n",
    "print(\"Acuracia Balanceada: %s\" % (accuracy_balanced))\n",
    "print(\"F1_Score_0: %s\" % (f1_0))\n",
    "print(\"F1_Score_1: %s\" % (f1_1))\n",
    "print(\"AUC: %s\" % (auc))"
   ]
  },
  {
   "cell_type": "markdown",
   "metadata": {
    "id": "0bP1g5m0txBu"
   },
   "source": [
    "## 8.8 NuSVC"
   ]
  },
  {
   "cell_type": "code",
   "execution_count": null,
   "metadata": {
    "id": "--KfRYVhtxBu"
   },
   "outputs": [],
   "source": [
    "from sklearn.svm import NuSVC"
   ]
  },
  {
   "cell_type": "code",
   "execution_count": null,
   "metadata": {
    "id": "Yvi_bNXEtxBu"
   },
   "outputs": [],
   "source": [
    "acuracia_dados = make_scorer(accuracy_score)\n",
    "f1_dados = make_scorer(f1_score)\n",
    "balanced_acc_dados = make_scorer(balanced_accuracy_score)\n",
    "scoring = {\"accuracy\": acuracia_dados, \"f1\":f1_dados, \"bacuracy\":balanced_acc_dados}"
   ]
  },
  {
   "cell_type": "code",
   "execution_count": null,
   "metadata": {
    "id": "iQJMW9M7txBv"
   },
   "outputs": [],
   "source": [
    "resultados = []\n",
    "\n",
    "#Definição dos dados\n",
    "X_todos = df_final9[features+featuresd1+featuresd2+featuresd3]\n",
    "y_todos = df_final9['Fechamento']  \n",
    "\n",
    "    \n",
    "#Repete os experimentos 30x\n",
    "for i in range(30):\n",
    "    \n",
    "    #Holdout:\n",
    "    X_train, X_test, y_train, y_test = train_test_split(X, y, test_size=0.3, random_state=i, stratify=y)\n",
    "        \n",
    "    #Validação cruzada com 10 kfolds\n",
    "    kfold = KFold(n_splits = 10, shuffle = True, random_state = i)\n",
    "    \n",
    "    print(\"Fazendo gridsearch - Repeticao %s\" % (i+1))\n",
    "    \n",
    "    gs = GridSearchCV(\n",
    "        NuSVC(random_state=i) ,\n",
    "        param_grid={\"nu\": [0.2,0.4,0.5,0.6,0.8,1], \n",
    "                    \"kernel\": ['linear', 'poly', 'rbf','sigmoid'],\n",
    "                    \"gamma\": ['scale','auto']}, \n",
    "        scoring=scoring,\n",
    "        refit=\"bacuracy\",\n",
    "        n_jobs=2,\n",
    "        return_train_score=True,\n",
    "        cv = kfold\n",
    "            )\n",
    "        \n",
    "    #Treinando o modelo com dados de treino c/ 9 folds e utilizando 1 fold para teste\n",
    "    gs.fit(X_train, y_train)\n",
    "    \n",
    "    #Melhores resultados e hiperparâmetros encontrados\n",
    "    acuracy_treino = gs.best_score_\n",
    "    hyperparams = gs.best_params_\n",
    "    \n",
    "    ##Predizendo as classes nos dados de teste e todos dados, utilizando os melhores parâmetros\n",
    "    y_test_pred = gs.predict(X_test)\n",
    "    #y_test_pred_todos = gs.predict(X_todos)\n",
    "        \n",
    "    #Calculando acurácia \n",
    "    accuracy_teste = accuracy_score(y_test, y_test_pred)\n",
    "    #accuracy_todos = accuracy_score(y_todos, y_test_pred_todos)\n",
    "        \n",
    "    #calculando f1_score da classe 1\n",
    "    f1_teste = f1_score(y_test, y_test_pred)\n",
    "    #f1_todos = f1_score(y_todos, y_test_pred_todos)\n",
    "    \n",
    "    #calculando área sobre a curva ROC_AUC:\n",
    "    auc_teste = roc_auc_score(y_test, y_test_pred)\n",
    "    #auc_todos = roc_auc_score(y_todos, y_test_pred_todos)\n",
    "        \n",
    "    #Calculando Recall clase 1\n",
    "    rec0_teste = recall_score(y_test, y_test_pred, pos_label=0)\n",
    "    rec1_teste = recall_score(y_test, y_test_pred, pos_label=1)\n",
    "    \n",
    "    #rec0_todos = recall_score(y_todos, y_test_pred_todos, pos_label=0)\n",
    "    #rec1_todos = recall_score(y_todos, y_test_pred_todos, pos_label=1)\n",
    "    \n",
    "    #Calculando a acurácia balanceada\n",
    "    accuracy_teste_balanced = balanced_accuracy_score(y_test, y_test_pred)\n",
    "    \n",
    "    # Adicionando todos resultados em uma única lista\n",
    "    resultados.append(np.array([i,hyperparams['nu'],hyperparams['kernel'],hyperparams['gamma'],acuracy_treino,accuracy_teste,accuracy_teste_balanced,rec0_teste,rec1_teste,f1_teste,auc_teste]))"
   ]
  },
  {
   "cell_type": "code",
   "execution_count": null,
   "metadata": {
    "id": "emaM4qfmtxBv"
   },
   "outputs": [],
   "source": [
    "#transformando os resultados para dataframe e ordenando por recall da classe 0:\n",
    "resultados = pd.DataFrame(np.array(resultados), columns=['repeticao','nu','kernel','gamma','acuracy_treino','acuracia_teste','acuracia_balanceada_teste','rec_0_teste','rec_1_teste','f1_teste','auc_teste'])\n",
    "resultados.sort_values(by = 'auc_teste', ascending = False)"
   ]
  },
  {
   "cell_type": "markdown",
   "metadata": {
    "id": "a1XysW2NtxBv"
   },
   "source": [
    "Hiperparâmetros\n",
    "\n",
    "- nu = 0.8\n",
    "- kernel = 'rbf'\n",
    "- gamma = 'auto'"
   ]
  },
  {
   "cell_type": "code",
   "execution_count": null,
   "metadata": {
    "id": "gQc8s-iptxBv"
   },
   "outputs": [],
   "source": [
    "X = df_final9[features+featuresd1+featuresd2+featuresd3]\n",
    "y = df_final9['Fechamento'] \n",
    "\n",
    "X_train, X_test, y_train, y_test = train_test_split(X, y, test_size=0.3, random_state=10, stratify=y)\n",
    "\n",
    "nusvc = NuSVC(random_state=10, nu = 0.8, kernel = 'rbf', gamma = 'auto')\n",
    "nusvc.fit(X_train,y_train)"
   ]
  },
  {
   "cell_type": "code",
   "execution_count": null,
   "metadata": {
    "id": "YUxfJB-3txBv"
   },
   "outputs": [],
   "source": [
    "#Predizendo y\n",
    "y_pred = nusvc.predict(X_test)\n",
    "\n",
    "#Relatórios e matriz de confusao\n",
    "print(\"Classification Report Dados:\\n\",classification_report(y_test,y_pred))\n",
    "print(\"\")\n",
    "print(\"Confusion Matrix Dados de Producao:\\n\",confusion_matrix(y_test,y_pred))\n",
    "print(\"\")\n"
   ]
  },
  {
   "cell_type": "code",
   "execution_count": null,
   "metadata": {
    "id": "-_Zo7LGPtxBv"
   },
   "outputs": [],
   "source": [
    "#Calculando o recall\n",
    "recall_0 = recall_score(y_test, y_pred, pos_label=0)\n",
    "recall_1 = recall_score(y_test, y_pred, pos_label=1)\n",
    "\n",
    "#Calculando acurácia \n",
    "accuracy = accuracy_score(y_test, y_pred)\n",
    "\n",
    "#Calculando acurácia balanceada\n",
    "accuracy_balanced = balanced_accuracy_score(y_test, y_pred)\n",
    "\n",
    "#calculando f1_score\n",
    "f1_0 = f1_score(y_test, y_pred,pos_label=0)\n",
    "f1_1 = f1_score(y_test, y_pred,pos_label=1)\n",
    "\n",
    "#Calculando AUC\n",
    "auc = roc_auc_score(y_test, y_pred)\n",
    "\n",
    "print(\"Recall_0: %s\" % (recall_0))\n",
    "print(\"Recall_1: %s\" % (recall_1))\n",
    "print(\"Acuracia: %s\" % (accuracy))\n",
    "print(\"Acuracia Balanceada: %s\" % (accuracy_balanced))\n",
    "print(\"F1_Score_0: %s\" % (f1_0))\n",
    "print(\"F1_Score_1: %s\" % (f1_1))\n",
    "print(\"AUC: %s\" % (auc))\n"
   ]
  },
  {
   "cell_type": "markdown",
   "metadata": {
    "id": "7qGStQbAtxBw"
   },
   "source": [
    "## 8.9 XGBClassifier"
   ]
  },
  {
   "cell_type": "code",
   "execution_count": null,
   "metadata": {
    "id": "RLPUr1kytxBw"
   },
   "outputs": [],
   "source": [
    "from xgboost import XGBClassifier"
   ]
  },
  {
   "cell_type": "code",
   "execution_count": null,
   "metadata": {
    "id": "04UtyGsftxBw"
   },
   "outputs": [],
   "source": [
    "acuracia_dados = make_scorer(accuracy_score)\n",
    "f1_dados = make_scorer(f1_score)\n",
    "balanced_acc_dados = make_scorer(balanced_accuracy_score)\n",
    "scoring = {\"accuracy\": acuracia_dados, \"f1\":f1_dados, \"bacuracy\":balanced_acc_dados}\n"
   ]
  },
  {
   "cell_type": "code",
   "execution_count": null,
   "metadata": {
    "id": "aLniBEUxtxBw"
   },
   "outputs": [],
   "source": [
    "resultados = []\n",
    "\n",
    "#Definição dos dados\n",
    "X_todos = df_final9[features+featuresd1+featuresd2+featuresd3]\n",
    "y_todos = df_final9['Fechamento']  \n",
    "\n",
    "    \n",
    "#Repete os experimentos 30x\n",
    "for i in range(30):\n",
    "    \n",
    "    #Holdout:\n",
    "    X_train, X_test, y_train, y_test = train_test_split(X, y, test_size=0.3, random_state=i, stratify=y)\n",
    "        \n",
    "    #Validação cruzada com 10 kfolds\n",
    "    kfold = KFold(n_splits = 10, shuffle = True, random_state = i)\n",
    "    \n",
    "    print(\"Fazendo gridsearch - Repeticao %s\" % (i+1))\n",
    "    \n",
    "    gs = GridSearchCV(\n",
    "        XGBClassifier(random_state=i) ,\n",
    "        param_grid={\"max_depth\": [-1,10,20,50],  #-1 is no limit\n",
    "                    \"learning_rate\": [0.1,0.5,0.8], #0.1 is standard\n",
    "                    \"n_estimators\": [70,100,150,200] ## 100 is standard\n",
    "                    }, \n",
    "        scoring=scoring,\n",
    "        refit=\"bacuracy\",\n",
    "        n_jobs=2,\n",
    "        return_train_score=True,\n",
    "        cv = kfold\n",
    "            )\n",
    "        \n",
    "    #Treinando o modelo com dados de treino c/ 9 folds e utilizando 1 fold para teste\n",
    "    gs.fit(X_train, y_train)\n",
    "    \n",
    "    #Melhores resultados e hiperparâmetros encontrados\n",
    "    acuracy_treino = gs.best_score_\n",
    "    hyperparams = gs.best_params_\n",
    "    \n",
    "    ##Predizendo as classes nos dados de teste e todos dados, utilizando os melhores parâmetros\n",
    "    y_test_pred = gs.predict(X_test)\n",
    "    #y_test_pred_todos = gs.predict(X_todos)\n",
    "        \n",
    "    #Calculando acurácia \n",
    "    accuracy_teste = accuracy_score(y_test, y_test_pred)\n",
    "    #accuracy_todos = accuracy_score(y_todos, y_test_pred_todos)\n",
    "        \n",
    "    #calculando f1_score da classe 1\n",
    "    f1_teste = f1_score(y_test, y_test_pred)\n",
    "    #f1_todos = f1_score(y_todos, y_test_pred_todos)\n",
    "    \n",
    "    #calculando área sobre a curva ROC_AUC:\n",
    "    auc_teste = roc_auc_score(y_test, y_test_pred)\n",
    "    #auc_todos = roc_auc_score(y_todos, y_test_pred_todos)\n",
    "        \n",
    "    #Calculando Recall clase 1\n",
    "    rec0_teste = recall_score(y_test, y_test_pred, pos_label=0)\n",
    "    rec1_teste = recall_score(y_test, y_test_pred, pos_label=1)\n",
    "    \n",
    "    #rec0_todos = recall_score(y_todos, y_test_pred_todos, pos_label=0)\n",
    "    #rec1_todos = recall_score(y_todos, y_test_pred_todos, pos_label=1)\n",
    "    \n",
    "    #Calculando a acurácia balanceada\n",
    "    accuracy_teste_balanced = balanced_accuracy_score(y_test, y_test_pred)\n",
    "    \n",
    "    # Adicionando todos resultados em uma única lista\n",
    "    resultados.append(np.array([i,hyperparams['max_depth'],hyperparams['learning_rate'],hyperparams['n_estimators'],acuracy_treino,accuracy_teste,accuracy_teste_balanced,rec0_teste,rec1_teste,f1_teste,auc_teste]))"
   ]
  },
  {
   "cell_type": "code",
   "execution_count": null,
   "metadata": {
    "id": "h2QUpJYOtxBw"
   },
   "outputs": [],
   "source": [
    "pd.set_option('display.precision',4)"
   ]
  },
  {
   "cell_type": "code",
   "execution_count": null,
   "metadata": {
    "id": "v36G9W2KtxBw"
   },
   "outputs": [],
   "source": [
    "pd.reset_option('^display.',silent=True)"
   ]
  },
  {
   "cell_type": "code",
   "execution_count": null,
   "metadata": {
    "id": "1kH9O_wEtxBw"
   },
   "outputs": [],
   "source": [
    "#transformando os resultados para dataframe e ordenando por recall da classe 0:\n",
    "resultados = pd.DataFrame(np.array(resultados), columns=['repeticao','max_depth','learning_rate','n_estimators','acuracy_treino','acuracia_teste','acuracia_balanceada_teste','rec_0_teste','rec_1_teste','f1_teste','auc_teste'])\n",
    "resultados.sort_values(by = 'auc_teste', ascending = False)"
   ]
  },
  {
   "cell_type": "markdown",
   "metadata": {
    "id": "uWENCzyqtxBw"
   },
   "source": [
    "Hiperparâmetros\n",
    "\n",
    "- max_depth <=10\n",
    "- learning_rate entre 0.5 e 0.1\n",
    "- n_estimators >70 e <150 (próximo a 100)"
   ]
  },
  {
   "cell_type": "code",
   "execution_count": null,
   "metadata": {
    "id": "8xGiBMzWtxBx"
   },
   "outputs": [],
   "source": [
    "resultados = []\n",
    "\n",
    "#Definição dos dados\n",
    "X_todos = df_final9[features+featuresd1+featuresd2+featuresd3]\n",
    "y_todos = df_final9['Fechamento']  \n",
    "\n",
    "    \n",
    "#Repete os experimentos 30x\n",
    "for i in range(30):\n",
    "    \n",
    "    #Holdout:\n",
    "    X_train, X_test, y_train, y_test = train_test_split(X, y, test_size=0.3, random_state=i, stratify=y)\n",
    "        \n",
    "    #Validação cruzada com 10 kfolds\n",
    "    kfold = KFold(n_splits = 10, shuffle = True, random_state = i)\n",
    "    \n",
    "    print(\"Fazendo gridsearch - Repeticao %s\" % (i+1))\n",
    "    \n",
    "    gs = GridSearchCV(\n",
    "        XGBClassifier(random_state=i) ,\n",
    "        param_grid={\"max_depth\": [-1,2,4,6,8,10],  #-1 is no limit\n",
    "                    \"learning_rate\": [0.1,0.2,0.3,0.4,0.5], #0.1 is standard\n",
    "                    \"n_estimators\": [80,90,100,110,120,130] ## 100 is standard\n",
    "                    }, \n",
    "        scoring=scoring,\n",
    "        refit=\"bacuracy\",\n",
    "        n_jobs=2,\n",
    "        return_train_score=True,\n",
    "        cv = kfold\n",
    "            )\n",
    "        \n",
    "    #Treinando o modelo com dados de treino c/ 9 folds e utilizando 1 fold para teste\n",
    "    gs.fit(X_train, y_train)\n",
    "    \n",
    "    #Melhores resultados e hiperparâmetros encontrados\n",
    "    acuracy_treino = gs.best_score_\n",
    "    hyperparams = gs.best_params_\n",
    "    \n",
    "    ##Predizendo as classes nos dados de teste e todos dados, utilizando os melhores parâmetros\n",
    "    y_test_pred = gs.predict(X_test)\n",
    "    #y_test_pred_todos = gs.predict(X_todos)\n",
    "        \n",
    "    #Calculando acurácia \n",
    "    accuracy_teste = accuracy_score(y_test, y_test_pred)\n",
    "    #accuracy_todos = accuracy_score(y_todos, y_test_pred_todos)\n",
    "        \n",
    "    #calculando f1_score da classe 1\n",
    "    f1_teste = f1_score(y_test, y_test_pred)\n",
    "    #f1_todos = f1_score(y_todos, y_test_pred_todos)\n",
    "    \n",
    "    #calculando área sobre a curva ROC_AUC:\n",
    "    auc_teste = roc_auc_score(y_test, y_test_pred)\n",
    "    #auc_todos = roc_auc_score(y_todos, y_test_pred_todos)\n",
    "        \n",
    "    #Calculando Recall clase 1\n",
    "    rec0_teste = recall_score(y_test, y_test_pred, pos_label=0)\n",
    "    rec1_teste = recall_score(y_test, y_test_pred, pos_label=1)\n",
    "    \n",
    "    #rec0_todos = recall_score(y_todos, y_test_pred_todos, pos_label=0)\n",
    "    #rec1_todos = recall_score(y_todos, y_test_pred_todos, pos_label=1)\n",
    "    \n",
    "    #Calculando a acurácia balanceada\n",
    "    accuracy_teste_balanced = balanced_accuracy_score(y_test, y_test_pred)\n",
    "    \n",
    "    # Adicionando todos resultados em uma única lista\n",
    "    resultados.append(np.array([i,hyperparams['max_depth'],hyperparams['learning_rate'],hyperparams['n_estimators'],acuracy_treino,accuracy_teste,accuracy_teste_balanced,rec0_teste,rec1_teste,f1_teste,auc_teste]))"
   ]
  },
  {
   "cell_type": "code",
   "execution_count": null,
   "metadata": {
    "id": "FSyOIipetxBx"
   },
   "outputs": [],
   "source": [
    "#transformando os resultados para dataframe e ordenando por recall da classe 0:\n",
    "resultados = pd.DataFrame(np.array(resultados), columns=['repeticao','max_depth','learning_rate','n_estimators','acuracy_treino','acuracia_teste','acuracia_balanceada_teste','rec_0_teste','rec_1_teste','f1_teste','auc_teste'])\n",
    "resultados.sort_values(by = 'auc_teste', ascending = False)"
   ]
  },
  {
   "cell_type": "code",
   "execution_count": null,
   "metadata": {
    "id": "EzlR46qKtxBx"
   },
   "outputs": [],
   "source": [
    "Hiperparâmetros\n",
    "\n",
    "- max_depth >=2 e <=5\n",
    "- learning_rate entre 0.4 e 0.3\n",
    "- n_estimators >=90 e <=120 "
   ]
  },
  {
   "cell_type": "code",
   "execution_count": null,
   "metadata": {
    "id": "x-T3rhjRtxBx"
   },
   "outputs": [],
   "source": [
    "resultados = []\n",
    "\n",
    "#Definição dos dados\n",
    "X_todos = df_final9[features+featuresd1+featuresd2+featuresd3]\n",
    "y_todos = df_final9['Fechamento']  \n",
    "\n",
    "    \n",
    "#Repete os experimentos 30x\n",
    "for i in range(30):\n",
    "    \n",
    "    #Holdout:\n",
    "    X_train, X_test, y_train, y_test = train_test_split(X, y, test_size=0.3, random_state=i, stratify=y)\n",
    "        \n",
    "    #Validação cruzada com 10 kfolds\n",
    "    kfold = KFold(n_splits = 10, shuffle = True, random_state = i)\n",
    "    \n",
    "    print(\"Fazendo gridsearch - Repeticao %s\" % (i+1))\n",
    "    \n",
    "    gs = GridSearchCV(\n",
    "        XGBClassifier(random_state=i) ,\n",
    "        param_grid={\"max_depth\": [2,3,4,5],  \n",
    "                    \"learning_rate\": [0.3,0.35,0.4], #0.1 is standard\n",
    "                    \"n_estimators\": [90,95,100,105,110,115,120] ## 100 is standard\n",
    "                    }, \n",
    "        scoring=scoring,\n",
    "        refit=\"bacuracy\",\n",
    "        n_jobs=2,\n",
    "        return_train_score=True,\n",
    "        cv = kfold\n",
    "            )\n",
    "        \n",
    "    #Treinando o modelo com dados de treino c/ 9 folds e utilizando 1 fold para teste\n",
    "    gs.fit(X_train, y_train)\n",
    "    \n",
    "    #Melhores resultados e hiperparâmetros encontrados\n",
    "    acuracy_treino = gs.best_score_\n",
    "    hyperparams = gs.best_params_\n",
    "    \n",
    "    ##Predizendo as classes nos dados de teste e todos dados, utilizando os melhores parâmetros\n",
    "    y_test_pred = gs.predict(X_test)\n",
    "    #y_test_pred_todos = gs.predict(X_todos)\n",
    "        \n",
    "    #Calculando acurácia \n",
    "    accuracy_teste = accuracy_score(y_test, y_test_pred)\n",
    "    #accuracy_todos = accuracy_score(y_todos, y_test_pred_todos)\n",
    "        \n",
    "    #calculando f1_score da classe 1\n",
    "    f1_teste = f1_score(y_test, y_test_pred)\n",
    "    #f1_todos = f1_score(y_todos, y_test_pred_todos)\n",
    "    \n",
    "    #calculando área sobre a curva ROC_AUC:\n",
    "    auc_teste = roc_auc_score(y_test, y_test_pred)\n",
    "    #auc_todos = roc_auc_score(y_todos, y_test_pred_todos)\n",
    "        \n",
    "    #Calculando Recall clase 1\n",
    "    rec0_teste = recall_score(y_test, y_test_pred, pos_label=0)\n",
    "    rec1_teste = recall_score(y_test, y_test_pred, pos_label=1)\n",
    "    \n",
    "    #rec0_todos = recall_score(y_todos, y_test_pred_todos, pos_label=0)\n",
    "    #rec1_todos = recall_score(y_todos, y_test_pred_todos, pos_label=1)\n",
    "    \n",
    "    #Calculando a acurácia balanceada\n",
    "    accuracy_teste_balanced = balanced_accuracy_score(y_test, y_test_pred)\n",
    "    \n",
    "    # Adicionando todos resultados em uma única lista\n",
    "    resultados.append(np.array([i,hyperparams['max_depth'],hyperparams['learning_rate'],hyperparams['n_estimators'],acuracy_treino,accuracy_teste,accuracy_teste_balanced,rec0_teste,rec1_teste,f1_teste,auc_teste]))"
   ]
  },
  {
   "cell_type": "code",
   "execution_count": null,
   "metadata": {
    "id": "lVRNpc9UtxBx"
   },
   "outputs": [],
   "source": [
    "#transformando os resultados para dataframe e ordenando por recall da classe 0:\n",
    "resultados = pd.DataFrame(np.array(resultados), columns=['repeticao','max_depth','learning_rate','n_estimators','acuracy_treino','acuracia_teste','acuracia_balanceada_teste','rec_0_teste','rec_1_teste','f1_teste','auc_teste'])\n",
    "resultados.sort_values(by = 'auc_teste', ascending = False)"
   ]
  },
  {
   "cell_type": "markdown",
   "metadata": {
    "id": "CIYePHrFtxBx"
   },
   "source": [
    "Hiperparâmetros\n",
    "\n",
    "- max_depth = 4\n",
    "- learning_rate = 0.4\n",
    "- n_estimators entre >=80 e <=90 ou >= 95 e <=115"
   ]
  },
  {
   "cell_type": "code",
   "execution_count": null,
   "metadata": {
    "id": "-oOpDPgqtxBy"
   },
   "outputs": [],
   "source": [
    "resultados = []\n",
    "\n",
    "#Definição dos dados\n",
    "X_todos = df_final9[features+featuresd1+featuresd2+featuresd3]\n",
    "y_todos = df_final9['Fechamento']  \n",
    "\n",
    "    \n",
    "#Repete os experimentos 30x\n",
    "for i in range(30):\n",
    "    \n",
    "    #Holdout:\n",
    "    X_train, X_test, y_train, y_test = train_test_split(X, y, test_size=0.3, random_state=i, stratify=y)\n",
    "        \n",
    "    #Validação cruzada com 10 kfolds\n",
    "    kfold = KFold(n_splits = 10, shuffle = True, random_state = i)\n",
    "    \n",
    "    print(\"Fazendo gridsearch - Repeticao %s\" % (i+1))\n",
    "    \n",
    "    gs = GridSearchCV(\n",
    "        XGBClassifier(random_state=i) ,\n",
    "        param_grid={\"max_depth\": [4],  \n",
    "                    \"learning_rate\": [0.4], #0.1 is standard\n",
    "                    \"n_estimators\": [80,82,84,86,88,90,92,94,95,96,98,100,102,104,106,108,110,112,114,115] ## 100 is standard\n",
    "                    }, \n",
    "        scoring=scoring,\n",
    "        refit=\"bacuracy\",\n",
    "        n_jobs=2,\n",
    "        return_train_score=True,\n",
    "        cv = kfold\n",
    "            )\n",
    "        \n",
    "    #Treinando o modelo com dados de treino c/ 9 folds e utilizando 1 fold para teste\n",
    "    gs.fit(X_train, y_train)\n",
    "    \n",
    "    #Melhores resultados e hiperparâmetros encontrados\n",
    "    acuracy_treino = gs.best_score_\n",
    "    hyperparams = gs.best_params_\n",
    "    \n",
    "    ##Predizendo as classes nos dados de teste e todos dados, utilizando os melhores parâmetros\n",
    "    y_test_pred = gs.predict(X_test)\n",
    "    #y_test_pred_todos = gs.predict(X_todos)\n",
    "        \n",
    "    #Calculando acurácia \n",
    "    accuracy_teste = accuracy_score(y_test, y_test_pred)\n",
    "    #accuracy_todos = accuracy_score(y_todos, y_test_pred_todos)\n",
    "        \n",
    "    #calculando f1_score da classe 1\n",
    "    f1_teste = f1_score(y_test, y_test_pred)\n",
    "    #f1_todos = f1_score(y_todos, y_test_pred_todos)\n",
    "    \n",
    "    #calculando área sobre a curva ROC_AUC:\n",
    "    auc_teste = roc_auc_score(y_test, y_test_pred)\n",
    "    #auc_todos = roc_auc_score(y_todos, y_test_pred_todos)\n",
    "        \n",
    "    #Calculando Recall clase 1\n",
    "    rec0_teste = recall_score(y_test, y_test_pred, pos_label=0)\n",
    "    rec1_teste = recall_score(y_test, y_test_pred, pos_label=1)\n",
    "    \n",
    "    #rec0_todos = recall_score(y_todos, y_test_pred_todos, pos_label=0)\n",
    "    #rec1_todos = recall_score(y_todos, y_test_pred_todos, pos_label=1)\n",
    "    \n",
    "    #Calculando a acurácia balanceada\n",
    "    accuracy_teste_balanced = balanced_accuracy_score(y_test, y_test_pred)\n",
    "    \n",
    "    # Adicionando todos resultados em uma única lista\n",
    "    resultados.append(np.array([i,hyperparams['max_depth'],hyperparams['learning_rate'],hyperparams['n_estimators'],acuracy_treino,accuracy_teste,accuracy_teste_balanced,rec0_teste,rec1_teste,f1_teste,auc_teste]))"
   ]
  },
  {
   "cell_type": "code",
   "execution_count": null,
   "metadata": {
    "id": "7B4x76fdtxBy"
   },
   "outputs": [],
   "source": [
    "#transformando os resultados para dataframe e ordenando por recall da classe 0:\n",
    "resultados = pd.DataFrame(np.array(resultados), columns=['repeticao','max_depth','learning_rate','n_estimators','acuracy_treino','acuracia_teste','acuracia_balanceada_teste','rec_0_teste','rec_1_teste','f1_teste','auc_teste'])\n",
    "resultados.sort_values(by = 'auc_teste', ascending = False)"
   ]
  },
  {
   "cell_type": "markdown",
   "metadata": {
    "id": "0TEK8TmNtxBy"
   },
   "source": [
    "Hiperparâmetros\n",
    "\n",
    "- max_depth = 4\n",
    "- learning_rate = 0.4\n",
    "- n_estimators >=115\n"
   ]
  },
  {
   "cell_type": "code",
   "execution_count": null,
   "metadata": {
    "id": "2gDM2W4KtxBy"
   },
   "outputs": [],
   "source": [
    "resultados = []\n",
    "\n",
    "#Definição dos dados\n",
    "X_todos = df_final9[features+featuresd1+featuresd2+featuresd3]\n",
    "y_todos = df_final9['Fechamento']  \n",
    "\n",
    "    \n",
    "#Repete os experimentos 30x\n",
    "for i in range(30):\n",
    "    \n",
    "    #Holdout:\n",
    "    X_train, X_test, y_train, y_test = train_test_split(X, y, test_size=0.3, random_state=i, stratify=y)\n",
    "        \n",
    "    #Validação cruzada com 10 kfolds\n",
    "    kfold = KFold(n_splits = 10, shuffle = True, random_state = i)\n",
    "    \n",
    "    print(\"Fazendo gridsearch - Repeticao %s\" % (i+1))\n",
    "    \n",
    "    gs = GridSearchCV(\n",
    "        XGBClassifier(random_state=i) ,\n",
    "        param_grid={\"max_depth\": [4],  \n",
    "                    \"learning_rate\": [0.4], #0.1 is standard\n",
    "                    \"n_estimators\": range(115,131,1) ## 100 is standard\n",
    "                    }, \n",
    "        scoring=scoring,\n",
    "        refit=\"bacuracy\",\n",
    "        n_jobs=2,\n",
    "        return_train_score=True,\n",
    "        cv = kfold\n",
    "            )\n",
    "        \n",
    "    #Treinando o modelo com dados de treino c/ 9 folds e utilizando 1 fold para teste\n",
    "    gs.fit(X_train, y_train)\n",
    "    \n",
    "    #Melhores resultados e hiperparâmetros encontrados\n",
    "    acuracy_treino = gs.best_score_\n",
    "    hyperparams = gs.best_params_\n",
    "    \n",
    "    ##Predizendo as classes nos dados de teste e todos dados, utilizando os melhores parâmetros\n",
    "    y_test_pred = gs.predict(X_test)\n",
    "    #y_test_pred_todos = gs.predict(X_todos)\n",
    "        \n",
    "    #Calculando acurácia \n",
    "    accuracy_teste = accuracy_score(y_test, y_test_pred)\n",
    "    #accuracy_todos = accuracy_score(y_todos, y_test_pred_todos)\n",
    "        \n",
    "    #calculando f1_score da classe 1\n",
    "    f1_teste = f1_score(y_test, y_test_pred)\n",
    "    #f1_todos = f1_score(y_todos, y_test_pred_todos)\n",
    "    \n",
    "    #calculando área sobre a curva ROC_AUC:\n",
    "    auc_teste = roc_auc_score(y_test, y_test_pred)\n",
    "    #auc_todos = roc_auc_score(y_todos, y_test_pred_todos)\n",
    "        \n",
    "    #Calculando Recall clase 1\n",
    "    rec0_teste = recall_score(y_test, y_test_pred, pos_label=0)\n",
    "    rec1_teste = recall_score(y_test, y_test_pred, pos_label=1)\n",
    "    \n",
    "    #rec0_todos = recall_score(y_todos, y_test_pred_todos, pos_label=0)\n",
    "    #rec1_todos = recall_score(y_todos, y_test_pred_todos, pos_label=1)\n",
    "    \n",
    "    #Calculando a acurácia balanceada\n",
    "    accuracy_teste_balanced = balanced_accuracy_score(y_test, y_test_pred)\n",
    "    \n",
    "    # Adicionando todos resultados em uma única lista\n",
    "    resultados.append(np.array([i,hyperparams['max_depth'],hyperparams['learning_rate'],hyperparams['n_estimators'],acuracy_treino,accuracy_teste,accuracy_teste_balanced,rec0_teste,rec1_teste,f1_teste,auc_teste]))"
   ]
  },
  {
   "cell_type": "code",
   "execution_count": null,
   "metadata": {
    "id": "S5BxzwbntxBy"
   },
   "outputs": [],
   "source": [
    "#transformando os resultados para dataframe e ordenando por recall da classe 0:\n",
    "resultados = pd.DataFrame(np.array(resultados), columns=['repeticao','max_depth','learning_rate','n_estimators','acuracy_treino','acuracia_teste','acuracia_balanceada_teste','rec_0_teste','rec_1_teste','f1_teste','auc_teste'])\n",
    "resultados.sort_values(by = 'auc_teste', ascending = False)"
   ]
  },
  {
   "cell_type": "markdown",
   "metadata": {
    "id": "pzsWUqXGtxBy"
   },
   "source": [
    "Hiperparâmetros\n",
    "\n",
    "- max_depth = 4\n",
    "- learning_rate = 0.4\n",
    "- n_estimators = 115\n",
    "\n",
    "Durante a procura por hyperparâmetros outro modelo se destacou com n_estimator = 120, vamos armazená-lo também para verificar qual possui maior desempenho posteriormente\n"
   ]
  },
  {
   "cell_type": "code",
   "execution_count": null,
   "metadata": {
    "id": "jW8-aJBTtxBz"
   },
   "outputs": [],
   "source": [
    "\n",
    "X = df_final9[features+featuresd1+featuresd2+featuresd3]\n",
    "y = df_final9['Fechamento'] \n",
    "\n",
    "X_train, X_test, y_train, y_test = train_test_split(X, y, test_size=0.3, random_state=29, stratify=y)\n",
    "\n",
    "xgb = XGBClassifier(random_state=29, max_depth = 4, learning_rate = 0.4, n_estimators = 115)\n",
    "xgb.fit(X_train,y_train)\n",
    "\n",
    "xgb_2 = XGBClassifier(random_state=29, max_depth = 4, learning_rate = 0.4, n_estimators = 120)  ##Modelo2\n",
    "xgb_2.fit(X_train,y_train)"
   ]
  },
  {
   "cell_type": "code",
   "execution_count": null,
   "metadata": {
    "id": "8hZVTphCtxBz"
   },
   "outputs": [],
   "source": [
    "#Predizendo y\n",
    "y_pred = xgb.predict(X_test)\n",
    "\n",
    "#Relatórios e matriz de confusao\n",
    "print(\"Classification Report Dados:\\n\",classification_report(y_test,y_pred))\n",
    "print(\"\")\n",
    "print(\"Confusion Matrix Dados de Producao:\\n\",confusion_matrix(y_test,y_pred))\n",
    "print(\"\")"
   ]
  },
  {
   "cell_type": "code",
   "execution_count": null,
   "metadata": {
    "id": "NwtqfaVitxBz"
   },
   "outputs": [],
   "source": [
    "#Calculando o recall\n",
    "recall_0 = recall_score(y_test, y_pred, pos_label=0)\n",
    "recall_1 = recall_score(y_test, y_pred, pos_label=1)\n",
    "\n",
    "#Calculando acurácia \n",
    "accuracy = accuracy_score(y_test, y_pred)\n",
    "\n",
    "#Calculando acurácia balanceada\n",
    "accuracy_balanced = balanced_accuracy_score(y_test, y_pred)\n",
    "\n",
    "#calculando f1_score\n",
    "f1_0 = f1_score(y_test, y_pred,pos_label=0)\n",
    "f1_1 = f1_score(y_test, y_pred,pos_label=1)\n",
    "\n",
    "#Calculando AUC\n",
    "auc = roc_auc_score(y_test, y_pred)\n",
    "\n",
    "print(\"Desempenho modelo 1\")\n",
    "print(\"Recall_0: %s\" % (recall_0))\n",
    "print(\"Recall_1: %s\" % (recall_1))\n",
    "print(\"Acuracia: %s\" % (accuracy))\n",
    "print(\"Acuracia Balanceada: %s\" % (accuracy_balanced))\n",
    "print(\"F1_Score_0: %s\" % (f1_0))\n",
    "print(\"F1_Score_1: %s\" % (f1_1))\n",
    "print(\"AUC: %s\" % (auc))\n"
   ]
  },
  {
   "cell_type": "code",
   "execution_count": null,
   "metadata": {
    "id": "mdvV7VdRtxBz"
   },
   "outputs": [],
   "source": [
    "#Predizendo y\n",
    "y_pred = xgb_2.predict(X_test)\n",
    "#Calculando o recall\n",
    "recall_0 = recall_score(y_test, y_pred, pos_label=0)\n",
    "recall_1 = recall_score(y_test, y_pred, pos_label=1)\n",
    "\n",
    "#Calculando acurácia \n",
    "accuracy = accuracy_score(y_test, y_pred)\n",
    "\n",
    "#Calculando acurácia balanceada\n",
    "accuracy_balanced = balanced_accuracy_score(y_test, y_pred)\n",
    "\n",
    "#calculando f1_score\n",
    "f1_0 = f1_score(y_test, y_pred,pos_label=0)\n",
    "f1_1 = f1_score(y_test, y_pred,pos_label=1)\n",
    "\n",
    "#Calculando AUC\n",
    "auc = roc_auc_score(y_test, y_pred)\n",
    "\n",
    "print(\"Desempenho modelo 2\")\n",
    "print(\"Recall_0: %s\" % (recall_0))\n",
    "print(\"Recall_1: %s\" % (recall_1))\n",
    "print(\"Acuracia: %s\" % (accuracy))\n",
    "print(\"Acuracia Balanceada: %s\" % (accuracy_balanced))\n",
    "print(\"F1_Score_0: %s\" % (f1_0))\n",
    "print(\"F1_Score_1: %s\" % (f1_1))\n",
    "print(\"AUC: %s\" % (auc))\n"
   ]
  },
  {
   "cell_type": "markdown",
   "metadata": {
    "id": "kI0uCb6ttxBz"
   },
   "source": [
    "## 8.10 SGDClassifier;"
   ]
  },
  {
   "cell_type": "code",
   "execution_count": null,
   "metadata": {
    "id": "Z3SuPRugtxBz"
   },
   "outputs": [],
   "source": [
    "from sklearn.linear_model import SGDClassifier"
   ]
  },
  {
   "cell_type": "code",
   "execution_count": null,
   "metadata": {
    "id": "XacPEppGtxBz"
   },
   "outputs": [],
   "source": [
    "acuracia_dados = make_scorer(accuracy_score)\n",
    "f1_dados = make_scorer(f1_score)\n",
    "balanced_acc_dados = make_scorer(balanced_accuracy_score)\n",
    "scoring = {\"accuracy\": acuracia_dados, \"f1\":f1_dados, \"bacuracy\":balanced_acc_dados}"
   ]
  },
  {
   "cell_type": "code",
   "execution_count": null,
   "metadata": {
    "id": "4nlpQM3CtxBz"
   },
   "outputs": [],
   "source": [
    "resultados = []\n",
    "\n",
    "#Definição dos dados\n",
    "X_todos = df_final9[features+featuresd1+featuresd2+featuresd3]\n",
    "y_todos = df_final9['Fechamento']  \n",
    "\n",
    "    \n",
    "#Repete os experimentos 30x\n",
    "for i in range(30):\n",
    "    \n",
    "    #Holdout:\n",
    "    X_train, X_test, y_train, y_test = train_test_split(X, y, test_size=0.3, random_state=i, stratify=y)\n",
    "        \n",
    "    #Validação cruzada com 10 kfolds\n",
    "    kfold = KFold(n_splits = 10, shuffle = True, random_state = i)\n",
    "    \n",
    "    print(\"Fazendo gridsearch - Repeticao %s\" % (i+1))\n",
    "    \n",
    "    gs = GridSearchCV(\n",
    "        SGDClassifier(random_state=i) ,\n",
    "        param_grid={\"loss\": ['hinge', 'log', 'modified_huber', 'squared_hinge', 'perceptron', 'huber', 'epsilon_insensitive', 'squared_epsilon_insensitive'],   #Hinge is default, modified huber é robusto a outliers\n",
    "                    \"max_iter\": [500,800,900,1000,1100,1200,1500], #1000 is default\n",
    "                    \"learning_rate\": ['optimal']\n",
    "                    }, \n",
    "        scoring=scoring,\n",
    "        refit=\"bacuracy\",\n",
    "        n_jobs=2,\n",
    "        return_train_score=True,\n",
    "        cv = kfold\n",
    "            )\n",
    "        \n",
    "    #Treinando o modelo com dados de treino c/ 9 folds e utilizando 1 fold para teste\n",
    "    gs.fit(X_train, y_train)\n",
    "    \n",
    "    #Melhores resultados e hiperparâmetros encontrados\n",
    "    acuracy_treino = gs.best_score_\n",
    "    hyperparams = gs.best_params_\n",
    "    \n",
    "    ##Predizendo as classes nos dados de teste e todos dados, utilizando os melhores parâmetros\n",
    "    y_test_pred = gs.predict(X_test)\n",
    "    #y_test_pred_todos = gs.predict(X_todos)\n",
    "        \n",
    "    #Calculando acurácia \n",
    "    accuracy_teste = accuracy_score(y_test, y_test_pred)\n",
    "    #accuracy_todos = accuracy_score(y_todos, y_test_pred_todos)\n",
    "        \n",
    "    #calculando f1_score da classe 1\n",
    "    f1_teste = f1_score(y_test, y_test_pred)\n",
    "    #f1_todos = f1_score(y_todos, y_test_pred_todos)\n",
    "    \n",
    "    #calculando área sobre a curva ROC_AUC:\n",
    "    auc_teste = roc_auc_score(y_test, y_test_pred)\n",
    "    #auc_todos = roc_auc_score(y_todos, y_test_pred_todos)\n",
    "        \n",
    "    #Calculando Recall clase 1\n",
    "    rec0_teste = recall_score(y_test, y_test_pred, pos_label=0)\n",
    "    rec1_teste = recall_score(y_test, y_test_pred, pos_label=1)\n",
    "    \n",
    "    #rec0_todos = recall_score(y_todos, y_test_pred_todos, pos_label=0)\n",
    "    #rec1_todos = recall_score(y_todos, y_test_pred_todos, pos_label=1)\n",
    "    \n",
    "    #Calculando a acurácia balanceada\n",
    "    accuracy_teste_balanced = balanced_accuracy_score(y_test, y_test_pred)\n",
    "    \n",
    "    # Adicionando todos resultados em uma única lista\n",
    "    resultados.append(np.array([i,hyperparams['loss'],hyperparams['max_iter'],hyperparams['learning_rate'],acuracy_treino,accuracy_teste,accuracy_teste_balanced,rec0_teste,rec1_teste,f1_teste,auc_teste]))"
   ]
  },
  {
   "cell_type": "code",
   "execution_count": null,
   "metadata": {
    "id": "Ui-6MoPltxB0"
   },
   "outputs": [],
   "source": [
    "#transformando os resultados para dataframe e ordenando por recall da classe 0:\n",
    "resultados = pd.DataFrame(np.array(resultados), columns=['repeticao','loss','max_iter','learning_rate','acuracy_treino','acuracia_teste','acuracia_balanceada_teste','rec_0_teste','rec_1_teste','f1_teste','auc_teste'])\n",
    "resultados.sort_values(by = 'auc_teste', ascending = False)"
   ]
  },
  {
   "cell_type": "markdown",
   "metadata": {
    "id": "qIhN6_BdtxB0"
   },
   "source": [
    "Hiperparâmetros\n",
    "\n",
    "- loss entre squared_epsilon_insensitive e hinge\n",
    "- max_iter <= 500\n",
    "- learning_rate = optimal"
   ]
  },
  {
   "cell_type": "code",
   "execution_count": null,
   "metadata": {
    "id": "c2pa0LnOtxB0"
   },
   "outputs": [],
   "source": [
    "resultados = []\n",
    "\n",
    "#Definição dos dados\n",
    "X_todos = df_final9[features+featuresd1+featuresd2+featuresd3]\n",
    "y_todos = df_final9['Fechamento']  \n",
    "\n",
    "    \n",
    "#Repete os experimentos 30x\n",
    "for i in range(30):\n",
    "    \n",
    "    #Holdout:\n",
    "    X_train, X_test, y_train, y_test = train_test_split(X, y, test_size=0.3, random_state=i, stratify=y)\n",
    "        \n",
    "    #Validação cruzada com 10 kfolds\n",
    "    kfold = KFold(n_splits = 10, shuffle = True, random_state = i)\n",
    "    \n",
    "    print(\"Fazendo gridsearch - Repeticao %s\" % (i+1))\n",
    "    \n",
    "    gs = GridSearchCV(\n",
    "        SGDClassifier(random_state=i) ,\n",
    "        param_grid={\"loss\": ['hinge','squared_epsilon_insensitive'],   #Hinge is default, modified huber é robusto a outliers\n",
    "                    \"max_iter\": [50,60,70,80,90,100,150,200,250,300,350,400,450,500], \n",
    "                    \"learning_rate\": ['optimal']\n",
    "                    }, \n",
    "        scoring=scoring,\n",
    "        refit=\"bacuracy\",\n",
    "        n_jobs=2,\n",
    "        return_train_score=True,\n",
    "        cv = kfold\n",
    "            )\n",
    "        \n",
    "    #Treinando o modelo com dados de treino c/ 9 folds e utilizando 1 fold para teste\n",
    "    gs.fit(X_train, y_train)\n",
    "    \n",
    "    #Melhores resultados e hiperparâmetros encontrados\n",
    "    acuracy_treino = gs.best_score_\n",
    "    hyperparams = gs.best_params_\n",
    "    \n",
    "    ##Predizendo as classes nos dados de teste e todos dados, utilizando os melhores parâmetros\n",
    "    y_test_pred = gs.predict(X_test)\n",
    "    #y_test_pred_todos = gs.predict(X_todos)\n",
    "        \n",
    "    #Calculando acurácia \n",
    "    accuracy_teste = accuracy_score(y_test, y_test_pred)\n",
    "    #accuracy_todos = accuracy_score(y_todos, y_test_pred_todos)\n",
    "        \n",
    "    #calculando f1_score da classe 1\n",
    "    f1_teste = f1_score(y_test, y_test_pred)\n",
    "    #f1_todos = f1_score(y_todos, y_test_pred_todos)\n",
    "    \n",
    "    #calculando área sobre a curva ROC_AUC:\n",
    "    auc_teste = roc_auc_score(y_test, y_test_pred)\n",
    "    #auc_todos = roc_auc_score(y_todos, y_test_pred_todos)\n",
    "        \n",
    "    #Calculando Recall clase 1\n",
    "    rec0_teste = recall_score(y_test, y_test_pred, pos_label=0)\n",
    "    rec1_teste = recall_score(y_test, y_test_pred, pos_label=1)\n",
    "    \n",
    "    #rec0_todos = recall_score(y_todos, y_test_pred_todos, pos_label=0)\n",
    "    #rec1_todos = recall_score(y_todos, y_test_pred_todos, pos_label=1)\n",
    "    \n",
    "    #Calculando a acurácia balanceada\n",
    "    accuracy_teste_balanced = balanced_accuracy_score(y_test, y_test_pred)\n",
    "    \n",
    "    # Adicionando todos resultados em uma única lista\n",
    "    resultados.append(np.array([i,hyperparams['loss'],hyperparams['max_iter'],hyperparams['learning_rate'],acuracy_treino,accuracy_teste,accuracy_teste_balanced,rec0_teste,rec1_teste,f1_teste,auc_teste]))"
   ]
  },
  {
   "cell_type": "code",
   "execution_count": null,
   "metadata": {
    "id": "-UObAf7RtxB0"
   },
   "outputs": [],
   "source": [
    "#transformando os resultados para dataframe e ordenando por recall da classe 0:\n",
    "resultados = pd.DataFrame(np.array(resultados), columns=['repeticao','loss','max_iter','learning_rate','acuracy_treino','acuracia_teste','acuracia_balanceada_teste','rec_0_teste','rec_1_teste','f1_teste','auc_teste'])\n",
    "resultados.sort_values(by = 'auc_teste', ascending = False)"
   ]
  },
  {
   "cell_type": "markdown",
   "metadata": {
    "id": "ZPpzHzlntxB0"
   },
   "source": [
    "Hiperparâmetros\n",
    "\n",
    "- loss = squared_epsilon_insensitive\n",
    "- max_iter <= 150\n",
    "- learning_rate = optimal"
   ]
  },
  {
   "cell_type": "code",
   "execution_count": null,
   "metadata": {
    "id": "V-9HgTOOtxB0"
   },
   "outputs": [],
   "source": [
    "resultados = []\n",
    "\n",
    "#Definição dos dados\n",
    "X_todos = df_final9[features+featuresd1+featuresd2+featuresd3]\n",
    "y_todos = df_final9['Fechamento']  \n",
    "\n",
    "    \n",
    "#Repete os experimentos 30x\n",
    "for i in range(30):\n",
    "    \n",
    "    #Holdout:\n",
    "    X_train, X_test, y_train, y_test = train_test_split(X, y, test_size=0.3, random_state=i, stratify=y)\n",
    "        \n",
    "    #Validação cruzada com 10 kfolds\n",
    "    kfold = KFold(n_splits = 10, shuffle = True, random_state = i)\n",
    "    \n",
    "    print(\"Fazendo gridsearch - Repeticao %s\" % (i+1))\n",
    "    \n",
    "    gs = GridSearchCV(\n",
    "        SGDClassifier(random_state=i) ,\n",
    "        param_grid={\"loss\": ['squared_epsilon_insensitive'],   #Hinge is default, modified huber é robusto a outliers\n",
    "                    \"max_iter\": range(5,155,5), \n",
    "                    \"learning_rate\": ['optimal']\n",
    "                    }, \n",
    "        scoring=scoring,\n",
    "        refit=\"bacuracy\",\n",
    "        n_jobs=2,\n",
    "        return_train_score=True,\n",
    "        cv = kfold\n",
    "            )\n",
    "        \n",
    "    #Treinando o modelo com dados de treino c/ 9 folds e utilizando 1 fold para teste\n",
    "    gs.fit(X_train, y_train)\n",
    "    \n",
    "    #Melhores resultados e hiperparâmetros encontrados\n",
    "    acuracy_treino = gs.best_score_\n",
    "    hyperparams = gs.best_params_\n",
    "    \n",
    "    ##Predizendo as classes nos dados de teste e todos dados, utilizando os melhores parâmetros\n",
    "    y_test_pred = gs.predict(X_test)\n",
    "    #y_test_pred_todos = gs.predict(X_todos)\n",
    "        \n",
    "    #Calculando acurácia \n",
    "    accuracy_teste = accuracy_score(y_test, y_test_pred)\n",
    "    #accuracy_todos = accuracy_score(y_todos, y_test_pred_todos)\n",
    "        \n",
    "    #calculando f1_score da classe 1\n",
    "    f1_teste = f1_score(y_test, y_test_pred)\n",
    "    #f1_todos = f1_score(y_todos, y_test_pred_todos)\n",
    "    \n",
    "    #calculando área sobre a curva ROC_AUC:\n",
    "    auc_teste = roc_auc_score(y_test, y_test_pred)\n",
    "    #auc_todos = roc_auc_score(y_todos, y_test_pred_todos)\n",
    "        \n",
    "    #Calculando Recall clase 1\n",
    "    rec0_teste = recall_score(y_test, y_test_pred, pos_label=0)\n",
    "    rec1_teste = recall_score(y_test, y_test_pred, pos_label=1)\n",
    "    \n",
    "    #rec0_todos = recall_score(y_todos, y_test_pred_todos, pos_label=0)\n",
    "    #rec1_todos = recall_score(y_todos, y_test_pred_todos, pos_label=1)\n",
    "    \n",
    "    #Calculando a acurácia balanceada\n",
    "    accuracy_teste_balanced = balanced_accuracy_score(y_test, y_test_pred)\n",
    "    \n",
    "    # Adicionando todos resultados em uma única lista\n",
    "    resultados.append(np.array([i,hyperparams['loss'],hyperparams['max_iter'],hyperparams['learning_rate'],acuracy_treino,accuracy_teste,accuracy_teste_balanced,rec0_teste,rec1_teste,f1_teste,auc_teste]))"
   ]
  },
  {
   "cell_type": "code",
   "execution_count": null,
   "metadata": {
    "id": "MCzeDvKttxB1"
   },
   "outputs": [],
   "source": [
    "#transformando os resultados para dataframe e ordenando por recall da classe 0:\n",
    "resultados = pd.DataFrame(np.array(resultados), columns=['repeticao','loss','max_iter','learning_rate','acuracy_treino','acuracia_teste','acuracia_balanceada_teste','rec_0_teste','rec_1_teste','f1_teste','auc_teste'])\n",
    "resultados.sort_values(by = 'auc_teste', ascending = False)"
   ]
  },
  {
   "cell_type": "markdown",
   "metadata": {
    "id": "KkpFADUgtxB1"
   },
   "source": [
    "A repetição 7 está inviesada sempre prioriza valores altos de max_iter, o primeiro registro de acurácia 63% pode ser ignorado!\n",
    "\n",
    "Hiperparâmetros\n",
    "\n",
    "- loss = squared_epsilon_insensitive\n",
    "- max_iter <= 80 e >=55\n",
    "- learning_rate = optimal"
   ]
  },
  {
   "cell_type": "code",
   "execution_count": null,
   "metadata": {
    "id": "hFo02SmUtxB1"
   },
   "outputs": [],
   "source": [
    "resultados = []\n",
    "\n",
    "#Definição dos dados\n",
    "X_todos = df_final9[features+featuresd1+featuresd2+featuresd3]\n",
    "y_todos = df_final9['Fechamento']  \n",
    "\n",
    "    \n",
    "#Repete os experimentos 30x\n",
    "for i in range(30):\n",
    "    \n",
    "    #Holdout:\n",
    "    X_train, X_test, y_train, y_test = train_test_split(X, y, test_size=0.3, random_state=i, stratify=y)\n",
    "        \n",
    "    #Validação cruzada com 10 kfolds\n",
    "    kfold = KFold(n_splits = 10, shuffle = True, random_state = i)\n",
    "    \n",
    "    print(\"Fazendo gridsearch - Repeticao %s\" % (i+1))\n",
    "    \n",
    "    gs = GridSearchCV(\n",
    "        SGDClassifier(random_state=i) ,\n",
    "        param_grid={\"loss\": ['squared_epsilon_insensitive'],   #Hinge is default, modified huber é robusto a outliers\n",
    "                    \"max_iter\": [55,60,65,70,75,80], \n",
    "                    \"learning_rate\": ['optimal']\n",
    "                    }, \n",
    "        scoring=scoring,\n",
    "        refit=\"bacuracy\",\n",
    "        n_jobs=2,\n",
    "        return_train_score=True,\n",
    "        cv = kfold\n",
    "            )\n",
    "        \n",
    "    #Treinando o modelo com dados de treino c/ 9 folds e utilizando 1 fold para teste\n",
    "    gs.fit(X_train, y_train)\n",
    "    \n",
    "    #Melhores resultados e hiperparâmetros encontrados\n",
    "    acuracy_treino = gs.best_score_\n",
    "    hyperparams = gs.best_params_\n",
    "    \n",
    "    ##Predizendo as classes nos dados de teste e todos dados, utilizando os melhores parâmetros\n",
    "    y_test_pred = gs.predict(X_test)\n",
    "    #y_test_pred_todos = gs.predict(X_todos)\n",
    "        \n",
    "    #Calculando acurácia \n",
    "    accuracy_teste = accuracy_score(y_test, y_test_pred)\n",
    "    #accuracy_todos = accuracy_score(y_todos, y_test_pred_todos)\n",
    "        \n",
    "    #calculando f1_score da classe 1\n",
    "    f1_teste = f1_score(y_test, y_test_pred)\n",
    "    #f1_todos = f1_score(y_todos, y_test_pred_todos)\n",
    "    \n",
    "    #calculando área sobre a curva ROC_AUC:\n",
    "    auc_teste = roc_auc_score(y_test, y_test_pred)\n",
    "    #auc_todos = roc_auc_score(y_todos, y_test_pred_todos)\n",
    "        \n",
    "    #Calculando Recall clase 1\n",
    "    rec0_teste = recall_score(y_test, y_test_pred, pos_label=0)\n",
    "    rec1_teste = recall_score(y_test, y_test_pred, pos_label=1)\n",
    "    \n",
    "    #rec0_todos = recall_score(y_todos, y_test_pred_todos, pos_label=0)\n",
    "    #rec1_todos = recall_score(y_todos, y_test_pred_todos, pos_label=1)\n",
    "    \n",
    "    #Calculando a acurácia balanceada\n",
    "    accuracy_teste_balanced = balanced_accuracy_score(y_test, y_test_pred)\n",
    "    \n",
    "    # Adicionando todos resultados em uma única lista\n",
    "    resultados.append(np.array([i,hyperparams['loss'],hyperparams['max_iter'],hyperparams['learning_rate'],acuracy_treino,accuracy_teste,accuracy_teste_balanced,rec0_teste,rec1_teste,f1_teste,auc_teste]))"
   ]
  },
  {
   "cell_type": "code",
   "execution_count": null,
   "metadata": {
    "id": "mN93gDVztxB1"
   },
   "outputs": [],
   "source": [
    "#transformando os resultados para dataframe e ordenando por recall da classe 0:\n",
    "resultados = pd.DataFrame(np.array(resultados), columns=['repeticao','loss','max_iter','learning_rate','acuracy_treino','acuracia_teste','acuracia_balanceada_teste','rec_0_teste','rec_1_teste','f1_teste','auc_teste'])\n",
    "resultados.sort_values(by = 'auc_teste', ascending = False)"
   ]
  },
  {
   "cell_type": "markdown",
   "metadata": {
    "id": "4JrHTdYwtxB1"
   },
   "source": [
    "Hiperparâmetros\n",
    "\n",
    "- loss = squared_epsilon_insensitive\n",
    "- max_iter <= 80 e >=70\n",
    "- learning_rate = optimal"
   ]
  },
  {
   "cell_type": "code",
   "execution_count": null,
   "metadata": {
    "id": "SQz6ORj-txB1"
   },
   "outputs": [],
   "source": [
    "resultados = []\n",
    "\n",
    "#Definição dos dados\n",
    "X_todos = df_final9[features+featuresd1+featuresd2+featuresd3]\n",
    "y_todos = df_final9['Fechamento']  \n",
    "\n",
    "    \n",
    "#Repete os experimentos 30x\n",
    "for i in range(30):\n",
    "    \n",
    "    #Holdout:\n",
    "    X_train, X_test, y_train, y_test = train_test_split(X, y, test_size=0.3, random_state=i, stratify=y)\n",
    "        \n",
    "    #Validação cruzada com 10 kfolds\n",
    "    kfold = KFold(n_splits = 10, shuffle = True, random_state = i)\n",
    "    \n",
    "    print(\"Fazendo gridsearch - Repeticao %s\" % (i+1))\n",
    "    \n",
    "    gs = GridSearchCV(\n",
    "        SGDClassifier(random_state=i) ,\n",
    "        param_grid={\"loss\": ['squared_epsilon_insensitive'],   #Hinge is default, modified huber é robusto a outliers\n",
    "                    \"max_iter\": [70,72,74,76,78,80], \n",
    "                    \"learning_rate\": ['optimal']\n",
    "                    }, \n",
    "        scoring=scoring,\n",
    "        refit=\"bacuracy\",\n",
    "        n_jobs=2,\n",
    "        return_train_score=True,\n",
    "        cv = kfold\n",
    "            )\n",
    "        \n",
    "    #Treinando o modelo com dados de treino c/ 9 folds e utilizando 1 fold para teste\n",
    "    gs.fit(X_train, y_train)\n",
    "    \n",
    "    #Melhores resultados e hiperparâmetros encontrados\n",
    "    acuracy_treino = gs.best_score_\n",
    "    hyperparams = gs.best_params_\n",
    "    \n",
    "    ##Predizendo as classes nos dados de teste e todos dados, utilizando os melhores parâmetros\n",
    "    y_test_pred = gs.predict(X_test)\n",
    "    #y_test_pred_todos = gs.predict(X_todos)\n",
    "        \n",
    "    #Calculando acurácia \n",
    "    accuracy_teste = accuracy_score(y_test, y_test_pred)\n",
    "    #accuracy_todos = accuracy_score(y_todos, y_test_pred_todos)\n",
    "        \n",
    "    #calculando f1_score da classe 1\n",
    "    f1_teste = f1_score(y_test, y_test_pred)\n",
    "    #f1_todos = f1_score(y_todos, y_test_pred_todos)\n",
    "    \n",
    "    #calculando área sobre a curva ROC_AUC:\n",
    "    auc_teste = roc_auc_score(y_test, y_test_pred)\n",
    "    #auc_todos = roc_auc_score(y_todos, y_test_pred_todos)\n",
    "        \n",
    "    #Calculando Recall clase 1\n",
    "    rec0_teste = recall_score(y_test, y_test_pred, pos_label=0)\n",
    "    rec1_teste = recall_score(y_test, y_test_pred, pos_label=1)\n",
    "    \n",
    "    #rec0_todos = recall_score(y_todos, y_test_pred_todos, pos_label=0)\n",
    "    #rec1_todos = recall_score(y_todos, y_test_pred_todos, pos_label=1)\n",
    "    \n",
    "    #Calculando a acurácia balanceada\n",
    "    accuracy_teste_balanced = balanced_accuracy_score(y_test, y_test_pred)\n",
    "    \n",
    "    # Adicionando todos resultados em uma única lista\n",
    "    resultados.append(np.array([i,hyperparams['loss'],hyperparams['max_iter'],hyperparams['learning_rate'],acuracy_treino,accuracy_teste,accuracy_teste_balanced,rec0_teste,rec1_teste,f1_teste,auc_teste]))"
   ]
  },
  {
   "cell_type": "code",
   "execution_count": null,
   "metadata": {
    "id": "0XInVeePtxB2"
   },
   "outputs": [],
   "source": [
    "#transformando os resultados para dataframe e ordenando por recall da classe 0:\n",
    "resultados = pd.DataFrame(np.array(resultados), columns=['repeticao','loss','max_iter','learning_rate','acuracy_treino','acuracia_teste','acuracia_balanceada_teste','rec_0_teste','rec_1_teste','f1_teste','auc_teste'])\n",
    "resultados.sort_values(by = 'auc_teste', ascending = False)"
   ]
  },
  {
   "cell_type": "markdown",
   "metadata": {
    "id": "8h8YA3VJtxB3"
   },
   "source": [
    "Hiperparâmetros\n",
    "\n",
    "- loss = squared_epsilon_insensitive\n",
    "- max_iter = 78\n",
    "- learning_rate = optimal"
   ]
  },
  {
   "cell_type": "code",
   "execution_count": null,
   "metadata": {
    "id": "uEUEqC2rtxB3"
   },
   "outputs": [],
   "source": [
    "X = df_final9[features+featuresd1+featuresd2+featuresd3]\n",
    "y = df_final9['Fechamento'] \n",
    "\n",
    "X_train, X_test, y_train, y_test = train_test_split(X, y, test_size=0.3, random_state=1, stratify=y)\n",
    "\n",
    "sgd = SGDClassifier(random_state=1,loss = 'squared_epsilon_insensitive',max_iter = 78,learning_rate = 'optimal')\n",
    "sgd.fit(X_train,y_train)\n"
   ]
  },
  {
   "cell_type": "code",
   "execution_count": null,
   "metadata": {
    "id": "bPXtLWcStxB3"
   },
   "outputs": [],
   "source": [
    "#Predizendo y\n",
    "y_pred = sgd.predict(X_test)\n",
    "\n",
    "#Relatórios e matriz de confusao\n",
    "print(\"Classification Report Dados:\\n\",classification_report(y_test,y_pred))\n",
    "print(\"\")\n",
    "print(\"Confusion Matrix Dados de Producao:\\n\",confusion_matrix(y_test,y_pred))\n",
    "print(\"\")"
   ]
  },
  {
   "cell_type": "code",
   "execution_count": null,
   "metadata": {
    "id": "abnff_G1txB3"
   },
   "outputs": [],
   "source": [
    "#Calculando o recall\n",
    "recall_0 = recall_score(y_test, y_pred, pos_label=0)\n",
    "recall_1 = recall_score(y_test, y_pred, pos_label=1)\n",
    "\n",
    "#Calculando acurácia \n",
    "accuracy = accuracy_score(y_test, y_pred)\n",
    "\n",
    "#Calculando acurácia balanceada\n",
    "accuracy_balanced = balanced_accuracy_score(y_test, y_pred)\n",
    "\n",
    "#calculando f1_score\n",
    "f1_0 = f1_score(y_test, y_pred,pos_label=0)\n",
    "f1_1 = f1_score(y_test, y_pred,pos_label=1)\n",
    "\n",
    "#Calculando AUC\n",
    "auc = roc_auc_score(y_test, y_pred)\n",
    "\n",
    "print(\"Recall_0: %s\" % (recall_0))\n",
    "print(\"Recall_1: %s\" % (recall_1))\n",
    "print(\"Acuracia: %s\" % (accuracy))\n",
    "print(\"Acuracia Balanceada: %s\" % (accuracy_balanced))\n",
    "print(\"F1_Score_0: %s\" % (f1_0))\n",
    "print(\"F1_Score_1: %s\" % (f1_1))\n",
    "print(\"AUC: %s\" % (auc))"
   ]
  },
  {
   "cell_type": "markdown",
   "metadata": {
    "id": "YvVsjbrptxB4"
   },
   "source": [
    "## 8.11 Perceptron"
   ]
  },
  {
   "cell_type": "code",
   "execution_count": null,
   "metadata": {
    "id": "v9QvB0XMtxB4"
   },
   "outputs": [],
   "source": [
    "from sklearn.linear_model import Perceptron"
   ]
  },
  {
   "cell_type": "code",
   "execution_count": null,
   "metadata": {
    "id": "A0dUlEewtxB4"
   },
   "outputs": [],
   "source": [
    "acuracia_dados = make_scorer(accuracy_score)\n",
    "f1_dados = make_scorer(f1_score)\n",
    "balanced_acc_dados = make_scorer(balanced_accuracy_score)\n",
    "scoring = {\"accuracy\": acuracia_dados, \"f1\":f1_dados, \"bacuracy\":balanced_acc_dados}"
   ]
  },
  {
   "cell_type": "code",
   "execution_count": null,
   "metadata": {
    "id": "fBBqcv7CtxB4"
   },
   "outputs": [],
   "source": [
    "resultados = []\n",
    "\n",
    "#Definição dos dados\n",
    "X_todos = df_final9[features+featuresd1+featuresd2+featuresd3]\n",
    "y_todos = df_final9['Fechamento']  \n",
    "\n",
    "    \n",
    "#Repete os experimentos 30x\n",
    "for i in range(30):\n",
    "    \n",
    "    #Holdout:\n",
    "    X_train, X_test, y_train, y_test = train_test_split(X, y, test_size=0.3, random_state=i, stratify=y)\n",
    "        \n",
    "    #Validação cruzada com 10 kfolds\n",
    "    kfold = KFold(n_splits = 10, shuffle = True, random_state = i)\n",
    "    \n",
    "    print(\"Fazendo gridsearch - Repeticao %s\" % (i+1))\n",
    "    \n",
    "    gs = GridSearchCV(\n",
    "        Perceptron(random_state=i) ,\n",
    "        param_grid={\"penalty\": [None,'l2','l1','elasticnet'],   #None is default, modified huber é robusto a outliers\n",
    "                    \"alpha\": [0.0001,0.001,0.01,0.00001], ## 0.0001 is default\n",
    "                    \"max_iter\": [500,600,900,1000,1100,1200] ## 1000 is default\n",
    "                    }, \n",
    "        scoring=scoring,\n",
    "        refit=\"bacuracy\",\n",
    "        n_jobs=2,\n",
    "        return_train_score=True,\n",
    "        cv = kfold\n",
    "            )\n",
    "        \n",
    "    #Treinando o modelo com dados de treino c/ 9 folds e utilizando 1 fold para teste\n",
    "    gs.fit(X_train, y_train)\n",
    "    \n",
    "    #Melhores resultados e hiperparâmetros encontrados\n",
    "    acuracy_treino = gs.best_score_\n",
    "    hyperparams = gs.best_params_\n",
    "    \n",
    "    ##Predizendo as classes nos dados de teste e todos dados, utilizando os melhores parâmetros\n",
    "    y_test_pred = gs.predict(X_test)\n",
    "    #y_test_pred_todos = gs.predict(X_todos)\n",
    "        \n",
    "    #Calculando acurácia \n",
    "    accuracy_teste = accuracy_score(y_test, y_test_pred)\n",
    "    #accuracy_todos = accuracy_score(y_todos, y_test_pred_todos)\n",
    "        \n",
    "    #calculando f1_score da classe 1\n",
    "    f1_teste = f1_score(y_test, y_test_pred)\n",
    "    #f1_todos = f1_score(y_todos, y_test_pred_todos)\n",
    "    \n",
    "    #calculando área sobre a curva ROC_AUC:\n",
    "    auc_teste = roc_auc_score(y_test, y_test_pred)\n",
    "    #auc_todos = roc_auc_score(y_todos, y_test_pred_todos)\n",
    "        \n",
    "    #Calculando Recall clase 1\n",
    "    rec0_teste = recall_score(y_test, y_test_pred, pos_label=0)\n",
    "    rec1_teste = recall_score(y_test, y_test_pred, pos_label=1)\n",
    "    \n",
    "    #rec0_todos = recall_score(y_todos, y_test_pred_todos, pos_label=0)\n",
    "    #rec1_todos = recall_score(y_todos, y_test_pred_todos, pos_label=1)\n",
    "    \n",
    "    #Calculando a acurácia balanceada\n",
    "    accuracy_teste_balanced = balanced_accuracy_score(y_test, y_test_pred)\n",
    "    \n",
    "    # Adicionando todos resultados em uma única lista\n",
    "    resultados.append(np.array([i,hyperparams['penalty'],hyperparams['alpha'],hyperparams['max_iter'],acuracy_treino,accuracy_teste,accuracy_teste_balanced,rec0_teste,rec1_teste,f1_teste,auc_teste]))"
   ]
  },
  {
   "cell_type": "code",
   "execution_count": null,
   "metadata": {
    "id": "ENrJRVcytxB5"
   },
   "outputs": [],
   "source": [
    "#transformando os resultados para dataframe e ordenando por recall da classe 0:\n",
    "resultados = pd.DataFrame(np.array(resultados), columns=['repeticao','penalty','alpha','max_iter','acuracy_treino','acuracia_teste','acuracia_balanceada_teste','rec_0_teste','rec_1_teste','f1_teste','auc_teste'])\n",
    "resultados['auc_teste'] = resultados['auc_teste'].astype(float, errors = 'raise')\n",
    "resultados.sort_values(by = 'auc_teste', ascending = False)"
   ]
  },
  {
   "cell_type": "markdown",
   "metadata": {
    "id": "-J9rwubgtxB5"
   },
   "source": [
    "Hiperparâmetros\n",
    "\n",
    "- penalty entre None e l1\n",
    "- alpha = 0.0001\n",
    "- max_iter <=500"
   ]
  },
  {
   "cell_type": "code",
   "execution_count": null,
   "metadata": {
    "id": "JW5IVVIItxB5"
   },
   "outputs": [],
   "source": [
    "resultados = []\n",
    "\n",
    "#Definição dos dados\n",
    "X_todos = df_final9[features+featuresd1+featuresd2+featuresd3]\n",
    "y_todos = df_final9['Fechamento']  \n",
    "\n",
    "    \n",
    "#Repete os experimentos 30x\n",
    "for i in range(30):\n",
    "    \n",
    "    #Holdout:\n",
    "    X_train, X_test, y_train, y_test = train_test_split(X, y, test_size=0.3, random_state=i, stratify=y)\n",
    "        \n",
    "    #Validação cruzada com 10 kfolds\n",
    "    kfold = KFold(n_splits = 10, shuffle = True, random_state = i)\n",
    "    \n",
    "    print(\"Fazendo gridsearch - Repeticao %s\" % (i+1))\n",
    "    \n",
    "    gs = GridSearchCV(\n",
    "        Perceptron(random_state=i) ,\n",
    "        param_grid={\"penalty\": [None,'l1'],   #None is default, modified huber é robusto a outliers\n",
    "                    \"alpha\": [0.0001], ## 0.0001 is default\n",
    "                    \"max_iter\": [50,100,150,200,250,300,350,400,450,500] ## 1000 is default\n",
    "                    }, \n",
    "        scoring=scoring,\n",
    "        refit=\"bacuracy\",\n",
    "        n_jobs=2,\n",
    "        return_train_score=True,\n",
    "        cv = kfold\n",
    "            )\n",
    "        \n",
    "    #Treinando o modelo com dados de treino c/ 9 folds e utilizando 1 fold para teste\n",
    "    gs.fit(X_train, y_train)\n",
    "    \n",
    "    #Melhores resultados e hiperparâmetros encontrados\n",
    "    acuracy_treino = gs.best_score_\n",
    "    hyperparams = gs.best_params_\n",
    "    \n",
    "    ##Predizendo as classes nos dados de teste e todos dados, utilizando os melhores parâmetros\n",
    "    y_test_pred = gs.predict(X_test)\n",
    "    #y_test_pred_todos = gs.predict(X_todos)\n",
    "        \n",
    "    #Calculando acurácia \n",
    "    accuracy_teste = accuracy_score(y_test, y_test_pred)\n",
    "    #accuracy_todos = accuracy_score(y_todos, y_test_pred_todos)\n",
    "        \n",
    "    #calculando f1_score da classe 1\n",
    "    f1_teste = f1_score(y_test, y_test_pred)\n",
    "    #f1_todos = f1_score(y_todos, y_test_pred_todos)\n",
    "    \n",
    "    #calculando área sobre a curva ROC_AUC:\n",
    "    auc_teste = roc_auc_score(y_test, y_test_pred)\n",
    "    #auc_todos = roc_auc_score(y_todos, y_test_pred_todos)\n",
    "        \n",
    "    #Calculando Recall clase 1\n",
    "    rec0_teste = recall_score(y_test, y_test_pred, pos_label=0)\n",
    "    rec1_teste = recall_score(y_test, y_test_pred, pos_label=1)\n",
    "    \n",
    "    #rec0_todos = recall_score(y_todos, y_test_pred_todos, pos_label=0)\n",
    "    #rec1_todos = recall_score(y_todos, y_test_pred_todos, pos_label=1)\n",
    "    \n",
    "    #Calculando a acurácia balanceada\n",
    "    accuracy_teste_balanced = balanced_accuracy_score(y_test, y_test_pred)\n",
    "    \n",
    "    # Adicionando todos resultados em uma única lista\n",
    "    resultados.append(np.array([i,hyperparams['penalty'],hyperparams['alpha'],hyperparams['max_iter'],acuracy_treino,accuracy_teste,accuracy_teste_balanced,rec0_teste,rec1_teste,f1_teste,auc_teste]))"
   ]
  },
  {
   "cell_type": "code",
   "execution_count": null,
   "metadata": {
    "id": "RT3Mi-9FtxB5"
   },
   "outputs": [],
   "source": [
    "#transformando os resultados para dataframe e ordenando por recall da classe 0:\n",
    "resultados = pd.DataFrame(np.array(resultados), columns=['repeticao','penalty','alpha','max_iter','acuracy_treino','acuracia_teste','acuracia_balanceada_teste','rec_0_teste','rec_1_teste','f1_teste','auc_teste'])\n",
    "resultados['auc_teste'] = resultados['auc_teste'].astype(float, errors = 'raise')\n",
    "resultados.sort_values(by = 'auc_teste', ascending = False)"
   ]
  },
  {
   "cell_type": "markdown",
   "metadata": {
    "id": "46Cwul8StxB5"
   },
   "source": [
    "Hiperparâmetros\n",
    "\n",
    "- penalty entre None e l1\n",
    "- alpha = 0.0001\n",
    "- max_iter <=100"
   ]
  },
  {
   "cell_type": "code",
   "execution_count": null,
   "metadata": {
    "id": "EkEcfqWdtxB5"
   },
   "outputs": [],
   "source": [
    "resultados = []\n",
    "\n",
    "#Definição dos dados\n",
    "X_todos = df_final9[features+featuresd1+featuresd2+featuresd3]\n",
    "y_todos = df_final9['Fechamento']  \n",
    "\n",
    "    \n",
    "#Repete os experimentos 30x\n",
    "for i in range(30):\n",
    "    \n",
    "    #Holdout:\n",
    "    X_train, X_test, y_train, y_test = train_test_split(X, y, test_size=0.3, random_state=i, stratify=y)\n",
    "        \n",
    "    #Validação cruzada com 10 kfolds\n",
    "    kfold = KFold(n_splits = 10, shuffle = True, random_state = i)\n",
    "    \n",
    "    print(\"Fazendo gridsearch - Repeticao %s\" % (i+1))\n",
    "    \n",
    "    gs = GridSearchCV(\n",
    "        Perceptron(random_state=i) ,\n",
    "        param_grid={\"penalty\": [None,'l1'],   #None is default, modified huber é robusto a outliers\n",
    "                    \"alpha\": [0.0001], ## 0.0001 is default\n",
    "                    \"max_iter\": range(5,105,5) ## 1000 is default\n",
    "                    }, \n",
    "        scoring=scoring,\n",
    "        refit=\"bacuracy\",\n",
    "        n_jobs=2,\n",
    "        return_train_score=True,\n",
    "        cv = kfold\n",
    "            )\n",
    "        \n",
    "    #Treinando o modelo com dados de treino c/ 9 folds e utilizando 1 fold para teste\n",
    "    gs.fit(X_train, y_train)\n",
    "    \n",
    "    #Melhores resultados e hiperparâmetros encontrados\n",
    "    acuracy_treino = gs.best_score_\n",
    "    hyperparams = gs.best_params_\n",
    "    \n",
    "    ##Predizendo as classes nos dados de teste e todos dados, utilizando os melhores parâmetros\n",
    "    y_test_pred = gs.predict(X_test)\n",
    "    #y_test_pred_todos = gs.predict(X_todos)\n",
    "        \n",
    "    #Calculando acurácia \n",
    "    accuracy_teste = accuracy_score(y_test, y_test_pred)\n",
    "    #accuracy_todos = accuracy_score(y_todos, y_test_pred_todos)\n",
    "        \n",
    "    #calculando f1_score da classe 1\n",
    "    f1_teste = f1_score(y_test, y_test_pred)\n",
    "    #f1_todos = f1_score(y_todos, y_test_pred_todos)\n",
    "    \n",
    "    #calculando área sobre a curva ROC_AUC:\n",
    "    auc_teste = roc_auc_score(y_test, y_test_pred)\n",
    "    #auc_todos = roc_auc_score(y_todos, y_test_pred_todos)\n",
    "        \n",
    "    #Calculando Recall clase 1\n",
    "    rec0_teste = recall_score(y_test, y_test_pred, pos_label=0)\n",
    "    rec1_teste = recall_score(y_test, y_test_pred, pos_label=1)\n",
    "    \n",
    "    #rec0_todos = recall_score(y_todos, y_test_pred_todos, pos_label=0)\n",
    "    #rec1_todos = recall_score(y_todos, y_test_pred_todos, pos_label=1)\n",
    "    \n",
    "    #Calculando a acurácia balanceada\n",
    "    accuracy_teste_balanced = balanced_accuracy_score(y_test, y_test_pred)\n",
    "    \n",
    "    # Adicionando todos resultados em uma única lista\n",
    "    resultados.append(np.array([i,hyperparams['penalty'],hyperparams['alpha'],hyperparams['max_iter'],acuracy_treino,accuracy_teste,accuracy_teste_balanced,rec0_teste,rec1_teste,f1_teste,auc_teste]))\n",
    "    \n",
    "    \n",
    "#transformando os resultados para dataframe e ordenando por recall da classe 0:\n",
    "resultados = pd.DataFrame(np.array(resultados), columns=['repeticao','penalty','alpha','max_iter','acuracy_treino','acuracia_teste','acuracia_balanceada_teste','rec_0_teste','rec_1_teste','f1_teste','auc_teste'])\n",
    "resultados['auc_teste'] = resultados['auc_teste'].astype(float, errors = 'raise')\n",
    "resultados.sort_values(by = 'auc_teste', ascending = False)"
   ]
  },
  {
   "cell_type": "markdown",
   "metadata": {
    "id": "e7k5490wtxB6"
   },
   "source": [
    "Hiperparâmetros\n",
    "\n",
    "- penalty entre None e l1\n",
    "- alpha = 0.0001\n",
    "- max_iter <=15"
   ]
  },
  {
   "cell_type": "code",
   "execution_count": null,
   "metadata": {
    "id": "f9E4PbtjtxB6"
   },
   "outputs": [],
   "source": [
    "resultados = []\n",
    "\n",
    "#Definição dos dados\n",
    "X_todos = df_final9[features+featuresd1+featuresd2+featuresd3]\n",
    "y_todos = df_final9['Fechamento']  \n",
    "\n",
    "    \n",
    "#Repete os experimentos 30x\n",
    "for i in range(30):\n",
    "    \n",
    "    #Holdout:\n",
    "    X_train, X_test, y_train, y_test = train_test_split(X, y, test_size=0.3, random_state=i, stratify=y)\n",
    "        \n",
    "    #Validação cruzada com 10 kfolds\n",
    "    kfold = KFold(n_splits = 10, shuffle = True, random_state = i)\n",
    "    \n",
    "    print(\"Fazendo gridsearch - Repeticao %s\" % (i+1))\n",
    "    \n",
    "    gs = GridSearchCV(\n",
    "        Perceptron(random_state=i) ,\n",
    "        param_grid={\"penalty\": [None,'l1'],   #None is default, modified huber é robusto a outliers\n",
    "                    \"alpha\": [0.0001], ## 0.0001 is default\n",
    "                    \"max_iter\": range(2,16,1) ## 1000 is default\n",
    "                    }, \n",
    "        scoring=scoring,\n",
    "        refit=\"bacuracy\",\n",
    "        n_jobs=2,\n",
    "        return_train_score=True,\n",
    "        cv = kfold\n",
    "            )\n",
    "        \n",
    "    #Treinando o modelo com dados de treino c/ 9 folds e utilizando 1 fold para teste\n",
    "    gs.fit(X_train, y_train)\n",
    "    \n",
    "    #Melhores resultados e hiperparâmetros encontrados\n",
    "    acuracy_treino = gs.best_score_\n",
    "    hyperparams = gs.best_params_\n",
    "    \n",
    "    ##Predizendo as classes nos dados de teste e todos dados, utilizando os melhores parâmetros\n",
    "    y_test_pred = gs.predict(X_test)\n",
    "    #y_test_pred_todos = gs.predict(X_todos)\n",
    "        \n",
    "    #Calculando acurácia \n",
    "    accuracy_teste = accuracy_score(y_test, y_test_pred)\n",
    "    #accuracy_todos = accuracy_score(y_todos, y_test_pred_todos)\n",
    "        \n",
    "    #calculando f1_score da classe 1\n",
    "    f1_teste = f1_score(y_test, y_test_pred)\n",
    "    #f1_todos = f1_score(y_todos, y_test_pred_todos)\n",
    "    \n",
    "    #calculando área sobre a curva ROC_AUC:\n",
    "    auc_teste = roc_auc_score(y_test, y_test_pred)\n",
    "    #auc_todos = roc_auc_score(y_todos, y_test_pred_todos)\n",
    "        \n",
    "    #Calculando Recall clase 1\n",
    "    rec0_teste = recall_score(y_test, y_test_pred, pos_label=0)\n",
    "    rec1_teste = recall_score(y_test, y_test_pred, pos_label=1)\n",
    "    \n",
    "    #rec0_todos = recall_score(y_todos, y_test_pred_todos, pos_label=0)\n",
    "    #rec1_todos = recall_score(y_todos, y_test_pred_todos, pos_label=1)\n",
    "    \n",
    "    #Calculando a acurácia balanceada\n",
    "    accuracy_teste_balanced = balanced_accuracy_score(y_test, y_test_pred)\n",
    "    \n",
    "    # Adicionando todos resultados em uma única lista\n",
    "    resultados.append(np.array([i,hyperparams['penalty'],hyperparams['alpha'],hyperparams['max_iter'],acuracy_treino,accuracy_teste,accuracy_teste_balanced,rec0_teste,rec1_teste,f1_teste,auc_teste]))\n",
    "    \n",
    "    \n",
    "#transformando os resultados para dataframe e ordenando por recall da classe 0:\n",
    "resultados = pd.DataFrame(np.array(resultados), columns=['repeticao','penalty','alpha','max_iter','acuracy_treino','acuracia_teste','acuracia_balanceada_teste','rec_0_teste','rec_1_teste','f1_teste','auc_teste'])\n",
    "resultados['auc_teste'] = resultados['auc_teste'].astype(float, errors = 'raise')\n",
    "resultados.sort_values(by = 'auc_teste', ascending = False)"
   ]
  },
  {
   "cell_type": "markdown",
   "metadata": {
    "id": "iBrSJNx0txB6"
   },
   "source": [
    "Hiperparâmetros\n",
    "\n",
    "- penalty = None\n",
    "- alpha = 0.0001\n",
    "- max_iter <=8"
   ]
  },
  {
   "cell_type": "code",
   "execution_count": null,
   "metadata": {
    "id": "aKKPnx3FtxB7"
   },
   "outputs": [],
   "source": [
    "resultados = []\n",
    "\n",
    "#Definição dos dados\n",
    "X_todos = df_final9[features+featuresd1+featuresd2+featuresd3]\n",
    "y_todos = df_final9['Fechamento']  \n",
    "\n",
    "    \n",
    "#Repete os experimentos 30x\n",
    "for i in range(30):\n",
    "    \n",
    "    #Holdout:\n",
    "    X_train, X_test, y_train, y_test = train_test_split(X, y, test_size=0.3, random_state=i, stratify=y)\n",
    "        \n",
    "    #Validação cruzada com 10 kfolds\n",
    "    kfold = KFold(n_splits = 10, shuffle = True, random_state = i)\n",
    "    \n",
    "    print(\"Fazendo gridsearch - Repeticao %s\" % (i+1))\n",
    "    \n",
    "    gs = GridSearchCV(\n",
    "        Perceptron(random_state=i) ,\n",
    "        param_grid={\"penalty\": [None],   #None is default, modified huber é robusto a outliers\n",
    "                    \"alpha\": [0.0001], ## 0.0001 is default\n",
    "                    \"max_iter\": [2,3,4,5,6,7,8] ## 1000 is default\n",
    "                    }, \n",
    "        scoring=scoring,\n",
    "        refit=\"bacuracy\",\n",
    "        n_jobs=2,\n",
    "        return_train_score=True,\n",
    "        cv = kfold\n",
    "            )\n",
    "        \n",
    "    #Treinando o modelo com dados de treino c/ 9 folds e utilizando 1 fold para teste\n",
    "    gs.fit(X_train, y_train)\n",
    "    \n",
    "    #Melhores resultados e hiperparâmetros encontrados\n",
    "    acuracy_treino = gs.best_score_\n",
    "    hyperparams = gs.best_params_\n",
    "    \n",
    "    ##Predizendo as classes nos dados de teste e todos dados, utilizando os melhores parâmetros\n",
    "    y_test_pred = gs.predict(X_test)\n",
    "    #y_test_pred_todos = gs.predict(X_todos)\n",
    "        \n",
    "    #Calculando acurácia \n",
    "    accuracy_teste = accuracy_score(y_test, y_test_pred)\n",
    "    #accuracy_todos = accuracy_score(y_todos, y_test_pred_todos)\n",
    "        \n",
    "    #calculando f1_score da classe 1\n",
    "    f1_teste = f1_score(y_test, y_test_pred)\n",
    "    #f1_todos = f1_score(y_todos, y_test_pred_todos)\n",
    "    \n",
    "    #calculando área sobre a curva ROC_AUC:\n",
    "    auc_teste = roc_auc_score(y_test, y_test_pred)\n",
    "    #auc_todos = roc_auc_score(y_todos, y_test_pred_todos)\n",
    "        \n",
    "    #Calculando Recall clase 1\n",
    "    rec0_teste = recall_score(y_test, y_test_pred, pos_label=0)\n",
    "    rec1_teste = recall_score(y_test, y_test_pred, pos_label=1)\n",
    "    \n",
    "    #rec0_todos = recall_score(y_todos, y_test_pred_todos, pos_label=0)\n",
    "    #rec1_todos = recall_score(y_todos, y_test_pred_todos, pos_label=1)\n",
    "    \n",
    "    #Calculando a acurácia balanceada\n",
    "    accuracy_teste_balanced = balanced_accuracy_score(y_test, y_test_pred)\n",
    "    \n",
    "    # Adicionando todos resultados em uma única lista\n",
    "    resultados.append(np.array([i,hyperparams['penalty'],hyperparams['alpha'],hyperparams['max_iter'],acuracy_treino,accuracy_teste,accuracy_teste_balanced,rec0_teste,rec1_teste,f1_teste,auc_teste]))\n",
    "    \n",
    "    \n",
    "#transformando os resultados para dataframe e ordenando por recall da classe 0:\n",
    "resultados = pd.DataFrame(np.array(resultados), columns=['repeticao','penalty','alpha','max_iter','acuracy_treino','acuracia_teste','acuracia_balanceada_teste','rec_0_teste','rec_1_teste','f1_teste','auc_teste'])\n",
    "resultados['auc_teste'] = resultados['auc_teste'].astype(float, errors = 'raise')\n",
    "resultados.sort_values(by = 'auc_teste', ascending = False)"
   ]
  },
  {
   "cell_type": "markdown",
   "metadata": {
    "id": "Pg20FahltxB7"
   },
   "source": [
    "Hiperparâmetros\n",
    "\n",
    "- penalty = None\n",
    "- alpha = 0.0001\n",
    "- max_iter 2,3 ou 8"
   ]
  },
  {
   "cell_type": "code",
   "execution_count": null,
   "metadata": {
    "id": "GGB2OWS_txB7"
   },
   "outputs": [],
   "source": [
    "resultados = []\n",
    "\n",
    "#Definição dos dados\n",
    "X_todos = df_final9[features+featuresd1+featuresd2+featuresd3]\n",
    "y_todos = df_final9['Fechamento']  \n",
    "\n",
    "    \n",
    "#Repete os experimentos 30x\n",
    "for i in range(30):\n",
    "    \n",
    "    #Holdout:\n",
    "    X_train, X_test, y_train, y_test = train_test_split(X, y, test_size=0.3, random_state=i, stratify=y)\n",
    "        \n",
    "    #Validação cruzada com 10 kfolds\n",
    "    kfold = KFold(n_splits = 10, shuffle = True, random_state = i)\n",
    "    \n",
    "    print(\"Fazendo gridsearch - Repeticao %s\" % (i+1))\n",
    "    \n",
    "    gs = GridSearchCV(\n",
    "        Perceptron(random_state=i) ,\n",
    "        param_grid={\"penalty\": [None],   #None is default, modified huber é robusto a outliers\n",
    "                    \"alpha\": [0.0001], ## 0.0001 is default\n",
    "                    \"max_iter\": [2,3,8] ## 1000 is default\n",
    "                    }, \n",
    "        scoring=scoring,\n",
    "        refit=\"bacuracy\",\n",
    "        n_jobs=2,\n",
    "        return_train_score=True,\n",
    "        cv = kfold\n",
    "            )\n",
    "        \n",
    "    #Treinando o modelo com dados de treino c/ 9 folds e utilizando 1 fold para teste\n",
    "    gs.fit(X_train, y_train)\n",
    "    \n",
    "    #Melhores resultados e hiperparâmetros encontrados\n",
    "    acuracy_treino = gs.best_score_\n",
    "    hyperparams = gs.best_params_\n",
    "    \n",
    "    ##Predizendo as classes nos dados de teste e todos dados, utilizando os melhores parâmetros\n",
    "    y_test_pred = gs.predict(X_test)\n",
    "    #y_test_pred_todos = gs.predict(X_todos)\n",
    "        \n",
    "    #Calculando acurácia \n",
    "    accuracy_teste = accuracy_score(y_test, y_test_pred)\n",
    "    #accuracy_todos = accuracy_score(y_todos, y_test_pred_todos)\n",
    "        \n",
    "    #calculando f1_score da classe 1\n",
    "    f1_teste = f1_score(y_test, y_test_pred)\n",
    "    #f1_todos = f1_score(y_todos, y_test_pred_todos)\n",
    "    \n",
    "    #calculando área sobre a curva ROC_AUC:\n",
    "    auc_teste = roc_auc_score(y_test, y_test_pred)\n",
    "    #auc_todos = roc_auc_score(y_todos, y_test_pred_todos)\n",
    "        \n",
    "    #Calculando Recall clase 1\n",
    "    rec0_teste = recall_score(y_test, y_test_pred, pos_label=0)\n",
    "    rec1_teste = recall_score(y_test, y_test_pred, pos_label=1)\n",
    "    \n",
    "    #rec0_todos = recall_score(y_todos, y_test_pred_todos, pos_label=0)\n",
    "    #rec1_todos = recall_score(y_todos, y_test_pred_todos, pos_label=1)\n",
    "    \n",
    "    #Calculando a acurácia balanceada\n",
    "    accuracy_teste_balanced = balanced_accuracy_score(y_test, y_test_pred)\n",
    "    \n",
    "    # Adicionando todos resultados em uma única lista\n",
    "    resultados.append(np.array([i,hyperparams['penalty'],hyperparams['alpha'],hyperparams['max_iter'],acuracy_treino,accuracy_teste,accuracy_teste_balanced,rec0_teste,rec1_teste,f1_teste,auc_teste]))\n",
    "    \n",
    "    \n",
    "#transformando os resultados para dataframe e ordenando por recall da classe 0:\n",
    "resultados = pd.DataFrame(np.array(resultados), columns=['repeticao','penalty','alpha','max_iter','acuracy_treino','acuracia_teste','acuracia_balanceada_teste','rec_0_teste','rec_1_teste','f1_teste','auc_teste'])\n",
    "resultados['auc_teste'] = resultados['auc_teste'].astype(float, errors = 'raise')\n",
    "resultados.sort_values(by = 'auc_teste', ascending = False)"
   ]
  },
  {
   "cell_type": "markdown",
   "metadata": {
    "id": "Zw55sEsWtxB7"
   },
   "source": [
    "Hiperparâmetros\n",
    "\n",
    "- penalty = None\n",
    "- alpha = 0.0001\n",
    "- max_iter 2 ou 3"
   ]
  },
  {
   "cell_type": "code",
   "execution_count": null,
   "metadata": {
    "id": "t-oyjkmVtxB7"
   },
   "outputs": [],
   "source": [
    "resultados = []\n",
    "\n",
    "#Definição dos dados\n",
    "X_todos = df_final9[features+featuresd1+featuresd2+featuresd3]\n",
    "y_todos = df_final9['Fechamento']  \n",
    "\n",
    "    \n",
    "#Repete os experimentos 30x\n",
    "for i in range(30):\n",
    "    \n",
    "    #Holdout:\n",
    "    X_train, X_test, y_train, y_test = train_test_split(X, y, test_size=0.3, random_state=i, stratify=y)\n",
    "        \n",
    "    #Validação cruzada com 10 kfolds\n",
    "    kfold = KFold(n_splits = 10, shuffle = True, random_state = i)\n",
    "    \n",
    "    print(\"Fazendo gridsearch - Repeticao %s\" % (i+1))\n",
    "    \n",
    "    gs = GridSearchCV(\n",
    "        Perceptron(random_state=i) ,\n",
    "        param_grid={\"penalty\": [None],   #None is default, modified huber é robusto a outliers\n",
    "                    \"alpha\": [0.0001], ## 0.0001 is default\n",
    "                    \"max_iter\": [2,3] ## 1000 is default\n",
    "                    }, \n",
    "        scoring=scoring,\n",
    "        refit=\"bacuracy\",\n",
    "        n_jobs=2,\n",
    "        return_train_score=True,\n",
    "        cv = kfold\n",
    "            )\n",
    "        \n",
    "    #Treinando o modelo com dados de treino c/ 9 folds e utilizando 1 fold para teste\n",
    "    gs.fit(X_train, y_train)\n",
    "    \n",
    "    #Melhores resultados e hiperparâmetros encontrados\n",
    "    acuracy_treino = gs.best_score_\n",
    "    hyperparams = gs.best_params_\n",
    "    \n",
    "    ##Predizendo as classes nos dados de teste e todos dados, utilizando os melhores parâmetros\n",
    "    y_test_pred = gs.predict(X_test)\n",
    "    #y_test_pred_todos = gs.predict(X_todos)\n",
    "        \n",
    "    #Calculando acurácia \n",
    "    accuracy_teste = accuracy_score(y_test, y_test_pred)\n",
    "    #accuracy_todos = accuracy_score(y_todos, y_test_pred_todos)\n",
    "        \n",
    "    #calculando f1_score da classe 1\n",
    "    f1_teste = f1_score(y_test, y_test_pred)\n",
    "    #f1_todos = f1_score(y_todos, y_test_pred_todos)\n",
    "    \n",
    "    #calculando área sobre a curva ROC_AUC:\n",
    "    auc_teste = roc_auc_score(y_test, y_test_pred)\n",
    "    #auc_todos = roc_auc_score(y_todos, y_test_pred_todos)\n",
    "        \n",
    "    #Calculando Recall clase 1\n",
    "    rec0_teste = recall_score(y_test, y_test_pred, pos_label=0)\n",
    "    rec1_teste = recall_score(y_test, y_test_pred, pos_label=1)\n",
    "    \n",
    "    #rec0_todos = recall_score(y_todos, y_test_pred_todos, pos_label=0)\n",
    "    #rec1_todos = recall_score(y_todos, y_test_pred_todos, pos_label=1)\n",
    "    \n",
    "    #Calculando a acurácia balanceada\n",
    "    accuracy_teste_balanced = balanced_accuracy_score(y_test, y_test_pred)\n",
    "    \n",
    "    # Adicionando todos resultados em uma única lista\n",
    "    resultados.append(np.array([i,hyperparams['penalty'],hyperparams['alpha'],hyperparams['max_iter'],acuracy_treino,accuracy_teste,accuracy_teste_balanced,rec0_teste,rec1_teste,f1_teste,auc_teste]))\n",
    "    \n",
    "    \n",
    "#transformando os resultados para dataframe e ordenando por recall da classe 0:\n",
    "resultados = pd.DataFrame(np.array(resultados), columns=['repeticao','penalty','alpha','max_iter','acuracy_treino','acuracia_teste','acuracia_balanceada_teste','rec_0_teste','rec_1_teste','f1_teste','auc_teste'])\n",
    "resultados['auc_teste'] = resultados['auc_teste'].astype(float, errors = 'raise')\n",
    "resultados.sort_values(by = 'auc_teste', ascending = False)"
   ]
  },
  {
   "cell_type": "markdown",
   "metadata": {
    "id": "mh-8a9rftxB8"
   },
   "source": [
    "Hiperparâmetros\n",
    "\n",
    "- penalty = None\n",
    "- alpha = 0.0001\n",
    "- max_iter 3"
   ]
  },
  {
   "cell_type": "code",
   "execution_count": null,
   "metadata": {
    "id": "IUs6h3cTtxB8"
   },
   "outputs": [],
   "source": [
    "X = df_final9[features+featuresd1+featuresd2+featuresd3]\n",
    "y = df_final9['Fechamento'] \n",
    "\n",
    "X_train, X_test, y_train, y_test = train_test_split(X, y, test_size=0.3, random_state=15, stratify=y)\n",
    "\n",
    "perceptron = Perceptron(random_state=15,penalty = None,alpha = 0.0001, max_iter = 3)\n",
    "perceptron.fit(X_train,y_train)"
   ]
  },
  {
   "cell_type": "code",
   "execution_count": null,
   "metadata": {
    "id": "oPnkcMtEtxB8"
   },
   "outputs": [],
   "source": [
    "#Predizendo y\n",
    "y_pred = perceptron.predict(X_test)\n",
    "\n",
    "#Relatórios e matriz de confusao\n",
    "print(\"Classification Report Dados:\\n\",classification_report(y_test,y_pred))\n",
    "print(\"\")\n",
    "print(\"Confusion Matrix Dados de Producao:\\n\",confusion_matrix(y_test,y_pred))\n",
    "print(\"\")"
   ]
  },
  {
   "cell_type": "code",
   "execution_count": null,
   "metadata": {
    "id": "Rq2GkGUVtxB-"
   },
   "outputs": [],
   "source": [
    "#Calculando o recall\n",
    "recall_0 = recall_score(y_test, y_pred, pos_label=0)\n",
    "recall_1 = recall_score(y_test, y_pred, pos_label=1)\n",
    "\n",
    "#Calculando acurácia \n",
    "accuracy = accuracy_score(y_test, y_pred)\n",
    "\n",
    "#Calculando acurácia balanceada\n",
    "accuracy_balanced = balanced_accuracy_score(y_test, y_pred)\n",
    "\n",
    "#calculando f1_score\n",
    "f1_0 = f1_score(y_test, y_pred,pos_label=0)\n",
    "f1_1 = f1_score(y_test, y_pred,pos_label=1)\n",
    "\n",
    "#Calculando AUC\n",
    "auc = roc_auc_score(y_test, y_pred)\n",
    "\n",
    "print(\"Recall_0: %s\" % (recall_0))\n",
    "print(\"Recall_1: %s\" % (recall_1))\n",
    "print(\"Acuracia: %s\" % (accuracy))\n",
    "print(\"Acuracia Balanceada: %s\" % (accuracy_balanced))\n",
    "print(\"F1_Score_0: %s\" % (f1_0))\n",
    "print(\"F1_Score_1: %s\" % (f1_1))\n",
    "print(\"AUC: %s\" % (auc))\n"
   ]
  },
  {
   "cell_type": "markdown",
   "metadata": {
    "id": "AUrsC36KtxB-"
   },
   "source": [
    "## 8.12 DecisionTreeClassifier"
   ]
  },
  {
   "cell_type": "code",
   "execution_count": null,
   "metadata": {
    "id": "Ha_IoL0ntxB-"
   },
   "outputs": [],
   "source": [
    "from sklearn.tree import DecisionTreeClassifier"
   ]
  },
  {
   "cell_type": "code",
   "execution_count": null,
   "metadata": {
    "id": "XkqyYzcjtxB-"
   },
   "outputs": [],
   "source": [
    "acuracia_dados = make_scorer(accuracy_score)\n",
    "f1_dados = make_scorer(f1_score)\n",
    "balanced_acc_dados = make_scorer(balanced_accuracy_score)\n",
    "scoring = {\"accuracy\": acuracia_dados, \"f1\":f1_dados, \"bacuracy\":balanced_acc_dados}"
   ]
  },
  {
   "cell_type": "code",
   "execution_count": null,
   "metadata": {
    "id": "O_v1c9CmtxB-"
   },
   "outputs": [],
   "source": [
    "resultados = []\n",
    "\n",
    "#Definição dos dados\n",
    "X_todos = df_final9[features+featuresd1+featuresd2+featuresd3]\n",
    "y_todos = df_final9['Fechamento']  \n",
    "\n",
    "    \n",
    "#Repete os experimentos 30x\n",
    "for i in range(30):\n",
    "    \n",
    "    #Holdout:\n",
    "    X_train, X_test, y_train, y_test = train_test_split(X, y, test_size=0.3, random_state=i, stratify=y)\n",
    "        \n",
    "    #Validação cruzada com 10 kfolds\n",
    "    kfold = KFold(n_splits = 10, shuffle = True, random_state = i)\n",
    "    \n",
    "    print(\"Fazendo gridsearch - Repeticao %s\" % (i+1))\n",
    "    \n",
    "    gs = GridSearchCV(\n",
    "        DecisionTreeClassifier(random_state=i) ,\n",
    "        param_grid={\"criterion\": ['gini', 'entropy','log_loss'],   #gini is default, modified huber é robusto a outliers\n",
    "                    \"splitter\": ['best', 'random'], ## best is default\n",
    "                    \"max_depth\": [None,10,50,100], ## None is default\n",
    "                    \"min_samples_split\": [1,10,50], ##1 is default\n",
    "                    \"min_samples_leaf\": [2,10,50] ##2 is default\n",
    "                    }, \n",
    "        scoring=scoring,\n",
    "        refit=\"bacuracy\",\n",
    "        n_jobs=2,\n",
    "        return_train_score=True,\n",
    "        cv = kfold\n",
    "            )\n",
    "        \n",
    "    #Treinando o modelo com dados de treino c/ 9 folds e utilizando 1 fold para teste\n",
    "    gs.fit(X_train, y_train)\n",
    "    \n",
    "    #Melhores resultados e hiperparâmetros encontrados\n",
    "    acuracy_treino = gs.best_score_\n",
    "    hyperparams = gs.best_params_\n",
    "    \n",
    "    ##Predizendo as classes nos dados de teste e todos dados, utilizando os melhores parâmetros\n",
    "    y_test_pred = gs.predict(X_test)\n",
    "    #y_test_pred_todos = gs.predict(X_todos)\n",
    "        \n",
    "    #Calculando acurácia \n",
    "    accuracy_teste = accuracy_score(y_test, y_test_pred)\n",
    "    #accuracy_todos = accuracy_score(y_todos, y_test_pred_todos)\n",
    "        \n",
    "    #calculando f1_score da classe 1\n",
    "    f1_teste = f1_score(y_test, y_test_pred)\n",
    "    #f1_todos = f1_score(y_todos, y_test_pred_todos)\n",
    "    \n",
    "    #calculando área sobre a curva ROC_AUC:\n",
    "    auc_teste = roc_auc_score(y_test, y_test_pred)\n",
    "    #auc_todos = roc_auc_score(y_todos, y_test_pred_todos)\n",
    "        \n",
    "    #Calculando Recall clase 1\n",
    "    rec0_teste = recall_score(y_test, y_test_pred, pos_label=0)\n",
    "    rec1_teste = recall_score(y_test, y_test_pred, pos_label=1)\n",
    "    \n",
    "    #rec0_todos = recall_score(y_todos, y_test_pred_todos, pos_label=0)\n",
    "    #rec1_todos = recall_score(y_todos, y_test_pred_todos, pos_label=1)\n",
    "    \n",
    "    #Calculando a acurácia balanceada\n",
    "    accuracy_teste_balanced = balanced_accuracy_score(y_test, y_test_pred)\n",
    "    \n",
    "    # Adicionando todos resultados em uma única lista\n",
    "    resultados.append(np.array([i,hyperparams['criterion'],hyperparams['splitter'],hyperparams['max_depth'],hyperparams['min_samples_split'],hyperparams['min_samples_leaf'],acuracy_treino,accuracy_teste,accuracy_teste_balanced,rec0_teste,rec1_teste,f1_teste,auc_teste]))\n",
    "    \n",
    "    \n",
    "#transformando os resultados para dataframe e ordenando por recall da classe 0:\n",
    "resultados = pd.DataFrame(np.array(resultados), columns=['repeticao','criterion','splitter','max_depth','min_samples_split','min_samples_leaf','acuracy_treino','acuracia_teste','acuracia_balanceada_teste','rec_0_teste','rec_1_teste','f1_teste','auc_teste'])\n",
    "resultados['auc_teste'] = resultados['auc_teste'].astype(float, errors = 'raise')\n",
    "resultados.sort_values(by = 'auc_teste', ascending = False)"
   ]
  },
  {
   "cell_type": "markdown",
   "metadata": {
    "id": "wAonCHrrtxB-"
   },
   "source": [
    "Hiperparâmetros\n",
    "\n",
    "- criterion = 'gini'\n",
    "- splitter = 'best'\n",
    "- max_depth = None\n",
    "- min_samples_split por volta de 10 (>=2 e <=50)\n",
    "- min_samples_leaf >=50"
   ]
  },
  {
   "cell_type": "code",
   "execution_count": null,
   "metadata": {
    "id": "90eMmBhqtxB_"
   },
   "outputs": [],
   "source": [
    "resultados = []\n",
    "\n",
    "#Definição dos dados\n",
    "X_todos = df_final9[features+featuresd1+featuresd2+featuresd3]\n",
    "y_todos = df_final9['Fechamento']  \n",
    "\n",
    "    \n",
    "#Repete os experimentos 30x\n",
    "for i in range(30):\n",
    "    \n",
    "    #Holdout:\n",
    "    X_train, X_test, y_train, y_test = train_test_split(X, y, test_size=0.3, random_state=i, stratify=y)\n",
    "        \n",
    "    #Validação cruzada com 10 kfolds\n",
    "    kfold = KFold(n_splits = 10, shuffle = True, random_state = i)\n",
    "    \n",
    "    print(\"Fazendo gridsearch - Repeticao %s\" % (i+1))\n",
    "    \n",
    "    gs = GridSearchCV(\n",
    "        DecisionTreeClassifier(random_state=i) ,\n",
    "        param_grid={\"criterion\": ['gini'],   #gini is default, modified huber é robusto a outliers\n",
    "                    \"splitter\": ['best'], ## best is default\n",
    "                    \"max_depth\": [None], ## None is default\n",
    "                    \"min_samples_split\": [1,5,10,15,20,25,30,35,40,45,50], ##1 is default\n",
    "                    \"min_samples_leaf\": [50,100,150,200] ##2 is default\n",
    "                    }, \n",
    "        scoring=scoring,\n",
    "        refit=\"bacuracy\",\n",
    "        n_jobs=2,\n",
    "        return_train_score=True,\n",
    "        cv = kfold\n",
    "            )\n",
    "        \n",
    "    #Treinando o modelo com dados de treino c/ 9 folds e utilizando 1 fold para teste\n",
    "    gs.fit(X_train, y_train)\n",
    "    \n",
    "    #Melhores resultados e hiperparâmetros encontrados\n",
    "    acuracy_treino = gs.best_score_\n",
    "    hyperparams = gs.best_params_\n",
    "    \n",
    "    ##Predizendo as classes nos dados de teste e todos dados, utilizando os melhores parâmetros\n",
    "    y_test_pred = gs.predict(X_test)\n",
    "    #y_test_pred_todos = gs.predict(X_todos)\n",
    "        \n",
    "    #Calculando acurácia \n",
    "    accuracy_teste = accuracy_score(y_test, y_test_pred)\n",
    "    #accuracy_todos = accuracy_score(y_todos, y_test_pred_todos)\n",
    "        \n",
    "    #calculando f1_score da classe 1\n",
    "    f1_teste = f1_score(y_test, y_test_pred)\n",
    "    #f1_todos = f1_score(y_todos, y_test_pred_todos)\n",
    "    \n",
    "    #calculando área sobre a curva ROC_AUC:\n",
    "    auc_teste = roc_auc_score(y_test, y_test_pred)\n",
    "    #auc_todos = roc_auc_score(y_todos, y_test_pred_todos)\n",
    "        \n",
    "    #Calculando Recall clase 1\n",
    "    rec0_teste = recall_score(y_test, y_test_pred, pos_label=0)\n",
    "    rec1_teste = recall_score(y_test, y_test_pred, pos_label=1)\n",
    "    \n",
    "    #rec0_todos = recall_score(y_todos, y_test_pred_todos, pos_label=0)\n",
    "    #rec1_todos = recall_score(y_todos, y_test_pred_todos, pos_label=1)\n",
    "    \n",
    "    #Calculando a acurácia balanceada\n",
    "    accuracy_teste_balanced = balanced_accuracy_score(y_test, y_test_pred)\n",
    "    \n",
    "    # Adicionando todos resultados em uma única lista\n",
    "    resultados.append(np.array([i,hyperparams['criterion'],hyperparams['splitter'],hyperparams['max_depth'],hyperparams['min_samples_split'],hyperparams['min_samples_leaf'],acuracy_treino,accuracy_teste,accuracy_teste_balanced,rec0_teste,rec1_teste,f1_teste,auc_teste]))\n",
    "    \n",
    "    \n",
    "#transformando os resultados para dataframe e ordenando por recall da classe 0:\n",
    "resultados = pd.DataFrame(np.array(resultados), columns=['repeticao','criterion','splitter','max_depth','min_samples_split','min_samples_leaf','acuracy_treino','acuracia_teste','acuracia_balanceada_teste','rec_0_teste','rec_1_teste','f1_teste','auc_teste'])\n",
    "resultados['auc_teste'] = resultados['auc_teste'].astype(float, errors = 'raise')\n",
    "resultados.sort_values(by = 'auc_teste', ascending = False)"
   ]
  },
  {
   "cell_type": "markdown",
   "metadata": {
    "id": "DAgfQ6IntxB_"
   },
   "source": [
    "Hiperparâmetros\n",
    "\n",
    "- criterion = 'gini'\n",
    "- splitter = 'best'\n",
    "- max_depth = None\n",
    "- min_samples_split por volta de 5 (<=10)\n",
    "- min_samples_leaf por volta de 50 (<=100 e >=50)"
   ]
  },
  {
   "cell_type": "code",
   "execution_count": null,
   "metadata": {
    "id": "DWBfHQ0YtxB_"
   },
   "outputs": [],
   "source": [
    "resultados = []\n",
    "\n",
    "#Definição dos dados\n",
    "X_todos = df_final9[features+featuresd1+featuresd2+featuresd3]\n",
    "y_todos = df_final9['Fechamento']  \n",
    "\n",
    "    \n",
    "#Repete os experimentos 30x\n",
    "for i in range(30):\n",
    "    \n",
    "    #Holdout:\n",
    "    X_train, X_test, y_train, y_test = train_test_split(X, y, test_size=0.3, random_state=i, stratify=y)\n",
    "        \n",
    "    #Validação cruzada com 10 kfolds\n",
    "    kfold = KFold(n_splits = 10, shuffle = True, random_state = i)\n",
    "    \n",
    "    print(\"Fazendo gridsearch - Repeticao %s\" % (i+1))\n",
    "    \n",
    "    gs = GridSearchCV(\n",
    "        DecisionTreeClassifier(random_state=i) ,\n",
    "        param_grid={\"criterion\": ['gini'],   #gini is default, modified huber é robusto a outliers\n",
    "                    \"splitter\": ['best'], ## best is default\n",
    "                    \"max_depth\": [None], ## None is default\n",
    "                    \"min_samples_split\": [1,2,3,4,5,6,7,8,9,10], ##1 is default\n",
    "                    \"min_samples_leaf\": [50,55,60,65,70,75,80,85,90,95,100] ##2 is default\n",
    "                    }, \n",
    "        scoring=scoring,\n",
    "        refit=\"bacuracy\",\n",
    "        n_jobs=2,\n",
    "        return_train_score=True,\n",
    "        cv = kfold\n",
    "            )\n",
    "        \n",
    "    #Treinando o modelo com dados de treino c/ 9 folds e utilizando 1 fold para teste\n",
    "    gs.fit(X_train, y_train)\n",
    "    \n",
    "    #Melhores resultados e hiperparâmetros encontrados\n",
    "    acuracy_treino = gs.best_score_\n",
    "    hyperparams = gs.best_params_\n",
    "    \n",
    "    ##Predizendo as classes nos dados de teste e todos dados, utilizando os melhores parâmetros\n",
    "    y_test_pred = gs.predict(X_test)\n",
    "    #y_test_pred_todos = gs.predict(X_todos)\n",
    "        \n",
    "    #Calculando acurácia \n",
    "    accuracy_teste = accuracy_score(y_test, y_test_pred)\n",
    "    #accuracy_todos = accuracy_score(y_todos, y_test_pred_todos)\n",
    "        \n",
    "    #calculando f1_score da classe 1\n",
    "    f1_teste = f1_score(y_test, y_test_pred)\n",
    "    #f1_todos = f1_score(y_todos, y_test_pred_todos)\n",
    "    \n",
    "    #calculando área sobre a curva ROC_AUC:\n",
    "    auc_teste = roc_auc_score(y_test, y_test_pred)\n",
    "    #auc_todos = roc_auc_score(y_todos, y_test_pred_todos)\n",
    "        \n",
    "    #Calculando Recall clase 1\n",
    "    rec0_teste = recall_score(y_test, y_test_pred, pos_label=0)\n",
    "    rec1_teste = recall_score(y_test, y_test_pred, pos_label=1)\n",
    "    \n",
    "    #rec0_todos = recall_score(y_todos, y_test_pred_todos, pos_label=0)\n",
    "    #rec1_todos = recall_score(y_todos, y_test_pred_todos, pos_label=1)\n",
    "    \n",
    "    #Calculando a acurácia balanceada\n",
    "    accuracy_teste_balanced = balanced_accuracy_score(y_test, y_test_pred)\n",
    "    \n",
    "    # Adicionando todos resultados em uma única lista\n",
    "    resultados.append(np.array([i,hyperparams['criterion'],hyperparams['splitter'],hyperparams['max_depth'],hyperparams['min_samples_split'],hyperparams['min_samples_leaf'],acuracy_treino,accuracy_teste,accuracy_teste_balanced,rec0_teste,rec1_teste,f1_teste,auc_teste]))\n",
    "    \n",
    "    \n",
    "#transformando os resultados para dataframe e ordenando por recall da classe 0:\n",
    "resultados = pd.DataFrame(np.array(resultados), columns=['repeticao','criterion','splitter','max_depth','min_samples_split','min_samples_leaf','acuracy_treino','acuracia_teste','acuracia_balanceada_teste','rec_0_teste','rec_1_teste','f1_teste','auc_teste'])\n",
    "resultados['auc_teste'] = resultados['auc_teste'].astype(float, errors = 'raise')\n",
    "resultados.sort_values(by = 'auc_teste', ascending = False)"
   ]
  },
  {
   "cell_type": "markdown",
   "metadata": {
    "id": "lN8dchIttxB_"
   },
   "source": [
    "Hiperparâmetros\n",
    "\n",
    "- criterion = 'gini'\n",
    "- splitter = 'best'\n",
    "- max_depth = None\n",
    "- min_samples_split = 2\n",
    "- min_samples_leaf <= 55 e >=50"
   ]
  },
  {
   "cell_type": "code",
   "execution_count": null,
   "metadata": {
    "id": "dZ7gKFjxtxB_"
   },
   "outputs": [],
   "source": [
    "resultados = []\n",
    "\n",
    "#Definição dos dados\n",
    "X_todos = df_final9[features+featuresd1+featuresd2+featuresd3]\n",
    "y_todos = df_final9['Fechamento']  \n",
    "\n",
    "    \n",
    "#Repete os experimentos 50x\n",
    "for i in range(50):\n",
    "    \n",
    "    #Holdout:\n",
    "    X_train, X_test, y_train, y_test = train_test_split(X, y, test_size=0.3, random_state=i, stratify=y)\n",
    "        \n",
    "    #Validação cruzada com 10 kfolds\n",
    "    kfold = KFold(n_splits = 10, shuffle = True, random_state = i)\n",
    "    \n",
    "    print(\"Fazendo gridsearch - Repeticao %s\" % (i+1))\n",
    "    \n",
    "    gs = GridSearchCV(\n",
    "        DecisionTreeClassifier(random_state=i) ,\n",
    "        param_grid={\"criterion\": ['gini'],   #gini is default, modified huber é robusto a outliers\n",
    "                    \"splitter\": ['best'], ## best is default\n",
    "                    \"max_depth\": [None], ## None is default\n",
    "                    \"min_samples_split\": [2], ##1 is default\n",
    "                    \"min_samples_leaf\": [50,51,52,53,54,55] ##2 is default\n",
    "                    }, \n",
    "        scoring=scoring,\n",
    "        refit=\"bacuracy\",\n",
    "        n_jobs=2,\n",
    "        return_train_score=True,\n",
    "        cv = kfold\n",
    "            )\n",
    "        \n",
    "    #Treinando o modelo com dados de treino c/ 9 folds e utilizando 1 fold para teste\n",
    "    gs.fit(X_train, y_train)\n",
    "    \n",
    "    #Melhores resultados e hiperparâmetros encontrados\n",
    "    acuracy_treino = gs.best_score_\n",
    "    hyperparams = gs.best_params_\n",
    "    \n",
    "    ##Predizendo as classes nos dados de teste e todos dados, utilizando os melhores parâmetros\n",
    "    y_test_pred = gs.predict(X_test)\n",
    "    #y_test_pred_todos = gs.predict(X_todos)\n",
    "        \n",
    "    #Calculando acurácia \n",
    "    accuracy_teste = accuracy_score(y_test, y_test_pred)\n",
    "    #accuracy_todos = accuracy_score(y_todos, y_test_pred_todos)\n",
    "        \n",
    "    #calculando f1_score da classe 1\n",
    "    f1_teste = f1_score(y_test, y_test_pred)\n",
    "    #f1_todos = f1_score(y_todos, y_test_pred_todos)\n",
    "    \n",
    "    #calculando área sobre a curva ROC_AUC:\n",
    "    auc_teste = roc_auc_score(y_test, y_test_pred)\n",
    "    #auc_todos = roc_auc_score(y_todos, y_test_pred_todos)\n",
    "        \n",
    "    #Calculando Recall clase 1\n",
    "    rec0_teste = recall_score(y_test, y_test_pred, pos_label=0)\n",
    "    rec1_teste = recall_score(y_test, y_test_pred, pos_label=1)\n",
    "    \n",
    "    #rec0_todos = recall_score(y_todos, y_test_pred_todos, pos_label=0)\n",
    "    #rec1_todos = recall_score(y_todos, y_test_pred_todos, pos_label=1)\n",
    "    \n",
    "    #Calculando a acurácia balanceada\n",
    "    accuracy_teste_balanced = balanced_accuracy_score(y_test, y_test_pred)\n",
    "    \n",
    "    # Adicionando todos resultados em uma única lista\n",
    "    resultados.append(np.array([i,hyperparams['criterion'],hyperparams['splitter'],hyperparams['max_depth'],hyperparams['min_samples_split'],hyperparams['min_samples_leaf'],acuracy_treino,accuracy_teste,accuracy_teste_balanced,rec0_teste,rec1_teste,f1_teste,auc_teste]))\n",
    "    \n",
    "    \n",
    "#transformando os resultados para dataframe e ordenando por recall da classe 0:\n",
    "resultados = pd.DataFrame(np.array(resultados), columns=['repeticao','criterion','splitter','max_depth','min_samples_split','min_samples_leaf','acuracy_treino','acuracia_teste','acuracia_balanceada_teste','rec_0_teste','rec_1_teste','f1_teste','auc_teste'])\n",
    "resultados['auc_teste'] = resultados['auc_teste'].astype(float, errors = 'raise')\n",
    "resultados.sort_values(by = 'auc_teste', ascending = False)"
   ]
  },
  {
   "cell_type": "markdown",
   "metadata": {
    "id": "RnOpq7getxB_"
   },
   "source": [
    "Hiperparâmetros\n",
    "\n",
    "- criterion = 'gini'\n",
    "- splitter = 'best'\n",
    "- max_depth = None\n",
    "- min_samples_split = 2\n",
    "- min_samples_leaf entre 50, 54 e 52"
   ]
  },
  {
   "cell_type": "code",
   "execution_count": null,
   "metadata": {
    "id": "F75sknRCtxCA"
   },
   "outputs": [],
   "source": [
    "resultados = []\n",
    "\n",
    "#Definição dos dados\n",
    "X_todos = df_final9[features+featuresd1+featuresd2+featuresd3]\n",
    "y_todos = df_final9['Fechamento']  \n",
    "\n",
    "    \n",
    "#Repete os experimentos 50x\n",
    "for i in range(50):\n",
    "    \n",
    "    #Holdout:\n",
    "    X_train, X_test, y_train, y_test = train_test_split(X, y, test_size=0.3, random_state=i, stratify=y)\n",
    "        \n",
    "    #Validação cruzada com 10 kfolds\n",
    "    kfold = KFold(n_splits = 10, shuffle = True, random_state = i)\n",
    "    \n",
    "    print(\"Fazendo gridsearch - Repeticao %s\" % (i+1))\n",
    "    \n",
    "    gs = GridSearchCV(\n",
    "        DecisionTreeClassifier(random_state=i) ,\n",
    "        param_grid={\"criterion\": ['gini'],   #gini is default, modified huber é robusto a outliers\n",
    "                    \"splitter\": ['best'], ## best is default\n",
    "                    \"max_depth\": [None], ## None is default\n",
    "                    \"min_samples_split\": [2], ##1 is default\n",
    "                    \"min_samples_leaf\": [50,52,54] ##2 is default\n",
    "                    }, \n",
    "        scoring=scoring,\n",
    "        refit=\"bacuracy\",\n",
    "        n_jobs=2,\n",
    "        return_train_score=True,\n",
    "        cv = kfold\n",
    "            )\n",
    "        \n",
    "    #Treinando o modelo com dados de treino c/ 9 folds e utilizando 1 fold para teste\n",
    "    gs.fit(X_train, y_train)\n",
    "    \n",
    "    #Melhores resultados e hiperparâmetros encontrados\n",
    "    acuracy_treino = gs.best_score_\n",
    "    hyperparams = gs.best_params_\n",
    "    \n",
    "    ##Predizendo as classes nos dados de teste e todos dados, utilizando os melhores parâmetros\n",
    "    y_test_pred = gs.predict(X_test)\n",
    "    #y_test_pred_todos = gs.predict(X_todos)\n",
    "        \n",
    "    #Calculando acurácia \n",
    "    accuracy_teste = accuracy_score(y_test, y_test_pred)\n",
    "    #accuracy_todos = accuracy_score(y_todos, y_test_pred_todos)\n",
    "        \n",
    "    #calculando f1_score da classe 1\n",
    "    f1_teste = f1_score(y_test, y_test_pred)\n",
    "    #f1_todos = f1_score(y_todos, y_test_pred_todos)\n",
    "    \n",
    "    #calculando área sobre a curva ROC_AUC:\n",
    "    auc_teste = roc_auc_score(y_test, y_test_pred)\n",
    "    #auc_todos = roc_auc_score(y_todos, y_test_pred_todos)\n",
    "        \n",
    "    #Calculando Recall clase 1\n",
    "    rec0_teste = recall_score(y_test, y_test_pred, pos_label=0)\n",
    "    rec1_teste = recall_score(y_test, y_test_pred, pos_label=1)\n",
    "    \n",
    "    #rec0_todos = recall_score(y_todos, y_test_pred_todos, pos_label=0)\n",
    "    #rec1_todos = recall_score(y_todos, y_test_pred_todos, pos_label=1)\n",
    "    \n",
    "    #Calculando a acurácia balanceada\n",
    "    accuracy_teste_balanced = balanced_accuracy_score(y_test, y_test_pred)\n",
    "    \n",
    "    # Adicionando todos resultados em uma única lista\n",
    "    resultados.append(np.array([i,hyperparams['criterion'],hyperparams['splitter'],hyperparams['max_depth'],hyperparams['min_samples_split'],hyperparams['min_samples_leaf'],acuracy_treino,accuracy_teste,accuracy_teste_balanced,rec0_teste,rec1_teste,f1_teste,auc_teste]))\n",
    "    \n",
    "    \n",
    "#transformando os resultados para dataframe e ordenando por recall da classe 0:\n",
    "resultados = pd.DataFrame(np.array(resultados), columns=['repeticao','criterion','splitter','max_depth','min_samples_split','min_samples_leaf','acuracy_treino','acuracia_teste','acuracia_balanceada_teste','rec_0_teste','rec_1_teste','f1_teste','auc_teste'])\n",
    "resultados['auc_teste'] = resultados['auc_teste'].astype(float, errors = 'raise')\n",
    "resultados.sort_values(by = 'auc_teste', ascending = False)"
   ]
  },
  {
   "cell_type": "markdown",
   "metadata": {
    "id": "NBerBd3VtxCA"
   },
   "source": [
    "Hiperparâmetros\n",
    "\n",
    "- criterion = 'gini'\n",
    "- splitter = 'best'\n",
    "- max_depth = None\n",
    "- min_samples_split = 2\n",
    "- min_samples_leaf = 50"
   ]
  },
  {
   "cell_type": "code",
   "execution_count": null,
   "metadata": {
    "id": "Laq-3lvRtxCA"
   },
   "outputs": [],
   "source": [
    "X = df_final9[features+featuresd1+featuresd2+featuresd3]\n",
    "y = df_final9['Fechamento'] \n",
    "\n",
    "X_train, X_test, y_train, y_test = train_test_split(X, y, test_size=0.3, random_state=28, stratify=y)\n",
    "\n",
    "dt = DecisionTreeClassifier(random_state=28, criterion = 'gini', splitter = 'best', max_depth = None, min_samples_split = 2,min_samples_leaf = 50 )\n",
    "dt.fit(X_train,y_train)\n"
   ]
  },
  {
   "cell_type": "code",
   "execution_count": null,
   "metadata": {
    "id": "u0MEc1HVtxCA"
   },
   "outputs": [],
   "source": [
    "#Predizendo y\n",
    "y_pred = dt.predict(X_test)\n",
    "\n",
    "#Relatórios e matriz de confusao\n",
    "print(\"Classification Report Dados:\\n\",classification_report(y_test,y_pred))\n",
    "print(\"\")\n",
    "print(\"Confusion Matrix Dados de Producao:\\n\",confusion_matrix(y_test,y_pred))\n",
    "print(\"\")"
   ]
  },
  {
   "cell_type": "code",
   "execution_count": null,
   "metadata": {
    "id": "ZQftP0CDtxCA"
   },
   "outputs": [],
   "source": [
    "#Calculando o recall\n",
    "recall_0 = recall_score(y_test, y_pred, pos_label=0)\n",
    "recall_1 = recall_score(y_test, y_pred, pos_label=1)\n",
    "\n",
    "#Calculando acurácia \n",
    "accuracy = accuracy_score(y_test, y_pred)\n",
    "\n",
    "#Calculando acurácia balanceada\n",
    "accuracy_balanced = balanced_accuracy_score(y_test, y_pred)\n",
    "\n",
    "#calculando f1_score\n",
    "f1_0 = f1_score(y_test, y_pred,pos_label=0)\n",
    "f1_1 = f1_score(y_test, y_pred,pos_label=1)\n",
    "\n",
    "#Calculando AUC\n",
    "auc = roc_auc_score(y_test, y_pred)\n",
    "\n",
    "print(\"Recall_0: %s\" % (recall_0))\n",
    "print(\"Recall_1: %s\" % (recall_1))\n",
    "print(\"Acuracia: %s\" % (accuracy))\n",
    "print(\"Acuracia Balanceada: %s\" % (accuracy_balanced))\n",
    "print(\"F1_Score_0: %s\" % (f1_0))\n",
    "print(\"F1_Score_1: %s\" % (f1_1))\n",
    "print(\"AUC: %s\" % (auc))\n"
   ]
  },
  {
   "cell_type": "markdown",
   "metadata": {
    "id": "Gji2KE9ntxCB"
   },
   "source": [
    "## 8.13 MLP"
   ]
  },
  {
   "cell_type": "code",
   "execution_count": null,
   "metadata": {
    "id": "Atmz4H1wtxCB"
   },
   "outputs": [],
   "source": [
    "from sklearn.neural_network import MLPClassifier "
   ]
  },
  {
   "cell_type": "code",
   "execution_count": null,
   "metadata": {
    "id": "2moQOQqTtxCB"
   },
   "outputs": [],
   "source": [
    "acuracia_dados = make_scorer(accuracy_score)\n",
    "f1_dados = make_scorer(f1_score)\n",
    "balanced_acc_dados = make_scorer(balanced_accuracy_score)\n",
    "scoring = {\"accuracy\": acuracia_dados, \"f1\":f1_dados, \"bacuracy\":balanced_acc_dados}"
   ]
  },
  {
   "cell_type": "code",
   "execution_count": null,
   "metadata": {
    "id": "UKr9_znmtxCB"
   },
   "outputs": [],
   "source": [
    "resultados = []\n",
    "\n",
    "#Definição dos dados\n",
    "X_todos = df_final9[features+featuresd1+featuresd2+featuresd3]\n",
    "y_todos = df_final9['Fechamento']  \n",
    "\n",
    "    \n",
    "#Repete os experimentos 10x\n",
    "for i in range(10):\n",
    "    \n",
    "    #Holdout:\n",
    "    X_train, X_test, y_train, y_test = train_test_split(X, y, test_size=0.3, random_state=i, stratify=y)\n",
    "        \n",
    "    #Validação cruzada com 10 kfolds\n",
    "    kfold = KFold(n_splits = 10, shuffle = True, random_state = i)\n",
    "    \n",
    "    print(\"Fazendo gridsearch - Repeticao %s\" % (i+1))\n",
    "    \n",
    "    gs = GridSearchCV(\n",
    "        MLPClassifier(random_state=i) ,\n",
    "        param_grid={\"hidden_layer_sizes\": [10], \n",
    "                    \"max_iter\": [200], \n",
    "                    \"activation\": ['identity','logistic','tanh','relu'],\n",
    "                    \"learning_rate_init\": [0.001],\n",
    "                    \"solver\": ['lbfgs','sgd','adam'],\n",
    "                    \"alpha\": [0.0001]   }, \n",
    "        scoring=scoring,\n",
    "        refit=\"bacuracy\",\n",
    "        n_jobs=2,\n",
    "        return_train_score=True,\n",
    "        cv = kfold\n",
    "            )\n",
    "        \n",
    "    #Treinando o modelo com dados de treino c/ 9 folds e utilizando 1 fold para teste\n",
    "    gs.fit(X_train, y_train)\n",
    "    \n",
    "    #Melhores resultados e hiperparâmetros encontrados\n",
    "    acuracy_treino = gs.best_score_\n",
    "    hyperparams = gs.best_params_\n",
    "    \n",
    "    ##Predizendo as classes nos dados de teste e todos dados, utilizando os melhores parâmetros\n",
    "    y_test_pred = gs.predict(X_test)\n",
    "    #y_test_pred_todos = gs.predict(X_todos)\n",
    "        \n",
    "    #Calculando acurácia \n",
    "    accuracy_teste = accuracy_score(y_test, y_test_pred)\n",
    "    #accuracy_todos = accuracy_score(y_todos, y_test_pred_todos)\n",
    "        \n",
    "    #calculando f1_score da classe 1\n",
    "    f1_teste = f1_score(y_test, y_test_pred)\n",
    "    #f1_todos = f1_score(y_todos, y_test_pred_todos)\n",
    "    \n",
    "    #calculando área sobre a curva ROC_AUC:\n",
    "    auc_teste = roc_auc_score(y_test, y_test_pred)\n",
    "    #auc_todos = roc_auc_score(y_todos, y_test_pred_todos)\n",
    "        \n",
    "    #Calculando Recall clase 1\n",
    "    rec0_teste = recall_score(y_test, y_test_pred, pos_label=0)\n",
    "    rec1_teste = recall_score(y_test, y_test_pred, pos_label=1)\n",
    "    \n",
    "    #rec0_todos = recall_score(y_todos, y_test_pred_todos, pos_label=0)\n",
    "    #rec1_todos = recall_score(y_todos, y_test_pred_todos, pos_label=1)\n",
    "    \n",
    "    #Calculando a acurácia balanceada\n",
    "    accuracy_teste_balanced = balanced_accuracy_score(y_test, y_test_pred)\n",
    "    \n",
    "    # Adicionando todos resultados em uma única lista\n",
    "    resultados.append(np.array([i,hyperparams['hidden_layer_sizes'],hyperparams['max_iter'],hyperparams['activation'],hyperparams['learning_rate_init'],hyperparams['solver'],hyperparams['alpha'],acuracy_treino,accuracy_teste,accuracy_teste_balanced,rec0_teste,rec1_teste,f1_teste,auc_teste]))"
   ]
  },
  {
   "cell_type": "code",
   "execution_count": null,
   "metadata": {
    "id": "PvtqHpDMtxCB"
   },
   "outputs": [],
   "source": [
    "#transformando os resultados para dataframe e ordenando por recall da classe 0:\n",
    "resultados = pd.DataFrame(np.array(resultados), columns=['repeticao','hidden_layer_sizes','max_iter','activation','learning_rate_init','solver','alpha','acuracy_treino','acuracia_teste','acuracia_balanceada_teste','rec_0_teste','rec_1_teste','f1_teste','auc_teste'])\n",
    "resultados.sort_values(by = 'auc_teste', ascending = False)"
   ]
  },
  {
   "cell_type": "markdown",
   "metadata": {
    "id": "O82TtC-UtxCB"
   },
   "source": [
    "Hiperparâmetros\n",
    "\n",
    "- hidden_layer_sizes = \n",
    "- max_iter =\n",
    "- activation = entre identity e relu\n",
    "- learning_rate_init = \n",
    "- solver = entre adam e sgd\n",
    "- alpha = "
   ]
  },
  {
   "cell_type": "code",
   "execution_count": null,
   "metadata": {
    "id": "KwrdxO1otxCC"
   },
   "outputs": [],
   "source": [
    "resultados = []\n",
    "\n",
    "#Definição dos dados\n",
    "X_todos = df_final9[features+featuresd1+featuresd2+featuresd3]\n",
    "y_todos = df_final9['Fechamento']  \n",
    "\n",
    "    \n",
    "#Repete os experimentos 10x\n",
    "for i in range(10):\n",
    "    \n",
    "    #Holdout:\n",
    "    X_train, X_test, y_train, y_test = train_test_split(X, y, test_size=0.3, random_state=i, stratify=y)\n",
    "        \n",
    "    #Validação cruzada com 10 kfolds\n",
    "    kfold = KFold(n_splits = 10, shuffle = True, random_state = i)\n",
    "    \n",
    "    print(\"Fazendo gridsearch - Repeticao %s\" % (i+1))\n",
    "    \n",
    "    gs = GridSearchCV(\n",
    "        MLPClassifier(random_state=i) ,\n",
    "        param_grid={\"hidden_layer_sizes\": [10,20,30], \n",
    "                    \"max_iter\": [100,200,300], \n",
    "                    \"activation\": ['identity','relu'],\n",
    "                    \"learning_rate_init\": [0.001,0.01,0.0001],\n",
    "                    \"solver\": ['sgd','adam'],\n",
    "                    \"alpha\": [0.0001, 0.001, 0.00001]   }, \n",
    "        scoring=scoring,\n",
    "        refit=\"bacuracy\",\n",
    "        n_jobs=2,\n",
    "        return_train_score=True,\n",
    "        cv = kfold\n",
    "            )\n",
    "        \n",
    "    #Treinando o modelo com dados de treino c/ 9 folds e utilizando 1 fold para teste\n",
    "    gs.fit(X_train, y_train)\n",
    "    \n",
    "    #Melhores resultados e hiperparâmetros encontrados\n",
    "    acuracy_treino = gs.best_score_\n",
    "    hyperparams = gs.best_params_\n",
    "    \n",
    "    ##Predizendo as classes nos dados de teste e todos dados, utilizando os melhores parâmetros\n",
    "    y_test_pred = gs.predict(X_test)\n",
    "    #y_test_pred_todos = gs.predict(X_todos)\n",
    "        \n",
    "    #Calculando acurácia \n",
    "    accuracy_teste = accuracy_score(y_test, y_test_pred)\n",
    "    #accuracy_todos = accuracy_score(y_todos, y_test_pred_todos)\n",
    "        \n",
    "    #calculando f1_score da classe 1\n",
    "    f1_teste = f1_score(y_test, y_test_pred)\n",
    "    #f1_todos = f1_score(y_todos, y_test_pred_todos)\n",
    "    \n",
    "    #calculando área sobre a curva ROC_AUC:\n",
    "    auc_teste = roc_auc_score(y_test, y_test_pred)\n",
    "    #auc_todos = roc_auc_score(y_todos, y_test_pred_todos)\n",
    "        \n",
    "    #Calculando Recall clase 1\n",
    "    rec0_teste = recall_score(y_test, y_test_pred, pos_label=0)\n",
    "    rec1_teste = recall_score(y_test, y_test_pred, pos_label=1)\n",
    "    \n",
    "    #rec0_todos = recall_score(y_todos, y_test_pred_todos, pos_label=0)\n",
    "    #rec1_todos = recall_score(y_todos, y_test_pred_todos, pos_label=1)\n",
    "    \n",
    "    #Calculando a acurácia balanceada\n",
    "    accuracy_teste_balanced = balanced_accuracy_score(y_test, y_test_pred)\n",
    "    \n",
    "    # Adicionando todos resultados em uma única lista\n",
    "    resultados.append(np.array([i,hyperparams['hidden_layer_sizes'],hyperparams['max_iter'],hyperparams['activation'],hyperparams['learning_rate_init'],hyperparams['solver'],hyperparams['alpha'],acuracy_treino,accuracy_teste,accuracy_teste_balanced,rec0_teste,rec1_teste,f1_teste,auc_teste]))"
   ]
  },
  {
   "cell_type": "code",
   "execution_count": null,
   "metadata": {
    "id": "2tqPRavPtxCC"
   },
   "outputs": [],
   "source": [
    "#transformando os resultados para dataframe e ordenando por recall da classe 0:\n",
    "resultados = pd.DataFrame(np.array(resultados), columns=['repeticao','hidden_layer_sizes','max_iter','activation','learning_rate_init','solver','alpha','acuracy_treino','acuracia_teste','acuracia_balanceada_teste','rec_0_teste','rec_1_teste','f1_teste','auc_teste'])\n",
    "resultados.sort_values(by = 'auc_teste', ascending = False)"
   ]
  },
  {
   "cell_type": "markdown",
   "metadata": {
    "id": "qNCwbLRZtxCC"
   },
   "source": [
    "Hiperparâmetros\n",
    "\n",
    "- hidden_layer_sizes = entre 10 e 20\n",
    "- max_iter = entre 200 e 300\n",
    "- activation = relu\n",
    "- learning_rate_init = 0.01\n",
    "- solver = entre adam e sgd\n",
    "- alpha = 0.0001"
   ]
  },
  {
   "cell_type": "code",
   "execution_count": null,
   "metadata": {
    "id": "imJgPx3QtxCC"
   },
   "outputs": [],
   "source": [
    "resultados = []\n",
    "\n",
    "#Definição dos dados\n",
    "X_todos = df_final9[features+featuresd1+featuresd2+featuresd3]\n",
    "y_todos = df_final9['Fechamento']  \n",
    "\n",
    "    \n",
    "#Repete os experimentos 10x\n",
    "for i in range(10):\n",
    "    \n",
    "    #Holdout:\n",
    "    X_train, X_test, y_train, y_test = train_test_split(X, y, test_size=0.3, random_state=i, stratify=y)\n",
    "        \n",
    "    #Validação cruzada com 10 kfolds\n",
    "    kfold = KFold(n_splits = 10, shuffle = True, random_state = i)\n",
    "    \n",
    "    print(\"Fazendo gridsearch - Repeticao %s\" % (i+1))\n",
    "    \n",
    "    gs = GridSearchCV(\n",
    "        MLPClassifier(random_state=i) ,\n",
    "        param_grid={\"hidden_layer_sizes\": [10,12,14,16,18,20], \n",
    "                    \"max_iter\": [200,220,240,260,280,300], \n",
    "                    \"activation\": ['relu'],\n",
    "                    \"learning_rate_init\": [0.1,0.01],\n",
    "                    \"solver\": ['sgd','adam'],\n",
    "                    \"alpha\": [0.001]   }, \n",
    "        scoring=scoring,\n",
    "        refit=\"bacuracy\",\n",
    "        n_jobs=2,\n",
    "        return_train_score=True,\n",
    "        cv = kfold\n",
    "            )\n",
    "        \n",
    "    #Treinando o modelo com dados de treino c/ 9 folds e utilizando 1 fold para teste\n",
    "    gs.fit(X_train, y_train)\n",
    "    \n",
    "    #Melhores resultados e hiperparâmetros encontrados\n",
    "    acuracy_treino = gs.best_score_\n",
    "    hyperparams = gs.best_params_\n",
    "    \n",
    "    ##Predizendo as classes nos dados de teste e todos dados, utilizando os melhores parâmetros\n",
    "    y_test_pred = gs.predict(X_test)\n",
    "    #y_test_pred_todos = gs.predict(X_todos)\n",
    "        \n",
    "    #Calculando acurácia \n",
    "    accuracy_teste = accuracy_score(y_test, y_test_pred)\n",
    "    #accuracy_todos = accuracy_score(y_todos, y_test_pred_todos)\n",
    "        \n",
    "    #calculando f1_score da classe 1\n",
    "    f1_teste = f1_score(y_test, y_test_pred)\n",
    "    #f1_todos = f1_score(y_todos, y_test_pred_todos)\n",
    "    \n",
    "    #calculando área sobre a curva ROC_AUC:\n",
    "    auc_teste = roc_auc_score(y_test, y_test_pred)\n",
    "    #auc_todos = roc_auc_score(y_todos, y_test_pred_todos)\n",
    "        \n",
    "    #Calculando Recall clase 1\n",
    "    rec0_teste = recall_score(y_test, y_test_pred, pos_label=0)\n",
    "    rec1_teste = recall_score(y_test, y_test_pred, pos_label=1)\n",
    "    \n",
    "    #rec0_todos = recall_score(y_todos, y_test_pred_todos, pos_label=0)\n",
    "    #rec1_todos = recall_score(y_todos, y_test_pred_todos, pos_label=1)\n",
    "    \n",
    "    #Calculando a acurácia balanceada\n",
    "    accuracy_teste_balanced = balanced_accuracy_score(y_test, y_test_pred)\n",
    "    \n",
    "    # Adicionando todos resultados em uma única lista\n",
    "    resultados.append(np.array([i,hyperparams['hidden_layer_sizes'],hyperparams['max_iter'],hyperparams['activation'],hyperparams['learning_rate_init'],hyperparams['solver'],hyperparams['alpha'],acuracy_treino,accuracy_teste,accuracy_teste_balanced,rec0_teste,rec1_teste,f1_teste,auc_teste]))"
   ]
  },
  {
   "cell_type": "code",
   "execution_count": null,
   "metadata": {
    "id": "aNyc-sX4txCC"
   },
   "outputs": [],
   "source": [
    "#transformando os resultados para dataframe e ordenando por recall da classe 0:\n",
    "resultados = pd.DataFrame(np.array(resultados), columns=['repeticao','hidden_layer_sizes','max_iter','activation','learning_rate_init','solver','alpha','acuracy_treino','acuracia_teste','acuracia_balanceada_teste','rec_0_teste','rec_1_teste','f1_teste','auc_teste'])\n",
    "resultados.sort_values(by = 'auc_teste', ascending = False)"
   ]
  },
  {
   "cell_type": "markdown",
   "metadata": {
    "id": "UuMS1mzdtxCC"
   },
   "source": [
    "Hiperparâmetros\n",
    "\n",
    "- hidden_layer_sizes = 20\n",
    "- max_iter = 280\n",
    "- activation = relu\n",
    "- learning_rate_init = 0.01\n",
    "- solver = sgd\n",
    "- alpha = 0.0001"
   ]
  },
  {
   "cell_type": "markdown",
   "metadata": {
    "id": "VIn0WCHTtxCC"
   },
   "source": [
    "### 8.13.1 MLP Modelo Final"
   ]
  },
  {
   "cell_type": "code",
   "execution_count": null,
   "metadata": {
    "id": "7Ir19uKgtxCD"
   },
   "outputs": [],
   "source": [
    "X = df_final9[features+featuresd1+featuresd2+featuresd3]\n",
    "y = df_final9['Fechamento'] \n",
    "\n",
    "X_train, X_test, y_train, y_test = train_test_split(X, y, test_size=0.3, random_state=3, stratify=y)\n",
    "\n",
    "mlp = MLPClassifier(random_state=i, hidden_layer_sizes = 20,  max_iter = 280, activation = 'relu', \n",
    "                    learning_rate_init = 0.01, solver = 'sgd', alpha = 0.0001 )\n",
    "mlp.fit(X_train,y_train)"
   ]
  },
  {
   "cell_type": "code",
   "execution_count": null,
   "metadata": {
    "id": "028CPTcdtxCD"
   },
   "outputs": [],
   "source": [
    "#Predizendo y\n",
    "y_pred = mlp.predict(X_test)\n",
    "\n",
    "#Relatórios e matriz de confusao\n",
    "print(\"Classification Report Dados:\\n\",classification_report(y_test,y_pred))\n",
    "print(\"\")\n",
    "print(\"Confusion Matrix Dados de Producao:\\n\",confusion_matrix(y_test,y_pred))\n",
    "print(\"\")\n"
   ]
  },
  {
   "cell_type": "code",
   "execution_count": null,
   "metadata": {
    "id": "qLEIU119txCD"
   },
   "outputs": [],
   "source": [
    "#Calculando acurácia \n",
    "accuracy = accuracy_score(y_test, y_pred)\n",
    "\n",
    "#Calculando acurácia balanceada\n",
    "accuracy_balanced = balanced_accuracy_score(y_test, y_pred)\n",
    "\n",
    "#calculando f1_score\n",
    "f1_0 = f1_score(y_test, y_pred,pos_label=0)\n",
    "f1_1 = f1_score(y_test, y_pred,pos_label=1)\n",
    "\n",
    "#Calculando AUC\n",
    "auc = roc_auc_score(y_test, y_pred)\n",
    "\n",
    "print(\"Recall_0: %s\" % (recall_0))\n",
    "print(\"Recall_1: %s\" % (recall_1))\n",
    "print(\"Acuracia: %s\" % (accuracy))\n",
    "print(\"Acuracia Balanceada: %s\" % (accuracy_balanced))\n",
    "print(\"F1_Score_0: %s\" % (f1_0))\n",
    "print(\"F1_Score_1: %s\" % (f1_1))\n",
    "print(\"AUC: %s\" % (auc))"
   ]
  },
  {
   "cell_type": "markdown",
   "metadata": {
    "id": "fZ134YHCtxCD"
   },
   "source": [
    "## 8.14 KNN"
   ]
  },
  {
   "cell_type": "code",
   "execution_count": null,
   "metadata": {
    "id": "jhxvMMGhtxCD"
   },
   "outputs": [],
   "source": [
    "from sklearn.neighbors import KNeighborsClassifier"
   ]
  },
  {
   "cell_type": "code",
   "execution_count": null,
   "metadata": {
    "id": "NCtfSIBztxCD"
   },
   "outputs": [],
   "source": [
    "acuracia_dados = make_scorer(accuracy_score)\n",
    "f1_dados = make_scorer(f1_score)\n",
    "balanced_acc_dados = make_scorer(balanced_accuracy_score)\n",
    "scoring = {\"accuracy\": acuracia_dados, \"f1\":f1_dados, \"bacuracy\":balanced_acc_dados}"
   ]
  },
  {
   "cell_type": "code",
   "execution_count": null,
   "metadata": {
    "id": "QyNAPLUqtxCD"
   },
   "outputs": [],
   "source": [
    "resultados = []\n",
    "\n",
    "#Definição dos dados\n",
    "X_todos = df_final9[features+featuresd1+featuresd2+featuresd3]\n",
    "y_todos = df_final9['Fechamento']  \n",
    "\n",
    "    \n",
    "#Repete os experimentos 30x\n",
    "for i in range(30):\n",
    "    \n",
    "    #Holdout:\n",
    "    X_train, X_test, y_train, y_test = train_test_split(X, y, test_size=0.3, random_state=i, stratify=y)\n",
    "        \n",
    "    #Validação cruzada com 10 kfolds\n",
    "    kfold = KFold(n_splits = 10, shuffle = True, random_state = i)\n",
    "    \n",
    "    print(\"Fazendo gridsearch - Repeticao %s\" % (i+1))\n",
    "    \n",
    "    gs = GridSearchCV(\n",
    "        KNeighborsClassifier() ,\n",
    "        param_grid={\"n_neighbors\": [1,2,3,4,5,6,7],   ## 5 is default\n",
    "                    \"weights\": ['uniform', 'distance'], ## uniform is default\n",
    "                    \"algorithm\": ['auto', 'ball_tree', 'kd_tree', 'brute'], ## Auto is default\n",
    "                    \"metric\": ['euclidean','manhattan','minkowski'], ## minkowski is default\n",
    "                    }, \n",
    "        scoring=scoring,\n",
    "        refit=\"bacuracy\",\n",
    "        n_jobs=2,\n",
    "        return_train_score=True,\n",
    "        cv = kfold\n",
    "            )\n",
    "        \n",
    "    #Treinando o modelo com dados de treino c/ 9 folds e utilizando 1 fold para teste\n",
    "    gs.fit(X_train, y_train)\n",
    "    \n",
    "    #Melhores resultados e hiperparâmetros encontrados\n",
    "    acuracy_treino = gs.best_score_\n",
    "    hyperparams = gs.best_params_\n",
    "    \n",
    "    ##Predizendo as classes nos dados de teste e todos dados, utilizando os melhores parâmetros\n",
    "    y_test_pred = gs.predict(X_test)\n",
    "    #y_test_pred_todos = gs.predict(X_todos)\n",
    "        \n",
    "    #Calculando acurácia \n",
    "    accuracy_teste = accuracy_score(y_test, y_test_pred)\n",
    "    #accuracy_todos = accuracy_score(y_todos, y_test_pred_todos)\n",
    "        \n",
    "    #calculando f1_score da classe 1\n",
    "    f1_teste = f1_score(y_test, y_test_pred)\n",
    "    #f1_todos = f1_score(y_todos, y_test_pred_todos)\n",
    "    \n",
    "    #calculando área sobre a curva ROC_AUC:\n",
    "    auc_teste = roc_auc_score(y_test, y_test_pred)\n",
    "    #auc_todos = roc_auc_score(y_todos, y_test_pred_todos)\n",
    "        \n",
    "    #Calculando Recall clase 1\n",
    "    rec0_teste = recall_score(y_test, y_test_pred, pos_label=0)\n",
    "    rec1_teste = recall_score(y_test, y_test_pred, pos_label=1)\n",
    "    \n",
    "    #rec0_todos = recall_score(y_todos, y_test_pred_todos, pos_label=0)\n",
    "    #rec1_todos = recall_score(y_todos, y_test_pred_todos, pos_label=1)\n",
    "    \n",
    "    #Calculando a acurácia balanceada\n",
    "    accuracy_teste_balanced = balanced_accuracy_score(y_test, y_test_pred)\n",
    "    \n",
    "    # Adicionando todos resultados em uma única lista\n",
    "    resultados.append(np.array([i,hyperparams['n_neighbors'],hyperparams['weights'],hyperparams['algorithm'],hyperparams['metric'],acuracy_treino,accuracy_teste,accuracy_teste_balanced,rec0_teste,rec1_teste,f1_teste,auc_teste]))\n",
    "    \n",
    "    \n",
    "#transformando os resultados para dataframe e ordenando por recall da classe 0:\n",
    "resultados = pd.DataFrame(np.array(resultados), columns=['repeticao','n_neighbors','weights','algorithm','metric','acuracy_treino','acuracia_teste','acuracia_balanceada_teste','rec_0_teste','rec_1_teste','f1_teste','auc_teste'])\n",
    "resultados['auc_teste'] = resultados['auc_teste'].astype(float, errors = 'raise')\n",
    "resultados.sort_values(by = 'auc_teste', ascending = False)"
   ]
  },
  {
   "cell_type": "markdown",
   "metadata": {
    "id": "x9c7tyLJtxCE"
   },
   "source": [
    "Hiperparâmetros\n",
    "\n",
    "- n_neighbors = 1\n",
    "- weights = uniform\n",
    "- algorithm = auto\n",
    "- metric = manhattan"
   ]
  },
  {
   "cell_type": "code",
   "execution_count": null,
   "metadata": {
    "id": "CQnux7V5txCE"
   },
   "outputs": [],
   "source": [
    "X = df_final9[features+featuresd1+featuresd2+featuresd3]\n",
    "y = df_final9['Fechamento'] \n",
    "\n",
    "X_train, X_test, y_train, y_test = train_test_split(X, y, test_size=0.3, random_state=21, stratify=y)\n",
    "\n",
    "knn = KNeighborsClassifier( n_neighbors = 1, weights = 'uniform', algorithm = 'auto',metric = 'manhattan' )\n",
    "knn.fit(X_train,y_train)"
   ]
  },
  {
   "cell_type": "code",
   "execution_count": null,
   "metadata": {
    "id": "-bjxPLJztxCE"
   },
   "outputs": [],
   "source": [
    "#Predizendo y\n",
    "y_pred = knn.predict(X_test)\n",
    "\n",
    "#Relatórios e matriz de confusao\n",
    "print(\"Classification Report Dados:\\n\",classification_report(y_test,y_pred))\n",
    "print(\"\")\n",
    "print(\"Confusion Matrix Dados de Producao:\\n\",confusion_matrix(y_test,y_pred))\n",
    "print(\"\")\n"
   ]
  },
  {
   "cell_type": "code",
   "execution_count": null,
   "metadata": {
    "id": "E1OC6I9_txCE"
   },
   "outputs": [],
   "source": [
    "#Calculando o recall\n",
    "recall_0 = recall_score(y_test, y_pred, pos_label=0)\n",
    "recall_1 = recall_score(y_test, y_pred, pos_label=1)\n",
    "\n",
    "#Calculando acurácia \n",
    "accuracy = accuracy_score(y_test, y_pred)\n",
    "\n",
    "#Calculando acurácia balanceada\n",
    "accuracy_balanced = balanced_accuracy_score(y_test, y_pred)\n",
    "\n",
    "#calculando f1_score\n",
    "f1_0 = f1_score(y_test, y_pred,pos_label=0)\n",
    "f1_1 = f1_score(y_test, y_pred,pos_label=1)\n",
    "\n",
    "#Calculando AUC\n",
    "auc = roc_auc_score(y_test, y_pred)\n",
    "\n",
    "print(\"Recall_0: %s\" % (recall_0))\n",
    "print(\"Recall_1: %s\" % (recall_1))\n",
    "print(\"Acuracia: %s\" % (accuracy))\n",
    "print(\"Acuracia Balanceada: %s\" % (accuracy_balanced))\n",
    "print(\"F1_Score_0: %s\" % (f1_0))\n",
    "print(\"F1_Score_1: %s\" % (f1_1))\n",
    "print(\"AUC: %s\" % (auc))\n"
   ]
  },
  {
   "cell_type": "markdown",
   "metadata": {
    "id": "d9p5fXTGtxCE"
   },
   "source": [
    "# 9.0 Avaliação estatística dos melhores algorítmos\n",
    "\n",
    "Rodaremos 30 experimentos com 10 kfolds cada para cada algorítmo testado (14). (4200 experimentos no total)\n",
    "\n",
    "- passagress\n",
    "- gaussianb\n",
    "- bernoullinb\n",
    "- quadratic\n",
    "- lgbm\n",
    "- rf\n",
    "- nearestcentroid\n",
    "- nusvc\n",
    "- xgb\n",
    "- xgb_2\n",
    "- sgd\n",
    "- perceptron\n",
    "- dt\n",
    "- mlp\n",
    "- knn"
   ]
  },
  {
   "cell_type": "code",
   "execution_count": null,
   "metadata": {
    "id": "0H28WtiOtxCE"
   },
   "outputs": [],
   "source": [
    "resultados_passagress = []\n",
    "resultados_gaussianb = []\n",
    "resultados_bernoullinb = []\n",
    "resultados_quadratic = []\n",
    "resultados_lgbm = []\n",
    "resultados_rf = []\n",
    "resultados_nearestcentroid = []\n",
    "resultados_nusvc = []\n",
    "resultados_xgb = []\n",
    "resultados_xgb_2 = []\n",
    "resultados_sgd = []\n",
    "resultados_perceptron = []\n",
    "resultados_dt = []\n",
    "resultados_mlp = []\n",
    "resultados_knn = []\n",
    "\n",
    "X = df_final9[features+featuresd1+featuresd2+featuresd3]\n",
    "y = df_final9['Fechamento'] \n",
    "\n",
    "for i in range(30):\n",
    "\n",
    "    #Holdout\n",
    "    X_train, X_test, y_train, y_test = train_test_split(X, y, test_size=0.3, random_state=i, stratify=y)\n",
    "    \n",
    "    # 10 Kfolds\n",
    "    kfold = KFold(n_splits = 10, shuffle = True, random_state = i)\n",
    "    \n",
    "    \n",
    "    # Aplicação dos kfolds para avaliação estatística\n",
    "    scores1 = cross_val_score(passagress, X_train, y_train, cv = kfold, scoring = \"balanced_accuracy\")\n",
    "    scores2 = cross_val_score(gaussianb, X_train, y_train, cv = kfold, scoring = \"balanced_accuracy\")\n",
    "    scores3 = cross_val_score(bernoullinb, X_train, y_train, cv = kfold, scoring = \"balanced_accuracy\")\n",
    "    scores4 = cross_val_score(quadratic, X_train, y_train, cv = kfold, scoring = \"balanced_accuracy\")\n",
    "    scores5 = cross_val_score(lgbm, X_train, y_train, cv = kfold, scoring = \"balanced_accuracy\")\n",
    "    scores6 = cross_val_score(rf, X_train, y_train, cv = kfold, scoring = \"balanced_accuracy\")\n",
    "    scores7 = cross_val_score(nearestcentroid, X_train, y_train, cv = kfold, scoring = \"balanced_accuracy\")\n",
    "    scores8 = cross_val_score(nusvc, X_train, y_train, cv = kfold, scoring = \"balanced_accuracy\")\n",
    "    scores9 = cross_val_score(xgb, X_train, y_train, cv = kfold, scoring = \"balanced_accuracy\")\n",
    "    scores10 = cross_val_score(xgb_2, X_train, y_train, cv = kfold, scoring = \"balanced_accuracy\")\n",
    "    scores11 = cross_val_score(sgd, X_train, y_train, cv = kfold, scoring = \"balanced_accuracy\")\n",
    "    scores12 = cross_val_score(perceptron, X_train, y_train, cv = kfold, scoring = \"balanced_accuracy\")\n",
    "    scores13 = cross_val_score(dt, X_train, y_train, cv = kfold, scoring = \"balanced_accuracy\")\n",
    "    scores14 = cross_val_score(mlp, X_train, y_train, cv = kfold, scoring = \"balanced_accuracy\")\n",
    "    scores15 = cross_val_score(knn, X_train, y_train, cv = kfold, scoring = \"balanced_accuracy\")\n",
    "    \n",
    "    #Armazenando os resultados de cada algoritmo\n",
    "    resultados_passagress.append(scores1.mean())   \n",
    "    resultados_gaussianb.append(scores2.mean()) \n",
    "    resultados_bernoullinb.append(scores3.mean()) \n",
    "    resultados_quadratic.append(scores4.mean()) \n",
    "    resultados_lgbm.append(scores5.mean()) \n",
    "    resultados_rf.append(scores6.mean()) \n",
    "    resultados_nearestcentroid.append(scores7.mean()) \n",
    "    resultados_nusvc.append(scores8.mean()) \n",
    "    resultados_xgb.append(scores9.mean()) \n",
    "    resultados_xgb_2.append(scores10.mean()) \n",
    "    resultados_sgd.append(scores11.mean()) \n",
    "    resultados_perceptron.append(scores12.mean()) \n",
    "    resultados_dt.append(scores13.mean()) \n",
    "    resultados_mlp.append(scores14.mean()) \n",
    "    resultados_knn.append(scores15.mean()) \n",
    "    "
   ]
  },
  {
   "cell_type": "code",
   "execution_count": null,
   "metadata": {
    "id": "alvnz41vtxCE"
   },
   "outputs": [],
   "source": [
    "print(\"Results passagress: %.4f (%.4f) balanced_accuracy\" % (scores1.mean(), scores1.std()))\n",
    "print(\"Results gaussianb: %.4f (%.4f) balanced_accuracy\" % (scores2.mean(), scores2.std()))\n",
    "print(\"Results bernoullinb: %.4f (%.4f) balanced_accuracy\" % (scores3.mean(), scores3.std()))\n",
    "print(\"Results quadratic: %.4f (%.4f) balanced_accuracy\" % (scores4.mean(), scores4.std()))\n",
    "print(\"Results lgbm: %.4f (%.4f) balanced_accuracy\" % (scores5.mean(), scores5.std()))\n",
    "print(\"Results rf: %.4f (%.4f) balanced_accuracy\" % (scores6.mean(), scores6.std()))\n",
    "print(\"Results nearestcentroid: %.4f (%.4f) balanced_accuracy\" % (scores7.mean(), scores7.std()))\n",
    "print(\"Results nusvc: %.4f (%.4f) balanced_accuracy\" % (scores8.mean(), scores8.std()))\n",
    "print(\"Results xgb: %.4f (%.4f) balanced_accuracy\" % (scores9.mean(), scores9.std()))\n",
    "print(\"Results xgb_2: %.4f (%.4f) balanced_accuracy\" % (scores10.mean(), scores10.std()))\n",
    "print(\"Results sgd: %.4f (%.4f) balanced_accuracy\" % (scores11.mean(), scores11.std()))\n",
    "print(\"Results perceptron: %.4f (%.4f) balanced_accuracy\" % (scores12.mean(), scores12.std()))\n",
    "print(\"Results dt: %.4f (%.4f) balanced_accuracy\" % (scores13.mean(), scores13.std()))\n",
    "print(\"Results mlp: %.4f (%.4f) balanced_accuracy\" % (scores14.mean(), scores14.std()))\n",
    "print(\"Results knn: %.4f (%.4f) balanced_accuracy\" % (scores15.mean(), scores15.std()))"
   ]
  },
  {
   "cell_type": "code",
   "execution_count": null,
   "metadata": {
    "id": "nYjCpyqotxCF"
   },
   "outputs": [],
   "source": [
    "import matplotlib.pyplot as plt"
   ]
  },
  {
   "cell_type": "code",
   "execution_count": null,
   "metadata": {
    "id": "rVoJZUK-txCF"
   },
   "outputs": [],
   "source": [
    "algoritmos = ['passagress', 'gaussianb', 'bernoullinb','quadratic','lgbm','rf','nearestcentroid','nusvc','xgb','xgb_2','sgd','perceptron','dt','mlp','knn']\n",
    "resultados = [scores1,scores2,scores3,scores4,scores5,scores6,scores7,scores8,scores9,scores10,scores11,scores12,scores13,scores14,scores15]\n",
    "# Comparando as performances nos conjunto de treinament/validacao\n",
    "plt.figure(figsize=(10,6))\n",
    "box_data = resultados\n",
    "plt.boxplot(box_data, widths = 0.5)\n",
    "plt.xticks([1,2,3,4,5,6,7,8,9,10,11,12,13,14,15], algoritmos, rotation='vertical')\n",
    "# ax7.boxplot(box_data)\n",
    "plt.show()"
   ]
  },
  {
   "cell_type": "markdown",
   "metadata": {
    "id": "MIeCms0NtxCF"
   },
   "source": [
    "## 9.1 Testes de normalidade"
   ]
  },
  {
   "cell_type": "code",
   "execution_count": null,
   "metadata": {
    "id": "S-JoNAzqtxCF"
   },
   "outputs": [],
   "source": [
    "from scipy.stats import shapiro"
   ]
  },
  {
   "cell_type": "code",
   "execution_count": null,
   "metadata": {
    "id": "QGOJAwNrtxCF"
   },
   "outputs": [],
   "source": [
    "for i,results in enumerate(resultados):\n",
    "    \n",
    "    algor = algoritmos[i]\n",
    "    _, p = shapiro(results)\n",
    "    p\n",
    "    alpha = 0.01\n",
    "    if p > alpha:\n",
    "      print('%s - p-value = %s - Distribuição normal' %(algor, str(p)))\n",
    "    else:\n",
    "      print('%s - p-value = %s - Distribuição não normal' %(algor, str(p)))"
   ]
  },
  {
   "cell_type": "markdown",
   "metadata": {
    "id": "SunOfz4ntxCF"
   },
   "source": [
    "Todas distribuições de acurácia balanceada são normais iremos aplicar testes estatísticos paramétricos ANOVA para verificar se há diferença estatística significante entre os algorítmos\n",
    "\n",
    "- nearestcentroid\n",
    "- "
   ]
  },
  {
   "cell_type": "code",
   "execution_count": null,
   "metadata": {
    "id": "Va3Rf0twtxCF"
   },
   "outputs": [],
   "source": [
    "from scipy.stats import f_oneway"
   ]
  },
  {
   "cell_type": "code",
   "execution_count": null,
   "metadata": {
    "id": "Tfuso1krtxCF"
   },
   "outputs": [],
   "source": []
  },
  {
   "cell_type": "code",
   "execution_count": null,
   "metadata": {
    "id": "wD8YDsWTtxCF"
   },
   "outputs": [],
   "source": [
    "_, p = f_oneway(scores1,scores13)\n",
    "\n",
    "\n",
    "alpha = 0.05\n",
    "if p <= alpha:\n",
    "  print('Hipótese nula rejeitada. Os dados possuem diferença estatística significante')\n",
    "else:\n",
    "  print('Hipótese alternativa rejeitada')"
   ]
  },
  {
   "cell_type": "code",
   "execution_count": null,
   "metadata": {
    "id": "ShkPZFGrtxCG"
   },
   "outputs": [],
   "source": []
  }
 ],
 "metadata": {
  "colab": {
   "collapsed_sections": [
    "GLQVL39etxA7",
    "w1XbpuI2txBD",
    "uVhYASlKtxBE",
    "kA8xUq80txBG",
    "WvunB2T2txBH",
    "yaZKt1aQtxBH",
    "o0FDRw9otxBI",
    "4Ps-TQJZtxBK",
    "Hvi7sE4mtxBK",
    "EnI0cgNDtxBL",
    "O2JRt_catxBL",
    "0t2vvLQstxBM",
    "WFxO_oNltxBN",
    "MR3swdq4txBO",
    "C6yWLR4StxBO",
    "x9hdhtBatxBP",
    "Xk1G7v4NtxBQ",
    "RleN1C9ItxBR",
    "pYbVvekvtxBR",
    "X3xpjQDHtxBS",
    "nWZw_C8TtxBS",
    "ZYYnep0AtxBS",
    "sHBWzdQ3txBT",
    "HVwcD_NptxBU",
    "ml4PY1bttxBV",
    "BQF6Nd4NtxBW",
    "oqvY9hq6txBW",
    "O_VKfbbptxBX",
    "Q2aQq_0ZtxBY",
    "mmSDP734txBZ",
    "EVKPJo8KtxBZ",
    "gHYaLzzAtxBa",
    "u4_fMM9otxBa",
    "UMDvNtcitxBb",
    "TAmsdvUwtxBd",
    "mR1zw3eJtxBe",
    "F4t54GmWtxBf",
    "I-i7Chs1txBg",
    "DVLZJzx-txBh",
    "jSZ3ULpJtxBi",
    "c329l7BptxBj",
    "csFs7BZWtxBl",
    "NpEryjovtxBl",
    "UXo3Ahr0txBp",
    "aX2TRyThtxBr",
    "aIHcMoYXtxBt",
    "0bP1g5m0txBu",
    "7qGStQbAtxBw",
    "kI0uCb6ttxBz",
    "YvVsjbrptxB4",
    "AUrsC36KtxB-",
    "Gji2KE9ntxCB",
    "VIn0WCHTtxCC",
    "fZ134YHCtxCD",
    "d9p5fXTGtxCE",
    "MIeCms0NtxCF"
   ],
   "include_colab_link": true,
   "name": "Experimentos_+_EDA_(5).ipynb",
   "provenance": []
  },
  "kernelspec": {
   "display_name": "Python 3",
   "language": "python",
   "name": "python3"
  },
  "language_info": {
   "codemirror_mode": {
    "name": "ipython",
    "version": 3
   },
   "file_extension": ".py",
   "mimetype": "text/x-python",
   "name": "python",
   "nbconvert_exporter": "python",
   "pygments_lexer": "ipython3",
   "version": "3.8.3"
  }
 },
 "nbformat": 4,
 "nbformat_minor": 1
}
