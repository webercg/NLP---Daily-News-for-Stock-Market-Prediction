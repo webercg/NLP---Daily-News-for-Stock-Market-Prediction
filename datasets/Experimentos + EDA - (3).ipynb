{
 "cells": [
  {
   "cell_type": "markdown",
   "metadata": {},
   "source": [
    "# 1.0 Importação de bibliotecas"
   ]
  },
  {
   "cell_type": "code",
   "execution_count": 1,
   "metadata": {},
   "outputs": [],
   "source": [
    "#Manipulação de dados\n",
    "import pandas as pd\n",
    "import numpy as np\n",
    "\n",
    "#Visualização de dados\n",
    "import seaborn as sns\n",
    "\n",
    "#Manipulação datas\n",
    "from datetime import datetime\n",
    "\n",
    "# Prototipação\n",
    "import sklearn\n",
    "#from sklearn.utils.testing import ignore_warnings\n",
    "#from lazypredict.Supervised import LazyClassifier\n",
    "\n",
    "\n",
    "#Pipeline e pré-process\n",
    "\n",
    "from imblearn.pipeline import Pipeline\n",
    "from sklearn.model_selection import train_test_split\n",
    "from imblearn.under_sampling import NearMiss\n",
    "from imblearn.over_sampling import SMOTE\n",
    "from sklearn.decomposition import PCA\n",
    "from sklearn.preprocessing import StandardScaler\n",
    "\n",
    "\n",
    "#Models\n",
    "from sklearn.naive_bayes import GaussianNB\n",
    "from sklearn.naive_bayes import BernoulliNB\n",
    "from sklearn.linear_model import PassiveAggressiveClassifier\n",
    "from sklearn.neural_network import MLPClassifier \n",
    "from sklearn.ensemble import RandomForestClassifier\n",
    "\n",
    "#Model Tunning\n",
    "from sklearn.model_selection import GridSearchCV\n",
    "\n",
    "#Model evaluation\n",
    "from sklearn.metrics import make_scorer\n",
    "from sklearn.metrics import f1_score\n",
    "from sklearn.metrics import accuracy_score\n",
    "from sklearn.metrics import recall_score\n",
    "from sklearn.metrics import roc_auc_score\n",
    "from sklearn.metrics import balanced_accuracy_score\n",
    "from sklearn.model_selection import cross_val_score, KFold\n",
    "from sklearn.metrics import accuracy_score, classification_report, confusion_matrix"
   ]
  },
  {
   "cell_type": "code",
   "execution_count": null,
   "metadata": {},
   "outputs": [],
   "source": []
  },
  {
   "cell_type": "code",
   "execution_count": 2,
   "metadata": {},
   "outputs": [],
   "source": [
    "#pip install scikit-learn==0.23.1"
   ]
  },
  {
   "cell_type": "code",
   "execution_count": 3,
   "metadata": {},
   "outputs": [],
   "source": [
    "#import sklearn\n",
    "#print(sklearn.__version__)"
   ]
  },
  {
   "cell_type": "markdown",
   "metadata": {},
   "source": [
    "# 2.0 Leitura dos arquivos"
   ]
  },
  {
   "cell_type": "markdown",
   "metadata": {},
   "source": [
    "## Leitura de Noticias"
   ]
  },
  {
   "cell_type": "code",
   "execution_count": 4,
   "metadata": {},
   "outputs": [],
   "source": [
    "dicionario_mes = {'Jan':'01', 'Fev':'02', 'Mar':'03','Abr':'04', 'Mai':'05', 'Jun':'06','Jul':'07', 'Ago':'08', 'Set':'09','Out':'10', 'Nov':'11', 'Dec':'12'}"
   ]
  },
  {
   "cell_type": "code",
   "execution_count": 5,
   "metadata": {},
   "outputs": [
    {
     "name": "stderr",
     "output_type": "stream",
     "text": [
      "C:\\Users\\lenon.oliveira\\AppData\\Local\\Temp\\ipykernel_19120\\1548341161.py:6: FutureWarning: The frame.append method is deprecated and will be removed from pandas in a future version. Use pandas.concat instead.\n",
      "  df = df.append(df_leitura,ignore_index=True)\n",
      "C:\\Users\\lenon.oliveira\\AppData\\Local\\Temp\\ipykernel_19120\\1548341161.py:6: FutureWarning: The frame.append method is deprecated and will be removed from pandas in a future version. Use pandas.concat instead.\n",
      "  df = df.append(df_leitura,ignore_index=True)\n",
      "C:\\Users\\lenon.oliveira\\AppData\\Local\\Temp\\ipykernel_19120\\1548341161.py:6: FutureWarning: The frame.append method is deprecated and will be removed from pandas in a future version. Use pandas.concat instead.\n",
      "  df = df.append(df_leitura,ignore_index=True)\n",
      "C:\\Users\\lenon.oliveira\\AppData\\Local\\Temp\\ipykernel_19120\\1548341161.py:6: FutureWarning: The frame.append method is deprecated and will be removed from pandas in a future version. Use pandas.concat instead.\n",
      "  df = df.append(df_leitura,ignore_index=True)\n",
      "C:\\Users\\lenon.oliveira\\AppData\\Local\\Temp\\ipykernel_19120\\1548341161.py:6: FutureWarning: The frame.append method is deprecated and will be removed from pandas in a future version. Use pandas.concat instead.\n",
      "  df = df.append(df_leitura,ignore_index=True)\n",
      "C:\\Users\\lenon.oliveira\\AppData\\Local\\Temp\\ipykernel_19120\\1548341161.py:6: FutureWarning: The frame.append method is deprecated and will be removed from pandas in a future version. Use pandas.concat instead.\n",
      "  df = df.append(df_leitura,ignore_index=True)\n",
      "C:\\Users\\lenon.oliveira\\AppData\\Local\\Temp\\ipykernel_19120\\1548341161.py:6: FutureWarning: The frame.append method is deprecated and will be removed from pandas in a future version. Use pandas.concat instead.\n",
      "  df = df.append(df_leitura,ignore_index=True)\n",
      "C:\\Users\\lenon.oliveira\\AppData\\Local\\Temp\\ipykernel_19120\\1548341161.py:6: FutureWarning: The frame.append method is deprecated and will be removed from pandas in a future version. Use pandas.concat instead.\n",
      "  df = df.append(df_leitura,ignore_index=True)\n",
      "C:\\Users\\lenon.oliveira\\AppData\\Local\\Temp\\ipykernel_19120\\1548341161.py:6: FutureWarning: The frame.append method is deprecated and will be removed from pandas in a future version. Use pandas.concat instead.\n",
      "  df = df.append(df_leitura,ignore_index=True)\n",
      "C:\\Users\\lenon.oliveira\\AppData\\Local\\Temp\\ipykernel_19120\\1548341161.py:6: FutureWarning: The frame.append method is deprecated and will be removed from pandas in a future version. Use pandas.concat instead.\n",
      "  df = df.append(df_leitura,ignore_index=True)\n",
      "C:\\Users\\lenon.oliveira\\AppData\\Local\\Temp\\ipykernel_19120\\1548341161.py:6: FutureWarning: The frame.append method is deprecated and will be removed from pandas in a future version. Use pandas.concat instead.\n",
      "  df = df.append(df_leitura,ignore_index=True)\n",
      "C:\\Users\\lenon.oliveira\\AppData\\Local\\Temp\\ipykernel_19120\\1548341161.py:6: FutureWarning: The frame.append method is deprecated and will be removed from pandas in a future version. Use pandas.concat instead.\n",
      "  df = df.append(df_leitura,ignore_index=True)\n"
     ]
    }
   ],
   "source": [
    "df = pd.DataFrame()\n",
    "\n",
    "for i in dicionario_mes.keys():\n",
    "    arquivo = dicionario_mes[i] + \"_GoogleNews_Petr_\" + i + \"_21.csv\"\n",
    "    df_leitura = pd.read_csv(arquivo, sep='|')\n",
    "    df = df.append(df_leitura,ignore_index=True)"
   ]
  },
  {
   "cell_type": "code",
   "execution_count": 6,
   "metadata": {},
   "outputs": [
    {
     "data": {
      "text/html": [
       "<div>\n",
       "<style scoped>\n",
       "    .dataframe tbody tr th:only-of-type {\n",
       "        vertical-align: middle;\n",
       "    }\n",
       "\n",
       "    .dataframe tbody tr th {\n",
       "        vertical-align: top;\n",
       "    }\n",
       "\n",
       "    .dataframe thead th {\n",
       "        text-align: right;\n",
       "    }\n",
       "</style>\n",
       "<table border=\"1\" class=\"dataframe\">\n",
       "  <thead>\n",
       "    <tr style=\"text-align: right;\">\n",
       "      <th></th>\n",
       "      <th>title</th>\n",
       "      <th>media</th>\n",
       "      <th>date</th>\n",
       "      <th>desc</th>\n",
       "    </tr>\n",
       "  </thead>\n",
       "  <tbody>\n",
       "    <tr>\n",
       "      <th>0</th>\n",
       "      <td>A construção naval brasileira tem chances de a...</td>\n",
       "      <td>CPG Click Petroleo e Gas</td>\n",
       "      <td>01/01/2021</td>\n",
       "      <td>Dentre os principais pontos do plano estratégi...</td>\n",
       "    </tr>\n",
       "    <tr>\n",
       "      <th>1</th>\n",
       "      <td>Refinaria Abreu e Lima da Petrobras, a RNEST p...</td>\n",
       "      <td>CPG Click Petroleo e Gas</td>\n",
       "      <td>01/01/2021</td>\n",
       "      <td>Petrobras informou em fato relevante na última...</td>\n",
       "    </tr>\n",
       "    <tr>\n",
       "      <th>2</th>\n",
       "      <td>5 Dicas de Tony Robbins para Ficar Rico Invest...</td>\n",
       "      <td>The Capital Advisor</td>\n",
       "      <td>01/01/2021</td>\n",
       "      <td>O QUE LER AGORA... ibovespa-sobe-021-apos-demi...</td>\n",
       "    </tr>\n",
       "    <tr>\n",
       "      <th>3</th>\n",
       "      <td>Acadêmicos de engenharia Mecânica criam projet...</td>\n",
       "      <td>CPG Click Petroleo e Gas</td>\n",
       "      <td>01/01/2021</td>\n",
       "      <td>Petrobras cancela a venda da fábrica de fertil...</td>\n",
       "    </tr>\n",
       "    <tr>\n",
       "      <th>4</th>\n",
       "      <td>Multinacional dinamarquesa European Energy faz...</td>\n",
       "      <td>CPG Click Petroleo e Gas</td>\n",
       "      <td>01/01/2021</td>\n",
       "      <td>Petrobras encerra sociedade com a Sete Brasil ...</td>\n",
       "    </tr>\n",
       "  </tbody>\n",
       "</table>\n",
       "</div>"
      ],
      "text/plain": [
       "                                               title  \\\n",
       "0  A construção naval brasileira tem chances de a...   \n",
       "1  Refinaria Abreu e Lima da Petrobras, a RNEST p...   \n",
       "2  5 Dicas de Tony Robbins para Ficar Rico Invest...   \n",
       "3  Acadêmicos de engenharia Mecânica criam projet...   \n",
       "4  Multinacional dinamarquesa European Energy faz...   \n",
       "\n",
       "                      media        date  \\\n",
       "0  CPG Click Petroleo e Gas  01/01/2021   \n",
       "1  CPG Click Petroleo e Gas  01/01/2021   \n",
       "2       The Capital Advisor  01/01/2021   \n",
       "3  CPG Click Petroleo e Gas  01/01/2021   \n",
       "4  CPG Click Petroleo e Gas  01/01/2021   \n",
       "\n",
       "                                                desc  \n",
       "0  Dentre os principais pontos do plano estratégi...  \n",
       "1  Petrobras informou em fato relevante na última...  \n",
       "2  O QUE LER AGORA... ibovespa-sobe-021-apos-demi...  \n",
       "3  Petrobras cancela a venda da fábrica de fertil...  \n",
       "4  Petrobras encerra sociedade com a Sete Brasil ...  "
      ]
     },
     "execution_count": 6,
     "metadata": {},
     "output_type": "execute_result"
    }
   ],
   "source": [
    "df.head()"
   ]
  },
  {
   "cell_type": "code",
   "execution_count": 7,
   "metadata": {},
   "outputs": [
    {
     "name": "stderr",
     "output_type": "stream",
     "text": [
      "C:\\Users\\lenon.oliveira\\Anaconda3\\lib\\site-packages\\pandas\\core\\tools\\datetimes.py:1047: UserWarning: Parsing '13/01/2021' in DD/MM/YYYY format. Provide format or specify infer_datetime_format=True for consistent parsing.\n",
      "  cache_array = _maybe_cache(arg, format, cache, convert_listlike)\n",
      "C:\\Users\\lenon.oliveira\\Anaconda3\\lib\\site-packages\\pandas\\core\\tools\\datetimes.py:1047: UserWarning: Parsing '16/01/2021' in DD/MM/YYYY format. Provide format or specify infer_datetime_format=True for consistent parsing.\n",
      "  cache_array = _maybe_cache(arg, format, cache, convert_listlike)\n",
      "C:\\Users\\lenon.oliveira\\Anaconda3\\lib\\site-packages\\pandas\\core\\tools\\datetimes.py:1047: UserWarning: Parsing '17/01/2021' in DD/MM/YYYY format. Provide format or specify infer_datetime_format=True for consistent parsing.\n",
      "  cache_array = _maybe_cache(arg, format, cache, convert_listlike)\n",
      "C:\\Users\\lenon.oliveira\\Anaconda3\\lib\\site-packages\\pandas\\core\\tools\\datetimes.py:1047: UserWarning: Parsing '18/01/2021' in DD/MM/YYYY format. Provide format or specify infer_datetime_format=True for consistent parsing.\n",
      "  cache_array = _maybe_cache(arg, format, cache, convert_listlike)\n",
      "C:\\Users\\lenon.oliveira\\Anaconda3\\lib\\site-packages\\pandas\\core\\tools\\datetimes.py:1047: UserWarning: Parsing '19/01/2021' in DD/MM/YYYY format. Provide format or specify infer_datetime_format=True for consistent parsing.\n",
      "  cache_array = _maybe_cache(arg, format, cache, convert_listlike)\n",
      "C:\\Users\\lenon.oliveira\\Anaconda3\\lib\\site-packages\\pandas\\core\\tools\\datetimes.py:1047: UserWarning: Parsing '20/01/2021' in DD/MM/YYYY format. Provide format or specify infer_datetime_format=True for consistent parsing.\n",
      "  cache_array = _maybe_cache(arg, format, cache, convert_listlike)\n",
      "C:\\Users\\lenon.oliveira\\Anaconda3\\lib\\site-packages\\pandas\\core\\tools\\datetimes.py:1047: UserWarning: Parsing '21/01/2021' in DD/MM/YYYY format. Provide format or specify infer_datetime_format=True for consistent parsing.\n",
      "  cache_array = _maybe_cache(arg, format, cache, convert_listlike)\n",
      "C:\\Users\\lenon.oliveira\\Anaconda3\\lib\\site-packages\\pandas\\core\\tools\\datetimes.py:1047: UserWarning: Parsing '22/01/2021' in DD/MM/YYYY format. Provide format or specify infer_datetime_format=True for consistent parsing.\n",
      "  cache_array = _maybe_cache(arg, format, cache, convert_listlike)\n",
      "C:\\Users\\lenon.oliveira\\Anaconda3\\lib\\site-packages\\pandas\\core\\tools\\datetimes.py:1047: UserWarning: Parsing '23/01/2021' in DD/MM/YYYY format. Provide format or specify infer_datetime_format=True for consistent parsing.\n",
      "  cache_array = _maybe_cache(arg, format, cache, convert_listlike)\n",
      "C:\\Users\\lenon.oliveira\\Anaconda3\\lib\\site-packages\\pandas\\core\\tools\\datetimes.py:1047: UserWarning: Parsing '25/01/2021' in DD/MM/YYYY format. Provide format or specify infer_datetime_format=True for consistent parsing.\n",
      "  cache_array = _maybe_cache(arg, format, cache, convert_listlike)\n",
      "C:\\Users\\lenon.oliveira\\Anaconda3\\lib\\site-packages\\pandas\\core\\tools\\datetimes.py:1047: UserWarning: Parsing '26/01/2021' in DD/MM/YYYY format. Provide format or specify infer_datetime_format=True for consistent parsing.\n",
      "  cache_array = _maybe_cache(arg, format, cache, convert_listlike)\n",
      "C:\\Users\\lenon.oliveira\\Anaconda3\\lib\\site-packages\\pandas\\core\\tools\\datetimes.py:1047: UserWarning: Parsing '28/01/2021' in DD/MM/YYYY format. Provide format or specify infer_datetime_format=True for consistent parsing.\n",
      "  cache_array = _maybe_cache(arg, format, cache, convert_listlike)\n",
      "C:\\Users\\lenon.oliveira\\Anaconda3\\lib\\site-packages\\pandas\\core\\tools\\datetimes.py:1047: UserWarning: Parsing '29/01/2021' in DD/MM/YYYY format. Provide format or specify infer_datetime_format=True for consistent parsing.\n",
      "  cache_array = _maybe_cache(arg, format, cache, convert_listlike)\n",
      "C:\\Users\\lenon.oliveira\\Anaconda3\\lib\\site-packages\\pandas\\core\\tools\\datetimes.py:1047: UserWarning: Parsing '30/01/2021' in DD/MM/YYYY format. Provide format or specify infer_datetime_format=True for consistent parsing.\n",
      "  cache_array = _maybe_cache(arg, format, cache, convert_listlike)\n",
      "C:\\Users\\lenon.oliveira\\Anaconda3\\lib\\site-packages\\pandas\\core\\tools\\datetimes.py:1047: UserWarning: Parsing '31/01/2021' in DD/MM/YYYY format. Provide format or specify infer_datetime_format=True for consistent parsing.\n",
      "  cache_array = _maybe_cache(arg, format, cache, convert_listlike)\n",
      "C:\\Users\\lenon.oliveira\\Anaconda3\\lib\\site-packages\\pandas\\core\\tools\\datetimes.py:1047: UserWarning: Parsing '13/02/2021' in DD/MM/YYYY format. Provide format or specify infer_datetime_format=True for consistent parsing.\n",
      "  cache_array = _maybe_cache(arg, format, cache, convert_listlike)\n",
      "C:\\Users\\lenon.oliveira\\Anaconda3\\lib\\site-packages\\pandas\\core\\tools\\datetimes.py:1047: UserWarning: Parsing '14/02/2021' in DD/MM/YYYY format. Provide format or specify infer_datetime_format=True for consistent parsing.\n",
      "  cache_array = _maybe_cache(arg, format, cache, convert_listlike)\n",
      "C:\\Users\\lenon.oliveira\\Anaconda3\\lib\\site-packages\\pandas\\core\\tools\\datetimes.py:1047: UserWarning: Parsing '15/02/2021' in DD/MM/YYYY format. Provide format or specify infer_datetime_format=True for consistent parsing.\n",
      "  cache_array = _maybe_cache(arg, format, cache, convert_listlike)\n",
      "C:\\Users\\lenon.oliveira\\Anaconda3\\lib\\site-packages\\pandas\\core\\tools\\datetimes.py:1047: UserWarning: Parsing '16/02/2021' in DD/MM/YYYY format. Provide format or specify infer_datetime_format=True for consistent parsing.\n",
      "  cache_array = _maybe_cache(arg, format, cache, convert_listlike)\n",
      "C:\\Users\\lenon.oliveira\\Anaconda3\\lib\\site-packages\\pandas\\core\\tools\\datetimes.py:1047: UserWarning: Parsing '17/02/2021' in DD/MM/YYYY format. Provide format or specify infer_datetime_format=True for consistent parsing.\n",
      "  cache_array = _maybe_cache(arg, format, cache, convert_listlike)\n",
      "C:\\Users\\lenon.oliveira\\Anaconda3\\lib\\site-packages\\pandas\\core\\tools\\datetimes.py:1047: UserWarning: Parsing '18/02/2021' in DD/MM/YYYY format. Provide format or specify infer_datetime_format=True for consistent parsing.\n",
      "  cache_array = _maybe_cache(arg, format, cache, convert_listlike)\n",
      "C:\\Users\\lenon.oliveira\\Anaconda3\\lib\\site-packages\\pandas\\core\\tools\\datetimes.py:1047: UserWarning: Parsing '19/02/2021' in DD/MM/YYYY format. Provide format or specify infer_datetime_format=True for consistent parsing.\n",
      "  cache_array = _maybe_cache(arg, format, cache, convert_listlike)\n",
      "C:\\Users\\lenon.oliveira\\Anaconda3\\lib\\site-packages\\pandas\\core\\tools\\datetimes.py:1047: UserWarning: Parsing '20/02/2021' in DD/MM/YYYY format. Provide format or specify infer_datetime_format=True for consistent parsing.\n",
      "  cache_array = _maybe_cache(arg, format, cache, convert_listlike)\n",
      "C:\\Users\\lenon.oliveira\\Anaconda3\\lib\\site-packages\\pandas\\core\\tools\\datetimes.py:1047: UserWarning: Parsing '21/02/2021' in DD/MM/YYYY format. Provide format or specify infer_datetime_format=True for consistent parsing.\n",
      "  cache_array = _maybe_cache(arg, format, cache, convert_listlike)\n",
      "C:\\Users\\lenon.oliveira\\Anaconda3\\lib\\site-packages\\pandas\\core\\tools\\datetimes.py:1047: UserWarning: Parsing '22/02/2021' in DD/MM/YYYY format. Provide format or specify infer_datetime_format=True for consistent parsing.\n",
      "  cache_array = _maybe_cache(arg, format, cache, convert_listlike)\n",
      "C:\\Users\\lenon.oliveira\\Anaconda3\\lib\\site-packages\\pandas\\core\\tools\\datetimes.py:1047: UserWarning: Parsing '23/02/2021' in DD/MM/YYYY format. Provide format or specify infer_datetime_format=True for consistent parsing.\n",
      "  cache_array = _maybe_cache(arg, format, cache, convert_listlike)\n",
      "C:\\Users\\lenon.oliveira\\Anaconda3\\lib\\site-packages\\pandas\\core\\tools\\datetimes.py:1047: UserWarning: Parsing '24/02/2021' in DD/MM/YYYY format. Provide format or specify infer_datetime_format=True for consistent parsing.\n",
      "  cache_array = _maybe_cache(arg, format, cache, convert_listlike)\n",
      "C:\\Users\\lenon.oliveira\\Anaconda3\\lib\\site-packages\\pandas\\core\\tools\\datetimes.py:1047: UserWarning: Parsing '25/02/2021' in DD/MM/YYYY format. Provide format or specify infer_datetime_format=True for consistent parsing.\n",
      "  cache_array = _maybe_cache(arg, format, cache, convert_listlike)\n",
      "C:\\Users\\lenon.oliveira\\Anaconda3\\lib\\site-packages\\pandas\\core\\tools\\datetimes.py:1047: UserWarning: Parsing '26/02/2021' in DD/MM/YYYY format. Provide format or specify infer_datetime_format=True for consistent parsing.\n",
      "  cache_array = _maybe_cache(arg, format, cache, convert_listlike)\n",
      "C:\\Users\\lenon.oliveira\\Anaconda3\\lib\\site-packages\\pandas\\core\\tools\\datetimes.py:1047: UserWarning: Parsing '27/02/2021' in DD/MM/YYYY format. Provide format or specify infer_datetime_format=True for consistent parsing.\n",
      "  cache_array = _maybe_cache(arg, format, cache, convert_listlike)\n",
      "C:\\Users\\lenon.oliveira\\Anaconda3\\lib\\site-packages\\pandas\\core\\tools\\datetimes.py:1047: UserWarning: Parsing '28/02/2021' in DD/MM/YYYY format. Provide format or specify infer_datetime_format=True for consistent parsing.\n",
      "  cache_array = _maybe_cache(arg, format, cache, convert_listlike)\n",
      "C:\\Users\\lenon.oliveira\\Anaconda3\\lib\\site-packages\\pandas\\core\\tools\\datetimes.py:1047: UserWarning: Parsing '13/03/2021' in DD/MM/YYYY format. Provide format or specify infer_datetime_format=True for consistent parsing.\n",
      "  cache_array = _maybe_cache(arg, format, cache, convert_listlike)\n",
      "C:\\Users\\lenon.oliveira\\Anaconda3\\lib\\site-packages\\pandas\\core\\tools\\datetimes.py:1047: UserWarning: Parsing '14/03/2021' in DD/MM/YYYY format. Provide format or specify infer_datetime_format=True for consistent parsing.\n",
      "  cache_array = _maybe_cache(arg, format, cache, convert_listlike)\n",
      "C:\\Users\\lenon.oliveira\\Anaconda3\\lib\\site-packages\\pandas\\core\\tools\\datetimes.py:1047: UserWarning: Parsing '15/03/2021' in DD/MM/YYYY format. Provide format or specify infer_datetime_format=True for consistent parsing.\n",
      "  cache_array = _maybe_cache(arg, format, cache, convert_listlike)\n",
      "C:\\Users\\lenon.oliveira\\Anaconda3\\lib\\site-packages\\pandas\\core\\tools\\datetimes.py:1047: UserWarning: Parsing '16/03/2021' in DD/MM/YYYY format. Provide format or specify infer_datetime_format=True for consistent parsing.\n",
      "  cache_array = _maybe_cache(arg, format, cache, convert_listlike)\n",
      "C:\\Users\\lenon.oliveira\\Anaconda3\\lib\\site-packages\\pandas\\core\\tools\\datetimes.py:1047: UserWarning: Parsing '17/03/2021' in DD/MM/YYYY format. Provide format or specify infer_datetime_format=True for consistent parsing.\n",
      "  cache_array = _maybe_cache(arg, format, cache, convert_listlike)\n",
      "C:\\Users\\lenon.oliveira\\Anaconda3\\lib\\site-packages\\pandas\\core\\tools\\datetimes.py:1047: UserWarning: Parsing '18/03/2021' in DD/MM/YYYY format. Provide format or specify infer_datetime_format=True for consistent parsing.\n",
      "  cache_array = _maybe_cache(arg, format, cache, convert_listlike)\n",
      "C:\\Users\\lenon.oliveira\\Anaconda3\\lib\\site-packages\\pandas\\core\\tools\\datetimes.py:1047: UserWarning: Parsing '20/03/2021' in DD/MM/YYYY format. Provide format or specify infer_datetime_format=True for consistent parsing.\n",
      "  cache_array = _maybe_cache(arg, format, cache, convert_listlike)\n",
      "C:\\Users\\lenon.oliveira\\Anaconda3\\lib\\site-packages\\pandas\\core\\tools\\datetimes.py:1047: UserWarning: Parsing '21/03/2021' in DD/MM/YYYY format. Provide format or specify infer_datetime_format=True for consistent parsing.\n",
      "  cache_array = _maybe_cache(arg, format, cache, convert_listlike)\n",
      "C:\\Users\\lenon.oliveira\\Anaconda3\\lib\\site-packages\\pandas\\core\\tools\\datetimes.py:1047: UserWarning: Parsing '22/03/2021' in DD/MM/YYYY format. Provide format or specify infer_datetime_format=True for consistent parsing.\n",
      "  cache_array = _maybe_cache(arg, format, cache, convert_listlike)\n",
      "C:\\Users\\lenon.oliveira\\Anaconda3\\lib\\site-packages\\pandas\\core\\tools\\datetimes.py:1047: UserWarning: Parsing '23/03/2021' in DD/MM/YYYY format. Provide format or specify infer_datetime_format=True for consistent parsing.\n",
      "  cache_array = _maybe_cache(arg, format, cache, convert_listlike)\n",
      "C:\\Users\\lenon.oliveira\\Anaconda3\\lib\\site-packages\\pandas\\core\\tools\\datetimes.py:1047: UserWarning: Parsing '24/03/2021' in DD/MM/YYYY format. Provide format or specify infer_datetime_format=True for consistent parsing.\n",
      "  cache_array = _maybe_cache(arg, format, cache, convert_listlike)\n",
      "C:\\Users\\lenon.oliveira\\Anaconda3\\lib\\site-packages\\pandas\\core\\tools\\datetimes.py:1047: UserWarning: Parsing '25/03/2021' in DD/MM/YYYY format. Provide format or specify infer_datetime_format=True for consistent parsing.\n",
      "  cache_array = _maybe_cache(arg, format, cache, convert_listlike)\n",
      "C:\\Users\\lenon.oliveira\\Anaconda3\\lib\\site-packages\\pandas\\core\\tools\\datetimes.py:1047: UserWarning: Parsing '26/03/2021' in DD/MM/YYYY format. Provide format or specify infer_datetime_format=True for consistent parsing.\n",
      "  cache_array = _maybe_cache(arg, format, cache, convert_listlike)\n",
      "C:\\Users\\lenon.oliveira\\Anaconda3\\lib\\site-packages\\pandas\\core\\tools\\datetimes.py:1047: UserWarning: Parsing '27/03/2021' in DD/MM/YYYY format. Provide format or specify infer_datetime_format=True for consistent parsing.\n",
      "  cache_array = _maybe_cache(arg, format, cache, convert_listlike)\n",
      "C:\\Users\\lenon.oliveira\\Anaconda3\\lib\\site-packages\\pandas\\core\\tools\\datetimes.py:1047: UserWarning: Parsing '28/03/2021' in DD/MM/YYYY format. Provide format or specify infer_datetime_format=True for consistent parsing.\n",
      "  cache_array = _maybe_cache(arg, format, cache, convert_listlike)\n",
      "C:\\Users\\lenon.oliveira\\Anaconda3\\lib\\site-packages\\pandas\\core\\tools\\datetimes.py:1047: UserWarning: Parsing '29/03/2021' in DD/MM/YYYY format. Provide format or specify infer_datetime_format=True for consistent parsing.\n",
      "  cache_array = _maybe_cache(arg, format, cache, convert_listlike)\n",
      "C:\\Users\\lenon.oliveira\\Anaconda3\\lib\\site-packages\\pandas\\core\\tools\\datetimes.py:1047: UserWarning: Parsing '30/03/2021' in DD/MM/YYYY format. Provide format or specify infer_datetime_format=True for consistent parsing.\n",
      "  cache_array = _maybe_cache(arg, format, cache, convert_listlike)\n",
      "C:\\Users\\lenon.oliveira\\Anaconda3\\lib\\site-packages\\pandas\\core\\tools\\datetimes.py:1047: UserWarning: Parsing '31/03/2021' in DD/MM/YYYY format. Provide format or specify infer_datetime_format=True for consistent parsing.\n",
      "  cache_array = _maybe_cache(arg, format, cache, convert_listlike)\n",
      "C:\\Users\\lenon.oliveira\\Anaconda3\\lib\\site-packages\\pandas\\core\\tools\\datetimes.py:1047: UserWarning: Parsing '13/04/2021' in DD/MM/YYYY format. Provide format or specify infer_datetime_format=True for consistent parsing.\n",
      "  cache_array = _maybe_cache(arg, format, cache, convert_listlike)\n",
      "C:\\Users\\lenon.oliveira\\Anaconda3\\lib\\site-packages\\pandas\\core\\tools\\datetimes.py:1047: UserWarning: Parsing '15/04/2021' in DD/MM/YYYY format. Provide format or specify infer_datetime_format=True for consistent parsing.\n",
      "  cache_array = _maybe_cache(arg, format, cache, convert_listlike)\n",
      "C:\\Users\\lenon.oliveira\\Anaconda3\\lib\\site-packages\\pandas\\core\\tools\\datetimes.py:1047: UserWarning: Parsing '16/04/2021' in DD/MM/YYYY format. Provide format or specify infer_datetime_format=True for consistent parsing.\n",
      "  cache_array = _maybe_cache(arg, format, cache, convert_listlike)\n",
      "C:\\Users\\lenon.oliveira\\Anaconda3\\lib\\site-packages\\pandas\\core\\tools\\datetimes.py:1047: UserWarning: Parsing '17/04/2021' in DD/MM/YYYY format. Provide format or specify infer_datetime_format=True for consistent parsing.\n",
      "  cache_array = _maybe_cache(arg, format, cache, convert_listlike)\n",
      "C:\\Users\\lenon.oliveira\\Anaconda3\\lib\\site-packages\\pandas\\core\\tools\\datetimes.py:1047: UserWarning: Parsing '18/04/2021' in DD/MM/YYYY format. Provide format or specify infer_datetime_format=True for consistent parsing.\n",
      "  cache_array = _maybe_cache(arg, format, cache, convert_listlike)\n",
      "C:\\Users\\lenon.oliveira\\Anaconda3\\lib\\site-packages\\pandas\\core\\tools\\datetimes.py:1047: UserWarning: Parsing '19/04/2021' in DD/MM/YYYY format. Provide format or specify infer_datetime_format=True for consistent parsing.\n",
      "  cache_array = _maybe_cache(arg, format, cache, convert_listlike)\n",
      "C:\\Users\\lenon.oliveira\\Anaconda3\\lib\\site-packages\\pandas\\core\\tools\\datetimes.py:1047: UserWarning: Parsing '21/04/2021' in DD/MM/YYYY format. Provide format or specify infer_datetime_format=True for consistent parsing.\n",
      "  cache_array = _maybe_cache(arg, format, cache, convert_listlike)\n",
      "C:\\Users\\lenon.oliveira\\Anaconda3\\lib\\site-packages\\pandas\\core\\tools\\datetimes.py:1047: UserWarning: Parsing '22/04/2021' in DD/MM/YYYY format. Provide format or specify infer_datetime_format=True for consistent parsing.\n",
      "  cache_array = _maybe_cache(arg, format, cache, convert_listlike)\n",
      "C:\\Users\\lenon.oliveira\\Anaconda3\\lib\\site-packages\\pandas\\core\\tools\\datetimes.py:1047: UserWarning: Parsing '23/04/2021' in DD/MM/YYYY format. Provide format or specify infer_datetime_format=True for consistent parsing.\n",
      "  cache_array = _maybe_cache(arg, format, cache, convert_listlike)\n",
      "C:\\Users\\lenon.oliveira\\Anaconda3\\lib\\site-packages\\pandas\\core\\tools\\datetimes.py:1047: UserWarning: Parsing '25/04/2021' in DD/MM/YYYY format. Provide format or specify infer_datetime_format=True for consistent parsing.\n",
      "  cache_array = _maybe_cache(arg, format, cache, convert_listlike)\n",
      "C:\\Users\\lenon.oliveira\\Anaconda3\\lib\\site-packages\\pandas\\core\\tools\\datetimes.py:1047: UserWarning: Parsing '26/04/2021' in DD/MM/YYYY format. Provide format or specify infer_datetime_format=True for consistent parsing.\n",
      "  cache_array = _maybe_cache(arg, format, cache, convert_listlike)\n",
      "C:\\Users\\lenon.oliveira\\Anaconda3\\lib\\site-packages\\pandas\\core\\tools\\datetimes.py:1047: UserWarning: Parsing '27/04/2021' in DD/MM/YYYY format. Provide format or specify infer_datetime_format=True for consistent parsing.\n",
      "  cache_array = _maybe_cache(arg, format, cache, convert_listlike)\n",
      "C:\\Users\\lenon.oliveira\\Anaconda3\\lib\\site-packages\\pandas\\core\\tools\\datetimes.py:1047: UserWarning: Parsing '28/04/2021' in DD/MM/YYYY format. Provide format or specify infer_datetime_format=True for consistent parsing.\n",
      "  cache_array = _maybe_cache(arg, format, cache, convert_listlike)\n",
      "C:\\Users\\lenon.oliveira\\Anaconda3\\lib\\site-packages\\pandas\\core\\tools\\datetimes.py:1047: UserWarning: Parsing '29/04/2021' in DD/MM/YYYY format. Provide format or specify infer_datetime_format=True for consistent parsing.\n",
      "  cache_array = _maybe_cache(arg, format, cache, convert_listlike)\n",
      "C:\\Users\\lenon.oliveira\\Anaconda3\\lib\\site-packages\\pandas\\core\\tools\\datetimes.py:1047: UserWarning: Parsing '30/04/2021' in DD/MM/YYYY format. Provide format or specify infer_datetime_format=True for consistent parsing.\n",
      "  cache_array = _maybe_cache(arg, format, cache, convert_listlike)\n",
      "C:\\Users\\lenon.oliveira\\Anaconda3\\lib\\site-packages\\pandas\\core\\tools\\datetimes.py:1047: UserWarning: Parsing '13/05/2021' in DD/MM/YYYY format. Provide format or specify infer_datetime_format=True for consistent parsing.\n",
      "  cache_array = _maybe_cache(arg, format, cache, convert_listlike)\n",
      "C:\\Users\\lenon.oliveira\\Anaconda3\\lib\\site-packages\\pandas\\core\\tools\\datetimes.py:1047: UserWarning: Parsing '14/05/2021' in DD/MM/YYYY format. Provide format or specify infer_datetime_format=True for consistent parsing.\n",
      "  cache_array = _maybe_cache(arg, format, cache, convert_listlike)\n",
      "C:\\Users\\lenon.oliveira\\Anaconda3\\lib\\site-packages\\pandas\\core\\tools\\datetimes.py:1047: UserWarning: Parsing '16/05/2021' in DD/MM/YYYY format. Provide format or specify infer_datetime_format=True for consistent parsing.\n",
      "  cache_array = _maybe_cache(arg, format, cache, convert_listlike)\n",
      "C:\\Users\\lenon.oliveira\\Anaconda3\\lib\\site-packages\\pandas\\core\\tools\\datetimes.py:1047: UserWarning: Parsing '17/05/2021' in DD/MM/YYYY format. Provide format or specify infer_datetime_format=True for consistent parsing.\n",
      "  cache_array = _maybe_cache(arg, format, cache, convert_listlike)\n",
      "C:\\Users\\lenon.oliveira\\Anaconda3\\lib\\site-packages\\pandas\\core\\tools\\datetimes.py:1047: UserWarning: Parsing '18/05/2021' in DD/MM/YYYY format. Provide format or specify infer_datetime_format=True for consistent parsing.\n",
      "  cache_array = _maybe_cache(arg, format, cache, convert_listlike)\n",
      "C:\\Users\\lenon.oliveira\\Anaconda3\\lib\\site-packages\\pandas\\core\\tools\\datetimes.py:1047: UserWarning: Parsing '19/05/2021' in DD/MM/YYYY format. Provide format or specify infer_datetime_format=True for consistent parsing.\n",
      "  cache_array = _maybe_cache(arg, format, cache, convert_listlike)\n",
      "C:\\Users\\lenon.oliveira\\Anaconda3\\lib\\site-packages\\pandas\\core\\tools\\datetimes.py:1047: UserWarning: Parsing '20/05/2021' in DD/MM/YYYY format. Provide format or specify infer_datetime_format=True for consistent parsing.\n",
      "  cache_array = _maybe_cache(arg, format, cache, convert_listlike)\n",
      "C:\\Users\\lenon.oliveira\\Anaconda3\\lib\\site-packages\\pandas\\core\\tools\\datetimes.py:1047: UserWarning: Parsing '21/05/2021' in DD/MM/YYYY format. Provide format or specify infer_datetime_format=True for consistent parsing.\n",
      "  cache_array = _maybe_cache(arg, format, cache, convert_listlike)\n",
      "C:\\Users\\lenon.oliveira\\Anaconda3\\lib\\site-packages\\pandas\\core\\tools\\datetimes.py:1047: UserWarning: Parsing '22/05/2021' in DD/MM/YYYY format. Provide format or specify infer_datetime_format=True for consistent parsing.\n",
      "  cache_array = _maybe_cache(arg, format, cache, convert_listlike)\n",
      "C:\\Users\\lenon.oliveira\\Anaconda3\\lib\\site-packages\\pandas\\core\\tools\\datetimes.py:1047: UserWarning: Parsing '24/05/2021' in DD/MM/YYYY format. Provide format or specify infer_datetime_format=True for consistent parsing.\n",
      "  cache_array = _maybe_cache(arg, format, cache, convert_listlike)\n",
      "C:\\Users\\lenon.oliveira\\Anaconda3\\lib\\site-packages\\pandas\\core\\tools\\datetimes.py:1047: UserWarning: Parsing '25/05/2021' in DD/MM/YYYY format. Provide format or specify infer_datetime_format=True for consistent parsing.\n",
      "  cache_array = _maybe_cache(arg, format, cache, convert_listlike)\n",
      "C:\\Users\\lenon.oliveira\\Anaconda3\\lib\\site-packages\\pandas\\core\\tools\\datetimes.py:1047: UserWarning: Parsing '26/05/2021' in DD/MM/YYYY format. Provide format or specify infer_datetime_format=True for consistent parsing.\n",
      "  cache_array = _maybe_cache(arg, format, cache, convert_listlike)\n",
      "C:\\Users\\lenon.oliveira\\Anaconda3\\lib\\site-packages\\pandas\\core\\tools\\datetimes.py:1047: UserWarning: Parsing '27/05/2021' in DD/MM/YYYY format. Provide format or specify infer_datetime_format=True for consistent parsing.\n",
      "  cache_array = _maybe_cache(arg, format, cache, convert_listlike)\n",
      "C:\\Users\\lenon.oliveira\\Anaconda3\\lib\\site-packages\\pandas\\core\\tools\\datetimes.py:1047: UserWarning: Parsing '28/05/2021' in DD/MM/YYYY format. Provide format or specify infer_datetime_format=True for consistent parsing.\n",
      "  cache_array = _maybe_cache(arg, format, cache, convert_listlike)\n",
      "C:\\Users\\lenon.oliveira\\Anaconda3\\lib\\site-packages\\pandas\\core\\tools\\datetimes.py:1047: UserWarning: Parsing '29/05/2021' in DD/MM/YYYY format. Provide format or specify infer_datetime_format=True for consistent parsing.\n",
      "  cache_array = _maybe_cache(arg, format, cache, convert_listlike)\n",
      "C:\\Users\\lenon.oliveira\\Anaconda3\\lib\\site-packages\\pandas\\core\\tools\\datetimes.py:1047: UserWarning: Parsing '30/05/2021' in DD/MM/YYYY format. Provide format or specify infer_datetime_format=True for consistent parsing.\n",
      "  cache_array = _maybe_cache(arg, format, cache, convert_listlike)\n",
      "C:\\Users\\lenon.oliveira\\Anaconda3\\lib\\site-packages\\pandas\\core\\tools\\datetimes.py:1047: UserWarning: Parsing '31/05/2021' in DD/MM/YYYY format. Provide format or specify infer_datetime_format=True for consistent parsing.\n",
      "  cache_array = _maybe_cache(arg, format, cache, convert_listlike)\n",
      "C:\\Users\\lenon.oliveira\\Anaconda3\\lib\\site-packages\\pandas\\core\\tools\\datetimes.py:1047: UserWarning: Parsing '13/06/2021' in DD/MM/YYYY format. Provide format or specify infer_datetime_format=True for consistent parsing.\n",
      "  cache_array = _maybe_cache(arg, format, cache, convert_listlike)\n",
      "C:\\Users\\lenon.oliveira\\Anaconda3\\lib\\site-packages\\pandas\\core\\tools\\datetimes.py:1047: UserWarning: Parsing '14/06/2021' in DD/MM/YYYY format. Provide format or specify infer_datetime_format=True for consistent parsing.\n",
      "  cache_array = _maybe_cache(arg, format, cache, convert_listlike)\n",
      "C:\\Users\\lenon.oliveira\\Anaconda3\\lib\\site-packages\\pandas\\core\\tools\\datetimes.py:1047: UserWarning: Parsing '15/06/2021' in DD/MM/YYYY format. Provide format or specify infer_datetime_format=True for consistent parsing.\n",
      "  cache_array = _maybe_cache(arg, format, cache, convert_listlike)\n",
      "C:\\Users\\lenon.oliveira\\Anaconda3\\lib\\site-packages\\pandas\\core\\tools\\datetimes.py:1047: UserWarning: Parsing '16/06/2021' in DD/MM/YYYY format. Provide format or specify infer_datetime_format=True for consistent parsing.\n",
      "  cache_array = _maybe_cache(arg, format, cache, convert_listlike)\n",
      "C:\\Users\\lenon.oliveira\\Anaconda3\\lib\\site-packages\\pandas\\core\\tools\\datetimes.py:1047: UserWarning: Parsing '17/06/2021' in DD/MM/YYYY format. Provide format or specify infer_datetime_format=True for consistent parsing.\n",
      "  cache_array = _maybe_cache(arg, format, cache, convert_listlike)\n",
      "C:\\Users\\lenon.oliveira\\Anaconda3\\lib\\site-packages\\pandas\\core\\tools\\datetimes.py:1047: UserWarning: Parsing '18/06/2021' in DD/MM/YYYY format. Provide format or specify infer_datetime_format=True for consistent parsing.\n",
      "  cache_array = _maybe_cache(arg, format, cache, convert_listlike)\n",
      "C:\\Users\\lenon.oliveira\\Anaconda3\\lib\\site-packages\\pandas\\core\\tools\\datetimes.py:1047: UserWarning: Parsing '20/06/2021' in DD/MM/YYYY format. Provide format or specify infer_datetime_format=True for consistent parsing.\n",
      "  cache_array = _maybe_cache(arg, format, cache, convert_listlike)\n",
      "C:\\Users\\lenon.oliveira\\Anaconda3\\lib\\site-packages\\pandas\\core\\tools\\datetimes.py:1047: UserWarning: Parsing '21/06/2021' in DD/MM/YYYY format. Provide format or specify infer_datetime_format=True for consistent parsing.\n",
      "  cache_array = _maybe_cache(arg, format, cache, convert_listlike)\n",
      "C:\\Users\\lenon.oliveira\\Anaconda3\\lib\\site-packages\\pandas\\core\\tools\\datetimes.py:1047: UserWarning: Parsing '22/06/2021' in DD/MM/YYYY format. Provide format or specify infer_datetime_format=True for consistent parsing.\n",
      "  cache_array = _maybe_cache(arg, format, cache, convert_listlike)\n",
      "C:\\Users\\lenon.oliveira\\Anaconda3\\lib\\site-packages\\pandas\\core\\tools\\datetimes.py:1047: UserWarning: Parsing '23/06/2021' in DD/MM/YYYY format. Provide format or specify infer_datetime_format=True for consistent parsing.\n",
      "  cache_array = _maybe_cache(arg, format, cache, convert_listlike)\n",
      "C:\\Users\\lenon.oliveira\\Anaconda3\\lib\\site-packages\\pandas\\core\\tools\\datetimes.py:1047: UserWarning: Parsing '24/06/2021' in DD/MM/YYYY format. Provide format or specify infer_datetime_format=True for consistent parsing.\n",
      "  cache_array = _maybe_cache(arg, format, cache, convert_listlike)\n",
      "C:\\Users\\lenon.oliveira\\Anaconda3\\lib\\site-packages\\pandas\\core\\tools\\datetimes.py:1047: UserWarning: Parsing '25/06/2021' in DD/MM/YYYY format. Provide format or specify infer_datetime_format=True for consistent parsing.\n",
      "  cache_array = _maybe_cache(arg, format, cache, convert_listlike)\n",
      "C:\\Users\\lenon.oliveira\\Anaconda3\\lib\\site-packages\\pandas\\core\\tools\\datetimes.py:1047: UserWarning: Parsing '26/06/2021' in DD/MM/YYYY format. Provide format or specify infer_datetime_format=True for consistent parsing.\n",
      "  cache_array = _maybe_cache(arg, format, cache, convert_listlike)\n",
      "C:\\Users\\lenon.oliveira\\Anaconda3\\lib\\site-packages\\pandas\\core\\tools\\datetimes.py:1047: UserWarning: Parsing '28/06/2021' in DD/MM/YYYY format. Provide format or specify infer_datetime_format=True for consistent parsing.\n",
      "  cache_array = _maybe_cache(arg, format, cache, convert_listlike)\n",
      "C:\\Users\\lenon.oliveira\\Anaconda3\\lib\\site-packages\\pandas\\core\\tools\\datetimes.py:1047: UserWarning: Parsing '29/06/2021' in DD/MM/YYYY format. Provide format or specify infer_datetime_format=True for consistent parsing.\n",
      "  cache_array = _maybe_cache(arg, format, cache, convert_listlike)\n",
      "C:\\Users\\lenon.oliveira\\Anaconda3\\lib\\site-packages\\pandas\\core\\tools\\datetimes.py:1047: UserWarning: Parsing '30/06/2021' in DD/MM/YYYY format. Provide format or specify infer_datetime_format=True for consistent parsing.\n",
      "  cache_array = _maybe_cache(arg, format, cache, convert_listlike)\n",
      "C:\\Users\\lenon.oliveira\\Anaconda3\\lib\\site-packages\\pandas\\core\\tools\\datetimes.py:1047: UserWarning: Parsing '13/07/2021' in DD/MM/YYYY format. Provide format or specify infer_datetime_format=True for consistent parsing.\n",
      "  cache_array = _maybe_cache(arg, format, cache, convert_listlike)\n",
      "C:\\Users\\lenon.oliveira\\Anaconda3\\lib\\site-packages\\pandas\\core\\tools\\datetimes.py:1047: UserWarning: Parsing '14/07/2021' in DD/MM/YYYY format. Provide format or specify infer_datetime_format=True for consistent parsing.\n",
      "  cache_array = _maybe_cache(arg, format, cache, convert_listlike)\n",
      "C:\\Users\\lenon.oliveira\\Anaconda3\\lib\\site-packages\\pandas\\core\\tools\\datetimes.py:1047: UserWarning: Parsing '15/07/2021' in DD/MM/YYYY format. Provide format or specify infer_datetime_format=True for consistent parsing.\n",
      "  cache_array = _maybe_cache(arg, format, cache, convert_listlike)\n",
      "C:\\Users\\lenon.oliveira\\Anaconda3\\lib\\site-packages\\pandas\\core\\tools\\datetimes.py:1047: UserWarning: Parsing '16/07/2021' in DD/MM/YYYY format. Provide format or specify infer_datetime_format=True for consistent parsing.\n",
      "  cache_array = _maybe_cache(arg, format, cache, convert_listlike)\n",
      "C:\\Users\\lenon.oliveira\\Anaconda3\\lib\\site-packages\\pandas\\core\\tools\\datetimes.py:1047: UserWarning: Parsing '17/07/2021' in DD/MM/YYYY format. Provide format or specify infer_datetime_format=True for consistent parsing.\n",
      "  cache_array = _maybe_cache(arg, format, cache, convert_listlike)\n",
      "C:\\Users\\lenon.oliveira\\Anaconda3\\lib\\site-packages\\pandas\\core\\tools\\datetimes.py:1047: UserWarning: Parsing '18/07/2021' in DD/MM/YYYY format. Provide format or specify infer_datetime_format=True for consistent parsing.\n",
      "  cache_array = _maybe_cache(arg, format, cache, convert_listlike)\n",
      "C:\\Users\\lenon.oliveira\\Anaconda3\\lib\\site-packages\\pandas\\core\\tools\\datetimes.py:1047: UserWarning: Parsing '19/07/2021' in DD/MM/YYYY format. Provide format or specify infer_datetime_format=True for consistent parsing.\n",
      "  cache_array = _maybe_cache(arg, format, cache, convert_listlike)\n",
      "C:\\Users\\lenon.oliveira\\Anaconda3\\lib\\site-packages\\pandas\\core\\tools\\datetimes.py:1047: UserWarning: Parsing '21/07/2021' in DD/MM/YYYY format. Provide format or specify infer_datetime_format=True for consistent parsing.\n",
      "  cache_array = _maybe_cache(arg, format, cache, convert_listlike)\n",
      "C:\\Users\\lenon.oliveira\\Anaconda3\\lib\\site-packages\\pandas\\core\\tools\\datetimes.py:1047: UserWarning: Parsing '23/07/2021' in DD/MM/YYYY format. Provide format or specify infer_datetime_format=True for consistent parsing.\n",
      "  cache_array = _maybe_cache(arg, format, cache, convert_listlike)\n",
      "C:\\Users\\lenon.oliveira\\Anaconda3\\lib\\site-packages\\pandas\\core\\tools\\datetimes.py:1047: UserWarning: Parsing '24/07/2021' in DD/MM/YYYY format. Provide format or specify infer_datetime_format=True for consistent parsing.\n",
      "  cache_array = _maybe_cache(arg, format, cache, convert_listlike)\n",
      "C:\\Users\\lenon.oliveira\\Anaconda3\\lib\\site-packages\\pandas\\core\\tools\\datetimes.py:1047: UserWarning: Parsing '25/07/2021' in DD/MM/YYYY format. Provide format or specify infer_datetime_format=True for consistent parsing.\n",
      "  cache_array = _maybe_cache(arg, format, cache, convert_listlike)\n",
      "C:\\Users\\lenon.oliveira\\Anaconda3\\lib\\site-packages\\pandas\\core\\tools\\datetimes.py:1047: UserWarning: Parsing '26/07/2021' in DD/MM/YYYY format. Provide format or specify infer_datetime_format=True for consistent parsing.\n",
      "  cache_array = _maybe_cache(arg, format, cache, convert_listlike)\n",
      "C:\\Users\\lenon.oliveira\\Anaconda3\\lib\\site-packages\\pandas\\core\\tools\\datetimes.py:1047: UserWarning: Parsing '27/07/2021' in DD/MM/YYYY format. Provide format or specify infer_datetime_format=True for consistent parsing.\n",
      "  cache_array = _maybe_cache(arg, format, cache, convert_listlike)\n",
      "C:\\Users\\lenon.oliveira\\Anaconda3\\lib\\site-packages\\pandas\\core\\tools\\datetimes.py:1047: UserWarning: Parsing '29/07/2021' in DD/MM/YYYY format. Provide format or specify infer_datetime_format=True for consistent parsing.\n",
      "  cache_array = _maybe_cache(arg, format, cache, convert_listlike)\n",
      "C:\\Users\\lenon.oliveira\\Anaconda3\\lib\\site-packages\\pandas\\core\\tools\\datetimes.py:1047: UserWarning: Parsing '31/07/2021' in DD/MM/YYYY format. Provide format or specify infer_datetime_format=True for consistent parsing.\n",
      "  cache_array = _maybe_cache(arg, format, cache, convert_listlike)\n",
      "C:\\Users\\lenon.oliveira\\Anaconda3\\lib\\site-packages\\pandas\\core\\tools\\datetimes.py:1047: UserWarning: Parsing '14/08/2021' in DD/MM/YYYY format. Provide format or specify infer_datetime_format=True for consistent parsing.\n",
      "  cache_array = _maybe_cache(arg, format, cache, convert_listlike)\n",
      "C:\\Users\\lenon.oliveira\\Anaconda3\\lib\\site-packages\\pandas\\core\\tools\\datetimes.py:1047: UserWarning: Parsing '15/08/2021' in DD/MM/YYYY format. Provide format or specify infer_datetime_format=True for consistent parsing.\n",
      "  cache_array = _maybe_cache(arg, format, cache, convert_listlike)\n",
      "C:\\Users\\lenon.oliveira\\Anaconda3\\lib\\site-packages\\pandas\\core\\tools\\datetimes.py:1047: UserWarning: Parsing '16/08/2021' in DD/MM/YYYY format. Provide format or specify infer_datetime_format=True for consistent parsing.\n",
      "  cache_array = _maybe_cache(arg, format, cache, convert_listlike)\n",
      "C:\\Users\\lenon.oliveira\\Anaconda3\\lib\\site-packages\\pandas\\core\\tools\\datetimes.py:1047: UserWarning: Parsing '17/08/2021' in DD/MM/YYYY format. Provide format or specify infer_datetime_format=True for consistent parsing.\n",
      "  cache_array = _maybe_cache(arg, format, cache, convert_listlike)\n",
      "C:\\Users\\lenon.oliveira\\Anaconda3\\lib\\site-packages\\pandas\\core\\tools\\datetimes.py:1047: UserWarning: Parsing '18/08/2021' in DD/MM/YYYY format. Provide format or specify infer_datetime_format=True for consistent parsing.\n",
      "  cache_array = _maybe_cache(arg, format, cache, convert_listlike)\n",
      "C:\\Users\\lenon.oliveira\\Anaconda3\\lib\\site-packages\\pandas\\core\\tools\\datetimes.py:1047: UserWarning: Parsing '19/08/2021' in DD/MM/YYYY format. Provide format or specify infer_datetime_format=True for consistent parsing.\n",
      "  cache_array = _maybe_cache(arg, format, cache, convert_listlike)\n",
      "C:\\Users\\lenon.oliveira\\Anaconda3\\lib\\site-packages\\pandas\\core\\tools\\datetimes.py:1047: UserWarning: Parsing '20/08/2021' in DD/MM/YYYY format. Provide format or specify infer_datetime_format=True for consistent parsing.\n",
      "  cache_array = _maybe_cache(arg, format, cache, convert_listlike)\n",
      "C:\\Users\\lenon.oliveira\\Anaconda3\\lib\\site-packages\\pandas\\core\\tools\\datetimes.py:1047: UserWarning: Parsing '21/08/2021' in DD/MM/YYYY format. Provide format or specify infer_datetime_format=True for consistent parsing.\n",
      "  cache_array = _maybe_cache(arg, format, cache, convert_listlike)\n",
      "C:\\Users\\lenon.oliveira\\Anaconda3\\lib\\site-packages\\pandas\\core\\tools\\datetimes.py:1047: UserWarning: Parsing '22/08/2021' in DD/MM/YYYY format. Provide format or specify infer_datetime_format=True for consistent parsing.\n",
      "  cache_array = _maybe_cache(arg, format, cache, convert_listlike)\n",
      "C:\\Users\\lenon.oliveira\\Anaconda3\\lib\\site-packages\\pandas\\core\\tools\\datetimes.py:1047: UserWarning: Parsing '23/08/2021' in DD/MM/YYYY format. Provide format or specify infer_datetime_format=True for consistent parsing.\n",
      "  cache_array = _maybe_cache(arg, format, cache, convert_listlike)\n",
      "C:\\Users\\lenon.oliveira\\Anaconda3\\lib\\site-packages\\pandas\\core\\tools\\datetimes.py:1047: UserWarning: Parsing '24/08/2021' in DD/MM/YYYY format. Provide format or specify infer_datetime_format=True for consistent parsing.\n",
      "  cache_array = _maybe_cache(arg, format, cache, convert_listlike)\n",
      "C:\\Users\\lenon.oliveira\\Anaconda3\\lib\\site-packages\\pandas\\core\\tools\\datetimes.py:1047: UserWarning: Parsing '25/08/2021' in DD/MM/YYYY format. Provide format or specify infer_datetime_format=True for consistent parsing.\n",
      "  cache_array = _maybe_cache(arg, format, cache, convert_listlike)\n",
      "C:\\Users\\lenon.oliveira\\Anaconda3\\lib\\site-packages\\pandas\\core\\tools\\datetimes.py:1047: UserWarning: Parsing '26/08/2021' in DD/MM/YYYY format. Provide format or specify infer_datetime_format=True for consistent parsing.\n",
      "  cache_array = _maybe_cache(arg, format, cache, convert_listlike)\n",
      "C:\\Users\\lenon.oliveira\\Anaconda3\\lib\\site-packages\\pandas\\core\\tools\\datetimes.py:1047: UserWarning: Parsing '27/08/2021' in DD/MM/YYYY format. Provide format or specify infer_datetime_format=True for consistent parsing.\n",
      "  cache_array = _maybe_cache(arg, format, cache, convert_listlike)\n",
      "C:\\Users\\lenon.oliveira\\Anaconda3\\lib\\site-packages\\pandas\\core\\tools\\datetimes.py:1047: UserWarning: Parsing '28/08/2021' in DD/MM/YYYY format. Provide format or specify infer_datetime_format=True for consistent parsing.\n",
      "  cache_array = _maybe_cache(arg, format, cache, convert_listlike)\n",
      "C:\\Users\\lenon.oliveira\\Anaconda3\\lib\\site-packages\\pandas\\core\\tools\\datetimes.py:1047: UserWarning: Parsing '29/08/2021' in DD/MM/YYYY format. Provide format or specify infer_datetime_format=True for consistent parsing.\n",
      "  cache_array = _maybe_cache(arg, format, cache, convert_listlike)\n",
      "C:\\Users\\lenon.oliveira\\Anaconda3\\lib\\site-packages\\pandas\\core\\tools\\datetimes.py:1047: UserWarning: Parsing '30/08/2021' in DD/MM/YYYY format. Provide format or specify infer_datetime_format=True for consistent parsing.\n",
      "  cache_array = _maybe_cache(arg, format, cache, convert_listlike)\n",
      "C:\\Users\\lenon.oliveira\\Anaconda3\\lib\\site-packages\\pandas\\core\\tools\\datetimes.py:1047: UserWarning: Parsing '31/08/2021' in DD/MM/YYYY format. Provide format or specify infer_datetime_format=True for consistent parsing.\n",
      "  cache_array = _maybe_cache(arg, format, cache, convert_listlike)\n",
      "C:\\Users\\lenon.oliveira\\Anaconda3\\lib\\site-packages\\pandas\\core\\tools\\datetimes.py:1047: UserWarning: Parsing '13/09/2021' in DD/MM/YYYY format. Provide format or specify infer_datetime_format=True for consistent parsing.\n",
      "  cache_array = _maybe_cache(arg, format, cache, convert_listlike)\n",
      "C:\\Users\\lenon.oliveira\\Anaconda3\\lib\\site-packages\\pandas\\core\\tools\\datetimes.py:1047: UserWarning: Parsing '14/09/2021' in DD/MM/YYYY format. Provide format or specify infer_datetime_format=True for consistent parsing.\n",
      "  cache_array = _maybe_cache(arg, format, cache, convert_listlike)\n",
      "C:\\Users\\lenon.oliveira\\Anaconda3\\lib\\site-packages\\pandas\\core\\tools\\datetimes.py:1047: UserWarning: Parsing '15/09/2021' in DD/MM/YYYY format. Provide format or specify infer_datetime_format=True for consistent parsing.\n",
      "  cache_array = _maybe_cache(arg, format, cache, convert_listlike)\n",
      "C:\\Users\\lenon.oliveira\\Anaconda3\\lib\\site-packages\\pandas\\core\\tools\\datetimes.py:1047: UserWarning: Parsing '16/09/2021' in DD/MM/YYYY format. Provide format or specify infer_datetime_format=True for consistent parsing.\n",
      "  cache_array = _maybe_cache(arg, format, cache, convert_listlike)\n",
      "C:\\Users\\lenon.oliveira\\Anaconda3\\lib\\site-packages\\pandas\\core\\tools\\datetimes.py:1047: UserWarning: Parsing '17/09/2021' in DD/MM/YYYY format. Provide format or specify infer_datetime_format=True for consistent parsing.\n",
      "  cache_array = _maybe_cache(arg, format, cache, convert_listlike)\n",
      "C:\\Users\\lenon.oliveira\\Anaconda3\\lib\\site-packages\\pandas\\core\\tools\\datetimes.py:1047: UserWarning: Parsing '18/09/2021' in DD/MM/YYYY format. Provide format or specify infer_datetime_format=True for consistent parsing.\n",
      "  cache_array = _maybe_cache(arg, format, cache, convert_listlike)\n",
      "C:\\Users\\lenon.oliveira\\Anaconda3\\lib\\site-packages\\pandas\\core\\tools\\datetimes.py:1047: UserWarning: Parsing '19/09/2021' in DD/MM/YYYY format. Provide format or specify infer_datetime_format=True for consistent parsing.\n",
      "  cache_array = _maybe_cache(arg, format, cache, convert_listlike)\n",
      "C:\\Users\\lenon.oliveira\\Anaconda3\\lib\\site-packages\\pandas\\core\\tools\\datetimes.py:1047: UserWarning: Parsing '20/09/2021' in DD/MM/YYYY format. Provide format or specify infer_datetime_format=True for consistent parsing.\n",
      "  cache_array = _maybe_cache(arg, format, cache, convert_listlike)\n",
      "C:\\Users\\lenon.oliveira\\Anaconda3\\lib\\site-packages\\pandas\\core\\tools\\datetimes.py:1047: UserWarning: Parsing '21/09/2021' in DD/MM/YYYY format. Provide format or specify infer_datetime_format=True for consistent parsing.\n",
      "  cache_array = _maybe_cache(arg, format, cache, convert_listlike)\n",
      "C:\\Users\\lenon.oliveira\\Anaconda3\\lib\\site-packages\\pandas\\core\\tools\\datetimes.py:1047: UserWarning: Parsing '22/09/2021' in DD/MM/YYYY format. Provide format or specify infer_datetime_format=True for consistent parsing.\n",
      "  cache_array = _maybe_cache(arg, format, cache, convert_listlike)\n",
      "C:\\Users\\lenon.oliveira\\Anaconda3\\lib\\site-packages\\pandas\\core\\tools\\datetimes.py:1047: UserWarning: Parsing '23/09/2021' in DD/MM/YYYY format. Provide format or specify infer_datetime_format=True for consistent parsing.\n",
      "  cache_array = _maybe_cache(arg, format, cache, convert_listlike)\n",
      "C:\\Users\\lenon.oliveira\\Anaconda3\\lib\\site-packages\\pandas\\core\\tools\\datetimes.py:1047: UserWarning: Parsing '24/09/2021' in DD/MM/YYYY format. Provide format or specify infer_datetime_format=True for consistent parsing.\n",
      "  cache_array = _maybe_cache(arg, format, cache, convert_listlike)\n",
      "C:\\Users\\lenon.oliveira\\Anaconda3\\lib\\site-packages\\pandas\\core\\tools\\datetimes.py:1047: UserWarning: Parsing '25/09/2021' in DD/MM/YYYY format. Provide format or specify infer_datetime_format=True for consistent parsing.\n",
      "  cache_array = _maybe_cache(arg, format, cache, convert_listlike)\n",
      "C:\\Users\\lenon.oliveira\\Anaconda3\\lib\\site-packages\\pandas\\core\\tools\\datetimes.py:1047: UserWarning: Parsing '26/09/2021' in DD/MM/YYYY format. Provide format or specify infer_datetime_format=True for consistent parsing.\n",
      "  cache_array = _maybe_cache(arg, format, cache, convert_listlike)\n",
      "C:\\Users\\lenon.oliveira\\Anaconda3\\lib\\site-packages\\pandas\\core\\tools\\datetimes.py:1047: UserWarning: Parsing '27/09/2021' in DD/MM/YYYY format. Provide format or specify infer_datetime_format=True for consistent parsing.\n",
      "  cache_array = _maybe_cache(arg, format, cache, convert_listlike)\n",
      "C:\\Users\\lenon.oliveira\\Anaconda3\\lib\\site-packages\\pandas\\core\\tools\\datetimes.py:1047: UserWarning: Parsing '28/09/2021' in DD/MM/YYYY format. Provide format or specify infer_datetime_format=True for consistent parsing.\n",
      "  cache_array = _maybe_cache(arg, format, cache, convert_listlike)\n",
      "C:\\Users\\lenon.oliveira\\Anaconda3\\lib\\site-packages\\pandas\\core\\tools\\datetimes.py:1047: UserWarning: Parsing '29/09/2021' in DD/MM/YYYY format. Provide format or specify infer_datetime_format=True for consistent parsing.\n",
      "  cache_array = _maybe_cache(arg, format, cache, convert_listlike)\n",
      "C:\\Users\\lenon.oliveira\\Anaconda3\\lib\\site-packages\\pandas\\core\\tools\\datetimes.py:1047: UserWarning: Parsing '30/09/2021' in DD/MM/YYYY format. Provide format or specify infer_datetime_format=True for consistent parsing.\n",
      "  cache_array = _maybe_cache(arg, format, cache, convert_listlike)\n",
      "C:\\Users\\lenon.oliveira\\Anaconda3\\lib\\site-packages\\pandas\\core\\tools\\datetimes.py:1047: UserWarning: Parsing '13/10/2021' in DD/MM/YYYY format. Provide format or specify infer_datetime_format=True for consistent parsing.\n",
      "  cache_array = _maybe_cache(arg, format, cache, convert_listlike)\n",
      "C:\\Users\\lenon.oliveira\\Anaconda3\\lib\\site-packages\\pandas\\core\\tools\\datetimes.py:1047: UserWarning: Parsing '14/10/2021' in DD/MM/YYYY format. Provide format or specify infer_datetime_format=True for consistent parsing.\n",
      "  cache_array = _maybe_cache(arg, format, cache, convert_listlike)\n",
      "C:\\Users\\lenon.oliveira\\Anaconda3\\lib\\site-packages\\pandas\\core\\tools\\datetimes.py:1047: UserWarning: Parsing '15/10/2021' in DD/MM/YYYY format. Provide format or specify infer_datetime_format=True for consistent parsing.\n",
      "  cache_array = _maybe_cache(arg, format, cache, convert_listlike)\n",
      "C:\\Users\\lenon.oliveira\\Anaconda3\\lib\\site-packages\\pandas\\core\\tools\\datetimes.py:1047: UserWarning: Parsing '17/10/2021' in DD/MM/YYYY format. Provide format or specify infer_datetime_format=True for consistent parsing.\n",
      "  cache_array = _maybe_cache(arg, format, cache, convert_listlike)\n",
      "C:\\Users\\lenon.oliveira\\Anaconda3\\lib\\site-packages\\pandas\\core\\tools\\datetimes.py:1047: UserWarning: Parsing '18/10/2021' in DD/MM/YYYY format. Provide format or specify infer_datetime_format=True for consistent parsing.\n",
      "  cache_array = _maybe_cache(arg, format, cache, convert_listlike)\n",
      "C:\\Users\\lenon.oliveira\\Anaconda3\\lib\\site-packages\\pandas\\core\\tools\\datetimes.py:1047: UserWarning: Parsing '19/10/2021' in DD/MM/YYYY format. Provide format or specify infer_datetime_format=True for consistent parsing.\n",
      "  cache_array = _maybe_cache(arg, format, cache, convert_listlike)\n",
      "C:\\Users\\lenon.oliveira\\Anaconda3\\lib\\site-packages\\pandas\\core\\tools\\datetimes.py:1047: UserWarning: Parsing '20/10/2021' in DD/MM/YYYY format. Provide format or specify infer_datetime_format=True for consistent parsing.\n",
      "  cache_array = _maybe_cache(arg, format, cache, convert_listlike)\n",
      "C:\\Users\\lenon.oliveira\\Anaconda3\\lib\\site-packages\\pandas\\core\\tools\\datetimes.py:1047: UserWarning: Parsing '21/10/2021' in DD/MM/YYYY format. Provide format or specify infer_datetime_format=True for consistent parsing.\n",
      "  cache_array = _maybe_cache(arg, format, cache, convert_listlike)\n",
      "C:\\Users\\lenon.oliveira\\Anaconda3\\lib\\site-packages\\pandas\\core\\tools\\datetimes.py:1047: UserWarning: Parsing '22/10/2021' in DD/MM/YYYY format. Provide format or specify infer_datetime_format=True for consistent parsing.\n",
      "  cache_array = _maybe_cache(arg, format, cache, convert_listlike)\n",
      "C:\\Users\\lenon.oliveira\\Anaconda3\\lib\\site-packages\\pandas\\core\\tools\\datetimes.py:1047: UserWarning: Parsing '24/10/2021' in DD/MM/YYYY format. Provide format or specify infer_datetime_format=True for consistent parsing.\n",
      "  cache_array = _maybe_cache(arg, format, cache, convert_listlike)\n",
      "C:\\Users\\lenon.oliveira\\Anaconda3\\lib\\site-packages\\pandas\\core\\tools\\datetimes.py:1047: UserWarning: Parsing '25/10/2021' in DD/MM/YYYY format. Provide format or specify infer_datetime_format=True for consistent parsing.\n",
      "  cache_array = _maybe_cache(arg, format, cache, convert_listlike)\n",
      "C:\\Users\\lenon.oliveira\\Anaconda3\\lib\\site-packages\\pandas\\core\\tools\\datetimes.py:1047: UserWarning: Parsing '26/10/2021' in DD/MM/YYYY format. Provide format or specify infer_datetime_format=True for consistent parsing.\n",
      "  cache_array = _maybe_cache(arg, format, cache, convert_listlike)\n",
      "C:\\Users\\lenon.oliveira\\Anaconda3\\lib\\site-packages\\pandas\\core\\tools\\datetimes.py:1047: UserWarning: Parsing '27/10/2021' in DD/MM/YYYY format. Provide format or specify infer_datetime_format=True for consistent parsing.\n",
      "  cache_array = _maybe_cache(arg, format, cache, convert_listlike)\n",
      "C:\\Users\\lenon.oliveira\\Anaconda3\\lib\\site-packages\\pandas\\core\\tools\\datetimes.py:1047: UserWarning: Parsing '28/10/2021' in DD/MM/YYYY format. Provide format or specify infer_datetime_format=True for consistent parsing.\n",
      "  cache_array = _maybe_cache(arg, format, cache, convert_listlike)\n",
      "C:\\Users\\lenon.oliveira\\Anaconda3\\lib\\site-packages\\pandas\\core\\tools\\datetimes.py:1047: UserWarning: Parsing '29/10/2021' in DD/MM/YYYY format. Provide format or specify infer_datetime_format=True for consistent parsing.\n",
      "  cache_array = _maybe_cache(arg, format, cache, convert_listlike)\n",
      "C:\\Users\\lenon.oliveira\\Anaconda3\\lib\\site-packages\\pandas\\core\\tools\\datetimes.py:1047: UserWarning: Parsing '30/10/2021' in DD/MM/YYYY format. Provide format or specify infer_datetime_format=True for consistent parsing.\n",
      "  cache_array = _maybe_cache(arg, format, cache, convert_listlike)\n",
      "C:\\Users\\lenon.oliveira\\Anaconda3\\lib\\site-packages\\pandas\\core\\tools\\datetimes.py:1047: UserWarning: Parsing '31/10/2021' in DD/MM/YYYY format. Provide format or specify infer_datetime_format=True for consistent parsing.\n",
      "  cache_array = _maybe_cache(arg, format, cache, convert_listlike)\n",
      "C:\\Users\\lenon.oliveira\\Anaconda3\\lib\\site-packages\\pandas\\core\\tools\\datetimes.py:1047: UserWarning: Parsing '13/11/2021' in DD/MM/YYYY format. Provide format or specify infer_datetime_format=True for consistent parsing.\n",
      "  cache_array = _maybe_cache(arg, format, cache, convert_listlike)\n",
      "C:\\Users\\lenon.oliveira\\Anaconda3\\lib\\site-packages\\pandas\\core\\tools\\datetimes.py:1047: UserWarning: Parsing '14/11/2021' in DD/MM/YYYY format. Provide format or specify infer_datetime_format=True for consistent parsing.\n",
      "  cache_array = _maybe_cache(arg, format, cache, convert_listlike)\n",
      "C:\\Users\\lenon.oliveira\\Anaconda3\\lib\\site-packages\\pandas\\core\\tools\\datetimes.py:1047: UserWarning: Parsing '15/11/2021' in DD/MM/YYYY format. Provide format or specify infer_datetime_format=True for consistent parsing.\n",
      "  cache_array = _maybe_cache(arg, format, cache, convert_listlike)\n",
      "C:\\Users\\lenon.oliveira\\Anaconda3\\lib\\site-packages\\pandas\\core\\tools\\datetimes.py:1047: UserWarning: Parsing '16/11/2021' in DD/MM/YYYY format. Provide format or specify infer_datetime_format=True for consistent parsing.\n",
      "  cache_array = _maybe_cache(arg, format, cache, convert_listlike)\n",
      "C:\\Users\\lenon.oliveira\\Anaconda3\\lib\\site-packages\\pandas\\core\\tools\\datetimes.py:1047: UserWarning: Parsing '17/11/2021' in DD/MM/YYYY format. Provide format or specify infer_datetime_format=True for consistent parsing.\n",
      "  cache_array = _maybe_cache(arg, format, cache, convert_listlike)\n",
      "C:\\Users\\lenon.oliveira\\Anaconda3\\lib\\site-packages\\pandas\\core\\tools\\datetimes.py:1047: UserWarning: Parsing '18/11/2021' in DD/MM/YYYY format. Provide format or specify infer_datetime_format=True for consistent parsing.\n",
      "  cache_array = _maybe_cache(arg, format, cache, convert_listlike)\n",
      "C:\\Users\\lenon.oliveira\\Anaconda3\\lib\\site-packages\\pandas\\core\\tools\\datetimes.py:1047: UserWarning: Parsing '19/11/2021' in DD/MM/YYYY format. Provide format or specify infer_datetime_format=True for consistent parsing.\n",
      "  cache_array = _maybe_cache(arg, format, cache, convert_listlike)\n",
      "C:\\Users\\lenon.oliveira\\Anaconda3\\lib\\site-packages\\pandas\\core\\tools\\datetimes.py:1047: UserWarning: Parsing '20/11/2021' in DD/MM/YYYY format. Provide format or specify infer_datetime_format=True for consistent parsing.\n",
      "  cache_array = _maybe_cache(arg, format, cache, convert_listlike)\n",
      "C:\\Users\\lenon.oliveira\\Anaconda3\\lib\\site-packages\\pandas\\core\\tools\\datetimes.py:1047: UserWarning: Parsing '22/11/2021' in DD/MM/YYYY format. Provide format or specify infer_datetime_format=True for consistent parsing.\n",
      "  cache_array = _maybe_cache(arg, format, cache, convert_listlike)\n",
      "C:\\Users\\lenon.oliveira\\Anaconda3\\lib\\site-packages\\pandas\\core\\tools\\datetimes.py:1047: UserWarning: Parsing '24/11/2021' in DD/MM/YYYY format. Provide format or specify infer_datetime_format=True for consistent parsing.\n",
      "  cache_array = _maybe_cache(arg, format, cache, convert_listlike)\n",
      "C:\\Users\\lenon.oliveira\\Anaconda3\\lib\\site-packages\\pandas\\core\\tools\\datetimes.py:1047: UserWarning: Parsing '25/11/2021' in DD/MM/YYYY format. Provide format or specify infer_datetime_format=True for consistent parsing.\n",
      "  cache_array = _maybe_cache(arg, format, cache, convert_listlike)\n",
      "C:\\Users\\lenon.oliveira\\Anaconda3\\lib\\site-packages\\pandas\\core\\tools\\datetimes.py:1047: UserWarning: Parsing '26/11/2021' in DD/MM/YYYY format. Provide format or specify infer_datetime_format=True for consistent parsing.\n",
      "  cache_array = _maybe_cache(arg, format, cache, convert_listlike)\n",
      "C:\\Users\\lenon.oliveira\\Anaconda3\\lib\\site-packages\\pandas\\core\\tools\\datetimes.py:1047: UserWarning: Parsing '27/11/2021' in DD/MM/YYYY format. Provide format or specify infer_datetime_format=True for consistent parsing.\n",
      "  cache_array = _maybe_cache(arg, format, cache, convert_listlike)\n",
      "C:\\Users\\lenon.oliveira\\Anaconda3\\lib\\site-packages\\pandas\\core\\tools\\datetimes.py:1047: UserWarning: Parsing '28/11/2021' in DD/MM/YYYY format. Provide format or specify infer_datetime_format=True for consistent parsing.\n",
      "  cache_array = _maybe_cache(arg, format, cache, convert_listlike)\n",
      "C:\\Users\\lenon.oliveira\\Anaconda3\\lib\\site-packages\\pandas\\core\\tools\\datetimes.py:1047: UserWarning: Parsing '30/11/2021' in DD/MM/YYYY format. Provide format or specify infer_datetime_format=True for consistent parsing.\n",
      "  cache_array = _maybe_cache(arg, format, cache, convert_listlike)\n",
      "C:\\Users\\lenon.oliveira\\Anaconda3\\lib\\site-packages\\pandas\\core\\tools\\datetimes.py:1047: UserWarning: Parsing '13/12/2021' in DD/MM/YYYY format. Provide format or specify infer_datetime_format=True for consistent parsing.\n",
      "  cache_array = _maybe_cache(arg, format, cache, convert_listlike)\n",
      "C:\\Users\\lenon.oliveira\\Anaconda3\\lib\\site-packages\\pandas\\core\\tools\\datetimes.py:1047: UserWarning: Parsing '14/12/2021' in DD/MM/YYYY format. Provide format or specify infer_datetime_format=True for consistent parsing.\n",
      "  cache_array = _maybe_cache(arg, format, cache, convert_listlike)\n",
      "C:\\Users\\lenon.oliveira\\Anaconda3\\lib\\site-packages\\pandas\\core\\tools\\datetimes.py:1047: UserWarning: Parsing '15/12/2021' in DD/MM/YYYY format. Provide format or specify infer_datetime_format=True for consistent parsing.\n",
      "  cache_array = _maybe_cache(arg, format, cache, convert_listlike)\n",
      "C:\\Users\\lenon.oliveira\\Anaconda3\\lib\\site-packages\\pandas\\core\\tools\\datetimes.py:1047: UserWarning: Parsing '16/12/2021' in DD/MM/YYYY format. Provide format or specify infer_datetime_format=True for consistent parsing.\n",
      "  cache_array = _maybe_cache(arg, format, cache, convert_listlike)\n",
      "C:\\Users\\lenon.oliveira\\Anaconda3\\lib\\site-packages\\pandas\\core\\tools\\datetimes.py:1047: UserWarning: Parsing '17/12/2021' in DD/MM/YYYY format. Provide format or specify infer_datetime_format=True for consistent parsing.\n",
      "  cache_array = _maybe_cache(arg, format, cache, convert_listlike)\n",
      "C:\\Users\\lenon.oliveira\\Anaconda3\\lib\\site-packages\\pandas\\core\\tools\\datetimes.py:1047: UserWarning: Parsing '18/12/2021' in DD/MM/YYYY format. Provide format or specify infer_datetime_format=True for consistent parsing.\n",
      "  cache_array = _maybe_cache(arg, format, cache, convert_listlike)\n",
      "C:\\Users\\lenon.oliveira\\Anaconda3\\lib\\site-packages\\pandas\\core\\tools\\datetimes.py:1047: UserWarning: Parsing '20/12/2021' in DD/MM/YYYY format. Provide format or specify infer_datetime_format=True for consistent parsing.\n",
      "  cache_array = _maybe_cache(arg, format, cache, convert_listlike)\n",
      "C:\\Users\\lenon.oliveira\\Anaconda3\\lib\\site-packages\\pandas\\core\\tools\\datetimes.py:1047: UserWarning: Parsing '21/12/2021' in DD/MM/YYYY format. Provide format or specify infer_datetime_format=True for consistent parsing.\n",
      "  cache_array = _maybe_cache(arg, format, cache, convert_listlike)\n",
      "C:\\Users\\lenon.oliveira\\Anaconda3\\lib\\site-packages\\pandas\\core\\tools\\datetimes.py:1047: UserWarning: Parsing '22/12/2021' in DD/MM/YYYY format. Provide format or specify infer_datetime_format=True for consistent parsing.\n",
      "  cache_array = _maybe_cache(arg, format, cache, convert_listlike)\n",
      "C:\\Users\\lenon.oliveira\\Anaconda3\\lib\\site-packages\\pandas\\core\\tools\\datetimes.py:1047: UserWarning: Parsing '23/12/2021' in DD/MM/YYYY format. Provide format or specify infer_datetime_format=True for consistent parsing.\n",
      "  cache_array = _maybe_cache(arg, format, cache, convert_listlike)\n",
      "C:\\Users\\lenon.oliveira\\Anaconda3\\lib\\site-packages\\pandas\\core\\tools\\datetimes.py:1047: UserWarning: Parsing '24/12/2021' in DD/MM/YYYY format. Provide format or specify infer_datetime_format=True for consistent parsing.\n",
      "  cache_array = _maybe_cache(arg, format, cache, convert_listlike)\n",
      "C:\\Users\\lenon.oliveira\\Anaconda3\\lib\\site-packages\\pandas\\core\\tools\\datetimes.py:1047: UserWarning: Parsing '25/12/2021' in DD/MM/YYYY format. Provide format or specify infer_datetime_format=True for consistent parsing.\n",
      "  cache_array = _maybe_cache(arg, format, cache, convert_listlike)\n",
      "C:\\Users\\lenon.oliveira\\Anaconda3\\lib\\site-packages\\pandas\\core\\tools\\datetimes.py:1047: UserWarning: Parsing '26/12/2021' in DD/MM/YYYY format. Provide format or specify infer_datetime_format=True for consistent parsing.\n",
      "  cache_array = _maybe_cache(arg, format, cache, convert_listlike)\n",
      "C:\\Users\\lenon.oliveira\\Anaconda3\\lib\\site-packages\\pandas\\core\\tools\\datetimes.py:1047: UserWarning: Parsing '27/12/2021' in DD/MM/YYYY format. Provide format or specify infer_datetime_format=True for consistent parsing.\n",
      "  cache_array = _maybe_cache(arg, format, cache, convert_listlike)\n",
      "C:\\Users\\lenon.oliveira\\Anaconda3\\lib\\site-packages\\pandas\\core\\tools\\datetimes.py:1047: UserWarning: Parsing '28/12/2021' in DD/MM/YYYY format. Provide format or specify infer_datetime_format=True for consistent parsing.\n",
      "  cache_array = _maybe_cache(arg, format, cache, convert_listlike)\n",
      "C:\\Users\\lenon.oliveira\\Anaconda3\\lib\\site-packages\\pandas\\core\\tools\\datetimes.py:1047: UserWarning: Parsing '29/12/2021' in DD/MM/YYYY format. Provide format or specify infer_datetime_format=True for consistent parsing.\n",
      "  cache_array = _maybe_cache(arg, format, cache, convert_listlike)\n",
      "C:\\Users\\lenon.oliveira\\Anaconda3\\lib\\site-packages\\pandas\\core\\tools\\datetimes.py:1047: UserWarning: Parsing '30/12/2021' in DD/MM/YYYY format. Provide format or specify infer_datetime_format=True for consistent parsing.\n",
      "  cache_array = _maybe_cache(arg, format, cache, convert_listlike)\n",
      "C:\\Users\\lenon.oliveira\\Anaconda3\\lib\\site-packages\\pandas\\core\\tools\\datetimes.py:1047: UserWarning: Parsing '31/12/2021' in DD/MM/YYYY format. Provide format or specify infer_datetime_format=True for consistent parsing.\n",
      "  cache_array = _maybe_cache(arg, format, cache, convert_listlike)\n"
     ]
    },
    {
     "data": {
      "text/plain": [
       "title            object\n",
       "media            object\n",
       "date     datetime64[ns]\n",
       "desc             object\n",
       "dtype: object"
      ]
     },
     "execution_count": 7,
     "metadata": {},
     "output_type": "execute_result"
    }
   ],
   "source": [
    "#Transformando coluna data para datetime:\n",
    "df['date'] = pd.to_datetime(df['date'])\n",
    "df.dtypes"
   ]
  },
  {
   "cell_type": "markdown",
   "metadata": {},
   "source": [
    "## Leitura dos pregões"
   ]
  },
  {
   "cell_type": "code",
   "execution_count": 8,
   "metadata": {},
   "outputs": [
    {
     "data": {
      "text/html": [
       "<div>\n",
       "<style scoped>\n",
       "    .dataframe tbody tr th:only-of-type {\n",
       "        vertical-align: middle;\n",
       "    }\n",
       "\n",
       "    .dataframe tbody tr th {\n",
       "        vertical-align: top;\n",
       "    }\n",
       "\n",
       "    .dataframe thead th {\n",
       "        text-align: right;\n",
       "    }\n",
       "</style>\n",
       "<table border=\"1\" class=\"dataframe\">\n",
       "  <thead>\n",
       "    <tr style=\"text-align: right;\">\n",
       "      <th></th>\n",
       "      <th>Date</th>\n",
       "      <th>Adj Close</th>\n",
       "      <th>Volume</th>\n",
       "      <th>Var%</th>\n",
       "    </tr>\n",
       "  </thead>\n",
       "  <tbody>\n",
       "    <tr>\n",
       "      <th>0</th>\n",
       "      <td>2021-01-04</td>\n",
       "      <td>19.274340</td>\n",
       "      <td>74719700</td>\n",
       "      <td>0.020113</td>\n",
       "    </tr>\n",
       "    <tr>\n",
       "      <th>1</th>\n",
       "      <td>2021-01-05</td>\n",
       "      <td>20.027718</td>\n",
       "      <td>95181100</td>\n",
       "      <td>0.039087</td>\n",
       "    </tr>\n",
       "    <tr>\n",
       "      <th>2</th>\n",
       "      <td>2021-01-06</td>\n",
       "      <td>20.067719</td>\n",
       "      <td>96562500</td>\n",
       "      <td>0.001997</td>\n",
       "    </tr>\n",
       "    <tr>\n",
       "      <th>3</th>\n",
       "      <td>2021-01-07</td>\n",
       "      <td>20.667747</td>\n",
       "      <td>56171300</td>\n",
       "      <td>0.029900</td>\n",
       "    </tr>\n",
       "    <tr>\n",
       "      <th>4</th>\n",
       "      <td>2021-01-08</td>\n",
       "      <td>20.747751</td>\n",
       "      <td>67136300</td>\n",
       "      <td>0.003871</td>\n",
       "    </tr>\n",
       "  </tbody>\n",
       "</table>\n",
       "</div>"
      ],
      "text/plain": [
       "         Date  Adj Close    Volume      Var%\n",
       "0  2021-01-04  19.274340  74719700  0.020113\n",
       "1  2021-01-05  20.027718  95181100  0.039087\n",
       "2  2021-01-06  20.067719  96562500  0.001997\n",
       "3  2021-01-07  20.667747  56171300  0.029900\n",
       "4  2021-01-08  20.747751  67136300  0.003871"
      ]
     },
     "execution_count": 8,
     "metadata": {},
     "output_type": "execute_result"
    }
   ],
   "source": [
    "df_petro = pd.read_csv('Hist_Preço_Petr_2021_.csv', sep='|')\n",
    "df_petro.head()"
   ]
  },
  {
   "cell_type": "code",
   "execution_count": 9,
   "metadata": {},
   "outputs": [
    {
     "data": {
      "text/plain": [
       "Date         datetime64[ns]\n",
       "Adj Close           float64\n",
       "Volume                int64\n",
       "Var%                float64\n",
       "dtype: object"
      ]
     },
     "execution_count": 9,
     "metadata": {},
     "output_type": "execute_result"
    }
   ],
   "source": [
    "#Transformando a coluna Date para datetime\n",
    "df_petro['Date'] = pd.to_datetime(df_petro['Date'])\n",
    "df_petro.dtypes"
   ]
  },
  {
   "cell_type": "markdown",
   "metadata": {},
   "source": [
    "# 3.0 EDA\n",
    "**H1:** Há uma média razoável de noticias diárias   - **VERDADEIRO**  \n",
    "**H2:** Há poucos dias sem noticias na base de dados  - **VERDADEIRO**   \n",
    "**H3:** Há dias em que o pregão da bolsa não funciona (Finais de Semana) **VERDADEIRO**  \n",
    "**H4:**  \n",
    "**H5:**  "
   ]
  },
  {
   "cell_type": "markdown",
   "metadata": {},
   "source": [
    "## 3.1 H1: Há uma média razoável de noticias diárias"
   ]
  },
  {
   "cell_type": "code",
   "execution_count": 10,
   "metadata": {},
   "outputs": [
    {
     "data": {
      "text/plain": [
       "2021-01-01    10\n",
       "2021-06-08    10\n",
       "2021-08-27    10\n",
       "2021-08-26    10\n",
       "2021-08-25    10\n",
       "              ..\n",
       "2021-08-15     2\n",
       "2021-03-22     2\n",
       "2021-04-04     2\n",
       "2021-02-14     2\n",
       "2021-07-25     1\n",
       "Name: date, Length: 327, dtype: int64"
      ]
     },
     "execution_count": 10,
     "metadata": {},
     "output_type": "execute_result"
    }
   ],
   "source": [
    "df.date.value_counts()"
   ]
  },
  {
   "cell_type": "code",
   "execution_count": 11,
   "metadata": {},
   "outputs": [
    {
     "data": {
      "text/html": [
       "<div>\n",
       "<style scoped>\n",
       "    .dataframe tbody tr th:only-of-type {\n",
       "        vertical-align: middle;\n",
       "    }\n",
       "\n",
       "    .dataframe tbody tr th {\n",
       "        vertical-align: top;\n",
       "    }\n",
       "\n",
       "    .dataframe thead th {\n",
       "        text-align: right;\n",
       "    }\n",
       "</style>\n",
       "<table border=\"1\" class=\"dataframe\">\n",
       "  <thead>\n",
       "    <tr style=\"text-align: right;\">\n",
       "      <th></th>\n",
       "      <th>index</th>\n",
       "      <th>date</th>\n",
       "    </tr>\n",
       "  </thead>\n",
       "  <tbody>\n",
       "    <tr>\n",
       "      <th>0</th>\n",
       "      <td>2021-01-01</td>\n",
       "      <td>10</td>\n",
       "    </tr>\n",
       "    <tr>\n",
       "      <th>1</th>\n",
       "      <td>2021-06-08</td>\n",
       "      <td>10</td>\n",
       "    </tr>\n",
       "    <tr>\n",
       "      <th>2</th>\n",
       "      <td>2021-08-27</td>\n",
       "      <td>10</td>\n",
       "    </tr>\n",
       "    <tr>\n",
       "      <th>3</th>\n",
       "      <td>2021-08-26</td>\n",
       "      <td>10</td>\n",
       "    </tr>\n",
       "    <tr>\n",
       "      <th>4</th>\n",
       "      <td>2021-08-25</td>\n",
       "      <td>10</td>\n",
       "    </tr>\n",
       "    <tr>\n",
       "      <th>...</th>\n",
       "      <td>...</td>\n",
       "      <td>...</td>\n",
       "    </tr>\n",
       "    <tr>\n",
       "      <th>322</th>\n",
       "      <td>2021-08-15</td>\n",
       "      <td>2</td>\n",
       "    </tr>\n",
       "    <tr>\n",
       "      <th>323</th>\n",
       "      <td>2021-03-22</td>\n",
       "      <td>2</td>\n",
       "    </tr>\n",
       "    <tr>\n",
       "      <th>324</th>\n",
       "      <td>2021-04-04</td>\n",
       "      <td>2</td>\n",
       "    </tr>\n",
       "    <tr>\n",
       "      <th>325</th>\n",
       "      <td>2021-02-14</td>\n",
       "      <td>2</td>\n",
       "    </tr>\n",
       "    <tr>\n",
       "      <th>326</th>\n",
       "      <td>2021-07-25</td>\n",
       "      <td>1</td>\n",
       "    </tr>\n",
       "  </tbody>\n",
       "</table>\n",
       "<p>327 rows × 2 columns</p>\n",
       "</div>"
      ],
      "text/plain": [
       "         index  date\n",
       "0   2021-01-01    10\n",
       "1   2021-06-08    10\n",
       "2   2021-08-27    10\n",
       "3   2021-08-26    10\n",
       "4   2021-08-25    10\n",
       "..         ...   ...\n",
       "322 2021-08-15     2\n",
       "323 2021-03-22     2\n",
       "324 2021-04-04     2\n",
       "325 2021-02-14     2\n",
       "326 2021-07-25     1\n",
       "\n",
       "[327 rows x 2 columns]"
      ]
     },
     "execution_count": 11,
     "metadata": {},
     "output_type": "execute_result"
    }
   ],
   "source": [
    "# Coletando as datas e as frequencias de noticias:\n",
    "datas = df.date.value_counts()  \n",
    "data_df = datas.reset_index()\n",
    "data_df"
   ]
  },
  {
   "cell_type": "code",
   "execution_count": 12,
   "metadata": {},
   "outputs": [
    {
     "data": {
      "text/plain": [
       "index    datetime64[ns]\n",
       "date              int64\n",
       "dtype: object"
      ]
     },
     "execution_count": 12,
     "metadata": {},
     "output_type": "execute_result"
    }
   ],
   "source": [
    "#Visualizando os tipos dos dados\n",
    "data_df.dtypes"
   ]
  },
  {
   "cell_type": "code",
   "execution_count": 13,
   "metadata": {},
   "outputs": [
    {
     "data": {
      "text/html": [
       "<div>\n",
       "<style scoped>\n",
       "    .dataframe tbody tr th:only-of-type {\n",
       "        vertical-align: middle;\n",
       "    }\n",
       "\n",
       "    .dataframe tbody tr th {\n",
       "        vertical-align: top;\n",
       "    }\n",
       "\n",
       "    .dataframe thead th {\n",
       "        text-align: right;\n",
       "    }\n",
       "</style>\n",
       "<table border=\"1\" class=\"dataframe\">\n",
       "  <thead>\n",
       "    <tr style=\"text-align: right;\">\n",
       "      <th></th>\n",
       "      <th>index</th>\n",
       "      <th>date</th>\n",
       "    </tr>\n",
       "  </thead>\n",
       "  <tbody>\n",
       "    <tr>\n",
       "      <th>0</th>\n",
       "      <td>2021-01-01</td>\n",
       "      <td>10</td>\n",
       "    </tr>\n",
       "    <tr>\n",
       "      <th>1</th>\n",
       "      <td>2021-06-08</td>\n",
       "      <td>10</td>\n",
       "    </tr>\n",
       "    <tr>\n",
       "      <th>2</th>\n",
       "      <td>2021-08-27</td>\n",
       "      <td>10</td>\n",
       "    </tr>\n",
       "    <tr>\n",
       "      <th>3</th>\n",
       "      <td>2021-08-26</td>\n",
       "      <td>10</td>\n",
       "    </tr>\n",
       "    <tr>\n",
       "      <th>4</th>\n",
       "      <td>2021-08-25</td>\n",
       "      <td>10</td>\n",
       "    </tr>\n",
       "    <tr>\n",
       "      <th>...</th>\n",
       "      <td>...</td>\n",
       "      <td>...</td>\n",
       "    </tr>\n",
       "    <tr>\n",
       "      <th>322</th>\n",
       "      <td>2021-08-15</td>\n",
       "      <td>2</td>\n",
       "    </tr>\n",
       "    <tr>\n",
       "      <th>323</th>\n",
       "      <td>2021-03-22</td>\n",
       "      <td>2</td>\n",
       "    </tr>\n",
       "    <tr>\n",
       "      <th>324</th>\n",
       "      <td>2021-04-04</td>\n",
       "      <td>2</td>\n",
       "    </tr>\n",
       "    <tr>\n",
       "      <th>325</th>\n",
       "      <td>2021-02-14</td>\n",
       "      <td>2</td>\n",
       "    </tr>\n",
       "    <tr>\n",
       "      <th>326</th>\n",
       "      <td>2021-07-25</td>\n",
       "      <td>1</td>\n",
       "    </tr>\n",
       "  </tbody>\n",
       "</table>\n",
       "<p>327 rows × 2 columns</p>\n",
       "</div>"
      ],
      "text/plain": [
       "         index  date\n",
       "0   2021-01-01    10\n",
       "1   2021-06-08    10\n",
       "2   2021-08-27    10\n",
       "3   2021-08-26    10\n",
       "4   2021-08-25    10\n",
       "..         ...   ...\n",
       "322 2021-08-15     2\n",
       "323 2021-03-22     2\n",
       "324 2021-04-04     2\n",
       "325 2021-02-14     2\n",
       "326 2021-07-25     1\n",
       "\n",
       "[327 rows x 2 columns]"
      ]
     },
     "execution_count": 13,
     "metadata": {},
     "output_type": "execute_result"
    }
   ],
   "source": [
    "#Alterando para o formato datetime\n",
    "data_df['index'] = pd.to_datetime(data_df['index'])\n",
    "data_df"
   ]
  },
  {
   "cell_type": "code",
   "execution_count": 14,
   "metadata": {},
   "outputs": [
    {
     "data": {
      "text/html": [
       "<div>\n",
       "<style scoped>\n",
       "    .dataframe tbody tr th:only-of-type {\n",
       "        vertical-align: middle;\n",
       "    }\n",
       "\n",
       "    .dataframe tbody tr th {\n",
       "        vertical-align: top;\n",
       "    }\n",
       "\n",
       "    .dataframe thead th {\n",
       "        text-align: right;\n",
       "    }\n",
       "</style>\n",
       "<table border=\"1\" class=\"dataframe\">\n",
       "  <thead>\n",
       "    <tr style=\"text-align: right;\">\n",
       "      <th></th>\n",
       "      <th>index</th>\n",
       "      <th>date</th>\n",
       "    </tr>\n",
       "  </thead>\n",
       "  <tbody>\n",
       "    <tr>\n",
       "      <th>98</th>\n",
       "      <td>2021-12-27</td>\n",
       "      <td>10</td>\n",
       "    </tr>\n",
       "    <tr>\n",
       "      <th>97</th>\n",
       "      <td>2021-12-28</td>\n",
       "      <td>10</td>\n",
       "    </tr>\n",
       "    <tr>\n",
       "      <th>96</th>\n",
       "      <td>2021-12-29</td>\n",
       "      <td>10</td>\n",
       "    </tr>\n",
       "    <tr>\n",
       "      <th>95</th>\n",
       "      <td>2021-12-30</td>\n",
       "      <td>10</td>\n",
       "    </tr>\n",
       "    <tr>\n",
       "      <th>216</th>\n",
       "      <td>2021-12-31</td>\n",
       "      <td>10</td>\n",
       "    </tr>\n",
       "  </tbody>\n",
       "</table>\n",
       "</div>"
      ],
      "text/plain": [
       "         index  date\n",
       "98  2021-12-27    10\n",
       "97  2021-12-28    10\n",
       "96  2021-12-29    10\n",
       "95  2021-12-30    10\n",
       "216 2021-12-31    10"
      ]
     },
     "execution_count": 14,
     "metadata": {},
     "output_type": "execute_result"
    }
   ],
   "source": [
    "# Organizando o dataframe em ordem cronologica\n",
    "data_df.sort_values(by = 'index', ascending = True, inplace = True) \n",
    "data_df.tail()"
   ]
  },
  {
   "cell_type": "code",
   "execution_count": 15,
   "metadata": {},
   "outputs": [
    {
     "data": {
      "text/html": [
       "<div>\n",
       "<style scoped>\n",
       "    .dataframe tbody tr th:only-of-type {\n",
       "        vertical-align: middle;\n",
       "    }\n",
       "\n",
       "    .dataframe tbody tr th {\n",
       "        vertical-align: top;\n",
       "    }\n",
       "\n",
       "    .dataframe thead th {\n",
       "        text-align: right;\n",
       "    }\n",
       "</style>\n",
       "<table border=\"1\" class=\"dataframe\">\n",
       "  <thead>\n",
       "    <tr style=\"text-align: right;\">\n",
       "      <th></th>\n",
       "      <th>date</th>\n",
       "    </tr>\n",
       "  </thead>\n",
       "  <tbody>\n",
       "    <tr>\n",
       "      <th>count</th>\n",
       "      <td>327.000000</td>\n",
       "    </tr>\n",
       "    <tr>\n",
       "      <th>mean</th>\n",
       "      <td>9.253823</td>\n",
       "    </tr>\n",
       "    <tr>\n",
       "      <th>std</th>\n",
       "      <td>1.772258</td>\n",
       "    </tr>\n",
       "    <tr>\n",
       "      <th>min</th>\n",
       "      <td>1.000000</td>\n",
       "    </tr>\n",
       "    <tr>\n",
       "      <th>25%</th>\n",
       "      <td>10.000000</td>\n",
       "    </tr>\n",
       "    <tr>\n",
       "      <th>50%</th>\n",
       "      <td>10.000000</td>\n",
       "    </tr>\n",
       "    <tr>\n",
       "      <th>75%</th>\n",
       "      <td>10.000000</td>\n",
       "    </tr>\n",
       "    <tr>\n",
       "      <th>max</th>\n",
       "      <td>10.000000</td>\n",
       "    </tr>\n",
       "  </tbody>\n",
       "</table>\n",
       "</div>"
      ],
      "text/plain": [
       "             date\n",
       "count  327.000000\n",
       "mean     9.253823\n",
       "std      1.772258\n",
       "min      1.000000\n",
       "25%     10.000000\n",
       "50%     10.000000\n",
       "75%     10.000000\n",
       "max     10.000000"
      ]
     },
     "execution_count": 15,
     "metadata": {},
     "output_type": "execute_result"
    }
   ],
   "source": [
    "data_df.describe()"
   ]
  },
  {
   "cell_type": "markdown",
   "metadata": {},
   "source": [
    "Há uma média de 9.25 (+- 2) noticias por dia"
   ]
  },
  {
   "cell_type": "code",
   "execution_count": 16,
   "metadata": {},
   "outputs": [
    {
     "data": {
      "text/plain": [
       "<AxesSubplot:xlabel='Datas', ylabel='Num_Noticias'>"
      ]
     },
     "execution_count": 16,
     "metadata": {},
     "output_type": "execute_result"
    },
    {
     "data": {
      "image/png": "[encoded data removed]",
      "text/plain": [
       "<Figure size 432x288 with 1 Axes>"
      ]
     },
     "metadata": {
      "needs_background": "light"
     },
     "output_type": "display_data"
    }
   ],
   "source": [
    "#Visualizando data vs quantidade de notícias\n",
    "data_df.columns = ['Datas', 'Num_Noticias']\n",
    "sns.lineplot(x = 'Datas', y = 'Num_Noticias', data = data_df)"
   ]
  },
  {
   "cell_type": "code",
   "execution_count": 17,
   "metadata": {},
   "outputs": [
    {
     "data": {
      "text/html": [
       "<div>\n",
       "<style scoped>\n",
       "    .dataframe tbody tr th:only-of-type {\n",
       "        vertical-align: middle;\n",
       "    }\n",
       "\n",
       "    .dataframe tbody tr th {\n",
       "        vertical-align: top;\n",
       "    }\n",
       "\n",
       "    .dataframe thead th {\n",
       "        text-align: right;\n",
       "    }\n",
       "</style>\n",
       "<table border=\"1\" class=\"dataframe\">\n",
       "  <thead>\n",
       "    <tr style=\"text-align: right;\">\n",
       "      <th></th>\n",
       "      <th>Num_Noticias</th>\n",
       "    </tr>\n",
       "    <tr>\n",
       "      <th>Mes</th>\n",
       "      <th></th>\n",
       "    </tr>\n",
       "  </thead>\n",
       "  <tbody>\n",
       "    <tr>\n",
       "      <th>1</th>\n",
       "      <td>9.444444</td>\n",
       "    </tr>\n",
       "    <tr>\n",
       "      <th>2</th>\n",
       "      <td>8.888889</td>\n",
       "    </tr>\n",
       "    <tr>\n",
       "      <th>3</th>\n",
       "      <td>8.666667</td>\n",
       "    </tr>\n",
       "    <tr>\n",
       "      <th>4</th>\n",
       "      <td>9.000000</td>\n",
       "    </tr>\n",
       "    <tr>\n",
       "      <th>5</th>\n",
       "      <td>9.642857</td>\n",
       "    </tr>\n",
       "    <tr>\n",
       "      <th>6</th>\n",
       "      <td>9.185185</td>\n",
       "    </tr>\n",
       "    <tr>\n",
       "      <th>7</th>\n",
       "      <td>8.884615</td>\n",
       "    </tr>\n",
       "    <tr>\n",
       "      <th>8</th>\n",
       "      <td>9.535714</td>\n",
       "    </tr>\n",
       "    <tr>\n",
       "      <th>9</th>\n",
       "      <td>9.642857</td>\n",
       "    </tr>\n",
       "    <tr>\n",
       "      <th>10</th>\n",
       "      <td>9.357143</td>\n",
       "    </tr>\n",
       "    <tr>\n",
       "      <th>11</th>\n",
       "      <td>9.038462</td>\n",
       "    </tr>\n",
       "    <tr>\n",
       "      <th>12</th>\n",
       "      <td>9.655172</td>\n",
       "    </tr>\n",
       "  </tbody>\n",
       "</table>\n",
       "</div>"
      ],
      "text/plain": [
       "     Num_Noticias\n",
       "Mes              \n",
       "1        9.444444\n",
       "2        8.888889\n",
       "3        8.666667\n",
       "4        9.000000\n",
       "5        9.642857\n",
       "6        9.185185\n",
       "7        8.884615\n",
       "8        9.535714\n",
       "9        9.642857\n",
       "10       9.357143\n",
       "11       9.038462\n",
       "12       9.655172"
      ]
     },
     "execution_count": 17,
     "metadata": {},
     "output_type": "execute_result"
    }
   ],
   "source": [
    "# inserindo coluna de mês\n",
    "data_df['Mes'] = data_df['Datas'].dt.month\n",
    "\n",
    "# Calculando media de noticias por mês\n",
    "df_noticia_mes = data_df.groupby('Mes').agg({'Num_Noticias':np.mean})\n",
    "df_noticia_mes"
   ]
  },
  {
   "cell_type": "code",
   "execution_count": 18,
   "metadata": {},
   "outputs": [
    {
     "data": {
      "text/plain": [
       "<seaborn.axisgrid.FacetGrid at 0x244dafc0c40>"
      ]
     },
     "execution_count": 18,
     "metadata": {},
     "output_type": "execute_result"
    },
    {
     "data": {
      "image/png": "[encoded data removed]",
      "text/plain": [
       "<Figure size 576x540 with 12 Axes>"
      ]
     },
     "metadata": {
      "needs_background": "light"
     },
     "output_type": "display_data"
    }
   ],
   "source": [
    "# Visualizando distribuição da quantidade de noticias ao longo dos meses\n",
    "sns.catplot(x=\"Num_Noticias\", col=\"Mes\", col_wrap=4,\n",
    "                data=data_df,\n",
    "                kind=\"count\", height=2.5, aspect=.8)"
   ]
  },
  {
   "cell_type": "code",
   "execution_count": 19,
   "metadata": {},
   "outputs": [
    {
     "data": {
      "text/plain": [
       "<seaborn.axisgrid.FacetGrid at 0x244dbe1b6d0>"
      ]
     },
     "execution_count": 19,
     "metadata": {},
     "output_type": "execute_result"
    },
    {
     "data": {
      "image/png": "[encoded data removed]",
      "text/plain": [
       "<Figure size 1965.6x252 with 12 Axes>"
      ]
     },
     "metadata": {
      "needs_background": "light"
     },
     "output_type": "display_data"
    }
   ],
   "source": [
    "# Visualizando distribuição da quantidade de noticias ao longo dos meses\n",
    "g = sns.FacetGrid(data_df, col=\"Mes\", height=3.5, aspect=.65)\n",
    "g.map(sns.histplot, \"Num_Noticias\")"
   ]
  },
  {
   "cell_type": "markdown",
   "metadata": {},
   "source": [
    "Há poucas ocorrências de baixo numero de noticias por dia, a maior ocorrência da quantidade de noticias por dia é de 10.\n",
    "Dessa forma, a média de noticias por mês varia de 8.6 á 9.65."
   ]
  },
  {
   "cell_type": "markdown",
   "metadata": {},
   "source": [
    "## 3.2 Há poucos dias sem noticias na base de dados"
   ]
  },
  {
   "cell_type": "code",
   "execution_count": 20,
   "metadata": {},
   "outputs": [],
   "source": [
    "## Gerando uma lista com todos os dias de 2021:\n",
    "start_date = '01/01/2021'\n",
    "end_date = '31/12/2021'\n",
    "\n",
    "#Transformando para o padrão inglês\n",
    "start_date = datetime.strptime(start_date, '%d/%m/%Y').strftime('%m-%d-%Y')\n",
    "end_date = datetime.strptime(end_date, '%d/%m/%Y').strftime('%m-%d-%Y')\n",
    "\n",
    "#Gerando a lista com todas as datas\n",
    "todas_datas = pd.date_range(start=start_date, end=end_date, freq = '1D')\n",
    "todas_datas = [i.strftime(\"%d/%m/%Y\") for i in todas_datas ]"
   ]
  },
  {
   "cell_type": "code",
   "execution_count": 21,
   "metadata": {},
   "outputs": [],
   "source": [
    "#Gerando lista com todas as datas com noticias\n",
    "datas_com_noticias = [i.strftime(\"%d/%m/%Y\") for i in data_df['Datas'] ]"
   ]
  },
  {
   "cell_type": "code",
   "execution_count": 22,
   "metadata": {},
   "outputs": [
    {
     "name": "stdout",
     "output_type": "stream",
     "text": [
      "Há 38 dias sem notícias em 2021!\n"
     ]
    }
   ],
   "source": [
    "#Gerando lista com todas as datas sem noticias em 2021\n",
    "datas_sem_noticias = [i for i in todas_datas if i not in datas_com_noticias]\n",
    "print(\"Há %s dias sem notícias em 2021!\" % len(datas_sem_noticias))"
   ]
  },
  {
   "cell_type": "markdown",
   "metadata": {},
   "source": [
    "Em apenas 38 dias de 2021 não houve retorno de noticias diárias da Petrobras"
   ]
  },
  {
   "cell_type": "markdown",
   "metadata": {},
   "source": [
    "## 3.3 Há dias em que o pregão da bolsa não funciona (Finais de Semana)"
   ]
  },
  {
   "cell_type": "code",
   "execution_count": 23,
   "metadata": {},
   "outputs": [],
   "source": [
    "datas_com_pregao = [i.strftime(\"%d/%m/%Y\") for i in df_petro['Date'] ]"
   ]
  },
  {
   "cell_type": "code",
   "execution_count": 24,
   "metadata": {},
   "outputs": [],
   "source": [
    "datas_sem_pregao = [i for i in todas_datas if i not in datas_com_pregao]"
   ]
  },
  {
   "cell_type": "code",
   "execution_count": 25,
   "metadata": {},
   "outputs": [
    {
     "name": "stdout",
     "output_type": "stream",
     "text": [
      "Há 118 dias sem pregão em 2021!\n"
     ]
    }
   ],
   "source": [
    "print(\"Há %s dias sem pregão em 2021!\" % len(datas_sem_pregao))"
   ]
  },
  {
   "cell_type": "markdown",
   "metadata": {},
   "source": [
    "# 4.0 Pré-Processamento"
   ]
  },
  {
   "cell_type": "markdown",
   "metadata": {},
   "source": [
    "## 4.1 Padronização das palavras contidas nos títulos das noticias para minúsculo"
   ]
  },
  {
   "cell_type": "code",
   "execution_count": 26,
   "metadata": {},
   "outputs": [
    {
     "data": {
      "text/html": [
       "<div>\n",
       "<style scoped>\n",
       "    .dataframe tbody tr th:only-of-type {\n",
       "        vertical-align: middle;\n",
       "    }\n",
       "\n",
       "    .dataframe tbody tr th {\n",
       "        vertical-align: top;\n",
       "    }\n",
       "\n",
       "    .dataframe thead th {\n",
       "        text-align: right;\n",
       "    }\n",
       "</style>\n",
       "<table border=\"1\" class=\"dataframe\">\n",
       "  <thead>\n",
       "    <tr style=\"text-align: right;\">\n",
       "      <th></th>\n",
       "      <th>title</th>\n",
       "      <th>media</th>\n",
       "      <th>date</th>\n",
       "      <th>desc</th>\n",
       "    </tr>\n",
       "  </thead>\n",
       "  <tbody>\n",
       "    <tr>\n",
       "      <th>0</th>\n",
       "      <td>A construção naval brasileira tem chances de a...</td>\n",
       "      <td>CPG Click Petroleo e Gas</td>\n",
       "      <td>2021-01-01</td>\n",
       "      <td>Dentre os principais pontos do plano estratégi...</td>\n",
       "    </tr>\n",
       "    <tr>\n",
       "      <th>1</th>\n",
       "      <td>Refinaria Abreu e Lima da Petrobras, a RNEST p...</td>\n",
       "      <td>CPG Click Petroleo e Gas</td>\n",
       "      <td>2021-01-01</td>\n",
       "      <td>Petrobras informou em fato relevante na última...</td>\n",
       "    </tr>\n",
       "    <tr>\n",
       "      <th>2</th>\n",
       "      <td>5 Dicas de Tony Robbins para Ficar Rico Invest...</td>\n",
       "      <td>The Capital Advisor</td>\n",
       "      <td>2021-01-01</td>\n",
       "      <td>O QUE LER AGORA... ibovespa-sobe-021-apos-demi...</td>\n",
       "    </tr>\n",
       "    <tr>\n",
       "      <th>3</th>\n",
       "      <td>Acadêmicos de engenharia Mecânica criam projet...</td>\n",
       "      <td>CPG Click Petroleo e Gas</td>\n",
       "      <td>2021-01-01</td>\n",
       "      <td>Petrobras cancela a venda da fábrica de fertil...</td>\n",
       "    </tr>\n",
       "    <tr>\n",
       "      <th>4</th>\n",
       "      <td>Multinacional dinamarquesa European Energy faz...</td>\n",
       "      <td>CPG Click Petroleo e Gas</td>\n",
       "      <td>2021-01-01</td>\n",
       "      <td>Petrobras encerra sociedade com a Sete Brasil ...</td>\n",
       "    </tr>\n",
       "  </tbody>\n",
       "</table>\n",
       "</div>"
      ],
      "text/plain": [
       "                                               title  \\\n",
       "0  A construção naval brasileira tem chances de a...   \n",
       "1  Refinaria Abreu e Lima da Petrobras, a RNEST p...   \n",
       "2  5 Dicas de Tony Robbins para Ficar Rico Invest...   \n",
       "3  Acadêmicos de engenharia Mecânica criam projet...   \n",
       "4  Multinacional dinamarquesa European Energy faz...   \n",
       "\n",
       "                      media       date  \\\n",
       "0  CPG Click Petroleo e Gas 2021-01-01   \n",
       "1  CPG Click Petroleo e Gas 2021-01-01   \n",
       "2       The Capital Advisor 2021-01-01   \n",
       "3  CPG Click Petroleo e Gas 2021-01-01   \n",
       "4  CPG Click Petroleo e Gas 2021-01-01   \n",
       "\n",
       "                                                desc  \n",
       "0  Dentre os principais pontos do plano estratégi...  \n",
       "1  Petrobras informou em fato relevante na última...  \n",
       "2  O QUE LER AGORA... ibovespa-sobe-021-apos-demi...  \n",
       "3  Petrobras cancela a venda da fábrica de fertil...  \n",
       "4  Petrobras encerra sociedade com a Sete Brasil ...  "
      ]
     },
     "execution_count": 26,
     "metadata": {},
     "output_type": "execute_result"
    }
   ],
   "source": [
    "df.head()"
   ]
  },
  {
   "cell_type": "code",
   "execution_count": 27,
   "metadata": {},
   "outputs": [
    {
     "data": {
      "text/html": [
       "<div>\n",
       "<style scoped>\n",
       "    .dataframe tbody tr th:only-of-type {\n",
       "        vertical-align: middle;\n",
       "    }\n",
       "\n",
       "    .dataframe tbody tr th {\n",
       "        vertical-align: top;\n",
       "    }\n",
       "\n",
       "    .dataframe thead th {\n",
       "        text-align: right;\n",
       "    }\n",
       "</style>\n",
       "<table border=\"1\" class=\"dataframe\">\n",
       "  <thead>\n",
       "    <tr style=\"text-align: right;\">\n",
       "      <th></th>\n",
       "      <th>title</th>\n",
       "      <th>media</th>\n",
       "      <th>date</th>\n",
       "      <th>desc</th>\n",
       "    </tr>\n",
       "  </thead>\n",
       "  <tbody>\n",
       "    <tr>\n",
       "      <th>0</th>\n",
       "      <td>a construção naval brasileira tem chances de a...</td>\n",
       "      <td>CPG Click Petroleo e Gas</td>\n",
       "      <td>2021-01-01</td>\n",
       "      <td>Dentre os principais pontos do plano estratégi...</td>\n",
       "    </tr>\n",
       "    <tr>\n",
       "      <th>1</th>\n",
       "      <td>refinaria abreu e lima da petrobras, a rnest p...</td>\n",
       "      <td>CPG Click Petroleo e Gas</td>\n",
       "      <td>2021-01-01</td>\n",
       "      <td>Petrobras informou em fato relevante na última...</td>\n",
       "    </tr>\n",
       "    <tr>\n",
       "      <th>2</th>\n",
       "      <td>5 dicas de tony robbins para ficar rico invest...</td>\n",
       "      <td>The Capital Advisor</td>\n",
       "      <td>2021-01-01</td>\n",
       "      <td>O QUE LER AGORA... ibovespa-sobe-021-apos-demi...</td>\n",
       "    </tr>\n",
       "    <tr>\n",
       "      <th>3</th>\n",
       "      <td>acadêmicos de engenharia mecânica criam projet...</td>\n",
       "      <td>CPG Click Petroleo e Gas</td>\n",
       "      <td>2021-01-01</td>\n",
       "      <td>Petrobras cancela a venda da fábrica de fertil...</td>\n",
       "    </tr>\n",
       "    <tr>\n",
       "      <th>4</th>\n",
       "      <td>multinacional dinamarquesa european energy faz...</td>\n",
       "      <td>CPG Click Petroleo e Gas</td>\n",
       "      <td>2021-01-01</td>\n",
       "      <td>Petrobras encerra sociedade com a Sete Brasil ...</td>\n",
       "    </tr>\n",
       "  </tbody>\n",
       "</table>\n",
       "</div>"
      ],
      "text/plain": [
       "                                               title  \\\n",
       "0  a construção naval brasileira tem chances de a...   \n",
       "1  refinaria abreu e lima da petrobras, a rnest p...   \n",
       "2  5 dicas de tony robbins para ficar rico invest...   \n",
       "3  acadêmicos de engenharia mecânica criam projet...   \n",
       "4  multinacional dinamarquesa european energy faz...   \n",
       "\n",
       "                      media       date  \\\n",
       "0  CPG Click Petroleo e Gas 2021-01-01   \n",
       "1  CPG Click Petroleo e Gas 2021-01-01   \n",
       "2       The Capital Advisor 2021-01-01   \n",
       "3  CPG Click Petroleo e Gas 2021-01-01   \n",
       "4  CPG Click Petroleo e Gas 2021-01-01   \n",
       "\n",
       "                                                desc  \n",
       "0  Dentre os principais pontos do plano estratégi...  \n",
       "1  Petrobras informou em fato relevante na última...  \n",
       "2  O QUE LER AGORA... ibovespa-sobe-021-apos-demi...  \n",
       "3  Petrobras cancela a venda da fábrica de fertil...  \n",
       "4  Petrobras encerra sociedade com a Sete Brasil ...  "
      ]
     },
     "execution_count": 27,
     "metadata": {},
     "output_type": "execute_result"
    }
   ],
   "source": [
    "df['title'] = df['title'].apply(lambda x: x.lower())\n",
    "df.head()"
   ]
  },
  {
   "cell_type": "markdown",
   "metadata": {},
   "source": [
    "## 4.2 Exclusão noticias que não contenham a palavra chave \"Petrobras\" no título\n",
    "Embora tenha-se configurado A biblioteca GoogleNews() para baixar noticias pela palavra chave \"Petrobras\" pode ocorrer casos em que o termo não é citado no título e nem no corpo da noticia."
   ]
  },
  {
   "cell_type": "code",
   "execution_count": 28,
   "metadata": {},
   "outputs": [
    {
     "data": {
      "text/plain": [
       "'5 dicas de tony robbins para ficar rico investindo'"
      ]
     },
     "execution_count": 28,
     "metadata": {},
     "output_type": "execute_result"
    }
   ],
   "source": [
    "df.iloc[2][0]"
   ]
  },
  {
   "cell_type": "code",
   "execution_count": 29,
   "metadata": {},
   "outputs": [
    {
     "data": {
      "text/plain": [
       "'O QUE LER AGORA... ibovespa-sobe-021-apos-demissao-na-petrobras-prio3-.  Notícias. Ibovespa Sobe +0...'"
      ]
     },
     "execution_count": 29,
     "metadata": {},
     "output_type": "execute_result"
    }
   ],
   "source": [
    "df.iloc[2][3]"
   ]
  },
  {
   "cell_type": "markdown",
   "metadata": {},
   "source": [
    "Essa noticia \"5 dicas de tony robbins para ficar rico investindo\", por exemplo, não possui relação com a petrobras no título e nem no corpo do artigo ao checar direto na fonte em <https://comoinvestir.thecap.com.br/5-dicas-de-tony-robbins-para-ficar-rico-investindo>. A biblioteca GoogleNews() retornou essa noticia, pois, na pagina HTML há noticias recomendadas ao leitor que possuem a palavra chave \"petrobras\".\n",
    "\n",
    "Noticias sem a palavra chave \"petrobras\" no título serão excluidas do dataset"
   ]
  },
  {
   "cell_type": "code",
   "execution_count": 30,
   "metadata": {},
   "outputs": [
    {
     "data": {
      "text/html": [
       "<div>\n",
       "<style scoped>\n",
       "    .dataframe tbody tr th:only-of-type {\n",
       "        vertical-align: middle;\n",
       "    }\n",
       "\n",
       "    .dataframe tbody tr th {\n",
       "        vertical-align: top;\n",
       "    }\n",
       "\n",
       "    .dataframe thead th {\n",
       "        text-align: right;\n",
       "    }\n",
       "</style>\n",
       "<table border=\"1\" class=\"dataframe\">\n",
       "  <thead>\n",
       "    <tr style=\"text-align: right;\">\n",
       "      <th></th>\n",
       "      <th>title</th>\n",
       "      <th>media</th>\n",
       "      <th>date</th>\n",
       "      <th>desc</th>\n",
       "    </tr>\n",
       "  </thead>\n",
       "  <tbody>\n",
       "    <tr>\n",
       "      <th>0</th>\n",
       "      <td>a construção naval brasileira tem chances de a...</td>\n",
       "      <td>CPG Click Petroleo e Gas</td>\n",
       "      <td>2021-01-01</td>\n",
       "      <td>Dentre os principais pontos do plano estratégi...</td>\n",
       "    </tr>\n",
       "    <tr>\n",
       "      <th>1</th>\n",
       "      <td>refinaria abreu e lima da petrobras, a rnest p...</td>\n",
       "      <td>CPG Click Petroleo e Gas</td>\n",
       "      <td>2021-01-01</td>\n",
       "      <td>Petrobras informou em fato relevante na última...</td>\n",
       "    </tr>\n",
       "    <tr>\n",
       "      <th>2</th>\n",
       "      <td></td>\n",
       "      <td>The Capital Advisor</td>\n",
       "      <td>2021-01-01</td>\n",
       "      <td>O QUE LER AGORA... ibovespa-sobe-021-apos-demi...</td>\n",
       "    </tr>\n",
       "    <tr>\n",
       "      <th>3</th>\n",
       "      <td></td>\n",
       "      <td>CPG Click Petroleo e Gas</td>\n",
       "      <td>2021-01-01</td>\n",
       "      <td>Petrobras cancela a venda da fábrica de fertil...</td>\n",
       "    </tr>\n",
       "    <tr>\n",
       "      <th>4</th>\n",
       "      <td></td>\n",
       "      <td>CPG Click Petroleo e Gas</td>\n",
       "      <td>2021-01-01</td>\n",
       "      <td>Petrobras encerra sociedade com a Sete Brasil ...</td>\n",
       "    </tr>\n",
       "    <tr>\n",
       "      <th>...</th>\n",
       "      <td>...</td>\n",
       "      <td>...</td>\n",
       "      <td>...</td>\n",
       "      <td>...</td>\n",
       "    </tr>\n",
       "    <tr>\n",
       "      <th>3021</th>\n",
       "      <td>quer trabalhar na petrobras? falta menos de um...</td>\n",
       "      <td>JC Online</td>\n",
       "      <td>2021-12-31</td>\n",
       "      <td>O processo seletivo público que oferece 757 va...</td>\n",
       "    </tr>\n",
       "    <tr>\n",
       "      <th>3022</th>\n",
       "      <td></td>\n",
       "      <td>CNN Brasil</td>\n",
       "      <td>2021-12-31</td>\n",
       "      <td>Para ele, a solução desta pressão não deve pas...</td>\n",
       "    </tr>\n",
       "    <tr>\n",
       "      <th>3023</th>\n",
       "      <td></td>\n",
       "      <td>PetroNotícias</td>\n",
       "      <td>2021-12-31</td>\n",
       "      <td>Isso porque a Petrobrás anunciou que registrou...</td>\n",
       "    </tr>\n",
       "    <tr>\n",
       "      <th>3024</th>\n",
       "      <td>unigel assina contratos para suprimento das fá...</td>\n",
       "      <td>CPG Click Petroleo e Gas</td>\n",
       "      <td>2021-12-31</td>\n",
       "      <td>No dia 27 de dezembro a Unigel fechou contrato...</td>\n",
       "    </tr>\n",
       "    <tr>\n",
       "      <th>3025</th>\n",
       "      <td></td>\n",
       "      <td>Correio Braziliense</td>\n",
       "      <td>2021-12-31</td>\n",
       "      <td>Petrobras manterá preços de mercado, garante p...</td>\n",
       "    </tr>\n",
       "  </tbody>\n",
       "</table>\n",
       "<p>3026 rows × 4 columns</p>\n",
       "</div>"
      ],
      "text/plain": [
       "                                                  title  \\\n",
       "0     a construção naval brasileira tem chances de a...   \n",
       "1     refinaria abreu e lima da petrobras, a rnest p...   \n",
       "2                                                         \n",
       "3                                                         \n",
       "4                                                         \n",
       "...                                                 ...   \n",
       "3021  quer trabalhar na petrobras? falta menos de um...   \n",
       "3022                                                      \n",
       "3023                                                      \n",
       "3024  unigel assina contratos para suprimento das fá...   \n",
       "3025                                                      \n",
       "\n",
       "                         media       date  \\\n",
       "0     CPG Click Petroleo e Gas 2021-01-01   \n",
       "1     CPG Click Petroleo e Gas 2021-01-01   \n",
       "2          The Capital Advisor 2021-01-01   \n",
       "3     CPG Click Petroleo e Gas 2021-01-01   \n",
       "4     CPG Click Petroleo e Gas 2021-01-01   \n",
       "...                        ...        ...   \n",
       "3021                 JC Online 2021-12-31   \n",
       "3022                CNN Brasil 2021-12-31   \n",
       "3023             PetroNotícias 2021-12-31   \n",
       "3024  CPG Click Petroleo e Gas 2021-12-31   \n",
       "3025       Correio Braziliense 2021-12-31   \n",
       "\n",
       "                                                   desc  \n",
       "0     Dentre os principais pontos do plano estratégi...  \n",
       "1     Petrobras informou em fato relevante na última...  \n",
       "2     O QUE LER AGORA... ibovespa-sobe-021-apos-demi...  \n",
       "3     Petrobras cancela a venda da fábrica de fertil...  \n",
       "4     Petrobras encerra sociedade com a Sete Brasil ...  \n",
       "...                                                 ...  \n",
       "3021  O processo seletivo público que oferece 757 va...  \n",
       "3022  Para ele, a solução desta pressão não deve pas...  \n",
       "3023  Isso porque a Petrobrás anunciou que registrou...  \n",
       "3024  No dia 27 de dezembro a Unigel fechou contrato...  \n",
       "3025  Petrobras manterá preços de mercado, garante p...  \n",
       "\n",
       "[3026 rows x 4 columns]"
      ]
     },
     "execution_count": 30,
     "metadata": {},
     "output_type": "execute_result"
    }
   ],
   "source": [
    "df['title'] = df['title'].apply(lambda x: \"\" if \"petrobras\" not in x else x)\n",
    "df"
   ]
  },
  {
   "cell_type": "code",
   "execution_count": 31,
   "metadata": {},
   "outputs": [
    {
     "data": {
      "text/html": [
       "<div>\n",
       "<style scoped>\n",
       "    .dataframe tbody tr th:only-of-type {\n",
       "        vertical-align: middle;\n",
       "    }\n",
       "\n",
       "    .dataframe tbody tr th {\n",
       "        vertical-align: top;\n",
       "    }\n",
       "\n",
       "    .dataframe thead th {\n",
       "        text-align: right;\n",
       "    }\n",
       "</style>\n",
       "<table border=\"1\" class=\"dataframe\">\n",
       "  <thead>\n",
       "    <tr style=\"text-align: right;\">\n",
       "      <th></th>\n",
       "      <th>title</th>\n",
       "      <th>media</th>\n",
       "      <th>date</th>\n",
       "      <th>desc</th>\n",
       "    </tr>\n",
       "  </thead>\n",
       "  <tbody>\n",
       "    <tr>\n",
       "      <th>0</th>\n",
       "      <td>a construção naval brasileira tem chances de a...</td>\n",
       "      <td>CPG Click Petroleo e Gas</td>\n",
       "      <td>2021-01-01</td>\n",
       "      <td>Dentre os principais pontos do plano estratégi...</td>\n",
       "    </tr>\n",
       "    <tr>\n",
       "      <th>1</th>\n",
       "      <td>refinaria abreu e lima da petrobras, a rnest p...</td>\n",
       "      <td>CPG Click Petroleo e Gas</td>\n",
       "      <td>2021-01-01</td>\n",
       "      <td>Petrobras informou em fato relevante na última...</td>\n",
       "    </tr>\n",
       "    <tr>\n",
       "      <th>26</th>\n",
       "      <td>petrobras é condenada em arbitragem iniciada p...</td>\n",
       "      <td>Forbes Brasil</td>\n",
       "      <td>2021-04-01</td>\n",
       "      <td>A Petrobras disse que a sentença determinou qu...</td>\n",
       "    </tr>\n",
       "    <tr>\n",
       "      <th>27</th>\n",
       "      <td>petrobras fez provisionamento para indenizar iesa</td>\n",
       "      <td>Valor Econômico</td>\n",
       "      <td>2021-04-01</td>\n",
       "      <td>Petrobras fez provisionamento para indenizar I...</td>\n",
       "    </tr>\n",
       "    <tr>\n",
       "      <th>28</th>\n",
       "      <td>petrobras é condenada, nos eua, a indenizar a ...</td>\n",
       "      <td>Money Times</td>\n",
       "      <td>2021-04-01</td>\n",
       "      <td>A Petrobras (PETR3; PETR4) foi condenada por u...</td>\n",
       "    </tr>\n",
       "    <tr>\n",
       "      <th>...</th>\n",
       "      <td>...</td>\n",
       "      <td>...</td>\n",
       "      <td>...</td>\n",
       "      <td>...</td>\n",
       "    </tr>\n",
       "    <tr>\n",
       "      <th>3018</th>\n",
       "      <td>aumento do preço do gás encanado: justiça inti...</td>\n",
       "      <td>FDR</td>\n",
       "      <td>2021-12-31</td>\n",
       "      <td>Na última quinta-feira, 30, a Petrobras recebe...</td>\n",
       "    </tr>\n",
       "    <tr>\n",
       "      <th>3019</th>\n",
       "      <td>presidente da petrobras diz que eleições não v...</td>\n",
       "      <td>Jovem Pan</td>\n",
       "      <td>2021-12-31</td>\n",
       "      <td>Para 2022, Joaquim Silva e Luna entende que a ...</td>\n",
       "    </tr>\n",
       "    <tr>\n",
       "      <th>3020</th>\n",
       "      <td>petrobras conclui venda de ativos do rn, em me...</td>\n",
       "      <td>Saiba Mais</td>\n",
       "      <td>2021-12-31</td>\n",
       "      <td>Após os trabalhadores aprovarem estado de grev...</td>\n",
       "    </tr>\n",
       "    <tr>\n",
       "      <th>3021</th>\n",
       "      <td>quer trabalhar na petrobras? falta menos de um...</td>\n",
       "      <td>JC Online</td>\n",
       "      <td>2021-12-31</td>\n",
       "      <td>O processo seletivo público que oferece 757 va...</td>\n",
       "    </tr>\n",
       "    <tr>\n",
       "      <th>3024</th>\n",
       "      <td>unigel assina contratos para suprimento das fá...</td>\n",
       "      <td>CPG Click Petroleo e Gas</td>\n",
       "      <td>2021-12-31</td>\n",
       "      <td>No dia 27 de dezembro a Unigel fechou contrato...</td>\n",
       "    </tr>\n",
       "  </tbody>\n",
       "</table>\n",
       "<p>1532 rows × 4 columns</p>\n",
       "</div>"
      ],
      "text/plain": [
       "                                                  title  \\\n",
       "0     a construção naval brasileira tem chances de a...   \n",
       "1     refinaria abreu e lima da petrobras, a rnest p...   \n",
       "26    petrobras é condenada em arbitragem iniciada p...   \n",
       "27    petrobras fez provisionamento para indenizar iesa   \n",
       "28    petrobras é condenada, nos eua, a indenizar a ...   \n",
       "...                                                 ...   \n",
       "3018  aumento do preço do gás encanado: justiça inti...   \n",
       "3019  presidente da petrobras diz que eleições não v...   \n",
       "3020  petrobras conclui venda de ativos do rn, em me...   \n",
       "3021  quer trabalhar na petrobras? falta menos de um...   \n",
       "3024  unigel assina contratos para suprimento das fá...   \n",
       "\n",
       "                         media       date  \\\n",
       "0     CPG Click Petroleo e Gas 2021-01-01   \n",
       "1     CPG Click Petroleo e Gas 2021-01-01   \n",
       "26               Forbes Brasil 2021-04-01   \n",
       "27             Valor Econômico 2021-04-01   \n",
       "28                 Money Times 2021-04-01   \n",
       "...                        ...        ...   \n",
       "3018                       FDR 2021-12-31   \n",
       "3019                 Jovem Pan 2021-12-31   \n",
       "3020                Saiba Mais 2021-12-31   \n",
       "3021                 JC Online 2021-12-31   \n",
       "3024  CPG Click Petroleo e Gas 2021-12-31   \n",
       "\n",
       "                                                   desc  \n",
       "0     Dentre os principais pontos do plano estratégi...  \n",
       "1     Petrobras informou em fato relevante na última...  \n",
       "26    A Petrobras disse que a sentença determinou qu...  \n",
       "27    Petrobras fez provisionamento para indenizar I...  \n",
       "28    A Petrobras (PETR3; PETR4) foi condenada por u...  \n",
       "...                                                 ...  \n",
       "3018  Na última quinta-feira, 30, a Petrobras recebe...  \n",
       "3019  Para 2022, Joaquim Silva e Luna entende que a ...  \n",
       "3020  Após os trabalhadores aprovarem estado de grev...  \n",
       "3021  O processo seletivo público que oferece 757 va...  \n",
       "3024  No dia 27 de dezembro a Unigel fechou contrato...  \n",
       "\n",
       "[1532 rows x 4 columns]"
      ]
     },
     "execution_count": 31,
     "metadata": {},
     "output_type": "execute_result"
    }
   ],
   "source": [
    "df = df[(df['title'] != \"\")]\n",
    "df"
   ]
  },
  {
   "cell_type": "markdown",
   "metadata": {},
   "source": [
    "1494 noticias não relacionadas ao termo \"Petrobras\" em seus títulos foram foram excluidas do dataset"
   ]
  },
  {
   "cell_type": "markdown",
   "metadata": {},
   "source": [
    "## 4.4 Adição de classe \"Fechamento\" ao dataframe de Ações\n",
    "Classe 1: Fechamento em alta  \n",
    "Classe 0: Fechamento em queda  "
   ]
  },
  {
   "cell_type": "code",
   "execution_count": 32,
   "metadata": {},
   "outputs": [
    {
     "data": {
      "text/html": [
       "<div>\n",
       "<style scoped>\n",
       "    .dataframe tbody tr th:only-of-type {\n",
       "        vertical-align: middle;\n",
       "    }\n",
       "\n",
       "    .dataframe tbody tr th {\n",
       "        vertical-align: top;\n",
       "    }\n",
       "\n",
       "    .dataframe thead th {\n",
       "        text-align: right;\n",
       "    }\n",
       "</style>\n",
       "<table border=\"1\" class=\"dataframe\">\n",
       "  <thead>\n",
       "    <tr style=\"text-align: right;\">\n",
       "      <th></th>\n",
       "      <th>Date</th>\n",
       "      <th>Adj Close</th>\n",
       "      <th>Volume</th>\n",
       "      <th>Var%</th>\n",
       "    </tr>\n",
       "  </thead>\n",
       "  <tbody>\n",
       "    <tr>\n",
       "      <th>0</th>\n",
       "      <td>2021-01-04</td>\n",
       "      <td>19.274340</td>\n",
       "      <td>74719700</td>\n",
       "      <td>0.020113</td>\n",
       "    </tr>\n",
       "    <tr>\n",
       "      <th>1</th>\n",
       "      <td>2021-01-05</td>\n",
       "      <td>20.027718</td>\n",
       "      <td>95181100</td>\n",
       "      <td>0.039087</td>\n",
       "    </tr>\n",
       "    <tr>\n",
       "      <th>2</th>\n",
       "      <td>2021-01-06</td>\n",
       "      <td>20.067719</td>\n",
       "      <td>96562500</td>\n",
       "      <td>0.001997</td>\n",
       "    </tr>\n",
       "    <tr>\n",
       "      <th>3</th>\n",
       "      <td>2021-01-07</td>\n",
       "      <td>20.667747</td>\n",
       "      <td>56171300</td>\n",
       "      <td>0.029900</td>\n",
       "    </tr>\n",
       "    <tr>\n",
       "      <th>4</th>\n",
       "      <td>2021-01-08</td>\n",
       "      <td>20.747751</td>\n",
       "      <td>67136300</td>\n",
       "      <td>0.003871</td>\n",
       "    </tr>\n",
       "    <tr>\n",
       "      <th>...</th>\n",
       "      <td>...</td>\n",
       "      <td>...</td>\n",
       "      <td>...</td>\n",
       "      <td>...</td>\n",
       "    </tr>\n",
       "    <tr>\n",
       "      <th>242</th>\n",
       "      <td>2021-12-23</td>\n",
       "      <td>23.237993</td>\n",
       "      <td>28713600</td>\n",
       "      <td>0.006037</td>\n",
       "    </tr>\n",
       "    <tr>\n",
       "      <th>243</th>\n",
       "      <td>2021-12-27</td>\n",
       "      <td>23.582502</td>\n",
       "      <td>44227900</td>\n",
       "      <td>0.014825</td>\n",
       "    </tr>\n",
       "    <tr>\n",
       "      <th>244</th>\n",
       "      <td>2021-12-28</td>\n",
       "      <td>23.607111</td>\n",
       "      <td>30688100</td>\n",
       "      <td>0.001044</td>\n",
       "    </tr>\n",
       "    <tr>\n",
       "      <th>245</th>\n",
       "      <td>2021-12-29</td>\n",
       "      <td>23.410248</td>\n",
       "      <td>35508400</td>\n",
       "      <td>-0.008339</td>\n",
       "    </tr>\n",
       "    <tr>\n",
       "      <th>246</th>\n",
       "      <td>2021-12-30</td>\n",
       "      <td>23.336424</td>\n",
       "      <td>43229100</td>\n",
       "      <td>-0.003153</td>\n",
       "    </tr>\n",
       "  </tbody>\n",
       "</table>\n",
       "<p>247 rows × 4 columns</p>\n",
       "</div>"
      ],
      "text/plain": [
       "          Date  Adj Close    Volume      Var%\n",
       "0   2021-01-04  19.274340  74719700  0.020113\n",
       "1   2021-01-05  20.027718  95181100  0.039087\n",
       "2   2021-01-06  20.067719  96562500  0.001997\n",
       "3   2021-01-07  20.667747  56171300  0.029900\n",
       "4   2021-01-08  20.747751  67136300  0.003871\n",
       "..         ...        ...       ...       ...\n",
       "242 2021-12-23  23.237993  28713600  0.006037\n",
       "243 2021-12-27  23.582502  44227900  0.014825\n",
       "244 2021-12-28  23.607111  30688100  0.001044\n",
       "245 2021-12-29  23.410248  35508400 -0.008339\n",
       "246 2021-12-30  23.336424  43229100 -0.003153\n",
       "\n",
       "[247 rows x 4 columns]"
      ]
     },
     "execution_count": 32,
     "metadata": {},
     "output_type": "execute_result"
    }
   ],
   "source": [
    "df_petro"
   ]
  },
  {
   "cell_type": "code",
   "execution_count": 33,
   "metadata": {},
   "outputs": [
    {
     "data": {
      "text/html": [
       "<div>\n",
       "<style scoped>\n",
       "    .dataframe tbody tr th:only-of-type {\n",
       "        vertical-align: middle;\n",
       "    }\n",
       "\n",
       "    .dataframe tbody tr th {\n",
       "        vertical-align: top;\n",
       "    }\n",
       "\n",
       "    .dataframe thead th {\n",
       "        text-align: right;\n",
       "    }\n",
       "</style>\n",
       "<table border=\"1\" class=\"dataframe\">\n",
       "  <thead>\n",
       "    <tr style=\"text-align: right;\">\n",
       "      <th></th>\n",
       "      <th>Date</th>\n",
       "      <th>Adj Close</th>\n",
       "      <th>Volume</th>\n",
       "      <th>Var%</th>\n",
       "      <th>Fechamento</th>\n",
       "    </tr>\n",
       "  </thead>\n",
       "  <tbody>\n",
       "    <tr>\n",
       "      <th>0</th>\n",
       "      <td>2021-01-04</td>\n",
       "      <td>19.274340</td>\n",
       "      <td>74719700</td>\n",
       "      <td>0.020113</td>\n",
       "      <td>1</td>\n",
       "    </tr>\n",
       "    <tr>\n",
       "      <th>1</th>\n",
       "      <td>2021-01-05</td>\n",
       "      <td>20.027718</td>\n",
       "      <td>95181100</td>\n",
       "      <td>0.039087</td>\n",
       "      <td>1</td>\n",
       "    </tr>\n",
       "    <tr>\n",
       "      <th>2</th>\n",
       "      <td>2021-01-06</td>\n",
       "      <td>20.067719</td>\n",
       "      <td>96562500</td>\n",
       "      <td>0.001997</td>\n",
       "      <td>1</td>\n",
       "    </tr>\n",
       "    <tr>\n",
       "      <th>3</th>\n",
       "      <td>2021-01-07</td>\n",
       "      <td>20.667747</td>\n",
       "      <td>56171300</td>\n",
       "      <td>0.029900</td>\n",
       "      <td>1</td>\n",
       "    </tr>\n",
       "    <tr>\n",
       "      <th>4</th>\n",
       "      <td>2021-01-08</td>\n",
       "      <td>20.747751</td>\n",
       "      <td>67136300</td>\n",
       "      <td>0.003871</td>\n",
       "      <td>1</td>\n",
       "    </tr>\n",
       "    <tr>\n",
       "      <th>...</th>\n",
       "      <td>...</td>\n",
       "      <td>...</td>\n",
       "      <td>...</td>\n",
       "      <td>...</td>\n",
       "      <td>...</td>\n",
       "    </tr>\n",
       "    <tr>\n",
       "      <th>242</th>\n",
       "      <td>2021-12-23</td>\n",
       "      <td>23.237993</td>\n",
       "      <td>28713600</td>\n",
       "      <td>0.006037</td>\n",
       "      <td>1</td>\n",
       "    </tr>\n",
       "    <tr>\n",
       "      <th>243</th>\n",
       "      <td>2021-12-27</td>\n",
       "      <td>23.582502</td>\n",
       "      <td>44227900</td>\n",
       "      <td>0.014825</td>\n",
       "      <td>1</td>\n",
       "    </tr>\n",
       "    <tr>\n",
       "      <th>244</th>\n",
       "      <td>2021-12-28</td>\n",
       "      <td>23.607111</td>\n",
       "      <td>30688100</td>\n",
       "      <td>0.001044</td>\n",
       "      <td>1</td>\n",
       "    </tr>\n",
       "    <tr>\n",
       "      <th>245</th>\n",
       "      <td>2021-12-29</td>\n",
       "      <td>23.410248</td>\n",
       "      <td>35508400</td>\n",
       "      <td>-0.008339</td>\n",
       "      <td>0</td>\n",
       "    </tr>\n",
       "    <tr>\n",
       "      <th>246</th>\n",
       "      <td>2021-12-30</td>\n",
       "      <td>23.336424</td>\n",
       "      <td>43229100</td>\n",
       "      <td>-0.003153</td>\n",
       "      <td>0</td>\n",
       "    </tr>\n",
       "  </tbody>\n",
       "</table>\n",
       "<p>247 rows × 5 columns</p>\n",
       "</div>"
      ],
      "text/plain": [
       "          Date  Adj Close    Volume      Var%  Fechamento\n",
       "0   2021-01-04  19.274340  74719700  0.020113           1\n",
       "1   2021-01-05  20.027718  95181100  0.039087           1\n",
       "2   2021-01-06  20.067719  96562500  0.001997           1\n",
       "3   2021-01-07  20.667747  56171300  0.029900           1\n",
       "4   2021-01-08  20.747751  67136300  0.003871           1\n",
       "..         ...        ...       ...       ...         ...\n",
       "242 2021-12-23  23.237993  28713600  0.006037           1\n",
       "243 2021-12-27  23.582502  44227900  0.014825           1\n",
       "244 2021-12-28  23.607111  30688100  0.001044           1\n",
       "245 2021-12-29  23.410248  35508400 -0.008339           0\n",
       "246 2021-12-30  23.336424  43229100 -0.003153           0\n",
       "\n",
       "[247 rows x 5 columns]"
      ]
     },
     "execution_count": 33,
     "metadata": {},
     "output_type": "execute_result"
    }
   ],
   "source": [
    "df_petro['Fechamento'] = df_petro['Var%'].apply(lambda x: 0 if x<0 else 1)\n",
    "df_petro"
   ]
  },
  {
   "cell_type": "code",
   "execution_count": 34,
   "metadata": {},
   "outputs": [
    {
     "data": {
      "text/plain": [
       "1    131\n",
       "0    116\n",
       "Name: Fechamento, dtype: int64"
      ]
     },
     "execution_count": 34,
     "metadata": {},
     "output_type": "execute_result"
    }
   ],
   "source": [
    "df_petro.Fechamento.value_counts()"
   ]
  },
  {
   "cell_type": "code",
   "execution_count": 35,
   "metadata": {},
   "outputs": [
    {
     "data": {
      "text/plain": [
       "<seaborn.axisgrid.FacetGrid at 0x244dc789a60>"
      ]
     },
     "execution_count": 35,
     "metadata": {},
     "output_type": "execute_result"
    },
    {
     "data": {
      "image/png": "[encoded data removed]",
      "text/plain": [
       "<Figure size 201.6x252 with 1 Axes>"
      ]
     },
     "metadata": {
      "needs_background": "light"
     },
     "output_type": "display_data"
    }
   ],
   "source": [
    "sns.catplot(x=\"Fechamento\",\n",
    "                data=df_petro,\n",
    "                kind=\"count\", height=3.5, aspect=.8)"
   ]
  },
  {
   "cell_type": "markdown",
   "metadata": {},
   "source": [
    "Em 2021 houve 131 fechamentos com aumento nos valores de ações da Petrobras e 116 com fechamento em queda."
   ]
  },
  {
   "cell_type": "markdown",
   "metadata": {},
   "source": [
    "## 4.5 Concatenar noticias diárias"
   ]
  },
  {
   "cell_type": "code",
   "execution_count": 36,
   "metadata": {},
   "outputs": [
    {
     "data": {
      "text/html": [
       "<div>\n",
       "<style scoped>\n",
       "    .dataframe tbody tr th:only-of-type {\n",
       "        vertical-align: middle;\n",
       "    }\n",
       "\n",
       "    .dataframe tbody tr th {\n",
       "        vertical-align: top;\n",
       "    }\n",
       "\n",
       "    .dataframe thead th {\n",
       "        text-align: right;\n",
       "    }\n",
       "</style>\n",
       "<table border=\"1\" class=\"dataframe\">\n",
       "  <thead>\n",
       "    <tr style=\"text-align: right;\">\n",
       "      <th></th>\n",
       "      <th>Date</th>\n",
       "      <th>Adj Close</th>\n",
       "      <th>Volume</th>\n",
       "      <th>Var%</th>\n",
       "      <th>Fechamento</th>\n",
       "    </tr>\n",
       "  </thead>\n",
       "  <tbody>\n",
       "    <tr>\n",
       "      <th>0</th>\n",
       "      <td>2021-01-04</td>\n",
       "      <td>19.274340</td>\n",
       "      <td>74719700</td>\n",
       "      <td>0.020113</td>\n",
       "      <td>1</td>\n",
       "    </tr>\n",
       "    <tr>\n",
       "      <th>1</th>\n",
       "      <td>2021-01-05</td>\n",
       "      <td>20.027718</td>\n",
       "      <td>95181100</td>\n",
       "      <td>0.039087</td>\n",
       "      <td>1</td>\n",
       "    </tr>\n",
       "    <tr>\n",
       "      <th>2</th>\n",
       "      <td>2021-01-06</td>\n",
       "      <td>20.067719</td>\n",
       "      <td>96562500</td>\n",
       "      <td>0.001997</td>\n",
       "      <td>1</td>\n",
       "    </tr>\n",
       "    <tr>\n",
       "      <th>3</th>\n",
       "      <td>2021-01-07</td>\n",
       "      <td>20.667747</td>\n",
       "      <td>56171300</td>\n",
       "      <td>0.029900</td>\n",
       "      <td>1</td>\n",
       "    </tr>\n",
       "    <tr>\n",
       "      <th>4</th>\n",
       "      <td>2021-01-08</td>\n",
       "      <td>20.747751</td>\n",
       "      <td>67136300</td>\n",
       "      <td>0.003871</td>\n",
       "      <td>1</td>\n",
       "    </tr>\n",
       "  </tbody>\n",
       "</table>\n",
       "</div>"
      ],
      "text/plain": [
       "        Date  Adj Close    Volume      Var%  Fechamento\n",
       "0 2021-01-04  19.274340  74719700  0.020113           1\n",
       "1 2021-01-05  20.027718  95181100  0.039087           1\n",
       "2 2021-01-06  20.067719  96562500  0.001997           1\n",
       "3 2021-01-07  20.667747  56171300  0.029900           1\n",
       "4 2021-01-08  20.747751  67136300  0.003871           1"
      ]
     },
     "execution_count": 36,
     "metadata": {},
     "output_type": "execute_result"
    }
   ],
   "source": [
    "df_petro.head()"
   ]
  },
  {
   "cell_type": "code",
   "execution_count": 37,
   "metadata": {},
   "outputs": [
    {
     "data": {
      "text/html": [
       "<div>\n",
       "<style scoped>\n",
       "    .dataframe tbody tr th:only-of-type {\n",
       "        vertical-align: middle;\n",
       "    }\n",
       "\n",
       "    .dataframe tbody tr th {\n",
       "        vertical-align: top;\n",
       "    }\n",
       "\n",
       "    .dataframe thead th {\n",
       "        text-align: right;\n",
       "    }\n",
       "</style>\n",
       "<table border=\"1\" class=\"dataframe\">\n",
       "  <thead>\n",
       "    <tr style=\"text-align: right;\">\n",
       "      <th></th>\n",
       "      <th>title</th>\n",
       "      <th>media</th>\n",
       "      <th>date</th>\n",
       "      <th>desc</th>\n",
       "    </tr>\n",
       "  </thead>\n",
       "  <tbody>\n",
       "    <tr>\n",
       "      <th>0</th>\n",
       "      <td>a construção naval brasileira tem chances de a...</td>\n",
       "      <td>CPG Click Petroleo e Gas</td>\n",
       "      <td>2021-01-01</td>\n",
       "      <td>Dentre os principais pontos do plano estratégi...</td>\n",
       "    </tr>\n",
       "    <tr>\n",
       "      <th>1</th>\n",
       "      <td>refinaria abreu e lima da petrobras, a rnest p...</td>\n",
       "      <td>CPG Click Petroleo e Gas</td>\n",
       "      <td>2021-01-01</td>\n",
       "      <td>Petrobras informou em fato relevante na última...</td>\n",
       "    </tr>\n",
       "    <tr>\n",
       "      <th>26</th>\n",
       "      <td>petrobras é condenada em arbitragem iniciada p...</td>\n",
       "      <td>Forbes Brasil</td>\n",
       "      <td>2021-04-01</td>\n",
       "      <td>A Petrobras disse que a sentença determinou qu...</td>\n",
       "    </tr>\n",
       "    <tr>\n",
       "      <th>27</th>\n",
       "      <td>petrobras fez provisionamento para indenizar iesa</td>\n",
       "      <td>Valor Econômico</td>\n",
       "      <td>2021-04-01</td>\n",
       "      <td>Petrobras fez provisionamento para indenizar I...</td>\n",
       "    </tr>\n",
       "    <tr>\n",
       "      <th>28</th>\n",
       "      <td>petrobras é condenada, nos eua, a indenizar a ...</td>\n",
       "      <td>Money Times</td>\n",
       "      <td>2021-04-01</td>\n",
       "      <td>A Petrobras (PETR3; PETR4) foi condenada por u...</td>\n",
       "    </tr>\n",
       "  </tbody>\n",
       "</table>\n",
       "</div>"
      ],
      "text/plain": [
       "                                                title  \\\n",
       "0   a construção naval brasileira tem chances de a...   \n",
       "1   refinaria abreu e lima da petrobras, a rnest p...   \n",
       "26  petrobras é condenada em arbitragem iniciada p...   \n",
       "27  petrobras fez provisionamento para indenizar iesa   \n",
       "28  petrobras é condenada, nos eua, a indenizar a ...   \n",
       "\n",
       "                       media       date  \\\n",
       "0   CPG Click Petroleo e Gas 2021-01-01   \n",
       "1   CPG Click Petroleo e Gas 2021-01-01   \n",
       "26             Forbes Brasil 2021-04-01   \n",
       "27           Valor Econômico 2021-04-01   \n",
       "28               Money Times 2021-04-01   \n",
       "\n",
       "                                                 desc  \n",
       "0   Dentre os principais pontos do plano estratégi...  \n",
       "1   Petrobras informou em fato relevante na última...  \n",
       "26  A Petrobras disse que a sentença determinou qu...  \n",
       "27  Petrobras fez provisionamento para indenizar I...  \n",
       "28  A Petrobras (PETR3; PETR4) foi condenada por u...  "
      ]
     },
     "execution_count": 37,
     "metadata": {},
     "output_type": "execute_result"
    }
   ],
   "source": [
    "df.head()"
   ]
  },
  {
   "cell_type": "code",
   "execution_count": 38,
   "metadata": {},
   "outputs": [],
   "source": [
    "lista_datas = []\n",
    "lista_news = []\n",
    "\n",
    "for i in df.date.unique():\n",
    "    news = \"\"\n",
    "    for row in df[(df['date']==i)].iterrows():\n",
    "        news = news + \" \" + row[1][0]\n",
    "    lista_news.append(news)\n",
    "    lista_datas.append(i)"
   ]
  },
  {
   "cell_type": "code",
   "execution_count": 39,
   "metadata": {},
   "outputs": [],
   "source": [
    "pd.set_option('display.max_rows', 50)"
   ]
  },
  {
   "cell_type": "code",
   "execution_count": 40,
   "metadata": {},
   "outputs": [
    {
     "data": {
      "text/html": [
       "<div>\n",
       "<style scoped>\n",
       "    .dataframe tbody tr th:only-of-type {\n",
       "        vertical-align: middle;\n",
       "    }\n",
       "\n",
       "    .dataframe tbody tr th {\n",
       "        vertical-align: top;\n",
       "    }\n",
       "\n",
       "    .dataframe thead th {\n",
       "        text-align: right;\n",
       "    }\n",
       "</style>\n",
       "<table border=\"1\" class=\"dataframe\">\n",
       "  <thead>\n",
       "    <tr style=\"text-align: right;\">\n",
       "      <th></th>\n",
       "      <th>Date</th>\n",
       "      <th>Noticias</th>\n",
       "    </tr>\n",
       "  </thead>\n",
       "  <tbody>\n",
       "    <tr>\n",
       "      <th>0</th>\n",
       "      <td>2021-01-01</td>\n",
       "      <td>a construção naval brasileira tem chances de ...</td>\n",
       "    </tr>\n",
       "    <tr>\n",
       "      <th>41</th>\n",
       "      <td>2021-01-03</td>\n",
       "      <td>petrobras reajusta preço da gasolina pela qui...</td>\n",
       "    </tr>\n",
       "    <tr>\n",
       "      <th>67</th>\n",
       "      <td>2021-01-04</td>\n",
       "      <td>tcu avalia barrar venda de refinaria da petro...</td>\n",
       "    </tr>\n",
       "    <tr>\n",
       "      <th>87</th>\n",
       "      <td>2021-01-05</td>\n",
       "      <td>petrobras (petr4) inicia contratação de nona ...</td>\n",
       "    </tr>\n",
       "    <tr>\n",
       "      <th>113</th>\n",
       "      <td>2021-01-06</td>\n",
       "      <td>valor de venda de refinaria da petrobras é qu...</td>\n",
       "    </tr>\n",
       "    <tr>\n",
       "      <th>...</th>\n",
       "      <td>...</td>\n",
       "      <td>...</td>\n",
       "    </tr>\n",
       "    <tr>\n",
       "      <th>294</th>\n",
       "      <td>2021-12-27</td>\n",
       "      <td>alerj vai à justiça contra a petrobras para b...</td>\n",
       "    </tr>\n",
       "    <tr>\n",
       "      <th>295</th>\n",
       "      <td>2021-12-28</td>\n",
       "      <td>distribuidoras de gás de 5 estados entram na ...</td>\n",
       "    </tr>\n",
       "    <tr>\n",
       "      <th>296</th>\n",
       "      <td>2021-12-29</td>\n",
       "      <td>petrobras vai recorrer de decisão que suspend...</td>\n",
       "    </tr>\n",
       "    <tr>\n",
       "      <th>297</th>\n",
       "      <td>2021-12-30</td>\n",
       "      <td>judicialização coloca mercado de gás em risco...</td>\n",
       "    </tr>\n",
       "    <tr>\n",
       "      <th>298</th>\n",
       "      <td>2021-12-31</td>\n",
       "      <td>cvm | petrobras (petr4) informa potencial de ...</td>\n",
       "    </tr>\n",
       "  </tbody>\n",
       "</table>\n",
       "<p>299 rows × 2 columns</p>\n",
       "</div>"
      ],
      "text/plain": [
       "          Date                                           Noticias\n",
       "0   2021-01-01   a construção naval brasileira tem chances de ...\n",
       "41  2021-01-03   petrobras reajusta preço da gasolina pela qui...\n",
       "67  2021-01-04   tcu avalia barrar venda de refinaria da petro...\n",
       "87  2021-01-05   petrobras (petr4) inicia contratação de nona ...\n",
       "113 2021-01-06   valor de venda de refinaria da petrobras é qu...\n",
       "..         ...                                                ...\n",
       "294 2021-12-27   alerj vai à justiça contra a petrobras para b...\n",
       "295 2021-12-28   distribuidoras de gás de 5 estados entram na ...\n",
       "296 2021-12-29   petrobras vai recorrer de decisão que suspend...\n",
       "297 2021-12-30   judicialização coloca mercado de gás em risco...\n",
       "298 2021-12-31   cvm | petrobras (petr4) informa potencial de ...\n",
       "\n",
       "[299 rows x 2 columns]"
      ]
     },
     "execution_count": 40,
     "metadata": {},
     "output_type": "execute_result"
    }
   ],
   "source": [
    "df_news_diaria = pd.DataFrame(list(zip(lista_datas,lista_news)),\n",
    "               columns =['Date', 'Noticias'])\n",
    "df_news_diaria.sort_values(by = 'Date', ascending = True, inplace = True)\n",
    "df_news_diaria"
   ]
  },
  {
   "cell_type": "markdown",
   "metadata": {},
   "source": [
    "# 2 situações checar: \n",
    "\n",
    "\n",
    "1) Dias em que há pregão mas não há noticias, sendo que o dia anterior não tem pregão e tem noticias.  \n",
    "2) Dias que há pregão e há noticias, sendo que no dia anterior não há pregão e há noticias.  \n",
    "\n",
    "**Exemplo 1:** dia 29/11/2021 houve pregão mas não há noticias naquele dia, somente nos dias anteriores que nao houveram pregão e tiveram noticias 27/11/2021 e 28/11/2021.  \n",
    "**Exemplo 2:** dia 18/01/2021 houve pregão e há noticias naquele dia, após concatenar as noticias do dia 18/01/2021 deverá incluir as noticias dos dias 16 e 17/01/2021 que não houve pregão;\n"
   ]
  },
  {
   "cell_type": "code",
   "execution_count": 41,
   "metadata": {},
   "outputs": [
    {
     "name": "stdout",
     "output_type": "stream",
     "text": [
      "29/11/2021\n"
     ]
    }
   ],
   "source": [
    "## Itera sobre dias com pregao\n",
    "for i in datas_com_pregao:\n",
    "    \n",
    "    ## Se o dia não tiver noticias retorna a data do dia anterior\n",
    "    if i in datas_sem_noticias:\n",
    "        dia_anterior = str(int(i[:2])-1) + i[2:10]\n",
    "        \n",
    "        # #Se o dia anterior não tiver pregão\n",
    "        if dia_anterior in datas_sem_pregao:\n",
    "                \n",
    "            ## Se o dia anterior tiver noticias:\n",
    "            if dia_anterior in datas_com_noticias:\n",
    "                print(i)"
   ]
  },
  {
   "cell_type": "code",
   "execution_count": 42,
   "metadata": {},
   "outputs": [
    {
     "data": {
      "text/plain": [
       "' bolsonaro critica política de preços dos combustíveis da petrobras ibovespa: petrobras (petr4) e vale (vale3) têm maiores altas para itaú bba, pagamento de dividendos da petrobras (petr4) pode ser ainda maior usina termelétrica de camaçari: um dos principais investimentos da petrobras na bahia, foi arrendado ontem (26/11) para a petroquímica proquigel empreiteira de perfuração offshore seadrill conquista contratos de us$ 549 milhões com a petrobras, no campo de búzios'"
      ]
     },
     "execution_count": 42,
     "metadata": {},
     "output_type": "execute_result"
    }
   ],
   "source": [
    "## 27/11/2021\n",
    "noticia_dia_27 = df_news_diaria.iloc[267][1]\n",
    "noticia_dia_27"
   ]
  },
  {
   "cell_type": "code",
   "execution_count": 43,
   "metadata": {},
   "outputs": [
    {
     "data": {
      "text/plain": [
       "' por que a privatização da petrobras não é garantia de ... petrobras e mubadala assinam transferência final da rlam nos próximos dias petrobras deve começar a vender fatia na braskem no primeiro trimestre'"
      ]
     },
     "execution_count": 43,
     "metadata": {},
     "output_type": "execute_result"
    }
   ],
   "source": [
    "## 28/11/2021\n",
    "noticia_dia_28 = df_news_diaria.iloc[268][1]\n",
    "noticia_dia_28"
   ]
  },
  {
   "cell_type": "code",
   "execution_count": 44,
   "metadata": {},
   "outputs": [],
   "source": [
    "## 29/11/2021 -- NÂO EXISTE NOTICIA\n",
    "noticia_dia_29 = \"\""
   ]
  },
  {
   "cell_type": "code",
   "execution_count": null,
   "metadata": {},
   "outputs": [],
   "source": []
  },
  {
   "cell_type": "code",
   "execution_count": 45,
   "metadata": {},
   "outputs": [
    {
     "data": {
      "text/plain": [
       "' mais de 100 vagas de emprego no setor de petróleo e gás! ocyan inicia cadastro de currículo para contratos de manutenção da petrobras'"
      ]
     },
     "execution_count": 45,
     "metadata": {},
     "output_type": "execute_result"
    }
   ],
   "source": [
    "## 16/01/2021\n",
    "noticia_dia_16 = df_news_diaria.iloc[11][1]\n",
    "noticia_dia_16"
   ]
  },
  {
   "cell_type": "code",
   "execution_count": 46,
   "metadata": {},
   "outputs": [
    {
     "data": {
      "text/plain": [
       "' petrobras quer mudar gestão de plano de saúde'"
      ]
     },
     "execution_count": 46,
     "metadata": {},
     "output_type": "execute_result"
    }
   ],
   "source": [
    "## 17/01/2021\n",
    "noticia_dia_17 = df_news_diaria.iloc[12][1]\n",
    "noticia_dia_17"
   ]
  },
  {
   "cell_type": "code",
   "execution_count": 47,
   "metadata": {},
   "outputs": [
    {
     "data": {
      "text/plain": [
       "' a petrobras está represando preços de combustíveis? dados indicam que sim, mas analistas não veem motivo para pânico (ainda) petrobras anuncia aumento de mais de 8% na gasolina a partir desta terça-feira litro da gasolina sobe r$ 0,15 nas refinarias da petrobras petrobras avança na venda do maior campo de petróleo em ... ação da petrobras fecha em queda de 0,18% nesta segunda; veja valores petrobras (petr4) aprova abertura de novo plano de ... petrobras recebe em 15 dias propostas para construção de 2 plataformas no rio'"
      ]
     },
     "execution_count": 47,
     "metadata": {},
     "output_type": "execute_result"
    }
   ],
   "source": [
    "## 18/01/2021\n",
    "noticia_dia_18 = df_news_diaria.iloc[13][1]\n",
    "noticia_dia_18"
   ]
  },
  {
   "cell_type": "markdown",
   "metadata": {},
   "source": [
    "## 4.6 Concatenar noticias referentes a datas sem pregões.\n",
    "\n",
    "- O próximo dia útil após o periodo sem pregões deverá consolidar as noticias acumuladas dos dias sem pregões.\n",
    "- O dataset final deverá conter apenas as datas em que ocorreu o pregão\n",
    "\n",
    "Dessa forma, iniciaremos o procedimento, concatenando as noticias de dias que não houveram pregões"
   ]
  },
  {
   "cell_type": "code",
   "execution_count": 48,
   "metadata": {},
   "outputs": [
    {
     "name": "stderr",
     "output_type": "stream",
     "text": [
      "C:\\Users\\lenon.oliveira\\AppData\\Local\\Temp\\ipykernel_19120\\2324495316.py:39: FutureWarning: The frame.append method is deprecated and will be removed from pandas in a future version. Use pandas.concat instead.\n",
      "  df_news_sem_pregao = df_news_sem_pregao.append(df_aux2, ignore_index = True)\n",
      "C:\\Users\\lenon.oliveira\\AppData\\Local\\Temp\\ipykernel_19120\\2324495316.py:39: FutureWarning: The frame.append method is deprecated and will be removed from pandas in a future version. Use pandas.concat instead.\n",
      "  df_news_sem_pregao = df_news_sem_pregao.append(df_aux2, ignore_index = True)\n",
      "C:\\Users\\lenon.oliveira\\AppData\\Local\\Temp\\ipykernel_19120\\2324495316.py:39: FutureWarning: The frame.append method is deprecated and will be removed from pandas in a future version. Use pandas.concat instead.\n",
      "  df_news_sem_pregao = df_news_sem_pregao.append(df_aux2, ignore_index = True)\n",
      "C:\\Users\\lenon.oliveira\\AppData\\Local\\Temp\\ipykernel_19120\\2324495316.py:39: FutureWarning: The frame.append method is deprecated and will be removed from pandas in a future version. Use pandas.concat instead.\n",
      "  df_news_sem_pregao = df_news_sem_pregao.append(df_aux2, ignore_index = True)\n",
      "C:\\Users\\lenon.oliveira\\AppData\\Local\\Temp\\ipykernel_19120\\2324495316.py:39: FutureWarning: The frame.append method is deprecated and will be removed from pandas in a future version. Use pandas.concat instead.\n",
      "  df_news_sem_pregao = df_news_sem_pregao.append(df_aux2, ignore_index = True)\n",
      "C:\\Users\\lenon.oliveira\\AppData\\Local\\Temp\\ipykernel_19120\\2324495316.py:39: FutureWarning: The frame.append method is deprecated and will be removed from pandas in a future version. Use pandas.concat instead.\n",
      "  df_news_sem_pregao = df_news_sem_pregao.append(df_aux2, ignore_index = True)\n",
      "C:\\Users\\lenon.oliveira\\AppData\\Local\\Temp\\ipykernel_19120\\2324495316.py:39: FutureWarning: The frame.append method is deprecated and will be removed from pandas in a future version. Use pandas.concat instead.\n",
      "  df_news_sem_pregao = df_news_sem_pregao.append(df_aux2, ignore_index = True)\n",
      "C:\\Users\\lenon.oliveira\\AppData\\Local\\Temp\\ipykernel_19120\\2324495316.py:39: FutureWarning: The frame.append method is deprecated and will be removed from pandas in a future version. Use pandas.concat instead.\n",
      "  df_news_sem_pregao = df_news_sem_pregao.append(df_aux2, ignore_index = True)\n",
      "C:\\Users\\lenon.oliveira\\AppData\\Local\\Temp\\ipykernel_19120\\2324495316.py:39: FutureWarning: The frame.append method is deprecated and will be removed from pandas in a future version. Use pandas.concat instead.\n",
      "  df_news_sem_pregao = df_news_sem_pregao.append(df_aux2, ignore_index = True)\n",
      "C:\\Users\\lenon.oliveira\\AppData\\Local\\Temp\\ipykernel_19120\\2324495316.py:39: FutureWarning: The frame.append method is deprecated and will be removed from pandas in a future version. Use pandas.concat instead.\n",
      "  df_news_sem_pregao = df_news_sem_pregao.append(df_aux2, ignore_index = True)\n",
      "C:\\Users\\lenon.oliveira\\AppData\\Local\\Temp\\ipykernel_19120\\2324495316.py:39: FutureWarning: The frame.append method is deprecated and will be removed from pandas in a future version. Use pandas.concat instead.\n",
      "  df_news_sem_pregao = df_news_sem_pregao.append(df_aux2, ignore_index = True)\n",
      "C:\\Users\\lenon.oliveira\\AppData\\Local\\Temp\\ipykernel_19120\\2324495316.py:39: FutureWarning: The frame.append method is deprecated and will be removed from pandas in a future version. Use pandas.concat instead.\n",
      "  df_news_sem_pregao = df_news_sem_pregao.append(df_aux2, ignore_index = True)\n",
      "C:\\Users\\lenon.oliveira\\AppData\\Local\\Temp\\ipykernel_19120\\2324495316.py:39: FutureWarning: The frame.append method is deprecated and will be removed from pandas in a future version. Use pandas.concat instead.\n",
      "  df_news_sem_pregao = df_news_sem_pregao.append(df_aux2, ignore_index = True)\n",
      "C:\\Users\\lenon.oliveira\\AppData\\Local\\Temp\\ipykernel_19120\\2324495316.py:39: FutureWarning: The frame.append method is deprecated and will be removed from pandas in a future version. Use pandas.concat instead.\n",
      "  df_news_sem_pregao = df_news_sem_pregao.append(df_aux2, ignore_index = True)\n",
      "C:\\Users\\lenon.oliveira\\AppData\\Local\\Temp\\ipykernel_19120\\2324495316.py:39: FutureWarning: The frame.append method is deprecated and will be removed from pandas in a future version. Use pandas.concat instead.\n",
      "  df_news_sem_pregao = df_news_sem_pregao.append(df_aux2, ignore_index = True)\n",
      "C:\\Users\\lenon.oliveira\\AppData\\Local\\Temp\\ipykernel_19120\\2324495316.py:39: FutureWarning: The frame.append method is deprecated and will be removed from pandas in a future version. Use pandas.concat instead.\n",
      "  df_news_sem_pregao = df_news_sem_pregao.append(df_aux2, ignore_index = True)\n",
      "C:\\Users\\lenon.oliveira\\AppData\\Local\\Temp\\ipykernel_19120\\2324495316.py:39: FutureWarning: The frame.append method is deprecated and will be removed from pandas in a future version. Use pandas.concat instead.\n",
      "  df_news_sem_pregao = df_news_sem_pregao.append(df_aux2, ignore_index = True)\n",
      "C:\\Users\\lenon.oliveira\\AppData\\Local\\Temp\\ipykernel_19120\\2324495316.py:39: FutureWarning: The frame.append method is deprecated and will be removed from pandas in a future version. Use pandas.concat instead.\n",
      "  df_news_sem_pregao = df_news_sem_pregao.append(df_aux2, ignore_index = True)\n",
      "C:\\Users\\lenon.oliveira\\AppData\\Local\\Temp\\ipykernel_19120\\2324495316.py:39: FutureWarning: The frame.append method is deprecated and will be removed from pandas in a future version. Use pandas.concat instead.\n",
      "  df_news_sem_pregao = df_news_sem_pregao.append(df_aux2, ignore_index = True)\n",
      "C:\\Users\\lenon.oliveira\\AppData\\Local\\Temp\\ipykernel_19120\\2324495316.py:39: FutureWarning: The frame.append method is deprecated and will be removed from pandas in a future version. Use pandas.concat instead.\n",
      "  df_news_sem_pregao = df_news_sem_pregao.append(df_aux2, ignore_index = True)\n",
      "C:\\Users\\lenon.oliveira\\AppData\\Local\\Temp\\ipykernel_19120\\2324495316.py:39: FutureWarning: The frame.append method is deprecated and will be removed from pandas in a future version. Use pandas.concat instead.\n",
      "  df_news_sem_pregao = df_news_sem_pregao.append(df_aux2, ignore_index = True)\n",
      "C:\\Users\\lenon.oliveira\\AppData\\Local\\Temp\\ipykernel_19120\\2324495316.py:39: FutureWarning: The frame.append method is deprecated and will be removed from pandas in a future version. Use pandas.concat instead.\n",
      "  df_news_sem_pregao = df_news_sem_pregao.append(df_aux2, ignore_index = True)\n",
      "C:\\Users\\lenon.oliveira\\AppData\\Local\\Temp\\ipykernel_19120\\2324495316.py:39: FutureWarning: The frame.append method is deprecated and will be removed from pandas in a future version. Use pandas.concat instead.\n",
      "  df_news_sem_pregao = df_news_sem_pregao.append(df_aux2, ignore_index = True)\n",
      "C:\\Users\\lenon.oliveira\\AppData\\Local\\Temp\\ipykernel_19120\\2324495316.py:39: FutureWarning: The frame.append method is deprecated and will be removed from pandas in a future version. Use pandas.concat instead.\n",
      "  df_news_sem_pregao = df_news_sem_pregao.append(df_aux2, ignore_index = True)\n",
      "C:\\Users\\lenon.oliveira\\AppData\\Local\\Temp\\ipykernel_19120\\2324495316.py:39: FutureWarning: The frame.append method is deprecated and will be removed from pandas in a future version. Use pandas.concat instead.\n",
      "  df_news_sem_pregao = df_news_sem_pregao.append(df_aux2, ignore_index = True)\n",
      "C:\\Users\\lenon.oliveira\\AppData\\Local\\Temp\\ipykernel_19120\\2324495316.py:39: FutureWarning: The frame.append method is deprecated and will be removed from pandas in a future version. Use pandas.concat instead.\n",
      "  df_news_sem_pregao = df_news_sem_pregao.append(df_aux2, ignore_index = True)\n",
      "C:\\Users\\lenon.oliveira\\AppData\\Local\\Temp\\ipykernel_19120\\2324495316.py:39: FutureWarning: The frame.append method is deprecated and will be removed from pandas in a future version. Use pandas.concat instead.\n",
      "  df_news_sem_pregao = df_news_sem_pregao.append(df_aux2, ignore_index = True)\n",
      "C:\\Users\\lenon.oliveira\\AppData\\Local\\Temp\\ipykernel_19120\\2324495316.py:39: FutureWarning: The frame.append method is deprecated and will be removed from pandas in a future version. Use pandas.concat instead.\n",
      "  df_news_sem_pregao = df_news_sem_pregao.append(df_aux2, ignore_index = True)\n",
      "C:\\Users\\lenon.oliveira\\AppData\\Local\\Temp\\ipykernel_19120\\2324495316.py:39: FutureWarning: The frame.append method is deprecated and will be removed from pandas in a future version. Use pandas.concat instead.\n",
      "  df_news_sem_pregao = df_news_sem_pregao.append(df_aux2, ignore_index = True)\n",
      "C:\\Users\\lenon.oliveira\\AppData\\Local\\Temp\\ipykernel_19120\\2324495316.py:39: FutureWarning: The frame.append method is deprecated and will be removed from pandas in a future version. Use pandas.concat instead.\n",
      "  df_news_sem_pregao = df_news_sem_pregao.append(df_aux2, ignore_index = True)\n",
      "C:\\Users\\lenon.oliveira\\AppData\\Local\\Temp\\ipykernel_19120\\2324495316.py:39: FutureWarning: The frame.append method is deprecated and will be removed from pandas in a future version. Use pandas.concat instead.\n",
      "  df_news_sem_pregao = df_news_sem_pregao.append(df_aux2, ignore_index = True)\n"
     ]
    },
    {
     "name": "stderr",
     "output_type": "stream",
     "text": [
      "C:\\Users\\lenon.oliveira\\AppData\\Local\\Temp\\ipykernel_19120\\2324495316.py:39: FutureWarning: The frame.append method is deprecated and will be removed from pandas in a future version. Use pandas.concat instead.\n",
      "  df_news_sem_pregao = df_news_sem_pregao.append(df_aux2, ignore_index = True)\n",
      "C:\\Users\\lenon.oliveira\\AppData\\Local\\Temp\\ipykernel_19120\\2324495316.py:39: FutureWarning: The frame.append method is deprecated and will be removed from pandas in a future version. Use pandas.concat instead.\n",
      "  df_news_sem_pregao = df_news_sem_pregao.append(df_aux2, ignore_index = True)\n",
      "C:\\Users\\lenon.oliveira\\AppData\\Local\\Temp\\ipykernel_19120\\2324495316.py:39: FutureWarning: The frame.append method is deprecated and will be removed from pandas in a future version. Use pandas.concat instead.\n",
      "  df_news_sem_pregao = df_news_sem_pregao.append(df_aux2, ignore_index = True)\n",
      "C:\\Users\\lenon.oliveira\\AppData\\Local\\Temp\\ipykernel_19120\\2324495316.py:39: FutureWarning: The frame.append method is deprecated and will be removed from pandas in a future version. Use pandas.concat instead.\n",
      "  df_news_sem_pregao = df_news_sem_pregao.append(df_aux2, ignore_index = True)\n",
      "C:\\Users\\lenon.oliveira\\AppData\\Local\\Temp\\ipykernel_19120\\2324495316.py:39: FutureWarning: The frame.append method is deprecated and will be removed from pandas in a future version. Use pandas.concat instead.\n",
      "  df_news_sem_pregao = df_news_sem_pregao.append(df_aux2, ignore_index = True)\n",
      "C:\\Users\\lenon.oliveira\\AppData\\Local\\Temp\\ipykernel_19120\\2324495316.py:39: FutureWarning: The frame.append method is deprecated and will be removed from pandas in a future version. Use pandas.concat instead.\n",
      "  df_news_sem_pregao = df_news_sem_pregao.append(df_aux2, ignore_index = True)\n",
      "C:\\Users\\lenon.oliveira\\AppData\\Local\\Temp\\ipykernel_19120\\2324495316.py:39: FutureWarning: The frame.append method is deprecated and will be removed from pandas in a future version. Use pandas.concat instead.\n",
      "  df_news_sem_pregao = df_news_sem_pregao.append(df_aux2, ignore_index = True)\n",
      "C:\\Users\\lenon.oliveira\\AppData\\Local\\Temp\\ipykernel_19120\\2324495316.py:39: FutureWarning: The frame.append method is deprecated and will be removed from pandas in a future version. Use pandas.concat instead.\n",
      "  df_news_sem_pregao = df_news_sem_pregao.append(df_aux2, ignore_index = True)\n",
      "C:\\Users\\lenon.oliveira\\AppData\\Local\\Temp\\ipykernel_19120\\2324495316.py:39: FutureWarning: The frame.append method is deprecated and will be removed from pandas in a future version. Use pandas.concat instead.\n",
      "  df_news_sem_pregao = df_news_sem_pregao.append(df_aux2, ignore_index = True)\n",
      "C:\\Users\\lenon.oliveira\\AppData\\Local\\Temp\\ipykernel_19120\\2324495316.py:39: FutureWarning: The frame.append method is deprecated and will be removed from pandas in a future version. Use pandas.concat instead.\n",
      "  df_news_sem_pregao = df_news_sem_pregao.append(df_aux2, ignore_index = True)\n",
      "C:\\Users\\lenon.oliveira\\AppData\\Local\\Temp\\ipykernel_19120\\2324495316.py:39: FutureWarning: The frame.append method is deprecated and will be removed from pandas in a future version. Use pandas.concat instead.\n",
      "  df_news_sem_pregao = df_news_sem_pregao.append(df_aux2, ignore_index = True)\n",
      "C:\\Users\\lenon.oliveira\\AppData\\Local\\Temp\\ipykernel_19120\\2324495316.py:39: FutureWarning: The frame.append method is deprecated and will be removed from pandas in a future version. Use pandas.concat instead.\n",
      "  df_news_sem_pregao = df_news_sem_pregao.append(df_aux2, ignore_index = True)\n",
      "C:\\Users\\lenon.oliveira\\AppData\\Local\\Temp\\ipykernel_19120\\2324495316.py:39: FutureWarning: The frame.append method is deprecated and will be removed from pandas in a future version. Use pandas.concat instead.\n",
      "  df_news_sem_pregao = df_news_sem_pregao.append(df_aux2, ignore_index = True)\n",
      "C:\\Users\\lenon.oliveira\\AppData\\Local\\Temp\\ipykernel_19120\\2324495316.py:39: FutureWarning: The frame.append method is deprecated and will be removed from pandas in a future version. Use pandas.concat instead.\n",
      "  df_news_sem_pregao = df_news_sem_pregao.append(df_aux2, ignore_index = True)\n",
      "C:\\Users\\lenon.oliveira\\AppData\\Local\\Temp\\ipykernel_19120\\2324495316.py:39: FutureWarning: The frame.append method is deprecated and will be removed from pandas in a future version. Use pandas.concat instead.\n",
      "  df_news_sem_pregao = df_news_sem_pregao.append(df_aux2, ignore_index = True)\n",
      "C:\\Users\\lenon.oliveira\\AppData\\Local\\Temp\\ipykernel_19120\\2324495316.py:39: FutureWarning: The frame.append method is deprecated and will be removed from pandas in a future version. Use pandas.concat instead.\n",
      "  df_news_sem_pregao = df_news_sem_pregao.append(df_aux2, ignore_index = True)\n",
      "C:\\Users\\lenon.oliveira\\AppData\\Local\\Temp\\ipykernel_19120\\2324495316.py:39: FutureWarning: The frame.append method is deprecated and will be removed from pandas in a future version. Use pandas.concat instead.\n",
      "  df_news_sem_pregao = df_news_sem_pregao.append(df_aux2, ignore_index = True)\n",
      "C:\\Users\\lenon.oliveira\\AppData\\Local\\Temp\\ipykernel_19120\\2324495316.py:39: FutureWarning: The frame.append method is deprecated and will be removed from pandas in a future version. Use pandas.concat instead.\n",
      "  df_news_sem_pregao = df_news_sem_pregao.append(df_aux2, ignore_index = True)\n",
      "C:\\Users\\lenon.oliveira\\AppData\\Local\\Temp\\ipykernel_19120\\2324495316.py:39: FutureWarning: The frame.append method is deprecated and will be removed from pandas in a future version. Use pandas.concat instead.\n",
      "  df_news_sem_pregao = df_news_sem_pregao.append(df_aux2, ignore_index = True)\n",
      "C:\\Users\\lenon.oliveira\\AppData\\Local\\Temp\\ipykernel_19120\\2324495316.py:39: FutureWarning: The frame.append method is deprecated and will be removed from pandas in a future version. Use pandas.concat instead.\n",
      "  df_news_sem_pregao = df_news_sem_pregao.append(df_aux2, ignore_index = True)\n",
      "C:\\Users\\lenon.oliveira\\AppData\\Local\\Temp\\ipykernel_19120\\2324495316.py:39: FutureWarning: The frame.append method is deprecated and will be removed from pandas in a future version. Use pandas.concat instead.\n",
      "  df_news_sem_pregao = df_news_sem_pregao.append(df_aux2, ignore_index = True)\n",
      "C:\\Users\\lenon.oliveira\\AppData\\Local\\Temp\\ipykernel_19120\\2324495316.py:39: FutureWarning: The frame.append method is deprecated and will be removed from pandas in a future version. Use pandas.concat instead.\n",
      "  df_news_sem_pregao = df_news_sem_pregao.append(df_aux2, ignore_index = True)\n",
      "C:\\Users\\lenon.oliveira\\AppData\\Local\\Temp\\ipykernel_19120\\2324495316.py:39: FutureWarning: The frame.append method is deprecated and will be removed from pandas in a future version. Use pandas.concat instead.\n",
      "  df_news_sem_pregao = df_news_sem_pregao.append(df_aux2, ignore_index = True)\n",
      "C:\\Users\\lenon.oliveira\\AppData\\Local\\Temp\\ipykernel_19120\\2324495316.py:39: FutureWarning: The frame.append method is deprecated and will be removed from pandas in a future version. Use pandas.concat instead.\n",
      "  df_news_sem_pregao = df_news_sem_pregao.append(df_aux2, ignore_index = True)\n",
      "C:\\Users\\lenon.oliveira\\AppData\\Local\\Temp\\ipykernel_19120\\2324495316.py:39: FutureWarning: The frame.append method is deprecated and will be removed from pandas in a future version. Use pandas.concat instead.\n",
      "  df_news_sem_pregao = df_news_sem_pregao.append(df_aux2, ignore_index = True)\n"
     ]
    },
    {
     "data": {
      "text/html": [
       "<div>\n",
       "<style scoped>\n",
       "    .dataframe tbody tr th:only-of-type {\n",
       "        vertical-align: middle;\n",
       "    }\n",
       "\n",
       "    .dataframe tbody tr th {\n",
       "        vertical-align: top;\n",
       "    }\n",
       "\n",
       "    .dataframe thead th {\n",
       "        text-align: right;\n",
       "    }\n",
       "</style>\n",
       "<table border=\"1\" class=\"dataframe\">\n",
       "  <thead>\n",
       "    <tr style=\"text-align: right;\">\n",
       "      <th></th>\n",
       "      <th>Date</th>\n",
       "      <th>Noticias</th>\n",
       "    </tr>\n",
       "  </thead>\n",
       "  <tbody>\n",
       "    <tr>\n",
       "      <th>0</th>\n",
       "      <td>2021-01-11</td>\n",
       "      <td>silva e luna 'militariza' cúpula da petrobra...</td>\n",
       "    </tr>\n",
       "    <tr>\n",
       "      <th>1</th>\n",
       "      <td>2021-01-18</td>\n",
       "      <td>mais de 100 vagas de emprego no setor de pet...</td>\n",
       "    </tr>\n",
       "    <tr>\n",
       "      <th>2</th>\n",
       "      <td>2021-01-26</td>\n",
       "      <td>petrobras encerra 2020 com quadro de funcion...</td>\n",
       "    </tr>\n",
       "    <tr>\n",
       "      <th>3</th>\n",
       "      <td>2021-02-01</td>\n",
       "      <td></td>\n",
       "    </tr>\n",
       "    <tr>\n",
       "      <th>4</th>\n",
       "      <td>2021-02-08</td>\n",
       "      <td>petrobras mira emissão no mercado internacio...</td>\n",
       "    </tr>\n",
       "    <tr>\n",
       "      <th>...</th>\n",
       "      <td>...</td>\n",
       "      <td>...</td>\n",
       "    </tr>\n",
       "    <tr>\n",
       "      <th>51</th>\n",
       "      <td>2021-11-29</td>\n",
       "      <td>bolsonaro critica política de preços dos com...</td>\n",
       "    </tr>\n",
       "    <tr>\n",
       "      <th>52</th>\n",
       "      <td>2021-12-06</td>\n",
       "      <td>petrobras aumenta exportação de óleo pelo po...</td>\n",
       "    </tr>\n",
       "    <tr>\n",
       "      <th>53</th>\n",
       "      <td>2021-12-13</td>\n",
       "      <td>petrobras fecha venda da six por 33 milhões ...</td>\n",
       "    </tr>\n",
       "    <tr>\n",
       "      <th>54</th>\n",
       "      <td>2021-12-20</td>\n",
       "      <td>petrobras abre o 1º concurso em 3 anos com s...</td>\n",
       "    </tr>\n",
       "    <tr>\n",
       "      <th>55</th>\n",
       "      <td>2021-12-27</td>\n",
       "      <td>petrobras vende carmópolis por us$ 1,1 bilhã...</td>\n",
       "    </tr>\n",
       "  </tbody>\n",
       "</table>\n",
       "<p>56 rows × 2 columns</p>\n",
       "</div>"
      ],
      "text/plain": [
       "         Date                                           Noticias\n",
       "0  2021-01-11    silva e luna 'militariza' cúpula da petrobra...\n",
       "1  2021-01-18    mais de 100 vagas de emprego no setor de pet...\n",
       "2  2021-01-26    petrobras encerra 2020 com quadro de funcion...\n",
       "3  2021-02-01                                                   \n",
       "4  2021-02-08    petrobras mira emissão no mercado internacio...\n",
       "..        ...                                                ...\n",
       "51 2021-11-29    bolsonaro critica política de preços dos com...\n",
       "52 2021-12-06    petrobras aumenta exportação de óleo pelo po...\n",
       "53 2021-12-13    petrobras fecha venda da six por 33 milhões ...\n",
       "54 2021-12-20    petrobras abre o 1º concurso em 3 anos com s...\n",
       "55 2021-12-27    petrobras vende carmópolis por us$ 1,1 bilhã...\n",
       "\n",
       "[56 rows x 2 columns]"
      ]
     },
     "execution_count": 48,
     "metadata": {},
     "output_type": "execute_result"
    }
   ],
   "source": [
    "## Iterar sobre as datas dos pregões (iniciando pelo segundo dia do pregão de 2021 df_petro.Date.iloc[1:])\n",
    "\n",
    "## Calcular delta (diferença entre dias entre dois registros seguidos de pregões):\n",
    "import datetime\n",
    "\n",
    "df_news_sem_pregao = pd.DataFrame()\n",
    "timedelta_1dia = datetime.timedelta(days=1)\n",
    "\n",
    "lista_datas = []\n",
    "lista_noticias_sem_pregao = []\n",
    "\n",
    "for i, data in enumerate(df_petro.Date.iloc[1:]):\n",
    "    data_anterior = df_petro['Date'].iloc[i]  \n",
    "    delta = data - data_anterior\n",
    "\n",
    "    \n",
    "    # Se houver mais de 1 dia sem pregão:    \n",
    "    if delta > timedelta_1dia:\n",
    "            \n",
    "            \n",
    "        # Filtra as noticias entre as datas sem pregão:\n",
    "        df_aux = df_news_diaria[ (df_news_diaria['Date']> data_anterior) & (df_news_diaria['Date']<= data)  ]\n",
    "        \n",
    "        ## Concatena as noticias das datas sem pregão\n",
    "        news = \"\"\n",
    "        for row in df_aux.iterrows():\n",
    "            news = news + \" \" + row[1][1]\n",
    "\n",
    "\n",
    "        ## Armazena as noticias e data do ultimo pregão valido em listas\n",
    "        lista_noticias_sem_pregao.append(news)\n",
    "        lista_datas.append(data)\n",
    "        \n",
    "        #Cria um dataframe auxiliar com a data do ultimo pregão e as noticias concatenadas dos dias sem pregões:\n",
    "        df_aux2 = pd.DataFrame(list(zip(lista_datas,lista_noticias_sem_pregao)),\n",
    "               columns =['Date', 'Noticias'])\n",
    "    \n",
    "        # Gera o dataframe com as noticias sem pregões + datas do ultimo pregão valido.\n",
    "        df_news_sem_pregao = df_news_sem_pregao.append(df_aux2, ignore_index = True)\n",
    "        \n",
    "        #Resetando as listas para geração de novo DF\n",
    "        lista_noticias_sem_pregao = []\n",
    "        lista_datas = []\n",
    "        \n",
    "df_news_sem_pregao"
   ]
  },
  {
   "cell_type": "markdown",
   "metadata": {},
   "source": [
    "Obs: Note que nos dias 04/06/2021 e 01/02/2021 houveram pregão mas não houveram noticias referente a esses dias nem os dias que os precederam.\n",
    "    \n",
    "    # Situação OK!"
   ]
  },
  {
   "cell_type": "markdown",
   "metadata": {},
   "source": [
    "# Checagem situação de 29/11/2021"
   ]
  },
  {
   "cell_type": "code",
   "execution_count": 49,
   "metadata": {},
   "outputs": [
    {
     "data": {
      "text/plain": [
       "'  bolsonaro critica política de preços dos combustíveis da petrobras ibovespa: petrobras (petr4) e vale (vale3) têm maiores altas para itaú bba, pagamento de dividendos da petrobras (petr4) pode ser ainda maior usina termelétrica de camaçari: um dos principais investimentos da petrobras na bahia, foi arrendado ontem (26/11) para a petroquímica proquigel empreiteira de perfuração offshore seadrill conquista contratos de us$ 549 milhões com a petrobras, no campo de búzios  por que a privatização da petrobras não é garantia de ... petrobras e mubadala assinam transferência final da rlam nos próximos dias petrobras deve começar a vender fatia na braskem no primeiro trimestre '"
      ]
     },
     "execution_count": 49,
     "metadata": {},
     "output_type": "execute_result"
    }
   ],
   "source": [
    "noticias_concatenadas = \" \" + noticia_dia_27 + \" \" + noticia_dia_28 + \" \" + noticia_dia_29\n",
    "noticias_concatenadas"
   ]
  },
  {
   "cell_type": "code",
   "execution_count": 50,
   "metadata": {},
   "outputs": [
    {
     "data": {
      "text/plain": [
       "'  bolsonaro critica política de preços dos combustíveis da petrobras ibovespa: petrobras (petr4) e vale (vale3) têm maiores altas para itaú bba, pagamento de dividendos da petrobras (petr4) pode ser ainda maior usina termelétrica de camaçari: um dos principais investimentos da petrobras na bahia, foi arrendado ontem (26/11) para a petroquímica proquigel empreiteira de perfuração offshore seadrill conquista contratos de us$ 549 milhões com a petrobras, no campo de búzios  por que a privatização da petrobras não é garantia de ... petrobras e mubadala assinam transferência final da rlam nos próximos dias petrobras deve começar a vender fatia na braskem no primeiro trimestre '"
      ]
     },
     "execution_count": 50,
     "metadata": {},
     "output_type": "execute_result"
    }
   ],
   "source": [
    "df_news_sem_pregao.iloc[51][1] + \" \"\n"
   ]
  },
  {
   "cell_type": "markdown",
   "metadata": {},
   "source": [
    "Codigo OK as noticias são iguais! "
   ]
  },
  {
   "cell_type": "code",
   "execution_count": null,
   "metadata": {},
   "outputs": [],
   "source": []
  },
  {
   "cell_type": "markdown",
   "metadata": {},
   "source": [
    "# Checagem situação de 18/01/2021"
   ]
  },
  {
   "cell_type": "code",
   "execution_count": 51,
   "metadata": {},
   "outputs": [
    {
     "data": {
      "text/plain": [
       "'  mais de 100 vagas de emprego no setor de petróleo e gás! ocyan inicia cadastro de currículo para contratos de manutenção da petrobras  petrobras quer mudar gestão de plano de saúde  a petrobras está represando preços de combustíveis? dados indicam que sim, mas analistas não veem motivo para pânico (ainda) petrobras anuncia aumento de mais de 8% na gasolina a partir desta terça-feira litro da gasolina sobe r$ 0,15 nas refinarias da petrobras petrobras avança na venda do maior campo de petróleo em ... ação da petrobras fecha em queda de 0,18% nesta segunda; veja valores petrobras (petr4) aprova abertura de novo plano de ... petrobras recebe em 15 dias propostas para construção de 2 plataformas no rio'"
      ]
     },
     "execution_count": 51,
     "metadata": {},
     "output_type": "execute_result"
    }
   ],
   "source": [
    "noticias_concatenadas = \" \" + noticia_dia_16 + \" \" + noticia_dia_17 + \" \" + noticia_dia_18\n",
    "noticias_concatenadas"
   ]
  },
  {
   "cell_type": "code",
   "execution_count": 52,
   "metadata": {},
   "outputs": [
    {
     "data": {
      "text/plain": [
       "'  mais de 100 vagas de emprego no setor de petróleo e gás! ocyan inicia cadastro de currículo para contratos de manutenção da petrobras  petrobras quer mudar gestão de plano de saúde  a petrobras está represando preços de combustíveis? dados indicam que sim, mas analistas não veem motivo para pânico (ainda) petrobras anuncia aumento de mais de 8% na gasolina a partir desta terça-feira litro da gasolina sobe r$ 0,15 nas refinarias da petrobras petrobras avança na venda do maior campo de petróleo em ... ação da petrobras fecha em queda de 0,18% nesta segunda; veja valores petrobras (petr4) aprova abertura de novo plano de ... petrobras recebe em 15 dias propostas para construção de 2 plataformas no rio'"
      ]
     },
     "execution_count": 52,
     "metadata": {},
     "output_type": "execute_result"
    }
   ],
   "source": [
    "df_news_sem_pregao.iloc[1][1] "
   ]
  },
  {
   "cell_type": "markdown",
   "metadata": {},
   "source": [
    "Codigo OK as noticias são iguais! "
   ]
  },
  {
   "cell_type": "markdown",
   "metadata": {},
   "source": [
    "## 4.7 Atualiza as noticias concatenadas no df_news_diaria:"
   ]
  },
  {
   "cell_type": "code",
   "execution_count": 53,
   "metadata": {},
   "outputs": [
    {
     "name": "stderr",
     "output_type": "stream",
     "text": [
      "C:\\Users\\lenon.oliveira\\AppData\\Local\\Temp\\ipykernel_19120\\865046954.py:23: FutureWarning: The frame.append method is deprecated and will be removed from pandas in a future version. Use pandas.concat instead.\n",
      "  df_news_diaria_atualizada = df_news_diaria_atualizada.append(df_noticia_dias_sem_pregao, ignore_index = True)\n"
     ]
    }
   ],
   "source": [
    "df_news_diaria_atualizada = df_news_diaria.copy()\n",
    "\n",
    "# itera sobre os dias com pregão cujo noticias de dias anteriores foram concatenadas:\n",
    "for data in df_news_sem_pregao.Date.unique():\n",
    "    \n",
    "    #Filtra pelo dia com pregão que teve noticias concatenada\n",
    "    df_noticia_dias_sem_pregao = df_news_sem_pregao[(df_news_sem_pregao['Date']==data)]\n",
    "\n",
    "\n",
    "    #Checa se há registro referente a data no df de noticias\n",
    "    df_check_noticias = df_news_diaria_atualizada[(df_news_diaria_atualizada['Date']==data)]\n",
    "    \n",
    "    # Se não houver registros referente á data então o registro deverá ser criado no df de noticias:\n",
    "    # Se houver, então o registro será atualizado no df de noticias\n",
    "    \n",
    "    if len(df_check_noticias) > 0:\n",
    "        \n",
    "        #Substitui os registros\n",
    "        df_news_diaria_atualizada = df_news_diaria_atualizada.replace ((df_news_diaria_atualizada.loc[df_news_diaria_atualizada['Date'].isin(df_noticia_dias_sem_pregao['Date'])])['Noticias'].values, df_noticia_dias_sem_pregao['Noticias'].values)\n",
    "        \n",
    "    else:\n",
    "        #Insere o novo registro\n",
    "        df_news_diaria_atualizada = df_news_diaria_atualizada.append(df_noticia_dias_sem_pregao, ignore_index = True)"
   ]
  },
  {
   "cell_type": "code",
   "execution_count": 54,
   "metadata": {},
   "outputs": [
    {
     "data": {
      "text/plain": [
       "(299, 306)"
      ]
     },
     "execution_count": 54,
     "metadata": {},
     "output_type": "execute_result"
    }
   ],
   "source": [
    "len(df_news_diaria), len(df_news_diaria_atualizada)"
   ]
  },
  {
   "cell_type": "markdown",
   "metadata": {},
   "source": [
    "## 4.8 Mesclando o dataframe noticias finais e ações"
   ]
  },
  {
   "cell_type": "code",
   "execution_count": 55,
   "metadata": {},
   "outputs": [
    {
     "data": {
      "text/html": [
       "<div>\n",
       "<style scoped>\n",
       "    .dataframe tbody tr th:only-of-type {\n",
       "        vertical-align: middle;\n",
       "    }\n",
       "\n",
       "    .dataframe tbody tr th {\n",
       "        vertical-align: top;\n",
       "    }\n",
       "\n",
       "    .dataframe thead th {\n",
       "        text-align: right;\n",
       "    }\n",
       "</style>\n",
       "<table border=\"1\" class=\"dataframe\">\n",
       "  <thead>\n",
       "    <tr style=\"text-align: right;\">\n",
       "      <th></th>\n",
       "      <th>Date</th>\n",
       "      <th>Adj Close</th>\n",
       "      <th>Volume</th>\n",
       "      <th>Var%</th>\n",
       "      <th>Fechamento</th>\n",
       "      <th>Noticias</th>\n",
       "    </tr>\n",
       "  </thead>\n",
       "  <tbody>\n",
       "    <tr>\n",
       "      <th>0</th>\n",
       "      <td>2021-01-04</td>\n",
       "      <td>19.274340</td>\n",
       "      <td>74719700</td>\n",
       "      <td>0.020113</td>\n",
       "      <td>1</td>\n",
       "      <td>tcu avalia barrar venda de refinaria da petro...</td>\n",
       "    </tr>\n",
       "    <tr>\n",
       "      <th>1</th>\n",
       "      <td>2021-01-05</td>\n",
       "      <td>20.027718</td>\n",
       "      <td>95181100</td>\n",
       "      <td>0.039087</td>\n",
       "      <td>1</td>\n",
       "      <td>petrobras (petr4) inicia contratação de nona ...</td>\n",
       "    </tr>\n",
       "    <tr>\n",
       "      <th>2</th>\n",
       "      <td>2021-01-06</td>\n",
       "      <td>20.067719</td>\n",
       "      <td>96562500</td>\n",
       "      <td>0.001997</td>\n",
       "      <td>1</td>\n",
       "      <td>valor de venda de refinaria da petrobras é qu...</td>\n",
       "    </tr>\n",
       "    <tr>\n",
       "      <th>3</th>\n",
       "      <td>2021-01-07</td>\n",
       "      <td>20.667747</td>\n",
       "      <td>56171300</td>\n",
       "      <td>0.029900</td>\n",
       "      <td>1</td>\n",
       "      <td>petrobras confirma venda da fatia na br distr...</td>\n",
       "    </tr>\n",
       "    <tr>\n",
       "      <th>4</th>\n",
       "      <td>2021-01-08</td>\n",
       "      <td>20.747751</td>\n",
       "      <td>67136300</td>\n",
       "      <td>0.003871</td>\n",
       "      <td>1</td>\n",
       "      <td>NaN</td>\n",
       "    </tr>\n",
       "    <tr>\n",
       "      <th>5</th>\n",
       "      <td>2021-01-11</td>\n",
       "      <td>20.574409</td>\n",
       "      <td>48744700</td>\n",
       "      <td>-0.008355</td>\n",
       "      <td>0</td>\n",
       "      <td>silva e luna 'militariza' cúpula da petrobra...</td>\n",
       "    </tr>\n",
       "    <tr>\n",
       "      <th>6</th>\n",
       "      <td>2021-01-12</td>\n",
       "      <td>20.421068</td>\n",
       "      <td>65691900</td>\n",
       "      <td>-0.007453</td>\n",
       "      <td>0</td>\n",
       "      <td>árabes assumem nesta quarta primeira refinari...</td>\n",
       "    </tr>\n",
       "    <tr>\n",
       "      <th>7</th>\n",
       "      <td>2021-01-13</td>\n",
       "      <td>19.434349</td>\n",
       "      <td>93826600</td>\n",
       "      <td>-0.048319</td>\n",
       "      <td>0</td>\n",
       "      <td>petrobras é a segunda maior do mundo em opera...</td>\n",
       "    </tr>\n",
       "    <tr>\n",
       "      <th>8</th>\n",
       "      <td>2021-01-14</td>\n",
       "      <td>19.634359</td>\n",
       "      <td>50745400</td>\n",
       "      <td>0.010292</td>\n",
       "      <td>1</td>\n",
       "      <td>NaN</td>\n",
       "    </tr>\n",
       "    <tr>\n",
       "      <th>9</th>\n",
       "      <td>2021-01-15</td>\n",
       "      <td>18.747646</td>\n",
       "      <td>80673300</td>\n",
       "      <td>-0.045161</td>\n",
       "      <td>0</td>\n",
       "      <td>NaN</td>\n",
       "    </tr>\n",
       "  </tbody>\n",
       "</table>\n",
       "</div>"
      ],
      "text/plain": [
       "        Date  Adj Close    Volume      Var%  Fechamento  \\\n",
       "0 2021-01-04  19.274340  74719700  0.020113           1   \n",
       "1 2021-01-05  20.027718  95181100  0.039087           1   \n",
       "2 2021-01-06  20.067719  96562500  0.001997           1   \n",
       "3 2021-01-07  20.667747  56171300  0.029900           1   \n",
       "4 2021-01-08  20.747751  67136300  0.003871           1   \n",
       "5 2021-01-11  20.574409  48744700 -0.008355           0   \n",
       "6 2021-01-12  20.421068  65691900 -0.007453           0   \n",
       "7 2021-01-13  19.434349  93826600 -0.048319           0   \n",
       "8 2021-01-14  19.634359  50745400  0.010292           1   \n",
       "9 2021-01-15  18.747646  80673300 -0.045161           0   \n",
       "\n",
       "                                            Noticias  \n",
       "0   tcu avalia barrar venda de refinaria da petro...  \n",
       "1   petrobras (petr4) inicia contratação de nona ...  \n",
       "2   valor de venda de refinaria da petrobras é qu...  \n",
       "3   petrobras confirma venda da fatia na br distr...  \n",
       "4                                                NaN  \n",
       "5    silva e luna 'militariza' cúpula da petrobra...  \n",
       "6   árabes assumem nesta quarta primeira refinari...  \n",
       "7   petrobras é a segunda maior do mundo em opera...  \n",
       "8                                                NaN  \n",
       "9                                                NaN  "
      ]
     },
     "execution_count": 55,
     "metadata": {},
     "output_type": "execute_result"
    }
   ],
   "source": [
    "df_final = pd.merge(left = df_petro, right = df_news_diaria_atualizada, how = 'left', on = 'Date')\n",
    "df_final.head(10)"
   ]
  },
  {
   "cell_type": "code",
   "execution_count": 56,
   "metadata": {},
   "outputs": [
    {
     "data": {
      "text/html": [
       "<div>\n",
       "<style scoped>\n",
       "    .dataframe tbody tr th:only-of-type {\n",
       "        vertical-align: middle;\n",
       "    }\n",
       "\n",
       "    .dataframe tbody tr th {\n",
       "        vertical-align: top;\n",
       "    }\n",
       "\n",
       "    .dataframe thead th {\n",
       "        text-align: right;\n",
       "    }\n",
       "</style>\n",
       "<table border=\"1\" class=\"dataframe\">\n",
       "  <thead>\n",
       "    <tr style=\"text-align: right;\">\n",
       "      <th></th>\n",
       "      <th>Date</th>\n",
       "      <th>Noticias</th>\n",
       "    </tr>\n",
       "  </thead>\n",
       "  <tbody>\n",
       "    <tr>\n",
       "      <th>0</th>\n",
       "      <td>2021-01-01</td>\n",
       "      <td>a construção naval brasileira tem chances de ...</td>\n",
       "    </tr>\n",
       "    <tr>\n",
       "      <th>1</th>\n",
       "      <td>2021-01-03</td>\n",
       "      <td>petrobras reajusta preço da gasolina pela qui...</td>\n",
       "    </tr>\n",
       "    <tr>\n",
       "      <th>2</th>\n",
       "      <td>2021-01-04</td>\n",
       "      <td>tcu avalia barrar venda de refinaria da petro...</td>\n",
       "    </tr>\n",
       "    <tr>\n",
       "      <th>3</th>\n",
       "      <td>2021-01-05</td>\n",
       "      <td>petrobras (petr4) inicia contratação de nona ...</td>\n",
       "    </tr>\n",
       "    <tr>\n",
       "      <th>4</th>\n",
       "      <td>2021-01-06</td>\n",
       "      <td>valor de venda de refinaria da petrobras é qu...</td>\n",
       "    </tr>\n",
       "    <tr>\n",
       "      <th>5</th>\n",
       "      <td>2021-01-07</td>\n",
       "      <td>petrobras confirma venda da fatia na br distr...</td>\n",
       "    </tr>\n",
       "    <tr>\n",
       "      <th>6</th>\n",
       "      <td>2021-01-09</td>\n",
       "      <td>silva e luna 'militariza' cúpula da petrobras...</td>\n",
       "    </tr>\n",
       "    <tr>\n",
       "      <th>7</th>\n",
       "      <td>2021-01-10</td>\n",
       "      <td>bolsonaro sugere usar dividendos da petrobras...</td>\n",
       "    </tr>\n",
       "    <tr>\n",
       "      <th>8</th>\n",
       "      <td>2021-01-11</td>\n",
       "      <td>silva e luna 'militariza' cúpula da petrobra...</td>\n",
       "    </tr>\n",
       "    <tr>\n",
       "      <th>9</th>\n",
       "      <td>2021-01-12</td>\n",
       "      <td>árabes assumem nesta quarta primeira refinari...</td>\n",
       "    </tr>\n",
       "    <tr>\n",
       "      <th>10</th>\n",
       "      <td>2021-01-13</td>\n",
       "      <td>petrobras é a segunda maior do mundo em opera...</td>\n",
       "    </tr>\n",
       "    <tr>\n",
       "      <th>11</th>\n",
       "      <td>2021-01-16</td>\n",
       "      <td>mais de 100 vagas de emprego no setor de petr...</td>\n",
       "    </tr>\n",
       "  </tbody>\n",
       "</table>\n",
       "</div>"
      ],
      "text/plain": [
       "         Date                                           Noticias\n",
       "0  2021-01-01   a construção naval brasileira tem chances de ...\n",
       "1  2021-01-03   petrobras reajusta preço da gasolina pela qui...\n",
       "2  2021-01-04   tcu avalia barrar venda de refinaria da petro...\n",
       "3  2021-01-05   petrobras (petr4) inicia contratação de nona ...\n",
       "4  2021-01-06   valor de venda de refinaria da petrobras é qu...\n",
       "5  2021-01-07   petrobras confirma venda da fatia na br distr...\n",
       "6  2021-01-09   silva e luna 'militariza' cúpula da petrobras...\n",
       "7  2021-01-10   bolsonaro sugere usar dividendos da petrobras...\n",
       "8  2021-01-11    silva e luna 'militariza' cúpula da petrobra...\n",
       "9  2021-01-12   árabes assumem nesta quarta primeira refinari...\n",
       "10 2021-01-13   petrobras é a segunda maior do mundo em opera...\n",
       "11 2021-01-16   mais de 100 vagas de emprego no setor de petr..."
      ]
     },
     "execution_count": 56,
     "metadata": {},
     "output_type": "execute_result"
    }
   ],
   "source": [
    "df_news_diaria_atualizada.head(12)"
   ]
  },
  {
   "cell_type": "code",
   "execution_count": 57,
   "metadata": {},
   "outputs": [
    {
     "data": {
      "text/plain": [
       "(4     2021-01-08\n",
       " 8     2021-01-14\n",
       " 9     2021-01-15\n",
       " 13    2021-01-21\n",
       " 16    2021-01-27\n",
       " 22    2021-02-04\n",
       " 40    2021-03-04\n",
       " 41    2021-03-05\n",
       " 43    2021-03-09\n",
       " 51    2021-03-19\n",
       " 63    2021-04-07\n",
       " 68    2021-04-14\n",
       " 72    2021-04-20\n",
       " 83    2021-05-06\n",
       " 87    2021-05-12\n",
       " 117   2021-06-24\n",
       " 122   2021-07-01\n",
       " 134   2021-07-20\n",
       " 136   2021-07-22\n",
       " 140   2021-07-28\n",
       " 142   2021-07-30\n",
       " 146   2021-08-05\n",
       " 147   2021-08-06\n",
       " 152   2021-08-13\n",
       " 170   2021-09-09\n",
       " 171   2021-09-10\n",
       " 208   2021-11-04\n",
       " 220   2021-11-23\n",
       " Name: Date, dtype: datetime64[ns],\n",
       " 28)"
      ]
     },
     "execution_count": 57,
     "metadata": {},
     "output_type": "execute_result"
    }
   ],
   "source": [
    "df_final[(df_final['Noticias'].isnull())].Date, len(df_final[(df_final['Noticias'].isnull())].Date)"
   ]
  },
  {
   "cell_type": "markdown",
   "metadata": {},
   "source": [
    "No total houveram 28 registros de pregões sem atribuição de noticias.\n",
    "\n",
    "Para esses registros observou-se que:  \n",
    "\n",
    "**1) Não houveram noticias na respectiva data e/ou**  \n",
    "**2) Considerando as datas sem pregões que antecederam a data do pregão também não houveram noticias.**  "
   ]
  },
  {
   "cell_type": "code",
   "execution_count": 58,
   "metadata": {},
   "outputs": [
    {
     "data": {
      "text/plain": [
       "(247, 28)"
      ]
     },
     "execution_count": 58,
     "metadata": {},
     "output_type": "execute_result"
    }
   ],
   "source": [
    "len(df_final), len(df_final[(df_final['Noticias'].isnull())].Date)"
   ]
  },
  {
   "cell_type": "markdown",
   "metadata": {},
   "source": [
    "## 4.9 Exclusão dias com pregões sem noticias"
   ]
  },
  {
   "cell_type": "code",
   "execution_count": 59,
   "metadata": {},
   "outputs": [],
   "source": [
    "df_final = df_final.dropna()"
   ]
  },
  {
   "cell_type": "code",
   "execution_count": 60,
   "metadata": {},
   "outputs": [
    {
     "data": {
      "text/plain": [
       "219"
      ]
     },
     "execution_count": 60,
     "metadata": {},
     "output_type": "execute_result"
    }
   ],
   "source": [
    "len(df_final)"
   ]
  },
  {
   "cell_type": "markdown",
   "metadata": {},
   "source": [
    "# 5.0 NLP\n",
    "\n",
    "Será realizado o levantamento das palavras mais frequentes em notícias para inputação de polaridade no dicionário SentilexPT caso não existam ainda."
   ]
  },
  {
   "cell_type": "markdown",
   "metadata": {},
   "source": [
    "# 5.1 SentilexPT: Inputação de polaridade de novos termos ao dicionário SentilexPT"
   ]
  },
  {
   "cell_type": "code",
   "execution_count": 61,
   "metadata": {},
   "outputs": [],
   "source": [
    "sentilexpt = open('SentiLex-lem-PT01.txt','r')"
   ]
  },
  {
   "cell_type": "markdown",
   "metadata": {},
   "source": [
    "Criando um dicionário com polaridades"
   ]
  },
  {
   "cell_type": "code",
   "execution_count": 62,
   "metadata": {},
   "outputs": [],
   "source": [
    "dic_palavra_polaridade = {}\n",
    "for i in sentilexpt.readlines():\n",
    "    pos_ponto = i.find('.')            # obtem a posiçãodo caracter ponto\n",
    "    palavra = (i[:pos_ponto])          # Pega a palavra\n",
    "    pol_pos = i.find('POL')            # obtem a posição do inicio da string POL\n",
    "    polaridade = (i[pol_pos+4:pol_pos+6]).replace(';','')         # obtem a polaridade da palavra\n",
    "    dic_palavra_polaridade[palavra] = polaridade                  # atualiza o dicionario com a palavra a polaridade"
   ]
  },
  {
   "cell_type": "code",
   "execution_count": 63,
   "metadata": {},
   "outputs": [
    {
     "name": "stdout",
     "output_type": "stream",
     "text": [
      "1\n"
     ]
    }
   ],
   "source": [
    "print (dic_palavra_polaridade.get('legal'))"
   ]
  },
  {
   "cell_type": "code",
   "execution_count": 64,
   "metadata": {},
   "outputs": [
    {
     "name": "stdout",
     "output_type": "stream",
     "text": [
      "-1\n"
     ]
    }
   ],
   "source": [
    "print (dic_palavra_polaridade.get('chato'))"
   ]
  },
  {
   "cell_type": "code",
   "execution_count": 65,
   "metadata": {},
   "outputs": [],
   "source": [
    "def Score_sentimento(frase):\n",
    "    frase = frase.lower()                     # coloca toda a frase em minusculo\n",
    "    l_sentimento = []                         # cria uma lista vazia\n",
    "    for p in frase.split():\n",
    "        l_sentimento.append(int(dic_palavra_polaridade.get(p, 0)))      # para cada palavra obtem a polaridade\n",
    "    #print (l_sentimento)                                                # imprime a lista de polaridades\n",
    "    score = sum(l_sentimento)                                           # soma todos os valores da lista\n",
    "    #if score > 0:\n",
    "        #return 'Positivo, Score:{}'.format(score)                       # se maior que 0 retorna 'positivo'\n",
    "    #elif score == 0:\n",
    "        #return 'Neutro, Score:{}'.format(score)                         # se igual a 0 retorna 'neutro'\n",
    "    #else:\n",
    "        #return 'Negativo, Score:{}'.format(score)                       # se menor que 0 retorna 'negativo'\n",
    "        \n",
    "    return score"
   ]
  },
  {
   "cell_type": "code",
   "execution_count": 66,
   "metadata": {},
   "outputs": [],
   "source": [
    "def sentimento(score):\n",
    "    if score > 0:\n",
    "        return 'Positivo'                      # se maior que 0 retorna 'positivo'\n",
    "    elif score == 0:\n",
    "        return 'Neutro'                     # se igual a 0 retorna 'neutro'\n",
    "    else:\n",
    "        return 'Negativo'                     # se menor que 0 retorna 'negativo'\n",
    "        \n",
    "    return score"
   ]
  },
  {
   "cell_type": "code",
   "execution_count": 67,
   "metadata": {},
   "outputs": [
    {
     "data": {
      "text/plain": [
       "-2"
      ]
     },
     "execution_count": 67,
     "metadata": {},
     "output_type": "execute_result"
    }
   ],
   "source": [
    "testescore = Score_sentimento(\"DescaRadO e feIo\")\n",
    "testescore"
   ]
  },
  {
   "cell_type": "code",
   "execution_count": 68,
   "metadata": {},
   "outputs": [
    {
     "data": {
      "text/plain": [
       "'Negativo'"
      ]
     },
     "execution_count": 68,
     "metadata": {},
     "output_type": "execute_result"
    }
   ],
   "source": [
    "sentimento(testescore)"
   ]
  },
  {
   "cell_type": "code",
   "execution_count": 69,
   "metadata": {},
   "outputs": [],
   "source": [
    "df_final2 = df_final.copy()"
   ]
  },
  {
   "cell_type": "code",
   "execution_count": 70,
   "metadata": {},
   "outputs": [
    {
     "data": {
      "text/html": [
       "<div>\n",
       "<style scoped>\n",
       "    .dataframe tbody tr th:only-of-type {\n",
       "        vertical-align: middle;\n",
       "    }\n",
       "\n",
       "    .dataframe tbody tr th {\n",
       "        vertical-align: top;\n",
       "    }\n",
       "\n",
       "    .dataframe thead th {\n",
       "        text-align: right;\n",
       "    }\n",
       "</style>\n",
       "<table border=\"1\" class=\"dataframe\">\n",
       "  <thead>\n",
       "    <tr style=\"text-align: right;\">\n",
       "      <th></th>\n",
       "      <th>Date</th>\n",
       "      <th>Adj Close</th>\n",
       "      <th>Volume</th>\n",
       "      <th>Var%</th>\n",
       "      <th>Fechamento</th>\n",
       "      <th>Noticias</th>\n",
       "      <th>score</th>\n",
       "      <th>Sentimento</th>\n",
       "    </tr>\n",
       "  </thead>\n",
       "  <tbody>\n",
       "    <tr>\n",
       "      <th>0</th>\n",
       "      <td>2021-01-04</td>\n",
       "      <td>19.274340</td>\n",
       "      <td>74719700</td>\n",
       "      <td>0.020113</td>\n",
       "      <td>1</td>\n",
       "      <td>tcu avalia barrar venda de refinaria da petro...</td>\n",
       "      <td>-1</td>\n",
       "      <td>Negativo</td>\n",
       "    </tr>\n",
       "    <tr>\n",
       "      <th>1</th>\n",
       "      <td>2021-01-05</td>\n",
       "      <td>20.027718</td>\n",
       "      <td>95181100</td>\n",
       "      <td>0.039087</td>\n",
       "      <td>1</td>\n",
       "      <td>petrobras (petr4) inicia contratação de nona ...</td>\n",
       "      <td>0</td>\n",
       "      <td>Neutro</td>\n",
       "    </tr>\n",
       "    <tr>\n",
       "      <th>2</th>\n",
       "      <td>2021-01-06</td>\n",
       "      <td>20.067719</td>\n",
       "      <td>96562500</td>\n",
       "      <td>0.001997</td>\n",
       "      <td>1</td>\n",
       "      <td>valor de venda de refinaria da petrobras é qu...</td>\n",
       "      <td>-1</td>\n",
       "      <td>Negativo</td>\n",
       "    </tr>\n",
       "    <tr>\n",
       "      <th>3</th>\n",
       "      <td>2021-01-07</td>\n",
       "      <td>20.667747</td>\n",
       "      <td>56171300</td>\n",
       "      <td>0.029900</td>\n",
       "      <td>1</td>\n",
       "      <td>petrobras confirma venda da fatia na br distr...</td>\n",
       "      <td>0</td>\n",
       "      <td>Neutro</td>\n",
       "    </tr>\n",
       "    <tr>\n",
       "      <th>5</th>\n",
       "      <td>2021-01-11</td>\n",
       "      <td>20.574409</td>\n",
       "      <td>48744700</td>\n",
       "      <td>-0.008355</td>\n",
       "      <td>0</td>\n",
       "      <td>silva e luna 'militariza' cúpula da petrobra...</td>\n",
       "      <td>0</td>\n",
       "      <td>Neutro</td>\n",
       "    </tr>\n",
       "    <tr>\n",
       "      <th>...</th>\n",
       "      <td>...</td>\n",
       "      <td>...</td>\n",
       "      <td>...</td>\n",
       "      <td>...</td>\n",
       "      <td>...</td>\n",
       "      <td>...</td>\n",
       "      <td>...</td>\n",
       "      <td>...</td>\n",
       "    </tr>\n",
       "    <tr>\n",
       "      <th>242</th>\n",
       "      <td>2021-12-23</td>\n",
       "      <td>23.237993</td>\n",
       "      <td>28713600</td>\n",
       "      <td>0.006037</td>\n",
       "      <td>1</td>\n",
       "      <td>programa da petrobras que reforça capital de ...</td>\n",
       "      <td>-1</td>\n",
       "      <td>Negativo</td>\n",
       "    </tr>\n",
       "    <tr>\n",
       "      <th>243</th>\n",
       "      <td>2021-12-27</td>\n",
       "      <td>23.582502</td>\n",
       "      <td>44227900</td>\n",
       "      <td>0.014825</td>\n",
       "      <td>1</td>\n",
       "      <td>petrobras vende carmópolis por us$ 1,1 bilhã...</td>\n",
       "      <td>3</td>\n",
       "      <td>Positivo</td>\n",
       "    </tr>\n",
       "    <tr>\n",
       "      <th>244</th>\n",
       "      <td>2021-12-28</td>\n",
       "      <td>23.607111</td>\n",
       "      <td>30688100</td>\n",
       "      <td>0.001044</td>\n",
       "      <td>1</td>\n",
       "      <td>distribuidoras de gás de 5 estados entram na ...</td>\n",
       "      <td>0</td>\n",
       "      <td>Neutro</td>\n",
       "    </tr>\n",
       "    <tr>\n",
       "      <th>245</th>\n",
       "      <td>2021-12-29</td>\n",
       "      <td>23.410248</td>\n",
       "      <td>35508400</td>\n",
       "      <td>-0.008339</td>\n",
       "      <td>0</td>\n",
       "      <td>petrobras vai recorrer de decisão que suspend...</td>\n",
       "      <td>3</td>\n",
       "      <td>Positivo</td>\n",
       "    </tr>\n",
       "    <tr>\n",
       "      <th>246</th>\n",
       "      <td>2021-12-30</td>\n",
       "      <td>23.336424</td>\n",
       "      <td>43229100</td>\n",
       "      <td>-0.003153</td>\n",
       "      <td>0</td>\n",
       "      <td>judicialização coloca mercado de gás em risco...</td>\n",
       "      <td>0</td>\n",
       "      <td>Neutro</td>\n",
       "    </tr>\n",
       "  </tbody>\n",
       "</table>\n",
       "<p>219 rows × 8 columns</p>\n",
       "</div>"
      ],
      "text/plain": [
       "          Date  Adj Close    Volume      Var%  Fechamento  \\\n",
       "0   2021-01-04  19.274340  74719700  0.020113           1   \n",
       "1   2021-01-05  20.027718  95181100  0.039087           1   \n",
       "2   2021-01-06  20.067719  96562500  0.001997           1   \n",
       "3   2021-01-07  20.667747  56171300  0.029900           1   \n",
       "5   2021-01-11  20.574409  48744700 -0.008355           0   \n",
       "..         ...        ...       ...       ...         ...   \n",
       "242 2021-12-23  23.237993  28713600  0.006037           1   \n",
       "243 2021-12-27  23.582502  44227900  0.014825           1   \n",
       "244 2021-12-28  23.607111  30688100  0.001044           1   \n",
       "245 2021-12-29  23.410248  35508400 -0.008339           0   \n",
       "246 2021-12-30  23.336424  43229100 -0.003153           0   \n",
       "\n",
       "                                              Noticias  score Sentimento  \n",
       "0     tcu avalia barrar venda de refinaria da petro...     -1   Negativo  \n",
       "1     petrobras (petr4) inicia contratação de nona ...      0     Neutro  \n",
       "2     valor de venda de refinaria da petrobras é qu...     -1   Negativo  \n",
       "3     petrobras confirma venda da fatia na br distr...      0     Neutro  \n",
       "5      silva e luna 'militariza' cúpula da petrobra...      0     Neutro  \n",
       "..                                                 ...    ...        ...  \n",
       "242   programa da petrobras que reforça capital de ...     -1   Negativo  \n",
       "243    petrobras vende carmópolis por us$ 1,1 bilhã...      3   Positivo  \n",
       "244   distribuidoras de gás de 5 estados entram na ...      0     Neutro  \n",
       "245   petrobras vai recorrer de decisão que suspend...      3   Positivo  \n",
       "246   judicialização coloca mercado de gás em risco...      0     Neutro  \n",
       "\n",
       "[219 rows x 8 columns]"
      ]
     },
     "execution_count": 70,
     "metadata": {},
     "output_type": "execute_result"
    }
   ],
   "source": [
    "df_final2['score'] = df_final2['Noticias'].apply(lambda x: Score_sentimento(x))\n",
    "df_final2['Sentimento'] = df_final2['score'].apply(lambda x: sentimento(x))\n",
    "df_final2"
   ]
  },
  {
   "cell_type": "markdown",
   "metadata": {},
   "source": [
    "#  1º Alterações Lenon\n"
   ]
  },
  {
   "cell_type": "markdown",
   "metadata": {},
   "source": [
    "### Pegando os dias de maiores volumes"
   ]
  },
  {
   "cell_type": "code",
   "execution_count": 71,
   "metadata": {},
   "outputs": [],
   "source": [
    "df_final21 = df_final2.sort_values(by=['Volume'], ascending=False)\n",
    "df30 = df_final21.head(30)"
   ]
  },
  {
   "cell_type": "code",
   "execution_count": 72,
   "metadata": {},
   "outputs": [
    {
     "data": {
      "text/html": [
       "<div>\n",
       "<style scoped>\n",
       "    .dataframe tbody tr th:only-of-type {\n",
       "        vertical-align: middle;\n",
       "    }\n",
       "\n",
       "    .dataframe tbody tr th {\n",
       "        vertical-align: top;\n",
       "    }\n",
       "\n",
       "    .dataframe thead th {\n",
       "        text-align: right;\n",
       "    }\n",
       "</style>\n",
       "<table border=\"1\" class=\"dataframe\">\n",
       "  <thead>\n",
       "    <tr style=\"text-align: right;\">\n",
       "      <th></th>\n",
       "      <th>Date</th>\n",
       "      <th>Adj Close</th>\n",
       "      <th>Volume</th>\n",
       "      <th>Var%</th>\n",
       "      <th>Fechamento</th>\n",
       "      <th>Noticias</th>\n",
       "      <th>score</th>\n",
       "      <th>Sentimento</th>\n",
       "    </tr>\n",
       "  </thead>\n",
       "  <tbody>\n",
       "    <tr>\n",
       "      <th>32</th>\n",
       "      <td>2021-02-22</td>\n",
       "      <td>14.447424</td>\n",
       "      <td>490230400</td>\n",
       "      <td>-0.207098</td>\n",
       "      <td>0</td>\n",
       "      <td>bolsonaro indica joaquim silva e luna para p...</td>\n",
       "      <td>1</td>\n",
       "      <td>Positivo</td>\n",
       "    </tr>\n",
       "    <tr>\n",
       "      <th>33</th>\n",
       "      <td>2021-02-23</td>\n",
       "      <td>16.040838</td>\n",
       "      <td>293503100</td>\n",
       "      <td>0.110291</td>\n",
       "      <td>1</td>\n",
       "      <td>troca de comando na petrobras: veja perguntas...</td>\n",
       "      <td>-1</td>\n",
       "      <td>Negativo</td>\n",
       "    </tr>\n",
       "    <tr>\n",
       "      <th>31</th>\n",
       "      <td>2021-02-19</td>\n",
       "      <td>18.220953</td>\n",
       "      <td>215834800</td>\n",
       "      <td>-0.066280</td>\n",
       "      <td>0</td>\n",
       "      <td>bolsonaro critica petrobras após reajuste de ...</td>\n",
       "      <td>0</td>\n",
       "      <td>Neutro</td>\n",
       "    </tr>\n",
       "    <tr>\n",
       "      <th>71</th>\n",
       "      <td>2021-04-19</td>\n",
       "      <td>16.732317</td>\n",
       "      <td>196519100</td>\n",
       "      <td>0.057952</td>\n",
       "      <td>1</td>\n",
       "      <td>conselheiro renuncia e tumultua sucessão na ...</td>\n",
       "      <td>0</td>\n",
       "      <td>Neutro</td>\n",
       "    </tr>\n",
       "    <tr>\n",
       "      <th>89</th>\n",
       "      <td>2021-05-14</td>\n",
       "      <td>18.124380</td>\n",
       "      <td>196135500</td>\n",
       "      <td>0.052421</td>\n",
       "      <td>1</td>\n",
       "      <td>petrobras diz que busca competitividade com p...</td>\n",
       "      <td>1</td>\n",
       "      <td>Positivo</td>\n",
       "    </tr>\n",
       "    <tr>\n",
       "      <th>...</th>\n",
       "      <td>...</td>\n",
       "      <td>...</td>\n",
       "      <td>...</td>\n",
       "      <td>...</td>\n",
       "      <td>...</td>\n",
       "      <td>...</td>\n",
       "      <td>...</td>\n",
       "      <td>...</td>\n",
       "    </tr>\n",
       "    <tr>\n",
       "      <th>241</th>\n",
       "      <td>2021-12-22</td>\n",
       "      <td>23.098549</td>\n",
       "      <td>33734500</td>\n",
       "      <td>-0.001418</td>\n",
       "      <td>0</td>\n",
       "      <td>petrobras (petr3; petr4) conclui renovação de...</td>\n",
       "      <td>0</td>\n",
       "      <td>Neutro</td>\n",
       "    </tr>\n",
       "    <tr>\n",
       "      <th>75</th>\n",
       "      <td>2021-04-26</td>\n",
       "      <td>16.387749</td>\n",
       "      <td>33281000</td>\n",
       "      <td>0.003799</td>\n",
       "      <td>1</td>\n",
       "      <td>petrobras pagará dividendos em 29 de abril p...</td>\n",
       "      <td>0</td>\n",
       "      <td>Neutro</td>\n",
       "    </tr>\n",
       "    <tr>\n",
       "      <th>244</th>\n",
       "      <td>2021-12-28</td>\n",
       "      <td>23.607111</td>\n",
       "      <td>30688100</td>\n",
       "      <td>0.001044</td>\n",
       "      <td>1</td>\n",
       "      <td>distribuidoras de gás de 5 estados entram na ...</td>\n",
       "      <td>0</td>\n",
       "      <td>Neutro</td>\n",
       "    </tr>\n",
       "    <tr>\n",
       "      <th>242</th>\n",
       "      <td>2021-12-23</td>\n",
       "      <td>23.237993</td>\n",
       "      <td>28713600</td>\n",
       "      <td>0.006037</td>\n",
       "      <td>1</td>\n",
       "      <td>programa da petrobras que reforça capital de ...</td>\n",
       "      <td>-1</td>\n",
       "      <td>Negativo</td>\n",
       "    </tr>\n",
       "    <tr>\n",
       "      <th>168</th>\n",
       "      <td>2021-09-06</td>\n",
       "      <td>19.320694</td>\n",
       "      <td>26770700</td>\n",
       "      <td>0.004937</td>\n",
       "      <td>1</td>\n",
       "      <td>petrobras anuncia redução no preço do diesel...</td>\n",
       "      <td>0</td>\n",
       "      <td>Neutro</td>\n",
       "    </tr>\n",
       "  </tbody>\n",
       "</table>\n",
       "<p>219 rows × 8 columns</p>\n",
       "</div>"
      ],
      "text/plain": [
       "          Date  Adj Close     Volume      Var%  Fechamento  \\\n",
       "32  2021-02-22  14.447424  490230400 -0.207098           0   \n",
       "33  2021-02-23  16.040838  293503100  0.110291           1   \n",
       "31  2021-02-19  18.220953  215834800 -0.066280           0   \n",
       "71  2021-04-19  16.732317  196519100  0.057952           1   \n",
       "89  2021-05-14  18.124380  196135500  0.052421           1   \n",
       "..         ...        ...        ...       ...         ...   \n",
       "241 2021-12-22  23.098549   33734500 -0.001418           0   \n",
       "75  2021-04-26  16.387749   33281000  0.003799           1   \n",
       "244 2021-12-28  23.607111   30688100  0.001044           1   \n",
       "242 2021-12-23  23.237993   28713600  0.006037           1   \n",
       "168 2021-09-06  19.320694   26770700  0.004937           1   \n",
       "\n",
       "                                              Noticias  score Sentimento  \n",
       "32     bolsonaro indica joaquim silva e luna para p...      1   Positivo  \n",
       "33    troca de comando na petrobras: veja perguntas...     -1   Negativo  \n",
       "31    bolsonaro critica petrobras após reajuste de ...      0     Neutro  \n",
       "71     conselheiro renuncia e tumultua sucessão na ...      0     Neutro  \n",
       "89    petrobras diz que busca competitividade com p...      1   Positivo  \n",
       "..                                                 ...    ...        ...  \n",
       "241   petrobras (petr3; petr4) conclui renovação de...      0     Neutro  \n",
       "75     petrobras pagará dividendos em 29 de abril p...      0     Neutro  \n",
       "244   distribuidoras de gás de 5 estados entram na ...      0     Neutro  \n",
       "242   programa da petrobras que reforça capital de ...     -1   Negativo  \n",
       "168    petrobras anuncia redução no preço do diesel...      0     Neutro  \n",
       "\n",
       "[219 rows x 8 columns]"
      ]
     },
     "execution_count": 72,
     "metadata": {},
     "output_type": "execute_result"
    }
   ],
   "source": [
    "df_final21"
   ]
  },
  {
   "cell_type": "markdown",
   "metadata": {},
   "source": [
    "### analise dos 30 dias de maior volume \n"
   ]
  },
  {
   "cell_type": "code",
   "execution_count": 73,
   "metadata": {},
   "outputs": [
    {
     "data": {
      "text/html": [
       "<div>\n",
       "<style scoped>\n",
       "    .dataframe tbody tr th:only-of-type {\n",
       "        vertical-align: middle;\n",
       "    }\n",
       "\n",
       "    .dataframe tbody tr th {\n",
       "        vertical-align: top;\n",
       "    }\n",
       "\n",
       "    .dataframe thead th {\n",
       "        text-align: right;\n",
       "    }\n",
       "</style>\n",
       "<table border=\"1\" class=\"dataframe\">\n",
       "  <thead>\n",
       "    <tr style=\"text-align: right;\">\n",
       "      <th></th>\n",
       "      <th>Date</th>\n",
       "      <th>Adj Close</th>\n",
       "      <th>Volume</th>\n",
       "      <th>Var%</th>\n",
       "      <th>Noticias</th>\n",
       "      <th>score</th>\n",
       "      <th>Sentimento</th>\n",
       "    </tr>\n",
       "    <tr>\n",
       "      <th>Fechamento</th>\n",
       "      <th></th>\n",
       "      <th></th>\n",
       "      <th></th>\n",
       "      <th></th>\n",
       "      <th></th>\n",
       "      <th></th>\n",
       "      <th></th>\n",
       "    </tr>\n",
       "  </thead>\n",
       "  <tbody>\n",
       "    <tr>\n",
       "      <th>0</th>\n",
       "      <td>17</td>\n",
       "      <td>17</td>\n",
       "      <td>17</td>\n",
       "      <td>17</td>\n",
       "      <td>17</td>\n",
       "      <td>17</td>\n",
       "      <td>17</td>\n",
       "    </tr>\n",
       "    <tr>\n",
       "      <th>1</th>\n",
       "      <td>13</td>\n",
       "      <td>13</td>\n",
       "      <td>13</td>\n",
       "      <td>13</td>\n",
       "      <td>13</td>\n",
       "      <td>13</td>\n",
       "      <td>13</td>\n",
       "    </tr>\n",
       "  </tbody>\n",
       "</table>\n",
       "</div>"
      ],
      "text/plain": [
       "            Date  Adj Close  Volume  Var%  Noticias  score  Sentimento\n",
       "Fechamento                                                            \n",
       "0             17         17      17    17        17     17          17\n",
       "1             13         13      13    13        13     13          13"
      ]
     },
     "execution_count": 73,
     "metadata": {},
     "output_type": "execute_result"
    }
   ],
   "source": [
    "df30.groupby(['Fechamento']).count()"
   ]
  },
  {
   "cell_type": "code",
   "execution_count": 74,
   "metadata": {},
   "outputs": [
    {
     "data": {
      "text/html": [
       "<div>\n",
       "<style scoped>\n",
       "    .dataframe tbody tr th:only-of-type {\n",
       "        vertical-align: middle;\n",
       "    }\n",
       "\n",
       "    .dataframe tbody tr th {\n",
       "        vertical-align: top;\n",
       "    }\n",
       "\n",
       "    .dataframe thead th {\n",
       "        text-align: right;\n",
       "    }\n",
       "</style>\n",
       "<table border=\"1\" class=\"dataframe\">\n",
       "  <thead>\n",
       "    <tr style=\"text-align: right;\">\n",
       "      <th></th>\n",
       "      <th>Date</th>\n",
       "      <th>Adj Close</th>\n",
       "      <th>Volume</th>\n",
       "      <th>Var%</th>\n",
       "      <th>Fechamento</th>\n",
       "      <th>Noticias</th>\n",
       "      <th>score</th>\n",
       "    </tr>\n",
       "    <tr>\n",
       "      <th>Sentimento</th>\n",
       "      <th></th>\n",
       "      <th></th>\n",
       "      <th></th>\n",
       "      <th></th>\n",
       "      <th></th>\n",
       "      <th></th>\n",
       "      <th></th>\n",
       "    </tr>\n",
       "  </thead>\n",
       "  <tbody>\n",
       "    <tr>\n",
       "      <th>Negativo</th>\n",
       "      <td>9</td>\n",
       "      <td>9</td>\n",
       "      <td>9</td>\n",
       "      <td>9</td>\n",
       "      <td>9</td>\n",
       "      <td>9</td>\n",
       "      <td>9</td>\n",
       "    </tr>\n",
       "    <tr>\n",
       "      <th>Neutro</th>\n",
       "      <td>14</td>\n",
       "      <td>14</td>\n",
       "      <td>14</td>\n",
       "      <td>14</td>\n",
       "      <td>14</td>\n",
       "      <td>14</td>\n",
       "      <td>14</td>\n",
       "    </tr>\n",
       "    <tr>\n",
       "      <th>Positivo</th>\n",
       "      <td>7</td>\n",
       "      <td>7</td>\n",
       "      <td>7</td>\n",
       "      <td>7</td>\n",
       "      <td>7</td>\n",
       "      <td>7</td>\n",
       "      <td>7</td>\n",
       "    </tr>\n",
       "  </tbody>\n",
       "</table>\n",
       "</div>"
      ],
      "text/plain": [
       "            Date  Adj Close  Volume  Var%  Fechamento  Noticias  score\n",
       "Sentimento                                                            \n",
       "Negativo       9          9       9     9           9         9      9\n",
       "Neutro        14         14      14    14          14        14     14\n",
       "Positivo       7          7       7     7           7         7      7"
      ]
     },
     "execution_count": 74,
     "metadata": {},
     "output_type": "execute_result"
    }
   ],
   "source": [
    "df30.groupby(['Sentimento']).count()"
   ]
  },
  {
   "cell_type": "markdown",
   "metadata": {},
   "source": [
    "Entre os 30 dias de maior volume: \n",
    "- 56% sao de quedas e 44% sao de alta\n",
    "- 23% sentimento positivo, 46% neutro e 30% negativo\n"
   ]
  },
  {
   "cell_type": "markdown",
   "metadata": {},
   "source": [
    "## Analisando as palavras mais comuns no dataset"
   ]
  },
  {
   "cell_type": "code",
   "execution_count": 75,
   "metadata": {},
   "outputs": [],
   "source": [
    "a = df_final21['Noticias']\n",
    "list(a)\n",
    "b = a.values[0]"
   ]
  },
  {
   "cell_type": "code",
   "execution_count": 76,
   "metadata": {},
   "outputs": [
    {
     "name": "stdout",
     "output_type": "stream",
     "text": [
      "Requirement already satisfied: nltk in c:\\users\\lenon.oliveira\\anaconda3\\lib\\site-packages (3.7)\n",
      "Requirement already satisfied: joblib in c:\\users\\lenon.oliveira\\anaconda3\\lib\\site-packages (from nltk) (1.1.0)\n",
      "Requirement already satisfied: regex>=2021.8.3 in c:\\users\\lenon.oliveira\\anaconda3\\lib\\site-packages (from nltk) (2022.3.15)\n",
      "Requirement already satisfied: tqdm in c:\\users\\lenon.oliveira\\anaconda3\\lib\\site-packages (from nltk) (4.64.0)\n",
      "Requirement already satisfied: click in c:\\users\\lenon.oliveira\\anaconda3\\lib\\site-packages (from nltk) (8.0.4)\n",
      "Requirement already satisfied: colorama in c:\\users\\lenon.oliveira\\anaconda3\\lib\\site-packages (from click->nltk) (0.4.4)\n"
     ]
    }
   ],
   "source": [
    "!pip install nltk"
   ]
  },
  {
   "cell_type": "code",
   "execution_count": 77,
   "metadata": {},
   "outputs": [],
   "source": [
    "import nltk\n",
    "from nltk.tokenize import word_tokenize\n",
    "from nltk.probability import FreqDist"
   ]
  },
  {
   "cell_type": "code",
   "execution_count": 78,
   "metadata": {
    "collapsed": true
   },
   "outputs": [
    {
     "data": {
      "text/plain": [
       "\"  bolsonaro indica joaquim silva e luna para presidência da petrobras bolsonaro anuncia indicação de general joaquim silva e luna para assumir presidência da petrobras bolsonaro anuncia general como novo presidente da petrobras bolsonaro demite presidente da petrobras e indica general da reserva para o cargo brasileiro precisa entender que petrobras não pode ser a única responsável por preço, diz especialista petrobras não tem um presidente militar desde 1988  general luna deve manter atual política de preços da petrobras após intervir na petrobras, bolsonaro diz que gasolina poderia estar 15% mais barata conselho da petrobras é formado em sua maioria por nomes escolhidos pelo governo petrobras (petr4): analistas demonstram preocupação com mudança no comando sucessão na petrobras: saiba quem são os conselheiros que vão avaliar indicação de silva e luna para a presidência da estatal petrobras (petr4) caindo? não posso ignorar o 'tapa na cara ...  ‘não há mais como defender. rebaixamos para venda’, diz xp sobre petrobras xp rebaixa para venda recomendação para as ações da petrobras após anúncio de troca de comando petrobras pode ser investigada por mudança de comando abrupta princípio de incêndio atinge plataforma p-48 da petrobras em campos com venda de refinarias, pressão para petrobras controlar combustível pode ser menor petrobras: gestora inglesa de us$ 560 bi faz alerta ao conselho e pede independência petrobras: salim mattar aponta truculência e diz que governo ... ‘vamos meter o dedo na energia elétrica’, diz bolsonaro um dia depois de anunciar troca no comando da petrobras petrobras: política de preço da era dilma custou r$ 100 bi, mais que toda lava-jato brasil se prepara para turbulência puxada por petrobras enquanto mercados globais acumulam alta\""
      ]
     },
     "execution_count": 78,
     "metadata": {},
     "output_type": "execute_result"
    }
   ],
   "source": [
    "frase = b\n"
   ]
  },
  {
   "cell_type": "code",
   "execution_count": 79,
   "metadata": {},
   "outputs": [],
   "source": [
    "palavras = nltk.word_tokenize(frase)"
   ]
  },
  {
   "cell_type": "code",
   "execution_count": 80,
   "metadata": {},
   "outputs": [],
   "source": [
    "from nltk import FreqDist\n",
    "frequencia = FreqDist(frase)"
   ]
  },
  {
   "cell_type": "markdown",
   "metadata": {},
   "source": [
    "### Criando uma lista com as noticias de todos os dias "
   ]
  },
  {
   "cell_type": "code",
   "execution_count": 83,
   "metadata": {},
   "outputs": [
    {
     "data": {
      "text/plain": [
       "219"
      ]
     },
     "execution_count": 83,
     "metadata": {},
     "output_type": "execute_result"
    }
   ],
   "source": [
    "a = df_final2['Noticias']\n",
    "a = list(a)\n",
    "len(a)"
   ]
  },
  {
   "cell_type": "code",
   "execution_count": 86,
   "metadata": {},
   "outputs": [],
   "source": [
    "c = \"\"\n",
    "for i in a:\n",
    "    c += i"
   ]
  },
  {
   "cell_type": "code",
   "execution_count": 88,
   "metadata": {},
   "outputs": [],
   "source": [
    "frase = c\n",
    "palavras = nltk.word_tokenize(frase)"
   ]
  },
  {
   "cell_type": "code",
   "execution_count": 89,
   "metadata": {
    "scrolled": true
   },
   "outputs": [
    {
     "data": {
      "text/plain": [
       "[('petrobras', 1513),\n",
       " ('de', 1104),\n",
       " ('da', 713),\n",
       " ('e', 529),\n",
       " (',', 522),\n",
       " ('em', 338),\n",
       " ('...', 299),\n",
       " ('do', 296),\n",
       " ('para', 289),\n",
       " ('a', 283),\n",
       " ('no', 225),\n",
       " ('na', 224),\n",
       " ('com', 196),\n",
       " ('(', 187),\n",
       " (')', 185),\n",
       " (':', 181),\n",
       " ('que', 178),\n",
       " ('$', 178),\n",
       " ('%', 154),\n",
       " ('por', 146),\n",
       " ('diz', 135),\n",
       " ('o', 127),\n",
       " ('r', 123),\n",
       " ('venda', 119),\n",
       " ('bolsonaro', 112),\n",
       " ('petr4', 108),\n",
       " ('mais', 107),\n",
       " ('gás', 104),\n",
       " (';', 103),\n",
       " ('gasolina', 96),\n",
       " ('preço', 88),\n",
       " ('é', 87),\n",
       " ('não', 82),\n",
       " ('preços', 82),\n",
       " ('ações', 79),\n",
       " ('petróleo', 70),\n",
       " ('após', 68),\n",
       " ('combustíveis', 64),\n",
       " ('diesel', 62),\n",
       " ('refinaria', 58),\n",
       " ('sobre', 57),\n",
       " ('us', 57),\n",
       " ('dos', 54),\n",
       " ('vale', 53),\n",
       " ('vai', 53),\n",
       " ('alta', 51),\n",
       " ('política', 51),\n",
       " ('dividendos', 51),\n",
       " ('à', 51),\n",
       " ('pela', 50),\n",
       " ('anuncia', 50),\n",
       " (\"'\", 49),\n",
       " ('pode', 46),\n",
       " ('presidente', 45),\n",
       " ('novo', 45),\n",
       " ('bi', 44),\n",
       " ('ao', 44),\n",
       " ('os', 44),\n",
       " ('tem', 42),\n",
       " ('bilhões', 41),\n",
       " ('campos', 40),\n",
       " ('se', 39),\n",
       " ('até', 39),\n",
       " ('?', 38),\n",
       " ('milhões', 37),\n",
       " ('reajuste', 35),\n",
       " ('refinarias', 35),\n",
       " ('campo', 33),\n",
       " ('vende', 33),\n",
       " ('aumento', 33),\n",
       " ('governo', 33),\n",
       " ('brasil', 32),\n",
       " ('nas', 32),\n",
       " ('das', 32),\n",
       " ('lucro', 32),\n",
       " ('mercado', 31),\n",
       " ('sobe', 31),\n",
       " ('bacia', 31),\n",
       " ('como', 31),\n",
       " ('privatização', 30)]"
      ]
     },
     "execution_count": 89,
     "metadata": {},
     "output_type": "execute_result"
    }
   ],
   "source": [
    "frequencia = FreqDist(frase)\n",
    "fdist = FreqDist(palavras)\n",
    "fdist.most_common(80)"
   ]
  },
  {
   "cell_type": "markdown",
   "metadata": {},
   "source": [
    "## Remoçao de stopwords, talvez seja melhor remover depois de fazer a traduçao e remover em ingles"
   ]
  },
  {
   "cell_type": "code",
   "execution_count": 90,
   "metadata": {},
   "outputs": [],
   "source": [
    "stopwords = nltk.corpus.stopwords.words('portuguese')"
   ]
  },
  {
   "cell_type": "code",
   "execution_count": 92,
   "metadata": {},
   "outputs": [],
   "source": [
    "def Removestopwords(instancia):\n",
    "    instancia = instancia.lower()\n",
    "    stopwords = set(nltk.corpus.stopwords.words('portuguese'))\n",
    "    palavras = [i for i in instancia.split() if not i in stopwords]\n",
    "    return (\" \".join(palavras))"
   ]
  },
  {
   "cell_type": "code",
   "execution_count": 93,
   "metadata": {},
   "outputs": [],
   "source": [
    "caracteres = [\",\",\"...\", \"(\",\" )\" ,\":\", \"$\",  \"%\",  \";\", \"'\", \"(PETR4)\", \"PETR4\", \"petr4\",\"(petr4)\" ]"
   ]
  },
  {
   "cell_type": "code",
   "execution_count": 94,
   "metadata": {},
   "outputs": [],
   "source": [
    "d = Removestopwords(c)"
   ]
  },
  {
   "cell_type": "markdown",
   "metadata": {},
   "source": [
    "### Remove Caracteres"
   ]
  },
  {
   "cell_type": "code",
   "execution_count": 96,
   "metadata": {},
   "outputs": [],
   "source": [
    "carac = \"!@#$;:,%')(?\"\n",
    "for i in range(0,len(carac)):\n",
    "     d =d.replace(carac[i],\"\")"
   ]
  },
  {
   "cell_type": "code",
   "execution_count": 149,
   "metadata": {},
   "outputs": [],
   "source": [
    "carac2 = \"...\"\n",
    "for i in range(0,len(carac2)):\n",
    "     d =d.replace(carac2[i],\"\")"
   ]
  },
  {
   "cell_type": "code",
   "execution_count": 150,
   "metadata": {},
   "outputs": [],
   "source": [
    "frase = d\n",
    "palavras = nltk.word_tokenize(frase)"
   ]
  },
  {
   "cell_type": "code",
   "execution_count": 151,
   "metadata": {
    "scrolled": true
   },
   "outputs": [
    {
     "data": {
      "text/plain": [
       "[('petrobras', 1512),\n",
       " ('diz', 135),\n",
       " ('venda', 118),\n",
       " ('r', 116),\n",
       " ('bolsonaro', 112),\n",
       " ('gás', 104),\n",
       " ('petr4', 103),\n",
       " ('gasolina', 96),\n",
       " ('preço', 88),\n",
       " ('preços', 82),\n",
       " ('ações', 79),\n",
       " ('petróleo', 70),\n",
       " ('após', 68),\n",
       " ('combustíveis', 64),\n",
       " ('diesel', 64),\n",
       " ('refinaria', 58),\n",
       " ('sobre', 57),\n",
       " ('us', 55),\n",
       " ('vale', 53),\n",
       " ('vai', 53),\n",
       " ('alta', 51),\n",
       " ('política', 51),\n",
       " ('dividendos', 51),\n",
       " ('anuncia', 50),\n",
       " ('pode', 46),\n",
       " ('presidente', 45),\n",
       " ('novo', 45),\n",
       " ('bi', 44),\n",
       " ('bilhões', 41),\n",
       " ('campos', 40),\n",
       " ('milhões', 37),\n",
       " ('reajuste', 35),\n",
       " ('refinarias', 35),\n",
       " ('campo', 33),\n",
       " ('vende', 33),\n",
       " ('aumento', 33),\n",
       " ('governo', 33),\n",
       " ('brasil', 32),\n",
       " ('lucro', 32),\n",
       " ('mercado', 31),\n",
       " ('sobe', 31),\n",
       " ('bacia', 31),\n",
       " ('privatização', 30),\n",
       " ('contrato', 30),\n",
       " ('ação', 29),\n",
       " ('bahia', 28),\n",
       " ('quer', 28),\n",
       " ('maior', 28),\n",
       " ('plataforma', 28),\n",
       " ('ibovespa', 28),\n",
       " ('contra', 27),\n",
       " ('rio', 27),\n",
       " ('fecha', 27),\n",
       " ('natural', 27),\n",
       " ('cai', 27),\n",
       " ('empresas', 27),\n",
       " ('valor', 26),\n",
       " ('conclui', 26),\n",
       " ('vender', 26),\n",
       " ('produção', 26),\n",
       " ('“', 25),\n",
       " ('veja', 25),\n",
       " ('pré-sal', 25),\n",
       " ('deve', 24),\n",
       " ('anos', 24),\n",
       " ('faz', 24),\n",
       " ('silva', 23),\n",
       " ('luna', 23),\n",
       " ('queda', 23),\n",
       " ('guedes', 23),\n",
       " ('mil', 22),\n",
       " ('empresa', 21),\n",
       " ('cvm', 21),\n",
       " ('assina', 21),\n",
       " ('”', 20),\n",
       " ('compra', 20),\n",
       " ('’', 20),\n",
       " ('aprova', 20),\n",
       " ('combustível', 20),\n",
       " ('nova', 20)]"
      ]
     },
     "execution_count": 151,
     "metadata": {},
     "output_type": "execute_result"
    }
   ],
   "source": [
    "frequencia = FreqDist(frase)\n",
    "fdist = FreqDist(palavras)\n",
    "fdist.most_common(80)"
   ]
  },
  {
   "cell_type": "markdown",
   "metadata": {},
   "source": [
    "# Fim 1º Alteracoes Lenon"
   ]
  },
  {
   "cell_type": "markdown",
   "metadata": {},
   "source": [
    "# 5.2 Tradução e aplicação textblob e vader sentiment"
   ]
  },
  {
   "cell_type": "markdown",
   "metadata": {},
   "source": [
    "### Instanciando função de tradução"
   ]
  },
  {
   "cell_type": "code",
   "execution_count": 101,
   "metadata": {},
   "outputs": [
    {
     "name": "stdout",
     "output_type": "stream",
     "text": [
      "Requirement already satisfied: googletrans==4.0.0-rc1 in c:\\users\\lenon.oliveira\\anaconda3\\lib\\site-packages (4.0.0rc1)\n",
      "Requirement already satisfied: httpx==0.13.3 in c:\\users\\lenon.oliveira\\anaconda3\\lib\\site-packages (from googletrans==4.0.0-rc1) (0.13.3)\n",
      "Requirement already satisfied: rfc3986<2,>=1.3 in c:\\users\\lenon.oliveira\\anaconda3\\lib\\site-packages (from httpx==0.13.3->googletrans==4.0.0-rc1) (1.5.0)\n",
      "Requirement already satisfied: certifi in c:\\users\\lenon.oliveira\\anaconda3\\lib\\site-packages (from httpx==0.13.3->googletrans==4.0.0-rc1) (2022.5.18.1)\n",
      "Requirement already satisfied: httpcore==0.9.* in c:\\users\\lenon.oliveira\\anaconda3\\lib\\site-packages (from httpx==0.13.3->googletrans==4.0.0-rc1) (0.9.1)\n",
      "Requirement already satisfied: idna==2.* in c:\\users\\lenon.oliveira\\anaconda3\\lib\\site-packages (from httpx==0.13.3->googletrans==4.0.0-rc1) (2.10)\n",
      "Requirement already satisfied: sniffio in c:\\users\\lenon.oliveira\\anaconda3\\lib\\site-packages (from httpx==0.13.3->googletrans==4.0.0-rc1) (1.2.0)\n",
      "Requirement already satisfied: hstspreload in c:\\users\\lenon.oliveira\\anaconda3\\lib\\site-packages (from httpx==0.13.3->googletrans==4.0.0-rc1) (2021.12.1)\n",
      "Requirement already satisfied: chardet==3.* in c:\\users\\lenon.oliveira\\anaconda3\\lib\\site-packages (from httpx==0.13.3->googletrans==4.0.0-rc1) (3.0.4)\n",
      "Requirement already satisfied: h11<0.10,>=0.8 in c:\\users\\lenon.oliveira\\anaconda3\\lib\\site-packages (from httpcore==0.9.*->httpx==0.13.3->googletrans==4.0.0-rc1) (0.9.0)\n",
      "Requirement already satisfied: h2==3.* in c:\\users\\lenon.oliveira\\anaconda3\\lib\\site-packages (from httpcore==0.9.*->httpx==0.13.3->googletrans==4.0.0-rc1) (3.2.0)\n",
      "Requirement already satisfied: hpack<4,>=3.0 in c:\\users\\lenon.oliveira\\anaconda3\\lib\\site-packages (from h2==3.*->httpcore==0.9.*->httpx==0.13.3->googletrans==4.0.0-rc1) (3.0.0)\n",
      "Requirement already satisfied: hyperframe<6,>=5.2.0 in c:\\users\\lenon.oliveira\\anaconda3\\lib\\site-packages (from h2==3.*->httpcore==0.9.*->httpx==0.13.3->googletrans==4.0.0-rc1) (5.2.0)\n",
      "Note: you may need to restart the kernel to use updated packages.\n"
     ]
    }
   ],
   "source": [
    "pip install googletrans==4.0.0-rc1"
   ]
  },
  {
   "cell_type": "code",
   "execution_count": 102,
   "metadata": {},
   "outputs": [],
   "source": [
    "from googletrans import Translator"
   ]
  },
  {
   "cell_type": "code",
   "execution_count": 103,
   "metadata": {},
   "outputs": [],
   "source": [
    "trans = Translator()"
   ]
  },
  {
   "cell_type": "code",
   "execution_count": 104,
   "metadata": {},
   "outputs": [
    {
     "data": {
      "text/plain": [
       "'O livro está sobre a mesa'"
      ]
     },
     "execution_count": 104,
     "metadata": {},
     "output_type": "execute_result"
    }
   ],
   "source": [
    "trans.translate(\"The book is on the table\", dest = 'pt').text"
   ]
  },
  {
   "cell_type": "code",
   "execution_count": 105,
   "metadata": {},
   "outputs": [],
   "source": [
    "def traduzir(frase):\n",
    "    frase = frase.lower()                     # coloca toda a frase em minusculo\n",
    "    frase = trans.translate(frase, dest = 'en').text\n",
    "    return frase"
   ]
  },
  {
   "cell_type": "code",
   "execution_count": 106,
   "metadata": {},
   "outputs": [
    {
     "data": {
      "text/plain": [
       "'the food is very good'"
      ]
     },
     "execution_count": 106,
     "metadata": {},
     "output_type": "execute_result"
    }
   ],
   "source": [
    "frase_teste = traduzir(\"A comida está muito boa\")\n",
    "frase_teste"
   ]
  },
  {
   "cell_type": "markdown",
   "metadata": {},
   "source": [
    "### Instanciando calculo de polaridade e subjetividade"
   ]
  },
  {
   "cell_type": "code",
   "execution_count": 108,
   "metadata": {},
   "outputs": [],
   "source": [
    "#pip install textblob\n",
    "from textblob import TextBlob"
   ]
  },
  {
   "cell_type": "code",
   "execution_count": 109,
   "metadata": {},
   "outputs": [
    {
     "data": {
      "text/plain": [
       "(0.9099999999999999, 0.7800000000000001)"
      ]
     },
     "execution_count": 109,
     "metadata": {},
     "output_type": "execute_result"
    }
   ],
   "source": [
    "text_blob = TextBlob(frase_teste)\n",
    "polaridade = text_blob.polarity\n",
    "subjetividade = text_blob.subjectivity\n",
    "\n",
    "polaridade, subjetividade"
   ]
  },
  {
   "cell_type": "code",
   "execution_count": 110,
   "metadata": {},
   "outputs": [],
   "source": [
    "def polaridade(frase):\n",
    "    frase = frase.lower()                     # coloca toda a frase em minusculo\n",
    "    text_blob = TextBlob(frase)\n",
    "    polaridade = text_blob.polarity\n",
    "    return polaridade\n",
    "\n",
    "def subjetividade(frase):\n",
    "    frase = frase.lower()                     # coloca toda a frase em minusculo\n",
    "    text_blob = TextBlob(frase)\n",
    "    subjetividade = text_blob.subjectivity\n",
    "    return subjetividade"
   ]
  },
  {
   "cell_type": "markdown",
   "metadata": {},
   "source": [
    "### Instanciando calculo de sentimento"
   ]
  },
  {
   "cell_type": "code",
   "execution_count": 111,
   "metadata": {},
   "outputs": [],
   "source": [
    "#pip install vaderSentiment"
   ]
  },
  {
   "cell_type": "code",
   "execution_count": 112,
   "metadata": {},
   "outputs": [],
   "source": [
    "from vaderSentiment.vaderSentiment import SentimentIntensityAnalyzer"
   ]
  },
  {
   "cell_type": "code",
   "execution_count": 113,
   "metadata": {},
   "outputs": [],
   "source": [
    "s_analyze = SentimentIntensityAnalyzer()\n",
    "sentiment= s_analyze.polarity_scores(frase_teste)"
   ]
  },
  {
   "cell_type": "code",
   "execution_count": 114,
   "metadata": {},
   "outputs": [
    {
     "data": {
      "text/plain": [
       "{'neg': 0.0, 'neu': 0.556, 'pos': 0.444, 'compound': 0.4927}"
      ]
     },
     "execution_count": 114,
     "metadata": {},
     "output_type": "execute_result"
    }
   ],
   "source": [
    "sentiment"
   ]
  },
  {
   "cell_type": "code",
   "execution_count": 115,
   "metadata": {},
   "outputs": [
    {
     "data": {
      "text/plain": [
       "0.556"
      ]
     },
     "execution_count": 115,
     "metadata": {},
     "output_type": "execute_result"
    }
   ],
   "source": [
    "type(sentiment)\n",
    "sentiment.get('neu')"
   ]
  },
  {
   "cell_type": "code",
   "execution_count": 116,
   "metadata": {},
   "outputs": [],
   "source": [
    "def negatividade(frase):\n",
    "    frase = frase.lower()                   # coloca toda a frase em minusculo\n",
    "    s_analyze = SentimentIntensityAnalyzer()\n",
    "    sentiment= s_analyze.polarity_scores(frase)                 \n",
    "    sentimento = sentiment.get('neg')\n",
    "    return sentimento\n",
    "\n",
    "def neutralidade(frase):\n",
    "    frase = frase.lower()                   # coloca toda a frase em minusculo\n",
    "    s_analyze = SentimentIntensityAnalyzer()\n",
    "    sentiment= s_analyze.polarity_scores(frase)                 \n",
    "    sentimento = sentiment.get('neu')\n",
    "    return sentimento\n",
    "\n",
    "def positividade(frase):\n",
    "    frase = frase.lower()                   # coloca toda a frase em minusculo\n",
    "    s_analyze = SentimentIntensityAnalyzer()\n",
    "    sentiment= s_analyze.polarity_scores(frase)                 \n",
    "    sentimento = sentiment.get('pos')\n",
    "    return sentimento\n",
    "\n",
    "def composicao(frase):\n",
    "    frase = frase.lower()                   # coloca toda a frase em minusculo\n",
    "    s_analyze = SentimentIntensityAnalyzer()\n",
    "    sentiment= s_analyze.polarity_scores(frase)                 \n",
    "    sentimento = sentiment.get('compound')\n",
    "    return sentimento"
   ]
  },
  {
   "cell_type": "code",
   "execution_count": 140,
   "metadata": {},
   "outputs": [],
   "source": [
    "#df_final3 = df_final.copy()\n",
    "df_final3 = df_final.copy()"
   ]
  },
  {
   "cell_type": "code",
   "execution_count": 167,
   "metadata": {},
   "outputs": [
    {
     "data": {
      "text/plain": [
       "219"
      ]
     },
     "execution_count": 167,
     "metadata": {},
     "output_type": "execute_result"
    }
   ],
   "source": [
    "len(df_final3)"
   ]
  },
  {
   "cell_type": "markdown",
   "metadata": {},
   "source": [
    "# 2º Alteraçoes Lenon"
   ]
  },
  {
   "cell_type": "code",
   "execution_count": 168,
   "metadata": {},
   "outputs": [],
   "source": [
    "df_final3.dropna(subset=['Noticias'], inplace=True)"
   ]
  },
  {
   "cell_type": "code",
   "execution_count": 187,
   "metadata": {},
   "outputs": [],
   "source": [
    "df_final3 = df_final3[df_final3['Noticias']!='']"
   ]
  },
  {
   "cell_type": "code",
   "execution_count": 193,
   "metadata": {},
   "outputs": [
    {
     "data": {
      "text/plain": [
       "217"
      ]
     },
     "execution_count": 193,
     "metadata": {},
     "output_type": "execute_result"
    }
   ],
   "source": [
    "len(df_final3)"
   ]
  },
  {
   "cell_type": "code",
   "execution_count": 190,
   "metadata": {},
   "outputs": [],
   "source": [
    "df_final3.reset_index(inplace=True)"
   ]
  },
  {
   "cell_type": "code",
   "execution_count": 195,
   "metadata": {},
   "outputs": [
    {
     "name": "stderr",
     "output_type": "stream",
     "text": [
      "C:\\Users\\lenon.oliveira\\AppData\\Local\\Temp\\ipykernel_19120\\3030430285.py:1: SettingWithCopyWarning: \n",
      "A value is trying to be set on a copy of a slice from a DataFrame\n",
      "\n",
      "See the caveats in the documentation: https://pandas.pydata.org/pandas-docs/stable/user_guide/indexing.html#returning-a-view-versus-a-copy\n",
      "  df_final3.drop(['index'], axis = 1, inplace = True)\n"
     ]
    }
   ],
   "source": [
    "df_final3.drop(['index'], axis = 1, inplace = True) "
   ]
  },
  {
   "cell_type": "code",
   "execution_count": 202,
   "metadata": {},
   "outputs": [],
   "source": [
    "import time"
   ]
  },
  {
   "cell_type": "code",
   "execution_count": 203,
   "metadata": {
    "scrolled": true
   },
   "outputs": [
    {
     "name": "stderr",
     "output_type": "stream",
     "text": [
      "C:\\Users\\lenon.oliveira\\AppData\\Local\\Temp\\ipykernel_19120\\4265196471.py:3: SettingWithCopyWarning: \n",
      "A value is trying to be set on a copy of a slice from a DataFrame\n",
      "\n",
      "See the caveats in the documentation: https://pandas.pydata.org/pandas-docs/stable/user_guide/indexing.html#returning-a-view-versus-a-copy\n",
      "  df_final3['Noticias'][i] = trans.translate(df_final3['Noticias'][i]).text\n"
     ]
    }
   ],
   "source": [
    "for i in range(0, len(df_final3['Noticias'])):\n",
    "    if len(df_final3['Noticias'][i])>0:\n",
    "        df_final3['Noticias'][i] = trans.translate(df_final3['Noticias'][i]).text\n",
    "        time.sleep(2)\n",
    "        \n"
   ]
  },
  {
   "cell_type": "markdown",
   "metadata": {},
   "source": [
    "# Fim 2º Alteraçoes Lenon"
   ]
  },
  {
   "cell_type": "code",
   "execution_count": 205,
   "metadata": {},
   "outputs": [
    {
     "name": "stderr",
     "output_type": "stream",
     "text": [
      "C:\\Users\\lenon.oliveira\\AppData\\Local\\Temp\\ipykernel_19120\\392382725.py:1: SettingWithCopyWarning: \n",
      "A value is trying to be set on a copy of a slice from a DataFrame.\n",
      "Try using .loc[row_indexer,col_indexer] = value instead\n",
      "\n",
      "See the caveats in the documentation: https://pandas.pydata.org/pandas-docs/stable/user_guide/indexing.html#returning-a-view-versus-a-copy\n",
      "  df_final3['polaridade'] = df_final3['Noticias'].apply(lambda x: polaridade(x))\n",
      "C:\\Users\\lenon.oliveira\\AppData\\Local\\Temp\\ipykernel_19120\\392382725.py:2: SettingWithCopyWarning: \n",
      "A value is trying to be set on a copy of a slice from a DataFrame.\n",
      "Try using .loc[row_indexer,col_indexer] = value instead\n",
      "\n",
      "See the caveats in the documentation: https://pandas.pydata.org/pandas-docs/stable/user_guide/indexing.html#returning-a-view-versus-a-copy\n",
      "  df_final3['subjetividade'] = df_final3['Noticias'].apply(lambda x: subjetividade(x))\n",
      "C:\\Users\\lenon.oliveira\\AppData\\Local\\Temp\\ipykernel_19120\\392382725.py:3: SettingWithCopyWarning: \n",
      "A value is trying to be set on a copy of a slice from a DataFrame.\n",
      "Try using .loc[row_indexer,col_indexer] = value instead\n",
      "\n",
      "See the caveats in the documentation: https://pandas.pydata.org/pandas-docs/stable/user_guide/indexing.html#returning-a-view-versus-a-copy\n",
      "  df_final3['negatividade'] = df_final3['Noticias'].apply(lambda x: negatividade(x))\n",
      "C:\\Users\\lenon.oliveira\\AppData\\Local\\Temp\\ipykernel_19120\\392382725.py:4: SettingWithCopyWarning: \n",
      "A value is trying to be set on a copy of a slice from a DataFrame.\n",
      "Try using .loc[row_indexer,col_indexer] = value instead\n",
      "\n",
      "See the caveats in the documentation: https://pandas.pydata.org/pandas-docs/stable/user_guide/indexing.html#returning-a-view-versus-a-copy\n",
      "  df_final3['neutralidade'] = df_final3['Noticias'].apply(lambda x: neutralidade(x))\n",
      "C:\\Users\\lenon.oliveira\\AppData\\Local\\Temp\\ipykernel_19120\\392382725.py:5: SettingWithCopyWarning: \n",
      "A value is trying to be set on a copy of a slice from a DataFrame.\n",
      "Try using .loc[row_indexer,col_indexer] = value instead\n",
      "\n",
      "See the caveats in the documentation: https://pandas.pydata.org/pandas-docs/stable/user_guide/indexing.html#returning-a-view-versus-a-copy\n",
      "  df_final3['positividade'] = df_final3['Noticias'].apply(lambda x: positividade(x))\n",
      "C:\\Users\\lenon.oliveira\\AppData\\Local\\Temp\\ipykernel_19120\\392382725.py:6: SettingWithCopyWarning: \n",
      "A value is trying to be set on a copy of a slice from a DataFrame.\n",
      "Try using .loc[row_indexer,col_indexer] = value instead\n",
      "\n",
      "See the caveats in the documentation: https://pandas.pydata.org/pandas-docs/stable/user_guide/indexing.html#returning-a-view-versus-a-copy\n",
      "  df_final3['composicao'] = df_final3['Noticias'].apply(lambda x: composicao(x))\n"
     ]
    },
    {
     "data": {
      "text/html": [
       "<div>\n",
       "<style scoped>\n",
       "    .dataframe tbody tr th:only-of-type {\n",
       "        vertical-align: middle;\n",
       "    }\n",
       "\n",
       "    .dataframe tbody tr th {\n",
       "        vertical-align: top;\n",
       "    }\n",
       "\n",
       "    .dataframe thead th {\n",
       "        text-align: right;\n",
       "    }\n",
       "</style>\n",
       "<table border=\"1\" class=\"dataframe\">\n",
       "  <thead>\n",
       "    <tr style=\"text-align: right;\">\n",
       "      <th></th>\n",
       "      <th>Date</th>\n",
       "      <th>Adj Close</th>\n",
       "      <th>Volume</th>\n",
       "      <th>Var%</th>\n",
       "      <th>Fechamento</th>\n",
       "      <th>Noticias</th>\n",
       "      <th>polaridade</th>\n",
       "      <th>subjetividade</th>\n",
       "      <th>negatividade</th>\n",
       "      <th>neutralidade</th>\n",
       "      <th>positividade</th>\n",
       "      <th>composicao</th>\n",
       "    </tr>\n",
       "  </thead>\n",
       "  <tbody>\n",
       "    <tr>\n",
       "      <th>0</th>\n",
       "      <td>2021-01-04</td>\n",
       "      <td>19.274340</td>\n",
       "      <td>74719700</td>\n",
       "      <td>0.020113</td>\n",
       "      <td>1</td>\n",
       "      <td>TCU Evaluates Barrar Petrobras Refinery Sale t...</td>\n",
       "      <td>0.000000</td>\n",
       "      <td>0.000000</td>\n",
       "      <td>0.196</td>\n",
       "      <td>0.804</td>\n",
       "      <td>0.000</td>\n",
       "      <td>-0.7783</td>\n",
       "    </tr>\n",
       "    <tr>\n",
       "      <th>1</th>\n",
       "      <td>2021-01-05</td>\n",
       "      <td>20.027718</td>\n",
       "      <td>95181100</td>\n",
       "      <td>0.039087</td>\n",
       "      <td>1</td>\n",
       "      <td>Petrbras (Petr4) Starts Hiring Ninth Unit of C...</td>\n",
       "      <td>0.000000</td>\n",
       "      <td>0.000000</td>\n",
       "      <td>0.000</td>\n",
       "      <td>1.000</td>\n",
       "      <td>0.000</td>\n",
       "      <td>0.0000</td>\n",
       "    </tr>\n",
       "    <tr>\n",
       "      <th>2</th>\n",
       "      <td>2021-01-06</td>\n",
       "      <td>20.067719</td>\n",
       "      <td>96562500</td>\n",
       "      <td>0.001997</td>\n",
       "      <td>1</td>\n",
       "      <td>Petrobras Refinery Sale Value is questioned in...</td>\n",
       "      <td>0.150000</td>\n",
       "      <td>0.350000</td>\n",
       "      <td>0.020</td>\n",
       "      <td>0.917</td>\n",
       "      <td>0.063</td>\n",
       "      <td>0.4404</td>\n",
       "    </tr>\n",
       "    <tr>\n",
       "      <th>3</th>\n",
       "      <td>2021-01-07</td>\n",
       "      <td>20.667747</td>\n",
       "      <td>56171300</td>\n",
       "      <td>0.029900</td>\n",
       "      <td>1</td>\n",
       "      <td>Petrobras confirms the sale of the slice on BR...</td>\n",
       "      <td>0.000000</td>\n",
       "      <td>0.000000</td>\n",
       "      <td>0.051</td>\n",
       "      <td>0.924</td>\n",
       "      <td>0.025</td>\n",
       "      <td>-0.3182</td>\n",
       "    </tr>\n",
       "    <tr>\n",
       "      <th>4</th>\n",
       "      <td>2021-01-11</td>\n",
       "      <td>20.574409</td>\n",
       "      <td>48744700</td>\n",
       "      <td>-0.008355</td>\n",
       "      <td>0</td>\n",
       "      <td>Silva and Luna 'militariza' Petrobras Summit P...</td>\n",
       "      <td>0.085000</td>\n",
       "      <td>0.378333</td>\n",
       "      <td>0.041</td>\n",
       "      <td>0.901</td>\n",
       "      <td>0.057</td>\n",
       "      <td>0.1901</td>\n",
       "    </tr>\n",
       "    <tr>\n",
       "      <th>...</th>\n",
       "      <td>...</td>\n",
       "      <td>...</td>\n",
       "      <td>...</td>\n",
       "      <td>...</td>\n",
       "      <td>...</td>\n",
       "      <td>...</td>\n",
       "      <td>...</td>\n",
       "      <td>...</td>\n",
       "      <td>...</td>\n",
       "      <td>...</td>\n",
       "      <td>...</td>\n",
       "      <td>...</td>\n",
       "    </tr>\n",
       "    <tr>\n",
       "      <th>212</th>\n",
       "      <td>2021-12-23</td>\n",
       "      <td>23.237993</td>\n",
       "      <td>28713600</td>\n",
       "      <td>0.006037</td>\n",
       "      <td>1</td>\n",
       "      <td>Petrobras program that reinforces supplier wor...</td>\n",
       "      <td>0.367273</td>\n",
       "      <td>0.430909</td>\n",
       "      <td>0.000</td>\n",
       "      <td>0.938</td>\n",
       "      <td>0.062</td>\n",
       "      <td>0.5256</td>\n",
       "    </tr>\n",
       "    <tr>\n",
       "      <th>213</th>\n",
       "      <td>2021-12-27</td>\n",
       "      <td>23.582502</td>\n",
       "      <td>44227900</td>\n",
       "      <td>0.014825</td>\n",
       "      <td>1</td>\n",
       "      <td>Petrobras sells Carmópolis for $ 1.1 billion P...</td>\n",
       "      <td>0.221818</td>\n",
       "      <td>0.499394</td>\n",
       "      <td>0.098</td>\n",
       "      <td>0.804</td>\n",
       "      <td>0.098</td>\n",
       "      <td>-0.2382</td>\n",
       "    </tr>\n",
       "    <tr>\n",
       "      <th>214</th>\n",
       "      <td>2021-12-28</td>\n",
       "      <td>23.607111</td>\n",
       "      <td>30688100</td>\n",
       "      <td>0.001044</td>\n",
       "      <td>1</td>\n",
       "      <td>Gas distributors of 5 states go to court again...</td>\n",
       "      <td>0.466667</td>\n",
       "      <td>0.600000</td>\n",
       "      <td>0.000</td>\n",
       "      <td>0.928</td>\n",
       "      <td>0.072</td>\n",
       "      <td>0.7579</td>\n",
       "    </tr>\n",
       "    <tr>\n",
       "      <th>215</th>\n",
       "      <td>2021-12-29</td>\n",
       "      <td>23.410248</td>\n",
       "      <td>35508400</td>\n",
       "      <td>-0.008339</td>\n",
       "      <td>0</td>\n",
       "      <td>Petrobras will appeal a decision that suspends...</td>\n",
       "      <td>0.185714</td>\n",
       "      <td>0.395238</td>\n",
       "      <td>0.016</td>\n",
       "      <td>0.839</td>\n",
       "      <td>0.145</td>\n",
       "      <td>0.9099</td>\n",
       "    </tr>\n",
       "    <tr>\n",
       "      <th>216</th>\n",
       "      <td>2021-12-30</td>\n",
       "      <td>23.336424</td>\n",
       "      <td>43229100</td>\n",
       "      <td>-0.003153</td>\n",
       "      <td>0</td>\n",
       "      <td>Judicialization puts gas market at risk, says ...</td>\n",
       "      <td>0.050000</td>\n",
       "      <td>0.600000</td>\n",
       "      <td>0.046</td>\n",
       "      <td>0.911</td>\n",
       "      <td>0.043</td>\n",
       "      <td>-0.0516</td>\n",
       "    </tr>\n",
       "  </tbody>\n",
       "</table>\n",
       "<p>217 rows × 12 columns</p>\n",
       "</div>"
      ],
      "text/plain": [
       "          Date  Adj Close    Volume      Var%  Fechamento  \\\n",
       "0   2021-01-04  19.274340  74719700  0.020113           1   \n",
       "1   2021-01-05  20.027718  95181100  0.039087           1   \n",
       "2   2021-01-06  20.067719  96562500  0.001997           1   \n",
       "3   2021-01-07  20.667747  56171300  0.029900           1   \n",
       "4   2021-01-11  20.574409  48744700 -0.008355           0   \n",
       "..         ...        ...       ...       ...         ...   \n",
       "212 2021-12-23  23.237993  28713600  0.006037           1   \n",
       "213 2021-12-27  23.582502  44227900  0.014825           1   \n",
       "214 2021-12-28  23.607111  30688100  0.001044           1   \n",
       "215 2021-12-29  23.410248  35508400 -0.008339           0   \n",
       "216 2021-12-30  23.336424  43229100 -0.003153           0   \n",
       "\n",
       "                                              Noticias  polaridade  \\\n",
       "0    TCU Evaluates Barrar Petrobras Refinery Sale t...    0.000000   \n",
       "1    Petrbras (Petr4) Starts Hiring Ninth Unit of C...    0.000000   \n",
       "2    Petrobras Refinery Sale Value is questioned in...    0.150000   \n",
       "3    Petrobras confirms the sale of the slice on BR...    0.000000   \n",
       "4    Silva and Luna 'militariza' Petrobras Summit P...    0.085000   \n",
       "..                                                 ...         ...   \n",
       "212  Petrobras program that reinforces supplier wor...    0.367273   \n",
       "213  Petrobras sells Carmópolis for $ 1.1 billion P...    0.221818   \n",
       "214  Gas distributors of 5 states go to court again...    0.466667   \n",
       "215  Petrobras will appeal a decision that suspends...    0.185714   \n",
       "216  Judicialization puts gas market at risk, says ...    0.050000   \n",
       "\n",
       "     subjetividade  negatividade  neutralidade  positividade  composicao  \n",
       "0         0.000000         0.196         0.804         0.000     -0.7783  \n",
       "1         0.000000         0.000         1.000         0.000      0.0000  \n",
       "2         0.350000         0.020         0.917         0.063      0.4404  \n",
       "3         0.000000         0.051         0.924         0.025     -0.3182  \n",
       "4         0.378333         0.041         0.901         0.057      0.1901  \n",
       "..             ...           ...           ...           ...         ...  \n",
       "212       0.430909         0.000         0.938         0.062      0.5256  \n",
       "213       0.499394         0.098         0.804         0.098     -0.2382  \n",
       "214       0.600000         0.000         0.928         0.072      0.7579  \n",
       "215       0.395238         0.016         0.839         0.145      0.9099  \n",
       "216       0.600000         0.046         0.911         0.043     -0.0516  \n",
       "\n",
       "[217 rows x 12 columns]"
      ]
     },
     "execution_count": 205,
     "metadata": {},
     "output_type": "execute_result"
    }
   ],
   "source": [
    "df_final3['polaridade'] = df_final3['Noticias'].apply(lambda x: polaridade(x))\n",
    "df_final3['subjetividade'] = df_final3['Noticias'].apply(lambda x: subjetividade(x))\n",
    "df_final3['negatividade'] = df_final3['Noticias'].apply(lambda x: negatividade(x))\n",
    "df_final3['neutralidade'] = df_final3['Noticias'].apply(lambda x: neutralidade(x))\n",
    "df_final3['positividade'] = df_final3['Noticias'].apply(lambda x: positividade(x))\n",
    "df_final3['composicao'] = df_final3['Noticias'].apply(lambda x: composicao(x))\n",
    "df_final3"
   ]
  },
  {
   "cell_type": "markdown",
   "metadata": {},
   "source": [
    "# 5.3 Tradução e aplicação do modelo pré-treinado de Roberta\n",
    "https://www.kaggle.com/code/robikscube/sentiment-analysis-python-youtube-tutorial/notebook"
   ]
  },
  {
   "cell_type": "code",
   "execution_count": null,
   "metadata": {},
   "outputs": [],
   "source": [
    "#pip install –upgrade pip"
   ]
  },
  {
   "cell_type": "code",
   "execution_count": null,
   "metadata": {},
   "outputs": [],
   "source": [
    "#pip install tensorflow"
   ]
  },
  {
   "cell_type": "code",
   "execution_count": null,
   "metadata": {},
   "outputs": [],
   "source": [
    "#pip install transformers"
   ]
  },
  {
   "cell_type": "code",
   "execution_count": null,
   "metadata": {},
   "outputs": [],
   "source": [
    "#pip install torch"
   ]
  },
  {
   "cell_type": "code",
   "execution_count": null,
   "metadata": {},
   "outputs": [],
   "source": [
    "from transformers import AutoTokenizer\n",
    "from transformers import AutoModelForSequenceClassification\n",
    "from scipy.special import softmax"
   ]
  },
  {
   "cell_type": "code",
   "execution_count": null,
   "metadata": {},
   "outputs": [],
   "source": [
    "MODEL = f\"cardiffnlp/twitter-roberta-base-sentiment\"\n",
    "tokenizer = AutoTokenizer.from_pretrained(MODEL)\n",
    "model = AutoModelForSequenceClassification.from_pretrained(MODEL)"
   ]
  },
  {
   "cell_type": "code",
   "execution_count": null,
   "metadata": {},
   "outputs": [],
   "source": [
    "example = \"This oatmeal is not good. Its mushy, soft, I don't like it. Quaker Oats is the way to go.\""
   ]
  },
  {
   "cell_type": "code",
   "execution_count": null,
   "metadata": {},
   "outputs": [],
   "source": [
    "def neg_rob(frase):\n",
    "    #trunca a frase para 514 caracteres (máximo suportado pelo modelo de Roberta)\n",
    "    frase = frase[:514]\n",
    "    \n",
    "    encoded_text = tokenizer(frase, return_tensors='pt')\n",
    "    output = model(**encoded_text)\n",
    "    scores = output[0][0].detach().numpy()\n",
    "    scores = softmax(scores)\n",
    "\n",
    "    neg_roberta = scores[0]\n",
    "   # neu_roberta = scores[1]\n",
    "   # pos_roberta = scores[2]\n",
    "    return neg_roberta\n",
    "\n",
    "def neu_rob(frase):\n",
    "    #trunca a frase para 514 caracteres (máximo suportado pelo modelo de Roberta)\n",
    "    frase = frase[:514]\n",
    "    \n",
    "    encoded_text = tokenizer(frase, return_tensors='pt')\n",
    "    output = model(**encoded_text)\n",
    "    scores = output[0][0].detach().numpy()\n",
    "    scores = softmax(scores)\n",
    "\n",
    "    #neg_roberta = scores[0]\n",
    "    neu_roberta = scores[1]\n",
    "    #pos_roberta = scores[2]\n",
    "    return neu_roberta\n",
    "\n",
    "def pos_rob(frase):\n",
    "    #trunca a frase para 514 caracteres (máximo suportado pelo modelo de Roberta)\n",
    "    frase = frase[:514]\n",
    "    \n",
    "    encoded_text = tokenizer(frase, return_tensors='pt')\n",
    "    output = model(**encoded_text)\n",
    "    scores = output[0][0].detach().numpy()\n",
    "    scores = softmax(scores)\n",
    "\n",
    "    #neg_roberta = scores[0]\n",
    "    #neu_roberta = scores[1]\n",
    "    pos_roberta = scores[2]\n",
    "    return pos_roberta\n",
    "    "
   ]
  },
  {
   "cell_type": "code",
   "execution_count": null,
   "metadata": {},
   "outputs": [],
   "source": [
    "df_final4 = df_final.copy()"
   ]
  },
  {
   "cell_type": "code",
   "execution_count": null,
   "metadata": {},
   "outputs": [],
   "source": [
    "#df_final4['Noticias'] = df_final4['Noticias'].apply(lambda x: traduzir(x))"
   ]
  },
  {
   "cell_type": "code",
   "execution_count": null,
   "metadata": {},
   "outputs": [],
   "source": [
    "df_final4['Noticias'] = df_final3['Noticias']\n",
    "df_final4.head()"
   ]
  },
  {
   "cell_type": "code",
   "execution_count": null,
   "metadata": {},
   "outputs": [],
   "source": [
    "df_final4['neg_rob'] = df_final4['Noticias'].apply(lambda x: neg_rob(x))\n",
    "df_final4['neu_rob'] = df_final4['Noticias'].apply(lambda x: neu_rob(x))\n",
    "df_final4['pos_rob'] = df_final4['Noticias'].apply(lambda x: pos_rob(x))\n",
    "df_final4"
   ]
  },
  {
   "cell_type": "markdown",
   "metadata": {},
   "source": [
    "# 6.0 Machine Learning: Testes inicias com seleção de features e classificação com algorítmos ingênuos."
   ]
  },
  {
   "cell_type": "markdown",
   "metadata": {},
   "source": [
    "## 6.1 SentilexPT"
   ]
  },
  {
   "cell_type": "code",
   "execution_count": null,
   "metadata": {},
   "outputs": [],
   "source": [
    "from sklearn.model_selection import train_test_split\n",
    "from lazypredict.Supervised import LazyClassifier\n"
   ]
  },
  {
   "cell_type": "code",
   "execution_count": null,
   "metadata": {},
   "outputs": [],
   "source": [
    "X = df_final2.drop(columns=['Date', 'Adj Close', 'Volume', 'Var%', 'Fechamento', 'Noticias','Sentimento'])\n",
    "y = df_final2['Fechamento']\n",
    "\n",
    "X_train, X_test, y_train, y_test = train_test_split(X, y, test_size=0.3, random_state=1, stratify=y)"
   ]
  },
  {
   "cell_type": "code",
   "execution_count": null,
   "metadata": {},
   "outputs": [],
   "source": [
    "X_train"
   ]
  },
  {
   "cell_type": "code",
   "execution_count": null,
   "metadata": {},
   "outputs": [],
   "source": [
    "clf = LazyClassifier(verbose=0,ignore_warnings=True, custom_metric=None)\n",
    "models,predictions = clf.fit(X_train, X_test, y_train, y_test)\n",
    "print(models)"
   ]
  },
  {
   "cell_type": "markdown",
   "metadata": {},
   "source": [
    "A acurácia dos top 5 algorítmos variou de 65% á 59%\n",
    "- DummyClassifier\n",
    "- QuadraticDiscriminantAnalysis      \n",
    "- GaussianNB  \n",
    "- LinearSVC    \n",
    "- LinearDiscriminantAnalysis"
   ]
  },
  {
   "cell_type": "markdown",
   "metadata": {},
   "source": [
    "## 6.2 Tradução + Vader Sentiment"
   ]
  },
  {
   "cell_type": "code",
   "execution_count": null,
   "metadata": {},
   "outputs": [],
   "source": [
    "from sklearn.model_selection import train_test_split\n",
    "from lazypredict.Supervised import LazyClassifier"
   ]
  },
  {
   "cell_type": "code",
   "execution_count": null,
   "metadata": {},
   "outputs": [],
   "source": [
    "X = df_final3.drop(columns=['Date', 'Adj Close', 'Volume', 'Var%', 'Fechamento', 'Noticias'])\n",
    "y = df_final3['Fechamento']\n",
    "\n",
    "X_train, X_test, y_train, y_test = train_test_split(X, y, test_size=0.3, random_state=1, stratify=y)"
   ]
  },
  {
   "cell_type": "code",
   "execution_count": null,
   "metadata": {},
   "outputs": [],
   "source": [
    "X_train"
   ]
  },
  {
   "cell_type": "code",
   "execution_count": null,
   "metadata": {},
   "outputs": [],
   "source": [
    "clf = LazyClassifier(verbose=0,ignore_warnings=True, custom_metric=None)\n",
    "models,predictions = clf.fit(X_train, X_test, y_train, y_test)\n",
    "print(models)"
   ]
  },
  {
   "cell_type": "markdown",
   "metadata": {},
   "source": [
    "A acurácia dos top 5 algorítmos variou de 65% á 64%\n",
    "- DummyClassifier\n",
    "- XGBClassifier                           \n",
    "- LinearSVC                             \n",
    "- LogisticRegression                     \n",
    "- RidgeClassifier                    "
   ]
  },
  {
   "cell_type": "markdown",
   "metadata": {},
   "source": [
    "## 6.3 Modelo pré-treinado de Roberta"
   ]
  },
  {
   "cell_type": "code",
   "execution_count": null,
   "metadata": {},
   "outputs": [],
   "source": [
    "from sklearn.model_selection import train_test_split\n",
    "from lazypredict.Supervised import LazyClassifier"
   ]
  },
  {
   "cell_type": "code",
   "execution_count": null,
   "metadata": {},
   "outputs": [],
   "source": [
    "X = df_final4.drop(columns=['Date', 'Adj Close', 'Volume', 'Var%', 'Fechamento', 'Noticias'])\n",
    "y = df_final4['Fechamento']\n",
    "\n",
    "X_train, X_test, y_train, y_test = train_test_split(X, y, test_size=0.3, random_state=1, stratify=y)"
   ]
  },
  {
   "cell_type": "code",
   "execution_count": null,
   "metadata": {},
   "outputs": [],
   "source": [
    "X_train"
   ]
  },
  {
   "cell_type": "code",
   "execution_count": null,
   "metadata": {},
   "outputs": [],
   "source": [
    "clf = LazyClassifier(verbose=0,ignore_warnings=True, custom_metric=None)\n",
    "models,predictions = clf.fit(X_train, X_test, y_train, y_test)\n",
    "print(models)"
   ]
  },
  {
   "cell_type": "markdown",
   "metadata": {},
   "source": [
    "A acurácia dos top 5 algorítmos variou de 65% á 52%\n",
    "- DummyClassifier                    \n",
    "- Perceptron                                                    \n",
    "- SGDClassifier                                                   \n",
    "- BernoulliNB                                             \n",
    "- NearestCentroid                        "
   ]
  },
  {
   "cell_type": "markdown",
   "metadata": {},
   "source": [
    "## 6.4 Composição SentilextPT + Tradução & Vader Sentiment"
   ]
  },
  {
   "cell_type": "code",
   "execution_count": null,
   "metadata": {},
   "outputs": [],
   "source": [
    "df_final5 = df_final3.merge(df_final2, how = 'left', on = ['Date', 'Adj Close', 'Volume', 'Var%', 'Fechamento'])\n",
    "df_final5"
   ]
  },
  {
   "cell_type": "code",
   "execution_count": null,
   "metadata": {},
   "outputs": [],
   "source": [
    "X = df_final5.drop(columns=['Date', 'Adj Close', 'Volume', 'Var%', 'Fechamento', 'Noticias_x','Noticias_y','Sentimento'])\n",
    "y = df_final5['Fechamento']\n",
    "\n",
    "X_train, X_test, y_train, y_test = train_test_split(X, y, test_size=0.3, random_state=1, stratify=y)"
   ]
  },
  {
   "cell_type": "code",
   "execution_count": null,
   "metadata": {},
   "outputs": [],
   "source": [
    "X_train"
   ]
  },
  {
   "cell_type": "code",
   "execution_count": null,
   "metadata": {},
   "outputs": [],
   "source": [
    "clf = LazyClassifier(verbose=0,ignore_warnings=True, custom_metric=None)\n",
    "models,predictions = clf.fit(X_train, X_test, y_train, y_test)\n",
    "print(models)"
   ]
  },
  {
   "cell_type": "markdown",
   "metadata": {},
   "source": [
    "A acurácia dos top 5 algorítmos ficou em 68%\n",
    "- ExtraTreesClassifier                                         \n",
    "- LinearSVC                                                 \n",
    "- RidgeClassifierCV                                      \n",
    "- LogisticRegression                     \n",
    "- LinearDiscriminantAnalysis                                 "
   ]
  },
  {
   "cell_type": "markdown",
   "metadata": {},
   "source": [
    "## 6.5 Composição SentilextPT + Tradução & Roberta"
   ]
  },
  {
   "cell_type": "code",
   "execution_count": null,
   "metadata": {},
   "outputs": [],
   "source": [
    "df_final6 = df_final4.merge(df_final2, how = 'left', on = ['Date', 'Adj Close', 'Volume', 'Var%', 'Fechamento'])\n",
    "df_final6"
   ]
  },
  {
   "cell_type": "code",
   "execution_count": null,
   "metadata": {},
   "outputs": [],
   "source": [
    "X = df_final6.drop(columns=['Date', 'Adj Close', 'Volume', 'Var%', 'Fechamento', 'Noticias_x','Noticias_y','Sentimento'])\n",
    "y = df_final6['Fechamento']\n",
    "\n",
    "X_train, X_test, y_train, y_test = train_test_split(X, y, test_size=0.3, random_state=1, stratify=y)"
   ]
  },
  {
   "cell_type": "code",
   "execution_count": null,
   "metadata": {},
   "outputs": [],
   "source": [
    "X_train"
   ]
  },
  {
   "cell_type": "code",
   "execution_count": null,
   "metadata": {},
   "outputs": [],
   "source": [
    "clf = LazyClassifier(verbose=0,ignore_warnings=True, custom_metric=None)\n",
    "models,predictions = clf.fit(X_train, X_test, y_train, y_test)\n",
    "print(models)"
   ]
  },
  {
   "cell_type": "markdown",
   "metadata": {},
   "source": [
    "A acurácia dos top 5 algorítmos variou de 65% á 58%\n",
    "\n",
    "DummyClassifier                    \n",
    "Perceptron                         \n",
    "LinearSVC                          \n",
    "LogisticRegression                 \n",
    "RidgeClassifier                    "
   ]
  },
  {
   "cell_type": "markdown",
   "metadata": {},
   "source": [
    "## 6.6 Composição Tradução & Vader Sentiment + Tradução & Roberta\n"
   ]
  },
  {
   "cell_type": "code",
   "execution_count": null,
   "metadata": {},
   "outputs": [],
   "source": [
    "df_final7 = df_final4.merge(df_final3, how = 'left', on = ['Date', 'Adj Close', 'Volume', 'Var%', 'Fechamento'])\n",
    "df_final7"
   ]
  },
  {
   "cell_type": "code",
   "execution_count": null,
   "metadata": {},
   "outputs": [],
   "source": [
    "X = df_final7.drop(columns=['Date', 'Adj Close', 'Volume', 'Var%', 'Fechamento', 'Noticias_x','Noticias_y'])\n",
    "y = df_final7['Fechamento']\n",
    "\n",
    "X_train, X_test, y_train, y_test = train_test_split(X, y, test_size=0.3, random_state=1, stratify=y)"
   ]
  },
  {
   "cell_type": "code",
   "execution_count": null,
   "metadata": {},
   "outputs": [],
   "source": [
    "X_train"
   ]
  },
  {
   "cell_type": "code",
   "execution_count": null,
   "metadata": {},
   "outputs": [],
   "source": [
    "clf = LazyClassifier(verbose=0,ignore_warnings=True, custom_metric=None)\n",
    "models,predictions = clf.fit(X_train, X_test, y_train, y_test)\n",
    "print(models)"
   ]
  },
  {
   "cell_type": "markdown",
   "metadata": {},
   "source": [
    "A acurácia dos top 5 algorítmos variou de 65% á 61%\n",
    "\n",
    "DummyClassifier                    \n",
    "LinearSVC                                                   \n",
    "LinearDiscriminantAnalysis  \n",
    "RidgeClassifier    \n",
    "LogisticRegression                  "
   ]
  },
  {
   "cell_type": "markdown",
   "metadata": {},
   "source": [
    "## 6.7 Composição SentilexPT + Tradução & Vader Sentiment + Tradução & Roberta\n"
   ]
  },
  {
   "cell_type": "code",
   "execution_count": null,
   "metadata": {},
   "outputs": [],
   "source": [
    "# Sentilex + Vader\n",
    "df_final8 = df_final3.merge(df_final2, how = 'left', on = ['Date', 'Adj Close', 'Volume', 'Var%', 'Fechamento'])\n",
    "df_final8"
   ]
  },
  {
   "cell_type": "code",
   "execution_count": null,
   "metadata": {},
   "outputs": [],
   "source": [
    "# + Roberta\n",
    "df_final8 = df_final8.merge(df_final4, how = 'left', on = ['Date', 'Adj Close', 'Volume', 'Var%', 'Fechamento'])\n",
    "df_final8"
   ]
  },
  {
   "cell_type": "code",
   "execution_count": null,
   "metadata": {},
   "outputs": [],
   "source": []
  },
  {
   "cell_type": "code",
   "execution_count": null,
   "metadata": {},
   "outputs": [],
   "source": [
    "X = df_final8.drop(columns=['Date', 'Adj Close', 'Volume', 'Var%', 'Fechamento', 'Noticias_x','Noticias_y', 'Noticias', 'Sentimento'])\n",
    "y = df_final8['Fechamento']\n",
    "\n",
    "X_train, X_test, y_train, y_test = train_test_split(X, y, test_size=0.3, random_state=1, stratify=y)"
   ]
  },
  {
   "cell_type": "code",
   "execution_count": null,
   "metadata": {},
   "outputs": [],
   "source": [
    "X_train"
   ]
  },
  {
   "cell_type": "code",
   "execution_count": null,
   "metadata": {},
   "outputs": [],
   "source": [
    "clf = LazyClassifier(verbose=0,ignore_warnings=True, custom_metric=None)\n",
    "models,predictions = clf.fit(X_train, X_test, y_train, y_test)\n",
    "print(models)"
   ]
  },
  {
   "cell_type": "markdown",
   "metadata": {},
   "source": [
    "A acurácia dos top 5 algorítmos variou de 67% á 64%\n",
    "\n",
    "CalibratedClassifierCV                                 \n",
    "LogisticRegression                                                                    \n",
    "RidgeClassifierCV                    \n",
    "DummyClassifier                        \n",
    "LinearSVC                             "
   ]
  },
  {
   "cell_type": "markdown",
   "metadata": {},
   "source": [
    "## 6.8 Composição SentilexPT + Tradução & Vader Sentiment + Tradução & Roberta com Diminuição de dimensionalidade e Normalização"
   ]
  },
  {
   "cell_type": "code",
   "execution_count": null,
   "metadata": {},
   "outputs": [],
   "source": [
    "from sklearn.decomposition import PCA\n",
    "from sklearn.preprocessing import StandardScaler"
   ]
  },
  {
   "cell_type": "code",
   "execution_count": null,
   "metadata": {},
   "outputs": [],
   "source": [
    "df_models = pd.DataFrame()\n",
    "\n",
    "X = df_final8.drop(columns=['Date', 'Adj Close', 'Volume', 'Var%', 'Fechamento', 'Noticias_x','Noticias_y', 'Noticias', 'Sentimento'])\n",
    "y = df_final8['Fechamento']\n",
    "    \n",
    "## Laço para experimentações com diversos numeros de PCA (de 2 á 9)\n",
    "for i in range(2,len(X.columns),1):\n",
    "    print(\"Testando com PCA = %s!\" % i)\n",
    "    #Holdout\n",
    "    x_train, x_test, y_train, y_test = train_test_split(X, y, test_size=0.3, random_state=1) ### \n",
    "    \n",
    "    #Aplicando PCA\n",
    "    pca = PCA(n_components=i)\n",
    "    x_train = pca.fit_transform(x_train)\n",
    "    x_test = pca.fit_transform(x_test)\n",
    "\n",
    "    # normalizando os dados de treino e teste\n",
    "    scaler_train = StandardScaler()\n",
    "    scaler_test = StandardScaler()\n",
    "\n",
    "    scaler_train.fit(x_train)\n",
    "    scaler_test.fit(x_test)\n",
    "\n",
    "    x_train_normalized = scaler_train.transform(x_train)\n",
    "    x_test_normalized = scaler_test.transform(x_test)\n",
    "\n",
    "    #Testando os modelos\n",
    "    reg = LazyClassifier(verbose=0,ignore_warnings=True, custom_metric=None)\n",
    "    models, predictions = reg.fit(x_train_normalized, x_test_normalized, y_train, y_test)\n",
    "    models['n_PCA'] = i\n",
    "\n",
    "    # Armazenando os 5 melhores modelos (Maiores Acurácia)\n",
    "    df_models = df_models.append(models.reset_index().sort_values(by='Accuracy', ascending=False).head(5), ignore_index=True)"
   ]
  },
  {
   "cell_type": "code",
   "execution_count": null,
   "metadata": {},
   "outputs": [],
   "source": [
    "df_models.sort_values(by='Accuracy', ascending=False)"
   ]
  },
  {
   "cell_type": "markdown",
   "metadata": {},
   "source": [
    "A acurácia dos top 5 algorítmos ficou em 59%\n",
    "\n",
    "SGDClassifier com 2 features reduzidas  \n",
    "SGDClassifier com 5 features reduzidas\n",
    "CalibratedClassifierCV com 9 features reduzidas  \n",
    "SGDClassifier com 9 features reduzidas  \n",
    "CalibratedClassifierCV com 8 features reduzidas"
   ]
  },
  {
   "cell_type": "markdown",
   "metadata": {},
   "source": [
    "## 6.9 Composição SentilexPT + Tradução & Vader Sentiment + Tradução & Roberta com Diminuição de dimensionalidade e SEM Normalização"
   ]
  },
  {
   "cell_type": "code",
   "execution_count": null,
   "metadata": {},
   "outputs": [],
   "source": [
    "df_models = pd.DataFrame()\n",
    "\n",
    "X = df_final8.drop(columns=['Date', 'Adj Close', 'Volume', 'Var%', 'Fechamento', 'Noticias_x','Noticias_y', 'Noticias', 'Sentimento'])\n",
    "y = df_final8['Fechamento']\n",
    "    \n",
    "## Laço para experimentações com diversos numeros de PCA (de 2 á 9)\n",
    "for i in range(2,len(X.columns),1):\n",
    "    print(\"Testando com PCA = %s!\" % i)\n",
    "    #Holdout\n",
    "    x_train, x_test, y_train, y_test = train_test_split(X, y, test_size=0.3, random_state=1) ### \n",
    "    \n",
    "    #Aplicando PCA\n",
    "    pca = PCA(n_components=i)\n",
    "    x_train = pca.fit_transform(x_train)\n",
    "    x_test = pca.fit_transform(x_test)\n",
    "\n",
    "    #Testando os modelos\n",
    "    reg = LazyClassifier(verbose=0,ignore_warnings=True, custom_metric=None)\n",
    "    models, predictions = reg.fit(x_train, x_test, y_train, y_test)\n",
    "    models['n_PCA'] = i\n",
    "\n",
    "    # Armazenando os 5 melhores modelos (top 5 Maiores Acurácia)\n",
    "    df_models = df_models.append(models.reset_index().sort_values(by='Accuracy', ascending=False).head(5), ignore_index=True)"
   ]
  },
  {
   "cell_type": "code",
   "execution_count": null,
   "metadata": {},
   "outputs": [],
   "source": [
    "df_models.sort_values(by='Accuracy', ascending=False)"
   ]
  },
  {
   "cell_type": "markdown",
   "metadata": {},
   "source": [
    "A acurácia dos top 5 algorítmos variou de 59% a 58%\n",
    "\n",
    "PassiveAggressiveClassifier com 3 features reduzidas  \n",
    "Perceptron com 8 features reduzidas\n",
    "Perceptron com 7 features reduzidas  \n",
    "XGBClassifier com 2 features reduzidas  \n",
    "CalibratedClassifierCV com 9 features reduzidas"
   ]
  },
  {
   "cell_type": "markdown",
   "metadata": {},
   "source": [
    "## 6.10 Composição SentilextPT + Tradução & Vader Sentiment com Diminuição de dimensionalidade e Normalização"
   ]
  },
  {
   "cell_type": "code",
   "execution_count": null,
   "metadata": {},
   "outputs": [],
   "source": [
    "df_models = pd.DataFrame()\n",
    "\n",
    "X = df_final5.drop(columns=['Date', 'Adj Close', 'Volume', 'Var%', 'Fechamento', 'Noticias_x','Noticias_y','Sentimento'])\n",
    "y = df_final5['Fechamento']\n",
    " \n",
    "## Laço para experimentações com diversos numeros de PCA (de 2 á 6)\n",
    "for i in range(2,len(X.columns),1):\n",
    "    print(\"Testando com PCA = %s!\" % i)\n",
    "    #Holdout\n",
    "    x_train, x_test, y_train, y_test = train_test_split(X, y, test_size=0.3, random_state=1) ### \n",
    "    \n",
    "    #Aplicando PCA\n",
    "    pca = PCA(n_components=i)\n",
    "    x_train = pca.fit_transform(x_train)\n",
    "    x_test = pca.fit_transform(x_test)\n",
    "\n",
    "    # normalizando os dados de treino e teste\n",
    "    scaler_train = StandardScaler()\n",
    "    scaler_test = StandardScaler()\n",
    "\n",
    "    scaler_train.fit(x_train)\n",
    "    scaler_test.fit(x_test)\n",
    "\n",
    "    x_train_normalized = scaler_train.transform(x_train)\n",
    "    x_test_normalized = scaler_test.transform(x_test)\n",
    "\n",
    "    #Testando os modelos\n",
    "    reg = LazyClassifier(verbose=0,ignore_warnings=True, custom_metric=None)\n",
    "    models, predictions = reg.fit(x_train_normalized, x_test_normalized, y_train, y_test)\n",
    "    models['n_PCA'] = i\n",
    "\n",
    "    # Armazenando os 5 melhores modelos (Maiores Acurácia)\n",
    "    df_models = df_models.append(models.reset_index().sort_values(by='Accuracy', ascending=False).head(5), ignore_index=True)"
   ]
  },
  {
   "cell_type": "code",
   "execution_count": null,
   "metadata": {},
   "outputs": [],
   "source": [
    "df_models.sort_values(by='Accuracy', ascending=False)"
   ]
  },
  {
   "cell_type": "markdown",
   "metadata": {},
   "source": [
    "A acurácia dos top 5 algorítmos variou de 64% a 59%\n",
    "\n",
    "LabelPropagation com 2 features reduzidas  \n",
    "LabelSpreading com 2 features reduzidas  \n",
    "ExtraTreesClassifier com 4 features reduzidas  \n",
    "RandomForestClassifier com 5 features reduzidas  \n",
    "ExtraTreeClassifier com 5 features reduzidas"
   ]
  },
  {
   "cell_type": "markdown",
   "metadata": {},
   "source": [
    "## 6.11 Composição SentilextPT + Tradução & Vader Sentiment com Diminuição de dimensionalidade e SEM Normalização"
   ]
  },
  {
   "cell_type": "code",
   "execution_count": null,
   "metadata": {},
   "outputs": [],
   "source": [
    "df_models = pd.DataFrame()\n",
    "\n",
    "X = df_final5.drop(columns=['Date', 'Adj Close', 'Volume', 'Var%', 'Fechamento', 'Noticias_x','Noticias_y','Sentimento'])\n",
    "y = df_final5['Fechamento']\n",
    "    \n",
    "## Laço para experimentações com diversos numeros de PCA (de 2 á 6)\n",
    "for i in range(2,len(X.columns),1):\n",
    "    print(\"Testando com PCA = %s!\" % i)\n",
    "    #Holdout\n",
    "    x_train, x_test, y_train, y_test = train_test_split(X, y, test_size=0.3, random_state=1) ### \n",
    "    \n",
    "    #Aplicando PCA\n",
    "    pca = PCA(n_components=i)\n",
    "    x_train = pca.fit_transform(x_train)\n",
    "    x_test = pca.fit_transform(x_test)\n",
    "\n",
    "    #Testando os modelos\n",
    "    reg = LazyClassifier(verbose=0,ignore_warnings=True, custom_metric=None)\n",
    "    models, predictions = reg.fit(x_train, x_test, y_train, y_test)\n",
    "    models['n_PCA'] = i\n",
    "\n",
    "    # Armazenando os 5 melhores modelos (top 5 Maiores Acurácia)\n",
    "    df_models = df_models.append(models.reset_index().sort_values(by='Accuracy', ascending=False).head(5), ignore_index=True)"
   ]
  },
  {
   "cell_type": "code",
   "execution_count": null,
   "metadata": {},
   "outputs": [],
   "source": [
    "df_models.sort_values(by='Accuracy', ascending=False)"
   ]
  },
  {
   "cell_type": "markdown",
   "metadata": {},
   "source": [
    "A acurácia dos top 5 algorítmos variou de 64% a 59%\n",
    "\n",
    "LabelPropagation com 2 features reduzidas  \n",
    "LabelSpreading com 2 features reduzidas  \n",
    "BaggingClassifier com 5 features reduzidas  \n",
    "ExtraTreesClassifier com 3 features reduzidas  \n",
    "RandomForestClassifier com 5 features reduzidas"
   ]
  },
  {
   "cell_type": "markdown",
   "metadata": {},
   "source": [
    "# 7.0 Feature Engineering - Seleção do conjunto de features de dias anteriores\n",
    "\n",
    "Selecionaremos o conjunto de features composto pelos métodos de NLP \n",
    "- Composição SentilextPT + Tradução & Vader Sentiment sem normalização e sem PCA e;\n",
    "\n",
    "adicionaremos as features de n dias anteriores para avaliar a performance da classificação"
   ]
  },
  {
   "cell_type": "markdown",
   "metadata": {},
   "source": [
    "## 7.1 Adição features de dias anteriores ao dataframe"
   ]
  },
  {
   "cell_type": "code",
   "execution_count": null,
   "metadata": {},
   "outputs": [],
   "source": [
    "df_final9 = df_final3.merge(df_final2, how = 'left', on = ['Date', 'Adj Close', 'Volume', 'Var%', 'Fechamento'])\n",
    "df_final9.head()"
   ]
  },
  {
   "cell_type": "code",
   "execution_count": null,
   "metadata": {},
   "outputs": [],
   "source": [
    "features = ['polaridade', 'subjetividade', 'negatividade', 'neutralidade',  'positividade', 'composicao','score']\n",
    "featuresd1 = [i + \"d1\" for i in features]\n",
    "featuresd2 = [i + \"d2\" for i in features]\n",
    "featuresd3 = [i + \"d3\" for i in features]\n",
    "featuresd4 = [i + \"d4\" for i in features]"
   ]
  },
  {
   "cell_type": "code",
   "execution_count": null,
   "metadata": {},
   "outputs": [],
   "source": [
    "#Criando as colunas de features para d-1, d-2, d-3, d-4 e inicializando com valores zeros:\n",
    "for i in features:\n",
    "    df_final9[i+\"d1\"] = 0\n",
    "    df_final9[i+\"d2\"] = 0\n",
    "    df_final9[i+\"d3\"] = 0\n",
    "    df_final9[i+\"d4\"] = 0\n",
    "df_final9.head()"
   ]
  },
  {
   "cell_type": "code",
   "execution_count": null,
   "metadata": {},
   "outputs": [],
   "source": [
    "df_final9[['Date','composicao','composicaod4']]"
   ]
  },
  {
   "cell_type": "code",
   "execution_count": null,
   "metadata": {},
   "outputs": [],
   "source": [
    "import itertools\n",
    "\n",
    "#atualiza as features de d-1\n",
    "for a,b in itertools.zip_longest(features,featuresd1):\n",
    "    df_final9[b] = df_final9.shift(periods=1)[a]\n",
    "    \n",
    "#atualiza as features de d-2\n",
    "for a,b in itertools.zip_longest(features,featuresd2):\n",
    "    df_final9[b] = df_final9.shift(periods=2)[a]\n",
    "    \n",
    "#atualiza as features de d-3\n",
    "for a,b in itertools.zip_longest(features,featuresd3):\n",
    "    df_final9[b] = df_final9.shift(periods=3)[a]\n",
    "    \n",
    "#atualiza as features de d-4\n",
    "for a,b in itertools.zip_longest(features,featuresd4):\n",
    "    df_final9[b] = df_final9.shift(periods=4)[a]\n"
   ]
  },
  {
   "cell_type": "code",
   "execution_count": null,
   "metadata": {},
   "outputs": [],
   "source": [
    "df_final9[['Date','composicao','composicaod4']]"
   ]
  },
  {
   "cell_type": "code",
   "execution_count": null,
   "metadata": {},
   "outputs": [],
   "source": [
    "df_final9.head()"
   ]
  },
  {
   "cell_type": "code",
   "execution_count": null,
   "metadata": {},
   "outputs": [],
   "source": [
    "df_final9.isnull().sum()"
   ]
  },
  {
   "cell_type": "code",
   "execution_count": null,
   "metadata": {},
   "outputs": [],
   "source": [
    "## Eliminação dos registros sem as features de dias anteriores (os primeiros 4 dias)"
   ]
  },
  {
   "cell_type": "code",
   "execution_count": null,
   "metadata": {},
   "outputs": [],
   "source": [
    "df_final9 = df_final9.dropna()\n",
    "df_final9.isnull().sum()"
   ]
  },
  {
   "cell_type": "code",
   "execution_count": null,
   "metadata": {},
   "outputs": [],
   "source": [
    "df_final9.columns"
   ]
  },
  {
   "cell_type": "markdown",
   "metadata": {},
   "source": [
    "## 7.1 Experimentos \n",
    "iterando sobre d á d-n;  1<=n<=4  \n",
    "c/ s/ PCA   \n",
    "c/ s/ normalização   \n"
   ]
  },
  {
   "cell_type": "code",
   "execution_count": null,
   "metadata": {},
   "outputs": [],
   "source": [
    "#Criando um dicionário com o conjunto de features do dia atual ao d-4:\n",
    "feature_dias = {'dia atual': features, 'd-1': features+featuresd1, 'd-2':features+featuresd1+featuresd2, 'd-3':features+featuresd1+featuresd2+featuresd3, 'd-4':features+featuresd1+featuresd2+featuresd3+featuresd4}"
   ]
  },
  {
   "cell_type": "code",
   "execution_count": null,
   "metadata": {},
   "outputs": [],
   "source": [
    "df_models = pd.DataFrame()\n",
    "\n",
    "## repetir o experimento 4x para eliminar possibilidade de outliers\n",
    "for rep in range(0,4,1):\n",
    "    \n",
    "    ## iterar sobre o conjunto de features entre a data e o dia -n (para 1<=n<=4)\n",
    "    for k in feature_dias.keys():\n",
    "    \n",
    "        #Lista de features consideradas e definição de X e Y:\n",
    "        lista_features = feature_dias[k]\n",
    "        X = df_final9[lista_features]\n",
    "        y = df_final9['Fechamento']  \n",
    "    \n",
    "        #Holdout em treino e teste\n",
    "        x_train, x_test, y_train, y_test = train_test_split(X, y, test_size=0.3, random_state=rep) ###\n",
    "    \n",
    "        ## iterar sobre a quantidade de reduções de dimensionalidade das features (PCA)\n",
    "        for i in range(2,len(X.columns),1):\n",
    "    \n",
    "            #Aplicando PCA\n",
    "            pca = PCA(n_components=i)\n",
    "            x_train_pca = pca.fit_transform(x_train)\n",
    "            x_test_pca = pca.fit_transform(x_test)\n",
    "    \n",
    "            #Aplicando Normalização\n",
    "            scaler_train = StandardScaler()\n",
    "            scaler_test = StandardScaler()\n",
    "\n",
    "            scaler_train.fit(x_train_pca)\n",
    "            scaler_test.fit(x_test_pca)\n",
    "\n",
    "            x_train_pca_normalized = scaler_train.transform(x_train_pca)\n",
    "            x_test_pca_normalized = scaler_test.transform(x_test_pca)\n",
    "\n",
    "\n",
    "            #Testando PCA + normalizado\n",
    "            print(\"Testando para conjunto de features do dia atual à %s com PCA = %s e Normalização - Rep %s!\" % (k,i,rep)) \n",
    "            reg = LazyClassifier(verbose=0,ignore_warnings=True, custom_metric=None)\n",
    "            models, predictions = reg.fit(x_train_pca_normalized, x_test_pca_normalized, y_train, y_test)\n",
    "            models['conjunto_features'] = k\n",
    "            models['n_PCA'] = i\n",
    "            models['Normalizado'] = True\n",
    "            models['repeticao'] = rep\n",
    "            # Armazenando os 5 melhores modelos (top 5 Maiores Acurácia)\n",
    "            df_models = df_models.append(models.reset_index().sort_values(by='Accuracy', ascending=False).head(5), ignore_index=True)\n",
    "    \n",
    "            #Testando PCA\n",
    "            print(\"Testando para conjunto de features do dia atual à %s com PCA = %s! - Rep %s\" % (k,i,rep))\n",
    "            reg = LazyClassifier(verbose=0,ignore_warnings=True, custom_metric=None)\n",
    "            models, predictions = reg.fit(x_train_pca, x_test_pca, y_train, y_test)\n",
    "            models['conjunto_features'] = k\n",
    "            models['n_PCA'] = i \n",
    "            models['Normalizado'] = False\n",
    "            models['repeticao'] = rep\n",
    "            # Armazenando os 5 melhores modelos (top 5 Maiores Acurácia)\n",
    "            df_models = df_models.append(models.reset_index().sort_values(by='Accuracy', ascending=False).head(5), ignore_index=True)    \n",
    "\n",
    "    \n",
    "        #Testando sem PCA e sem Normalizacao\n",
    "        print(\"Testando para conjunto de features do dia atual à %s!\" % k)\n",
    "        reg = LazyClassifier(verbose=0,ignore_warnings=True, custom_metric=None)\n",
    "        models, predictions = reg.fit(x_train, x_test, y_train, y_test)\n",
    "        models['conjunto_features'] = k\n",
    "        models['n_PCA'] = \"N/A\"\n",
    "        models['Normalizado'] = False\n",
    "        models['repeticao'] = rep\n",
    "        df_models = df_models.append(models.reset_index().sort_values(by='Accuracy', ascending=False).head(5), ignore_index=True)"
   ]
  },
  {
   "cell_type": "code",
   "execution_count": null,
   "metadata": {},
   "outputs": [],
   "source": [
    "df_models.sort_values(by='Accuracy', ascending=False)"
   ]
  },
  {
   "cell_type": "markdown",
   "metadata": {},
   "source": [
    "Escolheremos o conjunto de features referente ao dia atual á 3 dias anteriores.\n",
    "\n",
    "Os seguintes modelos serão selecionados para tunagem:\n",
    "\n",
    "- PassiveAggressiveClassifier;  \n",
    "- GaussianNB;  \n",
    "- BernoulliNB;  \n",
    "- QuadraticDiscriminantAnalysis;  \n",
    "- LGBMClassifier;  \n",
    "- RandomForestClassifier;  \n",
    "- NearestCentroid;  \n",
    "- NuSVC;  \n",
    "- XGBClassifier;  \n",
    "- SGDClassifier;  \n",
    "- Perceptron;  \n",
    "- DecisionTreeClassifier"
   ]
  },
  {
   "cell_type": "markdown",
   "metadata": {},
   "source": [
    "# 8.0 Treinamento e tunagem de modelos"
   ]
  },
  {
   "cell_type": "markdown",
   "metadata": {},
   "source": [
    "## 8.1 PassiveAggressiveClassifier\n",
    "- Gridsearch (Hiperparametros, PCA)\n",
    "- CrossValidation"
   ]
  },
  {
   "cell_type": "code",
   "execution_count": null,
   "metadata": {},
   "outputs": [],
   "source": [
    "from sklearn.model_selection import train_test_split\n",
    "from sklearn.linear_model import PassiveAggressiveClassifier\n",
    "from sklearn.model_selection import GridSearchCV\n",
    "from sklearn.metrics import make_scorer\n",
    "from sklearn.metrics import f1_score\n",
    "from sklearn.metrics import accuracy_score\n",
    "from sklearn.metrics import recall_score\n",
    "from sklearn.metrics import roc_auc_score\n",
    "from sklearn.model_selection import cross_val_score, KFold\n",
    "from sklearn.metrics import accuracy_score, classification_report, confusion_matrix"
   ]
  },
  {
   "cell_type": "code",
   "execution_count": null,
   "metadata": {},
   "outputs": [],
   "source": [
    "acuracia_dados = make_scorer(accuracy_score)\n",
    "f1_dados = make_scorer(f1_score)"
   ]
  },
  {
   "cell_type": "code",
   "execution_count": null,
   "metadata": {},
   "outputs": [],
   "source": [
    "scoring = {\"accuracy\": acuracia_dados, \"f1\":f1_dados}"
   ]
  },
  {
   "cell_type": "code",
   "execution_count": null,
   "metadata": {},
   "outputs": [],
   "source": [
    "resultados = []\n",
    "\n",
    "\n",
    "X = df_final9[features+featuresd1+featuresd2+featuresd3]\n",
    "y = df_final9['Fechamento']  \n",
    "\n",
    "#Holdout fora do loop para não variar conjunto de teste e treino\n",
    "X_train, X_test, y_train, y_test = train_test_split(X, y, test_size=0.3, random_state=1, stratify=y)\n",
    "\n",
    "\n",
    "#Validação cruzada com 10 kfolds\n",
    "kfold = KFold(n_splits = 10, shuffle = True, random_state = i)\n",
    "    \n",
    "#Repete os experimentos 20x\n",
    "for i in range(20):\n",
    "    \n",
    "    print(\"Fazendo gridsearch - Repeticao %s\" % (i))\n",
    "    \n",
    "    gs = GridSearchCV(\n",
    "        PassiveAggressiveClassifier(random_state=i),\n",
    "        param_grid={\"max_iter\": [25,50,100,200,500,700,1000,1200,1500], \"tol\": [0.01, 0.001, 0.0001], \"C\": [0.01,0.05,0.1,0.5,1.0,1.5]},\n",
    "        scoring=scoring,\n",
    "        refit=\"f1\",\n",
    "        n_jobs=2,\n",
    "        return_train_score=True,\n",
    "        cv = kfold\n",
    "            )\n",
    "        \n",
    "    #Treinando o modelo com dados de treino c/ 9 folds e utilizando 1 fold para teste\n",
    "    gs.fit(X_train, y_train)\n",
    "    \n",
    "    #Melhores resultados e hiperparâmetros encontrados\n",
    "    acuracy_treino = gs.best_score_\n",
    "    hyperparams = gs.best_params_\n",
    "    \n",
    "    ##Predizendo as classes nos dados de teste, utilizando os melhores parâmetros\n",
    "    y_test_pred = gs.predict(X_test)\n",
    "      \n",
    "    #Calculando acurácia \n",
    "    accuracy_teste = accuracy_score(y_test, y_test_pred)\n",
    "    \n",
    "    #calculando f1_score\n",
    "    f1_teste = f1_score(y_test, y_test_pred)\n",
    "    \n",
    "    #calculando área sobre a curva ROC_AUC:\n",
    "    auc_teste = roc_auc_score(y_test, y_test_pred)\n",
    "    \n",
    "    \n",
    "    #Calculando Recall clase 1\n",
    "    rec0_teste = roc_auc_score(y_test, y_test_pred, pos_label=0)\n",
    "    rec1_teste = roc_auc_score(y_test, y_test_pred, pos_label=1)\n",
    "    \n",
    "    # Adicionando todos resultados em uma única lista\n",
    "    resultados.append(np.array([i,hyperparams['max_iter'],hyperparams['tol'],hyperparams['C'],acuracy_treino,accuracy_teste,f1_teste,auc_teste]))\n",
    "    "
   ]
  },
  {
   "cell_type": "code",
   "execution_count": null,
   "metadata": {},
   "outputs": [],
   "source": [
    "pd.set_option('display.precision',4)"
   ]
  },
  {
   "cell_type": "code",
   "execution_count": null,
   "metadata": {},
   "outputs": [],
   "source": [
    "pd.reset_option('^display.',silent=True)"
   ]
  },
  {
   "cell_type": "code",
   "execution_count": null,
   "metadata": {},
   "outputs": [],
   "source": [
    "#transformando os resultados para dataframe:\n",
    "resultados = pd.DataFrame(np.array(resultados), columns=['repeticao','max_iter', 'tol','C','acuracy_treino','acuracia_teste','f1_teste','auc_teste'])\n",
    "resultados.sort_values(by = 'f1_teste', ascending = False)"
   ]
  },
  {
   "cell_type": "markdown",
   "metadata": {},
   "source": [
    "Resultados:\n",
    "\n",
    "- modelos com max_iter = 25 perfomou melhor (testaremos para valores <=25)\n",
    "- modelos com tol = 0.001 e 0.0001 perfomaram melhor  \n",
    "- modelos com C = 0.05, 0.01 e 0.1 performaram melhor (testaremos para mais valores entre 0.05 e 0.1)\n",
    "\n",
    "Refinando a solução para os hiperparâmetros e aumentando as repetições:"
   ]
  },
  {
   "cell_type": "code",
   "execution_count": null,
   "metadata": {},
   "outputs": [],
   "source": [
    "resultados = []\n",
    "\n",
    "\n",
    "X = df_final9[features+featuresd1+featuresd2+featuresd3]\n",
    "y = df_final9['Fechamento']  \n",
    "\n",
    "#Holdout fora do loop para não variar conjunto de teste e treino\n",
    "X_train, X_test, y_train, y_test = train_test_split(X, y, test_size=0.3, random_state=1, stratify=y)\n",
    "\n",
    "\n",
    "#Validação cruzada com 10 kfolds\n",
    "kfold = KFold(n_splits = 10, shuffle = True, random_state = i)\n",
    "    \n",
    "#Repete os experimentos 20x\n",
    "for i in range(20):\n",
    "    \n",
    "    print(\"Fazendo gridsearch - Repeticao %s\" % (i))\n",
    "    \n",
    "    gs = GridSearchCV(\n",
    "        PassiveAggressiveClassifier(random_state=i),\n",
    "        param_grid={\"max_iter\": [6,8,10,12,14,16,18,20], \"tol\": [0.001, 0.0001], \"C\": [0.01,0.03,0.05,0.07,0.09,0.1]},\n",
    "        scoring=scoring,\n",
    "        refit=\"f1\",\n",
    "        n_jobs=2,\n",
    "        return_train_score=True,\n",
    "        cv = kfold\n",
    "            )\n",
    "        \n",
    "    #Treinando o modelo com dados de treino c/ 9 folds e utilizando 1 fold para teste\n",
    "    gs.fit(X_train, y_train)\n",
    "    \n",
    "    #Melhores resultados e hiperparâmetros encontrados\n",
    "    acuracy_treino = gs.best_score_\n",
    "    hyperparams = gs.best_params_\n",
    "    \n",
    "    ##Predizendo as classes nos dados de teste, utilizando os melhores parâmetros\n",
    "    y_test_pred = gs.predict(X_test)\n",
    "      \n",
    "    #Calculando acurácia \n",
    "    accuracy_teste = accuracy_score(y_test, y_test_pred)\n",
    "    \n",
    "    #calculando f1_score\n",
    "    f1_teste = f1_score(y_test, y_test_pred)\n",
    "    \n",
    "    #calculando área sobre a curva ROC_AUC:\n",
    "    auc_teste = roc_auc_score(y_test, y_test_pred)\n",
    "    \n",
    "    # Adicionando todos resultados em uma única lista\n",
    "    resultados.append(np.array([i,hyperparams['max_iter'],hyperparams['tol'],hyperparams['C'],acuracy_treino,accuracy_teste,f1_teste,auc_teste]))\n",
    "    "
   ]
  },
  {
   "cell_type": "code",
   "execution_count": null,
   "metadata": {},
   "outputs": [],
   "source": [
    "#transformando os resultados para dataframe:\n",
    "resultados = pd.DataFrame(np.array(resultados), columns=['repeticao','max_iter', 'tol','C','acuracy_treino','acuracia_teste','f1_teste','auc_teste'])\n",
    "resultados.sort_values(by = 'f1_teste', ascending = False)"
   ]
  },
  {
   "cell_type": "markdown",
   "metadata": {},
   "source": [
    "Resultados\n",
    "\n",
    "-  Modelos com max_iter = 8,10,14,20 performaram melhor\n",
    "-  Modelos com tol = 0.001 perfomaram melhor\n",
    "\n",
    "Refinando a solução para os hiperparâmetros:"
   ]
  },
  {
   "cell_type": "code",
   "execution_count": null,
   "metadata": {},
   "outputs": [],
   "source": [
    "resultados = []\n",
    "\n",
    "\n",
    "X = df_final9[features+featuresd1+featuresd2+featuresd3]\n",
    "y = df_final9['Fechamento']  \n",
    "\n",
    "#Holdout fora do loop para não variar conjunto de teste e treino\n",
    "X_train, X_test, y_train, y_test = train_test_split(X, y, test_size=0.3, random_state=1, stratify=y)\n",
    "\n",
    "\n",
    "#Validação cruzada com 10 kfolds\n",
    "kfold = KFold(n_splits = 10, shuffle = True, random_state = i)\n",
    "    \n",
    "#Repete os experimentos 30x\n",
    "for i in range(30):\n",
    "    \n",
    "    print(\"Fazendo gridsearch - Repeticao %s\" % (i))\n",
    "    \n",
    "    gs = GridSearchCV(\n",
    "        PassiveAggressiveClassifier(random_state=i),\n",
    "        param_grid={\"max_iter\": [8,10,14,20], \"tol\": [0.001], \"C\": [0.01,0.03,0.05,0.07,0.09,0.1]},\n",
    "        scoring=scoring,\n",
    "        refit=\"f1\",\n",
    "        n_jobs=2,\n",
    "        return_train_score=True,\n",
    "        cv = kfold\n",
    "            )\n",
    "        \n",
    "    #Treinando o modelo com dados de treino c/ 9 folds e utilizando 1 fold para teste\n",
    "    gs.fit(X_train, y_train)\n",
    "    \n",
    "    #Melhores resultados e hiperparâmetros encontrados\n",
    "    acuracy_treino = gs.best_score_\n",
    "    hyperparams = gs.best_params_\n",
    "    \n",
    "    ##Predizendo as classes nos dados de teste, utilizando os melhores parâmetros\n",
    "    y_test_pred = gs.predict(X_test)\n",
    "      \n",
    "    #Calculando acurácia \n",
    "    accuracy_teste = accuracy_score(y_test, y_test_pred)\n",
    "    \n",
    "    #calculando f1_score\n",
    "    f1_teste = f1_score(y_test, y_test_pred)\n",
    "    \n",
    "    #calculando área sobre a curva ROC_AUC:\n",
    "    auc_teste = roc_auc_score(y_test, y_test_pred)\n",
    "    \n",
    "    # Adicionando todos resultados em uma única lista\n",
    "    resultados.append(np.array([i,hyperparams['max_iter'],hyperparams['tol'],hyperparams['C'],acuracy_treino,accuracy_teste,f1_teste,auc_teste]))\n",
    "    "
   ]
  },
  {
   "cell_type": "code",
   "execution_count": null,
   "metadata": {},
   "outputs": [],
   "source": [
    "#transformando os resultados para dataframe:\n",
    "resultados = pd.DataFrame(np.array(resultados), columns=['repeticao','max_iter', 'tol','C','acuracy_treino','acuracia_teste','f1_teste','auc_teste'])\n",
    "resultados.sort_values(by = 'f1_teste', ascending = False)"
   ]
  },
  {
   "cell_type": "markdown",
   "metadata": {},
   "source": [
    "Resultados\n",
    "\n",
    "- Modelos com max_iter = 14 performaram melhor; \n",
    "- Modelos com tol = 0.001 performaram melhor;  \n",
    "- Modelos com C = 0.03 e 0.09 performaram melhor; \n",
    "\n",
    "Refinando a solução para os hiperparâmetros:\n",
    "\n"
   ]
  },
  {
   "cell_type": "code",
   "execution_count": null,
   "metadata": {},
   "outputs": [],
   "source": [
    "resultados = []\n",
    "\n",
    "\n",
    "X = df_final9[features+featuresd1+featuresd2+featuresd3]\n",
    "y = df_final9['Fechamento']  \n",
    "\n",
    "#Holdout fora do loop para não variar conjunto de teste e treino\n",
    "X_train, X_test, y_train, y_test = train_test_split(X, y, test_size=0.3, random_state=1, stratify=y)\n",
    "\n",
    "\n",
    "#Validação cruzada com 10 kfolds\n",
    "kfold = KFold(n_splits = 10, shuffle = True, random_state = i)\n",
    "    \n",
    "#Repete os experimentos 30x\n",
    "for i in range(30):\n",
    "    \n",
    "    print(\"Fazendo gridsearch - Repeticao %s\" % (i))\n",
    "    \n",
    "    gs = GridSearchCV(\n",
    "        PassiveAggressiveClassifier(random_state=i),\n",
    "        param_grid={\"max_iter\": [14], \"tol\": [0.001], \"C\": [0.03,0.09]},\n",
    "        scoring=scoring,\n",
    "        refit=\"f1\",\n",
    "        n_jobs=2,\n",
    "        return_train_score=True,\n",
    "        cv = kfold\n",
    "            )\n",
    "        \n",
    "    #Treinando o modelo com dados de treino c/ 9 folds e utilizando 1 fold para teste\n",
    "    gs.fit(X_train, y_train)\n",
    "    \n",
    "    #Melhores resultados e hiperparâmetros encontrados\n",
    "    acuracy_treino = gs.best_score_\n",
    "    hyperparams = gs.best_params_\n",
    "    \n",
    "    ##Predizendo as classes nos dados de teste, utilizando os melhores parâmetros\n",
    "    y_test_pred = gs.predict(X_test)\n",
    "      \n",
    "    #Calculando acurácia \n",
    "    accuracy_teste = accuracy_score(y_test, y_test_pred)\n",
    "    \n",
    "    #calculando f1_score\n",
    "    f1_teste = f1_score(y_test, y_test_pred)\n",
    "    \n",
    "    #calculando área sobre a curva ROC_AUC:\n",
    "    auc_teste = roc_auc_score(y_test, y_test_pred)\n",
    "    \n",
    "    # Adicionando todos resultados em uma única lista\n",
    "    resultados.append(np.array([i,hyperparams['max_iter'],hyperparams['tol'],hyperparams['C'],acuracy_treino,accuracy_teste,f1_teste,auc_teste]))\n",
    "    "
   ]
  },
  {
   "cell_type": "code",
   "execution_count": null,
   "metadata": {},
   "outputs": [],
   "source": [
    "#transformando os resultados para dataframe:\n",
    "resultados = pd.DataFrame(np.array(resultados), columns=['repeticao','max_iter', 'tol','C','acuracy_treino','acuracia_teste','f1_teste','auc_teste'])\n",
    "resultados.sort_values(by = 'f1_teste', ascending = False)"
   ]
  },
  {
   "cell_type": "markdown",
   "metadata": {},
   "source": [
    "Hiperparâmetros\n",
    "\n",
    "max_iter = 14  \n",
    "tol = 0.001  \n",
    "C = 0.03   "
   ]
  },
  {
   "cell_type": "markdown",
   "metadata": {},
   "source": [
    "### 8.1.1 Avaliação do PassiveAgressiveClassifier"
   ]
  },
  {
   "cell_type": "code",
   "execution_count": null,
   "metadata": {},
   "outputs": [],
   "source": [
    "X = df_final9[features+featuresd1+featuresd2+featuresd3]\n",
    "y = df_final9['Fechamento'] \n",
    "\n",
    "X_train, X_test, y_train, y_test = train_test_split(X, y, test_size=0.3, random_state=1, stratify=y)\n",
    "\n",
    "passagress = PassiveAggressiveClassifier(random_state=1, max_iter = 14, tol = 0.001, C = 0.03)\n",
    "passagress.fit(X_train,y_train)"
   ]
  },
  {
   "cell_type": "code",
   "execution_count": null,
   "metadata": {},
   "outputs": [],
   "source": [
    "#Predizendo y\n",
    "y_pred = passagress.predict(X_test)\n",
    "\n",
    "#Relatórios e matriz de confusao\n",
    "print(\"Classification Report Dados:\\n\",classification_report(y_test,y_pred))\n",
    "print(\"\")\n",
    "print(\"Confusion Matrix Dados de Producao:\\n\",confusion_matrix(y_test,y_pred))\n",
    "print(\"\")"
   ]
  },
  {
   "cell_type": "code",
   "execution_count": null,
   "metadata": {},
   "outputs": [],
   "source": [
    "#Calculando o recall\n",
    "recall_0 = recall_score(y_test, y_pred, pos_label=0)\n",
    "recall_1 = recall_score(y_test, y_pred, pos_label=1)\n",
    "\n",
    "\n",
    "#Calculando acurácia \n",
    "accuracy = accuracy_score(y_test, y_pred)\n",
    "\n",
    "#calculando f1_score\n",
    "f1 = f1_score(y_test, y_pred)\n",
    "\n",
    "#Calculando AUC\n",
    "auc = roc_auc_score(y_test, y_pred)\n",
    "\n",
    "print(\"Recall_0: %s\" % (recall_0))\n",
    "print(\"Recall_1: %s\" % (recall_1))\n",
    "print(\"Acuracia: %s\" % (accuracy))\n",
    "print(\"F1_Score: %s\" % (f1))\n",
    "print(\"AUC: %s\" % (auc))"
   ]
  },
  {
   "cell_type": "markdown",
   "metadata": {},
   "source": [
    "O Modelo aprendeu a classificar bem quando há aumento nos valores das ações mas erra bastante quando há queda nos valores embora os dados estejam balanceados."
   ]
  },
  {
   "cell_type": "markdown",
   "metadata": {},
   "source": [
    "### 8.1.2 Hyperparâmetros PassiveAggressiveClassifier + balanceamento"
   ]
  },
  {
   "cell_type": "code",
   "execution_count": null,
   "metadata": {},
   "outputs": [],
   "source": [
    "resultados = []\n",
    "\n",
    "\n",
    "X_todos = df_final9[features+featuresd1+featuresd2+featuresd3]\n",
    "y_todos = df_final9['Fechamento']  \n",
    "\n",
    "\n",
    "## Balanceamento dos dados:\n",
    "nr = NearMiss()\n",
    "X, y = nr.fit_resample(X_todos, y_todos)\n",
    "    \n",
    " #Holdout:\n",
    "X_train, X_test, y_train, y_test = train_test_split(X, y, test_size=0.3, random_state=1, stratify=y)\n",
    "    \n",
    "    \n",
    "#Repete os experimentos 10x\n",
    "for i in range(30):\n",
    "        \n",
    "    #Validação cruzada com 10 kfolds\n",
    "    kfold = KFold(n_splits = 10, shuffle = True, random_state = i)\n",
    "    \n",
    "    print(\"Fazendo gridsearch - Repeticao %s\" % (i+1))\n",
    "    \n",
    "    gs = GridSearchCV(\n",
    "        PassiveAggressiveClassifier(random_state=i),\n",
    "        param_grid={\"max_iter\": [25,50,100,200,500,700,1000,1200,1500], \"tol\": [0.01, 0.001, 0.0001], \"C\": [0.01,0.05,0.1,0.5,1.0,1.5]},\n",
    "        scoring=scoring,\n",
    "        refit=\"f1\",\n",
    "        n_jobs=2,\n",
    "        return_train_score=True,\n",
    "        cv = kfold\n",
    "            )\n",
    "        \n",
    "    #Treinando o modelo com dados de treino c/ 9 folds e utilizando 1 fold para teste\n",
    "    gs.fit(X_train, y_train)\n",
    "    \n",
    "    #Melhores resultados e hiperparâmetros encontrados\n",
    "    acuracy_treino = gs.best_score_\n",
    "    hyperparams = gs.best_params_\n",
    "    \n",
    "    ##Predizendo as classes nos dados de teste e todos dados, utilizando os melhores parâmetros\n",
    "    y_test_pred = gs.predict(X_test)\n",
    "    y_test_pred_todos = gs.predict(X_todos)\n",
    "        \n",
    "    #Calculando acurácia \n",
    "    accuracy_teste = accuracy_score(y_test, y_test_pred)\n",
    "    accuracy_todos = accuracy_score(y_todos, y_test_pred_todos)\n",
    "        \n",
    "    #calculando f1_score\n",
    "    f1_teste = f1_score(y_test, y_test_pred)\n",
    "    f1_todos = f1_score(y_todos, y_test_pred_todos)\n",
    "    \n",
    "    #calculando área sobre a curva ROC_AUC:\n",
    "    auc_teste = roc_auc_score(y_test, y_test_pred)\n",
    "    auc_todos = roc_auc_score(y_todos, y_test_pred_todos)\n",
    "        \n",
    "    #Calculando Recall clase 1\n",
    "    rec0_teste = recall_score(y_test, y_test_pred, pos_label=0)\n",
    "    rec1_teste = recall_score(y_test, y_test_pred, pos_label=1)\n",
    "    \n",
    "    rec0_todos = recall_score(y_todos, y_test_pred_todos, pos_label=0)\n",
    "    rec1_todos = recall_score(y_todos, y_test_pred_todos, pos_label=1)\n",
    "    \n",
    "    \n",
    "    \n",
    "    # Adicionando todos resultados em uma única lista\n",
    "    resultados.append(np.array([i,hyperparams['max_iter'],hyperparams['tol'],hyperparams['C'],acuracy_treino,accuracy_teste,accuracy_todos,rec0_teste,rec0_todos,rec1_teste,rec1_todos,f1_teste,f1_todos,auc_teste,auc_todos]))\n",
    "    "
   ]
  },
  {
   "cell_type": "code",
   "execution_count": null,
   "metadata": {},
   "outputs": [],
   "source": [
    "#transformando os resultados para dataframe e ordenando por recall da classe 0:\n",
    "resultados = pd.DataFrame(np.array(resultados), columns=['repeticao','max_iter', 'tol','C','acuracy_treino','acuracia_teste','acuracia_df','rec_0_teste','rec_0_df','rec_1_teste','rec_1_df','f1_teste','f1_df','auc_teste','auc_df'])\n",
    "resultados.sort_values(by = 'f1_teste', ascending = False)"
   ]
  },
  {
   "cell_type": "markdown",
   "metadata": {},
   "source": [
    "Mesmo após balancear os exemplos em 50/50%  os valores de recall não ficaram equilibrados para o maior valor de f1-score.\n",
    "\n",
    "Recall 0: 32.2%; \n",
    "Recall 1: 81.25% \n",
    "\n",
    "materemos o modelo final:"
   ]
  },
  {
   "cell_type": "code",
   "execution_count": null,
   "metadata": {},
   "outputs": [],
   "source": [
    "passagress"
   ]
  },
  {
   "cell_type": "code",
   "execution_count": null,
   "metadata": {},
   "outputs": [],
   "source": [
    "print(\"Recall_0: %s\" % (recall_0))\n",
    "print(\"Recall_1: %s\" % (recall_1))\n",
    "print(\"Acuracia: %s\" % (accuracy))\n",
    "print(\"F1_Score: %s\" % (f1))\n",
    "print(\"AUC: %s\" % (auc))"
   ]
  },
  {
   "cell_type": "markdown",
   "metadata": {},
   "source": [
    "## 8.2 GaussianNB"
   ]
  },
  {
   "cell_type": "code",
   "execution_count": null,
   "metadata": {},
   "outputs": [],
   "source": [
    "from sklearn.metrics import balanced_accuracy_score"
   ]
  },
  {
   "cell_type": "code",
   "execution_count": null,
   "metadata": {},
   "outputs": [],
   "source": [
    "from sklearn.naive_bayes import GaussianNB"
   ]
  },
  {
   "cell_type": "code",
   "execution_count": null,
   "metadata": {},
   "outputs": [],
   "source": [
    "acuracia_dados = make_scorer(accuracy_score)\n",
    "f1_dados = make_scorer(f1_score)\n",
    "balanced_acc_dados = make_scorer(balanced_accuracy_score)\n",
    "\n",
    "scoring = {\"accuracy\": acuracia_dados, \"f1\":f1_dados, \"bacuracy\":balanced_acc_dados}"
   ]
  },
  {
   "cell_type": "code",
   "execution_count": null,
   "metadata": {},
   "outputs": [],
   "source": [
    "resultados = []\n",
    "\n",
    "#Definição dos dados\n",
    "X_todos = df_final9[features+featuresd1+featuresd2+featuresd3]\n",
    "y_todos = df_final9['Fechamento']  \n",
    "\n",
    "    \n",
    "#Repete os experimentos 30x\n",
    "for i in range(30):\n",
    "    \n",
    "    #Holdout:\n",
    "    X_train, X_test, y_train, y_test = train_test_split(X, y, test_size=0.3, random_state=i, stratify=y)\n",
    "        \n",
    "    #Validação cruzada com 10 kfolds\n",
    "    kfold = KFold(n_splits = 10, shuffle = True, random_state = i)\n",
    "    \n",
    "    print(\"Fazendo gridsearch - Repeticao %s\" % (i+1))\n",
    "    \n",
    "    gs = GridSearchCV(\n",
    "        GaussianNB(),\n",
    "        param_grid={\"var_smoothing\": [0.0000000000000001,0.000000000000001,0.00000000000001,0.0000000000001,0.000000000001,0.00000000001,0.0000000001,0.000000001,0.00000001,0.0000001,0.000001,0.00001]}, #var_smoothing=1e-09 é o padrão\n",
    "        scoring=scoring,\n",
    "        refit=\"bacuracy\",\n",
    "        n_jobs=2,\n",
    "        return_train_score=True,\n",
    "        cv = kfold\n",
    "            )\n",
    "        \n",
    "    #Treinando o modelo com dados de treino c/ 9 folds e utilizando 1 fold para teste\n",
    "    gs.fit(X_train, y_train)\n",
    "    \n",
    "    #Melhores resultados e hiperparâmetros encontrados\n",
    "    acuracy_treino = gs.best_score_\n",
    "    hyperparams = gs.best_params_\n",
    "    \n",
    "    ##Predizendo as classes nos dados de teste e todos dados, utilizando os melhores parâmetros\n",
    "    y_test_pred = gs.predict(X_test)\n",
    "    #y_test_pred_todos = gs.predict(X_todos)\n",
    "        \n",
    "    #Calculando acurácia \n",
    "    accuracy_teste = accuracy_score(y_test, y_test_pred)\n",
    "    #accuracy_todos = accuracy_score(y_todos, y_test_pred_todos)\n",
    "        \n",
    "    #calculando f1_score da classe 1\n",
    "    f1_teste = f1_score(y_test, y_test_pred)\n",
    "    #f1_todos = f1_score(y_todos, y_test_pred_todos)\n",
    "    \n",
    "    #calculando área sobre a curva ROC_AUC:\n",
    "    auc_teste = roc_auc_score(y_test, y_test_pred)\n",
    "    #auc_todos = roc_auc_score(y_todos, y_test_pred_todos)\n",
    "        \n",
    "    #Calculando Recall clase 1\n",
    "    rec0_teste = recall_score(y_test, y_test_pred, pos_label=0)\n",
    "    rec1_teste = recall_score(y_test, y_test_pred, pos_label=1)\n",
    "    \n",
    "    #rec0_todos = recall_score(y_todos, y_test_pred_todos, pos_label=0)\n",
    "    #rec1_todos = recall_score(y_todos, y_test_pred_todos, pos_label=1)\n",
    "    \n",
    "    #Calculando a acurácia balanceada\n",
    "    accuracy_teste_balanced = balanced_accuracy_score(y_test, y_test_pred)\n",
    "    \n",
    "    # Adicionando todos resultados em uma única lista\n",
    "    resultados.append(np.array([i,hyperparams['var_smoothing'],acuracy_treino,accuracy_teste,accuracy_teste_balanced,rec0_teste,rec1_teste,f1_teste,auc_teste]))"
   ]
  },
  {
   "cell_type": "code",
   "execution_count": null,
   "metadata": {},
   "outputs": [],
   "source": [
    "pd.set_option('display.precision',10)\n",
    "pd.reset_option('^display.',silent=True)"
   ]
  },
  {
   "cell_type": "code",
   "execution_count": null,
   "metadata": {},
   "outputs": [],
   "source": [
    "#transformando os resultados para dataframe e ordenando por recall da classe 0:\n",
    "resultados = pd.DataFrame(np.array(resultados), columns=['repeticao','var_smoothing','acuracy_treino','acuracia_teste','acuracia_balanceada_teste','rec_0_teste','rec_1_teste','f1_teste','auc_teste'])\n",
    "resultados.sort_values(by = 'acuracia_balanceada_teste', ascending = False)"
   ]
  },
  {
   "cell_type": "markdown",
   "metadata": {},
   "source": [
    "Houve sempre a ocorrencia do mesmo hiperparâmetro e uma variância enorme nos resultados. Talvez esse não seja o melhor modelo!\n",
    "\n",
    "Hiperparâmetros\n",
    "\n",
    "- var_smoothing = 0.0000000000000001"
   ]
  },
  {
   "cell_type": "markdown",
   "metadata": {},
   "source": [
    "### 8.2.1 GaussianNB Final"
   ]
  },
  {
   "cell_type": "code",
   "execution_count": null,
   "metadata": {},
   "outputs": [],
   "source": [
    "X = df_final9[features+featuresd1+featuresd2+featuresd3]\n",
    "y = df_final9['Fechamento'] \n",
    "\n",
    "X_train, X_test, y_train, y_test = train_test_split(X, y, test_size=0.3, random_state=22, stratify=y)\n",
    "\n",
    "gaussianb = GaussianNB(var_smoothing=0.0000000000000001)\n",
    "gaussianb.fit(X_train,y_train)"
   ]
  },
  {
   "cell_type": "code",
   "execution_count": null,
   "metadata": {},
   "outputs": [],
   "source": [
    "#Predizendo y\n",
    "y_pred = gaussianb.predict(X_test)\n",
    "\n",
    "#Relatórios e matriz de confusao\n",
    "print(\"Classification Report Dados:\\n\",classification_report(y_test,y_pred))\n",
    "print(\"\")\n",
    "print(\"Confusion Matrix Dados de Producao:\\n\",confusion_matrix(y_test,y_pred))\n",
    "print(\"\")"
   ]
  },
  {
   "cell_type": "markdown",
   "metadata": {},
   "source": [
    "O modelo acerta muito as classes 0 e erra as classes 1. É o comportamento inverso ao modelo PassiveAgressive"
   ]
  },
  {
   "cell_type": "code",
   "execution_count": null,
   "metadata": {},
   "outputs": [],
   "source": [
    "#Calculando o recall\n",
    "recall_0 = recall_score(y_test, y_pred, pos_label=0)\n",
    "recall_1 = recall_score(y_test, y_pred, pos_label=1)\n",
    "\n",
    "\n",
    "#Calculando acurácia \n",
    "accuracy = accuracy_score(y_test, y_pred)\n",
    "\n",
    "#Calculando acurácia balanceada\n",
    "accuracy_balanced = balanced_accuracy_score(y_test, y_pred)\n",
    "\n",
    "#calculando f1_score\n",
    "f1_0 = f1_score(y_test, y_pred,pos_label=0)\n",
    "f1_1 = f1_score(y_test, y_pred,pos_label=1)\n",
    "\n",
    "#Calculando AUC\n",
    "auc = roc_auc_score(y_test, y_pred)\n",
    "\n",
    "print(\"Recall_0: %s\" % (recall_0))\n",
    "print(\"Recall_1: %s\" % (recall_1))\n",
    "print(\"Acuracia: %s\" % (accuracy))\n",
    "print(\"Acuracia Balanceada: %s\" % (accuracy_balanced))\n",
    "print(\"F1_Score_0: %s\" % (f1_0))\n",
    "print(\"F1_Score_1: %s\" % (f1_1))\n",
    "print(\"AUC: %s\" % (auc))"
   ]
  },
  {
   "cell_type": "markdown",
   "metadata": {},
   "source": [
    "## 8.3 BernoulliNB"
   ]
  },
  {
   "cell_type": "code",
   "execution_count": null,
   "metadata": {},
   "outputs": [],
   "source": [
    "from sklearn.naive_bayes import BernoulliNB"
   ]
  },
  {
   "cell_type": "code",
   "execution_count": null,
   "metadata": {},
   "outputs": [],
   "source": [
    "acuracia_dados = make_scorer(accuracy_score)\n",
    "f1_dados = make_scorer(f1_score)\n",
    "balanced_acc_dados = make_scorer(balanced_accuracy_score)\n",
    "\n",
    "scoring = {\"accuracy\": acuracia_dados, \"f1\":f1_dados, \"bacuracy\":balanced_acc_dados}"
   ]
  },
  {
   "cell_type": "code",
   "execution_count": null,
   "metadata": {},
   "outputs": [],
   "source": [
    "resultados = []\n",
    "\n",
    "#Definição dos dados\n",
    "X_todos = df_final9[features+featuresd1+featuresd2+featuresd3]\n",
    "y_todos = df_final9['Fechamento']  \n",
    "\n",
    "    \n",
    "#Repete os experimentos 30x\n",
    "for i in range(30):\n",
    "    \n",
    "    #Holdout:\n",
    "    X_train, X_test, y_train, y_test = train_test_split(X, y, test_size=0.3, random_state=i, stratify=y)\n",
    "        \n",
    "    #Validação cruzada com 10 kfolds\n",
    "    kfold = KFold(n_splits = 10, shuffle = True, random_state = i)\n",
    "    \n",
    "    print(\"Fazendo gridsearch - Repeticao %s\" % (i+1))\n",
    "    \n",
    "    gs = GridSearchCV(\n",
    "        BernoulliNB(),\n",
    "        param_grid={\"alpha\": [0,1,10,20,30,40,50], \"binarize\": np.linspace(0,1,11)}, \n",
    "        scoring=scoring,\n",
    "        refit=\"bacuracy\",\n",
    "        n_jobs=2,\n",
    "        return_train_score=True,\n",
    "        cv = kfold\n",
    "            )\n",
    "        \n",
    "    #Treinando o modelo com dados de treino c/ 9 folds e utilizando 1 fold para teste\n",
    "    gs.fit(X_train, y_train)\n",
    "    \n",
    "    #Melhores resultados e hiperparâmetros encontrados\n",
    "    acuracy_treino = gs.best_score_\n",
    "    hyperparams = gs.best_params_\n",
    "    \n",
    "    ##Predizendo as classes nos dados de teste e todos dados, utilizando os melhores parâmetros\n",
    "    y_test_pred = gs.predict(X_test)\n",
    "    #y_test_pred_todos = gs.predict(X_todos)\n",
    "        \n",
    "    #Calculando acurácia \n",
    "    accuracy_teste = accuracy_score(y_test, y_test_pred)\n",
    "    #accuracy_todos = accuracy_score(y_todos, y_test_pred_todos)\n",
    "        \n",
    "    #calculando f1_score da classe 1\n",
    "    f1_teste = f1_score(y_test, y_test_pred)\n",
    "    #f1_todos = f1_score(y_todos, y_test_pred_todos)\n",
    "    \n",
    "    #calculando área sobre a curva ROC_AUC:\n",
    "    auc_teste = roc_auc_score(y_test, y_test_pred)\n",
    "    #auc_todos = roc_auc_score(y_todos, y_test_pred_todos)\n",
    "        \n",
    "    #Calculando Recall clase 1\n",
    "    rec0_teste = recall_score(y_test, y_test_pred, pos_label=0)\n",
    "    rec1_teste = recall_score(y_test, y_test_pred, pos_label=1)\n",
    "    \n",
    "    #rec0_todos = recall_score(y_todos, y_test_pred_todos, pos_label=0)\n",
    "    #rec1_todos = recall_score(y_todos, y_test_pred_todos, pos_label=1)\n",
    "    \n",
    "    #Calculando a acurácia balanceada\n",
    "    accuracy_teste_balanced = balanced_accuracy_score(y_test, y_test_pred)\n",
    "    \n",
    "    # Adicionando todos resultados em uma única lista\n",
    "    resultados.append(np.array([i,hyperparams['alpha'],hyperparams['binarize'],acuracy_treino,accuracy_teste,accuracy_teste_balanced,rec0_teste,rec1_teste,f1_teste,auc_teste]))"
   ]
  },
  {
   "cell_type": "code",
   "execution_count": null,
   "metadata": {},
   "outputs": [],
   "source": [
    "#transformando os resultados para dataframe e ordenando por recall da classe 0:\n",
    "resultados = pd.DataFrame(np.array(resultados), columns=['repeticao','alpha','binarize','acuracy_treino','acuracia_teste','acuracia_balanceada_teste','rec_0_teste','rec_1_teste','f1_teste','auc_teste'])\n",
    "resultados.sort_values(by = 'auc_teste', ascending = False)"
   ]
  },
  {
   "cell_type": "markdown",
   "metadata": {},
   "source": [
    "Hiperparâmetros:\n",
    "\n",
    "Alpha = 0 \n",
    "Binarize = 0.1"
   ]
  },
  {
   "cell_type": "markdown",
   "metadata": {},
   "source": [
    "### 8.3.1 BernoulliNB - Modelo Final"
   ]
  },
  {
   "cell_type": "code",
   "execution_count": null,
   "metadata": {},
   "outputs": [],
   "source": [
    "X = df_final9[features+featuresd1+featuresd2+featuresd3]\n",
    "y = df_final9['Fechamento'] \n",
    "\n",
    "X_train, X_test, y_train, y_test = train_test_split(X, y, test_size=0.3, random_state=10, stratify=y)\n",
    "\n",
    "bernoullinb = BernoulliNB(alpha=0,binarize=0.1)\n",
    "bernoullinb.fit(X_train,y_train)"
   ]
  },
  {
   "cell_type": "code",
   "execution_count": null,
   "metadata": {},
   "outputs": [],
   "source": [
    "#Predizendo y\n",
    "y_pred = bernoullinb.predict(X_test)\n",
    "\n",
    "#Relatórios e matriz de confusao\n",
    "print(\"Classification Report Dados:\\n\",classification_report(y_test,y_pred))\n",
    "print(\"\")\n",
    "print(\"Confusion Matrix Dados de Producao:\\n\",confusion_matrix(y_test,y_pred))\n",
    "print(\"\")\n"
   ]
  },
  {
   "cell_type": "code",
   "execution_count": null,
   "metadata": {},
   "outputs": [],
   "source": [
    "#Calculando o recall\n",
    "recall_0 = recall_score(y_test, y_pred, pos_label=0)\n",
    "recall_1 = recall_score(y_test, y_pred, pos_label=1)\n",
    "\n",
    "\n",
    "#Calculando acurácia \n",
    "accuracy = accuracy_score(y_test, y_pred)\n",
    "\n",
    "#Calculando acurácia balanceada\n",
    "accuracy_balanced = balanced_accuracy_score(y_test, y_pred)\n",
    "\n",
    "#calculando f1_score\n",
    "f1_0 = f1_score(y_test, y_pred,pos_label=0)\n",
    "f1_1 = f1_score(y_test, y_pred,pos_label=1)\n",
    "\n",
    "#Calculando AUC\n",
    "auc = roc_auc_score(y_test, y_pred)\n",
    "\n",
    "print(\"Recall_0: %s\" % (recall_0))\n",
    "print(\"Recall_1: %s\" % (recall_1))\n",
    "print(\"Acuracia: %s\" % (accuracy))\n",
    "print(\"Acuracia Balanceada: %s\" % (accuracy_balanced))\n",
    "print(\"F1_Score_0: %s\" % (f1_0))\n",
    "print(\"F1_Score_1: %s\" % (f1_1))\n",
    "print(\"AUC: %s\" % (auc))"
   ]
  },
  {
   "cell_type": "markdown",
   "metadata": {},
   "source": [
    "Obs: Quando inputamos valores de Binazire tendendo á 1 o algorítmo tende a errar todas as classes 0 e acertar todas as classes 1. Como um dado viciado ou uma moeda de uma cara só."
   ]
  },
  {
   "cell_type": "markdown",
   "metadata": {},
   "source": [
    "## 8.4 QuadraticDiscriminantAnalysis"
   ]
  },
  {
   "cell_type": "code",
   "execution_count": null,
   "metadata": {},
   "outputs": [],
   "source": [
    "from sklearn.discriminant_analysis import QuadraticDiscriminantAnalysis"
   ]
  },
  {
   "cell_type": "code",
   "execution_count": null,
   "metadata": {},
   "outputs": [],
   "source": [
    "acuracia_dados = make_scorer(accuracy_score)\n",
    "f1_dados = make_scorer(f1_score)\n",
    "balanced_acc_dados = make_scorer(balanced_accuracy_score)\n",
    "\n",
    "scoring = {\"accuracy\": acuracia_dados, \"f1\":f1_dados, \"bacuracy\":balanced_acc_dados}"
   ]
  },
  {
   "cell_type": "code",
   "execution_count": null,
   "metadata": {},
   "outputs": [],
   "source": [
    "resultados = []\n",
    "\n",
    "#Definição dos dados\n",
    "X_todos = df_final9[features+featuresd1+featuresd2+featuresd3]\n",
    "y_todos = df_final9['Fechamento']  \n",
    "\n",
    "    \n",
    "#Repete os experimentos 30x\n",
    "for i in range(30):\n",
    "    \n",
    "    #Holdout:\n",
    "    X_train, X_test, y_train, y_test = train_test_split(X, y, test_size=0.3, random_state=i, stratify=y)\n",
    "        \n",
    "    #Validação cruzada com 10 kfolds\n",
    "    kfold = KFold(n_splits = 10, shuffle = True, random_state = i)\n",
    "    \n",
    "    print(\"Fazendo gridsearch - Repeticao %s\" % (i+1))\n",
    "    \n",
    "    gs = GridSearchCV(\n",
    "        QuadraticDiscriminantAnalysis(),\n",
    "        param_grid={\"reg_param\": np.linspace(0.1,1,10), \"store_covariance\":[True,False], \"tol\":[1000,100,10,1,0.1,0.01,0.001,0.0001]}, \n",
    "        scoring=scoring,\n",
    "        refit=\"bacuracy\",\n",
    "        n_jobs=2,\n",
    "        return_train_score=True,\n",
    "        cv = kfold\n",
    "            )\n",
    "        \n",
    "    #Treinando o modelo com dados de treino c/ 9 folds e utilizando 1 fold para teste\n",
    "    gs.fit(X_train, y_train)\n",
    "    \n",
    "    #Melhores resultados e hiperparâmetros encontrados\n",
    "    acuracy_treino = gs.best_score_\n",
    "    hyperparams = gs.best_params_\n",
    "    \n",
    "    ##Predizendo as classes nos dados de teste e todos dados, utilizando os melhores parâmetros\n",
    "    y_test_pred = gs.predict(X_test)\n",
    "    #y_test_pred_todos = gs.predict(X_todos)\n",
    "        \n",
    "    #Calculando acurácia \n",
    "    accuracy_teste = accuracy_score(y_test, y_test_pred)\n",
    "    #accuracy_todos = accuracy_score(y_todos, y_test_pred_todos)\n",
    "        \n",
    "    #calculando f1_score da classe 1\n",
    "    f1_teste = f1_score(y_test, y_test_pred)\n",
    "    #f1_todos = f1_score(y_todos, y_test_pred_todos)\n",
    "    \n",
    "    #calculando área sobre a curva ROC_AUC:\n",
    "    auc_teste = roc_auc_score(y_test, y_test_pred)\n",
    "    #auc_todos = roc_auc_score(y_todos, y_test_pred_todos)\n",
    "        \n",
    "    #Calculando Recall clase 1\n",
    "    rec0_teste = recall_score(y_test, y_test_pred, pos_label=0)\n",
    "    rec1_teste = recall_score(y_test, y_test_pred, pos_label=1)\n",
    "    \n",
    "    #rec0_todos = recall_score(y_todos, y_test_pred_todos, pos_label=0)\n",
    "    #rec1_todos = recall_score(y_todos, y_test_pred_todos, pos_label=1)\n",
    "    \n",
    "    #Calculando a acurácia balanceada\n",
    "    accuracy_teste_balanced = balanced_accuracy_score(y_test, y_test_pred)\n",
    "    \n",
    "    # Adicionando todos resultados em uma única lista\n",
    "    resultados.append(np.array([i,hyperparams['reg_param'],hyperparams['store_covariance'],hyperparams['tol'],acuracy_treino,accuracy_teste,accuracy_teste_balanced,rec0_teste,rec1_teste,f1_teste,auc_teste]))"
   ]
  },
  {
   "cell_type": "code",
   "execution_count": null,
   "metadata": {},
   "outputs": [],
   "source": [
    "pd.set_option('display.precision',4)"
   ]
  },
  {
   "cell_type": "code",
   "execution_count": null,
   "metadata": {},
   "outputs": [],
   "source": [
    "pd.reset_option('^display.',silent=True)"
   ]
  },
  {
   "cell_type": "code",
   "execution_count": null,
   "metadata": {},
   "outputs": [],
   "source": [
    "#transformando os resultados para dataframe e ordenando por recall da classe 0:\n",
    "resultados = pd.DataFrame(np.array(resultados), columns=['repeticao','reg_param','store_covariance','tol','acuracy_treino','acuracia_teste','acuracia_balanceada_teste','rec_0_teste','rec_1_teste','f1_teste','auc_teste'])\n",
    "resultados.sort_values(by = 'auc_teste', ascending = False)"
   ]
  },
  {
   "cell_type": "markdown",
   "metadata": {},
   "source": [
    "Hiperparâmetros\n",
    "\n",
    "- reg_param: entre 0.1 e 0.8 \n",
    "- store_covarianve: true  \n",
    "- tol: >=1000"
   ]
  },
  {
   "cell_type": "code",
   "execution_count": null,
   "metadata": {},
   "outputs": [],
   "source": [
    "resultados = []\n",
    "\n",
    "#Definição dos dados\n",
    "X_todos = df_final9[features+featuresd1+featuresd2+featuresd3]\n",
    "y_todos = df_final9['Fechamento']  \n",
    "\n",
    "    \n",
    "#Repete os experimentos 30x\n",
    "for i in range(30):\n",
    "    \n",
    "    #Holdout:\n",
    "    X_train, X_test, y_train, y_test = train_test_split(X, y, test_size=0.3, random_state=i, stratify=y)\n",
    "        \n",
    "    #Validação cruzada com 10 kfolds\n",
    "    kfold = KFold(n_splits = 10, shuffle = True, random_state = i)\n",
    "    \n",
    "    print(\"Fazendo gridsearch - Repeticao %s\" % (i+1))\n",
    "    \n",
    "    gs = GridSearchCV(\n",
    "        QuadraticDiscriminantAnalysis(),\n",
    "        param_grid={\"reg_param\": [0.1,0.8], \"store_covariance\":[True,False], \"tol\":[10000,1000,100]}, \n",
    "        scoring=scoring,\n",
    "        refit=\"bacuracy\",\n",
    "        n_jobs=2,\n",
    "        return_train_score=True,\n",
    "        cv = kfold\n",
    "            )\n",
    "        \n",
    "    #Treinando o modelo com dados de treino c/ 9 folds e utilizando 1 fold para teste\n",
    "    gs.fit(X_train, y_train)\n",
    "    \n",
    "    #Melhores resultados e hiperparâmetros encontrados\n",
    "    acuracy_treino = gs.best_score_\n",
    "    hyperparams = gs.best_params_\n",
    "    \n",
    "    ##Predizendo as classes nos dados de teste e todos dados, utilizando os melhores parâmetros\n",
    "    y_test_pred = gs.predict(X_test)\n",
    "    #y_test_pred_todos = gs.predict(X_todos)\n",
    "        \n",
    "    #Calculando acurácia \n",
    "    accuracy_teste = accuracy_score(y_test, y_test_pred)\n",
    "    #accuracy_todos = accuracy_score(y_todos, y_test_pred_todos)\n",
    "        \n",
    "    #calculando f1_score da classe 1\n",
    "    f1_teste = f1_score(y_test, y_test_pred)\n",
    "    #f1_todos = f1_score(y_todos, y_test_pred_todos)\n",
    "    \n",
    "    #calculando área sobre a curva ROC_AUC:\n",
    "    auc_teste = roc_auc_score(y_test, y_test_pred)\n",
    "    #auc_todos = roc_auc_score(y_todos, y_test_pred_todos)\n",
    "        \n",
    "    #Calculando Recall clase 1\n",
    "    rec0_teste = recall_score(y_test, y_test_pred, pos_label=0)\n",
    "    rec1_teste = recall_score(y_test, y_test_pred, pos_label=1)\n",
    "    \n",
    "    #rec0_todos = recall_score(y_todos, y_test_pred_todos, pos_label=0)\n",
    "    #rec1_todos = recall_score(y_todos, y_test_pred_todos, pos_label=1)\n",
    "    \n",
    "    #Calculando a acurácia balanceada\n",
    "    accuracy_teste_balanced = balanced_accuracy_score(y_test, y_test_pred)\n",
    "    \n",
    "    # Adicionando todos resultados em uma única lista\n",
    "    resultados.append(np.array([i,hyperparams['reg_param'],hyperparams['store_covariance'],hyperparams['tol'],acuracy_treino,accuracy_teste,accuracy_teste_balanced,rec0_teste,rec1_teste,f1_teste,auc_teste]))"
   ]
  },
  {
   "cell_type": "code",
   "execution_count": null,
   "metadata": {},
   "outputs": [],
   "source": [
    "#transformando os resultados para dataframe e ordenando por recall da classe 0:\n",
    "resultados = pd.DataFrame(np.array(resultados), columns=['repeticao','reg_param','store_covariance','tol','acuracy_treino','acuracia_teste','acuracia_balanceada_teste','rec_0_teste','rec_1_teste','f1_teste','auc_teste'])\n",
    "resultados.sort_values(by = 'auc_teste', ascending = False)"
   ]
  },
  {
   "cell_type": "markdown",
   "metadata": {},
   "source": [
    "Hiperparâmetros\n",
    "\n",
    "- reg_param: 0.1\n",
    "- store_covarianve: true  \n",
    "- tol: 10000"
   ]
  },
  {
   "cell_type": "code",
   "execution_count": null,
   "metadata": {},
   "outputs": [],
   "source": []
  },
  {
   "cell_type": "code",
   "execution_count": null,
   "metadata": {},
   "outputs": [],
   "source": []
  },
  {
   "cell_type": "markdown",
   "metadata": {},
   "source": [
    "### 8.4.1 QuadraticDiscriminantAnalysis Modelo Final"
   ]
  },
  {
   "cell_type": "code",
   "execution_count": null,
   "metadata": {},
   "outputs": [],
   "source": [
    "X = df_final9[features+featuresd1+featuresd2+featuresd3]\n",
    "y = df_final9['Fechamento'] \n",
    "\n",
    "X_train, X_test, y_train, y_test = train_test_split(X, y, test_size=0.3, random_state=10, stratify=y)\n",
    "\n",
    "quadratic = QuadraticDiscriminantAnalysis(reg_param = 0.1, store_covariance= True, tol = 10000)\n",
    "quadratic.fit(X_train,y_train)\n"
   ]
  },
  {
   "cell_type": "code",
   "execution_count": null,
   "metadata": {},
   "outputs": [],
   "source": [
    "#Predizendo y\n",
    "y_pred = quadratic.predict(X_test)\n",
    "\n",
    "#Relatórios e matriz de confusao\n",
    "print(\"Classification Report Dados:\\n\",classification_report(y_test,y_pred))\n",
    "print(\"\")\n",
    "print(\"Confusion Matrix Dados de Producao:\\n\",confusion_matrix(y_test,y_pred))\n",
    "print(\"\")"
   ]
  },
  {
   "cell_type": "code",
   "execution_count": null,
   "metadata": {},
   "outputs": [],
   "source": [
    "#Calculando o recall\n",
    "recall_0 = recall_score(y_test, y_pred, pos_label=0)\n",
    "recall_1 = recall_score(y_test, y_pred, pos_label=1)\n",
    "\n",
    "\n",
    "#Calculando acurácia \n",
    "accuracy = accuracy_score(y_test, y_pred)\n",
    "\n",
    "#Calculando acurácia balanceada\n",
    "accuracy_balanced = balanced_accuracy_score(y_test, y_pred)\n",
    "\n",
    "#calculando f1_score\n",
    "f1_0 = f1_score(y_test, y_pred,pos_label=0)\n",
    "f1_1 = f1_score(y_test, y_pred,pos_label=1)\n",
    "\n",
    "#Calculando AUC\n",
    "auc = roc_auc_score(y_test, y_pred)\n",
    "\n",
    "print(\"Recall_0: %s\" % (recall_0))\n",
    "print(\"Recall_1: %s\" % (recall_1))\n",
    "print(\"Acuracia: %s\" % (accuracy))\n",
    "print(\"Acuracia Balanceada: %s\" % (accuracy_balanced))\n",
    "print(\"F1_Score_0: %s\" % (f1_0))\n",
    "print(\"F1_Score_1: %s\" % (f1_1))\n",
    "print(\"AUC: %s\" % (auc))"
   ]
  },
  {
   "cell_type": "markdown",
   "metadata": {},
   "source": [
    "## 8.5 LGBMClassifier"
   ]
  },
  {
   "cell_type": "code",
   "execution_count": null,
   "metadata": {},
   "outputs": [],
   "source": [
    "from lightgbm import LGBMClassifier"
   ]
  },
  {
   "cell_type": "code",
   "execution_count": null,
   "metadata": {},
   "outputs": [],
   "source": [
    "acuracia_dados = make_scorer(accuracy_score)\n",
    "f1_dados = make_scorer(f1_score)\n",
    "balanced_acc_dados = make_scorer(balanced_accuracy_score)\n",
    "scoring = {\"accuracy\": acuracia_dados, \"f1\":f1_dados, \"bacuracy\":balanced_acc_dados}"
   ]
  },
  {
   "cell_type": "code",
   "execution_count": null,
   "metadata": {},
   "outputs": [],
   "source": [
    "resultados = []\n",
    "\n",
    "#Definição dos dados\n",
    "X_todos = df_final9[features+featuresd1+featuresd2+featuresd3]\n",
    "y_todos = df_final9['Fechamento']  \n",
    "\n",
    "    \n",
    "#Repete os experimentos 30x\n",
    "for i in range(30):\n",
    "    \n",
    "    #Holdout:\n",
    "    X_train, X_test, y_train, y_test = train_test_split(X, y, test_size=0.3, random_state=i, stratify=y)\n",
    "        \n",
    "    #Validação cruzada com 10 kfolds\n",
    "    kfold = KFold(n_splits = 10, shuffle = True, random_state = i)\n",
    "    \n",
    "    print(\"Fazendo gridsearch - Repeticao %s\" % (i+1))\n",
    "    \n",
    "    gs = GridSearchCV(\n",
    "        LGBMClassifier(random_state=i),\n",
    "        param_grid={\"max_depth\": [-1,100], \n",
    "                    \"learning_rate\": [0.1,0.2,0.3], \n",
    "                    \"n_estimators\": [100,50,150], \n",
    "                    \"num_leaves\": [31,10,50]   }, \n",
    "        scoring=scoring,\n",
    "        refit=\"bacuracy\",\n",
    "        n_jobs=2,\n",
    "        return_train_score=True,\n",
    "        cv = kfold\n",
    "            )\n",
    "        \n",
    "    #Treinando o modelo com dados de treino c/ 9 folds e utilizando 1 fold para teste\n",
    "    gs.fit(X_train, y_train)\n",
    "    \n",
    "    #Melhores resultados e hiperparâmetros encontrados\n",
    "    acuracy_treino = gs.best_score_\n",
    "    hyperparams = gs.best_params_\n",
    "    \n",
    "    ##Predizendo as classes nos dados de teste e todos dados, utilizando os melhores parâmetros\n",
    "    y_test_pred = gs.predict(X_test)\n",
    "    #y_test_pred_todos = gs.predict(X_todos)\n",
    "        \n",
    "    #Calculando acurácia \n",
    "    accuracy_teste = accuracy_score(y_test, y_test_pred)\n",
    "    #accuracy_todos = accuracy_score(y_todos, y_test_pred_todos)\n",
    "        \n",
    "    #calculando f1_score da classe 1\n",
    "    f1_teste = f1_score(y_test, y_test_pred)\n",
    "    #f1_todos = f1_score(y_todos, y_test_pred_todos)\n",
    "    \n",
    "    #calculando área sobre a curva ROC_AUC:\n",
    "    auc_teste = roc_auc_score(y_test, y_test_pred)\n",
    "    #auc_todos = roc_auc_score(y_todos, y_test_pred_todos)\n",
    "        \n",
    "    #Calculando Recall clase 1\n",
    "    rec0_teste = recall_score(y_test, y_test_pred, pos_label=0)\n",
    "    rec1_teste = recall_score(y_test, y_test_pred, pos_label=1)\n",
    "    \n",
    "    #rec0_todos = recall_score(y_todos, y_test_pred_todos, pos_label=0)\n",
    "    #rec1_todos = recall_score(y_todos, y_test_pred_todos, pos_label=1)\n",
    "    \n",
    "    #Calculando a acurácia balanceada\n",
    "    accuracy_teste_balanced = balanced_accuracy_score(y_test, y_test_pred)\n",
    "    \n",
    "    # Adicionando todos resultados em uma única lista\n",
    "    resultados.append(np.array([i,hyperparams['max_depth'],hyperparams['learning_rate'],hyperparams['n_estimators'],acuracy_treino,accuracy_teste,accuracy_teste_balanced,rec0_teste,rec1_teste,f1_teste,auc_teste]))"
   ]
  },
  {
   "cell_type": "code",
   "execution_count": null,
   "metadata": {},
   "outputs": [],
   "source": [
    "#transformando os resultados para dataframe e ordenando por recall da classe 0:\n",
    "resultados = pd.DataFrame(np.array(resultados), columns=['repeticao','max_depth','learning_rate','n_estimators','acuracy_treino','acuracia_teste','acuracia_balanceada_teste','rec_0_teste','rec_1_teste','f1_teste','auc_teste'])\n",
    "resultados.sort_values(by = 'auc_teste', ascending = False)"
   ]
  },
  {
   "cell_type": "markdown",
   "metadata": {},
   "source": [
    "Hiperparâmetros\n",
    "\n",
    "- max_depth: -1 (sem limite)\n",
    "- learning_rate\t: >=0.3\n",
    "- num_estimator <=100\n",
    "- num_leaves ?"
   ]
  },
  {
   "cell_type": "code",
   "execution_count": null,
   "metadata": {},
   "outputs": [],
   "source": [
    "resultados = []\n",
    "\n",
    "#Definição dos dados\n",
    "X_todos = df_final9[features+featuresd1+featuresd2+featuresd3]\n",
    "y_todos = df_final9['Fechamento']  \n",
    "\n",
    "    \n",
    "#Repete os experimentos 30x\n",
    "for i in range(30):\n",
    "    \n",
    "    #Holdout:\n",
    "    X_train, X_test, y_train, y_test = train_test_split(X, y, test_size=0.3, random_state=i, stratify=y)\n",
    "        \n",
    "    #Validação cruzada com 10 kfolds\n",
    "    kfold = KFold(n_splits = 10, shuffle = True, random_state = i)\n",
    "    \n",
    "    print(\"Fazendo gridsearch - Repeticao %s\" % (i+1))\n",
    "    \n",
    "    gs = GridSearchCV(\n",
    "        LGBMClassifier(random_state=i),\n",
    "        param_grid={\"max_depth\": [-1,100], \n",
    "                    \"learning_rate\": [0.3,0.5,0.7], \n",
    "                    \"n_estimators\": [20,30,40,50,60,70,80,90,100], \n",
    "                    \"num_leaves\": [31,10,50]   }, \n",
    "        scoring=scoring,\n",
    "        refit=\"bacuracy\",\n",
    "        n_jobs=2,\n",
    "        return_train_score=True,\n",
    "        cv = kfold\n",
    "            )\n",
    "        \n",
    "    #Treinando o modelo com dados de treino c/ 9 folds e utilizando 1 fold para teste\n",
    "    gs.fit(X_train, y_train)\n",
    "    \n",
    "    #Melhores resultados e hiperparâmetros encontrados\n",
    "    acuracy_treino = gs.best_score_\n",
    "    hyperparams = gs.best_params_\n",
    "    \n",
    "    ##Predizendo as classes nos dados de teste e todos dados, utilizando os melhores parâmetros\n",
    "    y_test_pred = gs.predict(X_test)\n",
    "    #y_test_pred_todos = gs.predict(X_todos)\n",
    "        \n",
    "    #Calculando acurácia \n",
    "    accuracy_teste = accuracy_score(y_test, y_test_pred)\n",
    "    #accuracy_todos = accuracy_score(y_todos, y_test_pred_todos)\n",
    "        \n",
    "    #calculando f1_score da classe 1\n",
    "    f1_teste = f1_score(y_test, y_test_pred)\n",
    "    #f1_todos = f1_score(y_todos, y_test_pred_todos)\n",
    "    \n",
    "    #calculando área sobre a curva ROC_AUC:\n",
    "    auc_teste = roc_auc_score(y_test, y_test_pred)\n",
    "    #auc_todos = roc_auc_score(y_todos, y_test_pred_todos)\n",
    "        \n",
    "    #Calculando Recall clase 1\n",
    "    rec0_teste = recall_score(y_test, y_test_pred, pos_label=0)\n",
    "    rec1_teste = recall_score(y_test, y_test_pred, pos_label=1)\n",
    "    \n",
    "    #rec0_todos = recall_score(y_todos, y_test_pred_todos, pos_label=0)\n",
    "    #rec1_todos = recall_score(y_todos, y_test_pred_todos, pos_label=1)\n",
    "    \n",
    "    #Calculando a acurácia balanceada\n",
    "    accuracy_teste_balanced = balanced_accuracy_score(y_test, y_test_pred)\n",
    "    \n",
    "    # Adicionando todos resultados em uma única lista\n",
    "    resultados.append(np.array([i,hyperparams['max_depth'],hyperparams['learning_rate'],hyperparams['n_estimators'],hyperparams['num_leaves'],acuracy_treino,accuracy_teste,accuracy_teste_balanced,rec0_teste,rec1_teste,f1_teste,auc_teste]))"
   ]
  },
  {
   "cell_type": "code",
   "execution_count": null,
   "metadata": {},
   "outputs": [],
   "source": [
    "pd.set_option('display.precision',4)"
   ]
  },
  {
   "cell_type": "code",
   "execution_count": null,
   "metadata": {},
   "outputs": [],
   "source": [
    "pd.reset_option('^display.',silent=True)"
   ]
  },
  {
   "cell_type": "code",
   "execution_count": null,
   "metadata": {},
   "outputs": [],
   "source": [
    "#transformando os resultados para dataframe e ordenando por recall da classe 0:\n",
    "resultados = pd.DataFrame(np.array(resultados), columns=['repeticao','max_depth','learning_rate','n_estimators','num_leaves','acuracy_treino','acuracia_teste','acuracia_balanceada_teste','rec_0_teste','rec_1_teste','f1_teste','auc_teste'])\n",
    "resultados.sort_values(by = 'auc_teste', ascending = False)"
   ]
  },
  {
   "cell_type": "markdown",
   "metadata": {},
   "source": [
    "Hiperparâmetros\n",
    "\n",
    "- max_depth: -1 (sem limite)\n",
    "- learning_rate\t: entre 0.7 e 0.5\n",
    "- num_estimator entre 90 e 70\n",
    "- num_leaves próximo a 31 (>10 e <50)"
   ]
  },
  {
   "cell_type": "code",
   "execution_count": null,
   "metadata": {},
   "outputs": [],
   "source": [
    "acuracia_dados = make_scorer(accuracy_score)\n",
    "f1_dados = make_scorer(f1_score)\n",
    "balanced_acc_dados = make_scorer(balanced_accuracy_score)\n",
    "auc_dados = make_scorer(roc_auc_score)\n",
    "scoring = {\"accuracy\": acuracia_dados, \"f1\":f1_dados, \"bacuracy\":balanced_acc_dados}"
   ]
  },
  {
   "cell_type": "code",
   "execution_count": null,
   "metadata": {},
   "outputs": [],
   "source": [
    "resultados = []\n",
    "\n",
    "#Definição dos dados\n",
    "X_todos = df_final9[features+featuresd1+featuresd2+featuresd3]\n",
    "y_todos = df_final9['Fechamento']  \n",
    "\n",
    "    \n",
    "#Repete os experimentos 20x\n",
    "for i in range(20):\n",
    "    \n",
    "    #Holdout:\n",
    "    X_train, X_test, y_train, y_test = train_test_split(X, y, test_size=0.3, random_state=i, stratify=y)\n",
    "        \n",
    "    #Validação cruzada com 10 kfolds\n",
    "    kfold = KFold(n_splits = 10, shuffle = True, random_state = i)\n",
    "    \n",
    "    print(\"Fazendo gridsearch - Repeticao %s\" % (i+1))\n",
    "    \n",
    "    gs = GridSearchCV(\n",
    "        LGBMClassifier(random_state=i),\n",
    "        param_grid={\"max_depth\": [-1], \n",
    "                    \"learning_rate\": [0.5,0.6,0.7,0.8], \n",
    "                    \"n_estimators\": [70,75,80,85,90], \n",
    "                    \"num_leaves\": [15,20,25,30,31,35,40,45]   }, \n",
    "        scoring=scoring,\n",
    "        refit=\"bacuracy\",\n",
    "        n_jobs=2,\n",
    "        return_train_score=True,\n",
    "        cv = kfold\n",
    "            )\n",
    "        \n",
    "    #Treinando o modelo com dados de treino c/ 9 folds e utilizando 1 fold para teste\n",
    "    gs.fit(X_train, y_train)\n",
    "    \n",
    "    #Melhores resultados e hiperparâmetros encontrados\n",
    "    acuracy_treino = gs.best_score_\n",
    "    hyperparams = gs.best_params_\n",
    "    \n",
    "    ##Predizendo as classes nos dados de teste e todos dados, utilizando os melhores parâmetros\n",
    "    y_test_pred = gs.predict(X_test)\n",
    "    #y_test_pred_todos = gs.predict(X_todos)\n",
    "        \n",
    "    #Calculando acurácia \n",
    "    accuracy_teste = accuracy_score(y_test, y_test_pred)\n",
    "    #accuracy_todos = accuracy_score(y_todos, y_test_pred_todos)\n",
    "        \n",
    "    #calculando f1_score da classe 1\n",
    "    f1_teste = f1_score(y_test, y_test_pred)\n",
    "    #f1_todos = f1_score(y_todos, y_test_pred_todos)\n",
    "    \n",
    "    #calculando área sobre a curva ROC_AUC:\n",
    "    auc_teste = roc_auc_score(y_test, y_test_pred)\n",
    "    #auc_todos = roc_auc_score(y_todos, y_test_pred_todos)\n",
    "        \n",
    "    #Calculando Recall clase 1\n",
    "    rec0_teste = recall_score(y_test, y_test_pred, pos_label=0)\n",
    "    rec1_teste = recall_score(y_test, y_test_pred, pos_label=1)\n",
    "    \n",
    "    #rec0_todos = recall_score(y_todos, y_test_pred_todos, pos_label=0)\n",
    "    #rec1_todos = recall_score(y_todos, y_test_pred_todos, pos_label=1)\n",
    "    \n",
    "    #Calculando a acurácia balanceada\n",
    "    accuracy_teste_balanced = balanced_accuracy_score(y_test, y_test_pred)\n",
    "    \n",
    "    # Adicionando todos resultados em uma única lista\n",
    "    resultados.append(np.array([i,hyperparams['max_depth'],hyperparams['learning_rate'],hyperparams['n_estimators'],hyperparams['num_leaves'],acuracy_treino,accuracy_teste,accuracy_teste_balanced,rec0_teste,rec1_teste,f1_teste,auc_teste]))"
   ]
  },
  {
   "cell_type": "code",
   "execution_count": null,
   "metadata": {},
   "outputs": [],
   "source": [
    "#transformando os resultados para dataframe e ordenando por recall da classe 0:\n",
    "resultados = pd.DataFrame(np.array(resultados), columns=['repeticao','max_depth','learning_rate','n_estimators','num_leaves','acuracy_treino','acuracia_teste','acuracia_balanceada_teste','rec_0_teste','rec_1_teste','f1_teste','auc_teste'])\n",
    "resultados.sort_values(by = 'auc_teste', ascending = False)"
   ]
  },
  {
   "cell_type": "markdown",
   "metadata": {},
   "source": [
    "Hiperparâmetros\n",
    "\n",
    "- max_depth: -1 (sem limite)\n",
    "- learning_rate\t: 0,6\n",
    "- num_estimator entre 80 e 85\n",
    "- num_leaves próximo a <=15"
   ]
  },
  {
   "cell_type": "code",
   "execution_count": null,
   "metadata": {},
   "outputs": [],
   "source": [
    "resultados = []\n",
    "\n",
    "#Definição dos dados\n",
    "X_todos = df_final9[features+featuresd1+featuresd2+featuresd3]\n",
    "y_todos = df_final9['Fechamento']  \n",
    "\n",
    "    \n",
    "#Repete os experimentos 20x\n",
    "for i in range(20):\n",
    "    \n",
    "    #Holdout:\n",
    "    X_train, X_test, y_train, y_test = train_test_split(X, y, test_size=0.3, random_state=i, stratify=y)\n",
    "        \n",
    "    #Validação cruzada com 10 kfolds\n",
    "    kfold = KFold(n_splits = 10, shuffle = True, random_state = i)\n",
    "    \n",
    "    print(\"Fazendo gridsearch - Repeticao %s\" % (i+1))\n",
    "    \n",
    "    gs = GridSearchCV(\n",
    "        LGBMClassifier(random_state=i),\n",
    "        param_grid={\"max_depth\": [-1], \n",
    "                    \"learning_rate\": [0.6], \n",
    "                    \"n_estimators\": [76,77,78,79,80,81,82,83,84,85], \n",
    "                    \"num_leaves\": [2,4,6,8,10,11,12,13,14,15]   }, \n",
    "        scoring=scoring,\n",
    "        refit=\"bacuracy\",\n",
    "        n_jobs=2,\n",
    "        return_train_score=True,\n",
    "        cv = kfold\n",
    "            )\n",
    "        \n",
    "    #Treinando o modelo com dados de treino c/ 9 folds e utilizando 1 fold para teste\n",
    "    gs.fit(X_train, y_train)\n",
    "    \n",
    "    #Melhores resultados e hiperparâmetros encontrados\n",
    "    acuracy_treino = gs.best_score_\n",
    "    hyperparams = gs.best_params_\n",
    "    \n",
    "    ##Predizendo as classes nos dados de teste e todos dados, utilizando os melhores parâmetros\n",
    "    y_test_pred = gs.predict(X_test)\n",
    "    #y_test_pred_todos = gs.predict(X_todos)\n",
    "        \n",
    "    #Calculando acurácia \n",
    "    accuracy_teste = accuracy_score(y_test, y_test_pred)\n",
    "    #accuracy_todos = accuracy_score(y_todos, y_test_pred_todos)\n",
    "        \n",
    "    #calculando f1_score da classe 1\n",
    "    f1_teste = f1_score(y_test, y_test_pred)\n",
    "    #f1_todos = f1_score(y_todos, y_test_pred_todos)\n",
    "    \n",
    "    #calculando área sobre a curva ROC_AUC:\n",
    "    auc_teste = roc_auc_score(y_test, y_test_pred)\n",
    "    #auc_todos = roc_auc_score(y_todos, y_test_pred_todos)\n",
    "        \n",
    "    #Calculando Recall clase 1\n",
    "    rec0_teste = recall_score(y_test, y_test_pred, pos_label=0)\n",
    "    rec1_teste = recall_score(y_test, y_test_pred, pos_label=1)\n",
    "    \n",
    "    #rec0_todos = recall_score(y_todos, y_test_pred_todos, pos_label=0)\n",
    "    #rec1_todos = recall_score(y_todos, y_test_pred_todos, pos_label=1)\n",
    "    \n",
    "    #Calculando a acurácia balanceada\n",
    "    accuracy_teste_balanced = balanced_accuracy_score(y_test, y_test_pred)\n",
    "    \n",
    "    # Adicionando todos resultados em uma única lista\n",
    "    resultados.append(np.array([i,hyperparams['max_depth'],hyperparams['learning_rate'],hyperparams['n_estimators'],hyperparams['num_leaves'],acuracy_treino,accuracy_teste,accuracy_teste_balanced,rec0_teste,rec1_teste,f1_teste,auc_teste]))"
   ]
  },
  {
   "cell_type": "code",
   "execution_count": null,
   "metadata": {},
   "outputs": [],
   "source": [
    "#transformando os resultados para dataframe e ordenando por recall da classe 0:\n",
    "resultados = pd.DataFrame(np.array(resultados), columns=['repeticao','max_depth','learning_rate','n_estimators','num_leaves','acuracy_treino','acuracia_teste','acuracia_balanceada_teste','rec_0_teste','rec_1_teste','f1_teste','auc_teste'])\n",
    "resultados.sort_values(by = 'auc_teste', ascending = False)"
   ]
  },
  {
   "cell_type": "markdown",
   "metadata": {},
   "source": [
    "Hiperparâmetros\n",
    "\n",
    "- max_depth: -1 (sem limite)\n",
    "- learning_rate\t: 0,6\n",
    "- num_estimator: 78\n",
    "- num_leaves: 4"
   ]
  },
  {
   "cell_type": "markdown",
   "metadata": {},
   "source": [
    "### 8.5.1 LGBM Modelo final"
   ]
  },
  {
   "cell_type": "code",
   "execution_count": null,
   "metadata": {},
   "outputs": [],
   "source": [
    "X = df_final9[features+featuresd1+featuresd2+featuresd3]\n",
    "y = df_final9['Fechamento'] \n",
    "\n",
    "X_train, X_test, y_train, y_test = train_test_split(X, y, test_size=0.3, random_state=10, stratify=y)\n",
    "\n",
    "lgbm = LGBMClassifier(max_depth = -1,learning_rate = 0.6, num_estimator = 78, num_leaves = 4,  random_state=3)\n",
    "lgbm.fit(X_train,y_train)"
   ]
  },
  {
   "cell_type": "code",
   "execution_count": null,
   "metadata": {},
   "outputs": [],
   "source": [
    "#Predizendo y\n",
    "y_pred = lgbm.predict(X_test)\n",
    "\n",
    "#Relatórios e matriz de confusao\n",
    "print(\"Classification Report Dados:\\n\",classification_report(y_test,y_pred))\n",
    "print(\"\")\n",
    "print(\"Confusion Matrix Dados de Producao:\\n\",confusion_matrix(y_test,y_pred))\n",
    "print(\"\")\n"
   ]
  },
  {
   "cell_type": "code",
   "execution_count": null,
   "metadata": {},
   "outputs": [],
   "source": [
    "#Calculando o recall\n",
    "recall_0 = recall_score(y_test, y_pred, pos_label=0)\n",
    "recall_1 = recall_score(y_test, y_pred, pos_label=1)\n",
    "\n",
    "\n",
    "#Calculando acurácia \n",
    "accuracy = accuracy_score(y_test, y_pred)\n",
    "\n",
    "#Calculando acurácia balanceada\n",
    "accuracy_balanced = balanced_accuracy_score(y_test, y_pred)\n",
    "\n",
    "#calculando f1_score\n",
    "f1_0 = f1_score(y_test, y_pred,pos_label=0)\n",
    "f1_1 = f1_score(y_test, y_pred,pos_label=1)\n",
    "\n",
    "#Calculando AUC\n",
    "auc = roc_auc_score(y_test, y_pred)\n",
    "\n",
    "print(\"Recall_0: %s\" % (recall_0))\n",
    "print(\"Recall_1: %s\" % (recall_1))\n",
    "print(\"Acuracia: %s\" % (accuracy))\n",
    "print(\"Acuracia Balanceada: %s\" % (accuracy_balanced))\n",
    "print(\"F1_Score_0: %s\" % (f1_0))\n",
    "print(\"F1_Score_1: %s\" % (f1_1))\n",
    "print(\"AUC: %s\" % (auc))"
   ]
  },
  {
   "cell_type": "markdown",
   "metadata": {},
   "source": [
    "## 8.6 RandomForestClassifier"
   ]
  },
  {
   "cell_type": "code",
   "execution_count": null,
   "metadata": {},
   "outputs": [],
   "source": [
    "from sklearn.ensemble import RandomForestClassifier"
   ]
  },
  {
   "cell_type": "code",
   "execution_count": null,
   "metadata": {},
   "outputs": [],
   "source": [
    "acuracia_dados = make_scorer(accuracy_score)\n",
    "f1_dados = make_scorer(f1_score)\n",
    "balanced_acc_dados = make_scorer(balanced_accuracy_score)\n",
    "scoring = {\"accuracy\": acuracia_dados, \"f1\":f1_dados, \"bacuracy\":balanced_acc_dados}"
   ]
  },
  {
   "cell_type": "code",
   "execution_count": null,
   "metadata": {},
   "outputs": [],
   "source": [
    "resultados = []\n",
    "\n",
    "#Definição dos dados\n",
    "X_todos = df_final9[features+featuresd1+featuresd2+featuresd3]\n",
    "y_todos = df_final9['Fechamento']  \n",
    "\n",
    "    \n",
    "#Repete os experimentos 10x\n",
    "for i in range(10):\n",
    "    \n",
    "    #Holdout:\n",
    "    X_train, X_test, y_train, y_test = train_test_split(X, y, test_size=0.3, random_state=i, stratify=y)\n",
    "        \n",
    "    #Validação cruzada com 10 kfolds\n",
    "    kfold = KFold(n_splits = 10, shuffle = True, random_state = i)\n",
    "    \n",
    "    print(\"Fazendo gridsearch - Repeticao %s\" % (i+1))\n",
    "    \n",
    "    gs = GridSearchCV(\n",
    "        RandomForestClassifier(random_state=i) ,\n",
    "        param_grid={\"max_depth\": [10,20,30], \n",
    "                    \"min_samples_leaf\": [1,2,5,10,15], \n",
    "                    \"min_samples_split\": [2,5,10,15],\n",
    "                    \"criterion\": ['gini','entropy','log_loss']}, \n",
    "        scoring=scoring,\n",
    "        refit=\"bacuracy\",\n",
    "        n_jobs=2,\n",
    "        return_train_score=True,\n",
    "        cv = kfold\n",
    "            )\n",
    "        \n",
    "    #Treinando o modelo com dados de treino c/ 9 folds e utilizando 1 fold para teste\n",
    "    gs.fit(X_train, y_train)\n",
    "    \n",
    "    #Melhores resultados e hiperparâmetros encontrados\n",
    "    acuracy_treino = gs.best_score_\n",
    "    hyperparams = gs.best_params_\n",
    "    \n",
    "    ##Predizendo as classes nos dados de teste e todos dados, utilizando os melhores parâmetros\n",
    "    y_test_pred = gs.predict(X_test)\n",
    "    #y_test_pred_todos = gs.predict(X_todos)\n",
    "        \n",
    "    #Calculando acurácia \n",
    "    accuracy_teste = accuracy_score(y_test, y_test_pred)\n",
    "    #accuracy_todos = accuracy_score(y_todos, y_test_pred_todos)\n",
    "        \n",
    "    #calculando f1_score da classe 1\n",
    "    f1_teste = f1_score(y_test, y_test_pred)\n",
    "    #f1_todos = f1_score(y_todos, y_test_pred_todos)\n",
    "    \n",
    "    #calculando área sobre a curva ROC_AUC:\n",
    "    auc_teste = roc_auc_score(y_test, y_test_pred)\n",
    "    #auc_todos = roc_auc_score(y_todos, y_test_pred_todos)\n",
    "        \n",
    "    #Calculando Recall clase 1\n",
    "    rec0_teste = recall_score(y_test, y_test_pred, pos_label=0)\n",
    "    rec1_teste = recall_score(y_test, y_test_pred, pos_label=1)\n",
    "    \n",
    "    #rec0_todos = recall_score(y_todos, y_test_pred_todos, pos_label=0)\n",
    "    #rec1_todos = recall_score(y_todos, y_test_pred_todos, pos_label=1)\n",
    "    \n",
    "    #Calculando a acurácia balanceada\n",
    "    accuracy_teste_balanced = balanced_accuracy_score(y_test, y_test_pred)\n",
    "    \n",
    "    # Adicionando todos resultados em uma única lista\n",
    "    resultados.append(np.array([i,hyperparams['max_depth'],hyperparams['min_samples_leaf'],hyperparams['min_samples_split'],hyperparams['criterion'],acuracy_treino,accuracy_teste,accuracy_teste_balanced,rec0_teste,rec1_teste,f1_teste,auc_teste]))"
   ]
  },
  {
   "cell_type": "code",
   "execution_count": null,
   "metadata": {},
   "outputs": [],
   "source": [
    "#transformando os resultados para dataframe e ordenando por recall da classe 0:\n",
    "resultados = pd.DataFrame(np.array(resultados), columns=['repeticao','max_depth','min_samples_leaf','min_samples_split','criterion','acuracy_treino','acuracia_teste','acuracia_balanceada_teste','rec_0_teste','rec_1_teste','f1_teste','auc_teste'])\n",
    "resultados.sort_values(by = 'auc_teste', ascending = False)"
   ]
  },
  {
   "cell_type": "markdown",
   "metadata": {},
   "source": [
    "Hiperparâmetros\n",
    "\n",
    "- max_depth: entre 10 e 20\n",
    "- min_samples_leaf\t: entre 2 e 1\n",
    "- min_samples_split: entre 5 e 15 ou >=15\n",
    "- criterion: entropy"
   ]
  },
  {
   "cell_type": "code",
   "execution_count": null,
   "metadata": {},
   "outputs": [],
   "source": [
    "resultados = []\n",
    "\n",
    "#Definição dos dados\n",
    "X_todos = df_final9[features+featuresd1+featuresd2+featuresd3]\n",
    "y_todos = df_final9['Fechamento']  \n",
    "\n",
    "    \n",
    "#Repete os experimentos 10x\n",
    "for i in range(10):\n",
    "    \n",
    "    #Holdout:\n",
    "    X_train, X_test, y_train, y_test = train_test_split(X, y, test_size=0.3, random_state=i, stratify=y)\n",
    "        \n",
    "    #Validação cruzada com 10 kfolds\n",
    "    kfold = KFold(n_splits = 10, shuffle = True, random_state = i)\n",
    "    \n",
    "    print(\"Fazendo gridsearch - Repeticao %s\" % (i+1))\n",
    "    \n",
    "    gs = GridSearchCV(\n",
    "        RandomForestClassifier(random_state=i) ,\n",
    "        param_grid={\"max_depth\": [10,12,14,16,18,20], \n",
    "                    \"min_samples_leaf\": [1,2], \n",
    "                    \"min_samples_split\": [5,15,20,25,30],\n",
    "                    \"criterion\": ['entropy']}, \n",
    "        scoring=scoring,\n",
    "        refit=\"bacuracy\",\n",
    "        n_jobs=2,\n",
    "        return_train_score=True,\n",
    "        cv = kfold\n",
    "            )\n",
    "        \n",
    "    #Treinando o modelo com dados de treino c/ 9 folds e utilizando 1 fold para teste\n",
    "    gs.fit(X_train, y_train)\n",
    "    \n",
    "    #Melhores resultados e hiperparâmetros encontrados\n",
    "    acuracy_treino = gs.best_score_\n",
    "    hyperparams = gs.best_params_\n",
    "    \n",
    "    ##Predizendo as classes nos dados de teste e todos dados, utilizando os melhores parâmetros\n",
    "    y_test_pred = gs.predict(X_test)\n",
    "    #y_test_pred_todos = gs.predict(X_todos)\n",
    "        \n",
    "    #Calculando acurácia \n",
    "    accuracy_teste = accuracy_score(y_test, y_test_pred)\n",
    "    #accuracy_todos = accuracy_score(y_todos, y_test_pred_todos)\n",
    "        \n",
    "    #calculando f1_score da classe 1\n",
    "    f1_teste = f1_score(y_test, y_test_pred)\n",
    "    #f1_todos = f1_score(y_todos, y_test_pred_todos)\n",
    "    \n",
    "    #calculando área sobre a curva ROC_AUC:\n",
    "    auc_teste = roc_auc_score(y_test, y_test_pred)\n",
    "    #auc_todos = roc_auc_score(y_todos, y_test_pred_todos)\n",
    "        \n",
    "    #Calculando Recall clase 1\n",
    "    rec0_teste = recall_score(y_test, y_test_pred, pos_label=0)\n",
    "    rec1_teste = recall_score(y_test, y_test_pred, pos_label=1)\n",
    "    \n",
    "    #rec0_todos = recall_score(y_todos, y_test_pred_todos, pos_label=0)\n",
    "    #rec1_todos = recall_score(y_todos, y_test_pred_todos, pos_label=1)\n",
    "    \n",
    "    #Calculando a acurácia balanceada\n",
    "    accuracy_teste_balanced = balanced_accuracy_score(y_test, y_test_pred)\n",
    "    \n",
    "    # Adicionando todos resultados em uma única lista\n",
    "    resultados.append(np.array([i,hyperparams['max_depth'],hyperparams['min_samples_leaf'],hyperparams['min_samples_split'],hyperparams['criterion'],acuracy_treino,accuracy_teste,accuracy_teste_balanced,rec0_teste,rec1_teste,f1_teste,auc_teste]))"
   ]
  },
  {
   "cell_type": "code",
   "execution_count": null,
   "metadata": {},
   "outputs": [],
   "source": [
    "#transformando os resultados para dataframe e ordenando por recall da classe 0:\n",
    "resultados = pd.DataFrame(np.array(resultados), columns=['repeticao','max_depth','min_samples_leaf','min_samples_split','criterion','acuracy_treino','acuracia_teste','acuracia_balanceada_teste','rec_0_teste','rec_1_teste','f1_teste','auc_teste'])\n",
    "resultados.sort_values(by = 'auc_teste', ascending = False)"
   ]
  },
  {
   "cell_type": "markdown",
   "metadata": {},
   "source": [
    "Hiperparâmetros\n",
    "\n",
    "- max_depth: 10\n",
    "- min_samples_leaf\t: entre 2 e 1\n",
    "- min_samples_split: entre 5 e 15\n",
    "- criterion: entropy"
   ]
  },
  {
   "cell_type": "code",
   "execution_count": null,
   "metadata": {},
   "outputs": [],
   "source": [
    "resultados = []\n",
    "\n",
    "#Definição dos dados\n",
    "X_todos = df_final9[features+featuresd1+featuresd2+featuresd3]\n",
    "y_todos = df_final9['Fechamento']  \n",
    "\n",
    "    \n",
    "#Repete os experimentos 10x\n",
    "for i in range(10):\n",
    "    \n",
    "    #Holdout:\n",
    "    X_train, X_test, y_train, y_test = train_test_split(X, y, test_size=0.3, random_state=i, stratify=y)\n",
    "        \n",
    "    #Validação cruzada com 10 kfolds\n",
    "    kfold = KFold(n_splits = 10, shuffle = True, random_state = i)\n",
    "    \n",
    "    print(\"Fazendo gridsearch - Repeticao %s\" % (i+1))\n",
    "    \n",
    "    gs = GridSearchCV(\n",
    "        RandomForestClassifier(random_state=i) ,\n",
    "        param_grid={\"max_depth\": [10], \n",
    "                    \"min_samples_leaf\": [1,2], \n",
    "                    \"min_samples_split\": [5,7,9,11,13,15],\n",
    "                    \"criterion\": ['entropy']}, \n",
    "        scoring=scoring,\n",
    "        refit=\"bacuracy\",\n",
    "        n_jobs=2,\n",
    "        return_train_score=True,\n",
    "        cv = kfold\n",
    "            )\n",
    "        \n",
    "    #Treinando o modelo com dados de treino c/ 9 folds e utilizando 1 fold para teste\n",
    "    gs.fit(X_train, y_train)\n",
    "    \n",
    "    #Melhores resultados e hiperparâmetros encontrados\n",
    "    acuracy_treino = gs.best_score_\n",
    "    hyperparams = gs.best_params_\n",
    "    \n",
    "    ##Predizendo as classes nos dados de teste e todos dados, utilizando os melhores parâmetros\n",
    "    y_test_pred = gs.predict(X_test)\n",
    "    #y_test_pred_todos = gs.predict(X_todos)\n",
    "        \n",
    "    #Calculando acurácia \n",
    "    accuracy_teste = accuracy_score(y_test, y_test_pred)\n",
    "    #accuracy_todos = accuracy_score(y_todos, y_test_pred_todos)\n",
    "        \n",
    "    #calculando f1_score da classe 1\n",
    "    f1_teste = f1_score(y_test, y_test_pred)\n",
    "    #f1_todos = f1_score(y_todos, y_test_pred_todos)\n",
    "    \n",
    "    #calculando área sobre a curva ROC_AUC:\n",
    "    auc_teste = roc_auc_score(y_test, y_test_pred)\n",
    "    #auc_todos = roc_auc_score(y_todos, y_test_pred_todos)\n",
    "        \n",
    "    #Calculando Recall clase 1\n",
    "    rec0_teste = recall_score(y_test, y_test_pred, pos_label=0)\n",
    "    rec1_teste = recall_score(y_test, y_test_pred, pos_label=1)\n",
    "    \n",
    "    #rec0_todos = recall_score(y_todos, y_test_pred_todos, pos_label=0)\n",
    "    #rec1_todos = recall_score(y_todos, y_test_pred_todos, pos_label=1)\n",
    "    \n",
    "    #Calculando a acurácia balanceada\n",
    "    accuracy_teste_balanced = balanced_accuracy_score(y_test, y_test_pred)\n",
    "    \n",
    "    # Adicionando todos resultados em uma única lista\n",
    "    resultados.append(np.array([i,hyperparams['max_depth'],hyperparams['min_samples_leaf'],hyperparams['min_samples_split'],hyperparams['criterion'],acuracy_treino,accuracy_teste,accuracy_teste_balanced,rec0_teste,rec1_teste,f1_teste,auc_teste]))"
   ]
  },
  {
   "cell_type": "code",
   "execution_count": null,
   "metadata": {},
   "outputs": [],
   "source": [
    "#transformando os resultados para dataframe e ordenando por recall da classe 0:\n",
    "resultados = pd.DataFrame(np.array(resultados), columns=['repeticao','max_depth','min_samples_leaf','min_samples_split','criterion','acuracy_treino','acuracia_teste','acuracia_balanceada_teste','rec_0_teste','rec_1_teste','f1_teste','auc_teste'])\n",
    "resultados.sort_values(by = 'auc_teste', ascending = False)"
   ]
  },
  {
   "cell_type": "markdown",
   "metadata": {},
   "source": [
    "Hiperparâmetros\n",
    "\n",
    "- max_depth = 10\n",
    "- min_samples_leaf\t= 2 \n",
    "- min_samples_split = 5\n",
    "- criterion = entropy"
   ]
  },
  {
   "cell_type": "code",
   "execution_count": null,
   "metadata": {},
   "outputs": [],
   "source": [
    "X = df_final9[features+featuresd1+featuresd2+featuresd3]\n",
    "y = df_final9['Fechamento'] \n",
    "\n",
    "X_train, X_test, y_train, y_test = train_test_split(X, y, test_size=0.3, random_state=10, stratify=y)\n",
    "\n",
    "rf = RandomForestClassifier(random_state=1, max_depth = 10, min_samples_leaf = 2, \n",
    "                            min_samples_split = 5, criterion = 'entropy')\n",
    "rf.fit(X_train,y_train)"
   ]
  },
  {
   "cell_type": "code",
   "execution_count": null,
   "metadata": {},
   "outputs": [],
   "source": [
    "#Predizendo y\n",
    "y_pred = rf.predict(X_test)\n",
    "\n",
    "#Relatórios e matriz de confusao\n",
    "print(\"Classification Report Dados:\\n\",classification_report(y_test,y_pred))\n",
    "print(\"\")\n",
    "print(\"Confusion Matrix Dados de Producao:\\n\",confusion_matrix(y_test,y_pred))\n",
    "print(\"\")\n"
   ]
  },
  {
   "cell_type": "code",
   "execution_count": null,
   "metadata": {},
   "outputs": [],
   "source": [
    "#Calculando o recall\n",
    "recall_0 = recall_score(y_test, y_pred, pos_label=0)\n",
    "recall_1 = recall_score(y_test, y_pred, pos_label=1)\n",
    "\n",
    "\n",
    "#Calculando acurácia \n",
    "accuracy = accuracy_score(y_test, y_pred)\n",
    "\n",
    "#Calculando acurácia balanceada\n",
    "accuracy_balanced = balanced_accuracy_score(y_test, y_pred)\n",
    "\n",
    "#calculando f1_score\n",
    "f1_0 = f1_score(y_test, y_pred,pos_label=0)\n",
    "f1_1 = f1_score(y_test, y_pred,pos_label=1)\n",
    "\n",
    "#Calculando AUC\n",
    "auc = roc_auc_score(y_test, y_pred)\n",
    "\n",
    "print(\"Recall_0: %s\" % (recall_0))\n",
    "print(\"Recall_1: %s\" % (recall_1))\n",
    "print(\"Acuracia: %s\" % (accuracy))\n",
    "print(\"Acuracia Balanceada: %s\" % (accuracy_balanced))\n",
    "print(\"F1_Score_0: %s\" % (f1_0))\n",
    "print(\"F1_Score_1: %s\" % (f1_1))\n",
    "print(\"AUC: %s\" % (auc))"
   ]
  },
  {
   "cell_type": "code",
   "execution_count": null,
   "metadata": {},
   "outputs": [],
   "source": []
  },
  {
   "cell_type": "markdown",
   "metadata": {},
   "source": [
    "## 8.7 NearestCentroid"
   ]
  },
  {
   "cell_type": "markdown",
   "metadata": {},
   "source": [
    "## 8.8 NuSVC"
   ]
  },
  {
   "cell_type": "markdown",
   "metadata": {},
   "source": [
    "## 8.9 XGBClassifier"
   ]
  },
  {
   "cell_type": "markdown",
   "metadata": {},
   "source": [
    "## 8.10 SGDClassifier;"
   ]
  },
  {
   "cell_type": "markdown",
   "metadata": {},
   "source": [
    "## 8.11 Perceptron"
   ]
  },
  {
   "cell_type": "markdown",
   "metadata": {},
   "source": [
    "## 8.12 DecisionTreeClassifier"
   ]
  },
  {
   "cell_type": "markdown",
   "metadata": {},
   "source": [
    "## 8.13 MLP"
   ]
  },
  {
   "cell_type": "code",
   "execution_count": null,
   "metadata": {},
   "outputs": [],
   "source": [
    "from sklearn.neural_network import MLPClassifier "
   ]
  },
  {
   "cell_type": "code",
   "execution_count": null,
   "metadata": {},
   "outputs": [],
   "source": [
    "acuracia_dados = make_scorer(accuracy_score)\n",
    "f1_dados = make_scorer(f1_score)\n",
    "balanced_acc_dados = make_scorer(balanced_accuracy_score)\n",
    "scoring = {\"accuracy\": acuracia_dados, \"f1\":f1_dados, \"bacuracy\":balanced_acc_dados}"
   ]
  },
  {
   "cell_type": "code",
   "execution_count": null,
   "metadata": {},
   "outputs": [],
   "source": [
    "resultados = []\n",
    "\n",
    "#Definição dos dados\n",
    "X_todos = df_final9[features+featuresd1+featuresd2+featuresd3]\n",
    "y_todos = df_final9['Fechamento']  \n",
    "\n",
    "    \n",
    "#Repete os experimentos 10x\n",
    "for i in range(10):\n",
    "    \n",
    "    #Holdout:\n",
    "    X_train, X_test, y_train, y_test = train_test_split(X, y, test_size=0.3, random_state=i, stratify=y)\n",
    "        \n",
    "    #Validação cruzada com 10 kfolds\n",
    "    kfold = KFold(n_splits = 10, shuffle = True, random_state = i)\n",
    "    \n",
    "    print(\"Fazendo gridsearch - Repeticao %s\" % (i+1))\n",
    "    \n",
    "    gs = GridSearchCV(\n",
    "        MLPClassifier(random_state=i) ,\n",
    "        param_grid={\"hidden_layer_sizes\": [10], \n",
    "                    \"max_iter\": [200], \n",
    "                    \"activation\": ['identity','logistic','tanh','relu'],\n",
    "                    \"learning_rate_init\": [0.001],\n",
    "                    \"solver\": ['lbfgs','sgd','adam'],\n",
    "                    \"alpha\": [0.0001]   }, \n",
    "        scoring=scoring,\n",
    "        refit=\"bacuracy\",\n",
    "        n_jobs=2,\n",
    "        return_train_score=True,\n",
    "        cv = kfold\n",
    "            )\n",
    "        \n",
    "    #Treinando o modelo com dados de treino c/ 9 folds e utilizando 1 fold para teste\n",
    "    gs.fit(X_train, y_train)\n",
    "    \n",
    "    #Melhores resultados e hiperparâmetros encontrados\n",
    "    acuracy_treino = gs.best_score_\n",
    "    hyperparams = gs.best_params_\n",
    "    \n",
    "    ##Predizendo as classes nos dados de teste e todos dados, utilizando os melhores parâmetros\n",
    "    y_test_pred = gs.predict(X_test)\n",
    "    #y_test_pred_todos = gs.predict(X_todos)\n",
    "        \n",
    "    #Calculando acurácia \n",
    "    accuracy_teste = accuracy_score(y_test, y_test_pred)\n",
    "    #accuracy_todos = accuracy_score(y_todos, y_test_pred_todos)\n",
    "        \n",
    "    #calculando f1_score da classe 1\n",
    "    f1_teste = f1_score(y_test, y_test_pred)\n",
    "    #f1_todos = f1_score(y_todos, y_test_pred_todos)\n",
    "    \n",
    "    #calculando área sobre a curva ROC_AUC:\n",
    "    auc_teste = roc_auc_score(y_test, y_test_pred)\n",
    "    #auc_todos = roc_auc_score(y_todos, y_test_pred_todos)\n",
    "        \n",
    "    #Calculando Recall clase 1\n",
    "    rec0_teste = recall_score(y_test, y_test_pred, pos_label=0)\n",
    "    rec1_teste = recall_score(y_test, y_test_pred, pos_label=1)\n",
    "    \n",
    "    #rec0_todos = recall_score(y_todos, y_test_pred_todos, pos_label=0)\n",
    "    #rec1_todos = recall_score(y_todos, y_test_pred_todos, pos_label=1)\n",
    "    \n",
    "    #Calculando a acurácia balanceada\n",
    "    accuracy_teste_balanced = balanced_accuracy_score(y_test, y_test_pred)\n",
    "    \n",
    "    # Adicionando todos resultados em uma única lista\n",
    "    resultados.append(np.array([i,hyperparams['hidden_layer_sizes'],hyperparams['max_iter'],hyperparams['activation'],hyperparams['learning_rate_init'],hyperparams['solver'],hyperparams['alpha'],acuracy_treino,accuracy_teste,accuracy_teste_balanced,rec0_teste,rec1_teste,f1_teste,auc_teste]))"
   ]
  },
  {
   "cell_type": "code",
   "execution_count": null,
   "metadata": {},
   "outputs": [],
   "source": [
    "#transformando os resultados para dataframe e ordenando por recall da classe 0:\n",
    "resultados = pd.DataFrame(np.array(resultados), columns=['repeticao','hidden_layer_sizes','max_iter','activation','learning_rate_init','solver','alpha','acuracy_treino','acuracia_teste','acuracia_balanceada_teste','rec_0_teste','rec_1_teste','f1_teste','auc_teste'])\n",
    "resultados.sort_values(by = 'auc_teste', ascending = False)"
   ]
  },
  {
   "cell_type": "markdown",
   "metadata": {},
   "source": [
    "Hiperparâmetros\n",
    "\n",
    "- hidden_layer_sizes = \n",
    "- max_iter =\n",
    "- activation = entre identity e relu\n",
    "- learning_rate_init = \n",
    "- solver = entre adam e sgd\n",
    "- alpha = "
   ]
  },
  {
   "cell_type": "code",
   "execution_count": null,
   "metadata": {},
   "outputs": [],
   "source": [
    "resultados = []\n",
    "\n",
    "#Definição dos dados\n",
    "X_todos = df_final9[features+featuresd1+featuresd2+featuresd3]\n",
    "y_todos = df_final9['Fechamento']  \n",
    "\n",
    "    \n",
    "#Repete os experimentos 10x\n",
    "for i in range(10):\n",
    "    \n",
    "    #Holdout:\n",
    "    X_train, X_test, y_train, y_test = train_test_split(X, y, test_size=0.3, random_state=i, stratify=y)\n",
    "        \n",
    "    #Validação cruzada com 10 kfolds\n",
    "    kfold = KFold(n_splits = 10, shuffle = True, random_state = i)\n",
    "    \n",
    "    print(\"Fazendo gridsearch - Repeticao %s\" % (i+1))\n",
    "    \n",
    "    gs = GridSearchCV(\n",
    "        MLPClassifier(random_state=i) ,\n",
    "        param_grid={\"hidden_layer_sizes\": [10,20,30], \n",
    "                    \"max_iter\": [100,200,300], \n",
    "                    \"activation\": ['identity','relu'],\n",
    "                    \"learning_rate_init\": [0.001,0.01,0.0001],\n",
    "                    \"solver\": ['sgd','adam'],\n",
    "                    \"alpha\": [0.0001, 0.001, 0.00001]   }, \n",
    "        scoring=scoring,\n",
    "        refit=\"bacuracy\",\n",
    "        n_jobs=2,\n",
    "        return_train_score=True,\n",
    "        cv = kfold\n",
    "            )\n",
    "        \n",
    "    #Treinando o modelo com dados de treino c/ 9 folds e utilizando 1 fold para teste\n",
    "    gs.fit(X_train, y_train)\n",
    "    \n",
    "    #Melhores resultados e hiperparâmetros encontrados\n",
    "    acuracy_treino = gs.best_score_\n",
    "    hyperparams = gs.best_params_\n",
    "    \n",
    "    ##Predizendo as classes nos dados de teste e todos dados, utilizando os melhores parâmetros\n",
    "    y_test_pred = gs.predict(X_test)\n",
    "    #y_test_pred_todos = gs.predict(X_todos)\n",
    "        \n",
    "    #Calculando acurácia \n",
    "    accuracy_teste = accuracy_score(y_test, y_test_pred)\n",
    "    #accuracy_todos = accuracy_score(y_todos, y_test_pred_todos)\n",
    "        \n",
    "    #calculando f1_score da classe 1\n",
    "    f1_teste = f1_score(y_test, y_test_pred)\n",
    "    #f1_todos = f1_score(y_todos, y_test_pred_todos)\n",
    "    \n",
    "    #calculando área sobre a curva ROC_AUC:\n",
    "    auc_teste = roc_auc_score(y_test, y_test_pred)\n",
    "    #auc_todos = roc_auc_score(y_todos, y_test_pred_todos)\n",
    "        \n",
    "    #Calculando Recall clase 1\n",
    "    rec0_teste = recall_score(y_test, y_test_pred, pos_label=0)\n",
    "    rec1_teste = recall_score(y_test, y_test_pred, pos_label=1)\n",
    "    \n",
    "    #rec0_todos = recall_score(y_todos, y_test_pred_todos, pos_label=0)\n",
    "    #rec1_todos = recall_score(y_todos, y_test_pred_todos, pos_label=1)\n",
    "    \n",
    "    #Calculando a acurácia balanceada\n",
    "    accuracy_teste_balanced = balanced_accuracy_score(y_test, y_test_pred)\n",
    "    \n",
    "    # Adicionando todos resultados em uma única lista\n",
    "    resultados.append(np.array([i,hyperparams['hidden_layer_sizes'],hyperparams['max_iter'],hyperparams['activation'],hyperparams['learning_rate_init'],hyperparams['solver'],hyperparams['alpha'],acuracy_treino,accuracy_teste,accuracy_teste_balanced,rec0_teste,rec1_teste,f1_teste,auc_teste]))"
   ]
  },
  {
   "cell_type": "code",
   "execution_count": null,
   "metadata": {},
   "outputs": [],
   "source": [
    "#transformando os resultados para dataframe e ordenando por recall da classe 0:\n",
    "resultados = pd.DataFrame(np.array(resultados), columns=['repeticao','hidden_layer_sizes','max_iter','activation','learning_rate_init','solver','alpha','acuracy_treino','acuracia_teste','acuracia_balanceada_teste','rec_0_teste','rec_1_teste','f1_teste','auc_teste'])\n",
    "resultados.sort_values(by = 'auc_teste', ascending = False)"
   ]
  },
  {
   "cell_type": "markdown",
   "metadata": {},
   "source": [
    "Hiperparâmetros\n",
    "\n",
    "- hidden_layer_sizes = entre 10 e 20\n",
    "- max_iter = entre 200 e 300\n",
    "- activation = relu\n",
    "- learning_rate_init = 0.01\n",
    "- solver = entre adam e sgd\n",
    "- alpha = 0.0001"
   ]
  },
  {
   "cell_type": "code",
   "execution_count": null,
   "metadata": {},
   "outputs": [],
   "source": [
    "resultados = []\n",
    "\n",
    "#Definição dos dados\n",
    "X_todos = df_final9[features+featuresd1+featuresd2+featuresd3]\n",
    "y_todos = df_final9['Fechamento']  \n",
    "\n",
    "    \n",
    "#Repete os experimentos 10x\n",
    "for i in range(10):\n",
    "    \n",
    "    #Holdout:\n",
    "    X_train, X_test, y_train, y_test = train_test_split(X, y, test_size=0.3, random_state=i, stratify=y)\n",
    "        \n",
    "    #Validação cruzada com 10 kfolds\n",
    "    kfold = KFold(n_splits = 10, shuffle = True, random_state = i)\n",
    "    \n",
    "    print(\"Fazendo gridsearch - Repeticao %s\" % (i+1))\n",
    "    \n",
    "    gs = GridSearchCV(\n",
    "        MLPClassifier(random_state=i) ,\n",
    "        param_grid={\"hidden_layer_sizes\": [10,12,14,16,18,20], \n",
    "                    \"max_iter\": [200,220,240,260,280,300], \n",
    "                    \"activation\": ['relu'],\n",
    "                    \"learning_rate_init\": [0.1,0.01],\n",
    "                    \"solver\": ['sgd','adam'],\n",
    "                    \"alpha\": [0.001]   }, \n",
    "        scoring=scoring,\n",
    "        refit=\"bacuracy\",\n",
    "        n_jobs=2,\n",
    "        return_train_score=True,\n",
    "        cv = kfold\n",
    "            )\n",
    "        \n",
    "    #Treinando o modelo com dados de treino c/ 9 folds e utilizando 1 fold para teste\n",
    "    gs.fit(X_train, y_train)\n",
    "    \n",
    "    #Melhores resultados e hiperparâmetros encontrados\n",
    "    acuracy_treino = gs.best_score_\n",
    "    hyperparams = gs.best_params_\n",
    "    \n",
    "    ##Predizendo as classes nos dados de teste e todos dados, utilizando os melhores parâmetros\n",
    "    y_test_pred = gs.predict(X_test)\n",
    "    #y_test_pred_todos = gs.predict(X_todos)\n",
    "        \n",
    "    #Calculando acurácia \n",
    "    accuracy_teste = accuracy_score(y_test, y_test_pred)\n",
    "    #accuracy_todos = accuracy_score(y_todos, y_test_pred_todos)\n",
    "        \n",
    "    #calculando f1_score da classe 1\n",
    "    f1_teste = f1_score(y_test, y_test_pred)\n",
    "    #f1_todos = f1_score(y_todos, y_test_pred_todos)\n",
    "    \n",
    "    #calculando área sobre a curva ROC_AUC:\n",
    "    auc_teste = roc_auc_score(y_test, y_test_pred)\n",
    "    #auc_todos = roc_auc_score(y_todos, y_test_pred_todos)\n",
    "        \n",
    "    #Calculando Recall clase 1\n",
    "    rec0_teste = recall_score(y_test, y_test_pred, pos_label=0)\n",
    "    rec1_teste = recall_score(y_test, y_test_pred, pos_label=1)\n",
    "    \n",
    "    #rec0_todos = recall_score(y_todos, y_test_pred_todos, pos_label=0)\n",
    "    #rec1_todos = recall_score(y_todos, y_test_pred_todos, pos_label=1)\n",
    "    \n",
    "    #Calculando a acurácia balanceada\n",
    "    accuracy_teste_balanced = balanced_accuracy_score(y_test, y_test_pred)\n",
    "    \n",
    "    # Adicionando todos resultados em uma única lista\n",
    "    resultados.append(np.array([i,hyperparams['hidden_layer_sizes'],hyperparams['max_iter'],hyperparams['activation'],hyperparams['learning_rate_init'],hyperparams['solver'],hyperparams['alpha'],acuracy_treino,accuracy_teste,accuracy_teste_balanced,rec0_teste,rec1_teste,f1_teste,auc_teste]))"
   ]
  },
  {
   "cell_type": "code",
   "execution_count": null,
   "metadata": {},
   "outputs": [],
   "source": [
    "#transformando os resultados para dataframe e ordenando por recall da classe 0:\n",
    "resultados = pd.DataFrame(np.array(resultados), columns=['repeticao','hidden_layer_sizes','max_iter','activation','learning_rate_init','solver','alpha','acuracy_treino','acuracia_teste','acuracia_balanceada_teste','rec_0_teste','rec_1_teste','f1_teste','auc_teste'])\n",
    "resultados.sort_values(by = 'auc_teste', ascending = False)"
   ]
  },
  {
   "cell_type": "markdown",
   "metadata": {},
   "source": [
    "Hiperparâmetros\n",
    "\n",
    "- hidden_layer_sizes = 20\n",
    "- max_iter = 280\n",
    "- activation = relu\n",
    "- learning_rate_init = 0.01\n",
    "- solver = sgd\n",
    "- alpha = 0.0001"
   ]
  },
  {
   "cell_type": "markdown",
   "metadata": {},
   "source": [
    "### 8.13.1 MLP Modelo Final"
   ]
  },
  {
   "cell_type": "code",
   "execution_count": null,
   "metadata": {},
   "outputs": [],
   "source": [
    "X = df_final9[features+featuresd1+featuresd2+featuresd3]\n",
    "y = df_final9['Fechamento'] \n",
    "\n",
    "X_train, X_test, y_train, y_test = train_test_split(X, y, test_size=0.3, random_state=3, stratify=y)\n",
    "\n",
    "mlp = MLPClassifier(random_state=i, hidden_layer_sizes = 20,  max_iter = 280, activation = 'relu', \n",
    "                    learning_rate_init = 0.01, solver = 'sgd', alpha = 0.0001 )\n",
    "mlp.fit(X_train,y_train)"
   ]
  },
  {
   "cell_type": "code",
   "execution_count": null,
   "metadata": {},
   "outputs": [],
   "source": [
    "#Predizendo y\n",
    "y_pred = mlp.predict(X_test)\n",
    "\n",
    "#Relatórios e matriz de confusao\n",
    "print(\"Classification Report Dados:\\n\",classification_report(y_test,y_pred))\n",
    "print(\"\")\n",
    "print(\"Confusion Matrix Dados de Producao:\\n\",confusion_matrix(y_test,y_pred))\n",
    "print(\"\")\n"
   ]
  },
  {
   "cell_type": "code",
   "execution_count": null,
   "metadata": {},
   "outputs": [],
   "source": [
    "#Calculando acurácia \n",
    "accuracy = accuracy_score(y_test, y_pred)\n",
    "\n",
    "#Calculando acurácia balanceada\n",
    "accuracy_balanced = balanced_accuracy_score(y_test, y_pred)\n",
    "\n",
    "#calculando f1_score\n",
    "f1_0 = f1_score(y_test, y_pred,pos_label=0)\n",
    "f1_1 = f1_score(y_test, y_pred,pos_label=1)\n",
    "\n",
    "#Calculando AUC\n",
    "auc = roc_auc_score(y_test, y_pred)\n",
    "\n",
    "print(\"Recall_0: %s\" % (recall_0))\n",
    "print(\"Recall_1: %s\" % (recall_1))\n",
    "print(\"Acuracia: %s\" % (accuracy))\n",
    "print(\"Acuracia Balanceada: %s\" % (accuracy_balanced))\n",
    "print(\"F1_Score_0: %s\" % (f1_0))\n",
    "print(\"F1_Score_1: %s\" % (f1_1))\n",
    "print(\"AUC: %s\" % (auc))"
   ]
  },
  {
   "cell_type": "markdown",
   "metadata": {},
   "source": [
    "# 9.0 Ensemble"
   ]
  },
  {
   "cell_type": "code",
   "execution_count": null,
   "metadata": {},
   "outputs": [],
   "source": []
  },
  {
   "cell_type": "code",
   "execution_count": null,
   "metadata": {},
   "outputs": [],
   "source": []
  }
 ],
 "metadata": {
  "kernelspec": {
   "display_name": "Python 3 (ipykernel)",
   "language": "python",
   "name": "python3"
  },
  "language_info": {
   "codemirror_mode": {
    "name": "ipython",
    "version": 3
   },
   "file_extension": ".py",
   "mimetype": "text/x-python",
   "name": "python",
   "nbconvert_exporter": "python",
   "pygments_lexer": "ipython3",
   "version": "3.9.12"
  }
 },
 "nbformat": 4,
 "nbformat_minor": 4
}
