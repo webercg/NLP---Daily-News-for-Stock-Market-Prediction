{
 "cells": [
  {
   "cell_type": "code",
   "execution_count": 31,
   "metadata": {},
   "outputs": [],
   "source": [
    "#pip install GoogleNews"
   ]
  },
  {
   "cell_type": "code",
   "execution_count": 32,
   "metadata": {},
   "outputs": [],
   "source": [
    "import pandas as pd\n",
    "from GoogleNews import GoogleNews"
   ]
  },
  {
   "cell_type": "markdown",
   "metadata": {},
   "source": [
    "# Definindo região e idioma e data das notícias"
   ]
  },
  {
   "cell_type": "code",
   "execution_count": 33,
   "metadata": {},
   "outputs": [],
   "source": [
    "googlenews =GoogleNews(lang='pt', region='BR')\n",
    "googlenews.set_time_range('01/01/2022','01/01/2022')"
   ]
  },
  {
   "cell_type": "markdown",
   "metadata": {},
   "source": [
    "# Limpando e definindo palavras chaves para busca"
   ]
  },
  {
   "cell_type": "code",
   "execution_count": 34,
   "metadata": {},
   "outputs": [],
   "source": [
    "googlenews.clear()\n",
    "googlenews.search('petrobras')"
   ]
  },
  {
   "cell_type": "code",
   "execution_count": 35,
   "metadata": {},
   "outputs": [],
   "source": [
    "resultados = googlenews.result()"
   ]
  },
  {
   "cell_type": "code",
   "execution_count": 38,
   "metadata": {},
   "outputs": [
    {
     "name": "stdout",
     "output_type": "stream",
     "text": [
      "Existem 4 notícias\n"
     ]
    }
   ],
   "source": [
    "print(\"Existem {} notícias\" .format(len(resultados)))"
   ]
  },
  {
   "cell_type": "code",
   "execution_count": 39,
   "metadata": {},
   "outputs": [
    {
     "data": {
      "text/plain": [
       "[{'title': 'Em post, Bolsonaro culpa desvios na Petrobras por preço do combustível',\n",
       "  'media': 'Metrópoles',\n",
       "  'date': '1/01/2022',\n",
       "  'datetime': None,\n",
       "  'desc': 'O presidente Jair Bolsonaro (PL) dedicou o primeiro post de 2022 a fazer \\ncomentários sobre a Petrobras. Em publicação feita no início da manhã deste \\nsábado...',\n",
       "  'link': 'https://www.metropoles.com/brasil/politica-brasil/em-post-bolsonaro-culpa-desvios-na-petrobras-por-preco-do-combustivel',\n",
       "  'img': 'data:image/gif;base64,R0lGODlhAQABAIAAAP///////yH5BAEKAAEALAAAAAABAAEAAAICTAEAOw=='},\n",
       " {'title': 'RS estuda o que fazer sobre reajuste de 50% do gás da ...',\n",
       "  'media': 'GZH',\n",
       "  'date': '1/01/2022',\n",
       "  'datetime': None,\n",
       "  'desc': 'Entra em vigor neste sábado (1º) o aumento de 50% do gás natural definido \\npela Petrobras, que argumenta elevação dos custos e falta de oferta mundial \\ndo...',\n",
       "  'link': 'https://gauchazh.clicrbs.com.br/colunistas/giane-guerra/noticia/2022/01/rs-estuda-o-que-fazer-sobre-reajuste-de-50-do-gas-da-petrobras-ckxvtlj0f00080188zagzl5l4.html',\n",
       "  'img': 'data:image/gif;base64,R0lGODlhAQABAIAAAP///////yH5BAEKAAEALAAAAAABAAEAAAICTAEAOw=='},\n",
       " {'title': 'A crise de energia nunca ocorreu, diz ministro, mas governo mantém incentivo para reduzir consumo',\n",
       "  'media': 'Folha',\n",
       "  'date': '1/01/2022',\n",
       "  'datetime': None,\n",
       "  'desc': 'Em 2021, apenas uma empresa [a Petrobras] atuava. Em 2022, teremos oito \\nempresas, sendo quatro nacionais. O mercado está sendo aberto, mas isso não \\né da noite...',\n",
       "  'link': 'https://www1.folha.uol.com.br/mercado/2022/01/a-crise-de-energia-nunca-ocorreu-diz-ministro.shtml',\n",
       "  'img': 'data:image/gif;base64,R0lGODlhAQABAIAAAP///////yH5BAEKAAEALAAAAAABAAEAAAICTAEAOw=='},\n",
       " {'title': 'Parque do Itatiaia não ganhou melhorias dois anos após concessão',\n",
       "  'media': 'Folha',\n",
       "  'date': '1/01/2022',\n",
       "  'datetime': None,\n",
       "  'desc': '... 17ª fase da operação Lava Jato, após ter sido citada em delação \\npremiada como beneficiária de um esquema de direcionamento de licitações da \\nPetrobras.',\n",
       "  'link': 'https://www1.folha.uol.com.br/cotidiano/2022/01/parque-do-itatiaia-nao-ganhou-melhorias-dois-anos-apos-concessao.shtml',\n",
       "  'img': 'data:image/gif;base64,R0lGODlhAQABAIAAAP///////yH5BAEKAAEALAAAAAABAAEAAAICTAEAOw=='}]"
      ]
     },
     "execution_count": 39,
     "metadata": {},
     "output_type": "execute_result"
    }
   ],
   "source": [
    "resultados"
   ]
  },
  {
   "cell_type": "raw",
   "metadata": {},
   "source": []
  }
 ],
 "metadata": {
  "kernelspec": {
   "display_name": "Python 3",
   "language": "python",
   "name": "python3"
  },
  "language_info": {
   "codemirror_mode": {
    "name": "ipython",
    "version": 3
   },
   "file_extension": ".py",
   "mimetype": "text/x-python",
   "name": "python",
   "nbconvert_exporter": "python",
   "pygments_lexer": "ipython3",
   "version": "3.8.3"
  }
 },
 "nbformat": 4,
 "nbformat_minor": 4
}
