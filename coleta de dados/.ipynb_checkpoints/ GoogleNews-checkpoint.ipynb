{
 "cells": [
  {
   "cell_type": "markdown",
   "metadata": {
    "colab_type": "text",
    "id": "view-in-github"
   },
   "source": [
    "<a href=\"https://colab.research.google.com/github/webercg/NLP---Daily-News-for-Stock-Market-Prediction/blob/main/GoogleNews.ipynb\" target=\"_parent\"><img src=\"https://colab.research.google.com/assets/colab-badge.svg\" alt=\"Open In Colab\"/></a>"
   ]
  },
  {
   "cell_type": "code",
   "execution_count": 1,
   "metadata": {
    "id": "kmt0vbfaCeu1"
   },
   "outputs": [],
   "source": [
    "#RETIRAR O COMENTARIO AQUI CASO AINDA NAO TENHA INSTALADO A LIB\n",
    "#pip install GoogleNews"
   ]
  },
  {
   "cell_type": "markdown",
   "metadata": {
    "id": "9Z_UrFrJ2IVk"
   },
   "source": []
  },
  {
   "cell_type": "code",
   "execution_count": 2,
   "metadata": {
    "id": "VtiBsH6gLNPm"
   },
   "outputs": [],
   "source": [
    "#IMPORTANDO BIBLIOTECAS  \n",
    "from datetime import timedelta, date\n",
    "import pandas as pd\n",
    "from GoogleNews import GoogleNews\n",
    "#import newspaper\n",
    "#from newspaper import Article\n",
    "import nltk\n",
    "from datetime import datetime\n",
    "\n",
    "\n",
    "#CRIANDO FUNÇÃO P LOOP DE DATAS\n",
    "def daterange(start_date, end_date):\n",
    "    for n in range(int ((end_date - start_date).days)):\n",
    "        yield start_date + timedelta(n)"
   ]
  },
  {
   "cell_type": "code",
   "execution_count": 3,
   "metadata": {
    "id": "5xlAFBaQCmSG"
   },
   "outputs": [],
   "source": [
    "#ESCOLHA DE VARIÁVEIS \n",
    "#data em formato YYYY-M-D\n",
    "#OBS: O maximo que consegui de consulta sem tomar bloqueio do google foram 3 meses de uma vez\n",
    "#start_date = date(2021, 4, 30)\n",
    "#end_date = date(2021, 6, 1)\n",
    "\n",
    "#Inserir data no formato BR DD/MM/YYYY\n",
    "start_date = '01/04/2020'\n",
    "end_date = '30/04/2020'\n",
    "\n",
    "#Transformando para o padrão ingles\n",
    "start_date = datetime.strptime(start_date, '%d/%m/%Y').strftime('%m-%d-%Y')\n",
    "end_date = datetime.strptime(end_date, '%d/%m/%Y').strftime('%m-%d-%Y')\n",
    "\n",
    "termo = 'petrobras'"
   ]
  },
  {
   "cell_type": "code",
   "execution_count": 4,
   "metadata": {},
   "outputs": [],
   "source": [
    "#Criando lista de datas\n",
    "date_list = pd.date_range(start=start_date, end=end_date, freq = '1D')\n",
    "date_list_en = [i.strftime(\"%m-%d-%Y\") for i in date_list ] ## Lista de datas no formato americano em String\n",
    "date_list_br = [i.strftime(\"%d/%m/%Y\") for i in date_list ] ## Lista de datas no formato BR em String"
   ]
  },
  {
   "cell_type": "code",
   "execution_count": 5,
   "metadata": {
    "id": "OcCTQ-oWf7l8"
   },
   "outputs": [],
   "source": [
    "#for single_date in daterange(start_date, end_date):\n",
    "  #print(single_date)"
   ]
  },
  {
   "cell_type": "code",
   "execution_count": 6,
   "metadata": {
    "colab": {
     "base_uri": "https://localhost:8080/"
    },
    "id": "PcpT0yRfC04G",
    "outputId": "369c3175-d817-4360-f959-15fcfd2a679c"
   },
   "outputs": [
    {
     "name": "stdout",
     "output_type": "stream",
     "text": [
      "04-01-2020\n"
     ]
    },
    {
     "name": "stderr",
     "output_type": "stream",
     "text": [
      "C:\\Users\\lenon.oliveira\\Anaconda3\\lib\\site-packages\\dateparser\\date_parser.py:35: PytzUsageWarning: The localize method is no longer necessary, as this time zone supports the fold attribute (PEP 495). For more details on migrating to a PEP 495-compliant implementation, see https://pytz-deprecation-shim.readthedocs.io/en/latest/migration.html\n",
      "  date_obj = stz.localize(date_obj)\n",
      "C:\\Users\\lenon.oliveira\\AppData\\Local\\Temp\\ipykernel_23200\\1041801480.py:31: FutureWarning: The frame.append method is deprecated and will be removed from pandas in a future version. Use pandas.concat instead.\n",
      "  df = df.append(df1, ignore_index=True)\n"
     ]
    },
    {
     "name": "stdout",
     "output_type": "stream",
     "text": [
      "04-02-2020\n"
     ]
    },
    {
     "name": "stderr",
     "output_type": "stream",
     "text": [
      "C:\\Users\\lenon.oliveira\\Anaconda3\\lib\\site-packages\\dateparser\\date_parser.py:35: PytzUsageWarning: The localize method is no longer necessary, as this time zone supports the fold attribute (PEP 495). For more details on migrating to a PEP 495-compliant implementation, see https://pytz-deprecation-shim.readthedocs.io/en/latest/migration.html\n",
      "  date_obj = stz.localize(date_obj)\n",
      "C:\\Users\\lenon.oliveira\\AppData\\Local\\Temp\\ipykernel_23200\\1041801480.py:31: FutureWarning: The frame.append method is deprecated and will be removed from pandas in a future version. Use pandas.concat instead.\n",
      "  df = df.append(df1, ignore_index=True)\n"
     ]
    },
    {
     "name": "stdout",
     "output_type": "stream",
     "text": [
      "04-03-2020\n"
     ]
    },
    {
     "name": "stderr",
     "output_type": "stream",
     "text": [
      "C:\\Users\\lenon.oliveira\\Anaconda3\\lib\\site-packages\\dateparser\\date_parser.py:35: PytzUsageWarning: The localize method is no longer necessary, as this time zone supports the fold attribute (PEP 495). For more details on migrating to a PEP 495-compliant implementation, see https://pytz-deprecation-shim.readthedocs.io/en/latest/migration.html\n",
      "  date_obj = stz.localize(date_obj)\n",
      "C:\\Users\\lenon.oliveira\\AppData\\Local\\Temp\\ipykernel_23200\\1041801480.py:31: FutureWarning: The frame.append method is deprecated and will be removed from pandas in a future version. Use pandas.concat instead.\n",
      "  df = df.append(df1, ignore_index=True)\n"
     ]
    },
    {
     "name": "stdout",
     "output_type": "stream",
     "text": [
      "04-04-2020\n"
     ]
    },
    {
     "name": "stderr",
     "output_type": "stream",
     "text": [
      "C:\\Users\\lenon.oliveira\\Anaconda3\\lib\\site-packages\\dateparser\\date_parser.py:35: PytzUsageWarning: The localize method is no longer necessary, as this time zone supports the fold attribute (PEP 495). For more details on migrating to a PEP 495-compliant implementation, see https://pytz-deprecation-shim.readthedocs.io/en/latest/migration.html\n",
      "  date_obj = stz.localize(date_obj)\n",
      "C:\\Users\\lenon.oliveira\\AppData\\Local\\Temp\\ipykernel_23200\\1041801480.py:31: FutureWarning: The frame.append method is deprecated and will be removed from pandas in a future version. Use pandas.concat instead.\n",
      "  df = df.append(df1, ignore_index=True)\n"
     ]
    },
    {
     "name": "stdout",
     "output_type": "stream",
     "text": [
      "04-05-2020\n"
     ]
    },
    {
     "name": "stderr",
     "output_type": "stream",
     "text": [
      "C:\\Users\\lenon.oliveira\\Anaconda3\\lib\\site-packages\\dateparser\\date_parser.py:35: PytzUsageWarning: The localize method is no longer necessary, as this time zone supports the fold attribute (PEP 495). For more details on migrating to a PEP 495-compliant implementation, see https://pytz-deprecation-shim.readthedocs.io/en/latest/migration.html\n",
      "  date_obj = stz.localize(date_obj)\n",
      "C:\\Users\\lenon.oliveira\\AppData\\Local\\Temp\\ipykernel_23200\\1041801480.py:31: FutureWarning: The frame.append method is deprecated and will be removed from pandas in a future version. Use pandas.concat instead.\n",
      "  df = df.append(df1, ignore_index=True)\n"
     ]
    },
    {
     "name": "stdout",
     "output_type": "stream",
     "text": [
      "04-06-2020\n"
     ]
    },
    {
     "name": "stderr",
     "output_type": "stream",
     "text": [
      "C:\\Users\\lenon.oliveira\\Anaconda3\\lib\\site-packages\\dateparser\\date_parser.py:35: PytzUsageWarning: The localize method is no longer necessary, as this time zone supports the fold attribute (PEP 495). For more details on migrating to a PEP 495-compliant implementation, see https://pytz-deprecation-shim.readthedocs.io/en/latest/migration.html\n",
      "  date_obj = stz.localize(date_obj)\n",
      "C:\\Users\\lenon.oliveira\\AppData\\Local\\Temp\\ipykernel_23200\\1041801480.py:31: FutureWarning: The frame.append method is deprecated and will be removed from pandas in a future version. Use pandas.concat instead.\n",
      "  df = df.append(df1, ignore_index=True)\n"
     ]
    },
    {
     "name": "stdout",
     "output_type": "stream",
     "text": [
      "04-07-2020\n"
     ]
    },
    {
     "name": "stderr",
     "output_type": "stream",
     "text": [
      "C:\\Users\\lenon.oliveira\\Anaconda3\\lib\\site-packages\\dateparser\\date_parser.py:35: PytzUsageWarning: The localize method is no longer necessary, as this time zone supports the fold attribute (PEP 495). For more details on migrating to a PEP 495-compliant implementation, see https://pytz-deprecation-shim.readthedocs.io/en/latest/migration.html\n",
      "  date_obj = stz.localize(date_obj)\n",
      "C:\\Users\\lenon.oliveira\\AppData\\Local\\Temp\\ipykernel_23200\\1041801480.py:31: FutureWarning: The frame.append method is deprecated and will be removed from pandas in a future version. Use pandas.concat instead.\n",
      "  df = df.append(df1, ignore_index=True)\n"
     ]
    },
    {
     "name": "stdout",
     "output_type": "stream",
     "text": [
      "04-08-2020\n"
     ]
    },
    {
     "name": "stderr",
     "output_type": "stream",
     "text": [
      "C:\\Users\\lenon.oliveira\\Anaconda3\\lib\\site-packages\\dateparser\\date_parser.py:35: PytzUsageWarning: The localize method is no longer necessary, as this time zone supports the fold attribute (PEP 495). For more details on migrating to a PEP 495-compliant implementation, see https://pytz-deprecation-shim.readthedocs.io/en/latest/migration.html\n",
      "  date_obj = stz.localize(date_obj)\n",
      "C:\\Users\\lenon.oliveira\\AppData\\Local\\Temp\\ipykernel_23200\\1041801480.py:31: FutureWarning: The frame.append method is deprecated and will be removed from pandas in a future version. Use pandas.concat instead.\n",
      "  df = df.append(df1, ignore_index=True)\n"
     ]
    },
    {
     "name": "stdout",
     "output_type": "stream",
     "text": [
      "04-09-2020\n"
     ]
    },
    {
     "name": "stderr",
     "output_type": "stream",
     "text": [
      "C:\\Users\\lenon.oliveira\\Anaconda3\\lib\\site-packages\\dateparser\\date_parser.py:35: PytzUsageWarning: The localize method is no longer necessary, as this time zone supports the fold attribute (PEP 495). For more details on migrating to a PEP 495-compliant implementation, see https://pytz-deprecation-shim.readthedocs.io/en/latest/migration.html\n",
      "  date_obj = stz.localize(date_obj)\n",
      "C:\\Users\\lenon.oliveira\\AppData\\Local\\Temp\\ipykernel_23200\\1041801480.py:31: FutureWarning: The frame.append method is deprecated and will be removed from pandas in a future version. Use pandas.concat instead.\n",
      "  df = df.append(df1, ignore_index=True)\n"
     ]
    },
    {
     "name": "stdout",
     "output_type": "stream",
     "text": [
      "04-10-2020\n"
     ]
    },
    {
     "name": "stderr",
     "output_type": "stream",
     "text": [
      "C:\\Users\\lenon.oliveira\\AppData\\Local\\Temp\\ipykernel_23200\\1041801480.py:31: FutureWarning: The frame.append method is deprecated and will be removed from pandas in a future version. Use pandas.concat instead.\n",
      "  df = df.append(df1, ignore_index=True)\n"
     ]
    },
    {
     "name": "stdout",
     "output_type": "stream",
     "text": [
      "04-11-2020\n"
     ]
    },
    {
     "name": "stderr",
     "output_type": "stream",
     "text": [
      "C:\\Users\\lenon.oliveira\\Anaconda3\\lib\\site-packages\\dateparser\\date_parser.py:35: PytzUsageWarning: The localize method is no longer necessary, as this time zone supports the fold attribute (PEP 495). For more details on migrating to a PEP 495-compliant implementation, see https://pytz-deprecation-shim.readthedocs.io/en/latest/migration.html\n",
      "  date_obj = stz.localize(date_obj)\n",
      "C:\\Users\\lenon.oliveira\\AppData\\Local\\Temp\\ipykernel_23200\\1041801480.py:31: FutureWarning: The frame.append method is deprecated and will be removed from pandas in a future version. Use pandas.concat instead.\n",
      "  df = df.append(df1, ignore_index=True)\n"
     ]
    },
    {
     "name": "stdout",
     "output_type": "stream",
     "text": [
      "04-12-2020\n"
     ]
    },
    {
     "name": "stderr",
     "output_type": "stream",
     "text": [
      "C:\\Users\\lenon.oliveira\\Anaconda3\\lib\\site-packages\\dateparser\\date_parser.py:35: PytzUsageWarning: The localize method is no longer necessary, as this time zone supports the fold attribute (PEP 495). For more details on migrating to a PEP 495-compliant implementation, see https://pytz-deprecation-shim.readthedocs.io/en/latest/migration.html\n",
      "  date_obj = stz.localize(date_obj)\n",
      "C:\\Users\\lenon.oliveira\\AppData\\Local\\Temp\\ipykernel_23200\\1041801480.py:31: FutureWarning: The frame.append method is deprecated and will be removed from pandas in a future version. Use pandas.concat instead.\n",
      "  df = df.append(df1, ignore_index=True)\n"
     ]
    },
    {
     "name": "stdout",
     "output_type": "stream",
     "text": [
      "04-13-2020\n"
     ]
    },
    {
     "name": "stderr",
     "output_type": "stream",
     "text": [
      "C:\\Users\\lenon.oliveira\\Anaconda3\\lib\\site-packages\\dateparser\\date_parser.py:35: PytzUsageWarning: The localize method is no longer necessary, as this time zone supports the fold attribute (PEP 495). For more details on migrating to a PEP 495-compliant implementation, see https://pytz-deprecation-shim.readthedocs.io/en/latest/migration.html\n",
      "  date_obj = stz.localize(date_obj)\n",
      "C:\\Users\\lenon.oliveira\\AppData\\Local\\Temp\\ipykernel_23200\\1041801480.py:31: FutureWarning: The frame.append method is deprecated and will be removed from pandas in a future version. Use pandas.concat instead.\n",
      "  df = df.append(df1, ignore_index=True)\n"
     ]
    },
    {
     "name": "stdout",
     "output_type": "stream",
     "text": [
      "04-14-2020\n"
     ]
    },
    {
     "name": "stderr",
     "output_type": "stream",
     "text": [
      "C:\\Users\\lenon.oliveira\\Anaconda3\\lib\\site-packages\\dateparser\\date_parser.py:35: PytzUsageWarning: The localize method is no longer necessary, as this time zone supports the fold attribute (PEP 495). For more details on migrating to a PEP 495-compliant implementation, see https://pytz-deprecation-shim.readthedocs.io/en/latest/migration.html\n",
      "  date_obj = stz.localize(date_obj)\n",
      "C:\\Users\\lenon.oliveira\\AppData\\Local\\Temp\\ipykernel_23200\\1041801480.py:31: FutureWarning: The frame.append method is deprecated and will be removed from pandas in a future version. Use pandas.concat instead.\n",
      "  df = df.append(df1, ignore_index=True)\n"
     ]
    },
    {
     "name": "stdout",
     "output_type": "stream",
     "text": [
      "04-15-2020\n"
     ]
    },
    {
     "name": "stderr",
     "output_type": "stream",
     "text": [
      "C:\\Users\\lenon.oliveira\\Anaconda3\\lib\\site-packages\\dateparser\\date_parser.py:35: PytzUsageWarning: The localize method is no longer necessary, as this time zone supports the fold attribute (PEP 495). For more details on migrating to a PEP 495-compliant implementation, see https://pytz-deprecation-shim.readthedocs.io/en/latest/migration.html\n",
      "  date_obj = stz.localize(date_obj)\n",
      "C:\\Users\\lenon.oliveira\\AppData\\Local\\Temp\\ipykernel_23200\\1041801480.py:31: FutureWarning: The frame.append method is deprecated and will be removed from pandas in a future version. Use pandas.concat instead.\n",
      "  df = df.append(df1, ignore_index=True)\n"
     ]
    },
    {
     "name": "stdout",
     "output_type": "stream",
     "text": [
      "04-16-2020\n"
     ]
    },
    {
     "name": "stderr",
     "output_type": "stream",
     "text": [
      "C:\\Users\\lenon.oliveira\\Anaconda3\\lib\\site-packages\\dateparser\\date_parser.py:35: PytzUsageWarning: The localize method is no longer necessary, as this time zone supports the fold attribute (PEP 495). For more details on migrating to a PEP 495-compliant implementation, see https://pytz-deprecation-shim.readthedocs.io/en/latest/migration.html\n",
      "  date_obj = stz.localize(date_obj)\n",
      "C:\\Users\\lenon.oliveira\\AppData\\Local\\Temp\\ipykernel_23200\\1041801480.py:31: FutureWarning: The frame.append method is deprecated and will be removed from pandas in a future version. Use pandas.concat instead.\n",
      "  df = df.append(df1, ignore_index=True)\n"
     ]
    },
    {
     "name": "stdout",
     "output_type": "stream",
     "text": [
      "04-17-2020\n"
     ]
    },
    {
     "name": "stderr",
     "output_type": "stream",
     "text": [
      "C:\\Users\\lenon.oliveira\\Anaconda3\\lib\\site-packages\\dateparser\\date_parser.py:35: PytzUsageWarning: The localize method is no longer necessary, as this time zone supports the fold attribute (PEP 495). For more details on migrating to a PEP 495-compliant implementation, see https://pytz-deprecation-shim.readthedocs.io/en/latest/migration.html\n",
      "  date_obj = stz.localize(date_obj)\n",
      "C:\\Users\\lenon.oliveira\\AppData\\Local\\Temp\\ipykernel_23200\\1041801480.py:31: FutureWarning: The frame.append method is deprecated and will be removed from pandas in a future version. Use pandas.concat instead.\n",
      "  df = df.append(df1, ignore_index=True)\n"
     ]
    },
    {
     "name": "stdout",
     "output_type": "stream",
     "text": [
      "04-18-2020\n"
     ]
    },
    {
     "name": "stderr",
     "output_type": "stream",
     "text": [
      "C:\\Users\\lenon.oliveira\\Anaconda3\\lib\\site-packages\\dateparser\\date_parser.py:35: PytzUsageWarning: The localize method is no longer necessary, as this time zone supports the fold attribute (PEP 495). For more details on migrating to a PEP 495-compliant implementation, see https://pytz-deprecation-shim.readthedocs.io/en/latest/migration.html\n",
      "  date_obj = stz.localize(date_obj)\n",
      "C:\\Users\\lenon.oliveira\\AppData\\Local\\Temp\\ipykernel_23200\\1041801480.py:31: FutureWarning: The frame.append method is deprecated and will be removed from pandas in a future version. Use pandas.concat instead.\n",
      "  df = df.append(df1, ignore_index=True)\n"
     ]
    },
    {
     "name": "stdout",
     "output_type": "stream",
     "text": [
      "04-19-2020\n"
     ]
    },
    {
     "name": "stderr",
     "output_type": "stream",
     "text": [
      "C:\\Users\\lenon.oliveira\\Anaconda3\\lib\\site-packages\\dateparser\\date_parser.py:35: PytzUsageWarning: The localize method is no longer necessary, as this time zone supports the fold attribute (PEP 495). For more details on migrating to a PEP 495-compliant implementation, see https://pytz-deprecation-shim.readthedocs.io/en/latest/migration.html\n",
      "  date_obj = stz.localize(date_obj)\n",
      "C:\\Users\\lenon.oliveira\\AppData\\Local\\Temp\\ipykernel_23200\\1041801480.py:31: FutureWarning: The frame.append method is deprecated and will be removed from pandas in a future version. Use pandas.concat instead.\n",
      "  df = df.append(df1, ignore_index=True)\n"
     ]
    },
    {
     "name": "stdout",
     "output_type": "stream",
     "text": [
      "04-20-2020\n"
     ]
    },
    {
     "name": "stderr",
     "output_type": "stream",
     "text": [
      "C:\\Users\\lenon.oliveira\\AppData\\Local\\Temp\\ipykernel_23200\\1041801480.py:31: FutureWarning: The frame.append method is deprecated and will be removed from pandas in a future version. Use pandas.concat instead.\n",
      "  df = df.append(df1, ignore_index=True)\n"
     ]
    },
    {
     "name": "stdout",
     "output_type": "stream",
     "text": [
      "04-21-2020\n"
     ]
    },
    {
     "name": "stderr",
     "output_type": "stream",
     "text": [
      "C:\\Users\\lenon.oliveira\\Anaconda3\\lib\\site-packages\\dateparser\\date_parser.py:35: PytzUsageWarning: The localize method is no longer necessary, as this time zone supports the fold attribute (PEP 495). For more details on migrating to a PEP 495-compliant implementation, see https://pytz-deprecation-shim.readthedocs.io/en/latest/migration.html\n",
      "  date_obj = stz.localize(date_obj)\n",
      "C:\\Users\\lenon.oliveira\\AppData\\Local\\Temp\\ipykernel_23200\\1041801480.py:31: FutureWarning: The frame.append method is deprecated and will be removed from pandas in a future version. Use pandas.concat instead.\n",
      "  df = df.append(df1, ignore_index=True)\n"
     ]
    },
    {
     "name": "stdout",
     "output_type": "stream",
     "text": [
      "04-22-2020\n"
     ]
    },
    {
     "name": "stderr",
     "output_type": "stream",
     "text": [
      "C:\\Users\\lenon.oliveira\\Anaconda3\\lib\\site-packages\\dateparser\\date_parser.py:35: PytzUsageWarning: The localize method is no longer necessary, as this time zone supports the fold attribute (PEP 495). For more details on migrating to a PEP 495-compliant implementation, see https://pytz-deprecation-shim.readthedocs.io/en/latest/migration.html\n",
      "  date_obj = stz.localize(date_obj)\n",
      "C:\\Users\\lenon.oliveira\\AppData\\Local\\Temp\\ipykernel_23200\\1041801480.py:31: FutureWarning: The frame.append method is deprecated and will be removed from pandas in a future version. Use pandas.concat instead.\n",
      "  df = df.append(df1, ignore_index=True)\n"
     ]
    },
    {
     "name": "stdout",
     "output_type": "stream",
     "text": [
      "04-23-2020\n"
     ]
    },
    {
     "name": "stderr",
     "output_type": "stream",
     "text": [
      "C:\\Users\\lenon.oliveira\\Anaconda3\\lib\\site-packages\\dateparser\\date_parser.py:35: PytzUsageWarning: The localize method is no longer necessary, as this time zone supports the fold attribute (PEP 495). For more details on migrating to a PEP 495-compliant implementation, see https://pytz-deprecation-shim.readthedocs.io/en/latest/migration.html\n",
      "  date_obj = stz.localize(date_obj)\n",
      "C:\\Users\\lenon.oliveira\\AppData\\Local\\Temp\\ipykernel_23200\\1041801480.py:31: FutureWarning: The frame.append method is deprecated and will be removed from pandas in a future version. Use pandas.concat instead.\n",
      "  df = df.append(df1, ignore_index=True)\n"
     ]
    },
    {
     "name": "stdout",
     "output_type": "stream",
     "text": [
      "04-24-2020\n"
     ]
    },
    {
     "name": "stderr",
     "output_type": "stream",
     "text": [
      "C:\\Users\\lenon.oliveira\\Anaconda3\\lib\\site-packages\\dateparser\\date_parser.py:35: PytzUsageWarning: The localize method is no longer necessary, as this time zone supports the fold attribute (PEP 495). For more details on migrating to a PEP 495-compliant implementation, see https://pytz-deprecation-shim.readthedocs.io/en/latest/migration.html\n",
      "  date_obj = stz.localize(date_obj)\n",
      "C:\\Users\\lenon.oliveira\\AppData\\Local\\Temp\\ipykernel_23200\\1041801480.py:31: FutureWarning: The frame.append method is deprecated and will be removed from pandas in a future version. Use pandas.concat instead.\n",
      "  df = df.append(df1, ignore_index=True)\n"
     ]
    },
    {
     "name": "stdout",
     "output_type": "stream",
     "text": [
      "04-25-2020\n"
     ]
    },
    {
     "name": "stderr",
     "output_type": "stream",
     "text": [
      "C:\\Users\\lenon.oliveira\\Anaconda3\\lib\\site-packages\\dateparser\\date_parser.py:35: PytzUsageWarning: The localize method is no longer necessary, as this time zone supports the fold attribute (PEP 495). For more details on migrating to a PEP 495-compliant implementation, see https://pytz-deprecation-shim.readthedocs.io/en/latest/migration.html\n",
      "  date_obj = stz.localize(date_obj)\n",
      "C:\\Users\\lenon.oliveira\\AppData\\Local\\Temp\\ipykernel_23200\\1041801480.py:31: FutureWarning: The frame.append method is deprecated and will be removed from pandas in a future version. Use pandas.concat instead.\n",
      "  df = df.append(df1, ignore_index=True)\n"
     ]
    },
    {
     "name": "stdout",
     "output_type": "stream",
     "text": [
      "04-26-2020\n"
     ]
    },
    {
     "name": "stderr",
     "output_type": "stream",
     "text": [
      "C:\\Users\\lenon.oliveira\\Anaconda3\\lib\\site-packages\\dateparser\\date_parser.py:35: PytzUsageWarning: The localize method is no longer necessary, as this time zone supports the fold attribute (PEP 495). For more details on migrating to a PEP 495-compliant implementation, see https://pytz-deprecation-shim.readthedocs.io/en/latest/migration.html\n",
      "  date_obj = stz.localize(date_obj)\n",
      "C:\\Users\\lenon.oliveira\\AppData\\Local\\Temp\\ipykernel_23200\\1041801480.py:31: FutureWarning: The frame.append method is deprecated and will be removed from pandas in a future version. Use pandas.concat instead.\n",
      "  df = df.append(df1, ignore_index=True)\n"
     ]
    },
    {
     "name": "stdout",
     "output_type": "stream",
     "text": [
      "04-27-2020\n"
     ]
    },
    {
     "name": "stderr",
     "output_type": "stream",
     "text": [
      "C:\\Users\\lenon.oliveira\\Anaconda3\\lib\\site-packages\\dateparser\\date_parser.py:35: PytzUsageWarning: The localize method is no longer necessary, as this time zone supports the fold attribute (PEP 495). For more details on migrating to a PEP 495-compliant implementation, see https://pytz-deprecation-shim.readthedocs.io/en/latest/migration.html\n",
      "  date_obj = stz.localize(date_obj)\n",
      "C:\\Users\\lenon.oliveira\\AppData\\Local\\Temp\\ipykernel_23200\\1041801480.py:31: FutureWarning: The frame.append method is deprecated and will be removed from pandas in a future version. Use pandas.concat instead.\n",
      "  df = df.append(df1, ignore_index=True)\n"
     ]
    },
    {
     "name": "stdout",
     "output_type": "stream",
     "text": [
      "04-28-2020\n"
     ]
    },
    {
     "name": "stderr",
     "output_type": "stream",
     "text": [
      "C:\\Users\\lenon.oliveira\\Anaconda3\\lib\\site-packages\\dateparser\\date_parser.py:35: PytzUsageWarning: The localize method is no longer necessary, as this time zone supports the fold attribute (PEP 495). For more details on migrating to a PEP 495-compliant implementation, see https://pytz-deprecation-shim.readthedocs.io/en/latest/migration.html\n",
      "  date_obj = stz.localize(date_obj)\n",
      "C:\\Users\\lenon.oliveira\\AppData\\Local\\Temp\\ipykernel_23200\\1041801480.py:31: FutureWarning: The frame.append method is deprecated and will be removed from pandas in a future version. Use pandas.concat instead.\n",
      "  df = df.append(df1, ignore_index=True)\n"
     ]
    },
    {
     "name": "stdout",
     "output_type": "stream",
     "text": [
      "04-29-2020\n"
     ]
    },
    {
     "name": "stderr",
     "output_type": "stream",
     "text": [
      "C:\\Users\\lenon.oliveira\\Anaconda3\\lib\\site-packages\\dateparser\\date_parser.py:35: PytzUsageWarning: The localize method is no longer necessary, as this time zone supports the fold attribute (PEP 495). For more details on migrating to a PEP 495-compliant implementation, see https://pytz-deprecation-shim.readthedocs.io/en/latest/migration.html\n",
      "  date_obj = stz.localize(date_obj)\n",
      "C:\\Users\\lenon.oliveira\\AppData\\Local\\Temp\\ipykernel_23200\\1041801480.py:31: FutureWarning: The frame.append method is deprecated and will be removed from pandas in a future version. Use pandas.concat instead.\n",
      "  df = df.append(df1, ignore_index=True)\n"
     ]
    },
    {
     "name": "stdout",
     "output_type": "stream",
     "text": [
      "04-30-2020\n"
     ]
    },
    {
     "name": "stderr",
     "output_type": "stream",
     "text": [
      "C:\\Users\\lenon.oliveira\\AppData\\Local\\Temp\\ipykernel_23200\\1041801480.py:31: FutureWarning: The frame.append method is deprecated and will be removed from pandas in a future version. Use pandas.concat instead.\n",
      "  df = df.append(df1, ignore_index=True)\n"
     ]
    }
   ],
   "source": [
    "#CRIANDO O OBJETO googlenews (exigência da library)\n",
    "#podemos usar o google news p buscar noticias em outras linguas tbm\n",
    "#googlenews.clear()\n",
    "googlenews = GoogleNews(lang='pt', region='BR')\n",
    "#googlenews.set_time_range(start_date,end_date)\n",
    "\n",
    "#LOOP P AGREGAR A 1º PAGINA DE RESULTADO DA ABA DE NOTICIAS DO GOOGLE DE CADA DIA DA CONSULTA\n",
    "#essa busca poderia ser ampliada pegando as paginas 2,3,4,..n de cada dia, podemos fazer isso em uma nova etapa do projeto\n",
    "df = pd.DataFrame()\n",
    "for i, data in enumerate(date_list_en):\n",
    "    print(data)\n",
    "    \n",
    "    googlenews = GoogleNews(lang='pt', region='BR')\n",
    "    googlenews.set_time_range(data,data)\n",
    "    googlenews.clear()\n",
    "    googlenews.search(termo)\n",
    "    result = googlenews.result()\n",
    "    \n",
    "    \n",
    "    \n",
    "    #googlenews.set_encode('utf-8')\n",
    "    #googlenews.search(termo)\n",
    "    #googlenews.set_time_range(data,data)\n",
    "    #result = googlenews.result()\n",
    "    \n",
    "    #Atualizando as datas\n",
    "    for k in result:\n",
    "        k['date'] = date_list_br[i]\n",
    "    \n",
    "    df1 = pd.DataFrame(result)\n",
    "    df = df.append(df1, ignore_index=True)\n",
    "    googlenews.clear()"
   ]
  },
  {
   "cell_type": "code",
   "execution_count": 7,
   "metadata": {
    "colab": {
     "base_uri": "https://localhost:8080/"
    },
    "id": "dlNuTOn5Fmq9",
    "outputId": "0c9bbd46-efa8-4977-b895-a1b2f078d0d3"
   },
   "outputs": [
    {
     "data": {
      "text/plain": [
       "[{'title': 'Golpe promete vale-combustível da Petrobras na pandemia ...',\n",
       "  'media': 'Lupa',\n",
       "  'date': '30/04/2020',\n",
       "  'datetime': None,\n",
       "  'desc': 'copiado! Circula pelo WhatsApp um texto com a promessa de que a Petrobras \\nvai doar combustível para trabalhadores. Um...',\n",
       "  'link': 'https://lupa.uol.com.br/jornalismo/2020/04/30/verificamos-golpe-vale-combustivel-petrobras-pandemia-covid-19/',\n",
       "  'img': 'data:image/gif;base64,R0lGODlhAQABAIAAAP///////yH5BAEKAAEALAAAAAABAAEAAAICTAEAOw=='},\n",
       " {'title': 'O que é o Ibovespa e como o índice é calculado – Educação ...',\n",
       "  'media': 'E-Investidor',\n",
       "  'date': '30/04/2020',\n",
       "  'datetime': None,\n",
       "  'desc': '... sendo eles os mais relevantes, como Itaú Unibanco (ITUB4), Vale \\n(VALE3), Bradesco (BBDC4), Petrobras (PETR4) e a própria B3 (B3SA3).',\n",
       "  'link': 'https://einvestidor.estadao.com.br/educacao-financeira/o-que-e-ibovespa-e-como-e-calculado/',\n",
       "  'img': 'data:image/gif;base64,R0lGODlhAQABAIAAAP///////yH5BAEKAAEALAAAAAABAAEAAAICTAEAOw=='},\n",
       " {'title': 'Naturgy reduz tarifas de gás para clientes no RJ a partir desta sexta',\n",
       "  'media': 'Valor Econômico',\n",
       "  'date': '30/04/2020',\n",
       "  'datetime': None,\n",
       "  'desc': 'A empresa também acertou com a Petrobras e a Secretaria de Desenvolvimento \\nEconômico, Energia e Relações Internacionais do Rio de Janeiro a \\nflexibilização dos...',\n",
       "  'link': 'https://valor.globo.com/empresas/noticia/2020/04/30/naturgy-reduz-tarifas-de-gas-para-clientes-no-rj-a-partir-desta-sexta.ghtml',\n",
       "  'img': 'data:image/gif;base64,R0lGODlhAQABAIAAAP///////yH5BAEKAAEALAAAAAABAAEAAAICTAEAOw=='},\n",
       " {'title': 'Navio MSC Musica cumprirá quarentena no Porto de Santos',\n",
       "  'media': 'Money Times',\n",
       "  'date': '30/04/2020',\n",
       "  'datetime': None,\n",
       "  'desc': 'A Agência Brasil solicitou ao órgão informações atualizadas sobre o \\nandamento da operação e aguarda retorno. Leia também: Petrobras · Economia \\n· Petrobras e...',\n",
       "  'link': 'https://www.moneytimes.com.br/navio-msc-musica-cumprira-quarentena-no-porto-de-santos/',\n",
       "  'img': 'data:image/gif;base64,R0lGODlhAQABAIAAAP///////yH5BAEKAAEALAAAAAABAAEAAAICTAEAOw=='},\n",
       " {'title': 'XP troca 5 ativos em sua carteira gráfica de maio',\n",
       "  'media': 'Money Times',\n",
       "  'date': '30/04/2020',\n",
       "  'datetime': None,\n",
       "  'desc': '... Se havia dúvida de que a Petrobras (PETR4) amarrava preço do etanol nas \\nusinas, não há mais · Celulose é o novo minério de ferro?',\n",
       "  'link': 'https://www.moneytimes.com.br/xp-troca-5-ativos-em-sua-carteira-grafica-de-maio/',\n",
       "  'img': 'data:image/gif;base64,R0lGODlhAQABAIAAAP///////yH5BAEKAAEALAAAAAABAAEAAAICTAEAOw=='},\n",
       " {'title': 'Secretaria de Justiça do DF contrata Hotel Manhattan para hospedar 300 idosos',\n",
       "  'media': 'Diário do Poder',\n",
       "  'date': '30/04/2020',\n",
       "  'datetime': None,\n",
       "  'desc': \"Moro acha 'risível' PT culpar juiz e não o ladrão por prejuízo na Petrobras \\n... Ministro Sachsida substitui presidente da Petrobras a pedido de \\nBolsonaro.\",\n",
       "  'link': 'https://diariodopoder.com.br/brasil-e-regioes/secretaria-de-justica-do-df-contrata-hotel-manhattan-para-hospedar-300-idosos',\n",
       "  'img': 'data:image/gif;base64,R0lGODlhAQABAIAAAP///////yH5BAEKAAEALAAAAAABAAEAAAICTAEAOw=='},\n",
       " {'title': 'Pedro Álvares Cabral ganhou R$ 5 milhões para chefiar sua expedição',\n",
       "  'media': 'Superinteressante',\n",
       "  'date': '30/04/2020',\n",
       "  'datetime': None,\n",
       "  'desc': 'E valeu para a Petrobras lançar suas brocas mar abaixo no século 21. A \\nexploração do pré-sal seria inviável se dependesse do dinheiro que a \\nempresa tinha em...',\n",
       "  'link': 'https://super.abril.com.br/coluna/alexandre-versignassi/pedro-alvarez-cabral-ganhou-r-5-milhoes-para-chefiar-sua-expedicao/',\n",
       "  'img': 'data:image/gif;base64,R0lGODlhAQABAIAAAP///////yH5BAEKAAEALAAAAAABAAEAAAICTAEAOw=='},\n",
       " {'title': 'Deputado Claudio Meirelles divulga fake news sobre gastos ...',\n",
       "  'media': 'Jornal Opção',\n",
       "  'date': '30/04/2020',\n",
       "  'datetime': None,\n",
       "  'desc': 'Mesmo com reajuste, Petrobras despenca 8,7% na Bolsa de Valores. \\nInvestidores temem maior interferência do governo e do Congresso na estatal \\ndepois de aumento...',\n",
       "  'link': 'https://www.jornalopcao.com.br/ultimas-noticias/deputado-claudio-meirelles-divulga-fake-news-sobre-gastos-no-combate-a-covid-19-251222/',\n",
       "  'img': 'data:image/gif;base64,R0lGODlhAQABAIAAAP///////yH5BAEKAAEALAAAAAABAAEAAAICTAEAOw=='},\n",
       " {'title': 'Venda de imóveis recua, mas ministro volta a prometer R$ 1 tri',\n",
       "  'media': 'Valor Econômico',\n",
       "  'date': '30/04/2020',\n",
       "  'datetime': None,\n",
       "  'desc': 'Banco do Brasil · Petrobras · Telebrás. Mais do Valor Econômico. Protestos \\npor preço do combustível derrubam produção de petróleo no Equador.',\n",
       "  'link': 'https://valor.globo.com/brasil/noticia/2020/04/30/venda-de-imoveis-recua-mas-ministro-volta-a-prometer-r-1-tri.ghtml',\n",
       "  'img': 'data:image/gif;base64,R0lGODlhAQABAIAAAP///////yH5BAEKAAEALAAAAAABAAEAAAICTAEAOw=='},\n",
       " {'title': 'JBS busca elevar uso de robôs para ter menos problemas com falta de trabalhadores',\n",
       "  'media': 'Money Times',\n",
       "  'date': '30/04/2020',\n",
       "  'datetime': None,\n",
       "  'desc': 'Abatedouros no Canadá fecharam, e casos de Covid-19 foram confirmados entre \\ntrabalhadores no Brasil. Leia também: Petrobras (PETR4) · Brasil · CPI da \\nPetrobras,...',\n",
       "  'link': 'https://www.moneytimes.com.br/jbs-busca-elevar-uso-de-robos-para-reduzir-aperto-de-mao-de-obra/',\n",
       "  'img': 'data:image/gif;base64,R0lGODlhAQABAIAAAP///////yH5BAEKAAEALAAAAAABAAEAAAICTAEAOw=='}]"
      ]
     },
     "execution_count": 7,
     "metadata": {},
     "output_type": "execute_result"
    }
   ],
   "source": [
    "result"
   ]
  },
  {
   "cell_type": "code",
   "execution_count": 8,
   "metadata": {},
   "outputs": [
    {
     "data": {
      "text/html": [
       "<div>\n",
       "<style scoped>\n",
       "    .dataframe tbody tr th:only-of-type {\n",
       "        vertical-align: middle;\n",
       "    }\n",
       "\n",
       "    .dataframe tbody tr th {\n",
       "        vertical-align: top;\n",
       "    }\n",
       "\n",
       "    .dataframe thead th {\n",
       "        text-align: right;\n",
       "    }\n",
       "</style>\n",
       "<table border=\"1\" class=\"dataframe\">\n",
       "  <thead>\n",
       "    <tr style=\"text-align: right;\">\n",
       "      <th></th>\n",
       "      <th>title</th>\n",
       "      <th>media</th>\n",
       "      <th>date</th>\n",
       "      <th>datetime</th>\n",
       "      <th>desc</th>\n",
       "      <th>link</th>\n",
       "      <th>img</th>\n",
       "    </tr>\n",
       "  </thead>\n",
       "  <tbody>\n",
       "    <tr>\n",
       "      <th>0</th>\n",
       "      <td>Petrobras faz redução em produção de petróleo ...</td>\n",
       "      <td>Agência Brasil</td>\n",
       "      <td>01/04/2020</td>\n",
       "      <td>None</td>\n",
       "      <td>A Petrobras anunciou que vai adotar, a partir ...</td>\n",
       "      <td>https://agenciabrasil.ebc.com.br/economia/noti...</td>\n",
       "      <td>data:image/gif;base64,R0lGODlhAQABAIAAAP//////...</td>\n",
       "    </tr>\n",
       "    <tr>\n",
       "      <th>1</th>\n",
       "      <td>Empresa inicia recrutamento em Macaé para Enge...</td>\n",
       "      <td>CPG Click Petroleo e Gas</td>\n",
       "      <td>01/04/2020</td>\n",
       "      <td>None</td>\n",
       "      <td>A Rina Brasil vai comandar um projeto de 3 ano...</td>\n",
       "      <td>https://clickpetroleoegas.com.br/empresa-inici...</td>\n",
       "      <td>data:image/gif;base64,R0lGODlhAQABAIAAAP//////...</td>\n",
       "    </tr>\n",
       "    <tr>\n",
       "      <th>2</th>\n",
       "      <td>Coppe desenvolve ventiladores pulmonares para ...</td>\n",
       "      <td>Agência Brasil</td>\n",
       "      <td>01/04/2020</td>\n",
       "      <td>None</td>\n",
       "      <td>Petrobras. Técnicos da Petrobras estão trabalh...</td>\n",
       "      <td>https://agenciabrasil.ebc.com.br/saude/noticia...</td>\n",
       "      <td>data:image/gif;base64,R0lGODlhAQABAIAAAP//////...</td>\n",
       "    </tr>\n",
       "    <tr>\n",
       "      <th>3</th>\n",
       "      <td>As empresas mais lucrativas da Bolsa brasileir...</td>\n",
       "      <td>InfoMoney</td>\n",
       "      <td>01/04/2020</td>\n",
       "      <td>None</td>\n",
       "      <td>O maior lucro computado foi o da Petrobras, qu...</td>\n",
       "      <td>https://www.infomoney.com.br/negocios/as-empre...</td>\n",
       "      <td>data:image/gif;base64,R0lGODlhAQABAIAAAP//////...</td>\n",
       "    </tr>\n",
       "    <tr>\n",
       "      <th>4</th>\n",
       "      <td>Economatica: Ibovespa registra queda trimestra...</td>\n",
       "      <td>SpaceMoney</td>\n",
       "      <td>01/04/2020</td>\n",
       "      <td>None</td>\n",
       "      <td>O destaque é o Bradesco, que está logo atrás d...</td>\n",
       "      <td>https://www.spacemoney.com.br/noticias/economa...</td>\n",
       "      <td>data:image/gif;base64,R0lGODlhAQABAIAAAP//////...</td>\n",
       "    </tr>\n",
       "    <tr>\n",
       "      <th>...</th>\n",
       "      <td>...</td>\n",
       "      <td>...</td>\n",
       "      <td>...</td>\n",
       "      <td>...</td>\n",
       "      <td>...</td>\n",
       "      <td>...</td>\n",
       "      <td>...</td>\n",
       "    </tr>\n",
       "    <tr>\n",
       "      <th>274</th>\n",
       "      <td>Secretaria de Justiça do DF contrata Hotel Man...</td>\n",
       "      <td>Diário do Poder</td>\n",
       "      <td>30/04/2020</td>\n",
       "      <td>None</td>\n",
       "      <td>Moro acha 'risível' PT culpar juiz e não o lad...</td>\n",
       "      <td>https://diariodopoder.com.br/brasil-e-regioes/...</td>\n",
       "      <td>data:image/gif;base64,R0lGODlhAQABAIAAAP//////...</td>\n",
       "    </tr>\n",
       "    <tr>\n",
       "      <th>275</th>\n",
       "      <td>Pedro Álvares Cabral ganhou R$ 5 milhões para ...</td>\n",
       "      <td>Superinteressante</td>\n",
       "      <td>30/04/2020</td>\n",
       "      <td>None</td>\n",
       "      <td>E valeu para a Petrobras lançar suas brocas ma...</td>\n",
       "      <td>https://super.abril.com.br/coluna/alexandre-ve...</td>\n",
       "      <td>data:image/gif;base64,R0lGODlhAQABAIAAAP//////...</td>\n",
       "    </tr>\n",
       "    <tr>\n",
       "      <th>276</th>\n",
       "      <td>Deputado Claudio Meirelles divulga fake news s...</td>\n",
       "      <td>Jornal Opção</td>\n",
       "      <td>30/04/2020</td>\n",
       "      <td>None</td>\n",
       "      <td>Mesmo com reajuste, Petrobras despenca 8,7% na...</td>\n",
       "      <td>https://www.jornalopcao.com.br/ultimas-noticia...</td>\n",
       "      <td>data:image/gif;base64,R0lGODlhAQABAIAAAP//////...</td>\n",
       "    </tr>\n",
       "    <tr>\n",
       "      <th>277</th>\n",
       "      <td>Venda de imóveis recua, mas ministro volta a p...</td>\n",
       "      <td>Valor Econômico</td>\n",
       "      <td>30/04/2020</td>\n",
       "      <td>None</td>\n",
       "      <td>Banco do Brasil · Petrobras · Telebrás. Mais d...</td>\n",
       "      <td>https://valor.globo.com/brasil/noticia/2020/04...</td>\n",
       "      <td>data:image/gif;base64,R0lGODlhAQABAIAAAP//////...</td>\n",
       "    </tr>\n",
       "    <tr>\n",
       "      <th>278</th>\n",
       "      <td>JBS busca elevar uso de robôs para ter menos p...</td>\n",
       "      <td>Money Times</td>\n",
       "      <td>30/04/2020</td>\n",
       "      <td>None</td>\n",
       "      <td>Abatedouros no Canadá fecharam, e casos de Cov...</td>\n",
       "      <td>https://www.moneytimes.com.br/jbs-busca-elevar...</td>\n",
       "      <td>data:image/gif;base64,R0lGODlhAQABAIAAAP//////...</td>\n",
       "    </tr>\n",
       "  </tbody>\n",
       "</table>\n",
       "<p>279 rows × 7 columns</p>\n",
       "</div>"
      ],
      "text/plain": [
       "                                                 title  \\\n",
       "0    Petrobras faz redução em produção de petróleo ...   \n",
       "1    Empresa inicia recrutamento em Macaé para Enge...   \n",
       "2    Coppe desenvolve ventiladores pulmonares para ...   \n",
       "3    As empresas mais lucrativas da Bolsa brasileir...   \n",
       "4    Economatica: Ibovespa registra queda trimestra...   \n",
       "..                                                 ...   \n",
       "274  Secretaria de Justiça do DF contrata Hotel Man...   \n",
       "275  Pedro Álvares Cabral ganhou R$ 5 milhões para ...   \n",
       "276  Deputado Claudio Meirelles divulga fake news s...   \n",
       "277  Venda de imóveis recua, mas ministro volta a p...   \n",
       "278  JBS busca elevar uso de robôs para ter menos p...   \n",
       "\n",
       "                        media        date datetime  \\\n",
       "0              Agência Brasil  01/04/2020     None   \n",
       "1    CPG Click Petroleo e Gas  01/04/2020     None   \n",
       "2              Agência Brasil  01/04/2020     None   \n",
       "3                   InfoMoney  01/04/2020     None   \n",
       "4                  SpaceMoney  01/04/2020     None   \n",
       "..                        ...         ...      ...   \n",
       "274           Diário do Poder  30/04/2020     None   \n",
       "275         Superinteressante  30/04/2020     None   \n",
       "276              Jornal Opção  30/04/2020     None   \n",
       "277           Valor Econômico  30/04/2020     None   \n",
       "278               Money Times  30/04/2020     None   \n",
       "\n",
       "                                                  desc  \\\n",
       "0    A Petrobras anunciou que vai adotar, a partir ...   \n",
       "1    A Rina Brasil vai comandar um projeto de 3 ano...   \n",
       "2    Petrobras. Técnicos da Petrobras estão trabalh...   \n",
       "3    O maior lucro computado foi o da Petrobras, qu...   \n",
       "4    O destaque é o Bradesco, que está logo atrás d...   \n",
       "..                                                 ...   \n",
       "274  Moro acha 'risível' PT culpar juiz e não o lad...   \n",
       "275  E valeu para a Petrobras lançar suas brocas ma...   \n",
       "276  Mesmo com reajuste, Petrobras despenca 8,7% na...   \n",
       "277  Banco do Brasil · Petrobras · Telebrás. Mais d...   \n",
       "278  Abatedouros no Canadá fecharam, e casos de Cov...   \n",
       "\n",
       "                                                  link  \\\n",
       "0    https://agenciabrasil.ebc.com.br/economia/noti...   \n",
       "1    https://clickpetroleoegas.com.br/empresa-inici...   \n",
       "2    https://agenciabrasil.ebc.com.br/saude/noticia...   \n",
       "3    https://www.infomoney.com.br/negocios/as-empre...   \n",
       "4    https://www.spacemoney.com.br/noticias/economa...   \n",
       "..                                                 ...   \n",
       "274  https://diariodopoder.com.br/brasil-e-regioes/...   \n",
       "275  https://super.abril.com.br/coluna/alexandre-ve...   \n",
       "276  https://www.jornalopcao.com.br/ultimas-noticia...   \n",
       "277  https://valor.globo.com/brasil/noticia/2020/04...   \n",
       "278  https://www.moneytimes.com.br/jbs-busca-elevar...   \n",
       "\n",
       "                                                   img  \n",
       "0    data:image/gif;base64,R0lGODlhAQABAIAAAP//////...  \n",
       "1    data:image/gif;base64,R0lGODlhAQABAIAAAP//////...  \n",
       "2    data:image/gif;base64,R0lGODlhAQABAIAAAP//////...  \n",
       "3    data:image/gif;base64,R0lGODlhAQABAIAAAP//////...  \n",
       "4    data:image/gif;base64,R0lGODlhAQABAIAAAP//////...  \n",
       "..                                                 ...  \n",
       "274  data:image/gif;base64,R0lGODlhAQABAIAAAP//////...  \n",
       "275  data:image/gif;base64,R0lGODlhAQABAIAAAP//////...  \n",
       "276  data:image/gif;base64,R0lGODlhAQABAIAAAP//////...  \n",
       "277  data:image/gif;base64,R0lGODlhAQABAIAAAP//////...  \n",
       "278  data:image/gif;base64,R0lGODlhAQABAIAAAP//////...  \n",
       "\n",
       "[279 rows x 7 columns]"
      ]
     },
     "execution_count": 8,
     "metadata": {},
     "output_type": "execute_result"
    }
   ],
   "source": [
    "df"
   ]
  },
  {
   "cell_type": "code",
   "execution_count": 9,
   "metadata": {
    "id": "rDrHkZZSQ1bq"
   },
   "outputs": [],
   "source": [
    "df.drop(['link', 'img','datetime'], axis = 1, inplace = True) \n",
    "df['desc'].replace('\\n',' ', regex=True, inplace=True)"
   ]
  },
  {
   "cell_type": "code",
   "execution_count": 10,
   "metadata": {
    "colab": {
     "base_uri": "https://localhost:8080/",
     "height": 423
    },
    "id": "o9esNxZ6Rl-U",
    "outputId": "162f930d-7404-4041-ce90-2b668e832651"
   },
   "outputs": [
    {
     "data": {
      "text/html": [
       "<div>\n",
       "<style scoped>\n",
       "    .dataframe tbody tr th:only-of-type {\n",
       "        vertical-align: middle;\n",
       "    }\n",
       "\n",
       "    .dataframe tbody tr th {\n",
       "        vertical-align: top;\n",
       "    }\n",
       "\n",
       "    .dataframe thead th {\n",
       "        text-align: right;\n",
       "    }\n",
       "</style>\n",
       "<table border=\"1\" class=\"dataframe\">\n",
       "  <thead>\n",
       "    <tr style=\"text-align: right;\">\n",
       "      <th></th>\n",
       "      <th>title</th>\n",
       "      <th>media</th>\n",
       "      <th>date</th>\n",
       "      <th>desc</th>\n",
       "    </tr>\n",
       "  </thead>\n",
       "  <tbody>\n",
       "    <tr>\n",
       "      <th>0</th>\n",
       "      <td>Petrobras faz redução em produção de petróleo ...</td>\n",
       "      <td>Agência Brasil</td>\n",
       "      <td>01/04/2020</td>\n",
       "      <td>A Petrobras anunciou que vai adotar, a partir ...</td>\n",
       "    </tr>\n",
       "    <tr>\n",
       "      <th>1</th>\n",
       "      <td>Empresa inicia recrutamento em Macaé para Enge...</td>\n",
       "      <td>CPG Click Petroleo e Gas</td>\n",
       "      <td>01/04/2020</td>\n",
       "      <td>A Rina Brasil vai comandar um projeto de 3 ano...</td>\n",
       "    </tr>\n",
       "    <tr>\n",
       "      <th>2</th>\n",
       "      <td>Coppe desenvolve ventiladores pulmonares para ...</td>\n",
       "      <td>Agência Brasil</td>\n",
       "      <td>01/04/2020</td>\n",
       "      <td>Petrobras. Técnicos da Petrobras estão trabalh...</td>\n",
       "    </tr>\n",
       "    <tr>\n",
       "      <th>3</th>\n",
       "      <td>As empresas mais lucrativas da Bolsa brasileir...</td>\n",
       "      <td>InfoMoney</td>\n",
       "      <td>01/04/2020</td>\n",
       "      <td>O maior lucro computado foi o da Petrobras, qu...</td>\n",
       "    </tr>\n",
       "    <tr>\n",
       "      <th>4</th>\n",
       "      <td>Economatica: Ibovespa registra queda trimestra...</td>\n",
       "      <td>SpaceMoney</td>\n",
       "      <td>01/04/2020</td>\n",
       "      <td>O destaque é o Bradesco, que está logo atrás d...</td>\n",
       "    </tr>\n",
       "    <tr>\n",
       "      <th>...</th>\n",
       "      <td>...</td>\n",
       "      <td>...</td>\n",
       "      <td>...</td>\n",
       "      <td>...</td>\n",
       "    </tr>\n",
       "    <tr>\n",
       "      <th>274</th>\n",
       "      <td>Secretaria de Justiça do DF contrata Hotel Man...</td>\n",
       "      <td>Diário do Poder</td>\n",
       "      <td>30/04/2020</td>\n",
       "      <td>Moro acha 'risível' PT culpar juiz e não o lad...</td>\n",
       "    </tr>\n",
       "    <tr>\n",
       "      <th>275</th>\n",
       "      <td>Pedro Álvares Cabral ganhou R$ 5 milhões para ...</td>\n",
       "      <td>Superinteressante</td>\n",
       "      <td>30/04/2020</td>\n",
       "      <td>E valeu para a Petrobras lançar suas brocas ma...</td>\n",
       "    </tr>\n",
       "    <tr>\n",
       "      <th>276</th>\n",
       "      <td>Deputado Claudio Meirelles divulga fake news s...</td>\n",
       "      <td>Jornal Opção</td>\n",
       "      <td>30/04/2020</td>\n",
       "      <td>Mesmo com reajuste, Petrobras despenca 8,7% na...</td>\n",
       "    </tr>\n",
       "    <tr>\n",
       "      <th>277</th>\n",
       "      <td>Venda de imóveis recua, mas ministro volta a p...</td>\n",
       "      <td>Valor Econômico</td>\n",
       "      <td>30/04/2020</td>\n",
       "      <td>Banco do Brasil · Petrobras · Telebrás. Mais d...</td>\n",
       "    </tr>\n",
       "    <tr>\n",
       "      <th>278</th>\n",
       "      <td>JBS busca elevar uso de robôs para ter menos p...</td>\n",
       "      <td>Money Times</td>\n",
       "      <td>30/04/2020</td>\n",
       "      <td>Abatedouros no Canadá fecharam, e casos de Cov...</td>\n",
       "    </tr>\n",
       "  </tbody>\n",
       "</table>\n",
       "<p>279 rows × 4 columns</p>\n",
       "</div>"
      ],
      "text/plain": [
       "                                                 title  \\\n",
       "0    Petrobras faz redução em produção de petróleo ...   \n",
       "1    Empresa inicia recrutamento em Macaé para Enge...   \n",
       "2    Coppe desenvolve ventiladores pulmonares para ...   \n",
       "3    As empresas mais lucrativas da Bolsa brasileir...   \n",
       "4    Economatica: Ibovespa registra queda trimestra...   \n",
       "..                                                 ...   \n",
       "274  Secretaria de Justiça do DF contrata Hotel Man...   \n",
       "275  Pedro Álvares Cabral ganhou R$ 5 milhões para ...   \n",
       "276  Deputado Claudio Meirelles divulga fake news s...   \n",
       "277  Venda de imóveis recua, mas ministro volta a p...   \n",
       "278  JBS busca elevar uso de robôs para ter menos p...   \n",
       "\n",
       "                        media        date  \\\n",
       "0              Agência Brasil  01/04/2020   \n",
       "1    CPG Click Petroleo e Gas  01/04/2020   \n",
       "2              Agência Brasil  01/04/2020   \n",
       "3                   InfoMoney  01/04/2020   \n",
       "4                  SpaceMoney  01/04/2020   \n",
       "..                        ...         ...   \n",
       "274           Diário do Poder  30/04/2020   \n",
       "275         Superinteressante  30/04/2020   \n",
       "276              Jornal Opção  30/04/2020   \n",
       "277           Valor Econômico  30/04/2020   \n",
       "278               Money Times  30/04/2020   \n",
       "\n",
       "                                                  desc  \n",
       "0    A Petrobras anunciou que vai adotar, a partir ...  \n",
       "1    A Rina Brasil vai comandar um projeto de 3 ano...  \n",
       "2    Petrobras. Técnicos da Petrobras estão trabalh...  \n",
       "3    O maior lucro computado foi o da Petrobras, qu...  \n",
       "4    O destaque é o Bradesco, que está logo atrás d...  \n",
       "..                                                 ...  \n",
       "274  Moro acha 'risível' PT culpar juiz e não o lad...  \n",
       "275  E valeu para a Petrobras lançar suas brocas ma...  \n",
       "276  Mesmo com reajuste, Petrobras despenca 8,7% na...  \n",
       "277  Banco do Brasil · Petrobras · Telebrás. Mais d...  \n",
       "278  Abatedouros no Canadá fecharam, e casos de Cov...  \n",
       "\n",
       "[279 rows x 4 columns]"
      ]
     },
     "execution_count": 10,
     "metadata": {},
     "output_type": "execute_result"
    }
   ],
   "source": [
    "df"
   ]
  },
  {
   "cell_type": "code",
   "execution_count": 11,
   "metadata": {
    "colab": {
     "base_uri": "https://localhost:8080/"
    },
    "id": "I4FvVIkTNqo4",
    "outputId": "482cfbfa-9ec1-475c-d844-690a78687251"
   },
   "outputs": [
    {
     "data": {
      "text/plain": [
       "array(['01/04/2020', '02/04/2020', '03/04/2020', '04/04/2020',\n",
       "       '05/04/2020', '06/04/2020', '07/04/2020', '08/04/2020',\n",
       "       '09/04/2020', '10/04/2020', '11/04/2020', '12/04/2020',\n",
       "       '13/04/2020', '14/04/2020', '15/04/2020', '16/04/2020',\n",
       "       '17/04/2020', '18/04/2020', '19/04/2020', '20/04/2020',\n",
       "       '21/04/2020', '22/04/2020', '23/04/2020', '24/04/2020',\n",
       "       '25/04/2020', '26/04/2020', '27/04/2020', '28/04/2020',\n",
       "       '29/04/2020', '30/04/2020'], dtype=object)"
      ]
     },
     "execution_count": 11,
     "metadata": {},
     "output_type": "execute_result"
    }
   ],
   "source": [
    "df.to_csv('Abr-2020.csv',sep = '|',header=True,encoding='utf-8-sig', index=False)\n",
    "df['date'].unique()"
   ]
  },
  {
   "cell_type": "code",
   "execution_count": 12,
   "metadata": {
    "colab": {
     "base_uri": "https://localhost:8080/"
    },
    "id": "uPZz0dRGVU4A",
    "outputId": "6fdaf8b1-4117-460c-f6d8-85094df5e1fd"
   },
   "outputs": [
    {
     "name": "stdout",
     "output_type": "stream",
     "text": [
      "A Petrobras anunciou que vai adotar, a partir de hoje (1), novas medidas  para assegurar a sustentabilidade da companhia “nesta que se configura a  pior crise...\n",
      "A Rina Brasil vai comandar um projeto de 3 anos para a Petrobras e está  recrutando Engenheiro Mecânico / Naval para atividades específicas,...\n",
      "Petrobras. Técnicos da Petrobras estão trabalhando junto com os  pesquisadores no laboratório da Coppe e fornecendo peças disponíveis no  Centro de Pesquisas da...\n",
      "O maior lucro computado foi o da Petrobras, que fechou 2019 com resultado  positivo em R$ 40 bilhões, alta de 55,7% em relação a 2018.\n",
      "O destaque é o Bradesco, que está logo atrás da Petrobrás, com prejuízo de  mais de ... do valor de mercado de empresas com muitos ativos, como a  Petrobras\".\n",
      "Segundo o MP, a redução do petróleo de 40% repassada pela Petrobrás  resultante do ... “Postos não costumam repassar todo o reajuste de preços  da Petrobras,...\n",
      "Petrobras amplia corte de produção de petróleo e reduz processamento em  refinarias. Mas, embora sejam um desafio para muitos, as medidas de  isolamento...\n",
      "Comprar ou vender? Mercado vê riscos políticos que podem afetar ação da  Petrobras. Leia mais sobre: Ações, AES Tietê...\n",
      "Ibovespa sobe 2,1%, aos 100 mil pts. com Petrobras (PETR4) e Vale (VALE3);  dólar cai 0,3%, a R$ 5,23. 17h16 - 27 Jun 2022.\n",
      "Gasolina e etanol têm primeira queda de preço depois de três meses de altas  · Se havia dúvida de que a Petrobras (PETR4) amarrava preço do etanol nas  usinas...\n",
      "A Petrobras registrou uma nova descoberta de óleo no pré-sal, em poço  pioneiro no bloco Uirapuru, na bacia de Santos, informou a companhia em  comunicado...\n",
      "Além dessa compra, outros 200 mil testes rápidos foram doados pela  Petrobras e chegarão na próxima quinzena, totalizando 1,4 milhão de testes.\n",
      "Petrobras reduz produção e pode demitir ou cortar salário de 2 mil no ES ·  Trabalhadores terceirizados já estão sendo demitidos, segundo sindicato, e  os da área...\n",
      "Em teleconferência com a XP Investimentos, após responder uma pergunta, o  presidente da Petrobras, Roberto Castello Branco, fez uma aparte dizendo  que...\n",
      "Nesta quinta-feira (2), as ações da Petrobras operam em forte alta pegando  carona na disparada dos preços do petróleo, após o presidente  norte-americano...\n",
      "Ao considerar o lucro setorial (ver tabela completa abaixo), a Economatica  não inclui a Petrobras, a Vale e a Oi, pois essas empresas tiveram  eventos...\n",
      "... arbitral movido por acionistas minoritários contra a Petrobras. ... por  investidores acionistas da Petrobrás em face da União e da Companhia”[1].\n",
      "Radar traz Petrobras (PETR4), Embraer (EMBR3) e Braskem (BRKM5) · Futuros  de NY sobem e demais mercados operam em terreno positivo; tendência se  mostra de...\n",
      "Radar traz Petrobras (PETR3; PETR4), Light (LIGT3) e Caixa Seguridade  (CXSE3) · Futuros de NY operam sem direção definida com S&P perto da  estabilidade e...\n",
      "'JULGAMENTO' DA PETROBRAS? Descubra se a estatal é culpada pela explosão  nos preços dos combustíveis · De volta ao jogo: Ivan Sant'Anna retorna para  a bolsa.\n",
      "O imóvel, denominado Torre Pituba/Prédio Itaigaral, é de propriedade da  Fundação Petrobras de Seguridade Social (Petros)\", afirma a Lava-Jato.\n",
      "Os músicos da Orquestra Petrobras Sinfônica, com participação do maestro  Isaac Karabtchevsky, se uniram, cada um na sua casa, para gravar um vídeo  tocando...\n",
      "Com relação aos campos operados pela Petrobras e com participação exclusiva  da empresa, produziram 39,5% do total. O campo de Lula, na Bacia de Santos,  foi o...\n",
      "O impacto das reduções de preços da gasolina feitas pela Petrobras em suas  refinarias no mês de março, e da forte queda do consumo, principalmente nas  duas...\n",
      "Fundos de longo prazo. Quando as gigantescas reservas do pré-sal foram  descobertas pela Petrobras, o Congresso Nacional e o governo federal  materializaram, em...\n",
      "A Associação Brasileira de Empresas Distribuidoras de Gás Canalizado  (Abegás) solicitou à Petrobras uma antecipação para 1 de abril na redução  do preço do...\n",
      "Os preços médios de gasolina, diesel e etanol recuaram nos postos  brasileiros nesta semana, após cortes consecutivos dos preços da Petrobras  nas refinarias...\n",
      "... a Sinfônica de São Paulo (Osesp) e a Petrobras Sinfônica estão abertos.  ... o maestro Isaac Karabtchevsky, regente da Orquestra Petrobras Sinfônica.\n",
      "Radar traz Petrobras (PETR3; PETR4), Light (LIGT3) e Caixa Seguridade  (CXSE3) · Futuros de NY operam sem direção definida com S&P perto da  estabilidade e...\n",
      "Gasolina e etanol têm primeira queda de preço depois de três meses de altas  · Se havia dúvida de que a Petrobras (PETR4) amarrava preço do etanol nas  usinas...\n",
      "Hibernação de contratos Petrobras, causará demissão de 150 petroleiros  offshore em Macaé neste mês de abril no Grupo Cobra.\n",
      "Isso tem permitido à Petrobras reduzir os preços dos combustíveis nas  refinarias. Com as vendas em baixa, os postos estão repassando boa parte  dessa redução...\n",
      "Mesmo com reajuste, Petrobras despenca 8,7% na Bolsa de Valores.  Investidores temem maior interferência do governo e do Congresso na estatal  depois de aumento...\n",
      "Itaú BBA retoma cobertura de Petrobras com preço-alvo de R$ 43 e  recomendação de compra. Mais do Valor Investe. Petróleo fecha em alta ante  menor temor por...\n",
      "Maior acionista, governo recebe mais R$ 8,8 bi do lucro da Petrobras. Desde  o início do ano, para rebater as críticas de Bolsonaro e de líderes do  Congresso...\n",
      "Segundo o banco, a incidência dos juros será diluída ao longo de todo o  cronograma de pagamentos. Leia também: Petrobras. Empresas · Comitê da  Petrobras (PETR3;...\n",
      "18:05 Anapetro protocola denúncia na CVM contra eleição de Paes de Andrade  na Petrobras. O jornal de Mato Grosso Facebook · twitter · youtube.\n",
      "... 5 ações fortes para investir agora, segundo corretora do Nubank · Se  havia dúvida de que a Petrobras (PETR4) amarrava preço do etanol nas  usinas,...\n",
      "A Orquestra Petrobras Sinfônica publicou vídeos inéditos no seu canal no  YouTube. A plataforma de áudio Deezer lançou um canal chamado Vida em Casa  que...\n",
      "Maior acionista, governo recebe mais R$ 8,8 bi do lucro da Petrobras ...  Após reajuste da Petrobras, postos já vendem gasolina a mais de R$8 em  Goiânia...\n",
      "Mesmo com reajuste, Petrobras despenca 8,7% na Bolsa de Valores.  Investidores temem maior interferência do governo e do Congresso na estatal  depois de aumento...\n",
      "Senadores pedem acesso a mensagens de ex-presidente da Petrobras que  poderiam ... Congresso quer esclarecer mensagens de ex-presidente da  Petrobras que...\n",
      "Comprar ou vender? Mercado vê riscos políticos que podem afetar ação da  Petrobras. Leia mais sobre: Ações, Investimentos,...\n",
      "Petrobras aprova Andrade como conselheiro e CEO · ISTOÉ Gente 13:43. Ana  Maria Braga fala sobre o caso de Klara Castanho ao vivo na Globo: '...\n",
      "Ata da Petrobras revela que Paes de Andrade recusou entrevista com Comitê  ... não ter recebido orientações do governo sobre política de preços da  Petrobras.\n",
      "O Vice-procurador geral afirma que “A investigação apontou que a Petrobras  contratava suas obras de engenharia com um grupo de empreiteiras, que  controlavam...\n",
      "Petrobras. À Agência Brasil a Petrobras afirmou que, com relação ao gás,  não há falta do produto, mesmo com a população tendo aumentado o consumo,...\n",
      "Estabelecimentos alegam que grandes distribuidoras não repassam as reduções  feitas pela Petrobras e buscam preços mais competitivos...\n",
      "Gilvan Dias explica que na própria licença ambiental expedida para a  Petrobras colocar em funcionamento aquela unidade está explícita a  exigência da...\n",
      "Petrobras diz que ampliou importação para suprir o mercado ... Segundo a  Petrobras, no mês de março, as vendas de GLP (gás de cozinha) totalizaram  615 mil...\n",
      "... autorização para que a Petrobras Transporte S/A - Transpetro passe a  \"pré-operar\" - para efeito de testes e de comissionamento - o oleoduto OSSP  A14.\n",
      "Ministério da Justiça abre processo contra agências de viagem · Petrobras  retoma processos de venda de 3 refinarias · Volkswagen dá férias coletivas  a...\n",
      "... Se havia dúvida de que a Petrobras (PETR4) amarrava preço do etanol nas  usinas, ... Petrobras (PETR4), dividendos e mais: Veja os destaques da  semana no...\n",
      "Petrobrás prometeu reabastecimento nesta semana, mas até o momento os  carregamentos não chegaram. ACidade ON - São Carlos | ACidadeON/São Carlos  - 6/4/2020 19:...\n",
      "fachada de edifício com o logotipo da Petrobras · Petrobras (PETR4) vota  sobre novo presidente após conselheiro dizer que candidato é inapto.\n",
      "Comprar ou vender? Mercado vê riscos políticos que podem afetar ação da  Petrobras. Leia mais sobre: Ações, Europa,...\n",
      "A estatal Petrobrasidentificou a presença de óleo em um poço exploratório  do bloco Sudoeste de Tartaruga Verde, localizado na Bacia de Campos,...\n",
      "... o preço do produto se mantém estável, apesar de a Petrobras ter baixado  o valor nas refinarias, que são o primeiro elo da cadeia fornecedora.\n",
      "Entre as empresas atingidas pela decisão estão Petrobras, Eletrobras,  Cosan, Neoenergia e Ambev. Já possui cadastro? Faça o seu login.\n",
      "GAME OVER para Petrobras? Clique aqui e descubra 2 ações que 'vencem' a  estatal. Menu.\n",
      "Se havia dúvida de que a Petrobras (PETR4) amarrava preço do etanol nas ...  Dividendos, Petrobras (PETR4), Vale (VALE3) e outros destaques em Comprar  ou...\n",
      "Comprar ou vender? Mercado vê riscos políticos que podem afetar ação da  Petrobras. Leia mais sobre: Ações, Comprar ou...\n",
      "Chegou a hora de tirar a máscara da Petrobrás  https://www.jornalopcao.com.br/bastidores/chegou-a-hora-de-tirar-a-mascara-da-petrobras-406451/  …\n",
      "Gasolina e etanol têm primeira queda de preço depois de três meses de altas  · Se havia dúvida de que a Petrobras (PETR4) amarrava preço do etanol nas  usinas...\n",
      "Ibovespa flerta com 101 mil pontos apoiado em Vale e Petrobras ... Prazo do  mandato de Paes de Andrade vai até 13/4/2023, data de AGO da Petrobras.\n",
      "Conselho da Petrobras pode indagar sobre firma de Pires, diz especialista  ... Indicado à Petrobras, Pires não revela empresas clientes de sua  consultoria.\n",
      "Além do gasoduto, a Petrobras informou que no próximo dia 10 chega no porto  de Santos (SP) a terceira carga de GLP importado. Desde o dia 30 de  março,...\n",
      "O Conselho de Administração da Petrobras aprovou o Programa de  Aposentadoria Incentivada (PAI) para desligamento dos empregados  aposentáveis, com vigência...\n",
      "Braskem: prioridade no ano é renovar contratos de nafta e propeno com  Petrobras. Empresa também lista o início de operação da nova fábrica de  polipropileno nos...\n",
      "De acordo com a Sesa, a notificação feita pela Petrobras informa que os  colaboradores trabalham na plataforma localizada em Macaé (Bacia de  Campos),...\n",
      "Gasolina e etanol têm primeira queda de preço depois de três meses de altas  · Se havia dúvida de que a Petrobras (PETR4) amarrava preço do etanol nas  usinas...\n",
      "A decisão da Petrobras de reduzir em 10% o valor do gás de cozinha já é  sentida nas lojas de abastecimento de Porto Alegre. A medida foi adotada a  partir do...\n",
      "O contato próximo com animais selvagens no mercado, fechado desde janeiro,  tem sido amplamente responsabilizado pelo surto. Leia também: petrobras ·  Comprar ou...\n",
      "Originalmente, o acordo foi assinado entre a Petrobras e os procuradores da  \"lava jato\" e previa a criação de um fundo a ser administrado pelo  Ministério...\n",
      "Petrobras perde R$ 27,3 bi em valor de mercado em apenas um dia. Only  murders in the building estreia nova temporada repetindo fórmula de forma  certeira...\n",
      "Ibovespa tem Petrobras e 3R Petroleum como destaques positivos ... Ibovespa  tem Petrobras e 3R Petroleum como destaques positivos.\n",
      "A Petrobras comunicou em carta a sindicato de petroleiros que irá hibernar  seis plataformas de produção de petróleo e gás em cinco campos na Bacia de  Campos...\n",
      "RIO - A Petrobrás informou nesta quinta-feira (9), à Secretaria de Estado  da Saúde do Espírito Santo (Sesa) que 53 trabalhadores da plataforma  Macaé-RJ,...\n",
      "O preço médio do GLP nas refinarias da Petrobras é hoje equivalente a R$  21,85 por botijão de 13 quilos preço cerca de 21% menor que o do início de  2020.\n",
      "Alguns empreendimentos e obras da Petrobras se mantém a todo vapor apesar  da pandemia. Exemplo de uma delas é a construção do gasoduto Rota 3 do  Comperj,...\n",
      "Ibama vai considerar impacto do coronavírus em processo de licenciamento  ambiental · Mais da epbr · Superlucro da Petrobras entra em debate na  corrida...\n",
      "A gigante brasileira Petrobras também sentiu os efeitos da montanha-russa  do petróleo, enfrentando alta volatilidade em seus papéis.\n",
      "'JULGAMENTO' DA PETROBRAS? Descubra se a estatal é culpada pela explosão  nos preços dos combustíveis. Menu. Seu Dinheiro. Últimas Notícias.\n",
      "Gasolina e etanol têm primeira queda de preço depois de três meses de altas  · Se havia dúvida de que a Petrobras (PETR4) amarrava preço do etanol nas  usinas...\n",
      "“Estamos focando na economia externa: commodities e empresas com atuação  forte como Vale, Klabin, Usiminas e Petrobrás”, disse Nunes.\n",
      "Chegou a hora de tirar a máscara da Petrobrás  https://www.jornalopcao.com.br/bastidores/chegou-a-hora-de-tirar-a-mascara-da-petrobras-406451/  …\n",
      "Procurada, a Petrobras informou que o assunto está sendo tratado pela SBM  Offshore, que é responsável pela plataforma. A SBM acrescentou que a saúde  e a...\n",
      "A Petrobras diz que monitora casos suspeitos e que vem tomando \"medidas  preventivas em linha com as recomendações das autoridades\", mas os  trabalhadores querem...\n",
      "BC indica que taxa Selic ficará alta por um período prolongado · Brasil  registra 50.272 casos e 96 mortes por covid em 24h · Ações da Petrobras  voltam a...\n",
      "O Posto Cachoeira I-Siga Bem Petrobras, se solidariza com os clientes  caminhoneiros como atividade essencial da rodovia e parte na frente fazendo  a distribuição...\n",
      "Ibovespa sobe 2,1%, aos 100 mil pts. com Petrobras (PETR4) e Vale (VALE3);  dólar cai 0,3%, a R$ 5,23. 17h16 - 27 Jun 2022 · [OGF - VIP - SPACENOW  DESKTOP]...\n",
      "... Se havia dúvida de que a Petrobras (PETR4) amarrava preço do etanol nas  usinas, ... Petrobras (PETR4), dividendos e mais: Veja os destaques da  semana no...\n",
      "A Petrobras também reduziu a produção de combustíveis em suas refinarias,  em razão da retração dos mercados internacionais e da queda do consumo  interno,...\n",
      "Comprar ou vender? Mercado vê riscos políticos que podem afetar ação da  Petrobras. Leia mais sobre: Alimentos, Comércio,...\n",
      "Se havia dúvida de que a Petrobras (PETR4) amarrava preço do etanol nas  usinas, não há mais · Gasolina e etanol têm primeira queda de preço depois  de três...\n",
      "Na contramão da maior parte da bolsa, Petrobras segura Ibovespa no zero a  zero. Mais do Valor Investe. El Salvador tem prejuízo de até 50% com queda  do...\n",
      "A Petrobras não está contribuindo\", disse o sindicalista. O diretor do  Sindipetro-LP também criticou a posição da petroleira de não permitir a  participação de...\n",
      "... de desabastecimento têm provocado uma corrida às revendedoras em  Vitória e outros locais. Petrobras garante que importação de GLP resolverá  a situação.\n",
      "Bolsonaro diz que Petrobras “traiu o povo” e propõe criação de CPI.  Critério para renovar concessão da Globo será “100% técnico”, diz Fábio  Faria.\n",
      "... Oposição quer CPI e governistas minimizam citação a Bolsonaro ·  Petrobras já elegeu presidentes antes de assembleia de acionistas ·  Bolsonaro faz...\n",
      "José Mauro Coelho pede demissão da presidência da Petrobras. Foto: ALAN  SANTOS/PR/MONTAGEM ... José Mauro Coelho pede demissão da presidência da  Petrobras.\n",
      "... 20:55 Dança das cadeiras Bolsonaro troca presidente da Petrobras pela  3ª vez; 20:34 Terenos Dinheiro de acerto bancaria fuga de assassino para  Belo...\n",
      "Gasolina e etanol têm primeira queda de preço depois de três meses de altas  · Se havia dúvida de que a Petrobras (PETR4) amarrava preço do etanol nas  usinas...\n",
      "Foi presidente do Conselho de Administração do BNDES e diretor do BNDES de  2017 a 2019, diretor do Banco Central (1986-1988) e da Petrobras  (1990-1992).\n",
      "Mesmo com reajuste, Petrobras despenca 8,7% na Bolsa de Valores.  Investidores temem maior interferência do governo e do Congresso na estatal  depois de aumento...\n",
      "Pesquisa Metrópoles/Ideia: 48,6% dos brasilienses são contra privatização  da Petrobras; 42,9%, a favor. Levantamento indica que a população do DF se  divide...\n",
      "Publicado em 12/04/2020 - 20:36 Por Agência Brasil - Rio de Janeiro ·  Audiodescrição: · Destaques EBC · Caio Mário Paes de Andrade é o novo  presidente da Petrobras.\n",
      "Edifício sede da Petrobras · Economia sex, 24/06/2022 - 20:49. Comitê da  Petrobras aprova nome de Caio Andrade para presidência.\n",
      "Informações são do Sindicato dos Petroleiros do Norte Fluminense  (Sindipetro-NF) ... O polo de Garoupa, na Bacia de Campos, está entre os  ativos que a Petrobras...\n",
      "A Petrobras esclareceu que enviou no dia 24 de março uma notificação de  Declaração de Força Maior à petrolífera Enauta, sua parceira no campo de  gás natural...\n",
      "A Petrobras conta com as distribuidoras e revendedores para que as reduções  do preço do botijão de gás cheguem até o consumidor final\", informou em  nota. A...\n",
      "Segundo apurado pelo PetróleoHoje a Petrobras pode mudar seu atual Plano de  Negócios e instalar o FPSO P-71 no campo de Itapu. Atualmente o navio  plataforma...\n",
      "O ministro de Minas e Energia do Brasil, Bento Albuquerque, afirmou que a  Petrobras já reduziu sua produção em 200 mil barris por dia, o que  representa 20%...\n",
      "Comprar ou vender? Mercado vê riscos políticos que podem afetar ação da  Petrobras. Leia mais sobre: Ações, Carteira Recomendada...\n",
      "O objetivo seria fazer com que o ex-diretor da Petrobras não delatasse. O  senador cassado nunca comprovou o que disse e os investigadores não  encontraram...\n",
      "​José Mauro Coelho, presidente da Petrobras, pede demissão. 20/06/2022.  Ministro diz que governo está atuando para reduzir impostos e inflação.  09/06/2022.\n",
      "GAME OVER para Petrobras? Clique aqui e descubra 2 ações que 'vencem' a  estatal. Menu.\n",
      "Parlamentares pedem ida de Guedes e ex-presidente da Petrobras à Câmara  para debater crise dos combustíveis. Por Bela Megale.\n",
      "Petrobras suspende operação de plataformas. Petroleiros estimam que 50  podem parar. Em carta a sindicatos, estatal diz que Bacia de Campos será a  mais afetada.\n",
      "... da Petrobras (PETR4), apesar da atual crise na indústria do petróleo  devido à pandemia do novo coronavírus, disse à Reuters um executivo da  companhia.\n",
      "That document showed Petrobras had recorded 59 suspected coronavirus cases  and 19 confirmed cases last week among employees and subcontractors in one  deep-sea...\n",
      "Leia também · Rumo do FPSO P-71 ainda não foi definido pela Petrobras · 45  plataformas de produção de petróleo da Petrobras instaladas no Nordeste e  Sudeste vão...\n",
      "Se havia dúvida de que a Petrobras (PETR4) amarrava preço do etanol nas ...  Dividendos, Petrobras (PETR4), Vale (VALE3) e outros destaques em Comprar  ou...\n",
      "A alternativa ao papel da Petrobras (PETR4) que pode disparar 183% · 12  fundos imobiliários de CRIs com dividendos de até 20% para você comprar  agora,...\n",
      "Letra, Empresa, Ticket, Ganho, Perda, Avaliação de risco (GI LINE). A, AES  Tietê, TIET11, 4,2%, 28,2%, 13. B, Petrobras, PETR3, 67,1%, 99,9%, 40.\n",
      "Governo critica Petrobras e tira o foco de sua responsabilidade pela  estatal, diz especialista · Dólar sobe 2% e Ibovespa cai 2,83% puxada por  forte queda...\n",
      "Essas atribuições, dizem, competem a outros órgãos. Leia também: Petrobras.  Empresas · Comitê da Petrobras (PETR3;PETR4)...\n",
      "Se havia dúvida de que a Petrobras (PETR4) amarrava preço do etanol nas  usinas, não há mais · Gasolina e etanol têm primeira queda de preço depois  de três...\n",
      "RIO - A Petrobras informou na noite desta quarta-feira que vai paralisar a  produção de 62 plataformas em campos de águas rasas das bacias de Campos,...\n",
      "A Petrobras começou a hibernação de 62 plataformas em campos de águas rasas  das bacias de Campos, Sergipe, Potiguar (Rio Grande do Norte) e Ceará,...\n",
      "Em carta a sindicatos de petroleiros, a Petrobrás informou a paralisação  das unidades, o que vai significar demissões e remanejamento de pessoal.\n",
      "A Petrobras cortou em 6% o preço do litro do diesel e em 8% o da gasolina,  nas refinarias. O ajuste, válido a partir de hoje, deve reforçar a  tendência de...\n",
      "Petrobras paralisará pelo menos 45 plataformas, Gol fecha acordo com Boeing  e Justiça bloqueia R$ 50 mi da Vale. Confira os destaques do noticiário  corporativo...\n",
      "A Autorização nº 248 é relativa à operação de uma Unidade de Processamento  de Gás Natural (UPGN), a primeira do gênero que não pertence à Petrobras,...\n",
      "O projeto Rota 3, que pertence a Petrobras, está em execução e tem como  objetivo específico ampliar o escoamento de gás natural dos projetos em  operação na...\n",
      "... Vale (VALE3), Taesa (TAEE11): 10 ações para lucrar com dividendos,  segundo o Inter · A alternativa ao papel da Petrobras (PETR4) que pode  disparar 183%...\n",
      "... Se havia dúvida de que a Petrobras (PETR4) amarrava preço do etanol nas  usinas, não há mais · Celulose é o novo minério de ferro?\n",
      "... Se havia dúvida de que a Petrobras (PETR4) amarrava preço do etanol nas  usinas, ... Petrobras (PETR4), dividendos e mais: Veja os destaques da  semana no...\n",
      "A Petrobras vai botar em processo de hibernação 62 das suas plataformas em  campos de águas rasas das bacias de Campos, Sergipe, Potiguar e Ceará.\n",
      "A Petrobras pagou em 2019 R$ 246 bilhões em tributos e participações  governamentais no Brasil, mediante os R$ 378,4 bilhões de receita bruta  obtidos pela...\n",
      "Volatilidade que domina Bolsa na crise do coronavírus também atingiu ações  da Petrobras e da Vale · Ações da petroleira e da mineradora juntas  representam 19% do...\n",
      "A Petrobras, maior contribuinte do Brasil – como lembrou o seu presidente,  Roberto Castello Branco – divulgou na noite de ontem seu relatório fiscal  de 2019. A...\n",
      "A ANP garantiu que até o momento não há registro de mortes associadas ao  coronavírus. Petrobras: Com coronavírus e queda no preço do petróleo,  estatal vai...\n",
      "Após 45 plataformas de produção de petróleo da Petrobras instaladas no  Nordeste e Sudeste serem desligadas nos últimos dias, a estatal decidiu  transferir...\n",
      "... competência da Justiça do Trabalho para apreciar o pedido de pagamento  de auxílio-funeral para a viúva de um ex-empregado da Petrobras em Salvador  (BA).\n",
      "Após o anúncio da Petrobras, em alguns postos o litro da gasolina está  sendo vendida a R$ 4,47. Por G1 Petrolina. 16/04/2020 07h54 Atualizado há 2  anos...\n",
      "... Se havia dúvida de que a Petrobras (PETR4) amarrava preço do etanol nas  usinas, ... Petrobras (PETR4), dividendos e mais: Veja os destaques da  semana no...\n",
      "Ibovespa flerta com 101 mil pontos apoiado em Vale e Petrobras · Imagem  ilustrativa: casa de brinquedo sobre uma calculadora...\n",
      "A Petrobras não vai quebrar e tampouco demitir em massa. O recado foi dado,  nesta sexta-feira (17/4), pelo presidente da estatal, Roberto Castello  Branco,...\n",
      "A Petrobras decidiu paralisar temporariamente parte da construção do  gasoduto Rota 3 e da unidade de processamento de gás do Complexo  Petroquímico do Rio de...\n",
      "A Orquestra Petrobras Sinfônica lançou, nesta semana, o Concurso de Arte &  Caricatura – Beethoven 250 anos. A competição vai se dividir em duas  categorias:...\n",
      "A queda da demanda por combustíveis em razão do novo coronavírus causou uma  forte redução no fator de utilização das refinarias da Petrobras, que  agora...\n",
      "Para estabilizar o mercado, a Petrobras anunciou a importação do produto,  depois de ter que reduzir a produção de gasolina em suas refinarias devido  à queda do...\n",
      "O Sindicato dos Petroleiros da Bahia (Sindipetro) foi informado pela  direção da Petrobras no último dia 8 que a estatal prepara a redução das  atividades nos...\n",
      "No terceiro, o Flamengo/Petrobras novamente tomou a liderança da série,  vencendo por 110×101. Jogo quatro: a partida que terminou nos tribunais. No  dia oito de...\n",
      "“Existia um cálculo de que a Petrobras teria capacidade de produzir 7  milhões de barris de petróleo por dia até o fim desta década. Isso,  certamente, demorará...\n",
      "A UFMG firmou parceria com a BR Distribuidora, empresa de distribuição de  combustíveis ligada à Petrobras, para o recebimento de três mil litros de  álcool...\n",
      "Comprar ou vender? Mercado vê riscos políticos que podem afetar ação da  Petrobras. Leia mais sobre: Coronavírus, Empresas,...\n",
      "Se havia dúvida de que a Petrobras (PETR4) amarrava preço do etanol nas  usinas, não há mais · Gasolina e etanol têm primeira queda de preço depois  de três...\n",
      "Se havia dúvida de que a Petrobras (PETR4) amarrava preço do etanol nas ...  Dividendos, Petrobras (PETR4), Vale (VALE3) e outros destaques em Comprar  ou...\n",
      "curso - projeto - petrobras - · Curso patrocinado pela Petrobras capacitou,  formou e certificou quase mil mulheres que poderão trabalhar e empreender  na...\n",
      "... CVC (CVCB3), Petrobras (PETR4) e outras empresas para ficar de olho  hoje · Sanepar (SAPR11) pagará R$ 154 milhões em juros sobre o capital  próprio...\n",
      "... Chaguinhas destaca festejos juninos no Maranhão e pontua mudança de  comando na Petrobras · Charles dos Carrinhos solicita reforma do Mercado do  Anjo da...\n",
      "'JULGAMENTO' DA PETROBRAS? Descubra se a estatal é culpada pela explosão  nos preços dos combustíveis. Menu.\n",
      "Destaques em Economia · 'O País vai parar naturalmente, por não ter mais  condições de rodar', diz líder dos caminhoneiros · Mudança de presidente da  Petrobras...\n",
      "... diz Ipea · Bolsonaro exalta queda no desemprego para 9,4% e critica PT  · Conselho da Petrobras decide sobre Caio Paes de Andrade na 2ª.  publicidade...\n",
      "José Mauro Coelho pede demissão e deixa a presidência e o Conselho de  Administração da Petrobras. Pressionado pelo governo após reajuste de  preços do diesel...\n",
      "E mais: Qual a missão do novo presidente da Petrobrás? Egídio Serpa. 28 de  Junho de 2022 ... quem é o novo presidente da Petrobras. Negócios...\n",
      "Exclusivo: ex-presidente da Petrobras diz que celular tinha mensagens que  incriminam Bolsonaro · Guilherme Amado há 1 dia...\n",
      "A Petrobras anunciou, nesta segunda-feira, 20, uma nova redução nos preços  médios dos combustíveis vendidos nas refinarias. A gasolina ficará 8% mais  barata...\n",
      "“A Petrobras não é afetada diretamente porque tem como referência o preço  do óleo Brent, o que acaba sendo uma blindagem”, afirma o analista Ilan  Arbetman,...\n",
      "Plataforma de petróleo da Petrobras, na Bacia de Campos; queda do preço  internacional afeta investimentos de todas petrolíferas - Oscar Cabral/.  Pela primeira...\n",
      "Como a Petrobras usa o barril do tipo Brent como referência, os papéis não  foram tão afetados nesta segunda-feira. A queda chegou a 1,36% nas ações...\n",
      "Petrobras pagou R$ 246 bi em tributos e participações governamentais. A  estatal pagou em 2019 um total de R$ 246 bilhões em impostos, um  crescimento de 34,91%...\n",
      "“Infelizmente a Petrobras não tomou as devidas medidas a tempo e agora  estamos vivenciando um surto de casos. Já foram desembarcados dezenas de  trabalhadores...\n",
      "\"A Petrobras teve que reduzir a produção de petróleo diante da redução da  demanda de gasolina e diesel, consequência do isolamento social e da crise  do...\n",
      "Os participantes do TudoAzul e do Premmia, programa de fidelidade da rede  de postos Petrobras, ganharam mais facilidade para acumular pontos.\n",
      "... PetroRecôncavo (RECV3) e PetroRio (PRIO3) caem até 10%, com Petrobras  (PETR4) ... PetroRio (PRIO3): Cade concede aval para Petrobras (PETR4)  vender...\n",
      "É o caso de Petrobras, Fleury, Lojas Renner e EDP do Brasil, por exemplo. A  petroleira e a rede de laboratórios adiaram o pagamento para dezembro,...\n",
      "Os custos dos combustíveis nos postos de Campo Grande e em Mato Grosso do  Sul voltaram a recuar até 8,3% nesta semana, após novo corte pela Petrobras  dos...\n",
      "Receba notícias em tempo real no app. Baixar. LONDRES - O preço do barril  de petróleo tipo Brent, negociado na Bolsa de Londres e referência para a  Petrobras e...\n",
      "Papéis das aéreas registraram as maiores perdas e nenhum papel do índice  Brazil Titans 20 fechou em alta; Petrobras teve perdas de 3,5%.\n",
      "Bolsonaro afirma que Petrobras terá nova dinâmica sobre combustíveis com  Andrade ... Petrobras PN · Vale ON · Usiminas PNA · Gerdau PN...\n",
      "Gasolina e etanol têm primeira queda de preço depois de três meses de altas  · Se havia dúvida de que a Petrobras (PETR4) amarrava preço do etanol nas  usinas...\n",
      "Ministro diz que governo não pode interferir nos preços da Petrobras.  Adolfo Sachsida participou de audiência na Câmara dos Deputados.\n",
      "Ata da Petrobras revela que Paes de Andrade recusou entrevista com Comitê  ... não ter recebido orientações do governo sobre política de preços da  Petrobras.\n",
      "Orquestra Petrobras Sinfônica transmite concerto sob regência do maestro  Isaac Karabtchevsky com a renomada pianista Sylvia. Entretenimento2 horas  atrás...\n",
      "Caio Paes de Andrade é eleito presidente da Petrobras · 27-06-2022 13:16 ·  Vantagem de Lula para Bolsonaro no 2º turno cai 4 pontos...\n",
      "O futuro já começou. O que é a Web 3.0 e como ela vai impactar as nossas  Vidas! Petrobras perde R$ 27,3 bi em valor de mercado em apenas um dia...\n",
      "A Petrobras reduziu o nível de utilização de suas refinarias a 60%, para  enfrentar a queda de demanda sem estrangular a capacidade de armazenamento  de...\n",
      "Mas, o que significam, e como isso impacta a Petrobras (PETR4)? Veja, a  seguir, as maiores diferenças entre os dois principais modos de estabelecer  o preço...\n",
      "Em julho de 2019, a Petrobras abriu o capital da BR Distribuidora na B3,  embora ainda detenha 37,5% das ações. Presente em todos os estados  brasileiros e no...\n",
      "... programas de fidelidade da Azul e dos postos BR (Petrobrás), ... Se a  pessoa não for participante do programa de fidelidade da rede de postos  Petrobras,...\n",
      "Gasolina e etanol têm primeira queda de preço depois de três meses de altas  · Se havia dúvida de que a Petrobras (PETR4) amarrava preço do etanol nas  usinas...\n",
      "“Acho que a Petrobras não vai tomar nenhuma decisão correndo, vai  acompanhar como o mercado se comporta ao longo dos próximos dias ou semanas  antes de repassar...\n",
      "Posto Petrobras (Asa Norte): Gasolina – R$ 3,79 débito e crédito / Etanol –  R$ 3,19 débito e crédito. Posto Quality Combustíveis (Núcleo  Bandeirante):...\n",
      "... Se havia dúvida de que a Petrobras (PETR4) amarrava preço do etanol nas  usinas, ... Petrobras (PETR4), dividendos e mais: Veja os destaques da  semana no...\n",
      "Gasolina e etanol têm primeira queda de preço depois de três meses de altas  · Se havia dúvida de que a Petrobras (PETR4) amarrava preço do etanol nas  usinas...\n",
      "Petrobras monitora preços nos EUA. 2 de 2. Apenas nesta semana, a cotação  do contrato para junho do Brent, referência mundial, caiu cerca de 35%,...\n",
      "A Petrobras (PETR3; PETR4) informou na noite de quarta-feira que tem 261  colaboradores, entre próprios e terceirizados, contaminados pelo  Covid-19,...\n",
      "Na última sexta-feira (17), o presidente da Petrobras, Roberto Castello  Branco, alertou que um aumento no imposto sobre a importação de gasolina  poderia...\n",
      "Na segunda-feira (20), a Petrobras anunciou uma nova redução nos preços  médios dos combustíveis vendidos nas refinarias. A gasolina ficou 8% mais  barata e o...\n",
      "Nesta quinta (23/4), um navio que presta serviços para a Petrobras, operado  pela Subsea 7 Brasil, registrou mais três casos. E, de acordo com a  Federação Única...\n",
      "As cotações do barril do tipo Brent, que servem de referencial para o  mercado internacional e para a Petrobras, também se recuperaram. Por volta  das 18h30,...\n",
      "O valor total pedido pelo MPF e pela Petrobras na causa totaliza R$  3.454.727.308,06. Já os deputados federais Luiz Fernando Faria e Arthur  Lira respondem à...\n",
      "Lucro abusivo da Petrobras é de meio bilhão por dia · Diário do Poder. Novo  ministro define primeira providência: deflagrar privatização da Petrobras.\n",
      "De acordo com informações, pelo menos uma dessas embarcações presta  serviços para a Petrobras na exploração do pré-sal. Trabalhe no Setor  Eólico do Brasil. O...\n",
      "Comprar ou vender? Mercado vê riscos políticos que podem afetar ação da  Petrobras. Leia mais sobre: Bancos, Bloomberg,...\n",
      "... Se havia dúvida de que a Petrobras (PETR4) amarrava preço do etanol nas  usinas, ... Petrobras (PETR4), dividendos e mais: Veja os destaques da  semana no...\n",
      "Apenas nesta semana, a Petrobras reduziu o valor da gasolina em 8% nas  refinarias. No acumulado, o preço já sofreu uma queda de 52,3% neste ano.\n",
      "A Petrobras constatou que a gasolina teve redução de 8% e o diesel (S10 e  S500), de 6%. Procurado pela Autoesporte, Carlos Monteiro, gerente de  imprensa da...\n",
      "O navio-plataforma (FPSO) Cidade de Santos, da Modec, ancorada na Bacia de  Santos a serviço da Petrobras Foto: Divulgação / Modec.\n",
      "O desempenho do mercado internacional, no entanto, não se refletiu nas  ações da Petrobras, as mais negociadas na bolsa. Afetados pelas tensões  políticas...\n",
      "Petrobras (PETR3:PETR4) salta quase 6%; o que motiva a alta das ações nesta  segunda? Leia mais sobre: Bloomberg, Consumo, EUA, Shoppings, Varejo.  Última...\n",
      "Comprar ou vender? Mercado vê riscos políticos que podem afetar ação da  Petrobras. Leia mais sobre: Bloomberg, Coronavírus,...\n",
      "Ibovespa sobe 2,1%, aos 100 mil pts., com Petrobras (PETR4) e Vale (VALE3);  dólar cai 0,4%, R$ 5,22. 15h10 - 27 Jun 2022 · [OGF - VIP - SPACENOW  DESKTOP]...\n",
      "Governos normalmente devolvem o dinheiro emprestado por meio da arrecadação  dos impostos e, em alguns casos, lucros de suas empresas estatais, como a  Petrobras,...\n",
      "... Se havia dúvida de que a Petrobras (PETR4) amarrava preço do etanol nas  usinas, ... Petrobras (PETR4), dividendos e mais: Veja os destaques da  semana no...\n",
      "Lira volta a criticar a Petrobras e diz que País vai enfrentar a estatal ·  Lula lembra que pediu libertação de sequestradores de Abílio Diniz a FHC.\n",
      "RIO (Reuters) — A Petrobras reduzirá o preço médio do diesel nas refinarias  em 10% a partir de segunda-feira, informou a petroleira à Reuters após  ser...\n",
      "Radar traz Petrobras (PETR3; PETR4), CSN (CSNA3) e GPA (PCAR3) · Com Selic  a 13,25%, a poupança vale a pena? Descubra aqui · Mercados operam em baixa  com...\n",
      "Petrobras aprova Andrade como conselheiro e CEO ... Correção: Conselho da  Petrobras aprova Paes de Andrade presidente da empresa.\n",
      "Ibovespa flerta com 101 mil pontos apoiado em Vale e Petrobras ... Prazo do  mandato de Paes de Andrade vai até 13/4/2023, data de AGO da Petrobras.\n",
      "Petrobras: comitê se reúne para avaliar indicação de Paes de Andrade ·  Congresso em Foco · Assista Em tour pelo Nordeste, Bolsonaro é hostilizado  no São...\n",
      "Petrobras nega reserva de R$ 200 bilhões para distribuição de lucros. Na  noite da segunda-feira, 20, o presidente da República, Jair Bolsonaro,...\n",
      "Depois de chutar Sergio Moro do governo, Bolsonaro abraçou-se com  investigados da Lava-Jato que saquearam os cofres da Petrobras durante os  governos do PT.\n",
      "Gasolina e etanol têm primeira queda de preço depois de três meses de altas  · Se havia dúvida de que a Petrobras (PETR4) amarrava preço do etanol nas  usinas...\n",
      "Presidente afirma que vai propor à Câmara CPI para investigar Petrobras ·  Chamadas. Petrobras deve anunciar novos aumentos no preço de combustíveis.\n",
      "... 15:44; Duas novas pesquisas prometem desafiar o Datafolha para  presidente 21 de junho de 2022, 15:16; Lula diz que a CPI da Petrobras é um  absurdo;...\n",
      "Petrobras: novos casos de coronavírus na plataforma P-26, em Macaé, na  Bacia de Campos. De acordo com o Sindicato dos Petroleiros no Norte  Fluminense,...\n",
      "O CPG publicou algumas informações equivocadas anteriormente e a pedido da  assessoria de imprensa da McDermott, segue a retificação oficial Petrobras.\n",
      "Coronavírus atinge centenas de funcionários da Petrobras. Depois disso, a  Nasa solicitou avaliação rápida à FDA (agência que aprova ou reprova  medicamentos...\n",
      "Para lucrar: 6 empresas que pagam dividendos trimestrais · Tem ações da  Petrobras (PETR4)? Saiba se é hora de vender ou comprar, segundo 5  analistas...\n",
      "Gasolina e etanol têm primeira queda de preço depois de três meses de altas  · Se havia dúvida de que a Petrobras (PETR4) amarrava preço do etanol nas  usinas...\n",
      "Lucro abusivo da Petrobras é de meio bilhão por dia · Diário do Poder. Novo  ministro define privatização da Petrobras como prioridade · Diário do  Poder...\n",
      "Petrobras reduzirá preço do diesel em 10% a partir de segunda-feira.  Argentina estende quarentena até 10 de maio e revela preocupação com Brasil.\n",
      "... que desvendou um esquema de corrupção na Petrobras. No Instagram, a  mulher do ex-ministro também lamentou que, em meio à pandemia de  covid-19,...\n",
      "E, a partir de 2011, com a crise na Petrobrás, perdemos o patrocínio\",  conta. Atualmente, o Nós do Morro conta com sete turmas e todo o corpo de  trabalho do...\n",
      "Ata da Petrobras revela que Paes de Andrade recusou entrevista com Comitê  ... não ter recebido orientações do governo sobre política de preços da  Petrobras.\n",
      "A produção da Petrobras cresceu, no primeiro trimestre deste ano, comparado  a igual período de 2019, apesar da crise da covid-19.\n",
      "A Petrobras já havia implementado a realização de testes RT-PCR desde o  início de abril em trabalhadores que apresentassem sintomas da doença. O  exame detecta a...\n",
      "A Petrobras informou nesta segunda-feira o início da fase vinculante do  processo de venda da totalidade das ações de emissão da BSBios Indústria e  Comércio...\n",
      "... clientes dos postos Petrobras: agora será possível pagar pelo  combustível ... para os postos participantes do programa de benefícios  Petrobras Premmia,...\n",
      "A Petrobras anunciou a chegada da plataforma de petróleo, P-67, ancorada  na. © Tânia Rêgo/Agência Brasil.\n",
      "Já o preço do barril do tipo Brent, negociado na bolsa de Londres e  referência para a Petrobras e os negócios no Brasil, era negociado a 20  dólares,...\n",
      "Após reajuste, Bolsonaro quer investigar Petrobras (PETR4) e diz que vai  propor CPI à Câmara · Imagem de executivo, investidor, sobre terreno em  brasa,...\n",
      "Raul Henrique Srour presta depoimento na CPI da Petrobras 20/08/2015 Foto:  André Coelho / Agência O Globo. Receba notícias em tempo real no app.\n",
      "Apesar de redução maior do que em outras semanas, o preço dos derivados  ainda está bem abaixo da queda praticada pela Petrobras nas refinarias, que  já chega a...\n",
      "Ibovespa salta 2%, aos 100 mil pontos, com Petrobras (PETR4) e Vale  (VALE3); dólar cai 0,8%, R$ 5,21. 13h08 - 27 Jun 2022 · [IPE NECTON -  SPACENOW DESKTOP]...\n",
      "Petrobras prevê concluir 2020 com dívida bruta de US$ 87 bi, mesmo patamar  de 2019 · A empresa diz que continua perseguindo a redução do endividamento  para US$...\n",
      "A Petrobras intensificou a realização de testes rápidos de infecção para  trabalhadores que vão embarcar em unidades de exploração e produção em  alto-mar.\n",
      "Petrobras paralisa sondas na Bahia e Sergipe; 550 petroleiros ficam  desempregados. A paralisação de cinco sondas de petróleo que funcionam na  Unidade...\n",
      "De acordo com a Petrobras, com a nova redução de valores, o preço médio do  litro da gasolina nas refinarias chegará a R$ 0,91. Esse é o menor preço  cobrado pela...\n",
      "Diamond Offshore Drilling tem duas sondas afretadas pela Petrobras: a Ocean  Valor(foto) e a Ocean Courage, que atualmente estão alocadas na Bacia de  Santos. A...\n",
      "Cerca de 46 prestadores de serviço da Petrobrás deixaram a plataforma P26,  em Macaé, na Bacia de Campos, nos últimos 12 dias com suspeita de Covid-19.\n",
      "Líderes caminhoneiros rebatem Lira por atacar Petrobras: Vírus da fake news  · Estado-máfia: Tiranolira rex mira até familiares de diretores da  Petrobras.\n",
      "... Se havia dúvida de que a Petrobras (PETR4) amarrava preço do etanol nas  usinas, ... Petrobras (PETR4), dividendos e mais: Veja os destaques da  semana no...\n",
      "Ministro Mendonça cobra da Petrobras motivo das altas de combustíveis ·  Diário do Poder. Arthur Lira pede 'renúncia imediata' do presidente da  Petrobras.\n",
      "Gasolina e etanol têm primeira queda de preço depois de três meses de altas  · Se havia dúvida de que a Petrobras (PETR4) amarrava preço do etanol nas  usinas...\n",
      "E que os testes só acontecem para trabalhadores embarcados. A Petrobras  informou que, nos desembarques, o colaborador usa máscara, “conforme  recomendação do...\n",
      "SÃO PAULO - O Conselho de Administração da Petrobras aprovou um novo modelo  de gestão para a Assistência Multidisciplinar de Saúde (AMS) aos  funcionários,...\n",
      "Segundo a Petrobras, o preço de refinaria do gás de cozinha equivale a  cerca de 30% do valor final de venda do botijão -o restante é composto  impostos e margens...\n",
      "Compartilhe: Tags: 1T20, RADL3, Raia Drogasil. Compartilhe: Agência ·  Agência Trademap. Você pode se interessar também: Fachada de prédio da  Petrobras...\n",
      "Investing.com - Em um dia de anúncio de reajustes no preço dos  combustíveis, a Petrobras (SA:PETR4) recuava forte às 14h49 (horário de  Brasília) desta sexta-...\n",
      "ICMS, CPI e Petrobras: veja o que vai movimentar a sua sexta-feira. Leia  mais sobre: Internacional, Petróleo, Reuters, Rússia, Vladimir Putin.\n",
      "Gasolina e etanol têm primeira queda de preço depois de três meses de altas  · Se havia dúvida de que a Petrobras (PETR4) amarrava preço do etanol nas  usinas...\n",
      "... o maior peso na composição da carteira anterior foram: Itaú Unibanco  (8,573%), Vale (8,189%), Bradesco (6,985%), Petrobras (6,617%), e B3  (4,312%).\n",
      "Gasolina e etanol têm primeira queda de preço depois de três meses de altas  · Se havia dúvida de que a Petrobras (PETR4) amarrava preço do etanol nas  usinas...\n",
      "Petrobras aprova Andrade como conselheiro e CEO · ISTOÉ Gente 13:43. Ana  Maria Braga fala sobre o caso de Klara Castanho ao vivo na Globo: '...\n",
      "copiado! Circula pelo WhatsApp um texto com a promessa de que a Petrobras  vai doar combustível para trabalhadores. Um...\n",
      "... sendo eles os mais relevantes, como Itaú Unibanco (ITUB4), Vale  (VALE3), Bradesco (BBDC4), Petrobras (PETR4) e a própria B3 (B3SA3).\n",
      "A empresa também acertou com a Petrobras e a Secretaria de Desenvolvimento  Econômico, Energia e Relações Internacionais do Rio de Janeiro a  flexibilização dos...\n",
      "A Agência Brasil solicitou ao órgão informações atualizadas sobre o  andamento da operação e aguarda retorno. Leia também: Petrobras · Economia  · Petrobras e...\n",
      "... Se havia dúvida de que a Petrobras (PETR4) amarrava preço do etanol nas  usinas, não há mais · Celulose é o novo minério de ferro?\n",
      "Moro acha 'risível' PT culpar juiz e não o ladrão por prejuízo na Petrobras  ... Ministro Sachsida substitui presidente da Petrobras a pedido de  Bolsonaro.\n",
      "E valeu para a Petrobras lançar suas brocas mar abaixo no século 21. A  exploração do pré-sal seria inviável se dependesse do dinheiro que a  empresa tinha em...\n",
      "Mesmo com reajuste, Petrobras despenca 8,7% na Bolsa de Valores.  Investidores temem maior interferência do governo e do Congresso na estatal  depois de aumento...\n",
      "Banco do Brasil · Petrobras · Telebrás. Mais do Valor Econômico. Protestos  por preço do combustível derrubam produção de petróleo no Equador.\n",
      "Abatedouros no Canadá fecharam, e casos de Covid-19 foram confirmados entre  trabalhadores no Brasil. Leia também: Petrobras (PETR4) · Brasil · CPI da  Petrobras,...\n"
     ]
    }
   ],
   "source": [
    "for i in df['desc']:\n",
    "  print(i)\n",
    "  "
   ]
  },
  {
   "cell_type": "code",
   "execution_count": null,
   "metadata": {},
   "outputs": [],
   "source": []
  }
 ],
 "metadata": {
  "colab": {
   "authorship_tag": "ABX9TyP+S9n9dstaBnebhqHN2NWH",
   "collapsed_sections": [],
   "include_colab_link": true,
   "mount_file_id": "1BFAktUJWHtGfUchW7KjRxIy-4clhwt1e",
   "name": "GoogleNews.ipynb",
   "provenance": []
  },
  "kernelspec": {
   "display_name": "Python 3 (ipykernel)",
   "language": "python",
   "name": "python3"
  },
  "language_info": {
   "codemirror_mode": {
    "name": "ipython",
    "version": 3
   },
   "file_extension": ".py",
   "mimetype": "text/x-python",
   "name": "python",
   "nbconvert_exporter": "python",
   "pygments_lexer": "ipython3",
   "version": "3.9.12"
  }
 },
 "nbformat": 4,
 "nbformat_minor": 1
}
