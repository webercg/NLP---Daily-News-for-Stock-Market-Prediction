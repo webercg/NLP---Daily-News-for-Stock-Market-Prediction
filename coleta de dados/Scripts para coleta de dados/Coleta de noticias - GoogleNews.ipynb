{
 "cells": [
  {
   "cell_type": "markdown",
   "metadata": {
    "colab_type": "text",
    "id": "view-in-github"
   },
   "source": [
    "<a href=\"https://colab.research.google.com/github/webercg/NLP---Daily-News-for-Stock-Market-Prediction/blob/main/GoogleNews.ipynb\" target=\"_parent\"><img src=\"https://colab.research.google.com/assets/colab-badge.svg\" alt=\"Open In Colab\"/></a>"
   ]
  },
  {
   "cell_type": "code",
   "execution_count": 1,
   "metadata": {
    "id": "kmt0vbfaCeu1"
   },
   "outputs": [],
   "source": [
    "#RETIRAR O COMENTARIO AQUI CASO AINDA NAO TENHA INSTALADO A LIB\n",
    "#pip install GoogleNews"
   ]
  },
  {
   "cell_type": "markdown",
   "metadata": {
    "id": "9Z_UrFrJ2IVk"
   },
   "source": []
  },
  {
   "cell_type": "code",
   "execution_count": 2,
   "metadata": {
    "id": "VtiBsH6gLNPm"
   },
   "outputs": [],
   "source": [
    "#IMPORTANDO BIBLIOTECAS  \n",
    "from datetime import timedelta, date\n",
    "import pandas as pd\n",
    "from GoogleNews import GoogleNews\n",
    "#import newspaper\n",
    "#from newspaper import Article\n",
    "import nltk\n",
    "from datetime import datetime\n",
    "\n",
    "\n",
    "#CRIANDO FUNÇÃO P LOOP DE DATAS\n",
    "def daterange(start_date, end_date):\n",
    "    for n in range(int ((end_date - start_date).days)):\n",
    "        yield start_date + timedelta(n)"
   ]
  },
  {
   "cell_type": "code",
   "execution_count": 3,
   "metadata": {
    "id": "5xlAFBaQCmSG"
   },
   "outputs": [],
   "source": [
    "#ESCOLHA DE VARIÁVEIS \n",
    "#data em formato YYYY-M-D\n",
    "#OBS: O maximo que consegui de consulta sem tomar bloqueio do google foram 3 meses de uma vez\n",
    "#start_date = date(2021, 4, 30)\n",
    "#end_date = date(2021, 6, 1)\n",
    "\n",
    "#Inserir data no formato BR DD/MM/YYYY\n",
    "start_date = '01/03/2019'\n",
    "end_date = '31/03/2019'\n",
    "\n",
    "#Transformando para o padrão ingles\n",
    "start_date = datetime.strptime(start_date, '%d/%m/%Y').strftime('%m-%d-%Y')\n",
    "end_date = datetime.strptime(end_date, '%d/%m/%Y').strftime('%m-%d-%Y')\n",
    "\n",
    "termo = 'petrobras'"
   ]
  },
  {
   "cell_type": "code",
   "execution_count": 4,
   "metadata": {},
   "outputs": [],
   "source": [
    "#Criando lista de datas\n",
    "date_list = pd.date_range(start=start_date, end=end_date, freq = '1D')\n",
    "date_list_en = [i.strftime(\"%m-%d-%Y\") for i in date_list ] ## Lista de datas no formato americano em String\n",
    "date_list_br = [i.strftime(\"%d/%m/%Y\") for i in date_list ] ## Lista de datas no formato BR em String"
   ]
  },
  {
   "cell_type": "code",
   "execution_count": 5,
   "metadata": {
    "id": "OcCTQ-oWf7l8"
   },
   "outputs": [],
   "source": [
    "#for single_date in daterange(start_date, end_date):\n",
    "  #print(single_date)"
   ]
  },
  {
   "cell_type": "code",
   "execution_count": null,
   "metadata": {
    "colab": {
     "base_uri": "https://localhost:8080/"
    },
    "id": "PcpT0yRfC04G",
    "outputId": "369c3175-d817-4360-f959-15fcfd2a679c"
   },
   "outputs": [
    {
     "name": "stdout",
     "output_type": "stream",
     "text": [
      "03-01-2019\n"
     ]
    },
    {
     "name": "stderr",
     "output_type": "stream",
     "text": [
      "C:\\Users\\lenon.oliveira\\Anaconda3\\lib\\site-packages\\dateparser\\date_parser.py:35: PytzUsageWarning: The localize method is no longer necessary, as this time zone supports the fold attribute (PEP 495). For more details on migrating to a PEP 495-compliant implementation, see https://pytz-deprecation-shim.readthedocs.io/en/latest/migration.html\n",
      "  date_obj = stz.localize(date_obj)\n",
      "C:\\Users\\lenon.oliveira\\AppData\\Local\\Temp\\ipykernel_9456\\1041801480.py:31: FutureWarning: The frame.append method is deprecated and will be removed from pandas in a future version. Use pandas.concat instead.\n",
      "  df = df.append(df1, ignore_index=True)\n"
     ]
    },
    {
     "name": "stdout",
     "output_type": "stream",
     "text": [
      "03-02-2019\n"
     ]
    },
    {
     "name": "stderr",
     "output_type": "stream",
     "text": [
      "C:\\Users\\lenon.oliveira\\Anaconda3\\lib\\site-packages\\dateparser\\date_parser.py:35: PytzUsageWarning: The localize method is no longer necessary, as this time zone supports the fold attribute (PEP 495). For more details on migrating to a PEP 495-compliant implementation, see https://pytz-deprecation-shim.readthedocs.io/en/latest/migration.html\n",
      "  date_obj = stz.localize(date_obj)\n",
      "C:\\Users\\lenon.oliveira\\AppData\\Local\\Temp\\ipykernel_9456\\1041801480.py:31: FutureWarning: The frame.append method is deprecated and will be removed from pandas in a future version. Use pandas.concat instead.\n",
      "  df = df.append(df1, ignore_index=True)\n"
     ]
    },
    {
     "name": "stdout",
     "output_type": "stream",
     "text": [
      "03-03-2019\n"
     ]
    },
    {
     "name": "stderr",
     "output_type": "stream",
     "text": [
      "C:\\Users\\lenon.oliveira\\Anaconda3\\lib\\site-packages\\dateparser\\date_parser.py:35: PytzUsageWarning: The localize method is no longer necessary, as this time zone supports the fold attribute (PEP 495). For more details on migrating to a PEP 495-compliant implementation, see https://pytz-deprecation-shim.readthedocs.io/en/latest/migration.html\n",
      "  date_obj = stz.localize(date_obj)\n",
      "C:\\Users\\lenon.oliveira\\AppData\\Local\\Temp\\ipykernel_9456\\1041801480.py:31: FutureWarning: The frame.append method is deprecated and will be removed from pandas in a future version. Use pandas.concat instead.\n",
      "  df = df.append(df1, ignore_index=True)\n"
     ]
    },
    {
     "name": "stdout",
     "output_type": "stream",
     "text": [
      "03-04-2019\n"
     ]
    },
    {
     "name": "stderr",
     "output_type": "stream",
     "text": [
      "C:\\Users\\lenon.oliveira\\Anaconda3\\lib\\site-packages\\dateparser\\date_parser.py:35: PytzUsageWarning: The localize method is no longer necessary, as this time zone supports the fold attribute (PEP 495). For more details on migrating to a PEP 495-compliant implementation, see https://pytz-deprecation-shim.readthedocs.io/en/latest/migration.html\n",
      "  date_obj = stz.localize(date_obj)\n",
      "C:\\Users\\lenon.oliveira\\AppData\\Local\\Temp\\ipykernel_9456\\1041801480.py:31: FutureWarning: The frame.append method is deprecated and will be removed from pandas in a future version. Use pandas.concat instead.\n",
      "  df = df.append(df1, ignore_index=True)\n"
     ]
    },
    {
     "name": "stdout",
     "output_type": "stream",
     "text": [
      "03-05-2019\n"
     ]
    },
    {
     "name": "stderr",
     "output_type": "stream",
     "text": [
      "C:\\Users\\lenon.oliveira\\Anaconda3\\lib\\site-packages\\dateparser\\date_parser.py:35: PytzUsageWarning: The localize method is no longer necessary, as this time zone supports the fold attribute (PEP 495). For more details on migrating to a PEP 495-compliant implementation, see https://pytz-deprecation-shim.readthedocs.io/en/latest/migration.html\n",
      "  date_obj = stz.localize(date_obj)\n",
      "C:\\Users\\lenon.oliveira\\AppData\\Local\\Temp\\ipykernel_9456\\1041801480.py:31: FutureWarning: The frame.append method is deprecated and will be removed from pandas in a future version. Use pandas.concat instead.\n",
      "  df = df.append(df1, ignore_index=True)\n"
     ]
    },
    {
     "name": "stdout",
     "output_type": "stream",
     "text": [
      "03-06-2019\n"
     ]
    },
    {
     "name": "stderr",
     "output_type": "stream",
     "text": [
      "C:\\Users\\lenon.oliveira\\Anaconda3\\lib\\site-packages\\dateparser\\date_parser.py:35: PytzUsageWarning: The localize method is no longer necessary, as this time zone supports the fold attribute (PEP 495). For more details on migrating to a PEP 495-compliant implementation, see https://pytz-deprecation-shim.readthedocs.io/en/latest/migration.html\n",
      "  date_obj = stz.localize(date_obj)\n",
      "C:\\Users\\lenon.oliveira\\AppData\\Local\\Temp\\ipykernel_9456\\1041801480.py:31: FutureWarning: The frame.append method is deprecated and will be removed from pandas in a future version. Use pandas.concat instead.\n",
      "  df = df.append(df1, ignore_index=True)\n"
     ]
    },
    {
     "name": "stdout",
     "output_type": "stream",
     "text": [
      "03-07-2019\n"
     ]
    },
    {
     "name": "stderr",
     "output_type": "stream",
     "text": [
      "C:\\Users\\lenon.oliveira\\Anaconda3\\lib\\site-packages\\dateparser\\date_parser.py:35: PytzUsageWarning: The localize method is no longer necessary, as this time zone supports the fold attribute (PEP 495). For more details on migrating to a PEP 495-compliant implementation, see https://pytz-deprecation-shim.readthedocs.io/en/latest/migration.html\n",
      "  date_obj = stz.localize(date_obj)\n",
      "C:\\Users\\lenon.oliveira\\AppData\\Local\\Temp\\ipykernel_9456\\1041801480.py:31: FutureWarning: The frame.append method is deprecated and will be removed from pandas in a future version. Use pandas.concat instead.\n",
      "  df = df.append(df1, ignore_index=True)\n"
     ]
    },
    {
     "name": "stdout",
     "output_type": "stream",
     "text": [
      "03-08-2019\n"
     ]
    },
    {
     "name": "stderr",
     "output_type": "stream",
     "text": [
      "C:\\Users\\lenon.oliveira\\Anaconda3\\lib\\site-packages\\dateparser\\date_parser.py:35: PytzUsageWarning: The localize method is no longer necessary, as this time zone supports the fold attribute (PEP 495). For more details on migrating to a PEP 495-compliant implementation, see https://pytz-deprecation-shim.readthedocs.io/en/latest/migration.html\n",
      "  date_obj = stz.localize(date_obj)\n"
     ]
    }
   ],
   "source": [
    "#CRIANDO O OBJETO googlenews (exigência da library)\n",
    "#podemos usar o google news p buscar noticias em outras linguas tbm\n",
    "#googlenews.clear()\n",
    "googlenews = GoogleNews(lang='pt', region='BR')\n",
    "#googlenews.set_time_range(start_date,end_date)\n",
    "\n",
    "#LOOP P AGREGAR A 1º PAGINA DE RESULTADO DA ABA DE NOTICIAS DO GOOGLE DE CADA DIA DA CONSULTA\n",
    "#essa busca poderia ser ampliada pegando as paginas 2,3,4,..n de cada dia, podemos fazer isso em uma nova etapa do projeto\n",
    "df = pd.DataFrame()\n",
    "for i, data in enumerate(date_list_en):\n",
    "    print(data)\n",
    "    \n",
    "    googlenews = GoogleNews(lang='pt', region='BR')\n",
    "    googlenews.set_time_range(data,data)\n",
    "    googlenews.clear()\n",
    "    googlenews.search(termo)\n",
    "    result = googlenews.result()\n",
    "    \n",
    "    \n",
    "    \n",
    "    #googlenews.set_encode('utf-8')\n",
    "    #googlenews.search(termo)\n",
    "    #googlenews.set_time_range(data,data)\n",
    "    #result = googlenews.result()\n",
    "    \n",
    "    #Atualizando as datas\n",
    "    for k in result:\n",
    "        k['date'] = date_list_br[i]\n",
    "    \n",
    "    df1 = pd.DataFrame(result)\n",
    "    df = df.append(df1, ignore_index=True)\n",
    "    googlenews.clear()"
   ]
  },
  {
   "cell_type": "code",
   "execution_count": null,
   "metadata": {
    "colab": {
     "base_uri": "https://localhost:8080/"
    },
    "id": "dlNuTOn5Fmq9",
    "outputId": "0c9bbd46-efa8-4977-b895-a1b2f078d0d3"
   },
   "outputs": [],
   "source": [
    "result"
   ]
  },
  {
   "cell_type": "code",
   "execution_count": null,
   "metadata": {},
   "outputs": [],
   "source": [
    "df"
   ]
  },
  {
   "cell_type": "code",
   "execution_count": null,
   "metadata": {
    "id": "rDrHkZZSQ1bq"
   },
   "outputs": [],
   "source": [
    "df.drop(['link', 'img','datetime'], axis = 1, inplace = True) \n",
    "df['desc'].replace('\\n',' ', regex=True, inplace=True)"
   ]
  },
  {
   "cell_type": "code",
   "execution_count": null,
   "metadata": {
    "colab": {
     "base_uri": "https://localhost:8080/",
     "height": 423
    },
    "id": "o9esNxZ6Rl-U",
    "outputId": "162f930d-7404-4041-ce90-2b668e832651"
   },
   "outputs": [],
   "source": [
    "df"
   ]
  },
  {
   "cell_type": "code",
   "execution_count": null,
   "metadata": {
    "colab": {
     "base_uri": "https://localhost:8080/"
    },
    "id": "I4FvVIkTNqo4",
    "outputId": "482cfbfa-9ec1-475c-d844-690a78687251"
   },
   "outputs": [],
   "source": [
    "df.to_csv('Mar-2019.csv',sep = '|',header=True,encoding='utf-8-sig', index=False)\n",
    "df['date'].unique()"
   ]
  },
  {
   "cell_type": "code",
   "execution_count": null,
   "metadata": {
    "colab": {
     "base_uri": "https://localhost:8080/"
    },
    "id": "uPZz0dRGVU4A",
    "outputId": "6fdaf8b1-4117-460c-f6d8-85094df5e1fd"
   },
   "outputs": [],
   "source": [
    "for i in df['desc']:\n",
    "  print(i)\n",
    "  "
   ]
  },
  {
   "cell_type": "code",
   "execution_count": null,
   "metadata": {},
   "outputs": [],
   "source": []
  }
 ],
 "metadata": {
  "colab": {
   "authorship_tag": "ABX9TyP+S9n9dstaBnebhqHN2NWH",
   "collapsed_sections": [],
   "include_colab_link": true,
   "mount_file_id": "1BFAktUJWHtGfUchW7KjRxIy-4clhwt1e",
   "name": "GoogleNews.ipynb",
   "provenance": []
  },
  "kernelspec": {
   "display_name": "Python 3 (ipykernel)",
   "language": "python",
   "name": "python3"
  },
  "language_info": {
   "codemirror_mode": {
    "name": "ipython",
    "version": 3
   },
   "file_extension": ".py",
   "mimetype": "text/x-python",
   "name": "python",
   "nbconvert_exporter": "python",
   "pygments_lexer": "ipython3",
   "version": "3.9.12"
  }
 },
 "nbformat": 4,
 "nbformat_minor": 1
}
